{
 "cells": [
  {
   "cell_type": "code",
   "execution_count": 1,
   "metadata": {},
   "outputs": [
    {
     "name": "stdout",
     "output_type": "stream",
     "text": [
      "Kossakowski matrix:\n",
      "ComplexF64[0.0 + 0.0im 0.0 + 0.0im 0.0 + 0.0im 0.0 + 0.0im; 0.0 + 0.0im 0.25 + 0.0im 0.0 - 0.25im 0.0 + 0.0im; 0.0 + 0.0im 0.0 + 0.25im 0.25 + 0.0im 0.0 + 0.0im; 0.0 + 0.0im 0.0 + 0.0im 0.0 + 0.0im 0.0 + 0.0im]\n"
     ]
    }
   ],
   "source": [
    "using LinearAlgebra\n",
    "\n",
    "# Define the function to convert Lindblad operator to Kossakowski matrix\n",
    "function lindblad_to_kossakowski(lindblad_op::AbstractMatrix{Complex{T}}) where T\n",
    "    # Define the basis operators scaled by 1/2\n",
    "    σx_half = 1/2 * [0 1; 1 0]\n",
    "    σy_half = 1/2 * [0 -im; im 0]\n",
    "    σz_half = 1/2 * [1 0; 0 -1]\n",
    "    identity_half = 1/2 * I(2)\n",
    "    \n",
    "    # List of basis operators\n",
    "    basis_operators = [identity_half, σx_half, σy_half, σz_half]\n",
    "    \n",
    "    # Compute the coefficients c_k\n",
    "    coefficients = [tr(conj(transpose(b)) * lindblad_op) for b in basis_operators]\n",
    "    \n",
    "    # Compute the Kossakowski matrix\n",
    "    kossakowski_matrix = coefficients * coefficients'\n",
    "    \n",
    "    return kossakowski_matrix\n",
    "end\n",
    "\n",
    "# Example usage:\n",
    "# Define the Lindblad operator with complex elements\n",
    "γ = 1.0\n",
    "lindblad_op = Complex{Float64}[0 sqrt(γ); 0 0]\n",
    "\n",
    "# Get the Kossakowski matrix\n",
    "kossakowski_matrix = lindblad_to_kossakowski(lindblad_op)\n",
    "\n",
    "println(\"Kossakowski matrix:\")\n",
    "println(kossakowski_matrix)\n"
   ]
  },
  {
   "cell_type": "code",
   "execution_count": 4,
   "metadata": {},
   "outputs": [
    {
     "data": {
      "text/plain": [
       "2×2 Matrix{Term{true, Complex{Int64}}}:\n",
       " (0+0im)  a\n",
       " (0+0im)  (0+0im)"
      ]
     },
     "metadata": {},
     "output_type": "display_data"
    }
   ],
   "source": [
    "using DynamicPolynomials\n",
    "\n",
    "@polyvar a\n",
    "\n",
    "L = [ 0      a  \n",
    "      0im    0 ]  "
   ]
  },
  {
   "cell_type": "code",
   "execution_count": 5,
   "metadata": {},
   "outputs": [
    {
     "ename": "MethodError",
     "evalue": "MethodError: no method matching lindblad_to_kossakowski(::Matrix{Term{true, Complex{Int64}}})\n\nClosest candidates are:\n  lindblad_to_kossakowski(!Matched::AbstractArray{Complex{T}, 2}) where T\n   @ Main ~/github/OQSID-thesis/BlackBox/convert_L_to_C.ipynb:4\n",
     "output_type": "error",
     "traceback": [
      "MethodError: no method matching lindblad_to_kossakowski(::Matrix{Term{true, Complex{Int64}}})\n",
      "\n",
      "Closest candidates are:\n",
      "  lindblad_to_kossakowski(!Matched::AbstractArray{Complex{T}, 2}) where T\n",
      "   @ Main ~/github/OQSID-thesis/BlackBox/convert_L_to_C.ipynb:4\n",
      "\n",
      "\n",
      "Stacktrace:\n",
      " [1] top-level scope\n",
      "   @ ~/github/OQSID-thesis/BlackBox/convert_L_to_C.ipynb:1"
     ]
    }
   ],
   "source": [
    "lindblad_to_kossakowski(L)"
   ]
  }
 ],
 "metadata": {
  "kernelspec": {
   "display_name": "Julia 1.10.2",
   "language": "julia",
   "name": "julia-1.10"
  },
  "language_info": {
   "file_extension": ".jl",
   "mimetype": "application/julia",
   "name": "julia",
   "version": "1.10.2"
  }
 },
 "nbformat": 4,
 "nbformat_minor": 2
}
