{
 "cells": [
  {
   "cell_type": "code",
   "execution_count": 1,
   "metadata": {},
   "outputs": [],
   "source": [
    "include(\"../LiPoSID.jl\")\n",
    "\n",
    "include(\"CtrlSID.jl\")\n",
    "\n",
    "using QuantumOptics\n",
    "basis = NLevelBasis(2)\n",
    "using LinearAlgebra\n",
    "\n",
    "using HDF5\n",
    "using DynamicPolynomials\n",
    "\n",
    "using Dates\n",
    "\n",
    "using Statistics"
   ]
  },
  {
   "cell_type": "code",
   "execution_count": 2,
   "metadata": {},
   "outputs": [
    {
     "data": {
      "text/plain": [
       "2×2 Matrix{Polynomial{true, ComplexF64}}:\n",
       " (0.5+0.0im)ϵ                       (0.5+0.0im)h_Re + (0.0+0.5im)h_Im\n",
       " (0.5+0.0im)h_Re + (0.0-0.5im)h_Im  (-0.5+0.0im)ϵ"
      ]
     },
     "metadata": {},
     "output_type": "display_data"
    }
   ],
   "source": [
    "σˣ = [ 0 1 \n",
    "       1 0 ]\n",
    "\n",
    "σʸ = [ 0.   im*1\n",
    "      -im*1 0    ]\n",
    "\n",
    "σᶻ = [ 1.  0\n",
    "       0  -1 ] \n",
    "\n",
    "fᴷ₁ = σˣ/2\n",
    "fᴷ₂ = σʸ/2\n",
    "fᴷ₃ = σᶻ/2\n",
    "\n",
    "@assert tr(σˣ/2*σʸ/2) == tr(σˣ/2*σᶻ/2) ==  tr(σʸ/2*σᶻ/2) ≈ 0\n",
    "@assert tr(σˣ/2*σˣ/2) == tr(σʸ/2*σʸ/2) == tr(σᶻ/2*σᶻ/2) ≈ 1/2\n",
    "\n",
    "fᴷᴼᴺᴮ = [fᴷ₁, fᴷ₂, fᴷ₃]\n",
    "\n",
    "@polyvar γ[1:3]\n",
    "@polyvar a[1:3]\n",
    "\n",
    "Cˢʸᵐᵇ = [ -γ[1]+γ[2]+γ[3]   -im*a[3]          im*a[2]+0.0\n",
    "           im*a[3]           γ[1]-γ[2]+γ[3]  -im*a[1] \n",
    "          -im*a[2]           im*a[1]          γ[1]+γ[2]-γ[3]] \n",
    "\n",
    "κ₁ = -γ[1]+γ[2]+γ[3]\n",
    "κ₂ =  γ[1]-γ[2]+γ[3]\n",
    "κ₃ =  γ[1]+γ[2]-γ[3]\n",
    "\n",
    "constr1 = κ₁ + κ₂ + κ₃  \n",
    "constr2 = κ₁*κ₂ + κ₃*κ₁ + κ₂*κ₃ - a[1]^2 - a[2]^2 - a[3]^2\n",
    "constr3 = κ₁*κ₂*κ₃ - κ₁*a[1]^2 - κ₂*a[2]^2 - κ₃*a[3]^2 \n",
    "\n",
    "\n",
    "#constraints = [κ₁, κ₂, κ₃, γ[1], γ[2], γ[3], constr1, constr2, constr3]\n",
    "\n",
    "constraints = [κ₁, κ₂, κ₃, γ[1], γ[2], γ[3], constr2, constr3]\n",
    "\n",
    "@polyvar ϵ h_Re h_Im # h₁ h₂ h₃\n",
    "\n",
    "H0ˢʸᵐᵇ = [ ϵ               h_Re+im*h_Im\n",
    "           h_Re-im*h_Im   -ϵ            ] / 2\n",
    "\n",
    "H0ᴷˢʸᵐᵇ = h_Re * fᴷ₁ + h_Im * fᴷ₂  + ϵ * fᴷ₃ \n",
    "\n",
    "@assert tr(H0ᴷˢʸᵐᵇ) == 0\n",
    "@assert H0ᴷˢʸᵐᵇ == H0ˢʸᵐᵇ\n",
    "\n",
    "Hˢʸᵐᵇ = H0ˢʸᵐᵇ"
   ]
  },
  {
   "cell_type": "code",
   "execution_count": 18,
   "metadata": {},
   "outputs": [
    {
     "data": {
      "text/plain": [
       "3×3 Matrix{Polynomial{true, ComplexF64}}:\n",
       " -γ₁ + γ₂ + γ₃  (0.0-1.0im)a₃  (0.0+1.0im)a₂\n",
       " (0.0+1.0im)a₃  γ₁ + -γ₂ + γ₃  (0.0-1.0im)a₁\n",
       " (0.0-1.0im)a₂  (0.0+1.0im)a₁  γ₁ + γ₂ + -γ₃"
      ]
     },
     "metadata": {},
     "output_type": "display_data"
    }
   ],
   "source": [
    "Cˢʸᵐᵇ"
   ]
  },
  {
   "cell_type": "code",
   "execution_count": 3,
   "metadata": {},
   "outputs": [
    {
     "data": {
      "text/plain": [
       "8-element Vector{Polynomial{true, Int64}}:\n",
       " -γ₁ + γ₂ + γ₃\n",
       " γ₁ - γ₂ + γ₃\n",
       " γ₁ + γ₂ - γ₃\n",
       " γ₁\n",
       " γ₂\n",
       " γ₃\n",
       " -γ₁² + 2γ₁γ₂ + 2γ₁γ₃ - γ₂² + 2γ₂γ₃ - γ₃² - a₁² - a₂² - a₃²\n",
       " -γ₁³ + γ₁²γ₂ + γ₁²γ₃ + γ₁γ₂² - 2γ₁γ₂γ₃ + γ₁γ₃² + γ₁a₁² - γ₁a₂² - γ₁a₃² - γ₂³ + γ₂²γ₃ + γ₂γ₃² - γ₂a₁² + γ₂a₂² - γ₂a₃² - γ₃³ - γ₃a₁² - γ₃a₂² + γ₃a₃²"
      ]
     },
     "metadata": {},
     "output_type": "display_data"
    }
   ],
   "source": [
    "constraints"
   ]
  },
  {
   "cell_type": "code",
   "execution_count": null,
   "metadata": {},
   "outputs": [],
   "source": [
    "function det_2x2(matrix)\n",
    "    # Ensure the matrix is 2x2\n",
    "    if size(matrix) != (2, 2)\n",
    "        throw(ArgumentError(\"Matrix must be 2x2\"))\n",
    "    end\n",
    "\n",
    "    # Calculate the determinant\n",
    "    return matrix[1, 1] * matrix[2, 2] - matrix[1, 2] * matrix[2, 1]\n",
    "end\n",
    "\n",
    "function infidelity_constr(ρ, σ, d)\n",
    "    f = 1-d\n",
    "    return 4*(det_2x2(ρ)*det_2x2(σ)) - f^2 + 2*f*tr(ρ * σ) - tr(ρ * σ)^2\n",
    "end\n",
    "\n",
    "function infidelity_norm(ρ, σ)\n",
    "    (1-4*(det_2x2(ρ)*det_2x2(σ))-2*tr(ρ * σ) + tr(ρ * σ)^2)*(1 -(1-tr(ρ * σ))+(1-tr(ρ * σ))^2)#-(1-tr(ρ * σ))^3)\n",
    "end\n",
    "\n",
    "\n",
    "function kossak_obj(ρ, t, H0ˢʸᵐᵇ, Cˢʸᵐᵇ, Fᴼᴺᴮ)\n",
    "\n",
    "    function Dc(ρ, t)\n",
    "        U = (H0ˢʸᵐᵇ*ρ - ρ*H0ˢʸᵐᵇ)/im \n",
    "        D = sum(Cˢʸᵐᵇ .* [2*fᵢ*ρ*fⱼ' - ρ*fⱼ'*fᵢ - fⱼ'*fᵢ*ρ  for fᵢ in Fᴼᴺᴮ, fⱼ in Fᴼᴺᴮ])/2\n",
    "        return U + D\n",
    "    end \n",
    "\n",
    "    obj = 0\n",
    "    for i in 3:length(ρ)\n",
    "        obj += LiPoSID.frobenius_norm2(\n",
    "            ρ[i] - ρ[i-2] - (t[i]-t[i-1])*(Dc(ρ[i], t[i])+\n",
    "            4*Dc(ρ[i-1], t[i-1])+Dc(ρ[i-2], t[i-2]))/3\n",
    "        )\n",
    "    end\n",
    "\n",
    "    if isempty(monomials(obj))\n",
    "        obj = 0. \n",
    "    else\n",
    "        obj = sum(real(coef) * mon for (coef, mon) in zip(coefficients(obj), monomials(obj)))\n",
    "    end\n",
    "\n",
    "    return obj\n",
    "\n",
    "end\n",
    "\n",
    "function kossak_obj_infidelity_constr(ρ, t, H0ˢʸᵐᵇ, Cˢʸᵐᵇ, Fᴼᴺᴮ)\n",
    "\n",
    "    function Dc(ρ, t)\n",
    "        U = (H0ˢʸᵐᵇ*ρ - ρ*H0ˢʸᵐᵇ)/im \n",
    "        D = sum(Cˢʸᵐᵇ .* [2*fᵢ*ρ*fⱼ' - ρ*fⱼ'*fᵢ - fⱼ'*fᵢ*ρ  for fᵢ in Fᴼᴺᴮ, fⱼ in Fᴼᴺᴮ])/2\n",
    "        return U + D\n",
    "    end \n",
    "\n",
    "    constr = 0\n",
    "    obj = 0\n",
    "    δ = 1e-6\n",
    "    for i in 3:length(ρ)\n",
    "        ρ1 = ρ[i]\n",
    "        ρ2 = ρ[i-2] + (t[i]-t[i-1])*(Dc(ρ[i],t[i]) - 4*Dc(ρ[i-1],t[i-1]) - Dc(ρ[i-2],t[i-2])) / 3\n",
    "        obj += LiPoSID.frobenius_norm2(ρ1-ρ2)\n",
    "        constr += (infidelity_constr(ρ1, ρ2, δ))^2\n",
    "    end\n",
    "\n",
    "    if isempty(monomials(obj))\n",
    "        obj = 0. \n",
    "    else\n",
    "        obj = sum(real(coef) * mon for (coef, mon) in zip(coefficients(obj), monomials(obj)))\n",
    "    end\n",
    "\n",
    "    if isempty(monomials(constr))\n",
    "        constr = 0. \n",
    "    else\n",
    "        constr = sum(real(coef) * mon for (coef, mon) in zip(coefficients(constr), monomials(constr)))\n",
    "    end\n",
    "\n",
    "    return obj, constr\n",
    "\n",
    "end\n",
    "\n",
    "\n",
    "function kossak_obj_pseudo_fidelity(ρ, t, H0ˢʸᵐᵇ, Cˢʸᵐᵇ, Fᴼᴺᴮ)\n",
    "\n",
    "    function Dc(ρ, t)\n",
    "        U = (H0ˢʸᵐᵇ*ρ - ρ*H0ˢʸᵐᵇ)/im \n",
    "        D = sum(Cˢʸᵐᵇ .* [2*fᵢ*ρ*fⱼ' - ρ*fⱼ'*fᵢ - fⱼ'*fᵢ*ρ  for fᵢ in Fᴼᴺᴮ, fⱼ in Fᴼᴺᴮ])/2\n",
    "        return U + D\n",
    "    end \n",
    "\n",
    "    obj = 0\n",
    "    for i in 3:length(ρ)\n",
    "        obj += pseudo_fidelity_norm(\n",
    "            ρ[i],\n",
    "            ρ[i-2] - (t[i]-t[i-1])*(Dc(ρ[i], t[i])+\n",
    "            4*Dc(ρ[i-1], t[i-1])+Dc(ρ[i-2], t[i-2]))/3\n",
    "        )\n",
    "    end\n",
    "\n",
    "    if isempty(monomials(obj))\n",
    "        obj = 0. \n",
    "    else\n",
    "        obj = sum(real(coef) * mon for (coef, mon) in zip(coefficients(obj), monomials(obj)))\n",
    "    end\n",
    "\n",
    "    return obj\n",
    "\n",
    "end\n",
    "\n",
    "function kossak_obj_infidelity(ρ, t, H0ˢʸᵐᵇ, Cˢʸᵐᵇ, Fᴼᴺᴮ)\n",
    "\n",
    "    function Dc(ρ, t)\n",
    "        U = (H0ˢʸᵐᵇ*ρ - ρ*H0ˢʸᵐᵇ)/im \n",
    "        D = sum(Cˢʸᵐᵇ .* [2*fᵢ*ρ*fⱼ' - ρ*fⱼ'*fᵢ - fⱼ'*fᵢ*ρ  for fᵢ in Fᴼᴺᴮ, fⱼ in Fᴼᴺᴮ])/2\n",
    "        return U + D\n",
    "    end \n",
    "\n",
    "    obj = 0\n",
    "    for i in 3:length(ρ)\n",
    "        obj += infidelity_norm(\n",
    "            ρ[i],\n",
    "            ρ[i-2] + (t[i]-t[i-1])*(Dc(ρ[i], t[i])+\n",
    "            4*Dc(ρ[i-1], t[i-1])+Dc(ρ[i-2], t[i-2]))/3\n",
    "        )^2\n",
    "    end\n",
    "\n",
    "    if isempty(monomials(obj))\n",
    "        obj = 0. \n",
    "    else\n",
    "        obj = sum(real(coef) * mon for (coef, mon) in zip(coefficients(obj), monomials(obj)))\n",
    "    end\n",
    "\n",
    "    return obj\n",
    "\n",
    "end"
   ]
  },
  {
   "cell_type": "code",
   "execution_count": 44,
   "metadata": {},
   "outputs": [
    {
     "data": {
      "text/plain": [
       "kossak_GEXY_obj_pseudo_fidelity (generic function with 1 method)"
      ]
     },
     "metadata": {},
     "output_type": "display_data"
    }
   ],
   "source": [
    "function read_timeevolution(file_name, state, γ)\n",
    "    h5open(file_name, \"r\") do file\n",
    "        ρᵧ = read(file[state][string(γ)])\n",
    "        t = ρᵧ[\"t\"]\n",
    "        ρ₀₀ = ρᵧ[\"p0\"]; Re_ρ₀₁ = ρᵧ[\"s_re\"];  Im_ρ₀₁ = ρᵧ[\"s_im\"]\n",
    "        ρ_series = []\n",
    "        t_series = []\n",
    "\n",
    "        for i in 1:length(t)\n",
    "            ρᵢ= [ ρ₀₀[i]                      Re_ρ₀₁[i] + im * Im_ρ₀₁[i]\n",
    "                  Re_ρ₀₁[i] - im * Im_ρ₀₁[i]  1 - ρ₀₀[i]                 ]\n",
    "            push!(ρ_series, convert(Matrix{ComplexF64}, ρᵢ))\n",
    "            push!(t_series, convert(Float64, t[i]))\n",
    "        end\n",
    "        return(t_series, ρ_series)\n",
    "    end\n",
    "end\n",
    "\n",
    "function read_GEXY_timeevolution(file_name, γ)\n",
    "\n",
    "    tᵍ, ρᵍ = read_timeevolution(file_name, \"B1\", γ)\n",
    "    tᵉ, ρᵉ = read_timeevolution(file_name, \"B2\", γ)\n",
    "    tˣ, ρˣ = read_timeevolution(file_name, \"B3\", γ)\n",
    "    tʸ, ρʸ = read_timeevolution(file_name, \"B4\", γ)\n",
    "\n",
    "    ρᵍᵉˣʸ = ρᵍ, ρᵉ, ρˣ, ρʸ \n",
    "    tᵍᵉˣʸ = tᵍ, tᵉ, tˣ, tʸ\n",
    "\n",
    "    return tᵍᵉˣʸ , ρᵍᵉˣʸ \n",
    "\n",
    "end\n",
    "\n",
    "function kossak_GEXY_obj(ρᵍᵉˣʸ, tᵍᵉˣʸ, H0ˢʸᵐᵇ, Cˢʸᵐᵇ, fᴼᴺᴮ)\n",
    "\n",
    "    ρᵍ, ρᵉ, ρˣ, ρʸ = ρᵍᵉˣʸ\n",
    "    tᵍ, tᵉ, tˣ, tʸ = tᵍᵉˣʸ\n",
    "\n",
    "    polyG = kossak_obj(ρᵍ, tᵍ, H0ˢʸᵐᵇ, Cˢʸᵐᵇ, fᴼᴺᴮ)\n",
    "    polyE = kossak_obj(ρᵉ, tᵉ, H0ˢʸᵐᵇ, Cˢʸᵐᵇ, fᴼᴺᴮ)\n",
    "    polyX = kossak_obj(ρˣ, tˣ, H0ˢʸᵐᵇ, Cˢʸᵐᵇ, fᴼᴺᴮ)\n",
    "    polyY = kossak_obj(ρʸ, tʸ, H0ˢʸᵐᵇ, Cˢʸᵐᵇ, fᴼᴺᴮ)\n",
    "\n",
    "    polyGEXY = polyG + polyE + polyX + polyY\n",
    "\n",
    "    return polyGEXY\n",
    "end\n",
    "\n",
    "function kossak_GEXY_obj_infid(ρᵍᵉˣʸ, tᵍᵉˣʸ, H0ˢʸᵐᵇ, Cˢʸᵐᵇ, fᴼᴺᴮ)\n",
    "\n",
    "    ρᵍ, ρᵉ, ρˣ, ρʸ = ρᵍᵉˣʸ\n",
    "    tᵍ, tᵉ, tˣ, tʸ = tᵍᵉˣʸ\n",
    "\n",
    "    polyG = kossak_obj_infidelity(ρᵍ, tᵍ, H0ˢʸᵐᵇ, Cˢʸᵐᵇ, fᴼᴺᴮ); print(\"G\")\n",
    "    polyE   = kossak_obj_infidelity(ρᵉ, tᵉ, H0ˢʸᵐᵇ, Cˢʸᵐᵇ, fᴼᴺᴮ); print(\"E\")\n",
    "    polyX  = kossak_obj_infidelity(ρˣ, tˣ, H0ˢʸᵐᵇ, Cˢʸᵐᵇ, fᴼᴺᴮ); print(\"X\")\n",
    "    polyY  = kossak_obj_infidelity(ρʸ, tʸ, H0ˢʸᵐᵇ, Cˢʸᵐᵇ, fᴼᴺᴮ); println(\"Y\")\n",
    "\n",
    "    polyGEXY = polyG + polyE + polyX + polyY\n",
    "\n",
    "    return polyGEXY \n",
    "end\n",
    "\n",
    "\n",
    "function kossak_GEXY_obj_infid_constr(ρᵍᵉˣʸ, tᵍᵉˣʸ, H0ˢʸᵐᵇ, Cˢʸᵐᵇ, fᴼᴺᴮ)\n",
    "\n",
    "    ρᵍ, ρᵉ, ρˣ, ρʸ = ρᵍᵉˣʸ\n",
    "    tᵍ, tᵉ, tˣ, tʸ = tᵍᵉˣʸ\n",
    "\n",
    "    polyG, constrG = kossak_obj_infidelity_constr(ρᵍ, tᵍ, H0ˢʸᵐᵇ, Cˢʸᵐᵇ, fᴼᴺᴮ)\n",
    "    polyE, constrE  = kossak_obj_infidelity_constr(ρᵉ, tᵉ, H0ˢʸᵐᵇ, Cˢʸᵐᵇ, fᴼᴺᴮ)\n",
    "    polyX, constrX  = kossak_obj_infidelity_constr(ρˣ, tˣ, H0ˢʸᵐᵇ, Cˢʸᵐᵇ, fᴼᴺᴮ)\n",
    "    polyY, constrY  = kossak_obj_infidelity_constr(ρʸ, tʸ, H0ˢʸᵐᵇ, Cˢʸᵐᵇ, fᴼᴺᴮ)\n",
    "\n",
    "    polyGEXY = polyG + polyE + polyX + polyY\n",
    "    constrGEXY = constrG + constrE + constrX + constrY\n",
    "\n",
    "    return polyGEXY, constrGEXY \n",
    "end\n",
    "\n",
    "\n",
    "function kossak_GEXY_obj_pseudo_fidelity(ρᵍᵉˣʸ, tᵍᵉˣʸ, H0ˢʸᵐᵇ, Cˢʸᵐᵇ, fᴼᴺᴮ)\n",
    "\n",
    "    ρᵍ, ρᵉ, ρˣ, ρʸ = ρᵍᵉˣʸ\n",
    "    tᵍ, tᵉ, tˣ, tʸ = tᵍᵉˣʸ\n",
    "\n",
    "    polyG = kossak_obj_pseudo_fidelity(ρᵍ, tᵍ, H0ˢʸᵐᵇ, Cˢʸᵐᵇ, fᴼᴺᴮ)\n",
    "    polyE = kossak_obj_pseudo_fidelity(ρᵉ, tᵉ, H0ˢʸᵐᵇ, Cˢʸᵐᵇ, fᴼᴺᴮ)\n",
    "    polyX = kossak_obj_pseudo_fidelity(ρˣ, tˣ, H0ˢʸᵐᵇ, Cˢʸᵐᵇ, fᴼᴺᴮ)\n",
    "    polyY = kossak_obj_pseudo_fidelity(ρʸ, tʸ, H0ˢʸᵐᵇ, Cˢʸᵐᵇ, fᴼᴺᴮ)\n",
    "\n",
    "    polyGEXY = polyG + polyE + polyX + polyY\n",
    "\n",
    "    return polyGEXY\n",
    "end"
   ]
  },
  {
   "cell_type": "code",
   "execution_count": 6,
   "metadata": {},
   "outputs": [
    {
     "data": {
      "text/plain": [
       "((Any[0.053333333334, 0.06, 0.066666666667, 0.073333333334, 0.08, 0.086666666667, 0.093333333334, 0.1, 0.106666666667, 0.113333333334  …  23.806666666786, 23.813333333452, 23.820000000119, 23.826666666786, 23.833333333452, 23.840000000119, 23.846666666786, 23.853333333453, 23.860000000119, 23.866666666786], Any[0.053333333334, 0.06, 0.066666666667, 0.073333333334, 0.08, 0.086666666667, 0.093333333334, 0.1, 0.106666666667, 0.113333333334  …  23.806666666786, 23.813333333452, 23.820000000119, 23.826666666786, 23.833333333452, 23.840000000119, 23.846666666786, 23.853333333453, 23.860000000119, 23.866666666786], Any[0.053333333334, 0.06, 0.066666666667, 0.073333333334, 0.08, 0.086666666667, 0.093333333334, 0.1, 0.106666666667, 0.113333333334  …  23.806666666786, 23.813333333452, 23.820000000119, 23.826666666786, 23.833333333452, 23.840000000119, 23.846666666786, 23.853333333453, 23.860000000119, 23.866666666786], Any[0.053333333334, 0.06, 0.066666666667, 0.073333333334, 0.08, 0.086666666667, 0.093333333334, 0.1, 0.106666666667, 0.113333333334  …  23.806666666786, 23.813333333452, 23.820000000119, 23.826666666786, 23.833333333452, 23.840000000119, 23.846666666786, 23.853333333453, 23.860000000119, 23.866666666786]), (Any[ComplexF64[0.996350446096 + 0.0im 0.0 + 0.0im; 0.0 - 0.0im 0.0036495539040000136 + 0.0im], ComplexF64[0.996166981202 + 0.0im 0.0 + 0.0im; 0.0 - 0.0im 0.0038330187980000208 + 0.0im], ComplexF64[0.996075422058 + 0.0im 0.0 + 0.0im; 0.0 - 0.0im 0.003924577941999963 + 0.0im], ComplexF64[0.996053639559 + 0.0im 0.0 + 0.0im; 0.0 - 0.0im 0.003946360441000052 + 0.0im], ComplexF64[0.996042769634 + 0.0im 0.0 + 0.0im; 0.0 - 0.0im 0.003957230366000042 + 0.0im], ComplexF64[0.996075164283 + 0.0im -0.0 - 0.0im; 0.0 + 0.0im 0.003924835716999975 + 0.0im], ComplexF64[0.996169026582 + 0.0im -0.0 - 0.0im; 0.0 + 0.0im 0.0038309734179999833 + 0.0im], ComplexF64[0.996272453486 + 0.0im 0.0 - 0.0im; 0.0 + 0.0im 0.0037275465139999797 + 0.0im], ComplexF64[0.996380409521 + 0.0im -0.0 - 0.0im; 0.0 + 0.0im 0.0036195904789999567 + 0.0im], ComplexF64[0.996525693488 + 0.0im -0.0 - 0.0im; 0.0 + 0.0im 0.0034743065119999805 + 0.0im]  …  ComplexF64[0.998541849586 + 0.0im -3.7597e-8 + 4.3923e-8im; -3.7597e-8 - 4.3923e-8im 0.0014581504139999923 + 0.0im], ComplexF64[0.998543561768 + 0.0im -2.8985e-8 + 6.0012e-8im; -2.8985e-8 - 6.0012e-8im 0.0014564382320000346 + 0.0im], ComplexF64[0.998545525947 + 0.0im -1.7755e-8 + 7.1171e-8im; -1.7755e-8 - 7.1171e-8im 0.0014544740530000322 + 0.0im], ComplexF64[0.998547282257 + 0.0im -6.212e-9 + 6.4531e-8im; -6.212e-9 - 6.4531e-8im 0.0014527177430000426 + 0.0im], ComplexF64[0.99854768286 + 0.0im 3.697e-9 + 5.4308e-8im; 3.697e-9 - 5.4308e-8im 0.0014523171400000479 + 0.0im], ComplexF64[0.998546877418 + 0.0im 1.2412e-8 + 5.1356e-8im; 1.2412e-8 - 5.1356e-8im 0.0014531225820000326 + 0.0im], ComplexF64[0.998545950218 + 0.0im 2.1045e-8 + 5.0311e-8im; 2.1045e-8 - 5.0311e-8im 0.001454049782000033 + 0.0im], ComplexF64[0.998544888286 + 0.0im 2.8792e-8 + 4.2476e-8im; 2.8792e-8 - 4.2476e-8im 0.0014551117140000347 + 0.0im], ComplexF64[0.998542877707 + 0.0im 3.5931e-8 + 4.4633e-8im; 3.5931e-8 - 4.4633e-8im 0.0014571222929999905 + 0.0im], ComplexF64[0.998540396441 + 0.0im 4.3817e-8 + 4.8213e-8im; 4.3817e-8 - 4.8213e-8im 0.001459603558999989 + 0.0im]], Any[ComplexF64[0.009030912483 + 0.0im -0.0 - 0.0im; 0.0 + 0.0im 0.990969087517 + 0.0im], ComplexF64[0.010492380383 + 0.0im 0.0 + 0.0im; -0.0 - 0.0im 0.989507619617 + 0.0im], ComplexF64[0.012050087495 + 0.0im 0.0 + 0.0im; -0.0 - 0.0im 0.987949912505 + 0.0im], ComplexF64[0.013684506486 + 0.0im 0.0 + 0.0im; -0.0 - 0.0im 0.986315493514 + 0.0im], ComplexF64[0.015332613009 + 0.0im 0.0 + 0.0im; -0.0 - 0.0im 0.984667386991 + 0.0im], ComplexF64[0.016992199413 + 0.0im 0.0 + 0.0im; -0.0 - 0.0im 0.983007800587 + 0.0im], ComplexF64[0.018704716373 + 0.0im 0.0 + 0.0im; -0.0 - 0.0im 0.981295283627 + 0.0im], ComplexF64[0.020465693347 + 0.0im 0.0 + 0.0im; -0.0 - 0.0im 0.979534306653 + 0.0im], ComplexF64[0.022227741215 + 0.0im 0.0 + 0.0im; -0.0 - 0.0im 0.977772258785 + 0.0im], ComplexF64[0.023978186892 + 0.0im -0.0 - 0.0im; 0.0 + 0.0im 0.976021813108 + 0.0im]  …  ComplexF64[0.995983337651 + 0.0im 2.3555e-7 - 2.6269e-8im; 2.3555e-7 + 2.6269e-8im 0.004016662349 + 0.0im], ComplexF64[0.995997085159 + 0.0im 2.26538e-7 - 8.2677e-8im; 2.26538e-7 + 8.2677e-8im 0.004002914841000016 + 0.0im], ComplexF64[0.996011113775 + 0.0im 2.07983e-7 - 1.36828e-7im; 2.07983e-7 + 1.36828e-7im 0.003988886225000043 + 0.0im], ComplexF64[0.99602625281 + 0.0im 1.81592e-7 - 1.75648e-7im; 1.81592e-7 + 1.75648e-7im 0.003973747189999988 + 0.0im], ComplexF64[0.996042353897 + 0.0im 1.49604e-7 - 2.06132e-7im; 1.49604e-7 + 2.06132e-7im 0.003957646102999979 + 0.0im], ComplexF64[0.996058482892 + 0.0im 1.12131e-7 - 2.43064e-7im; 1.12131e-7 + 2.43064e-7im 0.003941517107999948 + 0.0im], ComplexF64[0.996074156194 + 0.0im 6.7739e-8 - 2.86417e-7im; 6.7739e-8 + 2.86417e-7im 0.003925843806000029 + 0.0im], ComplexF64[0.996089820511 + 0.0im 1.7058e-8 - 3.14189e-7im; 1.7058e-8 + 3.14189e-7im 0.003910179488999965 + 0.0im], ComplexF64[0.996105937886 + 0.0im -3.612e-8 - 3.17366e-7im; -3.612e-8 + 3.17366e-7im 0.0038940621140000076 + 0.0im], ComplexF64[0.996122012714 + 0.0im -8.8522e-8 - 3.06016e-7im; -8.8522e-8 + 3.06016e-7im 0.003877987285999973 + 0.0im]], Any[ComplexF64[0.502690539352 + 0.0im 0.115633452396 - 0.483738421789im; 0.115633452396 + 0.483738421789im 0.49730946064799997 + 0.0im], ComplexF64[0.503329577895 + 0.0im 0.033409225401 - 0.495438933447im; 0.033409225401 + 0.495438933447im 0.496670422105 + 0.0im], ComplexF64[0.504062754735 + 0.0im -0.049612816286 - 0.493242290214im; -0.049612816286 + 0.493242290214im 0.49593724526500005 + 0.0im], ComplexF64[0.504869127788 + 0.0im -0.131105747908 - 0.477234261487im; -0.131105747908 + 0.477234261487im 0.49513087221200003 + 0.0im], ComplexF64[0.505687731534 + 0.0im -0.20879018791 - 0.447892530983im; -0.20879018791 + 0.447892530983im 0.49431226846599996 + 0.0im], ComplexF64[0.506533692614 + 0.0im -0.28049766383 - 0.406059042905im; -0.28049766383 + 0.406059042905im 0.49346630738599995 + 0.0im], ComplexF64[0.507436882264 + 0.0im -0.344229924745 - 0.352921288155im; -0.344229924745 + 0.352921288155im 0.49256311773600003 + 0.0im], ComplexF64[0.508369099197 + 0.0im -0.398215192644 - 0.289989124027im; -0.398215192644 + 0.289989124027im 0.491630900803 + 0.0im], ComplexF64[0.509304127989 + 0.0im -0.440958353943 - 0.219045101676im; -0.440958353943 + 0.219045101676im 0.49069587201099996 + 0.0im], ComplexF64[0.510251998138 + 0.0im -0.471281653733 - 0.142085945485im; -0.471281653733 + 0.142085945485im 0.48974800186199996 + 0.0im]  …  ComplexF64[0.99726272607 + 0.0im -0.001866260063 - 0.025268455639im; -0.001866260063 + 0.025268455639im 0.002737273930000006 + 0.0im], ComplexF64[0.997270614178 + 0.0im -0.006040385945 - 0.024440566146im; -0.006040385945 + 0.024440566146im 0.0027293858219999967 + 0.0im], ComplexF64[0.997278755824 + 0.0im -0.010017958624 - 0.022925782524im; -0.010017958624 + 0.022925782524im 0.0027212441759999484 + 0.0im], ComplexF64[0.997287516708 + 0.0im -0.013686692299 - 0.020764540651im; -0.013686692299 + 0.020764540651im 0.002712483292000023 + 0.0im], ComplexF64[0.997296069047 + 0.0im -0.016944713545 - 0.018039650926im; -0.016944713545 + 0.018039650926im 0.0027039309530000333 + 0.0im], ComplexF64[0.997303720822 + 0.0im -0.019705891778 - 0.014849546054im; -0.019705891778 + 0.014849546054im 0.0026962791779999717 + 0.0im], ComplexF64[0.997310758254 + 0.0im -0.021899646311 - 0.011279864666im; -0.021899646311 + 0.011279864666im 0.0026892417460000484 + 0.0im], ComplexF64[0.99731763463 + 0.0im -0.023469401142 - 0.007417530924im; -0.023469401142 + 0.007417530924im 0.002682365369999995 + 0.0im], ComplexF64[0.997324377337 + 0.0im -0.024375344924 - 0.003377914143im; -0.024375344924 + 0.003377914143im 0.0026756226630000324 + 0.0im], ComplexF64[0.997331018956 + 0.0im -0.024598872892 + 0.000706885117im; -0.024598872892 - 0.000706885117im 0.0026689810440000405 + 0.0im]], Any[ComplexF64[0.502690681703 + 0.0im 0.483744739553 + 0.110884709525im; 0.483744739553 - 0.110884709525im 0.497309318297 + 0.0im], ComplexF64[0.503329682275 + 0.0im 0.495447287239 + 0.028490418512im; 0.495447287239 - 0.028490418512im 0.49667031772500003 + 0.0im], ComplexF64[0.504062751417 + 0.0im 0.493253386624 - 0.054591827038im; 0.493253386624 + 0.054591827038im 0.49593724858300003 + 0.0im], ComplexF64[0.504869065723 + 0.0im 0.477248858817 - 0.135970410957im; 0.477248858817 + 0.135970410957im 0.49513093427699995 + 0.0im], ComplexF64[0.505687686036 + 0.0im 0.447910747416 - 0.213388425434im; 0.447910747416 + 0.213388425434im 0.494312313964 + 0.0im], ComplexF64[0.506533680318 + 0.0im 0.406081018239 - 0.284733422433im; 0.406081018239 + 0.284733422433im 0.49346631968200005 + 0.0im], ComplexF64[0.507436869002 + 0.0im 0.352947675513 - 0.347992365968im; 0.352947675513 + 0.347992365968im 0.492563130998 + 0.0im], ComplexF64[0.508369069692 + 0.0im 0.290020185058 - 0.401370721754im; 0.290020185058 + 0.401370721754im 0.491630930308 + 0.0im], ComplexF64[0.509304074881 + 0.0im 0.219080423853 - 0.443419094906im; 0.219080423853 + 0.443419094906im 0.49069592511899995 + 0.0im], ComplexF64[0.510251947243 + 0.0im 0.142125545045 - 0.47300525852im; 0.142125545045 + 0.47300525852im 0.48974805275699995 + 0.0im]  …  ComplexF64[0.997262206125 + 0.0im 0.025153668426 - 0.002121359861im; 0.025153668426 + 0.002121359861im 0.0027377938749999498 + 0.0im], ComplexF64[0.99727048351 + 0.0im 0.024446878146 - 0.006291011843im; 0.024446878146 + 0.006291011843im 0.0027295164899999724 + 0.0im], ComplexF64[0.997279022545 + 0.0im 0.023056906861 - 0.010257079221im; 0.023056906861 + 0.010257079221im 0.0027209774549999954 + 0.0im], ComplexF64[0.997287949257 + 0.0im 0.021027341325 - 0.013907599676im; 0.021027341325 + 0.013907599676im 0.0027120507429999607 + 0.0im], ComplexF64[0.997296413401 + 0.0im 0.018419739938 - 0.017141236181im; 0.018419739938 + 0.017141236181im 0.002703586599000052 + 0.0im], ComplexF64[0.997303851062 + 0.0im 0.015311338255 - 0.019872624335im; 0.015311338255 + 0.019872624335im 0.002696148937999965 + 0.0im], ComplexF64[0.997310607944 + 0.0im 0.011792325428 - 0.022032107472im; 0.011792325428 + 0.022032107472im 0.0026893920560000506 + 0.0im], ComplexF64[0.997317168475 + 0.0im 0.007963384945 - 0.023564090009im; 0.007963384945 + 0.023564090009im 0.00268283152500004 + 0.0im], ComplexF64[0.997323615209 + 0.0im 0.003933176404 - 0.024429787552im; 0.003933176404 + 0.024429787552im 0.002676384790999964 + 0.0im], ComplexF64[0.997329998691 + 0.0im -0.000184887964 - 0.02461174263im; -0.000184887964 + 0.02461174263im 0.0026700013089999697 + 0.0im]]))"
      ]
     },
     "metadata": {},
     "output_type": "display_data"
    }
   ],
   "source": [
    "evol_data_file_name = \"../DATA/ALL_GAMMAS_B4_D10.h5\"\n",
    "\n",
    "#γᵢ = \"0.079477\"\n",
    "\n",
    "γᵢ = \"0.25133\"\n",
    "\n",
    "tᵍᵉˣʸ , ρᵍᵉˣʸ  = read_GEXY_timeevolution(evol_data_file_name, γᵢ)"
   ]
  },
  {
   "cell_type": "code",
   "execution_count": 90,
   "metadata": {},
   "outputs": [
    {
     "name": "stdout",
     "output_type": "stream",
     "text": [
      "GEXY\n",
      "minimum(abs.(coefficients(polyGEXY))) = 1.8774283812259205e-17\n",
      "maximum(abs.(coefficients(polyGEXY))) = 5.4879696036331\n"
     ]
    },
    {
     "data": {
      "text/plain": [
       "5.4879696036331"
      ]
     },
     "metadata": {},
     "output_type": "display_data"
    }
   ],
   "source": [
    "polyGEXY = kossak_GEXY_obj_infid(ρᵍᵉˣʸ, tᵍᵉˣʸ, Hˢʸᵐᵇ, Cˢʸᵐᵇ, fᴷᴼᴺᴮ)\n",
    "\n",
    "#polyGEXY = kossak_GEXY_obj(ρᵍᵉˣʸ, tᵍᵉˣʸ, Hˢʸᵐᵇ, Cˢʸᵐᵇ, fᴷᴼᴺᴮ)\n",
    "\n",
    "#polyGEXY = kossak_GEXY_obj_pseudo_fidelity(ρᵍᵉˣʸ, tᵍᵉˣʸ, Hˢʸᵐᵇ, Cˢʸᵐᵇ, fᴷᴼᴺᴮ)\n",
    "\n",
    "@show minimum(abs.(coefficients(polyGEXY)))\n",
    "@show maximum(abs.(coefficients(polyGEXY)))"
   ]
  },
  {
   "cell_type": "code",
   "execution_count": 81,
   "metadata": {},
   "outputs": [
    {
     "name": "stdout",
     "output_type": "stream",
     "text": [
      "GEXY\n",
      "minimum(abs.(coefficients(polyGEXY))) = 3.879592866409097e-13\n",
      "maximum(abs.(coefficients(polyGEXY))) = 5.498958359900041\n"
     ]
    },
    {
     "data": {
      "text/plain": [
       "5.498958359900041"
      ]
     },
     "metadata": {},
     "output_type": "display_data"
    }
   ],
   "source": [
    "polyGEXY = kossak_GEXY_obj_infid(ρᵍᵉˣʸ, tᵍᵉˣʸ, Hˢʸᵐᵇ, Cˢʸᵐᵇ, fᴷᴼᴺᴮ)\n",
    "\n",
    "#polyGEXY = kossak_GEXY_obj(ρᵍᵉˣʸ, tᵍᵉˣʸ, Hˢʸᵐᵇ, Cˢʸᵐᵇ, fᴷᴼᴺᴮ)\n",
    "\n",
    "#polyGEXY = kossak_GEXY_obj_pseudo_fidelity(ρᵍᵉˣʸ, tᵍᵉˣʸ, Hˢʸᵐᵇ, Cˢʸᵐᵇ, fᴷᴼᴺᴮ)\n",
    "\n",
    "@show minimum(abs.(coefficients(polyGEXY)))\n",
    "@show maximum(abs.(coefficients(polyGEXY)))"
   ]
  },
  {
   "cell_type": "code",
   "execution_count": 68,
   "metadata": {},
   "outputs": [
    {
     "name": "stdout",
     "output_type": "stream",
     "text": [
      "GEXY\n",
      "minimum(abs.(coefficients(polyGEXY))) = 1.1552913938042863e-7\n",
      "maximum(abs.(coefficients(polyGEXY))) = 6.116604301161447\n"
     ]
    },
    {
     "data": {
      "text/plain": [
       "6.116604301161447"
      ]
     },
     "metadata": {},
     "output_type": "display_data"
    }
   ],
   "source": [
    "polyGEXY = kossak_GEXY_obj_infid(ρᵍᵉˣʸ, tᵍᵉˣʸ, Hˢʸᵐᵇ, Cˢʸᵐᵇ, fᴷᴼᴺᴮ)\n",
    "\n",
    "#polyGEXY = kossak_GEXY_obj(ρᵍᵉˣʸ, tᵍᵉˣʸ, Hˢʸᵐᵇ, Cˢʸᵐᵇ, fᴷᴼᴺᴮ)\n",
    "\n",
    "#polyGEXY = kossak_GEXY_obj_pseudo_fidelity(ρᵍᵉˣʸ, tᵍᵉˣʸ, Hˢʸᵐᵇ, Cˢʸᵐᵇ, fᴷᴼᴺᴮ)\n",
    "\n",
    "@show minimum(abs.(coefficients(polyGEXY)))\n",
    "@show maximum(abs.(coefficients(polyGEXY)))"
   ]
  },
  {
   "cell_type": "code",
   "execution_count": 45,
   "metadata": {},
   "outputs": [
    {
     "name": "stdout",
     "output_type": "stream",
     "text": [
      "GEXY\n",
      "minimum(abs.(coefficients(polyGEXY))) = 5.1211899117138e-14\n",
      "maximum(abs.(coefficients(polyGEXY))) = 0.01874482996856581\n"
     ]
    },
    {
     "data": {
      "text/plain": [
       "0.01874482996856581"
      ]
     },
     "metadata": {},
     "output_type": "display_data"
    }
   ],
   "source": [
    "polyGEXY = kossak_GEXY_obj_infid(ρᵍᵉˣʸ, tᵍᵉˣʸ, Hˢʸᵐᵇ, Cˢʸᵐᵇ, fᴷᴼᴺᴮ)\n",
    "\n",
    "#polyGEXY = kossak_GEXY_obj(ρᵍᵉˣʸ, tᵍᵉˣʸ, Hˢʸᵐᵇ, Cˢʸᵐᵇ, fᴷᴼᴺᴮ)\n",
    "\n",
    "#polyGEXY = kossak_GEXY_obj_pseudo_fidelity(ρᵍᵉˣʸ, tᵍᵉˣʸ, Hˢʸᵐᵇ, Cˢʸᵐᵇ, fᴷᴼᴺᴮ)\n",
    "\n",
    "@show minimum(abs.(coefficients(polyGEXY)))\n",
    "@show maximum(abs.(coefficients(polyGEXY)))"
   ]
  },
  {
   "cell_type": "code",
   "execution_count": 37,
   "metadata": {},
   "outputs": [
    {
     "name": "stdout",
     "output_type": "stream",
     "text": [
      "GEXY\n",
      "minimum(abs.(coefficients(polyGEXY))) = 1.1552913938042863e-7\n",
      "maximum(abs.(coefficients(polyGEXY))) = 6.116604301161447\n"
     ]
    },
    {
     "data": {
      "text/plain": [
       "6.116604301161447"
      ]
     },
     "metadata": {},
     "output_type": "display_data"
    }
   ],
   "source": [
    "polyGEXY = kossak_GEXY_obj_infid(ρᵍᵉˣʸ, tᵍᵉˣʸ, Hˢʸᵐᵇ, Cˢʸᵐᵇ, fᴷᴼᴺᴮ)\n",
    "\n",
    "#polyGEXY = kossak_GEXY_obj(ρᵍᵉˣʸ, tᵍᵉˣʸ, Hˢʸᵐᵇ, Cˢʸᵐᵇ, fᴷᴼᴺᴮ)\n",
    "\n",
    "#polyGEXY = kossak_GEXY_obj_pseudo_fidelity(ρᵍᵉˣʸ, tᵍᵉˣʸ, Hˢʸᵐᵇ, Cˢʸᵐᵇ, fᴷᴼᴺᴮ)\n",
    "\n",
    "@show minimum(abs.(coefficients(polyGEXY)))\n",
    "@show maximum(abs.(coefficients(polyGEXY)))"
   ]
  },
  {
   "cell_type": "code",
   "execution_count": 91,
   "metadata": {},
   "outputs": [
    {
     "name": "stdout",
     "output_type": "stream",
     "text": [
      "*********************************** TSSOS ***********************************\n",
      "TSSOS is launching...\n"
     ]
    },
    {
     "ename": "InexactError",
     "evalue": "InexactError: Int64(2.5)",
     "output_type": "error",
     "traceback": [
      "InexactError: Int64(2.5)\n",
      "\n",
      "Stacktrace:\n",
      " [1] Int64\n",
      "   @ ./float.jl:912 [inlined]\n",
      " [2] tssos_first(f::Polynomial{true, Float64}, x::Vector{PolyVar{true}}; nb::Int64, order::Int64, newton::Bool, reducebasis::Bool, TS::String, merge::Bool, md::Int64, feasible::Bool, solver::String, QUIET::Bool, solve::Bool, dualize::Bool, MomentOne::Bool, Gram::Bool, solution::Bool, tol::Float64, cosmo_setting::cosmo_para, mosek_setting::mosek_para)\n",
      "   @ TSSOS ~/.julia/packages/TSSOS/pPtmm/src/blockpop_uncons.jl:87\n",
      " [3] top-level scope\n",
      "   @ ~/github/OQSID-thesis/BlackBox/SmallestGammaCONSTR.ipynb:1"
     ]
    }
   ],
   "source": [
    "optu,solu,datau = tssos_first(polyGEXY, variables(polyGEXY), TS=\"block\", solution=true)"
   ]
  },
  {
   "cell_type": "code",
   "execution_count": 55,
   "metadata": {},
   "outputs": [
    {
     "name": "stdout",
     "output_type": "stream",
     "text": [
      "*********************************** TSSOS ***********************************\n",
      "TSSOS is launching...\n",
      "Starting to compute the block structure...\n",
      "-----------------------------------------------------------------------------\n",
      "The sizes of PSD blocks:\n",
      "[55]\n",
      "[1]\n",
      "-----------------------------------------------------------------------------\n",
      "Obtained the block structure. The maximal size of blocks is 55.\n",
      "Assembling the SDP...\n",
      "There are 715 affine constraints.\n",
      "Solving the SDP...\n",
      "Problem\n",
      "  Name                   :                 \n",
      "  Objective sense        : maximize        \n",
      "  Type                   : CONIC (conic optimization problem)\n",
      "  Constraints            : 715             \n",
      "  Affine conic cons.     : 0               \n",
      "  Disjunctive cons.      : 0               \n",
      "  Cones                  : 0               \n",
      "  Scalar variables       : 1               \n",
      "  Matrix variables       : 2 (scalarized: 1595)\n",
      "  Integer variables      : 0               \n",
      "\n",
      "Optimizer started.\n",
      "Presolve started.\n",
      "Linear dependency checker started.\n",
      "Linear dependency checker terminated.\n",
      "Eliminator started.\n",
      "Freed constraints in eliminator : 0\n",
      "Eliminator terminated.\n",
      "Eliminator - tries                  : 1                 time                   : 0.00            \n",
      "Lin. dep.  - tries                  : 1                 time                   : 0.00            \n",
      "Lin. dep.  - primal attempts        : 1                 successes              : 1               \n",
      "Lin. dep.  - dual attempts          : 0                 successes              : 0               \n",
      "Lin. dep.  - primal deps.           : 0                 dual deps.             : 0               \n",
      "Presolve terminated. Time: 0.00    \n",
      "GP based matrix reordering started.\n",
      "GP based matrix reordering terminated.\n",
      "Optimizer  - threads                : 6               \n",
      "Optimizer  - solved problem         : the primal      \n",
      "Optimizer  - Constraints            : 715             \n",
      "Optimizer  - Cones                  : 1               \n",
      "Optimizer  - Scalar variables       : 2                 conic                  : 2               \n",
      "Optimizer  - Semi-definite variables: 2                 scalarized             : 1595            \n",
      "Factor     - setup time             : 0.00            \n",
      "Factor     - dense det. time        : 0.00              GP order time          : 0.00            \n",
      "Factor     - nonzeros before factor : 2.56e+05          after factor           : 2.56e+05        \n",
      "Factor     - dense dim.             : 0                 flops                  : 1.28e+08        \n",
      "ITE PFEAS    DFEAS    GFEAS    PRSTATUS   POBJ              DOBJ              MU       TIME  \n",
      "0   2.0e+00  1.0e+00  1.0e+00  0.00e+00   -0.000000000e+00  -0.000000000e+00  1.0e+00  0.00  \n",
      "1   1.1e+00  5.5e-01  2.7e-01  1.02e+00   -1.864231464e-01  1.518797663e-02   5.5e-01  0.01  \n",
      "2   1.0e-01  5.2e-02  7.9e-03  1.35e+00   6.788232415e-03   1.902131703e-02   5.2e-02  0.02  \n",
      "3   8.5e-03  4.3e-03  1.7e-04  1.02e+00   1.835017878e-02   1.947837459e-02   4.3e-03  0.02  \n",
      "4   2.0e-03  1.0e-03  1.7e-05  1.21e+00   1.762643465e-02   1.793454638e-02   1.0e-03  0.03  \n",
      "5   7.8e-04  3.9e-04  4.1e-06  1.31e+00   1.611683980e-02   1.621546871e-02   3.9e-04  0.04  \n",
      "6   1.7e-04  8.6e-05  8.0e-07  9.37e-02   1.467191445e-02   1.467125329e-02   8.6e-05  0.04  \n",
      "7   3.2e-05  1.6e-05  1.3e-07  8.17e-02   1.320794991e-02   1.317055052e-02   1.6e-05  0.05  \n",
      "8   8.9e-06  4.4e-06  3.7e-08  -7.64e-02  1.215106951e-02   1.209790794e-02   4.4e-06  0.05  \n",
      "9   1.9e-06  9.7e-07  7.7e-09  7.65e-02   1.081162606e-02   1.075628553e-02   9.7e-07  0.06  \n",
      "10  4.3e-07  2.1e-07  1.6e-09  -1.54e-02  9.363456117e-03   9.309930856e-03   2.1e-07  0.07  \n",
      "11  9.7e-08  4.9e-08  3.6e-10  -7.61e-02  7.858283782e-03   7.806089527e-03   4.9e-08  0.07  \n",
      "12  2.2e-08  1.1e-08  7.0e-11  2.36e-02   6.265061534e-03   6.223582578e-03   1.1e-08  0.08  \n",
      "13  5.2e-09  2.4e-09  1.4e-11  1.57e-02   4.749184896e-03   4.715472212e-03   2.4e-09  0.09  \n",
      "14  3.4e-09  7.9e-10  4.6e-12  1.03e-01   3.730814470e-03   3.697537916e-03   7.9e-10  0.09  \n",
      "15  1.9e-09  3.0e-10  1.4e-12  6.45e-01   2.807914387e-03   2.787233271e-03   3.0e-10  0.10  \n",
      "16  5.9e-10  9.7e-11  4.5e-13  1.98e-01   2.079238441e-03   2.057639399e-03   9.7e-11  0.11  \n",
      "17  2.7e-10  4.4e-11  1.7e-13  4.74e-01   1.526365240e-03   1.512299119e-03   4.4e-11  0.11  \n",
      "18  8.2e-11  1.3e-11  4.8e-14  2.83e-01   1.003861033e-03   9.907895451e-04   1.3e-11  0.12  \n",
      "19  3.4e-11  6.1e-12  1.5e-14  6.05e-01   6.528283966e-04   6.450891701e-04   5.5e-12  0.13  \n",
      "20  1.3e-11  2.5e-12  5.1e-15  4.28e-01   4.083041650e-04   4.024019310e-04   2.1e-12  0.13  \n",
      "21  5.5e-12  3.0e-12  1.7e-15  6.23e-01   2.554099604e-04   2.520144650e-04   9.1e-13  0.14  \n",
      "22  2.6e-12  1.1e-12  6.9e-16  4.31e-01   1.649600201e-04   1.623222583e-04   4.2e-13  0.15  \n",
      "23  1.4e-12  5.1e-12  2.7e-16  7.90e-01   1.111726483e-04   1.097357878e-04   2.3e-13  0.16  \n",
      "24  4.4e-13  2.7e-12  6.7e-17  5.41e-01   5.088490863e-05   5.002870402e-05   7.2e-14  0.16  \n",
      "25  1.5e-13  1.7e-11  1.5e-17  8.25e-01   2.355701905e-05   2.321413743e-05   2.5e-14  0.17  \n",
      "26  6.8e-14  1.1e-11  4.5e-18  9.84e-01   8.774057789e-06   8.613753812e-06   1.2e-14  0.18  \n",
      "27  2.4e-14  9.9e-13  9.8e-19  9.97e-01   3.984067297e-06   3.923802811e-06   4.4e-15  0.19  \n",
      "28  7.0e-15  1.1e-10  1.6e-19  9.93e-01   9.962150253e-07   9.775278203e-07   1.3e-15  0.19  \n",
      "29  2.9e-15  3.1e-10  4.3e-20  1.00e+00   4.550037755e-07   4.470519493e-07   5.2e-16  0.20  \n",
      "Optimizer terminated. Time: 0.20    \n",
      "\n",
      "SDP solving time: 0.201902458 seconds.\n",
      "optimum = 4.550037754638908e-7\n",
      "Global optimality certified with relative optimality gap 0.000045%!\n"
     ]
    },
    {
     "data": {
      "text/plain": [
       "(4.550037754638908e-7, [-0.08105769035691421, 0.32647918189727143, 0.2468202182652219, 0.0005192398058168271, 0.0002567284300347723, -0.2578032512364387, 24.75360001145135, 0.0009254666906926178, -0.0009025043551930306], TSSOS.upop_data(9, 0, PolyVar{true}[γ₁, γ₂, γ₃, a₁, a₂, a₃, ϵ, h_Re, h_Im], 2.311366814059853e-7γ₁⁴ + 1.0522744114986488e-7γ₁³γ₂ + 1.496924956660305e-7γ₁³γ₃ - 1.7529413746468977e-8γ₁³a₁ - 4.798572450893505e-9γ₁³a₂ + 3.4704982577158606e-7γ₁³a₃ - 1.4993108861311204e-7γ₁³ϵ - 9.781438289765226e-11γ₁³h_Re + 5.619261804418164e-11γ₁³h_Im + 1.1043907433307101e-7γ₁²γ₂² + 7.205482411029943e-8γ₁²γ₂γ₃ - 9.820325670474638e-9γ₁²γ₂a₁ - 6.640324872911815e-9γ₁²γ₂a₂ + 1.713195491859262e-7γ₁²γ₂a₃ - 6.319225758277702e-8γ₁²γ₂ϵ - 5.347217911859134e-11γ₁²γ₂h_Re + 2.986559983779324e-11γ₁²γ₂h_Im + 2.764443624046994e-7γ₁²γ₃² - 2.4085023402602117e-11γ₁²γ₃a₁ + 3.975441277910585e-11γ₁²γ₃a₂ + 8.601856364677223e-7γ₁²γ₃a₃ - 7.501120178916008e-8γ₁²γ₃ϵ - 1.6307637370247273e-12γ₁²γ₃h_Re + 1.2653084744198488e-11γ₁²γ₃h_Im + 2.4805296593321546e-6γ₁²a₁² - 3.0233909487641804e-7γ₁²a₁a₂ - 1.8471735231478696e-9γ₁²a₁a₃ + 1.0885654044959213e-8γ₁²a₁ϵ + 1.7506061543517444e-7γ₁²a₁h_Re + 5.881296560877765e-7γ₁²a₁h_Im + 5.588961961537835e-7γ₁²a₂² + 2.0759269591645167e-10γ₁²a₂a₃ + 3.178049927090211e-9γ₁²a₂ϵ - 2.0886736463317196e-7γ₁²a₂h_Re + 3.843476346187183e-9γ₁²a₂h_Im + 7.683777077142184e-7γ₁²a₃² - 1.7890409178136175e-7γ₁²a₃ϵ - 2.1162447557378665e-10γ₁²a₃h_Re + 6.700414163973499e-10γ₁²a₃h_Im + 1.8646382837744887e-7γ₁²ϵ² + 6.416383413000263e-11γ₁²ϵh_Re - 2.8936552143843628e-11γ₁²ϵh_Im + 8.119741820218196e-8γ₁²h_Re² + 9.349248379521575e-9γ₁²h_Reh_Im + 2.0010973922877877e-7γ₁²h_Im² + 1.0542267414116605e-7γ₁γ₂³ + 7.208724536765959e-8γ₁γ₂²γ₃ - 7.897551506928685e-9γ₁γ₂²a₁ - 9.087585012351274e-9γ₁γ₂²a₂ + 1.7143308971024338e-7γ₁γ₂²a₃ - 6.371915982800386e-8γ₁γ₂²ϵ - 5.5243571328477526e-11γ₁γ₂²h_Re + 2.983227373448326e-11γ₁γ₂²h_Im + 1.2615238362118502e-7γ₁γ₂γ₃² - 5.476953291282931e-12γ₁γ₂γ₃a₁ + 7.085582728384703e-11γ₁γ₂γ₃a₂ + 3.9832154985832145e-7γ₁γ₂γ₃a₃ - 2.276019383691325e-8γ₁γ₂γ₃ϵ + 3.4267102122960517e-12γ₁γ₂γ₃h_Re + 7.994132064637994e-12γ₁γ₂γ₃h_Im + 8.058567237280815e-7γ₁γ₂a₁² - 1.2613119776270212e-8γ₁γ₂a₁a₂ - 7.254786728906471e-10γ₁γ₂a₁a₃ + 5.825649808608182e-9γ₁γ₂a₁ϵ + 3.13588281590919e-8γ₁γ₂a₁h_Re + 1.480356373246506e-7γ₁γ₂a₁h_Im + 8.079744258352696e-7γ₁γ₂a₂² + 2.99770505788787e-10γ₁γ₂a₂a₃ + 5.054831168108984e-9γ₁γ₂a₂ϵ - 1.4892998294052896e-7γ₁γ₂a₂h_Re + 3.235677780835601e-8γ₁γ₂a₂h_Im + 3.6483388444616886e-7γ₁γ₂a₃² - 6.371560596744774e-8γ₁γ₂a₃ϵ - 1.9142783669804171e-10γ₁γ₂a₃h_Re + 3.198810703804359e-10γ₁γ₂a₃h_Im + 3.038991814044642e-8γ₁γ₂ϵ² + 3.8790774177674076e-11γ₁γ₂ϵh_Re - 2.7816988947116212e-11γ₁γ₂ϵh_Im + 4.6234956702761706e-8γ₁γ₂h_Re² - 4.348183317723501e-10γ₁γ₂h_Reh_Im + 4.6105186418297746e-8γ₁γ₂h_Im² + 7.469912505551704e-7γ₁γ₃³ + 9.745890500290931e-11γ₁γ₃²a₁ + 1.6374623670111868e-11γ₁γ₃²a₂ + 2.7049996485299283e-6γ₁γ₃²a₃ - 8.78232777727134e-8γ₁γ₃²ϵ + 5.150477760638336e-12γ₁γ₃²h_Re + 2.6303206914374404e-11γ₁γ₃²h_Im + 1.5588513566643946e-6γ₁γ₃a₁² - 1.8493283243101754e-7γ₁γ₃a₁a₂ + 1.86172116843027e-10γ₁γ₃a₁a₃ + 1.5008885726810356e-11γ₁γ₃a₁ϵ + 2.499668315410451e-7γ₁γ₃a₁h_Re + 2.4206008841631684e-7γ₁γ₃a₁h_Im + 5.203071798500101e-7γ₁γ₃a₂² + 7.301244398855234e-11γ₁γ₃a₂a₃ - 2.3548220660646012e-11γ₁γ₃a₂ϵ - 2.5664711082065265e-7γ₁γ₃a₂h_Re + 2.77182544735998e-8γ₁γ₃a₂h_Im + 3.4021862752921235e-6γ₁γ₃a₃² - 2.776850860146459e-7γ₁γ₃a₃ϵ + 8.220398953426845e-12γ₁γ₃a₃h_Re + 6.265336270392688e-11γ₁γ₃a₃h_Im + 8.923528877054536e-8γ₁γ₃ϵ² - 4.67691593277448e-12γ₁γ₃ϵh_Re - 1.0724076421629077e-11γ₁γ₃ϵh_Im + 1.429200150469728e-7γ₁γ₃h_Re² + 1.9401329549655014e-8γ₁γ₃h_Reh_Im + 7.909299108310036e-8γ₁γ₃h_Im² - 2.3867361956340055e-8γ₁a₁³ - 2.4437717992733602e-8γ₁a₁²a₂ + 2.8894626221226302e-6γ₁a₁²a₃ - 8.482673092415912e-7γ₁a₁²ϵ - 3.775140114129491e-10γ₁a₁²h_Re + 2.414962588628007e-10γ₁a₁²h_Im - 1.5122397941749993e-8γ₁a₁a₂² - 3.43504042619416e-7γ₁a₁a₂a₃ + 6.23871337158965e-7γ₁a₁a₂ϵ - 2.4863657307208213e-11γ₁a₁a₂h_Re + 2.065288222105833e-12γ₁a₁a₂h_Im - 8.251613392522617e-10γ₁a₁a₃² + 7.529627346037968e-10γ₁a₁a₃ϵ + 4.3291968883600703e-7γ₁a₁a₃h_Re + 4.419188247192761e-8γ₁a₁a₃h_Im - 3.247941985650073e-9γ₁a₁ϵ² - 4.5416367502795397e-7γ₁a₁ϵh_Re - 1.5674168847283184e-7γ₁a₁ϵh_Im - 2.021366008313654e-10γ₁a₁h_Re² + 4.011215513558557e-10γ₁a₁h_Reh_Im - 6.345597153656906e-10γ₁a₁h_Im² - 4.672013786768356e-9γ₁a₂³ + 9.645579174066207e-7γ₁a₂²a₃ - 2.82381481001364e-7γ₁a₂²ϵ - 1.2269581699766976e-10γ₁a₂²h_Re + 7.857104184339585e-11γ₁a₂²h_Im - 6.17529119828048e-11γ₁a₂a₃² - 1.3227842637959457e-10γ₁a₂a₃ϵ - 3.109465908076832e-7γ₁a₂a₃h_Re + 7.69642576578068e-8γ₁a₂a₃h_Im - 1.000191098413704e-9γ₁a₂ϵ² + 1.0842710938213217e-7γ₁a₂ϵh_Re + 8.295408686675198e-8γ₁a₂ϵh_Im - 8.745971164276282e-11γ₁a₂h_Re² + 2.972856992854235e-10γ₁a₂h_Reh_Im - 4.7690728733441474e-11γ₁a₂h_Im² + 1.52259599094147e-6γ₁a₃³ - 2.5494197324690713e-7γ₁a₃²ϵ - 2.5143383123316633e-12γ₁a₃²h_Re + 7.075251387266935e-11γ₁a₃²h_Im + 1.85604794080601e-7γ₁a₃ϵ² + 1.0698750237732031e-10γ₁a₃ϵh_Re - 3.057400938889734e-10γ₁a₃ϵh_Im + 2.135958740383331e-7γ₁a₃h_Re² + 1.545402198685575e-8γ₁a₃h_Reh_Im + 1.137834657058465e-7γ₁a₃h_Im² - 4.419124138357563e-8γ₁ϵ³ - 2.4253515022937528e-11γ₁ϵ²h_Re + 1.8873059617193993e-11γ₁ϵ²h_Im - 4.395537797054367e-8γ₁ϵh_Re² - 5.5390774950377806e-8γ₁ϵh_Reh_Im - 4.89895056261601e-8γ₁ϵh_Im² - 1.6042185862527425e-12γ₁h_Re³ + 4.497645458394173e-12γ₁h_Re²h_Im - 4.831976367986826e-13γ₁h_Reh_Im² + 7.618805779472292e-12γ₁h_Im³ + 2.323010427807408e-7γ₂⁴ + 1.500983601687873e-7γ₂³γ₃ - 8.016563821668125e-9γ₂³a₁ - 2.3305462441169574e-8γ₂³a₂ + 3.4803107095394406e-7γ₂³a₃ - 1.4970918224772922e-7γ₂³ϵ - 9.345340812811836e-11γ₂³h_Re + 5.340594037628713e-11γ₂³h_Im + 2.77010875401293e-7γ₂²γ₃² + 8.945594518713385e-12γ₂²γ₃a₁ + 1.8717385453597705e-10γ₂²γ₃a₂ + 8.621081173914837e-7γ₂²γ₃a₃ - 7.556656602992725e-8γ₂²γ₃ϵ + 4.559310675707448e-12γ₂²γ₃h_Re + 1.1812415159160853e-11γ₂²γ₃h_Im + 5.586732557037511e-7γ₂²a₁² + 2.777730264496365e-7γ₂²a₁a₂ - 3.761765615256312e-10γ₂²a₁a₃ + 5.451464215983114e-9γ₂²a₁ϵ + 4.321617559542922e-9γ₂²a₁h_Re + 2.0878688227609348e-7γ₂²a₁h_Im + 2.488858042067392e-6γ₂²a₂² + 8.324706933969584e-10γ₂²a₂a₃ + 1.2645964452780694e-8γ₂²a₂ϵ - 5.901039533578061e-7γ₂²a₂h_Re + 1.753918029862594e-7γ₂²a₂h_Im + 7.704693639894135e-7γ₂²a₃² - 1.7971342054580244e-7γ₂²a₃ϵ - 3.465365848729578e-10γ₂²a₃h_Re + 2.281811730462726e-10γ₂²a₃h_Im + 1.8715790395628925e-7γ₂²ϵ² + 5.5401257613658826e-11γ₂²ϵh_Re - 4.3275763678514564e-11γ₂²ϵh_Im + 2.0133651828323643e-7γ₂²h_Re² - 1.0055997454899044e-8γ₂²h_Reh_Im + 8.138681389895925e-8γ₂²h_Im² + 7.475884036664302e-7γ₂γ₃³ + 3.195247569274896e-11γ₂γ₃²a₁ + 4.1357801912248865e-11γ₂γ₃²a₂ + 2.7072252654078283e-6γ₂γ₃²a₃ - 8.800679155961557e-8γ₂γ₃²ϵ + 2.6271038474780047e-11γ₂γ₃²h_Re + 8.012011092653023e-12γ₂γ₃²h_Im + 5.196991954755006e-7γ₂γ₃a₁² + 1.6707865681598157e-7γ₂γ₃a₁a₂ + 6.902044236831524e-11γ₂γ₃a₁a₃ - 3.942937334725075e-12γ₂γ₃a₁ϵ + 2.8300206867412006e-8γ₂γ₃a₁h_Re + 2.5594278440341224e-7γ₂γ₃a₁h_Im + 1.5610821144584516e-6γ₂γ₃a₂² + 1.735032317344133e-10γ₂γ₃a₂a₃ - 7.207144845592158e-11γ₂γ₃a₂ϵ - 2.4095070898580937e-7γ₂γ₃a₂h_Re + 2.4919521174401603e-7γ₂γ₃a₂h_Im + 3.4051214924119683e-6γ₂γ₃a₃² - 2.774954186114282e-7γ₂γ₃a₃ϵ + 6.437550499741406e-11γ₂γ₃a₃h_Re + 2.5503587601590706e-11γ₂γ₃a₃h_Im + 8.947926068316454e-8γ₂γ₃ϵ² - 4.509942529637378e-12γ₂γ₃ϵh_Re - 4.289677401674e-12γ₂γ₃ϵh_Im + 7.886183265023425e-8γ₂γ₃h_Re² - 1.832864305030659e-8γ₂γ₃h_Reh_Im + 1.430829158551118e-7γ₂γ₃h_Im² - 7.60145199563951e-9γ₂a₁³ - 2.166797905399202e-8γ₂a₁²a₂ + 9.63281627590171e-7γ₂a₁²a₃ - 2.807462622481776e-7γ₂a₁²ϵ - 1.0560876091287879e-10γ₂a₁²h_Re + 7.450965991006079e-11γ₂a₁²h_Im - 3.031380668913218e-8γ₂a₁a₂² + 3.092552069284685e-7γ₂a₁a₂a₃ - 6.187441711444754e-7γ₂a₁a₂ϵ - 1.0840311454587917e-10γ₂a₁a₂h_Re - 1.8491531799146e-11γ₂a₁a₂h_Im - 3.905157807018663e-10γ₂a₁a₃² + 2.297090536249099e-10γ₂a₁a₃ϵ + 7.971422918870486e-8γ₂a₁a₃h_Re + 3.0973062205866475e-7γ₂a₁a₃h_Im - 1.8168509024907019e-9γ₂a₁ϵ² + 8.372057984630817e-8γ₂a₁ϵh_Re - 1.0649711055653247e-7γ₂a₁ϵh_Im - 2.570246432760692e-10γ₂a₁h_Re² + 2.0015075154455171e-10γ₂a₁h_Reh_Im - 1.469514196156726e-10γ₂a₁h_Im² - 2.584981406878339e-8γ₂a₂³ + 2.89378173260717e-6γ₂a₂²a₃ - 8.410413518098057e-7γ₂a₂²ϵ - 3.0897391136872425e-10γ₂a₂²h_Re + 2.247787785498447e-10γ₂a₂²h_Im - 1.7492299196490983e-10γ₂a₂a₃² - 3.4115444255380747e-10γ₂a₂a₃ϵ - 4.02867729592569e-8γ₂a₂a₃h_Re + 4.27445605797555e-7γ₂a₂a₃h_Im - 2.8259085540148305e-9γ₂a₂ϵ² + 1.5302954085183521e-7γ₂a₂ϵh_Re - 4.557498952837377e-7γ₂a₂ϵh_Im - 3.4578363180874426e-10γ₂a₂h_Re² + 3.82543071274564e-10γ₂a₂h_Reh_Im - 4.38431102069167e-11γ₂a₂h_Im² + 1.5240340217456243e-6γ₂a₃³ - 2.535799174931296e-7γ₂a₃²ϵ + 5.5739161493033126e-11γ₂a₃²h_Re + 3.524610977858387e-11γ₂a₃²h_Im + 1.8601465771871507e-7γ₂a₃ϵ² + 1.3150621527757125e-10γ₂a₃ϵh_Re - 1.1246453113071354e-10γ₂a₃ϵh_Im + 1.1350780065191194e-7γ₂a₃h_Re² - 1.339744667800234e-8γ₂a₃h_Reh_Im + 2.1374696858213097e-7γ₂a₃h_Im² - 4.3214430474870636e-8γ₂ϵ³ - 6.6410035576409825e-12γ₂ϵ²h_Re + 1.764687890805299e-11γ₂ϵ²h_Im - 4.775048503944662e-8γ₂ϵh_Re² + 5.6036547733477406e-8γ₂ϵh_Reh_Im - 4.315315855528921e-8γ₂ϵh_Im² + 6.9805792306052865e-12γ₂h_Re³ + 6.499741567469149e-12γ₂h_Re²h_Im + 5.687822585027369e-12γ₂h_Reh_Im² + 1.9289952725410817e-12γ₂h_Im³ + 1.9140627418493106e-5γ₃⁴ + 2.319743874845825e-9γ₃³a₁ - 2.40255961324312e-9γ₃³a₂ + 7.839886029209782e-5γ₃³a₃ - 2.529457281547651e-7γ₃³ϵ + 3.3366712544327395e-10γ₃³h_Re - 3.8639415026207225e-10γ₃³h_Im + 4.205038504474389e-6γ₃²a₁² - 1.3953962012290435e-8γ₃²a₁a₂ + 7.032277161445691e-9γ₃²a₁a₃ + 2.408693584599608e-11γ₃²a₁ϵ + 4.577664477972454e-7γ₃²a₁h_Re + 3.554748877796849e-6γ₃²a₁h_Im + 4.206010706869901e-6γ₃²a₂² - 7.216920469756982e-9γ₃²a₂a₃ + 9.354582723702729e-12γ₃²a₂ϵ - 3.5541421020639692e-6γ₃²a₂h_Re + 4.582092317363408e-7γ₃²a₂h_Im + 0.0001252770290900225γ₃²a₃² - 9.159756795335871e-7γ₃²a₃ϵ + 9.790822584574478e-10γ₃²a₃h_Re - 1.1617574726830648e-9γ₃²a₃h_Im + 1.7501382060759155e-7γ₃²ϵ² - 2.5128002512124056e-11γ₃²ϵh_Re + 2.4747653708242856e-11γ₃²ϵh_Im + 1.95163283683755e-6γ₃²h_Re² + 1.3445945315292014e-10γ₃²h_Reh_Im + 1.9508649276159723e-6γ₃²h_Im² + 3.9039913276843854e-11γ₃a₁³ + 7.048429191113503e-11γ₃a₁²a₂ + 9.771231742834981e-6γ₃a₁²a₃ - 3.515033998793376e-7γ₃a₁²ϵ - 1.9429155199507945e-11γ₃a₁²h_Re + 5.706286306618287e-11γ₃a₁²h_Im + 4.1199112461422667e-11γ₃a₁a₂² - 3.462547169835914e-8γ₃a₁a₂a₃ + 1.2159687490185476e-9γ₃a₁a₂ϵ - 3.63282927843708e-11γ₃a₁a₂h_Re - 4.731353275614455e-11γ₃a₁a₂h_Im + 7.102109107312622e-9γ₃a₁a₃² + 8.617184315518721e-11γ₃a₁a₃ϵ + 1.1516980286587659e-6γ₃a₁a₃h_Re + 1.0015781467313323e-5γ₃a₁a₃h_Im + 8.417242175895423e-13γ₃a₁ϵ² - 5.278868479641294e-7γ₃a₁ϵh_Re - 1.6451701898973074e-7γ₃a₁ϵh_Im + 2.169220457853759e-11γ₃a₁h_Re² - 1.939881455835922e-11γ₃a₁h_Reh_Im + 1.4461780911436156e-11γ₃a₁h_Im² + 7.652852019402549e-11γ₃a₂³ + 9.773639329944602e-6γ₃a₂²a₃ - 3.5252889452773255e-7γ₃a₂²ϵ + 3.234803180977247e-11γ₃a₂²h_Re + 2.07627655968464e-11γ₃a₂²h_Im - 7.21696127607833e-9γ₃a₂a₃² - 5.197238409313182e-12γ₃a₂a₃ϵ - 1.0013799842655633e-5γ₃a₂a₃h_Re + 1.152466519252445e-6γ₃a₂a₃h_Im + 1.3481851195858824e-11γ₃a₂ϵ² + 1.6658889234485452e-7γ₃a₂ϵh_Re - 5.268577193096886e-7γ₃a₂ϵh_Im + 9.379790554505235e-14γ₃a₂h_Re² + 7.0584667228588014e-12γ₃a₂h_Reh_Im - 1.9690005911508892e-11γ₃a₂h_Im² + 8.61767382663175e-5γ₃a₃³ - 1.1520822739556043e-6γ₃a₃²ϵ + 9.269529496588143e-10γ₃a₃²h_Re - 1.1654549655483583e-9γ₃a₃²h_Im + 5.273722836369096e-7γ₃a₃ϵ² - 5.044287587990762e-11γ₃a₃ϵh_Re + 5.877882638137146e-11γ₃a₃ϵh_Im + 4.305463066762646e-6γ₃a₃h_Re² - 7.038885801994701e-10γ₃a₃h_Reh_Im + 4.302838711416914e-6γ₃a₃h_Im² - 2.7433201822529385e-8γ₃ϵ³ - 8.809294324168093e-12γ₃ϵ²h_Re + 5.1211899117138e-14γ₃ϵ²h_Im - 9.207095404331498e-8γ₃ϵh_Re² - 7.687846028158289e-10γ₃ϵh_Reh_Im - 9.147305926161459e-8γ₃ϵh_Im² - 1.2672393000123802e-11γ₃h_Re³ - 4.860225653711619e-12γ₃h_Re²h_Im - 1.2803719434797868e-11γ₃h_Reh_Im² - 4.703485554272242e-12γ₃h_Im³ + 2.6198128421325993e-6a₁⁴ - 9.772255375375047e-9a₁³a₂ - 7.244767381650093e-10a₁³a₃ + 5.655051634145575e-9a₁³ϵ + 1.6315911109565812e-7a₁³h_Re + 2.185716709358956e-6a₁³h_Im + 5.240686353373455e-6a₁²a₂² + 2.4963636447662087e-10a₁²a₂a₃ + 7.681958045168476e-9a₁²a₂ϵ - 2.186055602742714e-6a₁²a₂h_Re + 1.6281389419842287e-7a₁²a₂h_Im + 9.24852809996234e-6a₁²a₃² - 6.522912274853963e-7a₁²a₃ϵ - 4.6504654900677384e-10a₁²a₃h_Re + 9.422810790827552e-10a₁²a₃h_Im + 6.194043968709862e-7a₁²ϵ² + 9.219121881727017e-11a₁²ϵh_Re + 1.0983194349046118e-11a₁²ϵh_Im + 1.0743090104507656e-6a₁²h_Re² + 4.76191666726419e-8a₁²h_Reh_Im + 2.7770129439176047e-6a₁²h_Im² - 3.973802618058722e-9a₁a₂³ - 7.788891959710753e-10a₁a₂²a₃ + 7.65193769368705e-9a₁a₂²ϵ + 1.6347404020036941e-7a₁a₂²h_Re + 2.1847793129262624e-6a₁a₂²h_Im - 2.1417424169102655e-8a₁a₂a₃² + 2.5525796329014916e-9a₁a₂a₃ϵ - 8.634297863265929e-10a₁a₂a₃h_Re + 2.644744077878825e-10a₁a₂a₃h_Im - 1.6352187531869487e-9a₁a₂ϵ² - 3.417411216957981e-11a₁a₂ϵh_Re + 8.122763866668135e-12a₁a₂ϵh_Im - 4.872671076766269e-8a₁a₂h_Re² - 3.406796289090485e-6a₁a₂h_Reh_Im + 4.894225995978876e-8a₁a₂h_Im² + 2.3694508897826707e-9a₁a₃³ + 3.3280934511285064e-10a₁a₃²ϵ + 7.736603226452493e-7a₁a₃²h_Re + 5.203443770010572e-6a₁a₃²h_Im - 9.625260075060104e-11a₁a₃ϵ² - 8.904397527125716e-7a₁a₃ϵh_Re - 1.9312285326486148e-7a₁a₃ϵh_Im + 1.223673582392938e-11a₁a₃h_Re² - 3.382963377435751e-11a₁a₃h_Reh_Im - 1.3689650806479012e-11a₁a₃h_Im² + 4.730809884796007e-10a₁ϵ³ + 8.444668470926402e-8a₁ϵ²h_Re + 3.531263823184513e-7a₁ϵ²h_Im + 1.1886344876043387e-10a₁ϵh_Re² - 1.0528809075842154e-10a₁ϵh_Reh_Im + 1.7726982566445704e-10a₁ϵh_Im² + 3.420670982826658e-8a₁h_Re³ + 8.775773258862709e-7a₁h_Re²h_Im + 3.351366744274643e-8a₁h_Reh_Im² + 8.771837643558433e-7a₁h_Im³ + 2.620360313553504e-6a₂⁴ + 4.040744789173317e-10a₂³a₃ + 4.768118108217857e-9a₂³ϵ - 2.1850955351290993e-6a₂³h_Re + 1.630887839982017e-7a₂³h_Im + 9.250045794451394e-6a₂²a₃² - 6.527403921949718e-7a₂²a₃ϵ - 4.0450855254701994e-10a₂²a₃h_Re + 3.922719405864919e-10a₂²a₃h_Im + 6.174189477903001e-7a₂²ϵ² + 7.405308263670208e-11a₂²ϵh_Re - 4.607147247293552e-11a₂²ϵh_Im + 2.7775690180656446e-6a₂²h_Re² - 5.02222662669396e-8a₂²h_Reh_Im + 1.0734367719238811e-6a₂²h_Im² - 2.390587131476478e-9a₂a₃³ + 3.9442952576781e-11a₂a₃²ϵ - 5.201537264707729e-6a₂a₃²h_Re + 7.731944122243921e-7a₂a₃²h_Im + 6.315852855772093e-11a₂a₃ϵ² + 1.97897954069204e-7a₂a₃ϵh_Re - 8.869507986050255e-7a₂a₃ϵh_Im + 2.3391129683258225e-11a₂a₃h_Re² + 2.8966688363497527e-11a₂a₃h_Reh_Im - 1.63055677190303e-11a₂a₃h_Im² + 2.479909371642619e-10a₂ϵ³ - 3.5185369856257873e-7a₂ϵ²h_Re + 8.303814971127722e-8a₂ϵ²h_Im + 6.185262218194124e-11a₂ϵh_Re² - 1.1073215699802075e-10a₂ϵh_Reh_Im + 6.6992717763761125e-12a₂ϵh_Im² - 8.773049005153147e-7a₂h_Re³ + 3.483700878632433e-8a₂h_Re²h_Im - 8.769116670152505e-7a₂h_Reh_Im² + 3.41428805030784e-8a₂h_Im³ + 2.4726795626849546e-5a₃⁴ - 5.156182449565464e-7a₃³ϵ + 2.461543946149117e-10a₃³h_Re - 3.764062238881154e-10a₃³h_Im + 4.443476378293988e-7a₃²ϵ² - 2.6720080005680233e-11a₃²ϵh_Re + 3.3220384606215795e-11a₃²ϵh_Im + 3.1255938076079624e-6a₃²h_Re² - 2.418939990226085e-9a₃²h_Reh_Im + 3.1228584117988836e-6a₃²h_Im² - 5.5828278140180384e-8a₃ϵ³ - 6.34973702614199e-11a₃ϵ²h_Re + 4.594477360283179e-11a₃ϵ²h_Im - 1.3745713827112366e-7a₃ϵh_Re² - 1.3313177420400954e-9a₃ϵh_Reh_Im - 1.3594230895198154e-7a₃ϵh_Im² - 4.089902435036804e-11a₃h_Re³ + 8.529749566142944e-12a₃h_Re²h_Im - 4.824310740150711e-11a₃h_Reh_Im² + 1.5034103644569786e-12a₃h_Im³ + 4.7049090649258955e-8ϵ⁴ + 1.0935015578052543e-12ϵ³h_Re + 4.1705997332577875e-12ϵ³h_Im + 1.43547996302564e-7ϵ²h_Re² - 2.232832998788311e-10ϵ²h_Reh_Im + 1.434227883430292e-7ϵ²h_Im² + 3.6358549366723195e-13ϵh_Re³ + 6.516195191235538e-12ϵh_Re²h_Im + 5.997618549272884e-13ϵh_Reh_Im² + 6.8556639683648375e-12ϵh_Im³ + 2.2321966454300363e-7h_Re⁴ - 3.832239978426375e-10h_Re³h_Im + 4.461413774909766e-7h_Re²h_Im² - 3.815686684837519e-10h_Reh_Im³ + 2.2292339606633356e-7h_Im⁴ + 3.792456919621175e-6γ₁³ + 1.5581012063891755e-6γ₁²γ₂ + 1.9444007859215974e-6γ₁²γ₃ - 2.741692541295927e-7γ₁²a₁ - 7.73327191672392e-8γ₁²a₂ + 4.623842146656402e-6γ₁²a₃ - 9.386025616870548e-6γ₁²ϵ - 2.03328934062245e-9γ₁²h_Re + 1.3965494626414513e-9γ₁²h_Im + 1.5473533984143058e-6γ₁γ₂² + 5.724236865102853e-7γ₁γ₂γ₃ - 1.4331755027952336e-7γ₁γ₂a₁ - 1.2157757048722201e-7γ₁γ₂a₂ + 1.5985601413064806e-6γ₁γ₂a₃ - 1.5063176596941665e-6γ₁γ₂ϵ - 1.2407634048803656e-9γ₁γ₂h_Re + 9.20678291948075e-10γ₁γ₂h_Im + 2.2909605900822657e-6γ₁γ₃² - 2.25959166450911e-9γ₁γ₃a₁ + 9.065673014154666e-10γ₁γ₃a₂ + 7.226810562061701e-6γ₁γ₃a₃ - 4.506710401869115e-6γ₁γ₃ϵ - 2.04560926358362e-10γ₁γ₃h_Re + 3.100639873097165e-10γ₁γ₃h_Im + 2.1454205983300754e-5γ₁a₁² - 1.5754689802389632e-5γ₁a₁a₂ - 2.426377034956119e-8γ₁a₁a₃ + 1.6346892839029234e-7γ₁a₁ϵ + 1.145936519977547e-5γ₁a₁h_Re + 3.852155544995173e-6γ₁a₁h_Im + 7.009820677977829e-6γ₁a₂² + 3.733957526910638e-9γ₁a₂a₃ + 4.830338906479102e-8γ₁a₂ϵ - 2.7034411146254433e-6γ₁a₂h_Re - 2.0846692548944907e-6γ₁a₂h_Im + 6.60754587358026e-6γ₁a₃² - 9.374695944881004e-6γ₁a₃ϵ - 3.2554852329401795e-9γ₁a₃h_Re + 7.97563473643217e-9γ₁a₃h_Im + 3.349520767980751e-6γ₁ϵ² + 1.6413082529128692e-9γ₁ϵh_Re - 1.1712532471045067e-9γ₁ϵh_Im + 1.1111616510407427e-6γ₁h_Re² + 1.3937671238068217e-6γ₁h_Reh_Im + 1.2286182146344592e-6γ₁h_Im² + 3.579755527704092e-6γ₂³ + 1.8634928448465926e-6γ₂²γ₃ - 1.312834542875657e-7γ₂²a₁ - 2.979703509958838e-7γ₂²a₂ + 4.425376902966303e-6γ₂²a₃ - 9.323896540233632e-6γ₂²ϵ - 2.1803870250384106e-9γ₂²h_Re + 1.2639081162876746e-9γ₂²h_Im + 2.1881486756311614e-6γ₂γ₃² - 3.4605220232996124e-10γ₂γ₃a₁ + 1.974953826370464e-9γ₂γ₃a₂ + 6.889158826431107e-6γ₂γ₃a₃ - 4.486572684015116e-6γ₂γ₃ϵ - 1.7661911093169868e-12γ₂γ₃h_Re + 2.1576224394480623e-10γ₂γ₃h_Im + 6.88589936155412e-6γ₂a₁² + 1.5418496717909812e-5γ₂a₁a₂ - 7.113150203918797e-9γ₂a₁a₃ + 8.863340929286865e-8γ₂a₁ϵ - 2.0908408308212205e-6γ₂a₁h_Re + 2.584304621756165e-6γ₂a₁h_Im + 2.0228798793897086e-5γ₂a₂² + 7.795820270182246e-9γ₂a₂a₃ + 1.3463605702686035e-7γ₂a₂ϵ - 3.501669707981836e-6γ₂a₂h_Re + 1.141118044625168e-5γ₂a₂h_Im + 6.2780439045530785e-6γ₂a₃² - 9.320339615430434e-6γ₂a₃ϵ - 3.2977016334485097e-9γ₂a₃h_Re + 2.9911498550802074e-9γ₂a₃h_Im + 3.1894230465828945e-6γ₂ϵ² + 5.274945491266456e-10γ₂ϵh_Re - 1.0179183515483138e-9γ₂ϵh_Im + 1.1079989326739407e-6γ₂h_Re² - 1.4004573443937073e-6γ₂h_Reh_Im + 1.0615315614695122e-6γ₂h_Im² + 6.5762446006217466e-6γ₃³ - 1.9698324095737793e-9γ₃²a₁ + 6.767878180149019e-10γ₃²a₂ + 2.603769611863203e-5γ₃²a₃ - 8.816855949245518e-6γ₃²ϵ - 3.3504469471295234e-10γ₃²h_Re - 2.4836145692925147e-10γ₃²h_Im + 9.039991078356125e-6γ₃a₁² - 9.223596572042579e-8γ₃a₁a₂ - 6.30057870163564e-9γ₃a₁a₃ + 6.896495960893933e-10γ₃a₁ϵ + 1.3323034273572383e-5γ₃a₁h_Re + 4.793451543369527e-6γ₃a₁h_Im + 8.807202501611908e-6γ₃a₂² + 2.4032038199032288e-9γ₃a₂a₃ - 1.2428989922099724e-9γ₃a₂ϵ - 4.852956871482259e-6γ₃a₂h_Re + 1.3241865286019693e-5γ₃a₂h_Im + 2.9925951981237248e-5γ₃a₃² - 2.6564899559592057e-5γ₃a₃ϵ - 1.4765336203717003e-9γ₃a₃h_Re - 1.550281742229798e-10γ₃a₃h_Im + 2.0908189857925206e-6γ₃ϵ² + 8.258598529821636e-10γ₃ϵh_Re - 8.642544182427732e-11γ₃ϵh_Im + 2.3929266446055795e-6γ₃h_Re² + 2.2582313624227674e-8γ₃h_Reh_Im + 2.3611541229763594e-6γ₃h_Im² - 1.4205376850386757e-7a₁³ - 1.8565456872994173e-7a₁²a₂ + 1.8334453205448008e-5a₁²a₃ - 3.11444779679007e-5a₁²ϵ - 3.698095588264783e-9a₁²h_Re + 6.13497289998043e-10a₁²h_Im - 1.8643635701612784e-7a₁a₂² - 1.77311314538205e-7a₁a₂a₃ + 2.478426328474078e-7a₁a₂ϵ + 6.084866973081519e-10a₁a₂h_Re + 6.64650610306807e-10a₁a₂h_Im - 1.1902672220155872e-8a₁a₃² + 6.731540566223995e-9a₁a₃ϵ + 2.246274669699205e-5a₁a₃h_Re + 4.8648904095517116e-6a₁a₃h_Im - 3.5677969868544345e-8a₁ϵ² - 4.358130868109247e-6a₁ϵh_Re - 1.7731690454189723e-5a₁ϵh_Im - 3.2019103382410906e-9a₁h_Re² + 2.08318400932088e-9a₁h_Reh_Im - 4.564577221065395e-9a₁h_Im² - 1.1151898004748165e-7a₂³ + 1.7866329946077223e-5a₂²a₃ - 3.0914288743125664e-5a₂²ϵ - 3.966982280500389e-9a₂²h_Re + 1.79731341461896e-9a₂²h_Im + 5.763054982607137e-10a₂a₃² - 4.203113526545729e-9a₂a₃ϵ - 5.058317194117651e-6a₂a₃h_Re + 2.2291845141458194e-5a₂a₃h_Im - 1.728245897642653e-8a₂ϵ² + 1.7666000646201303e-5a₂ϵh_Re - 4.150273483526597e-6a₂ϵh_Im - 5.903228802213963e-10a₂h_Re² + 2.551475631981975e-9a₂h_Reh_Im + 2.0946490569316133e-10a₂h_Im² + 1.5711947794877405e-5a₃³ - 2.237729591922516e-5a₃²ϵ - 1.6361389668996204e-9a₃²h_Re + 6.297371255067155e-10a₃²h_Im + 4.254202175817915e-6a₃ϵ² + 3.852345044500174e-9a₃ϵh_Re - 2.502113820707223e-9a₃ϵh_Im + 3.912109285374659e-6a₃h_Re² + 3.406875725961936e-8a₃h_Reh_Im + 3.847868191190087e-6a₃h_Im² - 4.7277232067015976e-6ϵ³ - 5.211149868546798e-10ϵ²h_Re - 1.1145386265800347e-10ϵ²h_Im - 7.217741163623983e-6ϵh_Re² - 3.0801580710300646e-9ϵh_Reh_Im - 7.211407888122744e-6ϵh_Im² - 3.503593914515445e-10h_Re³ + 1.1873535046666511e-11h_Re²h_Im - 3.589999696383082e-10h_Reh_Im² - 9.843259359268505e-13h_Im³ + 0.00011812825128527483γ₁² + 1.867513695229716e-5γ₁γ₂ + 5.69101792161805e-5γ₁γ₃ - 2.058005515819194e-6γ₁a₁ - 5.829504932014359e-7γ₁a₂ + 0.0001183932915022474γ₁a₃ - 8.463030716503143e-5γ₁ϵ - 2.593381134352256e-8γ₁h_Re + 1.7536247597604076e-8γ₁h_Im + 0.00011617763719767434γ₂² + 5.624412667205697e-5γ₂γ₃ - 1.081596954904179e-6γ₂a₁ - 1.6044518068791505e-6γ₂a₂ + 0.000116758379125708γ₂a₃ - 7.844625603532848e-5γ₂ϵ - 8.661802825012605e-9γ₂h_Re + 1.4375495349870291e-8γ₂h_Im + 0.00011134413890442671γ₃² - 1.810861190130848e-8γ₃a₁ + 2.2802320004958078e-8γ₃a₂ + 0.0003340251988731604γ₃a₃ - 5.311479507237202e-5γ₃ϵ - 1.5366287737009848e-8γ₃h_Re + 2.258611095923295e-9γ₃h_Im + 0.0003917355074002437a₁² - 5.184352674454698e-6a₁a₂ - 1.0881600765608182e-7a₁a₃ + 8.975307539654755e-7a₁ϵ + 5.619222626159444e-5a₁h_Re + 0.00022252215585966218a₁h_Im + 0.0003872688498772293a₂² + 6.610531141043402e-8a₂a₃ + 3.996810120852408e-7a₂ϵ - 0.00022171499015778917a₂h_Re + 5.186230226079251e-5a₂h_Im + 0.0002826559698405409a₃² - 0.00010805452852238652a₃ϵ - 5.7152481386151527e-8a₃h_Re + 3.421592506378943e-8a₃h_Im + 0.00017816072359979682ϵ² + 2.415477235823023e-8ϵh_Re - 2.3043308672054145e-9ϵh_Im + 9.078791028093266e-5h_Re² + 2.1684833609702486e-7h_Reh_Im + 9.069799502475155e-5h_Im² + 0.0007127962353801177γ₁ + 0.0006429839133101083γ₂ + 0.00044965903943005854γ₃ - 7.53139606098103e-6a₁ - 3.0648857560720877e-6a₂ + 0.0009150029395276339a₃ - 0.002984125564656174ϵ - 2.9535219595426454e-7h_Re + 6.214173053747581e-8h_Im + 0.01874482996856581, UInt8[0x04 0x03 … 0x00 0x00; 0x00 0x01 … 0x00 0x00; … ; 0x00 0x00 … 0x00 0x00; 0x00 0x00 … 0x01 0x00], [2.311366814059853e-7, 1.0522744114986488e-7, 1.496924956660305e-7, -1.7529413746468977e-8, -4.798572450893505e-9, 3.4704982577158606e-7, -1.4993108861311204e-7, -9.781438289765226e-11, 5.619261804418164e-11, 1.1043907433307101e-7  …  0.0007127962353801177, 0.0006429839133101083, 0.00044965903943005854, -7.53139606098103e-6, -3.0648857560720877e-6, 0.0009150029395276339, -0.002984125564656174, -2.9535219595426454e-7, 6.214173053747581e-8, 0.01874482996856581], UInt8[0x00 0x01 … 0x00 0x00; 0x00 0x00 … 0x00 0x00; … ; 0x00 0x00 … 0x01 0x00; 0x00 0x00 … 0x01 0x02], UInt8[0x00 0x00 … 0x03 0x04; 0x00 0x00 … 0x01 0x00; … ; 0x00 0x00 … 0x00 0x00; 0x00 0x01 … 0x00 0x00], [[1, 2, 3, 4, 5, 6, 7, 8, 9, 10  …  46, 47, 48, 49, 50, 51, 52, 53, 54, 55]], [55], [1], nothing, [[0.9999999999980586 -0.08211279162638048 … -0.0006517353368199974 0.1540685445183468; -0.08211279162638048 0.19437797436394844 … 0.000559696148323945 -0.00699132003186515; … ; -0.0006517353368199974 0.000559696148323945 … 0.0327026506511451 -1.0702232412432653e-5; 0.1540685445183468 -0.00699132003186515 … -1.0702232412432653e-5 0.10083491969559132]], \"Mosek\", MathOptInterface.OPTIMAL, 0.0001, 0))"
      ]
     },
     "metadata": {},
     "output_type": "display_data"
    }
   ],
   "source": [
    "optu,solu,datau = tssos_first(polyGEXY, variables(polyGEXY), TS=\"block\", solution=true)"
   ]
  },
  {
   "cell_type": "code",
   "execution_count": 83,
   "metadata": {},
   "outputs": [
    {
     "data": {
      "text/plain": [
       "2×2 Matrix{Polynomial{true, ComplexF64}}:\n",
       " (0.503248+0.0im)   (-0.0+0.251061im)\n",
       " (-0.0-0.251061im)  (0.000362935+0.0im)"
      ]
     },
     "metadata": {},
     "output_type": "display_data"
    }
   ],
   "source": [
    "solutionu = variables(polyGEXY) => solu\n",
    "\n",
    "Cˢⁱᵈ = subs(Cˢʸᵐᵇ, solutionu)\n",
    "Hˢⁱᵈ = subs(Hˢʸᵐᵇ, solutionu)\n",
    "\n",
    "Cˢⁱᵈ[1:2, 1:2]"
   ]
  },
  {
   "cell_type": "code",
   "execution_count": 93,
   "metadata": {},
   "outputs": [
    {
     "name": "stdout",
     "output_type": "stream",
     "text": [
      "*********************************** TSSOS ***********************************\n",
      "TSSOS is launching...\n",
      "-----------------------------------------------------------------------------\n",
      "The clique sizes of varibles:\n",
      "[9]\n",
      "[1]\n",
      "-----------------------------------------------------------------------------\n",
      "Obtained the variable cliques in 0.000522173 seconds. The maximal size of cliques is 9.\n",
      "Starting to compute the block structure...\n",
      "Obtained the block structure in 0.164351272 seconds.\n",
      "The maximal size of blocks is 715.\n",
      "Assembling the SDP...\n",
      "There are 24310 affine constraints.\n",
      "SDP assembling time: 0.729130296 seconds.\n",
      "Solving the SDP...\n",
      "Problem\n",
      "  Name                   :                 \n",
      "  Objective sense        : maximize        \n",
      "  Type                   : CONIC (conic optimization problem)\n",
      "  Constraints            : 24310           \n",
      "  Affine conic cons.     : 0               \n",
      "  Disjunctive cons.      : 0               \n",
      "  Cones                  : 0               \n",
      "  Scalar variables       : 1               \n",
      "  Matrix variables       : 10 (scalarized: 427735)\n",
      "  Integer variables      : 0               \n",
      "\n",
      "Optimizer started.\n",
      "Presolve started.\n",
      "Linear dependency checker started.\n",
      "Linear dependency checker terminated.\n",
      "Eliminator started.\n",
      "Freed constraints in eliminator : 0\n",
      "Eliminator terminated.\n",
      "Eliminator - tries                  : 1                 time                   : 0.00            \n",
      "Lin. dep.  - tries                  : 1                 time                   : 0.00            \n",
      "Lin. dep.  - primal attempts        : 1                 successes              : 1               \n",
      "Lin. dep.  - dual attempts          : 0                 successes              : 0               \n",
      "Lin. dep.  - primal deps.           : 0                 dual deps.             : 0               \n",
      "Presolve terminated. Time: 0.00    \n",
      "GP based matrix reordering started.\n",
      "GP based matrix reordering terminated.\n",
      "Optimizer  - threads                : 6               \n",
      "Optimizer  - solved problem         : the primal      \n",
      "Optimizer  - Constraints            : 24310           \n",
      "Optimizer  - Cones                  : 1               \n",
      "Optimizer  - Scalar variables       : 2                 conic                  : 2               \n",
      "Optimizer  - Semi-definite variables: 10                scalarized             : 427735          \n",
      "Factor     - setup time             : 8.88            \n",
      "Factor     - dense det. time        : 0.00              GP order time          : 0.01            \n",
      "Factor     - nonzeros before factor : 2.96e+08          after factor           : 2.96e+08        \n",
      "Factor     - dense dim.             : 0                 flops                  : 4.96e+12        \n",
      "ITE PFEAS    DFEAS    GFEAS    PRSTATUS   POBJ              DOBJ              MU       TIME  \n",
      "0   3.5e+00  1.0e+00  1.0e+00  0.00e+00   -0.000000000e+00  -0.000000000e+00  1.0e+00  9.20  \n",
      "1   2.7e+00  7.8e-01  6.4e-01  -4.61e-02  3.196515338e-01   4.093806263e-01   7.8e-01  40.29 \n",
      "2   1.0e+00  3.0e-01  8.4e-02  5.96e-01   3.535288765e+00   3.655090790e+00   3.0e-01  72.21 \n",
      "3   4.1e-01  1.2e-01  1.2e-02  2.00e+00   4.996600882e+00   5.029326492e+00   1.2e-01  104.46\n",
      "4   3.0e-01  8.5e-02  7.1e-03  2.17e+00   4.999178737e+00   5.017143575e+00   8.5e-02  135.57\n",
      "5   1.7e-01  4.8e-02  2.6e-03  2.07e+00   5.027725786e+00   5.034752385e+00   4.8e-02  166.25\n",
      "6   1.1e-01  3.2e-02  1.8e-03  1.14e+00   4.992974924e+00   4.998150406e+00   3.2e-02  198.78\n",
      "7   6.5e-02  1.9e-02  7.8e-04  1.41e+00   4.966500004e+00   4.969257494e+00   1.9e-02  230.08\n",
      "8   2.9e-02  8.4e-03  2.7e-04  1.09e+00   4.928866486e+00   4.930076380e+00   8.4e-03  261.49\n",
      "9   1.3e-02  3.8e-03  1.2e-04  4.54e-01   4.884498831e+00   4.885080029e+00   3.8e-03  293.78\n",
      "10  6.6e-03  1.9e-03  4.6e-05  7.41e-01   4.839680183e+00   4.839971979e+00   1.9e-03  325.11\n",
      "11  2.5e-03  7.3e-04  1.6e-05  4.63e-01   4.788201000e+00   4.788238816e+00   7.3e-04  355.31\n",
      "12  1.1e-03  3.1e-04  6.9e-06  2.28e-01   4.745410174e+00   4.745277100e+00   3.1e-04  387.83\n",
      "13  5.1e-04  1.5e-04  3.0e-06  3.36e-01   4.698617570e+00   4.698443655e+00   1.5e-04  420.24\n",
      "14  2.0e-04  5.8e-05  1.0e-06  2.22e-01   4.640105876e+00   4.639916259e+00   5.8e-05  451.72\n",
      "15  6.4e-05  1.8e-05  3.4e-07  1.55e-01   4.572591642e+00   4.572337147e+00   1.8e-05  481.95\n",
      "16  3.1e-05  8.8e-06  1.5e-07  2.37e-01   4.524211670e+00   4.523955605e+00   8.8e-06  512.41\n",
      "17  9.6e-06  2.8e-06  5.0e-08  7.77e-02   4.450314743e+00   4.450014491e+00   2.8e-06  542.22\n",
      "18  6.5e-06  1.9e-06  3.4e-08  1.86e-01   4.423207173e+00   4.422911701e+00   1.9e-06  573.93\n",
      "19  1.9e-06  5.5e-07  1.0e-08  1.45e-02   4.340920497e+00   4.340576929e+00   5.5e-07  605.23\n",
      "20  7.6e-07  2.2e-07  4.1e-09  2.61e-02   4.264045280e+00   4.263704331e+00   2.2e-07  636.34\n",
      "21  2.5e-07  7.2e-08  1.3e-09  1.20e-01   4.170376075e+00   4.170056871e+00   7.2e-08  666.81\n",
      "22  8.8e-08  2.5e-08  5.0e-10  -2.57e-02  4.083257790e+00   4.082862659e+00   2.5e-08  697.01\n",
      "23  3.6e-08  1.0e-08  1.8e-10  2.87e-01   3.988371796e+00   3.988066565e+00   1.0e-08  728.21\n",
      "24  1.6e-08  3.6e-09  7.0e-11  3.64e-02   3.897129068e+00   3.896740501e+00   3.6e-09  759.03\n",
      "25  7.5e-09  1.9e-09  3.6e-11  1.46e-01   3.828960137e+00   3.828589050e+00   1.9e-09  790.82\n",
      "26  1.6e-09  5.4e-10  1.0e-11  1.40e-01   3.698172234e+00   3.697799065e+00   5.4e-10  822.83\n",
      "27  5.6e-10  1.9e-10  3.8e-12  1.45e-02   3.583016351e+00   3.582590832e+00   1.9e-10  856.07\n",
      "28  2.1e-10  7.2e-11  1.3e-12  1.90e-01   3.457247592e+00   3.456878475e+00   6.8e-11  887.33\n",
      "29  6.6e-11  2.2e-11  4.7e-13  3.96e-02   3.331528626e+00   3.331061140e+00   2.2e-11  919.91\n",
      "30  3.7e-11  1.3e-11  2.5e-13  2.52e-01   3.247985787e+00   3.247573336e+00   1.2e-11  951.64\n",
      "31  1.1e-11  1.1e-11  7.8e-14  7.60e-02   3.097052594e+00   3.096585499e+00   3.6e-12  984.98\n",
      "32  7.1e-12  1.4e-11  5.1e-14  1.51e-01   3.040351458e+00   3.039888909e+00   2.4e-12  1017.96\n",
      "33  2.4e-12  1.1e-11  1.8e-14  4.12e-02   2.894453936e+00   2.893950053e+00   8.1e-13  1050.23\n",
      "34  1.7e-12  9.2e-12  1.3e-14  1.92e-01   2.841328930e+00   2.840853548e+00   5.8e-13  1082.83\n",
      "35  5.5e-13  1.3e-11  4.1e-15  8.20e-02   2.675504726e+00   2.675005152e+00   1.8e-13  1116.11\n",
      "36  3.4e-13  7.3e-12  2.6e-15  1.00e-01   2.605771616e+00   2.605245654e+00   1.1e-13  1148.82\n",
      "37  1.2e-13  2.0e-11  9.7e-16  4.11e-02   2.450048874e+00   2.449499332e+00   4.1e-14  1182.39\n",
      "38  9.6e-14  2.0e-11  7.4e-16  2.27e-01   2.405519220e+00   2.404986146e+00   3.2e-14  1214.39\n",
      "39  4.0e-14  9.4e-12  3.2e-16  6.23e-02   2.268238237e+00   2.267660518e+00   1.3e-14  1247.31\n",
      "40  2.8e-14  8.3e-12  2.1e-16  1.98e-01   2.199580336e+00   2.199041789e+00   9.0e-15  1279.01\n",
      "41  9.7e-15  7.4e-12  7.5e-17  9.05e-02   2.027954492e+00   2.027409688e+00   3.1e-15  1311.79\n",
      "42  7.3e-15  5.8e-12  5.6e-17  2.12e-01   1.977960663e+00   1.977431731e+00   2.4e-15  1345.63\n",
      "43  2.7e-15  1.1e-11  2.2e-17  5.53e-02   1.819048954e+00   1.818463214e+00   8.8e-16  1378.48\n",
      "44  1.7e-15  9.0e-12  1.3e-17  2.02e-01   1.731848515e+00   1.731312518e+00   5.5e-16  1410.08\n",
      "45  2.5e-15  6.9e-12  4.1e-18  1.84e-01   1.534601735e+00   1.534136512e+00   1.8e-16  1443.45\n",
      "46  2.0e-15  1.5e-12  3.3e-18  1.91e-01   1.494958229e+00   1.494493246e+00   1.5e-16  1476.44\n",
      "47  7.8e-16  5.1e-12  1.3e-18  5.55e-02   1.332843578e+00   1.332338399e+00   5.6e-17  1508.79\n",
      "48  1.6e-15  7.6e-12  6.7e-19  3.04e-01   1.230507774e+00   1.230143369e+00   3.4e-17  1541.34\n",
      "49  1.4e-15  7.6e-12  6.1e-19  1.47e-01   1.215317478e+00   1.214956640e+00   3.2e-17  1574.82\n",
      "50  1.4e-15  6.2e-12  5.9e-19  1.43e-01   1.210635099e+00   1.210275106e+00   3.1e-17  1608.17\n",
      "51  1.4e-15  5.1e-12  5.9e-19  1.46e-01   1.210174409e+00   1.209814433e+00   3.1e-17  1641.01\n",
      "52  1.3e-15  3.9e-12  5.7e-19  1.42e-01   1.203579184e+00   1.203219774e+00   3.0e-17  1673.81\n",
      "53  1.3e-15  4.3e-12  5.7e-19  1.45e-01   1.202428082e+00   1.202068874e+00   2.9e-17  1707.42\n",
      "54  1.3e-15  2.8e-12  5.7e-19  1.84e-01   1.202317314e+00   1.201958136e+00   2.9e-17  1740.07\n",
      "55  1.3e-15  3.1e-12  5.7e-19  1.52e-01   1.202325352e+00   1.201966178e+00   2.9e-17  1773.92\n",
      "56  1.3e-15  3.2e-12  5.7e-19  1.94e-01   1.202256526e+00   1.201897387e+00   2.9e-17  1807.54\n",
      "57  1.3e-15  2.4e-12  5.7e-19  1.48e-01   1.202264608e+00   1.201905468e+00   2.9e-17  1840.50\n",
      "58  1.3e-15  1.6e-12  5.7e-19  1.72e-01   1.201951797e+00   1.201592770e+00   2.9e-17  1872.50\n",
      "59  1.2e-15  1.7e-12  5.2e-19  1.43e-01   1.186959507e+00   1.186603318e+00   2.7e-17  1906.31\n",
      "60  8.8e-16  1.8e-12  3.7e-19  1.44e-01   1.132511107e+00   1.132167978e+00   2.0e-17  1939.79\n",
      "61  9.7e-16  1.6e-12  3.1e-19  6.75e-01   1.104244523e+00   1.103928731e+00   1.7e-17  1972.30\n",
      "62  2.0e-15  1.8e-12  2.1e-19  -7.34e-01  1.103722179e+00   1.103478210e+00   1.5e-17  2005.14\n",
      "63  2.0e-15  1.8e-12  2.1e-19  -7.34e-01  1.103722179e+00   1.103478210e+00   1.5e-17  2039.70\n",
      "64  9.8e-15  1.1e-12  1.3e-19  8.15e-01   1.095773263e+00   1.095590965e+00   1.3e-17  2072.90\n",
      "65  9.8e-15  1.1e-12  1.3e-19  8.15e-01   1.095773263e+00   1.095590965e+00   1.3e-17  2107.11\n",
      "66  9.2e-15  1.0e-12  1.3e-19  9.07e-01   1.094990720e+00   1.094809285e+00   1.2e-17  2140.55\n",
      "67  1.1e-14  1.1e-12  1.3e-19  8.81e-01   1.094493082e+00   1.094312171e+00   1.2e-17  2174.28\n",
      "68  1.2e-14  1.9e-12  1.3e-19  8.61e-01   1.094191679e+00   1.094011095e+00   1.2e-17  2208.53\n",
      "69  1.3e-14  2.3e-12  1.3e-19  8.81e-01   1.094067115e+00   1.093886663e+00   1.2e-17  2242.60\n",
      "70  1.3e-14  1.5e-12  1.3e-19  8.96e-01   1.094039717e+00   1.093859294e+00   1.2e-17  2276.12\n",
      "71  1.3e-14  1.2e-12  1.3e-19  9.07e-01   1.094027204e+00   1.093846795e+00   1.2e-17  2310.46\n",
      "72  1.3e-14  1.1e-12  1.3e-19  8.81e-01   1.094026717e+00   1.093846308e+00   1.2e-17  2345.15\n",
      "73  1.3e-14  1.1e-12  1.3e-19  8.81e-01   1.094026717e+00   1.093846308e+00   1.2e-17  2380.06\n",
      "74  1.3e-14  1.5e-12  1.3e-19  9.30e-01   1.093971382e+00   1.093791071e+00   1.2e-17  2415.13\n",
      "75  1.3e-14  1.4e-12  1.3e-19  9.27e-01   1.093943609e+00   1.093763347e+00   1.2e-17  2450.67\n",
      "76  1.3e-14  1.1e-12  1.3e-19  9.33e-01   1.093930025e+00   1.093749786e+00   1.2e-17  2486.07\n",
      "77  1.3e-14  1.1e-12  1.3e-19  9.30e-01   1.093929809e+00   1.093749570e+00   1.2e-17  2522.25\n",
      "78  1.3e-14  1.2e-12  1.3e-19  9.27e-01   1.093929754e+00   1.093749516e+00   1.2e-17  2557.00\n",
      "79  1.3e-14  1.2e-12  1.3e-19  9.30e-01   1.093929700e+00   1.093749462e+00   1.2e-17  2594.29\n",
      "80  1.3e-14  1.2e-12  1.3e-19  9.30e-01   1.093929700e+00   1.093749462e+00   1.2e-17  2630.95\n",
      "81  1.3e-14  1.3e-12  1.3e-19  9.74e-01   1.093928028e+00   1.093747797e+00   1.2e-17  2665.07\n",
      "82  1.3e-14  1.3e-12  1.3e-19  9.75e-01   1.093927976e+00   1.093747745e+00   1.2e-17  2700.88\n",
      "83  1.3e-14  1.3e-12  1.3e-19  9.75e-01   1.093927976e+00   1.093747745e+00   1.2e-17  2736.33\n",
      "84  1.3e-14  1.6e-12  1.3e-19  9.93e-01   1.093927957e+00   1.093747726e+00   1.2e-17  2772.92\n",
      "Optimizer terminated. Time: 2807.79 \n",
      "\n",
      "SDP solving time: 2808.048056671 seconds.\n",
      "termination status: SLOW_PROGRESS\n",
      "solution status: UNKNOWN_RESULT_STATUS\n",
      "optimum = 1.0939279566941167\n",
      "Found a locally optimal solution by Ipopt, giving an upper bound: 0.00020426.\n",
      "The relative optimality gap is: 109.372369%.\n"
     ]
    },
    {
     "data": {
      "text/plain": [
       "(1.0939279566941167, [0.09854608038241999, 0.16457074850058304, 0.2629789798030374, 1.7060967898490654e-6, -1.281669530326873e-6, -0.2546975685814659, 25.145640511647958, 0.00046712162974767434, -0.00024718663483926876], TSSOS.mcpop_data(9, 0, 8, 0, Vector{Vector{UInt16}}[[[], [0x0001], [0x0001, 0x0001], [0x0001, 0x0001, 0x0001], [0x0001, 0x0001, 0x0001, 0x0001], [0x0001, 0x0001, 0x0001, 0x0001, 0x0001], [0x0001, 0x0001, 0x0001, 0x0001, 0x0002], [0x0001, 0x0001, 0x0001, 0x0001, 0x0003], [0x0001, 0x0001, 0x0001, 0x0001, 0x0004], [0x0001, 0x0001, 0x0001, 0x0001, 0x0005]  …  [0x0008, 0x0008, 0x0009, 0x0009, 0x0009], [0x0008, 0x0009], [0x0008, 0x0009, 0x0009], [0x0008, 0x0009, 0x0009, 0x0009], [0x0008, 0x0009, 0x0009, 0x0009, 0x0009], [0x0009], [0x0009, 0x0009], [0x0009, 0x0009, 0x0009], [0x0009, 0x0009, 0x0009, 0x0009], [0x0009, 0x0009, 0x0009, 0x0009, 0x0009]], [[0x0001], [0x0002], [0x0003]], [[0x0001], [0x0002], [0x0003]], [[0x0001], [0x0002], [0x0003]], [[0x0001]], [[0x0002]], [[0x0003]], [[0x0001, 0x0001], [0x0001, 0x0002], [0x0001, 0x0003], [0x0002, 0x0002], [0x0002, 0x0003], [0x0003, 0x0003], [0x0004, 0x0004], [0x0005, 0x0005], [0x0006, 0x0006]], [[0x0001, 0x0001, 0x0001], [0x0001, 0x0001, 0x0002], [0x0001, 0x0001, 0x0003], [0x0001, 0x0002, 0x0002], [0x0001, 0x0002, 0x0003], [0x0001, 0x0003, 0x0003], [0x0001, 0x0004, 0x0004], [0x0001, 0x0005, 0x0005], [0x0001, 0x0006, 0x0006], [0x0002, 0x0002, 0x0002], [0x0002, 0x0002, 0x0003], [0x0002, 0x0003, 0x0003], [0x0002, 0x0004, 0x0004], [0x0002, 0x0005, 0x0005], [0x0002, 0x0006, 0x0006], [0x0003, 0x0003, 0x0003], [0x0003, 0x0004, 0x0004], [0x0003, 0x0005, 0x0005], [0x0003, 0x0006, 0x0006]]], [[5.4879696036331, 0.08811915390090777, 0.012219841129143491, -3.608196897882606e-5, 1.2055994085535357e-7, -8.13952566869222e-10, -4.0283578919797e-10, -4.3059158692845883e-10, 1.1644367656941207e-10, 2.9295873643391763e-11  …  -3.779323985416654e-17, -1.0046143867442024e-5, 2.879410644459494e-10, 9.910792417490692e-12, 4.046941964227266e-17, 2.378471952562957e-5, 0.03357058154720737, -1.622469263022192e-10, 6.767539547788142e-10, -1.8999236558414245e-17], [-1.0, 1.0, 1.0], [1.0, -1.0, 1.0], [1.0, 1.0, -1.0], [1.0], [1.0], [1.0], [-1.0, 2.0, 2.0, -1.0, 2.0, -1.0, -1.0, -1.0, -1.0], [-1.0, 1.0, 1.0, 1.0, -2.0, 1.0, 1.0, -1.0, -1.0, -1.0, 1.0, 1.0, -1.0, 1.0, -1.0, -1.0, -1.0, -1.0, 1.0]], Vector{Vector{Vector{UInt16}}}[[[[], [0x0001], [0x0002], [0x0003], [0x0004], [0x0005], [0x0006], [0x0007], [0x0008], [0x0009]  …  [0x0008, 0x0008, 0x0009, 0x0009], [0x0001, 0x0009, 0x0009, 0x0009], [0x0002, 0x0009, 0x0009, 0x0009], [0x0003, 0x0009, 0x0009, 0x0009], [0x0004, 0x0009, 0x0009, 0x0009], [0x0005, 0x0009, 0x0009, 0x0009], [0x0006, 0x0009, 0x0009, 0x0009], [0x0007, 0x0009, 0x0009, 0x0009], [0x0008, 0x0009, 0x0009, 0x0009], [0x0009, 0x0009, 0x0009, 0x0009]], [[], [0x0001], [0x0002], [0x0003], [0x0004], [0x0005], [0x0006], [0x0007], [0x0008], [0x0009]  …  [0x0008, 0x0008, 0x0009], [0x0001, 0x0009, 0x0009], [0x0002, 0x0009, 0x0009], [0x0003, 0x0009, 0x0009], [0x0004, 0x0009, 0x0009], [0x0005, 0x0009, 0x0009], [0x0006, 0x0009, 0x0009], [0x0007, 0x0009, 0x0009], [0x0008, 0x0009, 0x0009], [0x0009, 0x0009, 0x0009]], [[], [0x0001], [0x0002], [0x0003], [0x0004], [0x0005], [0x0006], [0x0007], [0x0008], [0x0009]  …  [0x0008, 0x0008, 0x0009], [0x0001, 0x0009, 0x0009], [0x0002, 0x0009, 0x0009], [0x0003, 0x0009, 0x0009], [0x0004, 0x0009, 0x0009], [0x0005, 0x0009, 0x0009], [0x0006, 0x0009, 0x0009], [0x0007, 0x0009, 0x0009], [0x0008, 0x0009, 0x0009], [0x0009, 0x0009, 0x0009]], [[], [0x0001], [0x0002], [0x0003], [0x0004], [0x0005], [0x0006], [0x0007], [0x0008], [0x0009]  …  [0x0008, 0x0008, 0x0009], [0x0001, 0x0009, 0x0009], [0x0002, 0x0009, 0x0009], [0x0003, 0x0009, 0x0009], [0x0004, 0x0009, 0x0009], [0x0005, 0x0009, 0x0009], [0x0006, 0x0009, 0x0009], [0x0007, 0x0009, 0x0009], [0x0008, 0x0009, 0x0009], [0x0009, 0x0009, 0x0009]], [[], [0x0001], [0x0002], [0x0003], [0x0004], [0x0005], [0x0006], [0x0007], [0x0008], [0x0009]  …  [0x0008, 0x0008, 0x0009], [0x0001, 0x0009, 0x0009], [0x0002, 0x0009, 0x0009], [0x0003, 0x0009, 0x0009], [0x0004, 0x0009, 0x0009], [0x0005, 0x0009, 0x0009], [0x0006, 0x0009, 0x0009], [0x0007, 0x0009, 0x0009], [0x0008, 0x0009, 0x0009], [0x0009, 0x0009, 0x0009]], [[], [0x0001], [0x0002], [0x0003], [0x0004], [0x0005], [0x0006], [0x0007], [0x0008], [0x0009]  …  [0x0008, 0x0008, 0x0009], [0x0001, 0x0009, 0x0009], [0x0002, 0x0009, 0x0009], [0x0003, 0x0009, 0x0009], [0x0004, 0x0009, 0x0009], [0x0005, 0x0009, 0x0009], [0x0006, 0x0009, 0x0009], [0x0007, 0x0009, 0x0009], [0x0008, 0x0009, 0x0009], [0x0009, 0x0009, 0x0009]], [[], [0x0001], [0x0002], [0x0003], [0x0004], [0x0005], [0x0006], [0x0007], [0x0008], [0x0009]  …  [0x0008, 0x0008, 0x0009], [0x0001, 0x0009, 0x0009], [0x0002, 0x0009, 0x0009], [0x0003, 0x0009, 0x0009], [0x0004, 0x0009, 0x0009], [0x0005, 0x0009, 0x0009], [0x0006, 0x0009, 0x0009], [0x0007, 0x0009, 0x0009], [0x0008, 0x0009, 0x0009], [0x0009, 0x0009, 0x0009]], [[], [0x0001], [0x0002], [0x0003], [0x0004], [0x0005], [0x0006], [0x0007], [0x0008], [0x0009]  …  [0x0008, 0x0008, 0x0009], [0x0001, 0x0009, 0x0009], [0x0002, 0x0009, 0x0009], [0x0003, 0x0009, 0x0009], [0x0004, 0x0009, 0x0009], [0x0005, 0x0009, 0x0009], [0x0006, 0x0009, 0x0009], [0x0007, 0x0009, 0x0009], [0x0008, 0x0009, 0x0009], [0x0009, 0x0009, 0x0009]], [[], [0x0001], [0x0002], [0x0003], [0x0004], [0x0005], [0x0006], [0x0007], [0x0008], [0x0009]  …  [0x0008, 0x0008], [0x0001, 0x0009], [0x0002, 0x0009], [0x0003, 0x0009], [0x0004, 0x0009], [0x0005, 0x0009], [0x0006, 0x0009], [0x0007, 0x0009], [0x0008, 0x0009], [0x0009, 0x0009]]]], Vector{Vector{Vector{UInt16}}}[[]], Vector{UInt16}[[], [0x0001], [0x0001, 0x0001], [0x0001, 0x0001, 0x0001], [0x0001, 0x0001, 0x0001, 0x0001], [0x0001, 0x0001, 0x0001, 0x0001, 0x0001], [0x0001, 0x0001, 0x0001, 0x0001, 0x0001, 0x0001], [0x0001, 0x0001, 0x0001, 0x0001, 0x0001, 0x0001, 0x0001], [0x0001, 0x0001, 0x0001, 0x0001, 0x0001, 0x0001, 0x0001, 0x0001], [0x0001, 0x0001, 0x0001, 0x0001, 0x0001, 0x0001, 0x0001, 0x0002]  …  [0x0008, 0x0009, 0x0009, 0x0009, 0x0009, 0x0009, 0x0009], [0x0008, 0x0009, 0x0009, 0x0009, 0x0009, 0x0009, 0x0009, 0x0009], [0x0009], [0x0009, 0x0009], [0x0009, 0x0009, 0x0009], [0x0009, 0x0009, 0x0009, 0x0009], [0x0009, 0x0009, 0x0009, 0x0009, 0x0009], [0x0009, 0x0009, 0x0009, 0x0009, 0x0009, 0x0009], [0x0009, 0x0009, 0x0009, 0x0009, 0x0009, 0x0009, 0x0009], [0x0009, 0x0009, 0x0009, 0x0009, 0x0009, 0x0009, 0x0009, 0x0009]], 1, [9], Vector{UInt16}[[0x0001, 0x0002, 0x0003, 0x0004, 0x0005, 0x0006, 0x0007, 0x0008, 0x0009]], Vector{UInt32}[[0x00000001, 0x00000002, 0x00000003, 0x00000004, 0x00000005, 0x00000006, 0x00000007, 0x00000008]], Vector{UInt32}[[]], UInt32[], Vector{UInt16}[[0x02cb]], Vector{UInt16}[[0x0001]], Vector{UInt16}[[0x0001, 0x0001, 0x0001, 0x0001, 0x0001, 0x0001, 0x0001, 0x0001, 0x0001]], Vector{Vector{UInt16}}[[[0x02cb], [0x00dc], [0x00dc], [0x00dc], [0x00dc], [0x00dc], [0x00dc], [0x00dc], [0x0037]]], Vector{Vector{Vector{UInt16}}}[[[[0x0001, 0x0002, 0x0003, 0x0004, 0x0005, 0x0006, 0x0007, 0x0008, 0x0009, 0x000a  …  0x02c2, 0x02c3, 0x02c4, 0x02c5, 0x02c6, 0x02c7, 0x02c8, 0x02c9, 0x02ca, 0x02cb]], [[0x0001, 0x0002, 0x0003, 0x0004, 0x0005, 0x0006, 0x0007, 0x0008, 0x0009, 0x000a  …  0x00d3, 0x00d4, 0x00d5, 0x00d6, 0x00d7, 0x00d8, 0x00d9, 0x00da, 0x00db, 0x00dc]], [[0x0001, 0x0002, 0x0003, 0x0004, 0x0005, 0x0006, 0x0007, 0x0008, 0x0009, 0x000a  …  0x00d3, 0x00d4, 0x00d5, 0x00d6, 0x00d7, 0x00d8, 0x00d9, 0x00da, 0x00db, 0x00dc]], [[0x0001, 0x0002, 0x0003, 0x0004, 0x0005, 0x0006, 0x0007, 0x0008, 0x0009, 0x000a  …  0x00d3, 0x00d4, 0x00d5, 0x00d6, 0x00d7, 0x00d8, 0x00d9, 0x00da, 0x00db, 0x00dc]], [[0x0001, 0x0002, 0x0003, 0x0004, 0x0005, 0x0006, 0x0007, 0x0008, 0x0009, 0x000a  …  0x00d3, 0x00d4, 0x00d5, 0x00d6, 0x00d7, 0x00d8, 0x00d9, 0x00da, 0x00db, 0x00dc]], [[0x0001, 0x0002, 0x0003, 0x0004, 0x0005, 0x0006, 0x0007, 0x0008, 0x0009, 0x000a  …  0x00d3, 0x00d4, 0x00d5, 0x00d6, 0x00d7, 0x00d8, 0x00d9, 0x00da, 0x00db, 0x00dc]], [[0x0001, 0x0002, 0x0003, 0x0004, 0x0005, 0x0006, 0x0007, 0x0008, 0x0009, 0x000a  …  0x00d3, 0x00d4, 0x00d5, 0x00d6, 0x00d7, 0x00d8, 0x00d9, 0x00da, 0x00db, 0x00dc]], [[0x0001, 0x0002, 0x0003, 0x0004, 0x0005, 0x0006, 0x0007, 0x0008, 0x0009, 0x000a  …  0x00d3, 0x00d4, 0x00d5, 0x00d6, 0x00d7, 0x00d8, 0x00d9, 0x00da, 0x00db, 0x00dc]], [[0x0001, 0x0002, 0x0003, 0x0004, 0x0005, 0x0006, 0x0007, 0x0008, 0x0009, 0x000a  …  0x002e, 0x002f, 0x0030, 0x0031, 0x0032, 0x0033, 0x0034, 0x0035, 0x0036, 0x0037]]]], Vector{Vector{UInt16}}[[]], nothing, Union{Float64, Symmetric{Float64, S} where S<:(AbstractMatrix{<:Float64}), Matrix{Float64}}[[0.9999999999482213 0.11778833194714292 … 0.0026535512102608566 -0.003474720632809728; 0.11778833194714292 0.6327011154540578 … 0.000648611405149815 -0.0007953789452981035; … ; 0.0026535512102608566 0.000648611405149815 … 0.472973669747029 -4.4365056378324984e-7; -0.003474720632809728 -0.0007953789452981035 … -4.4365056378324984e-7 0.47324281963399467]], \"Mosek\", MathOptInterface.SLOW_PROGRESS, 0.0001, 1))"
      ]
     },
     "metadata": {},
     "output_type": "display_data"
    }
   ],
   "source": [
    "opt,sol,data = cs_tssos_first([polyGEXY, constraints...], variables(polyGEXY), 4, solution=true)#, mosek_setting=settings)"
   ]
  },
  {
   "cell_type": "code",
   "execution_count": 94,
   "metadata": {},
   "outputs": [
    {
     "data": {
      "text/plain": [
       "2×2 Matrix{Polynomial{true, ComplexF64}}:\n",
       " (0.329004+0.0im)   (-0.0+0.254698im)\n",
       " (-0.0-0.254698im)  (0.196954+0.0im)"
      ]
     },
     "metadata": {},
     "output_type": "display_data"
    }
   ],
   "source": [
    "solution = variables(polyGEXY) => sol\n",
    "\n",
    "Cˢⁱᵈ = subs(Cˢʸᵐᵇ, solution)\n",
    "\n",
    "Cˢⁱᵈ[1:2, 1:2]"
   ]
  },
  {
   "cell_type": "code",
   "execution_count": 95,
   "metadata": {},
   "outputs": [
    {
     "data": {
      "text/plain": [
       "2×2 Matrix{Polynomial{true, ComplexF64}}:\n",
       " (12.5728+0.0im)              (0.000233561-0.000123593im)\n",
       " (0.000233561+0.000123593im)  (-12.5728+0.0im)"
      ]
     },
     "metadata": {},
     "output_type": "display_data"
    }
   ],
   "source": [
    "Hˢⁱᵈ = subs(Hˢʸᵐᵇ, solution)\n",
    "\n",
    "Hˢⁱᵈ"
   ]
  },
  {
   "cell_type": "code",
   "execution_count": 49,
   "metadata": {},
   "outputs": [
    {
     "data": {
      "text/latex": [
       "$$ 2.872746631549239e-8 $$"
      ],
      "text/plain": [
       "2.872746631549239e-8"
      ]
     },
     "metadata": {},
     "output_type": "display_data"
    }
   ],
   "source": [
    "subs(polyGEXY, solution)"
   ]
  },
  {
   "cell_type": "code",
   "execution_count": 50,
   "metadata": {},
   "outputs": [],
   "source": [
    "using BlackBoxOptim"
   ]
  },
  {
   "cell_type": "code",
   "execution_count": 96,
   "metadata": {},
   "outputs": [
    {
     "name": "stdout",
     "output_type": "stream",
     "text": [
      "Starting optimization with optimizer DiffEvoOpt{FitPopulation{Float64}, SimpleSelector, BlackBoxOptim.AdaptiveDiffEvoRandBin{3}, RandomBound{ContinuousRectSearchSpace}}\n",
      "0.00 secs, 0 evals, 0 steps\n",
      "0.50 secs, 6159 evals, 6045 steps, improv/step: 0.354 (last = 0.3543), fitness=-5050483.425158635\n",
      "1.00 secs, 12969 evals, 12855 steps, improv/step: 0.356 (last = 0.3577), fitness=-5054314.154284848\n",
      "1.50 secs, 19749 evals, 19635 steps, improv/step: 0.353 (last = 0.3476), fitness=-5054314.703397568\n",
      "2.00 secs, 26470 evals, 26370 steps, improv/step: 0.354 (last = 0.3580), fitness=-5054314.703483351\n",
      "2.50 secs, 33235 evals, 33844 steps, improv/step: 0.364 (last = 0.3972), fitness=-5054314.703483362\n",
      "3.00 secs, 40020 evals, 41483 steps, improv/step: 0.398 (last = 0.5510), fitness=-5054314.703483362\n",
      "3.50 secs, 46557 evals, 48954 steps, improv/step: 0.410 (last = 0.4748), fitness=-5054314.703483362\n",
      "4.00 secs, 53271 evals, 56666 steps, improv/step: 0.418 (last = 0.4719), fitness=-5054314.703483362\n",
      "4.50 secs, 59707 evals, 64043 steps, improv/step: 0.427 (last = 0.4949), fitness=-5054314.703483362\n",
      "5.00 secs, 66372 evals, 71644 steps, improv/step: 0.432 (last = 0.4740), fitness=-5054314.703483362\n",
      "5.50 secs, 73207 evals, 79499 steps, improv/step: 0.432 (last = 0.4292), fitness=-5054314.703483362\n",
      "6.00 secs, 80098 evals, 87367 steps, improv/step: 0.441 (last = 0.5278), fitness=-5054314.703483362\n",
      "6.50 secs, 86617 evals, 94843 steps, improv/step: 0.439 (last = 0.4260), fitness=-5054314.703483362\n",
      "7.00 secs, 93221 evals, 102384 steps, improv/step: 0.445 (last = 0.5158), fitness=-5054314.703483362\n",
      "7.50 secs, 99898 evals, 110105 steps, improv/step: 0.448 (last = 0.4812), fitness=-5054314.703483362\n",
      "8.00 secs, 106279 evals, 117375 steps, improv/step: 0.450 (last = 0.4905), fitness=-5054314.703483362\n",
      "8.50 secs, 113271 evals, 125358 steps, improv/step: 0.453 (last = 0.4905), fitness=-5054314.703483362\n",
      "9.00 secs, 119796 evals, 132802 steps, improv/step: 0.457 (last = 0.5320), fitness=-5054314.703483362\n",
      "9.50 secs, 126440 evals, 140340 steps, improv/step: 0.461 (last = 0.5329), fitness=-5054314.703483362\n",
      "10.00 secs, 132978 evals, 147796 steps, improv/step: 0.463 (last = 0.4996), fitness=-5054314.703483362\n",
      "10.50 secs, 139577 evals, 155245 steps, improv/step: 0.466 (last = 0.5253), fitness=-5054314.703483362\n",
      "11.00 secs, 146056 evals, 162663 steps, improv/step: 0.464 (last = 0.4240), fitness=-5054314.703483362\n",
      "11.50 secs, 152636 evals, 170150 steps, improv/step: 0.465 (last = 0.4872), fitness=-5054314.703483362\n",
      "12.00 secs, 159560 evals, 178099 steps, improv/step: 0.466 (last = 0.4748), fitness=-5054314.703483362\n",
      "12.50 secs, 166462 evals, 185928 steps, improv/step: 0.469 (last = 0.5328), fitness=-5054314.703483362\n",
      "13.00 secs, 172945 evals, 193326 steps, improv/step: 0.470 (last = 0.5064), fitness=-5054314.703483362\n",
      "13.50 secs, 179785 evals, 201140 steps, improv/step: 0.470 (last = 0.4649), fitness=-5054314.703483362\n",
      "14.00 secs, 186352 evals, 208612 steps, improv/step: 0.472 (last = 0.5237), fitness=-5054314.703483362\n",
      "14.50 secs, 192894 evals, 216133 steps, improv/step: 0.471 (last = 0.4453), fitness=-5054314.703483362\n",
      "15.00 secs, 199614 evals, 223807 steps, improv/step: 0.471 (last = 0.4747), fitness=-5054314.703483362\n",
      "15.50 secs, 206085 evals, 231231 steps, improv/step: 0.470 (last = 0.4574), fitness=-5054314.703483362\n",
      "16.00 secs, 213039 evals, 239145 steps, improv/step: 0.472 (last = 0.5107), fitness=-5054314.703483362\n",
      "16.50 secs, 219861 evals, 246900 steps, improv/step: 0.474 (last = 0.5480), fitness=-5054314.703483362\n",
      "17.00 secs, 226595 evals, 254540 steps, improv/step: 0.476 (last = 0.5369), fitness=-5054314.703483362\n",
      "17.50 secs, 233362 evals, 262293 steps, improv/step: 0.477 (last = 0.4926), fitness=-5054314.703483362\n",
      "18.00 secs, 240162 evals, 270093 steps, improv/step: 0.476 (last = 0.4588), fitness=-5054314.703483362\n",
      "18.50 secs, 246896 evals, 277804 steps, improv/step: 0.476 (last = 0.4901), fitness=-5054314.703483362\n",
      "19.00 secs, 253272 evals, 285069 steps, improv/step: 0.477 (last = 0.5140), fitness=-5054314.703483362\n",
      "19.50 secs, 259947 evals, 292683 steps, improv/step: 0.478 (last = 0.5056), fitness=-5054314.703483362\n",
      "20.00 secs, 266814 evals, 300412 steps, improv/step: 0.480 (last = 0.5457), fitness=-5054314.703483362\n",
      "20.50 secs, 273560 evals, 308053 steps, improv/step: 0.481 (last = 0.5337), fitness=-5054314.703483362\n",
      "21.00 secs, 279873 evals, 315225 steps, improv/step: 0.482 (last = 0.5184), fitness=-5054314.703483362\n",
      "21.50 secs, 286632 evals, 322907 steps, improv/step: 0.483 (last = 0.5194), fitness=-5054314.703483362\n",
      "22.00 secs, 293112 evals, 330294 steps, improv/step: 0.484 (last = 0.5114), fitness=-5054314.703483362\n",
      "22.50 secs, 299680 evals, 337747 steps, improv/step: 0.485 (last = 0.5348), fitness=-5054314.703483362\n",
      "23.00 secs, 306375 evals, 345397 steps, improv/step: 0.486 (last = 0.5371), fitness=-5054314.703483362\n",
      "23.50 secs, 313203 evals, 353141 steps, improv/step: 0.487 (last = 0.5145), fitness=-5054314.703483362\n",
      "24.00 secs, 319969 evals, 360830 steps, improv/step: 0.487 (last = 0.4941), fitness=-5054314.703483362\n",
      "24.50 secs, 326880 evals, 368696 steps, improv/step: 0.487 (last = 0.5031), fitness=-5054314.703483362\n",
      "\n",
      "Optimization stopped after 376159 steps and 25.00 seconds\n",
      "Termination reason: Max time (25.0 s) reached\n",
      "Steps per second = 15046.32\n",
      "Function evals per second = 13339.25\n",
      "Improvements/step = Inf\n",
      "Total function evaluations = 333482\n",
      "\n",
      "\n",
      "Best candidate found: [260.0, 260.0, 260.0, 260.0, 260.0, 260.0, -260.0, -260.0, 260.0]\n",
      "\n",
      "Fitness: -5054314.703483362\n",
      "\n",
      "Starting optimization with optimizer DiffEvoOpt{FitPopulation{Float64}, RadiusLimitedSelector, BlackBoxOptim.AdaptiveDiffEvoRandBin{3}, RandomBound{ContinuousRectSearchSpace}}\n",
      "0.00 secs, 0 evals, 0 steps\n",
      "0.50 secs, 6647 evals, 6553 steps, improv/step: 0.356 (last = 0.3556), fitness=-5067131.395709725\n",
      "1.00 secs, 13308 evals, 13216 steps, improv/step: 0.363 (last = 0.3709), fitness=-5067468.267247537\n",
      "1.50 secs, 20036 evals, 19944 steps, improv/step: 0.362 (last = 0.3585), fitness=-5067468.327545054\n",
      "2.00 secs, 26364 evals, 26336 steps, improv/step: 0.363 (last = 0.3653), fitness=-5067468.327559355\n",
      "2.50 secs, 33000 evals, 33701 steps, improv/step: 0.411 (last = 0.5832), fitness=-5067468.327559356\n",
      "3.00 secs, 39730 evals, 41230 steps, improv/step: 0.462 (last = 0.6912), fitness=-5067468.327559356\n",
      "3.50 secs, 46418 evals, 48774 steps, improv/step: 0.493 (last = 0.6649), fitness=-5067468.327559356\n",
      "4.00 secs, 53322 evals, 56530 steps, improv/step: 0.519 (last = 0.6815), fitness=-5067468.327559356\n",
      "4.50 secs, 60236 evals, 64294 steps, improv/step: 0.539 (last = 0.6841), fitness=-5067468.327559356\n",
      "5.00 secs, 67167 evals, 72101 steps, improv/step: 0.552 (last = 0.6598), fitness=-5067468.327559356\n",
      "5.50 secs, 73669 evals, 79388 steps, improv/step: 0.563 (last = 0.6738), fitness=-5067468.327559356\n",
      "6.00 secs, 80461 evals, 86983 steps, improv/step: 0.574 (last = 0.6826), fitness=-5067468.327559356\n",
      "6.50 secs, 87287 evals, 94688 steps, improv/step: 0.579 (last = 0.6410), fitness=-5067468.327559356\n",
      "7.00 secs, 94224 evals, 102433 steps, improv/step: 0.586 (last = 0.6691), fitness=-5067468.327559356\n",
      "7.50 secs, 101219 evals, 110364 steps, improv/step: 0.588 (last = 0.6202), fitness=-5067468.327559356\n",
      "8.00 secs, 108241 evals, 118231 steps, improv/step: 0.594 (last = 0.6783), fitness=-5067468.327559356\n",
      "8.50 secs, 115227 evals, 126068 steps, improv/step: 0.600 (last = 0.6842), fitness=-5067468.327559356\n",
      "9.00 secs, 121668 evals, 133264 steps, improv/step: 0.604 (last = 0.6680), fitness=-5067468.327559356\n",
      "9.50 secs, 128307 evals, 140711 steps, improv/step: 0.608 (last = 0.6765), fitness=-5067468.327559356\n",
      "10.00 secs, 134917 evals, 148060 steps, improv/step: 0.613 (last = 0.7080), fitness=-5067468.327559356\n",
      "10.50 secs, 141570 evals, 155540 steps, improv/step: 0.615 (last = 0.6729), fitness=-5067468.327559356\n",
      "11.00 secs, 148117 evals, 162896 steps, improv/step: 0.619 (last = 0.6856), fitness=-5067468.327559356\n",
      "11.50 secs, 154683 evals, 170201 steps, improv/step: 0.622 (last = 0.7013), fitness=-5067468.327559356\n",
      "12.00 secs, 161225 evals, 177595 steps, improv/step: 0.623 (last = 0.6385), fitness=-5067468.327559356\n",
      "12.50 secs, 167733 evals, 184887 steps, improv/step: 0.625 (last = 0.6740), fitness=-5067468.327559356\n",
      "13.00 secs, 174463 evals, 192483 steps, improv/step: 0.626 (last = 0.6585), fitness=-5067468.327559356\n",
      "13.50 secs, 181237 evals, 200117 steps, improv/step: 0.628 (last = 0.6685), fitness=-5067468.327559356\n",
      "14.00 secs, 188073 evals, 207881 steps, improv/step: 0.629 (last = 0.6650), fitness=-5067468.327559356\n",
      "14.50 secs, 194579 evals, 215213 steps, improv/step: 0.631 (last = 0.6785), fitness=-5067468.327559356\n",
      "15.00 secs, 200965 evals, 222374 steps, improv/step: 0.633 (last = 0.6932), fitness=-5067468.327559356\n",
      "15.50 secs, 207454 evals, 229665 steps, improv/step: 0.634 (last = 0.6730), fitness=-5067468.327559356\n",
      "16.00 secs, 214063 evals, 237092 steps, improv/step: 0.636 (last = 0.6781), fitness=-5067468.327559356\n",
      "16.50 secs, 220599 evals, 244505 steps, improv/step: 0.636 (last = 0.6545), fitness=-5067468.327559356\n",
      "17.00 secs, 227446 evals, 252146 steps, improv/step: 0.637 (last = 0.6689), fitness=-5067468.327559356\n",
      "17.50 secs, 234225 evals, 259812 steps, improv/step: 0.638 (last = 0.6683), fitness=-5067468.327559356\n",
      "18.00 secs, 241255 evals, 267711 steps, improv/step: 0.639 (last = 0.6800), fitness=-5067468.327559356\n",
      "18.50 secs, 248136 evals, 275452 steps, improv/step: 0.641 (last = 0.6845), fitness=-5067468.327559356\n",
      "19.00 secs, 254872 evals, 283083 steps, improv/step: 0.641 (last = 0.6573), fitness=-5067468.327559356\n",
      "19.50 secs, 261742 evals, 290843 steps, improv/step: 0.642 (last = 0.6738), fitness=-5067468.327559356\n",
      "20.00 secs, 268611 evals, 298579 steps, improv/step: 0.643 (last = 0.6677), fitness=-5067468.327559356\n",
      "20.50 secs, 275337 evals, 306105 steps, improv/step: 0.643 (last = 0.6794), fitness=-5067468.327559356\n",
      "21.00 secs, 281663 evals, 313185 steps, improv/step: 0.644 (last = 0.6812), fitness=-5067468.327559356\n",
      "21.50 secs, 288373 evals, 320759 steps, improv/step: 0.645 (last = 0.6660), fitness=-5067468.327559356\n",
      "22.00 secs, 294963 evals, 328130 steps, improv/step: 0.646 (last = 0.6867), fitness=-5067468.327559356\n",
      "22.50 secs, 301882 evals, 335955 steps, improv/step: 0.646 (last = 0.6530), fitness=-5067468.327559356\n",
      "23.00 secs, 308860 evals, 343818 steps, improv/step: 0.647 (last = 0.6758), fitness=-5067468.327559356\n",
      "23.50 secs, 315854 evals, 351674 steps, improv/step: 0.647 (last = 0.6564), fitness=-5067468.327559356\n",
      "24.01 secs, 322632 evals, 359277 steps, improv/step: 0.647 (last = 0.6646), fitness=-5067468.327559356\n",
      "24.51 secs, 329457 evals, 366937 steps, improv/step: 0.648 (last = 0.6658), fitness=-5067468.327559356\n",
      "\n",
      "Optimization stopped after 374386 steps and 25.00 seconds\n",
      "Termination reason: Max time (25.0 s) reached\n",
      "Steps per second = 14975.41\n",
      "Function evals per second = 13441.65\n",
      "Improvements/step = Inf\n",
      "Total function evaluations = 336042\n",
      "\n",
      "\n",
      "Best candidate found: [260.0, 260.0, 260.0, -260.0, 260.0, 260.0, -260.0, -260.0, -260.0]\n",
      "\n",
      "Fitness: -5067468.327559356\n",
      "\n",
      "Starting optimization with optimizer DiffEvoOpt{FitPopulation{Float64}, SimpleSelector, BlackBoxOptim.DiffEvoRandBin{3}, RandomBound{ContinuousRectSearchSpace}}\n",
      "0.00 secs, 0 evals, 0 steps\n",
      "0.50 secs, 7347 evals, 7259 steps, improv/step: 0.344 (last = 0.3437), fitness=-5064270.658742003\n",
      "1.00 secs, 14552 evals, 14464 steps, improv/step: 0.348 (last = 0.3518), fitness=-5064442.305023726\n",
      "1.50 secs, 21407 evals, 21319 steps, improv/step: 0.351 (last = 0.3586), fitness=-5064442.308612051\n",
      "2.00 secs, 28133 evals, 28076 steps, improv/step: 0.354 (last = 0.3639), fitness=-5064442.308612223\n",
      "2.50 secs, 35079 evals, 35126 steps, improv/step: 0.352 (last = 0.3434), fitness=-5064442.308612223\n",
      "3.00 secs, 41987 evals, 42128 steps, improv/step: 0.364 (last = 0.4207), fitness=-5064442.308612223\n",
      "3.50 secs, 48516 evals, 48767 steps, improv/step: 0.372 (last = 0.4270), fitness=-5064442.308612223\n",
      "4.00 secs, 55496 evals, 55846 steps, improv/step: 0.381 (last = 0.4416), fitness=-5064442.308612223\n",
      "4.50 secs, 62480 evals, 62927 steps, improv/step: 0.383 (last = 0.4026), fitness=-5064442.308612223\n",
      "5.00 secs, 69573 evals, 70116 steps, improv/step: 0.384 (last = 0.3930), fitness=-5064442.308612223\n",
      "5.50 secs, 76419 evals, 77050 steps, improv/step: 0.385 (last = 0.3914), fitness=-5064442.308612223\n",
      "6.00 secs, 83355 evals, 84100 steps, improv/step: 0.389 (last = 0.4374), fitness=-5064442.308612223\n",
      "6.50 secs, 90254 evals, 91097 steps, improv/step: 0.390 (last = 0.3970), fitness=-5064442.308612223\n",
      "7.00 secs, 97240 evals, 98180 steps, improv/step: 0.389 (last = 0.3740), fitness=-5064442.308612223\n",
      "7.50 secs, 103967 evals, 104992 steps, improv/step: 0.388 (last = 0.3804), fitness=-5064442.308612223\n",
      "8.00 secs, 110970 evals, 112109 steps, improv/step: 0.390 (last = 0.4191), fitness=-5064442.308612223\n",
      "8.50 secs, 118145 evals, 119393 steps, improv/step: 0.389 (last = 0.3736), fitness=-5064442.308612223\n",
      "9.00 secs, 125060 evals, 126385 steps, improv/step: 0.388 (last = 0.3744), fitness=-5064442.308612223\n",
      "9.50 secs, 131912 evals, 133331 steps, improv/step: 0.392 (last = 0.4634), fitness=-5064442.308612223\n",
      "10.00 secs, 138681 evals, 140197 steps, improv/step: 0.392 (last = 0.3867), fitness=-5064442.308612223\n",
      "10.50 secs, 145353 evals, 146992 steps, improv/step: 0.394 (last = 0.4308), fitness=-5064442.308612223\n",
      "11.00 secs, 152239 evals, 153952 steps, improv/step: 0.396 (last = 0.4381), fitness=-5064442.308612223\n",
      "11.50 secs, 159454 evals, 161272 steps, improv/step: 0.395 (last = 0.3790), fitness=-5064442.308612223\n",
      "12.00 secs, 166631 evals, 168538 steps, improv/step: 0.394 (last = 0.3673), fitness=-5064442.308612223\n",
      "12.50 secs, 173773 evals, 175787 steps, improv/step: 0.394 (last = 0.3856), fitness=-5064442.308612223\n",
      "13.00 secs, 180732 evals, 182836 steps, improv/step: 0.393 (last = 0.3748), fitness=-5064442.308612223\n",
      "13.50 secs, 187659 evals, 189873 steps, improv/step: 0.394 (last = 0.4152), fitness=-5064442.308612223\n",
      "14.00 secs, 194359 evals, 196662 steps, improv/step: 0.393 (last = 0.3725), fitness=-5064442.308612223\n",
      "14.50 secs, 201189 evals, 203590 steps, improv/step: 0.393 (last = 0.4037), fitness=-5064442.308612223\n",
      "15.00 secs, 208265 evals, 210746 steps, improv/step: 0.393 (last = 0.3731), fitness=-5064442.308612223\n",
      "15.50 secs, 215398 evals, 217987 steps, improv/step: 0.393 (last = 0.4082), fitness=-5064442.308612223\n",
      "16.00 secs, 222073 evals, 224775 steps, improv/step: 0.393 (last = 0.3870), fitness=-5064442.308612223\n",
      "16.50 secs, 229018 evals, 231812 steps, improv/step: 0.393 (last = 0.3891), fitness=-5064442.308612223\n",
      "17.00 secs, 236057 evals, 238939 steps, improv/step: 0.393 (last = 0.3853), fitness=-5064442.308612223\n",
      "17.50 secs, 243019 evals, 245978 steps, improv/step: 0.392 (last = 0.3874), fitness=-5064442.308612223\n",
      "18.00 secs, 249765 evals, 252818 steps, improv/step: 0.392 (last = 0.3848), fitness=-5064442.308612223\n",
      "18.50 secs, 256796 evals, 259962 steps, improv/step: 0.394 (last = 0.4432), fitness=-5064442.308612223\n",
      "19.00 secs, 263924 evals, 267200 steps, improv/step: 0.395 (last = 0.4312), fitness=-5064442.308612223\n",
      "19.50 secs, 270969 evals, 274332 steps, improv/step: 0.395 (last = 0.3909), fitness=-5064442.308612223\n",
      "20.00 secs, 277927 evals, 281398 steps, improv/step: 0.396 (last = 0.4335), fitness=-5064442.308612223\n",
      "20.50 secs, 284961 evals, 288516 steps, improv/step: 0.395 (last = 0.3790), fitness=-5064442.308612223\n",
      "21.00 secs, 291968 evals, 295633 steps, improv/step: 0.396 (last = 0.4134), fitness=-5064442.308612223\n",
      "21.50 secs, 298853 evals, 302627 steps, improv/step: 0.397 (last = 0.4631), fitness=-5064442.308612223\n",
      "22.00 secs, 305722 evals, 309597 steps, improv/step: 0.398 (last = 0.4400), fitness=-5064442.308612223\n",
      "22.50 secs, 312758 evals, 316724 steps, improv/step: 0.398 (last = 0.3791), fitness=-5064442.308612223\n",
      "23.00 secs, 319722 evals, 323788 steps, improv/step: 0.397 (last = 0.3746), fitness=-5064442.308612223\n",
      "23.50 secs, 326784 evals, 330946 steps, improv/step: 0.398 (last = 0.4381), fitness=-5064442.308612223\n",
      "24.00 secs, 333710 evals, 337964 steps, improv/step: 0.398 (last = 0.3834), fitness=-5064442.308612223\n",
      "24.50 secs, 340580 evals, 344928 steps, improv/step: 0.397 (last = 0.3629), fitness=-5064442.308612223\n",
      "\n",
      "Optimization stopped after 351566 steps and 25.00 seconds\n",
      "Termination reason: Max time (25.0 s) reached\n",
      "Steps per second = 14062.63\n",
      "Function evals per second = 13885.55\n",
      "Improvements/step = Inf\n",
      "Total function evaluations = 347139\n",
      "\n",
      "\n",
      "Best candidate found: [260.0, 260.0, 260.0, -260.0, -260.0, 260.0, -260.0, 260.0, -260.0]\n",
      "\n",
      "Fitness: -5064442.308612223\n",
      "\n",
      "Starting optimization with optimizer DiffEvoOpt{FitPopulation{Float64}, RadiusLimitedSelector, BlackBoxOptim.DiffEvoRandBin{3}, RandomBound{ContinuousRectSearchSpace}}\n",
      "0.00 secs, 0 evals, 0 steps\n",
      "0.50 secs, 6978 evals, 6896 steps, improv/step: 0.319 (last = 0.3195), fitness=-5067770.837209024\n",
      "1.00 secs, 13859 evals, 13777 steps, improv/step: 0.343 (last = 0.3675), fitness=-5068410.950856500\n",
      "1.50 secs, 20750 evals, 20668 steps, improv/step: 0.350 (last = 0.3642), fitness=-5068410.971730261\n",
      "2.00 secs, 27799 evals, 27759 steps, improv/step: 0.391 (last = 0.5088), fitness=-5068410.971730918\n",
      "2.50 secs, 34559 evals, 34674 steps, improv/step: 0.456 (last = 0.7196), fitness=-5068410.971730919\n",
      "\n",
      "Optimization stopped after 36781 steps and 2.58 seconds\n",
      "Termination reason: Too many steps (101) without any function evaluations (probably search has converged)\n",
      "Steps per second = 14259.84\n",
      "Function evals per second = 13800.03\n",
      "Improvements/step = Inf\n",
      "Total function evaluations = 35595\n",
      "\n",
      "\n",
      "Best candidate found: [260.0, 260.0, 260.0, 260.0, -260.0, 260.0, -260.0, 260.0, 260.0]\n",
      "\n",
      "Fitness: -5068410.971730919\n",
      "\n",
      "Starting optimization with optimizer DiffEvoOpt{FitPopulation{Float64}, SimpleSelector, BlackBoxOptim.DiffEvoRandBin{5}, RandomBound{ContinuousRectSearchSpace}}\n",
      "0.00 secs, 0 evals, 0 steps\n",
      "0.50 secs, 6836 evals, 6743 steps, improv/step: 0.262 (last = 0.2619), fitness=-5063805.487451108\n",
      "1.00 secs, 13423 evals, 13330 steps, improv/step: 0.268 (last = 0.2736), fitness=-5068407.593189544\n",
      "1.50 secs, 20419 evals, 20326 steps, improv/step: 0.270 (last = 0.2752), fitness=-5068410.970796233\n",
      "2.00 secs, 27363 evals, 27270 steps, improv/step: 0.273 (last = 0.2810), fitness=-5068410.971730556\n",
      "2.50 secs, 34368 evals, 34289 steps, improv/step: 0.286 (last = 0.3347), fitness=-5068410.971730918\n",
      "3.00 secs, 41229 evals, 41251 steps, improv/step: 0.330 (last = 0.5475), fitness=-5068410.971730919\n",
      "\n",
      "Optimization stopped after 48244 steps and 3.45 seconds\n",
      "Termination reason: Too many steps (101) without any function evaluations (probably search has converged)\n",
      "Steps per second = 13968.81\n",
      "Function evals per second = 13749.62\n",
      "Improvements/step = Inf\n",
      "Total function evaluations = 47487\n",
      "\n",
      "\n",
      "Best candidate found: [260.0, 260.0, 260.0, 260.0, -260.0, 260.0, -260.0, 260.0, 260.0]\n",
      "\n",
      "Fitness: -5068410.971730919\n",
      "\n",
      "Starting optimization with optimizer DiffEvoOpt{FitPopulation{Float64}, RadiusLimitedSelector, BlackBoxOptim.DiffEvoRandBin{5}, RandomBound{ContinuousRectSearchSpace}}\n",
      "0.00 secs, 0 evals, 0 steps\n",
      "0.50 secs, 6885 evals, 6791 steps, improv/step: 0.273 (last = 0.2733), fitness=-5066703.260273643\n",
      "1.00 secs, 13792 evals, 13698 steps, improv/step: 0.281 (last = 0.2893), fitness=-5067468.134686075\n",
      "1.50 secs, 20582 evals, 20488 steps, improv/step: 0.286 (last = 0.2943), fitness=-5067468.327490977\n",
      "2.00 secs, 27517 evals, 27423 steps, improv/step: 0.289 (last = 0.2973), fitness=-5067468.327559349\n",
      "2.50 secs, 34468 evals, 34425 steps, improv/step: 0.319 (last = 0.4386), fitness=-5067468.327559356\n",
      "3.00 secs, 41385 evals, 41408 steps, improv/step: 0.354 (last = 0.5274), fitness=-5067468.327559356\n",
      "3.50 secs, 48539 evals, 48639 steps, improv/step: 0.379 (last = 0.5218), fitness=-5067468.327559356\n",
      "4.00 secs, 55680 evals, 55844 steps, improv/step: 0.399 (last = 0.5302), fitness=-5067468.327559356\n",
      "4.50 secs, 62688 evals, 62921 steps, improv/step: 0.413 (last = 0.5283), fitness=-5067468.327559356\n",
      "5.00 secs, 69461 evals, 69757 steps, improv/step: 0.425 (last = 0.5336), fitness=-5067468.327559356\n",
      "5.50 secs, 76581 evals, 76968 steps, improv/step: 0.434 (last = 0.5238), fitness=-5067468.327559356\n",
      "6.00 secs, 83550 evals, 83997 steps, improv/step: 0.441 (last = 0.5102), fitness=-5067468.327559356\n",
      "6.50 secs, 90613 evals, 91132 steps, improv/step: 0.447 (last = 0.5242), fitness=-5067468.327559356\n",
      "7.00 secs, 97635 evals, 98220 steps, improv/step: 0.453 (last = 0.5334), fitness=-5067468.327559356\n",
      "7.50 secs, 104723 evals, 105378 steps, improv/step: 0.460 (last = 0.5486), fitness=-5067468.327559356\n",
      "8.00 secs, 111845 evals, 112579 steps, improv/step: 0.463 (last = 0.5135), fitness=-5067468.327559356\n",
      "8.50 secs, 119012 evals, 119829 steps, improv/step: 0.467 (last = 0.5215), fitness=-5067468.327559356\n",
      "9.00 secs, 125808 evals, 126695 steps, improv/step: 0.470 (last = 0.5237), fitness=-5067468.327559356\n",
      "9.50 secs, 132875 evals, 133857 steps, improv/step: 0.473 (last = 0.5335), fitness=-5067468.327559356\n",
      "10.00 secs, 139935 evals, 140992 steps, improv/step: 0.475 (last = 0.5088), fitness=-5067468.327559356\n",
      "10.50 secs, 146958 evals, 148085 steps, improv/step: 0.478 (last = 0.5403), fitness=-5067468.327559356\n",
      "11.00 secs, 153942 evals, 155155 steps, improv/step: 0.482 (last = 0.5518), fitness=-5067468.327559356\n",
      "11.50 secs, 161058 evals, 162351 steps, improv/step: 0.483 (last = 0.5196), fitness=-5067468.327559356\n",
      "12.00 secs, 167971 evals, 169328 steps, improv/step: 0.485 (last = 0.5226), fitness=-5067468.327559356\n",
      "12.50 secs, 174782 evals, 176216 steps, improv/step: 0.487 (last = 0.5301), fitness=-5067468.327559356\n",
      "13.00 secs, 181908 evals, 183428 steps, improv/step: 0.489 (last = 0.5534), fitness=-5067468.327559356\n",
      "13.50 secs, 188624 evals, 190205 steps, improv/step: 0.490 (last = 0.5234), fitness=-5067468.327559356\n",
      "14.00 secs, 195313 evals, 196971 steps, improv/step: 0.492 (last = 0.5336), fitness=-5067468.327559356\n",
      "14.50 secs, 202104 evals, 203831 steps, improv/step: 0.493 (last = 0.5114), fitness=-5067468.327559356\n",
      "15.00 secs, 208917 evals, 210713 steps, improv/step: 0.494 (last = 0.5295), fitness=-5067468.327559356\n",
      "15.50 secs, 216190 evals, 218041 steps, improv/step: 0.494 (last = 0.5018), fitness=-5067468.327559356\n",
      "16.00 secs, 223010 evals, 224936 steps, improv/step: 0.495 (last = 0.5117), fitness=-5067468.327559356\n",
      "16.50 secs, 229503 evals, 231494 steps, improv/step: 0.495 (last = 0.5124), fitness=-5067468.327559356\n",
      "17.00 secs, 236383 evals, 238464 steps, improv/step: 0.497 (last = 0.5438), fitness=-5067468.327559356\n",
      "17.50 secs, 243251 evals, 245404 steps, improv/step: 0.498 (last = 0.5412), fitness=-5067468.327559356\n",
      "18.00 secs, 249925 evals, 252164 steps, improv/step: 0.499 (last = 0.5507), fitness=-5067468.327559356\n",
      "18.50 secs, 256925 evals, 259239 steps, improv/step: 0.500 (last = 0.5135), fitness=-5067468.327559356\n",
      "19.00 secs, 263692 evals, 266088 steps, improv/step: 0.500 (last = 0.5208), fitness=-5067468.327559356\n",
      "19.50 secs, 271060 evals, 273539 steps, improv/step: 0.500 (last = 0.5042), fitness=-5067468.327559356\n",
      "20.00 secs, 278392 evals, 280946 steps, improv/step: 0.501 (last = 0.5450), fitness=-5067468.327559356\n",
      "20.50 secs, 285590 evals, 288228 steps, improv/step: 0.501 (last = 0.4968), fitness=-5067468.327559356\n",
      "21.00 secs, 292955 evals, 295656 steps, improv/step: 0.502 (last = 0.5353), fitness=-5067468.327559356\n",
      "21.50 secs, 300217 evals, 303005 steps, improv/step: 0.502 (last = 0.5141), fitness=-5067468.327559356\n",
      "22.00 secs, 307560 evals, 310422 steps, improv/step: 0.503 (last = 0.5250), fitness=-5067468.327559356\n",
      "22.50 secs, 314818 evals, 317765 steps, improv/step: 0.503 (last = 0.4926), fitness=-5067468.327559356\n",
      "23.00 secs, 322055 evals, 325079 steps, improv/step: 0.503 (last = 0.5230), fitness=-5067468.327559356\n",
      "23.50 secs, 329368 evals, 332474 steps, improv/step: 0.504 (last = 0.5487), fitness=-5067468.327559356\n",
      "24.00 secs, 336363 evals, 339557 steps, improv/step: 0.505 (last = 0.5433), fitness=-5067468.327559356\n",
      "24.50 secs, 343708 evals, 346979 steps, improv/step: 0.506 (last = 0.5261), fitness=-5067468.327559356\n",
      "\n",
      "Optimization stopped after 354440 steps and 25.00 seconds\n",
      "Termination reason: Max time (25.0 s) reached\n",
      "Steps per second = 14177.56\n",
      "Function evals per second = 14043.76\n",
      "Improvements/step = Inf\n",
      "Total function evaluations = 351095\n",
      "\n",
      "\n",
      "Best candidate found: [260.0, 260.0, 260.0, -260.0, 260.0, 260.0, -260.0, -260.0, -260.0]\n",
      "\n",
      "Fitness: -5067468.327559356\n",
      "\n",
      "Starting optimization with optimizer BlackBoxOptim.DXNESOpt{Float64, RandomBound{ContinuousRectSearchSpace}}\n",
      "0.00 secs, 0 evals, 0 steps\n",
      "σ=1.0 η[x]=1.0 η[σ]=0.0 η[B]=0.0 |tr(ln_B)|=0.0 |path|=NaN speed=NaN\n",
      "0.50 secs, 6740 evals, 674 steps, fitness=-5026562.765184810\n",
      "σ=72.08650342836009 η[x]=1.0 η[σ]=1.3571428571428572 η[B]=0.03676470588235294 |tr(ln_B)|=1.6653345369377348e-16 |path|=NaN speed=NaN\n",
      "1.00 secs, 13340 evals, 1334 steps, fitness=-5026562.765184810\n",
      "σ=7.962362117415494 η[x]=1.0 η[σ]=1.3571428571428572 η[B]=0.03676470588235294 |tr(ln_B)|=1.3322676295501878e-15 |path|=NaN speed=NaN\n",
      "1.50 secs, 19980 evals, 1998 steps, fitness=-5026562.765184810\n",
      "σ=1.2300262689294956 η[x]=1.0 η[σ]=1.3571428571428572 η[B]=0.03676470588235294 |tr(ln_B)|=1.5543122344752192e-15 |path|=NaN speed=NaN\n",
      "2.00 secs, 26580 evals, 2658 steps, fitness=-5026562.765184810\n",
      "σ=0.32455940153688223 η[x]=1.0 η[σ]=1.3571428571428572 η[B]=0.03676470588235294 |tr(ln_B)|=3.4416913763379853e-15 |path|=NaN speed=NaN\n",
      "2.50 secs, 32960 evals, 3296 steps, fitness=-5026562.765184810\n",
      "σ=0.9235347263939534 η[x]=1.0 η[σ]=1.3571428571428572 η[B]=0.03676470588235294 |tr(ln_B)|=3.6637359812630166e-15 |path|=NaN speed=NaN\n",
      "3.00 secs, 39780 evals, 3978 steps, fitness=-5026562.765184810\n",
      "σ=4.171380827295025 η[x]=1.0 η[σ]=1.3571428571428572 η[B]=0.03676470588235294 |tr(ln_B)|=1.4988010832439613e-15 |path|=NaN speed=NaN\n",
      "3.50 secs, 46500 evals, 4650 steps, fitness=-5026562.765184810\n",
      "σ=0.19721188410448637 η[x]=1.0 η[σ]=1.3571428571428572 η[B]=0.03676470588235294 |tr(ln_B)|=4.440892098500626e-15 |path|=NaN speed=NaN\n",
      "4.00 secs, 53040 evals, 5304 steps, fitness=-5026562.765184810\n",
      "σ=0.06118861541399791 η[x]=1.0 η[σ]=1.3571428571428572 η[B]=0.03676470588235294 |tr(ln_B)|=3.989863994746656e-15 |path|=NaN speed=NaN\n",
      "4.50 secs, 59710 evals, 5971 steps, fitness=-5026562.765184810\n",
      "σ=0.3354022213042778 η[x]=1.0 η[σ]=1.3571428571428572 η[B]=0.03676470588235294 |tr(ln_B)|=2.4702462297909733e-15 |path|=NaN speed=NaN\n",
      "5.00 secs, 66360 evals, 6636 steps, fitness=-5026562.765184810\n",
      "σ=0.13159874263054494 η[x]=1.0 η[σ]=1.3571428571428572 η[B]=0.03676470588235294 |tr(ln_B)|=1.4710455076283324e-15 |path|=NaN speed=NaN\n",
      "5.50 secs, 72980 evals, 7298 steps, fitness=-5026562.765184810\n",
      "σ=0.04230956901563025 η[x]=1.0 η[σ]=1.3571428571428572 η[B]=0.03676470588235294 |tr(ln_B)|=2.4338170367954604e-15 |path|=NaN speed=NaN\n",
      "6.00 secs, 79590 evals, 7959 steps, fitness=-5026562.765184810\n",
      "σ=0.000643192713246349 η[x]=1.0 η[σ]=1.3571428571428572 η[B]=0.03676470588235294 |tr(ln_B)|=1.8318679906315083e-15 |path|=NaN speed=NaN\n",
      "6.50 secs, 85950 evals, 8595 steps, fitness=-5026562.765184810\n",
      "σ=0.0006987346789128074 η[x]=1.0 η[σ]=1.3571428571428572 η[B]=0.03676470588235294 |tr(ln_B)|=2.3314683517128287e-15 |path|=NaN speed=NaN\n",
      "7.00 secs, 92700 evals, 9270 steps, fitness=-5026562.765184810\n",
      "σ=0.0011226834091006522 η[x]=1.0 η[σ]=1.3571428571428572 η[B]=0.03676470588235294 |tr(ln_B)|=4.468647674116255e-15 |path|=NaN speed=NaN\n",
      "7.51 secs, 99370 evals, 9937 steps, fitness=-5026562.765184810\n",
      "σ=0.0004478287559641371 η[x]=1.0 η[σ]=1.3571428571428572 η[B]=0.03676470588235294 |tr(ln_B)|=5.287437154777308e-15 |path|=NaN speed=NaN\n",
      "8.01 secs, 106010 evals, 10601 steps, fitness=-5026562.765184810\n",
      "σ=0.0025992531447011614 η[x]=1.0 η[σ]=1.3571428571428572 η[B]=0.03676470588235294 |tr(ln_B)|=6.6058269965196814e-15 |path|=NaN speed=NaN\n",
      "8.51 secs, 112620 evals, 11262 steps, fitness=-5026562.765184810\n",
      "σ=0.0010378927728105299 η[x]=1.0 η[σ]=1.3571428571428572 η[B]=0.03676470588235294 |tr(ln_B)|=7.327471962526033e-15 |path|=NaN speed=NaN\n",
      "9.01 secs, 119280 evals, 11928 steps, fitness=-5026562.765184810\n",
      "σ=0.0005603144305541866 η[x]=1.0 η[σ]=1.3571428571428572 η[B]=0.03676470588235294 |tr(ln_B)|=6.217248937900877e-15 |path|=NaN speed=NaN\n",
      "9.51 secs, 126020 evals, 12602 steps, fitness=-5026562.765184810\n",
      "σ=8.255437516241015e-6 η[x]=1.0 η[σ]=1.3571428571428572 η[B]=0.03676470588235294 |tr(ln_B)|=6.994405055138486e-15 |path|=NaN speed=NaN\n",
      "10.01 secs, 132430 evals, 13243 steps, fitness=-5026562.765184810\n",
      "σ=1.1235861303657762e-6 η[x]=1.0 η[σ]=1.3571428571428572 η[B]=0.03676470588235294 |tr(ln_B)|=8.215650382226158e-15 |path|=NaN speed=NaN\n",
      "10.51 secs, 138630 evals, 13863 steps, fitness=-5026562.765184810\n",
      "σ=2.3605241072054394e-6 η[x]=1.0 η[σ]=1.3571428571428572 η[B]=0.03676470588235294 |tr(ln_B)|=1.1324274851176597e-14 |path|=NaN speed=NaN\n",
      "11.01 secs, 145090 evals, 14509 steps, fitness=-5026562.765184810\n",
      "σ=7.312182426724431e-7 η[x]=1.0 η[σ]=1.3571428571428572 η[B]=0.03676470588235294 |tr(ln_B)|=9.103828801926284e-15 |path|=NaN speed=NaN\n",
      "11.51 secs, 151670 evals, 15167 steps, fitness=-5026562.765184810\n",
      "σ=2.5829731337481644e-7 η[x]=1.0 η[σ]=1.3571428571428572 η[B]=0.03676470588235294 |tr(ln_B)|=9.325873406851315e-15 |path|=NaN speed=NaN\n",
      "12.01 secs, 158220 evals, 15822 steps, fitness=-5026562.765184810\n",
      "σ=1.877925145993193e-9 η[x]=1.0 η[σ]=1.3571428571428572 η[B]=0.03676470588235294 |tr(ln_B)|=5.10702591327572e-15 |path|=NaN speed=NaN\n",
      "12.51 secs, 164600 evals, 16460 steps, fitness=-5026562.765184810\n",
      "σ=9.570365913903774e-12 η[x]=1.0 η[σ]=1.3571428571428572 η[B]=0.03676470588235294 |tr(ln_B)|=1.2878587085651816e-14 |path|=NaN speed=NaN\n",
      "13.01 secs, 170990 evals, 17099 steps, fitness=-5026562.765184810\n",
      "σ=2.477220873230458e-12 η[x]=1.0 η[σ]=1.3571428571428572 η[B]=0.03676470588235294 |tr(ln_B)|=1.7208456881689926e-14 |path|=NaN speed=NaN\n",
      "13.51 secs, 177640 evals, 17764 steps, fitness=-5026562.765184810\n",
      "σ=1.4621173810244064e-14 η[x]=1.0 η[σ]=1.3571428571428572 η[B]=0.03676470588235294 |tr(ln_B)|=1.554312234475219e-14 |path|=NaN speed=NaN\n",
      "14.01 secs, 183970 evals, 18397 steps, fitness=-5026562.765184810\n",
      "σ=4.088372270905191e-17 η[x]=1.0 η[σ]=1.3571428571428572 η[B]=0.03676470588235294 |tr(ln_B)|=8.43769498715119e-15 |path|=NaN speed=NaN\n",
      "14.51 secs, 190840 evals, 19084 steps, fitness=-5026562.765184810\n",
      "σ=1.5978911181242088e-19 η[x]=1.0 η[σ]=1.3571428571428572 η[B]=0.03676470588235294 |tr(ln_B)|=1.1546319456101628e-14 |path|=NaN speed=NaN\n",
      "15.01 secs, 197610 evals, 19761 steps, fitness=-5026562.765184810\n",
      "σ=4.271583746690412e-20 η[x]=1.0 η[σ]=1.3571428571428572 η[B]=0.03676470588235294 |tr(ln_B)|=1.3100631690576847e-14 |path|=NaN speed=NaN\n",
      "15.51 secs, 204280 evals, 20428 steps, fitness=-5026562.765184810\n",
      "σ=8.664281079128465e-20 η[x]=1.0 η[σ]=1.3571428571428572 η[B]=0.03676470588235294 |tr(ln_B)|=7.327471962526033e-15 |path|=NaN speed=NaN\n",
      "16.01 secs, 210820 evals, 21082 steps, fitness=-5026562.765184810\n",
      "σ=3.121284090309957e-20 η[x]=1.0 η[σ]=1.3571428571428572 η[B]=0.03676470588235294 |tr(ln_B)|=1.1546319456101628e-14 |path|=NaN speed=NaN\n",
      "16.51 secs, 217360 evals, 21736 steps, fitness=-5026562.765184810\n",
      "σ=3.373247556099982e-19 η[x]=1.0 η[σ]=1.3571428571428572 η[B]=0.03676470588235294 |tr(ln_B)|=3.4416913763379853e-15 |path|=NaN speed=NaN\n",
      "17.01 secs, 223950 evals, 22395 steps, fitness=-5026562.765184810\n",
      "σ=3.088094992767159e-19 η[x]=1.0 η[σ]=1.3571428571428572 η[B]=0.03676470588235294 |tr(ln_B)|=7.049916206369744e-15 |path|=NaN speed=NaN\n",
      "17.51 secs, 230080 evals, 23008 steps, fitness=-5026562.765184810\n",
      "σ=1.7525049172428696e-18 η[x]=1.0 η[σ]=1.3571428571428572 η[B]=0.03676470588235294 |tr(ln_B)|=1.371819324802459e-14 |path|=NaN speed=NaN\n",
      "18.01 secs, 236260 evals, 23626 steps, fitness=-5026562.765184810\n",
      "σ=3.471695736309856e-18 η[x]=1.0 η[σ]=1.3571428571428572 η[B]=0.03676470588235294 |tr(ln_B)|=1.2490009027033011e-15 |path|=NaN speed=NaN\n",
      "18.51 secs, 242920 evals, 24292 steps, fitness=-5026562.765184810\n",
      "σ=1.8983032901682203e-17 η[x]=1.0 η[σ]=1.3571428571428572 η[B]=0.03676470588235294 |tr(ln_B)|=1.0047518372857667e-14 |path|=NaN speed=NaN\n",
      "19.01 secs, 249480 evals, 24948 steps, fitness=-5026562.765184810\n",
      "σ=3.482420451700101e-17 η[x]=1.0 η[σ]=1.3571428571428572 η[B]=0.03676470588235294 |tr(ln_B)|=1.715294573045867e-14 |path|=NaN speed=NaN\n",
      "19.51 secs, 256150 evals, 25615 steps, fitness=-5026562.765184810\n",
      "σ=7.788829219110438e-18 η[x]=1.0 η[σ]=1.3571428571428572 η[B]=0.03676470588235294 |tr(ln_B)|=2.1316282072803006e-14 |path|=NaN speed=NaN\n",
      "20.01 secs, 262750 evals, 26275 steps, fitness=-5026562.765184810\n",
      "σ=2.3402662268338736e-18 η[x]=1.0 η[σ]=1.3571428571428572 η[B]=0.03676470588235294 |tr(ln_B)|=2.142730437526552e-14 |path|=NaN speed=NaN\n",
      "20.51 secs, 269350 evals, 26935 steps, fitness=-5026562.765184810\n",
      "σ=2.2660165034846233e-18 η[x]=1.0 η[σ]=1.3571428571428572 η[B]=0.03676470588235294 |tr(ln_B)|=1.5432100042289676e-14 |path|=NaN speed=NaN\n",
      "21.01 secs, 275920 evals, 27592 steps, fitness=-5026562.765184810\n",
      "σ=4.560878630721149e-18 η[x]=1.0 η[σ]=1.3571428571428572 η[B]=0.03676470588235294 |tr(ln_B)|=1.9761969838327786e-14 |path|=NaN speed=NaN\n",
      "21.51 secs, 281640 evals, 28164 steps, fitness=-5026562.765184810\n",
      "σ=3.135765982286415e-18 η[x]=1.0 η[σ]=1.3571428571428572 η[B]=0.03676470588235294 |tr(ln_B)|=2.0872192862952943e-14 |path|=NaN speed=NaN\n",
      "22.02 secs, 287930 evals, 28793 steps, fitness=-5026562.765184810\n",
      "σ=3.6892478350670875e-19 η[x]=1.0 η[σ]=1.3571428571428572 η[B]=0.03676470588235294 |tr(ln_B)|=2.042810365310288e-14 |path|=NaN speed=NaN\n",
      "22.52 secs, 294630 evals, 29463 steps, fitness=-5026562.765184810\n",
      "σ=4.2664892881283553e-19 η[x]=1.0 η[σ]=1.3571428571428572 η[B]=0.03676470588235294 |tr(ln_B)|=2.5757174171303632e-14 |path|=NaN speed=NaN\n",
      "23.02 secs, 301270 evals, 30127 steps, fitness=-5026562.765184810\n",
      "σ=8.6117950263324455e-19 η[x]=1.0 η[σ]=1.3571428571428572 η[B]=0.03676470588235294 |tr(ln_B)|=2.1094237467877974e-14 |path|=NaN speed=NaN\n",
      "23.52 secs, 307880 evals, 30788 steps, fitness=-5026562.765184810\n",
      "σ=8.085039046952746e-19 η[x]=1.0 η[σ]=1.3571428571428572 η[B]=0.03676470588235294 |tr(ln_B)|=2.2870594307278225e-14 |path|=NaN speed=NaN\n",
      "24.02 secs, 314410 evals, 31441 steps, fitness=-5026562.765184810\n",
      "σ=1.4636370968464826e-18 η[x]=1.0 η[σ]=1.3571428571428572 η[B]=0.03676470588235294 |tr(ln_B)|=2.708944180085382e-14 |path|=NaN speed=NaN\n",
      "24.52 secs, 320880 evals, 32088 steps, fitness=-5026562.765184810\n",
      "σ=7.112152043068253e-19 η[x]=1.0 η[σ]=1.3571428571428572 η[B]=0.03676470588235294 |tr(ln_B)|=2.6867397195928788e-14 |path|=NaN speed=NaN\n",
      "\n",
      "Optimization stopped after 32710 steps and 25.00 seconds\n",
      "Termination reason: Max time (25.0 s) reached\n",
      "Steps per second = 1308.39\n",
      "Function evals per second = 13083.93\n",
      "Improvements/step = NaN\n",
      "Total function evaluations = 327100\n",
      "\n",
      "\n",
      "Best candidate found: [260.0, 260.0, 260.0, 260.0, 260.0, 260.0, -260.0, 260.0, 260.0]\n",
      "\n",
      "Fitness: -5026562.765184810\n",
      "\n",
      "Starting optimization with optimizer GeneratingSetSearcher(BlackBoxOptim.ConstantDirectionGen)\n",
      "0.00 secs, 1 evals, 0 steps, fitness=-701027.529877857\n",
      "0.50 secs, 6789 evals, 643 steps, fitness=-5064442.308612220\n",
      "1.00 secs, 13556 evals, 1291 steps, fitness=-5064442.308612221\n",
      "1.50 secs, 20109 evals, 1944 steps, fitness=-5064442.308612221\n",
      "2.00 secs, 26805 evals, 2583 steps, fitness=-5064442.308612222\n",
      "2.50 secs, 33435 evals, 3231 steps, fitness=-5064442.308612222\n",
      "3.00 secs, 40524 evals, 3885 steps, fitness=-5068410.971730918\n",
      "3.50 secs, 47857 evals, 4565 steps, fitness=-5068410.971730918\n",
      "4.01 secs, 55117 evals, 5248 steps, fitness=-5068410.971730918\n",
      "4.51 secs, 62265 evals, 5945 steps, fitness=-5068410.971730918\n",
      "5.01 secs, 69952 evals, 6631 steps, fitness=-5068410.971730918\n",
      "5.51 secs, 77479 evals, 7327 steps, fitness=-5068410.971730918\n",
      "6.01 secs, 85119 evals, 8030 steps, fitness=-5068410.971730918\n",
      "6.51 secs, 92557 evals, 8717 steps, fitness=-5068410.971730918\n",
      "7.01 secs, 99847 evals, 9372 steps, fitness=-5068410.971730918\n",
      "7.51 secs, 107308 evals, 10073 steps, fitness=-5068410.971730918\n",
      "8.02 secs, 114730 evals, 10876 steps, fitness=-5068410.971730918\n",
      "8.52 secs, 122393 evals, 11674 steps, fitness=-5068410.971730918\n",
      "9.02 secs, 129854 evals, 12420 steps, fitness=-5068410.971730918\n",
      "9.52 secs, 137209 evals, 13027 steps, fitness=-5068410.971730918\n",
      "10.02 secs, 144657 evals, 13789 steps, fitness=-5068410.971730918\n",
      "10.52 secs, 152113 evals, 14487 steps, fitness=-5068410.971730918\n",
      "11.03 secs, 159551 evals, 15187 steps, fitness=-5068410.971730918\n",
      "11.53 secs, 166998 evals, 15904 steps, fitness=-5068410.971730918\n",
      "12.03 secs, 174249 evals, 16572 steps, fitness=-5068410.971730918\n",
      "12.53 secs, 181715 evals, 17271 steps, fitness=-5068410.971730918\n",
      "13.03 secs, 189314 evals, 18000 steps, fitness=-5068410.971730918\n",
      "13.53 secs, 196818 evals, 18680 steps, fitness=-5068410.971730918\n",
      "14.03 secs, 204335 evals, 19427 steps, fitness=-5068410.971730918\n",
      "14.53 secs, 211869 evals, 20033 steps, fitness=-5068410.971730918\n",
      "15.03 secs, 219269 evals, 20749 steps, fitness=-5068410.971730918\n",
      "15.53 secs, 226540 evals, 21410 steps, fitness=-5068410.971730918\n",
      "16.03 secs, 234200 evals, 22118 steps, fitness=-5068410.971730918\n",
      "16.53 secs, 241838 evals, 22791 steps, fitness=-5068410.971730918\n",
      "17.03 secs, 249265 evals, 23479 steps, fitness=-5068410.971730918\n",
      "17.53 secs, 256662 evals, 24167 steps, fitness=-5068410.971730918\n",
      "18.03 secs, 264130 evals, 24858 steps, fitness=-5068410.971730918\n",
      "18.53 secs, 271674 evals, 25553 steps, fitness=-5068410.971730918\n",
      "19.03 secs, 278926 evals, 26211 steps, fitness=-5068410.971730918\n",
      "19.53 secs, 286626 evals, 26895 steps, fitness=-5068410.971730918\n",
      "20.03 secs, 294040 evals, 27601 steps, fitness=-5068410.971730918\n",
      "20.53 secs, 301471 evals, 28274 steps, fitness=-5068410.971730918\n",
      "21.04 secs, 308875 evals, 28953 steps, fitness=-5068410.971730918\n",
      "21.54 secs, 316312 evals, 29678 steps, fitness=-5068410.971730918\n",
      "22.04 secs, 323790 evals, 30384 steps, fitness=-5068410.971730918\n",
      "22.54 secs, 331009 evals, 31082 steps, fitness=-5068410.971730918\n",
      "23.04 secs, 338496 evals, 31759 steps, fitness=-5068410.971730918\n",
      "23.54 secs, 346122 evals, 32486 steps, fitness=-5068410.971730918\n",
      "24.04 secs, 353738 evals, 33171 steps, fitness=-5068410.971730918\n",
      "24.54 secs, 361249 evals, 33871 steps, fitness=-5068410.971730918\n",
      "\n",
      "Optimization stopped after 34514 steps and 25.00 seconds\n",
      "Termination reason: Max time (25.0 s) reached\n",
      "Steps per second = 1380.51\n",
      "Function evals per second = 14724.88\n",
      "Improvements/step = NaN\n",
      "Total function evaluations = 368135\n",
      "\n",
      "\n",
      "Best candidate found: [260.0, 260.0, 260.0, 260.0, -260.0, 260.0, -260.0, 260.0, 260.0]\n",
      "\n",
      "Fitness: -5068410.971730918\n",
      "\n",
      "Starting optimization with optimizer GeneratingSetSearcher(BlackBoxOptim.MirroredRandomDirectionGen)\n",
      "0.00 secs, 1 evals, 0 steps, fitness=1965.413670489\n",
      "0.50 secs, 7407 evals, 4152 steps, fitness=-4628297.103381608\n",
      "1.00 secs, 14622 evals, 8093 steps, fitness=-4628297.103381608\n",
      "1.50 secs, 22090 evals, 12180 steps, fitness=-4814349.345816971\n",
      "2.00 secs, 29062 evals, 15980 steps, fitness=-4814349.345816971\n",
      "2.50 secs, 36115 evals, 19827 steps, fitness=-4814349.345816971\n",
      "3.00 secs, 42991 evals, 23610 steps, fitness=-4814349.345816971\n",
      "3.50 secs, 50200 evals, 27547 steps, fitness=-4876154.918568339\n",
      "4.00 secs, 57649 evals, 31631 steps, fitness=-4876154.918568339\n",
      "4.50 secs, 64834 evals, 35557 steps, fitness=-4876154.918568339\n",
      "5.00 secs, 72606 evals, 39802 steps, fitness=-4886954.525258641\n",
      "5.50 secs, 80195 evals, 43961 steps, fitness=-4886954.525258641\n",
      "6.00 secs, 87529 evals, 47999 steps, fitness=-4886954.525258641\n",
      "6.50 secs, 94909 evals, 52038 steps, fitness=-4886954.525258641\n",
      "7.00 secs, 102300 evals, 56080 steps, fitness=-4886954.525258641\n",
      "7.50 secs, 109763 evals, 60153 steps, fitness=-4886954.525258641\n",
      "8.00 secs, 116477 evals, 63833 steps, fitness=-4886954.525258641\n",
      "8.50 secs, 123432 evals, 67620 steps, fitness=-4886954.525258641\n",
      "9.00 secs, 130429 evals, 71449 steps, fitness=-4886954.525258641\n",
      "9.50 secs, 137631 evals, 75373 steps, fitness=-4886954.525258641\n",
      "10.00 secs, 144767 evals, 79262 steps, fitness=-4886954.525258641\n",
      "10.50 secs, 152086 evals, 83333 steps, fitness=-4886954.525258641\n",
      "11.00 secs, 158914 evals, 87103 steps, fitness=-4886954.525258641\n",
      "11.50 secs, 165444 evals, 90683 steps, fitness=-4886954.525258641\n",
      "12.00 secs, 171803 evals, 94164 steps, fitness=-4886954.525258641\n",
      "12.50 secs, 178730 evals, 97946 steps, fitness=-4886954.525258641\n",
      "13.00 secs, 185401 evals, 101598 steps, fitness=-4886954.525258641\n",
      "13.50 secs, 192076 evals, 105311 steps, fitness=-4886954.525258641\n",
      "14.00 secs, 198901 evals, 109140 steps, fitness=-4886954.525258641\n",
      "14.50 secs, 205631 evals, 112830 steps, fitness=-4886954.525258641\n",
      "15.00 secs, 212098 evals, 116361 steps, fitness=-4948640.322054256\n",
      "15.50 secs, 219022 evals, 120157 steps, fitness=-4948640.322054256\n",
      "16.00 secs, 226009 evals, 123974 steps, fitness=-4948640.322054256\n",
      "16.50 secs, 232697 evals, 127648 steps, fitness=-4948640.322054256\n",
      "17.00 secs, 239264 evals, 131238 steps, fitness=-4948640.322054256\n",
      "17.50 secs, 246031 evals, 134955 steps, fitness=-4948640.322054256\n",
      "18.00 secs, 253207 evals, 138945 steps, fitness=-4948640.322054256\n",
      "18.50 secs, 259801 evals, 142580 steps, fitness=-4948640.322054256\n",
      "19.00 secs, 266083 evals, 146010 steps, fitness=-4948640.322054256\n",
      "19.50 secs, 272895 evals, 149739 steps, fitness=-4980523.117510260\n",
      "20.00 secs, 279689 evals, 153440 steps, fitness=-4980523.117510260\n",
      "20.50 secs, 286325 evals, 157076 steps, fitness=-4980523.117510260\n",
      "21.00 secs, 293019 evals, 160738 steps, fitness=-4980523.117510260\n",
      "21.50 secs, 299902 evals, 164494 steps, fitness=-4980523.117510260\n",
      "22.00 secs, 306857 evals, 168312 steps, fitness=-4980523.117510260\n",
      "22.50 secs, 313560 evals, 171971 steps, fitness=-4980523.117510260\n",
      "23.00 secs, 320549 evals, 175806 steps, fitness=-4980523.117510260\n",
      "23.50 secs, 327596 evals, 179662 steps, fitness=-4980523.117510260\n",
      "24.00 secs, 334544 evals, 183469 steps, fitness=-4980523.117510260\n",
      "24.50 secs, 341557 evals, 187321 steps, fitness=-4980523.117510260\n",
      "\n",
      "Optimization stopped after 191146 steps and 25.00 seconds\n",
      "Termination reason: Max time (25.0 s) reached\n",
      "Steps per second = 7645.82\n",
      "Function evals per second = 13943.44\n",
      "Improvements/step = NaN\n",
      "Total function evaluations = 348587\n",
      "\n",
      "\n",
      "Best candidate found: [229.488, 259.16, 260.0, -258.122, -259.727, 260.0, -257.072, 220.321, -259.798]\n",
      "\n",
      "Fitness: -4980523.117510260\n",
      "\n",
      "Starting optimization with optimizer BlackBoxOptim.RandomSearcher{ContinuousRectSearchSpace}\n",
      "0.00 secs, 0 evals, 0 steps\n",
      "0.50 secs, 7117 evals, 7117 steps, improv/step: 0.001 (last = 0.0007), fitness=-3936881.352971651\n",
      "1.00 secs, 13892 evals, 13892 steps, improv/step: 0.000 (last = 0.0000), fitness=-3936881.352971651\n",
      "1.50 secs, 21027 evals, 21027 steps, improv/step: 0.000 (last = 0.0001), fitness=-4027233.984609289\n",
      "2.00 secs, 28158 evals, 28158 steps, improv/step: 0.000 (last = 0.0000), fitness=-4027233.984609289\n",
      "2.50 secs, 35412 evals, 35412 steps, improv/step: 0.000 (last = 0.0000), fitness=-4027233.984609289\n",
      "3.00 secs, 42632 evals, 42632 steps, improv/step: 0.000 (last = 0.0000), fitness=-4027233.984609289\n",
      "3.50 secs, 49808 evals, 49808 steps, improv/step: 0.000 (last = 0.0000), fitness=-4027233.984609289\n",
      "4.00 secs, 56769 evals, 56769 steps, improv/step: 0.000 (last = 0.0000), fitness=-4027233.984609289\n",
      "4.50 secs, 63525 evals, 63525 steps, improv/step: 0.000 (last = 0.0000), fitness=-4027233.984609289\n",
      "5.00 secs, 70726 evals, 70726 steps, improv/step: 0.000 (last = 0.0000), fitness=-4027233.984609289\n",
      "5.50 secs, 77951 evals, 77951 steps, improv/step: 0.000 (last = 0.0000), fitness=-4027233.984609289\n",
      "6.00 secs, 85168 evals, 85168 steps, improv/step: 0.000 (last = 0.0000), fitness=-4027233.984609289\n",
      "6.50 secs, 91639 evals, 91639 steps, improv/step: 0.000 (last = 0.0000), fitness=-4027233.984609289\n",
      "7.00 secs, 98499 evals, 98499 steps, improv/step: 0.000 (last = 0.0000), fitness=-4027233.984609289\n",
      "7.50 secs, 105679 evals, 105679 steps, improv/step: 0.000 (last = 0.0000), fitness=-4027233.984609289\n",
      "8.00 secs, 112654 evals, 112654 steps, improv/step: 0.000 (last = 0.0000), fitness=-4027233.984609289\n",
      "8.50 secs, 119130 evals, 119130 steps, improv/step: 0.000 (last = 0.0000), fitness=-4027233.984609289\n",
      "9.00 secs, 126251 evals, 126251 steps, improv/step: 0.000 (last = 0.0000), fitness=-4027233.984609289\n",
      "9.50 secs, 133417 evals, 133417 steps, improv/step: 0.000 (last = 0.0000), fitness=-4027233.984609289\n",
      "10.00 secs, 140379 evals, 140379 steps, improv/step: 0.000 (last = 0.0000), fitness=-4027233.984609289\n",
      "10.50 secs, 147067 evals, 147067 steps, improv/step: 0.000 (last = 0.0000), fitness=-4027233.984609289\n",
      "11.00 secs, 153814 evals, 153814 steps, improv/step: 0.000 (last = 0.0000), fitness=-4027233.984609289\n",
      "11.50 secs, 160460 evals, 160460 steps, improv/step: 0.000 (last = 0.0000), fitness=-4027233.984609289\n",
      "12.00 secs, 167310 evals, 167310 steps, improv/step: 0.000 (last = 0.0000), fitness=-4027233.984609289\n",
      "12.50 secs, 173756 evals, 173756 steps, improv/step: 0.000 (last = 0.0000), fitness=-4027233.984609289\n",
      "13.00 secs, 180703 evals, 180703 steps, improv/step: 0.000 (last = 0.0001), fitness=-4048250.516493764\n",
      "13.50 secs, 187576 evals, 187576 steps, improv/step: 0.000 (last = 0.0000), fitness=-4048250.516493764\n",
      "14.00 secs, 194686 evals, 194686 steps, improv/step: 0.000 (last = 0.0000), fitness=-4048250.516493764\n",
      "14.50 secs, 201601 evals, 201601 steps, improv/step: 0.000 (last = 0.0000), fitness=-4048250.516493764\n",
      "15.00 secs, 208322 evals, 208322 steps, improv/step: 0.000 (last = 0.0000), fitness=-4048250.516493764\n",
      "15.50 secs, 214888 evals, 214888 steps, improv/step: 0.000 (last = 0.0000), fitness=-4048250.516493764\n",
      "16.00 secs, 221567 evals, 221567 steps, improv/step: 0.000 (last = 0.0000), fitness=-4048250.516493764\n",
      "16.50 secs, 228068 evals, 228068 steps, improv/step: 0.000 (last = 0.0000), fitness=-4048250.516493764\n",
      "17.00 secs, 234992 evals, 234992 steps, improv/step: 0.000 (last = 0.0000), fitness=-4048250.516493764\n",
      "17.50 secs, 241819 evals, 241819 steps, improv/step: 0.000 (last = 0.0000), fitness=-4048250.516493764\n",
      "18.00 secs, 248629 evals, 248629 steps, improv/step: 0.000 (last = 0.0000), fitness=-4048250.516493764\n",
      "18.50 secs, 255018 evals, 255018 steps, improv/step: 0.000 (last = 0.0000), fitness=-4048250.516493764\n",
      "19.00 secs, 261659 evals, 261659 steps, improv/step: 0.000 (last = 0.0000), fitness=-4048250.516493764\n",
      "19.50 secs, 268720 evals, 268720 steps, improv/step: 0.000 (last = 0.0000), fitness=-4048250.516493764\n",
      "20.00 secs, 275579 evals, 275579 steps, improv/step: 0.000 (last = 0.0000), fitness=-4048250.516493764\n",
      "20.50 secs, 282264 evals, 282264 steps, improv/step: 0.000 (last = 0.0000), fitness=-4048250.516493764\n",
      "21.00 secs, 289373 evals, 289373 steps, improv/step: 0.000 (last = 0.0000), fitness=-4048250.516493764\n",
      "21.50 secs, 296354 evals, 296354 steps, improv/step: 0.000 (last = 0.0000), fitness=-4048250.516493764\n",
      "22.00 secs, 303449 evals, 303449 steps, improv/step: 0.000 (last = 0.0000), fitness=-4048250.516493764\n",
      "22.50 secs, 310339 evals, 310339 steps, improv/step: 0.000 (last = 0.0000), fitness=-4048250.516493764\n",
      "23.00 secs, 317067 evals, 317067 steps, improv/step: 0.000 (last = 0.0000), fitness=-4048250.516493764\n",
      "23.50 secs, 323802 evals, 323802 steps, improv/step: 0.000 (last = 0.0000), fitness=-4048250.516493764\n",
      "24.00 secs, 330691 evals, 330691 steps, improv/step: 0.000 (last = 0.0000), fitness=-4048250.516493764\n",
      "24.50 secs, 337241 evals, 337241 steps, improv/step: 0.000 (last = 0.0000), fitness=-4048250.516493764\n",
      "\n",
      "Optimization stopped after 344208 steps and 25.00 seconds\n",
      "Termination reason: Max time (25.0 s) reached\n",
      "Steps per second = 13768.31\n",
      "Function evals per second = 13768.31\n",
      "Improvements/step = Inf\n",
      "Total function evaluations = 344208\n",
      "\n",
      "\n",
      "Best candidate found: [-252.0, 259.478, 259.181, -243.965, -240.208, 259.251, -172.604, 42.6861, 3.9551]\n",
      "\n",
      "Fitness: -4048250.516493764\n",
      "\n",
      "Starting optimization with optimizer Resampling Inheritance Memetic Search (RIS)\n",
      "0.00 secs, 1 evals, 0 steps, fitness=392024.128307821\n",
      "0.52 secs, 7164 evals, 5 steps, fitness=-5068410.971730917\n",
      "1.06 secs, 14584 evals, 11 steps, fitness=-5068410.971730917\n",
      "1.63 secs, 22203 evals, 18 steps, fitness=-5068410.971730917\n",
      "2.18 secs, 29183 evals, 24 steps, fitness=-5068410.971730917\n",
      "2.70 secs, 36037 evals, 30 steps, fitness=-5068410.971730917\n",
      "3.26 secs, 43547 evals, 37 steps, fitness=-5068410.971730917\n",
      "3.83 secs, 51223 evals, 44 steps, fitness=-5068410.971730918\n",
      "4.39 secs, 58861 evals, 50 steps, fitness=-5068410.971730918\n",
      "4.96 secs, 66703 evals, 56 steps, fitness=-5068410.971730918\n",
      "5.49 secs, 74005 evals, 64 steps, fitness=-5068410.971730918\n",
      "5.99 secs, 80607 evals, 69 steps, fitness=-5068410.971730918\n",
      "6.53 secs, 87858 evals, 74 steps, fitness=-5068410.971730918\n",
      "7.09 secs, 95717 evals, 80 steps, fitness=-5068410.971730918\n",
      "7.61 secs, 102519 evals, 86 steps, fitness=-5068410.971730918\n",
      "8.15 secs, 109432 evals, 92 steps, fitness=-5068410.971730918\n",
      "8.68 secs, 116670 evals, 99 steps, fitness=-5068410.971730918\n",
      "9.20 secs, 123847 evals, 103 steps, fitness=-5068410.971730918\n",
      "9.76 secs, 131575 evals, 109 steps, fitness=-5068410.971730918\n",
      "10.27 secs, 138752 evals, 116 steps, fitness=-5068410.971730918\n",
      "10.84 secs, 146790 evals, 122 steps, fitness=-5068410.971730919\n",
      "11.41 secs, 154762 evals, 129 steps, fitness=-5068410.971730919\n",
      "11.92 secs, 161906 evals, 135 steps, fitness=-5068410.971730919\n",
      "12.46 secs, 169413 evals, 142 steps, fitness=-5068410.971730919\n",
      "12.99 secs, 176792 evals, 148 steps, fitness=-5068410.971730919\n",
      "13.54 secs, 184411 evals, 155 steps, fitness=-5068410.971730919\n",
      "14.07 secs, 191790 evals, 162 steps, fitness=-5068410.971730919\n",
      "14.68 secs, 200259 evals, 170 steps, fitness=-5068410.971730919\n",
      "15.22 secs, 207546 evals, 177 steps, fitness=-5068410.971730919\n",
      "15.75 secs, 215062 evals, 183 steps, fitness=-5068410.971730919\n",
      "16.27 secs, 221955 evals, 188 steps, fitness=-5068410.971730919\n",
      "16.78 secs, 228980 evals, 194 steps, fitness=-5068410.971730919\n",
      "17.34 secs, 236501 evals, 201 steps, fitness=-5068410.971730919\n",
      "17.85 secs, 243182 evals, 207 steps, fitness=-5068410.971730919\n",
      "18.38 secs, 249999 evals, 213 steps, fitness=-5068410.971730919\n",
      "18.94 secs, 257531 evals, 219 steps, fitness=-5068410.971730919\n",
      "19.49 secs, 264981 evals, 225 steps, fitness=-5068410.971730919\n",
      "20.03 secs, 272480 evals, 231 steps, fitness=-5068410.971730919\n",
      "20.56 secs, 279309 evals, 236 steps, fitness=-5068410.971730919\n",
      "21.14 secs, 287546 evals, 244 steps, fitness=-5068410.971730919\n",
      "21.66 secs, 294969 evals, 251 steps, fitness=-5068410.971730919\n",
      "22.22 secs, 302980 evals, 258 steps, fitness=-5068410.971730919\n",
      "22.72 secs, 310227 evals, 265 steps, fitness=-5068410.971730919\n",
      "23.26 secs, 317733 evals, 271 steps, fitness=-5068410.971730919\n",
      "23.81 secs, 325698 evals, 278 steps, fitness=-5068410.971730919\n",
      "24.38 secs, 333873 evals, 286 steps, fitness=-5068410.971730919\n",
      "24.91 secs, 341011 evals, 293 steps, fitness=-5068410.971730919\n",
      "\n",
      "Optimization stopped after 294 steps and 25.01 seconds\n",
      "Termination reason: Max time (25.0 s) reached\n",
      "Steps per second = 11.75\n",
      "Function evals per second = 13691.62\n",
      "Improvements/step = NaN\n",
      "Total function evaluations = 342471\n",
      "\n",
      "\n",
      "Best candidate found: [260.0, 260.0, 260.0, 260.0, -260.0, 260.0, -260.0, 260.0, 260.0]\n",
      "\n",
      "Fitness: -5068410.971730919\n",
      "\n",
      "Starting optimization with optimizer Resampling Memetic Search (RS)\n",
      "0.00 secs, 1 evals, 0 steps, fitness=1185882.854005239\n",
      "0.56 secs, 8024 evals, 7 steps, fitness=-5068410.971730918\n",
      "1.07 secs, 15230 evals, 13 steps, fitness=-5068410.971730918\n",
      "1.58 secs, 22509 evals, 19 steps, fitness=-5068410.971730918\n",
      "2.09 secs, 29523 evals, 25 steps, fitness=-5068410.971730918\n",
      "2.61 secs, 36553 evals, 31 steps, fitness=-5068410.971730918\n",
      "3.15 secs, 44163 evals, 38 steps, fitness=-5068410.971730918\n",
      "3.67 secs, 51228 evals, 44 steps, fitness=-5068410.971730918\n",
      "4.24 secs, 58764 evals, 50 steps, fitness=-5068410.971730918\n",
      "4.82 secs, 66559 evals, 57 steps, fitness=-5068410.971730918\n",
      "5.33 secs, 73607 evals, 63 steps, fitness=-5068410.971730918\n",
      "5.84 secs, 80644 evals, 69 steps, fitness=-5068410.971730918\n",
      "6.38 secs, 87790 evals, 75 steps, fitness=-5068410.971730918\n",
      "6.93 secs, 95136 evals, 82 steps, fitness=-5068410.971730918\n",
      "7.49 secs, 102438 evals, 88 steps, fitness=-5068410.971730918\n",
      "8.02 secs, 109510 evals, 94 steps, fitness=-5068410.971730918\n",
      "8.56 secs, 116473 evals, 100 steps, fitness=-5068410.971730918\n",
      "9.08 secs, 123535 evals, 106 steps, fitness=-5068410.971730918\n",
      "9.61 secs, 130630 evals, 112 steps, fitness=-5068410.971730918\n",
      "10.11 secs, 137406 evals, 118 steps, fitness=-5068410.971730918\n",
      "10.62 secs, 144382 evals, 124 steps, fitness=-5068410.971730918\n",
      "11.15 secs, 151423 evals, 130 steps, fitness=-5068410.971730918\n",
      "11.69 secs, 158982 evals, 137 steps, fitness=-5068410.971730918\n",
      "12.22 secs, 166057 evals, 143 steps, fitness=-5068410.971730918\n",
      "12.78 secs, 173254 evals, 149 steps, fitness=-5068410.971730918\n",
      "13.32 secs, 180621 evals, 156 steps, fitness=-5068410.971730918\n",
      "13.89 secs, 188282 evals, 163 steps, fitness=-5068410.971730918\n",
      "14.40 secs, 195336 evals, 169 steps, fitness=-5068410.971730918\n",
      "14.99 secs, 203339 evals, 176 steps, fitness=-5068410.971730918\n",
      "15.51 secs, 210547 evals, 182 steps, fitness=-5068410.971730918\n",
      "16.02 secs, 217284 evals, 188 steps, fitness=-5068410.971730918\n",
      "16.58 secs, 224847 evals, 194 steps, fitness=-5068410.971730918\n",
      "17.12 secs, 231792 evals, 200 steps, fitness=-5068410.971730918\n",
      "17.68 secs, 239446 evals, 207 steps, fitness=-5068410.971730918\n",
      "18.23 secs, 246748 evals, 213 steps, fitness=-5068410.971730918\n",
      "18.75 secs, 253794 evals, 219 steps, fitness=-5068410.971730918\n",
      "19.32 secs, 261830 evals, 226 steps, fitness=-5068410.971730918\n",
      "19.85 secs, 269297 evals, 233 steps, fitness=-5068410.971730918\n",
      "20.38 secs, 276478 evals, 239 steps, fitness=-5068410.971730918\n",
      "20.89 secs, 283354 evals, 245 steps, fitness=-5068410.971730918\n",
      "21.41 secs, 290382 evals, 251 steps, fitness=-5068410.971730918\n",
      "21.99 secs, 298261 evals, 258 steps, fitness=-5068410.971730918\n",
      "22.52 secs, 305356 evals, 264 steps, fitness=-5068410.971730918\n",
      "23.04 secs, 312376 evals, 270 steps, fitness=-5068410.971730918\n",
      "23.61 secs, 320286 evals, 277 steps, fitness=-5068410.971730918\n",
      "24.17 secs, 327939 evals, 283 steps, fitness=-5068410.971730918\n",
      "24.71 secs, 335097 evals, 289 steps, fitness=-5068410.971730918\n",
      "\n",
      "Optimization stopped after 293 steps and 25.07 seconds\n",
      "Termination reason: Max time (25.0 s) reached\n",
      "Steps per second = 11.69\n",
      "Function evals per second = 13564.94\n",
      "Improvements/step = NaN\n",
      "Total function evaluations = 340074\n",
      "\n",
      "\n",
      "Best candidate found: [260.0, 260.0, 260.0, 260.0, -260.0, 260.0, -260.0, 260.0, 260.0]\n",
      "\n",
      "Fitness: -5068410.971730918\n",
      "\n",
      "Starting optimization with optimizer SeparableNESOpt{Float64, RandomBound{ContinuousRectSearchSpace}}\n",
      "0.00 secs, 0 evals, 0 steps\n",
      "|σ|=3.0\n",
      "0.50 secs, 6840 evals, 855 steps, fitness=-110153.606559655\n",
      "|σ|=11.16258455387359\n",
      "1.00 secs, 13752 evals, 1719 steps, fitness=-5039572.517774378\n",
      "|σ|=0.0012811752422275278\n",
      "1.50 secs, 20680 evals, 2585 steps, fitness=-5039574.154276570\n",
      "|σ|=1.4997149154515049e-5\n",
      "2.00 secs, 27472 evals, 3434 steps, fitness=-5039574.156754524\n",
      "|σ|=4.191751646327454e-7\n",
      "2.50 secs, 34416 evals, 4302 steps, fitness=-5039574.156754732\n",
      "|σ|=6.789679586896767e-9\n",
      "3.00 secs, 41184 evals, 5148 steps, fitness=-5039574.156754733\n",
      "|σ|=9.756787769953217e-10\n",
      "3.50 secs, 47984 evals, 5998 steps, fitness=-5039574.156754733\n",
      "|σ|=5.850059200086305e-14\n",
      "4.00 secs, 54592 evals, 6824 steps, fitness=-5039574.156754733\n",
      "|σ|=1.724458410346724e-14\n",
      "4.50 secs, 60904 evals, 7613 steps, fitness=-5039574.156754733\n",
      "|σ|=3.2253953595444434e-15\n",
      "5.00 secs, 67752 evals, 8469 steps, fitness=-5039574.156754733\n",
      "|σ|=5.3407911397416066e-15\n",
      "5.50 secs, 74632 evals, 9329 steps, fitness=-5039574.156754733\n",
      "|σ|=1.779114776959565e-14\n",
      "6.01 secs, 81528 evals, 10191 steps, fitness=-5039574.156754733\n",
      "|σ|=1.3668165644330975e-14\n",
      "6.51 secs, 88416 evals, 11052 steps, fitness=-5039574.156754733\n",
      "|σ|=1.1488866089189423e-14\n",
      "7.01 secs, 95256 evals, 11907 steps, fitness=-5039574.156754733\n",
      "|σ|=9.355113097649565e-15\n",
      "7.51 secs, 102360 evals, 12795 steps, fitness=-5039574.156754733\n",
      "|σ|=3.602947001679913e-15\n",
      "8.01 secs, 109320 evals, 13665 steps, fitness=-5039574.156754733\n",
      "|σ|=3.239395670888352e-15\n",
      "8.52 secs, 116024 evals, 14503 steps, fitness=-5039574.156754733\n",
      "|σ|=4.982837877658384e-16\n",
      "9.02 secs, 122936 evals, 15367 steps, fitness=-5039574.156754733\n",
      "|σ|=9.547960990392577e-15\n",
      "9.52 secs, 130016 evals, 16252 steps, fitness=-5039574.156754733\n",
      "|σ|=2.6336402026909752e-15\n",
      "10.02 secs, 136912 evals, 17114 steps, fitness=-5039574.156754733\n",
      "|σ|=1.4015616686043636e-16\n",
      "10.52 secs, 143728 evals, 17966 steps, fitness=-5039574.156754733\n",
      "|σ|=2.01648277404759e-16\n",
      "11.02 secs, 150648 evals, 18831 steps, fitness=-5039574.156754733\n",
      "|σ|=1.4857237284237751e-18\n",
      "11.52 secs, 157520 evals, 19690 steps, fitness=-5039574.156754733\n",
      "|σ|=1.599696485424268e-18\n",
      "12.02 secs, 164656 evals, 20582 steps, fitness=-5039574.156754733\n",
      "|σ|=9.81962541967524e-15\n",
      "12.52 secs, 171656 evals, 21457 steps, fitness=-5039574.156754733\n",
      "|σ|=3.67227375283498e-15\n",
      "13.02 secs, 178272 evals, 22284 steps, fitness=-5039574.156754733\n",
      "|σ|=6.375333201622828e-15\n",
      "13.52 secs, 185336 evals, 23167 steps, fitness=-5039574.156754733\n",
      "|σ|=6.133505665041612e-15\n",
      "14.02 secs, 192384 evals, 24048 steps, fitness=-5039574.156754733\n",
      "|σ|=1.8414181188995162e-14\n",
      "14.53 secs, 199176 evals, 24897 steps, fitness=-5039574.156754733\n",
      "|σ|=8.0363716692581e-15\n",
      "15.03 secs, 206048 evals, 25756 steps, fitness=-5039574.156754733\n",
      "|σ|=1.5479805159599597e-14\n",
      "15.53 secs, 212920 evals, 26615 steps, fitness=-5039574.156754733\n",
      "|σ|=2.335826097814154e-15\n",
      "16.03 secs, 219728 evals, 27466 steps, fitness=-5039574.156754733\n",
      "|σ|=1.8707105519199742e-14\n",
      "16.53 secs, 226896 evals, 28362 steps, fitness=-5039574.156754733\n",
      "|σ|=4.312810334711697e-15\n",
      "17.03 secs, 233560 evals, 29195 steps, fitness=-5039574.156754733\n",
      "|σ|=1.0038183375747964e-15\n",
      "17.53 secs, 240576 evals, 30072 steps, fitness=-5039574.156754733\n",
      "|σ|=1.4012578350654488e-14\n",
      "18.03 secs, 247464 evals, 30933 steps, fitness=-5039574.156754733\n",
      "|σ|=6.2261236442164825e-15\n",
      "18.53 secs, 254640 evals, 31830 steps, fitness=-5039574.156754733\n",
      "|σ|=1.087946782643393e-14\n",
      "19.03 secs, 261792 evals, 32724 steps, fitness=-5039574.156754733\n",
      "|σ|=7.461601701882444e-15\n",
      "19.53 secs, 268896 evals, 33612 steps, fitness=-5039574.156754733\n",
      "|σ|=3.5449882129142233e-15\n",
      "20.03 secs, 275632 evals, 34454 steps, fitness=-5039574.156754733\n",
      "|σ|=1.4448885141512443e-16\n",
      "20.53 secs, 282664 evals, 35333 steps, fitness=-5039574.156754733\n",
      "|σ|=2.7856350848049452e-15\n",
      "21.03 secs, 289464 evals, 36183 steps, fitness=-5039574.156754733\n",
      "|σ|=1.7912275489919306e-15\n",
      "21.53 secs, 296232 evals, 37029 steps, fitness=-5039574.156754733\n",
      "|σ|=1.0793441367817083e-14\n",
      "22.03 secs, 303104 evals, 37888 steps, fitness=-5039574.156754733\n",
      "|σ|=8.935113813736508e-15\n",
      "22.53 secs, 310000 evals, 38750 steps, fitness=-5039574.156754733\n",
      "|σ|=7.091535381180418e-16\n",
      "23.03 secs, 316880 evals, 39610 steps, fitness=-5039574.156754733\n",
      "|σ|=2.5944349297067065e-16\n",
      "23.53 secs, 323720 evals, 40465 steps, fitness=-5039574.156754733\n",
      "|σ|=8.221515148743493e-16\n",
      "24.03 secs, 330776 evals, 41347 steps, fitness=-5039574.156754733\n",
      "|σ|=1.385285906994885e-16\n",
      "24.53 secs, 337728 evals, 42216 steps, fitness=-5039574.156754733\n",
      "|σ|=5.283107427306519e-14\n",
      "\n",
      "Optimization stopped after 42987 steps and 25.00 seconds\n",
      "Termination reason: Max time (25.0 s) reached\n",
      "Steps per second = 1719.47\n",
      "Function evals per second = 13755.74\n",
      "Improvements/step = NaN\n",
      "Total function evaluations = 343896\n",
      "\n",
      "\n",
      "Best candidate found: [260.0, 260.0, 260.0, -260.0, 260.0, 260.0, -260.0, -260.0, 260.0]\n",
      "\n",
      "Fitness: -5039574.156754733\n",
      "\n",
      "Starting optimization with optimizer SPSA2 (Simultaneous Perturbation Stochastic Approximation, 1st order, 2 samples)\n",
      "0.00 secs, 0 evals, 0 steps\n",
      "0.50 secs, 7010 evals, 3505 steps, fitness=16198.357109606\n",
      "1.00 secs, 13678 evals, 6839 steps, fitness=13843.582461986\n",
      "1.50 secs, 20258 evals, 10129 steps, fitness=12508.785890873\n",
      "2.00 secs, 26842 evals, 13421 steps, fitness=11536.716837106\n",
      "2.50 secs, 33416 evals, 16708 steps, fitness=10782.711584071\n",
      "3.00 secs, 40264 evals, 20132 steps, fitness=10157.586598370\n",
      "3.50 secs, 47286 evals, 23643 steps, fitness=9615.646917560\n",
      "4.00 secs, 53862 evals, 26931 steps, fitness=9168.882176662\n",
      "4.50 secs, 60514 evals, 30257 steps, fitness=8816.562003802\n",
      "5.00 secs, 67264 evals, 33632 steps, fitness=8454.512802216\n",
      "5.50 secs, 74038 evals, 37019 steps, fitness=8158.327415643\n",
      "6.00 secs, 80794 evals, 40397 steps, fitness=7861.597336068\n",
      "6.50 secs, 87146 evals, 43573 steps, fitness=7600.610462460\n",
      "7.00 secs, 93982 evals, 46991 steps, fitness=7362.190634471\n",
      "7.50 secs, 100646 evals, 50323 steps, fitness=7135.114659842\n",
      "8.00 secs, 106726 evals, 53363 steps, fitness=6957.290098665\n",
      "8.50 secs, 113710 evals, 56855 steps, fitness=6745.678807037\n",
      "9.00 secs, 120502 evals, 60251 steps, fitness=6566.685309944\n",
      "9.50 secs, 127230 evals, 63615 steps, fitness=6393.950655180\n",
      "10.00 secs, 133916 evals, 66958 steps, fitness=6220.933125144\n",
      "10.50 secs, 140502 evals, 70251 steps, fitness=6079.380514236\n",
      "11.00 secs, 146974 evals, 73487 steps, fitness=5922.204634444\n",
      "11.50 secs, 153308 evals, 76654 steps, fitness=5802.836864420\n",
      "12.00 secs, 159982 evals, 79991 steps, fitness=5668.689771779\n",
      "12.50 secs, 166654 evals, 83327 steps, fitness=5539.548924084\n",
      "13.00 secs, 173298 evals, 86649 steps, fitness=5414.692338506\n",
      "13.50 secs, 179890 evals, 89945 steps, fitness=5285.350317556\n",
      "14.00 secs, 186742 evals, 93371 steps, fitness=5164.582078322\n",
      "14.50 secs, 193716 evals, 96858 steps, fitness=5052.242657966\n",
      "15.00 secs, 200294 evals, 100147 steps, fitness=4954.374136301\n",
      "15.50 secs, 206634 evals, 103317 steps, fitness=4855.672219995\n",
      "16.00 secs, 213474 evals, 106737 steps, fitness=4747.150022784\n",
      "16.50 secs, 220202 evals, 110101 steps, fitness=4648.811658881\n",
      "17.00 secs, 226772 evals, 113386 steps, fitness=4548.032124875\n",
      "17.50 secs, 233338 evals, 116669 steps, fitness=4462.298342141\n",
      "18.00 secs, 239834 evals, 119917 steps, fitness=4372.913200798\n",
      "18.50 secs, 246382 evals, 123191 steps, fitness=4293.296218156\n",
      "19.00 secs, 253008 evals, 126504 steps, fitness=4208.837244198\n",
      "19.50 secs, 259406 evals, 129703 steps, fitness=4124.015608968\n",
      "20.00 secs, 265992 evals, 132996 steps, fitness=4056.402420044\n",
      "20.50 secs, 272746 evals, 136373 steps, fitness=3965.708656986\n",
      "21.00 secs, 279356 evals, 139678 steps, fitness=3889.762400747\n",
      "21.50 secs, 285988 evals, 142994 steps, fitness=3811.833880589\n",
      "22.00 secs, 292616 evals, 146308 steps, fitness=3731.929671471\n",
      "22.50 secs, 299524 evals, 149762 steps, fitness=3655.982030044\n",
      "23.00 secs, 305942 evals, 152971 steps, fitness=3592.731279912\n",
      "23.50 secs, 312946 evals, 156473 steps, fitness=3513.087719252\n",
      "24.00 secs, 319256 evals, 159628 steps, fitness=3448.480531303\n",
      "24.50 secs, 325838 evals, 162919 steps, fitness=3384.789841782\n",
      "\n",
      "Optimization stopped after 166170 steps and 25.00 seconds\n",
      "Termination reason: Max time (25.0 s) reached\n",
      "Steps per second = 6646.78\n",
      "Function evals per second = 13293.57\n",
      "Improvements/step = NaN\n",
      "Total function evaluations = 332340\n",
      "\n",
      "\n",
      "Best candidate found: [-170.833, -16.1656, 217.028, -49.6178, -165.758, -179.141, 51.4648, -101.306, -2.9421]\n",
      "\n",
      "Fitness: 3313.700298847\n",
      "\n",
      "Starting optimization with optimizer XNESOpt{Float64, RandomBound{ContinuousRectSearchSpace}}\n",
      "0.00 secs, 0 evals, 0 steps\n",
      "sigma=1.0 |trace(ln_B)|=0.0\n",
      "0.50 secs, 6400 evals, 640 steps, fitness=-5026562.765184810\n",
      "sigma=1.122901913872586 |trace(ln_B)|=3.885780586188048e-16\n",
      "1.00 secs, 12470 evals, 1247 steps, fitness=-5068410.971730919\n",
      "sigma=0.9581117849252916 |trace(ln_B)|=4.218847493575595e-15\n",
      "1.50 secs, 18870 evals, 1887 steps, fitness=-5068410.971730919\n",
      "sigma=0.8067705026356491 |trace(ln_B)|=5.329070518200751e-15\n",
      "2.00 secs, 24950 evals, 2495 steps, fitness=-5068410.971730919\n",
      "sigma=0.5897910185862774 |trace(ln_B)|=4.440892098500626e-15\n",
      "2.50 secs, 31460 evals, 3146 steps, fitness=-5068410.971730919\n",
      "sigma=0.5861204362644974 |trace(ln_B)|=8.881784197001252e-16\n",
      "3.00 secs, 37890 evals, 3789 steps, fitness=-5068410.971730919\n",
      "sigma=0.5360706921970176 |trace(ln_B)|=-1.1546319456101628e-14\n",
      "3.50 secs, 44070 evals, 4407 steps, fitness=-5068410.971730919\n",
      "sigma=0.5396672686829896 |trace(ln_B)|=1.2434497875801753e-14\n",
      "4.00 secs, 50250 evals, 5025 steps, fitness=-5068410.971730919\n",
      "sigma=0.3541193576922507 |trace(ln_B)|=1.7763568394002505e-14\n",
      "4.50 secs, 56670 evals, 5667 steps, fitness=-5068410.971730919\n",
      "sigma=0.2610998881912576 |trace(ln_B)|=2.220446049250313e-14\n",
      "5.00 secs, 62960 evals, 6296 steps, fitness=-5068410.971730919\n",
      "sigma=0.19476407724844833 |trace(ln_B)|=2.3092638912203256e-14\n",
      "5.50 secs, 69360 evals, 6936 steps, fitness=-5068410.971730919\n",
      "sigma=0.13988757609828592 |trace(ln_B)|=3.2862601528904634e-14\n",
      "6.00 secs, 75740 evals, 7574 steps, fitness=-5068410.971730919\n",
      "sigma=0.16554968659905098 |trace(ln_B)|=3.730349362740526e-14\n"
     ]
    }
   ],
   "source": [
    "res_cut = compare_optimizers(polyGEXY; SearchRange = (-260, 260),\n",
    " NumDimensions =length(variables(polyGEXY)), \n",
    " MaxTime = 25.0);"
   ]
  },
  {
   "cell_type": "code",
   "execution_count": 73,
   "metadata": {},
   "outputs": [
    {
     "name": "stdout",
     "output_type": "stream",
     "text": [
      "*********************************** TSSOS ***********************************\n",
      "TSSOS is launching...\n",
      "-----------------------------------------------------------------------------\n",
      "The clique sizes of varibles:\n",
      "[9]\n",
      "[1]\n",
      "-----------------------------------------------------------------------------\n",
      "Obtained the variable cliques in 0.000102131 seconds. The maximal size of cliques is 9.\n",
      "Starting to compute the block structure...\n",
      "Obtained the block structure in 0.000385104 seconds.\n",
      "The maximal size of blocks is 55.\n",
      "Assembling the SDP...\n",
      "There are 715 affine constraints.\n",
      "SDP assembling time: 0.003118107 seconds.\n",
      "Solving the SDP...\n",
      "Problem\n",
      "  Name                   :                 \n",
      "  Objective sense        : maximize        \n",
      "  Type                   : CONIC (conic optimization problem)\n",
      "  Constraints            : 715             \n",
      "  Affine conic cons.     : 0               \n",
      "  Disjunctive cons.      : 0               \n",
      "  Cones                  : 0               \n",
      "  Scalar variables       : 8               \n",
      "  Matrix variables       : 9 (scalarized: 1935)\n",
      "  Integer variables      : 0               \n",
      "\n",
      "Optimizer started.\n",
      "Presolve started.\n",
      "Linear dependency checker started.\n",
      "Linear dependency checker terminated.\n",
      "Eliminator started.\n",
      "Freed constraints in eliminator : 0\n",
      "Eliminator terminated.\n",
      "Eliminator - tries                  : 1                 time                   : 0.00            \n",
      "Lin. dep.  - tries                  : 1                 time                   : 0.00            \n",
      "Lin. dep.  - primal attempts        : 1                 successes              : 1               \n",
      "Lin. dep.  - dual attempts          : 0                 successes              : 0               \n",
      "Lin. dep.  - primal deps.           : 0                 dual deps.             : 0               \n",
      "Presolve terminated. Time: 0.00    \n",
      "GP based matrix reordering started.\n",
      "GP based matrix reordering terminated.\n",
      "Optimizer  - threads                : 6               \n",
      "Optimizer  - solved problem         : the primal      \n",
      "Optimizer  - Constraints            : 715             \n",
      "Optimizer  - Cones                  : 1               \n",
      "Optimizer  - Scalar variables       : 9                 conic                  : 2               \n",
      "Optimizer  - Semi-definite variables: 9                 scalarized             : 1935            \n",
      "Factor     - setup time             : 0.01            \n",
      "Factor     - dense det. time        : 0.00              GP order time          : 0.00            \n",
      "Factor     - nonzeros before factor : 2.56e+05          after factor           : 2.56e+05        \n",
      "Factor     - dense dim.             : 0                 flops                  : 1.28e+08        \n",
      "ITE PFEAS    DFEAS    GFEAS    PRSTATUS   POBJ              DOBJ              MU       TIME  \n",
      "0   4.1e+00  1.0e+00  1.0e+00  0.00e+00   -0.000000000e+00  -0.000000000e+00  1.0e+00  0.01  \n",
      "1   2.8e+00  6.7e-01  5.4e-01  -1.45e-01  4.558572058e-01   5.084521434e-01   6.7e-01  0.02  \n",
      "2   7.5e-01  1.8e-01  4.6e-02  5.08e-01   4.507027988e+00   4.613775272e+00   1.8e-01  0.02  \n",
      "3   2.4e-01  5.7e-02  7.4e-03  1.57e+00   5.486760116e+00   5.509572106e+00   5.7e-02  0.03  \n",
      "4   7.8e-02  1.9e-02  1.9e-03  9.33e-01   5.397151159e+00   5.402526133e+00   1.9e-02  0.04  \n",
      "5   2.8e-02  6.9e-03  6.4e-04  6.15e-01   5.254415119e+00   5.253882408e+00   6.9e-03  0.04  \n",
      "6   1.3e-02  3.2e-03  3.0e-04  5.12e-01   5.131025108e+00   5.127796568e+00   3.2e-03  0.05  \n",
      "7   2.9e-03  7.0e-04  6.2e-05  2.56e-01   4.868095636e+00   4.862781882e+00   7.0e-04  0.05  \n",
      "8   6.2e-04  1.5e-04  1.4e-05  -1.95e-02  4.563770478e+00   4.556284819e+00   1.5e-04  0.06  \n",
      "9   1.5e-04  3.7e-05  3.7e-06  -1.49e-01  4.234081903e+00   4.224423144e+00   3.7e-05  0.07  \n",
      "10  3.7e-05  9.0e-06  9.4e-07  -6.25e-02  3.854431011e+00   3.843990510e+00   9.0e-06  0.07  \n",
      "11  8.5e-06  2.1e-06  2.3e-07  -1.82e-01  3.407638285e+00   3.395056893e+00   2.1e-06  0.08  \n",
      "12  1.9e-06  4.7e-07  5.4e-08  -1.29e-01  2.899679794e+00   2.886294567e+00   4.7e-07  0.09  \n",
      "13  4.5e-07  1.1e-07  1.3e-08  -1.10e-01  2.351919929e+00   2.337829957e+00   1.1e-07  0.09  \n",
      "14  1.0e-07  2.5e-08  2.9e-09  -7.79e-02  1.778931949e+00   1.765288238e+00   2.5e-08  0.10  \n",
      "15  2.4e-08  5.7e-09  6.3e-10  -3.54e-02  1.216744369e+00   1.204625899e+00   5.7e-09  0.11  \n",
      "16  5.3e-09  1.3e-09  1.2e-10  6.37e-02   7.104595537e-01   7.016983716e-01   1.3e-09  0.11  \n",
      "17  1.2e-09  2.9e-10  2.0e-11  1.93e-01   3.251036670e-01   3.201313411e-01   2.9e-10  0.12  \n",
      "18  2.5e-10  6.0e-11  2.4e-12  4.29e-01   1.037377770e-01   1.021294434e-01   5.9e-11  0.13  \n",
      "19  2.1e-10  1.4e-11  2.5e-13  7.44e-01   2.675631929e-02   2.637822778e-02   1.3e-11  0.14  \n",
      "20  6.9e-11  5.2e-12  5.4e-14  8.95e-01   9.549578325e-03   9.394266902e-03   4.3e-12  0.14  \n",
      "21  2.8e-11  1.7e-12  1.4e-14  1.06e+00   3.827881035e-03   3.766056874e-03   1.7e-12  0.15  \n",
      "22  1.0e-11  1.2e-12  3.4e-15  8.83e-01   1.539714951e-03   1.510326909e-03   6.2e-13  0.16  \n",
      "23  3.8e-12  1.3e-11  7.6e-16  1.05e+00   6.158307511e-04   6.057376483e-04   2.4e-13  0.17  \n",
      "24  1.1e-12  1.4e-11  1.3e-16  9.52e-01   2.323532246e-04   2.288190216e-04   7.0e-14  0.17  \n",
      "25  4.0e-13  7.9e-11  2.7e-17  1.04e+00   1.241332829e-04   1.229981951e-04   2.5e-14  0.18  \n",
      "26  1.3e-13  7.5e-10  5.1e-18  1.01e+00   8.218124941e-05   8.180136383e-05   8.2e-15  0.19  \n",
      "27  4.5e-14  5.2e-10  1.0e-18  1.00e+00   7.154332495e-05   7.141554903e-05   2.8e-15  0.19  \n",
      "28  2.8e-14  9.7e-10  4.9e-19  1.00e+00   6.885509705e-05   6.877571086e-05   1.7e-15  0.20  \n",
      "29  7.8e-15  5.8e-09  7.3e-20  1.00e+00   6.588326458e-05   6.586100391e-05   4.9e-16  0.21  \n",
      "30  7.7e-12  4.6e-08  1.7e-20  1.00e+00   6.527092591e-05   6.526243240e-05   1.8e-16  0.21  \n",
      "Optimizer terminated. Time: 0.21    \n",
      "\n",
      "SDP solving time: 0.216998298 seconds.\n",
      "optimum = 6.52709259134266e-5\n",
      "Found a locally optimal solution by Ipopt, giving an upper bound: 0.00022135.\n",
      "The relative optimality gap is: 0.015608%.\n"
     ]
    },
    {
     "data": {
      "text/plain": [
       "(6.52709259134266e-5, [0.09785730105524452, 0.16485041461138092, 0.26256975856126324, 1.709724020988396e-6, -1.2276493998279938e-6, -0.25402152003760825, 25.145698462611552, 0.0004516505700446677, -0.00023828610430702766], TSSOS.mcpop_data(9, 0, 8, 0, Vector{Vector{UInt16}}[[[], [0x0001], [0x0001, 0x0001], [0x0001, 0x0002], [0x0001, 0x0003], [0x0001, 0x0004], [0x0001, 0x0005], [0x0001, 0x0006], [0x0001, 0x0007], [0x0001, 0x0008]  …  [0x0006, 0x0009], [0x0007], [0x0007, 0x0007], [0x0007, 0x0008], [0x0007, 0x0009], [0x0008], [0x0008, 0x0008], [0x0008, 0x0009], [0x0009], [0x0009, 0x0009]], [[0x0001], [0x0002], [0x0003]], [[0x0001], [0x0002], [0x0003]], [[0x0001], [0x0002], [0x0003]], [[0x0001]], [[0x0002]], [[0x0003]], [[0x0001, 0x0001], [0x0001, 0x0002], [0x0001, 0x0003], [0x0002, 0x0002], [0x0002, 0x0003], [0x0003, 0x0003], [0x0004, 0x0004], [0x0005, 0x0005], [0x0006, 0x0006]], [[0x0001, 0x0001, 0x0001], [0x0001, 0x0001, 0x0002], [0x0001, 0x0001, 0x0003], [0x0001, 0x0002, 0x0002], [0x0001, 0x0002, 0x0003], [0x0001, 0x0003, 0x0003], [0x0001, 0x0004, 0x0004], [0x0001, 0x0005, 0x0005], [0x0001, 0x0006, 0x0006], [0x0002, 0x0002, 0x0002], [0x0002, 0x0002, 0x0003], [0x0002, 0x0003, 0x0003], [0x0002, 0x0004, 0x0004], [0x0002, 0x0005, 0x0005], [0x0002, 0x0006, 0x0006], [0x0003, 0x0003, 0x0003], [0x0003, 0x0004, 0x0004], [0x0003, 0x0005, 0x0005], [0x0003, 0x0006, 0x0006]]], [[6.116604301161447, 0.10659603047302178, 0.013865878926710243, 0.006017038338696187, 0.017015971037987555, -0.0003241784489486646, -0.0001421550733190833, 0.025681255512966333, -0.004214076857591386, -1.8147687317991986e-6  …  9.498469018038972e-6, -0.4865660153362463, 0.009683008468970144, 3.796214994417436e-7, -1.1552913938042863e-7, -4.592235083765185e-5, 0.03797205647260338, -1.4407050227337717e-5, 2.403694788371489e-5, 0.03795159707946116], [-1.0, 1.0, 1.0], [1.0, -1.0, 1.0], [1.0, 1.0, -1.0], [1.0], [1.0], [1.0], [-1.0, 2.0, 2.0, -1.0, 2.0, -1.0, -1.0, -1.0, -1.0], [-1.0, 1.0, 1.0, 1.0, -2.0, 1.0, 1.0, -1.0, -1.0, -1.0, 1.0, 1.0, -1.0, 1.0, -1.0, -1.0, -1.0, -1.0, 1.0]], Vector{Vector{Vector{UInt16}}}[[[[], [0x0001], [0x0002], [0x0003], [0x0004], [0x0005], [0x0006], [0x0007], [0x0008], [0x0009]  …  [0x0008, 0x0008], [0x0001, 0x0009], [0x0002, 0x0009], [0x0003, 0x0009], [0x0004, 0x0009], [0x0005, 0x0009], [0x0006, 0x0009], [0x0007, 0x0009], [0x0008, 0x0009], [0x0009, 0x0009]], [[], [0x0001], [0x0002], [0x0003], [0x0004], [0x0005], [0x0006], [0x0007], [0x0008], [0x0009]], [[], [0x0001], [0x0002], [0x0003], [0x0004], [0x0005], [0x0006], [0x0007], [0x0008], [0x0009]], [[], [0x0001], [0x0002], [0x0003], [0x0004], [0x0005], [0x0006], [0x0007], [0x0008], [0x0009]], [[], [0x0001], [0x0002], [0x0003], [0x0004], [0x0005], [0x0006], [0x0007], [0x0008], [0x0009]], [[], [0x0001], [0x0002], [0x0003], [0x0004], [0x0005], [0x0006], [0x0007], [0x0008], [0x0009]], [[], [0x0001], [0x0002], [0x0003], [0x0004], [0x0005], [0x0006], [0x0007], [0x0008], [0x0009]], [[], [0x0001], [0x0002], [0x0003], [0x0004], [0x0005], [0x0006], [0x0007], [0x0008], [0x0009]], [[]]]], Vector{Vector{Vector{UInt16}}}[[]], Vector{UInt16}[[], [0x0001], [0x0001, 0x0001], [0x0001, 0x0001, 0x0001], [0x0001, 0x0001, 0x0001, 0x0001], [0x0001, 0x0001, 0x0001, 0x0002], [0x0001, 0x0001, 0x0001, 0x0003], [0x0001, 0x0001, 0x0001, 0x0004], [0x0001, 0x0001, 0x0001, 0x0005], [0x0001, 0x0001, 0x0001, 0x0006]  …  [0x0008, 0x0008, 0x0008, 0x0009], [0x0008, 0x0008, 0x0009], [0x0008, 0x0008, 0x0009, 0x0009], [0x0008, 0x0009], [0x0008, 0x0009, 0x0009], [0x0008, 0x0009, 0x0009, 0x0009], [0x0009], [0x0009, 0x0009], [0x0009, 0x0009, 0x0009], [0x0009, 0x0009, 0x0009, 0x0009]], 1, [9], Vector{UInt16}[[0x0001, 0x0002, 0x0003, 0x0004, 0x0005, 0x0006, 0x0007, 0x0008, 0x0009]], Vector{UInt32}[[0x00000001, 0x00000002, 0x00000003, 0x00000004, 0x00000005, 0x00000006, 0x00000007, 0x00000008]], Vector{UInt32}[[]], UInt32[], Vector{UInt16}[[0x0037]], Vector{UInt16}[[0x0001]], Vector{UInt16}[[0x0001, 0x0001, 0x0001, 0x0001, 0x0001, 0x0001, 0x0001, 0x0007, 0x0001]], Vector{Vector{UInt16}}[[[0x0037], [0x000a], [0x000a], [0x000a], [0x000a], [0x000a], [0x000a], [0x0004, 0x0001, 0x0001, 0x0001, 0x0001, 0x0001, 0x0001], [0x0001]]], Vector{Vector{Vector{UInt16}}}[[[[0x0001, 0x0002, 0x0003, 0x0004, 0x0005, 0x0006, 0x0007, 0x0008, 0x0009, 0x000a  …  0x002e, 0x002f, 0x0030, 0x0031, 0x0032, 0x0033, 0x0034, 0x0035, 0x0036, 0x0037]], [[0x0001, 0x0002, 0x0003, 0x0004, 0x0005, 0x0006, 0x0007, 0x0008, 0x0009, 0x000a]], [[0x0001, 0x0002, 0x0003, 0x0004, 0x0005, 0x0006, 0x0007, 0x0008, 0x0009, 0x000a]], [[0x0001, 0x0002, 0x0003, 0x0004, 0x0005, 0x0006, 0x0007, 0x0008, 0x0009, 0x000a]], [[0x0001, 0x0002, 0x0003, 0x0004, 0x0005, 0x0006, 0x0007, 0x0008, 0x0009, 0x000a]], [[0x0001, 0x0002, 0x0003, 0x0004, 0x0005, 0x0006, 0x0007, 0x0008, 0x0009, 0x000a]], [[0x0001, 0x0002, 0x0003, 0x0004, 0x0005, 0x0006, 0x0007, 0x0008, 0x0009, 0x000a]], [[0x0001, 0x0002, 0x0003, 0x0004], [0x0005], [0x0006], [0x0007], [0x0008], [0x0009], [0x000a]], [[0x0001]]]], Vector{Vector{UInt16}}[[]], nothing, Union{Float64, Symmetric{Float64, S} where S<:(AbstractMatrix{<:Float64}), Matrix{Float64}}[[0.999999999998736 0.06667957164203671 … 0.00043396580719859857 -0.0006908251018637586; 0.06667957164203671 0.004448945870190442 … 2.8939414069897363e-5 -4.606909875298815e-5; … ; 0.00043396580719859857 2.8939414069897363e-5 … 1.5693637262879847e-6 -3.002398086265069e-7; -0.0006908251018637586 -4.606909875298815e-5 … -3.002398086265069e-7 1.859360850282988e-6]], \"Mosek\", MathOptInterface.OPTIMAL, 0.0001, 1))"
      ]
     },
     "metadata": {},
     "output_type": "display_data"
    }
   ],
   "source": [
    "opt,sol,data = cs_tssos_first([polyGEXY, constraints...], variables(polyGEXY), 2, solution=true)#, mosek_setting=settings)"
   ]
  },
  {
   "cell_type": "code",
   "execution_count": 75,
   "metadata": {},
   "outputs": [
    {
     "data": {
      "text/plain": [
       "2×2 Matrix{Polynomial{true, ComplexF64}}:\n",
       " (0.329563+0.0im)   (-0.0+0.254022im)\n",
       " (-0.0-0.254022im)  (0.195577+0.0im)"
      ]
     },
     "metadata": {},
     "output_type": "display_data"
    }
   ],
   "source": [
    "solution = variables(polyGEXY) => sol\n",
    "\n",
    "Hˢⁱᵈ = subs(Hˢʸᵐᵇ, solution)\n",
    "Cˢⁱᵈ = subs(Cˢʸᵐᵇ, solution)\n",
    "\n",
    "Cˢⁱᵈ[1:2, 1:2]"
   ]
  },
  {
   "cell_type": "code",
   "execution_count": 30,
   "metadata": {},
   "outputs": [
    {
     "name": "stdout",
     "output_type": "stream",
     "text": [
      "minimum(abs.(coefficients(polyGEXY))) = 6.086837819355578e-38\n",
      "maximum(abs.(coefficients(polyGEXY))) = 65.37495321955478\n"
     ]
    },
    {
     "data": {
      "text/plain": [
       "65.37495321955478"
      ]
     },
     "metadata": {},
     "output_type": "display_data"
    }
   ],
   "source": [
    "polyGEXY, constrGEXY = kossak_GEXY_obj_infid_constr(ρᵍᵉˣʸ, tᵍᵉˣʸ, Hˢʸᵐᵇ, Cˢʸᵐᵇ, fᴷᴼᴺᴮ)\n",
    "\n",
    "#polyGEXY = kossak_GEXY_obj(ρᵍᵉˣʸ, tᵍᵉˣʸ, Hˢʸᵐᵇ, Cˢʸᵐᵇ, fᴷᴼᴺᴮ)\n",
    "\n",
    "#polyGEXY = kossak_GEXY_obj_pseudo_fidelity(ρᵍᵉˣʸ, tᵍᵉˣʸ, Hˢʸᵐᵇ, Cˢʸᵐᵇ, fᴷᴼᴺᴮ)\n",
    "\n",
    "@show minimum(abs.(coefficients(polyGEXY)))\n",
    "@show maximum(abs.(coefficients(polyGEXY)))"
   ]
  },
  {
   "cell_type": "code",
   "execution_count": 14,
   "metadata": {},
   "outputs": [
    {
     "name": "stdout",
     "output_type": "stream",
     "text": [
      "minimum(abs.(coefficients(polyGEXY))) = 6.086837819355578e-38\n",
      "maximum(abs.(coefficients(polyGEXY))) = 65.37495321955478\n"
     ]
    },
    {
     "data": {
      "text/plain": [
       "65.37495321955478"
      ]
     },
     "metadata": {},
     "output_type": "display_data"
    }
   ],
   "source": [
    "   \n",
    "polyGEXY, constrGEXY = kossak_GEXY_obj_infid_constr(ρᵍᵉˣʸ, tᵍᵉˣʸ, Hˢʸᵐᵇ, Cˢʸᵐᵇ, fᴷᴼᴺᴮ)\n",
    "\n",
    "#polyGEXY = kossak_GEXY_obj(ρᵍᵉˣʸ, tᵍᵉˣʸ, Hˢʸᵐᵇ, Cˢʸᵐᵇ, fᴷᴼᴺᴮ)\n",
    "\n",
    "#polyGEXY = kossak_GEXY_obj_pseudo_fidelity(ρᵍᵉˣʸ, tᵍᵉˣʸ, Hˢʸᵐᵇ, Cˢʸᵐᵇ, fᴷᴼᴺᴮ)\n",
    "\n",
    "@show minimum(abs.(coefficients(polyGEXY)))\n",
    "@show maximum(abs.(coefficients(polyGEXY)))"
   ]
  },
  {
   "cell_type": "code",
   "execution_count": 22,
   "metadata": {},
   "outputs": [
    {
     "name": "stdout",
     "output_type": "stream",
     "text": [
      "minimum(abs.(coefficients(constrGEXY))) = 7.733730835084247e-15\n",
      "maximum(abs.(coefficients(constrGEXY))) = 0.08116270648482278\n"
     ]
    },
    {
     "data": {
      "text/plain": [
       "0.08116270648482278"
      ]
     },
     "metadata": {},
     "output_type": "display_data"
    }
   ],
   "source": [
    "constrGEXY\n",
    "@show minimum(abs.(coefficients(constrGEXY)))\n",
    "@show maximum(abs.(coefficients(constrGEXY)))"
   ]
  },
  {
   "cell_type": "code",
   "execution_count": 9,
   "metadata": {},
   "outputs": [
    {
     "data": {
      "text/plain": [
       "9"
      ]
     },
     "metadata": {},
     "output_type": "display_data"
    }
   ],
   "source": [
    "length(variables(polyGEXY))"
   ]
  },
  {
   "cell_type": "code",
   "execution_count": 8,
   "metadata": {},
   "outputs": [
    {
     "name": "stdout",
     "output_type": "stream",
     "text": [
      "2.0*x*y + 3.0*y^2\n"
     ]
    }
   ],
   "source": [
    "function filter_terms_by_relative_threshold(poly::Polynomial, relative_threshold::Float64)\n",
    "    # Get all coefficients of the polynomial\n",
    "    coeffs = coefficients(poly)\n",
    "    \n",
    "    # Find the largest coefficient by absolute value\n",
    "    max_coeff = maximum(abs.(coeffs))\n",
    "    \n",
    "    # Calculate the effective threshold\n",
    "    threshold = relative_threshold * max_coeff\n",
    "    \n",
    "    # Initialize an empty polynomial of the same type as the input\n",
    "    new_poly = zero(poly)\n",
    "    \n",
    "    # Iterate over the terms and coefficients of the polynomial\n",
    "    for (monomial, coeff) in zip(monomials(poly), coeffs)\n",
    "        if abs(coeff) >= threshold\n",
    "            new_poly += coeff * monomial\n",
    "        end\n",
    "    end\n",
    "    \n",
    "    return new_poly\n",
    "end\n",
    "\n",
    "# Example usage\n",
    "@polyvar x y\n",
    "p = 1e-13*x^2 + 2*x*y + 3*y^2 + 4e-14*y\n",
    "relative_threshold = 1e-12\n",
    "filtered_p = filter_terms_by_relative_threshold(p, relative_threshold)\n",
    "println(filtered_p)"
   ]
  },
  {
   "cell_type": "code",
   "execution_count": 10,
   "metadata": {},
   "outputs": [],
   "source": [
    "using BlackBoxOptim"
   ]
  },
  {
   "cell_type": "code",
   "execution_count": 38,
   "metadata": {},
   "outputs": [],
   "source": [
    "using TSSOS"
   ]
  },
  {
   "cell_type": "code",
   "execution_count": 23,
   "metadata": {},
   "outputs": [
    {
     "name": "stdout",
     "output_type": "stream",
     "text": [
      "*********************************** TSSOS ***********************************\n",
      "TSSOS is launching...\n",
      "-----------------------------------------------------------------------------\n",
      "The clique sizes of varibles:\n",
      "[9]\n",
      "[1]\n",
      "-----------------------------------------------------------------------------\n",
      "Obtained the variable cliques in 0.00020617 seconds. The maximal size of cliques is 9.\n",
      "Starting to compute the block structure...\n",
      "Obtained the block structure in 0.000484382 seconds.\n",
      "The maximal size of blocks is 55.\n",
      "Assembling the SDP...\n",
      "There are 715 affine constraints.\n",
      "SDP assembling time: 0.003203836 seconds.\n",
      "Solving the SDP...\n",
      "MOSEK warning 705 (MSK_RES_WRN_ZEROS_IN_SPARSE_ROW): 1 (nearly) zero elements are specified in sparse row ''(28) of matrix 'A'.\n",
      "MOSEK warning 705 (MSK_RES_WRN_ZEROS_IN_SPARSE_ROW): 1 (nearly) zero elements are specified in sparse row ''(69) of matrix 'A'.\n",
      "MOSEK warning 705 (MSK_RES_WRN_ZEROS_IN_SPARSE_ROW): 1 (nearly) zero elements are specified in sparse row ''(73) of matrix 'A'.\n",
      "MOSEK warning 705 (MSK_RES_WRN_ZEROS_IN_SPARSE_ROW): 1 (nearly) zero elements are specified in sparse row ''(214) of matrix 'A'.\n",
      "MOSEK warning 705 (MSK_RES_WRN_ZEROS_IN_SPARSE_ROW): 1 (nearly) zero elements are specified in sparse row ''(217) of matrix 'A'.\n",
      "MOSEK warning 705 (MSK_RES_WRN_ZEROS_IN_SPARSE_ROW): 1 (nearly) zero elements are specified in sparse row ''(238) of matrix 'A'.\n",
      "MOSEK warning 705 (MSK_RES_WRN_ZEROS_IN_SPARSE_ROW): 1 (nearly) zero elements are specified in sparse row ''(316) of matrix 'A'.\n",
      "MOSEK warning 705 (MSK_RES_WRN_ZEROS_IN_SPARSE_ROW): 1 (nearly) zero elements are specified in sparse row ''(379) of matrix 'A'.\n",
      "MOSEK warning 705 (MSK_RES_WRN_ZEROS_IN_SPARSE_ROW): 1 (nearly) zero elements are specified in sparse row ''(382) of matrix 'A'.\n",
      "MOSEK warning 705 (MSK_RES_WRN_ZEROS_IN_SPARSE_ROW): 1 (nearly) zero elements are specified in sparse row ''(385) of matrix 'A'.\n",
      "Warning number 705 is disabled.\n",
      "Problem\n",
      "  Name                   :                 \n",
      "  Objective sense        : maximize        \n",
      "  Type                   : CONIC (conic optimization problem)\n",
      "  Constraints            : 715             \n",
      "  Affine conic cons.     : 0               \n",
      "  Disjunctive cons.      : 0               \n",
      "  Cones                  : 0               \n",
      "  Scalar variables       : 3               \n",
      "  Matrix variables       : 9 (scalarized: 1980)\n",
      "  Integer variables      : 0               \n",
      "\n",
      "Optimizer started.\n",
      "Presolve started.\n",
      "Linear dependency checker started.\n",
      "Linear dependency checker terminated.\n",
      "Eliminator started.\n",
      "Freed constraints in eliminator : 0\n",
      "Eliminator terminated.\n",
      "Eliminator - tries                  : 1                 time                   : 0.00            \n",
      "Lin. dep.  - tries                  : 1                 time                   : 0.00            \n",
      "Lin. dep.  - primal attempts        : 1                 successes              : 1               \n",
      "Lin. dep.  - dual attempts          : 0                 successes              : 0               \n",
      "Lin. dep.  - primal deps.           : 0                 dual deps.             : 0               \n",
      "Presolve terminated. Time: 0.00    \n",
      "GP based matrix reordering started.\n",
      "GP based matrix reordering terminated.\n",
      "Optimizer  - threads                : 6               \n",
      "Optimizer  - solved problem         : the primal      \n",
      "Optimizer  - Constraints            : 715             \n",
      "Optimizer  - Cones                  : 1               \n",
      "Optimizer  - Scalar variables       : 4                 conic                  : 2               \n",
      "Optimizer  - Semi-definite variables: 9                 scalarized             : 1980            \n",
      "Factor     - setup time             : 0.01            \n",
      "Factor     - dense det. time        : 0.00              GP order time          : 0.00            \n",
      "Factor     - nonzeros before factor : 2.56e+05          after factor           : 2.56e+05        \n",
      "Factor     - dense dim.             : 0                 flops                  : 1.29e+08        \n",
      "ITE PFEAS    DFEAS    GFEAS    PRSTATUS   POBJ              DOBJ              MU       TIME  \n",
      "0   6.3e+01  1.0e+00  1.0e+00  0.00e+00   -0.000000000e+00  -0.000000000e+00  1.0e+00  0.01  \n",
      "1   4.3e+01  6.7e-01  7.9e-01  -9.15e-01  9.439040539e-02   -3.113542108e-01  6.7e-01  0.02  \n",
      "2   1.2e+01  1.8e-01  2.9e-01  -7.94e-01  1.654594582e+00   -1.608937605e-01  1.8e-01  0.02  \n",
      "3   3.2e+00  5.0e-02  2.3e-02  3.02e-01   4.539940314e+01   4.536353925e+01   5.0e-02  0.03  \n",
      "4   1.0e+00  1.6e-02  5.0e-03  1.30e+00   5.557405369e+01   5.552476629e+01   1.6e-02  0.04  \n",
      "5   2.8e-01  4.4e-03  1.2e-03  5.85e-01   5.547539112e+01   5.542213854e+01   4.4e-03  0.04  \n",
      "6   1.2e-01  1.8e-03  5.5e-04  2.35e-01   5.420193405e+01   5.412670884e+01   1.8e-03  0.05  \n",
      "7   3.0e-02  4.7e-04  1.2e-04  6.99e-01   5.206958144e+01   5.200802281e+01   4.7e-04  0.06  \n",
      "8   5.9e-03  9.3e-05  2.7e-05  -5.36e-02  4.912133567e+01   4.903942062e+01   9.3e-05  0.06  \n",
      "9   1.3e-03  2.1e-05  6.8e-06  -2.04e-01  4.560932110e+01   4.550426937e+01   2.1e-05  0.07  \n",
      "10  2.9e-04  4.6e-06  1.6e-06  -1.45e-01  4.142136029e+01   4.130268721e+01   4.6e-06  0.08  \n",
      "11  6.6e-05  1.0e-06  3.8e-07  -1.35e-01  3.667979789e+01   3.654383266e+01   1.0e-06  0.08  \n",
      "12  1.4e-05  2.3e-07  8.8e-08  -1.26e-01  3.131715773e+01   3.116731231e+01   2.3e-07  0.09  \n",
      "13  3.2e-06  5.1e-08  2.1e-08  -1.19e-01  2.554798289e+01   2.538703888e+01   5.1e-08  0.10  \n",
      "14  7.2e-07  1.1e-08  4.5e-09  -7.16e-02  1.947673235e+01   1.932157838e+01   1.1e-08  0.11  \n",
      "15  1.7e-07  2.6e-09  9.7e-10  -3.28e-02  1.352293400e+01   1.338539218e+01   2.6e-09  0.11  \n",
      "16  3.8e-08  5.9e-10  1.9e-10  7.35e-02   8.200641820e+00   8.103024870e+00   5.9e-10  0.12  \n",
      "17  8.4e-09  1.3e-10  3.1e-11  2.07e-01   4.071734408e+00   4.018633533e+00   1.3e-10  0.13  \n",
      "18  1.5e-09  2.5e-11  3.1e-12  4.40e-01   1.585255105e+00   1.569320600e+00   2.4e-11  0.13  \n",
      "19  5.1e-10  6.4e-12  3.5e-13  7.42e-01   8.016782379e-01   7.975839007e-01   5.5e-12  0.14  \n",
      "20  1.0e-10  1.0e-12  2.4e-14  8.88e-01   5.691459726e-01   5.684451543e-01   9.2e-13  0.15  \n",
      "21  3.4e-11  5.4e-12  5.0e-15  9.79e-01   5.339847660e-01   5.337110753e-01   3.0e-13  0.16  \n",
      "22  1.3e-11  4.5e-12  1.2e-15  9.57e-01   5.230076079e-01   5.228883159e-01   1.1e-13  0.17  \n",
      "23  4.5e-12  4.9e-11  2.5e-16  1.08e+00   5.183077560e-01   5.182698246e-01   4.0e-14  0.18  \n",
      "24  1.4e-12  2.4e-11  4.7e-17  9.29e-01   5.167218693e-01   5.167075828e-01   1.3e-14  0.18  \n",
      "25  4.7e-13  2.1e-10  9.2e-18  9.98e-01   5.162208507e-01   5.162160443e-01   4.2e-15  0.19  \n",
      "26  1.3e-13  2.7e-09  1.4e-18  1.00e+00   5.160246575e-01   5.160232946e-01   1.2e-15  0.20  \n",
      "27  1.1e-13  3.4e-09  1.1e-18  1.00e+00   5.160134272e-01   5.160122910e-01   9.6e-16  0.21  \n",
      "28  3.1e-14  8.7e-10  1.6e-19  1.00e+00   5.159715968e-01   5.159712771e-01   2.8e-16  0.22  \n",
      "29  2.7e-12  3.9e-09  2.8e-20  1.00e+00   5.159608032e-01   5.159607028e-01   8.7e-17  0.22  \n",
      "30  1.3e-11  2.0e-08  6.1e-21  1.00e+00   5.159577233e-01   5.159576872e-01   3.1e-17  0.23  \n",
      "31  1.3e-11  2.0e-08  6.1e-21  1.00e+00   5.159577233e-01   5.159576872e-01   3.1e-17  0.24  \n",
      "32  1.3e-11  2.0e-08  6.0e-21  9.93e-01   5.159578336e-01   5.159577976e-01   3.1e-17  0.25  \n",
      "33  1.3e-11  2.0e-08  6.0e-21  9.93e-01   5.159578336e-01   5.159577976e-01   3.1e-17  0.26  \n",
      "34  3.5e-12  1.3e-07  8.6e-22  1.00e+00   5.159566959e-01   5.159566863e-01   8.2e-18  0.27  \n",
      "Optimizer terminated. Time: 0.27    \n",
      "\n",
      "SDP solving time: 0.270967066 seconds.\n",
      "optimum = 0.5159566958983086\n",
      "Found a locally optimal solution by Ipopt, giving an upper bound: 0.51800986.\n",
      "The relative optimality gap is: 0.205316%.\n"
     ]
    },
    {
     "data": {
      "text/plain": [
       "(0.5159566958983086, [4.7809435967431545e-8, 4.012325203275053e-8, 7.45473721716024e-8, 1.0452200589589036e-6, 2.401075191374717e-6, 9.993004779952218e-5, -37.24497732787174, -0.0007091735339553856, 0.000286666107855685], TSSOS.mcpop_data(9, 0, 9, 0, Vector{Vector{UInt16}}[[[], [0x0001], [0x0001, 0x0001], [0x0001, 0x0004], [0x0001, 0x0007], [0x0001, 0x0009], [0x0002], [0x0002, 0x0002], [0x0002, 0x0005], [0x0002, 0x0007]  …  [0x0006, 0x0009], [0x0007], [0x0007, 0x0007], [0x0007, 0x0008], [0x0007, 0x0009], [0x0008], [0x0008, 0x0008], [0x0008, 0x0009], [0x0009], [0x0009, 0x0009]], [[0x0001, 0x0001, 0x0001, 0x0001], [0x0001, 0x0001, 0x0001, 0x0002], [0x0001, 0x0001, 0x0001, 0x0003], [0x0001, 0x0001, 0x0001, 0x0004], [0x0001, 0x0001, 0x0001, 0x0005], [0x0001, 0x0001, 0x0001, 0x0006], [0x0001, 0x0001, 0x0001, 0x0007], [0x0001, 0x0001, 0x0001, 0x0008], [0x0001, 0x0001, 0x0001, 0x0009], [0x0001, 0x0001, 0x0002, 0x0002]  …  [0x0001], [0x0002], [0x0003], [0x0004], [0x0005], [0x0006], [0x0007], [0x0008], [0x0009], []], [[0x0001], [0x0002], [0x0003]], [[0x0001], [0x0002], [0x0003]], [[0x0001], [0x0002], [0x0003]], [[0x0001]], [[0x0002]], [[0x0003]], [[0x0001, 0x0001], [0x0001, 0x0002], [0x0001, 0x0003], [0x0002, 0x0002], [0x0002, 0x0003], [0x0003, 0x0003], [0x0004, 0x0004], [0x0005, 0x0005], [0x0006, 0x0006]], [[0x0001, 0x0001, 0x0001], [0x0001, 0x0001, 0x0002], [0x0001, 0x0001, 0x0003], [0x0001, 0x0002, 0x0002], [0x0001, 0x0002, 0x0003], [0x0001, 0x0003, 0x0003], [0x0001, 0x0004, 0x0004], [0x0001, 0x0005, 0x0005], [0x0001, 0x0006, 0x0006], [0x0002, 0x0002, 0x0002], [0x0002, 0x0002, 0x0003], [0x0002, 0x0003, 0x0003], [0x0002, 0x0004, 0x0004], [0x0002, 0x0005, 0x0005], [0x0002, 0x0006, 0x0006], [0x0003, 0x0003, 0x0003], [0x0003, 0x0004, 0x0004], [0x0003, 0x0005, 0x0005], [0x0003, 0x0006, 0x0006]]], [[65.37495321955478, 0.1538464689475245, 0.023368540768171964, -0.000312937442609464, 0.0002343561221936031, 2.0252010187038515e-5, 0.15391501757220638, 0.023385699488060765, -0.0005870869047063936, -0.0002343561221936031  …  0.00031293744260946373, 3.4827212185616414, 0.04675424025623272, -2.0252010187038515e-5, 1.348662227272609e-5, -8.843375446241045e-5, 0.4678726132204721, 0.0002343561221936031, 0.00023322577609675047, 0.4678554545005834], [4.569045548319655e-8, 1.9275717525969356e-8, 2.9514928455229817e-8, -3.1116810198994295e-9, -8.10133199418895e-10, 6.845395747854859e-8, -4.4298812493874536e-8, -2.818488821828529e-11, 1.7293946485009952e-11, 2.1270148330517648e-8  …  -8.704923706040723e-5, -6.663688235074611e-5, -0.0008344475531547313, 1.660555446504466e-6, 4.39680715241702e-7, -0.0006683896002761107, 0.0005569760101403041, 8.063296531795876e-8, -5.541970756932517e-8, 0.08116270648482278], [-1.0, 1.0, 1.0], [1.0, -1.0, 1.0], [1.0, 1.0, -1.0], [1.0], [1.0], [1.0], [-1.0, 2.0, 2.0, -1.0, 2.0, -1.0, -1.0, -1.0, -1.0], [-1.0, 1.0, 1.0, 1.0, -2.0, 1.0, 1.0, -1.0, -1.0, -1.0, 1.0, 1.0, -1.0, 1.0, -1.0, -1.0, -1.0, -1.0, 1.0]], Vector{Vector{Vector{UInt16}}}[[[[], [0x0001], [0x0002], [0x0003], [0x0004], [0x0005], [0x0006], [0x0007], [0x0008], [0x0009]  …  [0x0008, 0x0008], [0x0001, 0x0009], [0x0002, 0x0009], [0x0003, 0x0009], [0x0004, 0x0009], [0x0005, 0x0009], [0x0006, 0x0009], [0x0007, 0x0009], [0x0008, 0x0009], [0x0009, 0x0009]], [[]], [[], [0x0001], [0x0002], [0x0003], [0x0004], [0x0005], [0x0006], [0x0007], [0x0008], [0x0009]], [[], [0x0001], [0x0002], [0x0003], [0x0004], [0x0005], [0x0006], [0x0007], [0x0008], [0x0009]], [[], [0x0001], [0x0002], [0x0003], [0x0004], [0x0005], [0x0006], [0x0007], [0x0008], [0x0009]], [[], [0x0001], [0x0002], [0x0003], [0x0004], [0x0005], [0x0006], [0x0007], [0x0008], [0x0009]], [[], [0x0001], [0x0002], [0x0003], [0x0004], [0x0005], [0x0006], [0x0007], [0x0008], [0x0009]], [[], [0x0001], [0x0002], [0x0003], [0x0004], [0x0005], [0x0006], [0x0007], [0x0008], [0x0009]], [[], [0x0001], [0x0002], [0x0003], [0x0004], [0x0005], [0x0006], [0x0007], [0x0008], [0x0009]], [[]]]], Vector{Vector{Vector{UInt16}}}[[]], Vector{UInt16}[[], [0x0001], [0x0001, 0x0001], [0x0001, 0x0001, 0x0001], [0x0001, 0x0001, 0x0001, 0x0001], [0x0001, 0x0001, 0x0001, 0x0002], [0x0001, 0x0001, 0x0001, 0x0003], [0x0001, 0x0001, 0x0001, 0x0004], [0x0001, 0x0001, 0x0001, 0x0005], [0x0001, 0x0001, 0x0001, 0x0006]  …  [0x0008, 0x0008, 0x0008, 0x0009], [0x0008, 0x0008, 0x0009], [0x0008, 0x0008, 0x0009, 0x0009], [0x0008, 0x0009], [0x0008, 0x0009, 0x0009], [0x0008, 0x0009, 0x0009, 0x0009], [0x0009], [0x0009, 0x0009], [0x0009, 0x0009, 0x0009], [0x0009, 0x0009, 0x0009, 0x0009]], 1, [9], Vector{UInt16}[[0x0001, 0x0002, 0x0003, 0x0004, 0x0005, 0x0006, 0x0007, 0x0008, 0x0009]], Vector{UInt32}[[0x00000001, 0x00000002, 0x00000003, 0x00000004, 0x00000005, 0x00000006, 0x00000007, 0x00000008, 0x00000009]], Vector{UInt32}[[]], UInt32[], Vector{UInt16}[[0x0037]], Vector{UInt16}[[0x0001]], Vector{UInt16}[[0x0001, 0x0001, 0x0001, 0x0001, 0x0001, 0x0001, 0x0001, 0x0001, 0x0001, 0x0001]], Vector{Vector{UInt16}}[[[0x0037], [0x0001], [0x000a], [0x000a], [0x000a], [0x000a], [0x000a], [0x000a], [0x000a], [0x0001]]], Vector{Vector{Vector{UInt16}}}[[[[0x0001, 0x0002, 0x0003, 0x0004, 0x0005, 0x0006, 0x0007, 0x0008, 0x0009, 0x000a  …  0x002e, 0x002f, 0x0030, 0x0031, 0x0032, 0x0033, 0x0034, 0x0035, 0x0036, 0x0037]], [[0x0001]], [[0x0001, 0x0002, 0x0003, 0x0004, 0x0005, 0x0006, 0x0007, 0x0008, 0x0009, 0x000a]], [[0x0001, 0x0002, 0x0003, 0x0004, 0x0005, 0x0006, 0x0007, 0x0008, 0x0009, 0x000a]], [[0x0001, 0x0002, 0x0003, 0x0004, 0x0005, 0x0006, 0x0007, 0x0008, 0x0009, 0x000a]], [[0x0001, 0x0002, 0x0003, 0x0004, 0x0005, 0x0006, 0x0007, 0x0008, 0x0009, 0x000a]], [[0x0001, 0x0002, 0x0003, 0x0004, 0x0005, 0x0006, 0x0007, 0x0008, 0x0009, 0x000a]], [[0x0001, 0x0002, 0x0003, 0x0004, 0x0005, 0x0006, 0x0007, 0x0008, 0x0009, 0x000a]], [[0x0001, 0x0002, 0x0003, 0x0004, 0x0005, 0x0006, 0x0007, 0x0008, 0x0009, 0x000a]], [[0x0001]]]], Vector{Vector{UInt16}}[[]], nothing, Union{Float64, Symmetric{Float64, S} where S<:(AbstractMatrix{<:Float64}), Matrix{Float64}}[[0.999999999999717 5.544388872863148e-6 … 0.005936554073348768 -0.0026294487934172667; 5.544388872863148e-6 0.0018259420284884767 … 1.4540810058312182e-6 -8.628110866217296e-7; … ; 0.005936554073348768 1.4540810058312182e-6 … 3.629955461364452e-5 -1.5612177611309102e-5; -0.0026294487934172667 -8.628110866217296e-7 … -1.5612177611309102e-5 7.99369584823309e-6]], \"Mosek\", MathOptInterface.OPTIMAL, 0.0001, 1))"
      ]
     },
     "metadata": {},
     "output_type": "display_data"
    }
   ],
   "source": [
    "opt,sol,data = cs_tssos_first([polyGEXY, constrGEXY, constraints...], variables(polyGEXY), 2, solution=true)#, mosek_setting=settings)"
   ]
  },
  {
   "cell_type": "code",
   "execution_count": 27,
   "metadata": {},
   "outputs": [
    {
     "name": "stdout",
     "output_type": "stream",
     "text": [
      "Starting to compute the block structure...\n",
      "No higher TS step of the CS-TSSOS hierarchy!\n"
     ]
    },
    {
     "data": {
      "text/plain": [
       "(nothing, nothing, TSSOS.mcpop_data(9, 0, 9, 0, Vector{Vector{UInt16}}[[[], [0x0001], [0x0001, 0x0001], [0x0001, 0x0004], [0x0001, 0x0007], [0x0001, 0x0009], [0x0002], [0x0002, 0x0002], [0x0002, 0x0005], [0x0002, 0x0007]  …  [0x0006, 0x0009], [0x0007], [0x0007, 0x0007], [0x0007, 0x0008], [0x0007, 0x0009], [0x0008], [0x0008, 0x0008], [0x0008, 0x0009], [0x0009], [0x0009, 0x0009]], [[0x0001, 0x0001, 0x0001, 0x0001], [0x0001, 0x0001, 0x0001, 0x0002], [0x0001, 0x0001, 0x0001, 0x0003], [0x0001, 0x0001, 0x0001, 0x0004], [0x0001, 0x0001, 0x0001, 0x0005], [0x0001, 0x0001, 0x0001, 0x0006], [0x0001, 0x0001, 0x0001, 0x0007], [0x0001, 0x0001, 0x0001, 0x0008], [0x0001, 0x0001, 0x0001, 0x0009], [0x0001, 0x0001, 0x0002, 0x0002]  …  [0x0001], [0x0002], [0x0003], [0x0004], [0x0005], [0x0006], [0x0007], [0x0008], [0x0009], []], [[0x0001], [0x0002], [0x0003]], [[0x0001], [0x0002], [0x0003]], [[0x0001], [0x0002], [0x0003]], [[0x0001]], [[0x0002]], [[0x0003]], [[0x0001, 0x0001], [0x0001, 0x0002], [0x0001, 0x0003], [0x0002, 0x0002], [0x0002, 0x0003], [0x0003, 0x0003], [0x0004, 0x0004], [0x0005, 0x0005], [0x0006, 0x0006]], [[0x0001, 0x0001, 0x0001], [0x0001, 0x0001, 0x0002], [0x0001, 0x0001, 0x0003], [0x0001, 0x0002, 0x0002], [0x0001, 0x0002, 0x0003], [0x0001, 0x0003, 0x0003], [0x0001, 0x0004, 0x0004], [0x0001, 0x0005, 0x0005], [0x0001, 0x0006, 0x0006], [0x0002, 0x0002, 0x0002], [0x0002, 0x0002, 0x0003], [0x0002, 0x0003, 0x0003], [0x0002, 0x0004, 0x0004], [0x0002, 0x0005, 0x0005], [0x0002, 0x0006, 0x0006], [0x0003, 0x0003, 0x0003], [0x0003, 0x0004, 0x0004], [0x0003, 0x0005, 0x0005], [0x0003, 0x0006, 0x0006]]], [[65.37495321955478, 0.1538464689475245, 0.023368540768171964, -0.000312937442609464, 0.0002343561221936031, 2.0252010187038515e-5, 0.15391501757220638, 0.023385699488060765, -0.0005870869047063936, -0.0002343561221936031  …  0.00031293744260946373, 3.4827212185616414, 0.04675424025623272, -2.0252010187038515e-5, 1.348662227272609e-5, -8.843375446241045e-5, 0.4678726132204721, 0.0002343561221936031, 0.00023322577609675047, 0.4678554545005834], [4.569045548319655e-8, 1.9275717525969356e-8, 2.9514928455229817e-8, -3.1116810198994295e-9, -8.10133199418895e-10, 6.845395747854859e-8, -4.4298812493874536e-8, -2.818488821828529e-11, 1.7293946485009952e-11, 2.1270148330517648e-8  …  -8.704923706040723e-5, -6.663688235074611e-5, -0.0008344475531547313, 1.660555446504466e-6, 4.39680715241702e-7, -0.0006683896002761107, 0.0005569760101403041, 8.063296531795876e-8, -5.541970756932517e-8, 0.08116270648482278], [-1.0, 1.0, 1.0], [1.0, -1.0, 1.0], [1.0, 1.0, -1.0], [1.0], [1.0], [1.0], [-1.0, 2.0, 2.0, -1.0, 2.0, -1.0, -1.0, -1.0, -1.0], [-1.0, 1.0, 1.0, 1.0, -2.0, 1.0, 1.0, -1.0, -1.0, -1.0, 1.0, 1.0, -1.0, 1.0, -1.0, -1.0, -1.0, -1.0, 1.0]], Vector{Vector{Vector{UInt16}}}[[[[], [0x0001], [0x0002], [0x0003], [0x0004], [0x0005], [0x0006], [0x0007], [0x0008], [0x0009]  …  [0x0008, 0x0008], [0x0001, 0x0009], [0x0002, 0x0009], [0x0003, 0x0009], [0x0004, 0x0009], [0x0005, 0x0009], [0x0006, 0x0009], [0x0007, 0x0009], [0x0008, 0x0009], [0x0009, 0x0009]], [[]], [[], [0x0001], [0x0002], [0x0003], [0x0004], [0x0005], [0x0006], [0x0007], [0x0008], [0x0009]], [[], [0x0001], [0x0002], [0x0003], [0x0004], [0x0005], [0x0006], [0x0007], [0x0008], [0x0009]], [[], [0x0001], [0x0002], [0x0003], [0x0004], [0x0005], [0x0006], [0x0007], [0x0008], [0x0009]], [[], [0x0001], [0x0002], [0x0003], [0x0004], [0x0005], [0x0006], [0x0007], [0x0008], [0x0009]], [[], [0x0001], [0x0002], [0x0003], [0x0004], [0x0005], [0x0006], [0x0007], [0x0008], [0x0009]], [[], [0x0001], [0x0002], [0x0003], [0x0004], [0x0005], [0x0006], [0x0007], [0x0008], [0x0009]], [[], [0x0001], [0x0002], [0x0003], [0x0004], [0x0005], [0x0006], [0x0007], [0x0008], [0x0009]], [[]]]], Vector{Vector{Vector{UInt16}}}[[]], Vector{UInt16}[[], [0x0001], [0x0001, 0x0001], [0x0001, 0x0001, 0x0001], [0x0001, 0x0001, 0x0001, 0x0001], [0x0001, 0x0001, 0x0001, 0x0002], [0x0001, 0x0001, 0x0001, 0x0003], [0x0001, 0x0001, 0x0001, 0x0004], [0x0001, 0x0001, 0x0001, 0x0005], [0x0001, 0x0001, 0x0001, 0x0006]  …  [0x0008, 0x0008, 0x0008, 0x0009], [0x0008, 0x0008, 0x0009], [0x0008, 0x0008, 0x0009, 0x0009], [0x0008, 0x0009], [0x0008, 0x0009, 0x0009], [0x0008, 0x0009, 0x0009, 0x0009], [0x0009], [0x0009, 0x0009], [0x0009, 0x0009, 0x0009], [0x0009, 0x0009, 0x0009, 0x0009]], 1, [9], Vector{UInt16}[[0x0001, 0x0002, 0x0003, 0x0004, 0x0005, 0x0006, 0x0007, 0x0008, 0x0009]], Vector{UInt32}[[0x00000001, 0x00000002, 0x00000003, 0x00000004, 0x00000005, 0x00000006, 0x00000007, 0x00000008, 0x00000009]], Vector{UInt32}[[]], UInt32[], Vector{UInt16}[[0x0037]], Vector{UInt16}[[0x0001]], Vector{UInt16}[[0x0001, 0x0001, 0x0001, 0x0001, 0x0001, 0x0001, 0x0001, 0x0001, 0x0001, 0x0001]], Vector{Vector{UInt16}}[[[0x0037], [0x0001], [0x000a], [0x000a], [0x000a], [0x000a], [0x000a], [0x000a], [0x000a], [0x0001]]], Vector{Vector{Vector{UInt16}}}[[[[0x0001, 0x0002, 0x0003, 0x0004, 0x0005, 0x0006, 0x0007, 0x0008, 0x0009, 0x000a  …  0x002e, 0x002f, 0x0030, 0x0031, 0x0032, 0x0033, 0x0034, 0x0035, 0x0036, 0x0037]], [[0x0001]], [[0x0001, 0x0002, 0x0003, 0x0004, 0x0005, 0x0006, 0x0007, 0x0008, 0x0009, 0x000a]], [[0x0001, 0x0002, 0x0003, 0x0004, 0x0005, 0x0006, 0x0007, 0x0008, 0x0009, 0x000a]], [[0x0001, 0x0002, 0x0003, 0x0004, 0x0005, 0x0006, 0x0007, 0x0008, 0x0009, 0x000a]], [[0x0001, 0x0002, 0x0003, 0x0004, 0x0005, 0x0006, 0x0007, 0x0008, 0x0009, 0x000a]], [[0x0001, 0x0002, 0x0003, 0x0004, 0x0005, 0x0006, 0x0007, 0x0008, 0x0009, 0x000a]], [[0x0001, 0x0002, 0x0003, 0x0004, 0x0005, 0x0006, 0x0007, 0x0008, 0x0009, 0x000a]], [[0x0001, 0x0002, 0x0003, 0x0004, 0x0005, 0x0006, 0x0007, 0x0008, 0x0009, 0x000a]], [[0x0001]]]], Vector{Vector{UInt16}}[[]], nothing, Union{Float64, Symmetric{Float64, S} where S<:(AbstractMatrix{<:Float64}), Matrix{Float64}}[[0.999999999999717 5.544388872863148e-6 … 0.005936554073348768 -0.0026294487934172667; 5.544388872863148e-6 0.0018259420284884767 … 1.4540810058312182e-6 -8.628110866217296e-7; … ; 0.005936554073348768 1.4540810058312182e-6 … 3.629955461364452e-5 -1.5612177611309102e-5; -0.0026294487934172667 -8.628110866217296e-7 … -1.5612177611309102e-5 7.99369584823309e-6]], \"Mosek\", MathOptInterface.OPTIMAL, 0.0001, 1))"
      ]
     },
     "metadata": {},
     "output_type": "display_data"
    }
   ],
   "source": [
    "opt_i2, sol_i2, data_i2  = cs_tssos_higher!(data, solution=true, TS=\"MD\")"
   ]
  },
  {
   "cell_type": "code",
   "execution_count": 24,
   "metadata": {},
   "outputs": [
    {
     "data": {
      "text/plain": [
       "2×2 Matrix{Polynomial{true, ComplexF64}}:\n",
       " (6.68612e-8+0.0im)  (0.0-9.993e-5im)\n",
       " (0.0+9.993e-5im)    (8.22336e-8+0.0im)"
      ]
     },
     "metadata": {},
     "output_type": "display_data"
    }
   ],
   "source": [
    "solution = variables(polyGEXY) => sol\n",
    "\n",
    "Cˢⁱᵈ = subs(Cˢʸᵐᵇ, solution)\n",
    "\n",
    "Cˢⁱᵈ[1:2, 1:2]"
   ]
  },
  {
   "cell_type": "code",
   "execution_count": 25,
   "metadata": {},
   "outputs": [
    {
     "data": {
      "text/plain": [
       "2×2 Matrix{Polynomial{true, ComplexF64}}:\n",
       " (-18.6225-0.0im)              (-0.000354587+0.000143333im)\n",
       " (-0.000354587-0.000143333im)  (18.6225-0.0im)"
      ]
     },
     "metadata": {},
     "output_type": "display_data"
    }
   ],
   "source": [
    "Hˢⁱᵈ = subs(Hˢʸᵐᵇ, solution)\n",
    "\n",
    "Hˢⁱᵈ"
   ]
  },
  {
   "cell_type": "code",
   "execution_count": 10,
   "metadata": {},
   "outputs": [
    {
     "data": {
      "text/plain": [
       "10000.0"
      ]
     },
     "execution_count": 10,
     "metadata": {},
     "output_type": "execute_result"
    }
   ],
   "source": [
    "settings = mosek_para()\n",
    "settings.tol_pfeas = 1e-9 # primal feasibility tolerance\n",
    "settings.tol_dfeas = 1e-9 # dual feasibility tolerance\n",
    "settings.tol_relgap = 1e-9 # relative primal-dual gap tolerance\n",
    "settings.time_limit = 1e4 # limit of running time"
   ]
  },
  {
   "cell_type": "code",
   "execution_count": 11,
   "metadata": {},
   "outputs": [
    {
     "data": {
      "text/plain": [
       "2"
      ]
     },
     "execution_count": 11,
     "metadata": {},
     "output_type": "execute_result"
    }
   ],
   "source": [
    "maxdegree(polyGEXY)"
   ]
  },
  {
   "cell_type": "code",
   "execution_count": 12,
   "metadata": {},
   "outputs": [
    {
     "data": {
      "text/latex": [
       "$$ γ_{1}^{4} + γ_{2}^{4} + γ_{3}^{4} + a_{1}^{4} + a_{2}^{4} + a_{3}^{4} $$"
      ],
      "text/plain": [
       "γ₁⁴ + γ₂⁴ + γ₃⁴ + a₁⁴ + a₂⁴ + a₃⁴"
      ]
     },
     "execution_count": 12,
     "metadata": {},
     "output_type": "execute_result"
    }
   ],
   "source": [
    "r4 = sum(variables(polyGEXY)[1:end-3].^4)"
   ]
  },
  {
   "cell_type": "code",
   "execution_count": 13,
   "metadata": {},
   "outputs": [
    {
     "data": {
      "text/plain": [
       "9-element Vector{PolyVar{true}}:\n",
       " γ₁\n",
       " γ₂\n",
       " γ₃\n",
       " a₁\n",
       " a₂\n",
       " a₃\n",
       " ϵ\n",
       " h_Re\n",
       " h_Im"
      ]
     },
     "execution_count": 13,
     "metadata": {},
     "output_type": "execute_result"
    }
   ],
   "source": [
    "variables(polyGEXY)"
   ]
  },
  {
   "cell_type": "code",
   "execution_count": 57,
   "metadata": {},
   "outputs": [
    {
     "ename": "LoadError",
     "evalue": "MethodError: no method matching *(::Nothing, ::Vector{UInt16})\n\u001b[0mClosest candidates are:\n\u001b[0m  *(::Any, ::Any, \u001b[91m::Any\u001b[39m, \u001b[91m::Any...\u001b[39m) at ~/julia-1.7.3/share/julia/base/operators.jl:655\n\u001b[0m  *(\u001b[91m::StridedMatrix{T}\u001b[39m, ::StridedVector{S}) where {T<:Union{Float32, Float64, ComplexF32, ComplexF64}, S<:Real} at ~/julia-1.7.3/share/julia/stdlib/v1.7/LinearAlgebra/src/matmul.jl:44\n\u001b[0m  *(\u001b[91m::StridedMatrix{var\"#s31\"} where var\"#s31\"<:MutableArithmetics.AbstractMutable\u001b[39m, ::StridedVector{var\"#s37\"} where var\"#s37\") at ~/.julia/packages/MutableArithmetics/iovKe/src/dispatch.jl:359\n\u001b[0m  ...",
     "output_type": "error",
     "traceback": [
      "MethodError: no method matching *(::Nothing, ::Vector{UInt16})\n\u001b[0mClosest candidates are:\n\u001b[0m  *(::Any, ::Any, \u001b[91m::Any\u001b[39m, \u001b[91m::Any...\u001b[39m) at ~/julia-1.7.3/share/julia/base/operators.jl:655\n\u001b[0m  *(\u001b[91m::StridedMatrix{T}\u001b[39m, ::StridedVector{S}) where {T<:Union{Float32, Float64, ComplexF32, ComplexF64}, S<:Real} at ~/julia-1.7.3/share/julia/stdlib/v1.7/LinearAlgebra/src/matmul.jl:44\n\u001b[0m  *(\u001b[91m::StridedMatrix{var\"#s31\"} where var\"#s31\"<:MutableArithmetics.AbstractMutable\u001b[39m, ::StridedVector{var\"#s37\"} where var\"#s37\") at ~/.julia/packages/MutableArithmetics/iovKe/src/dispatch.jl:359\n\u001b[0m  ...",
      "",
      "Stacktrace:",
      " [1] polys_info(pop::Vector{Polynomial{true, Float64}}, x::Vector{PolyVar{true}}; nb::Int64)",
      "   @ TSSOS ~/.julia/packages/TSSOS/pPtmm/src/utils.jl:297",
      " [2] #cs_tssos_first#83",
      "   @ ~/.julia/packages/TSSOS/pPtmm/src/nblockmix.jl:64 [inlined]",
      " [3] top-level scope",
      "   @ In[57]:1"
     ]
    }
   ],
   "source": [
    "opt,sol,data = cs_tssos_first([polyGEXY,constraints...], variables(polyGEXY), 2, solution=true, mosek_setting=settings)"
   ]
  },
  {
   "cell_type": "code",
   "execution_count": 15,
   "metadata": {},
   "outputs": [
    {
     "data": {
      "text/plain": [
       "2×2 Matrix{Polynomial{true, ComplexF64}}:\n",
       " (0.357415+0.0im)   (-0.0+0.257095im)\n",
       " (-0.0-0.257095im)  (0.184727+0.0im)"
      ]
     },
     "execution_count": 15,
     "metadata": {},
     "output_type": "execute_result"
    }
   ],
   "source": [
    "solution = variables(polyGEXY) => sol\n",
    "\n",
    "Cˢⁱᵈ = subs(Cˢʸᵐᵇ, solution)\n",
    "\n",
    "Cˢⁱᵈ[1:2, 1:2]"
   ]
  },
  {
   "cell_type": "code",
   "execution_count": 43,
   "metadata": {},
   "outputs": [
    {
     "data": {
      "text/plain": [
       "2×2 Matrix{Polynomial{true, ComplexF64}}:\n",
       " (0.182096+0.0im)    (0.0-2.92046e-6im)\n",
       " (0.0+2.92046e-6im)  (0.000136974+0.0im)"
      ]
     },
     "execution_count": 43,
     "metadata": {},
     "output_type": "execute_result"
    }
   ],
   "source": [
    "Cˢⁱᵈ[2:3, 2:3]"
   ]
  },
  {
   "cell_type": "code",
   "execution_count": 26,
   "metadata": {},
   "outputs": [
    {
     "name": "stdout",
     "output_type": "stream",
     "text": [
      "Starting to compute the block structure...\n",
      "Obtained the block structure in 0.002455888 seconds.\n",
      "The maximal size of blocks is 45.\n",
      "Assembling the SDP...\n",
      "There are 615 affine constraints.\n",
      "SDP assembling time: 0.016639253 seconds.\n",
      "Solving the SDP...\n",
      "Problem\n",
      "  Name                   :                 \n",
      "  Objective sense        : maximize        \n",
      "  Type                   : CONIC (conic optimization problem)\n",
      "  Constraints            : 615             \n",
      "  Affine conic cons.     : 0               \n",
      "  Disjunctive cons.      : 0               \n",
      "  Cones                  : 0               \n",
      "  Scalar variables       : 2               \n",
      "  Matrix variables       : 11 (scalarized: 2079)\n",
      "  Integer variables      : 0               \n",
      "\n",
      "Optimizer started.\n",
      "Presolve started.\n",
      "Linear dependency checker started.\n",
      "Linear dependency checker terminated.\n",
      "Eliminator started.\n",
      "Freed constraints in eliminator : 0\n",
      "Eliminator terminated.\n",
      "Eliminator - tries                  : 1                 time                   : 0.00            \n",
      "Lin. dep.  - tries                  : 1                 time                   : 0.00            \n",
      "Lin. dep.  - primal attempts        : 1                 successes              : 1               \n",
      "Lin. dep.  - dual attempts          : 0                 successes              : 0               \n",
      "Lin. dep.  - primal deps.           : 0                 dual deps.             : 0               \n",
      "Presolve terminated. Time: 0.00    \n",
      "GP based matrix reordering started.\n",
      "GP based matrix reordering terminated.\n",
      "Optimizer  - threads                : 36              \n",
      "Optimizer  - solved problem         : the primal      \n",
      "Optimizer  - Constraints            : 615             \n",
      "Optimizer  - Cones                  : 1               \n",
      "Optimizer  - Scalar variables       : 3                 conic                  : 2               \n",
      "Optimizer  - Semi-definite variables: 11                scalarized             : 2079            \n",
      "Factor     - setup time             : 0.03            \n",
      "Factor     - dense det. time        : 0.01              GP order time          : 0.00            \n",
      "Factor     - nonzeros before factor : 1.55e+05          after factor           : 1.55e+05        \n",
      "Factor     - dense dim.             : 0                 flops                  : 5.37e+07        \n",
      "Factor     - GP saved nzs           : 3.42e+04          GP saved flops         : 2.77e+07        \n",
      "ITE PFEAS    DFEAS    GFEAS    PRSTATUS   POBJ              DOBJ              MU       TIME  \n",
      "0   6.1e+01  1.0e+00  1.0e+00  0.00e+00   -0.000000000e+00  -0.000000000e+00  1.0e+00  0.03  \n",
      "1   4.0e+01  6.5e-01  7.5e-01  -8.67e-01  1.846065552e-01   -2.075343262e-01  6.5e-01  0.05  \n",
      "2   1.3e+01  2.0e-01  2.8e-01  -6.39e-01  1.719280509e+00   4.599576247e-01   2.0e-01  0.06  \n",
      "3   1.1e+01  1.7e-01  2.3e-01  5.96e-01   2.468856781e+01   2.349892845e+01   1.7e-01  0.07  \n",
      "4   2.5e+00  4.1e-02  2.1e-02  5.03e-01   5.165150468e+01   5.152424708e+01   4.1e-02  0.09  \n",
      "5   9.3e-01  1.5e-02  5.1e-03  9.77e-01   5.403126947e+01   5.396201308e+01   1.5e-02  0.10  \n",
      "6   3.1e-01  5.0e-03  1.5e-03  4.00e-01   5.279849659e+01   5.273088478e+01   5.0e-03  0.11  \n",
      "7   7.8e-02  1.3e-03  3.7e-04  2.08e-01   5.062540987e+01   5.055334061e+01   1.3e-03  0.12  \n",
      "8   3.2e-02  5.1e-04  1.5e-04  8.98e-02   4.866751384e+01   4.858937604e+01   5.1e-04  0.14  \n",
      "9   8.4e-03  1.4e-04  4.0e-05  1.59e-02   4.547497277e+01   4.539202073e+01   1.4e-04  0.15  \n",
      "10  3.2e-03  5.3e-05  1.6e-05  -6.01e-02  4.281131914e+01   4.272244877e+01   5.3e-05  0.16  \n",
      "11  7.9e-04  1.3e-05  4.1e-06  -1.54e-02  3.850937653e+01   3.841177146e+01   1.3e-05  0.17  \n",
      "12  3.1e-04  5.1e-06  1.6e-06  1.73e-02   3.536909817e+01   3.526635966e+01   5.1e-06  0.18  \n",
      "13  7.0e-05  1.1e-06  4.1e-07  -4.92e-02  3.000528349e+01   2.987721719e+01   1.1e-06  0.20  \n",
      "14  2.1e-05  3.4e-07  1.2e-07  4.43e-03   2.497720946e+01   2.485283221e+01   3.4e-07  0.21  \n",
      "15  4.8e-06  7.8e-08  2.6e-08  3.53e-02   1.885628223e+01   1.874093263e+01   7.8e-08  0.22  \n",
      "16  1.4e-06  2.3e-08  7.6e-09  -2.32e-02  1.386857686e+01   1.375717223e+01   2.3e-08  0.23  \n",
      "17  3.5e-07  5.7e-09  1.7e-09  1.22e-01   8.762105697e+00   8.669308088e+00   5.7e-09  0.24  \n",
      "18  1.0e-07  1.7e-09  4.1e-10  3.28e-01   4.915856914e+00   4.856476108e+00   1.7e-09  0.26  \n",
      "19  2.2e-08  3.6e-10  6.0e-11  4.04e-01   1.869112680e+00   1.841694558e+00   3.6e-10  0.27  \n",
      "20  4.1e-09  6.7e-11  5.3e-12  6.32e-01   4.482802321e-01   4.420031452e-01   6.7e-11  0.28  \n",
      "21  6.5e-10  1.3e-11  4.0e-13  8.85e-01   8.829184068e-02   8.728419562e-02   1.2e-11  0.29  \n",
      "22  4.1e-11  5.5e-12  3.0e-14  9.90e-01   1.560377986e-02   1.539318362e-02   2.1e-12  0.31  \n",
      "23  1.4e-11  7.9e-12  6.4e-15  1.01e+00   5.625630897e-03   5.546081992e-03   7.2e-13  0.32  \n",
      "24  4.5e-12  2.0e-11  1.3e-15  9.42e-01   2.082558783e-03   2.051855126e-03   2.3e-13  0.34  \n",
      "25  1.8e-12  3.4e-11  3.1e-16  1.05e+00   9.939723695e-04   9.825611517e-04   9.2e-14  0.36  \n",
      "26  4.7e-13  4.5e-10  4.5e-17  9.65e-01   4.761140740e-04   4.726841824e-04   2.4e-14  0.37  \n",
      "27  2.6e-13  2.5e-10  1.8e-17  1.01e+00   3.886163280e-04   3.867937707e-04   1.3e-14  0.39  \n",
      "28  2.2e-13  1.3e-09  1.4e-17  1.00e+00   3.747512146e-04   3.731742830e-04   1.1e-14  0.40  \n",
      "29  2.1e-13  1.9e-09  1.3e-17  9.98e-01   3.683771917e-04   3.669141752e-04   1.0e-14  0.42  \n",
      "30  2.0e-13  1.4e-09  1.2e-17  1.00e+00   3.651835505e-04   3.637751179e-04   9.7e-15  0.43  \n",
      "31  2.0e-13  1.4e-09  1.2e-17  1.00e+00   3.650559237e-04   3.636497264e-04   9.7e-15  0.44  \n",
      "32  2.0e-13  1.4e-09  1.2e-17  9.98e-01   3.649382347e-04   3.635341867e-04   9.7e-15  0.46  \n",
      "33  2.0e-13  1.4e-09  1.2e-17  1.00e+00   3.648801269e-04   3.634771149e-04   9.7e-15  0.48  \n",
      "34  2.0e-13  1.4e-09  1.2e-17  9.99e-01   3.648752320e-04   3.634723114e-04   9.7e-15  0.49  \n",
      "35  2.0e-13  1.4e-09  1.2e-17  1.00e+00   3.648685516e-04   3.634657503e-04   9.7e-15  0.50  \n",
      "36  2.0e-13  1.4e-09  1.2e-17  9.99e-01   3.648682695e-04   3.634654736e-04   9.7e-15  0.52  \n",
      "37  2.0e-13  1.4e-09  1.2e-17  9.99e-01   3.648682695e-04   3.634654736e-04   9.7e-15  0.53  \n",
      "38  1.9e-13  1.4e-09  1.2e-17  1.00e+00   3.623775487e-04   3.609894712e-04   9.6e-15  0.55  \n",
      "39  5.5e-14  4.6e-09  1.8e-18  1.00e+00   3.062385165e-04   3.058461363e-04   2.7e-15  0.56  \n",
      "40  3.7e-11  7.1e-09  5.0e-19  1.00e+00   2.944165807e-04   2.942484925e-04   1.2e-15  0.57  \n",
      "41  6.6e-13  4.7e-08  6.5e-20  1.00e+00   2.874322515e-04   2.873891272e-04   3.0e-16  0.58  \n",
      "42  1.2e-11  8.1e-08  1.8e-20  1.00e+00   2.861362139e-04   2.861184494e-04   1.3e-16  0.59  \n",
      "43  2.1e-12  1.2e-07  2.6e-21  1.00e+00   2.854067543e-04   2.854019197e-04   3.4e-17  0.60  \n",
      "Optimizer terminated. Time: 0.60    \n",
      "\n",
      "SDP solving time: 0.618644987 seconds.\n",
      "optimum = 0.0002854067543135459\n",
      "Found a locally optimal solution by Ipopt, giving an upper bound: 0.00095300.\n",
      "The relative optimality gap is: 0.066759%.\n"
     ]
    },
    {
     "data": {
      "text/plain": [
       "(0.0002854067543135459, [0.09243120338768061, 0.17877539169851442, 0.27107081825440427, 2.9094816545861705e-6, 2.0840956763762985e-7, -0.25709451998041966, 25.14090334816911, 0.00027513778473787516, -0.000145458125791655], TSSOS.mcpop_data(9, 0, 6, 0, Vector{Vector{UInt16}}[[[], [0x0001], [0x0001, 0x0001], [0x0001, 0x0004], [0x0001, 0x0007], [0x0001, 0x0009], [0x0002], [0x0002, 0x0002], [0x0002, 0x0005], [0x0002, 0x0007]  …  [0x0006, 0x0009], [0x0007], [0x0007, 0x0007], [0x0007, 0x0008], [0x0007, 0x0009], [0x0008], [0x0008, 0x0008], [0x0008, 0x0009], [0x0009], [0x0009, 0x0009]], [[0x0001]], [[0x0002]], [[0x0003]], [[0x0001], [0x0002], [0x0003]], [[0x0001, 0x0001], [0x0001, 0x0002], [0x0001, 0x0003], [0x0002, 0x0002], [0x0002, 0x0003], [0x0003, 0x0003], [0x0004, 0x0004], [0x0005, 0x0005], [0x0006, 0x0006]], [[0x0001, 0x0001, 0x0001], [0x0001, 0x0001, 0x0002], [0x0001, 0x0001, 0x0003], [0x0001, 0x0002, 0x0002], [0x0001, 0x0002, 0x0003], [0x0001, 0x0003, 0x0003], [0x0001, 0x0004, 0x0004], [0x0001, 0x0005, 0x0005], [0x0001, 0x0006, 0x0006], [0x0002, 0x0002, 0x0002], [0x0002, 0x0002, 0x0003], [0x0002, 0x0003, 0x0003], [0x0002, 0x0004, 0x0004], [0x0002, 0x0005, 0x0005], [0x0002, 0x0006, 0x0006], [0x0003, 0x0003, 0x0003], [0x0003, 0x0004, 0x0004], [0x0003, 0x0005, 0x0005], [0x0003, 0x0006, 0x0006]]], [[65.37495321955478, -0.013017661776398296, 0.05168674709213622, -0.0008044950814777315, 0.0005179676236185148, 4.104630886766538e-5, -0.012979980165655292, 0.05172488613394287, -0.0012450858989678402, -0.0005179676236185148  …  0.0008044950814777305, -5.199679015672933, 0.10341163322607885, -4.104630886766538e-5, 3.451755329501592e-5, 0.00013669789552729324, 1.0519096548020683, 0.0005179676236185148, -0.00035392288736811996, 1.0518715157602614], [1.0], [1.0], [1.0], [1.0, 1.0, 1.0], [-1.0, 2.0, 2.0, -1.0, 2.0, -1.0, 1.0, -1.0, -1.0], [-1.0, 1.0, 1.0, 1.0, -2.0, 1.0, 1.0, -1.0, -1.0, -1.0, 1.0, 1.0, -1.0, 1.0, -1.0, -1.0, -1.0, -1.0, 1.0]], Vector{Vector{Vector{UInt16}}}[[[[], [0x0001], [0x0002], [0x0003], [0x0004], [0x0005], [0x0006], [0x0007], [0x0009], [0x0001, 0x0001]  …  [0x0006, 0x0007], [0x0007, 0x0007], [0x0001, 0x0009], [0x0002, 0x0009], [0x0003, 0x0009], [0x0004, 0x0009], [0x0005, 0x0009], [0x0006, 0x0009], [0x0007, 0x0009], [0x0009, 0x0009]], [[], [0x0001], [0x0002], [0x0003], [0x0004], [0x0005], [0x0006], [0x0007], [0x0009]], [[], [0x0001], [0x0002], [0x0003], [0x0004], [0x0005], [0x0006], [0x0007], [0x0009]], [[], [0x0001], [0x0002], [0x0003], [0x0004], [0x0005], [0x0006], [0x0007], [0x0009]], [[], [0x0001], [0x0002], [0x0003], [0x0004], [0x0005], [0x0006], [0x0007], [0x0009]], [[], [0x0001], [0x0002], [0x0003], [0x0004], [0x0005], [0x0006], [0x0007], [0x0009]], [[]]], [[[], [0x0002], [0x0003], [0x0005], [0x0006], [0x0007], [0x0008], [0x0009], [0x0002, 0x0002], [0x0002, 0x0003]  …  [0x0006, 0x0008], [0x0007, 0x0008], [0x0008, 0x0008], [0x0002, 0x0009], [0x0003, 0x0009], [0x0005, 0x0009], [0x0006, 0x0009], [0x0007, 0x0009], [0x0008, 0x0009], [0x0009, 0x0009]], [[], [0x0002], [0x0003], [0x0005], [0x0006], [0x0007], [0x0008], [0x0009]], [[], [0x0002], [0x0003], [0x0005], [0x0006], [0x0007], [0x0008], [0x0009]]]], Vector{Vector{Vector{UInt16}}}[[], []], Vector{UInt16}[[], [0x0001], [0x0001, 0x0001], [0x0001, 0x0001, 0x0001], [0x0001, 0x0001, 0x0001, 0x0001], [0x0001, 0x0001, 0x0001, 0x0002], [0x0001, 0x0001, 0x0001, 0x0003], [0x0001, 0x0001, 0x0001, 0x0004], [0x0001, 0x0001, 0x0001, 0x0005], [0x0001, 0x0001, 0x0001, 0x0006]  …  [0x0008, 0x0008, 0x0008, 0x0009], [0x0008, 0x0008, 0x0009], [0x0008, 0x0008, 0x0009, 0x0009], [0x0008, 0x0009], [0x0008, 0x0009, 0x0009], [0x0008, 0x0009, 0x0009, 0x0009], [0x0009], [0x0009, 0x0009], [0x0009, 0x0009, 0x0009], [0x0009, 0x0009, 0x0009, 0x0009]], 2, [8, 7], Vector{UInt16}[[0x0001, 0x0002, 0x0003, 0x0004, 0x0005, 0x0006, 0x0007, 0x0009], [0x0002, 0x0003, 0x0005, 0x0006, 0x0007, 0x0008, 0x0009]], Vector{UInt32}[[0x00000001, 0x00000002, 0x00000003, 0x00000004, 0x00000005, 0x00000006], [0x00000002, 0x00000003]], Vector{UInt32}[[], []], UInt32[], Vector{UInt16}[[0x002d], [0x0024]], Vector{UInt16}[[0x0001], [0x0001]], Vector{UInt16}[[0x0001, 0x0001, 0x0001, 0x0001, 0x0001, 0x0001, 0x0001], [0x0001, 0x0001, 0x0001]], Vector{Vector{UInt16}}[[[0x002d], [0x0009], [0x0009], [0x0009], [0x0009], [0x0009], [0x0001]], [[0x0024], [0x0008], [0x0008]]], Vector{Vector{Vector{UInt16}}}[[[[0x0001, 0x0002, 0x0003, 0x0004, 0x0005, 0x0006, 0x0007, 0x0008, 0x0009, 0x000a  …  0x0024, 0x0025, 0x0026, 0x0027, 0x0028, 0x0029, 0x002a, 0x002b, 0x002c, 0x002d]], [[0x0001, 0x0002, 0x0003, 0x0004, 0x0005, 0x0006, 0x0007, 0x0008, 0x0009]], [[0x0001, 0x0002, 0x0003, 0x0004, 0x0005, 0x0006, 0x0007, 0x0008, 0x0009]], [[0x0001, 0x0002, 0x0003, 0x0004, 0x0005, 0x0006, 0x0007, 0x0008, 0x0009]], [[0x0001, 0x0002, 0x0003, 0x0004, 0x0005, 0x0006, 0x0007, 0x0008, 0x0009]], [[0x0001, 0x0002, 0x0003, 0x0004, 0x0005, 0x0006, 0x0007, 0x0008, 0x0009]], [[0x0001]]], [[[0x0001, 0x0002, 0x0003, 0x0004, 0x0005, 0x0006, 0x0007, 0x0008, 0x0009, 0x000a  …  0x001b, 0x001c, 0x001d, 0x001e, 0x001f, 0x0020, 0x0021, 0x0022, 0x0023, 0x0024]], [[0x0001, 0x0002, 0x0003, 0x0004, 0x0005, 0x0006, 0x0007, 0x0008]], [[0x0001, 0x0002, 0x0003, 0x0004, 0x0005, 0x0006, 0x0007, 0x0008]]]], Vector{Vector{UInt16}}[[], []], nothing, Union{Float64, Symmetric{Float64, S} where S<:(AbstractMatrix{<:Float64}), Matrix{Float64}}[[0.9999999999995792 0.06307045805118115 … 25.141174470871334 -0.0010286843267622247; 0.06307045805118115 0.00397826921502012 … 1.5856653872294928 -6.488037231480773e-5; … ; 25.141174470871334 1.5856653872294928 … 632.0786540602006 -0.025862331434736516; -0.0010286843267622247 -6.488037231480773e-5 … -0.025862331434736516 1.2340492479986218e-6], [0.9999999999995792 0.25837741864837666 … 0.0005767311196143159 -0.0010286843267622247; 0.25837741864837666 0.06675942192927814 … 0.00014901544597390438 -0.00026578889540358617; … ; 0.0005767311196143159 0.00014901544597390438 … 4.968419784272214e-7 -5.935066043186196e-7; -0.0010286843267622247 -0.00026578889540358617 … -5.935066043186196e-7 1.2340492479986218e-6]], \"Mosek\", MathOptInterface.OPTIMAL, 0.0001, 1))"
      ]
     },
     "execution_count": 26,
     "metadata": {},
     "output_type": "execute_result"
    }
   ],
   "source": [
    "opt1,sol1,data1 = cs_tssos_higher!(data, solution=true)"
   ]
  },
  {
   "cell_type": "code",
   "execution_count": 32,
   "metadata": {},
   "outputs": [
    {
     "data": {
      "text/plain": [
       "PolyVar{true}[γ₁, γ₂, γ₃, a₁, a₂, a₃, ϵ, h_Re, h_Im] => [0.09243120338768061, 0.17877539169851442, 0.27107081825440427, 2.9094816545861705e-6, 2.0840956763762985e-7, -0.25709451998041966, 25.14090334816911, 0.00027513778473787516, -0.000145458125791655]"
      ]
     },
     "execution_count": 32,
     "metadata": {},
     "output_type": "execute_result"
    }
   ],
   "source": [
    "solution1"
   ]
  },
  {
   "cell_type": "code",
   "execution_count": 27,
   "metadata": {},
   "outputs": [
    {
     "data": {
      "text/plain": [
       "2×2 Matrix{Polynomial{true, ComplexF64}}:\n",
       " (0.357415+0.0im)   (-0.0+0.257095im)\n",
       " (-0.0-0.257095im)  (0.184727+0.0im)"
      ]
     },
     "execution_count": 27,
     "metadata": {},
     "output_type": "execute_result"
    }
   ],
   "source": [
    "solution1 = variables(polyGEXY) => sol1\n",
    "\n",
    "Cˢⁱᵈ = subs(Cˢʸᵐᵇ, solution1)\n",
    "\n",
    "Cˢⁱᵈ[1:2, 1:2]"
   ]
  },
  {
   "cell_type": "code",
   "execution_count": 30,
   "metadata": {},
   "outputs": [
    {
     "name": "stdout",
     "output_type": "stream",
     "text": [
      "*********************************** TSSOS ***********************************\n",
      "TSSOS is launching...\n",
      "Starting to compute the block structure...\n",
      "-----------------------------------------------------------------------------\n",
      "The sizes of PSD blocks:\n",
      "[22, 1]\n",
      "[1, 9]\n",
      "-----------------------------------------------------------------------------\n",
      "Obtained the block structure. The maximal size of blocks is 22.\n",
      "Assembling the SDP...\n",
      "There are 212 affine constraints.\n",
      "Solving the SDP...\n",
      "Problem\n",
      "  Name                   :                 \n",
      "  Objective sense        : maximize        \n",
      "  Type                   : CONIC (conic optimization problem)\n",
      "  Constraints            : 212             \n",
      "  Affine conic cons.     : 0               \n",
      "  Disjunctive cons.      : 0               \n",
      "  Cones                  : 0               \n",
      "  Scalar variables       : 10              \n",
      "  Matrix variables       : 2 (scalarized: 308)\n",
      "  Integer variables      : 0               \n",
      "\n",
      "Optimizer started.\n",
      "Presolve started.\n",
      "Linear dependency checker started.\n",
      "Linear dependency checker terminated.\n",
      "Eliminator started.\n",
      "Freed constraints in eliminator : 0\n",
      "Eliminator terminated.\n",
      "Eliminator - tries                  : 1                 time                   : 0.00            \n",
      "Lin. dep.  - tries                  : 1                 time                   : 0.00            \n",
      "Lin. dep.  - primal attempts        : 1                 successes              : 1               \n",
      "Lin. dep.  - dual attempts          : 0                 successes              : 0               \n",
      "Lin. dep.  - primal deps.           : 0                 dual deps.             : 0               \n",
      "Presolve terminated. Time: 0.00    \n",
      "GP based matrix reordering started.\n",
      "GP based matrix reordering terminated.\n",
      "Optimizer  - threads                : 36              \n",
      "Optimizer  - solved problem         : the primal      \n",
      "Optimizer  - Constraints            : 212             \n",
      "Optimizer  - Cones                  : 1               \n",
      "Optimizer  - Scalar variables       : 11                conic                  : 2               \n",
      "Optimizer  - Semi-definite variables: 2                 scalarized             : 308             \n",
      "Factor     - setup time             : 0.00            \n",
      "Factor     - dense det. time        : 0.00              GP order time          : 0.00            \n",
      "Factor     - nonzeros before factor : 2.26e+04          after factor           : 2.26e+04        \n",
      "Factor     - dense dim.             : 0                 flops                  : 3.41e+06        \n",
      "ITE PFEAS    DFEAS    GFEAS    PRSTATUS   POBJ              DOBJ              MU       TIME  \n",
      "0   6.3e+01  1.0e+00  1.0e+00  0.00e+00   -0.000000000e+00  -0.000000000e+00  1.0e+00  0.00  \n",
      "1   2.6e+01  4.0e-01  5.9e-01  -9.31e-01  3.965459639e-01   -8.041764609e-01  4.0e-01  0.00  \n",
      "2   1.2e+01  1.9e-01  2.1e-01  -3.48e-01  2.514353477e+00   1.835731251e+00   1.9e-01  0.01  \n",
      "3   8.8e+00  1.4e-01  1.5e-01  1.12e-01   3.271300835e+01   3.204034786e+01   1.4e-01  0.01  \n",
      "4   1.9e+00  3.1e-02  3.3e-02  9.73e-02   4.133736447e+01   4.038291196e+01   3.1e-02  0.01  \n",
      "5   5.5e-01  8.6e-03  1.0e-02  6.49e-02   3.601350761e+01   3.478160667e+01   8.6e-03  0.01  \n",
      "6   1.3e-01  2.0e-03  2.3e-03  1.02e-01   2.612785379e+01   2.491210110e+01   2.0e-03  0.01  \n",
      "7   3.8e-02  6.1e-04  6.3e-04  1.14e-01   1.595756044e+01   1.489076539e+01   6.1e-04  0.02  \n",
      "8   7.3e-03  1.2e-04  7.8e-05  5.35e-01   6.291307407e+00   5.846914945e+00   1.2e-04  0.02  \n",
      "9   1.8e-03  2.9e-05  9.1e-06  6.84e-01   1.970675233e+00   1.872138922e+00   2.9e-05  0.02  \n",
      "10  1.3e-04  2.0e-06  1.8e-07  9.71e-01   1.192884995e-01   1.116203826e-01   2.0e-06  0.02  \n",
      "11  2.7e-06  4.3e-08  5.3e-10  1.00e+00   2.579060083e-03   2.426532210e-03   4.3e-08  0.02  \n",
      "12  5.8e-08  9.3e-10  1.6e-12  1.01e+00   1.230981841e-04   1.199828023e-04   9.2e-10  0.02  \n",
      "13  1.6e-10  2.5e-09  1.0e-14  1.02e+00   6.938118893e-05   6.928787702e-05   3.4e-11  0.03  \n",
      "14  3.0e-11  3.0e-08  6.1e-16  1.32e+00   6.745097209e-05   6.744289664e-05   6.8e-12  0.03  \n",
      "15  9.0e-10  1.1e-07  2.7e-17  1.00e+00   6.713392782e-05   6.713291202e-05   1.1e-12  0.03  \n",
      "16  1.2e-10  1.4e-06  1.2e-18  1.00e+00   6.704688336e-05   6.704675566e-05   1.4e-13  0.03  \n",
      "Optimizer terminated. Time: 0.03    \n",
      "\n",
      "SDP solving time: 0.034645082 seconds.\n",
      "optimum = 6.704688336333514e-5\n",
      "Global optimality certified with relative optimality gap 0.000001%!\n"
     ]
    },
    {
     "data": {
      "text/plain": [
       "(6.704688336333514e-5, [-4.0138859724220594e-5, 0.2513588259247926, 0.25191609600158016, 0.000701275740401503, 0.00026134842152021956, -0.2511598128653184, 25.141303620288813, 0.0005396306938830951, -0.0008478540991835319], TSSOS.upop_data(9, 0, PolyVar{true}[γ₁, γ₂, γ₃, a₁, a₂, a₃, ϵ, h_Re, h_Im], 1.0e-9γ₁⁴ + 1.0e-9γ₂⁴ + 1.0e-9γ₃⁴ + 1.0e-9a₁⁴ + 1.0e-9a₂⁴ + 1.0e-9a₃⁴ + 0.05168674709213622γ₁² - 0.0008044950814777315γ₁a₁ + 0.0005179676236185148γ₁ϵ + 4.104630886766538e-5γ₁h_Im + 0.05172488613394287γ₂² - 0.0012450858989678402γ₂a₂ - 0.0005179676236185148γ₂ϵ + 3.451755329501592e-5γ₂h_Re + 1.0001847686681244γ₃² + 2.1131584754297306γ₃a₃ - 3.45175532950157e-5γ₃h_Re - 4.104630886766538e-5γ₃h_Im + 1.269688888901564a₁² - 8.005395128533376e-37a₁a₂ - 4.658513032068184e-37a₁a₃ + 0.0012450858989678402a₁ϵ + 2.1131584754297306a₁h_Im + 1.269688888901564a₂² + 4.647304221135261e-36a₂a₃ - 0.0008044950814777315a₂ϵ - 2.1131584754297306a₂h_Re + 1.269688888901564a₃² - 0.0012450858989678404a₃h_Re + 0.0008044950814777305a₃h_Im + 0.10341163322607885ϵ² - 4.104630886766538e-5ϵh_Re + 3.451755329501592e-5ϵh_Im + 1.0519096548020683h_Re² + 0.0005179676236185148h_Reh_Im + 1.0518715157602614h_Im² - 0.013017661776398296γ₁ - 0.012979980165655292γ₂ + 0.02681159496728833γ₃ - 0.0312922847698259a₁ + 0.021015710332322916a₂ + 0.10545437422858547a₃ - 5.199679015672933ϵ + 0.00013669789552729324h_Re - 0.00035392288736811996h_Im + 65.37495321955478, UInt8[0x04 0x00 … 0x00 0x00; 0x00 0x04 … 0x00 0x00; … ; 0x00 0x00 … 0x00 0x00; 0x00 0x00 … 0x01 0x00], [1.0e-9, 1.0e-9, 1.0e-9, 1.0e-9, 1.0e-9, 1.0e-9, 0.05168674709213622, -0.0008044950814777315, 0.0005179676236185148, 4.104630886766538e-5  …  -0.013017661776398296, -0.012979980165655292, 0.02681159496728833, -0.0312922847698259, 0.021015710332322916, 0.10545437422858547, -5.199679015672933, 0.00013669789552729324, -0.00035392288736811996, 65.37495321955478], UInt8[0x00 0x01 … 0x00 0x00; 0x00 0x00 … 0x00 0x00; … ; 0x00 0x00 … 0x00 0x00; 0x00 0x00 … 0x00 0x00], UInt8[0x00 0x00 … 0x03 0x04; 0x00 0x00 … 0x00 0x00; … ; 0x00 0x00 … 0x00 0x00; 0x00 0x01 … 0x00 0x00], [[1, 2, 3, 4, 5, 6, 7, 8, 9, 10  …  16, 17, 20, 22, 24, 25, 28, 29, 30, 31], [12], [14], [15], [18], [19], [21], [23], [26], [27]], [22, 1], [1, 9], nothing, [[0.9999999999940922 -4.0138859159793176e-5 … -6.564021833824375e-5 0.06308125496517039; -4.0138859159793176e-5 5.460536848643656e-9 … 1.2207897464568368e-9 -2.5412786954239443e-6; … ; -6.564021833824375e-5 1.2207897464568368e-9 … 1.4343955554329237 -0.0002997686236415445; 0.06308125496517039 -2.5412786954239443e-6 … -0.0002997686236415445 1.8013688922779845], [1.273001297645047;;], [1.39589037320407;;], [1.3985109415753771;;], [1.4992201929095428;;], [1.420139789173616;;], [1.5030972610650417;;], [1.4197285444601495;;], [1.373649024773388;;], [1.3772323467317544;;]], \"Mosek\", MathOptInterface.OPTIMAL, 0.0001, 0))"
      ]
     },
     "execution_count": 30,
     "metadata": {},
     "output_type": "execute_result"
    }
   ],
   "source": [
    "polyGEXY_cut = filter_terms_by_relative_threshold(polyGEXY, 1e-50)\n",
    "opt_cut,sol_cut,data_cut = tssos_first(polyGEXY_cut+1e-9*r4, variables(polyGEXY_cut), TS=\"block\", solution=true, mosek_setting=settings) #, newton=false, TS=\"MD\""
   ]
  },
  {
   "cell_type": "code",
   "execution_count": null,
   "metadata": {},
   "outputs": [],
   "source": []
  },
  {
   "cell_type": "code",
   "execution_count": 45,
   "metadata": {},
   "outputs": [
    {
     "data": {
      "text/plain": [
       "2×2 Matrix{ComplexF64}:\n",
       " 0.503315+0.0im              0.0+0.25116im\n",
       "      0.0-0.25116im  0.000517131+0.0im"
      ]
     },
     "execution_count": 45,
     "metadata": {},
     "output_type": "execute_result"
    }
   ],
   "source": [
    "solution_cut = variables(polyGEXY) => sol_cut\n",
    "\n",
    "Cˢⁱᵈ = convert.(ComplexF64,subs(Cˢʸᵐᵇ, solution_cut))\n",
    "\n",
    "Cˢⁱᵈ[1:2, 1:2]"
   ]
  },
  {
   "cell_type": "code",
   "execution_count": 32,
   "metadata": {},
   "outputs": [
    {
     "data": {
      "text/plain": [
       "2×2 Matrix{Polynomial{true, ComplexF64}}:\n",
       " (0.000517131+0.0im)  (0.0-0.000701276im)\n",
       " (0.0+0.000701276im)  (-0.000597409+0.0im)"
      ]
     },
     "execution_count": 32,
     "metadata": {},
     "output_type": "execute_result"
    }
   ],
   "source": [
    "Cˢⁱᵈ[2:3, 2:3]"
   ]
  },
  {
   "cell_type": "code",
   "execution_count": 46,
   "metadata": {},
   "outputs": [
    {
     "data": {
      "text/plain": [
       "2×2 Matrix{ComplexF64}:\n",
       "     12.5707+0.0im          0.000269815-0.000423927im\n",
       " 0.000269815+0.000423927im     -12.5707+0.0im"
      ]
     },
     "execution_count": 46,
     "metadata": {},
     "output_type": "execute_result"
    }
   ],
   "source": [
    "Hˢⁱᵈ = convert.(ComplexF64,subs(Hˢʸᵐᵇ, solution_cut))"
   ]
  },
  {
   "cell_type": "code",
   "execution_count": 61,
   "metadata": {},
   "outputs": [
    {
     "data": {
      "text/plain": [
       "get_lindblad_operators (generic function with 1 method)"
      ]
     },
     "metadata": {},
     "output_type": "display_data"
    }
   ],
   "source": [
    "function get_lindblad_operators(C::Matrix{ComplexF64}, basis_ops::Vector{Matrix{ComplexF64}})\n",
    "    # Check that C is a square matrix and basis_ops has the same dimension\n",
    "    n = size(C, 1)\n",
    "    if size(C, 2) != n || length(basis_ops) != n\n",
    "        throw(ArgumentError(\"Dimensions of C and basis_ops do not match\"))\n",
    "    end\n",
    "\n",
    "    # Perform eigenvalue decomposition of C\n",
    "    eigvals, eigvecs = eigen(C)\n",
    "\n",
    "    # Construct the Lindblad operators\n",
    "    lindblad_ops = []\n",
    "    for i in 1:n\n",
    "        if eigvals[i] > 1e-10  # Filter out negligible eigenvalues to ensure numerical stability\n",
    "            lindblad_op = zeros(ComplexF64, size(basis_ops[1]))\n",
    "            for j in 1:n\n",
    "                lindblad_op .+= sqrt(eigvals[i]) * eigvecs[j, i] * basis_ops[j]\n",
    "            end\n",
    "            push!(lindblad_ops, lindblad_op)\n",
    "        end\n",
    "    end\n",
    "\n",
    "    return lindblad_ops\n",
    "end"
   ]
  },
  {
   "cell_type": "code",
   "execution_count": 59,
   "metadata": {},
   "outputs": [],
   "source": [
    "ρᵍ₀ = [ 1 0.\n",
    "        0 0 ]    # state to measure initial distance from\n",
    "\n",
    "dodeca_10_states = [\"D\"*string(n) for n=1:10];\n",
    "\n",
    "basis_states = [\"B\"*string(n) for n=1:4];\n",
    "\n",
    "train_states = basis_states \n",
    "test_states = dodeca_10_states;"
   ]
  },
  {
   "cell_type": "code",
   "execution_count": 54,
   "metadata": {},
   "outputs": [
    {
     "data": {
      "text/plain": [
       "3×3 Matrix{ComplexF64}:\n",
       " 0.25133+0.0im          0.0+0.25133im  0.0+0.0im\n",
       "     0.0-0.25133im  0.25133+0.0im      0.0+0.0im\n",
       "     0.0+0.0im          0.0+0.0im      0.0+0.0im"
      ]
     },
     "execution_count": 54,
     "metadata": {},
     "output_type": "execute_result"
    }
   ],
   "source": [
    "Canz = [  0.25133     im*0.25133  0\n",
    "         -im*0.25133  0.25133     0\n",
    "          0           0           0 ]\n",
    "\n",
    "Cˢⁱᵈ = Canz "
   ]
  },
  {
   "cell_type": "code",
   "execution_count": 87,
   "metadata": {},
   "outputs": [
    {
     "data": {
      "text/plain": [
       "3×3 Matrix{ComplexF64}:\n",
       " 0.328705+0.0im              0.0+0.254448im           0.0-1.28417e-6im\n",
       "      0.0-0.254448im    0.196746+0.0im                0.0-1.7044e-6im\n",
       "      0.0+1.28417e-6im       0.0+1.7044e-6im  0.000137916+0.0im"
      ]
     },
     "metadata": {},
     "output_type": "display_data"
    }
   ],
   "source": [
    "Hˢⁱᵈ = convert.(ComplexF64,Hˢⁱᵈ)\n",
    "Cˢⁱᵈ = convert.(ComplexF64,Cˢⁱᵈ)"
   ]
  },
  {
   "cell_type": "code",
   "execution_count": 88,
   "metadata": {},
   "outputs": [
    {
     "name": "stdout",
     "output_type": "stream",
     "text": [
      "D1 D2 D3 D4 D5 D6 D7 D8 D9 D10 Mimimal fidelity for 0.25133: 0.9960759512628733\n",
      "Median fidelity for 0.25133: 0.9985765450612922\n"
     ]
    }
   ],
   "source": [
    "FminStates = []\n",
    "FmedianStates = []\n",
    "FmeanStates = []\n",
    "\n",
    "for state in test_states # loop over initial states\n",
    "    \n",
    "    print(state*\" \")\n",
    "\n",
    "    start_time = time()\n",
    "\n",
    "    tₛ, ρₛ = read_timeevolution(evol_data_file_name, state, γᵢ)\n",
    "    ρₛ = convert(Vector{Matrix{ComplexF64}}, ρₛ)\n",
    "    #bᵗˢᵗ = LiPoSID.bloch(ρₛ)\n",
    "    ρᵗˢᵗ = [DenseOperator(basis,Hermitian(ρₜ)) for ρₜ in ρₛ]\n",
    "    tᵗˢᵗ = convert.(Float64, tₛ)\n",
    "\n",
    "    #Simulated LME \n",
    "    #tˢⁱᵐ, ρˢⁱᵐ  = timeevolution.master(tᵗˢᵗ, ρᵗˢᵗ[1], DenseOperator(basis, Hˢⁱᵈ), [Jˢⁱᵐ])\n",
    "    #bˢⁱᵐ = LiPoSID.bloch([ρᵢ.data for ρᵢ in ρˢⁱᵐ])\n",
    "\n",
    "    ρₒ = DenseOperator(basis,ρₛ[1])\n",
    "    dt = tᵗˢᵗ[2] - tᵗˢᵗ[1]\n",
    "    tᵉⁿᵈ = tᵗˢᵗ[end]\n",
    "\n",
    "    #print(\"effective_Lindblad_ops for Kossakowski\")\n",
    "\n",
    "    effective_Lindblad = get_lindblad_operators(Cˢⁱᵈ, fᴷᴼᴺᴮ)\n",
    "    effective_Lindblad_ops = [DenseOperator(basis,j) for j in effective_Lindblad]\n",
    "\n",
    "    #print(\"Simulating Kossakowski\")\n",
    "\n",
    "    tout, ρ_t_kossak = timeevolution.master(tᵗˢᵗ, ρₒ, DenseOperator(basis, Hˢⁱᵈ), effective_Lindblad_ops)\n",
    "    ρˢⁱᵈ  = [ρₜ.data for ρₜ in ρ_t_kossak]\n",
    "\n",
    "    #print(\"Calculating Fidelity\")\n",
    "\n",
    "    #F = LiPoSID.fidelity_series(basis, [ρₜ.data for ρₜ in ρˢⁱᵐ], ρˢⁱᵈ)\n",
    "    F = LiPoSID.fidelity_series(basis, ρₛ, ρˢⁱᵈ)\n",
    "    #Fˢᵖⁱⁿᵇᴼˢᴼⁿ= LiPoSID.fidelity_series(basis, ρₛ, ρˢⁱᵈ)\n",
    "\n",
    "    #Fᴸᴹᴱₑₓ = [abs(fidelity(ρ₁, ρ₂)) for (ρ₁, ρ₂) in zip(ρᵗˢᵗ, ρˢⁱᵈ)]   \n",
    "\n",
    "    #h5open(tests_dir*tests_data_file_name,\"cw\") do fid\n",
    "        #γ_group = open_group(fid, γᵢ) # open gamma coupling group\n",
    "        #init_state_group = create_group(γ_group, state) # create initial state group\n",
    "        #init_state_group[\"Fidelity_SB\"] = convert.(Float64, Fˢᵖⁱⁿᵇᴼˢᴼⁿ)\n",
    "        #init_state_group[\"F\"] = convert.(Float64, F)\n",
    "        #init_state_group[\"bloch_exact\"] = convert.(Float64, bᵗˢᵗ)\n",
    "        #init_state_group[\"bloch_sid_lme\"] = convert.(Float64, bˢⁱᵈ)\n",
    "        #init_state_group[\"bloch_sim_lme\"] = convert.(Float64, bˢⁱᵈ)\n",
    "        #init_state_group[\"tr_dist_grnd\"] = TrDist(ρₛ[1], ρᵍ₀)\n",
    "        #init_state_group[\"time\"] = tᵗˢᵗ\n",
    "    #end\n",
    "    \n",
    "    FminState = minimum(F)\n",
    "    FmedianState = median(F)\n",
    "    FmeanState = mean(F)\n",
    "    \n",
    "    push!(FminStates, FminState)\n",
    "    push!(FmedianStates, FmedianState)\n",
    "    push!(FmeanStates, FmeanState)\n",
    "\n",
    "end\n",
    "\n",
    "# Calculate the mean\n",
    "F_mean_value = mean(FmeanStates)\n",
    "\n",
    "# Calculate the median\n",
    "F_median_value = median(FmedianStates)\n",
    "\n",
    "# Calculate the min\n",
    "F_min_value = minimum(FminStates)\n",
    "\n",
    "println(\"Mimimal fidelity for \"*γᵢ*\": \", F_min_value)\n",
    "println(\"Median fidelity for \"*γᵢ*\": \", F_median_value)"
   ]
  },
  {
   "cell_type": "code",
   "execution_count": 55,
   "metadata": {},
   "outputs": [
    {
     "name": "stdout",
     "output_type": "stream",
     "text": [
      "D1 D2 D3 D4 D5 D6 D7 D8 D9 D10 Mimimal fidelity for 0.25133: 0.9993938976827987\n",
      "Median fidelity for 0.25133: 0.9999711923879758\n"
     ]
    }
   ],
   "source": [
    "FminStates = []\n",
    "FmedianStates = []\n",
    "FmeanStates = []\n",
    "\n",
    "for state in test_states # loop over initial states\n",
    "    \n",
    "    print(state*\" \")\n",
    "\n",
    "    start_time = time()\n",
    "\n",
    "    tₛ, ρₛ = read_timeevolution(evol_data_file_name, state, γᵢ)\n",
    "    ρₛ = convert(Vector{Matrix{ComplexF64}}, ρₛ)\n",
    "    #bᵗˢᵗ = LiPoSID.bloch(ρₛ)\n",
    "    ρᵗˢᵗ = [DenseOperator(basis,Hermitian(ρₜ)) for ρₜ in ρₛ]\n",
    "    tᵗˢᵗ = convert.(Float64, tₛ)\n",
    "\n",
    "    #Simulated LME \n",
    "    #tˢⁱᵐ, ρˢⁱᵐ  = timeevolution.master(tᵗˢᵗ, ρᵗˢᵗ[1], DenseOperator(basis, Hˢⁱᵈ), [Jˢⁱᵐ])\n",
    "    #bˢⁱᵐ = LiPoSID.bloch([ρᵢ.data for ρᵢ in ρˢⁱᵐ])\n",
    "\n",
    "    ρₒ = DenseOperator(basis,ρₛ[1])\n",
    "    dt = tᵗˢᵗ[2] - tᵗˢᵗ[1]\n",
    "    tᵉⁿᵈ = tᵗˢᵗ[end]\n",
    "\n",
    "    #print(\"effective_Lindblad_ops for Kossakowski\")\n",
    "\n",
    "    effective_Lindblad = get_lindblad_operators(Cˢⁱᵈ, fᴷᴼᴺᴮ)\n",
    "    effective_Lindblad_ops = [DenseOperator(basis,j) for j in effective_Lindblad]\n",
    "\n",
    "    #print(\"Simulating Kossakowski\")\n",
    "\n",
    "    tout, ρ_t_kossak = timeevolution.master(tᵗˢᵗ, ρₒ, DenseOperator(basis, Hˢⁱᵈ), effective_Lindblad_ops)\n",
    "    ρˢⁱᵈ  = [ρₜ.data for ρₜ in ρ_t_kossak]\n",
    "\n",
    "    #print(\"Calculating Fidelity\")\n",
    "\n",
    "    #F = LiPoSID.fidelity_series(basis, [ρₜ.data for ρₜ in ρˢⁱᵐ], ρˢⁱᵈ)\n",
    "    F = LiPoSID.fidelity_series(basis, ρₛ, ρˢⁱᵈ)\n",
    "    #Fˢᵖⁱⁿᵇᴼˢᴼⁿ= LiPoSID.fidelity_series(basis, ρₛ, ρˢⁱᵈ)\n",
    "\n",
    "    #Fᴸᴹᴱₑₓ = [abs(fidelity(ρ₁, ρ₂)) for (ρ₁, ρ₂) in zip(ρᵗˢᵗ, ρˢⁱᵈ)]   \n",
    "\n",
    "    #h5open(tests_dir*tests_data_file_name,\"cw\") do fid\n",
    "        #γ_group = open_group(fid, γᵢ) # open gamma coupling group\n",
    "        #init_state_group = create_group(γ_group, state) # create initial state group\n",
    "        #init_state_group[\"Fidelity_SB\"] = convert.(Float64, Fˢᵖⁱⁿᵇᴼˢᴼⁿ)\n",
    "        #init_state_group[\"F\"] = convert.(Float64, F)\n",
    "        #init_state_group[\"bloch_exact\"] = convert.(Float64, bᵗˢᵗ)\n",
    "        #init_state_group[\"bloch_sid_lme\"] = convert.(Float64, bˢⁱᵈ)\n",
    "        #init_state_group[\"bloch_sim_lme\"] = convert.(Float64, bˢⁱᵈ)\n",
    "        #init_state_group[\"tr_dist_grnd\"] = TrDist(ρₛ[1], ρᵍ₀)\n",
    "        #init_state_group[\"time\"] = tᵗˢᵗ\n",
    "    #end\n",
    "    \n",
    "    FminState = minimum(F)\n",
    "    FmedianState = median(F)\n",
    "    FmeanState = mean(F)\n",
    "    \n",
    "    push!(FminStates, FminState)\n",
    "    push!(FmedianStates, FmedianState)\n",
    "    push!(FmeanStates, FmeanState)\n",
    "\n",
    "end\n",
    "\n",
    "# Calculate the mean\n",
    "F_mean_value = mean(FmeanStates)\n",
    "\n",
    "# Calculate the median\n",
    "F_median_value = median(FmedianStates)\n",
    "\n",
    "# Calculate the min\n",
    "F_min_value = minimum(FminStates)\n",
    "\n",
    "println(\"Mimimal fidelity for \"*γᵢ*\": \", F_min_value)\n",
    "println(\"Median fidelity for \"*γᵢ*\": \", F_median_value)"
   ]
  }
 ],
 "metadata": {
  "kernelspec": {
   "display_name": "Julia 1.10.2",
   "language": "julia",
   "name": "julia-1.10"
  },
  "language_info": {
   "file_extension": ".jl",
   "mimetype": "application/julia",
   "name": "julia",
   "version": "1.10.2"
  }
 },
 "nbformat": 4,
 "nbformat_minor": 2
}
