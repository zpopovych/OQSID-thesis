{
 "cells": [
  {
   "cell_type": "code",
   "execution_count": 1,
   "metadata": {},
   "outputs": [
    {
     "name": "stderr",
     "output_type": "stream",
     "text": [
      "\u001b[33m\u001b[1m┌ \u001b[22m\u001b[39m\u001b[33m\u001b[1mWarning: \u001b[22m\u001b[39mPackage LinearSolve does not have KrylovKit in its dependencies:\n",
      "\u001b[33m\u001b[1m│ \u001b[22m\u001b[39m- If you have LinearSolve checked out for development and have\n",
      "\u001b[33m\u001b[1m│ \u001b[22m\u001b[39m  added KrylovKit as a dependency but haven't updated your primary\n",
      "\u001b[33m\u001b[1m│ \u001b[22m\u001b[39m  environment's manifest file, try `Pkg.resolve()`.\n",
      "\u001b[33m\u001b[1m│ \u001b[22m\u001b[39m- Otherwise you may need to report an issue with LinearSolve\n",
      "\u001b[33m\u001b[1m└ \u001b[22m\u001b[39mLoading KrylovKit into LinearSolve from project dependency, future warnings for LinearSolve are suppressed.\n"
     ]
    }
   ],
   "source": [
    "include(\"../LiPoSID.jl\")\n",
    "\n",
    "include(\"CtrlSID.jl\")\n",
    "\n",
    "using QuantumOptics\n",
    "basis = NLevelBasis(2)\n",
    "using LinearAlgebra\n",
    "\n",
    "using HDF5\n",
    "using DynamicPolynomials\n",
    "\n",
    "using Dates\n",
    "\n",
    "using Statistics"
   ]
  },
  {
   "cell_type": "code",
   "execution_count": 2,
   "metadata": {},
   "outputs": [
    {
     "data": {
      "text/plain": [
       "2×2 Matrix{Polynomial{true, ComplexF64}}:\n",
       " (0.5+0.0im)ϵ                       (0.5+0.0im)h_Re + (0.0+0.5im)h_Im\n",
       " (0.5+0.0im)h_Re + (0.0-0.5im)h_Im  (-0.5+0.0im)ϵ"
      ]
     },
     "execution_count": 2,
     "metadata": {},
     "output_type": "execute_result"
    }
   ],
   "source": [
    "σˣ = [ 0 1 \n",
    "       1 0 ]\n",
    "\n",
    "σʸ = [ 0.   im*1\n",
    "      -im*1 0    ]\n",
    "\n",
    "σᶻ = [ 1.  0\n",
    "       0  -1 ] \n",
    "\n",
    "fᴷ₁ = σˣ/2\n",
    "fᴷ₂ = σʸ/2\n",
    "fᴷ₃ = σᶻ/2\n",
    "\n",
    "@assert tr(σˣ/2*σʸ/2) == tr(σˣ/2*σᶻ/2) ==  tr(σʸ/2*σᶻ/2) ≈ 0\n",
    "@assert tr(σˣ/2*σˣ/2) == tr(σʸ/2*σʸ/2) == tr(σᶻ/2*σᶻ/2) ≈ 1/2\n",
    "\n",
    "fᴷᴼᴺᴮ = [fᴷ₁, fᴷ₂, fᴷ₃]\n",
    "\n",
    "@polyvar γ[1:3]\n",
    "@polyvar a[1:3]\n",
    "\n",
    "Cˢʸᵐᵇ = [ -γ[1]+γ[2]+γ[3]   -im*a[3]          im*a[2]\n",
    "           im*a[3]           γ[1]-γ[2]+γ[3]  -im*a[1] \n",
    "          -im*a[2]           im*a[1]          γ[1]+γ[2]-γ[3]] \n",
    "\n",
    "κ₁ = -γ[1]+γ[2]+γ[3]\n",
    "κ₂ =  γ[1]-γ[2]+γ[3]\n",
    "κ₃ =  γ[1]+γ[2]-γ[3]\n",
    "\n",
    "constr1 = κ₁ + κ₂ + κ₃  \n",
    "constr2 = κ₁*κ₂ + κ₃*κ₁ + κ₂*κ₃ - a[1]^2 - a[2]^2 - a[3]^2\n",
    "constr3 = κ₁*κ₂*κ₃ - κ₁*a[1]^2 - κ₂*a[2]^2 - κ₃*a[3]^2 \n",
    "\n",
    "\n",
    "#constraints = [κ₁, κ₂, κ₃, γ[1], γ[2], γ[3], constr1, constr2, constr3]\n",
    "\n",
    "constraints = [κ₁, κ₂, κ₃, γ[1], γ[2], γ[3], constr2, constr3]\n",
    "\n",
    "@polyvar ϵ h_Re h_Im # h₁ h₂ h₃\n",
    "\n",
    "H0ˢʸᵐᵇ = [ ϵ               h_Re+im*h_Im\n",
    "           h_Re-im*h_Im   -ϵ            ] / 2\n",
    "\n",
    "H0ᴷˢʸᵐᵇ = h_Re * fᴷ₁ + h_Im * fᴷ₂  + ϵ * fᴷ₃ \n",
    "\n",
    "@assert tr(H0ᴷˢʸᵐᵇ) == 0\n",
    "@assert H0ᴷˢʸᵐᵇ == H0ˢʸᵐᵇ\n",
    "\n",
    "Hˢʸᵐᵇ = H0ˢʸᵐᵇ"
   ]
  },
  {
   "cell_type": "code",
   "execution_count": 3,
   "metadata": {},
   "outputs": [
    {
     "data": {
      "text/plain": [
       "8-element Vector{Polynomial{true, Int64}}:\n",
       " -γ₁ + γ₂ + γ₃\n",
       " γ₁ - γ₂ + γ₃\n",
       " γ₁ + γ₂ - γ₃\n",
       " γ₁\n",
       " γ₂\n",
       " γ₃\n",
       " -γ₁² + 2γ₁γ₂ + 2γ₁γ₃ - γ₂² + 2γ₂γ₃ - γ₃² - a₁² - a₂² - a₃²\n",
       " -γ₁³ + γ₁²γ₂ + γ₁²γ₃ + γ₁γ₂² - 2γ₁γ₂γ₃ + γ₁γ₃² + γ₁a₁² - γ₁a₂² - γ₁a₃² - γ₂³ + γ₂²γ₃ + γ₂γ₃² - γ₂a₁² + γ₂a₂² - γ₂a₃² - γ₃³ - γ₃a₁² - γ₃a₂² + γ₃a₃²"
      ]
     },
     "execution_count": 3,
     "metadata": {},
     "output_type": "execute_result"
    }
   ],
   "source": [
    "constraints"
   ]
  },
  {
   "cell_type": "code",
   "execution_count": 4,
   "metadata": {},
   "outputs": [
    {
     "data": {
      "text/plain": [
       "kossak_obj_pseudo_fidelity (generic function with 1 method)"
      ]
     },
     "execution_count": 4,
     "metadata": {},
     "output_type": "execute_result"
    }
   ],
   "source": [
    "function kossak_obj(ρ, t, H0ˢʸᵐᵇ, Cˢʸᵐᵇ, Fᴼᴺᴮ)\n",
    "\n",
    "    function Dc(ρ, t)\n",
    "        U = (H0ˢʸᵐᵇ*ρ - ρ*H0ˢʸᵐᵇ)/im \n",
    "        D = sum(Cˢʸᵐᵇ .* [2*fᵢ*ρ*fⱼ' - ρ*fⱼ'*fᵢ - fⱼ'*fᵢ*ρ  for fᵢ in Fᴼᴺᴮ, fⱼ in Fᴼᴺᴮ])/2\n",
    "        return U + D\n",
    "    end \n",
    "\n",
    "    obj = 0\n",
    "    for i in 3:length(ρ)\n",
    "        obj += LiPoSID.frobenius_norm2(\n",
    "            ρ[i] - ρ[i-2] - (t[i]-t[i-1])*(Dc(ρ[i], t[i])+\n",
    "            4*Dc(ρ[i-1], t[i-1])+Dc(ρ[i-2], t[i-2]))/3\n",
    "        )\n",
    "    end\n",
    "\n",
    "    if isempty(monomials(obj))\n",
    "        obj = 0. \n",
    "    else\n",
    "        obj = sum(real(coef) * mon for (coef, mon) in zip(coefficients(obj), monomials(obj)))\n",
    "    end\n",
    "\n",
    "    return obj\n",
    "\n",
    "end\n",
    "\n",
    "\n",
    "function kossak_obj_pseudo_fidelity(ρ, t, H0ˢʸᵐᵇ, Cˢʸᵐᵇ, Fᴼᴺᴮ)\n",
    "\n",
    "    function Dc(ρ, t)\n",
    "        U = (H0ˢʸᵐᵇ*ρ - ρ*H0ˢʸᵐᵇ)/im \n",
    "        D = sum(Cˢʸᵐᵇ .* [2*fᵢ*ρ*fⱼ' - ρ*fⱼ'*fᵢ - fⱼ'*fᵢ*ρ  for fᵢ in Fᴼᴺᴮ, fⱼ in Fᴼᴺᴮ])/2\n",
    "        return U + D\n",
    "    end \n",
    "\n",
    "    obj = 0\n",
    "    for i in 3:length(ρ)\n",
    "        obj += pseudo_fidelity_norm(\n",
    "            ρ[i],\n",
    "            ρ[i-2] - (t[i]-t[i-1])*(Dc(ρ[i], t[i])+\n",
    "            4*Dc(ρ[i-1], t[i-1])+Dc(ρ[i-2], t[i-2]))/3\n",
    "        )\n",
    "    end\n",
    "\n",
    "    if isempty(monomials(obj))\n",
    "        obj = 0. \n",
    "    else\n",
    "        obj = sum(real(coef) * mon for (coef, mon) in zip(coefficients(obj), monomials(obj)))\n",
    "    end\n",
    "\n",
    "    return obj\n",
    "\n",
    "end"
   ]
  },
  {
   "cell_type": "code",
   "execution_count": 5,
   "metadata": {},
   "outputs": [
    {
     "data": {
      "text/plain": [
       "kossak_GEXY_obj_pseudo_fidelity (generic function with 1 method)"
      ]
     },
     "execution_count": 5,
     "metadata": {},
     "output_type": "execute_result"
    }
   ],
   "source": [
    "function read_timeevolution(file_name, state, γ)\n",
    "    h5open(file_name, \"r\") do file\n",
    "        ρᵧ = read(file[state][string(γ)])\n",
    "        t = ρᵧ[\"t\"]\n",
    "        ρ₀₀ = ρᵧ[\"p0\"]; Re_ρ₀₁ = ρᵧ[\"s_re\"];  Im_ρ₀₁ = ρᵧ[\"s_im\"]\n",
    "        ρ_series = []\n",
    "        t_series = []\n",
    "\n",
    "        for i in 1:length(t)\n",
    "            ρᵢ= [ ρ₀₀[i]                      Re_ρ₀₁[i] + im * Im_ρ₀₁[i]\n",
    "                  Re_ρ₀₁[i] - im * Im_ρ₀₁[i]  1 - ρ₀₀[i]                 ]\n",
    "            push!(ρ_series, convert(Matrix{ComplexF64}, ρᵢ))\n",
    "            push!(t_series, convert(Float64, t[i]))\n",
    "        end\n",
    "        return(t_series, ρ_series)\n",
    "    end\n",
    "end\n",
    "\n",
    "function read_GEXY_timeevolution(file_name, γ)\n",
    "\n",
    "    tᵍ, ρᵍ = read_timeevolution(file_name, \"B1\", γ)\n",
    "    tᵉ, ρᵉ = read_timeevolution(file_name, \"B2\", γ)\n",
    "    tˣ, ρˣ = read_timeevolution(file_name, \"B3\", γ)\n",
    "    tʸ, ρʸ = read_timeevolution(file_name, \"B4\", γ)\n",
    "\n",
    "    ρᵍᵉˣʸ = ρᵍ, ρᵉ, ρˣ, ρʸ \n",
    "    tᵍᵉˣʸ = tᵍ, tᵉ, tˣ, tʸ\n",
    "\n",
    "    return tᵍᵉˣʸ , ρᵍᵉˣʸ \n",
    "\n",
    "end\n",
    "\n",
    "function kossak_GEXY_obj(ρᵍᵉˣʸ, tᵍᵉˣʸ, H0ˢʸᵐᵇ, Cˢʸᵐᵇ, fᴼᴺᴮ)\n",
    "\n",
    "    ρᵍ, ρᵉ, ρˣ, ρʸ = ρᵍᵉˣʸ\n",
    "    tᵍ, tᵉ, tˣ, tʸ = tᵍᵉˣʸ\n",
    "\n",
    "    polyG = kossak_obj(ρᵍ, tᵍ, H0ˢʸᵐᵇ, Cˢʸᵐᵇ, fᴼᴺᴮ)\n",
    "    polyE = kossak_obj(ρᵉ, tᵉ, H0ˢʸᵐᵇ, Cˢʸᵐᵇ, fᴼᴺᴮ)\n",
    "    polyX = kossak_obj(ρˣ, tˣ, H0ˢʸᵐᵇ, Cˢʸᵐᵇ, fᴼᴺᴮ)\n",
    "    polyY = kossak_obj(ρʸ, tʸ, H0ˢʸᵐᵇ, Cˢʸᵐᵇ, fᴼᴺᴮ)\n",
    "\n",
    "    polyGEXY = polyG + polyE + polyX + polyY\n",
    "\n",
    "    return polyGEXY\n",
    "end\n",
    "\n",
    "\n",
    "function kossak_GEXY_obj_pseudo_fidelity(ρᵍᵉˣʸ, tᵍᵉˣʸ, H0ˢʸᵐᵇ, Cˢʸᵐᵇ, fᴼᴺᴮ)\n",
    "\n",
    "    ρᵍ, ρᵉ, ρˣ, ρʸ = ρᵍᵉˣʸ\n",
    "    tᵍ, tᵉ, tˣ, tʸ = tᵍᵉˣʸ\n",
    "\n",
    "    polyG = kossak_obj_pseudo_fidelity(ρᵍ, tᵍ, H0ˢʸᵐᵇ, Cˢʸᵐᵇ, fᴼᴺᴮ)\n",
    "    polyE = kossak_obj_pseudo_fidelity(ρᵉ, tᵉ, H0ˢʸᵐᵇ, Cˢʸᵐᵇ, fᴼᴺᴮ)\n",
    "    polyX = kossak_obj_pseudo_fidelity(ρˣ, tˣ, H0ˢʸᵐᵇ, Cˢʸᵐᵇ, fᴼᴺᴮ)\n",
    "    polyY = kossak_obj_pseudo_fidelity(ρʸ, tʸ, H0ˢʸᵐᵇ, Cˢʸᵐᵇ, fᴼᴺᴮ)\n",
    "\n",
    "    polyGEXY = polyG + polyE + polyX + polyY\n",
    "\n",
    "    return polyGEXY\n",
    "end"
   ]
  },
  {
   "cell_type": "code",
   "execution_count": 6,
   "metadata": {},
   "outputs": [
    {
     "name": "stdout",
     "output_type": "stream",
     "text": [
      "minimum(abs.(coefficients(polyGEXY))) = 4.658513032068184e-37\n",
      "maximum(abs.(coefficients(polyGEXY))) = 65.37495321955478\n"
     ]
    },
    {
     "data": {
      "text/plain": [
       "65.37495321955478"
      ]
     },
     "execution_count": 6,
     "metadata": {},
     "output_type": "execute_result"
    }
   ],
   "source": [
    "evol_data_file_name = \"../DATA/ALL_GAMMAS_B4_D10.h5\"\n",
    "\n",
    "#γᵢ = \"0.079477\"\n",
    "\n",
    "γᵢ = \"0.25133\"\n",
    "\n",
    "tᵍᵉˣʸ , ρᵍᵉˣʸ  = read_GEXY_timeevolution(evol_data_file_name, γᵢ)\n",
    "    \n",
    "polyGEXY = kossak_GEXY_obj(ρᵍᵉˣʸ, tᵍᵉˣʸ, Hˢʸᵐᵇ, Cˢʸᵐᵇ, fᴷᴼᴺᴮ)\n",
    "\n",
    "#polyGEXY = kossak_GEXY_obj_pseudo_fidelity(ρᵍᵉˣʸ, tᵍᵉˣʸ, Hˢʸᵐᵇ, Cˢʸᵐᵇ, fᴷᴼᴺᴮ)\n",
    "\n",
    "@show minimum(abs.(coefficients(polyGEXY)))\n",
    "@show maximum(abs.(coefficients(polyGEXY)))"
   ]
  },
  {
   "cell_type": "code",
   "execution_count": 7,
   "metadata": {},
   "outputs": [
    {
     "data": {
      "text/plain": [
       "9"
      ]
     },
     "execution_count": 7,
     "metadata": {},
     "output_type": "execute_result"
    }
   ],
   "source": [
    "length(variables(polyGEXY))"
   ]
  },
  {
   "cell_type": "code",
   "execution_count": 8,
   "metadata": {},
   "outputs": [
    {
     "name": "stdout",
     "output_type": "stream",
     "text": [
      "2.0*x*y + 3.0*y^2\n"
     ]
    }
   ],
   "source": [
    "function filter_terms_by_relative_threshold(poly::Polynomial, relative_threshold::Float64)\n",
    "    # Get all coefficients of the polynomial\n",
    "    coeffs = coefficients(poly)\n",
    "    \n",
    "    # Find the largest coefficient by absolute value\n",
    "    max_coeff = maximum(abs.(coeffs))\n",
    "    \n",
    "    # Calculate the effective threshold\n",
    "    threshold = relative_threshold * max_coeff\n",
    "    \n",
    "    # Initialize an empty polynomial of the same type as the input\n",
    "    new_poly = zero(poly)\n",
    "    \n",
    "    # Iterate over the terms and coefficients of the polynomial\n",
    "    for (monomial, coeff) in zip(monomials(poly), coeffs)\n",
    "        if abs(coeff) >= threshold\n",
    "            new_poly += coeff * monomial\n",
    "        end\n",
    "    end\n",
    "    \n",
    "    return new_poly\n",
    "end\n",
    "\n",
    "# Example usage\n",
    "@polyvar x y\n",
    "p = 1e-13*x^2 + 2*x*y + 3*y^2 + 4e-14*y\n",
    "relative_threshold = 1e-12\n",
    "filtered_p = filter_terms_by_relative_threshold(p, relative_threshold)\n",
    "println(filtered_p)"
   ]
  },
  {
   "cell_type": "code",
   "execution_count": 10,
   "metadata": {},
   "outputs": [],
   "source": [
    "using BlackBoxOptim"
   ]
  },
  {
   "cell_type": "code",
   "execution_count": 9,
   "metadata": {},
   "outputs": [],
   "source": [
    "using TSSOS"
   ]
  },
  {
   "cell_type": "code",
   "execution_count": 10,
   "metadata": {},
   "outputs": [
    {
     "data": {
      "text/plain": [
       "10000.0"
      ]
     },
     "execution_count": 10,
     "metadata": {},
     "output_type": "execute_result"
    }
   ],
   "source": [
    "settings = mosek_para()\n",
    "settings.tol_pfeas = 1e-9 # primal feasibility tolerance\n",
    "settings.tol_dfeas = 1e-9 # dual feasibility tolerance\n",
    "settings.tol_relgap = 1e-9 # relative primal-dual gap tolerance\n",
    "settings.time_limit = 1e4 # limit of running time"
   ]
  },
  {
   "cell_type": "code",
   "execution_count": 11,
   "metadata": {},
   "outputs": [
    {
     "data": {
      "text/plain": [
       "2"
      ]
     },
     "execution_count": 11,
     "metadata": {},
     "output_type": "execute_result"
    }
   ],
   "source": [
    "maxdegree(polyGEXY)"
   ]
  },
  {
   "cell_type": "code",
   "execution_count": 12,
   "metadata": {},
   "outputs": [
    {
     "data": {
      "text/latex": [
       "$$ γ_{1}^{4} + γ_{2}^{4} + γ_{3}^{4} + a_{1}^{4} + a_{2}^{4} + a_{3}^{4} $$"
      ],
      "text/plain": [
       "γ₁⁴ + γ₂⁴ + γ₃⁴ + a₁⁴ + a₂⁴ + a₃⁴"
      ]
     },
     "execution_count": 12,
     "metadata": {},
     "output_type": "execute_result"
    }
   ],
   "source": [
    "r4 = sum(variables(polyGEXY)[1:end-3].^4)"
   ]
  },
  {
   "cell_type": "code",
   "execution_count": 13,
   "metadata": {},
   "outputs": [
    {
     "data": {
      "text/plain": [
       "9-element Vector{PolyVar{true}}:\n",
       " γ₁\n",
       " γ₂\n",
       " γ₃\n",
       " a₁\n",
       " a₂\n",
       " a₃\n",
       " ϵ\n",
       " h_Re\n",
       " h_Im"
      ]
     },
     "execution_count": 13,
     "metadata": {},
     "output_type": "execute_result"
    }
   ],
   "source": [
    "variables(polyGEXY)"
   ]
  },
  {
   "cell_type": "code",
   "execution_count": 57,
   "metadata": {},
   "outputs": [
    {
     "ename": "LoadError",
     "evalue": "MethodError: no method matching *(::Nothing, ::Vector{UInt16})\n\u001b[0mClosest candidates are:\n\u001b[0m  *(::Any, ::Any, \u001b[91m::Any\u001b[39m, \u001b[91m::Any...\u001b[39m) at ~/julia-1.7.3/share/julia/base/operators.jl:655\n\u001b[0m  *(\u001b[91m::StridedMatrix{T}\u001b[39m, ::StridedVector{S}) where {T<:Union{Float32, Float64, ComplexF32, ComplexF64}, S<:Real} at ~/julia-1.7.3/share/julia/stdlib/v1.7/LinearAlgebra/src/matmul.jl:44\n\u001b[0m  *(\u001b[91m::StridedMatrix{var\"#s31\"} where var\"#s31\"<:MutableArithmetics.AbstractMutable\u001b[39m, ::StridedVector{var\"#s37\"} where var\"#s37\") at ~/.julia/packages/MutableArithmetics/iovKe/src/dispatch.jl:359\n\u001b[0m  ...",
     "output_type": "error",
     "traceback": [
      "MethodError: no method matching *(::Nothing, ::Vector{UInt16})\n\u001b[0mClosest candidates are:\n\u001b[0m  *(::Any, ::Any, \u001b[91m::Any\u001b[39m, \u001b[91m::Any...\u001b[39m) at ~/julia-1.7.3/share/julia/base/operators.jl:655\n\u001b[0m  *(\u001b[91m::StridedMatrix{T}\u001b[39m, ::StridedVector{S}) where {T<:Union{Float32, Float64, ComplexF32, ComplexF64}, S<:Real} at ~/julia-1.7.3/share/julia/stdlib/v1.7/LinearAlgebra/src/matmul.jl:44\n\u001b[0m  *(\u001b[91m::StridedMatrix{var\"#s31\"} where var\"#s31\"<:MutableArithmetics.AbstractMutable\u001b[39m, ::StridedVector{var\"#s37\"} where var\"#s37\") at ~/.julia/packages/MutableArithmetics/iovKe/src/dispatch.jl:359\n\u001b[0m  ...",
      "",
      "Stacktrace:",
      " [1] polys_info(pop::Vector{Polynomial{true, Float64}}, x::Vector{PolyVar{true}}; nb::Int64)",
      "   @ TSSOS ~/.julia/packages/TSSOS/pPtmm/src/utils.jl:297",
      " [2] #cs_tssos_first#83",
      "   @ ~/.julia/packages/TSSOS/pPtmm/src/nblockmix.jl:64 [inlined]",
      " [3] top-level scope",
      "   @ In[57]:1"
     ]
    }
   ],
   "source": [
    "opt,sol,data = cs_tssos_first([polyGEXY,constraints...], variables(polyGEXY), 2, solution=true, mosek_setting=settings)"
   ]
  },
  {
   "cell_type": "code",
   "execution_count": 15,
   "metadata": {},
   "outputs": [
    {
     "data": {
      "text/plain": [
       "2×2 Matrix{Polynomial{true, ComplexF64}}:\n",
       " (0.357415+0.0im)   (-0.0+0.257095im)\n",
       " (-0.0-0.257095im)  (0.184727+0.0im)"
      ]
     },
     "execution_count": 15,
     "metadata": {},
     "output_type": "execute_result"
    }
   ],
   "source": [
    "solution = variables(polyGEXY) => sol\n",
    "\n",
    "Cˢⁱᵈ = subs(Cˢʸᵐᵇ, solution)\n",
    "\n",
    "Cˢⁱᵈ[1:2, 1:2]"
   ]
  },
  {
   "cell_type": "code",
   "execution_count": 43,
   "metadata": {},
   "outputs": [
    {
     "data": {
      "text/plain": [
       "2×2 Matrix{Polynomial{true, ComplexF64}}:\n",
       " (0.182096+0.0im)    (0.0-2.92046e-6im)\n",
       " (0.0+2.92046e-6im)  (0.000136974+0.0im)"
      ]
     },
     "execution_count": 43,
     "metadata": {},
     "output_type": "execute_result"
    }
   ],
   "source": [
    "Cˢⁱᵈ[2:3, 2:3]"
   ]
  },
  {
   "cell_type": "code",
   "execution_count": 26,
   "metadata": {},
   "outputs": [
    {
     "name": "stdout",
     "output_type": "stream",
     "text": [
      "Starting to compute the block structure...\n",
      "Obtained the block structure in 0.002455888 seconds.\n",
      "The maximal size of blocks is 45.\n",
      "Assembling the SDP...\n",
      "There are 615 affine constraints.\n",
      "SDP assembling time: 0.016639253 seconds.\n",
      "Solving the SDP...\n",
      "Problem\n",
      "  Name                   :                 \n",
      "  Objective sense        : maximize        \n",
      "  Type                   : CONIC (conic optimization problem)\n",
      "  Constraints            : 615             \n",
      "  Affine conic cons.     : 0               \n",
      "  Disjunctive cons.      : 0               \n",
      "  Cones                  : 0               \n",
      "  Scalar variables       : 2               \n",
      "  Matrix variables       : 11 (scalarized: 2079)\n",
      "  Integer variables      : 0               \n",
      "\n",
      "Optimizer started.\n",
      "Presolve started.\n",
      "Linear dependency checker started.\n",
      "Linear dependency checker terminated.\n",
      "Eliminator started.\n",
      "Freed constraints in eliminator : 0\n",
      "Eliminator terminated.\n",
      "Eliminator - tries                  : 1                 time                   : 0.00            \n",
      "Lin. dep.  - tries                  : 1                 time                   : 0.00            \n",
      "Lin. dep.  - primal attempts        : 1                 successes              : 1               \n",
      "Lin. dep.  - dual attempts          : 0                 successes              : 0               \n",
      "Lin. dep.  - primal deps.           : 0                 dual deps.             : 0               \n",
      "Presolve terminated. Time: 0.00    \n",
      "GP based matrix reordering started.\n",
      "GP based matrix reordering terminated.\n",
      "Optimizer  - threads                : 36              \n",
      "Optimizer  - solved problem         : the primal      \n",
      "Optimizer  - Constraints            : 615             \n",
      "Optimizer  - Cones                  : 1               \n",
      "Optimizer  - Scalar variables       : 3                 conic                  : 2               \n",
      "Optimizer  - Semi-definite variables: 11                scalarized             : 2079            \n",
      "Factor     - setup time             : 0.03            \n",
      "Factor     - dense det. time        : 0.01              GP order time          : 0.00            \n",
      "Factor     - nonzeros before factor : 1.55e+05          after factor           : 1.55e+05        \n",
      "Factor     - dense dim.             : 0                 flops                  : 5.37e+07        \n",
      "Factor     - GP saved nzs           : 3.42e+04          GP saved flops         : 2.77e+07        \n",
      "ITE PFEAS    DFEAS    GFEAS    PRSTATUS   POBJ              DOBJ              MU       TIME  \n",
      "0   6.1e+01  1.0e+00  1.0e+00  0.00e+00   -0.000000000e+00  -0.000000000e+00  1.0e+00  0.03  \n",
      "1   4.0e+01  6.5e-01  7.5e-01  -8.67e-01  1.846065552e-01   -2.075343262e-01  6.5e-01  0.05  \n",
      "2   1.3e+01  2.0e-01  2.8e-01  -6.39e-01  1.719280509e+00   4.599576247e-01   2.0e-01  0.06  \n",
      "3   1.1e+01  1.7e-01  2.3e-01  5.96e-01   2.468856781e+01   2.349892845e+01   1.7e-01  0.07  \n",
      "4   2.5e+00  4.1e-02  2.1e-02  5.03e-01   5.165150468e+01   5.152424708e+01   4.1e-02  0.09  \n",
      "5   9.3e-01  1.5e-02  5.1e-03  9.77e-01   5.403126947e+01   5.396201308e+01   1.5e-02  0.10  \n",
      "6   3.1e-01  5.0e-03  1.5e-03  4.00e-01   5.279849659e+01   5.273088478e+01   5.0e-03  0.11  \n",
      "7   7.8e-02  1.3e-03  3.7e-04  2.08e-01   5.062540987e+01   5.055334061e+01   1.3e-03  0.12  \n",
      "8   3.2e-02  5.1e-04  1.5e-04  8.98e-02   4.866751384e+01   4.858937604e+01   5.1e-04  0.14  \n",
      "9   8.4e-03  1.4e-04  4.0e-05  1.59e-02   4.547497277e+01   4.539202073e+01   1.4e-04  0.15  \n",
      "10  3.2e-03  5.3e-05  1.6e-05  -6.01e-02  4.281131914e+01   4.272244877e+01   5.3e-05  0.16  \n",
      "11  7.9e-04  1.3e-05  4.1e-06  -1.54e-02  3.850937653e+01   3.841177146e+01   1.3e-05  0.17  \n",
      "12  3.1e-04  5.1e-06  1.6e-06  1.73e-02   3.536909817e+01   3.526635966e+01   5.1e-06  0.18  \n",
      "13  7.0e-05  1.1e-06  4.1e-07  -4.92e-02  3.000528349e+01   2.987721719e+01   1.1e-06  0.20  \n",
      "14  2.1e-05  3.4e-07  1.2e-07  4.43e-03   2.497720946e+01   2.485283221e+01   3.4e-07  0.21  \n",
      "15  4.8e-06  7.8e-08  2.6e-08  3.53e-02   1.885628223e+01   1.874093263e+01   7.8e-08  0.22  \n",
      "16  1.4e-06  2.3e-08  7.6e-09  -2.32e-02  1.386857686e+01   1.375717223e+01   2.3e-08  0.23  \n",
      "17  3.5e-07  5.7e-09  1.7e-09  1.22e-01   8.762105697e+00   8.669308088e+00   5.7e-09  0.24  \n",
      "18  1.0e-07  1.7e-09  4.1e-10  3.28e-01   4.915856914e+00   4.856476108e+00   1.7e-09  0.26  \n",
      "19  2.2e-08  3.6e-10  6.0e-11  4.04e-01   1.869112680e+00   1.841694558e+00   3.6e-10  0.27  \n",
      "20  4.1e-09  6.7e-11  5.3e-12  6.32e-01   4.482802321e-01   4.420031452e-01   6.7e-11  0.28  \n",
      "21  6.5e-10  1.3e-11  4.0e-13  8.85e-01   8.829184068e-02   8.728419562e-02   1.2e-11  0.29  \n",
      "22  4.1e-11  5.5e-12  3.0e-14  9.90e-01   1.560377986e-02   1.539318362e-02   2.1e-12  0.31  \n",
      "23  1.4e-11  7.9e-12  6.4e-15  1.01e+00   5.625630897e-03   5.546081992e-03   7.2e-13  0.32  \n",
      "24  4.5e-12  2.0e-11  1.3e-15  9.42e-01   2.082558783e-03   2.051855126e-03   2.3e-13  0.34  \n",
      "25  1.8e-12  3.4e-11  3.1e-16  1.05e+00   9.939723695e-04   9.825611517e-04   9.2e-14  0.36  \n",
      "26  4.7e-13  4.5e-10  4.5e-17  9.65e-01   4.761140740e-04   4.726841824e-04   2.4e-14  0.37  \n",
      "27  2.6e-13  2.5e-10  1.8e-17  1.01e+00   3.886163280e-04   3.867937707e-04   1.3e-14  0.39  \n",
      "28  2.2e-13  1.3e-09  1.4e-17  1.00e+00   3.747512146e-04   3.731742830e-04   1.1e-14  0.40  \n",
      "29  2.1e-13  1.9e-09  1.3e-17  9.98e-01   3.683771917e-04   3.669141752e-04   1.0e-14  0.42  \n",
      "30  2.0e-13  1.4e-09  1.2e-17  1.00e+00   3.651835505e-04   3.637751179e-04   9.7e-15  0.43  \n",
      "31  2.0e-13  1.4e-09  1.2e-17  1.00e+00   3.650559237e-04   3.636497264e-04   9.7e-15  0.44  \n",
      "32  2.0e-13  1.4e-09  1.2e-17  9.98e-01   3.649382347e-04   3.635341867e-04   9.7e-15  0.46  \n",
      "33  2.0e-13  1.4e-09  1.2e-17  1.00e+00   3.648801269e-04   3.634771149e-04   9.7e-15  0.48  \n",
      "34  2.0e-13  1.4e-09  1.2e-17  9.99e-01   3.648752320e-04   3.634723114e-04   9.7e-15  0.49  \n",
      "35  2.0e-13  1.4e-09  1.2e-17  1.00e+00   3.648685516e-04   3.634657503e-04   9.7e-15  0.50  \n",
      "36  2.0e-13  1.4e-09  1.2e-17  9.99e-01   3.648682695e-04   3.634654736e-04   9.7e-15  0.52  \n",
      "37  2.0e-13  1.4e-09  1.2e-17  9.99e-01   3.648682695e-04   3.634654736e-04   9.7e-15  0.53  \n",
      "38  1.9e-13  1.4e-09  1.2e-17  1.00e+00   3.623775487e-04   3.609894712e-04   9.6e-15  0.55  \n",
      "39  5.5e-14  4.6e-09  1.8e-18  1.00e+00   3.062385165e-04   3.058461363e-04   2.7e-15  0.56  \n",
      "40  3.7e-11  7.1e-09  5.0e-19  1.00e+00   2.944165807e-04   2.942484925e-04   1.2e-15  0.57  \n",
      "41  6.6e-13  4.7e-08  6.5e-20  1.00e+00   2.874322515e-04   2.873891272e-04   3.0e-16  0.58  \n",
      "42  1.2e-11  8.1e-08  1.8e-20  1.00e+00   2.861362139e-04   2.861184494e-04   1.3e-16  0.59  \n",
      "43  2.1e-12  1.2e-07  2.6e-21  1.00e+00   2.854067543e-04   2.854019197e-04   3.4e-17  0.60  \n",
      "Optimizer terminated. Time: 0.60    \n",
      "\n",
      "SDP solving time: 0.618644987 seconds.\n",
      "optimum = 0.0002854067543135459\n",
      "Found a locally optimal solution by Ipopt, giving an upper bound: 0.00095300.\n",
      "The relative optimality gap is: 0.066759%.\n"
     ]
    },
    {
     "data": {
      "text/plain": [
       "(0.0002854067543135459, [0.09243120338768061, 0.17877539169851442, 0.27107081825440427, 2.9094816545861705e-6, 2.0840956763762985e-7, -0.25709451998041966, 25.14090334816911, 0.00027513778473787516, -0.000145458125791655], TSSOS.mcpop_data(9, 0, 6, 0, Vector{Vector{UInt16}}[[[], [0x0001], [0x0001, 0x0001], [0x0001, 0x0004], [0x0001, 0x0007], [0x0001, 0x0009], [0x0002], [0x0002, 0x0002], [0x0002, 0x0005], [0x0002, 0x0007]  …  [0x0006, 0x0009], [0x0007], [0x0007, 0x0007], [0x0007, 0x0008], [0x0007, 0x0009], [0x0008], [0x0008, 0x0008], [0x0008, 0x0009], [0x0009], [0x0009, 0x0009]], [[0x0001]], [[0x0002]], [[0x0003]], [[0x0001], [0x0002], [0x0003]], [[0x0001, 0x0001], [0x0001, 0x0002], [0x0001, 0x0003], [0x0002, 0x0002], [0x0002, 0x0003], [0x0003, 0x0003], [0x0004, 0x0004], [0x0005, 0x0005], [0x0006, 0x0006]], [[0x0001, 0x0001, 0x0001], [0x0001, 0x0001, 0x0002], [0x0001, 0x0001, 0x0003], [0x0001, 0x0002, 0x0002], [0x0001, 0x0002, 0x0003], [0x0001, 0x0003, 0x0003], [0x0001, 0x0004, 0x0004], [0x0001, 0x0005, 0x0005], [0x0001, 0x0006, 0x0006], [0x0002, 0x0002, 0x0002], [0x0002, 0x0002, 0x0003], [0x0002, 0x0003, 0x0003], [0x0002, 0x0004, 0x0004], [0x0002, 0x0005, 0x0005], [0x0002, 0x0006, 0x0006], [0x0003, 0x0003, 0x0003], [0x0003, 0x0004, 0x0004], [0x0003, 0x0005, 0x0005], [0x0003, 0x0006, 0x0006]]], [[65.37495321955478, -0.013017661776398296, 0.05168674709213622, -0.0008044950814777315, 0.0005179676236185148, 4.104630886766538e-5, -0.012979980165655292, 0.05172488613394287, -0.0012450858989678402, -0.0005179676236185148  …  0.0008044950814777305, -5.199679015672933, 0.10341163322607885, -4.104630886766538e-5, 3.451755329501592e-5, 0.00013669789552729324, 1.0519096548020683, 0.0005179676236185148, -0.00035392288736811996, 1.0518715157602614], [1.0], [1.0], [1.0], [1.0, 1.0, 1.0], [-1.0, 2.0, 2.0, -1.0, 2.0, -1.0, 1.0, -1.0, -1.0], [-1.0, 1.0, 1.0, 1.0, -2.0, 1.0, 1.0, -1.0, -1.0, -1.0, 1.0, 1.0, -1.0, 1.0, -1.0, -1.0, -1.0, -1.0, 1.0]], Vector{Vector{Vector{UInt16}}}[[[[], [0x0001], [0x0002], [0x0003], [0x0004], [0x0005], [0x0006], [0x0007], [0x0009], [0x0001, 0x0001]  …  [0x0006, 0x0007], [0x0007, 0x0007], [0x0001, 0x0009], [0x0002, 0x0009], [0x0003, 0x0009], [0x0004, 0x0009], [0x0005, 0x0009], [0x0006, 0x0009], [0x0007, 0x0009], [0x0009, 0x0009]], [[], [0x0001], [0x0002], [0x0003], [0x0004], [0x0005], [0x0006], [0x0007], [0x0009]], [[], [0x0001], [0x0002], [0x0003], [0x0004], [0x0005], [0x0006], [0x0007], [0x0009]], [[], [0x0001], [0x0002], [0x0003], [0x0004], [0x0005], [0x0006], [0x0007], [0x0009]], [[], [0x0001], [0x0002], [0x0003], [0x0004], [0x0005], [0x0006], [0x0007], [0x0009]], [[], [0x0001], [0x0002], [0x0003], [0x0004], [0x0005], [0x0006], [0x0007], [0x0009]], [[]]], [[[], [0x0002], [0x0003], [0x0005], [0x0006], [0x0007], [0x0008], [0x0009], [0x0002, 0x0002], [0x0002, 0x0003]  …  [0x0006, 0x0008], [0x0007, 0x0008], [0x0008, 0x0008], [0x0002, 0x0009], [0x0003, 0x0009], [0x0005, 0x0009], [0x0006, 0x0009], [0x0007, 0x0009], [0x0008, 0x0009], [0x0009, 0x0009]], [[], [0x0002], [0x0003], [0x0005], [0x0006], [0x0007], [0x0008], [0x0009]], [[], [0x0002], [0x0003], [0x0005], [0x0006], [0x0007], [0x0008], [0x0009]]]], Vector{Vector{Vector{UInt16}}}[[], []], Vector{UInt16}[[], [0x0001], [0x0001, 0x0001], [0x0001, 0x0001, 0x0001], [0x0001, 0x0001, 0x0001, 0x0001], [0x0001, 0x0001, 0x0001, 0x0002], [0x0001, 0x0001, 0x0001, 0x0003], [0x0001, 0x0001, 0x0001, 0x0004], [0x0001, 0x0001, 0x0001, 0x0005], [0x0001, 0x0001, 0x0001, 0x0006]  …  [0x0008, 0x0008, 0x0008, 0x0009], [0x0008, 0x0008, 0x0009], [0x0008, 0x0008, 0x0009, 0x0009], [0x0008, 0x0009], [0x0008, 0x0009, 0x0009], [0x0008, 0x0009, 0x0009, 0x0009], [0x0009], [0x0009, 0x0009], [0x0009, 0x0009, 0x0009], [0x0009, 0x0009, 0x0009, 0x0009]], 2, [8, 7], Vector{UInt16}[[0x0001, 0x0002, 0x0003, 0x0004, 0x0005, 0x0006, 0x0007, 0x0009], [0x0002, 0x0003, 0x0005, 0x0006, 0x0007, 0x0008, 0x0009]], Vector{UInt32}[[0x00000001, 0x00000002, 0x00000003, 0x00000004, 0x00000005, 0x00000006], [0x00000002, 0x00000003]], Vector{UInt32}[[], []], UInt32[], Vector{UInt16}[[0x002d], [0x0024]], Vector{UInt16}[[0x0001], [0x0001]], Vector{UInt16}[[0x0001, 0x0001, 0x0001, 0x0001, 0x0001, 0x0001, 0x0001], [0x0001, 0x0001, 0x0001]], Vector{Vector{UInt16}}[[[0x002d], [0x0009], [0x0009], [0x0009], [0x0009], [0x0009], [0x0001]], [[0x0024], [0x0008], [0x0008]]], Vector{Vector{Vector{UInt16}}}[[[[0x0001, 0x0002, 0x0003, 0x0004, 0x0005, 0x0006, 0x0007, 0x0008, 0x0009, 0x000a  …  0x0024, 0x0025, 0x0026, 0x0027, 0x0028, 0x0029, 0x002a, 0x002b, 0x002c, 0x002d]], [[0x0001, 0x0002, 0x0003, 0x0004, 0x0005, 0x0006, 0x0007, 0x0008, 0x0009]], [[0x0001, 0x0002, 0x0003, 0x0004, 0x0005, 0x0006, 0x0007, 0x0008, 0x0009]], [[0x0001, 0x0002, 0x0003, 0x0004, 0x0005, 0x0006, 0x0007, 0x0008, 0x0009]], [[0x0001, 0x0002, 0x0003, 0x0004, 0x0005, 0x0006, 0x0007, 0x0008, 0x0009]], [[0x0001, 0x0002, 0x0003, 0x0004, 0x0005, 0x0006, 0x0007, 0x0008, 0x0009]], [[0x0001]]], [[[0x0001, 0x0002, 0x0003, 0x0004, 0x0005, 0x0006, 0x0007, 0x0008, 0x0009, 0x000a  …  0x001b, 0x001c, 0x001d, 0x001e, 0x001f, 0x0020, 0x0021, 0x0022, 0x0023, 0x0024]], [[0x0001, 0x0002, 0x0003, 0x0004, 0x0005, 0x0006, 0x0007, 0x0008]], [[0x0001, 0x0002, 0x0003, 0x0004, 0x0005, 0x0006, 0x0007, 0x0008]]]], Vector{Vector{UInt16}}[[], []], nothing, Union{Float64, Symmetric{Float64, S} where S<:(AbstractMatrix{<:Float64}), Matrix{Float64}}[[0.9999999999995792 0.06307045805118115 … 25.141174470871334 -0.0010286843267622247; 0.06307045805118115 0.00397826921502012 … 1.5856653872294928 -6.488037231480773e-5; … ; 25.141174470871334 1.5856653872294928 … 632.0786540602006 -0.025862331434736516; -0.0010286843267622247 -6.488037231480773e-5 … -0.025862331434736516 1.2340492479986218e-6], [0.9999999999995792 0.25837741864837666 … 0.0005767311196143159 -0.0010286843267622247; 0.25837741864837666 0.06675942192927814 … 0.00014901544597390438 -0.00026578889540358617; … ; 0.0005767311196143159 0.00014901544597390438 … 4.968419784272214e-7 -5.935066043186196e-7; -0.0010286843267622247 -0.00026578889540358617 … -5.935066043186196e-7 1.2340492479986218e-6]], \"Mosek\", MathOptInterface.OPTIMAL, 0.0001, 1))"
      ]
     },
     "execution_count": 26,
     "metadata": {},
     "output_type": "execute_result"
    }
   ],
   "source": [
    "opt1,sol1,data1 = cs_tssos_higher!(data, solution=true)"
   ]
  },
  {
   "cell_type": "code",
   "execution_count": 32,
   "metadata": {},
   "outputs": [
    {
     "data": {
      "text/plain": [
       "PolyVar{true}[γ₁, γ₂, γ₃, a₁, a₂, a₃, ϵ, h_Re, h_Im] => [0.09243120338768061, 0.17877539169851442, 0.27107081825440427, 2.9094816545861705e-6, 2.0840956763762985e-7, -0.25709451998041966, 25.14090334816911, 0.00027513778473787516, -0.000145458125791655]"
      ]
     },
     "execution_count": 32,
     "metadata": {},
     "output_type": "execute_result"
    }
   ],
   "source": [
    "solution1"
   ]
  },
  {
   "cell_type": "code",
   "execution_count": 27,
   "metadata": {},
   "outputs": [
    {
     "data": {
      "text/plain": [
       "2×2 Matrix{Polynomial{true, ComplexF64}}:\n",
       " (0.357415+0.0im)   (-0.0+0.257095im)\n",
       " (-0.0-0.257095im)  (0.184727+0.0im)"
      ]
     },
     "execution_count": 27,
     "metadata": {},
     "output_type": "execute_result"
    }
   ],
   "source": [
    "solution1 = variables(polyGEXY) => sol1\n",
    "\n",
    "Cˢⁱᵈ = subs(Cˢʸᵐᵇ, solution1)\n",
    "\n",
    "Cˢⁱᵈ[1:2, 1:2]"
   ]
  },
  {
   "cell_type": "code",
   "execution_count": 30,
   "metadata": {},
   "outputs": [
    {
     "name": "stdout",
     "output_type": "stream",
     "text": [
      "*********************************** TSSOS ***********************************\n",
      "TSSOS is launching...\n",
      "Starting to compute the block structure...\n",
      "-----------------------------------------------------------------------------\n",
      "The sizes of PSD blocks:\n",
      "[22, 1]\n",
      "[1, 9]\n",
      "-----------------------------------------------------------------------------\n",
      "Obtained the block structure. The maximal size of blocks is 22.\n",
      "Assembling the SDP...\n",
      "There are 212 affine constraints.\n",
      "Solving the SDP...\n",
      "Problem\n",
      "  Name                   :                 \n",
      "  Objective sense        : maximize        \n",
      "  Type                   : CONIC (conic optimization problem)\n",
      "  Constraints            : 212             \n",
      "  Affine conic cons.     : 0               \n",
      "  Disjunctive cons.      : 0               \n",
      "  Cones                  : 0               \n",
      "  Scalar variables       : 10              \n",
      "  Matrix variables       : 2 (scalarized: 308)\n",
      "  Integer variables      : 0               \n",
      "\n",
      "Optimizer started.\n",
      "Presolve started.\n",
      "Linear dependency checker started.\n",
      "Linear dependency checker terminated.\n",
      "Eliminator started.\n",
      "Freed constraints in eliminator : 0\n",
      "Eliminator terminated.\n",
      "Eliminator - tries                  : 1                 time                   : 0.00            \n",
      "Lin. dep.  - tries                  : 1                 time                   : 0.00            \n",
      "Lin. dep.  - primal attempts        : 1                 successes              : 1               \n",
      "Lin. dep.  - dual attempts          : 0                 successes              : 0               \n",
      "Lin. dep.  - primal deps.           : 0                 dual deps.             : 0               \n",
      "Presolve terminated. Time: 0.00    \n",
      "GP based matrix reordering started.\n",
      "GP based matrix reordering terminated.\n",
      "Optimizer  - threads                : 36              \n",
      "Optimizer  - solved problem         : the primal      \n",
      "Optimizer  - Constraints            : 212             \n",
      "Optimizer  - Cones                  : 1               \n",
      "Optimizer  - Scalar variables       : 11                conic                  : 2               \n",
      "Optimizer  - Semi-definite variables: 2                 scalarized             : 308             \n",
      "Factor     - setup time             : 0.00            \n",
      "Factor     - dense det. time        : 0.00              GP order time          : 0.00            \n",
      "Factor     - nonzeros before factor : 2.26e+04          after factor           : 2.26e+04        \n",
      "Factor     - dense dim.             : 0                 flops                  : 3.41e+06        \n",
      "ITE PFEAS    DFEAS    GFEAS    PRSTATUS   POBJ              DOBJ              MU       TIME  \n",
      "0   6.3e+01  1.0e+00  1.0e+00  0.00e+00   -0.000000000e+00  -0.000000000e+00  1.0e+00  0.00  \n",
      "1   2.6e+01  4.0e-01  5.9e-01  -9.31e-01  3.965459639e-01   -8.041764609e-01  4.0e-01  0.00  \n",
      "2   1.2e+01  1.9e-01  2.1e-01  -3.48e-01  2.514353477e+00   1.835731251e+00   1.9e-01  0.01  \n",
      "3   8.8e+00  1.4e-01  1.5e-01  1.12e-01   3.271300835e+01   3.204034786e+01   1.4e-01  0.01  \n",
      "4   1.9e+00  3.1e-02  3.3e-02  9.73e-02   4.133736447e+01   4.038291196e+01   3.1e-02  0.01  \n",
      "5   5.5e-01  8.6e-03  1.0e-02  6.49e-02   3.601350761e+01   3.478160667e+01   8.6e-03  0.01  \n",
      "6   1.3e-01  2.0e-03  2.3e-03  1.02e-01   2.612785379e+01   2.491210110e+01   2.0e-03  0.01  \n",
      "7   3.8e-02  6.1e-04  6.3e-04  1.14e-01   1.595756044e+01   1.489076539e+01   6.1e-04  0.02  \n",
      "8   7.3e-03  1.2e-04  7.8e-05  5.35e-01   6.291307407e+00   5.846914945e+00   1.2e-04  0.02  \n",
      "9   1.8e-03  2.9e-05  9.1e-06  6.84e-01   1.970675233e+00   1.872138922e+00   2.9e-05  0.02  \n",
      "10  1.3e-04  2.0e-06  1.8e-07  9.71e-01   1.192884995e-01   1.116203826e-01   2.0e-06  0.02  \n",
      "11  2.7e-06  4.3e-08  5.3e-10  1.00e+00   2.579060083e-03   2.426532210e-03   4.3e-08  0.02  \n",
      "12  5.8e-08  9.3e-10  1.6e-12  1.01e+00   1.230981841e-04   1.199828023e-04   9.2e-10  0.02  \n",
      "13  1.6e-10  2.5e-09  1.0e-14  1.02e+00   6.938118893e-05   6.928787702e-05   3.4e-11  0.03  \n",
      "14  3.0e-11  3.0e-08  6.1e-16  1.32e+00   6.745097209e-05   6.744289664e-05   6.8e-12  0.03  \n",
      "15  9.0e-10  1.1e-07  2.7e-17  1.00e+00   6.713392782e-05   6.713291202e-05   1.1e-12  0.03  \n",
      "16  1.2e-10  1.4e-06  1.2e-18  1.00e+00   6.704688336e-05   6.704675566e-05   1.4e-13  0.03  \n",
      "Optimizer terminated. Time: 0.03    \n",
      "\n",
      "SDP solving time: 0.034645082 seconds.\n",
      "optimum = 6.704688336333514e-5\n",
      "Global optimality certified with relative optimality gap 0.000001%!\n"
     ]
    },
    {
     "data": {
      "text/plain": [
       "(6.704688336333514e-5, [-4.0138859724220594e-5, 0.2513588259247926, 0.25191609600158016, 0.000701275740401503, 0.00026134842152021956, -0.2511598128653184, 25.141303620288813, 0.0005396306938830951, -0.0008478540991835319], TSSOS.upop_data(9, 0, PolyVar{true}[γ₁, γ₂, γ₃, a₁, a₂, a₃, ϵ, h_Re, h_Im], 1.0e-9γ₁⁴ + 1.0e-9γ₂⁴ + 1.0e-9γ₃⁴ + 1.0e-9a₁⁴ + 1.0e-9a₂⁴ + 1.0e-9a₃⁴ + 0.05168674709213622γ₁² - 0.0008044950814777315γ₁a₁ + 0.0005179676236185148γ₁ϵ + 4.104630886766538e-5γ₁h_Im + 0.05172488613394287γ₂² - 0.0012450858989678402γ₂a₂ - 0.0005179676236185148γ₂ϵ + 3.451755329501592e-5γ₂h_Re + 1.0001847686681244γ₃² + 2.1131584754297306γ₃a₃ - 3.45175532950157e-5γ₃h_Re - 4.104630886766538e-5γ₃h_Im + 1.269688888901564a₁² - 8.005395128533376e-37a₁a₂ - 4.658513032068184e-37a₁a₃ + 0.0012450858989678402a₁ϵ + 2.1131584754297306a₁h_Im + 1.269688888901564a₂² + 4.647304221135261e-36a₂a₃ - 0.0008044950814777315a₂ϵ - 2.1131584754297306a₂h_Re + 1.269688888901564a₃² - 0.0012450858989678404a₃h_Re + 0.0008044950814777305a₃h_Im + 0.10341163322607885ϵ² - 4.104630886766538e-5ϵh_Re + 3.451755329501592e-5ϵh_Im + 1.0519096548020683h_Re² + 0.0005179676236185148h_Reh_Im + 1.0518715157602614h_Im² - 0.013017661776398296γ₁ - 0.012979980165655292γ₂ + 0.02681159496728833γ₃ - 0.0312922847698259a₁ + 0.021015710332322916a₂ + 0.10545437422858547a₃ - 5.199679015672933ϵ + 0.00013669789552729324h_Re - 0.00035392288736811996h_Im + 65.37495321955478, UInt8[0x04 0x00 … 0x00 0x00; 0x00 0x04 … 0x00 0x00; … ; 0x00 0x00 … 0x00 0x00; 0x00 0x00 … 0x01 0x00], [1.0e-9, 1.0e-9, 1.0e-9, 1.0e-9, 1.0e-9, 1.0e-9, 0.05168674709213622, -0.0008044950814777315, 0.0005179676236185148, 4.104630886766538e-5  …  -0.013017661776398296, -0.012979980165655292, 0.02681159496728833, -0.0312922847698259, 0.021015710332322916, 0.10545437422858547, -5.199679015672933, 0.00013669789552729324, -0.00035392288736811996, 65.37495321955478], UInt8[0x00 0x01 … 0x00 0x00; 0x00 0x00 … 0x00 0x00; … ; 0x00 0x00 … 0x00 0x00; 0x00 0x00 … 0x00 0x00], UInt8[0x00 0x00 … 0x03 0x04; 0x00 0x00 … 0x00 0x00; … ; 0x00 0x00 … 0x00 0x00; 0x00 0x01 … 0x00 0x00], [[1, 2, 3, 4, 5, 6, 7, 8, 9, 10  …  16, 17, 20, 22, 24, 25, 28, 29, 30, 31], [12], [14], [15], [18], [19], [21], [23], [26], [27]], [22, 1], [1, 9], nothing, [[0.9999999999940922 -4.0138859159793176e-5 … -6.564021833824375e-5 0.06308125496517039; -4.0138859159793176e-5 5.460536848643656e-9 … 1.2207897464568368e-9 -2.5412786954239443e-6; … ; -6.564021833824375e-5 1.2207897464568368e-9 … 1.4343955554329237 -0.0002997686236415445; 0.06308125496517039 -2.5412786954239443e-6 … -0.0002997686236415445 1.8013688922779845], [1.273001297645047;;], [1.39589037320407;;], [1.3985109415753771;;], [1.4992201929095428;;], [1.420139789173616;;], [1.5030972610650417;;], [1.4197285444601495;;], [1.373649024773388;;], [1.3772323467317544;;]], \"Mosek\", MathOptInterface.OPTIMAL, 0.0001, 0))"
      ]
     },
     "execution_count": 30,
     "metadata": {},
     "output_type": "execute_result"
    }
   ],
   "source": [
    "polyGEXY_cut = filter_terms_by_relative_threshold(polyGEXY, 1e-50)\n",
    "opt_cut,sol_cut,data_cut = tssos_first(polyGEXY_cut+1e-9*r4, variables(polyGEXY_cut), TS=\"block\", solution=true, mosek_setting=settings) #, newton=false, TS=\"MD\""
   ]
  },
  {
   "cell_type": "code",
   "execution_count": 45,
   "metadata": {},
   "outputs": [
    {
     "data": {
      "text/plain": [
       "2×2 Matrix{ComplexF64}:\n",
       " 0.503315+0.0im              0.0+0.25116im\n",
       "      0.0-0.25116im  0.000517131+0.0im"
      ]
     },
     "execution_count": 45,
     "metadata": {},
     "output_type": "execute_result"
    }
   ],
   "source": [
    "solution_cut = variables(polyGEXY) => sol_cut\n",
    "\n",
    "Cˢⁱᵈ = convert.(ComplexF64,subs(Cˢʸᵐᵇ, solution_cut))\n",
    "\n",
    "Cˢⁱᵈ[1:2, 1:2]"
   ]
  },
  {
   "cell_type": "code",
   "execution_count": 32,
   "metadata": {},
   "outputs": [
    {
     "data": {
      "text/plain": [
       "2×2 Matrix{Polynomial{true, ComplexF64}}:\n",
       " (0.000517131+0.0im)  (0.0-0.000701276im)\n",
       " (0.0+0.000701276im)  (-0.000597409+0.0im)"
      ]
     },
     "execution_count": 32,
     "metadata": {},
     "output_type": "execute_result"
    }
   ],
   "source": [
    "Cˢⁱᵈ[2:3, 2:3]"
   ]
  },
  {
   "cell_type": "code",
   "execution_count": 46,
   "metadata": {},
   "outputs": [
    {
     "data": {
      "text/plain": [
       "2×2 Matrix{ComplexF64}:\n",
       "     12.5707+0.0im          0.000269815-0.000423927im\n",
       " 0.000269815+0.000423927im     -12.5707+0.0im"
      ]
     },
     "execution_count": 46,
     "metadata": {},
     "output_type": "execute_result"
    }
   ],
   "source": [
    "Hˢⁱᵈ = convert.(ComplexF64,subs(Hˢʸᵐᵇ, solution_cut))"
   ]
  },
  {
   "cell_type": "code",
   "execution_count": 36,
   "metadata": {},
   "outputs": [
    {
     "data": {
      "text/plain": [
       "get_lindblad_operators (generic function with 1 method)"
      ]
     },
     "execution_count": 36,
     "metadata": {},
     "output_type": "execute_result"
    }
   ],
   "source": [
    "function get_lindblad_operators(C::Matrix{ComplexF64}, basis_ops::Vector{Matrix{ComplexF64}})\n",
    "    # Check that C is a square matrix and basis_ops has the same dimension\n",
    "    n = size(C, 1)\n",
    "    if size(C, 2) != n || length(basis_ops) != n\n",
    "        throw(ArgumentError(\"Dimensions of C and basis_ops do not match\"))\n",
    "    end\n",
    "\n",
    "    # Perform eigenvalue decomposition of C\n",
    "    eigvals, eigvecs = eigen(C)\n",
    "\n",
    "    # Construct the Lindblad operators\n",
    "    lindblad_ops = []\n",
    "    for i in 1:n\n",
    "        if eigvals[i] > 1e-10  # Filter out negligible eigenvalues to ensure numerical stability\n",
    "            lindblad_op = zeros(ComplexF64, size(basis_ops[1]))\n",
    "            for j in 1:n\n",
    "                lindblad_op .+= sqrt(eigvals[i]) * eigvecs[j, i] * basis_ops[j]\n",
    "            end\n",
    "            push!(lindblad_ops, lindblad_op)\n",
    "        end\n",
    "    end\n",
    "\n",
    "    return lindblad_ops\n",
    "end"
   ]
  },
  {
   "cell_type": "code",
   "execution_count": 33,
   "metadata": {},
   "outputs": [],
   "source": [
    "ρᵍ₀ = [ 1 0.\n",
    "        0 0 ]    # state to measure initial distance from\n",
    "\n",
    "dodeca_10_states = [\"D\"*string(n) for n=1:10];\n",
    "\n",
    "basis_states = [\"B\"*string(n) for n=1:4];\n",
    "\n",
    "train_states = basis_states \n",
    "test_states = dodeca_10_states;"
   ]
  },
  {
   "cell_type": "code",
   "execution_count": 54,
   "metadata": {},
   "outputs": [
    {
     "data": {
      "text/plain": [
       "3×3 Matrix{ComplexF64}:\n",
       " 0.25133+0.0im          0.0+0.25133im  0.0+0.0im\n",
       "     0.0-0.25133im  0.25133+0.0im      0.0+0.0im\n",
       "     0.0+0.0im          0.0+0.0im      0.0+0.0im"
      ]
     },
     "execution_count": 54,
     "metadata": {},
     "output_type": "execute_result"
    }
   ],
   "source": [
    "Canz = [  0.25133     im*0.25133  0\n",
    "         -im*0.25133  0.25133     0\n",
    "          0           0           0 ]\n",
    "\n",
    "Cˢⁱᵈ = Canz "
   ]
  },
  {
   "cell_type": "code",
   "execution_count": 55,
   "metadata": {},
   "outputs": [
    {
     "name": "stdout",
     "output_type": "stream",
     "text": [
      "D1 D2 D3 D4 D5 D6 D7 D8 D9 D10 Mimimal fidelity for 0.25133: 0.9993938976827987\n",
      "Median fidelity for 0.25133: 0.9999711923879758\n"
     ]
    }
   ],
   "source": [
    "FminStates = []\n",
    "FmedianStates = []\n",
    "FmeanStates = []\n",
    "\n",
    "for state in test_states # loop over initial states\n",
    "    \n",
    "    print(state*\" \")\n",
    "\n",
    "    start_time = time()\n",
    "\n",
    "    tₛ, ρₛ = read_timeevolution(evol_data_file_name, state, γᵢ)\n",
    "    ρₛ = convert(Vector{Matrix{ComplexF64}}, ρₛ)\n",
    "    #bᵗˢᵗ = LiPoSID.bloch(ρₛ)\n",
    "    ρᵗˢᵗ = [DenseOperator(basis,Hermitian(ρₜ)) for ρₜ in ρₛ]\n",
    "    tᵗˢᵗ = convert.(Float64, tₛ)\n",
    "\n",
    "    #Simulated LME \n",
    "    #tˢⁱᵐ, ρˢⁱᵐ  = timeevolution.master(tᵗˢᵗ, ρᵗˢᵗ[1], DenseOperator(basis, Hˢⁱᵈ), [Jˢⁱᵐ])\n",
    "    #bˢⁱᵐ = LiPoSID.bloch([ρᵢ.data for ρᵢ in ρˢⁱᵐ])\n",
    "\n",
    "    ρₒ = DenseOperator(basis,ρₛ[1])\n",
    "    dt = tᵗˢᵗ[2] - tᵗˢᵗ[1]\n",
    "    tᵉⁿᵈ = tᵗˢᵗ[end]\n",
    "\n",
    "    #print(\"effective_Lindblad_ops for Kossakowski\")\n",
    "\n",
    "    effective_Lindblad = get_lindblad_operators(Cˢⁱᵈ, fᴷᴼᴺᴮ)\n",
    "    effective_Lindblad_ops = [DenseOperator(basis,j) for j in effective_Lindblad]\n",
    "\n",
    "    #print(\"Simulating Kossakowski\")\n",
    "\n",
    "    tout, ρ_t_kossak = timeevolution.master(tᵗˢᵗ, ρₒ, DenseOperator(basis, Hˢⁱᵈ), effective_Lindblad_ops)\n",
    "    ρˢⁱᵈ  = [ρₜ.data for ρₜ in ρ_t_kossak]\n",
    "\n",
    "    #print(\"Calculating Fidelity\")\n",
    "\n",
    "    #F = LiPoSID.fidelity_series(basis, [ρₜ.data for ρₜ in ρˢⁱᵐ], ρˢⁱᵈ)\n",
    "    F = LiPoSID.fidelity_series(basis, ρₛ, ρˢⁱᵈ)\n",
    "    #Fˢᵖⁱⁿᵇᴼˢᴼⁿ= LiPoSID.fidelity_series(basis, ρₛ, ρˢⁱᵈ)\n",
    "\n",
    "    #Fᴸᴹᴱₑₓ = [abs(fidelity(ρ₁, ρ₂)) for (ρ₁, ρ₂) in zip(ρᵗˢᵗ, ρˢⁱᵈ)]   \n",
    "\n",
    "    #h5open(tests_dir*tests_data_file_name,\"cw\") do fid\n",
    "        #γ_group = open_group(fid, γᵢ) # open gamma coupling group\n",
    "        #init_state_group = create_group(γ_group, state) # create initial state group\n",
    "        #init_state_group[\"Fidelity_SB\"] = convert.(Float64, Fˢᵖⁱⁿᵇᴼˢᴼⁿ)\n",
    "        #init_state_group[\"F\"] = convert.(Float64, F)\n",
    "        #init_state_group[\"bloch_exact\"] = convert.(Float64, bᵗˢᵗ)\n",
    "        #init_state_group[\"bloch_sid_lme\"] = convert.(Float64, bˢⁱᵈ)\n",
    "        #init_state_group[\"bloch_sim_lme\"] = convert.(Float64, bˢⁱᵈ)\n",
    "        #init_state_group[\"tr_dist_grnd\"] = TrDist(ρₛ[1], ρᵍ₀)\n",
    "        #init_state_group[\"time\"] = tᵗˢᵗ\n",
    "    #end\n",
    "    \n",
    "    FminState = minimum(F)\n",
    "    FmedianState = median(F)\n",
    "    FmeanState = mean(F)\n",
    "    \n",
    "    push!(FminStates, FminState)\n",
    "    push!(FmedianStates, FmedianState)\n",
    "    push!(FmeanStates, FmeanState)\n",
    "\n",
    "end\n",
    "\n",
    "# Calculate the mean\n",
    "F_mean_value = mean(FmeanStates)\n",
    "\n",
    "# Calculate the median\n",
    "F_median_value = median(FmedianStates)\n",
    "\n",
    "# Calculate the min\n",
    "F_min_value = minimum(FminStates)\n",
    "\n",
    "println(\"Mimimal fidelity for \"*γᵢ*\": \", F_min_value)\n",
    "println(\"Median fidelity for \"*γᵢ*\": \", F_median_value)"
   ]
  }
 ],
 "metadata": {
  "kernelspec": {
   "display_name": "Julia 70 Threads 1.7.3",
   "language": "julia",
   "name": "julia-70-threads-1.7"
  },
  "language_info": {
   "file_extension": ".jl",
   "mimetype": "application/julia",
   "name": "julia",
   "version": "1.7.3"
  }
 },
 "nbformat": 4,
 "nbformat_minor": 2
}
