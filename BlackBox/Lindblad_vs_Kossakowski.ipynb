{
 "cells": [
  {
   "cell_type": "code",
   "execution_count": 1,
   "metadata": {},
   "outputs": [
    {
     "name": "stderr",
     "output_type": "stream",
     "text": [
      "┌ Warning: Package LinearSolve does not have KrylovKit in its dependencies:\n",
      "│ - If you have LinearSolve checked out for development and have\n",
      "│   added KrylovKit as a dependency but haven't updated your primary\n",
      "│   environment's manifest file, try `Pkg.resolve()`.\n",
      "│ - Otherwise you may need to report an issue with LinearSolve\n",
      "│ Loading KrylovKit into LinearSolve from project dependency, future warnings for LinearSolve are suppressed.\n",
      "└ @ nothing nothing:984\n"
     ]
    },
    {
     "data": {
      "text/plain": [
       "Main.LiPoSID"
      ]
     },
     "metadata": {},
     "output_type": "display_data"
    }
   ],
   "source": [
    "using QuantumOptics\n",
    "basis = NLevelBasis(2)\n",
    "using LinearAlgebra\n",
    "\n",
    "using DynamicPolynomials\n",
    "\n",
    "using DifferentialEquations\n",
    "\n",
    "using HDF5\n",
    "\n",
    "using Dates\n",
    "\n",
    "using Statistics\n",
    "\n",
    "include(\"../LiPoSID.jl\")"
   ]
  },
  {
   "cell_type": "code",
   "execution_count": 2,
   "metadata": {},
   "outputs": [
    {
     "data": {
      "text/plain": [
       "kossak_time_evolution (generic function with 1 method)"
      ]
     },
     "metadata": {},
     "output_type": "display_data"
    }
   ],
   "source": [
    "function read_timeevolution(file_name, state, γ)\n",
    "    h5open(file_name, \"r\") do file\n",
    "        ρᵧ = read(file[state][string(γ)])\n",
    "        t = ρᵧ[\"t\"]\n",
    "        ρ₀₀ = ρᵧ[\"p0\"]; Re_ρ₀₁ = ρᵧ[\"s_re\"];  Im_ρ₀₁ = ρᵧ[\"s_im\"]\n",
    "        ρ_series = []\n",
    "        t_series = []\n",
    "\n",
    "        for i in 1:length(t)\n",
    "            ρᵢ= [ ρ₀₀[i]                      Re_ρ₀₁[i] + im * Im_ρ₀₁[i]\n",
    "                  Re_ρ₀₁[i] - im * Im_ρ₀₁[i]  1 - ρ₀₀[i]                 ]\n",
    "            push!(ρ_series, convert(Matrix{ComplexF64}, ρᵢ))\n",
    "            push!(t_series, convert(Float64, t[i]))\n",
    "        end\n",
    "        return(t_series, ρ_series)\n",
    "    end\n",
    "end\n",
    "\n",
    "function kossak_time_evolution(ρₒ, tₒ, tₘₐₓ, dt, H0, C, Fᴼᴺᴮ)\n",
    "    \n",
    "    # Precompute the dissipation terms\n",
    "    function D!(dρ, ρ, Fᴼᴺᴮ, C)\n",
    "        D = similar(ρ)\n",
    "        D .= 0\n",
    "        for (k, fᵢ) in enumerate(Fᴼᴺᴮ)\n",
    "            for (l, fⱼ) in enumerate(Fᴼᴺᴮ)\n",
    "                D .+= C[k, l] * (2 * fᵢ * ρ * fⱼ' - ρ * (fⱼ' * fᵢ) - (fⱼ' * fᵢ) * ρ)\n",
    "            end\n",
    "        end\n",
    "        dρ .= D ./ 2\n",
    "        return dρ\n",
    "    end\n",
    "\n",
    "    # Define the differential equation\n",
    "    function matrix_ode!(dρ, ρ, p, t)\n",
    "        dρ .= -im * (H0 * ρ - ρ * H0)\n",
    "        D!(dρ, ρ, Fᴼᴺᴮ, C)\n",
    "    end\n",
    "\n",
    "    # Time span\n",
    "    tspan = (tₒ, tₘₐₓ)\n",
    "\n",
    "    # Create an ODE problem\n",
    "    prob = ODEProblem(matrix_ode!, ρₒ, tspan)\n",
    "\n",
    "    # Solve the ODE using a suitable solver, e.g., Tsit5 for non-stiff problems\n",
    "    sol = solve(prob, Tsit5(), dt=dt, adaptive=false)\n",
    "\n",
    "    # Access solution\n",
    "    ρ_solution = sol.u\n",
    "    t_solution = sol.t\n",
    "    \n",
    "    return t_solution, ρ_solution\n",
    "end"
   ]
  },
  {
   "cell_type": "markdown",
   "metadata": {},
   "source": [
    "For the two level system we can use Kossakowski form:\n",
    "\n",
    "Kossakowski, Bull. Acad. Pol. Sci. Ser. Math. Astr. Phys. 21, 649 (1973).\n",
    "\n",
    "Completely positive dynamical semigroups of Nlevel systems\n",
    "Vittorio Gorini, Andrzej Kossakowski, and E. C. G. Sudarshan\n",
    "Citation: J. Math. Phys. 17, 821 (1976); doi: 10.1063/1.522979\n",
    "\n",
    "\n",
    "A linear operator $\\frac{d\\rho}{dt} : M(2) \\rightarrow M(2)$ is the generator of a dynamical semigroup $t \\rightarrow \\Lambda_t$ of $M(2)$ iff it can be written in the form:\n",
    "\n",
    "$\\frac{d\\rho}{dt} = -i[H,\\rho] + \\frac{1}{2} \\sum_{i,j}^3 C_{ij} \\{[f_i, \\rho f_j] + [f_i\\rho, f_j]\\}, \\quad \\rho \\in M(2)$\n",
    "\n",
    "where $C \\succeq 0$ - semidefinite matrix"
   ]
  },
  {
   "cell_type": "markdown",
   "metadata": {},
   "source": [
    "\n",
    "We can also conside master equation in Lindblad form:\n",
    "\n",
    "$\n",
    "    \\frac{d\\rho}{dt} = -\\frac{i}{\\hbar} [H,\\rho(t)] + \\mathcal{D}[\\rho(t)] = - \\frac{i}{\\hbar}[H, \\rho]+\\sum_{\\ell=1}^{s-1}\\left[J_\\ell \\rho J_\\ell^\\dagger - \\frac{1}{2}\\left\\{ J_\\ell^\\dagger J_\\ell, \\rho \\right\\} \\right],\n",
    "$\n",
    "\n",
    "\n",
    "Consider simple Lindblad master equation with one dissipators:\n",
    "\n",
    "$\n",
    "     \\frac{d\\rho}{dt} = - \\frac{i}{\\hbar}[H, \\rho]+\\gamma_1\\left[J_1 \\rho J_1^\\dagger - \\frac{1}{2}\\left\\{ J_1^\\dagger J_1, \\rho \\right\\} \\right]\n",
    "$,\n",
    "\n",
    "where Hamiltonian is hermitian with and dissipator is of the simple form:\n",
    "\n",
    "$\n",
    "J_1 = \\begin{pmatrix} 0 & r \\\\ 0 & 0 \n",
    "   \\end{pmatrix} = \n",
    "   \\begin{pmatrix} 0 & \\sqrt{\\gamma_1} \\\\ 0 & 0 \n",
    "   \\end{pmatrix}\n",
    "$"
   ]
  },
  {
   "cell_type": "markdown",
   "metadata": {},
   "source": [
    "If use Pauli matrices $\\sigma_x, \\sigma_y, \\sigma_z$ to choose 3 orthonormal $f_i$ for the two-level system to fulfill:\n",
    "\n",
    "$f_i f_j = \\frac{1}{4}\\delta_{ij}I  +\\frac{i}{2} \\sum_{k=1}^3 \\epsilon_{ijk} f_k$ which means:\n",
    "\n",
    "$ \\operatorname{tr}(f_i f_j)=\\frac{1}{2}\\delta_{ij}, \\quad \\operatorname{tr}(f_i) = 0$\n",
    "\n",
    "we can use the halfs of Pauli matices as basis and then\n",
    "\n",
    "Corrresponding Kossakowski matrix  should be:\n",
    "\n",
    "$ C_{3\\times3} = \\begin{pmatrix}\n",
    "\\gamma/4 & -i \\gamma /4 & 0 \\\\\n",
    "i\\gamma/4 & \\gamma/4 & 0 \\\\\n",
    "0 & 0 & 0\n",
    "\\end{pmatrix}$"
   ]
  },
  {
   "cell_type": "markdown",
   "metadata": {},
   "source": []
  },
  {
   "cell_type": "code",
   "execution_count": 4,
   "metadata": {},
   "outputs": [
    {
     "data": {
      "text/plain": [
       "3-element Vector{Matrix{ComplexF64}}:\n",
       " [0.0 + 0.0im 0.5 + 0.0im; 0.5 + 0.0im 0.0 + 0.0im]\n",
       " [0.0 + 0.0im 0.0 - 0.5im; 0.0 + 0.5im 0.0 + 0.0im]\n",
       " [0.5 + 0.0im 0.0 + 0.0im; 0.0 + 0.0im -0.5 + 0.0im]"
      ]
     },
     "metadata": {},
     "output_type": "display_data"
    }
   ],
   "source": [
    "γᵢ = \"0.25133\"\n",
    "\n",
    "γᶠ = parse(ComplexF64, γᵢ)\n",
    "\n",
    "@polyvar γ\n",
    "\n",
    "C = [γ/4     -im*γ/4 0 \n",
    "     im*γ/4   γ/4    0\n",
    "     0        0      0]  \n",
    "\n",
    "\n",
    "Cˢⁱᵈ = subs(C, γ => γᶠ)\n",
    "\n",
    "\n",
    "@polyvar ϵ \n",
    "\n",
    "Hˢⁱᵐ = [ 25.133 0+0im\n",
    "          0.    -25.133  ] / 2\n",
    "\n",
    "#Hˢⁱᵈ = subs(Hˢʸᵐᵇ,  ϵ => 25.133) #25.126\n",
    "\n",
    "#Hˢⁱᵐ = Hˢⁱᵈ\n",
    "\n",
    "Jˢⁱᵐ  = DenseOperator(basis,[ 0    sqrt(0.25133)\n",
    "                              0.   0+0im    ])\n",
    "\n",
    "\n",
    "σˣ = [ 0 1 \n",
    "       1 0 ]\n",
    "\n",
    "σʸ = [ 0.   -im*1   #im\n",
    "       im*1 0    ]\n",
    "\n",
    "σᶻ = [ 1.  0\n",
    "       0  -1 ] \n",
    "\n",
    "fᴷ₁ = σˣ/2\n",
    "fᴷ₂ = σʸ/2\n",
    "fᴷ₃ = σᶻ/2\n",
    "\n",
    "@assert tr(σˣ/2*σʸ/2) == tr(σˣ/2*σᶻ/2) ==  tr(σʸ/2*σᶻ/2) ≈ 0\n",
    "@assert tr(σˣ/2*σˣ/2) == tr(σʸ/2*σʸ/2) == tr(σᶻ/2*σᶻ/2) ≈ 1/2\n",
    "\n",
    "fᴷᴼᴺᴮ = [fᴷ₁, fᴷ₂, fᴷ₃]"
   ]
  },
  {
   "cell_type": "code",
   "execution_count": 5,
   "metadata": {},
   "outputs": [
    {
     "data": {
      "text/plain": [
       "Operator(dim=2x2)\n",
       "  basis: NLevel(N=2)\n",
       " 0.0+0.0im  0.501328+0.0im\n",
       " 0.0+0.0im       0.0+0.0im"
      ]
     },
     "metadata": {},
     "output_type": "display_data"
    }
   ],
   "source": [
    "Jˢⁱᵐ"
   ]
  },
  {
   "cell_type": "code",
   "execution_count": 6,
   "metadata": {},
   "outputs": [
    {
     "data": {
      "text/plain": [
       "Operator(dim=2x2)\n",
       "  basis: NLevel(N=2)\n",
       " 12.5665+0.0im       0.0+0.0im\n",
       "     0.0+0.0im  -12.5665+0.0im"
      ]
     },
     "metadata": {},
     "output_type": "display_data"
    }
   ],
   "source": [
    "DenseOperator(basis, Hˢⁱᵐ)"
   ]
  },
  {
   "cell_type": "code",
   "execution_count": 10,
   "metadata": {},
   "outputs": [
    {
     "name": "stdout",
     "output_type": "stream",
     "text": [
      "D1 D2 D3 D4 D5 D6 D7 D8 D9 D10 Median fidelity for 0.25133: 0.9306909810393986\n"
     ]
    }
   ],
   "source": [
    "evol_data_file_name = \"../DATA/ALL_GAMMAS_B4_D10.h5\"\n",
    "\n",
    "dodeca_10_states = [\"D\"*string(n) for n=1:10];\n",
    "\n",
    "basis_states = [\"B\"*string(n) for n=1:4];\n",
    "\n",
    "train_states = basis_states \n",
    "test_states = dodeca_10_states\n",
    "\n",
    "FminStates = []\n",
    "FmedianStates = []\n",
    "FmeanStates = []\n",
    "\n",
    "for state in test_states # loop over initial states\n",
    "    \n",
    "    print(state*\" \")\n",
    "\n",
    "    start_time = time()\n",
    "\n",
    "    tₛ, ρₛ = read_timeevolution(evol_data_file_name, state, γᵢ)\n",
    "    ρₛ = convert(Vector{Matrix{ComplexF64}}, ρₛ)\n",
    " \n",
    "    ρᵗˢᵗ = [DenseOperator(basis,Hermitian(ρₜ)) for ρₜ in ρₛ]\n",
    "    tᵗˢᵗ = convert(Vector{Float64}, tₛ)\n",
    "\n",
    "    #println(\"Simulating Lindblad form\")\n",
    "    tˢⁱᵐ, ρˢⁱᵐ  = timeevolution.master(tᵗˢᵗ, ρᵗˢᵗ[1], DenseOperator(basis, Hˢⁱᵐ), [Jˢⁱᵐ])\n",
    "\n",
    "    ρₒ = ρₛ[1]\n",
    "    dt = tᵗˢᵗ[2] - tᵗˢᵗ[1]\n",
    "    tᵉⁿᵈ = tᵗˢᵗ[end]\n",
    "\n",
    "    #println(\"Simulating Kossakowski form\")\n",
    "    #tˢⁱᵈ, ρˢⁱᵈ  = kossak_time_evolution(ρₒ, tᵉⁿᵈ, dt, Hˢⁱᵐ, Cˢⁱᵈ, fᴷᴼᴺᴮ)\n",
    "    tˢⁱᵈ, ρˢⁱᵈ  = kossak_time_evolution(ρₒ, tᵗˢᵗ[1], tᵉⁿᵈ, dt, Hˢⁱᵐ, Cˢⁱᵈ, fᴷᴼᴺᴮ)\n",
    "    #bˢⁱᵈ = LiPoSID.bloch([ρᵢ.data for ρᵢ in ρˢⁱᵈ])\n",
    "\n",
    "    F_lme_kos = LiPoSID.fidelity_series(basis, [ρₜ.data for ρₜ in ρˢⁱᵐ], ρˢⁱᵈ)\n",
    "    #F_sb_kos = LiPoSID.fidelity_series(basis, ρₛ, ρˢⁱᵈ)\n",
    "    \n",
    "    #Fˢᵖⁱⁿᵇᴼˢᴼⁿ= LiPoSID.fidelity_series(basis, ρₛ, ρˢⁱᵈ)\n",
    "\n",
    "    #Fᴸᴹᴱₑₓ = [abs(fidelity(ρ₁, ρ₂)) for (ρ₁, ρ₂) in zip(ρᵗˢᵗ, ρˢⁱᵈ)]   \n",
    "\n",
    "    #h5open(tests_dir*tests_data_file_name,\"cw\") do fid\n",
    "        #γ_group = open_group(fid, γᵢ) # open gamma coupling group\n",
    "        #init_state_group = create_group(γ_group, state) # create initial state group\n",
    "        #init_state_group[\"Fidelity_SB\"] = convert.(Float64, Fˢᵖⁱⁿᵇᴼˢᴼⁿ)\n",
    "        #init_state_group[\"F\"] = convert.(Float64, F)\n",
    "        #init_state_group[\"bloch_exact\"] = convert.(Float64, bᵗˢᵗ)\n",
    "        #init_state_group[\"bloch_sid_lme\"] = convert.(Float64, bˢⁱᵈ)\n",
    "        #init_state_group[\"bloch_sim_lme\"] = convert.(Float64, bˢⁱᵈ)\n",
    "        #init_state_group[\"tr_dist_grnd\"] = TrDist(ρₛ[1], ρᵍ₀)\n",
    "        #init_state_group[\"time\"] = tᵗˢᵗ\n",
    "    #end\n",
    "    \n",
    "    FminState = minimum(F_lme_kos)\n",
    "    FmedianState = median(F_lme_kos)\n",
    "    FmeanState = mean(F_lme_kos)\n",
    "    \n",
    "    push!(FminStates, FminState)\n",
    "    push!(FmedianStates, FmedianState)\n",
    "    push!(FmeanStates, FmeanState)\n",
    "\n",
    "end\n",
    "\n",
    "# Calculate the mean\n",
    "F_mean_value = mean(FmeanStates)\n",
    "\n",
    "# Calculate the median\n",
    "F_median_value = median(FmedianStates)\n",
    "\n",
    "# Calculate the min\n",
    "F_min_value = minimum(FminStates)\n",
    "\n",
    "println(\"Median fidelity for \"*γᵢ*\": \", F_median_value)"
   ]
  }
 ],
 "metadata": {
  "kernelspec": {
   "display_name": "Julia 1.7.3",
   "language": "julia",
   "name": "julia-1.7"
  },
  "language_info": {
   "file_extension": ".jl",
   "mimetype": "application/julia",
   "name": "julia",
   "version": "1.7.3"
  }
 },
 "nbformat": 4,
 "nbformat_minor": 2
}
