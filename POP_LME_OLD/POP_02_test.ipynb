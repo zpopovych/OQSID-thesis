{
 "cells": [
  {
   "cell_type": "markdown",
   "id": "37a9699b",
   "metadata": {},
   "source": [
    "### POP test dodecahedron"
   ]
  },
  {
   "cell_type": "code",
   "execution_count": 1,
   "id": "f20005b0",
   "metadata": {},
   "outputs": [],
   "source": [
    "include(\"LiPoSID.jl\")\n",
    "using QuantumOptics\n",
    "basis = NLevelBasis(2)\n",
    "using DynamicPolynomials\n",
    "using LinearAlgebra\n",
    "using Dates\n",
    "using HDF5"
   ]
  },
  {
   "cell_type": "code",
   "execution_count": 2,
   "id": "3edaa0de",
   "metadata": {},
   "outputs": [
    {
     "data": {
      "text/plain": [
       "get_value (generic function with 1 method)"
      ]
     },
     "execution_count": 2,
     "metadata": {},
     "output_type": "execute_result"
    }
   ],
   "source": [
    "function get_operator(file, gamma_group, operator_name)\n",
    "    h5open(file,\"r\") do fid # read-only\n",
    "        A = read(fid[gamma_group][operator_name])\n",
    "        return convert(Matrix{ComplexF64}, A)\n",
    "    end\n",
    "end\n",
    "\n",
    "function get_value(file, gamma_group, operator_name)\n",
    "    h5open(file,\"r\") do fid # read-only\n",
    "        g = read(fid[gamma_group][operator_name])\n",
    "        return convert(Float64, g)\n",
    "    end\n",
    "end"
   ]
  },
  {
   "cell_type": "code",
   "execution_count": 3,
   "id": "571c43a0",
   "metadata": {},
   "outputs": [
    {
     "name": "stdout",
     "output_type": "stream",
     "text": [
      "/home/zah/POP23/DATA/\n"
     ]
    },
    {
     "data": {
      "text/plain": [
       "\"/home/zah/POP23/TESTS/\""
      ]
     },
     "execution_count": 3,
     "metadata": {},
     "output_type": "execute_result"
    }
   ],
   "source": [
    "parentdir = pwd()\n",
    "#parentdir = \"C:\\\\Users\\\\Zakhar\\\\Documents\\\\GitHub\\\\POP23\\\\\"\n",
    "data_dir = parentdir*\"/DATA/\"\n",
    "println(data_dir)\n",
    "models_dir = parentdir*\"/MODELS/\"\n",
    "tests_dir = parentdir*\"/TESTS/\""
   ]
  },
  {
   "cell_type": "markdown",
   "id": "bb0d89d1",
   "metadata": {},
   "source": [
    "Choose last models file"
   ]
  },
  {
   "cell_type": "code",
   "execution_count": 4,
   "id": "249b425d",
   "metadata": {},
   "outputs": [
    {
     "name": "stdout",
     "output_type": "stream",
     "text": [
      "POP_train-B-Tr0-fix-diag-phase_2023-Jul-28_at_17-38.h5\n"
     ]
    },
    {
     "data": {
      "text/plain": [
       "\"POP_train-B-Tr0-fix-diag-phase_2023-Jul-28_at_17-38.h5\""
      ]
     },
     "execution_count": 4,
     "metadata": {},
     "output_type": "execute_result"
    }
   ],
   "source": [
    "cd(models_dir)\n",
    "models_file = \"\"\n",
    "for (root, dirs, files) in walkdir(\".\") \n",
    "    models_file = files[end]\n",
    "end\n",
    "println(models_file)\n",
    "\n",
    "#models_file = \"POP_Tr0_train-g-B_2023-Jul-07_at_15-55.h5\"\n",
    "#models_file = \"POP_Tr0_train-fix-phase-reg001-B_2023-Jul-16_at_02-20.h5\"\n",
    "#models_file = \"POP_train-B-Tr0-fix-phase_2023-Jul-16_at_07-47.h5\"\n",
    "\n",
    "#models_file = \"POP_train-B-Tr0-fix-diag-phase_2023-Jul-17_at_13-08.h5\"\n",
    "\n",
    "models_file = \"POP_train-B-Tr0-fix-diag-phase_2023-Jul-28_at_17-38.h5\""
   ]
  },
  {
   "cell_type": "code",
   "execution_count": 5,
   "id": "3fa9e711",
   "metadata": {},
   "outputs": [],
   "source": [
    "test_files = [\"State_D\"*string(n) for n=1:20];"
   ]
  },
  {
   "cell_type": "markdown",
   "id": "e085bba8",
   "metadata": {},
   "source": [
    "### Test models loop"
   ]
  },
  {
   "cell_type": "code",
   "execution_count": 7,
   "id": "2ffe0440",
   "metadata": {},
   "outputs": [
    {
     "name": "stdout",
     "output_type": "stream",
     "text": [
      "Test to be saved in POP_test-Tr0-fix-phase_2023-Jul-28_at_18-03.h5\n",
      " γ = 0.079477\n",
      "State_D1 State_D2 State_D3 State_D4 State_D5 State_D6 State_D7 State_D8 State_D9 State_D10 State_D11 State_D12 State_D13 State_D14 State_D15 State_D16 State_D17 State_D18 State_D19 State_D20 \n",
      " γ = 0.25133\n",
      "State_D1 State_D2 State_D3 State_D4 State_D5 State_D6 State_D7 State_D8 State_D9 State_D10 State_D11 State_D12 State_D13 State_D14 State_D15 State_D16 State_D17 State_D18 State_D19 State_D20 \n",
      " γ = 0.79477\n",
      "State_D1 State_D2 State_D3 State_D4 State_D5 State_D6 State_D7 State_D8 State_D9 State_D10 State_D11 State_D12 State_D13 State_D14 State_D15 State_D16 State_D17 State_D18 State_D19 State_D20 \n",
      " γ = 2.5133\n",
      "State_D1 State_D2 State_D3 State_D4 State_D5 State_D6 State_D7 State_D8 State_D9 State_D10 State_D11 State_D12 State_D13 State_D14 State_D15 State_D16 State_D17 State_D18 State_D19 State_D20 \n",
      " γ = 7.9477\n",
      "State_D1 State_D2 State_D3 State_D4 State_D5 State_D6 State_D7 State_D8 State_D9 State_D10 State_D11 State_D12 State_D13 State_D14 State_D15 State_D16 State_D17 State_D18 State_D19 State_D20 \n",
      " γ = 25.133\n",
      "State_D1 State_D2 State_D3 State_D4 State_D5 State_D6 State_D7 State_D8 State_D9 State_D10 State_D11 State_D12 State_D13 State_D14 State_D15 State_D16 State_D17 State_D18 State_D19 State_D20 \n",
      " γ = 79.477\n",
      "State_D1 State_D2 State_D3 State_D4 State_D5 State_D6 State_D7 State_D8 State_D9 State_D10 State_D11 State_D12 State_D13 State_D14 State_D15 State_D16 State_D17 State_D18 State_D19 State_D20 \n",
      " γ = 251.33\n",
      "State_D1 State_D2 State_D3 State_D4 State_D5 State_D6 State_D7 State_D8 State_D9 State_D10 State_D11 State_D12 State_D13 State_D14 State_D15 State_D16 State_D17 State_D18 State_D19 State_D20 \n"
     ]
    }
   ],
   "source": [
    "date_and_time_string =  string(Dates.format(now(), \"yyyy-u-dd_at_HH-MM\"))\n",
    "tests_data_file_name = \"POP_test-Tr0-fix-phase_\" * date_and_time_string * \".h5\"\n",
    "\n",
    "println(\"Test to be saved in \", tests_data_file_name)\n",
    "\n",
    "γ = [ \"0.079477\",  \"0.25133\", \"0.79477\", \"2.5133\", \"7.9477\", \"25.133\", \"79.477\", \"251.33\"]\n",
    "\n",
    "for γᵢ in γ\n",
    "    \n",
    "    println(\" γ = \", γᵢ)\n",
    "    \n",
    "    h5open(tests_dir*tests_data_file_name,\"cw\") do fid\n",
    "                γ_group = create_group(fid, \"gamma_\"*γᵢ)\n",
    "    end \n",
    "    \n",
    "    H = DenseOperator(basis, get_operator(models_dir*models_file, \"gamma_\"*γᵢ, \"H\"))\n",
    "    A = DenseOperator(basis, get_operator(models_dir*models_file, \"gamma_\"*γᵢ, \"A\"))\n",
    "    #g = get_value(models_dir*models_file, \"gamma_\"*γᵢ, \"g\")\n",
    "    \n",
    "    #A = g * A\n",
    "            \n",
    "    for df in test_files # loop over initial states\n",
    "\n",
    "                print(df*\" \")\n",
    "        \n",
    "                start_time = time()\n",
    "\n",
    "                ρ, t = LiPoSID.get_rho_series(data_dir*df*\"_2CUT_data.h5\", γᵢ)\n",
    "                ρ = convert(Vector{Matrix{ComplexF64}}, ρ)\n",
    "               \n",
    "                ρᵗᵉˢᵗ = [DenseOperator(basis,Hermitian(ρₜ)) for ρₜ in ρ]\n",
    "        \n",
    "                t = convert(Vector{Float64}, t)\n",
    "            \n",
    "                tᴸᴹᴱ, ρᴸᴹᴱ  = timeevolution.master(t, ρᵗᵉˢᵗ[1], H, [A])\n",
    "            \n",
    "                F = [abs(fidelity(ρ₁, ρ₂)) for (ρ₁, ρ₂) in zip(ρᵗᵉˢᵗ, ρᴸᴹᴱ)]\n",
    "                \n",
    "                runtime = time() - start_time\n",
    "                \n",
    "                h5open(tests_dir*tests_data_file_name,\"cw\") do fid\n",
    "                    γ_group = open_group(fid, \"gamma_\"*γᵢ) # open coupling group\n",
    "\n",
    "                    init_state_group = create_group(γ_group, df) # create initial state group\n",
    "                    init_state_group[\"fidelity\"] = convert.(Float64, F)\n",
    "                    init_state_group[\"runtime\"] = runtime\n",
    "                end\n",
    "    \n",
    "    end\n",
    "                \n",
    "    println()\n",
    "    \n",
    "end "
   ]
  },
  {
   "cell_type": "code",
   "execution_count": null,
   "id": "f7e7146d",
   "metadata": {},
   "outputs": [],
   "source": []
  },
  {
   "cell_type": "code",
   "execution_count": null,
   "id": "96f3e6a0",
   "metadata": {},
   "outputs": [],
   "source": []
  }
 ],
 "metadata": {
  "@webio": {
   "lastCommId": null,
   "lastKernelId": null
  },
  "kernelspec": {
   "display_name": "Julia 1.9.2",
   "language": "julia",
   "name": "julia-1.9"
  },
  "language_info": {
   "file_extension": ".jl",
   "mimetype": "application/julia",
   "name": "julia",
   "version": "1.9.2"
  }
 },
 "nbformat": 4,
 "nbformat_minor": 5
}
