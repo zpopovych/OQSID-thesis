{
 "cells": [
  {
   "cell_type": "code",
   "execution_count": 1,
   "id": "2b97bc7f",
   "metadata": {},
   "outputs": [],
   "source": [
    "from boson_data_lib import *\n",
    "import numpy as np\n",
    "import scipy.linalg as sl\n",
    "import os\n",
    "import pandas as pd\n",
    "import glob"
   ]
  },
  {
   "cell_type": "code",
   "execution_count": 2,
   "id": "51aaf20f",
   "metadata": {},
   "outputs": [],
   "source": [
    "#parent_dir = r\"C:\\Users\\Zakhar\\Documents\\GitHub\\POP23\\\"\n",
    "parent_dir = \"/home/zah/POP23/\"\n",
    "data_dir = parent_dir + \"DATA/\"\n",
    "tests_dir = parent_dir + \"TESTS/\""
   ]
  },
  {
   "cell_type": "code",
   "execution_count": 3,
   "id": "9f31df7b",
   "metadata": {},
   "outputs": [],
   "source": [
    "best_init_rho =  np.array([[ 0.96693975+0.j        , -0.17832301+0.00560344j],\n",
    "                               [-0.17832301-0.00560344j,  0.03306025+0.j        ]])\n",
    "\n",
    "fid_dists = fidelity_distances(data_dir, best_init_rho);"
   ]
  },
  {
   "cell_type": "code",
   "execution_count": 8,
   "id": "0147ad92",
   "metadata": {},
   "outputs": [
    {
     "name": "stdout",
     "output_type": "stream",
     "text": [
      "/home/zah/POP23/TESTS/POP_testD20_Anszatz_2023-Jul-29_at_20-34.h5\n"
     ]
    }
   ],
   "source": [
    "list_of_files = glob.glob(tests_dir+\"*.h5\") # * means all if need specific format then *.csv\n",
    "latest_file = max(list_of_files, key=os.path.getctime)\n",
    "print(latest_file)\n",
    "\n",
    "#latest_file = \"POP_Tr0_test-B_2023-Jul-07_at_16-19.h5\"\n",
    "\n",
    "#latest_file = \"POP_Tr0_test-D_fix-phase-reg001-B_2023-Jul-16_at_02-35.h5\"\n",
    "\n",
    "#latest_file = \"POP_test-Tr0-fix-phase_2023-Jul-16_at_07-57.h5\"\n",
    "\n",
    "#latest_file = \"POP_test-Boole-Tr0-fix-phase_2023-Jul-20_at_10-48.h5\"\n",
    "\n",
    "#latest_file = \"POP_test-Pade-Tr0-fix-phase_2023-Jul-20_at_12-21.h5\"\n",
    "\n",
    "#latest_file = \"POP_test-Tr0-fix-phase_2023-Jul-28_at_18-03.h5\"\n",
    "\n",
    "#latest_file = \"POP_testD20_T-zero-fix-Phi_2023-Jul-29_at_11-23.h5\"\n",
    "\n",
    "#latest_file = \"POP_testD20_fix-Phi-up_2023-Jul-29_at_11-46.h5\"\n",
    "\n",
    "#latest_file = \"POP_testD20_just-zero-down_2023-Jul-29_at_11-52.h5\"\n",
    "\n",
    "#latest_file = \"POP_testD20_T-0-fix-Phi-up_2023-Jul-29_at_12-51.h5\"\n",
    "\n",
    "#latest_file = \"POP_testD20_T-0-fix-Phi-diag_2023-Jul-29_at_19-08.h5\"\n",
    "\n",
    "#latest_file = \"POP_testD20_fix-Phi-up_2023-Jul-29_at_19-39.h5\"\n",
    "\n",
    "#latest_file = \"POP_testD20_T0-fix-Phi-diag_2023-Jul-29_at_19-55.h5\"\n",
    "\n",
    "#latest_file = \"POP_testD20_T0-fix-Phi-up_2023-Jul-29_at_20-10.h5\"\n",
    "\n",
    "latest_file = \"POP_testD20_Anszatz_2023-Jul-29_at_20-34.h5\""
   ]
  },
  {
   "cell_type": "code",
   "execution_count": 9,
   "id": "7b0ef3f5",
   "metadata": {},
   "outputs": [
    {
     "name": "stdout",
     "output_type": "stream",
     "text": [
      "Processing...\n",
      "gamma_0.079477\n",
      "gamma_0.25133\n",
      "gamma_0.79477\n",
      "gamma_2.5133\n",
      "gamma_25.133\n",
      "gamma_251.33\n",
      "gamma_7.9477\n",
      "gamma_79.477\n",
      " done!\n"
     ]
    }
   ],
   "source": [
    "df = read_as_dataframe(latest_file, fid_dists, data_dir, tests_dir)"
   ]
  },
  {
   "cell_type": "code",
   "execution_count": 10,
   "id": "6a3987ad",
   "metadata": {},
   "outputs": [],
   "source": [
    "#os.chdir(r\"C:\\Users\\Zakhar\\Documents\\GitHub\\POP23\\TESTS\")\n",
    "os.chdir(\"/home/zah/POP23/TESTS/\")\n",
    "\n",
    "df.to_pickle(\"dataframe_Ansatz_fidelity_tests_D20.pkl\")"
   ]
  },
  {
   "cell_type": "code",
   "execution_count": null,
   "id": "db7dd068",
   "metadata": {},
   "outputs": [],
   "source": []
  }
 ],
 "metadata": {
  "@webio": {
   "lastCommId": null,
   "lastKernelId": null
  },
  "kernelspec": {
   "display_name": "Python 3 (ipykernel)",
   "language": "python",
   "name": "python3"
  },
  "language_info": {
   "codemirror_mode": {
    "name": "ipython",
    "version": 3
   },
   "file_extension": ".py",
   "mimetype": "text/x-python",
   "name": "python",
   "nbconvert_exporter": "python",
   "pygments_lexer": "ipython3",
   "version": "3.11.4"
  }
 },
 "nbformat": 4,
 "nbformat_minor": 5
}
