{
 "cells": [
  {
   "cell_type": "markdown",
   "id": "5d6cdbd4",
   "metadata": {},
   "source": [
    "### Full POP model works"
   ]
  },
  {
   "cell_type": "code",
   "execution_count": 1,
   "id": "6c18b684",
   "metadata": {},
   "outputs": [],
   "source": [
    "include(\"LiPoSID.jl\")\n",
    "using QuantumOptics\n",
    "basis = NLevelBasis(2)\n",
    "using DynamicPolynomials\n",
    "using LinearAlgebra\n",
    "using Dates\n",
    "using HDF5"
   ]
  },
  {
   "cell_type": "markdown",
   "id": "510f5e47",
   "metadata": {},
   "source": [
    "Consider simple Lindblad master equation with just one dissipator:\n",
    "\n",
    "$m\n",
    "     \\frac{d\\rho}{dt} = - \\frac{i}{\\hbar}[H, \\rho]+\\gamma\\left[A \\rho A^\\dagger - \\frac{1}{2}\\left\\{ A^\\dagger A, \\rho \\right\\} \\right]\n",
    "$,\n",
    "\n",
    "where Hamiltonian is hermitian with one of the diagonal elemnets set to zero\n",
    "\n",
    "\n",
    "$\n",
    "    H = \\begin{pmatrix} e_1 & h_1 - i h_2 \\\\ h_1 + i h_2 & 0\n",
    "   \\end{pmatrix}\n",
    "$\n",
    "\n",
    " we can possibly look for jump operator of the form:\n",
    "\n",
    "$\n",
    "A = \\begin{pmatrix} a_{11} + i b_{11} & a_{12} \\\\ a_{21} + i b_{21} & -a_{11} - i b_{11} \n",
    "   \\end{pmatrix} \n",
    "$\n",
    "\n",
    "or\n",
    "\n",
    "$\n",
    "A = \\begin{pmatrix} a_{11} & a_{12} + i b_{12}  \\\\ a_{21} + i b_{21} & -a_{11}\n",
    "   \\end{pmatrix} \n",
    "$\n",
    "\n",
    "or assuming zero temperature \n",
    "\n",
    "$\n",
    "A = \\begin{pmatrix} a_{11} + i b_{11} & a_{12}   \\\\ 0 & -a_{11} - i b_{11}\n",
    "   \\end{pmatrix} \n",
    "$"
   ]
  },
  {
   "cell_type": "code",
   "execution_count": 2,
   "id": "52616eb7",
   "metadata": {},
   "outputs": [
    {
     "data": {
      "text/plain": [
       "\"Anszatz_\""
      ]
     },
     "execution_count": 2,
     "metadata": {},
     "output_type": "execute_result"
    }
   ],
   "source": [
    "method = \"Anszatz_\""
   ]
  },
  {
   "cell_type": "code",
   "execution_count": 3,
   "id": "bdb27efd",
   "metadata": {},
   "outputs": [
    {
     "data": {
      "text/plain": [
       "\"/home/zah/POP23\""
      ]
     },
     "execution_count": 3,
     "metadata": {},
     "output_type": "execute_result"
    }
   ],
   "source": [
    "pwd()"
   ]
  },
  {
   "cell_type": "code",
   "execution_count": 4,
   "id": "1311d068",
   "metadata": {},
   "outputs": [
    {
     "name": "stdout",
     "output_type": "stream",
     "text": [
      "/home/zah/POP23/DATA/\n"
     ]
    }
   ],
   "source": [
    "parentdir = pwd()\n",
    "data_dir = parentdir*\"/DATA/\"\n",
    "println(data_dir)\n",
    "\n",
    "models_dir = parentdir*\"/MODELS/\"\n",
    "tests_dir = parentdir*\"/TESTS/\"\n",
    "\n",
    "test_files = [\"State_D\"*string(n) for n=1:20];"
   ]
  },
  {
   "cell_type": "markdown",
   "id": "24649a67",
   "metadata": {},
   "source": [
    "### Train models loop"
   ]
  },
  {
   "cell_type": "code",
   "execution_count": 7,
   "id": "3450fbb0",
   "metadata": {},
   "outputs": [
    {
     "name": "stdout",
     "output_type": "stream",
     "text": [
      "State_D1 0.9993535209818948 State_D2 0.9993568168681232 State_D3 0.9993566146266514 State_D4 0.9993583619106424 State_D5 0.9991667249320193 State_D6 0.9991667103834582 State_D7 0.9990294909737631 State_D8 0.9990308165190603 State_D9 0.9998429434048567 State_D10 0.9998759992294537 State_D11 0.9993566056750408 State_D12 0.9993583588428344 State_D13 0.9993534766343897 State_D14 0.9993567964461711 State_D15 0.9991673053216346 State_D16 0.9991672665300837 State_D17 0.9990294750145047 State_D18 0.9990308116016056 State_D19 0.9998760039846464 State_D20 0.9998429205954843 \n",
      "State_D1 0.9995515206158551 State_D2 0.9995635653029225 State_D3 0.9998327239937868 State_D4 0.9998290175308283 State_D5 0.9996426859599884 State_D6 0.9996430642834534 State_D7 0.99973601269162 State_D8 0.9997359215408272 State_D9 0.9993877454203548 State_D10 0.9998956353576357 State_D11 0.9998327204167259 State_D12 0.9998290209056752 State_D13 0.9995514767082383 State_D14 0.9995630656917287 State_D15 0.9997867444528943 State_D16 0.9997867779434945 State_D17 0.9997358760978333 State_D18 0.9997359247767204 State_D19 0.9998956428751044 State_D20 0.9993872805472995 \n",
      "State_D1 0.9980964359336095 State_D2 0.9981292983809936 State_D3 0.9988291475918653 State_D4 0.9988345945613688 State_D5 0.9982758183407298 State_D6 0.9982760033023099 State_D7 0.9985014879472381 State_D8 0.9985138800886544 State_D9 0.9978954867408916 State_D10 0.9989948222035991 State_D11 0.9988289852903637 State_D12 0.9988337046281354 State_D13 0.9980971971033638 State_D14 0.998129405795996 State_D15 0.998720068094219 State_D16 0.9987205124338657 State_D17 0.9985018341930797 State_D18 0.9985138096031123 State_D19 0.9989950591645645 State_D20 0.9978991277218247 \n",
      "State_D1 0.9932950311240444 State_D2 0.993470652711156 State_D3 0.9948549802918434 State_D4 0.9948941861427526 State_D5 0.9936920029969615 State_D6 0.993687282379324 State_D7 0.994084012745726 State_D8 0.9941635977056863 State_D9 0.9930955835631526 State_D10 0.9952859257760102 State_D11 0.9948584129135276 State_D12 0.9948935896189397 State_D13 0.9933036513279216 State_D14 0.9934681027297593 State_D15 0.9946154491744162 State_D16 0.9946141062058383 State_D17 0.9940847148159174 State_D18 0.9941633691994728 State_D19 0.9952851843271335 State_D20 0.9930956878693741 \n",
      "State_D1 0.9767250425989633 State_D2 0.9777494173072324 State_D3 0.9810167833440699 State_D4 0.9813614800274678 State_D5 0.9780318891624643 State_D6 0.9780318892930203 State_D7 0.9786197514889327 State_D8 0.9792465474650774 State_D9 0.976758800210773 State_D10 0.9824665047630816 State_D11 0.9810167833394208 State_D12 0.981361480061009 State_D13 0.9767250426064849 State_D14 0.9777494174232275 State_D15 0.9804779334761297 State_D16 0.9804779334591525 State_D17 0.9786197514750891 State_D18 0.9792465474232481 State_D19 0.9824665047519675 State_D20 0.9767588003583647 \n",
      "State_D1 0.9112451060193109 State_D2 0.911966371313096 State_D3 0.9148769312879917 State_D4 0.9362031644005148 State_D5 0.9125215550088621 State_D6 0.9125215550041501 State_D7 0.9188389387424475 State_D8 0.9131335304043889 State_D9 0.9110535172658132 State_D10 0.9160999231677843 State_D11 0.9148769312879917 State_D12 0.9362031644009623 State_D13 0.9112499389495373 State_D14 0.911966371314658 State_D15 0.9308957525694662 State_D16 0.9308957525703775 State_D17 0.9188389387429622 State_D18 0.9131335304033501 State_D19 0.9160999231693139 State_D20 0.9110535172679162 \n",
      "State_D1 0.7882945748525874 State_D2 0.788329572523458 State_D3 0.787377249684993 State_D4 0.7874655587258673 State_D5 0.7884132358928861 State_D6 0.7884132358916244 State_D7 0.7880076594273544 State_D8 0.7880463354121835 State_D9 0.7880563253092666 State_D10 0.7869758546990835 State_D11 0.7873772496869037 State_D12 0.7874655587252415 State_D13 0.7882945748557543 State_D14 0.7883295725247358 State_D15 0.7877153487477809 State_D16 0.7877153487446131 State_D17 0.7880076594248082 State_D18 0.7880463354121977 State_D19 0.7869758547003548 State_D20 0.7880563253080155 \n",
      "State_D1 0.7368803905892982 State_D2 0.7368897118012763 State_D3 0.7339263883829592 State_D4 0.7339458520443369 State_D5 0.7382260723489077 State_D6 0.7382260723489148 State_D7 0.7397788715939438 State_D8 0.7398143078739388 State_D9 0.7343569139374428 State_D10 0.7293282033832179 State_D11 0.7339263883838113 State_D12 0.7339458520446199 State_D13 0.7368803905900747 State_D14 0.7368897118012763 State_D15 0.7367245552768675 State_D16 0.7367245552788474 State_D17 0.7397788715747996 State_D18 0.7398143078700006 State_D19 0.7293282033839484 State_D20 0.734356913936749 \n"
     ]
    }
   ],
   "source": [
    "date_and_time_string =  string(Dates.format(now(), \"yyyy-u-dd_at_HH-MM\"))\n",
    "\n",
    "tests_data_file_name = \"POP_testD20_\"*method*date_and_time_string * \".h5\"\n",
    "\n",
    "γ = [ \"0.079477\",  \"0.25133\", \"0.79477\", \"2.5133\", \"7.9477\", \"25.133\", \"79.477\", \"251.33\"]\n",
    "\n",
    "for γᵢ in γ\n",
    "    \n",
    "    \n",
    "    Hᵃⁿᶻ = [ 25.126        0\n",
    "         0             0    ]\n",
    "\n",
    "    γ = parse(Float64, γᵢ)\n",
    "\n",
    "    Lᵃⁿᶻ = [ 0    √γ\n",
    "             0     0. + 0im  ]  \n",
    "    \n",
    "    H = DenseOperator(basis, Hᵃⁿᶻ)\n",
    "    A = DenseOperator(basis, Lᵃⁿᶻ)\n",
    "   \n",
    "    \n",
    "    h5open(tests_dir*tests_data_file_name,\"cw\") do fid\n",
    "        γ_group = create_group(fid, \"gamma_\"*γᵢ)\n",
    "    end \n",
    "    \n",
    "    for df in test_files # loop over initial states\n",
    "        \n",
    "        print(df*\" \")\n",
    "\n",
    "        start_time = time()\n",
    "\n",
    "        ρ, t = LiPoSID.get_rho_series(data_dir*df*\"_2CUT_data.h5\", γᵢ)\n",
    "        ρ = convert(Vector{Matrix{ComplexF64}}, ρ)\n",
    "\n",
    "        ρᵗᵉˢᵗ = [DenseOperator(basis,Hermitian(ρₜ)) for ρₜ in ρ]\n",
    "\n",
    "        t = convert(Vector{Float64}, t)\n",
    "\n",
    "        tᴸᴹᴱ, ρᴸᴹᴱ  = timeevolution.master(t, ρᵗᵉˢᵗ[1], H, [A])\n",
    "\n",
    "        F = [abs(fidelity(ρ₁, ρ₂)) for (ρ₁, ρ₂) in zip(ρᵗᵉˢᵗ, ρᴸᴹᴱ)]\n",
    "\n",
    "        runtime = time() - start_time\n",
    "\n",
    "        h5open(tests_dir*tests_data_file_name,\"cw\") do fid\n",
    "            γ_group = open_group(fid, \"gamma_\"*γᵢ) # open coupling group\n",
    "\n",
    "            init_state_group = create_group(γ_group, df) # create initial state group\n",
    "            init_state_group[\"fidelity\"] = convert.(Float64, F)\n",
    "            init_state_group[\"runtime\"] = runtime\n",
    "        end\n",
    "                    \n",
    "        print(minimum(F))\n",
    "        print(\" \")\n",
    "    \n",
    "    end\n",
    "                \n",
    "    println()\n",
    "\n",
    "end"
   ]
  },
  {
   "cell_type": "code",
   "execution_count": 6,
   "id": "4b515630",
   "metadata": {},
   "outputs": [
    {
     "data": {
      "text/plain": [
       "\"POP_testD20_Anszatz_2023-Jul-29_at_20-31.h5\""
      ]
     },
     "execution_count": 6,
     "metadata": {},
     "output_type": "execute_result"
    }
   ],
   "source": [
    "tests_data_file_name"
   ]
  },
  {
   "cell_type": "code",
   "execution_count": null,
   "id": "b06f0c29",
   "metadata": {},
   "outputs": [],
   "source": []
  }
 ],
 "metadata": {
  "@webio": {
   "lastCommId": null,
   "lastKernelId": null
  },
  "kernelspec": {
   "display_name": "Julia 1.9.2",
   "language": "julia",
   "name": "julia-1.9"
  },
  "language_info": {
   "file_extension": ".jl",
   "mimetype": "application/julia",
   "name": "julia",
   "version": "1.9.2"
  }
 },
 "nbformat": 4,
 "nbformat_minor": 5
}
