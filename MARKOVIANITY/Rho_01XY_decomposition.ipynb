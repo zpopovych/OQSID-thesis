{
 "cells": [
  {
   "cell_type": "code",
   "execution_count": 1,
   "id": "27b19858",
   "metadata": {},
   "outputs": [
    {
     "data": {
      "text/plain": [
       "Main.LiPoSID"
      ]
     },
     "execution_count": 1,
     "metadata": {},
     "output_type": "execute_result"
    }
   ],
   "source": [
    "include(\"LiPoSID.jl\")"
   ]
  },
  {
   "cell_type": "code",
   "execution_count": 3,
   "id": "f85dc7ae",
   "metadata": {},
   "outputs": [],
   "source": [
    "γ = [ \"0.079477\",  \"0.25133\", \"0.79477\", \"2.5133\", \"7.9477\", \"25.133\",  \"79.477\", \"251.33\"]\n",
    "γᵢ  = γ[1]\n",
    "γᵢ = string(γᵢ)\n",
    "\n",
    "data_dir = \"DATA/\"\n",
    "\n",
    "ρᵉ, tᵉ = LiPoSID.get_rho_series(data_dir*\"State_B1_2CUT_data.h5\", γᵢ)\n",
    "ρᵍ, tᵍ = LiPoSID.get_rho_series(data_dir*\"State_B2_2CUT_data.h5\", γᵢ)\n",
    "ρˣ, tˣ = LiPoSID.get_rho_series(data_dir*\"State_B3_2CUT_data.h5\", γᵢ)\n",
    "ρʸ, tʸ = LiPoSID.get_rho_series(data_dir*\"State_B4_2CUT_data.h5\", γᵢ);"
   ]
  },
  {
   "cell_type": "markdown",
   "id": "b6ea6690",
   "metadata": {},
   "source": [
    "$\\rho = k_e \\rho_e + k_g \\rho_g + k_x \\rho_x + k_y \\rho_y$\n",
    "\n",
    "$\\operatorname{vec}[\\rho] = k_e \\operatorname{vec}[\\rho_e] + k_g \\operatorname{vec}[\\rho_g] + k_x \\operatorname{vec}[\\rho_x] + k_y \\operatorname{vec}[\\rho_y]$\n",
    "\n",
    "$\\vec{\\rho} = \\begin{pmatrix} | \\\\ \\rho \\\\ |\\end{pmatrix} = \\begin{pmatrix} | & | & | & | \\\\\\rho_e & \\rho_g & \\rho_x & \\rho_y \\\\ | & | & | & | \\\\ \\end{pmatrix} \\begin{pmatrix} k_e \\\\ k_g \\\\ k_x \\\\  k_y \\end{pmatrix} = P \\vec{k}$\n",
    "\n",
    "$\\vec{k} = P^+ \\vec{\\rho}$\n"
   ]
  },
  {
   "cell_type": "code",
   "execution_count": 13,
   "id": "217d54c2",
   "metadata": {},
   "outputs": [
    {
     "data": {
      "text/plain": [
       "4-element Vector{ComplexF64}:\n",
       "                   1.0 + 0.0im\n",
       " 2.175666629358226e-19 + 0.0im\n",
       "                   0.0 + 0.0im\n",
       "                   0.0 + 0.0im"
      ]
     },
     "execution_count": 13,
     "metadata": {},
     "output_type": "execute_result"
    }
   ],
   "source": [
    "hcat(vec(ρᵉ[1]), vec(ρᵍ[1]), vec(ρˣ[1]), vec(ρʸ[1]))\\vec(ρᵉ[1])"
   ]
  },
  {
   "cell_type": "code",
   "execution_count": 15,
   "id": "4ea39876",
   "metadata": {},
   "outputs": [
    {
     "data": {
      "text/plain": [
       "4-element Vector{ComplexF64}:\n",
       " 0.0 + 0.0im\n",
       " 1.0 + 0.0im\n",
       " 0.0 + 0.0im\n",
       " 0.0 + 0.0im"
      ]
     },
     "execution_count": 15,
     "metadata": {},
     "output_type": "execute_result"
    }
   ],
   "source": [
    "k = hcat(vec(ρᵉ[1]), vec(ρᵍ[1]), vec(ρˣ[1]), vec(ρʸ[1]))\\vec(ρᵍ[1])"
   ]
  },
  {
   "cell_type": "code",
   "execution_count": 28,
   "id": "74462470",
   "metadata": {},
   "outputs": [
    {
     "data": {
      "text/plain": [
       "4-element Vector{ComplexF64}:\n",
       " 0.0 + 0.0im\n",
       " 1.0 + 0.0im\n",
       " 0.0 + 0.0im\n",
       " 0.0 + 0.0im"
      ]
     },
     "execution_count": 28,
     "metadata": {},
     "output_type": "execute_result"
    }
   ],
   "source": [
    "ρᵉᵍˣʸ = [ρᵉ, ρᵍ, ρˣ, ρʸ]\n",
    "hcat([vec(ρᵢ[1]) for ρᵢ in ρᵉᵍˣʸ]...)\\vec(ρᵍ[1])"
   ]
  },
  {
   "cell_type": "code",
   "execution_count": null,
   "id": "1670c743",
   "metadata": {},
   "outputs": [],
   "source": []
  }
 ],
 "metadata": {
  "kernelspec": {
   "display_name": "Julia 1.9.2",
   "language": "julia",
   "name": "julia-1.9"
  },
  "language_info": {
   "file_extension": ".jl",
   "mimetype": "application/julia",
   "name": "julia",
   "version": "1.9.2"
  }
 },
 "nbformat": 4,
 "nbformat_minor": 5
}
