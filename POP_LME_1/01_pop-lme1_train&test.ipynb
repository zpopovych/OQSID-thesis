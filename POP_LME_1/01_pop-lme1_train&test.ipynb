{
 "cells": [
  {
   "cell_type": "code",
   "execution_count": 1,
   "metadata": {},
   "outputs": [],
   "source": [
    "include(\"../LiPoSID.jl\")\n",
    "using QuantumOptics\n",
    "basis = NLevelBasis(2)\n",
    "using LinearAlgebra\n",
    "using HDF5\n",
    "using DynamicPolynomials\n",
    "using Plots\n",
    "using Dates\n",
    "\n",
    "using Optim\n",
    "using Random"
   ]
  },
  {
   "cell_type": "markdown",
   "metadata": {},
   "source": [
    "Consider simple Lindblad master equation with two dissipators:\n",
    "\n",
    "$m\n",
    "     \\frac{d\\rho}{dt} = - \\frac{i}{\\hbar}[H, \\rho]+\\gamma_1\\left[J_1 \\rho J_1^\\dagger - \\frac{1}{2}\\left\\{ J_1^\\dagger J_1, \\rho \\right\\} \\right]\n",
    "     +\\gamma_2\\left[J_2 \\rho J_2^\\dagger - \\frac{1}{2}\\left\\{ J_2^\\dagger J_2, \\rho \\right\\} \\right]\n",
    "$,\n",
    "\n",
    "where Hamiltonian is hermitian with one of the diagonal elemnets set to zero\n",
    "\n",
    "\n",
    "$\n",
    "    H = \\begin{pmatrix} w & 0 \\\\ 0 & 0\n",
    "   \\end{pmatrix}\n",
    "$\n",
    "\n",
    " withot loss of generality we can possibly look for jump operator of the form:\n",
    "\n",
    "$\n",
    "J_1 = \\begin{pmatrix} 0 & r \\\\ 0 & 0 \n",
    "   \\end{pmatrix} = \n",
    "   \\begin{pmatrix} 0 & \\sqrt{\\gamma_1} \\\\ 0 & 0 \n",
    "   \\end{pmatrix}\n",
    "$\n"
   ]
  },
  {
   "cell_type": "code",
   "execution_count": 7,
   "metadata": {},
   "outputs": [
    {
     "data": {
      "text/plain": [
       "g_objective1 (generic function with 1 method)"
      ]
     },
     "metadata": {},
     "output_type": "display_data"
    }
   ],
   "source": [
    "# Define polynomial variables\n",
    "@polyvar w r \n",
    "\n",
    "Hˢʸᵐᵇ = [ w   0\n",
    "          0   0. ]\n",
    "\n",
    "J₁ˢʸᵐᵇ = [ 0   r\n",
    "           0   0. ]\n",
    "\n",
    "\n",
    "function g_objective1(γᵢ)\n",
    "\n",
    "    objₑₓ = 0\n",
    "\n",
    "    for df_trn in train_files # loop over initial states\n",
    "\n",
    "        ρᵗʳⁿ, tᵗʳⁿ = LiPoSID.get_rho_series(data_dir*df_trn*\"_2CUT_data.h5\", γᵢ)\n",
    "        \n",
    "        if length(tᵗʳⁿ) > 1200 end_train = 1200 else end_train = length(tᵗʳⁿ) end\n",
    "            \n",
    "        ρᵗʳⁿ = convert(Vector{Matrix{ComplexF64}}, ρᵗʳⁿ[1:end_train])\n",
    "        \n",
    "        tᵗʳⁿ = convert(Vector{Float64}, tᵗʳⁿ[1:end_train])\n",
    "\n",
    "        objₑₓ += LiPoSID.simpson_obj(ρᵗʳⁿ, tᵗʳⁿ,  Hˢʸᵐᵇ, [J₁ˢʸᵐᵇ])\n",
    "        \n",
    "    end # of files (initial states) loop\n",
    "\n",
    "    return(objₑₓ)\n",
    "end"
   ]
  },
  {
   "cell_type": "code",
   "execution_count": 8,
   "metadata": {},
   "outputs": [
    {
     "data": {
      "text/plain": [
       "local_rand_min (generic function with 1 method)"
      ]
     },
     "metadata": {},
     "output_type": "display_data"
    }
   ],
   "source": [
    "\n",
    "function scaling_poly(p::Polynomial)\n",
    "\n",
    "    X = transpose(hcat([exponents(t) for t in terms(p)]...))\n",
    "\n",
    "    # Get the scaling via linear regression\n",
    "    scaling = X \\ log.(abs.(coefficients(p)))\n",
    "\n",
    "    exp.(abs.(scaling)) # \n",
    "end\n",
    "\n",
    "function local_rand_min(p)\n",
    "\n",
    "    pd = p / maximum(abs.(coefficients(p)))\n",
    "\n",
    "    # find variable scaling\n",
    "    scale = scaling_poly(pd)\n",
    "\n",
    "    # scale the polynomial\n",
    "    p_scaled = subs(pd, variables(pd) => scale .* variables(pd))\n",
    "\n",
    "    num_iterations = 100\n",
    "\n",
    "    # Initialize the best minimizer and the minimum value\n",
    "    best_minimizer = nothing\n",
    "    best_min_value = Inf\n",
    "\n",
    "    num_of_variables = length(variables(pd))\n",
    "\n",
    "    for _ in 1:num_iterations\n",
    "        # Generate a random initial condition\n",
    "        initial_point = rand(num_of_variables).*250\n",
    "\n",
    "        # Run local optimization\n",
    "        result = Optim.optimize(p_scaled, initial_point, BFGS())\n",
    "        #println(Optim.minimum(result))\n",
    "\n",
    "        # Update the best minimizer if a better one is found\n",
    "        if Optim.minimum(result) < best_min_value\n",
    "            \n",
    "            best_minimizer = Optim.minimizer(result)\n",
    "            best_min_value = Optim.minimum(result)\n",
    "            \n",
    "        end\n",
    "\n",
    "    end\n",
    "\n",
    "    best_minimizer = abs.(best_minimizer) # to make gamma positive\n",
    "\n",
    "    minimizer_scaled = scale .* best_minimizer\n",
    "\n",
    "    solution = variables(p_scaled) => minimizer_scaled\n",
    "\n",
    "end"
   ]
  },
  {
   "cell_type": "code",
   "execution_count": 9,
   "metadata": {},
   "outputs": [
    {
     "name": "stdout",
     "output_type": "stream",
     "text": [
      "../DATA/\n"
     ]
    }
   ],
   "source": [
    "data_dir = \"../DATA/\"\n",
    "println(data_dir)\n",
    "\n",
    "models_dir = \"../MODELS/\"\n",
    "tests_dir = \"../TESTS/\"\n",
    "\n",
    "dodeca_files = [\"State_D\"*string(n) for n=1:20];\n",
    "\n",
    "basis_files = [\"State_B\"*string(n) for n=1:4];\n",
    "\n",
    "all_files = vcat(dodeca_files, basis_files)\n",
    "train_files = basis_files \n",
    "test_files = dodeca_files;\n"
   ]
  },
  {
   "cell_type": "code",
   "execution_count": 10,
   "metadata": {},
   "outputs": [
    {
     "name": "stdout",
     "output_type": "stream",
     "text": [
      "γ =  0.079477\n"
     ]
    },
    {
     "name": "stdout",
     "output_type": "stream",
     "text": [
      "State_D1 0.9993686180193304"
     ]
    },
    {
     "name": "stdout",
     "output_type": "stream",
     "text": [
      "\n",
      "State_D2 "
     ]
    },
    {
     "name": "stdout",
     "output_type": "stream",
     "text": [
      "0.9993718454779247\n",
      "State_D3 0.9993717277804646"
     ]
    },
    {
     "name": "stdout",
     "output_type": "stream",
     "text": [
      "\n",
      "State_D4 "
     ]
    },
    {
     "name": "stdout",
     "output_type": "stream",
     "text": [
      "0.9993733780430324\n",
      "State_D5 0.9991863419112839"
     ]
    },
    {
     "name": "stdout",
     "output_type": "stream",
     "text": [
      "\n",
      "State_D6 "
     ]
    },
    {
     "name": "stdout",
     "output_type": "stream",
     "text": [
      "0.9991863275956516\n",
      "State_D7 0.9990521932281899"
     ]
    },
    {
     "name": "stdout",
     "output_type": "stream",
     "text": [
      "\n",
      "State_D8 "
     ]
    },
    {
     "name": "stdout",
     "output_type": "stream",
     "text": [
      "0.9990534184202545\n",
      "State_D9 0.9998458460344779"
     ]
    },
    {
     "name": "stdout",
     "output_type": "stream",
     "text": [
      "\n",
      "State_D10 "
     ]
    },
    {
     "name": "stdout",
     "output_type": "stream",
     "text": [
      "0.9998789561903613\n",
      "State_D11 0.9993717189406097"
     ]
    },
    {
     "name": "stdout",
     "output_type": "stream",
     "text": [
      "\n",
      "State_D12 "
     ]
    },
    {
     "name": "stdout",
     "output_type": "stream",
     "text": [
      "0.9993733749884475\n",
      "State_D13 0.9993685740521929"
     ]
    },
    {
     "name": "stdout",
     "output_type": "stream",
     "text": [
      "\n",
      "State_D14 "
     ]
    },
    {
     "name": "stdout",
     "output_type": "stream",
     "text": [
      "0.9993718253193009\n",
      "State_D15 0.9991869210085773"
     ]
    },
    {
     "name": "stdout",
     "output_type": "stream",
     "text": [
      "\n",
      "State_D16 "
     ]
    },
    {
     "name": "stdout",
     "output_type": "stream",
     "text": [
      "0.9991868826028539\n",
      "State_D17 0.9990521774440667"
     ]
    },
    {
     "name": "stdout",
     "output_type": "stream",
     "text": [
      "\n",
      "State_D18 "
     ]
    },
    {
     "name": "stdout",
     "output_type": "stream",
     "text": [
      "0.9990534135373614\n",
      "State_D19 0.9998789608855673"
     ]
    },
    {
     "name": "stdout",
     "output_type": "stream",
     "text": [
      "\n",
      "State_D20 "
     ]
    },
    {
     "name": "stdout",
     "output_type": "stream",
     "text": [
      "0.9998458231969346\n",
      "\n",
      "γ =  0.25133\n",
      "State_D1 "
     ]
    },
    {
     "name": "stdout",
     "output_type": "stream",
     "text": [
      "0.9995821862631119\n",
      "State_D2 0.9995945175980601"
     ]
    },
    {
     "name": "stdout",
     "output_type": "stream",
     "text": [
      "\n",
      "State_D3 "
     ]
    },
    {
     "name": "stdout",
     "output_type": "stream",
     "text": [
      "0.9998738748919307\n",
      "State_D4 0.9998743533098228"
     ]
    },
    {
     "name": "stdout",
     "output_type": "stream",
     "text": [
      "\n",
      "State_D5 "
     ]
    },
    {
     "name": "stdout",
     "output_type": "stream",
     "text": [
      "0.9996828037334314\n",
      "State_D6 0.999683229243302"
     ]
    },
    {
     "name": "stdout",
     "output_type": "stream",
     "text": [
      "\n",
      "State_D7 "
     ]
    },
    {
     "name": "stdout",
     "output_type": "stream",
     "text": [
      "0.9997851423508742\n",
      "State_D8 0.9997878524386029"
     ]
    },
    {
     "name": "stdout",
     "output_type": "stream",
     "text": [
      "\n",
      "State_D9 "
     ]
    },
    {
     "name": "stdout",
     "output_type": "stream",
     "text": [
      "0.9993942133020074\n",
      "State_D10 0.9999031411677461"
     ]
    },
    {
     "name": "stdout",
     "output_type": "stream",
     "text": [
      "\n",
      "State_D11 "
     ]
    },
    {
     "name": "stdout",
     "output_type": "stream",
     "text": [
      "0.9998737740558766\n",
      "State_D12 0.9998742743531961"
     ]
    },
    {
     "name": "stdout",
     "output_type": "stream",
     "text": [
      "\n",
      "State_D13 "
     ]
    },
    {
     "name": "stdout",
     "output_type": "stream",
     "text": [
      "0.9995824023099992\n",
      "State_D14 0.9995941514202163"
     ]
    },
    {
     "name": "stdout",
     "output_type": "stream",
     "text": [
      "\n",
      "State_D15 "
     ]
    },
    {
     "name": "stdout",
     "output_type": "stream",
     "text": [
      "0.9998479731065116\n",
      "State_D16 0.9998483352066339"
     ]
    },
    {
     "name": "stdout",
     "output_type": "stream",
     "text": [
      "\n",
      "State_D17 "
     ]
    },
    {
     "name": "stdout",
     "output_type": "stream",
     "text": [
      "0.9997850398312644\n",
      "State_D18 0.9997879847262492"
     ]
    },
    {
     "name": "stdout",
     "output_type": "stream",
     "text": [
      "\n",
      "State_D19 "
     ]
    },
    {
     "name": "stdout",
     "output_type": "stream",
     "text": [
      "0.9999031465366834\n",
      "State_D20 0.999393768436951"
     ]
    },
    {
     "name": "stdout",
     "output_type": "stream",
     "text": [
      "\n",
      "\n",
      "γ =  0.79477\n"
     ]
    },
    {
     "name": "stdout",
     "output_type": "stream",
     "text": [
      "State_D1 0.9981101765206718"
     ]
    },
    {
     "name": "stdout",
     "output_type": "stream",
     "text": [
      "\n",
      "State_D2 "
     ]
    },
    {
     "name": "stdout",
     "output_type": "stream",
     "text": [
      "0.9981437410311401\n",
      "State_D3 0.9988544177386713"
     ]
    },
    {
     "name": "stdout",
     "output_type": "stream",
     "text": [
      "\n",
      "State_D4 "
     ]
    },
    {
     "name": "stdout",
     "output_type": "stream",
     "text": [
      "0.9988601360616696\n",
      "State_D5 0.9982947944939559"
     ]
    },
    {
     "name": "stdout",
     "output_type": "stream",
     "text": [
      "\n",
      "State_D6 "
     ]
    },
    {
     "name": "stdout",
     "output_type": "stream",
     "text": [
      "0.9982949773753547\n",
      "State_D7 0.9985252007871258"
     ]
    },
    {
     "name": "stdout",
     "output_type": "stream",
     "text": [
      "\n",
      "State_D8 "
     ]
    },
    {
     "name": "stdout",
     "output_type": "stream",
     "text": [
      "0.9985379527968667\n",
      "State_D9 0.9979003386127234"
     ]
    },
    {
     "name": "stdout",
     "output_type": "stream",
     "text": [
      "\n",
      "State_D10 "
     ]
    },
    {
     "name": "stdout",
     "output_type": "stream",
     "text": [
      "0.9990169181152291\n",
      "State_D11 0.9988542635605239"
     ]
    },
    {
     "name": "stdout",
     "output_type": "stream",
     "text": [
      "\n",
      "State_D12 "
     ]
    },
    {
     "name": "stdout",
     "output_type": "stream",
     "text": [
      "0.9988592503279654\n",
      "State_D13 0.998110933039708"
     ]
    },
    {
     "name": "stdout",
     "output_type": "stream",
     "text": [
      "\n",
      "State_D14 "
     ]
    },
    {
     "name": "stdout",
     "output_type": "stream",
     "text": [
      "0.9981438497799578\n",
      "State_D15 0.9987460197964636"
     ]
    },
    {
     "name": "stdout",
     "output_type": "stream",
     "text": [
      "\n",
      "State_D16 "
     ]
    },
    {
     "name": "stdout",
     "output_type": "stream",
     "text": [
      "0.9987464534452778\n",
      "State_D17 0.9985255519227123"
     ]
    },
    {
     "name": "stdout",
     "output_type": "stream",
     "text": [
      "\n",
      "State_D18 "
     ]
    },
    {
     "name": "stdout",
     "output_type": "stream",
     "text": [
      "0.9985378817296365\n",
      "State_D19 0.9990171559261223"
     ]
    },
    {
     "name": "stdout",
     "output_type": "stream",
     "text": [
      "\n",
      "State_D20 "
     ]
    },
    {
     "name": "stdout",
     "output_type": "stream",
     "text": [
      "0.9979039579649879\n",
      "\n",
      "γ =  2.5133\n",
      "State_D1 "
     ]
    },
    {
     "name": "stdout",
     "output_type": "stream",
     "text": [
      "0.9933839283270972\n",
      "State_D2 0.993574235911858"
     ]
    },
    {
     "name": "stdout",
     "output_type": "stream",
     "text": [
      "\n",
      "State_D3 "
     ]
    },
    {
     "name": "stdout",
     "output_type": "stream",
     "text": [
      "0.9950814048666909\n",
      "State_D4 0.995124202286898"
     ]
    },
    {
     "name": "stdout",
     "output_type": "stream",
     "text": [
      "\n",
      "State_D5 "
     ]
    },
    {
     "name": "stdout",
     "output_type": "stream",
     "text": [
      "0.9938181197658957\n",
      "State_D6 0.9938134313542444"
     ]
    },
    {
     "name": "stdout",
     "output_type": "stream",
     "text": [
      "\n",
      "State_D7 "
     ]
    },
    {
     "name": "stdout",
     "output_type": "stream",
     "text": [
      "0.9942467045300828\n",
      "State_D8 0.9943329287214604"
     ]
    },
    {
     "name": "stdout",
     "output_type": "stream",
     "text": [
      "\n",
      "State_D9 "
     ]
    },
    {
     "name": "stdout",
     "output_type": "stream",
     "text": [
      "0.9931594187268732\n",
      "State_D10 0.9955440071284779"
     ]
    },
    {
     "name": "stdout",
     "output_type": "stream",
     "text": [
      "\n",
      "State_D11 "
     ]
    },
    {
     "name": "stdout",
     "output_type": "stream",
     "text": [
      "0.9950847650923621\n",
      "State_D12 0.9951236136720459"
     ]
    },
    {
     "name": "stdout",
     "output_type": "stream",
     "text": [
      "\n",
      "State_D13 "
     ]
    },
    {
     "name": "stdout",
     "output_type": "stream",
     "text": [
      "0.993392510115405\n",
      "State_D14 0.9935717087116307"
     ]
    },
    {
     "name": "stdout",
     "output_type": "stream",
     "text": [
      "\n",
      "State_D15 "
     ]
    },
    {
     "name": "stdout",
     "output_type": "stream",
     "text": [
      "0.9948234250127997\n",
      "State_D16 0.9948221120453813"
     ]
    },
    {
     "name": "stdout",
     "output_type": "stream",
     "text": [
      "\n",
      "State_D17 "
     ]
    },
    {
     "name": "stdout",
     "output_type": "stream",
     "text": [
      "0.9942473745090964\n",
      "State_D18 0.9943326873051033"
     ]
    },
    {
     "name": "stdout",
     "output_type": "stream",
     "text": [
      "\n",
      "State_D19 "
     ]
    },
    {
     "name": "stdout",
     "output_type": "stream",
     "text": [
      "0.9955432847607444\n",
      "State_D20 0.9931595207063592"
     ]
    },
    {
     "name": "stdout",
     "output_type": "stream",
     "text": [
      "\n",
      "\n",
      "γ =  7.9477\n"
     ]
    },
    {
     "name": "stdout",
     "output_type": "stream",
     "text": [
      "State_D1 0.9788670826313739\n",
      "State_D2 "
     ]
    },
    {
     "name": "stdout",
     "output_type": "stream",
     "text": [
      "0.9805362110910922\n",
      "State_D3 0.9855107315073505\n",
      "State_D4 "
     ]
    },
    {
     "name": "stdout",
     "output_type": "stream",
     "text": [
      "0.9860968949672779\n",
      "State_D5 0.9809101944951079\n",
      "State_D6 "
     ]
    },
    {
     "name": "stdout",
     "output_type": "stream",
     "text": [
      "0.9809101946153682\n",
      "State_D7 0.9817847119049442\n",
      "State_D8 "
     ]
    },
    {
     "name": "stdout",
     "output_type": "stream",
     "text": [
      "0.9828126262518941\n",
      "State_D9 0.9790717787097271\n",
      "State_D10 "
     ]
    },
    {
     "name": "stdout",
     "output_type": "stream",
     "text": [
      "0.9878301713022907\n",
      "State_D11 0.9855107315029535\n",
      "State_D12 "
     ]
    },
    {
     "name": "stdout",
     "output_type": "stream",
     "text": [
      "0.9860968949960821\n",
      "State_D13 0.9788670826384172\n",
      "State_D14 "
     ]
    },
    {
     "name": "stdout",
     "output_type": "stream",
     "text": [
      "0.9805362112020027\n",
      "State_D15 0.9846768501751187\n",
      "State_D16 "
     ]
    },
    {
     "name": "stdout",
     "output_type": "stream",
     "text": [
      "0.984676850159043\n",
      "State_D17 0.981784711891491\n",
      "State_D18 "
     ]
    },
    {
     "name": "stdout",
     "output_type": "stream",
     "text": [
      "0.9828126262141258\n",
      "State_D19 0.9878301712936974\n",
      "State_D20 "
     ]
    },
    {
     "name": "stdout",
     "output_type": "stream",
     "text": [
      "0.9790717788493215\n",
      "\n",
      "γ =  25.133\n",
      "State_D1 "
     ]
    },
    {
     "name": "stdout",
     "output_type": "stream",
     "text": [
      "0.9432865635055353\n",
      "State_D2 0.9799667577110733\n",
      "State_D3 0.9602917902445764\n",
      "State_D4 0.9857561593649463\n",
      "State_D5 "
     ]
    },
    {
     "name": "stdout",
     "output_type": "stream",
     "text": [
      "0.9686087823355811\n",
      "State_D6 0.9686087823335787\n",
      "State_D7 0.9310438320830237\n",
      "State_D8 0.9652300585580407\n",
      "State_D9 0.9725965551375124\n",
      "State_D10 0.9883769916597294"
     ]
    },
    {
     "name": "stdout",
     "output_type": "stream",
     "text": [
      "\n",
      "State_D11 0.9602917902445764\n",
      "State_D12 0.9857561593649463\n",
      "State_D13 0.9432891269925857\n",
      "State_D14 0.9799667577118584\n",
      "State_D15 "
     ]
    },
    {
     "name": "stdout",
     "output_type": "stream",
     "text": [
      "0.9835090891063882\n",
      "State_D16 0.983509089106521\n",
      "State_D17 0.9310438320830237\n",
      "State_D18 0.9652300585580407\n",
      "State_D19 0.9883769916597294\n",
      "State_D20 0.9725965551386064"
     ]
    },
    {
     "name": "stdout",
     "output_type": "stream",
     "text": [
      "\n",
      "\n",
      "γ =  79.477\n"
     ]
    },
    {
     "name": "stdout",
     "output_type": "stream",
     "text": [
      "State_D1 0.9960157307587723\n",
      "State_D2 0.9985949429949614\n",
      "State_D3 0.9965616147198552\n",
      "State_D4 0.9990294707075165\n",
      "State_D5 0.9991036749641949\n",
      "State_D6 "
     ]
    },
    {
     "name": "stdout",
     "output_type": "stream",
     "text": [
      "0.9991036749641103\n",
      "State_D7 0.9925934960314522\n",
      "State_D8 0.9957393886187949\n",
      "State_D9 0.99855653926169\n",
      "State_D10 0.9992664886141376\n",
      "State_D11 0.9965616147199606\n",
      "State_D12 "
     ]
    },
    {
     "name": "stdout",
     "output_type": "stream",
     "text": [
      "0.9990294707075051\n",
      "State_D13 0.9960157307589685\n",
      "State_D14 0.998594942995025\n",
      "State_D15 0.9993414241490322\n",
      "State_D16 0.9993414241489653\n",
      "State_D17 0.9925934960310894\n",
      "State_D18 "
     ]
    },
    {
     "name": "stdout",
     "output_type": "stream",
     "text": [
      "0.9957393886187049\n",
      "State_D19 0.99926648861414\n",
      "State_D20 0.998556539261612\n",
      "\n",
      "γ =  251.33\n",
      "State_D1 "
     ]
    },
    {
     "name": "stdout",
     "output_type": "stream",
     "text": [
      "0.9965356821326405\n",
      "State_D2 0.9951092850034878\n",
      "State_D3 0.9957899341841885\n",
      "State_D4 0.9944258961178565\n",
      "State_D5 0.9934629396417418\n",
      "State_D6 0.9934629396417418\n",
      "State_D7 0.9996798923882488\n",
      "State_D8 0.9982727163860567\n",
      "State_D9 0.9947920896443649\n",
      "State_D10 0.9936328461526378\n",
      "State_D11 "
     ]
    },
    {
     "name": "stdout",
     "output_type": "stream",
     "text": [
      "0.9957899341841767\n",
      "State_D12 0.9944258961178565\n",
      "State_D13 0.9965356821326405\n",
      "State_D14 0.9951092850035501\n",
      "State_D15 0.9930190594864469\n",
      "State_D16 0.9930190594863993\n",
      "State_D17 0.9996798923882584\n",
      "State_D18 0.9982727163860524\n",
      "State_D19 0.9936328461526378\n",
      "State_D20 0.9947920896442558\n",
      "\n",
      "POP_LME_1_random_trn4_tst20_2024-Jan-21_at_16-18.h5\n"
     ]
    }
   ],
   "source": [
    "γ = [ \"0.079477\",  \"0.25133\", \"0.79477\", \"2.5133\", \"7.9477\", \"25.133\", \"79.477\", \"251.33\"]\n",
    "\n",
    "date_and_time_string =  string(Dates.format(now(), \"yyyy-u-dd_at_HH-MM\"))\n",
    "\n",
    "tests_data_file_name = \"POP_LME_1_random_trn4_tst20_\"*date_and_time_string * \".h5\"\n",
    "\n",
    "for γᵢ in γ\n",
    "\n",
    "    println(\"γ =  \"*γᵢ)\n",
    "\n",
    "    poly = g_objective1(γᵢ)\n",
    "    \n",
    "    sol = local_rand_min(poly)\n",
    "\n",
    "    omega = subs(w, sol)\n",
    "    relaxation = subs(r^2, sol)\n",
    "\n",
    "    Hˢⁱᵈ = subs(Hˢʸᵐᵇ, sol)\n",
    "    J₁ˢⁱᵈ = subs(J₁ˢʸᵐᵇ, sol)\n",
    "\n",
    "\n",
    "    h5open(tests_dir*tests_data_file_name,\"cw\") do fid\n",
    "        γ_group = create_group(fid, \"gamma_\"*γᵢ) # create coupling group\n",
    "        γ_group[\"omega\"] = convert(Float64, omega)\n",
    "        γ_group[\"gamma_relaxation\"] = convert(Float64, relaxation)\n",
    "        γ_group[\"H\"] = convert.(ComplexF64, Hˢⁱᵈ)        \n",
    "    end\n",
    "\n",
    "    for df in test_files # loop over initial states\n",
    "        \n",
    "        print(df*\" \")\n",
    "\n",
    "        start_time = time()\n",
    "\n",
    "        ρₛ, tₛ = LiPoSID.get_rho_series(data_dir*df*\"_2CUT_data.h5\", γᵢ)\n",
    "        ρₛ = convert(Vector{Matrix{ComplexF64}}, ρₛ)\n",
    "\n",
    "        ρᵗˢᵗ = [DenseOperator(basis,Hermitian(ρₜ)) for ρₜ in ρₛ]\n",
    "        tᵗˢᵗ = convert(Vector{Float64}, tₛ)\n",
    "\n",
    "        tˢⁱᵈ, ρˢⁱᵈ  = timeevolution.master(tᵗˢᵗ, ρᵗˢᵗ[1], DenseOperator(basis,Hˢⁱᵈ), [DenseOperator(basis,J₁ˢⁱᵈ)])\n",
    "\n",
    "        Fᴸᴹᴱₑₓ = [abs(fidelity(ρ₁, ρ₂)) for (ρ₁, ρ₂) in zip(ρᵗˢᵗ, ρˢⁱᵈ)]                    \n",
    "\n",
    "        h5open(tests_dir*tests_data_file_name,\"cw\") do fid\n",
    "            γ_group = open_group(fid, \"gamma_\"*γᵢ) # open coupling group\n",
    "\n",
    "            init_state_group = create_group(γ_group, df) # create initial state group\n",
    "            init_state_group[\"Fidelity\"] = convert.(Float64, Fᴸᴹᴱₑₓ)\n",
    "            \n",
    "        end\n",
    "                    \n",
    "        println(min(Fᴸᴹᴱₑₓ))\n",
    "    \n",
    "    end\n",
    "\n",
    "    println()\n",
    "end\n",
    "\n",
    "println(tests_data_file_name)"
   ]
  },
  {
   "cell_type": "code",
   "execution_count": 6,
   "metadata": {},
   "outputs": [],
   "source": []
  }
 ],
 "metadata": {
  "kernelspec": {
   "display_name": "Julia 1.10.0",
   "language": "julia",
   "name": "julia-1.10"
  },
  "language_info": {
   "file_extension": ".jl",
   "mimetype": "application/julia",
   "name": "julia",
   "version": "1.10.0"
  }
 },
 "nbformat": 4,
 "nbformat_minor": 2
}
