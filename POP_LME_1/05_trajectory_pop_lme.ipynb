{
 "cells": [
  {
   "cell_type": "code",
   "execution_count": 1,
   "metadata": {},
   "outputs": [],
   "source": [
    "include(\"../LiPoSID.jl\")\n",
    "\n",
    "using HDF5\n",
    "using QuantumOptics\n",
    "basis = NLevelBasis(2)\n",
    "using LinearAlgebra\n",
    "using Dates\n"
   ]
  },
  {
   "cell_type": "code",
   "execution_count": 2,
   "metadata": {},
   "outputs": [
    {
     "data": {
      "text/plain": [
       "my_fidelity (generic function with 1 method)"
      ]
     },
     "metadata": {},
     "output_type": "display_data"
    }
   ],
   "source": [
    "function read_omega_and_decay_rates1(file, γᵢ)\n",
    "\n",
    "    h5open(file,\"r\") do fid\n",
    "        γ_group = open_group(fid, \"gamma_\"*γᵢ) # create coupling group   \n",
    "\n",
    "        omega = read(γ_group[\"omega\"])\n",
    "        relaxation = read(γ_group[\"gamma_relaxation\"])\n",
    "        #de_phasing = read(γ_group[\"gamma_de_phasing\"])\n",
    "        #exitation = read(γ_group[\"gamma_exitation\"])\n",
    "        #de_polarisation = read(γ_group[\"gamma_de_polarisation\"])\n",
    "\n",
    "        return(omega, sqrt(relaxation)) #, de_phasing, de_polarisation)\n",
    "        \n",
    "    end\n",
    "end\n",
    "\n",
    "function absm(M::AbstractMatrix)\n",
    "    sqrt(M'*M)\n",
    "end\n",
    "\n",
    "function my_fidelity(ρ, σ)\n",
    "    F = (tr(absm(sqrt(ρ)*sqrt(σ))))^2 #matrix square root\n",
    "    if imag(F) > 1e-3 throw(F, \"Fidelity is complex number. Real part returned.\") end\n",
    "    real(F)\n",
    "end\n",
    "\n"
   ]
  },
  {
   "cell_type": "code",
   "execution_count": 3,
   "metadata": {},
   "outputs": [
    {
     "name": "stdout",
     "output_type": "stream",
     "text": [
      "../DATA/NO_CUT/\n"
     ]
    }
   ],
   "source": [
    "data_dir = \"../DATA/NO_CUT/\"\n",
    "println(data_dir)\n",
    "\n",
    "models_dir = \"../MODELS/\"\n",
    "tests_dir = \"../TESTS/\"\n",
    "\n",
    "dodeca_files = [\"State_D\"*string(n) for n=1:20];\n",
    "\n",
    "basis_files = [\"State_B\"*string(n) for n=1:4];\n",
    "\n",
    "all_files = vcat(dodeca_files, basis_files)\n",
    "\n",
    "test_files = all_files;"
   ]
  },
  {
   "cell_type": "code",
   "execution_count": 4,
   "metadata": {},
   "outputs": [
    {
     "name": "stdout",
     "output_type": "stream",
     "text": [
      "γ =  0.079477\n"
     ]
    },
    {
     "name": "stdout",
     "output_type": "stream",
     "text": [
      "State_D1 State_D2 "
     ]
    },
    {
     "name": "stdout",
     "output_type": "stream",
     "text": [
      "State_D3 State_D4 "
     ]
    },
    {
     "name": "stdout",
     "output_type": "stream",
     "text": [
      "State_D5 State_D6 State_D7 State_D8 "
     ]
    },
    {
     "name": "stdout",
     "output_type": "stream",
     "text": [
      "State_D9 State_D10 "
     ]
    },
    {
     "name": "stdout",
     "output_type": "stream",
     "text": [
      "State_D11 State_D12 State_D13 State_D14 "
     ]
    },
    {
     "name": "stdout",
     "output_type": "stream",
     "text": [
      "State_D15 State_D16 "
     ]
    },
    {
     "name": "stdout",
     "output_type": "stream",
     "text": [
      "State_D17 State_D18 State_D19 State_D20 "
     ]
    },
    {
     "name": "stdout",
     "output_type": "stream",
     "text": [
      "State_B1 State_B2 "
     ]
    },
    {
     "name": "stdout",
     "output_type": "stream",
     "text": [
      "State_B3 State_B4 \n",
      "γ =  0.25133\n",
      "State_D1 "
     ]
    },
    {
     "name": "stdout",
     "output_type": "stream",
     "text": [
      "State_D2 State_D3 "
     ]
    },
    {
     "name": "stdout",
     "output_type": "stream",
     "text": [
      "State_D4 State_D5 "
     ]
    },
    {
     "name": "stdout",
     "output_type": "stream",
     "text": [
      "State_D6 State_D7 "
     ]
    },
    {
     "name": "stdout",
     "output_type": "stream",
     "text": [
      "State_D8 State_D9 "
     ]
    },
    {
     "name": "stdout",
     "output_type": "stream",
     "text": [
      "State_D10 State_D11 "
     ]
    },
    {
     "name": "stdout",
     "output_type": "stream",
     "text": [
      "State_D12 State_D13 "
     ]
    },
    {
     "name": "stdout",
     "output_type": "stream",
     "text": [
      "State_D14 State_D15 "
     ]
    },
    {
     "name": "stdout",
     "output_type": "stream",
     "text": [
      "State_D16 State_D17 "
     ]
    },
    {
     "name": "stdout",
     "output_type": "stream",
     "text": [
      "State_D18 State_D19 "
     ]
    },
    {
     "name": "stdout",
     "output_type": "stream",
     "text": [
      "State_D20 State_B1 "
     ]
    },
    {
     "name": "stdout",
     "output_type": "stream",
     "text": [
      "State_B2 State_B3 "
     ]
    },
    {
     "name": "stdout",
     "output_type": "stream",
     "text": [
      "State_B4 \n"
     ]
    },
    {
     "name": "stdout",
     "output_type": "stream",
     "text": [
      "γ =  0.79477\n",
      "State_D1 State_D2 "
     ]
    },
    {
     "name": "stdout",
     "output_type": "stream",
     "text": [
      "State_D3 State_D4 "
     ]
    },
    {
     "name": "stdout",
     "output_type": "stream",
     "text": [
      "State_D5 State_D6 "
     ]
    },
    {
     "name": "stdout",
     "output_type": "stream",
     "text": [
      "State_D7 State_D8 "
     ]
    },
    {
     "name": "stdout",
     "output_type": "stream",
     "text": [
      "State_D9 State_D10 "
     ]
    },
    {
     "name": "stdout",
     "output_type": "stream",
     "text": [
      "State_D11 State_D12 "
     ]
    },
    {
     "name": "stdout",
     "output_type": "stream",
     "text": [
      "State_D13 State_D14 "
     ]
    },
    {
     "name": "stdout",
     "output_type": "stream",
     "text": [
      "State_D15 State_D16 "
     ]
    },
    {
     "name": "stdout",
     "output_type": "stream",
     "text": [
      "State_D17 State_D18 "
     ]
    },
    {
     "name": "stdout",
     "output_type": "stream",
     "text": [
      "State_D19 State_D20 "
     ]
    },
    {
     "name": "stdout",
     "output_type": "stream",
     "text": [
      "State_B1 State_B2 "
     ]
    },
    {
     "name": "stdout",
     "output_type": "stream",
     "text": [
      "State_B3 State_B4 "
     ]
    },
    {
     "name": "stdout",
     "output_type": "stream",
     "text": [
      "\n",
      "γ =  2.5133\n",
      "State_D1 State_D2 State_D3 "
     ]
    },
    {
     "name": "stdout",
     "output_type": "stream",
     "text": [
      "State_D4 State_D5 "
     ]
    },
    {
     "name": "stdout",
     "output_type": "stream",
     "text": [
      "State_D6 State_D7 "
     ]
    },
    {
     "name": "stdout",
     "output_type": "stream",
     "text": [
      "State_D8 State_D9 "
     ]
    },
    {
     "name": "stdout",
     "output_type": "stream",
     "text": [
      "State_D10 State_D11 "
     ]
    },
    {
     "name": "stdout",
     "output_type": "stream",
     "text": [
      "State_D12 State_D13 "
     ]
    },
    {
     "name": "stdout",
     "output_type": "stream",
     "text": [
      "State_D14 State_D15 "
     ]
    },
    {
     "name": "stdout",
     "output_type": "stream",
     "text": [
      "State_D16 State_D17 "
     ]
    },
    {
     "name": "stdout",
     "output_type": "stream",
     "text": [
      "State_D18 State_D19 "
     ]
    },
    {
     "name": "stdout",
     "output_type": "stream",
     "text": [
      "State_D20 State_B1 "
     ]
    },
    {
     "name": "stdout",
     "output_type": "stream",
     "text": [
      "State_B2 State_B3 "
     ]
    },
    {
     "name": "stdout",
     "output_type": "stream",
     "text": [
      "State_B4 \n"
     ]
    },
    {
     "name": "stdout",
     "output_type": "stream",
     "text": [
      "γ =  7.9477\n",
      "State_D1 State_D2 State_D3 State_D4 "
     ]
    },
    {
     "name": "stdout",
     "output_type": "stream",
     "text": [
      "State_D5 State_D6 "
     ]
    },
    {
     "name": "stdout",
     "output_type": "stream",
     "text": [
      "State_D7 State_D8 State_D9 State_D10 "
     ]
    },
    {
     "name": "stdout",
     "output_type": "stream",
     "text": [
      "State_D11 State_D12 "
     ]
    },
    {
     "name": "stdout",
     "output_type": "stream",
     "text": [
      "State_D13 State_D14 State_D15 State_D16 "
     ]
    },
    {
     "name": "stdout",
     "output_type": "stream",
     "text": [
      "State_D17 State_D18 "
     ]
    },
    {
     "name": "stdout",
     "output_type": "stream",
     "text": [
      "State_D19 State_D20 State_B1 State_B2 "
     ]
    },
    {
     "name": "stdout",
     "output_type": "stream",
     "text": [
      "State_B3 State_B4 "
     ]
    },
    {
     "name": "stdout",
     "output_type": "stream",
     "text": [
      "\n",
      "γ =  25.133\n",
      "State_D1 State_D2 State_D3 "
     ]
    },
    {
     "name": "stdout",
     "output_type": "stream",
     "text": [
      "State_D4 State_D5 State_D6 State_D7 "
     ]
    },
    {
     "name": "stdout",
     "output_type": "stream",
     "text": [
      "State_D8 State_D9 State_D10 State_D11 "
     ]
    },
    {
     "name": "stdout",
     "output_type": "stream",
     "text": [
      "State_D12 State_D13 State_D14 State_D15 "
     ]
    },
    {
     "name": "stdout",
     "output_type": "stream",
     "text": [
      "State_D16 State_D17 State_D18 State_D19 "
     ]
    },
    {
     "name": "stdout",
     "output_type": "stream",
     "text": [
      "State_D20 State_B1 State_B2 State_B3 "
     ]
    },
    {
     "name": "stdout",
     "output_type": "stream",
     "text": [
      "State_B4 \n",
      "γ =  79.477\n",
      "State_D1 State_D2 State_D3 State_D4 "
     ]
    },
    {
     "name": "stdout",
     "output_type": "stream",
     "text": [
      "State_D5 State_D6 State_D7 State_D8 "
     ]
    },
    {
     "name": "stdout",
     "output_type": "stream",
     "text": [
      "State_D9 State_D10 State_D11 State_D12 "
     ]
    },
    {
     "name": "stdout",
     "output_type": "stream",
     "text": [
      "State_D13 State_D14 State_D15 State_D16 "
     ]
    },
    {
     "name": "stdout",
     "output_type": "stream",
     "text": [
      "State_D17 State_D18 State_D19 State_D20 "
     ]
    },
    {
     "name": "stdout",
     "output_type": "stream",
     "text": [
      "State_B1 State_B2 State_B3 State_B4 "
     ]
    },
    {
     "name": "stdout",
     "output_type": "stream",
     "text": [
      "\n",
      "γ =  251.33\n",
      "State_D1 State_D2 State_D3 State_D4 State_D5 "
     ]
    },
    {
     "name": "stdout",
     "output_type": "stream",
     "text": [
      "State_D6 State_D7 State_D8 State_D9 State_D10 State_D11 "
     ]
    },
    {
     "name": "stdout",
     "output_type": "stream",
     "text": [
      "State_D12 State_D13 State_D14 State_D15 State_D16 State_D17 "
     ]
    },
    {
     "name": "stdout",
     "output_type": "stream",
     "text": [
      "State_D18 State_D19 State_D20 State_B1 State_B2 State_B3 "
     ]
    },
    {
     "name": "stdout",
     "output_type": "stream",
     "text": [
      "State_B4 \n",
      "\n",
      "POP_LME_1_Bloch_NO_CUT_trajectories_2024-Jan-29_at_11-31.h5\n"
     ]
    }
   ],
   "source": [
    "model_file = \"../TESTS/POP_LME_1_random_trn4_tst20_2024-Jan-21_at_16-18.h5\"\n",
    "\n",
    "gammas = [\"0.079477\", \"0.25133\", \"0.79477\", \"2.5133\", \"7.9477\", \"25.133\", \"79.477\", \"251.33\"];\n",
    "\n",
    "date_and_time_string =  string(Dates.format(now(), \"yyyy-u-dd_at_HH-MM\"))\n",
    "\n",
    "trajectories_file_name = \"POP_LME_1_Bloch_NO_CUT_trajectories_\"*date_and_time_string * \".h5\"\n",
    "\n",
    "for γᵢ in gammas\n",
    "\n",
    "    println(\"γ =  \"*γᵢ)\n",
    "\n",
    "    w, r  = read_omega_and_decay_rates1(model_file, γᵢ)\n",
    "\n",
    "    H = [ w   0\n",
    "          0   0. ]\n",
    "\n",
    "    J₁ = [ 0   r\n",
    "           0   0. ]\n",
    "\n",
    "\n",
    "    h5open(tests_dir*trajectories_file_name,\"cw\") do fid\n",
    "        γ_group = create_group(fid, \"gamma_\"*γᵢ) # create coupling group           \n",
    "    end\n",
    "\n",
    "    for df in test_files # loop over initial states\n",
    "        \n",
    "        print(df*\" \")\n",
    "\n",
    "        ρₛ, tₛ = LiPoSID.get_rho_series(data_dir*df*\"_CUT_data.h5\", γᵢ) # LiPoSID.get_rho_series(data_dir*df*\"_2CUT_data.h5\", γᵢ)\n",
    "        bᵗˢᵗ = LiPoSID.bloch(ρₛ)\n",
    "\n",
    "        ρₛ = convert(Vector{Matrix{ComplexF64}}, ρₛ)\n",
    "\n",
    "        tᵗˢᵗ = convert(Vector{Float64}, tₛ)\n",
    "        ρᵗˢᵗ = [DenseOperator(basis,Hermitian(ρₜ)) for ρₜ in ρₛ]\n",
    "\n",
    "        ρ₀ = DenseOperator(basis,Hermitian(ρₛ[1]))\n",
    "\n",
    "        tˢⁱᵈ, ρˢⁱᵈ  = timeevolution.master(tᵗˢᵗ, ρ₀, DenseOperator(basis,H), [DenseOperator(basis,J₁)])\n",
    "\n",
    "        bˢⁱᵈ = LiPoSID.bloch([ρₜ.data for ρₜ in ρˢⁱᵈ])\n",
    "\n",
    "        Fᵐʸ = [my_fidelity(ρ₁, ρ₂.data) for (ρ₁, ρ₂) in zip(ρₛ, ρˢⁱᵈ)]\n",
    "\n",
    "        Fᴸᴹᴱₑₓ = [abs(fidelity(ρ₁, ρ₂)) for (ρ₁, ρ₂) in zip(ρᵗˢᵗ, ρˢⁱᵈ)]    \n",
    "\n",
    "\n",
    "        h5open(tests_dir*trajectories_file_name,\"cw\") do fid\n",
    "            γ_group = open_group(fid, \"gamma_\"*γᵢ) # open coupling group\n",
    "            init_state_group = create_group(γ_group, df) # create initial state group\n",
    "            init_state_group[\"bloch_exact\"] = convert.(Float64, bᵗˢᵗ)\n",
    "            init_state_group[\"bloch_sid\"] = convert.(Float64, bˢⁱᵈ) \n",
    "            init_state_group[\"fidelity\"] = convert.(Float64, Fᴸᴹᴱₑₓ) \n",
    "            init_state_group[\"my_fidelity\"] = convert.(Float64, Fᵐʸ) \n",
    "        end            \n",
    "    \n",
    "    end\n",
    "\n",
    "    println()\n",
    "end\n",
    "println()\n",
    "println(trajectories_file_name)"
   ]
  }
 ],
 "metadata": {
  "kernelspec": {
   "display_name": "Julia 1.10.0",
   "language": "julia",
   "name": "julia-1.10"
  },
  "language_info": {
   "file_extension": ".jl",
   "mimetype": "application/julia",
   "name": "julia",
   "version": "1.10.0"
  }
 },
 "nbformat": 4,
 "nbformat_minor": 2
}
