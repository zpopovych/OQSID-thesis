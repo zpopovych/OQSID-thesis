{
 "cells": [
  {
   "cell_type": "code",
   "execution_count": 1,
   "metadata": {},
   "outputs": [],
   "source": [
    "include(\"../LiPoSID.jl\")\n",
    "using QuantumOptics\n",
    "basis = NLevelBasis(2)\n",
    "using LinearAlgebra\n",
    "using HDF5\n",
    "using DynamicPolynomials\n",
    "using Plots\n",
    "using Dates\n",
    "\n",
    "using Optim\n",
    "using Random\n",
    "\n",
    "using TSSOS"
   ]
  },
  {
   "cell_type": "markdown",
   "metadata": {},
   "source": [
    "Consider simple Lindblad master equation with two dissipators:\n",
    "\n",
    "$\n",
    "    \\frac{d\\rho}{dt} = -\\frac{i}{\\hbar} [H,\\rho(t)] + \\mathcal{D}[\\rho(t)] = - \\frac{i}{\\hbar}[H, \\rho]+\\sum_{\\ell=1}^{s-1}\\left[J_\\ell \\rho J_\\ell^\\dagger - \\frac{1}{2}\\left\\{ J_\\ell^\\dagger J_\\ell, \\rho \\right\\} \\right],\n",
    "$\n",
    "\n",
    "where Hamiltonian is hermitian with one of the diagonal elemnets set to zero\n",
    "\n",
    "\n",
    "$\n",
    "    H = \\begin{pmatrix} w & 0 \\\\ 0 & 0\n",
    "   \\end{pmatrix}\n",
    "$\n",
    "\n",
    " withot loss of generality we can possibly look for jump operator of the form:\n",
    "\n",
    "$\n",
    "J_1 = \\begin{pmatrix} 0 & a \\\\ 0 & 0 \n",
    "   \\end{pmatrix} = \n",
    "   \\begin{pmatrix} 0 & \\sqrt{\\gamma_1} \\\\ 0 & 0 \n",
    "   \\end{pmatrix}\n",
    "$\n",
    "\n",
    "$\n",
    "X J_2 = \\begin{pmatrix} d & 0 \\\\ 0 & -d \n",
    "   \\end{pmatrix} = \n",
    "   \\begin{pmatrix} \\sqrt{\\gamma_2} & 0 \\\\ 0 & -\\sqrt{\\gamma_2} \n",
    "   \\end{pmatrix}\n",
    "$\n",
    "\n",
    "$\n",
    "X J_3 = \\begin{pmatrix} 0 & 0 \\\\ e & 0 \n",
    "   \\end{pmatrix} = \n",
    "   \\begin{pmatrix} 0 &  0 \\\\ \\sqrt{\\gamma_3} & 0 \n",
    "   \\end{pmatrix}\n",
    "$"
   ]
  },
  {
   "cell_type": "markdown",
   "metadata": {},
   "source": [
    "$\n",
    "X J_4 = \\begin{pmatrix} 0 & p \\\\ p & 0 \n",
    "   \\end{pmatrix} = \\sqrt{\\gamma_4/3} \n",
    "   \\begin{pmatrix} 0 & 1\\\\ 1 & 0 \n",
    "   \\end{pmatrix}\n",
    "$\n",
    "\n",
    "$\n",
    "X J_5 = \\begin{pmatrix} 0 & -i p \\\\ i p & 0 \n",
    "   \\end{pmatrix} = \\sqrt{\\gamma_4/3}\n",
    "   \\begin{pmatrix} 0 & -i \\\\ i & 0 \n",
    "   \\end{pmatrix}\n",
    "$\n",
    "\n",
    "$\n",
    "X J_6 = \\begin{pmatrix} p & 0 \\\\ 0 & -p\n",
    "   \\end{pmatrix} = \\sqrt{\\gamma_4/3}\n",
    "   \\begin{pmatrix} 1 & 0 \\\\ 0 & -1 \n",
    "   \\end{pmatrix}\n",
    "$"
   ]
  },
  {
   "cell_type": "code",
   "execution_count": 2,
   "metadata": {},
   "outputs": [
    {
     "data": {
      "text/plain": [
       "g_objective_2 (generic function with 1 method)"
      ]
     },
     "metadata": {},
     "output_type": "display_data"
    }
   ],
   "source": [
    "# Define polynomial variables\n",
    "@polyvar w α β r ϕ e p\n",
    "\n",
    "Hˢʸᵐᵇ = [ w   0\n",
    "          0   0. ]\n",
    "\n",
    "#Hˢʸᵐᵇ = [ w           α + im* β\n",
    "#          α + im* β   0.        ]\n",
    "\n",
    "J₁ˢʸᵐᵇ = [ 0   r\n",
    "           0   0. ]\n",
    "\n",
    "J₂ˢʸᵐᵇ = ϕ * [ 1    0\n",
    "               0   -1. ]\n",
    "\n",
    "J₃ˢʸᵐᵇ = [ 0   0\n",
    "           e   0. ]\n",
    "\n",
    "J₄ˢʸᵐᵇ = p * [ 0    1\n",
    "               1    0. ]\n",
    "\n",
    "J₅ˢʸᵐᵇ = p * [ 0   -im\n",
    "               im   0  ]\n",
    "\n",
    "J₆ˢʸᵐᵇ = p * [ 1    0\n",
    "               0   -1. ]\n",
    "\n",
    "\n",
    "function g_objective_2(γᵢ)\n",
    "\n",
    "    objₑₓ = 0\n",
    "\n",
    "    for df_trn in train_files # loop over initial states\n",
    "\n",
    "        ρᵗʳⁿ, tᵗʳⁿ = LiPoSID.get_rho_series(data_dir*df_trn*\"_2CUT_data.h5\", γᵢ)\n",
    "        \n",
    "        if length(tᵗʳⁿ) > 1200 end_train = 1200 else end_train = length(tᵗʳⁿ) end\n",
    "            \n",
    "        ρᵗʳⁿ = convert(Vector{Matrix{ComplexF64}}, ρᵗʳⁿ[1:end_train])\n",
    "        \n",
    "        tᵗʳⁿ = convert(Vector{Float64}, tᵗʳⁿ[1:end_train])\n",
    "\n",
    "        objₑₓ += LiPoSID.simpson_obj(ρᵗʳⁿ, tᵗʳⁿ,  Hˢʸᵐᵇ, [J₁ˢʸᵐᵇ, J₂ˢʸᵐᵇ])#, J₃ˢʸᵐᵇ, J₄ˢʸᵐᵇ, J₅ˢʸᵐᵇ, J₆ˢʸᵐᵇ])\n",
    "        \n",
    "    end # of files (initial states) loop\n",
    "\n",
    "    return(objₑₓ)\n",
    "end"
   ]
  },
  {
   "cell_type": "code",
   "execution_count": 3,
   "metadata": {},
   "outputs": [
    {
     "data": {
      "text/plain": [
       "tssos_scaled (generic function with 1 method)"
      ]
     },
     "metadata": {},
     "output_type": "display_data"
    }
   ],
   "source": [
    "\n",
    "function scaling_poly(p::Polynomial)\n",
    "\n",
    "    X = transpose(hcat([exponents(t) for t in terms(p)]...))\n",
    "\n",
    "    # Get the scaling via linear regression\n",
    "    scaling = X \\ log.(abs.(coefficients(p)))\n",
    "\n",
    "    exp.(abs.(scaling)) # \n",
    "end\n",
    "\n",
    "function local_rand_min(p)\n",
    "\n",
    "    pd = p / maximum(abs.(coefficients(p)))\n",
    "\n",
    "    # find variable scaling\n",
    "    scale = scaling_poly(pd)\n",
    "\n",
    "    # scale the polynomial\n",
    "    p_scaled = subs(pd, variables(pd) => scale .* variables(pd))\n",
    "\n",
    "    num_iterations = 100\n",
    "\n",
    "    # Initialize the best minimizer and the minimum value\n",
    "    best_minimizer = nothing\n",
    "    best_min_value = Inf\n",
    "\n",
    "    num_of_variables = length(variables(pd))\n",
    "\n",
    "    for _ in 1:num_iterations\n",
    "        # Generate a random initial condition\n",
    "        initial_point = rand(num_of_variables).*250\n",
    "\n",
    "        # Run local optimization\n",
    "        result = Optim.optimize(p_scaled, initial_point, BFGS())\n",
    "        #println(Optim.minimum(result))\n",
    "\n",
    "        # Update the best minimizer if a better one is found\n",
    "        if Optim.minimum(result) < best_min_value\n",
    "            \n",
    "            best_minimizer = Optim.minimizer(result)\n",
    "            best_min_value = Optim.minimum(result)\n",
    "            \n",
    "        end\n",
    "\n",
    "    end\n",
    "\n",
    "    best_minimizer = abs.(best_minimizer) # to make gamma positive\n",
    "\n",
    "    minimizer_scaled = scale .* best_minimizer\n",
    "\n",
    "    solution = variables(p_scaled) => minimizer_scaled\n",
    "\n",
    "end\n",
    "\n",
    "\n",
    "function tssos_min(p)\n",
    "    \n",
    "    ################################################################################################\n",
    "    #\n",
    "    #   Try TSSOS on polynomial with scaled variables\n",
    "    #\n",
    "    ################################################################################################\n",
    "\n",
    "    pd = p / maximum(abs.(coefficients(p)))\n",
    "\n",
    "    # minimize\n",
    "    # minimizer_scaled_tssos = nothing\n",
    "\n",
    "    try\n",
    "        opt,sol,data = tssos_first(pd, variables(pd), QUIET=true, solution=true, newton=true);\n",
    "        previous_sol = sol\n",
    "\n",
    "        while ~isnothing(sol)\n",
    "            previous_sol = sol\n",
    "            opt,sol,data = tssos_higher!(data; QUIET=true, solution=true);\n",
    "        end\n",
    "\n",
    "        global minimizer_tssos = previous_sol\n",
    "    \n",
    "    catch\n",
    "        println(\"Scaled TSSOS failed\")\n",
    "        global minimizer_scaled_tssos = nothing\n",
    "\n",
    "    end\n",
    "\n",
    "    best_solution = variables(p) => minimizer_tssos\n",
    "\n",
    "end\n",
    "\n",
    "function tssos_scaled(p::Polynomial)\n",
    "\n",
    "    pd = p / maximum(abs.(coefficients(p)))\n",
    "\n",
    "    ################################################################################################\n",
    "    #\n",
    "    #   TSSOS on polynomial with scaled variables\n",
    "    #\n",
    "    ################################################################################################\n",
    "\n",
    "    # find variable scaling\n",
    "    scale = scaling_poly(pd)\n",
    "\n",
    "    # scale the polynomial\n",
    "    p_scaled = subs(pd, variables(pd) => scale .* variables(pd))\n",
    "\n",
    "    # minimize\n",
    "    # minimizer_scaled_tssos = nothing\n",
    "\n",
    "    try\n",
    "        opt,sol,data = tssos_first(p_scaled, variables(p), QUIET=true, solution=true, newton=false);\n",
    "        previous_sol = sol\n",
    "\n",
    "        while ~isnothing(sol)\n",
    "            previous_sol = sol\n",
    "            opt,sol,data = tssos_higher!(data; QUIET=true, solution=true);\n",
    "        end\n",
    "\n",
    "        global minimizer_scaled_tssos = scale .* previous_sol\n",
    "    \n",
    "    catch\n",
    "        println(\"Scaled TSSOS failed\")\n",
    "        global minimizer_scaled_tssos = nothing\n",
    "    end\n",
    "\n",
    "    solution = variables(p) => minimizer_scaled_tssos\n",
    "\n",
    "    return solution\n",
    "end\n"
   ]
  },
  {
   "cell_type": "code",
   "execution_count": 4,
   "metadata": {},
   "outputs": [
    {
     "name": "stdout",
     "output_type": "stream",
     "text": [
      "../DATA/\n"
     ]
    }
   ],
   "source": [
    "data_dir = \"../DATA/\"\n",
    "println(data_dir)\n",
    "\n",
    "models_dir = \"../MODELS/\"\n",
    "tests_dir = \"../TESTS/\"\n",
    "\n",
    "dodeca_files = [\"State_D\"*string(n) for n=1:20];\n",
    "\n",
    "basis_files = [\"State_B\"*string(n) for n=1:4];\n",
    "\n",
    "all_files = vcat(dodeca_files, basis_files)\n",
    "train_files = basis_files \n",
    "test_files = dodeca_files;\n"
   ]
  },
  {
   "cell_type": "code",
   "execution_count": 7,
   "metadata": {},
   "outputs": [
    {
     "name": "stdout",
     "output_type": "stream",
     "text": [
      "γ =  0.079477\n"
     ]
    },
    {
     "name": "stdout",
     "output_type": "stream",
     "text": [
      "*********************************** TSSOS ***********************************\n",
      "Version 1.0.0, developed by Jie Wang, 2020--2023\n",
      "TSSOS is launching...\n",
      "optimum = 2.604782066485558e-6\n",
      "Global optimality certified with relative optimality gap 0.002117%!\n",
      "No higher TS step of the TSSOS hierarchy!\n",
      "State_D1 "
     ]
    },
    {
     "name": "stdout",
     "output_type": "stream",
     "text": [
      "0.9453830148823135\n",
      "State_D2 0.9464502162169394"
     ]
    },
    {
     "name": "stdout",
     "output_type": "stream",
     "text": [
      "\n",
      "State_D3 "
     ]
    },
    {
     "name": "stdout",
     "output_type": "stream",
     "text": [
      "0.6444083114782524\n",
      "State_D4 0.6485368304290995"
     ]
    },
    {
     "name": "stdout",
     "output_type": "stream",
     "text": [
      "\n",
      "State_D5 "
     ]
    },
    {
     "name": "stdout",
     "output_type": "stream",
     "text": [
      "0.9084608931775324\n",
      "State_D6 0.9084611764262989"
     ]
    },
    {
     "name": "stdout",
     "output_type": "stream",
     "text": [
      "\n",
      "State_D7 "
     ]
    },
    {
     "name": "stdout",
     "output_type": "stream",
     "text": [
      "0.8293557714596804\n",
      "State_D8 0.8321539452187993"
     ]
    },
    {
     "name": "stdout",
     "output_type": "stream",
     "text": [
      "\n",
      "State_D9 "
     ]
    },
    {
     "name": "stdout",
     "output_type": "stream",
     "text": [
      "0.9928624005348777\n",
      "State_D10 0.46503160534185506"
     ]
    },
    {
     "name": "stdout",
     "output_type": "stream",
     "text": [
      "\n",
      "State_D11 "
     ]
    },
    {
     "name": "stdout",
     "output_type": "stream",
     "text": [
      "0.6444084136152184\n",
      "State_D12 0.6485367370751665"
     ]
    },
    {
     "name": "stdout",
     "output_type": "stream",
     "text": [
      "\n",
      "State_D13 "
     ]
    },
    {
     "name": "stdout",
     "output_type": "stream",
     "text": [
      "0.9453823219932045\n",
      "State_D14 0.9464503873431234"
     ]
    },
    {
     "name": "stdout",
     "output_type": "stream",
     "text": [
      "\n",
      "State_D15 "
     ]
    },
    {
     "name": "stdout",
     "output_type": "stream",
     "text": [
      "0.7282312629025524\n",
      "State_D16 0.7282306494786154"
     ]
    },
    {
     "name": "stdout",
     "output_type": "stream",
     "text": [
      "\n",
      "State_D17 "
     ]
    },
    {
     "name": "stdout",
     "output_type": "stream",
     "text": [
      "0.8293557042670394\n",
      "State_D18 0.8321537081758521"
     ]
    },
    {
     "name": "stdout",
     "output_type": "stream",
     "text": [
      "\n",
      "State_D19 "
     ]
    },
    {
     "name": "stdout",
     "output_type": "stream",
     "text": [
      "0.4650315553376096\n",
      "State_D20 0.9928624401215971"
     ]
    },
    {
     "name": "stdout",
     "output_type": "stream",
     "text": [
      "\n",
      "\n",
      "γ =  0.25133\n"
     ]
    },
    {
     "name": "stdout",
     "output_type": "stream",
     "text": [
      "*********************************** TSSOS ***********************************\n",
      "Version 1.0.0, developed by Jie Wang, 2020--2023\n",
      "TSSOS is launching...\n",
      "optimum = 2.534713830857342e-5\n"
     ]
    },
    {
     "name": "stdout",
     "output_type": "stream",
     "text": [
      "\n",
      "******************************************************************************\n",
      "This program contains Ipopt, a library for large-scale nonlinear optimization.\n",
      " Ipopt is released as open source code under the Eclipse Public License (EPL).\n",
      "         For more information visit https://github.com/coin-or/Ipopt\n",
      "******************************************************************************\n",
      "\n",
      "Found a locally optimal solution by Ipopt, giving an upper bound: 0.00022108.\n",
      "The relative optimality gap is: 0.019573%.\n",
      "No higher TS step of the TSSOS hierarchy!\n",
      "State_D1 "
     ]
    },
    {
     "name": "stdout",
     "output_type": "stream",
     "text": [
      "0.8974854422115622\n",
      "State_D2 0.8989373442510562"
     ]
    },
    {
     "name": "stdout",
     "output_type": "stream",
     "text": [
      "\n",
      "State_D3 "
     ]
    },
    {
     "name": "stdout",
     "output_type": "stream",
     "text": [
      "0.4928036968932565\n",
      "State_D4 0.49521168028158014"
     ]
    },
    {
     "name": "stdout",
     "output_type": "stream",
     "text": [
      "\n",
      "State_D5 "
     ]
    },
    {
     "name": "stdout",
     "output_type": "stream",
     "text": [
      "0.8390263171906879\n",
      "State_D6 0.839027291466802"
     ]
    },
    {
     "name": "stdout",
     "output_type": "stream",
     "text": [
      "\n",
      "State_D7 "
     ]
    },
    {
     "name": "stdout",
     "output_type": "stream",
     "text": [
      "0.7281996459295825\n",
      "State_D8 0.7301890156625656"
     ]
    },
    {
     "name": "stdout",
     "output_type": "stream",
     "text": [
      "\n",
      "State_D9 "
     ]
    },
    {
     "name": "stdout",
     "output_type": "stream",
     "text": [
      "0.9848654323363933\n",
      "State_D10 0.2433633058682051"
     ]
    },
    {
     "name": "stdout",
     "output_type": "stream",
     "text": [
      "\n",
      "State_D11 "
     ]
    },
    {
     "name": "stdout",
     "output_type": "stream",
     "text": [
      "0.4928033686749514\n",
      "State_D12 0.4952084461103192"
     ]
    },
    {
     "name": "stdout",
     "output_type": "stream",
     "text": [
      "\n",
      "State_D13 "
     ]
    },
    {
     "name": "stdout",
     "output_type": "stream",
     "text": [
      "0.8974858200689656\n",
      "State_D14 0.8989378472730968"
     ]
    },
    {
     "name": "stdout",
     "output_type": "stream",
     "text": [
      "\n",
      "State_D15 "
     ]
    },
    {
     "name": "stdout",
     "output_type": "stream",
     "text": [
      "0.5967414000149192\n",
      "State_D16 0.5967419255847771"
     ]
    },
    {
     "name": "stdout",
     "output_type": "stream",
     "text": [
      "\n",
      "State_D17 "
     ]
    },
    {
     "name": "stdout",
     "output_type": "stream",
     "text": [
      "0.7281991441090655\n",
      "State_D18 0.7301888124487969"
     ]
    },
    {
     "name": "stdout",
     "output_type": "stream",
     "text": [
      "\n",
      "State_D19 "
     ]
    },
    {
     "name": "stdout",
     "output_type": "stream",
     "text": [
      "0.24336231263950617\n",
      "State_D20 0.9848654818980961"
     ]
    },
    {
     "name": "stdout",
     "output_type": "stream",
     "text": [
      "\n",
      "\n",
      "γ =  0.79477\n"
     ]
    },
    {
     "name": "stdout",
     "output_type": "stream",
     "text": [
      "*********************************** TSSOS ***********************************\n",
      "Version 1.0.0, developed by Jie Wang, 2020--2023\n",
      "TSSOS is launching...\n",
      "optimum = 0.00025771769760314916\n",
      "Found a locally optimal solution by Ipopt, giving an upper bound: 0.00211917.\n",
      "The relative optimality gap is: 0.186146%.\n",
      "No higher TS step of the TSSOS hierarchy!\n",
      "State_D1 "
     ]
    },
    {
     "name": "stdout",
     "output_type": "stream",
     "text": [
      "0.8950627033801533\n",
      "State_D2 0.898844345780363"
     ]
    },
    {
     "name": "stdout",
     "output_type": "stream",
     "text": [
      "\n",
      "State_D3 "
     ]
    },
    {
     "name": "stdout",
     "output_type": "stream",
     "text": [
      "0.5098501658838485\n",
      "State_D4 0.5143227308536912"
     ]
    },
    {
     "name": "stdout",
     "output_type": "stream",
     "text": [
      "\n",
      "State_D5 "
     ]
    },
    {
     "name": "stdout",
     "output_type": "stream",
     "text": [
      "0.8391622873413846\n",
      "State_D6 0.8391617641400569"
     ]
    },
    {
     "name": "stdout",
     "output_type": "stream",
     "text": [
      "\n",
      "State_D7 "
     ]
    },
    {
     "name": "stdout",
     "output_type": "stream",
     "text": [
      "0.7290900050537931\n",
      "State_D8 0.7337962832973265"
     ]
    },
    {
     "name": "stdout",
     "output_type": "stream",
     "text": [
      "\n",
      "State_D9 "
     ]
    },
    {
     "name": "stdout",
     "output_type": "stream",
     "text": [
      "0.9841052700346105\n",
      "State_D10 0.29894133497532593"
     ]
    },
    {
     "name": "stdout",
     "output_type": "stream",
     "text": [
      "\n",
      "State_D11 "
     ]
    },
    {
     "name": "stdout",
     "output_type": "stream",
     "text": [
      "0.5098500026813211\n",
      "State_D12 0.5143297851255499"
     ]
    },
    {
     "name": "stdout",
     "output_type": "stream",
     "text": [
      "\n",
      "State_D13 "
     ]
    },
    {
     "name": "stdout",
     "output_type": "stream",
     "text": [
      "0.8950625832762801\n",
      "State_D14 0.8988441240216003"
     ]
    },
    {
     "name": "stdout",
     "output_type": "stream",
     "text": [
      "\n",
      "State_D15 "
     ]
    },
    {
     "name": "stdout",
     "output_type": "stream",
     "text": [
      "0.6072919866858936\n",
      "State_D16 0.6072897958901387"
     ]
    },
    {
     "name": "stdout",
     "output_type": "stream",
     "text": [
      "\n",
      "State_D17 "
     ]
    },
    {
     "name": "stdout",
     "output_type": "stream",
     "text": [
      "0.7290907975343075\n",
      "State_D18 0.733796234666757"
     ]
    },
    {
     "name": "stdout",
     "output_type": "stream",
     "text": [
      "\n",
      "State_D19 "
     ]
    },
    {
     "name": "stdout",
     "output_type": "stream",
     "text": [
      "0.29893612404634295\n",
      "State_D20 0.984103467858157"
     ]
    },
    {
     "name": "stdout",
     "output_type": "stream",
     "text": [
      "\n",
      "\n",
      "γ =  2.5133\n"
     ]
    },
    {
     "name": "stdout",
     "output_type": "stream",
     "text": [
      "*********************************** TSSOS ***********************************\n",
      "Version 1.0.0, developed by Jie Wang, 2020--2023\n",
      "TSSOS is launching...\n",
      "optimum = 0.002761671694330893\n",
      "The local solver failed refining the solution!\n",
      "No higher TS step of the TSSOS hierarchy!\n",
      "State_D1 0.8979737753218506"
     ]
    },
    {
     "name": "stdout",
     "output_type": "stream",
     "text": [
      "\n",
      "State_D2 "
     ]
    },
    {
     "name": "stdout",
     "output_type": "stream",
     "text": [
      "0.9091772838133263\n",
      "State_D3 0.5768075695878366"
     ]
    },
    {
     "name": "stdout",
     "output_type": "stream",
     "text": [
      "\n",
      "State_D4 "
     ]
    },
    {
     "name": "stdout",
     "output_type": "stream",
     "text": [
      "0.5884223196228378\n",
      "State_D5 0.8540869184696249"
     ]
    },
    {
     "name": "stdout",
     "output_type": "stream",
     "text": [
      "\n",
      "State_D6 "
     ]
    },
    {
     "name": "stdout",
     "output_type": "stream",
     "text": [
      "0.8540919805020905\n",
      "State_D7 0.7502880780206973"
     ]
    },
    {
     "name": "stdout",
     "output_type": "stream",
     "text": [
      "\n",
      "State_D8 "
     ]
    },
    {
     "name": "stdout",
     "output_type": "stream",
     "text": [
      "0.7640329463716451\n",
      "State_D9 0.9838399299569495"
     ]
    },
    {
     "name": "stdout",
     "output_type": "stream",
     "text": [
      "\n",
      "State_D10 "
     ]
    },
    {
     "name": "stdout",
     "output_type": "stream",
     "text": [
      "0.4370434311664886\n",
      "State_D11 0.5767939732525212"
     ]
    },
    {
     "name": "stdout",
     "output_type": "stream",
     "text": [
      "\n",
      "State_D12 "
     ]
    },
    {
     "name": "stdout",
     "output_type": "stream",
     "text": [
      "0.5884241117317326\n",
      "State_D13 0.8979731907468838"
     ]
    },
    {
     "name": "stdout",
     "output_type": "stream",
     "text": [
      "\n",
      "State_D14 "
     ]
    },
    {
     "name": "stdout",
     "output_type": "stream",
     "text": [
      "0.9091810388044579\n",
      "State_D15 0.6587554416256334"
     ]
    },
    {
     "name": "stdout",
     "output_type": "stream",
     "text": [
      "\n",
      "State_D16 "
     ]
    },
    {
     "name": "stdout",
     "output_type": "stream",
     "text": [
      "0.658760701213781\n",
      "State_D17 0.7502844584199184"
     ]
    },
    {
     "name": "stdout",
     "output_type": "stream",
     "text": [
      "\n",
      "State_D18 "
     ]
    },
    {
     "name": "stdout",
     "output_type": "stream",
     "text": [
      "0.764031886446207\n",
      "State_D19 0.4370477972559219"
     ]
    },
    {
     "name": "stdout",
     "output_type": "stream",
     "text": [
      "\n",
      "State_D20 "
     ]
    },
    {
     "name": "stdout",
     "output_type": "stream",
     "text": [
      "0.9838396110430818\n",
      "\n",
      "γ =  7.9477\n",
      "*********************************** TSSOS ***********************************"
     ]
    },
    {
     "name": "stdout",
     "output_type": "stream",
     "text": [
      "\n",
      "Version 1.0.0, developed by Jie Wang, 2020--2023\n",
      "TSSOS is launching...\n",
      "optimum = 0.04037759637315309\n",
      "Global optimality certified with relative optimality gap 0.000000%!\n",
      "No higher TS step of the TSSOS hierarchy!\n",
      "State_D1 0.9830583591638509\n",
      "State_D2 "
     ]
    },
    {
     "name": "stdout",
     "output_type": "stream",
     "text": [
      "0.9831606999955267\n",
      "State_D3 0.9882789160658114\n",
      "State_D4 "
     ]
    },
    {
     "name": "stdout",
     "output_type": "stream",
     "text": [
      "0.9883038943606924\n",
      "State_D5 0.9843684805791345\n",
      "State_D6 "
     ]
    },
    {
     "name": "stdout",
     "output_type": "stream",
     "text": [
      "0.9843684806896793\n",
      "State_D7 0.9860373349703307\n",
      "State_D8 "
     ]
    },
    {
     "name": "stdout",
     "output_type": "stream",
     "text": [
      "0.9860934191818868\n",
      "State_D9 0.9804437085356534\n",
      "State_D10 "
     ]
    },
    {
     "name": "stdout",
     "output_type": "stream",
     "text": [
      "0.9894381470247817\n",
      "State_D11 0.988278916061699\n",
      "State_D12 "
     ]
    },
    {
     "name": "stdout",
     "output_type": "stream",
     "text": [
      "0.9883038943871589\n",
      "State_D13 0.9830583591706953\n",
      "State_D14 "
     ]
    },
    {
     "name": "stdout",
     "output_type": "stream",
     "text": [
      "0.983160700092935\n",
      "State_D15 0.9875026662999852\n",
      "State_D16 "
     ]
    },
    {
     "name": "stdout",
     "output_type": "stream",
     "text": [
      "0.9875026662868612\n",
      "State_D17 0.986037334959128\n",
      "State_D18 "
     ]
    },
    {
     "name": "stdout",
     "output_type": "stream",
     "text": [
      "0.9860934191477111\n",
      "State_D19 0.9894381470166387\n",
      "State_D20 "
     ]
    },
    {
     "name": "stdout",
     "output_type": "stream",
     "text": [
      "0.9804437086707387\n",
      "\n",
      "γ =  25.133\n",
      "*********************************** TSSOS ***********************************"
     ]
    },
    {
     "name": "stdout",
     "output_type": "stream",
     "text": [
      "\n",
      "Version 1.0.0, developed by Jie Wang, 2020--2023\n",
      "TSSOS is launching...\n",
      "optimum = 0.566418379911598\n",
      "Global optimality certified with relative optimality gap 0.000003%!\n",
      "No higher TS step of the TSSOS hierarchy!\n",
      "State_D1 0.980889034241099\n",
      "State_D2 0.9880745084456024\n",
      "State_D3 0.987918895681516"
     ]
    },
    {
     "name": "stdout",
     "output_type": "stream",
     "text": [
      "\n",
      "State_D4 0.9879663403841276\n",
      "State_D5 0.9864850748917531\n",
      "State_D6 0.9864850748904135\n",
      "State_D7 0.9824348283034842\n",
      "State_D8 "
     ]
    },
    {
     "name": "stdout",
     "output_type": "stream",
     "text": [
      "0.9850944897294858\n",
      "State_D9 0.9821771269398498\n",
      "State_D10 0.9889526805967347\n",
      "State_D11 0.9879188956812834\n",
      "State_D12 "
     ]
    },
    {
     "name": "stdout",
     "output_type": "stream",
     "text": [
      "0.9879663403841276\n",
      "State_D13 0.9808906659494854\n",
      "State_D14 0.9880745084461973\n",
      "State_D15 0.9940356813002598\n",
      "State_D16 0.9940356813002598\n",
      "State_D17 0.9824348283034179"
     ]
    },
    {
     "name": "stdout",
     "output_type": "stream",
     "text": [
      "\n",
      "State_D18 0.9850944897295468\n",
      "State_D19 0.9889526805967437\n",
      "State_D20 0.9821771269407863\n",
      "\n",
      "γ =  79.477\n",
      "*********************************** TSSOS ***********************************"
     ]
    },
    {
     "name": "stdout",
     "output_type": "stream",
     "text": [
      "\n",
      "Version 1.0.0, developed by Jie Wang, 2020--2023\n",
      "TSSOS is launching...\n",
      "optimum = 0.9822398010925255\n",
      "The local solver failed refining the solution!\n",
      "No higher TS step of the TSSOS hierarchy!\n",
      "State_D1 0.9990345314921409\n",
      "State_D2 0.9994842305931799\n",
      "State_D3 0.9991674642028374\n",
      "State_D4 0.9994878531231901\n",
      "State_D5 0.9995608512977948\n",
      "State_D6 0.9995608512977276"
     ]
    },
    {
     "name": "stdout",
     "output_type": "stream",
     "text": [
      "\n",
      "State_D7 0.9976894742560395\n",
      "State_D8 0.99907148280077\n",
      "State_D9 0.99925523380028\n",
      "State_D10 0.9994436666602867\n",
      "State_D11 0.9991674642028434\n",
      "State_D12 0.9994878531232116"
     ]
    },
    {
     "name": "stdout",
     "output_type": "stream",
     "text": [
      "\n",
      "State_D13 0.9990345314922187\n",
      "State_D14 0.9994842305932439\n",
      "State_D15 0.9997122957091608\n",
      "State_D16 0.9997122957091472\n",
      "State_D17 0.9976894742560395\n",
      "State_D18 0.9990714828007334"
     ]
    },
    {
     "name": "stdout",
     "output_type": "stream",
     "text": [
      "\n",
      "State_D19 0.9994436666603175\n",
      "State_D20 0.9992552338002025\n",
      "\n",
      "γ =  251.33\n"
     ]
    },
    {
     "name": "stdout",
     "output_type": "stream",
     "text": [
      "*********************************** TSSOS ***********************************\n",
      "Version 1.0.0, developed by Jie Wang, 2020--2023\n",
      "TSSOS is launching...\n",
      "optimum = 0.9999257086033054\n",
      "Global optimality certified with relative optimality gap 0.001596%!\n",
      "No higher TS step of the TSSOS hierarchy!\n",
      "State_D1 0.9965356752060185\n",
      "State_D2 0.9951092922213175\n",
      "State_D3 0.9957899267254819\n",
      "State_D4 0.9944259037236038\n",
      "State_D5 0.993462936812292\n",
      "State_D6 0.993462936812292\n",
      "State_D7 0.9996798876816082\n",
      "State_D8 0.9982727262917648\n",
      "State_D9 0.9947920900695502\n",
      "State_D10 0.9936328466169317\n",
      "State_D11 "
     ]
    },
    {
     "name": "stdout",
     "output_type": "stream",
     "text": [
      "0.9957899267254692\n",
      "State_D12 0.9944259037236038\n",
      "State_D13 0.9965356752060185\n",
      "State_D14 0.9951092922213802\n",
      "State_D15 0.9930190565336104\n",
      "State_D16 0.9930190565335635\n",
      "State_D17 0.999679887681622\n",
      "State_D18 0.9982727262917611\n",
      "State_D19 0.9936328466169317\n",
      "State_D20 0.9947920900694424\n",
      "\n",
      "POP_LME_2_tssos_trn4_tst20_2024-Jan-17_at_12-03.h5\n"
     ]
    }
   ],
   "source": [
    "γ = [ \"0.079477\",  \"0.25133\", \"0.79477\", \"2.5133\", \"7.9477\", \"25.133\", \"79.477\", \"251.33\"]\n",
    "\n",
    "date_and_time_string =  string(Dates.format(now(), \"yyyy-u-dd_at_HH-MM\"))\n",
    "\n",
    "tests_data_file_name = \"POP_LME_2_tssos_trn4_tst20_\"*date_and_time_string * \".h5\"\n",
    "\n",
    "for γᵢ in γ\n",
    "\n",
    "    println(\"γ =  \"*γᵢ)\n",
    "\n",
    "    poly = g_objective_2(γᵢ)\n",
    "    \n",
    "    sol = tssos_min(poly) #tssos_scaled(poly)\n",
    "\n",
    "    Hˢⁱᵈ = subs(Hˢʸᵐᵇ, sol)\n",
    "\n",
    "    omega = subs(w, sol)\n",
    "\n",
    "    relaxation = subs(r^2, sol)\n",
    "    de_phasing = subs(ϕ^2, sol)\n",
    "    #exitation = subs(e^2, sol) \n",
    "    #de_polarisation = subs(p^2, sol)\n",
    "    omega = subs(w, sol)\n",
    "\n",
    "    J₁ˢⁱᵈ = subs(J₁ˢʸᵐᵇ, sol)\n",
    "    J₂ˢⁱᵈ = subs(J₂ˢʸᵐᵇ, sol)\n",
    "    #J₃ˢⁱᵈ = subs(J₃ˢʸᵐᵇ, sol) \n",
    "\n",
    "    #J₄ˢⁱᵈ = subs(J₄ˢʸᵐᵇ, sol)\n",
    "    #J₅ˢⁱᵈ = subs(J₅ˢʸᵐᵇ, sol)\n",
    "    #J₆ˢⁱᵈ = subs(J₆ˢʸᵐᵇ, sol)\n",
    "\n",
    "\n",
    "    h5open(tests_dir*tests_data_file_name,\"cw\") do fid\n",
    "        γ_group = create_group(fid, \"gamma_\"*γᵢ) # create coupling group   \n",
    "\n",
    "        γ_group[\"omega\"] = convert(Float64, omega)\n",
    "        γ_group[\"gamma_relaxation\"] = convert(Float64, relaxation)\n",
    "        γ_group[\"gamma_de_phasing\"] = convert(Float64,  de_phasing)\n",
    "        #γ_group[\"gamma_exitation\"] = convert(Float64,  exitation)\n",
    "        #γ_group[\"gamma_de_polarisation\"] = convert(Float64, de_polarisation)\n",
    "        \n",
    "        γ_group[\"H\"] = convert.(ComplexF64, Hˢⁱᵈ)\n",
    "        #γ_group[\"J1\"] = convert.(ComplexF64, J₁ˢⁱᵈ)\n",
    "        #γ_group[\"J2\"] = convert.(ComplexF64, J₂ˢⁱᵈ)\n",
    "        #γ_group[\"J3\"] = convert.(ComplexF64, J₃ˢⁱᵈ)\n",
    "        #γ_group[\"J4\"] = convert.(ComplexF64, J₄ˢⁱᵈ)\n",
    "        #γ_group[\"J5\"] = convert.(ComplexF64, J₅ˢⁱᵈ)\n",
    "        #γ_group[\"J6\"] = convert.(ComplexF64, J₆ˢⁱᵈ)\n",
    "        \n",
    "    end\n",
    "\n",
    "    for df in test_files # loop over initial states\n",
    "        \n",
    "        print(df*\" \")\n",
    "\n",
    "        start_time = time()\n",
    "\n",
    "        ρₛ, tₛ = LiPoSID.get_rho_series(data_dir*df*\"_2CUT_data.h5\", γᵢ)\n",
    "        ρₛ = convert(Vector{Matrix{ComplexF64}}, ρₛ)\n",
    "\n",
    "        ρᵗˢᵗ = [DenseOperator(basis,Hermitian(ρₜ)) for ρₜ in ρₛ]\n",
    "        tᵗˢᵗ = convert(Vector{Float64}, tₛ)\n",
    "\n",
    "        tˢⁱᵈ, ρˢⁱᵈ  = timeevolution.master(tᵗˢᵗ, ρᵗˢᵗ[1], DenseOperator(basis,Hˢⁱᵈ), \n",
    "                    [ DenseOperator(basis,J₁ˢⁱᵈ), DenseOperator(basis,J₂ˢⁱᵈ)]) #, DenseOperator(basis,J₃ˢⁱᵈ),\n",
    "                    # DenseOperator(basis,J₄ˢⁱᵈ), DenseOperator(basis,J₅ˢⁱᵈ), DenseOperator(basis,J₆ˢⁱᵈ)])\n",
    "\n",
    "        Fᴸᴹᴱₑₓ = [abs(fidelity(ρ₁, ρ₂)) for (ρ₁, ρ₂) in zip(ρᵗˢᵗ, ρˢⁱᵈ)]                    \n",
    "\n",
    "        h5open(tests_dir*tests_data_file_name,\"cw\") do fid\n",
    "            γ_group = open_group(fid, \"gamma_\"*γᵢ) # open coupling group\n",
    "\n",
    "            init_state_group = create_group(γ_group, df) # create initial state group\n",
    "            init_state_group[\"Fidelity\"] = convert.(Float64, Fᴸᴹᴱₑₓ)\n",
    "            \n",
    "        end\n",
    "                    \n",
    "        println(minimum(Fᴸᴹᴱₑₓ))\n",
    "    \n",
    "    end\n",
    "\n",
    "    println()\n",
    "end\n",
    "\n",
    "println(tests_data_file_name)"
   ]
  },
  {
   "cell_type": "code",
   "execution_count": 6,
   "metadata": {},
   "outputs": [],
   "source": []
  }
 ],
 "metadata": {
  "kernelspec": {
   "display_name": "Julia 1.10.0",
   "language": "julia",
   "name": "julia-1.10"
  },
  "language_info": {
   "file_extension": ".jl",
   "mimetype": "application/julia",
   "name": "julia",
   "version": "1.10.0"
  }
 },
 "nbformat": 4,
 "nbformat_minor": 2
}
