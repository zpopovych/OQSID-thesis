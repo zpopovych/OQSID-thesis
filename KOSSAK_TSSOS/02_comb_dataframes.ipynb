{
 "cells": [
  {
   "cell_type": "code",
   "execution_count": 1,
   "id": "2b97bc7f",
   "metadata": {},
   "outputs": [],
   "source": [
    "#from boson_data_lib import *\n",
    "import numpy as np\n",
    "import scipy.linalg as sl\n",
    "import os\n",
    "import pandas as pd\n",
    "import glob"
   ]
  },
  {
   "cell_type": "code",
   "execution_count": 2,
   "id": "e0bcd726",
   "metadata": {},
   "outputs": [],
   "source": [
    "import h5py"
   ]
  },
  {
   "cell_type": "code",
   "execution_count": 3,
   "id": "51aaf20f",
   "metadata": {},
   "outputs": [],
   "source": [
    "data_dir = \"../DATA/\"\n",
    "tests_dir = \"\"\n",
    "new_data_dir = \"\""
   ]
  },
  {
   "cell_type": "code",
   "execution_count": 6,
   "id": "7518da3c",
   "metadata": {},
   "outputs": [],
   "source": [
    "def read_as_dataframe(filename, tests_dir):\n",
    "\n",
    "    df = pd.DataFrame()\n",
    "    \n",
    "    print(\"Processing \"+filename+\"...\")\n",
    "    \n",
    "    with h5py.File(tests_dir+filename, \"r\") as f:\n",
    "        \n",
    "        gammas = ['0.079477', '0.25133', '0.79477', '2.5133', '7.9477', '25.133', '79.477', '251.33']    \n",
    "        #gammas = f.keys()\n",
    "\n",
    "        for gamma in gammas:\n",
    "            \n",
    "            print(gamma)\n",
    "            \n",
    "            #init_states = f[gamma].keys()\n",
    "            init_states = [\"D\"+str(i) for i in range(1, 11)] \n",
    "            \n",
    "            for state in init_states:\n",
    "                \n",
    "                Fidelity = f[gamma][state][\"Fidelity\"][()]\n",
    "                #tr_dist = f[gamma][state][\"tr_dist_grnd\"][()]\n",
    "                time = f[gamma][state][\"time\"][()]\n",
    "\n",
    "                ser_len = len(Fidelity)\n",
    "\n",
    "                gamma_column = [gamma] * ser_len\n",
    "                state_column = [state] * ser_len\n",
    "\n",
    "                #tr_dist_column = [tr_dist] * ser_len      \n",
    "                \n",
    "                gamma_time_column = np.array(time)*float(gamma) \n",
    "\n",
    "                d_ser = {'Gamma': gamma_column,\n",
    "                         'State': state_column,\n",
    "                         'Time': time, \n",
    "                         'gt': gamma_time_column,\n",
    "                         'Fidelity': Fidelity,\n",
    "                         'Infidelity': 1-Fidelity#,\n",
    "                         #'Distance': tr_dist_column\n",
    "                         }\n",
    "\n",
    "                df_ser = pd.DataFrame(data = d_ser)   \n",
    "                df = pd.concat([df, df_ser])\n",
    "    \n",
    "    print(\" done!\")\n",
    "    \n",
    "    return df"
   ]
  },
  {
   "cell_type": "code",
   "execution_count": 15,
   "id": "0147ad92",
   "metadata": {},
   "outputs": [],
   "source": [
    "\n",
    "test_file3 = \"POP_NEW_TSSOS_KOS_treshold_1e-3_FROB_QO_2024-Aug-08_at_14-37.h5\"\n",
    "test_file4 = \"POP_NEW_TSSOS_KOS_treshold_1e-4_FROB_QO_2024-Aug-08_at_13-42.h5\"\n",
    "test_file5 = \"POP_NEW_TSSOS_KOS_treshold_1e-5_FROB_QO_2024-Aug-08_at_15-16.h5\"\n",
    "test_file6 = \"POP_NEW_TSSOS_KOS_treshold_1e-6_FROB_QO_2024-Aug-08_at_16-02.h5\"\n",
    "\n",
    "test_file8 = \"POP_NEW_TSSOS_KOS_treshold_1e-8_FROB_QO_2024-Aug-09_at_04-04.h5\"\n"
   ]
  },
  {
   "cell_type": "code",
   "execution_count": 16,
   "id": "e6b4f2fb",
   "metadata": {},
   "outputs": [
    {
     "name": "stdout",
     "output_type": "stream",
     "text": [
      "Processing POP_NEW_TSSOS_KOS_treshold_1e-3_FROB_QO_2024-Aug-08_at_14-37.h5...\n",
      "0.079477\n",
      "0.25133\n",
      "0.79477\n",
      "2.5133\n",
      "7.9477\n",
      "25.133\n",
      "79.477\n",
      "251.33\n",
      " done!\n",
      "Processing POP_NEW_TSSOS_KOS_treshold_1e-4_FROB_QO_2024-Aug-08_at_13-42.h5...\n",
      "0.079477\n",
      "0.25133\n",
      "0.79477\n",
      "2.5133\n",
      "7.9477\n",
      "25.133\n",
      "79.477\n",
      "251.33\n",
      " done!\n",
      "Processing POP_NEW_TSSOS_KOS_treshold_1e-5_FROB_QO_2024-Aug-08_at_15-16.h5...\n",
      "0.079477\n",
      "0.25133\n",
      "0.79477\n",
      "2.5133\n",
      "7.9477\n",
      "25.133\n",
      "79.477\n",
      "251.33\n",
      " done!\n",
      "Processing POP_NEW_TSSOS_KOS_treshold_1e-6_FROB_QO_2024-Aug-08_at_16-02.h5...\n",
      "0.079477\n",
      "0.25133\n",
      "0.79477\n",
      "2.5133\n",
      "7.9477\n",
      "25.133\n",
      "79.477\n",
      "251.33\n",
      " done!\n",
      "Processing POP_NEW_TSSOS_KOS_treshold_1e-8_FROB_QO_2024-Aug-09_at_04-04.h5...\n",
      "0.079477\n",
      "0.25133\n",
      "0.79477\n",
      "2.5133\n",
      "7.9477\n",
      "25.133\n",
      "79.477\n",
      "251.33\n",
      " done!\n"
     ]
    }
   ],
   "source": [
    "# Your list of gamma values\n",
    "#gammas = ['0.079477', '0.25133', '0.79477', '2.5133', '7.9477', '25.133', '79.477', '251.33'] \n",
    "\n",
    "df3 = read_as_dataframe(test_file3, tests_dir)\n",
    "df4 = read_as_dataframe(test_file4, tests_dir)\n",
    "df5 = read_as_dataframe(test_file5, tests_dir)\n",
    "df6 = read_as_dataframe(test_file6, tests_dir)\n",
    "df8 = read_as_dataframe(test_file8, tests_dir)\n",
    "\n",
    "# List of your dataframes\n",
    "dataframes = [df3, df4, df5, df6, df8]  # Replace with your actual dataframe variables\n",
    "dataframe_names = ['1e-3', '1e-4', '1e-5', '1e-6']  # Names corresponding to each dataframe\n",
    "\n",
    "# Your list of gamma values, converted to floats to match the dataframe\n",
    "gammas = [0.079477, 0.25133, 0.79477, 2.5133, 7.9477, 25.133, 79.477, 251.33] \n",
    "\n",
    "# Create an empty list to store the best time series for each gamma\n",
    "best_time_series = []\n",
    "\n",
    "# Iterate over each gamma value\n",
    "for gamma in gammas:\n",
    "    best_mean_fidelity = -float('inf')\n",
    "    best_series = None\n",
    "    best_source = None\n",
    "    \n",
    "    # Check each dataframe for the best mean fidelity for the current gamma\n",
    "    for df, name in zip(dataframes, dataframe_names):\n",
    "        # Ensure that the Gamma column is of type float for correct comparison\n",
    "        df['Gamma'] = df['Gamma'].astype(float)\n",
    "        \n",
    "        # Filter the dataframe for the current gamma\n",
    "        gamma_df = df[df['Gamma'] == gamma]\n",
    "        \n",
    "        if not gamma_df.empty:\n",
    "            # Calculate the mean fidelity for the current gamma in the current dataframe\n",
    "            mean_fidelity = gamma_df['Fidelity'].mean()\n",
    "            \n",
    "            # Check if this is the best mean fidelity so far\n",
    "            if mean_fidelity > best_mean_fidelity:\n",
    "                best_mean_fidelity = mean_fidelity\n",
    "                best_series = gamma_df\n",
    "                best_source = name\n",
    "    \n",
    "    # Since we know a valid series exists, we simply add the best one\n",
    "    best_series = best_series.copy()\n",
    "    best_series['Source'] = best_source\n",
    "    best_time_series.append(best_series)\n",
    "\n",
    "# Combine all the best time series into one dataframe\n",
    "final_df = pd.concat(best_time_series, ignore_index=True)\n"
   ]
  },
  {
   "cell_type": "markdown",
   "id": "0fad5275",
   "metadata": {},
   "source": []
  },
  {
   "cell_type": "code",
   "execution_count": 17,
   "id": "449ce44d",
   "metadata": {},
   "outputs": [],
   "source": [
    "pkl_name = \"dataframe_combined.pkl\"\n",
    "\n",
    "final_df.to_pickle(tests_dir+pkl_name)"
   ]
  },
  {
   "cell_type": "code",
   "execution_count": 18,
   "id": "c7fa69fe",
   "metadata": {},
   "outputs": [
    {
     "data": {
      "text/plain": [
       "'dataframe_combined.pkl'"
      ]
     },
     "execution_count": 18,
     "metadata": {},
     "output_type": "execute_result"
    }
   ],
   "source": [
    "pkl_name"
   ]
  }
 ],
 "metadata": {
  "@webio": {
   "lastCommId": null,
   "lastKernelId": null
  },
  "kernelspec": {
   "display_name": "base",
   "language": "python",
   "name": "python3"
  },
  "language_info": {
   "codemirror_mode": {
    "name": "ipython",
    "version": 3
   },
   "file_extension": ".py",
   "mimetype": "text/x-python",
   "name": "python",
   "nbconvert_exporter": "python",
   "pygments_lexer": "ipython3",
   "version": "3.7.7"
  }
 },
 "nbformat": 4,
 "nbformat_minor": 5
}
