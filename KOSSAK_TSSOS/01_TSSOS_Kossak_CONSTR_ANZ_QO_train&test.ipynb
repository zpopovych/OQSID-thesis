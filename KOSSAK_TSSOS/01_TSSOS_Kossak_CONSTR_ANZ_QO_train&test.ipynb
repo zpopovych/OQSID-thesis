{
 "cells": [
  {
   "cell_type": "code",
   "execution_count": 1,
   "metadata": {},
   "outputs": [],
   "source": [
    "include(\"../LiPoSID.jl\")\n",
    "\n",
    "#include(\"CtrlSID.jl\")\n",
    "\n",
    "\n",
    "using QuantumOptics\n",
    "basis = NLevelBasis(2)\n",
    "using LinearAlgebra\n",
    "\n",
    "using HDF5\n",
    "using DynamicPolynomials\n",
    "\n",
    "using Dates\n",
    "\n",
    "using Statistics\n",
    "\n",
    "using TSSOS"
   ]
  },
  {
   "cell_type": "code",
   "execution_count": 2,
   "metadata": {},
   "outputs": [
    {
     "data": {
      "text/plain": [
       "frobenius_norm2 (generic function with 1 method)"
      ]
     },
     "metadata": {},
     "output_type": "display_data"
    }
   ],
   "source": [
    "function frobenius_norm2(m)\n",
    "    return tr(m * m')\n",
    "end"
   ]
  },
  {
   "cell_type": "code",
   "execution_count": 3,
   "metadata": {},
   "outputs": [
    {
     "data": {
      "text/plain": [
       "kossak_obj (generic function with 1 method)"
      ]
     },
     "metadata": {},
     "output_type": "display_data"
    }
   ],
   "source": [
    "function kossak_obj(ρ, t, Hˢʸᵐᵇ, Cˢʸᵐᵇ, Fᴼᴺᴮ)\n",
    "\n",
    "    function Dc(ρ, t)\n",
    "        U = (Hˢʸᵐᵇ*ρ - ρ*Hˢʸᵐᵇ)/im \n",
    "        D = sum(Cˢʸᵐᵇ .* [2*fᵢ*ρ*fⱼ' - ρ*fⱼ'*fᵢ - fⱼ'*fᵢ*ρ  for fᵢ in Fᴼᴺᴮ, fⱼ in Fᴼᴺᴮ])/2\n",
    "        return U + D\n",
    "    end \n",
    "\n",
    "    obj = 0\n",
    "    for i in 3:length(ρ)\n",
    "        obj += LiPoSID.frobenius_norm2(\n",
    "            ρ[i] - ρ[i-2] - (t[i]-t[i-1])*(Dc(ρ[i], t[i])+\n",
    "            4*Dc(ρ[i-1], t[i-1])+Dc(ρ[i-2], t[i-2]))/3\n",
    "        )\n",
    "    end\n",
    "\n",
    "    if isempty(monomials(obj))\n",
    "        obj = 0. \n",
    "    else\n",
    "        obj = sum(real(coef) * mon for (coef, mon) in zip(coefficients(obj), monomials(obj)))\n",
    "    end\n",
    "\n",
    "    return obj\n",
    "\n",
    "end"
   ]
  },
  {
   "cell_type": "code",
   "execution_count": 4,
   "metadata": {},
   "outputs": [
    {
     "data": {
      "text/plain": [
       "kossak_GEXY_obj (generic function with 1 method)"
      ]
     },
     "metadata": {},
     "output_type": "display_data"
    }
   ],
   "source": [
    "function kossak_GEXY_obj(ρᵍᵉˣʸ, tᵍᵉˣʸ, H0ˢʸᵐᵇ, Cˢʸᵐᵇ, fᴼᴺᴮ)\n",
    "\n",
    "    ρᵍ, ρᵉ, ρˣ, ρʸ = ρᵍᵉˣʸ\n",
    "    tᵍ, tᵉ, tˣ, tʸ = tᵍᵉˣʸ\n",
    "\n",
    "    polyG = kossak_obj(ρᵍ, tᵍ, H0ˢʸᵐᵇ, Cˢʸᵐᵇ, fᴼᴺᴮ)\n",
    "    polyE = kossak_obj(ρᵉ, tᵉ, H0ˢʸᵐᵇ, Cˢʸᵐᵇ, fᴼᴺᴮ)\n",
    "    polyX = kossak_obj(ρˣ, tˣ, H0ˢʸᵐᵇ, Cˢʸᵐᵇ, fᴼᴺᴮ)\n",
    "    polyY = kossak_obj(ρʸ, tʸ, H0ˢʸᵐᵇ, Cˢʸᵐᵇ, fᴼᴺᴮ)\n",
    "\n",
    "    polyGEXY = polyG + polyE + polyX + polyY\n",
    "\n",
    "    return polyGEXY\n",
    "end"
   ]
  },
  {
   "cell_type": "markdown",
   "metadata": {},
   "source": [
    "### Kossakowski objective for two-level system\n",
    "\n",
    "\n",
    "For the two level system we can use theorem originally proved by Kossakowski:\n",
    "\n",
    "Kossakowski, Bull. Acad. Pol. Sci. Ser. Math. Astr. Phys. 21, 649 (1973).\n",
    "\n",
    "and available also in classic GKS paper:\n",
    "\n",
    "Completely positive dynamical semigroups of Nlevel systems\n",
    "Vittorio Gorini, Andrzej Kossakowski, and E. C. G. Sudarshan\n",
    "Citation: J. Math. Phys. 17, 821 (1976); doi: 10.1063/1.522979\n",
    "\n",
    "Theorem 3.1. (two-level system)\n",
    "\n",
    "A linear operator $L: M(2) \\rightarrow M(2)$ is the generator of a dynamical semigroup $t \\rightarrow \\Lambda_t$ of $M(2)$ iff it can be written in the form:\n",
    "\n",
    "$L = -i[H,\\rho] + \\frac{1}{2} \\sum_{i,j}^3 C_{ij} \\{[f_i, \\rho f_j] + [f_i\\rho, f_j]\\}, \\quad \\rho \\in M(2)$\n",
    "\n",
    "where\n",
    "\n",
    "(i) $H = \\sum_1^3 h_i f_i, \\quad h_i \\in \\R$\n",
    "\n",
    "(ii) $f_i f_j = \\frac{1}{4}\\delta_{ij}I  +\\frac{i}{2} \\sum_{k=1}^3 \\epsilon_{ijk} f_k$ which means:\n",
    "\n",
    "$ \\operatorname{tr}(f_i f_j)=\\frac{1}{2}\\delta_{ij}, \\quad \\operatorname{tr}(f_i) = 0$\n",
    "\n",
    "\n",
    "(iii) $\\{C_{ij}\\}= \\begin{pmatrix} \n",
    "\\gamma - 2\\gamma_1    & - i a_3            &  i a_2 \\\\\n",
    "i a_3                 & \\gamma - 2\\gamma_2 & -i a_1 \\\\\n",
    "-i a_2                & i a_1              & \\gamma - 2\\gamma_3 \n",
    "\\end{pmatrix} =$\n",
    "\n",
    "$=\\begin{pmatrix} \n",
    "-\\gamma_1 + \\gamma_2 + \\gamma_3   & - i a_3   &  i a_2 \\\\\n",
    "i a_3                 & \\gamma_1 - \\gamma_2 + \\gamma_3 & -i a_1 \\\\\n",
    "-i a_2                & i a_1      & \\gamma_1 + \\gamma_2 - \\gamma_3 \n",
    "\\end{pmatrix}$"
   ]
  },
  {
   "cell_type": "markdown",
   "metadata": {},
   "source": [
    "To write a Hamiltonian $H$ and than objective function we can use the set of orthonormal operators $f_j$\n",
    "\n",
    "We use Pauli matrices $\\sigma_x, \\sigma_y, \\sigma_z$ to choose 3 orthonormal $f_i$ for the two-level system to fulfill:\n",
    "\n",
    "$f_i f_j = \\frac{1}{4}\\delta_{ij}I  +\\frac{i}{2} \\sum_{k=1}^3 \\epsilon_{ijk} f_k$ which means:\n",
    "\n",
    "$ \\operatorname{tr}(f_i f_j)=\\frac{1}{2}\\delta_{ij}, \\quad \\operatorname{tr}(f_i) = 0$"
   ]
  },
  {
   "cell_type": "code",
   "execution_count": 5,
   "metadata": {},
   "outputs": [
    {
     "data": {
      "text/plain": [
       "3-element Vector{Matrix{ComplexF64}}:\n",
       " [0.0 + 0.0im 0.5 + 0.0im; 0.5 + 0.0im 0.0 + 0.0im]\n",
       " [0.0 + 0.0im 0.0 + 0.5im; 0.0 - 0.5im 0.0 + 0.0im]\n",
       " [0.5 + 0.0im 0.0 + 0.0im; 0.0 + 0.0im -0.5 + 0.0im]"
      ]
     },
     "metadata": {},
     "output_type": "display_data"
    }
   ],
   "source": [
    "σˣ = [ 0 1 \n",
    "       1 0 ]\n",
    "\n",
    "σʸ = [ 0.   im*1\n",
    "      -im*1 0    ]\n",
    "\n",
    "σᶻ = [ 1.  0\n",
    "       0  -1 ] \n",
    "\n",
    "fᴷ₁ = σˣ/2\n",
    "fᴷ₂ = σʸ/2\n",
    "fᴷ₃ = σᶻ/2\n",
    "\n",
    "@assert tr(σˣ/2*σʸ/2) == tr(σˣ/2*σᶻ/2) ==  tr(σʸ/2*σᶻ/2) ≈ 0\n",
    "@assert tr(σˣ/2*σˣ/2) == tr(σʸ/2*σʸ/2) == tr(σᶻ/2*σᶻ/2) ≈ 1/2\n",
    "\n",
    "fᴷᴼᴺᴮ = [fᴷ₁, fᴷ₂, fᴷ₃]"
   ]
  },
  {
   "cell_type": "code",
   "execution_count": 74,
   "metadata": {},
   "outputs": [
    {
     "data": {
      "text/plain": [
       "2-element Vector{PolyVar{true}}:\n",
       " ϵ\n",
       " γ"
      ]
     },
     "metadata": {},
     "output_type": "display_data"
    }
   ],
   "source": [
    "@polyvar ϵ h_Re h_Im # h₁ h₂ h₃\n",
    "\n",
    "H0ˢʸᵐᵇ = [ ϵ               h_Re+im*h_Im\n",
    "           h_Re-im*h_Im   -ϵ            ] / 2\n",
    "\n",
    "H0ᴷˢʸᵐᵇ = h_Re * fᴷ₁ + h_Im * fᴷ₂  + ϵ * fᴷ₃ \n",
    "\n",
    "@assert tr(H0ᴷˢʸᵐᵇ) == 0\n",
    "@assert H0ᴷˢʸᵐᵇ == H0ˢʸᵐᵇ\n",
    "\n",
    "Hˢʸᵐᵇ = H0ˢʸᵐᵇ \n",
    "\n",
    "#@polyvar d_Re d_Im\n",
    "\n",
    "#Vˢʸᵐᵇ =  [ 0             d_Re+im*d_Im\n",
    "#           d_Re-im*d_Im  0.           ]    \n",
    "\n",
    "@polyvar γ #[1:3]\n",
    "@polyvar a #[1:3]\n",
    "\n",
    "Cˢʸᵐᵇ = [  γ      im*γ   0\n",
    "          -im*γ    γ      0 \n",
    "           0       0      0 ] \n",
    "\n",
    "#κ₁ = -γ[1]+γ[2]+γ[3]\n",
    "#κ₂ =  γ[1]-γ[2]+γ[3]\n",
    "#κ₃ =  γ[1]+γ[2]-γ[3] # ZERO if γ[1]+γ[2]-γ[3] = 0\n",
    "\n",
    "#constr1 = κ₁ + κ₂ + κ₃  \n",
    "#constr2 = κ₁*κ₂ + κ₃*κ₁ + κ₂*κ₃ - a[1]^2 - a[2]^2 - a[3]^2 # κ₁*κ₂ - a[3]^2\n",
    "#constr3 = κ₁*κ₂*κ₃ - κ₁*a[1]^2 - κ₂*a[2]^2 - κ₃*a[3]^2 # ZERO if γ[1]+γ[2]-γ[3] = 0\n",
    "\n",
    "#constraints = [constr3, ϵ, γ[1], γ[2], γ[3], κ₁, κ₂, κ₃, constr1, constr2]\n",
    "\n",
    "constraints = [ϵ, γ]"
   ]
  },
  {
   "cell_type": "code",
   "execution_count": 54,
   "metadata": {},
   "outputs": [
    {
     "data": {
      "text/plain": [
       "read_GEXY_timeevolution (generic function with 1 method)"
      ]
     },
     "metadata": {},
     "output_type": "display_data"
    }
   ],
   "source": [
    "\n",
    "function read_timeevolution(file_name, state, γ)\n",
    "    h5open(file_name, \"r\") do file\n",
    "        ρᵧ = read(file[state][string(γ)])\n",
    "        t = ρᵧ[\"t\"]\n",
    "        ρ₀₀ = ρᵧ[\"p0\"]; Re_ρ₀₁ = ρᵧ[\"s_re\"];  Im_ρ₀₁ = ρᵧ[\"s_im\"]\n",
    "        ρ_series = []\n",
    "        t_series = []\n",
    "\n",
    "        for i in 1:length(t)\n",
    "            ρᵢ= [ ρ₀₀[i]                      Re_ρ₀₁[i] + im * Im_ρ₀₁[i]\n",
    "                  Re_ρ₀₁[i] - im * Im_ρ₀₁[i]  1 - ρ₀₀[i]                 ]\n",
    "            push!(ρ_series, convert(Matrix{ComplexF64}, ρᵢ))\n",
    "            push!(t_series, convert(Float64, t[i]))\n",
    "        end\n",
    "        return(t_series, ρ_series)\n",
    "    end\n",
    "end\n",
    "\n",
    "\n",
    "function read_GEXY_timeevolution(file_name, γ)\n",
    "\n",
    "    tᵍ, ρᵍ = read_timeevolution(file_name, \"B1\", γ)\n",
    "    tᵉ, ρᵉ = read_timeevolution(file_name, \"B2\", γ)\n",
    "    tˣ, ρˣ = read_timeevolution(file_name, \"B3\", γ)\n",
    "    tʸ, ρʸ = read_timeevolution(file_name, \"B4\", γ)\n",
    "\n",
    "    ρᵍᵉˣʸ = ρᵍ, ρᵉ, ρˣ, ρʸ \n",
    "    tᵍᵉˣʸ = tᵍ, tᵉ, tˣ, tʸ\n",
    "\n",
    "    return tᵍᵉˣʸ , ρᵍᵉˣʸ \n",
    "\n",
    "end"
   ]
  },
  {
   "cell_type": "code",
   "execution_count": 55,
   "metadata": {},
   "outputs": [
    {
     "data": {
      "text/plain": [
       "TrDist (generic function with 1 method)"
      ]
     },
     "metadata": {},
     "output_type": "display_data"
    }
   ],
   "source": [
    "function TrDist(ρ₁, ρ₂)\n",
    "    A = ρ₁-ρ₂\n",
    "    D = tr(sqrt(A'*A))/2\n",
    "    if abs(imag(D))>1e-6\n",
    "        throw(DomainError(D, \"Trace distance is complex number\"))\n",
    "    else\n",
    "        return(real(D))\n",
    "    end\n",
    "end "
   ]
  },
  {
   "cell_type": "code",
   "execution_count": 37,
   "metadata": {},
   "outputs": [
    {
     "data": {
      "text/plain": [
       "get_lindblad_operators (generic function with 1 method)"
      ]
     },
     "metadata": {},
     "output_type": "display_data"
    }
   ],
   "source": [
    "function get_lindblad_operators(C, basis_ops)#(C::Matrix{ComplexF64}, basis_ops::Vector{Matrix{ComplexF64}})\n",
    "    # Check that C is a square matrix and basis_ops has the same dimension\n",
    "    n = size(C, 1)\n",
    "    if size(C, 2) != n || length(basis_ops) != n\n",
    "        throw(ArgumentError(\"Dimensions of C and basis_ops do not match\"))\n",
    "    end\n",
    "\n",
    "    # Perform eigenvalue decomposition of C\n",
    "    eigvals, eigvecs = eigen(C)\n",
    "\n",
    "    # Construct the Lindblad operators\n",
    "    lindblad_ops = []\n",
    "    for i in 1:n\n",
    "        if eigvals[i] > 1e-10  # Filter out negligible eigenvalues to ensure numerical stability\n",
    "            lindblad_op = zeros(ComplexF64, size(basis_ops[1]))\n",
    "            for j in 1:n\n",
    "                lindblad_op .+= sqrt(eigvals[i]) * eigvecs[j, i] * basis_ops[j]\n",
    "            end\n",
    "            push!(lindblad_ops, lindblad_op)\n",
    "        end\n",
    "    end\n",
    "\n",
    "    return lindblad_ops\n",
    "end"
   ]
  },
  {
   "cell_type": "code",
   "execution_count": 38,
   "metadata": {},
   "outputs": [],
   "source": [
    "#tests_dir = \"../TESTS/\"\n",
    "tests_dir = \"\"\n",
    "\n",
    "ρᵍ₀ = [ 1 0\n",
    "        0 0 ]    # state to measure initial distance from\n",
    "\n",
    "dodeca_10_states = [\"D\"*string(n) for n=1:10];\n",
    "\n",
    "basis_states = [\"B\"*string(n) for n=1:4];\n",
    "\n",
    "train_states = basis_states \n",
    "test_states = dodeca_10_states\n",
    "\n",
    "all_states = vcat(train_states, test_states);"
   ]
  },
  {
   "cell_type": "code",
   "execution_count": 39,
   "metadata": {},
   "outputs": [
    {
     "data": {
      "text/plain": [
       "filter_terms_by_relative_threshold (generic function with 1 method)"
      ]
     },
     "metadata": {},
     "output_type": "display_data"
    }
   ],
   "source": [
    "function filter_terms_by_relative_threshold(poly::Polynomial, relative_threshold::Float64)\n",
    "    # Get all coefficients of the polynomial\n",
    "    coeffs = coefficients(poly)\n",
    "    \n",
    "    # Find the largest coefficient by absolute value\n",
    "    max_coeff = maximum(abs.(coeffs))\n",
    "    \n",
    "    # Calculate the effective threshold\n",
    "    threshold = relative_threshold * max_coeff\n",
    "    \n",
    "    # Initialize an empty polynomial of the same type as the input\n",
    "    new_poly = zero(poly)\n",
    "    \n",
    "    # Iterate over the terms and coefficients of the polynomial\n",
    "    for (monomial, coeff) in zip(monomials(poly), coeffs)\n",
    "        if abs(coeff) >= threshold\n",
    "            new_poly += coeff * monomial\n",
    "        end\n",
    "    end\n",
    "    \n",
    "    return new_poly\n",
    "end\n",
    "\n",
    "# Example usage\n",
    "#@polyvar x y\n",
    "#p = 1e-13*x^2 + 2*x*y + 3*y^2 + 4e-14*y\n",
    "#relative_threshold = 1e-12\n",
    "#filtered_p = filter_terms_by_relative_threshold(p, relative_threshold)\n",
    "#println(filtered_p)"
   ]
  },
  {
   "cell_type": "code",
   "execution_count": 40,
   "metadata": {},
   "outputs": [
    {
     "data": {
      "text/plain": [
       "filter_odd_terms_by_relative_threshold (generic function with 1 method)"
      ]
     },
     "metadata": {},
     "output_type": "display_data"
    }
   ],
   "source": [
    "\n",
    "function filter_odd_terms_by_relative_threshold(poly::Polynomial, relative_threshold::Float64)\n",
    "    # Get all coefficients and corresponding monomials of the polynomial\n",
    "    coeffs = coefficients(poly)\n",
    "    monoms = monomials(poly)\n",
    "    \n",
    "    # Find the largest coefficient by absolute value\n",
    "    max_coeff = maximum(abs.(coeffs))\n",
    "    \n",
    "    # Calculate the effective threshold\n",
    "    threshold = relative_threshold * max_coeff\n",
    "    \n",
    "    # Initialize an empty polynomial of the same type as the input\n",
    "    new_poly = zero(poly)\n",
    "    \n",
    "    # Iterate over the terms and coefficients of the polynomial\n",
    "    for (monomial, coeff) in zip(monoms, coeffs)\n",
    "        # Check if the coefficient is above the threshold\n",
    "        if abs(coeff) >= threshold\n",
    "            # Add the term to the new polynomial\n",
    "            new_poly += coeff * monomial\n",
    "        else\n",
    "            # Check if the monomial has only odd powers\n",
    "            powers = exponents(monomial)\n",
    "            if all(p -> p % 2 == 0, powers)\n",
    "                # Add the term if it has even powers only\n",
    "                new_poly += coeff * monomial\n",
    "            end\n",
    "        end\n",
    "    end\n",
    "    \n",
    "    return new_poly\n",
    "end"
   ]
  },
  {
   "cell_type": "code",
   "execution_count": 41,
   "metadata": {},
   "outputs": [
    {
     "data": {
      "text/plain": [
       "coefficient_range (generic function with 1 method)"
      ]
     },
     "metadata": {},
     "output_type": "display_data"
    }
   ],
   "source": [
    "function coefficient_range(poly::Polynomial)\n",
    "    # Extract coefficients of the polynomial\n",
    "    coeffs = coefficients(poly)\n",
    "    \n",
    "    # Get the absolute values of the coefficients\n",
    "    abs_coeffs = abs.(coeffs)\n",
    "    \n",
    "    # Find the minimum and maximum coefficients in terms of magnitude\n",
    "    min_coeff = minimum(abs_coeffs)\n",
    "    max_coeff = maximum(abs_coeffs)\n",
    "    \n",
    "    # Calculate the ratio of the smallest to the largest coefficient\n",
    "    if max_coeff == 0\n",
    "        return 0.0  # Avoid division by zero if all coefficients are zero\n",
    "    else\n",
    "        return min_coeff / max_coeff\n",
    "    end\n",
    "end"
   ]
  },
  {
   "cell_type": "code",
   "execution_count": 75,
   "metadata": {},
   "outputs": [
    {
     "data": {
      "text/latex": [
       "$$ 0.10341163322607885ϵ^{2} - 4.104630886766538e-5ϵh_Re + 3.451755329501592e-5ϵh_Im + 3.1537359435344413e-21ϵγ + 1.0519096548020683h_Re^{2} + 0.0005179676236185148h_Reh_Im + 0.0012278271223203374h_Reγ + 1.0518715157602614h_Im^{2} - 0.0008250182359115614h_Imγ + 0.18256809044653088γ^{2} - 5.199679015672933ϵ + 0.00013669789552729324h_Re - 0.00035392288736811996h_Im - 0.09164160023232439γ + 65.37495321955478 $$"
      ],
      "text/plain": [
       "0.10341163322607885ϵ² - 4.104630886766538e-5ϵh_Re + 3.451755329501592e-5ϵh_Im + 3.1537359435344413e-21ϵγ + 1.0519096548020683h_Re² + 0.0005179676236185148h_Reh_Im + 0.0012278271223203374h_Reγ + 1.0518715157602614h_Im² - 0.0008250182359115614h_Imγ + 0.18256809044653088γ² - 5.199679015672933ϵ + 0.00013669789552729324h_Re - 0.00035392288736811996h_Im - 0.09164160023232439γ + 65.37495321955478"
      ]
     },
     "metadata": {},
     "output_type": "display_data"
    }
   ],
   "source": [
    "evol_data_file_name = \"../DATA/ALL_GAMMAS_B4_D10.h5\"\n",
    "\n",
    "γᵢ = \"0.25133\"\n",
    "\n",
    "tᵍᵉˣʸ , ρᵍᵉˣʸ  = read_GEXY_timeevolution(evol_data_file_name, γᵢ)\n",
    "polyGEXYfull = kossak_GEXY_obj(ρᵍᵉˣʸ, tᵍᵉˣʸ, Hˢʸᵐᵇ, Cˢʸᵐᵇ, fᴷᴼᴺᴮ)"
   ]
  },
  {
   "cell_type": "code",
   "execution_count": 76,
   "metadata": {},
   "outputs": [
    {
     "data": {
      "text/plain": [
       "4.8240737288835324e-23"
      ]
     },
     "metadata": {},
     "output_type": "display_data"
    }
   ],
   "source": [
    "coefficient_range(polyGEXYfull)"
   ]
  },
  {
   "cell_type": "code",
   "execution_count": 77,
   "metadata": {},
   "outputs": [
    {
     "data": {
      "text/plain": [
       "scaling_poly (generic function with 1 method)"
      ]
     },
     "metadata": {},
     "output_type": "display_data"
    }
   ],
   "source": [
    "function scaling_poly(p::Polynomial)\n",
    "    X = transpose(hcat([exponents(t) for t in terms(p)]...))\n",
    "\n",
    "    # Get the scaling via linear regression\n",
    "    scaling = X \\ log.(abs.(coefficients(p)))\n",
    "\n",
    "    exp.(abs.(scaling))\n",
    "end"
   ]
  },
  {
   "cell_type": "code",
   "execution_count": 78,
   "metadata": {},
   "outputs": [
    {
     "data": {
      "text/plain": [
       "min_cs_tssos_scaled (generic function with 1 method)"
      ]
     },
     "metadata": {},
     "output_type": "display_data"
    }
   ],
   "source": [
    "function min_cs_tssos_scaled(p, constrs)\n",
    "\n",
    "    coeffs = coefficients(p)\n",
    "\n",
    "    # find variable scaling\n",
    "    scale = scaling_poly(p)\n",
    "\n",
    "    # scale the polynomial\n",
    "    p_scaled = subs(p, variables(p) => scale .* variables(p))\n",
    "    constrs_scaled = subs.(constrs, variables(p) => scale .* variables(p))\n",
    "\n",
    "    # minimize\n",
    "    reg_coef = 0.0\n",
    "    # minimizer_scaled_tssos = nothing\n",
    "    pop =[p_scaled+reg_coef*sum(variables(p).^2), constrs_scaled...] ./ maximum(abs.(coeffs))\n",
    "\n",
    "    d = maxdegree(p)\n",
    "    \n",
    "    # Initial optimization step\n",
    "    opt, sol, data = cs_tssos_first(pop, variables(pop), d; solution=true, QUIET=true)\n",
    "    ref_sol, flag = TSSOS.refine_sol(opt, sol, data; QUIET=true)\n",
    "    prev_opt, prev_sol, prev_data = opt, sol, data \n",
    "\n",
    "    # Check if the solution needs further refinement\n",
    "    if flag != 0\n",
    "        while ~isnothing(sol) && flag != 0\n",
    "            prev_opt, prev_sol, prev_data = opt, sol, data\n",
    "            opt, sol, data = cs_tssos_higher!(data; solution=true, QUIET=true) \n",
    "        end\n",
    "        ref_sol, flag = TSSOS.refine_sol(prev_opt, prev_sol, prev_data; QUIET=true)\n",
    "    end\n",
    "\n",
    "    minimizer_scaled_tssos = scale .* ref_sol\n",
    "\n",
    "    solution = variables(p) => minimizer_scaled_tssos\n",
    "\n",
    "    if flag == 0 \n",
    "        status_name = \"GLOBAL\"\n",
    "    else\n",
    "        status_name = \"LOCAL/FAIL\"\n",
    "    end\n",
    "\n",
    "    return solution, status_name\n",
    "\n",
    "end\n",
    "  "
   ]
  },
  {
   "cell_type": "code",
   "execution_count": 67,
   "metadata": {},
   "outputs": [
    {
     "data": {
      "text/plain": [
       "min_cs_tssos (generic function with 1 method)"
      ]
     },
     "metadata": {},
     "output_type": "display_data"
    }
   ],
   "source": [
    "function min_cs_tssos(p, constrs)\n",
    "\n",
    "    coeffs = coefficients(p)\n",
    "    reg_coef = 0\n",
    "\n",
    "    pop =[p+reg_coef*sum(variables(p).^2), constrs...] ./ maximum(abs.(coeffs))\n",
    "\n",
    "    d = maxdegree(p)\n",
    "    \n",
    "    # Initial optimization step\n",
    "    opt, sol, data = cs_tssos_first(pop, variables(pop), d; solution=true, QUIET=true) #, numeq=1\n",
    "    ref_sol, flag = TSSOS.refine_sol(opt, sol, data; QUIET=true)\n",
    "    prev_opt, prev_sol, prev_data = opt, sol, data \n",
    "\n",
    "    # Check if the solution needs further refinement\n",
    "    if flag != 0\n",
    "        while ~isnothing(sol) && flag != 0\n",
    "            prev_opt, prev_sol, prev_data = opt, sol, data\n",
    "            opt, sol, data = cs_tssos_higher!(data; solution=true, QUIET=true) \n",
    "        end\n",
    "        ref_sol, flag = TSSOS.refine_sol(prev_opt, prev_sol, prev_data; QUIET=true)\n",
    "    end\n",
    "\n",
    "    solution = variables(p) => ref_sol\n",
    "\n",
    "    if flag == 0 \n",
    "        status_name = \"GLOBAL\"\n",
    "    else\n",
    "        status_name = \"LOCAL/FAIL\"\n",
    "    end\n",
    "\n",
    "    return solution, status_name\n",
    "\n",
    "end"
   ]
  },
  {
   "cell_type": "code",
   "execution_count": 79,
   "metadata": {},
   "outputs": [
    {
     "name": "stdout",
     "output_type": "stream",
     "text": [
      "*********************************** TSSOS ***********************************\n",
      "TSSOS is launching...\n",
      "-----------------------------------------------------------------------------\n",
      "The clique sizes of varibles:\n",
      "[4]\n",
      "[1]\n",
      "-----------------------------------------------------------------------------\n",
      "optimum = 2.6107764631349498e-5\n",
      "Global optimality certified with relative optimality gap 0.000008%!\n",
      "Global optimality certified with relative optimality gap 0.000008%!\n"
     ]
    },
    {
     "data": {
      "text/plain": [
       "(PolyVar{true}[ϵ, h_Re, h_Im, γ] => [25.140687157089673, 0.00027908781429849915, -0.0001459084097424582, 0.25097976099555785], \"GLOBAL\")"
      ]
     },
     "metadata": {},
     "output_type": "display_data"
    }
   ],
   "source": [
    "sol, st = min_cs_tssos(polyGEXYfull, constraints)"
   ]
  },
  {
   "cell_type": "code",
   "execution_count": 80,
   "metadata": {},
   "outputs": [
    {
     "data": {
      "text/plain": [
       "PolyVar{true}[ϵ, h_Re, h_Im, γ] => [25.140687157089673, 0.00027908781429849915, -0.0001459084097424582, 0.25097976099555785]"
      ]
     },
     "metadata": {},
     "output_type": "display_data"
    }
   ],
   "source": [
    "sol"
   ]
  },
  {
   "cell_type": "code",
   "execution_count": 81,
   "metadata": {},
   "outputs": [
    {
     "data": {
      "text/plain": [
       "3×3 Matrix{Term{true, Complex{Int64}}}:\n",
       " γ         (0+1im)γ  (0+0im)\n",
       " (0-1im)γ  γ         (0+0im)\n",
       " (0+0im)   (0+0im)   (0+0im)"
      ]
     },
     "metadata": {},
     "output_type": "display_data"
    }
   ],
   "source": [
    "Cˢʸᵐᵇ"
   ]
  },
  {
   "cell_type": "code",
   "execution_count": 82,
   "metadata": {},
   "outputs": [
    {
     "data": {
      "text/latex": [
       "$$ 0.25097976099555785 $$"
      ],
      "text/plain": [
       "0.25097976099555785"
      ]
     },
     "metadata": {},
     "output_type": "display_data"
    }
   ],
   "source": [
    "subs(γ, sol)"
   ]
  },
  {
   "cell_type": "code",
   "execution_count": 83,
   "metadata": {},
   "outputs": [
    {
     "data": {
      "text/plain": [
       "2×2 Matrix{Term{true, ComplexF64}}:\n",
       " (0.25098+0.0im)  (0.0+0.25098im)\n",
       " (0.0-0.25098im)  (0.25098+0.0im)"
      ]
     },
     "metadata": {},
     "output_type": "display_data"
    }
   ],
   "source": [
    "Cˢⁱᵈ = subs(Cˢʸᵐᵇ, sol)\n",
    "Cˢⁱᵈ[1:2,1:2]"
   ]
  },
  {
   "cell_type": "code",
   "execution_count": 84,
   "metadata": {},
   "outputs": [
    {
     "data": {
      "text/plain": [
       "3×3 Matrix{Term{true, ComplexF64}}:\n",
       " (0.25098+0.0im)  (0.0+0.25098im)  (0.0+0.0im)\n",
       " (0.0-0.25098im)  (0.25098+0.0im)  (0.0+0.0im)\n",
       " (0.0+0.0im)      (0.0+0.0im)      (0.0+0.0im)"
      ]
     },
     "metadata": {},
     "output_type": "display_data"
    }
   ],
   "source": [
    "Cˢⁱᵈ"
   ]
  },
  {
   "cell_type": "code",
   "execution_count": 86,
   "metadata": {},
   "outputs": [
    {
     "name": "stdout",
     "output_type": "stream",
     "text": [
      "*********************************** TSSOS ***********************************\n",
      "TSSOS is launching...\n",
      "-----------------------------------------------------------------------------\n",
      "The clique sizes of varibles:\n",
      "[3, 1]\n",
      "[1, 1]\n",
      "-----------------------------------------------------------------------------\n",
      "optimum = 2.606932763355857e-5\n",
      "Global optimality certified with relative optimality gap 0.000004%!\n",
      "Global optimality certified with relative optimality gap 0.000004%!\n"
     ]
    },
    {
     "data": {
      "text/plain": [
       "(PolyVar{true}[ϵ, h_Re, h_Im, γ] => [25.140687077350453, -0.00021151957805826737, 0.0002667138757670645, 0.25098234303232214], \"GLOBAL\")"
      ]
     },
     "metadata": {},
     "output_type": "display_data"
    }
   ],
   "source": [
    "sol, st = min_cs_tssos(filter_odd_terms_by_relative_threshold(polyGEXYfull, 1e-6), constraints)"
   ]
  },
  {
   "cell_type": "code",
   "execution_count": 24,
   "metadata": {},
   "outputs": [
    {
     "data": {
      "text/plain": [
       "\"GLOBAL\""
      ]
     },
     "execution_count": 24,
     "metadata": {},
     "output_type": "execute_result"
    }
   ],
   "source": [
    "st"
   ]
  },
  {
   "cell_type": "code",
   "execution_count": 87,
   "metadata": {},
   "outputs": [
    {
     "data": {
      "text/plain": [
       "2×2 Matrix{ComplexF64}:\n",
       " 0.250982+0.0im            0.0+0.250982im\n",
       "      0.0-0.250982im  0.250982+0.0im"
      ]
     },
     "metadata": {},
     "output_type": "display_data"
    }
   ],
   "source": [
    "Cˢⁱᵈ = convert.(ComplexF64,subs(Cˢʸᵐᵇ, sol))\n",
    "Cˢⁱᵈ[1:2,1:2]"
   ]
  },
  {
   "cell_type": "code",
   "execution_count": 88,
   "metadata": {},
   "outputs": [
    {
     "data": {
      "text/plain": [
       "2×2 Matrix{ComplexF64}:\n",
       "     12.5703+0.0im          -0.00010576+0.000133357im\n",
       " -0.00010576-0.000133357im     -12.5703+0.0im"
      ]
     },
     "metadata": {},
     "output_type": "display_data"
    }
   ],
   "source": [
    "Hˢⁱᵈ = convert.(ComplexF64, subs(Hˢʸᵐᵇ, sol))"
   ]
  },
  {
   "cell_type": "code",
   "execution_count": 89,
   "metadata": {},
   "outputs": [
    {
     "name": "stdout",
     "output_type": "stream",
     "text": [
      " SYSTEM IDENTIFICATION w CONSTRAINED ANZ TSSOS and KOSSAKOWSKI Frobenius objective QO simulation\n",
      "γ =  0.079477\n",
      "minimum(abs.(coefficients(polyGEXY))) = 0.00010716999563516075\n",
      "maximum(abs.(coefficients(polyGEXY))) = 501.8627949039175\n",
      "*********************************** TSSOS ***********************************\n",
      "TSSOS is launching...\n",
      "-----------------------------------------------------------------------------\n",
      "The clique sizes of varibles:\n",
      "[3]\n",
      "[2]\n",
      "-----------------------------------------------------------------------------\n",
      "optimum = 2.6479071067174355e-6\n",
      "Global optimality certified with relative optimality gap 0.000004%!\n",
      "Global optimality certified with relative optimality gap 0.000004%!\n",
      " status:GLOBAL\n",
      "D1 D2 D3 D4 D5 D6 D7 D8 D9 D10 Median fidelity for 0.079477: 0.9996374884207944\n",
      "γ =  0.25133\n",
      "minimum(abs.(coefficients(polyGEXY))) = 3.451755329501592e-5\n",
      "maximum(abs.(coefficients(polyGEXY))) = 65.37495321955478\n",
      "*********************************** TSSOS ***********************************\n",
      "TSSOS is launching...\n",
      "-----------------------------------------------------------------------------\n",
      "The clique sizes of varibles:\n",
      "[3]\n",
      "[2]\n",
      "-----------------------------------------------------------------------------\n",
      "optimum = 2.6079828609055724e-5\n",
      "Global optimality certified with relative optimality gap 0.000005%!\n",
      "Global optimality certified with relative optimality gap 0.000005%!\n",
      " status:GLOBAL\n",
      "D1 D2 D3 D4 D5 D6 D7 D8 D9 D10 Median fidelity for 0.25133: 0.9999366258831658\n",
      "γ =  0.79477\n",
      "minimum(abs.(coefficients(polyGEXY))) = 2.1434036477812506e-6\n",
      "maximum(abs.(coefficients(polyGEXY))) = 7.630493479021682\n",
      "*********************************** TSSOS ***********************************\n",
      "TSSOS is launching...\n",
      "-----------------------------------------------------------------------------\n",
      "The clique sizes of varibles:\n",
      "[3]\n",
      "[2]\n",
      "-----------------------------------------------------------------------------\n",
      "optimum = 0.00025798173243281346\n",
      "Global optimality certified with relative optimality gap 0.000008%!\n",
      "Global optimality certified with relative optimality gap 0.000008%!\n",
      " status:GLOBAL\n",
      "D1 D2 D3 D4 D5 D6 D7 D8 D9 D10 Median fidelity for 0.79477: 0.9994696910205513\n",
      "γ =  2.5133\n",
      "minimum(abs.(coefficients(polyGEXY))) = 1.780563581016409e-7\n",
      "maximum(abs.(coefficients(polyGEXY))) = 1.121995426822635\n",
      "*********************************** TSSOS ***********************************\n",
      "TSSOS is launching...\n",
      "-----------------------------------------------------------------------------\n",
      "The clique sizes of varibles:\n",
      "[3]\n",
      "[2]\n",
      "-----------------------------------------------------------------------------\n",
      "optimum = 0.0028182791891570146\n",
      "Global optimality certified with relative optimality gap 0.000014%!\n",
      "Global optimality certified with relative optimality gap 0.000014%!\n",
      " status:GLOBAL\n",
      "D1 D2 D3 D4 D5 D6 D7 D8 D9 D10 Median fidelity for 2.5133: 0.9975373695085814\n",
      "γ =  7.9477\n",
      "minimum(abs.(coefficients(polyGEXY))) = 6.32778630779926e-6\n",
      "maximum(abs.(coefficients(polyGEXY))) = 0.11832188705831992\n",
      "*********************************** TSSOS ***********************************\n",
      "TSSOS is launching...\n",
      "-----------------------------------------------------------------------------\n",
      "The clique sizes of varibles:\n",
      "[3]\n",
      "[2]\n",
      "-----------------------------------------------------------------------------\n",
      "optimum = 0.04236245018556194\n",
      "Global optimality certified with relative optimality gap 0.000008%!\n",
      "Global optimality certified with relative optimality gap 0.000008%!\n",
      " status:GLOBAL\n",
      "D1 D2 D3 D4 D5 D6 D7 D8 D9 D10 Median fidelity for 7.9477: 0.9918039181169431\n",
      "γ =  25.133\n",
      "minimum(abs.(coefficients(polyGEXY))) = 2.355416300923297e-6\n",
      "maximum(abs.(coefficients(polyGEXY))) = 0.009218407490170819\n",
      "*********************************** TSSOS ***********************************\n",
      "TSSOS is launching...\n",
      "-----------------------------------------------------------------------------\n",
      "The clique sizes of varibles:\n",
      "[3]\n",
      "[2]\n",
      "-----------------------------------------------------------------------------\n",
      "optimum = 0.3554946681587009\n",
      "Global optimality certified with relative optimality gap 0.000018%!\n",
      "Global optimality certified with relative optimality gap 0.000018%!\n",
      " status:GLOBAL\n",
      "D1 D2 D3 D4 D5 D6 D7 D8 D9 D10 Median fidelity for 25.133: 0.9710263246483577\n",
      "γ =  79.477\n",
      "minimum(abs.(coefficients(polyGEXY))) = 1.719930549343024e-7\n",
      "maximum(abs.(coefficients(polyGEXY))) = 0.013675976274955318\n",
      "*********************************** TSSOS ***********************************\n",
      "TSSOS is launching...\n",
      "-----------------------------------------------------------------------------\n",
      "The clique sizes of varibles:\n",
      "[3]\n",
      "[2]\n",
      "-----------------------------------------------------------------------------\n",
      "optimum = 0.9042429188909018\n",
      "Global optimality certified with relative optimality gap 0.000012%!\n",
      "Global optimality certified with relative optimality gap 0.000012%!\n",
      " status:GLOBAL\n",
      "D1 D2 D3 D4 D5 D6 D7 D8 D9 D10 Median fidelity for 79.477: 0.9208411942335419\n",
      "γ =  251.33\n",
      "minimum(abs.(coefficients(polyGEXY))) = 3.1754410231438107e-9\n",
      "maximum(abs.(coefficients(polyGEXY))) = 0.037269208611722865\n",
      "*********************************** TSSOS ***********************************\n",
      "TSSOS is launching...\n",
      "-----------------------------------------------------------------------------\n",
      "The clique sizes of varibles:\n",
      "[3]\n",
      "[2]\n",
      "-----------------------------------------------------------------------------\n",
      "optimum = 0.9719388802740156\n",
      "Global optimality certified with relative optimality gap 0.000017%!\n",
      "Global optimality certified with relative optimality gap 0.000017%!\n",
      " status:GLOBAL\n",
      "D1 D2 D3 D4 D5 D6 D7 D8 D9 D10 Median fidelity for 251.33: 0.8842878316587026\n",
      "POP_NEW_TSSOS_KOS_CONSTR_ANZ_treshold_1e-12_FROB_QO_2024-Aug-19_at_16-10.h5\n"
     ]
    }
   ],
   "source": [
    "println(\" SYSTEM IDENTIFICATION w CONSTRAINED ANZ TSSOS and KOSSAKOWSKI Frobenius objective QO simulation\")\n",
    "\n",
    "γ = [ \"0.079477\",  \"0.25133\", \"0.79477\", \"2.5133\", \"7.9477\", \"25.133\", \"79.477\", \"251.33\"]\n",
    "\n",
    "date_and_time_string =  string(Dates.format(now(), \"yyyy-u-dd_at_HH-MM\"))\n",
    "\n",
    "evol_data_file_name = \"../DATA/ALL_GAMMAS_B4_D10.h5\"\n",
    "\n",
    "relative_threshold = 1e-12\n",
    "\n",
    "rltrs = string(convert(Int, floor(log10(relative_threshold))))\n",
    "\n",
    "tests_data_file_name = \"POP_NEW_TSSOS_KOS_CONSTR_ANZ_treshold_1e\"*rltrs*\"_FROB_QO_\"*date_and_time_string * \".h5\"\n",
    "\n",
    "#relative_threshold = 0\n",
    "#tests_data_file_name = \"POP_NEW_TSSOS_KOS_CONSTR_NOtreshold_FROB_QO_\"*date_and_time_string * \".h5\"\n",
    "\n",
    "FminGammas = []\n",
    "FmedianGammas = []\n",
    "FmeanGammas = []\n",
    "Epsilons = []\n",
    "CoefRanges = []\n",
    "#Markovianity = []\n",
    "\n",
    "for γᵢ in γ\n",
    "\n",
    "    println(\"γ =  \"*γᵢ)\n",
    "\n",
    "    tᵍᵉˣʸ , ρᵍᵉˣʸ  = read_GEXY_timeevolution(evol_data_file_name, γᵢ)\n",
    "    polyGEXYfull = kossak_GEXY_obj(ρᵍᵉˣʸ, tᵍᵉˣʸ, Hˢʸᵐᵇ, Cˢʸᵐᵇ, fᴷᴼᴺᴮ)\n",
    "\n",
    "    push!(CoefRanges, coefficient_range(polyGEXYfull))\n",
    "\n",
    "    #polyGEXY = polyGEXYfull\n",
    "    polyGEXY = filter_odd_terms_by_relative_threshold(polyGEXYfull, relative_threshold)\n",
    "\n",
    "    @show minimum(abs.(coefficients(polyGEXY)))\n",
    "    @show maximum(abs.(coefficients(polyGEXY)))\n",
    "\n",
    "    #sol, opt_val, status = CtrlSID.cs_tssos(polyGEXY, constraints)\n",
    "    sol, status = min_cs_tssos(polyGEXY, constraints)\n",
    "\n",
    "    print(\" status:\", status)\n",
    "\n",
    "    Hˢⁱᵈ = convert.(ComplexF64, subs(Hˢʸᵐᵇ, sol))\n",
    "    Cˢⁱᵈ = convert.(ComplexF64,subs(Cˢʸᵐᵇ, sol))\n",
    "    epsilon = subs(ϵ, sol)\n",
    "\n",
    "    push!(Epsilons, epsilon)\n",
    "    \n",
    "    h5open(tests_dir*tests_data_file_name,\"cw\") do fid\n",
    "        γ_group = create_group(fid, γᵢ) # create gamma coupling group   \n",
    "        γ_group[\"epsilon\"] = convert(Float64, epsilon)\n",
    "        γ_group[\"H\"] = convert.(ComplexF64, Hˢⁱᵈ)\n",
    "        γ_group[\"C\"] = convert.(ComplexF64, Cˢⁱᵈ)\n",
    "        γ_group[\"status\"] = status\n",
    "\n",
    "    end\n",
    "\n",
    "    println()\n",
    "\n",
    "    FminStates = []\n",
    "    FmedianStates = []\n",
    "    FmeanStates = []\n",
    "\n",
    "    for state in test_states # loop over initial states\n",
    "        \n",
    "        print(state*\" \")\n",
    "\n",
    "        start_time = time()\n",
    "\n",
    "        tₛ, ρₛ = read_timeevolution(evol_data_file_name, state, γᵢ)\n",
    "        ρₛ = convert(Vector{Matrix{ComplexF64}}, ρₛ)\n",
    "        #bᵗˢᵗ = LiPoSID.bloch(ρₛ)\n",
    "        ρᵗˢᵗ = [DenseOperator(basis,Hermitian(ρₜ)) for ρₜ in ρₛ]\n",
    "        tᵗˢᵗ = convert(Vector{Float64}, tₛ)\n",
    "\n",
    "        ρₒ = DenseOperator(basis, ρₛ[1])\n",
    "        dt = tᵗˢᵗ[2] - tᵗˢᵗ[1]\n",
    "        tᵉⁿᵈ = tᵗˢᵗ[end]\n",
    "\n",
    "        #print(\"effective_Lindblad_ops for Kossakowski\")\n",
    "\n",
    "        effective_Lindblad = get_lindblad_operators(convert.(ComplexF64, Cˢⁱᵈ), fᴷᴼᴺᴮ)\n",
    "        effective_Lindblad_ops = [DenseOperator(basis,j) for j in effective_Lindblad]\n",
    "\n",
    "        #print(\"Simulating Kossakowski\")\n",
    "\n",
    "        tout, ρ_t_kossak = timeevolution.master(convert.(Float64, tᵗˢᵗ), ρₒ, DenseOperator(basis, Hˢⁱᵈ), effective_Lindblad_ops)\n",
    "        ρˢⁱᵈ  = [ρₜ.data for ρₜ in ρ_t_kossak]\n",
    "\n",
    "        #bˢⁱᵈ = LiPoSID.bloch(ρˢⁱᵈ)\n",
    "\n",
    "        F = LiPoSID.fidelity_series(basis, ρₛ, ρˢⁱᵈ)\n",
    "\n",
    "        #Fᴸᴹᴱₑₓ = [abs(fidelity(ρ₁, ρ₂)) for (ρ₁, ρ₂) in zip(ρᵗˢᵗ, ρˢⁱᵈ)]   \n",
    "\n",
    "        h5open(tests_dir*tests_data_file_name,\"cw\") do fid\n",
    "            γ_group = open_group(fid, γᵢ) # open gamma coupling group\n",
    "            init_state_group = create_group(γ_group, state) # create initial state group\n",
    "            init_state_group[\"Fidelity\"] = convert.(Float64, F)\n",
    "            #init_state_group[\"bloch_exact\"] = convert.(Float64, bᵗˢᵗ)\n",
    "            #init_state_group[\"bloch_sid\"] = convert.(Float64, bˢⁱᵈ)\n",
    "            init_state_group[\"tr_dist_grnd\"] = TrDist(ρₛ[1], ρᵍ₀)\n",
    "            init_state_group[\"time\"] = tᵗˢᵗ\n",
    "        end\n",
    "        \n",
    "        FminState = minimum(F)\n",
    "        FmedianState = mean(F)\n",
    "        FmeanState = mean(F)\n",
    "        \n",
    "        push!(FminStates, FminState)\n",
    "        push!(FmedianStates, FmedianState)\n",
    "        push!(FmeanStates, FmeanState)\n",
    "    \n",
    "    end\n",
    "\n",
    "    # Calculate the mean\n",
    "    F_mean_value = mean(FmeanStates)\n",
    "\n",
    "    # Calculate the median\n",
    "    F_median_value = median(FmedianStates)\n",
    "\n",
    "    # Calculate the min\n",
    "    F_min_value = minimum(FminStates)\n",
    "\n",
    "    push!(FminGammas, F_min_value)\n",
    "    push!(FmedianGammas, F_median_value)\n",
    "    push!(FmeanGammas, F_mean_value)\n",
    "\n",
    "    println(\"Median fidelity for \"*γᵢ*\": \", F_median_value)\n",
    "\n",
    "end\n",
    "\n",
    "h5open(tests_dir*tests_data_file_name,\"cw\") do fid\n",
    "    fid[\"F_min\"] = convert.(Float64,FminGammas)\n",
    "    fid[\"F_median\"] = convert.(Float64,FmedianGammas)\n",
    "    fid[\"F_mean\"] = convert.(Float64,FmeanGammas)\n",
    "    fid[\"Energy\"] = convert.(Float64,Epsilons)\n",
    "    fid[\"CoefsRanges\"] = convert.(Float64,CoefRanges)\n",
    "\n",
    "end\n",
    "\n",
    "\n",
    "println(tests_data_file_name)"
   ]
  },
  {
   "cell_type": "code",
   "execution_count": 12,
   "metadata": {},
   "outputs": [
    {
     "name": "stdout",
     "output_type": "stream",
     "text": [
      " SYSTEM IDENTIFICATION w CONSTRAINED TSSOS and KOSSAKOWSKI objective QO simulation\n",
      "γ =  0.079477\n",
      "minimum(abs.(coefficients(polyGEXY))) = 0.00010716999563516075\n",
      "maximum(abs.(coefficients(polyGEXY))) = 501.8627949039175\n",
      " status:Local\n",
      "D1 D2 D3 D4 D5 D6 D7 D8 D9 D10 Median fidelity for 0.079477: 0.9976226185525447\n",
      "γ =  0.25133\n",
      "minimum(abs.(coefficients(polyGEXY))) = 3.45175532950157e-5\n",
      "maximum(abs.(coefficients(polyGEXY))) = 65.37495321955478\n",
      " status:Local\n",
      "D1 D2 D3 D4 D5 D6 D7 D8 D9 D10 Median fidelity for 0.25133: 0.996633883661821\n",
      "γ =  0.79477\n",
      "minimum(abs.(coefficients(polyGEXY))) = 2.1434036477811963e-6\n",
      "maximum(abs.(coefficients(polyGEXY))) = 7.630493479021682\n",
      " status:Local\n",
      "D1 D2 D3 D4 D5 D6 D7 D8 D9 D10 Median fidelity for 0.79477: 0.997693174205029\n",
      "γ =  2.5133\n",
      "minimum(abs.(coefficients(polyGEXY))) = 1.780563581016409e-7\n",
      "maximum(abs.(coefficients(polyGEXY))) = 1.121995426822635\n",
      " status:Local\n",
      "D1 D2 D3 D4 D5 D6 D7 D8 D9 D10 Median fidelity for 2.5133: 0.9990491303024693\n",
      "γ =  7.9477\n",
      "minimum(abs.(coefficients(polyGEXY))) = 6.32778630779926e-6\n",
      "maximum(abs.(coefficients(polyGEXY))) = 0.11832188705831992\n",
      " status:Local\n",
      "D1 D2 D3 D4 D5 D6 D7 D8 D9 D10 Median fidelity for 7.9477: 0.9996748500339911\n",
      "γ =  25.133\n",
      "minimum(abs.(coefficients(polyGEXY))) = 2.355416300923297e-6\n",
      "maximum(abs.(coefficients(polyGEXY))) = 0.009218407490170819\n",
      " status:Local\n",
      "D1 D2 D3 D4 D5 D6 D7 D8 D9 D10 Median fidelity for 25.133: 0.996864583881448\n",
      "γ =  79.477\n",
      "minimum(abs.(coefficients(polyGEXY))) = 1.719930549343024e-7\n",
      "maximum(abs.(coefficients(polyGEXY))) = 0.013675976274955318\n",
      " status:Local\n",
      "D1 D2 D3 D4 D5 D6 D7 D8 D9 D10 Median fidelity for 79.477: 0.9989415676851772\n",
      "γ =  251.33\n",
      "minimum(abs.(coefficients(polyGEXY))) = 3.1754410231438107e-9\n",
      "maximum(abs.(coefficients(polyGEXY))) = 0.037269208611722865\n",
      " status:Local\n",
      "D1 D2 D3 D4 D5 D6 D7 D8 D9 D10 Median fidelity for 251.33: 0.9993933099410404\n",
      "POP_NEW_TSSOS_KOS_QO_sim2024-Jul-18_at_15-59.h5\n"
     ]
    }
   ],
   "source": []
  },
  {
   "cell_type": "code",
   "execution_count": 9,
   "metadata": {},
   "outputs": [
    {
     "name": "stdout",
     "output_type": "stream",
     "text": [
      " SYSTEM IDENTIFICATION w CONSTRAINED TSSOS and KOSSAKOWSKI objective QO simulation\n",
      "γ =  0.079477\n",
      "minimum(abs.(coefficients(polyGEXY))) = 7.16715101396591e-37\n",
      "maximum(abs.(coefficients(polyGEXY))) = 501.8627949039175\n",
      " status:Local\n",
      "D1 D2 D3 D4 D5 D6 D7 D8 D9 D10 Median fidelity for 0.079477: 0.9976226185525441\n",
      "γ =  0.25133\n",
      "minimum(abs.(coefficients(polyGEXY))) = 4.658513032068184e-37\n",
      "maximum(abs.(coefficients(polyGEXY))) = 65.37495321955478\n",
      " status:Local\n",
      "D1 D2 D3 D4 D5 D6 D7 D8 D9 D10 Median fidelity for 0.25133: 0.9966338836618186\n",
      "γ =  0.79477\n",
      "minimum(abs.(coefficients(polyGEXY))) = 5.527952391752069e-38\n",
      "maximum(abs.(coefficients(polyGEXY))) = 7.630493479021682\n",
      " status:Local\n",
      "D1 D2 D3 D4 D5 D6 D7 D8 D9 D10 Median fidelity for 0.79477: 0.9976931742050117\n",
      "γ =  2.5133\n",
      "minimum(abs.(coefficients(polyGEXY))) = 9.073762994668326e-39\n",
      "maximum(abs.(coefficients(polyGEXY))) = 1.121995426822635\n",
      " status:Local\n",
      "D1 D2 D3 D4 D5 D6 D7 D8 D9 D10 Median fidelity for 2.5133: 0.9990491303025519\n",
      "γ =  7.9477\n",
      "minimum(abs.(coefficients(polyGEXY))) = 1.7193461182350876e-39\n",
      "maximum(abs.(coefficients(polyGEXY))) = 0.11832188705831992\n",
      " status:Local\n",
      "D1 D2 D3 D4 D5 D6 D7 D8 D9 D10 Median fidelity for 7.9477: 0.9996748500339911\n",
      "γ =  25.133\n",
      "minimum(abs.(coefficients(polyGEXY))) = 6.367480048803581e-42\n",
      "maximum(abs.(coefficients(polyGEXY))) = 0.009218407490170819\n",
      " status:Local\n",
      "D1 D2 D3 D4 D5 D6 D7 D8 D9 D10 Median fidelity for 25.133: 0.996864583881448\n",
      "γ =  79.477\n",
      "minimum(abs.(coefficients(polyGEXY))) = 1.8791391190471421e-41\n",
      "maximum(abs.(coefficients(polyGEXY))) = 0.013675976274955318\n",
      " status:Local\n",
      "D1 D2 D3 D4 D5 D6 D7 D8 D9 D10 Median fidelity for 79.477: 0.9989415676851772\n",
      "γ =  251.33\n",
      "minimum(abs.(coefficients(polyGEXY))) = 8.220398829785196e-42\n",
      "maximum(abs.(coefficients(polyGEXY))) = 0.037269208611722865\n",
      " status:Local\n",
      "D1 D2 D3 D4 D5 D6 D7 D8 D9 D10 Median fidelity for 251.33: 0.9993933099410404\n",
      "POP_NEW_TSSOS_KOS_QO_sim2024-Jul-18_at_15-54.h5\n"
     ]
    }
   ],
   "source": []
  },
  {
   "cell_type": "code",
   "execution_count": 19,
   "metadata": {},
   "outputs": [
    {
     "name": "stdout",
     "output_type": "stream",
     "text": [
      " SYSTEM IDENTIFICATION w CONSTRAINED TSSOS and KOSSAKOWSKI objective QO simulation\n",
      "γ =  0.079477\n",
      " status:Local\n",
      "D1 effective_Lindblad_opsSimulating KossakowskiD2 effective_Lindblad_opsSimulating KossakowskiD3 effective_Lindblad_opsSimulating KossakowskiD4 effective_Lindblad_opsSimulating KossakowskiD5 effective_Lindblad_opsSimulating KossakowskiD6 effective_Lindblad_opsSimulating KossakowskiD7 effective_Lindblad_opsSimulating KossakowskiD8 effective_Lindblad_opsSimulating KossakowskiD9 effective_Lindblad_opsSimulating KossakowskiD10 effective_Lindblad_opsSimulating KossakowskiMedian fidelity for 0.079477: 0.9976226185525441\n",
      "γ =  0.25133\n",
      " status:Local\n",
      "D1 effective_Lindblad_opsSimulating KossakowskiD2 effective_Lindblad_opsSimulating KossakowskiD3 effective_Lindblad_opsSimulating KossakowskiD4 effective_Lindblad_opsSimulating KossakowskiD5 effective_Lindblad_opsSimulating KossakowskiD6 effective_Lindblad_opsSimulating KossakowskiD7 effective_Lindblad_opsSimulating KossakowskiD8 effective_Lindblad_opsSimulating KossakowskiD9 effective_Lindblad_opsSimulating KossakowskiD10 effective_Lindblad_opsSimulating KossakowskiMedian fidelity for 0.25133: 0.9966338836618186\n",
      "γ =  0.79477\n",
      " status:Local\n",
      "D1 effective_Lindblad_opsSimulating KossakowskiD2 effective_Lindblad_opsSimulating KossakowskiD3 effective_Lindblad_opsSimulating KossakowskiD4 effective_Lindblad_opsSimulating KossakowskiD5 effective_Lindblad_opsSimulating KossakowskiD6 effective_Lindblad_opsSimulating KossakowskiD7 effective_Lindblad_opsSimulating KossakowskiD8 effective_Lindblad_opsSimulating KossakowskiD9 effective_Lindblad_opsSimulating KossakowskiD10 effective_Lindblad_opsSimulating KossakowskiMedian fidelity for 0.79477: 0.9976931742050117\n",
      "γ =  2.5133\n",
      " status:Local\n",
      "D1 effective_Lindblad_opsSimulating KossakowskiD2 effective_Lindblad_opsSimulating KossakowskiD3 effective_Lindblad_opsSimulating KossakowskiD4 effective_Lindblad_opsSimulating KossakowskiD5 effective_Lindblad_opsSimulating KossakowskiD6 effective_Lindblad_opsSimulating KossakowskiD7 effective_Lindblad_opsSimulating KossakowskiD8 effective_Lindblad_opsSimulating KossakowskiD9 effective_Lindblad_opsSimulating KossakowskiD10 effective_Lindblad_opsSimulating KossakowskiMedian fidelity for 2.5133: 0.9990491303025519\n",
      "γ =  7.9477\n",
      " status:Local\n",
      "D1 effective_Lindblad_opsSimulating KossakowskiD2 effective_Lindblad_opsSimulating KossakowskiD3 effective_Lindblad_opsSimulating KossakowskiD4 effective_Lindblad_opsSimulating KossakowskiD5 effective_Lindblad_opsSimulating KossakowskiD6 effective_Lindblad_opsSimulating KossakowskiD7 effective_Lindblad_opsSimulating KossakowskiD8 effective_Lindblad_opsSimulating KossakowskiD9 effective_Lindblad_opsSimulating KossakowskiD10 effective_Lindblad_opsSimulating KossakowskiMedian fidelity for 7.9477: 0.9996748500339911\n",
      "γ =  25.133\n",
      " status:Local\n",
      "D1 effective_Lindblad_opsSimulating KossakowskiD2 effective_Lindblad_opsSimulating KossakowskiD3 effective_Lindblad_opsSimulating KossakowskiD4 effective_Lindblad_opsSimulating KossakowskiD5 effective_Lindblad_opsSimulating KossakowskiD6 effective_Lindblad_opsSimulating KossakowskiD7 effective_Lindblad_opsSimulating KossakowskiD8 effective_Lindblad_opsSimulating KossakowskiD9 effective_Lindblad_opsSimulating KossakowskiD10 effective_Lindblad_opsSimulating KossakowskiMedian fidelity for 25.133: 0.996864583881448\n",
      "γ =  79.477\n",
      " status:Local\n",
      "D1 effective_Lindblad_opsSimulating KossakowskiD2 effective_Lindblad_opsSimulating KossakowskiD3 effective_Lindblad_opsSimulating KossakowskiD4 effective_Lindblad_opsSimulating KossakowskiD5 effective_Lindblad_opsSimulating KossakowskiD6 effective_Lindblad_opsSimulating KossakowskiD7 effective_Lindblad_opsSimulating KossakowskiD8 effective_Lindblad_opsSimulating KossakowskiD9 effective_Lindblad_opsSimulating KossakowskiD10 effective_Lindblad_opsSimulating KossakowskiMedian fidelity for 79.477: 0.9989415676851772\n",
      "γ =  251.33\n",
      " status:Local\n",
      "D1 effective_Lindblad_opsSimulating KossakowskiD2 effective_Lindblad_opsSimulating KossakowskiD3 effective_Lindblad_opsSimulating KossakowskiD4 effective_Lindblad_opsSimulating KossakowskiD5 effective_Lindblad_opsSimulating KossakowskiD6 effective_Lindblad_opsSimulating KossakowskiD7 effective_Lindblad_opsSimulating KossakowskiD8 effective_Lindblad_opsSimulating KossakowskiD9 effective_Lindblad_opsSimulating KossakowskiD10 effective_Lindblad_opsSimulating KossakowskiMedian fidelity for 251.33: 0.9993933099410404\n",
      "POP_NEW_TSSOS_KOS_QO_sim2024-Jul-18_at_12-19.h5\n"
     ]
    }
   ],
   "source": []
  },
  {
   "cell_type": "code",
   "execution_count": 17,
   "metadata": {},
   "outputs": [
    {
     "name": "stdout",
     "output_type": "stream",
     "text": [
      " SYSTEM IDENTIFICATION w CONSTRAINED TSSOS and KOSSAKOWSKI objective\n",
      "γ =  0.079477\n",
      " status:Local\n",
      "D1 D2 D3 D4 D5 D6 D7 D8 D9 D10 Median fidelity for 0.079477: 0.9977046690410768\n",
      "γ =  0.25133\n",
      " status:Local\n",
      "D1 D2 D3 D4 D5 D6 D7 D8 D9 D10 Median fidelity for 0.25133: 0.9966807880531685\n",
      "γ =  0.79477\n",
      " status:Local\n",
      "D1 D2 D3 D4 D5 D6 D7 D8 D9 D10 Median fidelity for 0.79477: 0.9977004864050036\n",
      "γ =  2.5133\n",
      " status:Local\n",
      "D1 D2 D3 D4 D5 D6 D7 D8 D9 D10 Median fidelity for 2.5133: 0.999049835240695\n",
      "γ =  7.9477\n",
      " status:Local\n",
      "D1 D2 D3 D4 D5 D6 D7 D8 D9 D10 Median fidelity for 7.9477: 0.9996748517732994\n",
      "γ =  25.133\n",
      " status:Local\n",
      "D1 D2 D3 D4 D5 D6 D7 D8 D9 D10 Median fidelity for 25.133: 0.9968645845347491\n",
      "γ =  79.477\n",
      " status:Local\n",
      "D1 D2 D3 D4 D5 D6 D7 D8 D9 D10 Median fidelity for 79.477: 0.9989415677938539\n",
      "γ =  251.33\n",
      " status:Local\n",
      "D1 D2 D3 D4 D5 D6 D7 D8 D9 D10 Median fidelity for 251.33: 0.999393310891379\n",
      "POP_NEW_TSSOS_KOS_2024-Jun-15_at_04-22.h5\n"
     ]
    }
   ],
   "source": []
  },
  {
   "cell_type": "code",
   "execution_count": 18,
   "metadata": {},
   "outputs": [
    {
     "name": "stdout",
     "output_type": "stream",
     "text": [
      "POP_NEW_TSSOS_KOS_2024-Jun-15_at_04-22.h5\n"
     ]
    }
   ],
   "source": [
    "println(tests_data_file_name)"
   ]
  }
 ],
 "metadata": {
  "kernelspec": {
   "display_name": "Julia 1.10.2",
   "language": "julia",
   "name": "julia-1.10"
  },
  "language_info": {
   "file_extension": ".jl",
   "mimetype": "application/julia",
   "name": "julia",
   "version": "1.10.2"
  }
 },
 "nbformat": 4,
 "nbformat_minor": 2
}
