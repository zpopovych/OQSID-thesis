{
 "cells": [
  {
   "cell_type": "code",
   "execution_count": 1,
   "metadata": {},
   "outputs": [],
   "source": [
    "include(\"../LiPoSID.jl\")\n",
    "\n",
    "#include(\"CtrlSID.jl\")\n",
    "\n",
    "\n",
    "using QuantumOptics\n",
    "basis = NLevelBasis(2)\n",
    "using LinearAlgebra\n",
    "\n",
    "using HDF5\n",
    "using DynamicPolynomials\n",
    "\n",
    "using Dates\n",
    "\n",
    "using Statistics\n",
    "\n",
    "using TSSOS"
   ]
  },
  {
   "cell_type": "markdown",
   "metadata": {},
   "source": [
    "Consider simple Lindblad master equation with two dissipators:\n",
    "\n",
    "$\n",
    "    \\frac{d\\rho}{dt} = -\\frac{i}{\\hbar} [H,\\rho(t)] + \\mathcal{D}[\\rho(t)] = - \\frac{i}{\\hbar}[H, \\rho]+\\sum_{\\ell=1}^{s-1}\\left[J_\\ell \\rho J_\\ell^\\dagger - \\frac{1}{2}\\left\\{ J_\\ell^\\dagger J_\\ell, \\rho \\right\\} \\right],\n",
    "$\n",
    "\n",
    "where Hamiltonian is hermitian with one of the diagonal elemnets set to zero\n",
    "\n",
    "\n",
    "$\n",
    "    H = \\begin{pmatrix} w & 0 \\\\ 0 & 0\n",
    "   \\end{pmatrix}\n",
    "$\n",
    "\n",
    " withot loss of generality we can possibly look for jump operator of the form:\n",
    "\n",
    "$\n",
    "J_1 = \\begin{pmatrix} 0 & a \\\\ 0 & 0 \n",
    "   \\end{pmatrix} = \n",
    "   \\begin{pmatrix} 0 & \\sqrt{\\gamma_1} \\\\ 0 & 0 \n",
    "   \\end{pmatrix}\n",
    "$\n",
    "\n",
    "$\n",
    "J_2 = \\begin{pmatrix} d & 0 \\\\ 0 & -d \n",
    "   \\end{pmatrix} = \n",
    "   \\begin{pmatrix} \\sqrt{\\gamma_2} & 0 \\\\ 0 & -\\sqrt{\\gamma_2} \n",
    "   \\end{pmatrix}\n",
    "$\n",
    "\n",
    "$\n",
    "J_3 = \\begin{pmatrix} 0 & 0 \\\\ e & 0 \n",
    "   \\end{pmatrix} = \n",
    "   \\begin{pmatrix} 0 &  0 \\\\ \\sqrt{\\gamma_3} & 0 \n",
    "   \\end{pmatrix}\n",
    "$"
   ]
  },
  {
   "cell_type": "markdown",
   "metadata": {},
   "source": [
    "$\n",
    "J_4 = \\begin{pmatrix} 0 & p \\\\ p & 0 \n",
    "   \\end{pmatrix} = \\sqrt{\\gamma_4/3} \n",
    "   \\begin{pmatrix} 0 & 1\\\\ 1 & 0 \n",
    "   \\end{pmatrix}\n",
    "$\n",
    "\n",
    "$\n",
    "J_5 = \\begin{pmatrix} 0 & -i p \\\\ i p & 0 \n",
    "   \\end{pmatrix} = \\sqrt{\\gamma_4/3}\n",
    "   \\begin{pmatrix} 0 & -i \\\\ i & 0 \n",
    "   \\end{pmatrix}\n",
    "$\n",
    "\n",
    "$\n",
    "J_6 = \\begin{pmatrix} p & 0 \\\\ 0 & -p\n",
    "   \\end{pmatrix} = \\sqrt{\\gamma_4/3}\n",
    "   \\begin{pmatrix} 1 & 0 \\\\ 0 & -1 \n",
    "   \\end{pmatrix}\n",
    "$"
   ]
  },
  {
   "cell_type": "code",
   "execution_count": 2,
   "metadata": {},
   "outputs": [
    {
     "data": {
      "text/plain": [
       "frobenius_norm2 (generic function with 1 method)"
      ]
     },
     "metadata": {},
     "output_type": "display_data"
    }
   ],
   "source": [
    "function frobenius_norm2(m)\n",
    "    return tr(m * m')\n",
    "end"
   ]
  },
  {
   "cell_type": "code",
   "execution_count": 3,
   "metadata": {},
   "outputs": [
    {
     "data": {
      "text/plain": [
       "lindblad_rhs (generic function with 1 method)"
      ]
     },
     "metadata": {},
     "output_type": "display_data"
    }
   ],
   "source": [
    "function lindblad_rhs(ρ, H, J::Array)\n",
    "    \"\"\"\n",
    "    Right hand side of the Lindblad master equation with multiple disipators\n",
    "    \"\"\"\n",
    "   \n",
    "    Σ = sum([ ( Jⱼ * ρ * Jⱼ' - (Jⱼ' * Jⱼ  * ρ + ρ * Jⱼ' * Jⱼ)/2 ) for Jⱼ in J ])\n",
    "    \n",
    "    return -im * (H * ρ - ρ * H) + Σ \n",
    "    \n",
    "end"
   ]
  },
  {
   "cell_type": "code",
   "execution_count": 4,
   "metadata": {},
   "outputs": [
    {
     "data": {
      "text/plain": [
       "simpson_obj (generic function with 1 method)"
      ]
     },
     "metadata": {},
     "output_type": "display_data"
    }
   ],
   "source": [
    "function simpson_obj(ρ, t, H, J)\n",
    "    \n",
    "    obj = 0\n",
    "    for i in 3:length(ρ)\n",
    "        obj += frobenius_norm2(\n",
    "            ρ[i] - ρ[i-2] - (t[i]-t[i-1])lindblad_rhs((ρ[i-2] + 4ρ[i-1] + ρ[i])/3, H, J)\n",
    "        )\n",
    "    end\n",
    "    obj = sum(real(coef) * mon for (coef, mon) in zip(coefficients(obj), monomials(obj)))\n",
    "    return obj\n",
    "end"
   ]
  },
  {
   "cell_type": "code",
   "execution_count": 5,
   "metadata": {},
   "outputs": [
    {
     "data": {
      "text/plain": [
       "lindblad_GEXY_obj (generic function with 1 method)"
      ]
     },
     "metadata": {},
     "output_type": "display_data"
    }
   ],
   "source": [
    "function lindblad_GEXY_obj(ρᵍᵉˣʸ, tᵍᵉˣʸ, Hˢʸᵐᵇ, Jˢʸᵐᵇ)\n",
    "\n",
    "    ρᵍ, ρᵉ, ρˣ, ρʸ = ρᵍᵉˣʸ\n",
    "    tᵍ, tᵉ, tˣ, tʸ = tᵍᵉˣʸ\n",
    "\n",
    "    #[J₁ˢʸᵐᵇ, J₂ˢʸᵐᵇ, J₃ˢʸᵐᵇ, J₄ˢʸᵐᵇ, J₅ˢʸᵐᵇ, J₆ˢʸᵐᵇ] = Jˢʸᵐᵇ\n",
    "\n",
    "    polyG = simpson_obj(ρᵍ, tᵍ, Hˢʸᵐᵇ, Jˢʸᵐᵇ)\n",
    "    polyE = simpson_obj(ρᵉ, tᵉ, Hˢʸᵐᵇ, Jˢʸᵐᵇ)\n",
    "    polyX = simpson_obj(ρˣ, tˣ, Hˢʸᵐᵇ, Jˢʸᵐᵇ)\n",
    "    polyY = simpson_obj(ρʸ, tʸ, Hˢʸᵐᵇ, Jˢʸᵐᵇ)\n",
    "\n",
    "    polyGEXY = polyG + polyE + polyX + polyY\n",
    "\n",
    "    return polyGEXY\n",
    "end"
   ]
  },
  {
   "cell_type": "code",
   "execution_count": 6,
   "metadata": {},
   "outputs": [
    {
     "data": {
      "text/plain": [
       "4-element Vector{Matrix}:\n",
       " Term{true, Float64}[0.0 r; 0.0 0.0]\n",
       " Term{true, Float64}[0.0 p; p 0.0]\n",
       " Term{true, Complex{Int64}}[(0 + 0im) (0 - 1im)p; (0 + 1im)p (0 + 0im)]\n",
       " Term{true, Float64}[p 0.0; 0.0 -p]"
      ]
     },
     "metadata": {},
     "output_type": "display_data"
    }
   ],
   "source": [
    "# Define polynomial variables\n",
    "@polyvar ϵ α β r ϕ e p\n",
    "\n",
    "#Hˢʸᵐᵇ = [ ϵ   0\n",
    "#          0   0. ]\n",
    "\n",
    "Hˢʸᵐᵇ = [ ϵ            α + im* β\n",
    "          α + im* β   -ϵ+0.0       ]/2\n",
    "\n",
    "J₁ˢʸᵐᵇ = [ 0   r\n",
    "           0   0. ]\n",
    "\n",
    "J₂ˢʸᵐᵇ = ϕ * [ 1    0\n",
    "               0   -1. ]\n",
    "\n",
    "J₃ˢʸᵐᵇ = [ 0   0\n",
    "           e   0. ]\n",
    "\n",
    "J₄ˢʸᵐᵇ = p * [ 0    1\n",
    "               1    0. ]\n",
    "\n",
    "J₅ˢʸᵐᵇ = p * [ 0   -im\n",
    "               im   0  ]\n",
    "\n",
    "J₆ˢʸᵐᵇ = p * [ 1    0\n",
    "               0   -1. ]\n",
    "\n",
    "\n",
    "Jˢʸᵐᵇ = [ J₁ˢʸᵐᵇ, J₄ˢʸᵐᵇ, J₅ˢʸᵐᵇ, J₆ˢʸᵐᵇ] #J₃ˢʸᵐᵇ, J₂ˢʸᵐᵇ,"
   ]
  },
  {
   "cell_type": "code",
   "execution_count": 8,
   "metadata": {},
   "outputs": [
    {
     "data": {
      "text/plain": [
       "2-element Vector{PolyVar{true}}:\n",
       " ϵ\n",
       " p"
      ]
     },
     "metadata": {},
     "output_type": "display_data"
    }
   ],
   "source": [
    "constraints = [ϵ, p] #r, e, ϕ, p]"
   ]
  },
  {
   "cell_type": "code",
   "execution_count": 9,
   "metadata": {},
   "outputs": [
    {
     "data": {
      "text/plain": [
       "read_GEXY_timeevolution (generic function with 1 method)"
      ]
     },
     "metadata": {},
     "output_type": "display_data"
    }
   ],
   "source": [
    "function read_timeevolution(file_name, state, γ)\n",
    "    h5open(file_name, \"r\") do file\n",
    "        ρᵧ = read(file[state][string(γ)])\n",
    "        t = ρᵧ[\"t\"]\n",
    "        ρ₀₀ = ρᵧ[\"p0\"]; Re_ρ₀₁ = ρᵧ[\"s_re\"];  Im_ρ₀₁ = ρᵧ[\"s_im\"]\n",
    "        ρ_series = []\n",
    "        t_series = []\n",
    "\n",
    "        for i in 1:length(t)\n",
    "            ρᵢ= [ ρ₀₀[i]                      Re_ρ₀₁[i] + im * Im_ρ₀₁[i]\n",
    "                  Re_ρ₀₁[i] - im * Im_ρ₀₁[i]  1 - ρ₀₀[i]                 ]\n",
    "            push!(ρ_series, convert(Matrix{ComplexF64}, ρᵢ))\n",
    "            push!(t_series, convert(Float64, t[i]))\n",
    "        end\n",
    "        return(t_series, ρ_series)\n",
    "    end\n",
    "end\n",
    "\n",
    "\n",
    "function read_GEXY_timeevolution(file_name, γ)\n",
    "\n",
    "    tᵍ, ρᵍ = read_timeevolution(file_name, \"B1\", γ)\n",
    "    tᵉ, ρᵉ = read_timeevolution(file_name, \"B2\", γ)\n",
    "    tˣ, ρˣ = read_timeevolution(file_name, \"B3\", γ)\n",
    "    tʸ, ρʸ = read_timeevolution(file_name, \"B4\", γ)\n",
    "\n",
    "    ρᵍᵉˣʸ = ρᵍ, ρᵉ, ρˣ, ρʸ \n",
    "    tᵍᵉˣʸ = tᵍ, tᵉ, tˣ, tʸ\n",
    "\n",
    "    return tᵍᵉˣʸ , ρᵍᵉˣʸ \n",
    "\n",
    "end"
   ]
  },
  {
   "cell_type": "code",
   "execution_count": 10,
   "metadata": {},
   "outputs": [
    {
     "data": {
      "text/plain": [
       "TrDist (generic function with 1 method)"
      ]
     },
     "metadata": {},
     "output_type": "display_data"
    }
   ],
   "source": [
    "function TrDist(ρ₁, ρ₂)\n",
    "    A = ρ₁-ρ₂\n",
    "    D = tr(sqrt(A'*A))/2\n",
    "    if abs(imag(D))>1e-6\n",
    "        throw(DomainError(D, \"Trace distance is complex number\"))\n",
    "    else\n",
    "        return(real(D))\n",
    "    end\n",
    "end "
   ]
  },
  {
   "cell_type": "code",
   "execution_count": 11,
   "metadata": {},
   "outputs": [],
   "source": [
    "#tests_dir = \"../TESTS/\"\n",
    "tests_dir = \"\"\n",
    "\n",
    "ρᵍ₀ = [ 1 0\n",
    "        0 0 ]    # state to measure initial distance from\n",
    "\n",
    "dodeca_10_states = [\"D\"*string(n) for n=1:10];\n",
    "\n",
    "basis_states = [\"B\"*string(n) for n=1:4];\n",
    "\n",
    "train_states = basis_states \n",
    "test_states = dodeca_10_states\n",
    "\n",
    "all_states = vcat(train_states, test_states);"
   ]
  },
  {
   "cell_type": "code",
   "execution_count": 12,
   "metadata": {},
   "outputs": [
    {
     "data": {
      "text/plain": [
       "filter_terms_by_relative_threshold (generic function with 1 method)"
      ]
     },
     "metadata": {},
     "output_type": "display_data"
    }
   ],
   "source": [
    "function filter_terms_by_relative_threshold(poly::Polynomial, relative_threshold::Float64)\n",
    "    # Get all coefficients of the polynomial\n",
    "    coeffs = coefficients(poly)\n",
    "    \n",
    "    # Find the largest coefficient by absolute value\n",
    "    max_coeff = maximum(abs.(coeffs))\n",
    "    \n",
    "    # Calculate the effective threshold\n",
    "    threshold = relative_threshold * max_coeff\n",
    "    \n",
    "    # Initialize an empty polynomial of the same type as the input\n",
    "    new_poly = zero(poly)\n",
    "    \n",
    "    # Iterate over the terms and coefficients of the polynomial\n",
    "    for (monomial, coeff) in zip(monomials(poly), coeffs)\n",
    "        if abs(coeff) >= threshold\n",
    "            new_poly += coeff * monomial\n",
    "        end\n",
    "    end\n",
    "    \n",
    "    return new_poly\n",
    "end\n",
    "\n",
    "# Example usage\n",
    "#@polyvar x y\n",
    "#p = 1e-13*x^2 + 2*x*y + 3*y^2 + 4e-14*y\n",
    "#relative_threshold = 1e-12\n",
    "#filtered_p = filter_terms_by_relative_threshold(p, relative_threshold)\n",
    "#println(filtered_p)"
   ]
  },
  {
   "cell_type": "code",
   "execution_count": 13,
   "metadata": {},
   "outputs": [
    {
     "data": {
      "text/plain": [
       "filter_odd_terms_by_relative_threshold (generic function with 1 method)"
      ]
     },
     "metadata": {},
     "output_type": "display_data"
    }
   ],
   "source": [
    "\n",
    "function filter_odd_terms_by_relative_threshold(poly::Polynomial, relative_threshold::Float64)\n",
    "    # Get all coefficients and corresponding monomials of the polynomial\n",
    "    coeffs = coefficients(poly)\n",
    "    monoms = monomials(poly)\n",
    "    \n",
    "    # Find the largest coefficient by absolute value\n",
    "    max_coeff = maximum(abs.(coeffs))\n",
    "    \n",
    "    # Calculate the effective threshold\n",
    "    threshold = relative_threshold * max_coeff\n",
    "    \n",
    "    # Initialize an empty polynomial of the same type as the input\n",
    "    new_poly = zero(poly)\n",
    "    \n",
    "    # Iterate over the terms and coefficients of the polynomial\n",
    "    for (monomial, coeff) in zip(monoms, coeffs)\n",
    "        # Check if the coefficient is above the threshold\n",
    "        if abs(coeff) >= threshold\n",
    "            # Add the term to the new polynomial\n",
    "            new_poly += coeff * monomial\n",
    "        else\n",
    "            # Check if the monomial has only odd powers\n",
    "            powers = exponents(monomial)\n",
    "            if all(p -> p % 2 == 0, powers)\n",
    "                # Add the term if it has even powers only\n",
    "                new_poly += coeff * monomial\n",
    "            end\n",
    "        end\n",
    "    end\n",
    "    \n",
    "    return new_poly\n",
    "end"
   ]
  },
  {
   "cell_type": "code",
   "execution_count": 14,
   "metadata": {},
   "outputs": [
    {
     "data": {
      "text/plain": [
       "coefficient_range (generic function with 1 method)"
      ]
     },
     "metadata": {},
     "output_type": "display_data"
    }
   ],
   "source": [
    "function coefficient_range(poly::Polynomial)\n",
    "    # Extract coefficients of the polynomial\n",
    "    coeffs = coefficients(poly)\n",
    "    \n",
    "    # Get the absolute values of the coefficients\n",
    "    abs_coeffs = abs.(coeffs)\n",
    "    \n",
    "    # Find the minimum and maximum coefficients in terms of magnitude\n",
    "    min_coeff = minimum(abs_coeffs)\n",
    "    max_coeff = maximum(abs_coeffs)\n",
    "    \n",
    "    # Calculate the ratio of the smallest to the largest coefficient\n",
    "    if max_coeff == 0\n",
    "        return 0.0  # Avoid division by zero if all coefficients are zero\n",
    "    else\n",
    "        return min_coeff / max_coeff\n",
    "    end\n",
    "end"
   ]
  },
  {
   "cell_type": "code",
   "execution_count": 15,
   "metadata": {},
   "outputs": [
    {
     "data": {
      "text/plain": [
       "((Any[0.053333333334, 0.06, 0.066666666667, 0.073333333334, 0.08, 0.086666666667, 0.093333333334, 0.1, 0.106666666667, 0.113333333334  …  23.806666666786, 23.813333333452, 23.820000000119, 23.826666666786, 23.833333333452, 23.840000000119, 23.846666666786, 23.853333333453, 23.860000000119, 23.866666666786], Any[0.053333333334, 0.06, 0.066666666667, 0.073333333334, 0.08, 0.086666666667, 0.093333333334, 0.1, 0.106666666667, 0.113333333334  …  23.806666666786, 23.813333333452, 23.820000000119, 23.826666666786, 23.833333333452, 23.840000000119, 23.846666666786, 23.853333333453, 23.860000000119, 23.866666666786], Any[0.053333333334, 0.06, 0.066666666667, 0.073333333334, 0.08, 0.086666666667, 0.093333333334, 0.1, 0.106666666667, 0.113333333334  …  23.806666666786, 23.813333333452, 23.820000000119, 23.826666666786, 23.833333333452, 23.840000000119, 23.846666666786, 23.853333333453, 23.860000000119, 23.866666666786], Any[0.053333333334, 0.06, 0.066666666667, 0.073333333334, 0.08, 0.086666666667, 0.093333333334, 0.1, 0.106666666667, 0.113333333334  …  23.806666666786, 23.813333333452, 23.820000000119, 23.826666666786, 23.833333333452, 23.840000000119, 23.846666666786, 23.853333333453, 23.860000000119, 23.866666666786]), (Any[ComplexF64[0.996350446096 + 0.0im 0.0 + 0.0im; 0.0 - 0.0im 0.0036495539040000136 + 0.0im], ComplexF64[0.996166981202 + 0.0im 0.0 + 0.0im; 0.0 - 0.0im 0.0038330187980000208 + 0.0im], ComplexF64[0.996075422058 + 0.0im 0.0 + 0.0im; 0.0 - 0.0im 0.003924577941999963 + 0.0im], ComplexF64[0.996053639559 + 0.0im 0.0 + 0.0im; 0.0 - 0.0im 0.003946360441000052 + 0.0im], ComplexF64[0.996042769634 + 0.0im 0.0 + 0.0im; 0.0 - 0.0im 0.003957230366000042 + 0.0im], ComplexF64[0.996075164283 + 0.0im -0.0 - 0.0im; 0.0 + 0.0im 0.003924835716999975 + 0.0im], ComplexF64[0.996169026582 + 0.0im -0.0 - 0.0im; 0.0 + 0.0im 0.0038309734179999833 + 0.0im], ComplexF64[0.996272453486 + 0.0im 0.0 - 0.0im; 0.0 + 0.0im 0.0037275465139999797 + 0.0im], ComplexF64[0.996380409521 + 0.0im -0.0 - 0.0im; 0.0 + 0.0im 0.0036195904789999567 + 0.0im], ComplexF64[0.996525693488 + 0.0im -0.0 - 0.0im; 0.0 + 0.0im 0.0034743065119999805 + 0.0im]  …  ComplexF64[0.998541849586 + 0.0im -3.7597e-8 + 4.3923e-8im; -3.7597e-8 - 4.3923e-8im 0.0014581504139999923 + 0.0im], ComplexF64[0.998543561768 + 0.0im -2.8985e-8 + 6.0012e-8im; -2.8985e-8 - 6.0012e-8im 0.0014564382320000346 + 0.0im], ComplexF64[0.998545525947 + 0.0im -1.7755e-8 + 7.1171e-8im; -1.7755e-8 - 7.1171e-8im 0.0014544740530000322 + 0.0im], ComplexF64[0.998547282257 + 0.0im -6.212e-9 + 6.4531e-8im; -6.212e-9 - 6.4531e-8im 0.0014527177430000426 + 0.0im], ComplexF64[0.99854768286 + 0.0im 3.697e-9 + 5.4308e-8im; 3.697e-9 - 5.4308e-8im 0.0014523171400000479 + 0.0im], ComplexF64[0.998546877418 + 0.0im 1.2412e-8 + 5.1356e-8im; 1.2412e-8 - 5.1356e-8im 0.0014531225820000326 + 0.0im], ComplexF64[0.998545950218 + 0.0im 2.1045e-8 + 5.0311e-8im; 2.1045e-8 - 5.0311e-8im 0.001454049782000033 + 0.0im], ComplexF64[0.998544888286 + 0.0im 2.8792e-8 + 4.2476e-8im; 2.8792e-8 - 4.2476e-8im 0.0014551117140000347 + 0.0im], ComplexF64[0.998542877707 + 0.0im 3.5931e-8 + 4.4633e-8im; 3.5931e-8 - 4.4633e-8im 0.0014571222929999905 + 0.0im], ComplexF64[0.998540396441 + 0.0im 4.3817e-8 + 4.8213e-8im; 4.3817e-8 - 4.8213e-8im 0.001459603558999989 + 0.0im]], Any[ComplexF64[0.009030912483 + 0.0im -0.0 - 0.0im; 0.0 + 0.0im 0.990969087517 + 0.0im], ComplexF64[0.010492380383 + 0.0im 0.0 + 0.0im; -0.0 - 0.0im 0.989507619617 + 0.0im], ComplexF64[0.012050087495 + 0.0im 0.0 + 0.0im; -0.0 - 0.0im 0.987949912505 + 0.0im], ComplexF64[0.013684506486 + 0.0im 0.0 + 0.0im; -0.0 - 0.0im 0.986315493514 + 0.0im], ComplexF64[0.015332613009 + 0.0im 0.0 + 0.0im; -0.0 - 0.0im 0.984667386991 + 0.0im], ComplexF64[0.016992199413 + 0.0im 0.0 + 0.0im; -0.0 - 0.0im 0.983007800587 + 0.0im], ComplexF64[0.018704716373 + 0.0im 0.0 + 0.0im; -0.0 - 0.0im 0.981295283627 + 0.0im], ComplexF64[0.020465693347 + 0.0im 0.0 + 0.0im; -0.0 - 0.0im 0.979534306653 + 0.0im], ComplexF64[0.022227741215 + 0.0im 0.0 + 0.0im; -0.0 - 0.0im 0.977772258785 + 0.0im], ComplexF64[0.023978186892 + 0.0im -0.0 - 0.0im; 0.0 + 0.0im 0.976021813108 + 0.0im]  …  ComplexF64[0.995983337651 + 0.0im 2.3555e-7 - 2.6269e-8im; 2.3555e-7 + 2.6269e-8im 0.004016662349 + 0.0im], ComplexF64[0.995997085159 + 0.0im 2.26538e-7 - 8.2677e-8im; 2.26538e-7 + 8.2677e-8im 0.004002914841000016 + 0.0im], ComplexF64[0.996011113775 + 0.0im 2.07983e-7 - 1.36828e-7im; 2.07983e-7 + 1.36828e-7im 0.003988886225000043 + 0.0im], ComplexF64[0.99602625281 + 0.0im 1.81592e-7 - 1.75648e-7im; 1.81592e-7 + 1.75648e-7im 0.003973747189999988 + 0.0im], ComplexF64[0.996042353897 + 0.0im 1.49604e-7 - 2.06132e-7im; 1.49604e-7 + 2.06132e-7im 0.003957646102999979 + 0.0im], ComplexF64[0.996058482892 + 0.0im 1.12131e-7 - 2.43064e-7im; 1.12131e-7 + 2.43064e-7im 0.003941517107999948 + 0.0im], ComplexF64[0.996074156194 + 0.0im 6.7739e-8 - 2.86417e-7im; 6.7739e-8 + 2.86417e-7im 0.003925843806000029 + 0.0im], ComplexF64[0.996089820511 + 0.0im 1.7058e-8 - 3.14189e-7im; 1.7058e-8 + 3.14189e-7im 0.003910179488999965 + 0.0im], ComplexF64[0.996105937886 + 0.0im -3.612e-8 - 3.17366e-7im; -3.612e-8 + 3.17366e-7im 0.0038940621140000076 + 0.0im], ComplexF64[0.996122012714 + 0.0im -8.8522e-8 - 3.06016e-7im; -8.8522e-8 + 3.06016e-7im 0.003877987285999973 + 0.0im]], Any[ComplexF64[0.502690539352 + 0.0im 0.115633452396 - 0.483738421789im; 0.115633452396 + 0.483738421789im 0.49730946064799997 + 0.0im], ComplexF64[0.503329577895 + 0.0im 0.033409225401 - 0.495438933447im; 0.033409225401 + 0.495438933447im 0.496670422105 + 0.0im], ComplexF64[0.504062754735 + 0.0im -0.049612816286 - 0.493242290214im; -0.049612816286 + 0.493242290214im 0.49593724526500005 + 0.0im], ComplexF64[0.504869127788 + 0.0im -0.131105747908 - 0.477234261487im; -0.131105747908 + 0.477234261487im 0.49513087221200003 + 0.0im], ComplexF64[0.505687731534 + 0.0im -0.20879018791 - 0.447892530983im; -0.20879018791 + 0.447892530983im 0.49431226846599996 + 0.0im], ComplexF64[0.506533692614 + 0.0im -0.28049766383 - 0.406059042905im; -0.28049766383 + 0.406059042905im 0.49346630738599995 + 0.0im], ComplexF64[0.507436882264 + 0.0im -0.344229924745 - 0.352921288155im; -0.344229924745 + 0.352921288155im 0.49256311773600003 + 0.0im], ComplexF64[0.508369099197 + 0.0im -0.398215192644 - 0.289989124027im; -0.398215192644 + 0.289989124027im 0.491630900803 + 0.0im], ComplexF64[0.509304127989 + 0.0im -0.440958353943 - 0.219045101676im; -0.440958353943 + 0.219045101676im 0.49069587201099996 + 0.0im], ComplexF64[0.510251998138 + 0.0im -0.471281653733 - 0.142085945485im; -0.471281653733 + 0.142085945485im 0.48974800186199996 + 0.0im]  …  ComplexF64[0.99726272607 + 0.0im -0.001866260063 - 0.025268455639im; -0.001866260063 + 0.025268455639im 0.002737273930000006 + 0.0im], ComplexF64[0.997270614178 + 0.0im -0.006040385945 - 0.024440566146im; -0.006040385945 + 0.024440566146im 0.0027293858219999967 + 0.0im], ComplexF64[0.997278755824 + 0.0im -0.010017958624 - 0.022925782524im; -0.010017958624 + 0.022925782524im 0.0027212441759999484 + 0.0im], ComplexF64[0.997287516708 + 0.0im -0.013686692299 - 0.020764540651im; -0.013686692299 + 0.020764540651im 0.002712483292000023 + 0.0im], ComplexF64[0.997296069047 + 0.0im -0.016944713545 - 0.018039650926im; -0.016944713545 + 0.018039650926im 0.0027039309530000333 + 0.0im], ComplexF64[0.997303720822 + 0.0im -0.019705891778 - 0.014849546054im; -0.019705891778 + 0.014849546054im 0.0026962791779999717 + 0.0im], ComplexF64[0.997310758254 + 0.0im -0.021899646311 - 0.011279864666im; -0.021899646311 + 0.011279864666im 0.0026892417460000484 + 0.0im], ComplexF64[0.99731763463 + 0.0im -0.023469401142 - 0.007417530924im; -0.023469401142 + 0.007417530924im 0.002682365369999995 + 0.0im], ComplexF64[0.997324377337 + 0.0im -0.024375344924 - 0.003377914143im; -0.024375344924 + 0.003377914143im 0.0026756226630000324 + 0.0im], ComplexF64[0.997331018956 + 0.0im -0.024598872892 + 0.000706885117im; -0.024598872892 - 0.000706885117im 0.0026689810440000405 + 0.0im]], Any[ComplexF64[0.502690681703 + 0.0im 0.483744739553 + 0.110884709525im; 0.483744739553 - 0.110884709525im 0.497309318297 + 0.0im], ComplexF64[0.503329682275 + 0.0im 0.495447287239 + 0.028490418512im; 0.495447287239 - 0.028490418512im 0.49667031772500003 + 0.0im], ComplexF64[0.504062751417 + 0.0im 0.493253386624 - 0.054591827038im; 0.493253386624 + 0.054591827038im 0.49593724858300003 + 0.0im], ComplexF64[0.504869065723 + 0.0im 0.477248858817 - 0.135970410957im; 0.477248858817 + 0.135970410957im 0.49513093427699995 + 0.0im], ComplexF64[0.505687686036 + 0.0im 0.447910747416 - 0.213388425434im; 0.447910747416 + 0.213388425434im 0.494312313964 + 0.0im], ComplexF64[0.506533680318 + 0.0im 0.406081018239 - 0.284733422433im; 0.406081018239 + 0.284733422433im 0.49346631968200005 + 0.0im], ComplexF64[0.507436869002 + 0.0im 0.352947675513 - 0.347992365968im; 0.352947675513 + 0.347992365968im 0.492563130998 + 0.0im], ComplexF64[0.508369069692 + 0.0im 0.290020185058 - 0.401370721754im; 0.290020185058 + 0.401370721754im 0.491630930308 + 0.0im], ComplexF64[0.509304074881 + 0.0im 0.219080423853 - 0.443419094906im; 0.219080423853 + 0.443419094906im 0.49069592511899995 + 0.0im], ComplexF64[0.510251947243 + 0.0im 0.142125545045 - 0.47300525852im; 0.142125545045 + 0.47300525852im 0.48974805275699995 + 0.0im]  …  ComplexF64[0.997262206125 + 0.0im 0.025153668426 - 0.002121359861im; 0.025153668426 + 0.002121359861im 0.0027377938749999498 + 0.0im], ComplexF64[0.99727048351 + 0.0im 0.024446878146 - 0.006291011843im; 0.024446878146 + 0.006291011843im 0.0027295164899999724 + 0.0im], ComplexF64[0.997279022545 + 0.0im 0.023056906861 - 0.010257079221im; 0.023056906861 + 0.010257079221im 0.0027209774549999954 + 0.0im], ComplexF64[0.997287949257 + 0.0im 0.021027341325 - 0.013907599676im; 0.021027341325 + 0.013907599676im 0.0027120507429999607 + 0.0im], ComplexF64[0.997296413401 + 0.0im 0.018419739938 - 0.017141236181im; 0.018419739938 + 0.017141236181im 0.002703586599000052 + 0.0im], ComplexF64[0.997303851062 + 0.0im 0.015311338255 - 0.019872624335im; 0.015311338255 + 0.019872624335im 0.002696148937999965 + 0.0im], ComplexF64[0.997310607944 + 0.0im 0.011792325428 - 0.022032107472im; 0.011792325428 + 0.022032107472im 0.0026893920560000506 + 0.0im], ComplexF64[0.997317168475 + 0.0im 0.007963384945 - 0.023564090009im; 0.007963384945 + 0.023564090009im 0.00268283152500004 + 0.0im], ComplexF64[0.997323615209 + 0.0im 0.003933176404 - 0.024429787552im; 0.003933176404 + 0.024429787552im 0.002676384790999964 + 0.0im], ComplexF64[0.997329998691 + 0.0im -0.000184887964 - 0.02461174263im; -0.000184887964 + 0.02461174263im 0.0026700013089999697 + 0.0im]]))"
      ]
     },
     "metadata": {},
     "output_type": "display_data"
    }
   ],
   "source": [
    "evol_data_file_name = \"../DATA/ALL_GAMMAS_B4_D10.h5\"\n",
    "\n",
    "γᵢ = \"0.25133\"\n",
    "\n",
    "tᵍᵉˣʸ , ρᵍᵉˣʸ  = read_GEXY_timeevolution(evol_data_file_name, γᵢ)"
   ]
  },
  {
   "cell_type": "code",
   "execution_count": 16,
   "metadata": {},
   "outputs": [
    {
     "data": {
      "text/latex": [
       "$$ 0.18256809044653088r^{4} - 0.03750921946960905r^{2}p^{2} + 17.65754243030726p^{4} + 0.0012278271223203374αr^{2} + 0.10341163322607885ϵ^{2} - 4.104630886766604e-5ϵα + 1.0519096548020683α^{2} + 1.0519096548020683β^{2} - 0.09164160023232439r^{2} + 0.0032558121009390465p^{2} - 5.199679015672933ϵ + 0.00013669789552732257α + 65.37495321955478 $$"
      ],
      "text/plain": [
       "0.18256809044653088r⁴ - 0.03750921946960905r²p² + 17.65754243030726p⁴ + 0.0012278271223203374αr² + 0.10341163322607885ϵ² - 4.104630886766604e-5ϵα + 1.0519096548020683α² + 1.0519096548020683β² - 0.09164160023232439r² + 0.0032558121009390465p² - 5.199679015672933ϵ + 0.00013669789552732257α + 65.37495321955478"
      ]
     },
     "metadata": {},
     "output_type": "display_data"
    }
   ],
   "source": [
    "\n",
    "polyGEXYfull = lindblad_GEXY_obj(ρᵍᵉˣʸ, tᵍᵉˣʸ, Hˢʸᵐᵇ, Jˢʸᵐᵇ)"
   ]
  },
  {
   "cell_type": "code",
   "execution_count": 17,
   "metadata": {},
   "outputs": [
    {
     "data": {
      "text/plain": [
       "6.278598583438585e-7"
      ]
     },
     "metadata": {},
     "output_type": "display_data"
    }
   ],
   "source": [
    "coefficient_range(polyGEXYfull)"
   ]
  },
  {
   "cell_type": "code",
   "execution_count": 18,
   "metadata": {},
   "outputs": [
    {
     "data": {
      "text/plain": [
       "scaling_poly (generic function with 1 method)"
      ]
     },
     "metadata": {},
     "output_type": "display_data"
    }
   ],
   "source": [
    "function scaling_poly(p::Polynomial)\n",
    "    X = transpose(hcat([exponents(t) for t in terms(p)]...))\n",
    "\n",
    "    # Get the scaling via linear regression\n",
    "    scaling = X \\ log.(abs.(coefficients(p)))\n",
    "\n",
    "    exp.(abs.(scaling))\n",
    "end"
   ]
  },
  {
   "cell_type": "code",
   "execution_count": 19,
   "metadata": {},
   "outputs": [
    {
     "data": {
      "text/plain": [
       "min_cs_tssos_scaled (generic function with 1 method)"
      ]
     },
     "metadata": {},
     "output_type": "display_data"
    }
   ],
   "source": [
    "function min_cs_tssos_scaled(p, constrs)\n",
    "\n",
    "    coeffs = coefficients(p)\n",
    "\n",
    "    # find variable scaling\n",
    "    scale = scaling_poly(p)\n",
    "\n",
    "    # scale the polynomial\n",
    "    p_scaled = subs(p, variables(p) => scale .* variables(p))\n",
    "    constrs_scaled = subs.(constrs, variables(p) => scale .* variables(p))\n",
    "\n",
    "    # minimize\n",
    "    reg_coef = 0.0\n",
    "    # minimizer_scaled_tssos = nothing\n",
    "    pop =[p_scaled+reg_coef*sum(variables(p).^2), constrs_scaled...] ./ maximum(abs.(coeffs))\n",
    "\n",
    "    d = maxdegree(p)\n",
    "    \n",
    "    # Initial optimization step\n",
    "    opt, sol, data = cs_tssos_first(pop, variables(pop), d; solution=true, QUIET=true)\n",
    "    ref_sol, flag = TSSOS.refine_sol(opt, sol, data; QUIET=true)\n",
    "    prev_opt, prev_sol, prev_data = opt, sol, data \n",
    "\n",
    "    # Check if the solution needs further refinement\n",
    "    if flag != 0\n",
    "        while ~isnothing(sol) && flag != 0\n",
    "            prev_opt, prev_sol, prev_data = opt, sol, data\n",
    "            opt, sol, data = cs_tssos_higher!(data; solution=true, QUIET=true) \n",
    "        end\n",
    "        ref_sol, flag = TSSOS.refine_sol(prev_opt, prev_sol, prev_data; QUIET=true)\n",
    "    end\n",
    "\n",
    "    minimizer_scaled_tssos = scale .* ref_sol\n",
    "\n",
    "    solution = variables(p) => minimizer_scaled_tssos\n",
    "\n",
    "    if flag == 0 \n",
    "        status_name = \"GLOBAL\"\n",
    "    else\n",
    "        status_name = \"LOCAL/FAIL\"\n",
    "    end\n",
    "\n",
    "    return solution, status_name\n",
    "\n",
    "end\n",
    "  "
   ]
  },
  {
   "cell_type": "code",
   "execution_count": 20,
   "metadata": {},
   "outputs": [
    {
     "name": "stdout",
     "output_type": "stream",
     "text": [
      "*********************************** TSSOS ***********************************\n",
      "TSSOS is launching...\n",
      "-----------------------------------------------------------------------------\n",
      "The clique sizes of varibles:\n",
      "[2, 1]\n",
      "[3, 1]\n",
      "-----------------------------------------------------------------------------\n",
      "optimum = 2.62232659867431e-5\n",
      "\n",
      "******************************************************************************\n",
      "This program contains Ipopt, a library for large-scale nonlinear optimization.\n",
      " Ipopt is released as open source code under the Eclipse Public License (EPL).\n",
      "         For more information visit https://github.com/coin-or/Ipopt\n",
      "******************************************************************************\n",
      "\n",
      "Global optimality certified with relative optimality gap 0.000020%!\n",
      "Global optimality certified with relative optimality gap 0.000020%!\n"
     ]
    },
    {
     "data": {
      "text/plain": [
       "2×2 Matrix{ComplexF64}:\n",
       "     12.5703+0.0im  0.000139521+0.0im\n",
       " 0.000139521+0.0im     -12.5703+0.0im"
      ]
     },
     "metadata": {},
     "output_type": "display_data"
    }
   ],
   "source": [
    "solution, status_name = min_cs_tssos_scaled(polyGEXYfull, constraints)\n",
    "Hˢⁱᵈ = convert.(ComplexF64,subs(Hˢʸᵐᵇ, solution))\n",
    "Hˢⁱᵈ[1:2,1:2]"
   ]
  },
  {
   "cell_type": "code",
   "execution_count": 21,
   "metadata": {},
   "outputs": [
    {
     "data": {
      "text/plain": [
       "min_cs_tssos (generic function with 1 method)"
      ]
     },
     "metadata": {},
     "output_type": "display_data"
    }
   ],
   "source": [
    "function min_cs_tssos(p, constrs)\n",
    "\n",
    "    coeffs = coefficients(p)\n",
    "    reg_coef = 0\n",
    "\n",
    "    pop =[p+reg_coef*sum(variables(p).^2), constrs...] ./ maximum(abs.(coeffs))\n",
    "\n",
    "    d = maxdegree(p)\n",
    "    \n",
    "    # Initial optimization step\n",
    "    opt, sol, data = cs_tssos_first(pop, variables(pop), d; solution=true, QUIET=true)\n",
    "    ref_sol, flag = TSSOS.refine_sol(opt, sol, data; QUIET=true)\n",
    "    prev_opt, prev_sol, prev_data = opt, sol, data \n",
    "\n",
    "    # Check if the solution needs further refinement\n",
    "    if flag != 0\n",
    "        while ~isnothing(sol) && flag != 0\n",
    "            prev_opt, prev_sol, prev_data = opt, sol, data\n",
    "            opt, sol, data = cs_tssos_higher!(data; solution=true, QUIET=true) \n",
    "        end\n",
    "        ref_sol, flag = TSSOS.refine_sol(prev_opt, prev_sol, prev_data; QUIET=true)\n",
    "    end\n",
    "\n",
    "    solution = variables(p) => ref_sol\n",
    "\n",
    "    if flag == 0 \n",
    "        status_name = \"GLOBAL\"\n",
    "    else\n",
    "        status_name = \"LOCAL/FAIL\"\n",
    "    end\n",
    "\n",
    "    return solution, status_name\n",
    "\n",
    "end"
   ]
  },
  {
   "cell_type": "code",
   "execution_count": 22,
   "metadata": {},
   "outputs": [
    {
     "name": "stdout",
     "output_type": "stream",
     "text": [
      "*********************************** TSSOS ***********************************\n",
      "TSSOS is launching...\n",
      "-----------------------------------------------------------------------------\n",
      "The clique sizes of varibles:\n",
      "[2, 1]\n",
      "[3, 1]\n",
      "-----------------------------------------------------------------------------\n",
      "termination status: SLOW_PROGRESS\n",
      "solution status: NO_SOLUTION\n",
      "optimum = 5.281755737711362e-9\n",
      "Global optimality certified with relative optimality gap 0.002602%!\n",
      "Global optimality certified with relative optimality gap 0.002602%!\n"
     ]
    },
    {
     "data": {
      "text/plain": [
       "(PolyVar{true}[ϵ, α, β, r, p] => [25.140687132729255, 0.00027904154242244425, 0.0, 0.500996499173504, 0.013669226257621998], \"GLOBAL\")"
      ]
     },
     "metadata": {},
     "output_type": "display_data"
    }
   ],
   "source": [
    "sol, st = min_cs_tssos(polyGEXYfull, constraints)"
   ]
  },
  {
   "cell_type": "code",
   "execution_count": 23,
   "metadata": {},
   "outputs": [
    {
     "data": {
      "text/plain": [
       "2×2 Matrix{ComplexF64}:\n",
       "     12.5703+0.0im  0.000139521+0.0im\n",
       " 0.000139521+0.0im     -12.5703+0.0im"
      ]
     },
     "metadata": {},
     "output_type": "display_data"
    }
   ],
   "source": [
    "Hˢⁱᵈ = convert.(ComplexF64,subs(Hˢʸᵐᵇ, sol))\n",
    "Hˢⁱᵈ[1:2,1:2]"
   ]
  },
  {
   "cell_type": "code",
   "execution_count": 26,
   "metadata": {},
   "outputs": [
    {
     "name": "stdout",
     "output_type": "stream",
     "text": [
      "*********************************** TSSOS ***********************************\n",
      "TSSOS is launching...\n",
      "-----------------------------------------------------------------------------\n",
      "The clique sizes of varibles:\n",
      "[3, 1]\n",
      "[1, 4]\n",
      "-----------------------------------------------------------------------------\n",
      "termination status: SLOW_PROGRESS\n",
      "solution status: NO_SOLUTION\n",
      "optimum = 1.178506127727237e-9\n",
      "Global optimality certified with relative optimality gap 0.002602%!\n",
      "Global optimality certified with relative optimality gap 0.002602%!\n"
     ]
    },
    {
     "data": {
      "text/plain": [
       "(PolyVar{true}[ϵ, α, β, r, ϕ, p] => [25.14068705727399, 0.0, 0.0, 0.5009362324646646, 0.010409234788395123, 6.537495321954824e6, 0.013197464592987465], \"GLOBAL\")"
      ]
     },
     "metadata": {},
     "output_type": "display_data"
    }
   ],
   "source": [
    "sol, st = min_cs_tssos(filter_odd_terms_by_relative_threshold(polyGEXYfull, 1e-4), constraints)"
   ]
  },
  {
   "cell_type": "code",
   "execution_count": 27,
   "metadata": {},
   "outputs": [
    {
     "data": {
      "text/plain": [
       "\"GLOBAL\""
      ]
     },
     "metadata": {},
     "output_type": "display_data"
    }
   ],
   "source": [
    "st"
   ]
  },
  {
   "cell_type": "code",
   "execution_count": 24,
   "metadata": {},
   "outputs": [
    {
     "data": {
      "text/plain": [
       "2×2 Matrix{ComplexF64}:\n",
       " 0.0+0.0im  0.500996+0.0im\n",
       " 0.0+0.0im       0.0+0.0im"
      ]
     },
     "metadata": {},
     "output_type": "display_data"
    }
   ],
   "source": [
    "J₁ˢⁱᵈ = convert.(ComplexF64,subs(J₁ˢʸᵐᵇ, sol))\n",
    "J₁ˢⁱᵈ[1:2,1:2]"
   ]
  },
  {
   "cell_type": "code",
   "execution_count": 25,
   "metadata": {},
   "outputs": [
    {
     "data": {
      "text/plain": [
       "2×2 Matrix{ComplexF64}:\n",
       "     12.5703+0.0im  0.000139521+0.0im\n",
       " 0.000139521+0.0im     -12.5703+0.0im"
      ]
     },
     "metadata": {},
     "output_type": "display_data"
    }
   ],
   "source": [
    "Hˢⁱᵈ = convert.(ComplexF64, subs(Hˢʸᵐᵇ, sol))"
   ]
  },
  {
   "cell_type": "code",
   "execution_count": 27,
   "metadata": {},
   "outputs": [
    {
     "name": "stdout",
     "output_type": "stream",
     "text": [
      " SYSTEM IDENTIFICATION w CONSTRAINED TSSOS and LINDBLAD 5 Frobenius objective QO simulation\n",
      "γ =  0.079477\n",
      "minimum(abs.(coefficients(polyGEXY))) = 0.00010716999563515663\n",
      "maximum(abs.(coefficients(polyGEXY))) = 501.8627949039175\n",
      "*********************************** TSSOS ***********************************\n",
      "TSSOS is launching...\n",
      "-----------------------------------------------------------------------------\n",
      "The clique sizes of varibles:\n",
      "[2, 1]\n",
      "[3, 1]\n",
      "-----------------------------------------------------------------------------\n",
      "termination status: SLOW_PROGRESS\n",
      "solution status: NO_SOLUTION\n",
      "optimum = 8.889384496794077e-9\n",
      "Global optimality certified with relative optimality gap 0.000260%!\n",
      "Global optimality certified with relative optimality gap 0.000260%!\n",
      " status:GLOBAL\n",
      "D1 D2 D3 D4 D5 D6 D7 D8 D9 D10 Median fidelity for 0.079477: 0.9996334039455367\n",
      "γ =  0.25133\n",
      "minimum(abs.(coefficients(polyGEXY))) = 4.104630886766604e-5\n",
      "maximum(abs.(coefficients(polyGEXY))) = 65.37495321955478\n",
      "*********************************** TSSOS ***********************************\n",
      "TSSOS is launching...\n",
      "-----------------------------------------------------------------------------\n",
      "The clique sizes of varibles:\n",
      "[2, 1]\n",
      "[3, 1]\n",
      "-----------------------------------------------------------------------------\n",
      "termination status: SLOW_PROGRESS\n",
      "solution status: NO_SOLUTION\n",
      "optimum = 5.281755737711362e-9\n",
      "Global optimality certified with relative optimality gap 0.002602%!\n",
      "Global optimality certified with relative optimality gap 0.002602%!\n",
      " status:GLOBAL\n",
      "D1 D2 D3 D4 D5 D6 D7 D8 D9 D10 Median fidelity for 0.25133: 0.9999988060353242\n",
      "γ =  0.79477\n",
      "minimum(abs.(coefficients(polyGEXY))) = 2.143403647781221e-6\n",
      "maximum(abs.(coefficients(polyGEXY))) = 7.630493479021682\n",
      "*********************************** TSSOS ***********************************\n",
      "TSSOS is launching...\n",
      "-----------------------------------------------------------------------------\n",
      "The clique sizes of varibles:\n",
      "[2, 1]\n",
      "[3, 1]\n",
      "-----------------------------------------------------------------------------\n",
      "termination status: SLOW_PROGRESS\n",
      "solution status: NO_SOLUTION\n",
      "optimum = 8.927058124667978e-9\n",
      "Found a locally optimal solution by Ipopt, giving an upper bound: 0.00025689.\n",
      "The relative optimality gap is: 0.025688%.\n",
      "Found a locally optimal solution by Ipopt, giving an upper bound: 0.00025689.\n",
      "The relative optimality gap is: 0.025688%.\n",
      "termination status: SLOW_PROGRESS\n",
      "solution status: NO_SOLUTION\n",
      "optimum = 7.559096834072757e-9\n",
      "Found a locally optimal solution by Ipopt, giving an upper bound: 0.00025689.\n",
      "The relative optimality gap is: 0.025688%.\n",
      "No higher TS step of the CS-TSSOS hierarchy!\n",
      "Found a locally optimal solution by Ipopt, giving an upper bound: 0.00025689.\n",
      "The relative optimality gap is: 0.025688%.\n",
      " status:LOCAL/FAIL\n",
      "D1 D2 D3 D4 D5 D6 D7 D8 D9 D10 Median fidelity for 0.79477: 0.9999934639527448\n",
      "γ =  2.5133\n",
      "minimum(abs.(coefficients(polyGEXY))) = 1.7805635810154942e-7\n",
      "maximum(abs.(coefficients(polyGEXY))) = 1.121995426822635\n",
      "*********************************** TSSOS ***********************************\n",
      "TSSOS is launching...\n",
      "-----------------------------------------------------------------------------\n",
      "The clique sizes of varibles:\n",
      "[2, 1]\n",
      "[3, 1]\n",
      "-----------------------------------------------------------------------------\n",
      "termination status: SLOW_PROGRESS\n",
      "solution status: NO_SOLUTION\n",
      "optimum = 2.0458789347970433e-9\n",
      "Found a locally optimal solution by Ipopt, giving an upper bound: 0.00270610.\n",
      "The relative optimality gap is: 0.270610%.\n",
      "Found a locally optimal solution by Ipopt, giving an upper bound: 0.00270610.\n",
      "The relative optimality gap is: 0.270610%.\n",
      "termination status: SLOW_PROGRESS\n",
      "solution status: UNKNOWN_RESULT_STATUS\n",
      "optimum = 0.26888228257846747\n",
      "Found a locally optimal solution by Ipopt, giving an upper bound: 0.00270610.\n",
      "The relative optimality gap is: 26.617619%.\n",
      "No higher TS step of the CS-TSSOS hierarchy!\n",
      "Found a locally optimal solution by Ipopt, giving an upper bound: 0.00270610.\n",
      "The relative optimality gap is: 26.617619%.\n",
      " status:LOCAL/FAIL\n",
      "D1 D2 D3 D4 D5 D6 D7 D8 D9 D10 Median fidelity for 2.5133: 0.9999539484358304\n",
      "γ =  7.9477\n",
      "minimum(abs.(coefficients(polyGEXY))) = 2.0074183023752405e-5\n",
      "maximum(abs.(coefficients(polyGEXY))) = 0.11832188705831992\n",
      "*********************************** TSSOS ***********************************\n",
      "TSSOS is launching...\n",
      "-----------------------------------------------------------------------------\n",
      "The clique sizes of varibles:\n",
      "[2, 1]\n",
      "[3, 1]\n",
      "-----------------------------------------------------------------------------\n",
      "termination status: SLOW_PROGRESS\n",
      "solution status: FEASIBLE_POINT\n",
      "optimum = 0.28426767488433025\n",
      "Found a locally optimal solution by Ipopt, giving an upper bound: 0.03232961.\n",
      "The relative optimality gap is: 25.193807%.\n",
      "Found a locally optimal solution by Ipopt, giving an upper bound: 0.03232961.\n",
      "The relative optimality gap is: 25.193807%.\n",
      "termination status: SLOW_PROGRESS\n",
      "solution status: UNKNOWN_RESULT_STATUS\n",
      "optimum = 0.2618606671617744\n",
      "Found a locally optimal solution by Ipopt, giving an upper bound: 0.03232961.\n",
      "The relative optimality gap is: 22.953106%.\n",
      "No higher TS step of the CS-TSSOS hierarchy!\n",
      "Found a locally optimal solution by Ipopt, giving an upper bound: 0.03232961.\n",
      "The relative optimality gap is: 22.953106%.\n",
      " status:LOCAL/FAIL\n",
      "D1 D2 D3 D4 D5 D6 D7 D8 D9 D10 Median fidelity for 7.9477: 0.999613156156874\n",
      "γ =  25.133\n",
      "minimum(abs.(coefficients(polyGEXY))) = 3.3805717816810843e-6\n",
      "maximum(abs.(coefficients(polyGEXY))) = 0.009218407490170819\n",
      "*********************************** TSSOS ***********************************\n",
      "TSSOS is launching...\n",
      "-----------------------------------------------------------------------------\n",
      "The clique sizes of varibles:\n",
      "[2, 1]\n",
      "[3, 1]\n",
      "-----------------------------------------------------------------------------\n",
      "termination status: SLOW_PROGRESS\n",
      "solution status: UNKNOWN_RESULT_STATUS\n",
      "optimum = 0.3882855358560743\n",
      "Found a locally optimal solution by Ipopt, giving an upper bound: 0.25789535.\n",
      "The relative optimality gap is: 13.039019%.\n",
      "Found a locally optimal solution by Ipopt, giving an upper bound: 0.25789535.\n",
      "The relative optimality gap is: 13.039019%.\n",
      "termination status: SLOW_PROGRESS\n",
      "solution status: UNKNOWN_RESULT_STATUS\n",
      "optimum = 0.37398006854492416\n",
      "Found a locally optimal solution by Ipopt, giving an upper bound: 0.25789535.\n",
      "The relative optimality gap is: 11.608472%.\n",
      "No higher TS step of the CS-TSSOS hierarchy!\n",
      "Found a locally optimal solution by Ipopt, giving an upper bound: 0.25789535.\n",
      "The relative optimality gap is: 11.608472%.\n",
      " status:LOCAL/FAIL\n",
      "D1 D2 D3 D4 D5 D6 D7 D8 D9 D10 Median fidelity for 25.133: 0.9914624480528568\n",
      "γ =  79.477\n",
      "minimum(abs.(coefficients(polyGEXY))) = 5.000441573578376e-7\n",
      "maximum(abs.(coefficients(polyGEXY))) = 0.013675976274955318\n",
      "*********************************** TSSOS ***********************************\n",
      "TSSOS is launching...\n",
      "-----------------------------------------------------------------------------\n",
      "The clique sizes of varibles:\n",
      "[2, 1]\n",
      "[3, 1]\n",
      "-----------------------------------------------------------------------------\n",
      "termination status: SLOW_PROGRESS\n",
      "solution status: FEASIBLE_POINT\n",
      "optimum = 0.655482919705261\n",
      "Found a locally optimal solution by Ipopt, giving an upper bound: 0.65302684.\n",
      "The relative optimality gap is: 0.245608%.\n",
      "Found a locally optimal solution by Ipopt, giving an upper bound: 0.65302684.\n",
      "The relative optimality gap is: 0.245608%.\n",
      "termination status: SLOW_PROGRESS\n",
      "solution status: FEASIBLE_POINT\n",
      "optimum = 0.6590255916632559\n",
      "Found a locally optimal solution by Ipopt, giving an upper bound: 0.65302684.\n",
      "The relative optimality gap is: 0.599875%.\n",
      "No higher TS step of the CS-TSSOS hierarchy!\n",
      "Found a locally optimal solution by Ipopt, giving an upper bound: 0.65302684.\n",
      "The relative optimality gap is: 0.599875%.\n",
      " status:LOCAL/FAIL\n",
      "D1 D2 D3 D4 D5 D6 D7 D8 D9 D10 Median fidelity for 79.477: 0.981392902956681\n",
      "γ =  251.33\n",
      "minimum(abs.(coefficients(polyGEXY))) = 6.04290908211607e-7\n",
      "maximum(abs.(coefficients(polyGEXY))) = 0.037269208611722865\n",
      "*********************************** TSSOS ***********************************\n",
      "TSSOS is launching...\n",
      "-----------------------------------------------------------------------------\n",
      "The clique sizes of varibles:\n",
      "[2, 1]\n",
      "[3, 1]\n",
      "-----------------------------------------------------------------------------\n",
      "optimum = 0.9188160625327132\n",
      "Global optimality certified with relative optimality gap 0.000018%!\n",
      "Global optimality certified with relative optimality gap 0.000018%!\n",
      " status:GLOBAL\n",
      "D1 D2 D3 D4 D5 D6 D7 D8 D9 D10 Median fidelity for 251.33: 0.9463251958399908\n",
      "POP_NEW_TSSOS_LINDBLAD_4_CONSTR_treshold_1e-9_FROB_QO_2024-Aug-19_at_18-36.h5\n"
     ]
    }
   ],
   "source": [
    "println(\" SYSTEM IDENTIFICATION w CONSTRAINED TSSOS and LINDBLAD 5 Frobenius objective QO simulation\")\n",
    "\n",
    "γ = [ \"0.079477\",  \"0.25133\", \"0.79477\", \"2.5133\", \"7.9477\", \"25.133\", \"79.477\", \"251.33\"]\n",
    "\n",
    "date_and_time_string =  string(Dates.format(now(), \"yyyy-u-dd_at_HH-MM\"))\n",
    "\n",
    "evol_data_file_name = \"../DATA/ALL_GAMMAS_B4_D10.h5\"\n",
    "\n",
    "relative_threshold = 1e-9\n",
    "\n",
    "rltrs = string(convert(Int, floor(log10(relative_threshold))))\n",
    "\n",
    "tests_data_file_name = \"POP_NEW_TSSOS_LINDBLAD_4_CONSTR_treshold_1e\"*rltrs*\"_FROB_QO_\"*date_and_time_string * \".h5\"\n",
    "\n",
    "#relative_threshold = 0\n",
    "#tests_data_file_name = \"POP_NEW_TSSOS_KOS_CONSTR_NOtreshold_FROB_QO_\"*date_and_time_string * \".h5\"\n",
    "\n",
    "FminGammas = []\n",
    "FmedianGammas = []\n",
    "FmeanGammas = []\n",
    "Epsilons = []\n",
    "CoefRanges = []\n",
    "#Markovianity = []\n",
    "\n",
    "for γᵢ in γ\n",
    "\n",
    "    println(\"γ =  \"*γᵢ)\n",
    "\n",
    "    tᵍᵉˣʸ , ρᵍᵉˣʸ  = read_GEXY_timeevolution(evol_data_file_name, γᵢ)\n",
    "    polyGEXYfull = lindblad_GEXY_obj(ρᵍᵉˣʸ, tᵍᵉˣʸ, Hˢʸᵐᵇ, Jˢʸᵐᵇ)\n",
    "\n",
    "    push!(CoefRanges, coefficient_range(polyGEXYfull))\n",
    "\n",
    "    #polyGEXY = polyGEXYfull\n",
    "    polyGEXY = filter_odd_terms_by_relative_threshold(polyGEXYfull, relative_threshold)\n",
    "\n",
    "    @show minimum(abs.(coefficients(polyGEXY)))\n",
    "    @show maximum(abs.(coefficients(polyGEXY)))\n",
    "\n",
    "    #sol, opt_val, status = CtrlSID.cs_tssos(polyGEXY, constraints)\n",
    "    sol, status = min_cs_tssos(polyGEXY, constraints)\n",
    "    #min_cs_tssos_scaled\n",
    "\n",
    "    print(\" status:\", status)\n",
    "\n",
    "    Hˢⁱᵈ = convert.(ComplexF64, subs(Hˢʸᵐᵇ, sol))\n",
    "\n",
    "    Jˢⁱᵈ = [convert.(ComplexF64,subs(Jᵢˢʸᵐᵇ, sol)) for Jᵢˢʸᵐᵇ in Jˢʸᵐᵇ]\n",
    "\n",
    "    epsilon = subs(ϵ, sol)\n",
    "\n",
    "    push!(Epsilons, epsilon)\n",
    "    \n",
    "    h5open(tests_dir*tests_data_file_name,\"cw\") do fid\n",
    "        γ_group = create_group(fid, γᵢ) # create gamma coupling group   \n",
    "        γ_group[\"epsilon\"] = convert(Float64, epsilon)\n",
    "        γ_group[\"H\"] = convert.(ComplexF64, Hˢⁱᵈ)\n",
    "        γ_group[\"J1\"] = convert.(ComplexF64, Jˢⁱᵈ[1])\n",
    "        γ_group[\"J2\"] = convert.(ComplexF64, Jˢⁱᵈ[2])\n",
    "        γ_group[\"J3\"] = convert.(ComplexF64, Jˢⁱᵈ[3])\n",
    "        γ_group[\"J4\"] = convert.(ComplexF64, Jˢⁱᵈ[4])\n",
    "        #γ_group[\"J5\"] = convert.(ComplexF64, Jˢⁱᵈ[5])\n",
    "        #γ_group[\"J\"] = convert.(ComplexF64, Jˢⁱᵈ)\n",
    "        γ_group[\"status\"] = status\n",
    "\n",
    "    end\n",
    "\n",
    "    println()\n",
    "\n",
    "    FminStates = []\n",
    "    FmedianStates = []\n",
    "    FmeanStates = []\n",
    "\n",
    "    for state in test_states # loop over initial states\n",
    "        \n",
    "        print(state*\" \")\n",
    "\n",
    "        start_time = time()\n",
    "\n",
    "        tₛ, ρₛ = read_timeevolution(evol_data_file_name, state, γᵢ)\n",
    "        ρₛ = convert(Vector{Matrix{ComplexF64}}, ρₛ)\n",
    "        #bᵗˢᵗ = LiPoSID.bloch(ρₛ)\n",
    "        ρᵗˢᵗ = [DenseOperator(basis,Hermitian(ρₜ)) for ρₜ in ρₛ]\n",
    "        tᵗˢᵗ = convert(Vector{Float64}, tₛ)\n",
    "\n",
    "        ρₒ = DenseOperator(basis, ρₛ[1])\n",
    "        dt = tᵗˢᵗ[2] - tᵗˢᵗ[1]\n",
    "        tᵉⁿᵈ = tᵗˢᵗ[end]\n",
    "\n",
    "        #print(\"effective_Lindblad_ops for Kossakowski\")\n",
    "\n",
    "        #effective_Lindblad = get_lindblad_operators(convert.(ComplexF64, Cˢⁱᵈ), fᴷᴼᴺᴮ)\n",
    "        effective_Lindblad_ops = [DenseOperator(basis,j) for j in Jˢⁱᵈ]\n",
    "\n",
    "        #print(\"Simulating Kossakowski\")\n",
    "\n",
    "        tout, ρ_t_lindblad = timeevolution.master(convert.(Float64, tᵗˢᵗ), ρₒ, DenseOperator(basis, Hˢⁱᵈ), effective_Lindblad_ops)\n",
    "        ρˢⁱᵈ  = [ρₜ.data for ρₜ in ρ_t_lindblad]\n",
    "\n",
    "        #bˢⁱᵈ = LiPoSID.bloch(ρˢⁱᵈ)\n",
    "\n",
    "        F = LiPoSID.fidelity_series(basis, ρₛ, ρˢⁱᵈ)\n",
    "\n",
    "        #Fᴸᴹᴱₑₓ = [abs(fidelity(ρ₁, ρ₂)) for (ρ₁, ρ₂) in zip(ρᵗˢᵗ, ρˢⁱᵈ)]   \n",
    "\n",
    "        h5open(tests_dir*tests_data_file_name,\"cw\") do fid\n",
    "            γ_group = open_group(fid, γᵢ) # open gamma coupling group\n",
    "            init_state_group = create_group(γ_group, state) # create initial state group\n",
    "            init_state_group[\"Fidelity\"] = convert.(Float64, F)\n",
    "            #init_state_group[\"bloch_exact\"] = convert.(Float64, bᵗˢᵗ)\n",
    "            #init_state_group[\"bloch_sid\"] = convert.(Float64, bˢⁱᵈ)\n",
    "            init_state_group[\"tr_dist_grnd\"] = TrDist(ρₛ[1], ρᵍ₀)\n",
    "            init_state_group[\"time\"] = tᵗˢᵗ\n",
    "        end\n",
    "        \n",
    "        FminState = minimum(F)\n",
    "        FmedianState = mean(F)\n",
    "        FmeanState = mean(F)\n",
    "        \n",
    "        push!(FminStates, FminState)\n",
    "        push!(FmedianStates, FmedianState)\n",
    "        push!(FmeanStates, FmeanState)\n",
    "    \n",
    "    end\n",
    "\n",
    "    # Calculate the mean\n",
    "    F_mean_value = mean(FmeanStates)\n",
    "\n",
    "    # Calculate the median\n",
    "    F_median_value = median(FmedianStates)\n",
    "\n",
    "    # Calculate the min\n",
    "    F_min_value = minimum(FminStates)\n",
    "\n",
    "    push!(FminGammas, F_min_value)\n",
    "    push!(FmedianGammas, F_median_value)\n",
    "    push!(FmeanGammas, F_mean_value)\n",
    "\n",
    "    println(\"Median fidelity for \"*γᵢ*\": \", F_median_value)\n",
    "\n",
    "end\n",
    "\n",
    "h5open(tests_dir*tests_data_file_name,\"cw\") do fid\n",
    "    fid[\"F_min\"] = convert.(Float64,FminGammas)\n",
    "    fid[\"F_median\"] = convert.(Float64,FmedianGammas)\n",
    "    fid[\"F_mean\"] = convert.(Float64,FmeanGammas)\n",
    "    fid[\"Energy\"] = convert.(Float64,Epsilons)\n",
    "    fid[\"CoefsRanges\"] = convert.(Float64,CoefRanges)\n",
    "\n",
    "end\n",
    "\n",
    "\n",
    "println(tests_data_file_name)"
   ]
  },
  {
   "cell_type": "code",
   "execution_count": 12,
   "metadata": {},
   "outputs": [
    {
     "name": "stdout",
     "output_type": "stream",
     "text": [
      " SYSTEM IDENTIFICATION w CONSTRAINED TSSOS and KOSSAKOWSKI objective QO simulation\n",
      "γ =  0.079477\n",
      "minimum(abs.(coefficients(polyGEXY))) = 0.00010716999563516075\n",
      "maximum(abs.(coefficients(polyGEXY))) = 501.8627949039175\n",
      " status:Local\n",
      "D1 D2 D3 D4 D5 D6 D7 D8 D9 D10 Median fidelity for 0.079477: 0.9976226185525447\n",
      "γ =  0.25133\n",
      "minimum(abs.(coefficients(polyGEXY))) = 3.45175532950157e-5\n",
      "maximum(abs.(coefficients(polyGEXY))) = 65.37495321955478\n",
      " status:Local\n",
      "D1 D2 D3 D4 D5 D6 D7 D8 D9 D10 Median fidelity for 0.25133: 0.996633883661821\n",
      "γ =  0.79477\n",
      "minimum(abs.(coefficients(polyGEXY))) = 2.1434036477811963e-6\n",
      "maximum(abs.(coefficients(polyGEXY))) = 7.630493479021682\n",
      " status:Local\n",
      "D1 D2 D3 D4 D5 D6 D7 D8 D9 D10 Median fidelity for 0.79477: 0.997693174205029\n",
      "γ =  2.5133\n",
      "minimum(abs.(coefficients(polyGEXY))) = 1.780563581016409e-7\n",
      "maximum(abs.(coefficients(polyGEXY))) = 1.121995426822635\n",
      " status:Local\n",
      "D1 D2 D3 D4 D5 D6 D7 D8 D9 D10 Median fidelity for 2.5133: 0.9990491303024693\n",
      "γ =  7.9477\n",
      "minimum(abs.(coefficients(polyGEXY))) = 6.32778630779926e-6\n",
      "maximum(abs.(coefficients(polyGEXY))) = 0.11832188705831992\n",
      " status:Local\n",
      "D1 D2 D3 D4 D5 D6 D7 D8 D9 D10 Median fidelity for 7.9477: 0.9996748500339911\n",
      "γ =  25.133\n",
      "minimum(abs.(coefficients(polyGEXY))) = 2.355416300923297e-6\n",
      "maximum(abs.(coefficients(polyGEXY))) = 0.009218407490170819\n",
      " status:Local\n",
      "D1 D2 D3 D4 D5 D6 D7 D8 D9 D10 Median fidelity for 25.133: 0.996864583881448\n",
      "γ =  79.477\n",
      "minimum(abs.(coefficients(polyGEXY))) = 1.719930549343024e-7\n",
      "maximum(abs.(coefficients(polyGEXY))) = 0.013675976274955318\n",
      " status:Local\n",
      "D1 D2 D3 D4 D5 D6 D7 D8 D9 D10 Median fidelity for 79.477: 0.9989415676851772\n",
      "γ =  251.33\n",
      "minimum(abs.(coefficients(polyGEXY))) = 3.1754410231438107e-9\n",
      "maximum(abs.(coefficients(polyGEXY))) = 0.037269208611722865\n",
      " status:Local\n",
      "D1 D2 D3 D4 D5 D6 D7 D8 D9 D10 Median fidelity for 251.33: 0.9993933099410404\n",
      "POP_NEW_TSSOS_KOS_QO_sim2024-Jul-18_at_15-59.h5\n"
     ]
    }
   ],
   "source": []
  },
  {
   "cell_type": "code",
   "execution_count": 9,
   "metadata": {},
   "outputs": [
    {
     "name": "stdout",
     "output_type": "stream",
     "text": [
      " SYSTEM IDENTIFICATION w CONSTRAINED TSSOS and KOSSAKOWSKI objective QO simulation\n",
      "γ =  0.079477\n",
      "minimum(abs.(coefficients(polyGEXY))) = 7.16715101396591e-37\n",
      "maximum(abs.(coefficients(polyGEXY))) = 501.8627949039175\n",
      " status:Local\n",
      "D1 D2 D3 D4 D5 D6 D7 D8 D9 D10 Median fidelity for 0.079477: 0.9976226185525441\n",
      "γ =  0.25133\n",
      "minimum(abs.(coefficients(polyGEXY))) = 4.658513032068184e-37\n",
      "maximum(abs.(coefficients(polyGEXY))) = 65.37495321955478\n",
      " status:Local\n",
      "D1 D2 D3 D4 D5 D6 D7 D8 D9 D10 Median fidelity for 0.25133: 0.9966338836618186\n",
      "γ =  0.79477\n",
      "minimum(abs.(coefficients(polyGEXY))) = 5.527952391752069e-38\n",
      "maximum(abs.(coefficients(polyGEXY))) = 7.630493479021682\n",
      " status:Local\n",
      "D1 D2 D3 D4 D5 D6 D7 D8 D9 D10 Median fidelity for 0.79477: 0.9976931742050117\n",
      "γ =  2.5133\n",
      "minimum(abs.(coefficients(polyGEXY))) = 9.073762994668326e-39\n",
      "maximum(abs.(coefficients(polyGEXY))) = 1.121995426822635\n",
      " status:Local\n",
      "D1 D2 D3 D4 D5 D6 D7 D8 D9 D10 Median fidelity for 2.5133: 0.9990491303025519\n",
      "γ =  7.9477\n",
      "minimum(abs.(coefficients(polyGEXY))) = 1.7193461182350876e-39\n",
      "maximum(abs.(coefficients(polyGEXY))) = 0.11832188705831992\n",
      " status:Local\n",
      "D1 D2 D3 D4 D5 D6 D7 D8 D9 D10 Median fidelity for 7.9477: 0.9996748500339911\n",
      "γ =  25.133\n",
      "minimum(abs.(coefficients(polyGEXY))) = 6.367480048803581e-42\n",
      "maximum(abs.(coefficients(polyGEXY))) = 0.009218407490170819\n",
      " status:Local\n",
      "D1 D2 D3 D4 D5 D6 D7 D8 D9 D10 Median fidelity for 25.133: 0.996864583881448\n",
      "γ =  79.477\n",
      "minimum(abs.(coefficients(polyGEXY))) = 1.8791391190471421e-41\n",
      "maximum(abs.(coefficients(polyGEXY))) = 0.013675976274955318\n",
      " status:Local\n",
      "D1 D2 D3 D4 D5 D6 D7 D8 D9 D10 Median fidelity for 79.477: 0.9989415676851772\n",
      "γ =  251.33\n",
      "minimum(abs.(coefficients(polyGEXY))) = 8.220398829785196e-42\n",
      "maximum(abs.(coefficients(polyGEXY))) = 0.037269208611722865\n",
      " status:Local\n",
      "D1 D2 D3 D4 D5 D6 D7 D8 D9 D10 Median fidelity for 251.33: 0.9993933099410404\n",
      "POP_NEW_TSSOS_KOS_QO_sim2024-Jul-18_at_15-54.h5\n"
     ]
    }
   ],
   "source": []
  },
  {
   "cell_type": "code",
   "execution_count": 19,
   "metadata": {},
   "outputs": [
    {
     "name": "stdout",
     "output_type": "stream",
     "text": [
      " SYSTEM IDENTIFICATION w CONSTRAINED TSSOS and KOSSAKOWSKI objective QO simulation\n",
      "γ =  0.079477\n",
      " status:Local\n",
      "D1 effective_Lindblad_opsSimulating KossakowskiD2 effective_Lindblad_opsSimulating KossakowskiD3 effective_Lindblad_opsSimulating KossakowskiD4 effective_Lindblad_opsSimulating KossakowskiD5 effective_Lindblad_opsSimulating KossakowskiD6 effective_Lindblad_opsSimulating KossakowskiD7 effective_Lindblad_opsSimulating KossakowskiD8 effective_Lindblad_opsSimulating KossakowskiD9 effective_Lindblad_opsSimulating KossakowskiD10 effective_Lindblad_opsSimulating KossakowskiMedian fidelity for 0.079477: 0.9976226185525441\n",
      "γ =  0.25133\n",
      " status:Local\n",
      "D1 effective_Lindblad_opsSimulating KossakowskiD2 effective_Lindblad_opsSimulating KossakowskiD3 effective_Lindblad_opsSimulating KossakowskiD4 effective_Lindblad_opsSimulating KossakowskiD5 effective_Lindblad_opsSimulating KossakowskiD6 effective_Lindblad_opsSimulating KossakowskiD7 effective_Lindblad_opsSimulating KossakowskiD8 effective_Lindblad_opsSimulating KossakowskiD9 effective_Lindblad_opsSimulating KossakowskiD10 effective_Lindblad_opsSimulating KossakowskiMedian fidelity for 0.25133: 0.9966338836618186\n",
      "γ =  0.79477\n",
      " status:Local\n",
      "D1 effective_Lindblad_opsSimulating KossakowskiD2 effective_Lindblad_opsSimulating KossakowskiD3 effective_Lindblad_opsSimulating KossakowskiD4 effective_Lindblad_opsSimulating KossakowskiD5 effective_Lindblad_opsSimulating KossakowskiD6 effective_Lindblad_opsSimulating KossakowskiD7 effective_Lindblad_opsSimulating KossakowskiD8 effective_Lindblad_opsSimulating KossakowskiD9 effective_Lindblad_opsSimulating KossakowskiD10 effective_Lindblad_opsSimulating KossakowskiMedian fidelity for 0.79477: 0.9976931742050117\n",
      "γ =  2.5133\n",
      " status:Local\n",
      "D1 effective_Lindblad_opsSimulating KossakowskiD2 effective_Lindblad_opsSimulating KossakowskiD3 effective_Lindblad_opsSimulating KossakowskiD4 effective_Lindblad_opsSimulating KossakowskiD5 effective_Lindblad_opsSimulating KossakowskiD6 effective_Lindblad_opsSimulating KossakowskiD7 effective_Lindblad_opsSimulating KossakowskiD8 effective_Lindblad_opsSimulating KossakowskiD9 effective_Lindblad_opsSimulating KossakowskiD10 effective_Lindblad_opsSimulating KossakowskiMedian fidelity for 2.5133: 0.9990491303025519\n",
      "γ =  7.9477\n",
      " status:Local\n",
      "D1 effective_Lindblad_opsSimulating KossakowskiD2 effective_Lindblad_opsSimulating KossakowskiD3 effective_Lindblad_opsSimulating KossakowskiD4 effective_Lindblad_opsSimulating KossakowskiD5 effective_Lindblad_opsSimulating KossakowskiD6 effective_Lindblad_opsSimulating KossakowskiD7 effective_Lindblad_opsSimulating KossakowskiD8 effective_Lindblad_opsSimulating KossakowskiD9 effective_Lindblad_opsSimulating KossakowskiD10 effective_Lindblad_opsSimulating KossakowskiMedian fidelity for 7.9477: 0.9996748500339911\n",
      "γ =  25.133\n",
      " status:Local\n",
      "D1 effective_Lindblad_opsSimulating KossakowskiD2 effective_Lindblad_opsSimulating KossakowskiD3 effective_Lindblad_opsSimulating KossakowskiD4 effective_Lindblad_opsSimulating KossakowskiD5 effective_Lindblad_opsSimulating KossakowskiD6 effective_Lindblad_opsSimulating KossakowskiD7 effective_Lindblad_opsSimulating KossakowskiD8 effective_Lindblad_opsSimulating KossakowskiD9 effective_Lindblad_opsSimulating KossakowskiD10 effective_Lindblad_opsSimulating KossakowskiMedian fidelity for 25.133: 0.996864583881448\n",
      "γ =  79.477\n",
      " status:Local\n",
      "D1 effective_Lindblad_opsSimulating KossakowskiD2 effective_Lindblad_opsSimulating KossakowskiD3 effective_Lindblad_opsSimulating KossakowskiD4 effective_Lindblad_opsSimulating KossakowskiD5 effective_Lindblad_opsSimulating KossakowskiD6 effective_Lindblad_opsSimulating KossakowskiD7 effective_Lindblad_opsSimulating KossakowskiD8 effective_Lindblad_opsSimulating KossakowskiD9 effective_Lindblad_opsSimulating KossakowskiD10 effective_Lindblad_opsSimulating KossakowskiMedian fidelity for 79.477: 0.9989415676851772\n",
      "γ =  251.33\n",
      " status:Local\n",
      "D1 effective_Lindblad_opsSimulating KossakowskiD2 effective_Lindblad_opsSimulating KossakowskiD3 effective_Lindblad_opsSimulating KossakowskiD4 effective_Lindblad_opsSimulating KossakowskiD5 effective_Lindblad_opsSimulating KossakowskiD6 effective_Lindblad_opsSimulating KossakowskiD7 effective_Lindblad_opsSimulating KossakowskiD8 effective_Lindblad_opsSimulating KossakowskiD9 effective_Lindblad_opsSimulating KossakowskiD10 effective_Lindblad_opsSimulating KossakowskiMedian fidelity for 251.33: 0.9993933099410404\n",
      "POP_NEW_TSSOS_KOS_QO_sim2024-Jul-18_at_12-19.h5\n"
     ]
    }
   ],
   "source": []
  },
  {
   "cell_type": "code",
   "execution_count": 17,
   "metadata": {},
   "outputs": [
    {
     "name": "stdout",
     "output_type": "stream",
     "text": [
      " SYSTEM IDENTIFICATION w CONSTRAINED TSSOS and KOSSAKOWSKI objective\n",
      "γ =  0.079477\n",
      " status:Local\n",
      "D1 D2 D3 D4 D5 D6 D7 D8 D9 D10 Median fidelity for 0.079477: 0.9977046690410768\n",
      "γ =  0.25133\n",
      " status:Local\n",
      "D1 D2 D3 D4 D5 D6 D7 D8 D9 D10 Median fidelity for 0.25133: 0.9966807880531685\n",
      "γ =  0.79477\n",
      " status:Local\n",
      "D1 D2 D3 D4 D5 D6 D7 D8 D9 D10 Median fidelity for 0.79477: 0.9977004864050036\n",
      "γ =  2.5133\n",
      " status:Local\n",
      "D1 D2 D3 D4 D5 D6 D7 D8 D9 D10 Median fidelity for 2.5133: 0.999049835240695\n",
      "γ =  7.9477\n",
      " status:Local\n",
      "D1 D2 D3 D4 D5 D6 D7 D8 D9 D10 Median fidelity for 7.9477: 0.9996748517732994\n",
      "γ =  25.133\n",
      " status:Local\n",
      "D1 D2 D3 D4 D5 D6 D7 D8 D9 D10 Median fidelity for 25.133: 0.9968645845347491\n",
      "γ =  79.477\n",
      " status:Local\n",
      "D1 D2 D3 D4 D5 D6 D7 D8 D9 D10 Median fidelity for 79.477: 0.9989415677938539\n",
      "γ =  251.33\n",
      " status:Local\n",
      "D1 D2 D3 D4 D5 D6 D7 D8 D9 D10 Median fidelity for 251.33: 0.999393310891379\n",
      "POP_NEW_TSSOS_KOS_2024-Jun-15_at_04-22.h5\n"
     ]
    }
   ],
   "source": []
  },
  {
   "cell_type": "code",
   "execution_count": 18,
   "metadata": {},
   "outputs": [
    {
     "name": "stdout",
     "output_type": "stream",
     "text": [
      "POP_NEW_TSSOS_KOS_2024-Jun-15_at_04-22.h5\n"
     ]
    }
   ],
   "source": [
    "println(tests_data_file_name)"
   ]
  }
 ],
 "metadata": {
  "kernelspec": {
   "display_name": "Julia 1.10.2",
   "language": "julia",
   "name": "julia-1.10"
  },
  "language_info": {
   "file_extension": ".jl",
   "mimetype": "application/julia",
   "name": "julia",
   "version": "1.10.2"
  }
 },
 "nbformat": 4,
 "nbformat_minor": 2
}
