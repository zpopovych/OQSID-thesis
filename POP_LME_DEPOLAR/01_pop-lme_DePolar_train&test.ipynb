{
 "cells": [
  {
   "cell_type": "code",
   "execution_count": 1,
   "metadata": {},
   "outputs": [],
   "source": [
    "include(\"../LiPoSID.jl\")\n",
    "using QuantumOptics\n",
    "basis = NLevelBasis(2)\n",
    "using LinearAlgebra\n",
    "using HDF5\n",
    "using DynamicPolynomials\n",
    "using Plots\n",
    "using Dates\n",
    "\n",
    "using Optim\n",
    "using Random"
   ]
  },
  {
   "cell_type": "markdown",
   "metadata": {},
   "source": [
    "Consider simple Lindblad master equation with two dissipators:\n",
    "\n",
    "$m\n",
    "     \\frac{d\\rho}{dt} = - \\frac{i}{\\hbar}[H, \\rho]+\\gamma_1\\left[J_1 \\rho J_1^\\dagger - \\frac{1}{2}\\left\\{ J_1^\\dagger J_1, \\rho \\right\\} \\right]\n",
    "     +\\gamma_2\\left[J_2 \\rho J_2^\\dagger - \\frac{1}{2}\\left\\{ J_2^\\dagger J_2, \\rho \\right\\} \\right]\n",
    "$,\n",
    "\n",
    "where Hamiltonian is hermitian with one of the diagonal elemnets set to zero\n",
    "\n",
    "\n",
    "$\n",
    "    H = \\begin{pmatrix} w & 0 \\\\ 0 & 0\n",
    "   \\end{pmatrix}\n",
    "$\n",
    "\n",
    " withot loss of generality we can possibly look for jump operator of the form:\n",
    "\n",
    "$\n",
    "J_1 = \\begin{pmatrix} 0 & a \\\\ 0 & 0 \n",
    "   \\end{pmatrix} = \n",
    "   \\begin{pmatrix} 0 & \\sqrt{\\gamma_1} \\\\ 0 & 0 \n",
    "   \\end{pmatrix}\n",
    "$\n",
    "\n",
    "$\n",
    "J_2 = \\begin{pmatrix} d & 0 \\\\ 0 & -d \n",
    "   \\end{pmatrix} = \n",
    "   \\begin{pmatrix} \\sqrt{\\gamma_2} & 0 \\\\ 0 & -\\sqrt{\\gamma_2} \n",
    "   \\end{pmatrix}\n",
    "$"
   ]
  },
  {
   "cell_type": "markdown",
   "metadata": {},
   "source": [
    "$\n",
    "J_4 = \\begin{pmatrix} 0 & p \\\\ p & 0 \n",
    "   \\end{pmatrix} = \\sqrt{\\gamma_4/3} \n",
    "   \\begin{pmatrix} 0 & 1\\\\ 1 & 0 \n",
    "   \\end{pmatrix}\n",
    "$\n",
    "\n",
    "$\n",
    "J_5 = \\begin{pmatrix} 0 & -i p \\\\ i p & 0 \n",
    "   \\end{pmatrix} = \\sqrt{\\gamma_4/3}\n",
    "   \\begin{pmatrix} 0 & -i \\\\ i & 0 \n",
    "   \\end{pmatrix}\n",
    "$\n",
    "\n",
    "$\n",
    "J_6 = \\begin{pmatrix} p & 0 \\\\ 0 & -p\n",
    "   \\end{pmatrix} = \\sqrt{\\gamma_4/3}\n",
    "   \\begin{pmatrix} 1 & 0 \\\\ 0 & -1 \n",
    "   \\end{pmatrix}\n",
    "$"
   ]
  },
  {
   "cell_type": "code",
   "execution_count": 3,
   "metadata": {},
   "outputs": [
    {
     "data": {
      "text/plain": [
       "g_objective_dePolar (generic function with 1 method)"
      ]
     },
     "metadata": {},
     "output_type": "display_data"
    }
   ],
   "source": [
    "# Define polynomial variables\n",
    "@polyvar w a d p\n",
    "\n",
    "Hˢʸᵐᵇ = [ w   0\n",
    "          0   0. ]\n",
    "\n",
    "J₁ˢʸᵐᵇ = [ 0   a\n",
    "           0   0. ]\n",
    "\n",
    "J₂ˢʸᵐᵇ = d * [ 1    0\n",
    "               0   -1. ]\n",
    "\n",
    "J₄ˢʸᵐᵇ = p * [ 0    1\n",
    "               1    0. ]\n",
    "\n",
    "J₅ˢʸᵐᵇ = p * [ 0   -im\n",
    "               im   0  ]\n",
    "\n",
    "J₆ˢʸᵐᵇ = p * [ 1    0\n",
    "               0   -1. ]\n",
    "\n",
    "\n",
    "function g_objective_dePolar(γᵢ)\n",
    "\n",
    "    objₑₓ = 0\n",
    "\n",
    "    for df_trn in train_files # loop over initial states\n",
    "\n",
    "        ρᵗʳⁿ, tᵗʳⁿ = LiPoSID.get_rho_series(data_dir*df_trn*\"_2CUT_data.h5\", γᵢ)\n",
    "        \n",
    "        if length(tᵗʳⁿ) > 1200 end_train = 1200 else end_train = length(tᵗʳⁿ) end\n",
    "            \n",
    "        ρᵗʳⁿ = convert(Vector{Matrix{ComplexF64}}, ρᵗʳⁿ[1:end_train])\n",
    "        \n",
    "        tᵗʳⁿ = convert(Vector{Float64}, tᵗʳⁿ[1:end_train])\n",
    "\n",
    "        objₑₓ += LiPoSID.simpson_obj(ρᵗʳⁿ, tᵗʳⁿ,  Hˢʸᵐᵇ, [J₁ˢʸᵐᵇ, J₂ˢʸᵐᵇ, J₄ˢʸᵐᵇ, J₅ˢʸᵐᵇ, J₆ˢʸᵐᵇ])\n",
    "        \n",
    "    end # of files (initial states) loop\n",
    "\n",
    "    return(objₑₓ)\n",
    "end"
   ]
  },
  {
   "cell_type": "code",
   "execution_count": 4,
   "metadata": {},
   "outputs": [
    {
     "data": {
      "text/plain": [
       "local_rand_min (generic function with 1 method)"
      ]
     },
     "metadata": {},
     "output_type": "display_data"
    }
   ],
   "source": [
    "\n",
    "function scaling_poly(p::Polynomial)\n",
    "\n",
    "    X = transpose(hcat([exponents(t) for t in terms(p)]...))\n",
    "\n",
    "    # Get the scaling via linear regression\n",
    "    scaling = X \\ log.(abs.(coefficients(p)))\n",
    "\n",
    "    exp.(abs.(scaling)) # \n",
    "end\n",
    "\n",
    "function local_rand_min(p)\n",
    "\n",
    "    pd = p / maximum(abs.(coefficients(p)))\n",
    "\n",
    "    # find variable scaling\n",
    "    scale = scaling_poly(pd)\n",
    "\n",
    "    # scale the polynomial\n",
    "    p_scaled = subs(pd, variables(pd) => scale .* variables(pd))\n",
    "\n",
    "    num_iterations = 100\n",
    "\n",
    "    # Initialize the best minimizer and the minimum value\n",
    "    best_minimizer = nothing\n",
    "    best_min_value = Inf\n",
    "\n",
    "    num_of_variables = length(variables(pd))\n",
    "\n",
    "    for _ in 1:num_iterations\n",
    "        # Generate a random initial condition\n",
    "        initial_point = rand(num_of_variables).*250\n",
    "\n",
    "        # Run local optimization\n",
    "        result = Optim.optimize(p_scaled, initial_point, BFGS())\n",
    "        #println(Optim.minimum(result))\n",
    "\n",
    "        # Update the best minimizer if a better one is found\n",
    "        if Optim.minimum(result) < best_min_value\n",
    "            \n",
    "            best_minimizer = Optim.minimizer(result)\n",
    "            best_min_value = Optim.minimum(result)\n",
    "            \n",
    "        end\n",
    "\n",
    "    end\n",
    "\n",
    "    best_minimizer = abs.(best_minimizer) # to make gamma positive\n",
    "\n",
    "    minimizer_scaled = scale .* best_minimizer\n",
    "\n",
    "    solution = variables(p_scaled) => minimizer_scaled\n",
    "\n",
    "end"
   ]
  },
  {
   "cell_type": "code",
   "execution_count": 5,
   "metadata": {},
   "outputs": [
    {
     "name": "stdout",
     "output_type": "stream",
     "text": [
      "../DATA/\n"
     ]
    }
   ],
   "source": [
    "data_dir = \"../DATA/\"\n",
    "println(data_dir)\n",
    "\n",
    "models_dir = \"../MODELS/\"\n",
    "tests_dir = \"../TESTS/\"\n",
    "\n",
    "dodeca_files = [\"State_D\"*string(n) for n=1:20];\n",
    "\n",
    "basis_files = [\"State_B\"*string(n) for n=1:4];\n",
    "\n",
    "all_files = vcat(dodeca_files, basis_files)\n",
    "train_files = basis_files \n",
    "test_files = dodeca_files;\n"
   ]
  },
  {
   "cell_type": "code",
   "execution_count": 6,
   "metadata": {},
   "outputs": [
    {
     "name": "stdout",
     "output_type": "stream",
     "text": [
      "γ =  0.079477\n"
     ]
    },
    {
     "name": "stdout",
     "output_type": "stream",
     "text": [
      "State_D1 0.9993707513123821"
     ]
    },
    {
     "name": "stdout",
     "output_type": "stream",
     "text": [
      "\n",
      "State_D2 "
     ]
    },
    {
     "name": "stdout",
     "output_type": "stream",
     "text": [
      "0.9993732513161686\n",
      "State_D3 0.9993721605126965"
     ]
    },
    {
     "name": "stdout",
     "output_type": "stream",
     "text": [
      "\n",
      "State_D4 "
     ]
    },
    {
     "name": "stdout",
     "output_type": "stream",
     "text": [
      "0.9993737126455249\n",
      "State_D5 0.9991872381732454"
     ]
    },
    {
     "name": "stdout",
     "output_type": "stream",
     "text": [
      "\n",
      "State_D6 "
     ]
    },
    {
     "name": "stdout",
     "output_type": "stream",
     "text": [
      "0.99918722318904\n",
      "State_D7 0.9990530256256138"
     ]
    },
    {
     "name": "stdout",
     "output_type": "stream",
     "text": [
      "\n",
      "State_D8 "
     ]
    },
    {
     "name": "stdout",
     "output_type": "stream",
     "text": [
      "0.9990540157724566\n",
      "State_D9 0.9998668466902213"
     ]
    },
    {
     "name": "stdout",
     "output_type": "stream",
     "text": [
      "\n",
      "State_D10 "
     ]
    },
    {
     "name": "stdout",
     "output_type": "stream",
     "text": [
      "0.9998790780761737\n",
      "State_D11 0.999372151645205"
     ]
    },
    {
     "name": "stdout",
     "output_type": "stream",
     "text": [
      "\n",
      "State_D12 "
     ]
    },
    {
     "name": "stdout",
     "output_type": "stream",
     "text": [
      "0.9993737096341992\n",
      "State_D13 0.9993707085513541"
     ]
    },
    {
     "name": "stdout",
     "output_type": "stream",
     "text": [
      "\n",
      "State_D14 "
     ]
    },
    {
     "name": "stdout",
     "output_type": "stream",
     "text": [
      "0.9993732307483494\n",
      "State_D15 0.9991873996320516"
     ]
    },
    {
     "name": "stdout",
     "output_type": "stream",
     "text": [
      "\n",
      "State_D16 "
     ]
    },
    {
     "name": "stdout",
     "output_type": "stream",
     "text": [
      "0.9991873614382027\n",
      "State_D17 0.9990530100485356"
     ]
    },
    {
     "name": "stdout",
     "output_type": "stream",
     "text": [
      "\n",
      "State_D18 "
     ]
    },
    {
     "name": "stdout",
     "output_type": "stream",
     "text": [
      "0.9990540110477605\n",
      "State_D19 0.9998790827709038"
     ]
    },
    {
     "name": "stdout",
     "output_type": "stream",
     "text": [
      "\n",
      "State_D20 "
     ]
    },
    {
     "name": "stdout",
     "output_type": "stream",
     "text": [
      "0.9998668339889241\n",
      "\n",
      "γ =  0.25133\n",
      "State_D1 "
     ]
    },
    {
     "name": "stdout",
     "output_type": "stream",
     "text": [
      "0.9999092481030661\n",
      "State_D2 0.9999012623724854"
     ]
    },
    {
     "name": "stdout",
     "output_type": "stream",
     "text": [
      "\n",
      "State_D3 "
     ]
    },
    {
     "name": "stdout",
     "output_type": "stream",
     "text": [
      "0.9999737483183591\n",
      "State_D4 0.9999844869387132"
     ]
    },
    {
     "name": "stdout",
     "output_type": "stream",
     "text": [
      "\n",
      "State_D5 "
     ]
    },
    {
     "name": "stdout",
     "output_type": "stream",
     "text": [
      "0.9999089034813724\n",
      "State_D6 0.9999089034813724"
     ]
    },
    {
     "name": "stdout",
     "output_type": "stream",
     "text": [
      "\n",
      "State_D7 "
     ]
    },
    {
     "name": "stdout",
     "output_type": "stream",
     "text": [
      "0.9998693058138728\n",
      "State_D8 0.9999670070313936"
     ]
    },
    {
     "name": "stdout",
     "output_type": "stream",
     "text": [
      "\n",
      "State_D9 "
     ]
    },
    {
     "name": "stdout",
     "output_type": "stream",
     "text": [
      "0.9999369992797824\n",
      "State_D10 0.9999946483851534"
     ]
    },
    {
     "name": "stdout",
     "output_type": "stream",
     "text": [
      "\n",
      "State_D11 "
     ]
    },
    {
     "name": "stdout",
     "output_type": "stream",
     "text": [
      "0.9999737483183405\n",
      "State_D12 0.9999844869387132"
     ]
    },
    {
     "name": "stdout",
     "output_type": "stream",
     "text": [
      "\n",
      "State_D13 "
     ]
    },
    {
     "name": "stdout",
     "output_type": "stream",
     "text": [
      "0.9999092481030661\n",
      "State_D14 0.9999012623724854"
     ]
    },
    {
     "name": "stdout",
     "output_type": "stream",
     "text": [
      "\n",
      "State_D15 "
     ]
    },
    {
     "name": "stdout",
     "output_type": "stream",
     "text": [
      "0.9999567582569193\n",
      "State_D16 0.9999567582569193"
     ]
    },
    {
     "name": "stdout",
     "output_type": "stream",
     "text": [
      "\n",
      "State_D17 "
     ]
    },
    {
     "name": "stdout",
     "output_type": "stream",
     "text": [
      "0.9998693058138728\n",
      "State_D18 0.9999670070313936"
     ]
    },
    {
     "name": "stdout",
     "output_type": "stream",
     "text": [
      "\n",
      "State_D19 "
     ]
    },
    {
     "name": "stdout",
     "output_type": "stream",
     "text": [
      "0.9999946483851534\n",
      "State_D20 0.9999369992797824"
     ]
    },
    {
     "name": "stdout",
     "output_type": "stream",
     "text": [
      "\n",
      "\n",
      "γ =  0.79477\n"
     ]
    },
    {
     "name": "stdout",
     "output_type": "stream",
     "text": [
      "State_D1 0.9997010115879168"
     ]
    },
    {
     "name": "stdout",
     "output_type": "stream",
     "text": [
      "\n",
      "State_D2 "
     ]
    },
    {
     "name": "stdout",
     "output_type": "stream",
     "text": [
      "0.9997124611594351\n",
      "State_D3 0.9999082246589616"
     ]
    },
    {
     "name": "stdout",
     "output_type": "stream",
     "text": [
      "\n",
      "State_D4 "
     ]
    },
    {
     "name": "stdout",
     "output_type": "stream",
     "text": [
      "0.9999378260984406\n",
      "State_D5 0.99971160594635"
     ]
    },
    {
     "name": "stdout",
     "output_type": "stream",
     "text": [
      "\n",
      "State_D6 "
     ]
    },
    {
     "name": "stdout",
     "output_type": "stream",
     "text": [
      "0.99971160594635\n",
      "State_D7 0.999563938373055"
     ]
    },
    {
     "name": "stdout",
     "output_type": "stream",
     "text": [
      "\n",
      "State_D8 "
     ]
    },
    {
     "name": "stdout",
     "output_type": "stream",
     "text": [
      "0.999890168685778\n",
      "State_D9 0.9998261686831432"
     ]
    },
    {
     "name": "stdout",
     "output_type": "stream",
     "text": [
      "\n",
      "State_D10 "
     ]
    },
    {
     "name": "stdout",
     "output_type": "stream",
     "text": [
      "0.9999853886328607\n",
      "State_D11 0.9999082246589616"
     ]
    },
    {
     "name": "stdout",
     "output_type": "stream",
     "text": [
      "\n",
      "State_D12 "
     ]
    },
    {
     "name": "stdout",
     "output_type": "stream",
     "text": [
      "0.9999378260984406\n",
      "State_D13 0.9997010115879168"
     ]
    },
    {
     "name": "stdout",
     "output_type": "stream",
     "text": [
      "\n",
      "State_D14 "
     ]
    },
    {
     "name": "stdout",
     "output_type": "stream",
     "text": [
      "0.9997124611594351\n",
      "State_D15 0.999847216088108"
     ]
    },
    {
     "name": "stdout",
     "output_type": "stream",
     "text": [
      "\n",
      "State_D16 "
     ]
    },
    {
     "name": "stdout",
     "output_type": "stream",
     "text": [
      "0.999847216088108\n",
      "State_D17 0.999563938373055"
     ]
    },
    {
     "name": "stdout",
     "output_type": "stream",
     "text": [
      "\n",
      "State_D18 "
     ]
    },
    {
     "name": "stdout",
     "output_type": "stream",
     "text": [
      "0.999890168685778\n",
      "State_D19 0.9999853886328638"
     ]
    },
    {
     "name": "stdout",
     "output_type": "stream",
     "text": [
      "\n",
      "State_D20 "
     ]
    },
    {
     "name": "stdout",
     "output_type": "stream",
     "text": [
      "0.9998261686831432\n",
      "\n",
      "γ =  2.5133\n",
      "State_D1 "
     ]
    },
    {
     "name": "stdout",
     "output_type": "stream",
     "text": [
      "0.9989859727187018\n",
      "State_D2 0.9992683795572875"
     ]
    },
    {
     "name": "stdout",
     "output_type": "stream",
     "text": [
      "\n",
      "State_D3 "
     ]
    },
    {
     "name": "stdout",
     "output_type": "stream",
     "text": [
      "0.9995923200181456\n",
      "State_D4 0.9997206110364008"
     ]
    },
    {
     "name": "stdout",
     "output_type": "stream",
     "text": [
      "\n",
      "State_D5 "
     ]
    },
    {
     "name": "stdout",
     "output_type": "stream",
     "text": [
      "0.9991299059507545\n",
      "State_D6 0.9991299059507545"
     ]
    },
    {
     "name": "stdout",
     "output_type": "stream",
     "text": [
      "\n",
      "State_D7 "
     ]
    },
    {
     "name": "stdout",
     "output_type": "stream",
     "text": [
      "0.9984696511364248\n",
      "State_D8 0.9996159751231026"
     ]
    },
    {
     "name": "stdout",
     "output_type": "stream",
     "text": [
      "\n",
      "State_D9 "
     ]
    },
    {
     "name": "stdout",
     "output_type": "stream",
     "text": [
      "0.9996199585570534\n",
      "State_D10 0.9999643545484213"
     ]
    },
    {
     "name": "stdout",
     "output_type": "stream",
     "text": [
      "\n",
      "State_D11 "
     ]
    },
    {
     "name": "stdout",
     "output_type": "stream",
     "text": [
      "0.9995923200181218\n",
      "State_D12 0.9997206110364008"
     ]
    },
    {
     "name": "stdout",
     "output_type": "stream",
     "text": [
      "\n",
      "State_D13 "
     ]
    },
    {
     "name": "stdout",
     "output_type": "stream",
     "text": [
      "0.9989859727187018\n",
      "State_D14 0.9992683795572875"
     ]
    },
    {
     "name": "stdout",
     "output_type": "stream",
     "text": [
      "\n",
      "State_D15 "
     ]
    },
    {
     "name": "stdout",
     "output_type": "stream",
     "text": [
      "0.9994322769804385\n",
      "State_D16 0.9994322769804779"
     ]
    },
    {
     "name": "stdout",
     "output_type": "stream",
     "text": [
      "\n",
      "State_D17 "
     ]
    },
    {
     "name": "stdout",
     "output_type": "stream",
     "text": [
      "0.9984696511364248\n",
      "State_D18 0.9996159751231025"
     ]
    },
    {
     "name": "stdout",
     "output_type": "stream",
     "text": [
      "\n",
      "State_D19 "
     ]
    },
    {
     "name": "stdout",
     "output_type": "stream",
     "text": [
      "0.9999643545484213\n",
      "State_D20 0.9996199585569571"
     ]
    },
    {
     "name": "stdout",
     "output_type": "stream",
     "text": [
      "\n",
      "\n",
      "γ =  7.9477\n"
     ]
    },
    {
     "name": "stdout",
     "output_type": "stream",
     "text": [
      "State_D1 0.9970438651782187"
     ]
    },
    {
     "name": "stdout",
     "output_type": "stream",
     "text": [
      "\n",
      "State_D2 "
     ]
    },
    {
     "name": "stdout",
     "output_type": "stream",
     "text": [
      "0.9984943767791961\n",
      "State_D3 0.9978142614979912"
     ]
    },
    {
     "name": "stdout",
     "output_type": "stream",
     "text": [
      "\n",
      "State_D4 "
     ]
    },
    {
     "name": "stdout",
     "output_type": "stream",
     "text": [
      "0.9988230206660395\n",
      "State_D5 0.9976308047876229"
     ]
    },
    {
     "name": "stdout",
     "output_type": "stream",
     "text": [
      "\n",
      "State_D6 "
     ]
    },
    {
     "name": "stdout",
     "output_type": "stream",
     "text": [
      "0.9976308047876612\n",
      "State_D7 0.9950425368364534"
     ]
    },
    {
     "name": "stdout",
     "output_type": "stream",
     "text": [
      "\n",
      "State_D8 "
     ]
    },
    {
     "name": "stdout",
     "output_type": "stream",
     "text": [
      "0.9981989278053369\n",
      "State_D9 0.9995527294667536"
     ]
    },
    {
     "name": "stdout",
     "output_type": "stream",
     "text": [
      "\n",
      "State_D10 "
     ]
    },
    {
     "name": "stdout",
     "output_type": "stream",
     "text": [
      "0.9997210861673941\n",
      "State_D11 0.9978142614979912"
     ]
    },
    {
     "name": "stdout",
     "output_type": "stream",
     "text": [
      "\n",
      "State_D12 "
     ]
    },
    {
     "name": "stdout",
     "output_type": "stream",
     "text": [
      "0.9988230206660395\n",
      "State_D13 0.9970438651782187"
     ]
    },
    {
     "name": "stdout",
     "output_type": "stream",
     "text": [
      "\n",
      "State_D14 "
     ]
    },
    {
     "name": "stdout",
     "output_type": "stream",
     "text": [
      "0.9984943767792435\n",
      "State_D15 0.9979572626709206"
     ]
    },
    {
     "name": "stdout",
     "output_type": "stream",
     "text": [
      "\n",
      "State_D16 "
     ]
    },
    {
     "name": "stdout",
     "output_type": "stream",
     "text": [
      "0.9979572626709206\n",
      "State_D17 0.9950425368364534"
     ]
    },
    {
     "name": "stdout",
     "output_type": "stream",
     "text": [
      "\n",
      "State_D18 "
     ]
    },
    {
     "name": "stdout",
     "output_type": "stream",
     "text": [
      "0.9981989278053369\n",
      "State_D19 0.9997210861673941"
     ]
    },
    {
     "name": "stdout",
     "output_type": "stream",
     "text": [
      "\n",
      "State_D20 "
     ]
    },
    {
     "name": "stdout",
     "output_type": "stream",
     "text": [
      "0.9995527294668101\n",
      "\n",
      "γ =  25.133\n",
      "State_D1 "
     ]
    },
    {
     "name": "stdout",
     "output_type": "stream",
     "text": [
      "0.9912493256311957\n",
      "State_D2 0.9945606535759082\n",
      "State_D3 "
     ]
    },
    {
     "name": "stdout",
     "output_type": "stream",
     "text": [
      "0.9912770799185101\n",
      "State_D4 0.9941334054450229\n",
      "State_D5 0.9946796270332892\n",
      "State_D6 0.9946796270332918"
     ]
    },
    {
     "name": "stdout",
     "output_type": "stream",
     "text": [
      "\n",
      "State_D7 0.9871992217010104\n",
      "State_D8 0.9893665424979006\n",
      "State_D9 "
     ]
    },
    {
     "name": "stdout",
     "output_type": "stream",
     "text": [
      "0.9984777794296116\n",
      "State_D10 0.9979612133266609\n",
      "State_D11 0.9912770799185043\n",
      "State_D12 0.9941334054450608"
     ]
    },
    {
     "name": "stdout",
     "output_type": "stream",
     "text": [
      "\n",
      "State_D13 0.9912493256311957\n",
      "State_D14 0.9945606535759082\n",
      "State_D15 "
     ]
    },
    {
     "name": "stdout",
     "output_type": "stream",
     "text": [
      "0.9963191214771104\n",
      "State_D16 0.9963191214771167\n",
      "State_D17 0.9871992217010007\n",
      "State_D18 0.9893665424980637"
     ]
    },
    {
     "name": "stdout",
     "output_type": "stream",
     "text": [
      "\n",
      "State_D19 0.9979612133266609\n",
      "State_D20 0.9984777794296161\n",
      "\n",
      "γ =  79.477\n"
     ]
    },
    {
     "name": "stdout",
     "output_type": "stream",
     "text": [
      "State_D1 0.9969894120632947\n",
      "State_D2 0.9990132208917099\n",
      "State_D3 0.9971037954796111\n",
      "State_D4 0.9991496641385891\n",
      "State_D5 0.9994631366249771"
     ]
    },
    {
     "name": "stdout",
     "output_type": "stream",
     "text": [
      "\n",
      "State_D6 0.9994631366249486\n",
      "State_D7 0.994337815618668\n",
      "State_D8 0.9964449810523524\n",
      "State_D9 0.9990832933496454\n",
      "State_D10 "
     ]
    },
    {
     "name": "stdout",
     "output_type": "stream",
     "text": [
      "0.9992869656681277\n",
      "State_D11 0.9971037954795787\n",
      "State_D12 0.9991496641385906\n",
      "State_D13 0.9969894120633466\n",
      "State_D14 0.9990132208917449\n",
      "State_D15 0.9995501067402006"
     ]
    },
    {
     "name": "stdout",
     "output_type": "stream",
     "text": [
      "\n",
      "State_D16 0.9995501067401849\n",
      "State_D17 0.9943378156187928\n",
      "State_D18 0.9964449810522762\n",
      "State_D19 0.9992869656681599"
     ]
    },
    {
     "name": "stdout",
     "output_type": "stream",
     "text": [
      "\n",
      "State_D20 0.9990832933495986\n",
      "\n",
      "γ =  251.33\n",
      "State_D1 "
     ]
    },
    {
     "name": "stdout",
     "output_type": "stream",
     "text": [
      "0.9965339473045491\n",
      "State_D2 0.9951093503525048\n",
      "State_D3 0.9958421878479768\n",
      "State_D4 0.9944692759796881\n",
      "State_D5 0.9934854652106051\n",
      "State_D6 0.9934854652106051\n",
      "State_D7 0.9990658469570304\n",
      "State_D8 0.9982634757882789\n",
      "State_D9 "
     ]
    },
    {
     "name": "stdout",
     "output_type": "stream",
     "text": [
      "0.9947900146852064\n",
      "State_D10 0.9936924410496394\n",
      "State_D11 0.9958421878479664\n",
      "State_D12 0.9944692759796881\n",
      "State_D13 0.9965339473045491\n",
      "State_D14 0.9951093503525679\n",
      "State_D15 0.9930634793621252\n",
      "State_D16 0.993063479362079\n",
      "State_D17 "
     ]
    },
    {
     "name": "stdout",
     "output_type": "stream",
     "text": [
      "0.999065846956796\n",
      "State_D18 0.9982634757882748\n",
      "State_D19 0.9936924410496394\n",
      "State_D20 0.9947900146850988\n",
      "\n",
      "POP_LME_dePolar_random_trn4_tst20_2024-Jan-14_at_15-32.h5\n"
     ]
    }
   ],
   "source": [
    "γ = [ \"0.079477\",  \"0.25133\", \"0.79477\", \"2.5133\", \"7.9477\", \"25.133\", \"79.477\", \"251.33\"]\n",
    "\n",
    "date_and_time_string =  string(Dates.format(now(), \"yyyy-u-dd_at_HH-MM\"))\n",
    "\n",
    "tests_data_file_name = \"POP_LME_dePolar_random_trn4_tst20_\"*date_and_time_string * \".h5\"\n",
    "\n",
    "for γᵢ in γ\n",
    "\n",
    "    println(\"γ =  \"*γᵢ)\n",
    "\n",
    "    poly = g_objective_dePolar(γᵢ)\n",
    "    \n",
    "    sol = local_rand_min(poly)\n",
    "\n",
    "    Hˢⁱᵈ = subs(Hˢʸᵐᵇ, sol)\n",
    "    J₁ˢⁱᵈ = subs(J₁ˢʸᵐᵇ, sol)\n",
    "    J₂ˢⁱᵈ = subs(J₂ˢʸᵐᵇ, sol)\n",
    "\n",
    "    J₄ˢⁱᵈ = subs(J₄ˢʸᵐᵇ, sol)\n",
    "    J₅ˢⁱᵈ = subs(J₅ˢʸᵐᵇ, sol)\n",
    "    J₆ˢⁱᵈ = subs(J₆ˢʸᵐᵇ, sol)\n",
    "\n",
    "\n",
    "    h5open(tests_dir*tests_data_file_name,\"cw\") do fid\n",
    "        γ_group = create_group(fid, \"gamma_\"*γᵢ) # create coupling group        \n",
    "    end\n",
    "\n",
    "    for df in test_files # loop over initial states\n",
    "        \n",
    "        print(df*\" \")\n",
    "\n",
    "        start_time = time()\n",
    "\n",
    "        ρₛ, tₛ = LiPoSID.get_rho_series(data_dir*df*\"_2CUT_data.h5\", γᵢ)\n",
    "        ρₛ = convert(Vector{Matrix{ComplexF64}}, ρₛ)\n",
    "\n",
    "        ρᵗˢᵗ = [DenseOperator(basis,Hermitian(ρₜ)) for ρₜ in ρₛ]\n",
    "        tᵗˢᵗ = convert(Vector{Float64}, tₛ)\n",
    "\n",
    "        tˢⁱᵈ, ρˢⁱᵈ  = timeevolution.master(tᵗˢᵗ, ρᵗˢᵗ[1], DenseOperator(basis,Hˢⁱᵈ), \n",
    "                    [ DenseOperator(basis,J₁ˢⁱᵈ), DenseOperator(basis,J₂ˢⁱᵈ), DenseOperator(basis,J₄ˢⁱᵈ), DenseOperator(basis,J₅ˢⁱᵈ), DenseOperator(basis,J₆ˢⁱᵈ)])\n",
    "\n",
    "        Fᴸᴹᴱₑₓ = [abs(fidelity(ρ₁, ρ₂)) for (ρ₁, ρ₂) in zip(ρᵗˢᵗ, ρˢⁱᵈ)]                    \n",
    "\n",
    "        h5open(tests_dir*tests_data_file_name,\"cw\") do fid\n",
    "            γ_group = open_group(fid, \"gamma_\"*γᵢ) # open coupling group\n",
    "\n",
    "            init_state_group = create_group(γ_group, df) # create initial state group\n",
    "            init_state_group[\"F_lme_exact\"] = convert.(Float64, Fᴸᴹᴱₑₓ)\n",
    "            \n",
    "        end\n",
    "                    \n",
    "        println(minimum(Fᴸᴹᴱₑₓ))\n",
    "    \n",
    "    end\n",
    "\n",
    "    println()\n",
    "end\n",
    "\n",
    "println(tests_data_file_name)"
   ]
  },
  {
   "cell_type": "code",
   "execution_count": 16,
   "metadata": {},
   "outputs": [],
   "source": []
  }
 ],
 "metadata": {
  "kernelspec": {
   "display_name": "Julia 1.10.0",
   "language": "julia",
   "name": "julia-1.10"
  },
  "language_info": {
   "file_extension": ".jl",
   "mimetype": "application/julia",
   "name": "julia",
   "version": "1.10.0"
  }
 },
 "nbformat": 4,
 "nbformat_minor": 2
}
