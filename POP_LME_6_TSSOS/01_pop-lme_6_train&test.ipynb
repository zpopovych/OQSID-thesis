{
 "cells": [
  {
   "cell_type": "code",
   "execution_count": 1,
   "metadata": {},
   "outputs": [],
   "source": [
    "include(\"../LiPoSID.jl\")\n",
    "using QuantumOptics\n",
    "basis = NLevelBasis(2)\n",
    "using LinearAlgebra\n",
    "using HDF5\n",
    "using DynamicPolynomials\n",
    "using Plots\n",
    "using Dates\n",
    "\n",
    "using Optim\n",
    "using Random\n",
    "\n",
    "using TSSOS"
   ]
  },
  {
   "cell_type": "markdown",
   "metadata": {},
   "source": [
    "Consider simple Lindblad master equation with two dissipators:\n",
    "\n",
    "$\n",
    "    \\frac{d\\rho}{dt} = -\\frac{i}{\\hbar} [H,\\rho(t)] + \\mathcal{D}[\\rho(t)] = - \\frac{i}{\\hbar}[H, \\rho]+\\sum_{\\ell=1}^{s-1}\\left[J_\\ell \\rho J_\\ell^\\dagger - \\frac{1}{2}\\left\\{ J_\\ell^\\dagger J_\\ell, \\rho \\right\\} \\right],\n",
    "$\n",
    "\n",
    "where Hamiltonian is hermitian with one of the diagonal elemnets set to zero\n",
    "\n",
    "\n",
    "$\n",
    "    H = \\begin{pmatrix} w & 0 \\\\ 0 & 0\n",
    "   \\end{pmatrix}\n",
    "$\n",
    "\n",
    " withot loss of generality we can possibly look for jump operator of the form:\n",
    "\n",
    "$\n",
    "J_1 = \\begin{pmatrix} 0 & a \\\\ 0 & 0 \n",
    "   \\end{pmatrix} = \n",
    "   \\begin{pmatrix} 0 & \\sqrt{\\gamma_1} \\\\ 0 & 0 \n",
    "   \\end{pmatrix}\n",
    "$\n",
    "\n",
    "$\n",
    "J_2 = \\begin{pmatrix} d & 0 \\\\ 0 & -d \n",
    "   \\end{pmatrix} = \n",
    "   \\begin{pmatrix} \\sqrt{\\gamma_2} & 0 \\\\ 0 & -\\sqrt{\\gamma_2} \n",
    "   \\end{pmatrix}\n",
    "$\n",
    "\n",
    "$\n",
    "J_3 = \\begin{pmatrix} 0 & 0 \\\\ e & 0 \n",
    "   \\end{pmatrix} = \n",
    "   \\begin{pmatrix} 0 &  0 \\\\ \\sqrt{\\gamma_3} & 0 \n",
    "   \\end{pmatrix}\n",
    "$"
   ]
  },
  {
   "cell_type": "markdown",
   "metadata": {},
   "source": [
    "$\n",
    "J_4 = \\begin{pmatrix} 0 & p \\\\ p & 0 \n",
    "   \\end{pmatrix} = \\sqrt{\\gamma_4/3} \n",
    "   \\begin{pmatrix} 0 & 1\\\\ 1 & 0 \n",
    "   \\end{pmatrix}\n",
    "$\n",
    "\n",
    "$\n",
    "J_5 = \\begin{pmatrix} 0 & -i p \\\\ i p & 0 \n",
    "   \\end{pmatrix} = \\sqrt{\\gamma_4/3}\n",
    "   \\begin{pmatrix} 0 & -i \\\\ i & 0 \n",
    "   \\end{pmatrix}\n",
    "$\n",
    "\n",
    "$\n",
    "J_6 = \\begin{pmatrix} p & 0 \\\\ 0 & -p\n",
    "   \\end{pmatrix} = \\sqrt{\\gamma_4/3}\n",
    "   \\begin{pmatrix} 1 & 0 \\\\ 0 & -1 \n",
    "   \\end{pmatrix}\n",
    "$"
   ]
  },
  {
   "cell_type": "code",
   "execution_count": 2,
   "metadata": {},
   "outputs": [
    {
     "data": {
      "text/plain": [
       "g_objective_6 (generic function with 1 method)"
      ]
     },
     "metadata": {},
     "output_type": "display_data"
    }
   ],
   "source": [
    "# Define polynomial variables\n",
    "@polyvar w α β r ϕ e p\n",
    "\n",
    "Hˢʸᵐᵇ = [ w   0\n",
    "          0   0. ]\n",
    "\n",
    "#Hˢʸᵐᵇ = [ w           α + im* β\n",
    "#          α + im* β   0.        ]\n",
    "\n",
    "J₁ˢʸᵐᵇ = [ 0   r\n",
    "           0   0. ]\n",
    "\n",
    "J₂ˢʸᵐᵇ = ϕ * [ 1    0\n",
    "               0   -1. ]\n",
    "\n",
    "J₃ˢʸᵐᵇ = [ 0   0\n",
    "           e   0. ]\n",
    "\n",
    "J₄ˢʸᵐᵇ = p * [ 0    1\n",
    "               1    0. ]\n",
    "\n",
    "J₅ˢʸᵐᵇ = p * [ 0   -im\n",
    "               im   0  ]\n",
    "\n",
    "J₆ˢʸᵐᵇ = p * [ 1    0\n",
    "               0   -1. ]\n",
    "\n",
    "\n",
    "function g_objective_6(γᵢ)\n",
    "\n",
    "    objₑₓ = 0\n",
    "\n",
    "    for df_trn in train_files # loop over initial states\n",
    "\n",
    "        ρᵗʳⁿ, tᵗʳⁿ = LiPoSID.get_rho_series(data_dir*df_trn*\"_2CUT_data.h5\", γᵢ)\n",
    "        \n",
    "        if length(tᵗʳⁿ) > 1200 end_train = 1200 else end_train = length(tᵗʳⁿ) end\n",
    "            \n",
    "        ρᵗʳⁿ = convert(Vector{Matrix{ComplexF64}}, ρᵗʳⁿ[1:end_train])\n",
    "        \n",
    "        tᵗʳⁿ = convert(Vector{Float64}, tᵗʳⁿ[1:end_train])\n",
    "\n",
    "        objₑₓ += LiPoSID.simpson_obj(ρᵗʳⁿ, tᵗʳⁿ,  Hˢʸᵐᵇ, [J₁ˢʸᵐᵇ, J₂ˢʸᵐᵇ, J₃ˢʸᵐᵇ, J₄ˢʸᵐᵇ, J₅ˢʸᵐᵇ, J₆ˢʸᵐᵇ])\n",
    "        \n",
    "    end # of files (initial states) loop\n",
    "\n",
    "    return(objₑₓ)\n",
    "end"
   ]
  },
  {
   "cell_type": "code",
   "execution_count": 6,
   "metadata": {},
   "outputs": [
    {
     "data": {
      "text/plain": [
       "tssos_scaled (generic function with 2 methods)"
      ]
     },
     "metadata": {},
     "output_type": "display_data"
    }
   ],
   "source": [
    "\n",
    "function scaling_poly(p::Polynomial)\n",
    "\n",
    "    X = transpose(hcat([exponents(t) for t in terms(p)]...))\n",
    "\n",
    "    # Get the scaling via linear regression\n",
    "    scaling = X \\ log.(abs.(coefficients(p)))\n",
    "\n",
    "    exp.(abs.(scaling)) # \n",
    "end\n",
    "\n",
    "function local_rand_min(p)\n",
    "\n",
    "    pd = p / maximum(abs.(coefficients(p)))\n",
    "\n",
    "    # find variable scaling\n",
    "    scale = scaling_poly(pd)\n",
    "\n",
    "    # scale the polynomial\n",
    "    p_scaled = subs(pd, variables(pd) => scale .* variables(pd))\n",
    "\n",
    "    num_iterations = 100\n",
    "\n",
    "    # Initialize the best minimizer and the minimum value\n",
    "    best_minimizer = nothing\n",
    "    best_min_value = Inf\n",
    "\n",
    "    num_of_variables = length(variables(pd))\n",
    "\n",
    "    for _ in 1:num_iterations\n",
    "        # Generate a random initial condition\n",
    "        initial_point = rand(num_of_variables).*250\n",
    "\n",
    "        # Run local optimization\n",
    "        result = Optim.optimize(p_scaled, initial_point, BFGS())\n",
    "        #println(Optim.minimum(result))\n",
    "\n",
    "        # Update the best minimizer if a better one is found\n",
    "        if Optim.minimum(result) < best_min_value\n",
    "            \n",
    "            best_minimizer = Optim.minimizer(result)\n",
    "            best_min_value = Optim.minimum(result)\n",
    "            \n",
    "        end\n",
    "\n",
    "    end\n",
    "\n",
    "    best_minimizer = abs.(best_minimizer) # to make gamma positive\n",
    "\n",
    "    minimizer_scaled = scale .* best_minimizer\n",
    "\n",
    "    solution = variables(p_scaled) => minimizer_scaled\n",
    "\n",
    "end\n",
    "\n",
    "\n",
    "function tssos_min(p)\n",
    "    \n",
    "    ################################################################################################\n",
    "    #\n",
    "    #   Try TSSOS on polynomial with scaled variables\n",
    "    #\n",
    "    ################################################################################################\n",
    "\n",
    "    pd = p / maximum(abs.(coefficients(p)))\n",
    "\n",
    "    # minimize\n",
    "    # minimizer_scaled_tssos = nothing\n",
    "\n",
    "    try\n",
    "        opt,sol,data = tssos_first(pd, variables(pd), QUIET=true, solution=true, newton=true);\n",
    "        previous_sol = sol\n",
    "\n",
    "        while ~isnothing(sol)\n",
    "            previous_sol = sol\n",
    "            opt,sol,data = tssos_higher!(data; QUIET=true, solution=true);\n",
    "        end\n",
    "\n",
    "        global minimizer_tssos = previous_sol\n",
    "    \n",
    "    catch\n",
    "        println(\"Scaled TSSOS failed\")\n",
    "        global minimizer_scaled_tssos = nothing\n",
    "\n",
    "    end\n",
    "\n",
    "    best_solution = variables(p) => minimizer_tssos\n",
    "\n",
    "end\n",
    "\n",
    "function tssos_scaled(p::Polynomial)\n",
    "\n",
    "    pd = p / maximum(abs.(coefficients(p)))\n",
    "\n",
    "    ################################################################################################\n",
    "    #\n",
    "    #   TSSOS on polynomial with scaled variables\n",
    "    #\n",
    "    ################################################################################################\n",
    "\n",
    "    # find variable scaling\n",
    "    scale = scaling_poly(pd)\n",
    "\n",
    "    # scale the polynomial\n",
    "    p_scaled = subs(pd, variables(pd) => scale .* variables(pd))\n",
    "\n",
    "    # minimize\n",
    "    # minimizer_scaled_tssos = nothing\n",
    "\n",
    "    try\n",
    "        opt,sol,data = tssos_first(p_scaled, variables(p), QUIET=true, solution=true, newton=false);\n",
    "        previous_sol = sol\n",
    "\n",
    "        while ~isnothing(sol)\n",
    "            previous_sol = sol\n",
    "            opt,sol,data = tssos_higher!(data; QUIET=true, solution=true);\n",
    "        end\n",
    "\n",
    "        global minimizer_scaled_tssos = scale .* previous_sol\n",
    "    \n",
    "    catch\n",
    "        println(\"Scaled TSSOS failed\")\n",
    "        global minimizer_scaled_tssos = nothing\n",
    "    end\n",
    "\n",
    "    solution = variables(p) => minimizer_scaled_tssos\n",
    "\n",
    "    return solution\n",
    "end\n"
   ]
  },
  {
   "cell_type": "code",
   "execution_count": 4,
   "metadata": {},
   "outputs": [
    {
     "name": "stdout",
     "output_type": "stream",
     "text": [
      "../DATA/\n"
     ]
    }
   ],
   "source": [
    "data_dir = \"../DATA/\"\n",
    "println(data_dir)\n",
    "\n",
    "models_dir = \"../MODELS/\"\n",
    "tests_dir = \"../TESTS/\"\n",
    "\n",
    "dodeca_files = [\"State_D\"*string(n) for n=1:20];\n",
    "\n",
    "basis_files = [\"State_B\"*string(n) for n=1:4];\n",
    "\n",
    "all_files = vcat(dodeca_files, basis_files)\n",
    "train_files = basis_files \n",
    "test_files = dodeca_files;\n"
   ]
  },
  {
   "cell_type": "code",
   "execution_count": 7,
   "metadata": {},
   "outputs": [
    {
     "name": "stdout",
     "output_type": "stream",
     "text": [
      "γ =  0.079477\n"
     ]
    },
    {
     "name": "stdout",
     "output_type": "stream",
     "text": [
      "*********************************** TSSOS ***********************************\n",
      "Version 1.0.0, developed by Jie Wang, 2020--2023\n",
      "TSSOS is launching...\n"
     ]
    },
    {
     "name": "stdout",
     "output_type": "stream",
     "text": [
      "optimum = 2.530431439180569e-6\n"
     ]
    },
    {
     "name": "stdout",
     "output_type": "stream",
     "text": [
      "Global optimality certified with relative optimality gap 0.002125%!\n",
      "optimum = 2.553622758137558e-6\n",
      "Global optimality certified with relative optimality gap 0.002122%!\n",
      "No higher TS step of the TSSOS hierarchy!\n"
     ]
    },
    {
     "name": "stdout",
     "output_type": "stream",
     "text": [
      "State_D1 0.945383320126496"
     ]
    },
    {
     "name": "stdout",
     "output_type": "stream",
     "text": [
      "\n",
      "State_D2 "
     ]
    },
    {
     "name": "stdout",
     "output_type": "stream",
     "text": [
      "0.9464505188760877\n",
      "State_D3 0.644408758680177"
     ]
    },
    {
     "name": "stdout",
     "output_type": "stream",
     "text": [
      "\n",
      "State_D4 "
     ]
    },
    {
     "name": "stdout",
     "output_type": "stream",
     "text": [
      "0.6485372721089613\n",
      "State_D5 0.9084613070296119"
     ]
    },
    {
     "name": "stdout",
     "output_type": "stream",
     "text": [
      "\n",
      "State_D6 "
     ]
    },
    {
     "name": "stdout",
     "output_type": "stream",
     "text": [
      "0.9084615902896089\n",
      "State_D7 0.8293562922213488"
     ]
    },
    {
     "name": "stdout",
     "output_type": "stream",
     "text": [
      "\n",
      "State_D8 "
     ]
    },
    {
     "name": "stdout",
     "output_type": "stream",
     "text": [
      "0.8321544621629121\n",
      "State_D9 0.9928624558126034"
     ]
    },
    {
     "name": "stdout",
     "output_type": "stream",
     "text": [
      "\n",
      "State_D10 "
     ]
    },
    {
     "name": "stdout",
     "output_type": "stream",
     "text": [
      "0.4650317233679029\n",
      "State_D11 0.6444088608212226"
     ]
    },
    {
     "name": "stdout",
     "output_type": "stream",
     "text": [
      "\n",
      "State_D12 "
     ]
    },
    {
     "name": "stdout",
     "output_type": "stream",
     "text": [
      "0.6485371787579705\n",
      "State_D13 0.945382627245199"
     ]
    },
    {
     "name": "stdout",
     "output_type": "stream",
     "text": [
      "\n",
      "State_D14 "
     ]
    },
    {
     "name": "stdout",
     "output_type": "stream",
     "text": [
      "0.9464506900105748\n",
      "State_D15 0.7282317791817412"
     ]
    },
    {
     "name": "stdout",
     "output_type": "stream",
     "text": [
      "\n",
      "State_D16 "
     ]
    },
    {
     "name": "stdout",
     "output_type": "stream",
     "text": [
      "0.728231165769423\n",
      "State_D17 0.8293562250320442"
     ]
    },
    {
     "name": "stdout",
     "output_type": "stream",
     "text": [
      "\n",
      "State_D18 "
     ]
    },
    {
     "name": "stdout",
     "output_type": "stream",
     "text": [
      "0.8321542251219683\n",
      "State_D19 0.46503167336018414"
     ]
    },
    {
     "name": "stdout",
     "output_type": "stream",
     "text": [
      "\n",
      "State_D20 "
     ]
    },
    {
     "name": "stdout",
     "output_type": "stream",
     "text": [
      "0.9928624953979255\n",
      "\n",
      "γ =  0.25133\n",
      "*********************************** TSSOS ***********************************"
     ]
    },
    {
     "name": "stdout",
     "output_type": "stream",
     "text": [
      "\n",
      "Version 1.0.0, developed by Jie Wang, 2020--2023\n",
      "TSSOS is launching...\n",
      "optimum = 2.527264515473061e-5\n",
      "\n",
      "******************************************************************************\n",
      "This program contains Ipopt, a library for large-scale nonlinear optimization.\n",
      " Ipopt is released as open source code under the Eclipse Public License (EPL).\n",
      "         For more information visit https://github.com/coin-or/Ipopt\n",
      "******************************************************************************\n",
      "\n",
      "Found a locally optimal solution by Ipopt, giving an upper bound: 0.00022108.\n",
      "The relative optimality gap is: 0.019581%.\n"
     ]
    },
    {
     "name": "stdout",
     "output_type": "stream",
     "text": [
      "optimum = 2.5261304486990045e-5\n",
      "Found a locally optimal solution by Ipopt, giving an upper bound: 0.00022108.\n",
      "The relative optimality gap is: 0.019582%.\n",
      "No higher TS step of the TSSOS hierarchy!\n",
      "State_D1 "
     ]
    },
    {
     "name": "stdout",
     "output_type": "stream",
     "text": [
      "0.8974854565520152\n",
      "State_D2 0.8989373596613094"
     ]
    },
    {
     "name": "stdout",
     "output_type": "stream",
     "text": [
      "\n",
      "State_D3 "
     ]
    },
    {
     "name": "stdout",
     "output_type": "stream",
     "text": [
      "0.49280372302231473\n",
      "State_D4 0.49521170824322186"
     ]
    },
    {
     "name": "stdout",
     "output_type": "stream",
     "text": [
      "\n",
      "State_D5 "
     ]
    },
    {
     "name": "stdout",
     "output_type": "stream",
     "text": [
      "0.8390263297281182\n",
      "State_D6 0.8390273040066691"
     ]
    },
    {
     "name": "stdout",
     "output_type": "stream",
     "text": [
      "\n",
      "State_D7 "
     ]
    },
    {
     "name": "stdout",
     "output_type": "stream",
     "text": [
      "0.7281996809175326\n",
      "State_D8 0.7301890518745953"
     ]
    },
    {
     "name": "stdout",
     "output_type": "stream",
     "text": [
      "\n",
      "State_D9 "
     ]
    },
    {
     "name": "stdout",
     "output_type": "stream",
     "text": [
      "0.9848654359749793\n",
      "State_D10 0.24336332050533643"
     ]
    },
    {
     "name": "stdout",
     "output_type": "stream",
     "text": [
      "\n",
      "State_D11 "
     ]
    },
    {
     "name": "stdout",
     "output_type": "stream",
     "text": [
      "0.49280339476941776\n",
      "State_D12 0.4952084740539731"
     ]
    },
    {
     "name": "stdout",
     "output_type": "stream",
     "text": [
      "\n",
      "State_D13 "
     ]
    },
    {
     "name": "stdout",
     "output_type": "stream",
     "text": [
      "0.8974858344069002\n",
      "State_D14 0.8989378626577008"
     ]
    },
    {
     "name": "stdout",
     "output_type": "stream",
     "text": [
      "\n",
      "State_D15 "
     ]
    },
    {
     "name": "stdout",
     "output_type": "stream",
     "text": [
      "0.5967414177004107\n",
      "State_D16 0.5967419432324301"
     ]
    },
    {
     "name": "stdout",
     "output_type": "stream",
     "text": [
      "\n",
      "State_D17 "
     ]
    },
    {
     "name": "stdout",
     "output_type": "stream",
     "text": [
      "0.7281991790977094\n",
      "State_D18 0.7301888486832976"
     ]
    },
    {
     "name": "stdout",
     "output_type": "stream",
     "text": [
      "\n",
      "State_D19 "
     ]
    },
    {
     "name": "stdout",
     "output_type": "stream",
     "text": [
      "0.24336232725369353\n",
      "State_D20 0.9848654855370474"
     ]
    },
    {
     "name": "stdout",
     "output_type": "stream",
     "text": [
      "\n",
      "\n",
      "γ =  0.79477\n"
     ]
    },
    {
     "name": "stdout",
     "output_type": "stream",
     "text": [
      "*********************************** TSSOS ***********************************\n",
      "Version 1.0.0, developed by Jie Wang, 2020--2023\n",
      "TSSOS is launching...\n",
      "optimum = 0.0002573569526111181\n",
      "Found a locally optimal solution by Ipopt, giving an upper bound: 0.00211917.\n",
      "The relative optimality gap is: 0.186182%.\n",
      "optimum = 0.0002573650088731685\n",
      "Found a locally optimal solution by Ipopt, giving an upper bound: 0.00211917.\n",
      "The relative optimality gap is: 0.186181%.\n",
      "No higher TS step of the TSSOS hierarchy!\n",
      "State_D1 0.8950627026354792"
     ]
    },
    {
     "name": "stdout",
     "output_type": "stream",
     "text": [
      "\n",
      "State_D2 "
     ]
    },
    {
     "name": "stdout",
     "output_type": "stream",
     "text": [
      "0.8988443445955957\n",
      "State_D3 0.5098501645943516"
     ]
    },
    {
     "name": "stdout",
     "output_type": "stream",
     "text": [
      "\n",
      "State_D4 "
     ]
    },
    {
     "name": "stdout",
     "output_type": "stream",
     "text": [
      "0.5143227287800277\n",
      "State_D5 0.8391622859456123"
     ]
    },
    {
     "name": "stdout",
     "output_type": "stream",
     "text": [
      "\n",
      "State_D6 "
     ]
    },
    {
     "name": "stdout",
     "output_type": "stream",
     "text": [
      "0.8391617627453527\n",
      "State_D7 0.7290900036015312"
     ]
    },
    {
     "name": "stdout",
     "output_type": "stream",
     "text": [
      "\n",
      "State_D8 "
     ]
    },
    {
     "name": "stdout",
     "output_type": "stream",
     "text": [
      "0.7337962813063035\n",
      "State_D9 0.984105269873301"
     ]
    },
    {
     "name": "stdout",
     "output_type": "stream",
     "text": [
      "\n",
      "State_D10 "
     ]
    },
    {
     "name": "stdout",
     "output_type": "stream",
     "text": [
      "0.29894133444273735\n",
      "State_D11 0.5098500013802826"
     ]
    },
    {
     "name": "stdout",
     "output_type": "stream",
     "text": [
      "\n",
      "State_D12 "
     ]
    },
    {
     "name": "stdout",
     "output_type": "stream",
     "text": [
      "0.5143297830566048\n",
      "State_D13 0.8950625825345727"
     ]
    },
    {
     "name": "stdout",
     "output_type": "stream",
     "text": [
      "\n",
      "State_D14 "
     ]
    },
    {
     "name": "stdout",
     "output_type": "stream",
     "text": [
      "0.8988441228354442\n",
      "State_D15 0.6072919847567173"
     ]
    },
    {
     "name": "stdout",
     "output_type": "stream",
     "text": [
      "\n",
      "State_D16 "
     ]
    },
    {
     "name": "stdout",
     "output_type": "stream",
     "text": [
      "0.6072897939704702\n",
      "State_D17 0.7290907960770814"
     ]
    },
    {
     "name": "stdout",
     "output_type": "stream",
     "text": [
      "\n",
      "State_D18 "
     ]
    },
    {
     "name": "stdout",
     "output_type": "stream",
     "text": [
      "0.7337962326763421\n",
      "State_D19 0.29893612350381094"
     ]
    },
    {
     "name": "stdout",
     "output_type": "stream",
     "text": [
      "\n",
      "State_D20 "
     ]
    },
    {
     "name": "stdout",
     "output_type": "stream",
     "text": [
      "0.9841034676963276\n",
      "\n",
      "γ =  2.5133\n",
      "*********************************** TSSOS ***********************************"
     ]
    },
    {
     "name": "stdout",
     "output_type": "stream",
     "text": [
      "\n",
      "Version 1.0.0, developed by Jie Wang, 2020--2023\n",
      "TSSOS is launching...\n",
      "optimum = 0.0027108761932609607\n",
      "Global optimality certified with relative optimality gap 0.005584%!\n",
      "optimum = 0.0027108463815047885\n",
      "Global optimality certified with relative optimality gap 0.005587%!\n",
      "No higher TS step of the TSSOS hierarchy!\n",
      "State_D1 "
     ]
    },
    {
     "name": "stdout",
     "output_type": "stream",
     "text": [
      "0.9933839281807324\n",
      "State_D2 0.9935742357378504"
     ]
    },
    {
     "name": "stdout",
     "output_type": "stream",
     "text": [
      "\n",
      "State_D3 "
     ]
    },
    {
     "name": "stdout",
     "output_type": "stream",
     "text": [
      "0.9950814044729642\n",
      "State_D4 0.9951242018858099"
     ]
    },
    {
     "name": "stdout",
     "output_type": "stream",
     "text": [
      "\n",
      "State_D5 "
     ]
    },
    {
     "name": "stdout",
     "output_type": "stream",
     "text": [
      "0.9938181195563239\n",
      "State_D6 0.993813431144596"
     ]
    },
    {
     "name": "stdout",
     "output_type": "stream",
     "text": [
      "\n",
      "State_D7 "
     ]
    },
    {
     "name": "stdout",
     "output_type": "stream",
     "text": [
      "0.9942467042574668\n",
      "State_D8 0.9943329284359299"
     ]
    },
    {
     "name": "stdout",
     "output_type": "stream",
     "text": [
      "\n",
      "State_D9 "
     ]
    },
    {
     "name": "stdout",
     "output_type": "stream",
     "text": [
      "0.9931594186136171\n",
      "State_D10 0.9955440066666075"
     ]
    },
    {
     "name": "stdout",
     "output_type": "stream",
     "text": [
      "\n",
      "State_D11 "
     ]
    },
    {
     "name": "stdout",
     "output_type": "stream",
     "text": [
      "0.9950847646987685\n",
      "State_D12 0.9951236132709375"
     ]
    },
    {
     "name": "stdout",
     "output_type": "stream",
     "text": [
      "\n",
      "State_D13 "
     ]
    },
    {
     "name": "stdout",
     "output_type": "stream",
     "text": [
      "0.9933925099691276\n",
      "State_D14 0.9935717085375833"
     ]
    },
    {
     "name": "stdout",
     "output_type": "stream",
     "text": [
      "\n",
      "State_D15 "
     ]
    },
    {
     "name": "stdout",
     "output_type": "stream",
     "text": [
      "0.9948234246560683\n",
      "State_D16 0.9948221116886017"
     ]
    },
    {
     "name": "stdout",
     "output_type": "stream",
     "text": [
      "\n",
      "State_D17 "
     ]
    },
    {
     "name": "stdout",
     "output_type": "stream",
     "text": [
      "0.9942473742365086\n",
      "State_D18 0.994332687019572"
     ]
    },
    {
     "name": "stdout",
     "output_type": "stream",
     "text": [
      "\n",
      "State_D19 "
     ]
    },
    {
     "name": "stdout",
     "output_type": "stream",
     "text": [
      "0.9955432842988419\n",
      "State_D20 0.9931595205931049"
     ]
    },
    {
     "name": "stdout",
     "output_type": "stream",
     "text": [
      "\n",
      "\n",
      "γ =  7.9477\n"
     ]
    },
    {
     "name": "stdout",
     "output_type": "stream",
     "text": [
      "*********************************** TSSOS ***********************************\n",
      "Version 1.0.0, developed by Jie Wang, 2020--2023\n",
      "TSSOS is launching...\n",
      "optimum = 0.03390992504389319\n",
      "Global optimality certified with relative optimality gap 0.000007%!\n",
      "optimum = 0.03390997111918579\n",
      "The local solver failed refining the solution!\n",
      "No higher TS step of the TSSOS hierarchy!\n",
      "State_D1 "
     ]
    },
    {
     "name": "stdout",
     "output_type": "stream",
     "text": [
      "0.9086273859511538\n",
      "State_D2 0.9382878262298368"
     ]
    },
    {
     "name": "stdout",
     "output_type": "stream",
     "text": [
      "\n",
      "State_D3 "
     ]
    },
    {
     "name": "stdout",
     "output_type": "stream",
     "text": [
      "0.7267149200274388\n",
      "State_D4 0.7517877908587107"
     ]
    },
    {
     "name": "stdout",
     "output_type": "stream",
     "text": [
      "\n",
      "State_D5 "
     ]
    },
    {
     "name": "stdout",
     "output_type": "stream",
     "text": [
      "0.8935171147663669\n",
      "State_D6 0.8935171147810204"
     ]
    },
    {
     "name": "stdout",
     "output_type": "stream",
     "text": [
      "\n",
      "State_D7 "
     ]
    },
    {
     "name": "stdout",
     "output_type": "stream",
     "text": [
      "0.8081446899405201\n",
      "State_D8 0.8421096812878275"
     ]
    },
    {
     "name": "stdout",
     "output_type": "stream",
     "text": [
      "\n",
      "State_D9 "
     ]
    },
    {
     "name": "stdout",
     "output_type": "stream",
     "text": [
      "0.9854710183762303\n",
      "State_D10 0.6797643805453358"
     ]
    },
    {
     "name": "stdout",
     "output_type": "stream",
     "text": [
      "\n",
      "State_D11 "
     ]
    },
    {
     "name": "stdout",
     "output_type": "stream",
     "text": [
      "0.7267149200339607\n",
      "State_D12 0.7517877907669815"
     ]
    },
    {
     "name": "stdout",
     "output_type": "stream",
     "text": [
      "\n",
      "State_D13 "
     ]
    },
    {
     "name": "stdout",
     "output_type": "stream",
     "text": [
      "0.9086273859525802\n",
      "State_D14 0.93828782618815"
     ]
    },
    {
     "name": "stdout",
     "output_type": "stream",
     "text": [
      "\n",
      "State_D15 "
     ]
    },
    {
     "name": "stdout",
     "output_type": "stream",
     "text": [
      "0.7795326519370017\n",
      "State_D16 0.7795326519378099"
     ]
    },
    {
     "name": "stdout",
     "output_type": "stream",
     "text": [
      "\n",
      "State_D17 "
     ]
    },
    {
     "name": "stdout",
     "output_type": "stream",
     "text": [
      "0.8081446899443923\n",
      "State_D18 0.8421096813462938"
     ]
    },
    {
     "name": "stdout",
     "output_type": "stream",
     "text": [
      "\n",
      "State_D19 "
     ]
    },
    {
     "name": "stdout",
     "output_type": "stream",
     "text": [
      "0.679764380596704\n",
      "State_D20 0.985471018427344"
     ]
    },
    {
     "name": "stdout",
     "output_type": "stream",
     "text": [
      "\n",
      "\n",
      "γ =  25.133\n"
     ]
    },
    {
     "name": "stdout",
     "output_type": "stream",
     "text": [
      "*********************************** TSSOS ***********************************\n",
      "Version 1.0.0, developed by Jie Wang, 2020--2023\n",
      "TSSOS is launching...\n",
      "optimum = 0.3820058211086438\n",
      "Global optimality certified with relative optimality gap 0.000006%!\n",
      "optimum = 0.3820058170885698\n",
      "Global optimality certified with relative optimality gap 0.000005%!\n",
      "No higher TS step of the TSSOS hierarchy!\n",
      "State_D1 0.990754788635971\n",
      "State_D2 "
     ]
    },
    {
     "name": "stdout",
     "output_type": "stream",
     "text": [
      "0.994229774668274\n",
      "State_D3 0.9907513311895236\n",
      "State_D4 0.9941494051065627\n",
      "State_D5 0.9947179731638406"
     ]
    },
    {
     "name": "stdout",
     "output_type": "stream",
     "text": [
      "\n",
      "State_D6 0.994717973163861\n",
      "State_D7 0.9852580965994298\n",
      "State_D8 "
     ]
    },
    {
     "name": "stdout",
     "output_type": "stream",
     "text": [
      "0.9879304792314918\n",
      "State_D9 0.9981715426876577\n",
      "State_D10 0.998065132002298\n",
      "State_D11 0.9907513311895236"
     ]
    },
    {
     "name": "stdout",
     "output_type": "stream",
     "text": [
      "\n",
      "State_D12 0.9941494051065818\n",
      "State_D13 0.990754788635971\n",
      "State_D14 "
     ]
    },
    {
     "name": "stdout",
     "output_type": "stream",
     "text": [
      "0.994229774668274\n",
      "State_D15 0.9961468918768834\n",
      "State_D16 0.9961468918768837\n",
      "State_D17 0.9852580965994298"
     ]
    },
    {
     "name": "stdout",
     "output_type": "stream",
     "text": [
      "\n",
      "State_D18 0.9879304792315007\n",
      "State_D19 0.9980651320023215\n",
      "State_D20 "
     ]
    },
    {
     "name": "stdout",
     "output_type": "stream",
     "text": [
      "0.9981715426876718\n",
      "\n",
      "γ =  79.477\n",
      "*********************************** TSSOS ***********************************"
     ]
    },
    {
     "name": "stdout",
     "output_type": "stream",
     "text": [
      "\n",
      "Version 1.0.0, developed by Jie Wang, 2020--2023\n",
      "TSSOS is launching...\n",
      "optimum = 0.9741334453341107\n",
      "Found a locally optimal solution by Ipopt, giving an upper bound: 0.98507948.\n",
      "The relative optimality gap is: 1.094603%.\n",
      "optimum = 0.9741334416631889\n",
      "Found a locally optimal solution by Ipopt, giving an upper bound: 0.98507948.\n",
      "The relative optimality gap is: 1.094603%.\n",
      "No higher TS step of the TSSOS hierarchy!\n",
      "State_D1 0.9990345414229079\n",
      "State_D2 0.9994842331042652\n",
      "State_D3 0.9991674718082005\n",
      "State_D4 0.9994878550640697\n",
      "State_D5 "
     ]
    },
    {
     "name": "stdout",
     "output_type": "stream",
     "text": [
      "0.9995608482077152\n",
      "State_D6 0.9995608482076472\n",
      "State_D7 0.997689488471135\n",
      "State_D8 0.9990714934592348\n",
      "State_D9 0.9992552340964425\n",
      "State_D10 0.9994436677162568"
     ]
    },
    {
     "name": "stdout",
     "output_type": "stream",
     "text": [
      "\n",
      "State_D11 0.9991674718082053\n",
      "State_D12 0.9994878550640921\n",
      "State_D13 0.9990345414229841\n",
      "State_D14 0.9994842331043284\n",
      "State_D15 "
     ]
    },
    {
     "name": "stdout",
     "output_type": "stream",
     "text": [
      "0.9997122953871265\n",
      "State_D16 0.9997122953871134\n",
      "State_D17 0.997689488471135\n",
      "State_D18 0.9990714934591979\n",
      "State_D19 0.9994436677162877\n",
      "State_D20 0.999255234096364"
     ]
    },
    {
     "name": "stdout",
     "output_type": "stream",
     "text": [
      "\n",
      "\n",
      "γ =  251.33\n"
     ]
    },
    {
     "name": "stdout",
     "output_type": "stream",
     "text": [
      "*********************************** TSSOS ***********************************\n",
      "Version 1.0.0, developed by Jie Wang, 2020--2023\n",
      "TSSOS is launching...\n",
      "optimum = 0.9991013997386327\n",
      "Found a locally optimal solution by Ipopt, giving an upper bound: 0.99994167.\n",
      "The relative optimality gap is: 0.084027%.\n",
      "optimum = 0.9991014247633117\n",
      "Found a locally optimal solution by Ipopt, giving an upper bound: 0.99994167.\n",
      "The relative optimality gap is: 0.084025%.\n",
      "No higher TS step of the TSSOS hierarchy!\n",
      "State_D1 0.9965356821333414\n",
      "State_D2 0.995109285002757\n",
      "State_D3 0.9957899341849438\n",
      "State_D4 0.9944258961170866\n",
      "State_D5 0.9934629396420274\n",
      "State_D6 0.9934629396420274\n",
      "State_D7 0.9996798923887232"
     ]
    },
    {
     "name": "stdout",
     "output_type": "stream",
     "text": [
      "\n",
      "State_D8 0.9982727163850562\n",
      "State_D9 0.9947920896443214\n",
      "State_D10 0.9936328461525904\n",
      "State_D11 0.9957899341849313\n",
      "State_D12 0.9944258961170866\n",
      "State_D13 0.9965356821333414\n",
      "State_D14 0.9951092850028204\n",
      "State_D15 0.9930190594867451"
     ]
    },
    {
     "name": "stdout",
     "output_type": "stream",
     "text": [
      "\n",
      "State_D16 0.9930190594866983\n",
      "State_D17 0.9996798923887364\n",
      "State_D18 0.9982727163850504\n",
      "State_D19 0.9936328461525904\n",
      "State_D20 0.9947920896442133\n",
      "\n",
      "POP_LME_6_tssos_scaled_trn4_tst20_2024-Jan-16_at_13-06.h5\n"
     ]
    }
   ],
   "source": [
    "γ = [ \"0.079477\",  \"0.25133\", \"0.79477\", \"2.5133\", \"7.9477\", \"25.133\", \"79.477\", \"251.33\"]\n",
    "\n",
    "date_and_time_string =  string(Dates.format(now(), \"yyyy-u-dd_at_HH-MM\"))\n",
    "\n",
    "tests_data_file_name = \"POP_LME_6_tssos_scaled_trn4_tst20_\"*date_and_time_string * \".h5\"\n",
    "\n",
    "for γᵢ in γ\n",
    "\n",
    "    println(\"γ =  \"*γᵢ)\n",
    "\n",
    "    poly = g_objective_6(γᵢ)\n",
    "    \n",
    "    sol = tssos_scaled(poly)\n",
    "\n",
    "    Hˢⁱᵈ = subs(Hˢʸᵐᵇ, sol)\n",
    "\n",
    "    omega = subs(w, sol)\n",
    "\n",
    "    relaxation = subs(r^2, sol)\n",
    "    de_phasing = subs(ϕ^2, sol)\n",
    "    exitation = subs(e^2, sol) \n",
    "    de_polarisation = subs(p^2, sol)\n",
    "    omega = subs(w, sol)\n",
    "\n",
    "    J₁ˢⁱᵈ = subs(J₁ˢʸᵐᵇ, sol)\n",
    "    J₂ˢⁱᵈ = subs(J₂ˢʸᵐᵇ, sol)\n",
    "    J₃ˢⁱᵈ = subs(J₃ˢʸᵐᵇ, sol) \n",
    "\n",
    "    J₄ˢⁱᵈ = subs(J₄ˢʸᵐᵇ, sol)\n",
    "    J₅ˢⁱᵈ = subs(J₅ˢʸᵐᵇ, sol)\n",
    "    J₆ˢⁱᵈ = subs(J₆ˢʸᵐᵇ, sol)\n",
    "\n",
    "\n",
    "    h5open(tests_dir*tests_data_file_name,\"cw\") do fid\n",
    "        γ_group = create_group(fid, \"gamma_\"*γᵢ) # create coupling group   \n",
    "\n",
    "        γ_group[\"omega\"] = convert(Float64, omega)\n",
    "        γ_group[\"gamma_relaxation\"] = convert(Float64, relaxation)\n",
    "        γ_group[\"gamma_de_phasing\"] = convert(Float64,  de_phasing)\n",
    "        γ_group[\"gamma_exitation\"] = convert(Float64,  exitation)\n",
    "        γ_group[\"gamma_de_polarisation\"] = convert(Float64, de_polarisation)\n",
    "        \n",
    "        γ_group[\"H\"] = convert.(ComplexF64, Hˢⁱᵈ)\n",
    "        #γ_group[\"J1\"] = convert.(ComplexF64, J₁ˢⁱᵈ)\n",
    "        #γ_group[\"J2\"] = convert.(ComplexF64, J₂ˢⁱᵈ)\n",
    "        #γ_group[\"J3\"] = convert.(ComplexF64, J₃ˢⁱᵈ)\n",
    "        #γ_group[\"J4\"] = convert.(ComplexF64, J₄ˢⁱᵈ)\n",
    "        #γ_group[\"J5\"] = convert.(ComplexF64, J₅ˢⁱᵈ)\n",
    "        #γ_group[\"J6\"] = convert.(ComplexF64, J₆ˢⁱᵈ)\n",
    "        \n",
    "    end\n",
    "\n",
    "    for df in test_files # loop over initial states\n",
    "        \n",
    "        print(df*\" \")\n",
    "\n",
    "        start_time = time()\n",
    "\n",
    "        ρₛ, tₛ = LiPoSID.get_rho_series(data_dir*df*\"_2CUT_data.h5\", γᵢ)\n",
    "        ρₛ = convert(Vector{Matrix{ComplexF64}}, ρₛ)\n",
    "\n",
    "        ρᵗˢᵗ = [DenseOperator(basis,Hermitian(ρₜ)) for ρₜ in ρₛ]\n",
    "        tᵗˢᵗ = convert(Vector{Float64}, tₛ)\n",
    "\n",
    "        tˢⁱᵈ, ρˢⁱᵈ  = timeevolution.master(tᵗˢᵗ, ρᵗˢᵗ[1], DenseOperator(basis,Hˢⁱᵈ), \n",
    "                    [ DenseOperator(basis,J₁ˢⁱᵈ), DenseOperator(basis,J₂ˢⁱᵈ), DenseOperator(basis,J₃ˢⁱᵈ),\n",
    "                     DenseOperator(basis,J₄ˢⁱᵈ), DenseOperator(basis,J₅ˢⁱᵈ), DenseOperator(basis,J₆ˢⁱᵈ)])\n",
    "\n",
    "        Fᴸᴹᴱₑₓ = [abs(fidelity(ρ₁, ρ₂)) for (ρ₁, ρ₂) in zip(ρᵗˢᵗ, ρˢⁱᵈ)]                    \n",
    "\n",
    "        h5open(tests_dir*tests_data_file_name,\"cw\") do fid\n",
    "            γ_group = open_group(fid, \"gamma_\"*γᵢ) # open coupling group\n",
    "\n",
    "            init_state_group = create_group(γ_group, df) # create initial state group\n",
    "            init_state_group[\"Fidelity\"] = convert.(Float64, Fᴸᴹᴱₑₓ)\n",
    "            \n",
    "        end\n",
    "                    \n",
    "        println(minimum(Fᴸᴹᴱₑₓ))\n",
    "    \n",
    "    end\n",
    "\n",
    "    println()\n",
    "end\n",
    "\n",
    "println(tests_data_file_name)"
   ]
  },
  {
   "cell_type": "code",
   "execution_count": 6,
   "metadata": {},
   "outputs": [],
   "source": []
  }
 ],
 "metadata": {
  "kernelspec": {
   "display_name": "Julia 1.10.0",
   "language": "julia",
   "name": "julia-1.10"
  },
  "language_info": {
   "file_extension": ".jl",
   "mimetype": "application/julia",
   "name": "julia",
   "version": "1.10.0"
  }
 },
 "nbformat": 4,
 "nbformat_minor": 2
}
