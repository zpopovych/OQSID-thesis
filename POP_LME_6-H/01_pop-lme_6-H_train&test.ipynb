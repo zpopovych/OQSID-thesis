{
 "cells": [
  {
   "cell_type": "code",
   "execution_count": 1,
   "metadata": {},
   "outputs": [],
   "source": [
    "include(\"../LiPoSID.jl\")\n",
    "using QuantumOptics\n",
    "basis = NLevelBasis(2)\n",
    "using LinearAlgebra\n",
    "using HDF5\n",
    "using DynamicPolynomials\n",
    "using Plots\n",
    "using Dates\n",
    "\n",
    "using Optim\n",
    "using Random"
   ]
  },
  {
   "cell_type": "markdown",
   "metadata": {},
   "source": [
    "Consider simple Lindblad master equation with two dissipators:\n",
    "\n",
    "$\n",
    "    \\frac{d\\rho}{dt} = -\\frac{i}{\\hbar} [H,\\rho(t)] + \\mathcal{D}[\\rho(t)] = - \\frac{i}{\\hbar}[H, \\rho]+\\sum_{\\ell=1}^{s-1}\\left[J_\\ell \\rho J_\\ell^\\dagger - \\frac{1}{2}\\left\\{ J_\\ell^\\dagger J_\\ell, \\rho \\right\\} \\right],\n",
    "$\n",
    "\n",
    "where Hamiltonian is hermitian with one of the diagonal elemnets set to zero\n",
    "\n",
    "\n",
    "$\n",
    "    H = \\begin{pmatrix} 25.126 & 0 \\\\ 0 & 0\n",
    "   \\end{pmatrix}\n",
    "$\n",
    "\n",
    " withot loss of generality we can possibly look for jump operator of the form:\n",
    "\n",
    "$\n",
    "J_1 = \\begin{pmatrix} 0 & a \\\\ 0 & 0 \n",
    "   \\end{pmatrix} = \n",
    "   \\begin{pmatrix} 0 & \\sqrt{\\gamma_1} \\\\ 0 & 0 \n",
    "   \\end{pmatrix}\n",
    "$\n",
    "\n",
    "$\n",
    "J_2 = \\begin{pmatrix} d & 0 \\\\ 0 & -d \n",
    "   \\end{pmatrix} = \n",
    "   \\begin{pmatrix} \\sqrt{\\gamma_2} & 0 \\\\ 0 & -\\sqrt{\\gamma_2} \n",
    "   \\end{pmatrix}\n",
    "$\n",
    "\n",
    "$\n",
    "J_3 = \\begin{pmatrix} 0 & 0 \\\\ e & 0 \n",
    "   \\end{pmatrix} = \n",
    "   \\begin{pmatrix} 0 &  0 \\\\ \\sqrt{\\gamma_3} & 0 \n",
    "   \\end{pmatrix}\n",
    "$"
   ]
  },
  {
   "cell_type": "markdown",
   "metadata": {},
   "source": [
    "$\n",
    "J_4 = \\begin{pmatrix} 0 & p \\\\ p & 0 \n",
    "   \\end{pmatrix} = \\sqrt{\\gamma_4/3} \n",
    "   \\begin{pmatrix} 0 & 1\\\\ 1 & 0 \n",
    "   \\end{pmatrix}\n",
    "$\n",
    "\n",
    "$\n",
    "J_5 = \\begin{pmatrix} 0 & -i p \\\\ i p & 0 \n",
    "   \\end{pmatrix} = \\sqrt{\\gamma_4/3}\n",
    "   \\begin{pmatrix} 0 & -i \\\\ i & 0 \n",
    "   \\end{pmatrix}\n",
    "$\n",
    "\n",
    "$\n",
    "J_6 = \\begin{pmatrix} p & 0 \\\\ 0 & -p\n",
    "   \\end{pmatrix} = \\sqrt{\\gamma_4/3}\n",
    "   \\begin{pmatrix} 1 & 0 \\\\ 0 & -1 \n",
    "   \\end{pmatrix}\n",
    "$"
   ]
  },
  {
   "cell_type": "code",
   "execution_count": 2,
   "metadata": {},
   "outputs": [
    {
     "data": {
      "text/plain": [
       "g_objective_6 (generic function with 1 method)"
      ]
     },
     "metadata": {},
     "output_type": "display_data"
    }
   ],
   "source": [
    "# Define polynomial variables\n",
    "@polyvar w α β r ϕ e p\n",
    "\n",
    "Hˢʸᵐᵇ = [ 25.126   0\n",
    "          0   0. ]\n",
    "\n",
    "#Hˢʸᵐᵇ = [ w           α + im* β\n",
    "#          α + im* β   0.        ]\n",
    "\n",
    "J₁ˢʸᵐᵇ = [ 0   r\n",
    "           0   0. ]\n",
    "\n",
    "J₂ˢʸᵐᵇ = ϕ * [ 1    0\n",
    "               0   -1. ]\n",
    "\n",
    "J₃ˢʸᵐᵇ = [ 0   0\n",
    "           e   0. ]\n",
    "\n",
    "J₄ˢʸᵐᵇ = p * [ 0    1\n",
    "               1    0. ]\n",
    "\n",
    "J₅ˢʸᵐᵇ = p * [ 0   -im\n",
    "               im   0  ]\n",
    "\n",
    "J₆ˢʸᵐᵇ = p * [ 1    0\n",
    "               0   -1. ]\n",
    "\n",
    "\n",
    "function g_objective_6(γᵢ)\n",
    "\n",
    "    objₑₓ = 0\n",
    "\n",
    "    for df_trn in train_files # loop over initial states\n",
    "\n",
    "        ρᵗʳⁿ, tᵗʳⁿ = LiPoSID.get_rho_series(data_dir*df_trn*\"_2CUT_data.h5\", γᵢ)\n",
    "        \n",
    "        if length(tᵗʳⁿ) > 1200 end_train = 1200 else end_train = length(tᵗʳⁿ) end\n",
    "            \n",
    "        ρᵗʳⁿ = convert(Vector{Matrix{ComplexF64}}, ρᵗʳⁿ[1:end_train])\n",
    "        \n",
    "        tᵗʳⁿ = convert(Vector{Float64}, tᵗʳⁿ[1:end_train])\n",
    "\n",
    "        objₑₓ += LiPoSID.simpson_obj(ρᵗʳⁿ, tᵗʳⁿ,  Hˢʸᵐᵇ, [J₁ˢʸᵐᵇ, J₂ˢʸᵐᵇ, J₃ˢʸᵐᵇ, J₄ˢʸᵐᵇ, J₅ˢʸᵐᵇ, J₆ˢʸᵐᵇ])\n",
    "        \n",
    "    end # of files (initial states) loop\n",
    "\n",
    "    return(objₑₓ)\n",
    "end"
   ]
  },
  {
   "cell_type": "code",
   "execution_count": 3,
   "metadata": {},
   "outputs": [
    {
     "data": {
      "text/plain": [
       "local_rand_min (generic function with 1 method)"
      ]
     },
     "metadata": {},
     "output_type": "display_data"
    }
   ],
   "source": [
    "\n",
    "function scaling_poly(p::Polynomial)\n",
    "\n",
    "    X = transpose(hcat([exponents(t) for t in terms(p)]...))\n",
    "\n",
    "    # Get the scaling via linear regression\n",
    "    scaling = X \\ log.(abs.(coefficients(p)))\n",
    "\n",
    "    exp.(abs.(scaling)) # \n",
    "end\n",
    "\n",
    "function local_rand_min(p)\n",
    "\n",
    "    pd = p / maximum(abs.(coefficients(p)))\n",
    "\n",
    "    # find variable scaling\n",
    "    scale = scaling_poly(pd)\n",
    "\n",
    "    # scale the polynomial\n",
    "    p_scaled = subs(pd, variables(pd) => scale .* variables(pd))\n",
    "\n",
    "    num_iterations = 100\n",
    "\n",
    "    # Initialize the best minimizer and the minimum value\n",
    "    best_minimizer = nothing\n",
    "    best_min_value = Inf\n",
    "\n",
    "    num_of_variables = length(variables(pd))\n",
    "\n",
    "    for _ in 1:num_iterations\n",
    "        # Generate a random initial condition\n",
    "        initial_point = rand(num_of_variables).*250\n",
    "\n",
    "        # Run local optimization\n",
    "        result = Optim.optimize(p_scaled, initial_point, BFGS())\n",
    "        #println(Optim.minimum(result))\n",
    "\n",
    "        # Update the best minimizer if a better one is found\n",
    "        if Optim.minimum(result) < best_min_value\n",
    "            \n",
    "            best_minimizer = Optim.minimizer(result)\n",
    "            best_min_value = Optim.minimum(result)\n",
    "            \n",
    "        end\n",
    "\n",
    "    end\n",
    "\n",
    "    best_minimizer = abs.(best_minimizer) # to make gamma positive\n",
    "\n",
    "    minimizer_scaled = scale .* best_minimizer\n",
    "\n",
    "    solution = variables(p_scaled) => minimizer_scaled\n",
    "\n",
    "end"
   ]
  },
  {
   "cell_type": "code",
   "execution_count": 4,
   "metadata": {},
   "outputs": [
    {
     "name": "stdout",
     "output_type": "stream",
     "text": [
      "../DATA/\n"
     ]
    }
   ],
   "source": [
    "data_dir = \"../DATA/\"\n",
    "println(data_dir)\n",
    "\n",
    "models_dir = \"../MODELS/\"\n",
    "tests_dir = \"../TESTS/\"\n",
    "\n",
    "dodeca_files = [\"State_D\"*string(n) for n=1:20];\n",
    "\n",
    "basis_files = [\"State_B\"*string(n) for n=1:4];\n",
    "\n",
    "all_files = vcat(dodeca_files, basis_files)\n",
    "train_files = basis_files \n",
    "test_files = dodeca_files;\n"
   ]
  },
  {
   "cell_type": "code",
   "execution_count": 5,
   "metadata": {},
   "outputs": [
    {
     "name": "stdout",
     "output_type": "stream",
     "text": [
      "γ =  0.079477\n"
     ]
    },
    {
     "name": "stdout",
     "output_type": "stream",
     "text": [
      "State_D1 0.9993561572780607"
     ]
    },
    {
     "name": "stdout",
     "output_type": "stream",
     "text": [
      "\n",
      "State_D2 "
     ]
    },
    {
     "name": "stdout",
     "output_type": "stream",
     "text": [
      "0.9993583773699198\n",
      "State_D3 0.999356967534213"
     ]
    },
    {
     "name": "stdout",
     "output_type": "stream",
     "text": [
      "\n",
      "State_D4 "
     ]
    },
    {
     "name": "stdout",
     "output_type": "stream",
     "text": [
      "0.9993585499075928\n",
      "State_D5 0.9991675629195275"
     ]
    },
    {
     "name": "stdout",
     "output_type": "stream",
     "text": [
      "\n",
      "State_D6 "
     ]
    },
    {
     "name": "stdout",
     "output_type": "stream",
     "text": [
      "0.9991675474573979\n",
      "State_D7 0.9990302326257247"
     ]
    },
    {
     "name": "stdout",
     "output_type": "stream",
     "text": [
      "\n",
      "State_D8 "
     ]
    },
    {
     "name": "stdout",
     "output_type": "stream",
     "text": [
      "0.9990311921876968\n",
      "State_D9 0.9998712295952318"
     ]
    },
    {
     "name": "stdout",
     "output_type": "stream",
     "text": [
      "\n",
      "State_D10 "
     ]
    },
    {
     "name": "stdout",
     "output_type": "stream",
     "text": [
      "0.9998761853605025\n",
      "State_D11 0.9993569585470593"
     ]
    },
    {
     "name": "stdout",
     "output_type": "stream",
     "text": [
      "\n",
      "State_D12 "
     ]
    },
    {
     "name": "stdout",
     "output_type": "stream",
     "text": [
      "0.9993585468782519\n",
      "State_D13 0.999356114605132"
     ]
    },
    {
     "name": "stdout",
     "output_type": "stream",
     "text": [
      "\n",
      "State_D14 "
     ]
    },
    {
     "name": "stdout",
     "output_type": "stream",
     "text": [
      "0.9993583563496049\n",
      "State_D15 0.9991676176304529"
     ]
    },
    {
     "name": "stdout",
     "output_type": "stream",
     "text": [
      "\n",
      "State_D16 "
     ]
    },
    {
     "name": "stdout",
     "output_type": "stream",
     "text": [
      "0.9991675790550315\n",
      "State_D17 0.9990302169440173"
     ]
    },
    {
     "name": "stdout",
     "output_type": "stream",
     "text": [
      "\n",
      "State_D18 "
     ]
    },
    {
     "name": "stdout",
     "output_type": "stream",
     "text": [
      "0.999031187468123\n",
      "State_D19 0.9998761901119276"
     ]
    },
    {
     "name": "stdout",
     "output_type": "stream",
     "text": [
      "\n",
      "State_D20 "
     ]
    },
    {
     "name": "stdout",
     "output_type": "stream",
     "text": [
      "0.9998712225374571\n",
      "\n",
      "γ =  0.25133\n",
      "State_D1 "
     ]
    },
    {
     "name": "stdout",
     "output_type": "stream",
     "text": [
      "0.9998354966328666\n",
      "State_D2 0.999829968543485"
     ]
    },
    {
     "name": "stdout",
     "output_type": "stream",
     "text": [
      "\n",
      "State_D3 "
     ]
    },
    {
     "name": "stdout",
     "output_type": "stream",
     "text": [
      "0.9998353115824233\n",
      "State_D4 0.9998307498894463"
     ]
    },
    {
     "name": "stdout",
     "output_type": "stream",
     "text": [
      "\n",
      "State_D5 "
     ]
    },
    {
     "name": "stdout",
     "output_type": "stream",
     "text": [
      "0.999789294271775\n",
      "State_D6 0.9997892938829199"
     ]
    },
    {
     "name": "stdout",
     "output_type": "stream",
     "text": [
      "\n",
      "State_D7 "
     ]
    },
    {
     "name": "stdout",
     "output_type": "stream",
     "text": [
      "0.9997452478593081\n",
      "State_D8 0.9997404971242236"
     ]
    },
    {
     "name": "stdout",
     "output_type": "stream",
     "text": [
      "\n",
      "State_D9 "
     ]
    },
    {
     "name": "stdout",
     "output_type": "stream",
     "text": [
      "0.9999363778778475\n",
      "State_D10 0.9999667939344085"
     ]
    },
    {
     "name": "stdout",
     "output_type": "stream",
     "text": [
      "\n",
      "State_D11 "
     ]
    },
    {
     "name": "stdout",
     "output_type": "stream",
     "text": [
      "0.9998353164603482\n",
      "State_D12 0.9998307653149987"
     ]
    },
    {
     "name": "stdout",
     "output_type": "stream",
     "text": [
      "\n",
      "State_D13 "
     ]
    },
    {
     "name": "stdout",
     "output_type": "stream",
     "text": [
      "0.9998355039584477\n",
      "State_D14 0.9998299468627128"
     ]
    },
    {
     "name": "stdout",
     "output_type": "stream",
     "text": [
      "\n",
      "State_D15 "
     ]
    },
    {
     "name": "stdout",
     "output_type": "stream",
     "text": [
      "0.9997895016219274\n",
      "State_D16 0.9997895333733458"
     ]
    },
    {
     "name": "stdout",
     "output_type": "stream",
     "text": [
      "\n",
      "State_D17 "
     ]
    },
    {
     "name": "stdout",
     "output_type": "stream",
     "text": [
      "0.9997452366976707\n",
      "State_D18 0.9997404988120766"
     ]
    },
    {
     "name": "stdout",
     "output_type": "stream",
     "text": [
      "\n",
      "State_D19 "
     ]
    },
    {
     "name": "stdout",
     "output_type": "stream",
     "text": [
      "0.999966788548928\n",
      "State_D20 0.9999363778778475"
     ]
    },
    {
     "name": "stdout",
     "output_type": "stream",
     "text": [
      "\n",
      "\n",
      "γ =  0.79477\n"
     ]
    },
    {
     "name": "stdout",
     "output_type": "stream",
     "text": [
      "State_D1 0.9996966184605265"
     ]
    },
    {
     "name": "stdout",
     "output_type": "stream",
     "text": [
      "\n",
      "State_D2 "
     ]
    },
    {
     "name": "stdout",
     "output_type": "stream",
     "text": [
      "0.9997156203647862\n",
      "State_D3 0.9999040681459122"
     ]
    },
    {
     "name": "stdout",
     "output_type": "stream",
     "text": [
      "\n",
      "State_D4 "
     ]
    },
    {
     "name": "stdout",
     "output_type": "stream",
     "text": [
      "0.999888932001105\n",
      "State_D5 0.9997176680676432"
     ]
    },
    {
     "name": "stdout",
     "output_type": "stream",
     "text": [
      "\n",
      "State_D6 "
     ]
    },
    {
     "name": "stdout",
     "output_type": "stream",
     "text": [
      "0.9997176680676432\n",
      "State_D7 0.9995561111328861"
     ]
    },
    {
     "name": "stdout",
     "output_type": "stream",
     "text": [
      "\n",
      "State_D8 "
     ]
    },
    {
     "name": "stdout",
     "output_type": "stream",
     "text": [
      "0.99981997449331\n",
      "State_D9 0.999822146292125"
     ]
    },
    {
     "name": "stdout",
     "output_type": "stream",
     "text": [
      "\n",
      "State_D10 "
     ]
    },
    {
     "name": "stdout",
     "output_type": "stream",
     "text": [
      "0.9999760238341695\n",
      "State_D11 0.9999041619675759"
     ]
    },
    {
     "name": "stdout",
     "output_type": "stream",
     "text": [
      "\n",
      "State_D12 "
     ]
    },
    {
     "name": "stdout",
     "output_type": "stream",
     "text": [
      "0.999888941960947\n",
      "State_D13 0.9996966184605265"
     ]
    },
    {
     "name": "stdout",
     "output_type": "stream",
     "text": [
      "\n",
      "State_D14 "
     ]
    },
    {
     "name": "stdout",
     "output_type": "stream",
     "text": [
      "0.9997156203647862\n",
      "State_D15 0.9998497465640923"
     ]
    },
    {
     "name": "stdout",
     "output_type": "stream",
     "text": [
      "\n",
      "State_D16 "
     ]
    },
    {
     "name": "stdout",
     "output_type": "stream",
     "text": [
      "0.9998497465640923\n",
      "State_D17 0.9995561111328861"
     ]
    },
    {
     "name": "stdout",
     "output_type": "stream",
     "text": [
      "\n",
      "State_D18 "
     ]
    },
    {
     "name": "stdout",
     "output_type": "stream",
     "text": [
      "0.9998199876185843\n",
      "State_D19 0.9999760258025734"
     ]
    },
    {
     "name": "stdout",
     "output_type": "stream",
     "text": [
      "\n",
      "State_D20 "
     ]
    },
    {
     "name": "stdout",
     "output_type": "stream",
     "text": [
      "0.999822146292125\n",
      "\n",
      "γ =  2.5133\n",
      "State_D1 "
     ]
    },
    {
     "name": "stdout",
     "output_type": "stream",
     "text": [
      "0.9989164655032206\n",
      "State_D2 0.9993082368234731"
     ]
    },
    {
     "name": "stdout",
     "output_type": "stream",
     "text": [
      "\n",
      "State_D3 "
     ]
    },
    {
     "name": "stdout",
     "output_type": "stream",
     "text": [
      "0.9995798390427293\n",
      "State_D4 0.9997173225808709"
     ]
    },
    {
     "name": "stdout",
     "output_type": "stream",
     "text": [
      "\n",
      "State_D5 "
     ]
    },
    {
     "name": "stdout",
     "output_type": "stream",
     "text": [
      "0.9991896869834082\n",
      "State_D6 0.9991896869834082"
     ]
    },
    {
     "name": "stdout",
     "output_type": "stream",
     "text": [
      "\n",
      "State_D7 "
     ]
    },
    {
     "name": "stdout",
     "output_type": "stream",
     "text": [
      "0.9983690788945314\n",
      "State_D8 0.9996132542461769"
     ]
    },
    {
     "name": "stdout",
     "output_type": "stream",
     "text": [
      "\n",
      "State_D9 "
     ]
    },
    {
     "name": "stdout",
     "output_type": "stream",
     "text": [
      "0.9996105263031589\n",
      "State_D10 0.9999511647607948"
     ]
    },
    {
     "name": "stdout",
     "output_type": "stream",
     "text": [
      "\n",
      "State_D11 "
     ]
    },
    {
     "name": "stdout",
     "output_type": "stream",
     "text": [
      "0.9995798390427293\n",
      "State_D12 0.9997173225808709"
     ]
    },
    {
     "name": "stdout",
     "output_type": "stream",
     "text": [
      "\n",
      "State_D13 "
     ]
    },
    {
     "name": "stdout",
     "output_type": "stream",
     "text": [
      "0.9989164655032206\n",
      "State_D14 0.9993082368234731"
     ]
    },
    {
     "name": "stdout",
     "output_type": "stream",
     "text": [
      "\n",
      "State_D15 "
     ]
    },
    {
     "name": "stdout",
     "output_type": "stream",
     "text": [
      "0.9994649054059699\n",
      "State_D16 0.9994649054060081"
     ]
    },
    {
     "name": "stdout",
     "output_type": "stream",
     "text": [
      "\n",
      "State_D17 "
     ]
    },
    {
     "name": "stdout",
     "output_type": "stream",
     "text": [
      "0.9983690788945314\n",
      "State_D18 0.9996132542461943"
     ]
    },
    {
     "name": "stdout",
     "output_type": "stream",
     "text": [
      "\n",
      "State_D19 "
     ]
    },
    {
     "name": "stdout",
     "output_type": "stream",
     "text": [
      "0.9999511647607993\n",
      "State_D20 0.999610526303061"
     ]
    },
    {
     "name": "stdout",
     "output_type": "stream",
     "text": [
      "\n",
      "\n",
      "γ =  7.9477\n"
     ]
    },
    {
     "name": "stdout",
     "output_type": "stream",
     "text": [
      "State_D1 0.9969543952486436"
     ]
    },
    {
     "name": "stdout",
     "output_type": "stream",
     "text": [
      "\n",
      "State_D2 "
     ]
    },
    {
     "name": "stdout",
     "output_type": "stream",
     "text": [
      "0.998546669856937\n",
      "State_D3 0.9977420563095367"
     ]
    },
    {
     "name": "stdout",
     "output_type": "stream",
     "text": [
      "\n",
      "State_D4 "
     ]
    },
    {
     "name": "stdout",
     "output_type": "stream",
     "text": [
      "0.9988911978819921\n",
      "State_D5 0.9975380448598097"
     ]
    },
    {
     "name": "stdout",
     "output_type": "stream",
     "text": [
      "\n",
      "State_D6 "
     ]
    },
    {
     "name": "stdout",
     "output_type": "stream",
     "text": [
      "0.9975380448598097\n",
      "State_D7 0.9950258524021663"
     ]
    },
    {
     "name": "stdout",
     "output_type": "stream",
     "text": [
      "\n",
      "State_D8 "
     ]
    },
    {
     "name": "stdout",
     "output_type": "stream",
     "text": [
      "0.9983359710528779\n",
      "State_D9 0.9995783105139752"
     ]
    },
    {
     "name": "stdout",
     "output_type": "stream",
     "text": [
      "\n",
      "State_D10 "
     ]
    },
    {
     "name": "stdout",
     "output_type": "stream",
     "text": [
      "0.9997429896812706\n",
      "State_D11 0.997742056309495"
     ]
    },
    {
     "name": "stdout",
     "output_type": "stream",
     "text": [
      "\n",
      "State_D12 "
     ]
    },
    {
     "name": "stdout",
     "output_type": "stream",
     "text": [
      "0.9988911978819921\n",
      "State_D13 0.9969543952486436"
     ]
    },
    {
     "name": "stdout",
     "output_type": "stream",
     "text": [
      "\n",
      "State_D14 "
     ]
    },
    {
     "name": "stdout",
     "output_type": "stream",
     "text": [
      "0.998546669856996\n",
      "State_D15 0.9978604112842138"
     ]
    },
    {
     "name": "stdout",
     "output_type": "stream",
     "text": [
      "\n",
      "State_D16 "
     ]
    },
    {
     "name": "stdout",
     "output_type": "stream",
     "text": [
      "0.9978604112842138\n",
      "State_D17 0.9950258524021663"
     ]
    },
    {
     "name": "stdout",
     "output_type": "stream",
     "text": [
      "\n",
      "State_D18 "
     ]
    },
    {
     "name": "stdout",
     "output_type": "stream",
     "text": [
      "0.9983359710528779\n",
      "State_D19 0.9997429896812706"
     ]
    },
    {
     "name": "stdout",
     "output_type": "stream",
     "text": [
      "\n",
      "State_D20 "
     ]
    },
    {
     "name": "stdout",
     "output_type": "stream",
     "text": [
      "0.9995783105139752\n",
      "\n",
      "γ =  25.133\n",
      "State_D1 "
     ]
    },
    {
     "name": "stdout",
     "output_type": "stream",
     "text": [
      "0.9808348722494997\n",
      "State_D2 0.998839907671989"
     ]
    },
    {
     "name": "stdout",
     "output_type": "stream",
     "text": [
      "\n",
      "State_D3 0.9808092975276934\n",
      "State_D4 0.9987950836405837\n",
      "State_D5 "
     ]
    },
    {
     "name": "stdout",
     "output_type": "stream",
     "text": [
      "0.9893782990348063\n",
      "State_D6 0.9893782990348063\n",
      "State_D7 0.9733146570861817\n",
      "State_D8 0.9915177696653927"
     ]
    },
    {
     "name": "stdout",
     "output_type": "stream",
     "text": [
      "\n",
      "State_D9 0.9977082371072041\n",
      "State_D10 0.997590496177277"
     ]
    },
    {
     "name": "stdout",
     "output_type": "stream",
     "text": [
      "\n",
      "State_D11 0.9808092975276841\n",
      "State_D12 0.9987950836405837"
     ]
    },
    {
     "name": "stdout",
     "output_type": "stream",
     "text": [
      "\n",
      "State_D13 0.9808348722494997\n",
      "State_D14 0.9988399076719952"
     ]
    },
    {
     "name": "stdout",
     "output_type": "stream",
     "text": [
      "\n",
      "State_D15 0.9893392633039053\n",
      "State_D16 0.9893392633040695"
     ]
    },
    {
     "name": "stdout",
     "output_type": "stream",
     "text": [
      "\n",
      "State_D17 0.9733146570861817\n",
      "State_D18 0.9915177696653927"
     ]
    },
    {
     "name": "stdout",
     "output_type": "stream",
     "text": [
      "\n",
      "State_D19 0.997590496177277\n",
      "State_D20 0.9977082371072041"
     ]
    },
    {
     "name": "stdout",
     "output_type": "stream",
     "text": [
      "\n",
      "\n",
      "γ =  79.477\n"
     ]
    },
    {
     "name": "stdout",
     "output_type": "stream",
     "text": [
      "State_D1 0.8097801504315154\n",
      "State_D2 0.9635546628845795\n",
      "State_D3 0.8098424265272719"
     ]
    },
    {
     "name": "stdout",
     "output_type": "stream",
     "text": [
      "\n",
      "State_D4 0.963559391339384\n",
      "State_D5 0.965998411507554"
     ]
    },
    {
     "name": "stdout",
     "output_type": "stream",
     "text": [
      "\n",
      "State_D6 0.965998411507554\n",
      "State_D7 0.6137016442230677\n",
      "State_D8 "
     ]
    },
    {
     "name": "stdout",
     "output_type": "stream",
     "text": [
      "0.8058702547286648\n",
      "State_D9 0.9644055897301941\n",
      "State_D10 0.9644203306186473\n",
      "State_D11 0.8098424265265295"
     ]
    },
    {
     "name": "stdout",
     "output_type": "stream",
     "text": [
      "\n",
      "State_D12 0.963559391339384\n",
      "State_D13 0.8097801504301343"
     ]
    },
    {
     "name": "stdout",
     "output_type": "stream",
     "text": [
      "\n",
      "State_D14 0.9635546628845912\n",
      "State_D15 0.9660166641131951\n",
      "State_D16 "
     ]
    },
    {
     "name": "stdout",
     "output_type": "stream",
     "text": [
      "0.9660166641134725\n",
      "State_D17 0.6137016442243094\n",
      "State_D18 0.8058702547285592\n",
      "State_D19 0.964420330618627"
     ]
    },
    {
     "name": "stdout",
     "output_type": "stream",
     "text": [
      "\n",
      "State_D20 0.9644055897301556\n",
      "\n",
      "γ =  251.33\n",
      "State_D1 "
     ]
    },
    {
     "name": "stdout",
     "output_type": "stream",
     "text": [
      "0.8033378045194224\n",
      "State_D2 0.9087563258317448\n",
      "State_D3 0.8034536587574734\n",
      "State_D4 0.9088091393036289\n",
      "State_D5 "
     ]
    },
    {
     "name": "stdout",
     "output_type": "stream",
     "text": [
      "0.9872825318031405\n",
      "State_D6 0.9872825318031405\n",
      "State_D7 0.4887157148917377\n",
      "State_D8 0.6489018428490481\n",
      "State_D9 "
     ]
    },
    {
     "name": "stdout",
     "output_type": "stream",
     "text": [
      "0.9487705643572666\n",
      "State_D10 0.9488124082323044\n",
      "State_D11 0.8034536587567483\n",
      "State_D12 0.9088091393040063\n",
      "State_D13 0.8033378045193798\n",
      "State_D14 0.9087563258313265"
     ]
    },
    {
     "name": "stdout",
     "output_type": "stream",
     "text": [
      "\n",
      "State_D15 0.9872658484077381\n",
      "State_D16 0.9872658484078232\n",
      "State_D17 0.48871571489105714\n",
      "State_D18 0.6489018428490547"
     ]
    },
    {
     "name": "stdout",
     "output_type": "stream",
     "text": [
      "\n",
      "State_D19 0.9488124082324156\n",
      "State_D20 0.9487705643573272\n",
      "\n",
      "POP_LME_6-H_random_trn4_tst20_2024-Jan-16_at_18-48.h5\n"
     ]
    }
   ],
   "source": [
    "γ = [ \"0.079477\",  \"0.25133\", \"0.79477\", \"2.5133\", \"7.9477\", \"25.133\", \"79.477\", \"251.33\"]\n",
    "\n",
    "date_and_time_string =  string(Dates.format(now(), \"yyyy-u-dd_at_HH-MM\"))\n",
    "\n",
    "tests_data_file_name = \"POP_LME_6-H_random_trn4_tst20_\"*date_and_time_string * \".h5\"\n",
    "\n",
    "for γᵢ in γ\n",
    "\n",
    "    println(\"γ =  \"*γᵢ)\n",
    "\n",
    "    poly = g_objective_6(γᵢ)\n",
    "    \n",
    "    sol = local_rand_min(poly)\n",
    "\n",
    "    #Hˢⁱᵈ = subs(Hˢʸᵐᵇ, sol)\n",
    "    Hˢⁱᵈ = Hˢʸᵐᵇ\n",
    "\n",
    "    omega = subs(w, sol)\n",
    "\n",
    "    relaxation = subs(r^2, sol)\n",
    "    de_phasing = subs(ϕ^2, sol)\n",
    "    exitation = subs(e^2, sol) \n",
    "    de_polarisation = subs(p^2, sol)\n",
    "    #omega = subs(w, sol)\n",
    "\n",
    "    J₁ˢⁱᵈ = subs(J₁ˢʸᵐᵇ, sol)\n",
    "    J₂ˢⁱᵈ = subs(J₂ˢʸᵐᵇ, sol)\n",
    "    J₃ˢⁱᵈ = subs(J₃ˢʸᵐᵇ, sol) \n",
    "\n",
    "    J₄ˢⁱᵈ = subs(J₄ˢʸᵐᵇ, sol)\n",
    "    J₅ˢⁱᵈ = subs(J₅ˢʸᵐᵇ, sol)\n",
    "    J₆ˢⁱᵈ = subs(J₆ˢʸᵐᵇ, sol)\n",
    "\n",
    "\n",
    "    h5open(tests_dir*tests_data_file_name,\"cw\") do fid\n",
    "        γ_group = create_group(fid, \"gamma_\"*γᵢ) # create coupling group   \n",
    "\n",
    "        #γ_group[\"omega\"] = convert(Float64, omega)\n",
    "        γ_group[\"gamma_relaxation\"] = convert(Float64, relaxation)\n",
    "        γ_group[\"gamma_de_phasing\"] = convert(Float64,  de_phasing)\n",
    "        γ_group[\"gamma_exitation\"] = convert(Float64,  exitation)\n",
    "        γ_group[\"gamma_de_polarisation\"] = convert(Float64, de_polarisation)\n",
    "        \n",
    "        γ_group[\"H\"] = convert.(ComplexF64, Hˢⁱᵈ)\n",
    "        #γ_group[\"J1\"] = convert.(ComplexF64, J₁ˢⁱᵈ)\n",
    "        #γ_group[\"J2\"] = convert.(ComplexF64, J₂ˢⁱᵈ)\n",
    "        #γ_group[\"J3\"] = convert.(ComplexF64, J₃ˢⁱᵈ)\n",
    "        #γ_group[\"J4\"] = convert.(ComplexF64, J₄ˢⁱᵈ)\n",
    "        #γ_group[\"J5\"] = convert.(ComplexF64, J₅ˢⁱᵈ)\n",
    "        #γ_group[\"J6\"] = convert.(ComplexF64, J₆ˢⁱᵈ)\n",
    "        \n",
    "    end\n",
    "\n",
    "    for df in test_files # loop over initial states\n",
    "        \n",
    "        print(df*\" \")\n",
    "\n",
    "        start_time = time()\n",
    "\n",
    "        ρₛ, tₛ = LiPoSID.get_rho_series(data_dir*df*\"_2CUT_data.h5\", γᵢ)\n",
    "        ρₛ = convert(Vector{Matrix{ComplexF64}}, ρₛ)\n",
    "\n",
    "        ρᵗˢᵗ = [DenseOperator(basis,Hermitian(ρₜ)) for ρₜ in ρₛ]\n",
    "        tᵗˢᵗ = convert(Vector{Float64}, tₛ)\n",
    "\n",
    "        tˢⁱᵈ, ρˢⁱᵈ  = timeevolution.master(tᵗˢᵗ, ρᵗˢᵗ[1], DenseOperator(basis,Hˢⁱᵈ), \n",
    "                    [ DenseOperator(basis,J₁ˢⁱᵈ), DenseOperator(basis,J₂ˢⁱᵈ), DenseOperator(basis,J₃ˢⁱᵈ),\n",
    "                     DenseOperator(basis,J₄ˢⁱᵈ), DenseOperator(basis,J₅ˢⁱᵈ), DenseOperator(basis,J₆ˢⁱᵈ)])\n",
    "\n",
    "        Fᴸᴹᴱₑₓ = [abs(fidelity(ρ₁, ρ₂)) for (ρ₁, ρ₂) in zip(ρᵗˢᵗ, ρˢⁱᵈ)]                    \n",
    "\n",
    "        h5open(tests_dir*tests_data_file_name,\"cw\") do fid\n",
    "            γ_group = open_group(fid, \"gamma_\"*γᵢ) # open coupling group\n",
    "\n",
    "            init_state_group = create_group(γ_group, df) # create initial state group\n",
    "            init_state_group[\"Fidelity\"] = convert.(Float64, Fᴸᴹᴱₑₓ)\n",
    "            \n",
    "        end\n",
    "                    \n",
    "        println(minimum(Fᴸᴹᴱₑₓ))\n",
    "    \n",
    "    end\n",
    "\n",
    "    println()\n",
    "end\n",
    "\n",
    "println(tests_data_file_name)"
   ]
  },
  {
   "cell_type": "code",
   "execution_count": 6,
   "metadata": {},
   "outputs": [],
   "source": []
  }
 ],
 "metadata": {
  "kernelspec": {
   "display_name": "Julia 1.10.0",
   "language": "julia",
   "name": "julia-1.10"
  },
  "language_info": {
   "file_extension": ".jl",
   "mimetype": "application/julia",
   "name": "julia",
   "version": "1.10.0"
  }
 },
 "nbformat": 4,
 "nbformat_minor": 2
}
