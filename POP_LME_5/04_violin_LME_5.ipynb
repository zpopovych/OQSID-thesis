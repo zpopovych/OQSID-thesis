{
 "cells": [
  {
   "cell_type": "code",
   "execution_count": 1,
   "id": "19705211",
   "metadata": {},
   "outputs": [],
   "source": [
    "import seaborn as sns\n",
    "import matplotlib.pyplot as plt\n",
    "import h5py  \n",
    "import pandas as pd\n",
    "import numpy as np\n",
    "import os"
   ]
  },
  {
   "cell_type": "code",
   "execution_count": 2,
   "id": "29727111",
   "metadata": {},
   "outputs": [],
   "source": [
    "\n",
    "#df = pd.read_pickle(\"../TESTS/dataframe_POP_LME_5_random_trn4_tst20_2024-Jan-20_at_15-06.pkl\")\n",
    "\n",
    "df = pd.read_pickle(\"../TESTS/dataframe_POP_LME_5_NO_CUT_random_trn4_tst20_2024-Jan-31_at_11-10.pkl\")"
   ]
  },
  {
   "cell_type": "code",
   "execution_count": 3,
   "id": "ce0b355a",
   "metadata": {},
   "outputs": [
    {
     "name": "stdout",
     "output_type": "stream",
     "text": [
      "0.079477\n",
      "0.25133\n",
      "0.79477\n",
      "2.5133\n",
      "7.9477\n",
      "25.133\n",
      "79.477\n",
      "251.33\n"
     ]
    }
   ],
   "source": [
    "tests_dir = \"../TESTS/\"\n",
    "#test_file = \"POP_LME_5_random_trn4_tst20_2024-Jan-20_at_15-06.h5\"\n",
    "\n",
    "test_file = \"POP_LME_5_NO_CUT_random_trn4_tst20_2024-Jan-31_at_11-10.h5\"\n",
    "\n",
    "def read_gammas(filename, tests_dir):\n",
    "    \n",
    "    with h5py.File(tests_dir+filename, \"r\") as f:\n",
    "    \n",
    "        gammas = ['0.079477', '0.25133', '0.79477', '2.5133', '7.9477', '25.133', '79.477', '251.33']\n",
    "        \n",
    "        relaxation = []\n",
    "        de_phasing = []\n",
    "        #exitation = []\n",
    "        de_polarisation = []\n",
    "        omega = []\n",
    "\n",
    "               \n",
    "        for gamma in gammas:\n",
    "\n",
    "            relaxation.append(f[\"gamma_\"+gamma][\"gamma_relaxation\"][()])\n",
    "            de_phasing.append(f[\"gamma_\"+gamma][\"gamma_de_phasing\"][()])\n",
    "            #exitation.append(f[\"gamma_\"+gamma][\"gamma_exitation\"][()])\n",
    "            de_polarisation.append(f[\"gamma_\"+gamma][\"gamma_de_polarisation\"][()])\n",
    "            omega.append(f[\"gamma_\"+gamma][\"omega\"][()])\n",
    "            \n",
    "            print(gamma)\n",
    "\n",
    "    return gammas, omega, relaxation, de_phasing, de_polarisation  # exitation\n",
    "\n",
    "gammas, omega, relaxation, de_phasing, de_polarisation = read_gammas(test_file, tests_dir)"
   ]
  },
  {
   "cell_type": "code",
   "execution_count": 4,
   "id": "5c5b748c",
   "metadata": {},
   "outputs": [
    {
     "data": {
      "text/html": [
       "<div>\n",
       "<style scoped>\n",
       "    .dataframe tbody tr th:only-of-type {\n",
       "        vertical-align: middle;\n",
       "    }\n",
       "\n",
       "    .dataframe tbody tr th {\n",
       "        vertical-align: top;\n",
       "    }\n",
       "\n",
       "    .dataframe thead th {\n",
       "        text-align: right;\n",
       "    }\n",
       "</style>\n",
       "<table border=\"1\" class=\"dataframe\">\n",
       "  <thead>\n",
       "    <tr style=\"text-align: right;\">\n",
       "      <th></th>\n",
       "      <th>Gamma</th>\n",
       "      <th>State</th>\n",
       "      <th>Time</th>\n",
       "      <th>gt</th>\n",
       "      <th>Fidelity</th>\n",
       "      <th>Infidelity</th>\n",
       "      <th>Distance</th>\n",
       "    </tr>\n",
       "  </thead>\n",
       "  <tbody>\n",
       "    <tr>\n",
       "      <th>0</th>\n",
       "      <td>0.079477</td>\n",
       "      <td>1</td>\n",
       "      <td>0.00000</td>\n",
       "      <td>0.000000</td>\n",
       "      <td>1.000000</td>\n",
       "      <td>-1.052511e-10</td>\n",
       "      <td>0.357381</td>\n",
       "    </tr>\n",
       "    <tr>\n",
       "      <th>1</th>\n",
       "      <td>0.079477</td>\n",
       "      <td>1</td>\n",
       "      <td>0.02000</td>\n",
       "      <td>0.001590</td>\n",
       "      <td>0.999962</td>\n",
       "      <td>3.780246e-05</td>\n",
       "      <td>0.357381</td>\n",
       "    </tr>\n",
       "    <tr>\n",
       "      <th>2</th>\n",
       "      <td>0.079477</td>\n",
       "      <td>1</td>\n",
       "      <td>0.04000</td>\n",
       "      <td>0.003179</td>\n",
       "      <td>0.999975</td>\n",
       "      <td>2.463809e-05</td>\n",
       "      <td>0.357381</td>\n",
       "    </tr>\n",
       "    <tr>\n",
       "      <th>3</th>\n",
       "      <td>0.079477</td>\n",
       "      <td>1</td>\n",
       "      <td>0.06000</td>\n",
       "      <td>0.004769</td>\n",
       "      <td>0.999986</td>\n",
       "      <td>1.405692e-05</td>\n",
       "      <td>0.357381</td>\n",
       "    </tr>\n",
       "    <tr>\n",
       "      <th>4</th>\n",
       "      <td>0.079477</td>\n",
       "      <td>1</td>\n",
       "      <td>0.08000</td>\n",
       "      <td>0.006358</td>\n",
       "      <td>0.999975</td>\n",
       "      <td>2.474346e-05</td>\n",
       "      <td>0.357381</td>\n",
       "    </tr>\n",
       "    <tr>\n",
       "      <th>...</th>\n",
       "      <td>...</td>\n",
       "      <td>...</td>\n",
       "      <td>...</td>\n",
       "      <td>...</td>\n",
       "      <td>...</td>\n",
       "      <td>...</td>\n",
       "      <td>...</td>\n",
       "    </tr>\n",
       "    <tr>\n",
       "      <th>952</th>\n",
       "      <td>79.477</td>\n",
       "      <td>20</td>\n",
       "      <td>0.23800</td>\n",
       "      <td>18.915526</td>\n",
       "      <td>0.989638</td>\n",
       "      <td>1.036202e-02</td>\n",
       "      <td>0.357588</td>\n",
       "    </tr>\n",
       "    <tr>\n",
       "      <th>953</th>\n",
       "      <td>79.477</td>\n",
       "      <td>20</td>\n",
       "      <td>0.23825</td>\n",
       "      <td>18.935395</td>\n",
       "      <td>0.989633</td>\n",
       "      <td>1.036658e-02</td>\n",
       "      <td>0.357588</td>\n",
       "    </tr>\n",
       "    <tr>\n",
       "      <th>954</th>\n",
       "      <td>79.477</td>\n",
       "      <td>20</td>\n",
       "      <td>0.23850</td>\n",
       "      <td>18.955264</td>\n",
       "      <td>0.989629</td>\n",
       "      <td>1.037087e-02</td>\n",
       "      <td>0.357588</td>\n",
       "    </tr>\n",
       "    <tr>\n",
       "      <th>955</th>\n",
       "      <td>79.477</td>\n",
       "      <td>20</td>\n",
       "      <td>0.23875</td>\n",
       "      <td>18.975134</td>\n",
       "      <td>0.989625</td>\n",
       "      <td>1.037489e-02</td>\n",
       "      <td>0.357588</td>\n",
       "    </tr>\n",
       "    <tr>\n",
       "      <th>956</th>\n",
       "      <td>79.477</td>\n",
       "      <td>20</td>\n",
       "      <td>0.23900</td>\n",
       "      <td>18.995003</td>\n",
       "      <td>0.989621</td>\n",
       "      <td>1.037863e-02</td>\n",
       "      <td>0.357588</td>\n",
       "    </tr>\n",
       "  </tbody>\n",
       "</table>\n",
       "<p>293822 rows × 7 columns</p>\n",
       "</div>"
      ],
      "text/plain": [
       "        Gamma State     Time         gt  Fidelity    Infidelity  Distance\n",
       "0    0.079477     1  0.00000   0.000000  1.000000 -1.052511e-10  0.357381\n",
       "1    0.079477     1  0.02000   0.001590  0.999962  3.780246e-05  0.357381\n",
       "2    0.079477     1  0.04000   0.003179  0.999975  2.463809e-05  0.357381\n",
       "3    0.079477     1  0.06000   0.004769  0.999986  1.405692e-05  0.357381\n",
       "4    0.079477     1  0.08000   0.006358  0.999975  2.474346e-05  0.357381\n",
       "..        ...   ...      ...        ...       ...           ...       ...\n",
       "952    79.477    20  0.23800  18.915526  0.989638  1.036202e-02  0.357588\n",
       "953    79.477    20  0.23825  18.935395  0.989633  1.036658e-02  0.357588\n",
       "954    79.477    20  0.23850  18.955264  0.989629  1.037087e-02  0.357588\n",
       "955    79.477    20  0.23875  18.975134  0.989625  1.037489e-02  0.357588\n",
       "956    79.477    20  0.23900  18.995003  0.989621  1.037863e-02  0.357588\n",
       "\n",
       "[293822 rows x 7 columns]"
      ]
     },
     "execution_count": 4,
     "metadata": {},
     "output_type": "execute_result"
    }
   ],
   "source": [
    "df"
   ]
  },
  {
   "cell_type": "code",
   "execution_count": 5,
   "id": "8212b442",
   "metadata": {},
   "outputs": [
    {
     "data": {
      "text/plain": [
       "0.9990574820532705"
      ]
     },
     "execution_count": 5,
     "metadata": {},
     "output_type": "execute_result"
    }
   ],
   "source": [
    "df[df.Gamma == \"0.079477\"].Fidelity.min()"
   ]
  },
  {
   "cell_type": "code",
   "execution_count": 6,
   "id": "73c8c66a",
   "metadata": {},
   "outputs": [
    {
     "data": {
      "text/plain": [
       "array([7.9000e-02, 2.5100e-01, 7.9500e-01, 2.5130e+00, 2.5133e+01,\n",
       "       2.5133e+02, 7.9480e+00, 7.9477e+01])"
      ]
     },
     "execution_count": 6,
     "metadata": {},
     "output_type": "execute_result"
    }
   ],
   "source": [
    "gammas = ['0.079477', '0.25133', '0.79477', '2.5133', '7.9477', '25.133', '79.477', '251.33']\n",
    "\n",
    "df.replace(to_replace= '0.079477', value = '0.079', inplace=True )\n",
    "df.replace(to_replace= '0.79477', value = '0.795', inplace=True )\n",
    "df.replace(to_replace= '0.25133', value = '0.251', inplace=True )\n",
    "df.replace(to_replace= '2.5133', value = '2.513', inplace=True )\n",
    "df.replace(to_replace= '7.9477', value = '7.948', inplace=True )\n",
    "\n",
    "df['Gamma'] = df['Gamma'].astype(float)\n",
    "\n",
    "df['Infidelity'] = df['Infidelity'].abs()\n",
    "\n",
    "df['Log_Infidelity'] = np.log10(df['Infidelity'])\n",
    "\n",
    "df.loc[df[\"Log_Infidelity\"] < -12, \"Log_Infidelity\"] = -12\n",
    "\n",
    "pd.unique(df[\"Gamma\"])"
   ]
  },
  {
   "cell_type": "code",
   "execution_count": 7,
   "id": "5ddd3750",
   "metadata": {},
   "outputs": [],
   "source": [
    "def log_infidelity_from_gamma(df, title):\n",
    "   \n",
    "    fig, ax = plt.subplots(1, 1, figsize=(6,6))\n",
    "    \n",
    "    sns.violinplot(ax=ax, data=df, x=\"Gamma\", y=\"Log_Infidelity\", cut = 0, # hue = \"Method\", split=True,\n",
    "                        scale=\"width\", palette =\"cool\", linewidth=0.5,\n",
    "                        inner= None, bw=\"silverman\")\n",
    "    \n",
    "    ymin = -6\n",
    "    ymax = -0.1\n",
    "    \n",
    "    tick_range = np.arange(ymin, ymax)\n",
    "    ax.yaxis.set_ticks(tick_range, [r'$10^{-6}$', r'$10^{-5}$', r'$10^{-4}$', r'$10^{-3}$', r'$10^{-2}$', r'$10^{-1}$',])\n",
    "    ax.yaxis.set_ticks([np.log10(x) for p in tick_range for x in np.linspace(10 ** p, 10 ** (p + 1), 10)], minor=True)\n",
    "\n",
    "    ax.set_title(title)\n",
    "    ax.set_ylim(ymin, ymax)\n",
    "    ax.set_xlabel(r'Coupling $\\gamma$')\n",
    "    ax.set_ylabel(r'Infidelity $(1-F)$')\n",
    "    \n",
    "    ax.hlines(y=np.log10(.01), xmin=-0.5, xmax=7.1, colors='black', linestyles='--', alpha=0.8)\n",
    "    ax.text(7.2, np.log10(.01), '0.01', ha='left', va='center')\n",
    "    \n",
    "    ax.hlines(y=np.log10(.02), xmin=-0.5, xmax=7.1, colors='black', linestyles='--', alpha=0.8)\n",
    "    ax.text(7.2, np.log10(.02), '0.02', ha='left', va='center')\n",
    " \n",
    "    return fig"
   ]
  },
  {
   "cell_type": "code",
   "execution_count": 8,
   "id": "78200255",
   "metadata": {},
   "outputs": [
    {
     "data": {
      "image/png": "[encoded data removed]",
      "text/plain": [
       "<Figure size 600x600 with 1 Axes>"
      ]
     },
     "metadata": {},
     "output_type": "display_data"
    }
   ],
   "source": [
    "fig = log_infidelity_from_gamma(df, \"\")"
   ]
  },
  {
   "cell_type": "code",
   "execution_count": 9,
   "id": "c3f334af",
   "metadata": {},
   "outputs": [],
   "source": [
    "fig.savefig(\"LogInfidelity_LME_5_NO_CUT.pdf\")"
   ]
  }
 ],
 "metadata": {
  "@webio": {
   "lastCommId": null,
   "lastKernelId": null
  },
  "kernelspec": {
   "display_name": "Python 3 (ipykernel)",
   "language": "python",
   "name": "python3"
  },
  "language_info": {
   "codemirror_mode": {
    "name": "ipython",
    "version": 3
   },
   "file_extension": ".py",
   "mimetype": "text/x-python",
   "name": "python",
   "nbconvert_exporter": "python",
   "pygments_lexer": "ipython3",
   "version": "3.11.4"
  }
 },
 "nbformat": 4,
 "nbformat_minor": 5
}
