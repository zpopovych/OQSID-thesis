{
 "cells": [
  {
   "cell_type": "code",
   "execution_count": 7,
   "metadata": {},
   "outputs": [
    {
     "name": "stderr",
     "output_type": "stream",
     "text": [
      "WARNING: replacing module LiPoSID.\n"
     ]
    }
   ],
   "source": [
    "include(\"../LiPoSID.jl\")\n",
    "using QuantumOptics\n",
    "basis = NLevelBasis(2)\n",
    "using LinearAlgebra\n",
    "using HDF5\n",
    "using DynamicPolynomials\n",
    "using Plots\n",
    "using Dates\n",
    "\n",
    "using Optim\n",
    "using Random"
   ]
  },
  {
   "cell_type": "markdown",
   "metadata": {},
   "source": [
    "Consider simple Lindblad master equation with two dissipators:\n",
    "\n",
    "$\n",
    "    \\frac{d\\rho}{dt} = -\\frac{i}{\\hbar} [H,\\rho(t)] + \\mathcal{D}[\\rho(t)] = - \\frac{i}{\\hbar}[H, \\rho]+\\sum_{\\ell=1}^{s-1}\\left[J_\\ell \\rho J_\\ell^\\dagger - \\frac{1}{2}\\left\\{ J_\\ell^\\dagger J_\\ell, \\rho \\right\\} \\right],\n",
    "$\n",
    "\n",
    "where Hamiltonian is hermitian with one of the diagonal elemnets set to zero\n",
    "\n",
    "\n",
    "$\n",
    "    H = \\begin{pmatrix} w & 0 \\\\ 0 & 0\n",
    "   \\end{pmatrix}\n",
    "$\n",
    "\n",
    " withot loss of generality we can possibly look for jump operator of the form:\n",
    "\n",
    "$\n",
    "J_1 = \\begin{pmatrix} 0 & a \\\\ 0 & 0 \n",
    "   \\end{pmatrix} = \n",
    "   \\begin{pmatrix} 0 & \\sqrt{\\gamma_1} \\\\ 0 & 0 \n",
    "   \\end{pmatrix}\n",
    "$\n",
    "\n",
    "$\n",
    "J_2 = \\begin{pmatrix} d & 0 \\\\ 0 & -d \n",
    "   \\end{pmatrix} = \n",
    "   \\begin{pmatrix} \\sqrt{\\gamma_2} & 0 \\\\ 0 & -\\sqrt{\\gamma_2} \n",
    "   \\end{pmatrix}\n",
    "$\n",
    "\n",
    "<!--$\n",
    "J_3 = \\begin{pmatrix} 0 & 0 \\\\ e & 0 \n",
    "   \\end{pmatrix} = \n",
    "   \\begin{pmatrix} 0 &  0 \\\\ \\sqrt{\\gamma_3} & 0 \n",
    "   \\end{pmatrix}\n",
    "$ -->"
   ]
  },
  {
   "cell_type": "markdown",
   "metadata": {},
   "source": [
    "$\n",
    "J_4 = \\begin{pmatrix} 0 & p \\\\ p & 0 \n",
    "   \\end{pmatrix} = \\sqrt{\\gamma_4/3} \n",
    "   \\begin{pmatrix} 0 & 1\\\\ 1 & 0 \n",
    "   \\end{pmatrix}\n",
    "$\n",
    "\n",
    "$\n",
    "J_5 = \\begin{pmatrix} 0 & -i p \\\\ i p & 0 \n",
    "   \\end{pmatrix} = \\sqrt{\\gamma_4/3}\n",
    "   \\begin{pmatrix} 0 & -i \\\\ i & 0 \n",
    "   \\end{pmatrix}\n",
    "$\n",
    "\n",
    "$\n",
    "J_6 = \\begin{pmatrix} p & 0 \\\\ 0 & -p\n",
    "   \\end{pmatrix} = \\sqrt{\\gamma_4/3}\n",
    "   \\begin{pmatrix} 1 & 0 \\\\ 0 & -1 \n",
    "   \\end{pmatrix}\n",
    "$"
   ]
  },
  {
   "cell_type": "code",
   "execution_count": 8,
   "metadata": {},
   "outputs": [
    {
     "data": {
      "text/plain": [
       "g_objective_5 (generic function with 1 method)"
      ]
     },
     "metadata": {},
     "output_type": "display_data"
    }
   ],
   "source": [
    "# Define polynomial variables\n",
    "@polyvar w α β r ϕ e p\n",
    "\n",
    "Hˢʸᵐᵇ = [ w   0\n",
    "          0   0. ]\n",
    "\n",
    "#Hˢʸᵐᵇ = [ w           α + im* β\n",
    "#          α + im* β   0.        ]\n",
    "\n",
    "J₁ˢʸᵐᵇ = [ 0   r\n",
    "           0   0. ]\n",
    "\n",
    "J₂ˢʸᵐᵇ = ϕ * [ 1    0\n",
    "               0   -1. ]\n",
    "\n",
    "#J₃ˢʸᵐᵇ = [ 0   0\n",
    "#           e   0. ]\n",
    "\n",
    "J₄ˢʸᵐᵇ = p * [ 0    1\n",
    "               1    0. ]\n",
    "\n",
    "J₅ˢʸᵐᵇ = p * [ 0   -im\n",
    "               im   0  ]\n",
    "\n",
    "J₆ˢʸᵐᵇ = p * [ 1    0\n",
    "               0   -1. ]\n",
    "\n",
    "\n",
    "function g_objective_5(γᵢ)\n",
    "\n",
    "    objₑₓ = 0\n",
    "\n",
    "    for df_trn in train_files # loop over initial states\n",
    "\n",
    "        #ρᵗʳⁿ, tᵗʳⁿ = LiPoSID.get_rho_series(data_dir*df_trn*\"_2CUT_data.h5\", γᵢ)\n",
    "        ρᵗʳⁿ, tᵗʳⁿ = LiPoSID.get_rho_series(data_dir*df_trn*\"_CUT_data.h5\", γᵢ)\n",
    "        \n",
    "        if length(tᵗʳⁿ) > 1200 end_train = 1200 else end_train = length(tᵗʳⁿ) end\n",
    "            \n",
    "        ρᵗʳⁿ = convert(Vector{Matrix{ComplexF64}}, ρᵗʳⁿ[1:end_train])\n",
    "        \n",
    "        tᵗʳⁿ = convert(Vector{Float64}, tᵗʳⁿ[1:end_train])\n",
    "\n",
    "        objₑₓ += LiPoSID.simpson_obj(ρᵗʳⁿ, tᵗʳⁿ,  Hˢʸᵐᵇ, [J₁ˢʸᵐᵇ, J₂ˢʸᵐᵇ, J₄ˢʸᵐᵇ, J₅ˢʸᵐᵇ, J₆ˢʸᵐᵇ]) #J₃ˢʸᵐᵇ,\n",
    "        \n",
    "    end # of files (initial states) loop\n",
    "\n",
    "    return(objₑₓ)\n",
    "end"
   ]
  },
  {
   "cell_type": "code",
   "execution_count": 9,
   "metadata": {},
   "outputs": [
    {
     "data": {
      "text/plain": [
       "local_rand_min (generic function with 1 method)"
      ]
     },
     "metadata": {},
     "output_type": "display_data"
    }
   ],
   "source": [
    "\n",
    "function scaling_poly(p::Polynomial)\n",
    "\n",
    "    X = transpose(hcat([exponents(t) for t in terms(p)]...))\n",
    "\n",
    "    # Get the scaling via linear regression\n",
    "    scaling = X \\ log.(abs.(coefficients(p)))\n",
    "\n",
    "    exp.(abs.(scaling)) # \n",
    "end\n",
    "\n",
    "function local_rand_min(p)\n",
    "\n",
    "    pd = p / maximum(abs.(coefficients(p)))\n",
    "\n",
    "    # find variable scaling\n",
    "    scale = scaling_poly(pd)\n",
    "\n",
    "    # scale the polynomial\n",
    "    p_scaled = subs(pd, variables(pd) => scale .* variables(pd))\n",
    "\n",
    "    num_iterations = 100\n",
    "\n",
    "    # Initialize the best minimizer and the minimum value\n",
    "    best_minimizer = nothing\n",
    "    best_min_value = Inf\n",
    "\n",
    "    num_of_variables = length(variables(pd))\n",
    "\n",
    "    for _ in 1:num_iterations\n",
    "        # Generate a random initial condition\n",
    "        initial_point = rand(num_of_variables).*250\n",
    "\n",
    "        # Run local optimization\n",
    "        result = Optim.optimize(p_scaled, initial_point, BFGS())\n",
    "        #println(Optim.minimum(result))\n",
    "\n",
    "        # Update the best minimizer if a better one is found\n",
    "        if Optim.minimum(result) < best_min_value\n",
    "            \n",
    "            best_minimizer = Optim.minimizer(result)\n",
    "            best_min_value = Optim.minimum(result)\n",
    "            \n",
    "        end\n",
    "\n",
    "    end\n",
    "\n",
    "    best_minimizer = abs.(best_minimizer) # to make gamma positive\n",
    "\n",
    "    minimizer_scaled = scale .* best_minimizer\n",
    "\n",
    "    solution = variables(p_scaled) => minimizer_scaled\n",
    "\n",
    "end"
   ]
  },
  {
   "cell_type": "code",
   "execution_count": 10,
   "metadata": {},
   "outputs": [
    {
     "name": "stdout",
     "output_type": "stream",
     "text": [
      "../DATA/NO_CUT/\n"
     ]
    }
   ],
   "source": [
    "#data_dir = \"../DATA/\"\n",
    "data_dir = \"../DATA/NO_CUT/\"\n",
    "println(data_dir)\n",
    "\n",
    "models_dir = \"../MODELS/\"\n",
    "tests_dir = \"../TESTS/\"\n",
    "\n",
    "dodeca_files = [\"State_D\"*string(n) for n=1:20];\n",
    "\n",
    "basis_files = [\"State_B\"*string(n) for n=1:4];\n",
    "\n",
    "all_files = vcat(dodeca_files, basis_files)\n",
    "train_files = basis_files \n",
    "test_files = dodeca_files;\n"
   ]
  },
  {
   "cell_type": "code",
   "execution_count": 11,
   "metadata": {},
   "outputs": [
    {
     "name": "stdout",
     "output_type": "stream",
     "text": [
      "γ =  0.079477\n"
     ]
    },
    {
     "name": "stdout",
     "output_type": "stream",
     "text": [
      "State_D1 0.9993678390871211"
     ]
    },
    {
     "name": "stdout",
     "output_type": "stream",
     "text": [
      "\n",
      "State_D2 "
     ]
    },
    {
     "name": "stdout",
     "output_type": "stream",
     "text": [
      "0.9993679915929324\n",
      "State_D3 0.9993692774395708"
     ]
    },
    {
     "name": "stdout",
     "output_type": "stream",
     "text": [
      "\n",
      "State_D4 "
     ]
    },
    {
     "name": "stdout",
     "output_type": "stream",
     "text": [
      "0.9993695020084483\n",
      "State_D5 0.9991714722424186"
     ]
    },
    {
     "name": "stdout",
     "output_type": "stream",
     "text": [
      "\n",
      "State_D6 "
     ]
    },
    {
     "name": "stdout",
     "output_type": "stream",
     "text": [
      "0.9991714574667655\n",
      "State_D7 0.999057954018931"
     ]
    },
    {
     "name": "stdout",
     "output_type": "stream",
     "text": [
      "\n",
      "State_D8 "
     ]
    },
    {
     "name": "stdout",
     "output_type": "stream",
     "text": [
      "0.9990574869567787\n",
      "State_D9 0.9994852056925638"
     ]
    },
    {
     "name": "stdout",
     "output_type": "stream",
     "text": [
      "\n",
      "State_D10 "
     ]
    },
    {
     "name": "stdout",
     "output_type": "stream",
     "text": [
      "0.9998798418083917\n",
      "State_D11 0.9993692684766412"
     ]
    },
    {
     "name": "stdout",
     "output_type": "stream",
     "text": [
      "\n",
      "State_D12 "
     ]
    },
    {
     "name": "stdout",
     "output_type": "stream",
     "text": [
      "0.9993694988366972\n",
      "State_D13 0.999367796292063"
     ]
    },
    {
     "name": "stdout",
     "output_type": "stream",
     "text": [
      "\n",
      "State_D14 "
     ]
    },
    {
     "name": "stdout",
     "output_type": "stream",
     "text": [
      "0.9993679715084203\n",
      "State_D15 0.9991717024888431"
     ]
    },
    {
     "name": "stdout",
     "output_type": "stream",
     "text": [
      "\n",
      "State_D16 "
     ]
    },
    {
     "name": "stdout",
     "output_type": "stream",
     "text": [
      "0.9991716637962483\n",
      "State_D17 0.9990579386809867"
     ]
    },
    {
     "name": "stdout",
     "output_type": "stream",
     "text": [
      "\n",
      "State_D18 "
     ]
    },
    {
     "name": "stdout",
     "output_type": "stream",
     "text": [
      "0.9990574820532705\n",
      "State_D19 0.9998798469012982"
     ]
    },
    {
     "name": "stdout",
     "output_type": "stream",
     "text": [
      "\n",
      "State_D20 "
     ]
    },
    {
     "name": "stdout",
     "output_type": "stream",
     "text": [
      "0.9994852056924965\n",
      "\n",
      "γ =  0.25133\n",
      "State_D1 "
     ]
    },
    {
     "name": "stdout",
     "output_type": "stream",
     "text": [
      "0.9997928652412128\n",
      "State_D2 0.9991606221319529"
     ]
    },
    {
     "name": "stdout",
     "output_type": "stream",
     "text": [
      "\n",
      "State_D3 "
     ]
    },
    {
     "name": "stdout",
     "output_type": "stream",
     "text": [
      "0.9996687417028036\n",
      "State_D4 0.9998912936905253"
     ]
    },
    {
     "name": "stdout",
     "output_type": "stream",
     "text": [
      "\n",
      "State_D5 "
     ]
    },
    {
     "name": "stdout",
     "output_type": "stream",
     "text": [
      "0.9997229096727249\n",
      "State_D6 0.9997229096727895"
     ]
    },
    {
     "name": "stdout",
     "output_type": "stream",
     "text": [
      "\n",
      "State_D7 "
     ]
    },
    {
     "name": "stdout",
     "output_type": "stream",
     "text": [
      "0.9994988564853002\n",
      "State_D8 0.9999025185370096"
     ]
    },
    {
     "name": "stdout",
     "output_type": "stream",
     "text": [
      "\n",
      "State_D9 "
     ]
    },
    {
     "name": "stdout",
     "output_type": "stream",
     "text": [
      "0.998460203422784\n",
      "State_D10 0.9997680959347446"
     ]
    },
    {
     "name": "stdout",
     "output_type": "stream",
     "text": [
      "\n",
      "State_D11 "
     ]
    },
    {
     "name": "stdout",
     "output_type": "stream",
     "text": [
      "0.9996687417028036\n",
      "State_D12 0.9998912936905253"
     ]
    },
    {
     "name": "stdout",
     "output_type": "stream",
     "text": [
      "\n",
      "State_D13 "
     ]
    },
    {
     "name": "stdout",
     "output_type": "stream",
     "text": [
      "0.9997928652412128\n",
      "State_D14 0.9991606221319529"
     ]
    },
    {
     "name": "stdout",
     "output_type": "stream",
     "text": [
      "\n",
      "State_D15 "
     ]
    },
    {
     "name": "stdout",
     "output_type": "stream",
     "text": [
      "0.9998886738226043\n",
      "State_D16 0.9998886738226074"
     ]
    },
    {
     "name": "stdout",
     "output_type": "stream",
     "text": [
      "\n",
      "State_D17 "
     ]
    },
    {
     "name": "stdout",
     "output_type": "stream",
     "text": [
      "0.9994988564853002\n",
      "State_D18 0.9999025185370096"
     ]
    },
    {
     "name": "stdout",
     "output_type": "stream",
     "text": [
      "\n",
      "State_D19 "
     ]
    },
    {
     "name": "stdout",
     "output_type": "stream",
     "text": [
      "0.9997680959347446\n",
      "State_D20 0.9984602034227756"
     ]
    },
    {
     "name": "stdout",
     "output_type": "stream",
     "text": [
      "\n",
      "\n",
      "γ =  0.79477\n"
     ]
    },
    {
     "name": "stdout",
     "output_type": "stream",
     "text": [
      "State_D1 0.9993285775025648"
     ]
    },
    {
     "name": "stdout",
     "output_type": "stream",
     "text": [
      "\n",
      "State_D2 "
     ]
    },
    {
     "name": "stdout",
     "output_type": "stream",
     "text": [
      "0.9974479551077503\n",
      "State_D3 0.9990104968991989"
     ]
    },
    {
     "name": "stdout",
     "output_type": "stream",
     "text": [
      "\n",
      "State_D4 "
     ]
    },
    {
     "name": "stdout",
     "output_type": "stream",
     "text": [
      "0.9996677375086376\n",
      "State_D5 0.9991204202919527"
     ]
    },
    {
     "name": "stdout",
     "output_type": "stream",
     "text": [
      "\n",
      "State_D6 "
     ]
    },
    {
     "name": "stdout",
     "output_type": "stream",
     "text": [
      "0.9991204202919537\n",
      "State_D7 0.9984161623021499"
     ]
    },
    {
     "name": "stdout",
     "output_type": "stream",
     "text": [
      "\n",
      "State_D8 "
     ]
    },
    {
     "name": "stdout",
     "output_type": "stream",
     "text": [
      "0.9996028636627188\n",
      "State_D9 0.9956634820746528"
     ]
    },
    {
     "name": "stdout",
     "output_type": "stream",
     "text": [
      "\n",
      "State_D10 "
     ]
    },
    {
     "name": "stdout",
     "output_type": "stream",
     "text": [
      "0.9993333939312228\n",
      "State_D11 0.9990104968991989"
     ]
    },
    {
     "name": "stdout",
     "output_type": "stream",
     "text": [
      "\n",
      "State_D12 "
     ]
    },
    {
     "name": "stdout",
     "output_type": "stream",
     "text": [
      "0.9996677375086376\n",
      "State_D13 0.9993285775025648"
     ]
    },
    {
     "name": "stdout",
     "output_type": "stream",
     "text": [
      "\n",
      "State_D14 "
     ]
    },
    {
     "name": "stdout",
     "output_type": "stream",
     "text": [
      "0.9974479551077503\n",
      "State_D15 0.999661536054476"
     ]
    },
    {
     "name": "stdout",
     "output_type": "stream",
     "text": [
      "\n",
      "State_D16 "
     ]
    },
    {
     "name": "stdout",
     "output_type": "stream",
     "text": [
      "0.999661536054474\n",
      "State_D17 0.9984161623021499"
     ]
    },
    {
     "name": "stdout",
     "output_type": "stream",
     "text": [
      "\n",
      "State_D18 "
     ]
    },
    {
     "name": "stdout",
     "output_type": "stream",
     "text": [
      "0.9996028636627188\n",
      "State_D19 0.9993333939312228"
     ]
    },
    {
     "name": "stdout",
     "output_type": "stream",
     "text": [
      "\n",
      "State_D20 "
     ]
    },
    {
     "name": "stdout",
     "output_type": "stream",
     "text": [
      "0.9956634820746567\n",
      "\n",
      "γ =  2.5133\n",
      "State_D1 "
     ]
    },
    {
     "name": "stdout",
     "output_type": "stream",
     "text": [
      "0.998070876008958\n",
      "State_D2 0.9930537983454129"
     ]
    },
    {
     "name": "stdout",
     "output_type": "stream",
     "text": [
      "\n",
      "State_D3 "
     ]
    },
    {
     "name": "stdout",
     "output_type": "stream",
     "text": [
      "0.9973532207164948\n",
      "State_D4 0.9990495749992341"
     ]
    },
    {
     "name": "stdout",
     "output_type": "stream",
     "text": [
      "\n",
      "State_D5 "
     ]
    },
    {
     "name": "stdout",
     "output_type": "stream",
     "text": [
      "0.997313767995778\n",
      "State_D6 0.997313767995778"
     ]
    },
    {
     "name": "stdout",
     "output_type": "stream",
     "text": [
      "\n",
      "State_D7 "
     ]
    },
    {
     "name": "stdout",
     "output_type": "stream",
     "text": [
      "0.9950325038241008\n",
      "State_D8 0.9982963029093456"
     ]
    },
    {
     "name": "stdout",
     "output_type": "stream",
     "text": [
      "\n",
      "State_D9 "
     ]
    },
    {
     "name": "stdout",
     "output_type": "stream",
     "text": [
      "0.989710169033461\n",
      "State_D10 0.9983190398062898"
     ]
    },
    {
     "name": "stdout",
     "output_type": "stream",
     "text": [
      "\n",
      "State_D11 "
     ]
    },
    {
     "name": "stdout",
     "output_type": "stream",
     "text": [
      "0.9973532207164948\n",
      "State_D12 0.9990495749992341"
     ]
    },
    {
     "name": "stdout",
     "output_type": "stream",
     "text": [
      "\n",
      "State_D13 "
     ]
    },
    {
     "name": "stdout",
     "output_type": "stream",
     "text": [
      "0.9980708760090837\n",
      "State_D14 0.9930537983454129"
     ]
    },
    {
     "name": "stdout",
     "output_type": "stream",
     "text": [
      "\n",
      "State_D15 "
     ]
    },
    {
     "name": "stdout",
     "output_type": "stream",
     "text": [
      "0.9990428906985211\n",
      "State_D16 0.9990428906985211"
     ]
    },
    {
     "name": "stdout",
     "output_type": "stream",
     "text": [
      "\n",
      "State_D17 "
     ]
    },
    {
     "name": "stdout",
     "output_type": "stream",
     "text": [
      "0.9950325038241008\n",
      "State_D18 0.9982963029093456"
     ]
    },
    {
     "name": "stdout",
     "output_type": "stream",
     "text": [
      "\n",
      "State_D19 "
     ]
    },
    {
     "name": "stdout",
     "output_type": "stream",
     "text": [
      "0.9983190398062898\n",
      "State_D20 0.989710169033461"
     ]
    },
    {
     "name": "stdout",
     "output_type": "stream",
     "text": [
      "\n",
      "\n",
      "γ =  7.9477\n"
     ]
    },
    {
     "name": "stdout",
     "output_type": "stream",
     "text": [
      "State_D1 0.9956817829877949"
     ]
    },
    {
     "name": "stdout",
     "output_type": "stream",
     "text": [
      "\n",
      "State_D2 "
     ]
    },
    {
     "name": "stdout",
     "output_type": "stream",
     "text": [
      "0.9866566610748224\n",
      "State_D3 0.994291323837962"
     ]
    },
    {
     "name": "stdout",
     "output_type": "stream",
     "text": [
      "\n",
      "State_D4 "
     ]
    },
    {
     "name": "stdout",
     "output_type": "stream",
     "text": [
      "0.9976690657688629\n",
      "State_D5 0.9931161085060192"
     ]
    },
    {
     "name": "stdout",
     "output_type": "stream",
     "text": [
      "\n",
      "State_D6 "
     ]
    },
    {
     "name": "stdout",
     "output_type": "stream",
     "text": [
      "0.99311610850602\n",
      "State_D7 0.9846324348791314"
     ]
    },
    {
     "name": "stdout",
     "output_type": "stream",
     "text": [
      "\n",
      "State_D8 "
     ]
    },
    {
     "name": "stdout",
     "output_type": "stream",
     "text": [
      "0.9952753319992259\n",
      "State_D9 0.9825496679106962"
     ]
    },
    {
     "name": "stdout",
     "output_type": "stream",
     "text": [
      "\n",
      "State_D10 "
     ]
    },
    {
     "name": "stdout",
     "output_type": "stream",
     "text": [
      "0.9965544871979295\n",
      "State_D11 0.994291323837962"
     ]
    },
    {
     "name": "stdout",
     "output_type": "stream",
     "text": [
      "\n",
      "State_D12 "
     ]
    },
    {
     "name": "stdout",
     "output_type": "stream",
     "text": [
      "0.9976690657688629\n",
      "State_D13 0.9956817829877949"
     ]
    },
    {
     "name": "stdout",
     "output_type": "stream",
     "text": [
      "\n",
      "State_D14 "
     ]
    },
    {
     "name": "stdout",
     "output_type": "stream",
     "text": [
      "0.9866566610748224\n",
      "State_D15 0.9970571155598564"
     ]
    },
    {
     "name": "stdout",
     "output_type": "stream",
     "text": [
      "\n",
      "State_D16 "
     ]
    },
    {
     "name": "stdout",
     "output_type": "stream",
     "text": [
      "0.9970571155598298\n",
      "State_D17 0.9846324348791314"
     ]
    },
    {
     "name": "stdout",
     "output_type": "stream",
     "text": [
      "\n",
      "State_D18 "
     ]
    },
    {
     "name": "stdout",
     "output_type": "stream",
     "text": [
      "0.9952753319992259\n",
      "State_D19 0.9965544871979295"
     ]
    },
    {
     "name": "stdout",
     "output_type": "stream",
     "text": [
      "\n",
      "State_D20 "
     ]
    },
    {
     "name": "stdout",
     "output_type": "stream",
     "text": [
      "0.9825496679106962\n",
      "\n",
      "γ =  25.133\n",
      "State_D1 "
     ]
    },
    {
     "name": "stdout",
     "output_type": "stream",
     "text": [
      "0.9804878858955395\n",
      "State_D2 0.984589309829061"
     ]
    },
    {
     "name": "stdout",
     "output_type": "stream",
     "text": [
      "\n",
      "State_D3 0.9818251863814922\n",
      "State_D4 0.9890625206707677"
     ]
    },
    {
     "name": "stdout",
     "output_type": "stream",
     "text": [
      "\n",
      "State_D5 0.9733237432769213\n",
      "State_D6 0.9733237432769213"
     ]
    },
    {
     "name": "stdout",
     "output_type": "stream",
     "text": [
      "\n",
      "State_D7 0.9622862379197801\n",
      "State_D8 0.9866458214370902"
     ]
    },
    {
     "name": "stdout",
     "output_type": "stream",
     "text": [
      "\n",
      "State_D9 0.9848255089357887\n",
      "State_D10 0.9943599316932694"
     ]
    },
    {
     "name": "stdout",
     "output_type": "stream",
     "text": [
      "\n",
      "State_D11 0.9818251863814922\n",
      "State_D12 0.9890625206707677\n",
      "State_D13 "
     ]
    },
    {
     "name": "stdout",
     "output_type": "stream",
     "text": [
      "0.9804878858955395\n",
      "State_D14 0.984589309829061\n",
      "State_D15 "
     ]
    },
    {
     "name": "stdout",
     "output_type": "stream",
     "text": [
      "0.9774109138159239\n",
      "State_D16 0.9774109138159237\n",
      "State_D17 0.9622862379197801\n",
      "State_D18 0.9866458214371154"
     ]
    },
    {
     "name": "stdout",
     "output_type": "stream",
     "text": [
      "\n",
      "State_D19 0.9943599316932694\n",
      "State_D20 0.9848255089357887"
     ]
    },
    {
     "name": "stdout",
     "output_type": "stream",
     "text": [
      "\n",
      "\n",
      "γ =  79.477\n"
     ]
    },
    {
     "name": "stdout",
     "output_type": "stream",
     "text": [
      "State_D1 0.946511965875356\n",
      "State_D2 0.9600025953179041\n",
      "State_D3 0.9262127684234348"
     ]
    },
    {
     "name": "stdout",
     "output_type": "stream",
     "text": [
      "\n",
      "State_D4 0.9467816535175623\n",
      "State_D5 0.9083612545804132\n",
      "State_D6 "
     ]
    },
    {
     "name": "stdout",
     "output_type": "stream",
     "text": [
      "0.9083612545804131\n",
      "State_D7 0.9177346433364538\n",
      "State_D8 0.9559975415863411\n",
      "State_D9 0.9504414874471157"
     ]
    },
    {
     "name": "stdout",
     "output_type": "stream",
     "text": [
      "\n",
      "State_D10 0.9287282348976588\n",
      "State_D11 0.9262127684234348\n",
      "State_D12 "
     ]
    },
    {
     "name": "stdout",
     "output_type": "stream",
     "text": [
      "0.9467816535175623\n",
      "State_D13 0.946511965875356\n",
      "State_D14 0.9600025953179041\n",
      "State_D15 0.9007088229027832"
     ]
    },
    {
     "name": "stdout",
     "output_type": "stream",
     "text": [
      "\n",
      "State_D16 0.9007088229027835\n",
      "State_D17 0.9177346433385295\n",
      "State_D18 "
     ]
    },
    {
     "name": "stdout",
     "output_type": "stream",
     "text": [
      "0.9559975415863411\n",
      "State_D19 0.9287282348976588\n",
      "State_D20 0.9504414874471157\n",
      "\n",
      "γ =  251.33\n",
      "State_D1 "
     ]
    },
    {
     "name": "stdout",
     "output_type": "stream",
     "text": [
      "0.9077212662162113\n",
      "State_D2 0.8924111616809884\n",
      "State_D3 0.8866195319568444\n",
      "State_D4 0.8740506333491016"
     ]
    },
    {
     "name": "stdout",
     "output_type": "stream",
     "text": [
      "\n",
      "State_D5 0.8236618706306835\n",
      "State_D6 0.8236618706306835\n",
      "State_D7 0.8745665530288695\n",
      "State_D8 0.9154560548076506\n",
      "State_D9 "
     ]
    },
    {
     "name": "stdout",
     "output_type": "stream",
     "text": [
      "0.8698680033818003\n",
      "State_D10 0.841194962472546\n",
      "State_D11 0.8866195319568444\n",
      "State_D12 0.8740506333491016\n",
      "State_D13 "
     ]
    },
    {
     "name": "stdout",
     "output_type": "stream",
     "text": [
      "0.9077212662162113\n",
      "State_D14 0.8924111616809884\n",
      "State_D15 0.813681178852236\n",
      "State_D16 0.8136811788522366\n",
      "State_D17 "
     ]
    },
    {
     "name": "stdout",
     "output_type": "stream",
     "text": [
      "0.8745665530272169\n",
      "State_D18 0.9154560548076506\n",
      "State_D19 0.841194962472546\n",
      "State_D20 0.8698680033818003\n",
      "\n",
      "POP_LME_5_NO_CUT_random_trn4_tst20_2024-Jan-31_at_11-10.h5\n"
     ]
    }
   ],
   "source": [
    "γ = [ \"0.079477\",  \"0.25133\", \"0.79477\", \"2.5133\", \"7.9477\", \"25.133\", \"79.477\", \"251.33\"]\n",
    "\n",
    "date_and_time_string =  string(Dates.format(now(), \"yyyy-u-dd_at_HH-MM\"))\n",
    "\n",
    "#tests_data_file_name = \"POP_LME_5_random_trn4_tst20_\"*date_and_time_string * \".h5\"\n",
    "tests_data_file_name = \"POP_LME_5_NO_CUT_random_trn4_tst20_\"*date_and_time_string * \".h5\"\n",
    "\n",
    "for γᵢ in γ\n",
    "\n",
    "    println(\"γ =  \"*γᵢ)\n",
    "\n",
    "    poly = g_objective_5(γᵢ)\n",
    "    \n",
    "    sol = local_rand_min(poly)\n",
    "\n",
    "    Hˢⁱᵈ = subs(Hˢʸᵐᵇ, sol)\n",
    "\n",
    "    omega = subs(w, sol)\n",
    "\n",
    "    relaxation = subs(r^2, sol)\n",
    "    de_phasing = subs(ϕ^2, sol)\n",
    "    #exitation = subs(e^2, sol) \n",
    "    de_polarisation = subs(p^2, sol)\n",
    "    omega = subs(w, sol)\n",
    "\n",
    "    J₁ˢⁱᵈ = subs(J₁ˢʸᵐᵇ, sol)\n",
    "    J₂ˢⁱᵈ = subs(J₂ˢʸᵐᵇ, sol)\n",
    "    #J₃ˢⁱᵈ = subs(J₃ˢʸᵐᵇ, sol) \n",
    "\n",
    "    J₄ˢⁱᵈ = subs(J₄ˢʸᵐᵇ, sol)\n",
    "    J₅ˢⁱᵈ = subs(J₅ˢʸᵐᵇ, sol)\n",
    "    J₆ˢⁱᵈ = subs(J₆ˢʸᵐᵇ, sol)\n",
    "\n",
    "\n",
    "    h5open(tests_dir*tests_data_file_name,\"cw\") do fid\n",
    "        γ_group = create_group(fid, \"gamma_\"*γᵢ) # create coupling group   \n",
    "\n",
    "        γ_group[\"omega\"] = convert(Float64, omega)\n",
    "        γ_group[\"gamma_relaxation\"] = convert(Float64, relaxation)\n",
    "        γ_group[\"gamma_de_phasing\"] = convert(Float64,  de_phasing)\n",
    "        #γ_group[\"gamma_exitation\"] = convert(Float64,  exitation)\n",
    "        γ_group[\"gamma_de_polarisation\"] = convert(Float64, de_polarisation)\n",
    "        \n",
    "        γ_group[\"H\"] = convert.(ComplexF64, Hˢⁱᵈ)\n",
    "        #γ_group[\"J1\"] = convert.(ComplexF64, J₁ˢⁱᵈ)\n",
    "        #γ_group[\"J2\"] = convert.(ComplexF64, J₂ˢⁱᵈ)\n",
    "        #γ_group[\"J3\"] = convert.(ComplexF64, J₃ˢⁱᵈ)\n",
    "        #γ_group[\"J4\"] = convert.(ComplexF64, J₄ˢⁱᵈ)\n",
    "        #γ_group[\"J5\"] = convert.(ComplexF64, J₅ˢⁱᵈ)\n",
    "        #γ_group[\"J6\"] = convert.(ComplexF64, J₆ˢⁱᵈ)\n",
    "        \n",
    "    end\n",
    "\n",
    "    for df in test_files # loop over initial states\n",
    "        \n",
    "        print(df*\" \")\n",
    "\n",
    "        start_time = time()\n",
    "\n",
    "        #ρₛ, tₛ = LiPoSID.get_rho_series(data_dir*df*\"_2CUT_data.h5\", γᵢ)\n",
    "        ρₛ, tₛ = LiPoSID.get_rho_series(data_dir*df*\"_CUT_data.h5\", γᵢ)\n",
    "\n",
    "        ρₛ = convert(Vector{Matrix{ComplexF64}}, ρₛ)\n",
    "\n",
    "        ρᵗˢᵗ = [DenseOperator(basis,Hermitian(ρₜ)) for ρₜ in ρₛ]\n",
    "        tᵗˢᵗ = convert(Vector{Float64}, tₛ)\n",
    "\n",
    "        tˢⁱᵈ, ρˢⁱᵈ  = timeevolution.master(tᵗˢᵗ, ρᵗˢᵗ[1], DenseOperator(basis,Hˢⁱᵈ), \n",
    "                    [ DenseOperator(basis,J₁ˢⁱᵈ), DenseOperator(basis,J₂ˢⁱᵈ),\n",
    "                     DenseOperator(basis,J₄ˢⁱᵈ), DenseOperator(basis,J₅ˢⁱᵈ), DenseOperator(basis,J₆ˢⁱᵈ)])\n",
    "\n",
    "        Fᴸᴹᴱₑₓ = [abs(fidelity(ρ₁, ρ₂)) for (ρ₁, ρ₂) in zip(ρᵗˢᵗ, ρˢⁱᵈ)]                    \n",
    "\n",
    "        h5open(tests_dir*tests_data_file_name,\"cw\") do fid\n",
    "            γ_group = open_group(fid, \"gamma_\"*γᵢ) # open coupling group\n",
    "\n",
    "            init_state_group = create_group(γ_group, df) # create initial state group\n",
    "            init_state_group[\"Fidelity\"] = convert.(Float64, Fᴸᴹᴱₑₓ)\n",
    "            \n",
    "        end\n",
    "                    \n",
    "        println(minimum(Fᴸᴹᴱₑₓ))\n",
    "    \n",
    "    end\n",
    "\n",
    "    println()\n",
    "end\n",
    "\n",
    "println(tests_data_file_name)"
   ]
  },
  {
   "cell_type": "code",
   "execution_count": 12,
   "metadata": {},
   "outputs": [],
   "source": []
  }
 ],
 "metadata": {
  "kernelspec": {
   "display_name": "Julia 1.10.0",
   "language": "julia",
   "name": "julia-1.10"
  },
  "language_info": {
   "file_extension": ".jl",
   "mimetype": "application/julia",
   "name": "julia",
   "version": "1.10.0"
  }
 },
 "nbformat": 4,
 "nbformat_minor": 2
}
