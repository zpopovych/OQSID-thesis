{
 "cells": [
  {
   "cell_type": "code",
   "execution_count": 1,
   "metadata": {},
   "outputs": [],
   "source": [
    "using JuMP\n",
    "using NLopt\n",
    "using LinearAlgebra\n",
    "\n",
    "using HDF5"
   ]
  },
  {
   "cell_type": "code",
   "execution_count": 2,
   "metadata": {},
   "outputs": [
    {
     "data": {
      "text/plain": [
       "read_timeevolution (generic function with 1 method)"
      ]
     },
     "execution_count": 2,
     "metadata": {},
     "output_type": "execute_result"
    }
   ],
   "source": [
    "function read_timeevolution(file_name, state, γ)\n",
    "    h5open(file_name, \"r\") do file\n",
    "        ρᵧ = read(file[state][string(γ)])\n",
    "        t = ρᵧ[\"t\"]\n",
    "        ρ₀₀ = ρᵧ[\"p0\"]; Re_ρ₀₁ = ρᵧ[\"s_re\"];  Im_ρ₀₁ = ρᵧ[\"s_im\"]\n",
    "        ρ_series = []\n",
    "        t_series = []\n",
    "\n",
    "        for i in 1:length(t)\n",
    "            ρᵢ= [ ρ₀₀[i]                      Re_ρ₀₁[i] + im * Im_ρ₀₁[i]\n",
    "                  Re_ρ₀₁[i] - im * Im_ρ₀₁[i]  1 - ρ₀₀[i]                 ]\n",
    "            push!(ρ_series, convert(Matrix{ComplexF64}, ρᵢ))\n",
    "            push!(t_series, convert(Float64, t[i]))\n",
    "        end\n",
    "        return(t_series, ρ_series)\n",
    "    end\n",
    "end"
   ]
  },
  {
   "cell_type": "code",
   "execution_count": 3,
   "metadata": {},
   "outputs": [
    {
     "data": {
      "text/plain": [
       "det2x2 (generic function with 1 method)"
      ]
     },
     "execution_count": 3,
     "metadata": {},
     "output_type": "execute_result"
    }
   ],
   "source": [
    "function det2x2(m)\n",
    "    real(m[1,1]*m[2,2] - m[1,2]*m[2,1])\n",
    "end"
   ]
  },
  {
   "cell_type": "markdown",
   "metadata": {},
   "source": [
    "Fidelity for qubit can be written:\n",
    "\n",
    "$F(\\rho, \\sigma) = \\operatorname{tr}(\\rho \\sigma) + 2\\sqrt{\\det(\\rho) \\det(\\sigma)}$"
   ]
  },
  {
   "cell_type": "code",
   "execution_count": 4,
   "metadata": {},
   "outputs": [
    {
     "data": {
      "text/plain": [
       "fidelity (generic function with 1 method)"
      ]
     },
     "execution_count": 4,
     "metadata": {},
     "output_type": "execute_result"
    }
   ],
   "source": [
    "function infidelity_norm(ρ, σ)\n",
    "    abs(1 - real(tr(ρ * σ)) - 2*sqrt(abs(det(ρ)*det(σ))))#^2\n",
    "end\n",
    "\n",
    "function fidelity(ρ, σ)\n",
    "    real(tr(ρ * σ)) + 2*sqrt(abs(det(ρ)*det(σ)))#^2\n",
    "end"
   ]
  },
  {
   "cell_type": "code",
   "execution_count": 5,
   "metadata": {},
   "outputs": [
    {
     "data": {
      "text/plain": [
       "Dc (generic function with 1 method)"
      ]
     },
     "execution_count": 5,
     "metadata": {},
     "output_type": "execute_result"
    }
   ],
   "source": [
    "# Define the Pauli matrices\n",
    "σˣ = [0 1; 1 0]\n",
    "σʸ = [0 im; -im 0]\n",
    "σᶻ = [1 0; 0 -1]\n",
    "\n",
    "# Define the basis elements\n",
    "fᴷ₁ = σˣ / 2\n",
    "fᴷ₂ = σʸ / 2\n",
    "fᴷ₃ = σᶻ / 2\n",
    "\n",
    "# Check orthogonality and normalization\n",
    "@assert tr(fᴷ₁ * fᴷ₂) ≈ 0\n",
    "@assert tr(fᴷ₁ * fᴷ₃) ≈ 0\n",
    "@assert tr(fᴷ₂ * fᴷ₃) ≈ 0\n",
    "@assert tr(fᴷ₁ * fᴷ₁) ≈ 1 / 2\n",
    "@assert tr(fᴷ₂ * fᴷ₂) ≈ 1 / 2\n",
    "@assert tr(fᴷ₃ * fᴷ₃) ≈ 1 / 2\n",
    "\n",
    "fᴼᴺᴮ = [fᴷ₁, fᴷ₂, fᴷ₃]\n",
    "\n",
    "# Function to calculate Dc\n",
    "function Dc(ρ, t, H, C)\n",
    "    U = (H * ρ - ρ * H) / im\n",
    "    D = sum(C .* [2 * fᵢ * ρ * fⱼ' - ρ * fⱼ' * fᵢ - fⱼ' * fᵢ * ρ for fᵢ in fᴼᴺᴮ, fⱼ in fᴼᴺᴮ]) / 2\n",
    "    return U + D\n",
    "end"
   ]
  },
  {
   "cell_type": "markdown",
   "metadata": {},
   "source": [
    "### Kossakowski objective for two-level system\n",
    "\n",
    "A linear operator $L: M(2) \\rightarrow M(2)$ is the generator of a dynamical semigroup $t \\rightarrow \\Lambda_t$ of $M(2)$ iff it can be written in the form:\n",
    "\n",
    "$L = -i[H,\\rho] + \\frac{1}{2} \\sum_{i,j}^3 C_{ij} \\{[f_i, \\rho f_j] + [f_i\\rho, f_j]\\}, \\quad \\rho \\in M(2)$\n",
    "\n",
    "where\n",
    "\n",
    "(i) $H = \\sum_1^3 h_i f_i, \\quad h_i \\in \\R$\n",
    "\n",
    "(ii) $f_i f_j = \\frac{1}{4}\\delta_{ij}I  +\\frac{i}{2} \\sum_{k=1}^3 \\epsilon_{ijk} f_k$ which means:\n",
    "\n",
    "$ \\operatorname{tr}(f_i f_j)=\\frac{1}{2}\\delta_{ij}, \\quad \\operatorname{tr}(f_i) = 0$\n",
    "\n",
    "\n",
    "(iii) $\\{C_{ij}\\}= \\begin{pmatrix} \n",
    "\\gamma - 2\\gamma_1    & - i a_3            &  i a_2 \\\\\n",
    "i a_3                 & \\gamma - 2\\gamma_2 & -i a_1 \\\\\n",
    "-i a_2                & i a_1              & \\gamma - 2\\gamma_3 \n",
    "\\end{pmatrix} =$\n",
    "\n",
    "$=\\begin{pmatrix} \n",
    "-\\gamma_1 + \\gamma_2 + \\gamma_3   & - i a_3   &  i a_2 \\\\\n",
    "i a_3                 & \\gamma_1 - \\gamma_2 + \\gamma_3 & -i a_1 \\\\\n",
    "-i a_2                & i a_1      & \\gamma_1 + \\gamma_2 - \\gamma_3 \n",
    "\\end{pmatrix}$"
   ]
  },
  {
   "cell_type": "code",
   "execution_count": 6,
   "metadata": {},
   "outputs": [
    {
     "data": {
      "text/plain": [
       "construct_C (generic function with 1 method)"
      ]
     },
     "execution_count": 6,
     "metadata": {},
     "output_type": "execute_result"
    }
   ],
   "source": [
    "# Define functions to construct H and C from parameters\n",
    "function construct_H(ϵ, h_Re, h_Im)\n",
    "    return [\n",
    "             ϵ                     h_Re + im * h_Im\n",
    "             h_Re - im * h_Im     -ϵ\n",
    "           ] / 2\n",
    "end\n",
    "\n",
    "function construct_C(γ, a)\n",
    "    return [\n",
    "        -γ[1] + γ[2] + γ[3]  -im * a[3]            im * a[2]\n",
    "        im * a[3]            γ[1] - γ[2] + γ[3]   -im * a[1]\n",
    "        -im * a[2]           im * a[1]             γ[1] + γ[2] - γ[3]\n",
    "    ]\n",
    "end"
   ]
  },
  {
   "cell_type": "code",
   "execution_count": 7,
   "metadata": {},
   "outputs": [
    {
     "data": {
      "text/plain": [
       "objectiveGEXY (generic function with 1 method)"
      ]
     },
     "execution_count": 7,
     "metadata": {},
     "output_type": "execute_result"
    }
   ],
   "source": [
    "# Objective function\n",
    "\n",
    "function kossak_obj(ϵ, h_Re, h_Im, γ, a, ρ, t)\n",
    "    H = construct_H(ϵ, h_Re, h_Im)\n",
    "    C = construct_C(γ, a)\n",
    "    obj = 0.0\n",
    "    for i in 3:length(ρ)\n",
    "        ρ1 = ρ[i]\n",
    "        ρ2 = ρ[i - 2] + (t[i] - t[i - 1]) * (Dc(ρ[i], t[i], H, C) + 4 * Dc(ρ[i - 1], t[i - 1], H, C) + Dc(ρ[i - 2], t[i - 2], H, C)) / 3\n",
    "        obj += infidelity_norm(ρ1,ρ2)\n",
    "        #obj += fidelity(ρ1,ρ2)\n",
    "    end\n",
    "    return obj\n",
    "end\n",
    "\n",
    "# Define the objective function wrapper\n",
    "function objectiveGEXY(ϵ, h_Re, h_Im, γ1, γ2, γ3, a1, a2, a3)\n",
    "    γ = [γ1, γ2, γ3]\n",
    "    a = [a1, a2, a3]\n",
    "    objGEXY = kossak_obj(ϵ, h_Re, h_Im, γ, a, ρᵍ, tᵍ) + \n",
    "              kossak_obj(ϵ, h_Re, h_Im, γ, a, ρᵉ, tᵉ) + \n",
    "              kossak_obj(ϵ, h_Re, h_Im, γ, a, ρˣ, tˣ) + \n",
    "              kossak_obj(ϵ, h_Re, h_Im, γ, a, ρʸ, tʸ)\n",
    "    return objGEXY\n",
    "end"
   ]
  },
  {
   "cell_type": "code",
   "execution_count": 8,
   "metadata": {},
   "outputs": [
    {
     "data": {
      "text/plain": [
       "solve_model (generic function with 1 method)"
      ]
     },
     "execution_count": 8,
     "metadata": {},
     "output_type": "execute_result"
    }
   ],
   "source": [
    "# Define a function to create and solve the model with given initial guesses and a general upper bound\n",
    "function solve_model(initial_guess, upper_bound)\n",
    "    model = Model(optimizer_with_attributes(NLopt.Optimizer, \"algorithm\" => :LD_SLSQP))\n",
    "\n",
    "    # Register the element-wise power operator\n",
    "    register(model, :.^, 2, (x, y) -> x.^y, autodiff=true)\n",
    "\n",
    "    # Register the custom objective function\n",
    "    register(model, :objectiveGEXY, 9, objectiveGEXY, autodiff = true)\n",
    "\n",
    "    # Define lower and upper bounds\n",
    "    lower_bound = -upper_bound\n",
    "\n",
    "    # Define variables with general upper and lower bounds and initial guesses\n",
    "    @variable(model, 0 <= ϵ <= upper_bound, start = initial_guess[1])\n",
    "    @variable(model, lower_bound <= h_Re <= upper_bound, start = initial_guess[2])\n",
    "    @variable(model, lower_bound <= h_Im <= upper_bound, start = initial_guess[3])\n",
    "    @variable(model, lower_bound <= γ[i=1:3] <= upper_bound)\n",
    "    set_start_value.(γ, initial_guess[4:6])\n",
    "    @variable(model, lower_bound <= a[i=1:3] <= upper_bound)\n",
    "    set_start_value.(a, initial_guess[7:9])\n",
    "\n",
    "    # Define κ terms using anonymous construction with bounds\n",
    "    @variable(model, lower_bound <= κ[1:3] <= upper_bound)\n",
    "\n",
    "    @constraint(model, κ[1] == -γ[1] + γ[2] + γ[3])\n",
    "    @constraint(model, κ[2] == γ[1] - γ[2] + γ[3])\n",
    "    @constraint(model, κ[3] == γ[1] + γ[2] - γ[3])\n",
    "\n",
    "    # Define the real part of Cˢʸᵐᵇ matrix using fewer constraints\n",
    "    @variable(model, C_Re[1:3, 1:3], lower_bound = lower_bound, upper_bound = upper_bound)\n",
    "    @constraint(model, [i=1:3], C_Re[i, i] == κ[i])\n",
    "    @constraint(model, [i=1:3, j=1:3; i != j], C_Re[i, j] == 0)\n",
    "\n",
    "    # Define the imaginary part of Cˢʸᵐᵇ matrix using fewer constraints\n",
    "    @variable(model, C_Im[1:3, 1:3], lower_bound = lower_bound, upper_bound = upper_bound)\n",
    "    @constraint(model, C_Im[1, 1] == 0)\n",
    "    @constraint(model, C_Im[2, 2] == 0)\n",
    "    @constraint(model, C_Im[3, 3] == 0)\n",
    "    @constraint(model, C_Im[1, 2] == -a[3])\n",
    "    @constraint(model, C_Im[1, 3] == a[2])\n",
    "    @constraint(model, C_Im[2, 1] == a[3])\n",
    "    @constraint(model, C_Im[2, 3] == -a[1])\n",
    "    @constraint(model, C_Im[3, 1] == -a[2])\n",
    "    @constraint(model, C_Im[3, 2] == a[1])\n",
    "\n",
    "    # Define the κ-related constraints\n",
    "    @constraint(model, sum(κ) >= 0)\n",
    "    @constraint(model, [i=1:3], κ[i] >= 0)\n",
    "\n",
    "    # Nonlinear constraints\n",
    "    @NLconstraint(model, κ[1] * κ[2] + κ[3] * κ[1] + κ[2] * κ[3] - (a[1]^2 + a[2]^2 + a[3]^2) >= 0)\n",
    "    @NLconstraint(model, κ[1] * κ[2] * κ[3] - (κ[1] * a[1]^2 + κ[2] * a[2]^2 + κ[3] * a[3]^2) >= 0)\n",
    "\n",
    "    # Objective function\n",
    "    @NLobjective(model, Min, objectiveGEXY(ϵ, h_Re, h_Im, γ[1], γ[2], γ[3], a[1], a[2], a[3]))\n",
    "\n",
    "    # Solve the model\n",
    "    JuMP.optimize!(model)\n",
    "\n",
    "    # Retrieve and print results\n",
    "    objective_value = JuMP.objective_value(model)\n",
    "    ϵ_value = value(ϵ)\n",
    "    h_Re_value = value.(h_Re)\n",
    "    h_Im_value = value.(h_Im)\n",
    "    γ_value = value.(γ)\n",
    "    a_value = value.(a)\n",
    "    C_Re_value = value.(C_Re)\n",
    "    C_Im_value = value.(C_Im)\n",
    "\n",
    "    #println(\"Initial Guess: \", initial_guess)\n",
    "    println(\"Objective Value: \", objective_value)\n",
    "    println(\"ϵ: \", ϵ_value)\n",
    "    #println(\"γ: \", γ_value)\n",
    "    #println(\"a: \", a_value)\n",
    "    #println(\"C_Re: \", C_Re_value)\n",
    "    #println(\"C_Im: \", C_Im_value)\n",
    "\n",
    "    return objective_value, ϵ_value, h_Re_value, h_Im_value, γ_value, a_value\n",
    "end"
   ]
  },
  {
   "cell_type": "code",
   "execution_count": 9,
   "metadata": {},
   "outputs": [],
   "source": [
    "# Define the density matrix evolution and time points\n",
    "\n",
    "file_name = \"../DATA/ALL_GAMMAS_B4_D10.h5\"\n",
    "\n",
    "#γ = [ \"0.079477\",  \"0.25133\", \"0.79477\", \"2.5133\", \"7.9477\", \"25.133\", \"79.477\", \"251.33\"]\n",
    "\n",
    "γᵢ = \"0.25133\"\n",
    "γᶠ = parse(ComplexF64, γᵢ)\n",
    "\n",
    "tᵍ, ρᵍ = read_timeevolution(file_name, \"B1\", γᵢ)\n",
    "tᵉ, ρᵉ = read_timeevolution(file_name, \"B2\", γᵢ)\n",
    "tˣ, ρˣ = read_timeevolution(file_name, \"B3\", γᵢ)\n",
    "tʸ, ρʸ = read_timeevolution(file_name, \"B4\", γᵢ);"
   ]
  },
  {
   "cell_type": "code",
   "execution_count": 10,
   "metadata": {},
   "outputs": [
    {
     "name": "stdout",
     "output_type": "stream",
     "text": [
      "Objective Value: 0.0021865472838501856\n",
      "ϵ: 25.142887457244328\n"
     ]
    },
    {
     "data": {
      "text/plain": [
       "(0.0021865472838501856, 25.142887457244328, 0.0002887366572396451, -0.00014725022059899017, [0.11180110426950224, 0.14791208654099877, 0.2596558711767307], [-2.8987961872230898e-6, 2.4452709895436044e-6, -0.2571905999243906])"
      ]
     },
     "execution_count": 10,
     "metadata": {},
     "output_type": "execute_result"
    }
   ],
   "source": [
    "# Define a general upper bound for all variables\n",
    "upper_bound = 260\n",
    "\n",
    "#Smart guesses for pure relaxation\n",
    "smart_guess = zeros(9)\n",
    "#smart_guess[1] = 25.133 # ϵ \n",
    "#smart_guess[2] = 0.0\n",
    "#smart_guess[3] = 0.0\n",
    "smart_guess[4] = γᶠ/2  # γ1\n",
    "smart_guess[5] = γᶠ/2  # γ2\n",
    "smart_guess[6] = γᶠ    # γ3\n",
    "\n",
    "object_val, ϵ_value, h_Re_value, h_Im_value, γ_value, a_value = solve_model(smart_guess, upper_bound)"
   ]
  },
  {
   "cell_type": "code",
   "execution_count": 11,
   "metadata": {},
   "outputs": [
    {
     "data": {
      "text/plain": [
       "3×3 Matrix{ComplexF64}:\n",
       " 0.295767+0.0im             -0.0+0.257191im          0.0+2.44527e-6im\n",
       "     -0.0-0.257191im    0.223545+0.0im              -0.0+2.8988e-6im\n",
       "      0.0-2.44527e-6im      -0.0-2.8988e-6im  5.73196e-5+0.0im"
      ]
     },
     "execution_count": 11,
     "metadata": {},
     "output_type": "execute_result"
    }
   ],
   "source": [
    "# Substitute the optimized parameters back into H and C\n",
    "optimized_H = construct_H(ϵ_value, h_Re_value, h_Im_value)\n",
    "optimized_C = construct_C(γ_value, a_value)"
   ]
  },
  {
   "cell_type": "code",
   "execution_count": 12,
   "metadata": {},
   "outputs": [
    {
     "data": {
      "text/plain": [
       "2×2 Matrix{ComplexF64}:\n",
       "     12.5714+0.0im         0.000144368-7.36251e-5im\n",
       " 0.000144368+7.36251e-5im     -12.5714+0.0im"
      ]
     },
     "execution_count": 12,
     "metadata": {},
     "output_type": "execute_result"
    }
   ],
   "source": [
    "optimized_H"
   ]
  },
  {
   "cell_type": "code",
   "execution_count": 13,
   "metadata": {},
   "outputs": [
    {
     "data": {
      "text/plain": [
       "get_lindblad_operators (generic function with 1 method)"
      ]
     },
     "execution_count": 13,
     "metadata": {},
     "output_type": "execute_result"
    }
   ],
   "source": [
    "function get_lindblad_operators(C::Matrix{ComplexF64}, basis_ops::Vector{Matrix{ComplexF64}})\n",
    "    # Check that C is a square matrix and basis_ops has the same dimension\n",
    "    n = size(C, 1)\n",
    "    if size(C, 2) != n || length(basis_ops) != n\n",
    "        throw(ArgumentError(\"Dimensions of C and basis_ops do not match\"))\n",
    "    end\n",
    "\n",
    "    # Perform eigenvalue decomposition of C\n",
    "    eigvals, eigvecs = eigen(C)\n",
    "\n",
    "    # Construct the Lindblad operators\n",
    "    lindblad_ops = []\n",
    "    for i in 1:n\n",
    "        if eigvals[i] > 1e-10  # Filter out negligible eigenvalues to ensure numerical stability\n",
    "            lindblad_op = zeros(ComplexF64, size(basis_ops[1]))\n",
    "            for j in 1:n\n",
    "                lindblad_op .+= sqrt(eigvals[i]) * eigvecs[j, i] * basis_ops[j]\n",
    "            end\n",
    "            push!(lindblad_ops, lindblad_op)\n",
    "        end\n",
    "    end\n",
    "\n",
    "    return lindblad_ops\n",
    "end"
   ]
  },
  {
   "cell_type": "code",
   "execution_count": 14,
   "metadata": {},
   "outputs": [
    {
     "data": {
      "text/plain": [
       "2-element Vector{Any}:\n",
       " ComplexF64[0.003786545310616228 + 0.0im -7.0900199186497525e-6 - 5.233027469420939e-6im; 0.00010177018500384813 + 7.463414704546579e-5im -0.003786545310616228 + 0.0im]\n",
       " ComplexF64[1.8387876212633794e-6 + 0.0im -0.3648445919085248 + 0.3539940660642903im; -0.02548809579250963 + 0.024730076511351257im -1.8387876212633794e-6 + 0.0im]"
      ]
     },
     "execution_count": 14,
     "metadata": {},
     "output_type": "execute_result"
    }
   ],
   "source": [
    "Hˢⁱᵈ = convert.(ComplexF64,optimized_H)\n",
    "Cˢⁱᵈ = convert.(ComplexF64,optimized_C)\n",
    "\n",
    "effective_Lindblad = get_lindblad_operators(Cˢⁱᵈ, fᴼᴺᴮ)"
   ]
  },
  {
   "cell_type": "code",
   "execution_count": 15,
   "metadata": {},
   "outputs": [],
   "source": [
    "ρᵍ₀ = [ 1 0.\n",
    "        0 0 ]    # state to measure initial distance from\n",
    "\n",
    "dodeca_10_states = [\"D\"*string(n) for n=1:10];\n",
    "\n",
    "basis_states = [\"B\"*string(n) for n=1:4];\n",
    "\n",
    "train_states = basis_states \n",
    "test_states = dodeca_10_states;"
   ]
  },
  {
   "cell_type": "code",
   "execution_count": 16,
   "metadata": {},
   "outputs": [
    {
     "name": "stderr",
     "output_type": "stream",
     "text": [
      "\u001b[33m\u001b[1m┌ \u001b[22m\u001b[39m\u001b[33m\u001b[1mWarning: \u001b[22m\u001b[39mPackage LinearSolve does not have KrylovKit in its dependencies:\n",
      "\u001b[33m\u001b[1m│ \u001b[22m\u001b[39m- If you have LinearSolve checked out for development and have\n",
      "\u001b[33m\u001b[1m│ \u001b[22m\u001b[39m  added KrylovKit as a dependency but haven't updated your primary\n",
      "\u001b[33m\u001b[1m│ \u001b[22m\u001b[39m  environment's manifest file, try `Pkg.resolve()`.\n",
      "\u001b[33m\u001b[1m│ \u001b[22m\u001b[39m- Otherwise you may need to report an issue with LinearSolve\n",
      "\u001b[33m\u001b[1m└ \u001b[22m\u001b[39mLoading KrylovKit into LinearSolve from project dependency, future warnings for LinearSolve are suppressed.\n"
     ]
    }
   ],
   "source": [
    "using QuantumOptics\n",
    "basis = NLevelBasis(2)\n",
    "\n",
    "include(\"../LiPoSID.jl\")\n",
    "\n",
    "using Statistics"
   ]
  },
  {
   "cell_type": "code",
   "execution_count": 16,
   "metadata": {},
   "outputs": [
    {
     "data": {
      "text/plain": [
       "test_D10 (generic function with 1 method)"
      ]
     },
     "execution_count": 16,
     "metadata": {},
     "output_type": "execute_result"
    }
   ],
   "source": [
    "function test_D10(Hˢⁱᵈ, effective_Lindblad)\n",
    "    FminStates = []\n",
    "    FmedianStates = []\n",
    "    FmeanStates = []\n",
    "\n",
    "    for state in test_states # loop over initial states\n",
    "        \n",
    "        print(state*\" \")\n",
    "\n",
    "        start_time = time()\n",
    "\n",
    "        tₛ, ρₛ = read_timeevolution(file_name, state, γᵢ)\n",
    "        ρₛ = convert(Vector{Matrix{ComplexF64}}, ρₛ)\n",
    "        #bᵗˢᵗ = LiPoSID.bloch(ρₛ)\n",
    "        ρᵗˢᵗ = [DenseOperator(basis,Hermitian(ρₜ)) for ρₜ in ρₛ]\n",
    "        tᵗˢᵗ = convert.(Float64, tₛ)\n",
    "\n",
    "        #Simulated LME \n",
    "        #tˢⁱᵐ, ρˢⁱᵐ  = timeevolution.master(tᵗˢᵗ, ρᵗˢᵗ[1], DenseOperator(basis, Hˢⁱᵈ), [Jˢⁱᵐ])\n",
    "        #bˢⁱᵐ = LiPoSID.bloch([ρᵢ.data for ρᵢ in ρˢⁱᵐ])\n",
    "\n",
    "        ρₒ = DenseOperator(basis,ρₛ[1])\n",
    "        dt = tᵗˢᵗ[2] - tᵗˢᵗ[1]\n",
    "        tᵉⁿᵈ = tᵗˢᵗ[end]\n",
    "\n",
    "        #print(\"effective_Lindblad_ops for Kossakowski\")\n",
    "\n",
    "        \n",
    "        effective_Lindblad_ops = [DenseOperator(basis,j) for j in effective_Lindblad]\n",
    "\n",
    "        #print(\"Simulating Kossakowski\")\n",
    "\n",
    "        tout, ρ_t_kossak = timeevolution.master(tᵗˢᵗ, ρₒ, DenseOperator(basis, Hˢⁱᵈ), effective_Lindblad_ops)\n",
    "        ρˢⁱᵈ  = [ρₜ.data for ρₜ in ρ_t_kossak]\n",
    "\n",
    "        #print(\"Calculating Fidelity\")\n",
    "\n",
    "        #F = LiPoSID.fidelity_series(basis, [ρₜ.data for ρₜ in ρˢⁱᵐ], ρˢⁱᵈ)\n",
    "        F = LiPoSID.fidelity_series(basis, ρₛ, ρˢⁱᵈ)\n",
    "        \n",
    "        FminState = minimum(F)\n",
    "        FmedianState = median(F)\n",
    "        FmeanState = mean(F)\n",
    "        \n",
    "        push!(FminStates, FminState)\n",
    "        push!(FmedianStates, FmedianState)\n",
    "        push!(FmeanStates, FmeanState)\n",
    "\n",
    "    end\n",
    "\n",
    "    # Calculate the mean\n",
    "    F_mean_value = mean(FmeanStates)\n",
    "\n",
    "    # Calculate the median\n",
    "    F_median_value = median(FmedianStates)\n",
    "\n",
    "    # Calculate the min\n",
    "    F_min_value = minimum(FminStates)\n",
    "\n",
    "    println()\n",
    "    println(\"Mimimal fidelity for \"*γᵢ*\": \", F_min_value)\n",
    "    println(\"Median fidelity for \"*γᵢ*\": \", F_median_value)\n",
    "\n",
    "    return(F_min_value, F_median_value)\n",
    "    \n",
    "end"
   ]
  },
  {
   "cell_type": "code",
   "execution_count": 17,
   "metadata": {},
   "outputs": [
    {
     "name": "stdout",
     "output_type": "stream",
     "text": [
      "D1 "
     ]
    },
    {
     "ename": "LoadError",
     "evalue": "UndefVarError: DenseOperator not defined",
     "output_type": "error",
     "traceback": [
      "UndefVarError: DenseOperator not defined",
      "",
      "Stacktrace:",
      " [1] (::var\"#33#36\")(ρₜ::Matrix{ComplexF64})",
      "   @ Main ./none:0",
      " [2] iterate",
      "   @ ./generator.jl:47 [inlined]",
      " [3] collect(itr::Base.Generator{Vector{Matrix{ComplexF64}}, var\"#33#36\"})",
      "   @ Base ./array.jl:724",
      " [4] test_D10(Hˢⁱᵈ::Matrix{ComplexF64}, effective_Lindblad::Vector{Any})",
      "   @ Main ./In[16]:15",
      " [5] top-level scope",
      "   @ In[17]:1"
     ]
    }
   ],
   "source": [
    "test_D10(Hˢⁱᵈ, effective_Lindblad)"
   ]
  },
  {
   "cell_type": "code",
   "execution_count": 35,
   "metadata": {},
   "outputs": [
    {
     "data": {
      "text/plain": [
       "0.25133"
      ]
     },
     "execution_count": 35,
     "metadata": {},
     "output_type": "execute_result"
    }
   ],
   "source": [
    "γᶠ = real(γᶠ)"
   ]
  },
  {
   "cell_type": "code",
   "execution_count": 38,
   "metadata": {},
   "outputs": [
    {
     "name": "stdout",
     "output_type": "stream",
     "text": [
      "D1 D2 D3 D4 D5 D6 D7 D8 D9 D10 \n",
      "Mimimal fidelity for 0.25133: 0.9993939126448471\n",
      "Median fidelity for 0.25133: 0.9999685606614921\n"
     ]
    },
    {
     "data": {
      "text/plain": [
       "(0.9993939126448471, 0.9999685606614921)"
      ]
     },
     "execution_count": 38,
     "metadata": {},
     "output_type": "execute_result"
    }
   ],
   "source": [
    "H_anz = [ 25.133   0+0im\n",
    "           0.      25.133 ]/2\n",
    "\n",
    "C_anz = [    γᶠ       im*γᶠ    0.0\n",
    "            -im*γᶠ      γᶠ      0.0\n",
    "            0.0        0.0      0.0  ]\n",
    "\n",
    "ansatz_Lindblad = get_lindblad_operators(C_anz, fᴼᴺᴮ)\n",
    "\n",
    "test_D10(Hˢⁱᵈ, ansatz_Lindblad)"
   ]
  },
  {
   "cell_type": "markdown",
   "metadata": {},
   "source": [
    "D1 D2 D3 D4 D5 D6 D7 D8 D9 D10 \n",
    "\n",
    "Mimimal fidelity for 0.25133: 0.9995188642141652\n",
    "\n",
    "Median fidelity for 0.25133: 0.9999049135214064"
   ]
  }
 ],
 "metadata": {
  "kernelspec": {
   "display_name": "Julia 70 Threads 1.7.3",
   "language": "julia",
   "name": "julia-70-threads-1.7"
  },
  "language_info": {
   "file_extension": ".jl",
   "mimetype": "application/julia",
   "name": "julia",
   "version": "1.7.3"
  }
 },
 "nbformat": 4,
 "nbformat_minor": 2
}
