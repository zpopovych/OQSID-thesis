{
 "cells": [
  {
   "cell_type": "code",
   "execution_count": 1,
   "metadata": {},
   "outputs": [],
   "source": [
    "include(\"../LiPoSID.jl\")\n",
    "using QuantumOptics\n",
    "basis = NLevelBasis(2)\n",
    "using LinearAlgebra\n",
    "using Plots\n",
    "using StatsPlots\n",
    "using Dates\n",
    "using HDF5"
   ]
  },
  {
   "cell_type": "code",
   "execution_count": 12,
   "metadata": {},
   "outputs": [
    {
     "data": {
      "text/plain": [
       "propagate_rho_O1XY (generic function with 1 method)"
      ]
     },
     "metadata": {},
     "output_type": "display_data"
    }
   ],
   "source": [
    "function propagate(A, x0, steps)\n",
    "    \n",
    "    x = []\n",
    "    push!(x, x0)\n",
    "\n",
    "    @assert size(x0,1) == size(A,1) == size(A,2)\n",
    "\n",
    "    for i=2:steps\n",
    "        push!(x, A * x[end])\n",
    "    end\n",
    "\n",
    "    return x\n",
    "end \n",
    "\n",
    "function bloch(ρ_list)\n",
    "    # Pauli matricies\n",
    "    σ = [ [0 1; 1 0], [0 -im; im 0], [1 0; 0 -1], [1 0; 0 1] ]\n",
    "\n",
    "    bloch_vec = [\n",
    "        convert.(Float64, [ ρ[1,2]+ρ[2,1],\n",
    "                           (ρ[1,2]-ρ[2,1])*im,\n",
    "                            ρ[1,1]-ρ[2,2]       ])\n",
    "                for ρ in ρ_list]\n",
    "    hcat(bloch_vec...)\n",
    "end\n",
    "\n",
    "function propagate_rho_O1XY(ρ₀, ρᵉᵍˣʸ, steps)\n",
    "\n",
    "    #hcat(vec[ρᵢ] for ρᵢ in ρᵉᵍˣʸ)\n",
    "\n",
    "    kᵉᵍˣʸ = hcat([vec(ρᵢ[1]) for ρᵢ in ρᵉᵍˣʸ]...)\\vec(ρ₀)\n",
    "\n",
    "    kᵉ, kᵍ, kˣ, kʸ = kᵉᵍˣʸ              \n",
    "    ρᵉ, ρᵍ, ρˣ, ρʸ = ρᵉᵍˣʸ\n",
    "\n",
    "    steps = min(length(ρᵉ), length(ρᵍ), length(ρˣ), length(ρʸ))\n",
    "\n",
    "    ρ = kᵉ * ρᵉ[1:steps] + kᵍ * ρᵍ[1:steps] + kˣ * ρˣ[1:steps] + kʸ * ρʸ[1:steps]\n",
    "\n",
    "    return ρ\n",
    "end "
   ]
  },
  {
   "cell_type": "code",
   "execution_count": 17,
   "metadata": {},
   "outputs": [
    {
     "data": {
      "text/plain": [
       "LMEvs4DBlochDMD_basis (generic function with 1 method)"
      ]
     },
     "metadata": {},
     "output_type": "display_data"
    }
   ],
   "source": [
    "function LMEvs4DBlochDMD_basis(γᵢ)\n",
    "\n",
    "    data_dir = \"../DATA/\"\n",
    "\n",
    "    γᵢ = string(γᵢ)\n",
    "\n",
    "    if γᵢ == \"0.0\" \n",
    "        ρᵉ, tᵉ = LiPoSID.get_rho_series(data_dir*\"State_B2_2CUT_data.h5\", \"0.079477\")\n",
    "        ρᵍ, tᵍ = LiPoSID.get_rho_series(data_dir*\"State_B1_2CUT_data.h5\", \"0.079477\")\n",
    "        ρˣ, tˣ = LiPoSID.get_rho_series(data_dir*\"State_B3_2CUT_data.h5\", \"0.079477\")\n",
    "        ρʸ, tʸ = LiPoSID.get_rho_series(data_dir*\"State_B4_2CUT_data.h5\", \"0.079477\")\n",
    "    else \n",
    "        ρᵉ, tᵉ = LiPoSID.get_rho_series(data_dir*\"State_B2_2CUT_data.h5\", γᵢ)\n",
    "        ρᵍ, tᵍ = LiPoSID.get_rho_series(data_dir*\"State_B1_2CUT_data.h5\", γᵢ)\n",
    "        ρˣ, tˣ = LiPoSID.get_rho_series(data_dir*\"State_B3_2CUT_data.h5\", γᵢ)\n",
    "        ρʸ, tʸ = LiPoSID.get_rho_series(data_dir*\"State_B4_2CUT_data.h5\", γᵢ)\n",
    "    end\n",
    "\n",
    "    lᵉ = length(ρᵉ); lᵍ = length(ρᵍ); lˣ = length(ρˣ); lʸ = length(ρʸ)\n",
    "    lᵐᵃˣ = min(lᵉ, lᵍ,  lˣ, lʸ)  #choose time limit by shortest series\n",
    "\n",
    "    bᵉ = bloch(ρᵉ[1:lᵐᵃˣ])\n",
    "    bᵍ = bloch(ρᵍ[1:lᵐᵃˣ])\n",
    "    bˣ = bloch(ρˣ[1:lᵐᵃˣ])\n",
    "    bʸ = bloch(ρʸ[1:lᵐᵃˣ])\n",
    "\n",
    "    ω = 25.126\n",
    "\n",
    "    Hᴸᴹᴱ = [ ω        0\n",
    "             0        0   ]\n",
    "    \n",
    "    γ = parse(Float64, γᵢ)\n",
    "\n",
    "    Aᴸᴹᴱ = [ 0    √γ\n",
    "             0     0. + 0im  ]\n",
    "\n",
    "    tᵉᶠ = convert.(Float64, tᵉ); tᵍᶠ = convert.(Float64, tᵍ); \n",
    "    tˣᶠ = convert.(Float64, tˣ); tʸᶠ = convert.(Float64, tʸ); \n",
    "\n",
    "    t_list = [tᵉᶠ, tᵍᶠ, tˣᶠ, tʸᶠ]\n",
    "\n",
    "    t = t_list[argmin(length(tⁱ) for tⁱ in t_list)]\n",
    "\n",
    "    ρᵉᴸᴹᴱ = LiPoSID.Lindblad_time_evolution(basis, ρᵉ[1], tᵉᶠ, Hᴸᴹᴱ, [Aᴸᴹᴱ])\n",
    "    ρᵍᴸᴹᴱ = LiPoSID.Lindblad_time_evolution(basis, ρᵍ[1], tᵍᶠ, Hᴸᴹᴱ, [Aᴸᴹᴱ])\n",
    "    ρˣᴸᴹᴱ = LiPoSID.Lindblad_time_evolution(basis, ρˣ[1], tˣᶠ, Hᴸᴹᴱ, [Aᴸᴹᴱ])\n",
    "    ρʸᴸᴹᴱ = LiPoSID.Lindblad_time_evolution(basis, ρʸ[1], tʸᶠ, Hᴸᴹᴱ, [Aᴸᴹᴱ])\n",
    "\n",
    "    ρᴸᴹᴱ = [ρᵉᴸᴹᴱ, ρᵍᴸᴹᴱ, ρˣᴸᴹᴱ, ρʸᴸᴹᴱ]\n",
    "\n",
    "    bᵉᴸᴹᴱ = LiPoSID.bloch(ρᵉᴸᴹᴱ[1:lᵐᵃˣ])\n",
    "    bᵍᴸᴹᴱ = LiPoSID.bloch(ρᵍᴸᴹᴱ[1:lᵐᵃˣ])\n",
    "    bˣᴸᴹᴱ = LiPoSID.bloch(ρˣᴸᴹᴱ[1:lᵐᵃˣ])\n",
    "    bʸᴸᴹᴱ = LiPoSID.bloch(ρʸᴸᴹᴱ[1:lᵐᵃˣ])\n",
    "\n",
    "    Yᵉ = [bᵉᴸᴹᴱ; ones(lᵐᵃˣ)']\n",
    "    Yᵍ = [bᵍᴸᴹᴱ; ones(lᵐᵃˣ)']\n",
    "    Yˣ = [bˣᴸᴹᴱ; ones(lᵐᵃˣ)']\n",
    "    Yʸ = [bʸᴸᴹᴱ; ones(lᵐᵃˣ)']\n",
    "\n",
    "    Yᵉ⁻ = Yᵉ[:,1:end-1]; Yᵉ⁺ = Yᵉ[:,2:end]\n",
    "    Yᵍ⁻ = Yᵍ[:,1:end-1]; Yᵍ⁺ = Yᵍ[:,2:end]\n",
    "    Yˣ⁻ = Yˣ[:,1:end-1]; Yˣ⁺ = Yˣ[:,2:end]\n",
    "    Yʸ⁻ = Yᵉ[:,1:end-1]; Yʸ⁺ = Yᵉ[:,2:end]\n",
    "\n",
    "    Y⁻ = hcat(Yᵉ⁻, Yᵍ⁻, Yˣ⁻, Yʸ⁻)\n",
    "    Y⁺ = hcat(Yᵉ⁺, Yᵍ⁺, Yˣ⁺, Yʸ⁺)\n",
    "\n",
    "    A⁴ᴰ = Y⁺ * pinv(Y⁻) # Direct DMD estimation\n",
    "    \n",
    "    bᵉ⁴ᴰ = hcat(propagate(A⁴ᴰ, [bᵉ[:,1]...,1], lᵐᵃˣ)...)[1:3,:] \n",
    "    bᵍ⁴ᴰ = hcat(propagate(A⁴ᴰ, [bᵍ[:,1]...,1], lᵐᵃˣ)...)[1:3,:]\n",
    "    bˣ⁴ᴰ = hcat(propagate(A⁴ᴰ, [bˣ[:,1]...,1], lᵐᵃˣ)...)[1:3,:]\n",
    "    bʸ⁴ᴰ = hcat(propagate(A⁴ᴰ, [bʸ[:,1]...,1], lᵐᵃˣ)...)[1:3,:]\n",
    "\n",
    "    ρᵉ⁴ᴰ = LiPoSID.rho_series_from_bloch(bᵉ⁴ᴰ) \n",
    "    ρᵍ⁴ᴰ = LiPoSID.rho_series_from_bloch(bᵍ⁴ᴰ)\n",
    "    ρˣ⁴ᴰ = LiPoSID.rho_series_from_bloch(bˣ⁴ᴰ)\n",
    "    ρʸ⁴ᴰ = LiPoSID.rho_series_from_bloch(bʸ⁴ᴰ)\n",
    "\n",
    "    ρᴮ⁴ᴰᴹᴰ = [ρᵉ⁴ᴰ, ρᵍ⁴ᴰ, ρˣ⁴ᴰ, ρʸ⁴ᴰ]\n",
    "\n",
    "    #Ac⁴ᴰ = [  - γ/2   -ω       0   0   # This is better 0.9999999993089329\n",
    "    #            ω     -γ/2     0   0\n",
    "    #            0.     0      -γ   γ\n",
    "    #            0      0       0   0]\n",
    "\n",
    "    Ac⁴ᴰ⁻ᴬᴺᴬᴸᴵᵀ = [  0     -ω     0   0      # This is also good 0.9999890166421603 ⁻\n",
    "                     ω     -γ     0   0\n",
    "                     0.     0    -γ   γ\n",
    "                     0      0     0   0 ]\n",
    "\n",
    "    Δt = t[2] - t[1]\n",
    "\n",
    "    A⁴ᴰᴬ = exp(Ac⁴ᴰ⁻ᴬᴺᴬᴸᴵᵀ  * Δt) \n",
    "      \n",
    "    bᵉ⁴ᴰᴬ = hcat(propagate(A⁴ᴰᴬ, [bᵉ[:,1]...,1], length(t))...)[1:3,:] \n",
    "    bᵍ⁴ᴰᴬ = hcat(propagate(A⁴ᴰᴬ, [bᵍ[:,1]...,1], length(t))...)[1:3,:]\n",
    "    bˣ⁴ᴰᴬ = hcat(propagate(A⁴ᴰᴬ, [bˣ[:,1]...,1], length(t))...)[1:3,:]\n",
    "    bʸ⁴ᴰᴬ = hcat(propagate(A⁴ᴰᴬ, [bʸ[:,1]...,1], length(t))...)[1:3,:]\n",
    "\n",
    "    ρᵉ⁴ᴰᴬ = LiPoSID.rho_series_from_bloch(bᵉ⁴ᴰᴬ) \n",
    "    ρᵍ⁴ᴰᴬ = LiPoSID.rho_series_from_bloch(bᵍ⁴ᴰᴬ)\n",
    "    ρˣ⁴ᴰᴬ = LiPoSID.rho_series_from_bloch(bˣ⁴ᴰᴬ)\n",
    "    ρʸ⁴ᴰᴬ = LiPoSID.rho_series_from_bloch(bʸ⁴ᴰᴬ)\n",
    "\n",
    "    ρᴮ⁴ᴬ = [ρᵉ⁴ᴰ, ρᵍ⁴ᴰ, ρˣ⁴ᴰ, ρʸ⁴ᴰ]\n",
    "    \n",
    "    return ρᴸᴹᴱ, ρᴮ⁴ᴰᴹᴰ, ρᴮ⁴ᴬ, t[1:lᵐᵃˣ]\n",
    "\n",
    "end"
   ]
  },
  {
   "cell_type": "code",
   "execution_count": 18,
   "metadata": {},
   "outputs": [
    {
     "name": "stdout",
     "output_type": "stream",
     "text": [
      "../DATA/\n"
     ]
    }
   ],
   "source": [
    "parentdir = \"..\"\n",
    "data_dir = parentdir*\"/DATA/\"\n",
    "println(data_dir)\n",
    "\n",
    "models_dir = parentdir*\"/MODELS/\"\n",
    "tests_dir = parentdir*\"/TESTS/\"\n",
    "\n",
    "dodeca_files = [\"State_D\"*string(n) for n=1:20];\n",
    "basis_files = [\"State_B\"*string(n) for n=1:4];\n",
    "\n",
    "all_files = vcat(dodeca_files, basis_files)\n",
    "test_files = dodeca_files;"
   ]
  },
  {
   "cell_type": "code",
   "execution_count": 19,
   "metadata": {},
   "outputs": [
    {
     "name": "stdout",
     "output_type": "stream",
     "text": [
      "γᵢ = 0.0\n",
      "State_D1 State_D2 State_D3 "
     ]
    },
    {
     "name": "stdout",
     "output_type": "stream",
     "text": [
      "State_D4 State_D5 State_D6 State_D7 "
     ]
    },
    {
     "name": "stdout",
     "output_type": "stream",
     "text": [
      "State_D8 State_D9 State_D10 State_D11 "
     ]
    },
    {
     "name": "stdout",
     "output_type": "stream",
     "text": [
      "State_D12 State_D13 State_D14 State_D15 "
     ]
    },
    {
     "name": "stdout",
     "output_type": "stream",
     "text": [
      "State_D16 State_D17 State_D18 State_D19 State_D20 γᵢ = "
     ]
    },
    {
     "name": "stdout",
     "output_type": "stream",
     "text": [
      "0.079477\n",
      "State_D1 State_D2 State_D3 State_D4 State_D5 State_D6 "
     ]
    },
    {
     "name": "stdout",
     "output_type": "stream",
     "text": [
      "State_D7 State_D8 State_D9 State_D10 "
     ]
    },
    {
     "name": "stdout",
     "output_type": "stream",
     "text": [
      "State_D11 State_D12 State_D13 State_D14 State_D15 State_D16 "
     ]
    },
    {
     "name": "stdout",
     "output_type": "stream",
     "text": [
      "State_D17 State_D18 State_D19 State_D20 "
     ]
    },
    {
     "name": "stdout",
     "output_type": "stream",
     "text": [
      "γᵢ = 0.25133\n",
      "State_D1 State_D2 State_D3 State_D4 State_D5 "
     ]
    },
    {
     "name": "stdout",
     "output_type": "stream",
     "text": [
      "State_D6 State_D7 State_D8 State_D9 "
     ]
    },
    {
     "name": "stdout",
     "output_type": "stream",
     "text": [
      "State_D10 State_D11 State_D12 State_D13 "
     ]
    },
    {
     "name": "stdout",
     "output_type": "stream",
     "text": [
      "State_D14 State_D15 State_D16 State_D17 "
     ]
    },
    {
     "name": "stdout",
     "output_type": "stream",
     "text": [
      "State_D18 State_D19 State_D20 γᵢ = "
     ]
    },
    {
     "name": "stdout",
     "output_type": "stream",
     "text": [
      "0.79477\n",
      "State_D1 State_D2 State_D3 State_D4 "
     ]
    },
    {
     "name": "stdout",
     "output_type": "stream",
     "text": [
      "State_D5 State_D6 State_D7 State_D8 State_D9 State_D10 "
     ]
    },
    {
     "name": "stdout",
     "output_type": "stream",
     "text": [
      "State_D11 State_D12 State_D13 State_D14 "
     ]
    },
    {
     "name": "stdout",
     "output_type": "stream",
     "text": [
      "State_D15 State_D16 State_D17 State_D18 State_D19 State_D20 "
     ]
    },
    {
     "name": "stdout",
     "output_type": "stream",
     "text": [
      "γᵢ = 2.5133\n",
      "State_D1 "
     ]
    },
    {
     "name": "stdout",
     "output_type": "stream",
     "text": [
      "State_D2 State_D3 State_D4 State_D5 State_D6 State_D7 "
     ]
    },
    {
     "name": "stdout",
     "output_type": "stream",
     "text": [
      "State_D8 State_D9 State_D10 State_D11 State_D12 State_D13 "
     ]
    },
    {
     "name": "stdout",
     "output_type": "stream",
     "text": [
      "State_D14 State_D15 State_D16 State_D17 State_D18 State_D19 "
     ]
    },
    {
     "name": "stdout",
     "output_type": "stream",
     "text": [
      "State_D20 γᵢ = 7.9477\n",
      "State_D1 State_D2 "
     ]
    },
    {
     "name": "stdout",
     "output_type": "stream",
     "text": [
      "State_D3 State_D4 State_D5 State_D6 State_D7 State_D8 "
     ]
    },
    {
     "name": "stdout",
     "output_type": "stream",
     "text": [
      "State_D9 State_D10 State_D11 State_D12 State_D13 State_D14 "
     ]
    },
    {
     "name": "stdout",
     "output_type": "stream",
     "text": [
      "State_D15 State_D16 State_D17 State_D18 State_D19 State_D20 "
     ]
    },
    {
     "name": "stdout",
     "output_type": "stream",
     "text": [
      "γᵢ = 25.133\n",
      "State_D1 State_D2 State_D3 State_D4 State_D5 State_D6 State_D7 State_D8 State_D9 State_D10 State_D11 "
     ]
    },
    {
     "name": "stdout",
     "output_type": "stream",
     "text": [
      "State_D12 State_D13 State_D14 State_D15 State_D16 State_D17 State_D18 State_D19 State_D20 γᵢ = "
     ]
    },
    {
     "name": "stdout",
     "output_type": "stream",
     "text": [
      "79.477\n",
      "State_D1 State_D2 State_D3 State_D4 State_D5 State_D6 State_D7 State_D8 "
     ]
    },
    {
     "name": "stdout",
     "output_type": "stream",
     "text": [
      "State_D9 State_D10 State_D11 State_D12 State_D13 State_D14 State_D15 State_D16 "
     ]
    },
    {
     "name": "stdout",
     "output_type": "stream",
     "text": [
      "State_D17 State_D18 State_D19 State_D20 "
     ]
    },
    {
     "name": "stdout",
     "output_type": "stream",
     "text": [
      "γᵢ = 251.33\n",
      "State_D1 State_D2 State_D3 State_D4 State_D5 State_D6 State_D7 State_D8 State_D9 State_D10 State_D11 State_D12 State_D13 State_D14 State_D15 "
     ]
    },
    {
     "name": "stdout",
     "output_type": "stream",
     "text": [
      "State_D16 State_D17 State_D18 State_D19 State_D20 "
     ]
    }
   ],
   "source": [
    "date_and_time_string =  string(Dates.format(now(), \"yyyy-u-dd_at_HH-MM\"))\n",
    "\n",
    "tests_data_file_name = \"DMD-Bloch4D_LME_trn4_tst20_\"*date_and_time_string * \".h5\"\n",
    "\n",
    "#γ = [ \"0.079477\",  \"0.25133\", \"0.79477\", \"2.5133\", \"7.9477\", \"25.133\",  \"79.477\", \"251.33\"]\n",
    "\n",
    "γ = [\"0.0\", \"0.079477\",  \"0.25133\", \"0.79477\", \"2.5133\", \"7.9477\", \"25.133\",  \"79.477\", \"251.33\"]\n",
    "\n",
    "for γᵢ in  γ\n",
    "\n",
    "    h5open(tests_dir*tests_data_file_name,\"cw\") do fid\n",
    "        γ_group = create_group(fid, \"gamma_\"*γᵢ) # create coupling group\n",
    "    end \n",
    "\n",
    "    ρᴸᴹᴱ, ρᴮ⁴ᴰᴹᴰ, ρᴮ⁴ᴬ, t = LMEvs4DBlochDMD_basis(γᵢ)\n",
    "\n",
    "    println(\"γᵢ = \", γᵢ)\n",
    "\n",
    "    ρᵉᴸᴹᴱ, ρᵍᴸᴹᴱ, ρˣᴸᴹᴱ, ρʸᴸᴹᴱ = ρᴸᴹᴱ\n",
    "    ρᵉᴮ⁴ᴰᴹᴰ, ρᵍᴮ⁴ᴰᴹᴰ, ρˣᴮ⁴ᴰᴹᴰ, ρʸᴮ⁴ᴰᴹᴰ = ρᴮ⁴ᴰᴹᴰ\n",
    "    ρᵉᴮ⁴ᴬ, ρᵍᴮ⁴ᴬ, ρˣᴮ⁴ᴬ, ρʸᴮ⁴ᴬ = ρᴮ⁴ᴬ\n",
    "\n",
    "    Hᴸᴹᴱ = [ 25.126        0\n",
    "             0             0    ]\n",
    "\n",
    "    γᶠ = parse(Float64, γᵢ)\n",
    "\n",
    "    Aᴸᴹᴱ = [ 0    √(γᶠ)\n",
    "             0     0. + 0im  ]\n",
    "\n",
    "    for df_tst in test_files # loop over initial states\n",
    "        \n",
    "        print(df_tst*\" \")\n",
    "\n",
    "        if parse(Float64, γᵢ) < 0.079 # γᵢ == \"0.0\" \n",
    "            ρᵗˢᵗ, tᵗˢᵗ = LiPoSID.get_rho_series(data_dir*df_tst*\"_2CUT_data.h5\", \"0.079477\")\n",
    "\n",
    "        else \n",
    "            ρᵗˢᵗ, tᵗˢᵗ = LiPoSID.get_rho_series(data_dir*df_tst*\"_2CUT_data.h5\", γᵢ)\n",
    "        end\n",
    "\n",
    "        if length(tᵗˢᵗ) > 1200 end_tst = 1200 else end_tst = length(tᵗˢᵗ) end\n",
    "\n",
    "        tᵗˢᵗᶠ = convert.(Float64, tᵗˢᵗ)\n",
    "\n",
    "        ρᵗˢᵗᴸᴹᴱ = LiPoSID.Lindblad_time_evolution(basis, ρᵗˢᵗ[1], tᵗˢᵗᶠ, Hᴸᴹᴱ, [Aᴸᴹᴱ])\n",
    "        ρᵗˢᵗᴸᴹᴱ = convert(Vector{Matrix{ComplexF64}}, ρᵗˢᵗᴸᴹᴱ[1:end_tst])\n",
    "\n",
    "        steps = min(end_tst, length(t))\n",
    "\n",
    "        ρᵗˢᵗᴮ⁴ᴰᴹᴰ =  propagate_rho_O1XY(ρᵗˢᵗ[1], ρᴮ⁴ᴰᴹᴰ, steps)\n",
    "        ρᵗˢᵗᴮ⁴ᴬ =  propagate_rho_O1XY(ρᵗˢᵗ[1], ρᴮ⁴ᴬ, steps)\n",
    "\n",
    "        Fᴮ⁴ᴰᴹᴰ = LiPoSID.fidelity_series(basis, ρᵗˢᵗᴮ⁴ᴰᴹᴰ[1:steps], ρᵗˢᵗᴸᴹᴱ[1:steps])\n",
    "        Fᴮ⁴ᴬ = LiPoSID.fidelity_series(basis, ρᵗˢᵗᴮ⁴ᴬ[1:steps], ρᵗˢᵗᴸᴹᴱ[1:steps])\n",
    "\n",
    "        h5open(tests_dir*tests_data_file_name,\"cw\") do fid\n",
    "            γ_group = open_group(fid, \"gamma_\"*γᵢ) # create coupling group\n",
    "            state_group = create_group(γ_group, df_tst) # create coupling group\n",
    "            state_group[\"F_b4dmd_lme\"] = convert.(Float64, Fᴮ⁴ᴰᴹᴰ)\n",
    "            state_group[\"F_b4a_lme\"] = convert.(Float64, Fᴮ⁴ᴬ)\n",
    "            state_group[\"time\"] = convert.(Float64, tᵗˢᵗ[1:steps]) \n",
    "            \n",
    "        end\n",
    "    end\n",
    "end"
   ]
  }
 ],
 "metadata": {
  "kernelspec": {
   "display_name": "Julia 1.9.2",
   "language": "julia",
   "name": "julia-1.9"
  },
  "language_info": {
   "file_extension": ".jl",
   "mimetype": "application/julia",
   "name": "julia",
   "version": "1.9.2"
  },
  "orig_nbformat": 4
 },
 "nbformat": 4,
 "nbformat_minor": 2
}
