{
 "cells": [
  {
   "cell_type": "code",
   "execution_count": 2,
   "metadata": {},
   "outputs": [
    {
     "data": {
      "text/plain": [
       "DMD_SVD (generic function with 1 method)"
      ]
     },
     "metadata": {},
     "output_type": "display_data"
    }
   ],
   "source": [
    "using LinearAlgebra\n",
    "\n",
    "function DMD_SVD(Y, r, Δt)\n",
    "    \n",
    "    X₋ = Y[:,1:end-1]\n",
    "    X₊ = Y[:,2:end]\n",
    "    U, Σ, V = svd(X₋)\n",
    "    \n",
    "    Uʳ = U[:, 1:r] #12 x 4\n",
    "    Σʳ = diagm(Σ[1:r])\n",
    "    Vʳ = V[:, 1:r]\n",
    "    Ã = Uʳ' * X₊ * Vʳ / Σʳ\n",
    "    Λ, W = eigen(Ã)\n",
    "    Φ = X₊ * Vʳ / Σʳ * W\n",
    "    Ω = log.(Λ)/Δt\n",
    "    x₁ = X₋[:,1]\n",
    "    b₁ = Φ \\ x₁\n",
    "    \n",
    "    return Φ, Ω, b₁, Λ\n",
    "\n",
    "end  "
   ]
  },
  {
   "cell_type": "code",
   "execution_count": 3,
   "metadata": {},
   "outputs": [
    {
     "data": {
      "text/plain": [
       "(ComplexF64[0.9999886975134747 + 0.0im 1.000005651022832 - 1.2386892318171243e-5im 1.000005651022832 + 1.2386892318171243e-5im; 1.1302103302995858e-5 + 0.0im -5.651026205949483e-6 + 9.788419945944438e-6im -5.651026205949483e-6 - 9.788419945944438e-6im; -1.1301975561650579e-5 + 0.0im 5.6509623309608514e-6 - 9.788530575345874e-6im 5.6509623309608514e-6 + 9.788530575345874e-6im], ComplexF64[-0.00011302422657463921 + 0.0im, 5.651211330760731e-5 - 9.788128687957398e-5im, 5.651211330760731e-5 + 9.788128687957398e-5im], ComplexF64[2.609451112412929e9 - 0.01404205934495216im, -1.3047314270521936e9 + 2.2597328911704416e9im, -1.3047314270765126e9 - 2.2597328911563997e9im], ComplexF64[0.9999886976412147 + 0.0im, 1.0000056511793949 - 9.78818400274115e-6im, 1.0000056511793949 + 9.78818400274115e-6im])"
      ]
     },
     "metadata": {},
     "output_type": "display_data"
    }
   ],
   "source": [
    "Y = [1 0 0 1\n",
    "     0 -1 -2 -3\n",
    "     1 2 3 4]\n",
    "\n",
    "DMD_SVD(Y, 3, 0.1)"
   ]
  },
  {
   "cell_type": "code",
   "execution_count": 6,
   "metadata": {},
   "outputs": [
    {
     "data": {
      "text/plain": [
       "ERA (generic function with 1 method)"
      ]
     },
     "metadata": {},
     "output_type": "display_data"
    }
   ],
   "source": [
    "function hankel(y)\n",
    "    m, time_duration = size(y) # m - dimention of output vector y\n",
    "    q = Int(round(time_duration/2)) # q - is the size of Hankel matrix \n",
    "    H = zeros(eltype(y), q * m , q) \n",
    "    for r = 1:q, c = 1:q # r - rows, c -columns\n",
    "        H[(r-1)*m+1:r*m, c] = y[:, r+c-1]\n",
    "    end\n",
    "    return H, m\n",
    "end\n",
    "\n",
    "function ERA(Y, r) \n",
    "    H, m = hankel(Y) # Hankel matrix H, and dimention of output m\n",
    "    U, Σ, V⁺ = svd(H) # Singular value decomposition of H to U,  Σ,  V†\n",
    "    s = Diagonal(sqrt.(Σ)) # Matrix square root \n",
    "    U = U * s\n",
    "    V⁺ = s * V⁺\n",
    "    C = U[1:m, 1:r] # m - dimention of output, r - rank of the system\n",
    "    U₊ = U[1:end-m, :] # U↑\n",
    "    U₋ = U[m+1:end, :] # U↓\n",
    "    A = pinv(U₊) * U₋\n",
    "    A = A[1:r, 1:r] # r - estimated rank of the system\n",
    "    x₀ = pinv(U) * H[:,1]\n",
    "    x₀ = x₀[1:r, 1]   \n",
    "    return A, C, x₀, Σ\n",
    "end"
   ]
  },
  {
   "cell_type": "code",
   "execution_count": 7,
   "metadata": {},
   "outputs": [
    {
     "data": {
      "text/plain": [
       "([1.600022253425399 0.11683844876067329; -0.5138216319281339 0.06664441324126717], [-0.23015834734473256 -0.8429679656134962; 0.38926018914888244 -0.4984226983354496; -1.0086787256424976 0.1538774310574034], [-1.1254887259245459, -0.8789887695753913], [4.890062597811334, 1.0427309286132604])"
      ]
     },
     "metadata": {},
     "output_type": "display_data"
    }
   ],
   "source": [
    "ERA(Y, 2)"
   ]
  },
  {
   "cell_type": "code",
   "execution_count": 13,
   "metadata": {},
   "outputs": [
    {
     "ename": "ErrorException",
     "evalue": "syntax: invalid character \"†\" near column 8",
     "output_type": "error",
     "traceback": [
      "syntax: invalid character \"†\" near column 8\n",
      "\n",
      "Stacktrace:\n",
      " [1] top-level scope\n",
      "   @ Untitled-1.ipynb:1"
     ]
    }
   ],
   "source": [
    "U, Σ, V† = svd(Y)"
   ]
  },
  {
   "cell_type": "code",
   "execution_count": 11,
   "metadata": {},
   "outputs": [
    {
     "data": {
      "text/plain": [
       "4×3 adjoint(::Matrix{Float64}) with eltype Float64:\n",
       " 0.143737  -0.886816   0.378018\n",
       " 0.329841   0.159203   0.644872\n",
       " 0.536403   0.395019   0.325932\n",
       " 0.763424  -0.179367  -0.578802"
      ]
     },
     "metadata": {},
     "output_type": "display_data"
    }
   ],
   "source": [
    "V⁺"
   ]
  },
  {
   "cell_type": "code",
   "execution_count": 12,
   "metadata": {},
   "outputs": [
    {
     "ename": "ErrorException",
     "evalue": "syntax: invalid character \"†\" near column 2",
     "output_type": "error",
     "traceback": [
      "syntax: invalid character \"†\" near column 2\n",
      "\n",
      "Stacktrace:\n",
      " [1] top-level scope\n",
      "   @ Untitled-1.ipynb:1"
     ]
    }
   ],
   "source": [
    "V†"
   ]
  },
  {
   "cell_type": "code",
   "execution_count": null,
   "metadata": {},
   "outputs": [],
   "source": []
  }
 ],
 "metadata": {
  "kernelspec": {
   "display_name": "Julia 1.9.2",
   "language": "julia",
   "name": "julia-1.9"
  },
  "language_info": {
   "file_extension": ".jl",
   "mimetype": "application/julia",
   "name": "julia",
   "version": "1.9.2"
  }
 },
 "nbformat": 4,
 "nbformat_minor": 2
}
