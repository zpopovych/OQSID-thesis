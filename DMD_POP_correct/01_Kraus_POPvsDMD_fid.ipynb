{
 "cells": [
  {
   "cell_type": "code",
   "execution_count": 3,
   "metadata": {},
   "outputs": [
    {
     "data": {
      "text/plain": [
       "scale_poly (generic function with 1 method)"
      ]
     },
     "metadata": {},
     "output_type": "display_data"
    }
   ],
   "source": [
    "include(\"../LiPoSID.jl\")\n",
    "using QuantumOptics\n",
    "basis = NLevelBasis(2)\n",
    "using LinearAlgebra\n",
    "using DynamicPolynomials\n",
    "using Dates\n",
    "using TSSOS\n",
    "using HDF5\n",
    "using Formatting\n",
    "\n",
    "fmt12 = generate_formatter(\"%1.12f\")\n",
    "\n",
    "function solution_from_operator_sum(E)\n",
    "\n",
    "    sol = []\n",
    "\n",
    "    for e in E\n",
    "        # push α\n",
    "        push!(sol, real(e[1,1]))\n",
    "        push!(sol, real(e[2,1]))\n",
    "        push!(sol, real(e[1,2]))\n",
    "        push!(sol, real(e[2,2]))\n",
    "    end\n",
    "\n",
    "    for e in E\n",
    "        # push β \n",
    "        push!(sol, imag(e[1,1]))\n",
    "        push!(sol, imag(e[2,1]))\n",
    "        push!(sol, imag(e[1,2]))\n",
    "        push!(sol, imag(e[2,2]))\n",
    "    end\n",
    "\n",
    "    return convert.(Float64, sol)\n",
    "\n",
    "end\n",
    "\n",
    "import Base.real\n",
    "\n",
    "function rm_micro_coefs(p::AbstractPolynomial, cutoff = 1e-7)\n",
    "    max_coef = maximum(abs.(coefficients(p)))\n",
    "    \n",
    "    sum(\n",
    "        [ abs(coef)/max_coef > cutoff ? real(coef) * mon : 0 for (coef, mon) in zip(coefficients(p), monomials(p))]\n",
    "        )\n",
    "end\n",
    "\n",
    "function scale_poly(p::Polynomial)\n",
    "    X = transpose(hcat([exponents(t) for t in terms(p)]...))\n",
    "\n",
    "    # Get the scaling via linear regression\n",
    "    scaling = X \\ log.(abs.(coefficients(p)))\n",
    "\n",
    "    scale = exp.(abs.(scaling))\n",
    "\n",
    "    # scale the polynomial\n",
    "    p_scaled = subs(p, variables(p) => scale .* variables(p))\n",
    "\n",
    "    return p_scaled\n",
    "end\n",
    "\n"
   ]
  },
  {
   "cell_type": "markdown",
   "metadata": {},
   "source": [
    "For all γ: load spin-boson data, simulate LME data, perform 4d DMD, QPT, POP and chech fidelity for 20 states  "
   ]
  },
  {
   "cell_type": "code",
   "execution_count": 5,
   "metadata": {},
   "outputs": [
    {
     "name": "stdout",
     "output_type": "stream",
     "text": [
      "../DATA/\n",
      "POP-Kraus_vs_DMD_trn4_rm_micro_obj_models_2023-Dec-14_at_16-45.h5\n"
     ]
    },
    {
     "name": "stdout",
     "output_type": "stream",
     "text": [
      "γ = 0.079477\n",
      "------ Spin-boson:"
     ]
    },
    {
     "name": "stdout",
     "output_type": "stream",
     "text": [
      "\n",
      "*********************************** TSSOS ***********************************"
     ]
    },
    {
     "name": "stdout",
     "output_type": "stream",
     "text": [
      "\n",
      "Version 1.0.0, developed by Jie Wang, 2020--2023\n",
      "TSSOS is launching...\n",
      "optimum = 0.00011596498709466529"
     ]
    },
    {
     "name": "stdout",
     "output_type": "stream",
     "text": [
      "\n",
      "\n",
      "******************************************************************************\n",
      "This program contains Ipopt, a library for large-scale nonlinear optimization.\n",
      " Ipopt is released as open source code under the Eclipse Public License (EPL).\n",
      "         For more information visit https://github.com/coin-or/Ipopt\n",
      "******************************************************************************\n",
      "\n",
      "Global optimality certified with relative optimality gap 0.001695%!\n"
     ]
    },
    {
     "name": "stdout",
     "output_type": "stream",
     "text": [
      "--- TSSOS higher output: ---\n"
     ]
    },
    {
     "name": "stdout",
     "output_type": "stream",
     "text": [
      "termination status: SLOW_PROGRESS\n",
      "solution status: FEASIBLE_POINT\n",
      "optimum = -0.0005255378731076901\n"
     ]
    },
    {
     "name": "stdout",
     "output_type": "stream",
     "text": [
      "The local solver failed refining the solution!\n",
      "--- TSSOS higher output end ---\n",
      "--- TSSOS higher output: ---\n",
      "--- TSSOS higher output end ---\n",
      "------ LME:\n",
      "*********************************** TSSOS ***********************************\n",
      "Version 1.0.0, developed by Jie Wang, 2020--2023\n",
      "TSSOS is launching...\n"
     ]
    },
    {
     "name": "stdout",
     "output_type": "stream",
     "text": [
      "optimum = -2.895608851885339e-6\n"
     ]
    },
    {
     "name": "stdout",
     "output_type": "stream",
     "text": [
      "Global optimality certified with relative optimality gap 0.000290%!\n",
      "--- TSSOS higher output: ---\n",
      "termination status: SLOW_PROGRESS"
     ]
    },
    {
     "name": "stdout",
     "output_type": "stream",
     "text": [
      "\n",
      "solution status: FEASIBLE_POINT\n",
      "optimum = -0.0005613456950847579\n",
      "Found a locally optimal solution by Ipopt, giving an upper bound: -0.00000000.\n",
      "The relative optimality gap is: 0.056135%.\n"
     ]
    },
    {
     "name": "stdout",
     "output_type": "stream",
     "text": [
      "--- TSSOS higher output end ---\n",
      "--- TSSOS higher output: ---\n",
      "--- TSSOS higher output end ---\n"
     ]
    },
    {
     "name": "stdout",
     "output_type": "stream",
     "text": [
      "\n",
      " Minimum fidelities vs spin-boson of \n",
      "         POP:      DMD:     Kraus-corrected DMD:\n",
      "State_D1 "
     ]
    },
    {
     "name": "stdout",
     "output_type": "stream",
     "text": [
      "0.478449199686 0.999987563196 0.962996804761\n",
      "State_D2 0.488547956841 0.999994527976 0.963163475048\n",
      "State_D3 "
     ]
    },
    {
     "name": "stdout",
     "output_type": "stream",
     "text": [
      "0.691776388439 0.999998299335 0.992240011079\n",
      "State_D4 0.680243137012 0.999998325512 0.992263143197\n",
      "State_D5 "
     ]
    },
    {
     "name": "stdout",
     "output_type": "stream",
     "text": [
      "0.496773171745 0.999997973970 0.971515101559\n",
      "State_D6 0.507039691892 0.999997726099 0.971515741764\n",
      "State_D7 "
     ]
    },
    {
     "name": "stdout",
     "output_type": "stream",
     "text": [
      "0.552878392811 0.999998504420 0.981929789405\n",
      "State_D8 0.566162114621 0.999998526572 0.981984467634\n",
      "State_D9 "
     ]
    },
    {
     "name": "stdout",
     "output_type": "stream",
     "text": [
      "0.525009378651 0.999954877947 0.948117826516\n",
      "State_D10 0.779847219877 0.999998098439 0.995822401393\n",
      "State_D11 "
     ]
    },
    {
     "name": "stdout",
     "output_type": "stream",
     "text": [
      "0.580957844558 0.999998286985 0.992240058363\n",
      "State_D12 0.700692046005 0.999998326272 0.992262746119\n",
      "State_D13 "
     ]
    },
    {
     "name": "stdout",
     "output_type": "stream",
     "text": [
      "0.483259449256 0.999985588484 0.962998468152\n",
      "State_D14 0.488703644007 0.999994474463 0.963162781016\n",
      "State_D15 "
     ]
    },
    {
     "name": "stdout",
     "output_type": "stream",
     "text": [
      "0.561581754279 0.999998384120 0.989097200547\n",
      "State_D16 0.634753251298 0.999998402721 0.989096804304\n",
      "State_D17 "
     ]
    },
    {
     "name": "stdout",
     "output_type": "stream",
     "text": [
      "0.561501103437 0.999998498061 0.981929732349\n",
      "State_D18 0.548970368047 0.999998522385 0.981984815970\n",
      "State_D19 "
     ]
    },
    {
     "name": "stdout",
     "output_type": "stream",
     "text": [
      "0.727212469888 0.999997964515 0.995822308387\n",
      "State_D20 0.527467572198 0.999955079724 0.948118083927\n",
      "Test for γ = 0.079477 done in "
     ]
    },
    {
     "name": "stdout",
     "output_type": "stream",
     "text": [
      "7.634543180465698\n",
      "γ = 0.25133\n",
      "------ Spin-boson:"
     ]
    },
    {
     "name": "stdout",
     "output_type": "stream",
     "text": [
      "\n",
      "*********************************** TSSOS ***********************************\n",
      "Version 1.0.0, developed by Jie Wang, 2020--2023\n",
      "TSSOS is launching...\n",
      "termination status: SLOW_PROGRESS"
     ]
    },
    {
     "name": "stdout",
     "output_type": "stream",
     "text": [
      "\n",
      "solution status: FEASIBLE_POINT\n",
      "optimum = -9.386490662501724e-5\n",
      "Found a locally optimal solution by Ipopt, giving an upper bound: 0.00023840.\n",
      "The relative optimality gap is: 0.033227%.\n"
     ]
    },
    {
     "name": "stdout",
     "output_type": "stream",
     "text": [
      "--- TSSOS higher output: ---\n"
     ]
    },
    {
     "name": "stdout",
     "output_type": "stream",
     "text": [
      "optimum = 0.0002278083039377023\n"
     ]
    },
    {
     "name": "stdout",
     "output_type": "stream",
     "text": [
      "Global optimality certified with relative optimality gap 0.001059%!\n",
      "--- TSSOS higher output end ---\n",
      "--- TSSOS higher output: ---\n",
      "--- TSSOS higher output end ---\n",
      "------ LME:\n",
      "*********************************** TSSOS ***********************************\n",
      "Version 1.0.0, developed by Jie Wang, 2020--2023\n",
      "TSSOS is launching...\n",
      "termination status: SLOW_PROGRESS"
     ]
    },
    {
     "name": "stdout",
     "output_type": "stream",
     "text": [
      "\n",
      "solution status: UNKNOWN_RESULT_STATUS\n",
      "optimum = -0.002394678572616237\n",
      "Found a locally optimal solution by Ipopt, giving an upper bound: 0.00000000.\n",
      "The relative optimality gap is: 0.239468%.\n"
     ]
    },
    {
     "name": "stdout",
     "output_type": "stream",
     "text": [
      "--- TSSOS higher output: ---\n"
     ]
    },
    {
     "name": "stdout",
     "output_type": "stream",
     "text": [
      "termination status: SLOW_PROGRESS\n",
      "solution status: UNKNOWN_RESULT_STATUS\n",
      "optimum = -0.0041340803737735105\n"
     ]
    },
    {
     "name": "stdout",
     "output_type": "stream",
     "text": [
      "Found a locally optimal solution by Ipopt, giving an upper bound: 0.00000000.\n",
      "The relative optimality gap is: 0.413408%.\n",
      "--- TSSOS higher output end ---\n",
      "--- TSSOS higher output: ---\n",
      "--- TSSOS higher output end ---\n",
      "\n",
      " Minimum fidelities vs spin-boson of \n",
      "         POP:      DMD:     Kraus-corrected DMD:\n"
     ]
    },
    {
     "name": "stdout",
     "output_type": "stream",
     "text": [
      "State_D1 0.992511651821 0.999971975116 0.945083831246\n",
      "State_D2 "
     ]
    },
    {
     "name": "stdout",
     "output_type": "stream",
     "text": [
      "0.992498396402 0.999987105594 0.945048718703\n"
     ]
    },
    {
     "name": "stdout",
     "output_type": "stream",
     "text": [
      "State_D3 0.993926571137 0.999997452511 0.949767182287\n",
      "State_D4 "
     ]
    },
    {
     "name": "stdout",
     "output_type": "stream",
     "text": [
      "0.993906885017 0.999997149462 0.949716194613\n"
     ]
    },
    {
     "name": "stdout",
     "output_type": "stream",
     "text": [
      "State_D5 0.992684163842 0.999995698005 0.945623986506\n",
      "State_D6 "
     ]
    },
    {
     "name": "stdout",
     "output_type": "stream",
     "text": [
      "0.992685198200 0.999994499122 0.945626514520\n"
     ]
    },
    {
     "name": "stdout",
     "output_type": "stream",
     "text": [
      "State_D7 0.993105525054 0.999999341213 0.946966564074\n",
      "State_D8 "
     ]
    },
    {
     "name": "stdout",
     "output_type": "stream",
     "text": [
      "0.993079733255 0.999999064353 0.946901216167\n"
     ]
    },
    {
     "name": "stdout",
     "output_type": "stream",
     "text": [
      "State_D9 0.992366714153 0.999936324641 0.944650605643\n",
      "State_D10 "
     ]
    },
    {
     "name": "stdout",
     "output_type": "stream",
     "text": [
      "0.994466297655 0.999995844637 0.951736978559\n"
     ]
    },
    {
     "name": "stdout",
     "output_type": "stream",
     "text": [
      "State_D11 0.993926692089 0.999996139681 0.949768031280\n",
      "State_D12 "
     ]
    },
    {
     "name": "stdout",
     "output_type": "stream",
     "text": [
      "0.993905439990 0.999997020244 0.949712347018\n"
     ]
    },
    {
     "name": "stdout",
     "output_type": "stream",
     "text": [
      "State_D13 0.992512701034 0.999961598891 0.945086046560\n",
      "State_D14 "
     ]
    },
    {
     "name": "stdout",
     "output_type": "stream",
     "text": [
      "0.992499811368 0.999985875755 0.945052884298\n"
     ]
    },
    {
     "name": "stdout",
     "output_type": "stream",
     "text": [
      "State_D15 0.993585914932 0.999997506366 0.948589947916\n",
      "State_D16 "
     ]
    },
    {
     "name": "stdout",
     "output_type": "stream",
     "text": [
      "0.993586014926 0.999998138242 0.948590027302\n"
     ]
    },
    {
     "name": "stdout",
     "output_type": "stream",
     "text": [
      "State_D17 0.993105874403 0.999998986953 0.946968250030\n",
      "State_D18 "
     ]
    },
    {
     "name": "stdout",
     "output_type": "stream",
     "text": [
      "0.993079806368 0.999999277481 0.946900839031\n"
     ]
    },
    {
     "name": "stdout",
     "output_type": "stream",
     "text": [
      "State_D19 0.994466216472 0.999995186996 0.951736966367\n",
      "State_D20 "
     ]
    },
    {
     "name": "stdout",
     "output_type": "stream",
     "text": [
      "0.992368513725 0.999928070321 0.944655586089\n",
      "Test for γ = 0.25133 done in 3.974740982055664\n",
      "γ = 0.79477\n"
     ]
    },
    {
     "name": "stdout",
     "output_type": "stream",
     "text": [
      "------ Spin-boson:\n",
      "*********************************** TSSOS ***********************************\n",
      "Version 1.0.0, developed by Jie Wang, 2020--2023\n",
      "TSSOS is launching...\n"
     ]
    },
    {
     "name": "stdout",
     "output_type": "stream",
     "text": [
      "termination status: SLOW_PROGRESS\n",
      "solution status: FEASIBLE_POINT\n",
      "optimum = 0.0002369503603547458\n"
     ]
    },
    {
     "name": "stdout",
     "output_type": "stream",
     "text": [
      "The local solver failed refining the solution!\n",
      "--- TSSOS higher output: ---\n"
     ]
    },
    {
     "name": "stdout",
     "output_type": "stream",
     "text": [
      "termination status: SLOW_PROGRESS\n",
      "solution status: FEASIBLE_POINT\n",
      "optimum = -0.0003395731204091199\n"
     ]
    },
    {
     "name": "stdout",
     "output_type": "stream",
     "text": [
      "Found a locally optimal solution by Ipopt, giving an upper bound: 0.00026795.\n",
      "The relative optimality gap is: 0.060752%.\n",
      "--- TSSOS higher output end ---\n",
      "--- TSSOS higher output: ---\n",
      "--- TSSOS higher output end ---\n",
      "------ LME:\n",
      "*********************************** TSSOS ***********************************\n",
      "Version 1.0.0, developed by Jie Wang, 2020--2023\n",
      "TSSOS is launching...\n",
      "termination status: SLOW_PROGRESS"
     ]
    },
    {
     "name": "stdout",
     "output_type": "stream",
     "text": [
      "\n",
      "solution status: UNKNOWN_RESULT_STATUS\n",
      "optimum = -0.0027497281558683034\n",
      "Found a locally optimal solution by Ipopt, giving an upper bound: 0.00000000.\n",
      "The relative optimality gap is: 0.274973%.\n"
     ]
    },
    {
     "name": "stdout",
     "output_type": "stream",
     "text": [
      "--- TSSOS higher output: ---\n"
     ]
    },
    {
     "name": "stdout",
     "output_type": "stream",
     "text": [
      "termination status: SLOW_PROGRESS\n",
      "solution status: UNKNOWN_RESULT_STATUS\n",
      "optimum = -0.0031521048458984457\n"
     ]
    },
    {
     "name": "stdout",
     "output_type": "stream",
     "text": [
      "Found a locally optimal solution by Ipopt, giving an upper bound: 0.00000000.\n",
      "The relative optimality gap is: 0.315210%.\n",
      "--- TSSOS higher output end ---\n",
      "--- TSSOS higher output: ---\n",
      "--- TSSOS higher output end ---\n",
      "\n",
      " Minimum fidelities vs spin-boson of \n",
      "         POP:      DMD:     Kraus-corrected DMD:\n"
     ]
    },
    {
     "name": "stdout",
     "output_type": "stream",
     "text": [
      "State_D1 0.995811953817 0.999946116692 0.953414031331\n",
      "State_D2 "
     ]
    },
    {
     "name": "stdout",
     "output_type": "stream",
     "text": [
      "0.995815405244 0.999965616713 0.953431242810\n"
     ]
    },
    {
     "name": "stdout",
     "output_type": "stream",
     "text": [
      "State_D3 0.996062256689 0.999993904780 0.954518001936\n",
      "State_D4 "
     ]
    },
    {
     "name": "stdout",
     "output_type": "stream",
     "text": [
      "0.996066387631 0.999990674500 0.954535335990\n"
     ]
    },
    {
     "name": "stdout",
     "output_type": "stream",
     "text": [
      "State_D5 0.995840566882 0.999989869924 0.953539084116\n",
      "State_D6 "
     ]
    },
    {
     "name": "stdout",
     "output_type": "stream",
     "text": [
      "0.995840369695 0.999982302261 0.953534889937\n"
     ]
    },
    {
     "name": "stdout",
     "output_type": "stream",
     "text": [
      "State_D7 0.995903176371 0.999996475854 0.953810210683\n",
      "State_D8 "
     ]
    },
    {
     "name": "stdout",
     "output_type": "stream",
     "text": [
      "0.995908259043 0.999991093399 0.953830769272\n"
     ]
    },
    {
     "name": "stdout",
     "output_type": "stream",
     "text": [
      "State_D9 0.995800327512 0.999835471808 0.953363894331\n",
      "State_D10 "
     ]
    },
    {
     "name": "stdout",
     "output_type": "stream",
     "text": [
      "0.996192551894 0.999990592630 0.955107735502\n"
     ]
    },
    {
     "name": "stdout",
     "output_type": "stream",
     "text": [
      "State_D11 0.996062151106 0.999983563469 0.954516545852\n",
      "State_D12 "
     ]
    },
    {
     "name": "stdout",
     "output_type": "stream",
     "text": [
      "0.996068429865 0.999989563789 0.954544077589\n"
     ]
    },
    {
     "name": "stdout",
     "output_type": "stream",
     "text": [
      "State_D13 0.995809866297 0.999883197363 0.953405916798\n",
      "State_D14 "
     ]
    },
    {
     "name": "stdout",
     "output_type": "stream",
     "text": [
      "0.995815600135 0.999953875765 0.953430743723\n"
     ]
    },
    {
     "name": "stdout",
     "output_type": "stream",
     "text": [
      "State_D15 0.995994925786 0.999986381485 0.954216792600\n",
      "State_D16 "
     ]
    },
    {
     "name": "stdout",
     "output_type": "stream",
     "text": [
      "0.995994806278 0.999992650706 0.954218784744\n"
     ]
    },
    {
     "name": "stdout",
     "output_type": "stream",
     "text": [
      "State_D17 0.995903776263 0.999989758346 0.953809873343\n",
      "State_D18 "
     ]
    },
    {
     "name": "stdout",
     "output_type": "stream",
     "text": [
      "0.995908119727 0.999995434998 0.953828820040\n"
     ]
    },
    {
     "name": "stdout",
     "output_type": "stream",
     "text": [
      "State_D19 0.996192087480 0.999986221501 0.955106400633\n",
      "State_D20 "
     ]
    },
    {
     "name": "stdout",
     "output_type": "stream",
     "text": [
      "0.995794596016 0.999782765164 0.953345242444\n",
      "Test for γ = 0.79477 done in 3.1887519359588623\n",
      "γ = 2.5133\n"
     ]
    },
    {
     "name": "stdout",
     "output_type": "stream",
     "text": [
      "------ Spin-boson:\n",
      "*********************************** TSSOS ***********************************\n",
      "Version 1.0.0, developed by Jie Wang, 2020--2023\n",
      "TSSOS is launching...\n"
     ]
    },
    {
     "name": "stdout",
     "output_type": "stream",
     "text": [
      "termination status: SLOW_PROGRESS\n",
      "solution status: UNKNOWN_RESULT_STATUS\n",
      "optimum = -0.004873573582194814\n"
     ]
    },
    {
     "name": "stdout",
     "output_type": "stream",
     "text": [
      "Found a locally optimal solution by Ipopt, giving an upper bound: 0.00037281.\n",
      "The relative optimality gap is: 0.524639%.\n",
      "--- TSSOS higher output: ---\n",
      "termination status: SLOW_PROGRESS"
     ]
    },
    {
     "name": "stdout",
     "output_type": "stream",
     "text": [
      "\n",
      "solution status: FEASIBLE_POINT\n",
      "optimum = -0.0003256160903591292\n",
      "Found a locally optimal solution by Ipopt, giving an upper bound: 0.00037281.\n",
      "The relative optimality gap is: 0.069842%.\n"
     ]
    },
    {
     "name": "stdout",
     "output_type": "stream",
     "text": [
      "--- TSSOS higher output end ---\n",
      "--- TSSOS higher output: ---\n",
      "--- TSSOS higher output end ---\n",
      "------ LME:\n",
      "*********************************** TSSOS ***********************************\n",
      "Version 1.0.0, developed by Jie Wang, 2020--2023\n",
      "TSSOS is launching...\n"
     ]
    },
    {
     "name": "stdout",
     "output_type": "stream",
     "text": [
      "termination status: SLOW_PROGRESS\n",
      "solution status: FEASIBLE_POINT\n",
      "optimum = -0.004143602847443672\n"
     ]
    },
    {
     "name": "stdout",
     "output_type": "stream",
     "text": [
      "Found a locally optimal solution by Ipopt, giving an upper bound: 0.00000000.\n",
      "The relative optimality gap is: 0.414360%.\n",
      "--- TSSOS higher output: ---\n",
      "termination status: SLOW_PROGRESS"
     ]
    },
    {
     "name": "stdout",
     "output_type": "stream",
     "text": [
      "\n",
      "solution status: FEASIBLE_POINT\n",
      "optimum = -0.0019409863673465256\n",
      "Found a locally optimal solution by Ipopt, giving an upper bound: -0.00000000.\n",
      "The relative optimality gap is: 0.194099%.\n"
     ]
    },
    {
     "name": "stdout",
     "output_type": "stream",
     "text": [
      "--- TSSOS higher output end ---\n",
      "--- TSSOS higher output: ---\n",
      "--- TSSOS higher output end ---\n",
      "\n",
      " Minimum fidelities vs spin-boson of \n",
      "         POP:      DMD:     Kraus-corrected DMD:\n",
      "State_D1 "
     ]
    },
    {
     "name": "stdout",
     "output_type": "stream",
     "text": [
      "0.998420422466 0.999932260486 0.966595856363\n"
     ]
    },
    {
     "name": "stdout",
     "output_type": "stream",
     "text": [
      "State_D2 0.998421690156 0.999925629833 0.966627685943\n",
      "State_D3 "
     ]
    },
    {
     "name": "stdout",
     "output_type": "stream",
     "text": [
      "0.998497210188 0.999989019299 0.967145973501\n",
      "State_D4 0.998502313450 0.999963365797 0.967174444481\n",
      "State_D5 "
     ]
    },
    {
     "name": "stdout",
     "output_type": "stream",
     "text": [
      "0.998431308273 0.999965080618 0.966677183596\n",
      "State_D6 0.998429993841 0.999920370123 0.966668565710\n",
      "State_D7 "
     ]
    },
    {
     "name": "stdout",
     "output_type": "stream",
     "text": [
      "0.998451691616 0.999983852380 0.966811617512\n"
     ]
    },
    {
     "name": "stdout",
     "output_type": "stream",
     "text": [
      "State_D8 0.998451242466 0.999921501689 0.966819999225\n",
      "State_D9 "
     ]
    },
    {
     "name": "stdout",
     "output_type": "stream",
     "text": [
      "0.998418982355 0.999698182044 0.966581280178\n",
      "State_D10 0.998542704651 0.999977053204 0.967459306225\n",
      "State_D11 "
     ]
    },
    {
     "name": "stdout",
     "output_type": "stream",
     "text": [
      "0.998490415714 0.999907393174 0.967109355388\n",
      "State_D12 0.998503909408 0.999959594348 0.967186486543\n",
      "State_D13 "
     ]
    },
    {
     "name": "stdout",
     "output_type": "stream",
     "text": [
      "0.998419425313 0.999702427245 0.966589810354\n"
     ]
    },
    {
     "name": "stdout",
     "output_type": "stream",
     "text": [
      "State_D14 0.998425152421 0.999825091220 0.966628914182\n",
      "State_D15 0.998473263525 0.999899542365 0.966985457824\n"
     ]
    },
    {
     "name": "stdout",
     "output_type": "stream",
     "text": [
      "State_D16 0.998479439023 0.999965785095 0.967019933551\n",
      "State_D17 0.998444810568 0.999904944807 0.966777475567\n"
     ]
    },
    {
     "name": "stdout",
     "output_type": "stream",
     "text": [
      "State_D18 0.998453887455 0.999981734564 0.966835700681\n",
      "State_D19 "
     ]
    },
    {
     "name": "stdout",
     "output_type": "stream",
     "text": [
      "0.998542150101 0.999958799615 0.967455926089\n",
      "State_D20 0.998418919027 0.999456019423 0.966579922929\n",
      "Test for γ = 2.5133 done in 1.8972630500793457\n",
      "γ = 7.9477\n",
      "------ Spin-boson:"
     ]
    },
    {
     "name": "stdout",
     "output_type": "stream",
     "text": [
      "\n",
      "*********************************** TSSOS ***********************************\n",
      "Version 1.0.0, developed by Jie Wang, 2020--2023\n",
      "TSSOS is launching...\n",
      "termination status: SLOW_PROGRESS"
     ]
    },
    {
     "name": "stdout",
     "output_type": "stream",
     "text": [
      "\n",
      "solution status: FEASIBLE_POINT\n",
      "optimum = -0.002254529663472795\n",
      "Found a locally optimal solution by Ipopt, giving an upper bound: 0.00039964.\n",
      "The relative optimality gap is: 0.265416%.\n"
     ]
    },
    {
     "name": "stdout",
     "output_type": "stream",
     "text": [
      "--- TSSOS higher output: ---\n"
     ]
    },
    {
     "name": "stdout",
     "output_type": "stream",
     "text": [
      "termination status: SLOW_PROGRESS\n",
      "solution status: FEASIBLE_POINT\n",
      "optimum = -4.620879953876834e-5\n"
     ]
    },
    {
     "name": "stdout",
     "output_type": "stream",
     "text": [
      "Found a locally optimal solution by Ipopt, giving an upper bound: 0.00039965.\n",
      "The relative optimality gap is: 0.044586%.\n",
      "--- TSSOS higher output end ---\n",
      "--- TSSOS higher output: ---\n",
      "--- TSSOS higher output end ---\n",
      "------ LME:\n",
      "*********************************** TSSOS ***********************************\n",
      "Version 1.0.0, developed by Jie Wang, 2020--2023\n",
      "TSSOS is launching...\n",
      "termination status: SLOW_PROGRESS"
     ]
    },
    {
     "name": "stdout",
     "output_type": "stream",
     "text": [
      "\n",
      "solution status: FEASIBLE_POINT\n",
      "optimum = -0.0008023682048824069\n",
      "Found a locally optimal solution by Ipopt, giving an upper bound: 0.00000000.\n",
      "The relative optimality gap is: 0.080237%.\n"
     ]
    },
    {
     "name": "stdout",
     "output_type": "stream",
     "text": [
      "--- TSSOS higher output: ---\n"
     ]
    },
    {
     "name": "stdout",
     "output_type": "stream",
     "text": [
      "termination status: SLOW_PROGRESS\n",
      "solution status: FEASIBLE_POINT\n",
      "optimum = -0.0012651343016169979\n"
     ]
    },
    {
     "name": "stdout",
     "output_type": "stream",
     "text": [
      "Found a locally optimal solution by Ipopt, giving an upper bound: 0.00000000.\n",
      "The relative optimality gap is: 0.126513%.\n",
      "--- TSSOS higher output end ---\n",
      "--- TSSOS higher output: ---\n",
      "--- TSSOS higher output end ---\n",
      "\n",
      " Minimum fidelities vs spin-boson of \n",
      "         POP:      DMD:     Kraus-corrected DMD:\n"
     ]
    },
    {
     "name": "stdout",
     "output_type": "stream",
     "text": [
      "State_D1 0.999358640758 0.999777295025 0.981873612032\n",
      "State_D2 0.999266247548 0.999713180174 0.981687920281\n"
     ]
    },
    {
     "name": "stdout",
     "output_type": "stream",
     "text": [
      "State_D3 0.999640522492 0.999805112965 0.982488379548\n",
      "State_D4 0.999287630256 0.999680079516 0.982578045100\n"
     ]
    },
    {
     "name": "stdout",
     "output_type": "stream",
     "text": [
      "State_D5 0.999409300774 0.999669382592 0.982030868611\n",
      "State_D6 0.998411041894 0.998879678604 0.981466065286\n"
     ]
    },
    {
     "name": "stdout",
     "output_type": "stream",
     "text": [
      "State_D7 0.999088502176 0.999822215782 0.982142237921\n",
      "State_D8 0.999018052283 0.999385508818 0.982098982260\n"
     ]
    },
    {
     "name": "stdout",
     "output_type": "stream",
     "text": [
      "State_D9 0.999249466820 0.999785844418 0.981744617711\n",
      "State_D10 0.999783851134 0.999910561095 0.982911005174\n"
     ]
    },
    {
     "name": "stdout",
     "output_type": "stream",
     "text": [
      "State_D11 0.997512519484 0.998903686477 0.982045813210\n",
      "State_D12 0.999572043771 0.999752779137 0.982611997724\n"
     ]
    },
    {
     "name": "stdout",
     "output_type": "stream",
     "text": [
      "State_D13 0.997758945964 0.998913825222 0.981433134137\n",
      "State_D14 0.999531085458 0.999442777267 0.981933731162\n"
     ]
    },
    {
     "name": "stdout",
     "output_type": "stream",
     "text": [
      "State_D15 0.998064279422 0.998785700099 0.981978324993\n",
      "State_D16 0.999477356620 0.999702990496 0.982365201445\n"
     ]
    },
    {
     "name": "stdout",
     "output_type": "stream",
     "text": [
      "State_D17 0.996588221963 0.998889324649 0.981676125359\n",
      "State_D18 0.999492831904 0.999856532415 0.982142060211\n"
     ]
    },
    {
     "name": "stdout",
     "output_type": "stream",
     "text": [
      "State_D19 0.999365737715 0.999661866765 0.982785305929\n",
      "State_D20 0.999183817954 0.999308565048 0.981757971020\n",
      "Test for γ = 7.9477 done in 1.4190149307250977\n",
      "γ = 25.133\n"
     ]
    },
    {
     "name": "stdout",
     "output_type": "stream",
     "text": [
      "------ Spin-boson:\n",
      "*********************************** TSSOS ***********************************\n",
      "Version 1.0.0, developed by Jie Wang, 2020--2023\n",
      "TSSOS is launching...\n"
     ]
    },
    {
     "name": "stdout",
     "output_type": "stream",
     "text": [
      "termination status: SLOW_PROGRESS\n",
      "solution status: FEASIBLE_POINT\n",
      "optimum = -0.00045480359274979184\n"
     ]
    },
    {
     "name": "stdout",
     "output_type": "stream",
     "text": [
      "Found a locally optimal solution by Ipopt, giving an upper bound: 0.00053256.\n",
      "The relative optimality gap is: 0.098736%.\n",
      "--- TSSOS higher output: ---\n",
      "termination status: SLOW_PROGRESS"
     ]
    },
    {
     "name": "stdout",
     "output_type": "stream",
     "text": [
      "\n",
      "solution status: FEASIBLE_POINT\n",
      "optimum = -0.00016551017622664884\n",
      "Found a locally optimal solution by Ipopt, giving an upper bound: 0.00053255.\n",
      "The relative optimality gap is: 0.069806%.\n"
     ]
    },
    {
     "name": "stdout",
     "output_type": "stream",
     "text": [
      "--- TSSOS higher output end ---\n",
      "--- TSSOS higher output: ---\n",
      "--- TSSOS higher output end ---\n",
      "------ LME:\n",
      "*********************************** TSSOS ***********************************\n",
      "Version 1.0.0, developed by Jie Wang, 2020--2023\n",
      "TSSOS is launching...\n"
     ]
    },
    {
     "name": "stdout",
     "output_type": "stream",
     "text": [
      "termination status: SLOW_PROGRESS\n",
      "solution status: FEASIBLE_POINT\n",
      "optimum = -0.0024251095451444096\n"
     ]
    },
    {
     "name": "stdout",
     "output_type": "stream",
     "text": [
      "Found a locally optimal solution by Ipopt, giving an upper bound: 0.00000000.\n",
      "The relative optimality gap is: 0.242511%.\n",
      "--- TSSOS higher output: ---\n",
      "termination status: SLOW_PROGRESS"
     ]
    },
    {
     "name": "stdout",
     "output_type": "stream",
     "text": [
      "\n",
      "solution status: FEASIBLE_POINT\n",
      "optimum = -0.0006655188847673699\n",
      "Found a locally optimal solution by Ipopt, giving an upper bound: 0.00000000.\n",
      "The relative optimality gap is: 0.066552%.\n"
     ]
    },
    {
     "name": "stdout",
     "output_type": "stream",
     "text": [
      "--- TSSOS higher output end ---\n",
      "--- TSSOS higher output: ---\n",
      "--- TSSOS higher output end ---\n",
      "\n",
      " Minimum fidelities vs spin-boson of \n",
      "         POP:      DMD:     Kraus-corrected DMD:\n",
      "State_D1 "
     ]
    },
    {
     "name": "stdout",
     "output_type": "stream",
     "text": [
      "0.996321912326 0.996897630752 0.989587058025\n",
      "State_D2 0.998956784804 0.998616846964 0.996374033576\n",
      "State_D3 0.995673240637 0.995535507861 0.989082432356\n"
     ]
    },
    {
     "name": "stdout",
     "output_type": "stream",
     "text": [
      "State_D4 0.998966603044 0.998646724779 0.996775781619\n",
      "State_D5 0.998658454132 0.998798286903 0.993430488515\n",
      "State_D6 0.988124179263 0.987998695204 0.990694307312\n",
      "State_D7 "
     ]
    },
    {
     "name": "stdout",
     "output_type": "stream",
     "text": [
      "0.992909460153 0.993031230979 0.985956241138\n",
      "State_D8 0.988101501503 0.987830802731 0.992124368342\n",
      "State_D9 0.999766938702 0.999810226738 0.996233195840\n",
      "State_D10 0.999746290577 0.999489762237 0.996491236861\n",
      "State_D11 "
     ]
    },
    {
     "name": "stdout",
     "output_type": "stream",
     "text": [
      "0.981550002423 0.982519260848 0.986517562176\n",
      "State_D12 0.996551232648 0.996865103462 0.996671742283\n",
      "State_D13 0.980138761289 0.979648526810 0.985500674619\n"
     ]
    },
    {
     "name": "stdout",
     "output_type": "stream",
     "text": [
      "State_D14 0.995555826575 0.994819362506 0.995555399369\n",
      "State_D15 0.989310273068 0.989850707124 0.991467468187\n",
      "State_D16 0.998745442639 0.998880180380 0.993468110415\n",
      "State_D17 "
     ]
    },
    {
     "name": "stdout",
     "output_type": "stream",
     "text": [
      "0.974763413349 0.974939003694 0.982078952957\n",
      "State_D18 0.997712917390 0.997292078263 0.993828358902\n",
      "State_D19 0.995209730047 0.995697213308 0.996178128654\n"
     ]
    },
    {
     "name": "stdout",
     "output_type": "stream",
     "text": [
      "State_D20 0.993926208911 0.993024853110 0.994782710811\n",
      "Test for γ = 25.133 done in 0.679980993270874\n",
      "γ = 79.477\n",
      "------ Spin-boson:"
     ]
    },
    {
     "name": "stdout",
     "output_type": "stream",
     "text": [
      "\n",
      "*********************************** TSSOS ***********************************\n",
      "Version 1.0.0, developed by Jie Wang, 2020--2023\n",
      "TSSOS is launching...\n",
      "termination status: SLOW_PROGRESS"
     ]
    },
    {
     "name": "stdout",
     "output_type": "stream",
     "text": [
      "\n",
      "solution status: FEASIBLE_POINT\n",
      "optimum = 1.2720668389659939e-5\n",
      "The local solver failed refining the solution!"
     ]
    },
    {
     "name": "stdout",
     "output_type": "stream",
     "text": [
      "\n",
      "--- TSSOS higher output: ---\n",
      "termination status: SLOW_PROGRESS"
     ]
    },
    {
     "name": "stdout",
     "output_type": "stream",
     "text": [
      "\n",
      "solution status: FEASIBLE_POINT\n",
      "optimum = -9.086478000304001e-5\n",
      "Found a locally optimal solution by Ipopt, giving an upper bound: 0.00046782.\n",
      "The relative optimality gap is: 0.055869%.\n"
     ]
    },
    {
     "name": "stdout",
     "output_type": "stream",
     "text": [
      "--- TSSOS higher output end ---\n",
      "--- TSSOS higher output: ---\n",
      "--- TSSOS higher output end ---\n",
      "------ LME:\n",
      "*********************************** TSSOS ***********************************\n",
      "Version 1.0.0, developed by Jie Wang, 2020--2023\n",
      "TSSOS is launching...\n"
     ]
    },
    {
     "name": "stdout",
     "output_type": "stream",
     "text": [
      "termination status: SLOW_PROGRESS\n",
      "solution status: FEASIBLE_POINT\n",
      "optimum = -0.0009517258392473711\n"
     ]
    },
    {
     "name": "stdout",
     "output_type": "stream",
     "text": [
      "Found a locally optimal solution by Ipopt, giving an upper bound: 0.00000000.\n",
      "The relative optimality gap is: 0.095173%.\n",
      "--- TSSOS higher output: ---\n",
      "termination status: SLOW_PROGRESS"
     ]
    },
    {
     "name": "stdout",
     "output_type": "stream",
     "text": [
      "\n",
      "solution status: FEASIBLE_POINT\n",
      "optimum = -0.001079092135304948\n",
      "Found a locally optimal solution by Ipopt, giving an upper bound: 0.00000000.\n",
      "The relative optimality gap is: 0.107909%.\n"
     ]
    },
    {
     "name": "stdout",
     "output_type": "stream",
     "text": [
      "--- TSSOS higher output end ---\n",
      "--- TSSOS higher output: ---\n",
      "--- TSSOS higher output end ---\n",
      "\n",
      " Minimum fidelities vs spin-boson of \n",
      "         POP:      DMD:     Kraus-corrected DMD:\n",
      "State_D1 "
     ]
    },
    {
     "name": "stdout",
     "output_type": "stream",
     "text": [
      "0.999855585553 0.999914966231 0.949008861296\n",
      "State_D2 0.999936586496 0.999934964134 0.987952577608\n",
      "State_D3 0.999759643657 0.999789318109 0.948825210950\n"
     ]
    },
    {
     "name": "stdout",
     "output_type": "stream",
     "text": [
      "State_D4 0.999673490136 0.999737419154 0.987849426347\n",
      "State_D5 0.999835597122 0.999841953142 0.988723583550\n",
      "State_D6 0.999788434025 0.999839669686 0.989346664000\n",
      "State_D7 "
     ]
    },
    {
     "name": "stdout",
     "output_type": "stream",
     "text": [
      "0.999305252309 0.999866767990 0.895049434199\n",
      "State_D8 0.998969654385 0.999366746181 0.949179728864\n",
      "State_D9 0.999949429912 0.999936549760 0.988274919889\n",
      "State_D10 0.999553479592 0.999597710632 0.988127134372\n",
      "State_D11 "
     ]
    },
    {
     "name": "stdout",
     "output_type": "stream",
     "text": [
      "0.999158083781 0.999270914235 0.950526282977\n",
      "State_D12 0.999462738297 0.999384392103 0.988401614409\n",
      "State_D13 0.999162306963 0.999734660213 0.950481822097\n"
     ]
    },
    {
     "name": "stdout",
     "output_type": "stream",
     "text": [
      "State_D14 0.999658874821 0.999811708618 0.988465522841\n",
      "State_D15 0.999648011575 0.999610839802 0.989254340218\n",
      "State_D16 0.999690225881 0.999697539507 0.988664630629\n",
      "State_D17 0.997893295475 0.999292228463 0.897278987867\n"
     ]
    },
    {
     "name": "stdout",
     "output_type": "stream",
     "text": [
      "State_D18 0.999782252981 0.999895497433 0.947560094801\n",
      "State_D19 0.999398034809 0.999306587525 0.988671215484\n",
      "State_D20 0.999714949751 0.999863534475 0.988712049776\n",
      "Test for γ = 79.477 done in 0.7024679183959961\n",
      "γ = 251.33\n",
      "------ Spin-boson:"
     ]
    },
    {
     "name": "stdout",
     "output_type": "stream",
     "text": [
      "\n",
      "*********************************** TSSOS ***********************************\n",
      "Version 1.0.0, developed by Jie Wang, 2020--2023\n",
      "TSSOS is launching...\n",
      "termination status: SLOW_PROGRESS"
     ]
    },
    {
     "name": "stdout",
     "output_type": "stream",
     "text": [
      "\n",
      "solution status: FEASIBLE_POINT\n",
      "optimum = 0.003458469591292825\n",
      "Found a locally optimal solution by Ipopt, giving an upper bound: 0.00359159.\n",
      "The relative optimality gap is: 0.013312%.\n"
     ]
    },
    {
     "name": "stdout",
     "output_type": "stream",
     "text": [
      "--- TSSOS higher output: ---\n"
     ]
    },
    {
     "name": "stdout",
     "output_type": "stream",
     "text": [
      "termination status: SLOW_PROGRESS\n",
      "solution status: FEASIBLE_POINT\n",
      "optimum = 0.003460093328850795\n"
     ]
    },
    {
     "name": "stdout",
     "output_type": "stream",
     "text": [
      "Found a locally optimal solution by Ipopt, giving an upper bound: 0.00359159.\n",
      "The relative optimality gap is: 0.013149%.\n",
      "--- TSSOS higher output end ---\n",
      "--- TSSOS higher output: ---\n",
      "--- TSSOS higher output end ---\n",
      "------ LME:\n",
      "*********************************** TSSOS ***********************************\n",
      "Version 1.0.0, developed by Jie Wang, 2020--2023\n",
      "TSSOS is launching...\n",
      "termination status: SLOW_PROGRESS"
     ]
    },
    {
     "name": "stdout",
     "output_type": "stream",
     "text": [
      "\n",
      "solution status: FEASIBLE_POINT\n",
      "optimum = -0.00041184386069353387\n",
      "Found a locally optimal solution by Ipopt, giving an upper bound: 0.00000000.\n",
      "The relative optimality gap is: 0.041184%.\n"
     ]
    },
    {
     "name": "stdout",
     "output_type": "stream",
     "text": [
      "--- TSSOS higher output: ---\n"
     ]
    },
    {
     "name": "stdout",
     "output_type": "stream",
     "text": [
      "optimum = -2.6693722122985925e-6\n"
     ]
    },
    {
     "name": "stdout",
     "output_type": "stream",
     "text": [
      "Global optimality certified with relative optimality gap 0.000267%!\n",
      "--- TSSOS higher output end ---\n",
      "--- TSSOS higher output: ---\n",
      "--- TSSOS higher output end ---\n",
      "\n",
      " Minimum fidelities vs spin-boson of \n",
      "         POP:      DMD:     Kraus-corrected DMD:\n",
      "State_D1 0.998053957749 0.998122861807 0.982958295980\n",
      "State_D2 0.997202063038 0.997078715166 0.994104084855\n"
     ]
    },
    {
     "name": "stdout",
     "output_type": "stream",
     "text": [
      "State_D3 0.997969579975 0.997860379441 0.983685601573\n",
      "State_D4 0.997108448507 0.997216263558 0.994520245825\n",
      "State_D5 0.996613748613 0.996697138470 0.996695671600\n",
      "State_D6 0.996230385832 0.996093827108 0.995909279951\n",
      "State_D7 0.998366454801 0.999711431758 0.931859765809\n",
      "State_D8 0.998873836531 0.999224267831 0.958960273319\n"
     ]
    },
    {
     "name": "stdout",
     "output_type": "stream",
     "text": [
      "State_D9 0.997018576058 0.996993237985 0.996590723564\n",
      "State_D10 0.996856360954 0.996867828090 0.997079650604\n",
      "State_D11 0.997768571344 0.997893104888 0.979195600819\n",
      "State_D12 0.997379095289 0.997190652218 0.991817934484\n",
      "State_D13 0.997837285230 0.997713107267 0.980097300172\n",
      "State_D14 "
     ]
    },
    {
     "name": "stdout",
     "output_type": "stream",
     "text": [
      "0.997460974730 0.997597929508 0.992371677419\n",
      "State_D15 0.996171769435 0.996290678457 0.996120489000\n",
      "State_D16 0.996555543845 0.996400172585 0.996782690047\n",
      "State_D17 0.995729769343 0.997965045796 0.923963284559\n",
      "State_D18 0.999056279495 0.999042829078 0.964690407289\n"
     ]
    },
    {
     "name": "stdout",
     "output_type": "stream",
     "text": [
      "State_D19 0.996882528180 0.996866465852 0.994858772053\n",
      "State_D20 0.997033531215 0.997040642516 0.995545280140\n",
      "Test for γ = 251.33 done in 0.40708303451538086\n",
      "All calculations finished.\n",
      "Tests saved in POP-Kraus_vs_DMD_trn4-tst20_rm_micro_obj_fids_2023-Dec-14_at_16-45.h5\n"
     ]
    }
   ],
   "source": [
    "parentdir = pwd()\n",
    "#data_dir = parentdir*\"../DATA/\"\n",
    "data_dir = \"../DATA/\"\n",
    "println(data_dir)\n",
    "\n",
    "models_dir = \"../MODELS/\"\n",
    "tests_dir = \"../TESTS/\"\n",
    "\n",
    "#models_dir = parentdir*\"../MODELS/\"\n",
    "#tests_dir = parentdir*\"../TESTS/\"\n",
    "\n",
    "dodeca_files = [\"State_D\"*string(n) for n=1:20];\n",
    "basis_files = [\"State_B\"*string(n) for n=1:4];\n",
    "\n",
    "test_files = dodeca_files;\n",
    "\n",
    "γ_list = [ \"0.079477\",  \"0.25133\", \"0.79477\", \"2.5133\", \"7.9477\", \"25.133\",  \"79.477\", \"251.33\"]\n",
    "\n",
    "date_and_time_string =  string(Dates.format(now(), \"yyyy-u-dd_at_HH-MM\"))\n",
    "models_file = \"POP-Kraus_vs_DMD_trn4_obj_models_\"*date_and_time_string * \".h5\"\n",
    "tests_data_file_name = \"POP-Kraus_vs_DMD_trn4-tst20_obj_fids_\"*date_and_time_string * \".h5\"\n",
    "\n",
    "println(models_file)\n",
    "\n",
    "for γᵢ in γ_list\n",
    "\n",
    "    println(\"γ = \", γᵢ)\n",
    "\n",
    "    if γᵢ == \"0.0\" \n",
    "        ρᵉ, tᵉ = LiPoSID.get_rho_series(data_dir*\"State_B2_2CUT_data.h5\", \"0.079477\")\n",
    "        ρᵍ, tᵍ = LiPoSID.get_rho_series(data_dir*\"State_B1_2CUT_data.h5\", \"0.079477\")\n",
    "        ρˣ, tˣ = LiPoSID.get_rho_series(data_dir*\"State_B3_2CUT_data.h5\", \"0.079477\")\n",
    "        ρʸ, tʸ = LiPoSID.get_rho_series(data_dir*\"State_B4_2CUT_data.h5\", \"0.079477\")\n",
    "    else \n",
    "        ρᵉ, tᵉ = LiPoSID.get_rho_series(data_dir*\"State_B2_2CUT_data.h5\", γᵢ)\n",
    "        ρᵍ, tᵍ = LiPoSID.get_rho_series(data_dir*\"State_B1_2CUT_data.h5\", γᵢ)\n",
    "        ρˣ, tˣ = LiPoSID.get_rho_series(data_dir*\"State_B3_2CUT_data.h5\", γᵢ)\n",
    "        ρʸ, tʸ = LiPoSID.get_rho_series(data_dir*\"State_B4_2CUT_data.h5\", γᵢ)\n",
    "    end\n",
    "\n",
    "    lᵉ = length(ρᵉ); lᵍ = length(ρᵍ); lˣ = length(ρˣ); lʸ = length(ρʸ)\n",
    "    lᵐᵃˣ = min(lᵉ, lᵍ,  lˣ, lʸ)  #choose time limit by shortest series\n",
    "\n",
    "    ωᶠ = 25.126\n",
    "\n",
    "    Hᴸᴹᴱ = [ ωᶠ       0\n",
    "             0        0   ]\n",
    "\n",
    "    γᶠ = parse(Float64, γᵢ)\n",
    "\n",
    "    Aᴸᴹᴱ = [ 0    √γᶠ\n",
    "             0     0. + 0im  ]\n",
    "\n",
    "    tᵉᶠ = convert.(Float64, tᵉ); tᵍᶠ = convert.(Float64, tᵍ); \n",
    "    tˣᶠ = convert.(Float64, tˣ); tʸᶠ = convert.(Float64, tʸ); \n",
    "\n",
    "    t = tˣᶠ\n",
    "    Δt = t[2] - t[1] #0.02\n",
    "\n",
    "    ρᵉᴸᴹᴱ = LiPoSID.Lindblad_time_evolution(basis, ρᵉ[1], tᵉᶠ, Hᴸᴹᴱ, [Aᴸᴹᴱ])\n",
    "    ρᵍᴸᴹᴱ = LiPoSID.Lindblad_time_evolution(basis, ρᵍ[1], tᵍᶠ, Hᴸᴹᴱ, [Aᴸᴹᴱ])\n",
    "    ρˣᴸᴹᴱ = LiPoSID.Lindblad_time_evolution(basis, ρˣ[1], tˣᶠ, Hᴸᴹᴱ, [Aᴸᴹᴱ])\n",
    "    ρʸᴸᴹᴱ = LiPoSID.Lindblad_time_evolution(basis, ρʸ[1], tʸᶠ, Hᴸᴹᴱ, [Aᴸᴹᴱ])\n",
    "\n",
    "    Aᴰᴹᴰ⁻ˢᴮ = LiPoSID.direct_DMD_01XY_b4_A([ρᵉ[1:lᵐᵃˣ], ρᵍ[1:lᵐᵃˣ], ρˣ[1:lᵐᵃˣ], ρʸ[1:lᵐᵃˣ]])\n",
    "    Aᴰᴹᴰ⁻ᴸᴹᴱ = LiPoSID.direct_DMD_01XY_b4_A([ρᵉᴸᴹᴱ[1:lᵐᵃˣ], ρᵍᴸᴹᴱ[1:lᵐᵃˣ], ρˣᴸᴹᴱ[1:lᵐᵃˣ], ρʸᴸᴹᴱ[1:lᵐᵃˣ]])\n",
    "\n",
    "    ρᵍ₀ = [1. 0]' * [1 0]\n",
    "    ρᵉ₀ = [0. 1]' * [0 1]\n",
    "    ρˣ₀ = [1  1]' * [1 1]/2\n",
    "    ρʸ₀ = [1 -im]' * [1 -im]/2\n",
    "\n",
    "    ρᵍ₁ᴸᴹᴱ = LiPoSID.DMD_step(Aᴰᴹᴰ⁻ᴸᴹᴱ, ρᵍ₀)\n",
    "    ρᵉ₁ᴸᴹᴱ = LiPoSID.DMD_step(Aᴰᴹᴰ⁻ᴸᴹᴱ, ρᵉ₀)\n",
    "    ρˣ₁ᴸᴹᴱ = LiPoSID.DMD_step(Aᴰᴹᴰ⁻ᴸᴹᴱ, ρˣ₀)\n",
    "    ρʸ₁ᴸᴹᴱ = LiPoSID.DMD_step(Aᴰᴹᴰ⁻ᴸᴹᴱ, ρʸ₀)\n",
    "\n",
    "    ρᵍ₁ˢᴮ = LiPoSID.DMD_step(Aᴰᴹᴰ⁻ˢᴮ, ρᵍ₀)\n",
    "    ρᵉ₁ˢᴮ = LiPoSID.DMD_step(Aᴰᴹᴰ⁻ˢᴮ, ρᵉ₀)\n",
    "    ρˣ₁ˢᴮ = LiPoSID.DMD_step(Aᴰᴹᴰ⁻ˢᴮ, ρˣ₀)\n",
    "    ρʸ₁ˢᴮ = LiPoSID.DMD_step(Aᴰᴹᴰ⁻ˢᴮ, ρʸ₀)\n",
    "\n",
    "    Eᴰᴹᴰ⁻ᴸᴹᴱ, dᴸᴹᴱ = LiPoSID.QPT(ρᵍ₁ᴸᴹᴱ, ρᵉ₁ᴸᴹᴱ, ρˣ₁ᴸᴹᴱ, ρʸ₁ᴸᴹᴱ)\n",
    "    Eᴰᴹᴰ⁻ˢᴮ, dˢᴮ = LiPoSID.QPT(ρᵍ₁ˢᴮ, ρᵉ₁ˢᴮ, ρˣ₁ˢᴮ, ρʸ₁ˢᴮ)\n",
    "\n",
    "    operators_num = length(Eᴰᴹᴰ⁻ˢᴮ) # 3\n",
    "\n",
    "    @polyvar α[1:2, 1:2, 1:operators_num]\n",
    "    @polyvar β[1:2, 1:2, 1:operators_num]\n",
    "\n",
    "    Kₛ = []\n",
    "\n",
    "    for i in 1:operators_num\n",
    "        K = α[:,:,i] + im * β[:,:,i]\n",
    "        push!(Kₛ, K)\n",
    "    end\n",
    "\n",
    "    objᵍ = LiPoSID.kraus_obj(ρᵍ, Kₛ)\n",
    "    objᵉ = LiPoSID.kraus_obj(ρᵉ, Kₛ)\n",
    "    objˣ = LiPoSID.kraus_obj(ρˣ, Kₛ)\n",
    "    objʸ = LiPoSID.kraus_obj(ρʸ, Kₛ)\n",
    "\n",
    "    objˢᴮ =  objᵍ + objᵉ + objˣ + objʸ\n",
    "    objˢᴮₛ = objˢᴮ\n",
    "    #objˢᴮₛ = rm_micro_coefs(objˢᴮ)\n",
    "\n",
    "    objᵍᴸᴹᴱ = LiPoSID.kraus_obj(ρᵍᴸᴹᴱ, Kₛ)\n",
    "    objᵉᴸᴹᴱ = LiPoSID.kraus_obj(ρᵉᴸᴹᴱ, Kₛ)\n",
    "    objˣᴸᴹᴱ = LiPoSID.kraus_obj(ρˣᴸᴹᴱ, Kₛ)\n",
    "    objʸᴸᴹᴱ = LiPoSID.kraus_obj(ρʸᴸᴹᴱ, Kₛ)\n",
    "\n",
    "    objᴸᴹᴱ =  objᵍᴸᴹᴱ + objᵉᴸᴹᴱ + objˣᴸᴹᴱ + objʸᴸᴹᴱ\n",
    "    objᴸᴹᴱₛ = objᴸᴹᴱ\n",
    "    #objᴸᴹᴱₛ = rm_micro_coefs(objᴸᴹᴱ)\n",
    "\n",
    "    constr = LiPoSID.frobenius_norm2(sum(k' * k for k in Kₛ) - I)\n",
    "\n",
    "    solᴰᴹᴰ⁻ˢᴮ = solution_from_operator_sum(Eᴰᴹᴰ⁻ˢᴮ)\n",
    "    solᴰᴹᴰ⁻ᴸᴹᴱ = solution_from_operator_sum(Eᴰᴹᴰ⁻ᴸᴹᴱ)\n",
    "\n",
    "    println(\"------ Spin-boson:\")\n",
    "    \n",
    "    opt,solᴾᴼᴾ⁻ˢᴮ,dataᴾᴼᴾ⁻ˢᴮ = tssos_first([objˢᴮₛ, constr], variables(objˢᴮ), maxdegree(objˢᴮ)÷2, numeq=1, solution=true, QUIET=true)\n",
    "    sb_tssos_higher = false\n",
    "    previous_solᴾᴼᴾ⁻ˢᴮ = solᴾᴼᴾ⁻ˢᴮ\n",
    "    SDP_status1ᴾᴼᴾ⁻ˢᴮ = dataᴾᴼᴾ⁻ˢᴮ.SDP_status\n",
    "\n",
    "    while ~isnothing(solᴾᴼᴾ⁻ˢᴮ)\n",
    "        println(\"--- TSSOS higher output: ---\")\n",
    "        sb_tssos_higher = true\n",
    "        previous_solᴾᴼᴾ⁻ˢᴮ = solᴾᴼᴾ⁻ˢᴮ\n",
    "        opt,solᴾᴼᴾ⁻ˢᴮ,dataᴾᴼᴾ⁻ˢᴮ = tssos_higher!(dataᴾᴼᴾ⁻ˢᴮ; QUIET=true, solution=true);\n",
    "        SDP_status2ᴾᴼᴾ⁻ˢᴮ = dataᴾᴼᴾ⁻ˢᴮ.SDP_status\n",
    "        println(\"--- TSSOS higher output end ---\")\n",
    "    end\n",
    "    \n",
    "    solutionᴰᴹᴰ⁻ˢᴮ = variables(objˢᴮ) => solᴰᴹᴰ⁻ˢᴮ\n",
    "    solutionᴾᴼᴾ⁻ˢᴮ = variables(objˢᴮ) => previous_solᴾᴼᴾ⁻ˢᴮ\n",
    "\n",
    "\n",
    "    println(\"------ LME:\")\n",
    "    \n",
    "    opt,solᴾᴼᴾ⁻ᴸᴹᴱ,dataᴾᴼᴾ⁻ᴸᴹᴱ = tssos_first([objᴸᴹᴱₛ, constr], variables(objᴸᴹᴱ), maxdegree(objᴸᴹᴱ)÷2, numeq=1, solution=true, QUIET=true)\n",
    "    lme_tssos_higher = false\n",
    "    previous_solᴾᴼᴾ⁻ᴸᴹᴱ = solᴾᴼᴾ⁻ᴸᴹᴱ\n",
    "    SDP_status1ᴾᴼᴾ⁻ᴸᴹᴱ = dataᴾᴼᴾ⁻ᴸᴹᴱ.SDP_status\n",
    "    while ~isnothing(solᴾᴼᴾ⁻ᴸᴹᴱ)\n",
    "        println(\"--- TSSOS higher output: ---\")\n",
    "        lme_tssos_higher = true\n",
    "        previous_solᴾᴼᴾ⁻ᴸᴹᴱ = solᴾᴼᴾ⁻ᴸᴹᴱ\n",
    "        opt,solᴾᴼᴾ⁻ᴸᴹᴱ,dataᴾᴼᴾ⁻ᴸᴹᴱ = tssos_higher!(dataᴾᴼᴾ⁻ᴸᴹᴱ; QUIET=true, solution=true);\n",
    "        SDP_status2ᴾᴼᴾ⁻ᴸᴹᴱ = dataᴾᴼᴾ⁻ᴸᴹᴱ.SDP_status\n",
    "        println(\"--- TSSOS higher output end ---\")\n",
    "    end\n",
    "    \n",
    "    \n",
    "    solutionᴰᴹᴰ⁻ᴸᴹᴱ = variables(objᴸᴹᴱ) => solᴰᴹᴰ⁻ᴸᴹᴱ\n",
    "    solutionᴾᴼᴾ⁻ᴸᴹᴱ = variables(objᴸᴹᴱ) => previous_solᴾᴼᴾ⁻ᴸᴹᴱ\n",
    "\n",
    "    Eᴾᴼᴾ⁻ˢᴮ = [convert.(ComplexF64, subs(k, solutionᴾᴼᴾ⁻ˢᴮ)) for k in Kₛ]\n",
    "    Eᴾᴼᴾ⁻ᴸᴹᴱ = [convert.(ComplexF64, subs(k, solutionᴾᴼᴾ⁻ᴸᴹᴱ)) for k in Kₛ]\n",
    "\n",
    "    obj_val_POP_sb = convert(Float64, subs(objˢᴮ, solutionᴾᴼᴾ⁻ˢᴮ))\n",
    "    obj_val_DMD_sb = convert(Float64, subs(objˢᴮ, solutionᴰᴹᴰ⁻ˢᴮ))\n",
    "    obj_val_POP_LME = convert(Float64, subs(objᴸᴹᴱ, solutionᴾᴼᴾ⁻ᴸᴹᴱ))\n",
    "    obj_val_DMD_LME = convert(Float64, subs(objᴸᴹᴱ, solutionᴰᴹᴰ⁻ᴸᴹᴱ))\n",
    "\n",
    "\n",
    "    h5open(models_dir*models_file,\"cw\") do fid  # read-write, create file if not existing, preserve existing contents\n",
    "\n",
    "        γ_group = create_group(fid, \"gamma_\"*γᵢ)   \n",
    "        \n",
    "        for i in 1:operators_num\n",
    "\n",
    "            γ_group[\"E_DMD-LME_\"*string(i)] = [convert.(ComplexF64, e) for e in Eᴰᴹᴰ⁻ᴸᴹᴱ][i]\n",
    "            γ_group[\"E_DMD-sb_\"*string(i)] =  [convert.(ComplexF64, e) for e in Eᴰᴹᴰ⁻ˢᴮ][i]\n",
    "            γ_group[\"E_POP-LME_\"*string(i)] = Eᴾᴼᴾ⁻ᴸᴹᴱ[i]\n",
    "            γ_group[\"E_POP-sb_\"*string(i)] = Eᴾᴼᴾ⁻ˢᴮ[i]\n",
    "\n",
    "        end\n",
    "\n",
    "        γ_group[\"SDP_status1_pop-sb\"] = string(\"SDP_status1ᴾᴼᴾ⁻ˢᴮ\")\n",
    "        γ_group[\"SDP_status2_pop-sb\"] = string(\"SDP_status2ᴾᴼᴾ⁻ˢᴮ\")\n",
    "        γ_group[\"SDP_status1_pop-lme\"] = string(\"SDP_status1ᴾᴼᴾ⁻ᴸᴹᴱ\")\n",
    "        γ_group[\"SDP_status2_pop-lme\"] = string(\"SDP_status2ᴾᴼᴾ⁻ᴸᴹᴱ\")\n",
    "        \n",
    "        γ_group[\"d_QPT_LME\"] = dᴸᴹᴱ\n",
    "        γ_group[\"d_QPT_sb\"] = dˢᴮ\n",
    "\n",
    "        γ_group[\"sb_tssos_higher\"] = sb_tssos_higher\n",
    "        γ_group[\"lme_tssos_higher\"] = lme_tssos_higher\n",
    "\n",
    "        γ_group[\"obj_val_DMD_LME\"] = obj_val_DMD_LME\n",
    "        γ_group[\"obj_val_DMD_sb\"] =  obj_val_DMD_sb\n",
    "        γ_group[\"obj_val_POP_LME\"] = obj_val_POP_LME\n",
    "        γ_group[\"obj_val_POP_sb\"] = obj_val_POP_sb\n",
    "        \n",
    "        #γ_group[\"A_sid_lme\"] = convert.(ComplexF64, Aˢⁱᵈₗₘₑ)\n",
    "        \n",
    "    end # of HDF5 writing\n",
    "\n",
    "    h5open(tests_dir*tests_data_file_name,\"cw\") do fid\n",
    "        γ_group = create_group(fid, \"gamma_\"*γᵢ)\n",
    "    end \n",
    "\n",
    "    println()\n",
    "    println(\" Minimum fidelities vs spin-boson of \")\n",
    "    println(\"         POP:      DMD:     Kraus-corrected DMD:\" )\n",
    "\n",
    "    start_time = time()\n",
    "\n",
    "    for df in test_files # loop over initial states        \n",
    "\n",
    "        ρₛ, tₛ = LiPoSID.get_rho_series(data_dir*df*\"_2CUT_data.h5\", γᵢ)\n",
    "        ρₛ = convert(Vector{Matrix{ComplexF64}}, ρₛ)\n",
    "        ρᵗˢᵗ = [DenseOperator(basis,Hermitian(ρₜ)) for ρₜ in ρₛ]\n",
    "        tᵗˢᵗ = convert(Vector{Float64}, tₛ)\n",
    "        tₛₜₑₚₛ = min(length(ρᵗˢᵗ), lᵐᵃˣ)\n",
    "        ρ₀ = ρᵗˢᵗ[1]\n",
    "\n",
    "        tᴸᴹᴱ, ρᴸᴹᴱ  = timeevolution.master(tᵗˢᵗ, ρ₀, DenseOperator(basis,Hᴸᴹᴱ), [DenseOperator(basis, Aᴸᴹᴱ)])\n",
    "       \n",
    "        ρᴰᴹᴰ⁻ᴸᴹᴱ = LiPoSID.propagate_DMD_b4(Aᴰᴹᴰ⁻ᴸᴹᴱ, ρₛ[1], tₛₜₑₚₛ)\n",
    "        ρᴰᴹᴰ⁻ˢᴮ = LiPoSID.propagate_DMD_b4(Aᴰᴹᴰ⁻ˢᴮ, ρₛ[1], tₛₜₑₚₛ)\n",
    "        ρᴰᴹᴰ⁻ᴸᴹᴱ = [DenseOperator(basis,Hermitian(ρₜ)) for ρₜ in ρᴰᴹᴰ⁻ᴸᴹᴱ]\n",
    "        ρᴰᴹᴰ⁻ˢᴮ = [DenseOperator(basis,Hermitian(ρₜ)) for ρₜ in ρᴰᴹᴰ⁻ˢᴮ]\n",
    "\n",
    "        ρᴰᴹᴰ⁻ᴸᴹᴱ⁻ᴷʳᵃᵘˢ = LiPoSID.timeevolution_kraus(tₛₜₑₚₛ, ρₛ[1], Eᴰᴹᴰ⁻ᴸᴹᴱ)\n",
    "        ρᴰᴹᴰ⁻ˢᴮ⁻ᴷʳᵃᵘˢ = LiPoSID.timeevolution_kraus(tₛₜₑₚₛ, ρₛ[1], Eᴰᴹᴰ⁻ˢᴮ)\n",
    "        ρᴰᴹᴰ⁻ᴸᴹᴱ⁻ᴷʳᵃᵘˢ = [DenseOperator(basis,Hermitian(ρₜ)) for ρₜ in ρᴰᴹᴰ⁻ᴸᴹᴱ⁻ᴷʳᵃᵘˢ]\n",
    "        ρᴰᴹᴰ⁻ˢᴮ⁻ᴷʳᵃᵘˢ = [DenseOperator(basis,Hermitian(ρₜ)) for ρₜ in ρᴰᴹᴰ⁻ˢᴮ⁻ᴷʳᵃᵘˢ]\n",
    "\n",
    "        ρᴾᴼᴾ⁻ᴸᴹᴱ⁻ᴷʳᵃᵘˢ = LiPoSID.timeevolution_kraus(tₛₜₑₚₛ, ρₛ[1], Eᴾᴼᴾ⁻ᴸᴹᴱ)\n",
    "        ρᴾᴼᴾ⁻ˢᴮ⁻ᴷʳᵃᵘˢ = LiPoSID.timeevolution_kraus(tₛₜₑₚₛ, ρₛ[1], Eᴾᴼᴾ⁻ˢᴮ)\n",
    "        ρᴾᴼᴾ⁻ᴸᴹᴱ⁻ᴷʳᵃᵘˢ = [DenseOperator(basis,Hermitian(ρₜ)) for ρₜ in ρᴾᴼᴾ⁻ᴸᴹᴱ⁻ᴷʳᵃᵘˢ]\n",
    "        ρᴾᴼᴾ⁻ˢᴮ⁻ᴷʳᵃᵘˢ = [DenseOperator(basis,Hermitian(ρₜ)) for ρₜ in ρᴾᴼᴾ⁻ˢᴮ⁻ᴷʳᵃᵘˢ]\n",
    "\n",
    "        Fᴾᴼᴾ⁻ᵛˢ⁻ˢᴮ  = [abs(fidelity(ρ₁, ρ₂)) for (ρ₁, ρ₂) in zip(ρᵗˢᵗ, ρᴾᴼᴾ⁻ˢᴮ⁻ᴷʳᵃᵘˢ)]\n",
    "        Fᴾᴼᴾ⁻ᵛˢ⁻ᴸᴹᴱ = [abs(fidelity(ρ₁, ρ₂)) for (ρ₁, ρ₂) in zip(ρᴸᴹᴱ, ρᴾᴼᴾ⁻ᴸᴹᴱ⁻ᴷʳᵃᵘˢ)]\n",
    "        Fᴰᴹᴰ⁻ᵛˢ⁻ˢᴮ  = [abs(fidelity(ρ₁, ρ₂)) for (ρ₁, ρ₂) in zip(ρᵗˢᵗ, ρᴰᴹᴰ⁻ˢᴮ)]\n",
    "        Fᴰᴹᴰ⁻ᵛˢ⁻ᴸᴹᴱ = [abs(fidelity(ρ₁, ρ₂)) for (ρ₁, ρ₂) in zip(ρᴸᴹᴱ, ρᴰᴹᴰ⁻ᴸᴹᴱ)]\n",
    "        Fᴰᴹᴰ⁻ᴷʳᵃᵘˢ⁻ᵛˢ⁻ˢᴮ  = [abs(fidelity(ρ₁, ρ₂)) for (ρ₁, ρ₂) in zip(ρᵗˢᵗ, ρᴰᴹᴰ⁻ˢᴮ⁻ᴷʳᵃᵘˢ)]\n",
    "        Fᴰᴹᴰ⁻ᴷʳᵃᵘˢ⁻ᵛˢ⁻ᴸᴹᴱ = [abs(fidelity(ρ₁, ρ₂)) for (ρ₁, ρ₂) in zip(ρᴸᴹᴱ, ρᴰᴹᴰ⁻ᴸᴹᴱ⁻ᴷʳᵃᵘˢ)]\n",
    "\n",
    "        Fᴸᴹᴱₑₓ = [abs(fidelity(ρ₁, ρ₂)) for (ρ₁, ρ₂) in zip(ρᵗˢᵗ, ρᴸᴹᴱ)]\n",
    "                    \n",
    "\n",
    "        h5open(tests_dir*tests_data_file_name,\"cw\") do fid\n",
    "            γ_group = open_group(fid, \"gamma_\"*γᵢ) # open coupling group\n",
    "\n",
    "            init_state_group = create_group(γ_group, df) # create initial state group\n",
    "\n",
    "            init_state_group[\"F_POP-vs-sb\"] = convert.(Float64, Fᴾᴼᴾ⁻ᵛˢ⁻ˢᴮ)\n",
    "            init_state_group[\"F_POP-vs-LME\"] = convert.(Float64, Fᴾᴼᴾ⁻ᵛˢ⁻ᴸᴹᴱ)\n",
    "            init_state_group[\"F_DMD-vs-sb\"] = convert.(Float64, Fᴰᴹᴰ⁻ᵛˢ⁻ˢᴮ) \n",
    "            init_state_group[\"F_DMD-vs-LME\"] = convert.(Float64, Fᴰᴹᴰ⁻ᵛˢ⁻ᴸᴹᴱ) \n",
    "            init_state_group[\"F_DMD-Kraus-vs-sb\"] = convert.(Float64, Fᴰᴹᴰ⁻ᴷʳᵃᵘˢ⁻ᵛˢ⁻ˢᴮ) \n",
    "            init_state_group[\"F_DMD-Kraus-vs-LME\"] = convert.(Float64, Fᴰᴹᴰ⁻ᴷʳᵃᵘˢ⁻ᵛˢ⁻ᴸᴹᴱ) \n",
    "\n",
    "            init_state_group[\"time\"] = convert.(Float64, tᵗˢᵗ[1:tₛₜₑₚₛ])\n",
    "            \n",
    "        end\n",
    "            \n",
    "        println(df*\" \", fmt12(minimum(Fᴾᴼᴾ⁻ᵛˢ⁻ˢᴮ)),\" \", \n",
    "                        fmt12(minimum(Fᴰᴹᴰ⁻ᵛˢ⁻ˢᴮ)),\" \", \n",
    "                        fmt12(minimum(Fᴰᴹᴰ⁻ᴷʳᵃᵘˢ⁻ᵛˢ⁻ˢᴮ)))\n",
    "            \n",
    "    end\n",
    "\n",
    "    print(\"Test for γ = \", γᵢ)\n",
    "    \n",
    "    println(\" done in \", time() - start_time )\n",
    "\n",
    "end\n",
    "\n",
    "println(\"All calculations finished.\")\n",
    "\n",
    "println(\"Tests saved in \", tests_data_file_name)\n"
   ]
  },
  {
   "cell_type": "code",
   "execution_count": null,
   "metadata": {},
   "outputs": [],
   "source": []
  }
 ],
 "metadata": {
  "kernelspec": {
   "display_name": "Julia 1.9.2",
   "language": "julia",
   "name": "julia-1.9"
  },
  "language_info": {
   "file_extension": ".jl",
   "mimetype": "application/julia",
   "name": "julia",
   "version": "1.9.2"
  },
  "orig_nbformat": 4
 },
 "nbformat": 4,
 "nbformat_minor": 2
}
