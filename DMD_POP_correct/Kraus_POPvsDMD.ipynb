{
 "cells": [
  {
   "cell_type": "code",
   "execution_count": 1,
   "metadata": {},
   "outputs": [],
   "source": [
    "include(\"LiPoSID.jl\")\n",
    "using QuantumOptics\n",
    "basis = NLevelBasis(2)\n",
    "using LinearAlgebra"
   ]
  },
  {
   "cell_type": "markdown",
   "metadata": {},
   "source": [
    "Load spin-boson data and simulate LME data "
   ]
  },
  {
   "cell_type": "code",
   "execution_count": 32,
   "metadata": {},
   "outputs": [],
   "source": [
    "data_dir = \"DATA/\"\n",
    "\n",
    "γ_list = [ \"0.079477\",  \"0.25133\", \"0.79477\", \"2.5133\", \"7.9477\", \"25.133\",  \"79.477\", \"251.33\"]\n",
    "γᵢ = γ_list[2]\n",
    "\n",
    "γᵢ = string(γᵢ)\n",
    "\n",
    "if γᵢ == \"0.0\" \n",
    "    ρᵉ, tᵉ = LiPoSID.get_rho_series(data_dir*\"State_B2_2CUT_data.h5\", \"0.079477\")\n",
    "    ρᵍ, tᵍ = LiPoSID.get_rho_series(data_dir*\"State_B1_2CUT_data.h5\", \"0.079477\")\n",
    "    ρˣ, tˣ = LiPoSID.get_rho_series(data_dir*\"State_B3_2CUT_data.h5\", \"0.079477\")\n",
    "    ρʸ, tʸ = LiPoSID.get_rho_series(data_dir*\"State_B4_2CUT_data.h5\", \"0.079477\")\n",
    "else \n",
    "    ρᵉ, tᵉ = LiPoSID.get_rho_series(data_dir*\"State_B2_2CUT_data.h5\", γᵢ)\n",
    "    ρᵍ, tᵍ = LiPoSID.get_rho_series(data_dir*\"State_B1_2CUT_data.h5\", γᵢ)\n",
    "    ρˣ, tˣ = LiPoSID.get_rho_series(data_dir*\"State_B3_2CUT_data.h5\", γᵢ)\n",
    "    ρʸ, tʸ = LiPoSID.get_rho_series(data_dir*\"State_B4_2CUT_data.h5\", γᵢ)\n",
    "end\n",
    "\n",
    "ωᶠ = 25.126\n",
    "\n",
    "Hᴸᴹᴱ = [ ωᶠ        0\n",
    "         0        0   ]\n",
    "\n",
    "γᶠ = parse(Float64, γᵢ)\n",
    "\n",
    "Aᴸᴹᴱ = [ 0    √γᶠ\n",
    "         0     0. + 0im  ]\n",
    "\n",
    "tᵉᶠ = convert.(Float64, tᵉ); tᵍᶠ = convert.(Float64, tᵍ); \n",
    "tˣᶠ = convert.(Float64, tˣ); tʸᶠ = convert.(Float64, tʸ); \n",
    "\n",
    "t = tˣᶠ\n",
    "Δt = t[2] - t[1] #0.02\n",
    "\n",
    "ρᵉᴸᴹᴱ = LiPoSID.Lindblad_time_evolution(basis, ρᵉ[1], tᵉᶠ, Hᴸᴹᴱ, [Aᴸᴹᴱ])\n",
    "ρᵍᴸᴹᴱ = LiPoSID.Lindblad_time_evolution(basis, ρᵍ[1], tᵍᶠ, Hᴸᴹᴱ, [Aᴸᴹᴱ])\n",
    "ρˣᴸᴹᴱ = LiPoSID.Lindblad_time_evolution(basis, ρˣ[1], tˣᶠ, Hᴸᴹᴱ, [Aᴸᴹᴱ])\n",
    "ρʸᴸᴹᴱ = LiPoSID.Lindblad_time_evolution(basis, ρʸ[1], tʸᶠ, Hᴸᴹᴱ, [Aᴸᴹᴱ]);\n"
   ]
  },
  {
   "cell_type": "markdown",
   "metadata": {},
   "source": [
    "Perform DMD"
   ]
  },
  {
   "cell_type": "code",
   "execution_count": 33,
   "metadata": {},
   "outputs": [
    {
     "data": {
      "text/plain": [
       "4×4 Matrix{Float64}:\n",
       " 0.985178     -0.166585     -9.72695e-12  9.6833e-12\n",
       " 0.166585      0.985178     -1.40108e-10  1.32683e-10\n",
       " 2.03323e-13  -3.89423e-13   0.998326     0.00167413\n",
       " 2.00361e-16   5.64652e-16  -1.38778e-15  1.0"
      ]
     },
     "metadata": {},
     "output_type": "display_data"
    }
   ],
   "source": [
    "Aᴰᴹᴰ⁻ˢᴮ = LiPoSID.direct_DMD_01XY_b4_A([ρᵉ, ρᵍ, ρˣ, ρʸ])\n",
    "Aᴰᴹᴰ⁻ᴸᴹᴱ = LiPoSID.direct_DMD_01XY_b4_A([ρᵉᴸᴹᴱ, ρᵍᴸᴹᴱ, ρˣᴸᴹᴱ, ρʸᴸᴹᴱ])"
   ]
  },
  {
   "cell_type": "markdown",
   "metadata": {},
   "source": [
    "QPT on one DMD step to find Kraus operator-sum representation"
   ]
  },
  {
   "cell_type": "code",
   "execution_count": 34,
   "metadata": {},
   "outputs": [
    {
     "name": "stdout",
     "output_type": "stream",
     "text": [
      "[-0.0001717271374018512, -8.463316694217566e-7, 0.0010104484285401723, 0.9991621250405306]"
     ]
    }
   ],
   "source": [
    "ρᵍ₀ = [1. 0]' * [1 0]\n",
    "ρᵉ₀ = [0. 1]' * [0 1]\n",
    "ρˣ₀ = [1  1]' * [1 1]/2\n",
    "ρʸ₀ = [1 -im]' * [1 -im]/2\n",
    "\n",
    "ρᵍ₁ᴸᴹᴱ = LiPoSID.DMD_step(Aᴰᴹᴰ⁻ᴸᴹᴱ, ρᵍ₀)\n",
    "ρᵉ₁ᴸᴹᴱ = LiPoSID.DMD_step(Aᴰᴹᴰ⁻ᴸᴹᴱ, ρᵉ₀)\n",
    "ρˣ₁ᴸᴹᴱ = LiPoSID.DMD_step(Aᴰᴹᴰ⁻ᴸᴹᴱ, ρˣ₀)\n",
    "ρʸ₁ᴸᴹᴱ = LiPoSID.DMD_step(Aᴰᴹᴰ⁻ᴸᴹᴱ, ρʸ₀)\n",
    "\n",
    "ρᵍ₁ˢᴮ = LiPoSID.DMD_step(Aᴰᴹᴰ⁻ˢᴮ, ρᵍ₀)\n",
    "ρᵉ₁ˢᴮ = LiPoSID.DMD_step(Aᴰᴹᴰ⁻ˢᴮ, ρᵉ₀)\n",
    "ρˣ₁ˢᴮ = LiPoSID.DMD_step(Aᴰᴹᴰ⁻ˢᴮ, ρˣ₀)\n",
    "ρʸ₁ˢᴮ = LiPoSID.DMD_step(Aᴰᴹᴰ⁻ˢᴮ, ρʸ₀)\n",
    "\n",
    "Eᴰᴹᴰ⁻ᴸᴹᴱ, dᴸᴹᴱ = LiPoSID.QPT(ρᵍ₁ᴸᴹᴱ, ρᵉ₁ᴸᴹᴱ, ρˣ₁ᴸᴹᴱ, ρʸ₁ᴸᴹᴱ)\n",
    "Eᴰᴹᴰ⁻ˢᴮ, dˢᴮ = LiPoSID.QPT(ρᵍ₁ˢᴮ, ρᵉ₁ˢᴮ, ρˣ₁ˢᴮ, ρʸ₁ˢᴮ)\n",
    "\n",
    "print(dˢᴮ) # one of eigenvalues is 10⁻⁴ negative for spin-boson data !!!"
   ]
  },
  {
   "cell_type": "code",
   "execution_count": 31,
   "metadata": {},
   "outputs": [
    {
     "data": {
      "text/plain": [
       "4-element Vector{Float64}:\n",
       " -0.00015396989514781766\n",
       "  5.546387344563031e-7\n",
       "  0.0009480763218229412\n",
       "  0.9992053389345906"
      ]
     },
     "metadata": {},
     "output_type": "display_data"
    }
   ],
   "source": [
    "dˢᴮ"
   ]
  },
  {
   "cell_type": "markdown",
   "metadata": {},
   "source": [
    "POP"
   ]
  },
  {
   "cell_type": "code",
   "execution_count": 17,
   "metadata": {},
   "outputs": [],
   "source": [
    "using DynamicPolynomials\n",
    "\n",
    "operators_num = length(Eᴰᴹᴰ⁻ˢᴮ) # 3\n",
    "\n",
    "@polyvar α[1:2, 1:2, 1:operators_num]\n",
    "@polyvar β[1:2, 1:2, 1:operators_num]\n",
    "\n",
    "\n",
    "Kₛ = []\n",
    "\n",
    "for i in 1:operators_num\n",
    "    K = α[:,:,i] + im * β[:,:,i]\n",
    "    push!(Kₛ, K)\n",
    "end\n",
    "\n",
    "objᵍ = LiPoSID.kraus_obj(ρᵍ, Kₛ)\n",
    "objᵉ = LiPoSID.kraus_obj(ρᵉ, Kₛ)\n",
    "objˣ = LiPoSID.kraus_obj(ρˣ, Kₛ)\n",
    "objʸ = LiPoSID.kraus_obj(ρʸ, Kₛ)\n",
    "\n",
    "objˢᴮ =  objᵍ + objᵉ + objˣ + objʸ\n",
    "\n",
    "objᵍᴸᴹᴱ = LiPoSID.kraus_obj(ρᵍᴸᴹᴱ, Kₛ)\n",
    "objᵉᴸᴹᴱ = LiPoSID.kraus_obj(ρᵉᴸᴹᴱ, Kₛ)\n",
    "objˣᴸᴹᴱ = LiPoSID.kraus_obj(ρˣᴸᴹᴱ, Kₛ)\n",
    "objʸᴸᴹᴱ = LiPoSID.kraus_obj(ρʸᴸᴹᴱ, Kₛ)\n",
    "\n",
    "objᴸᴹᴱ =  objᵍᴸᴹᴱ + objᵉᴸᴹᴱ + objˣᴸᴹᴱ + objʸᴸᴹᴱ\n",
    "\n",
    "constr = LiPoSID.frobenius_norm2(sum(k' * k for k in Kₛ) - I);\n"
   ]
  },
  {
   "cell_type": "code",
   "execution_count": null,
   "metadata": {},
   "outputs": [],
   "source": [
    "function solution_from_operator_sum(E)\n",
    "\n",
    "    sol = []\n",
    "\n",
    "    for e in E\n",
    "        # push α\n",
    "        push!(sol, real(e[1,1]))\n",
    "        push!(sol, real(e[2,1]))\n",
    "        push!(sol, real(e[1,2]))\n",
    "        push!(sol, real(e[2,2]))\n",
    "    end\n",
    "\n",
    "    for e in E\n",
    "        # push β \n",
    "        push!(sol, imag(e[1,1]))\n",
    "        push!(sol, imag(e[2,1]))\n",
    "        push!(sol, imag(e[1,2]))\n",
    "        push!(sol, imag(e[2,2]))\n",
    "    end\n",
    "\n",
    "    return convert.(Float64, sol)\n",
    "\n",
    "end\n",
    "\n",
    "solᴰᴹᴰ⁻ˢᴮ = solution_from_operator_sum(Eᴰᴹᴰ⁻ˢᴮ)\n",
    "solᴰᴹᴰ⁻ᴸᴹᴱ = solution_from_operator_sum(Eᴰᴹᴰ⁻ᴸᴹᴱ);"
   ]
  },
  {
   "cell_type": "code",
   "execution_count": 29,
   "metadata": {},
   "outputs": [
    {
     "data": {
      "text/plain": [
       "2×2 Matrix{Polynomial{true, Complex{Int64}}}:\n",
       " α₁₋₁₋₁ + (0+1im)β₁₋₁₋₁  α₁₋₂₋₁ + (0+1im)β₁₋₂₋₁\n",
       " α₂₋₁₋₁ + (0+1im)β₂₋₁₋₁  α₂₋₂₋₁ + (0+1im)β₂₋₂₋₁"
      ]
     },
     "metadata": {},
     "output_type": "display_data"
    }
   ],
   "source": [
    "Kₛ[1]"
   ]
  },
  {
   "cell_type": "code",
   "execution_count": 7,
   "metadata": {},
   "outputs": [],
   "source": [
    "using TSSOS"
   ]
  },
  {
   "cell_type": "markdown",
   "metadata": {},
   "source": [
    "Spin-boson"
   ]
  },
  {
   "cell_type": "code",
   "execution_count": 18,
   "metadata": {},
   "outputs": [
    {
     "name": "stdout",
     "output_type": "stream",
     "text": [
      "*********************************** TSSOS ***********************************\n",
      "Version 1.0.0, developed by Jie Wang, 2020--2023\n",
      "TSSOS is launching...\n"
     ]
    },
    {
     "name": "stdout",
     "output_type": "stream",
     "text": [
      "optimum = 0.00011596498709466529\n"
     ]
    },
    {
     "name": "stdout",
     "output_type": "stream",
     "text": [
      "Global optimality certified with relative optimality gap 0.001696%!\n"
     ]
    },
    {
     "data": {
      "text/plain": [
       "PolyVar{true}[α₁₋₁₋₁, α₂₋₁₋₁, α₁₋₂₋₁, α₂₋₂₋₁, α₁₋₁₋₂, α₂₋₁₋₂, α₁₋₂₋₂, α₂₋₂₋₂, α₁₋₁₋₃, α₂₋₁₋₃  …  β₁₋₂₋₁, β₂₋₂₋₁, β₁₋₁₋₂, β₂₋₁₋₂, β₁₋₂₋₂, β₂₋₂₋₂, β₁₋₁₋₃, β₂₋₁₋₃, β₁₋₂₋₃, β₂₋₂₋₃] => [-0.06817538004756007, -0.002057825298363371, -0.0074352894377520224, -0.01167990827923023, 0.7908952341027069, 0.0008703010664475472, 0.004854955029530062, 0.48733031161564544, 0.2987463656926836, -0.005917473960731478  …  0.02646169693242808, -0.12014318306808237, 0.4261602160349271, 0.0035014358852516565, 0.015256258939052476, 0.7538854664144, -0.29822768890535234, -0.00010300055740795718, 0.0012454042054803277, -0.11730366419144578]"
      ]
     },
     "metadata": {},
     "output_type": "display_data"
    }
   ],
   "source": [
    "solutionᴰᴹᴰ⁻ˢᴮ = variables(objˢᴮ) => solᴰᴹᴰ⁻ˢᴮ\n",
    "\n",
    "opt,solᴾᴼᴾ⁻ˢᴮ,data = tssos_first([objˢᴮ, constr], variables(objˢᴮ), maxdegree(objˢᴮ)÷2, numeq=1, solution=true, QUIET=true); \n",
    "\n",
    "solutionᴾᴼᴾ⁻ˢᴮ = variables(objˢᴮ) => solᴾᴼᴾ⁻ˢᴮ"
   ]
  },
  {
   "cell_type": "code",
   "execution_count": 19,
   "metadata": {},
   "outputs": [
    {
     "data": {
      "text/plain": [
       "0.0001329208744209609"
      ]
     },
     "metadata": {},
     "output_type": "display_data"
    }
   ],
   "source": [
    "convert(Float64, subs(objˢᴮ, solutionᴾᴼᴾ⁻ˢᴮ))"
   ]
  },
  {
   "cell_type": "code",
   "execution_count": 20,
   "metadata": {},
   "outputs": [
    {
     "data": {
      "text/plain": [
       "0.0002516249378459179"
      ]
     },
     "metadata": {},
     "output_type": "display_data"
    }
   ],
   "source": [
    "convert(Float64, subs(objˢᴮ, solutionᴰᴹᴰ⁻ˢᴮ))"
   ]
  },
  {
   "cell_type": "code",
   "execution_count": 21,
   "metadata": {},
   "outputs": [
    {
     "data": {
      "text/plain": [
       "true"
      ]
     },
     "metadata": {},
     "output_type": "display_data"
    }
   ],
   "source": [
    "convert(Float64, subs(objˢᴮ, solutionᴰᴹᴰ⁻ˢᴮ)) > convert(Float64, subs(objˢᴮ, solutionᴾᴼᴾ⁻ˢᴮ))"
   ]
  },
  {
   "cell_type": "markdown",
   "metadata": {},
   "source": [
    "LME"
   ]
  },
  {
   "cell_type": "code",
   "execution_count": 22,
   "metadata": {},
   "outputs": [
    {
     "name": "stdout",
     "output_type": "stream",
     "text": [
      "*********************************** TSSOS ***********************************\n",
      "Version 1.0.0, developed by Jie Wang, 2020--2023\n",
      "TSSOS is launching...\n"
     ]
    },
    {
     "name": "stdout",
     "output_type": "stream",
     "text": [
      "optimum = -5.7741888646504704e-6\n"
     ]
    },
    {
     "name": "stdout",
     "output_type": "stream",
     "text": [
      "Global optimality certified with relative optimality gap 0.000577%!\n"
     ]
    },
    {
     "data": {
      "text/plain": [
       "PolyVar{true}[α₁₋₁₋₁, α₂₋₁₋₁, α₁₋₂₋₁, α₂₋₂₋₁, α₁₋₁₋₂, α₂₋₁₋₂, α₁₋₂₋₂, α₂₋₂₋₂, α₁₋₁₋₃, α₂₋₁₋₃  …  β₁₋₂₋₁, β₂₋₂₋₁, β₁₋₁₋₂, β₂₋₁₋₂, β₁₋₂₋₂, β₂₋₂₋₂, β₁₋₁₋₃, β₂₋₁₋₃, β₁₋₂₋₃, β₂₋₂₋₃] => [-0.4979415273706021, -1.3524607371630385e-6, -0.004145741552723083, -0.7429513764836689, -0.1853736879917971, -4.274500546717768e-7, 0.029163558001829425, -0.00962809339371518, 0.43757894339972847, 9.32971960568954e-6  …  0.01118725724895354, 0.31877882078118014, -0.3172940615799985, -5.990445267638307e-7, 0.02276668493311423, -0.3670892674019886, 0.1360602625367783, -6.4203262551306805e-6, -0.002170180473002704, 0.329745972799668]"
      ]
     },
     "metadata": {},
     "output_type": "display_data"
    }
   ],
   "source": [
    "solutionᴰᴹᴰ⁻ᴸᴹᴱ = variables(objᴸᴹᴱ) => solᴰᴹᴰ⁻ᴸᴹᴱ\n",
    "\n",
    "opt,solᴾᴼᴾ⁻ᴸᴹᴱ,data = tssos_first([objᴸᴹᴱ, constr], variables(objᴸᴹᴱ), maxdegree(objᴸᴹᴱ)÷2, numeq=1, solution=true, QUIET=true);\n",
    "\n",
    "solutionᴾᴼᴾ⁻ᴸᴹᴱ = variables(objᴸᴹᴱ) => solᴾᴼᴾ⁻ᴸᴹᴱ"
   ]
  },
  {
   "cell_type": "code",
   "execution_count": 23,
   "metadata": {},
   "outputs": [
    {
     "data": {
      "text/plain": [
       "7.275957614183426e-12"
      ]
     },
     "metadata": {},
     "output_type": "display_data"
    }
   ],
   "source": [
    "convert(Float64, subs(objᴸᴹᴱ, solutionᴾᴼᴾ⁻ᴸᴹᴱ))\n"
   ]
  },
  {
   "cell_type": "code",
   "execution_count": 24,
   "metadata": {},
   "outputs": [
    {
     "data": {
      "text/plain": [
       "141.85225456279932"
      ]
     },
     "metadata": {},
     "output_type": "display_data"
    }
   ],
   "source": [
    "convert(Float64, subs(objᴸᴹᴱ, solutionᴰᴹᴰ⁻ᴸᴹᴱ))"
   ]
  },
  {
   "cell_type": "code",
   "execution_count": 25,
   "metadata": {},
   "outputs": [
    {
     "data": {
      "text/plain": [
       "true"
      ]
     },
     "metadata": {},
     "output_type": "display_data"
    }
   ],
   "source": [
    "convert(Float64, subs(objᴸᴹᴱ, solutionᴰᴹᴰ⁻ᴸᴹᴱ))> convert(Float64, subs(objᴸᴹᴱ, solutionᴾᴼᴾ⁻ᴸᴹᴱ))"
   ]
  },
  {
   "cell_type": "code",
   "execution_count": 36,
   "metadata": {},
   "outputs": [
    {
     "data": {
      "text/plain": [
       "3-element Vector{Matrix{Polynomial{true, ComplexF64}}}:\n",
       " [(-5.339947039293543e-9 + 0.9686252481984937im) (-1.4359179056818192e-15 - 2.199627432437654e-10im); (5.198124257191697e-6 + 1.1555107812329576e-10im) (5.796336585128487e-9 + 0.9678050392429287im)]\n",
       " [(0.00022124843598855925 + 2.308704774895905e-9im) (-6.329804459044095e-11 + 3.896850179382233e-15im); (5.054393346440616e-7 + 3.896850179382233e-15im) (-0.0002214359427087189 + 5.490612301386355e-10im)]\n",
       " [(4.555337069469106e-9 - 5.6815106033229354e-5im) (0.03985319821372898 - 3.654153947571599e-11im); (2.433072763111713e-11 + 7.986455662363599e-8im) (-6.135817129761322e-9 - 5.6815106033229354e-5im)]"
      ]
     },
     "metadata": {},
     "output_type": "display_data"
    }
   ],
   "source": [
    "subs.(Kₛ, solutionᴰᴹᴰ⁻ᴸᴹᴱ)"
   ]
  },
  {
   "cell_type": "code",
   "execution_count": 38,
   "metadata": {},
   "outputs": [
    {
     "data": {
      "text/plain": [
       "3-element Vector{Matrix{ComplexF64}}:\n",
       " [-5.339947039293543e-9 + 0.9686252481984937im -1.4359179056818192e-15 - 2.199627432437654e-10im; 5.198124257191697e-6 + 1.1555107812329576e-10im 5.796336585128487e-9 + 0.9678050392429287im]\n",
       " [0.00022124843598855925 + 2.308704774895905e-9im -6.329804459044095e-11 + 3.896850179382233e-15im; 5.054393346440616e-7 + 3.896850179382233e-15im -0.0002214359427087189 + 5.490612301386355e-10im]\n",
       " [4.555337069469106e-9 - 5.6815106033229354e-5im 0.03985319821372898 - 3.654153947571599e-11im; 2.433072763111713e-11 + 7.986455662363599e-8im -6.135817129761322e-9 - 5.6815106033229354e-5im]"
      ]
     },
     "metadata": {},
     "output_type": "display_data"
    }
   ],
   "source": [
    "[convert.(ComplexF64, subs(k, solutionᴰᴹᴰ⁻ᴸᴹᴱ)) for k in Kₛ]"
   ]
  },
  {
   "cell_type": "code",
   "execution_count": null,
   "metadata": {},
   "outputs": [],
   "source": []
  }
 ],
 "metadata": {
  "kernelspec": {
   "display_name": "Julia 1.9.2",
   "language": "julia",
   "name": "julia-1.9"
  },
  "language_info": {
   "file_extension": ".jl",
   "mimetype": "application/julia",
   "name": "julia",
   "version": "1.9.2"
  },
  "orig_nbformat": 4
 },
 "nbformat": 4,
 "nbformat_minor": 2
}
