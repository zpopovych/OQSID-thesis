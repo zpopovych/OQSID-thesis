{
 "cells": [
  {
   "cell_type": "code",
   "execution_count": 1,
   "metadata": {},
   "outputs": [
    {
     "data": {
      "text/plain": [
       "scaling_poly (generic function with 1 method)"
      ]
     },
     "metadata": {},
     "output_type": "display_data"
    }
   ],
   "source": [
    "include(\"LiPoSID.jl\")\n",
    "using QuantumOptics\n",
    "basis = NLevelBasis(2)\n",
    "using LinearAlgebra\n",
    "using DynamicPolynomials\n",
    "using Dates\n",
    "using TSSOS\n",
    "using HDF5\n",
    "using Formatting\n",
    "\n",
    "using HomotopyContinuation\n",
    "using JuMP\n",
    "\n",
    "fmt12 = generate_formatter(\"%1.12f\")\n",
    "\n",
    "function solution_from_operator_sum(E)\n",
    "\n",
    "    sol = []\n",
    "\n",
    "    for e in E\n",
    "        # push α\n",
    "        push!(sol, real(e[1,1]))\n",
    "        push!(sol, real(e[2,1]))\n",
    "        push!(sol, real(e[1,2]))\n",
    "        push!(sol, real(e[2,2]))\n",
    "    end\n",
    "\n",
    "    for e in E\n",
    "        # push β \n",
    "        push!(sol, imag(e[1,1]))\n",
    "        push!(sol, imag(e[2,1]))\n",
    "        push!(sol, imag(e[1,2]))\n",
    "        push!(sol, imag(e[2,2]))\n",
    "    end\n",
    "\n",
    "    return convert.(Float64, sol)\n",
    "\n",
    "end\n",
    "\n",
    "import Base.real\n",
    "\n",
    "function rm_micro_coefs(p::AbstractPolynomial, cutoff = 1e-7)\n",
    "    max_coef = maximum(abs.(coefficients(p)))\n",
    "    \n",
    "    sum(\n",
    "        [ abs(coef)/max_coef > cutoff ? real(coef) * mon : 0 for (coef, mon) in zip(coefficients(p), monomials(p))]\n",
    "        )\n",
    "end\n",
    "\n",
    "function scale_poly(p::Polynomial)\n",
    "    X = transpose(hcat([exponents(t) for t in terms(p)]...))\n",
    "\n",
    "    # Get the scaling via linear regression\n",
    "    scaling = X \\ log.(abs.(coefficients(p)))\n",
    "\n",
    "    scale = exp.(abs.(scaling))\n",
    "\n",
    "    # scale the polynomial\n",
    "    p_scaled = subs(p, variables(p) => scale .* variables(p))\n",
    "\n",
    "    return p_scaled\n",
    "end\n",
    "\n",
    "function scaling_poly(p::Polynomial)\n",
    "    X = transpose(hcat([exponents(t) for t in terms(p)]...))\n",
    "\n",
    "    # Get the scaling via linear regression\n",
    "    scaling = X \\ log.(abs.(coefficients(p)))\n",
    "\n",
    "    exp.(abs.(scaling))\n",
    "end\n",
    "\n"
   ]
  },
  {
   "cell_type": "code",
   "execution_count": 2,
   "metadata": {},
   "outputs": [
    {
     "data": {
      "text/plain": [
       "poly_min (generic function with 1 method)"
      ]
     },
     "metadata": {},
     "output_type": "display_data"
    }
   ],
   "source": [
    "function poly_min(p::Polynomial, constr)\n",
    "\n",
    "    # p = convert(Polynomial{true, Float64}, p)\n",
    "    ################################################################################################\n",
    "    #\n",
    "    #   Try HomotopyContinuation\n",
    "    #\n",
    "    ################################################################################################\n",
    "\n",
    "    # Find the critical points\n",
    "\n",
    "    #minimizer_homotopy = nothing\n",
    "\n",
    "    println(\">>> HomotopyContinuation \")\n",
    "    \n",
    "    try \n",
    "        @polyvar λ\n",
    "\n",
    "        # define Lagrangian\n",
    "        L = p - λ * constr;\n",
    "\n",
    "        ∇L = differentiate(L, [variables(p)..., λ])\n",
    "\n",
    "        result = HomotopyContinuation.solve(differentiate.(p, variables(p)))\n",
    "        critical_points = real_solutions(result)\n",
    "\n",
    "        # Get the exact values for the exact objective function for the found critical points\n",
    "        val_p = p.(critical_points)\n",
    "\n",
    "        if length(critical_points) > 0\n",
    "            global minimizer_homotopy = critical_points[argmin(val_p)]\n",
    "        else global minimizer_homotopy = nothing\n",
    "        end\n",
    "\n",
    "    catch\n",
    "        println(\" Homotopy failed\")\n",
    "        global minimizer_homotopy = nothing\n",
    "    #finally\n",
    "        #minimizer_homotopy = nothing\n",
    "    end\n",
    "\n",
    "    #optimum = minimum(val_p)\n",
    "\n",
    "    ################################################################################################\n",
    "    #\n",
    "    #   Try just plain TSSOS\n",
    "    #\n",
    "    ################################################################################################\n",
    "    #minimizer_tssos = nothing\n",
    "\n",
    "    println(\">>> just plain TSSOS \")\n",
    "\n",
    "    try \n",
    "\n",
    "        opt,sol,data = tssos_first([p, constr], variables(p), maxdegree(p)÷2, numeq=1, solution=true, QUIET=true)\n",
    "        #sb_tssos_higher = false\n",
    "        previous_sol = sol\n",
    "        #tssos_SDP_status1 = data.SDP_status\n",
    "    \n",
    "        while ~isnothing(sol)\n",
    "            println(\"--- TSSOS higher output: ---\")\n",
    "            tssos_higher = true\n",
    "            previous_sol = sol\n",
    "            opt,sol,data = tssos_higher!(data; QUIET=true, solution=true);\n",
    "            tssos_SDP_status2 = data.SDP_status\n",
    "            println(\"--- TSSOS higher output end ---\")\n",
    "        end\n",
    "\n",
    "        global minimizer_tssos = previous_sol\n",
    "            \n",
    "    catch\n",
    "        println(\" TSSOS failed\")\n",
    "        global minimizer_tssos = nothing\n",
    "    #finally\n",
    "        #minimizer_tssos = nothing\n",
    "    end\n",
    "\n",
    "    ################################################################################################\n",
    "    #\n",
    "    #   Try TSSOS on polynomial with scaled variables\n",
    "    #\n",
    "    ################################################################################################\n",
    "\n",
    "    # find variable scaling\n",
    "    scale = scaling_poly(p)\n",
    "\n",
    "    # scale the polynomial\n",
    "    p_scaled = subs(p, variables(p) => scale .* variables(p))\n",
    "    constr_scaled = subs(constr, variables(constr) => scale .* variables(constr))\n",
    "    # minimize\n",
    "    # minimizer_scaled_tssos = nothing\n",
    "\n",
    "    println(\">>> just SCALED TSSOS \")\n",
    "\n",
    "    try\n",
    "\n",
    "        opt,sol,data = tssos_first([p_scaled, constr_scaled], variables(p), maxdegree(p)÷2, numeq=1, solution=true, QUIET=true)\n",
    "        sb_tssos_higher = false\n",
    "        previous_sol = sol\n",
    "        tssos_SDP_status1 = data.SDP_status\n",
    "    \n",
    "        while ~isnothing(sol)\n",
    "            println(\"--- TSSOS SCALED higher output: ---\")\n",
    "            tssos_higher = true\n",
    "            previous_sol = sol\n",
    "            opt,sol,data = tssos_higher!(data; QUIET=true, solution=true);\n",
    "            tssos_SDP_status2 = data.SDP_status\n",
    "            println(\"--- TSSOS higher output end ---\")\n",
    "        end\n",
    "\n",
    "        global minimizer_scaled_tssos = scale .* previous_sol\n",
    "    \n",
    "    catch\n",
    "        println(\"Scaled TSSOS failed\")\n",
    "        global minimizer_scaled_tssos = nothing\n",
    "    #finally\n",
    "        #minimizer_scaled_tssos = nothing\n",
    "    end\n",
    "\n",
    "    ################################################################################################\n",
    "    #\n",
    "    #   Try TSSOS on polynomial with REMOVED micro coefficients\n",
    "    #\n",
    "    ################################################################################################\n",
    "\n",
    "    # find variable scaling\n",
    "    scale = scaling_poly(p)\n",
    "\n",
    "    # scale the polynomial\n",
    "    p_rm = rm_micro_coefs(p, 1e-7)\n",
    "\n",
    "    # minimize\n",
    "    # minimizer_rm_micro_tssos = nothing\n",
    "\n",
    "    println(\" >>> TSSOS with removing of mirco coefficients \")\n",
    "\n",
    "    try\n",
    "\n",
    "        opt,sol,data = tssos_first([p_rm, constr], variables(p), maxdegree(p)÷2, numeq=1, solution=true, QUIET=true)\n",
    "        sb_tssos_higher = false\n",
    "        previous_sol = sol\n",
    "        rm_tssos_SDP_status1 = data.SDP_status\n",
    "    \n",
    "        while ~isnothing(sol)\n",
    "            println(\"--- TSSOS higher RM output: ---\")\n",
    "            tssos_higher = true\n",
    "            previous_sol = sol\n",
    "            opt,sol,data = tssos_higher!(data; QUIET=true, solution=true);\n",
    "            rm_tssos_SDP_status2 = data.SDP_status\n",
    "            println(\"--- TSSOS higher output end ---\")\n",
    "        end\n",
    "\n",
    "        global minimizer_rm_micro_tssos = previous_sol\n",
    "    \n",
    "    catch\n",
    "        println(\"RM micro coefs TSSOS failed\")\n",
    "        global minimizer_rm_micro_tssos = nothing\n",
    "    #finally\n",
    "        #minimizer_rm_micro_tssos = nothing\n",
    "    end\n",
    "\n",
    "    ################################################################################################\n",
    "    #\n",
    "    #   Try TSSOS on polynomial with REMOVED micro coefs and SCALED variables\n",
    "    #\n",
    "    ################################################################################################\n",
    "\n",
    "    # find variable scaling\n",
    "    scale = scaling_poly(p)\n",
    "\n",
    "    # scale the polynomial\n",
    "    p_scaled = subs(p, variables(p) => scale .* variables(p))\n",
    "    constr_scaled = subs(constr, variables(constr) => scale .* variables(constr))\n",
    "    p_rm_scaled = rm_micro_coefs(p_scaled, 1e-7)\n",
    "\n",
    "    # minimize\n",
    "    # minimizer_scaled_tssos = nothing\n",
    "\n",
    "    println(\">>> SCALED TSSOS with removing of mirco coefficients\")\n",
    "\n",
    "    try\n",
    "\n",
    "        opt,sol,data = tssos_first([p_rm_scaled, constr_scaled], variables(p), maxdegree(p)÷2, numeq=1, solution=true, QUIET=true)\n",
    "        sb_tssos_higher = false\n",
    "        previous_sol = sol\n",
    "        rm_sc_tssos_SDP_status1 = data.SDP_status\n",
    "    \n",
    "        while ~isnothing(sol)\n",
    "            println(\"--- TSSOS higher RM&SCALED output: ---\")\n",
    "            tssos_higher = true\n",
    "            previous_sol = sol\n",
    "            opt,sol,data = tssos_higher!(data; QUIET=true, solution=true);\n",
    "            rm_sc_tssos_SDP_status2 = data.SDP_status\n",
    "            println(\"--- TSSOS higher output end ---\")\n",
    "        end\n",
    "\n",
    "        global minimizer_rm_scaled_tssos = scale .* previous_sol\n",
    "    \n",
    "    catch\n",
    "        println(\"RM&SCALED TSSOS failed\")\n",
    "        global minimizer_rm_scaled_tssos = nothing\n",
    "    #finally\n",
    "        #minimizer_scaled_tssos = nothing\n",
    "    end\n",
    "\n",
    "    ################################################################################################\n",
    "    #\n",
    "    #   Comparing\n",
    "    #\n",
    "    ################################################################################################\n",
    "    minimizers = [[minimizer_homotopy] [minimizer_tssos] [minimizer_scaled_tssos] [minimizer_rm_micro_tssos] [minimizer_rm_scaled_tssos]]\n",
    "    methods = [\"homotopy\" \"tssos\" \"scaled_tssos\" \"rm_micro_tssos\" \"rm_scaled_tssos\"]\n",
    "    sols_bits = .!isnothing.(minimizers)\n",
    "\n",
    "    minimizers_found = minimizers[sols_bits]\n",
    "    methods_found = methods[sols_bits]\n",
    "\n",
    "    if length(minimizers_found) > 0\n",
    "        val_p = p.(minimizers_found)\n",
    "        best_indx = argmin(val_p)\n",
    "        best_minimizer = minimizers_found[best_indx]\n",
    "        best_method = methods_found[best_indx]\n",
    "\n",
    "    else \n",
    "        print(\"All methods fail !!!\")\n",
    "        best_minimizer = ones(length(variables(p)))\n",
    "        best_method = \"fail\"\n",
    "    end\n",
    "\n",
    "    # best_solution = minimize_local(p, best_minimizer)\n",
    "\n",
    "    # best_solution = variables(p) => best_minimizer\n",
    "\n",
    "    return best_minimizer, best_method\n",
    "\n",
    "end"
   ]
  },
  {
   "cell_type": "markdown",
   "metadata": {},
   "source": [
    "For all γ: load spin-boson data, simulate LME data, perform 4d DMD, QPT, POP and chech fidelity for 20 states  "
   ]
  },
  {
   "cell_type": "code",
   "execution_count": 3,
   "metadata": {},
   "outputs": [
    {
     "name": "stdout",
     "output_type": "stream",
     "text": [
      "/home/zah/github/POP23/DATA/\n",
      "POP-Kraus_vs_DMD_trn4_polymin_models_2023-Sep-17_at_16-53.h5\n"
     ]
    },
    {
     "name": "stdout",
     "output_type": "stream",
     "text": [
      "γ = 0.079477\n",
      "------ Spin-boson:"
     ]
    },
    {
     "name": "stdout",
     "output_type": "stream",
     "text": [
      "\n",
      ">>> HomotopyContinuation "
     ]
    },
    {
     "name": "stdout",
     "output_type": "stream",
     "text": [
      "\n",
      " Homotopy failed"
     ]
    },
    {
     "name": "stdout",
     "output_type": "stream",
     "text": [
      "\n",
      ">>> just plain TSSOS \n",
      "*********************************** TSSOS ***********************************\n",
      "Version 1.0.0, developed by Jie Wang, 2020--2023\n",
      "TSSOS is launching...\n",
      "optimum = 0.00011596498709466529"
     ]
    },
    {
     "name": "stdout",
     "output_type": "stream",
     "text": [
      "\n",
      "\n",
      "******************************************************************************\n",
      "This program contains Ipopt, a library for large-scale nonlinear optimization.\n",
      " Ipopt is released as open source code under the Eclipse Public License (EPL).\n",
      "         For more information visit https://github.com/coin-or/Ipopt\n",
      "******************************************************************************\n",
      "\n",
      "Global optimality certified with relative optimality gap 0.001695%!\n"
     ]
    },
    {
     "name": "stdout",
     "output_type": "stream",
     "text": [
      "--- TSSOS higher output: ---\n"
     ]
    },
    {
     "name": "stdout",
     "output_type": "stream",
     "text": [
      "termination status: SLOW_PROGRESS\n",
      "solution status: FEASIBLE_POINT\n",
      "optimum = -0.0005255378731076901\n"
     ]
    },
    {
     "name": "stdout",
     "output_type": "stream",
     "text": [
      "Found a locally optimal solution by Ipopt, giving an upper bound: 0.00013292.\n",
      "The relative optimality gap is: 0.065846%.\n",
      "--- TSSOS higher output end ---\n",
      "--- TSSOS higher output: ---\n",
      "--- TSSOS higher output end ---\n",
      ">>> just SCALED TSSOS "
     ]
    },
    {
     "name": "stdout",
     "output_type": "stream",
     "text": [
      "\n",
      "*********************************** TSSOS ***********************************\n",
      "Version 1.0.0, developed by Jie Wang, 2020--2023\n",
      "TSSOS is launching...\n",
      "termination status: SLOW_PROGRESS"
     ]
    },
    {
     "name": "stdout",
     "output_type": "stream",
     "text": [
      "\n",
      "solution status: FEASIBLE_POINT\n",
      "optimum = -0.0002783143825887937\n",
      "The local solver failed refining the solution!"
     ]
    },
    {
     "name": "stdout",
     "output_type": "stream",
     "text": [
      "\n",
      "--- TSSOS SCALED higher output: ---\n",
      "termination status: SLOW_PROGRESS"
     ]
    },
    {
     "name": "stdout",
     "output_type": "stream",
     "text": [
      "\n",
      "solution status: FEASIBLE_POINT\n",
      "optimum = -0.0014806712227147703\n",
      "Found a locally optimal solution by Ipopt, giving an upper bound: 0.00013292.\n",
      "The relative optimality gap is: 0.161359%.\n"
     ]
    },
    {
     "name": "stdout",
     "output_type": "stream",
     "text": [
      "--- TSSOS higher output end ---\n",
      "--- TSSOS SCALED higher output: ---\n",
      "--- TSSOS higher output end ---\n"
     ]
    },
    {
     "name": "stdout",
     "output_type": "stream",
     "text": [
      " >>> TSSOS with removing of mirco coefficients \n",
      "*********************************** TSSOS ***********************************\n",
      "Version 1.0.0, developed by Jie Wang, 2020--2023\n",
      "TSSOS is launching...\n"
     ]
    },
    {
     "name": "stdout",
     "output_type": "stream",
     "text": [
      "optimum = 0.00011596498709466529\n"
     ]
    },
    {
     "name": "stdout",
     "output_type": "stream",
     "text": [
      "The local solver failed refining the solution!\n",
      "--- TSSOS higher RM output: ---\n"
     ]
    },
    {
     "name": "stdout",
     "output_type": "stream",
     "text": [
      "termination status: SLOW_PROGRESS\n",
      "solution status: FEASIBLE_POINT\n",
      "optimum = -0.0005255378731076901\n"
     ]
    },
    {
     "name": "stdout",
     "output_type": "stream",
     "text": [
      "The local solver failed refining the solution!\n",
      "--- TSSOS higher output end ---\n",
      "--- TSSOS higher RM output: ---\n",
      "--- TSSOS higher output end ---\n"
     ]
    },
    {
     "name": "stdout",
     "output_type": "stream",
     "text": [
      ">>> SCALED TSSOS with removing of mirco coefficients\n",
      "*********************************** TSSOS ***********************************\n",
      "Version 1.0.0, developed by Jie Wang, 2020--2023\n",
      "TSSOS is launching...\n"
     ]
    },
    {
     "name": "stdout",
     "output_type": "stream",
     "text": [
      "termination status: SLOW_PROGRESS\n",
      "solution status: FEASIBLE_POINT\n",
      "optimum = -0.0002783143825887937\n"
     ]
    },
    {
     "name": "stdout",
     "output_type": "stream",
     "text": [
      "Found a locally optimal solution by Ipopt, giving an upper bound: 0.00013291.\n",
      "The relative optimality gap is: 0.041122%.\n",
      "--- TSSOS higher RM&SCALED output: ---\n",
      "termination status: SLOW_PROGRESS"
     ]
    },
    {
     "name": "stdout",
     "output_type": "stream",
     "text": [
      "\n",
      "solution status: FEASIBLE_POINT\n",
      "optimum = -0.0014806712227147703\n",
      "Found a locally optimal solution by Ipopt, giving an upper bound: 0.00013292.\n",
      "The relative optimality gap is: 0.161360%.\n"
     ]
    },
    {
     "name": "stdout",
     "output_type": "stream",
     "text": [
      "--- TSSOS higher output end ---\n",
      "--- TSSOS higher RM&SCALED output: ---\n",
      "--- TSSOS higher output end ---\n"
     ]
    },
    {
     "name": "stdout",
     "output_type": "stream",
     "text": [
      "Best POP method for spin-boson: scaled_tssos\n",
      "------ LME:\n",
      ">>> HomotopyContinuation \n",
      " Homotopy failed"
     ]
    },
    {
     "name": "stdout",
     "output_type": "stream",
     "text": [
      "\n",
      ">>> just plain TSSOS \n",
      "*********************************** TSSOS ***********************************\n",
      "Version 1.0.0, developed by Jie Wang, 2020--2023\n",
      "TSSOS is launching...\n",
      "optimum = -5.7741888646504704e-6"
     ]
    },
    {
     "name": "stdout",
     "output_type": "stream",
     "text": [
      "\n",
      "Global optimality certified with relative optimality gap 0.000577%!\n"
     ]
    },
    {
     "name": "stdout",
     "output_type": "stream",
     "text": [
      "--- TSSOS higher output: ---\n"
     ]
    },
    {
     "name": "stdout",
     "output_type": "stream",
     "text": [
      "termination status: SLOW_PROGRESS\n",
      "solution status: FEASIBLE_POINT\n",
      "optimum = -0.00045400291676588083\n"
     ]
    },
    {
     "name": "stdout",
     "output_type": "stream",
     "text": [
      "Found a locally optimal solution by Ipopt, giving an upper bound: 0.00000000.\n",
      "The relative optimality gap is: 0.045400%.\n",
      "--- TSSOS higher output end ---\n",
      "--- TSSOS higher output: ---\n",
      "--- TSSOS higher output end ---\n",
      ">>> just SCALED TSSOS "
     ]
    },
    {
     "name": "stdout",
     "output_type": "stream",
     "text": [
      "\n",
      "*********************************** TSSOS ***********************************\n",
      "Version 1.0.0, developed by Jie Wang, 2020--2023\n",
      "TSSOS is launching...\n",
      "termination status: SLOW_PROGRESS"
     ]
    },
    {
     "name": "stdout",
     "output_type": "stream",
     "text": [
      "\n",
      "solution status: FEASIBLE_POINT\n",
      "optimum = -0.0013691169282987233\n",
      "Found a locally optimal solution by Ipopt, giving an upper bound: 0.00000000.\n",
      "The relative optimality gap is: 0.136912%.\n"
     ]
    },
    {
     "name": "stdout",
     "output_type": "stream",
     "text": [
      "--- TSSOS SCALED higher output: ---\n"
     ]
    },
    {
     "name": "stdout",
     "output_type": "stream",
     "text": [
      "termination status: SLOW_PROGRESS\n",
      "solution status: FEASIBLE_POINT\n",
      "optimum = -0.0009962521406678357\n"
     ]
    },
    {
     "name": "stdout",
     "output_type": "stream",
     "text": [
      "Found a locally optimal solution by Ipopt, giving an upper bound: 0.00000000.\n",
      "The relative optimality gap is: 0.099625%.\n",
      "--- TSSOS higher output end ---\n",
      "--- TSSOS SCALED higher output: ---\n",
      "--- TSSOS higher output end ---\n",
      " >>> TSSOS with removing of mirco coefficients "
     ]
    },
    {
     "name": "stdout",
     "output_type": "stream",
     "text": [
      "\n",
      "*********************************** TSSOS ***********************************\n",
      "Version 1.0.0, developed by Jie Wang, 2020--2023\n",
      "TSSOS is launching...\n",
      "optimum = -2.895608851885339e-6"
     ]
    },
    {
     "name": "stdout",
     "output_type": "stream",
     "text": [
      "\n",
      "Global optimality certified with relative optimality gap 0.000290%!\n"
     ]
    },
    {
     "name": "stdout",
     "output_type": "stream",
     "text": [
      "--- TSSOS higher RM output: ---\n"
     ]
    },
    {
     "name": "stdout",
     "output_type": "stream",
     "text": [
      "termination status: SLOW_PROGRESS\n",
      "solution status: FEASIBLE_POINT\n",
      "optimum = -0.0005613456950847579\n"
     ]
    },
    {
     "name": "stdout",
     "output_type": "stream",
     "text": [
      "Found a locally optimal solution by Ipopt, giving an upper bound: -0.00000000.\n",
      "The relative optimality gap is: 0.056135%.\n",
      "--- TSSOS higher output end ---\n",
      "--- TSSOS higher RM output: ---\n",
      "--- TSSOS higher output end ---\n",
      ">>> SCALED TSSOS with removing of mirco coefficients"
     ]
    },
    {
     "name": "stdout",
     "output_type": "stream",
     "text": [
      "\n",
      "*********************************** TSSOS ***********************************\n",
      "Version 1.0.0, developed by Jie Wang, 2020--2023\n",
      "TSSOS is launching...\n",
      "termination status: SLOW_PROGRESS"
     ]
    },
    {
     "name": "stdout",
     "output_type": "stream",
     "text": [
      "\n",
      "solution status: FEASIBLE_POINT\n",
      "optimum = -0.0013339335482636075\n",
      "Found a locally optimal solution by Ipopt, giving an upper bound: 0.00000000.\n",
      "The relative optimality gap is: 0.133393%.\n"
     ]
    },
    {
     "name": "stdout",
     "output_type": "stream",
     "text": [
      "--- TSSOS higher RM&SCALED output: ---\n"
     ]
    },
    {
     "name": "stdout",
     "output_type": "stream",
     "text": [
      "termination status: SLOW_PROGRESS\n",
      "solution status: FEASIBLE_POINT\n",
      "optimum = -0.0009793240635870722\n"
     ]
    },
    {
     "name": "stdout",
     "output_type": "stream",
     "text": [
      "Found a locally optimal solution by Ipopt, giving an upper bound: -0.00000000.\n",
      "The relative optimality gap is: 0.097932%.\n",
      "--- TSSOS higher output end ---\n",
      "--- TSSOS higher RM&SCALED output: ---\n",
      "--- TSSOS higher output end ---\n",
      "Best POP method for LME: tssos\n"
     ]
    },
    {
     "name": "stdout",
     "output_type": "stream",
     "text": [
      "\n",
      " Minimum fidelities vs spin-boson of \n",
      "         POP:      DMD:     Kraus-corrected DMD:\n",
      "State_D1 "
     ]
    },
    {
     "name": "stdout",
     "output_type": "stream",
     "text": [
      "0.990126750578 0.999987563196 0.962996804761\n",
      "State_D2 0.990189432053 0.999994527976 0.963163475048\n",
      "State_D3 "
     ]
    },
    {
     "name": "stdout",
     "output_type": "stream",
     "text": [
      "0.999024575504 0.999998299335 0.992240011079\n",
      "State_D4 0.999028265874 0.999998325512 0.992263143197\n",
      "State_D5 "
     ]
    },
    {
     "name": "stdout",
     "output_type": "stream",
     "text": [
      "0.993381821581 0.999997973970 0.971515101559\n"
     ]
    },
    {
     "name": "stdout",
     "output_type": "stream",
     "text": [
      "State_D6 0.993381817274 0.999997726099 0.971515741764\n",
      "State_D7 0.996611008620 0.999998504420 0.981929789405\n"
     ]
    },
    {
     "name": "stdout",
     "output_type": "stream",
     "text": [
      "State_D8 0.996622346546 0.999998526572 0.981984467634\n",
      "State_D9 0.983123637697 0.999954877947 0.948117826516\n"
     ]
    },
    {
     "name": "stdout",
     "output_type": "stream",
     "text": [
      "State_D10 0.999705657403 0.999998098439 0.995822401393\n",
      "State_D11 0.999024553466 0.999998286985 0.992240058363\n"
     ]
    },
    {
     "name": "stdout",
     "output_type": "stream",
     "text": [
      "State_D12 0.999028318754 0.999998326272 0.992262746119\n",
      "State_D13 0.990127382974 0.999985588484 0.962998468152\n"
     ]
    },
    {
     "name": "stdout",
     "output_type": "stream",
     "text": [
      "State_D14 0.990189245806 0.999994474463 0.963162781016\n",
      "State_D15 0.998363927230 0.999998384120 0.989097200547\n"
     ]
    },
    {
     "name": "stdout",
     "output_type": "stream",
     "text": [
      "State_D16 0.998364002980 0.999998402721 0.989096804304\n",
      "State_D17 0.996610975986 0.999998498061 0.981929732349\n"
     ]
    },
    {
     "name": "stdout",
     "output_type": "stream",
     "text": [
      "State_D18 0.996622381249 0.999998522385 0.981984815970\n",
      "State_D19 0.999705669046 0.999997964515 0.995822308387\n"
     ]
    },
    {
     "name": "stdout",
     "output_type": "stream",
     "text": [
      "State_D20 0.983123928620 0.999955079724 0.948118083927\n",
      "Test for γ = 0.079477 done in 7.472862005233765\n",
      "γ = 0.25133\n",
      "------ Spin-boson:"
     ]
    },
    {
     "name": "stdout",
     "output_type": "stream",
     "text": [
      "\n",
      ">>> HomotopyContinuation \n",
      " Homotopy failed"
     ]
    },
    {
     "name": "stdout",
     "output_type": "stream",
     "text": [
      "\n",
      ">>> just plain TSSOS \n",
      "*********************************** TSSOS ***********************************\n",
      "Version 1.0.0, developed by Jie Wang, 2020--2023\n",
      "TSSOS is launching...\n",
      "termination status: SLOW_PROGRESS"
     ]
    },
    {
     "name": "stdout",
     "output_type": "stream",
     "text": [
      "\n",
      "solution status: FEASIBLE_POINT\n",
      "optimum = -9.386490662501724e-5\n",
      "Found a locally optimal solution by Ipopt, giving an upper bound: 0.00023838.\n",
      "The relative optimality gap is: 0.033225%.\n"
     ]
    },
    {
     "name": "stdout",
     "output_type": "stream",
     "text": [
      "--- TSSOS higher output: ---\n"
     ]
    },
    {
     "name": "stdout",
     "output_type": "stream",
     "text": [
      "optimum = 0.0002278083039377023\n"
     ]
    },
    {
     "name": "stdout",
     "output_type": "stream",
     "text": [
      "Global optimality certified with relative optimality gap 0.001059%!\n",
      "--- TSSOS higher output end ---\n",
      "--- TSSOS higher output: ---\n",
      "--- TSSOS higher output end ---\n",
      ">>> just SCALED TSSOS "
     ]
    },
    {
     "name": "stdout",
     "output_type": "stream",
     "text": [
      "\n",
      "*********************************** TSSOS ***********************************\n",
      "Version 1.0.0, developed by Jie Wang, 2020--2023\n",
      "TSSOS is launching...\n",
      "termination status: SLOW_PROGRESS"
     ]
    },
    {
     "name": "stdout",
     "output_type": "stream",
     "text": [
      "\n",
      "solution status: UNKNOWN_RESULT_STATUS\n",
      "optimum = -0.005174039439221293\n",
      "The local solver failed refining the solution!"
     ]
    },
    {
     "name": "stdout",
     "output_type": "stream",
     "text": [
      "\n",
      "--- TSSOS SCALED higher output: ---\n",
      "termination status: SLOW_PROGRESS"
     ]
    },
    {
     "name": "stdout",
     "output_type": "stream",
     "text": [
      "\n",
      "solution status: UNKNOWN_RESULT_STATUS\n",
      "optimum = -0.0051415292410268935\n",
      "Found a locally optimal solution by Ipopt, giving an upper bound: 0.00023838.\n",
      "The relative optimality gap is: 0.537991%.\n"
     ]
    },
    {
     "name": "stdout",
     "output_type": "stream",
     "text": [
      "--- TSSOS higher output end ---\n",
      "--- TSSOS SCALED higher output: ---\n",
      "--- TSSOS higher output end ---\n",
      " >>> TSSOS with removing of mirco coefficients \n",
      "*********************************** TSSOS ***********************************\n",
      "Version 1.0.0, developed by Jie Wang, 2020--2023\n",
      "TSSOS is launching...\n"
     ]
    },
    {
     "name": "stdout",
     "output_type": "stream",
     "text": [
      "termination status: SLOW_PROGRESS\n",
      "solution status: FEASIBLE_POINT\n",
      "optimum = -9.386490662501724e-5\n"
     ]
    },
    {
     "name": "stdout",
     "output_type": "stream",
     "text": [
      "Found a locally optimal solution by Ipopt, giving an upper bound: 0.00023840.\n",
      "The relative optimality gap is: 0.033226%.\n",
      "--- TSSOS higher RM output: ---\n",
      "optimum = 0.0002278083039377023"
     ]
    },
    {
     "name": "stdout",
     "output_type": "stream",
     "text": [
      "\n",
      "Global optimality certified with relative optimality gap 0.001058%!\n"
     ]
    },
    {
     "name": "stdout",
     "output_type": "stream",
     "text": [
      "--- TSSOS higher output end ---\n",
      "--- TSSOS higher RM output: ---\n",
      "--- TSSOS higher output end ---\n",
      ">>> SCALED TSSOS with removing of mirco coefficients\n",
      "*********************************** TSSOS ***********************************\n",
      "Version 1.0.0, developed by Jie Wang, 2020--2023\n",
      "TSSOS is launching...\n"
     ]
    },
    {
     "name": "stdout",
     "output_type": "stream",
     "text": [
      "termination status: SLOW_PROGRESS\n",
      "solution status: UNKNOWN_RESULT_STATUS\n",
      "optimum = -0.005174039439221293\n"
     ]
    },
    {
     "name": "stdout",
     "output_type": "stream",
     "text": [
      "Found a locally optimal solution by Ipopt, giving an upper bound: 0.00023841.\n",
      "The relative optimality gap is: 0.541245%.\n",
      "--- TSSOS higher RM&SCALED output: ---\n",
      "termination status: SLOW_PROGRESS"
     ]
    },
    {
     "name": "stdout",
     "output_type": "stream",
     "text": [
      "\n",
      "solution status: UNKNOWN_RESULT_STATUS\n",
      "optimum = -0.0051415292410268935\n",
      "Found a locally optimal solution by Ipopt, giving an upper bound: 0.00023840.\n",
      "The relative optimality gap is: 0.537993%.\n"
     ]
    },
    {
     "name": "stdout",
     "output_type": "stream",
     "text": [
      "--- TSSOS higher output end ---\n",
      "--- TSSOS higher RM&SCALED output: ---\n",
      "--- TSSOS higher output end ---\n",
      "Best POP method for spin-boson: rm_micro_tssos\n",
      "------ LME:\n",
      ">>> HomotopyContinuation \n",
      " Homotopy failed"
     ]
    },
    {
     "name": "stdout",
     "output_type": "stream",
     "text": [
      "\n",
      ">>> just plain TSSOS \n",
      "*********************************** TSSOS ***********************************\n",
      "Version 1.0.0, developed by Jie Wang, 2020--2023\n",
      "TSSOS is launching...\n",
      "termination status: SLOW_PROGRESS"
     ]
    },
    {
     "name": "stdout",
     "output_type": "stream",
     "text": [
      "\n",
      "solution status: UNKNOWN_RESULT_STATUS\n",
      "optimum = -0.002394678572616237\n",
      "Found a locally optimal solution by Ipopt, giving an upper bound: 0.00000000.\n",
      "The relative optimality gap is: 0.239468%.\n"
     ]
    },
    {
     "name": "stdout",
     "output_type": "stream",
     "text": [
      "--- TSSOS higher output: ---\n"
     ]
    },
    {
     "name": "stdout",
     "output_type": "stream",
     "text": [
      "termination status: SLOW_PROGRESS\n",
      "solution status: UNKNOWN_RESULT_STATUS\n",
      "optimum = -0.0041340803737735105\n"
     ]
    },
    {
     "name": "stdout",
     "output_type": "stream",
     "text": [
      "Found a locally optimal solution by Ipopt, giving an upper bound: 0.00000000.\n",
      "The relative optimality gap is: 0.413408%.\n",
      "--- TSSOS higher output end ---\n",
      "--- TSSOS higher output: ---\n",
      "--- TSSOS higher output end ---\n",
      ">>> just SCALED TSSOS \n",
      "*********************************** TSSOS ***********************************\n",
      "Version 1.0.0, developed by Jie Wang, 2020--2023\n",
      "TSSOS is launching...\n",
      "termination status: SLOW_PROGRESS"
     ]
    },
    {
     "name": "stdout",
     "output_type": "stream",
     "text": [
      "\n",
      "solution status: FEASIBLE_POINT\n",
      "optimum = -0.0013748724659177563\n",
      "Found a locally optimal solution by Ipopt, giving an upper bound: 0.00000000.\n",
      "The relative optimality gap is: 0.137487%.\n"
     ]
    },
    {
     "name": "stdout",
     "output_type": "stream",
     "text": [
      "--- TSSOS SCALED higher output: ---\n"
     ]
    },
    {
     "name": "stdout",
     "output_type": "stream",
     "text": [
      "termination status: SLOW_PROGRESS\n",
      "solution status: UNKNOWN_RESULT_STATUS\n",
      "optimum = -0.0026523520020522483\n"
     ]
    },
    {
     "name": "stdout",
     "output_type": "stream",
     "text": [
      "Found a locally optimal solution by Ipopt, giving an upper bound: 0.00000001.\n",
      "The relative optimality gap is: 0.265236%.\n",
      "--- TSSOS higher output end ---\n",
      "--- TSSOS SCALED higher output: ---\n",
      "--- TSSOS higher output end ---\n",
      " >>> TSSOS with removing of mirco coefficients \n",
      "*********************************** TSSOS ***********************************\n",
      "Version 1.0.0, developed by Jie Wang, 2020--2023\n",
      "TSSOS is launching...\n",
      "termination status: SLOW_PROGRESS"
     ]
    },
    {
     "name": "stdout",
     "output_type": "stream",
     "text": [
      "\n",
      "solution status: UNKNOWN_RESULT_STATUS\n",
      "optimum = -0.002394678572616237\n",
      "Found a locally optimal solution by Ipopt, giving an upper bound: 0.00000001.\n",
      "The relative optimality gap is: 0.239469%.\n"
     ]
    },
    {
     "name": "stdout",
     "output_type": "stream",
     "text": [
      "--- TSSOS higher RM output: ---\n"
     ]
    },
    {
     "name": "stdout",
     "output_type": "stream",
     "text": [
      "termination status: SLOW_PROGRESS\n",
      "solution status: UNKNOWN_RESULT_STATUS\n",
      "optimum = -0.0041340803737735105\n"
     ]
    },
    {
     "name": "stdout",
     "output_type": "stream",
     "text": [
      "Found a locally optimal solution by Ipopt, giving an upper bound: 0.00000000.\n",
      "The relative optimality gap is: 0.413408%.\n",
      "--- TSSOS higher output end ---\n",
      "--- TSSOS higher RM output: ---\n",
      "--- TSSOS higher output end ---\n",
      ">>> SCALED TSSOS with removing of mirco coefficients\n",
      "*********************************** TSSOS ***********************************\n",
      "Version 1.0.0, developed by Jie Wang, 2020--2023\n",
      "TSSOS is launching...\n",
      "termination status: SLOW_PROGRESS"
     ]
    },
    {
     "name": "stdout",
     "output_type": "stream",
     "text": [
      "\n",
      "solution status: FEASIBLE_POINT\n",
      "optimum = -0.001372291131182489\n",
      "Found a locally optimal solution by Ipopt, giving an upper bound: -0.00000008.\n",
      "The relative optimality gap is: 0.137222%.\n"
     ]
    },
    {
     "name": "stdout",
     "output_type": "stream",
     "text": [
      "--- TSSOS higher RM&SCALED output: ---\n"
     ]
    },
    {
     "name": "stdout",
     "output_type": "stream",
     "text": [
      "termination status: SLOW_PROGRESS\n",
      "solution status: FEASIBLE_POINT\n",
      "optimum = -0.0027289239643881282\n"
     ]
    },
    {
     "name": "stdout",
     "output_type": "stream",
     "text": [
      "Found a locally optimal solution by Ipopt, giving an upper bound: -0.00000008.\n",
      "The relative optimality gap is: 0.272885%.\n",
      "--- TSSOS higher output end ---\n",
      "--- TSSOS higher RM&SCALED output: ---\n",
      "--- TSSOS higher output end ---\n",
      "Best POP method for LME: rm_micro_tssos\n",
      "\n",
      " Minimum fidelities vs spin-boson of \n",
      "         POP:      DMD:     Kraus-corrected DMD:\n",
      "State_D1 "
     ]
    },
    {
     "name": "stdout",
     "output_type": "stream",
     "text": [
      "0.992512033686 0.999971975116 0.945083831246\n"
     ]
    },
    {
     "name": "stdout",
     "output_type": "stream",
     "text": [
      "State_D2 0.992498784415 0.999987105594 0.945048718703\n",
      "State_D3 "
     ]
    },
    {
     "name": "stdout",
     "output_type": "stream",
     "text": [
      "0.993926924179 0.999997452511 0.949767182287\n"
     ]
    },
    {
     "name": "stdout",
     "output_type": "stream",
     "text": [
      "State_D4 0.993907238302 0.999997149462 0.949716194613\n",
      "State_D5 "
     ]
    },
    {
     "name": "stdout",
     "output_type": "stream",
     "text": [
      "0.992684546990 0.999995698005 0.945623986506\n"
     ]
    },
    {
     "name": "stdout",
     "output_type": "stream",
     "text": [
      "State_D6 0.992685581019 0.999994499122 0.945626514520\n",
      "State_D7 "
     ]
    },
    {
     "name": "stdout",
     "output_type": "stream",
     "text": [
      "0.993105901506 0.999999341213 0.946966564074\n"
     ]
    },
    {
     "name": "stdout",
     "output_type": "stream",
     "text": [
      "State_D8 0.993080110070 0.999999064353 0.946901216167\n",
      "State_D9 "
     ]
    },
    {
     "name": "stdout",
     "output_type": "stream",
     "text": [
      "0.992367102521 0.999936324641 0.944650605643\n"
     ]
    },
    {
     "name": "stdout",
     "output_type": "stream",
     "text": [
      "State_D10 0.994466633827 0.999995844637 0.951736978559\n",
      "State_D11 "
     ]
    },
    {
     "name": "stdout",
     "output_type": "stream",
     "text": [
      "0.993927044564 0.999996139681 0.949768031280\n"
     ]
    },
    {
     "name": "stdout",
     "output_type": "stream",
     "text": [
      "State_D12 0.993905793426 0.999997020244 0.949712347018\n",
      "State_D13 "
     ]
    },
    {
     "name": "stdout",
     "output_type": "stream",
     "text": [
      "0.992513083144 0.999961598891 0.945086046560\n"
     ]
    },
    {
     "name": "stdout",
     "output_type": "stream",
     "text": [
      "State_D14 0.992500199438 0.999985875755 0.945052884298\n",
      "State_D15 "
     ]
    },
    {
     "name": "stdout",
     "output_type": "stream",
     "text": [
      "0.993586275206 0.999997506366 0.948589947916\n"
     ]
    },
    {
     "name": "stdout",
     "output_type": "stream",
     "text": [
      "State_D16 0.993586375748 0.999998138242 0.948590027302\n",
      "State_D17 "
     ]
    },
    {
     "name": "stdout",
     "output_type": "stream",
     "text": [
      "0.993106250295 0.999998986953 0.946968250030\n"
     ]
    },
    {
     "name": "stdout",
     "output_type": "stream",
     "text": [
      "State_D18 0.993080183298 0.999999277481 0.946900839031\n",
      "State_D19 "
     ]
    },
    {
     "name": "stdout",
     "output_type": "stream",
     "text": [
      "0.994466552501 0.999995186996 0.951736966367\n"
     ]
    },
    {
     "name": "stdout",
     "output_type": "stream",
     "text": [
      "State_D20 0.992368902089 0.999928070321 0.944655586089\n",
      "Test for γ = 0.25133 done in 3.4117989540100098\n",
      "γ = 0.79477\n",
      "------ Spin-boson:"
     ]
    },
    {
     "name": "stdout",
     "output_type": "stream",
     "text": [
      "\n",
      ">>> HomotopyContinuation \n",
      " Homotopy failed"
     ]
    },
    {
     "name": "stdout",
     "output_type": "stream",
     "text": [
      "\n",
      ">>> just plain TSSOS \n",
      "*********************************** TSSOS ***********************************\n",
      "Version 1.0.0, developed by Jie Wang, 2020--2023\n",
      "TSSOS is launching...\n",
      "termination status: SLOW_PROGRESS"
     ]
    },
    {
     "name": "stdout",
     "output_type": "stream",
     "text": [
      "\n",
      "solution status: FEASIBLE_POINT\n",
      "optimum = 0.0002369503603547458\n",
      "Global optimality certified with relative optimality gap 0.003100%!\n"
     ]
    },
    {
     "name": "stdout",
     "output_type": "stream",
     "text": [
      "--- TSSOS higher output: ---\n"
     ]
    },
    {
     "name": "stdout",
     "output_type": "stream",
     "text": [
      "termination status: SLOW_PROGRESS\n",
      "solution status: FEASIBLE_POINT\n",
      "optimum = -0.0003395731204091199\n"
     ]
    },
    {
     "name": "stdout",
     "output_type": "stream",
     "text": [
      "The local solver failed refining the solution!\n",
      "--- TSSOS higher output end ---\n",
      "--- TSSOS higher output: ---\n",
      "--- TSSOS higher output end ---\n",
      ">>> just SCALED TSSOS \n",
      "*********************************** TSSOS ***********************************\n",
      "Version 1.0.0, developed by Jie Wang, 2020--2023\n",
      "TSSOS is launching...\n"
     ]
    },
    {
     "name": "stdout",
     "output_type": "stream",
     "text": [
      "termination status: SLOW_PROGRESS\n",
      "solution status: UNKNOWN_RESULT_STATUS\n",
      "optimum = -0.003482614117067695\n"
     ]
    },
    {
     "name": "stdout",
     "output_type": "stream",
     "text": [
      "The local solver failed refining the solution!\n",
      "--- TSSOS SCALED higher output: ---\n"
     ]
    },
    {
     "name": "stdout",
     "output_type": "stream",
     "text": [
      "termination status: SLOW_PROGRESS\n",
      "solution status: UNKNOWN_RESULT_STATUS\n",
      "optimum = -0.00187432615573448\n"
     ]
    },
    {
     "name": "stdout",
     "output_type": "stream",
     "text": [
      "The local solver failed refining the solution!\n",
      "--- TSSOS higher output end ---\n",
      "--- TSSOS SCALED higher output: ---\n",
      "--- TSSOS higher output end ---\n",
      " >>> TSSOS with removing of mirco coefficients \n",
      "*********************************** TSSOS ***********************************\n",
      "Version 1.0.0, developed by Jie Wang, 2020--2023\n",
      "TSSOS is launching...\n"
     ]
    },
    {
     "name": "stdout",
     "output_type": "stream",
     "text": [
      "termination status: SLOW_PROGRESS\n",
      "solution status: FEASIBLE_POINT\n",
      "optimum = 0.0002369503603547458\n"
     ]
    },
    {
     "name": "stdout",
     "output_type": "stream",
     "text": [
      "Global optimality certified with relative optimality gap 0.003100%!\n",
      "--- TSSOS higher RM output: ---\n",
      "termination status: SLOW_PROGRESS"
     ]
    },
    {
     "name": "stdout",
     "output_type": "stream",
     "text": [
      "\n",
      "solution status: FEASIBLE_POINT\n",
      "optimum = -0.0003395731204091199\n",
      "Found a locally optimal solution by Ipopt, giving an upper bound: 0.00026798.\n",
      "The relative optimality gap is: 0.060755%.\n"
     ]
    },
    {
     "name": "stdout",
     "output_type": "stream",
     "text": [
      "--- TSSOS higher output end ---\n",
      "--- TSSOS higher RM output: ---\n",
      "--- TSSOS higher output end ---\n",
      ">>> SCALED TSSOS with removing of mirco coefficients\n",
      "*********************************** TSSOS ***********************************\n",
      "Version 1.0.0, developed by Jie Wang, 2020--2023\n",
      "TSSOS is launching...\n"
     ]
    },
    {
     "name": "stdout",
     "output_type": "stream",
     "text": [
      "termination status: SLOW_PROGRESS\n",
      "solution status: UNKNOWN_RESULT_STATUS\n",
      "optimum = -0.003482614117067695\n"
     ]
    },
    {
     "name": "stdout",
     "output_type": "stream",
     "text": [
      "Found a locally optimal solution by Ipopt, giving an upper bound: 0.00026796.\n",
      "The relative optimality gap is: 0.375058%.\n",
      "--- TSSOS higher RM&SCALED output: ---\n",
      "termination status: SLOW_PROGRESS"
     ]
    },
    {
     "name": "stdout",
     "output_type": "stream",
     "text": [
      "\n",
      "solution status: UNKNOWN_RESULT_STATUS\n",
      "optimum = -0.00187432615573448\n",
      "The local solver failed refining the solution!"
     ]
    },
    {
     "name": "stdout",
     "output_type": "stream",
     "text": [
      "\n",
      "--- TSSOS higher output end ---\n",
      "--- TSSOS higher RM&SCALED output: ---\n",
      "--- TSSOS higher output end ---\n",
      "Best POP method for spin-boson: rm_micro_tssos\n",
      "------ LME:\n",
      ">>> HomotopyContinuation \n"
     ]
    },
    {
     "name": "stdout",
     "output_type": "stream",
     "text": [
      " Homotopy failed\n",
      ">>> just plain TSSOS \n",
      "*********************************** TSSOS ***********************************\n",
      "Version 1.0.0, developed by Jie Wang, 2020--2023\n",
      "TSSOS is launching...\n"
     ]
    },
    {
     "name": "stdout",
     "output_type": "stream",
     "text": [
      "termination status: SLOW_PROGRESS\n",
      "solution status: UNKNOWN_RESULT_STATUS\n",
      "optimum = -0.0027497281558683034\n"
     ]
    },
    {
     "name": "stdout",
     "output_type": "stream",
     "text": [
      "Found a locally optimal solution by Ipopt, giving an upper bound: 0.00000000.\n",
      "The relative optimality gap is: 0.274973%.\n",
      "--- TSSOS higher output: ---\n",
      "termination status: SLOW_PROGRESS"
     ]
    },
    {
     "name": "stdout",
     "output_type": "stream",
     "text": [
      "\n",
      "solution status: UNKNOWN_RESULT_STATUS\n",
      "optimum = -0.0031521048458984457\n",
      "Found a locally optimal solution by Ipopt, giving an upper bound: 0.00000001.\n",
      "The relative optimality gap is: 0.315211%.\n"
     ]
    },
    {
     "name": "stdout",
     "output_type": "stream",
     "text": [
      "--- TSSOS higher output end ---\n",
      "--- TSSOS higher output: ---\n",
      "--- TSSOS higher output end ---\n",
      ">>> just SCALED TSSOS \n",
      "*********************************** TSSOS ***********************************\n",
      "Version 1.0.0, developed by Jie Wang, 2020--2023\n",
      "TSSOS is launching...\n"
     ]
    },
    {
     "name": "stdout",
     "output_type": "stream",
     "text": [
      "termination status: SLOW_PROGRESS\n",
      "solution status: UNKNOWN_RESULT_STATUS\n",
      "optimum = -0.01165340197787908\n"
     ]
    },
    {
     "name": "stdout",
     "output_type": "stream",
     "text": [
      "Found a locally optimal solution by Ipopt, giving an upper bound: 0.00000000.\n",
      "The relative optimality gap is: 1.165340%.\n",
      "--- TSSOS SCALED higher output: ---\n",
      "termination status: SLOW_PROGRESS"
     ]
    },
    {
     "name": "stdout",
     "output_type": "stream",
     "text": [
      "\n",
      "solution status: UNKNOWN_RESULT_STATUS\n",
      "optimum = -0.0026512102410237875\n",
      "Found a locally optimal solution by Ipopt, giving an upper bound: 0.00000001.\n",
      "The relative optimality gap is: 0.265122%.\n"
     ]
    },
    {
     "name": "stdout",
     "output_type": "stream",
     "text": [
      "--- TSSOS higher output end ---\n",
      "--- TSSOS SCALED higher output: ---\n",
      "--- TSSOS higher output end ---\n",
      " >>> TSSOS with removing of mirco coefficients \n",
      "*********************************** TSSOS ***********************************\n",
      "Version 1.0.0, developed by Jie Wang, 2020--2023\n",
      "TSSOS is launching...\n"
     ]
    },
    {
     "name": "stdout",
     "output_type": "stream",
     "text": [
      "termination status: SLOW_PROGRESS\n",
      "solution status: UNKNOWN_RESULT_STATUS\n",
      "optimum = -0.0027497281558683034\n"
     ]
    },
    {
     "name": "stdout",
     "output_type": "stream",
     "text": [
      "Found a locally optimal solution by Ipopt, giving an upper bound: -0.00000000.\n",
      "The relative optimality gap is: 0.274973%.\n",
      "--- TSSOS higher RM output: ---\n",
      "termination status: SLOW_PROGRESS"
     ]
    },
    {
     "name": "stdout",
     "output_type": "stream",
     "text": [
      "\n",
      "solution status: UNKNOWN_RESULT_STATUS\n",
      "optimum = -0.0031521048458984457\n",
      "Found a locally optimal solution by Ipopt, giving an upper bound: 0.00000000.\n",
      "The relative optimality gap is: 0.315211%.\n"
     ]
    },
    {
     "name": "stdout",
     "output_type": "stream",
     "text": [
      "--- TSSOS higher output end ---\n",
      "--- TSSOS higher RM output: ---\n",
      "--- TSSOS higher output end ---\n",
      ">>> SCALED TSSOS with removing of mirco coefficients\n",
      "*********************************** TSSOS ***********************************\n",
      "Version 1.0.0, developed by Jie Wang, 2020--2023\n",
      "TSSOS is launching...\n"
     ]
    },
    {
     "name": "stdout",
     "output_type": "stream",
     "text": [
      "termination status: SLOW_PROGRESS\n",
      "solution status: UNKNOWN_RESULT_STATUS\n",
      "optimum = -0.01165340197787908\n"
     ]
    },
    {
     "name": "stdout",
     "output_type": "stream",
     "text": [
      "Found a locally optimal solution by Ipopt, giving an upper bound: 0.00000000.\n",
      "The relative optimality gap is: 1.165340%.\n",
      "--- TSSOS higher RM&SCALED output: ---\n",
      "termination status: SLOW_PROGRESS"
     ]
    },
    {
     "name": "stdout",
     "output_type": "stream",
     "text": [
      "\n",
      "solution status: UNKNOWN_RESULT_STATUS\n",
      "optimum = -0.0026512102410237875\n",
      "Found a locally optimal solution by Ipopt, giving an upper bound: 0.00000000.\n",
      "The relative optimality gap is: 0.265121%.\n"
     ]
    },
    {
     "name": "stdout",
     "output_type": "stream",
     "text": [
      "--- TSSOS higher output end ---\n",
      "--- TSSOS higher RM&SCALED output: ---\n",
      "--- TSSOS higher output end ---\n",
      "Best POP method for LME: rm_scaled_tssos\n",
      "\n",
      " Minimum fidelities vs spin-boson of \n",
      "         POP:      DMD:     Kraus-corrected DMD:\n"
     ]
    },
    {
     "name": "stdout",
     "output_type": "stream",
     "text": [
      "State_D1 0.995813035226 0.999946116692 0.953414031331\n",
      "State_D2 "
     ]
    },
    {
     "name": "stdout",
     "output_type": "stream",
     "text": [
      "0.995816485690 0.999965616713 0.953431242810\n"
     ]
    },
    {
     "name": "stdout",
     "output_type": "stream",
     "text": [
      "State_D3 0.996063290427 0.999993904780 0.954518001936\n",
      "State_D4 "
     ]
    },
    {
     "name": "stdout",
     "output_type": "stream",
     "text": [
      "0.996067420553 0.999990674500 0.954535335990\n"
     ]
    },
    {
     "name": "stdout",
     "output_type": "stream",
     "text": [
      "State_D5 0.995841642671 0.999989869924 0.953539084116\n",
      "State_D6 "
     ]
    },
    {
     "name": "stdout",
     "output_type": "stream",
     "text": [
      "0.995841445725 0.999982302261 0.953534889937\n"
     ]
    },
    {
     "name": "stdout",
     "output_type": "stream",
     "text": [
      "State_D7 0.995904240518 0.999996475854 0.953810210683\n",
      "State_D8 "
     ]
    },
    {
     "name": "stdout",
     "output_type": "stream",
     "text": [
      "0.995909322278 0.999991093399 0.953830769272\n"
     ]
    },
    {
     "name": "stdout",
     "output_type": "stream",
     "text": [
      "State_D9 0.995801410967 0.999835471808 0.953363894331\n",
      "State_D10 "
     ]
    },
    {
     "name": "stdout",
     "output_type": "stream",
     "text": [
      "0.996193560673 0.999990592630 0.955107735502\n"
     ]
    },
    {
     "name": "stdout",
     "output_type": "stream",
     "text": [
      "State_D11 0.996063184817 0.999983563469 0.954516545852\n",
      "State_D12 "
     ]
    },
    {
     "name": "stdout",
     "output_type": "stream",
     "text": [
      "0.996069462499 0.999989563789 0.954544077589\n"
     ]
    },
    {
     "name": "stdout",
     "output_type": "stream",
     "text": [
      "State_D13 0.995810947925 0.999883197363 0.953405916798\n",
      "State_D14 "
     ]
    },
    {
     "name": "stdout",
     "output_type": "stream",
     "text": [
      "0.995816680656 0.999953875765 0.953430743723\n"
     ]
    },
    {
     "name": "stdout",
     "output_type": "stream",
     "text": [
      "State_D15 0.995995972278 0.999986381485 0.954216792600\n",
      "State_D16 "
     ]
    },
    {
     "name": "stdout",
     "output_type": "stream",
     "text": [
      "0.995995852803 0.999992650706 0.954218784744\n"
     ]
    },
    {
     "name": "stdout",
     "output_type": "stream",
     "text": [
      "State_D17 0.995904840359 0.999989758346 0.953809873343\n",
      "State_D18 "
     ]
    },
    {
     "name": "stdout",
     "output_type": "stream",
     "text": [
      "0.995909183022 0.999995434998 0.953828820040\n"
     ]
    },
    {
     "name": "stdout",
     "output_type": "stream",
     "text": [
      "State_D19 0.996193096301 0.999986221501 0.955106400633\n",
      "State_D20 "
     ]
    },
    {
     "name": "stdout",
     "output_type": "stream",
     "text": [
      "0.995795680232 0.999782765164 0.953345242444\n",
      "Test for γ = 0.79477 done in 3.4258289337158203\n",
      "γ = 2.5133\n"
     ]
    },
    {
     "name": "stdout",
     "output_type": "stream",
     "text": [
      "------ Spin-boson:\n",
      ">>> HomotopyContinuation \n"
     ]
    },
    {
     "name": "stdout",
     "output_type": "stream",
     "text": [
      " Homotopy failed\n",
      ">>> just plain TSSOS \n",
      "*********************************** TSSOS ***********************************\n",
      "Version 1.0.0, developed by Jie Wang, 2020--2023\n",
      "TSSOS is launching...\n"
     ]
    },
    {
     "name": "stdout",
     "output_type": "stream",
     "text": [
      "termination status: SLOW_PROGRESS\n",
      "solution status: UNKNOWN_RESULT_STATUS\n",
      "optimum = -0.004873573582194814\n"
     ]
    },
    {
     "name": "stdout",
     "output_type": "stream",
     "text": [
      "Found a locally optimal solution by Ipopt, giving an upper bound: 0.00037281.\n",
      "The relative optimality gap is: 0.524638%.\n",
      "--- TSSOS higher output: ---\n",
      "termination status: SLOW_PROGRESS"
     ]
    },
    {
     "name": "stdout",
     "output_type": "stream",
     "text": [
      "\n",
      "solution status: FEASIBLE_POINT\n",
      "optimum = -0.0003256160903591292\n",
      "The local solver failed refining the solution!"
     ]
    },
    {
     "name": "stdout",
     "output_type": "stream",
     "text": [
      "\n",
      "--- TSSOS higher output end ---\n",
      "--- TSSOS higher output: ---\n",
      "--- TSSOS higher output end ---\n",
      ">>> just SCALED TSSOS "
     ]
    },
    {
     "name": "stdout",
     "output_type": "stream",
     "text": [
      "\n",
      "*********************************** TSSOS ***********************************\n",
      "Version 1.0.0, developed by Jie Wang, 2020--2023\n",
      "TSSOS is launching...\n",
      "termination status: SLOW_PROGRESS"
     ]
    },
    {
     "name": "stdout",
     "output_type": "stream",
     "text": [
      "\n",
      "solution status: FEASIBLE_POINT\n",
      "optimum = -0.0012675519058444218\n",
      "Found a locally optimal solution by Ipopt, giving an upper bound: 0.00036544.\n",
      "The relative optimality gap is: 0.163299%.\n"
     ]
    },
    {
     "name": "stdout",
     "output_type": "stream",
     "text": [
      "--- TSSOS SCALED higher output: ---\n"
     ]
    },
    {
     "name": "stdout",
     "output_type": "stream",
     "text": [
      "termination status: SLOW_PROGRESS\n",
      "solution status: FEASIBLE_POINT\n",
      "optimum = -0.0021946586382031842\n"
     ]
    },
    {
     "name": "stdout",
     "output_type": "stream",
     "text": [
      "Found a locally optimal solution by Ipopt, giving an upper bound: 0.00037281.\n",
      "The relative optimality gap is: 0.256747%.\n",
      "--- TSSOS higher output end ---\n",
      "--- TSSOS SCALED higher output: ---\n",
      "--- TSSOS higher output end ---\n",
      " >>> TSSOS with removing of mirco coefficients "
     ]
    },
    {
     "name": "stdout",
     "output_type": "stream",
     "text": [
      "\n",
      "*********************************** TSSOS ***********************************\n",
      "Version 1.0.0, developed by Jie Wang, 2020--2023\n",
      "TSSOS is launching...\n",
      "termination status: SLOW_PROGRESS"
     ]
    },
    {
     "name": "stdout",
     "output_type": "stream",
     "text": [
      "\n",
      "solution status: UNKNOWN_RESULT_STATUS\n",
      "optimum = -0.004873573582194814\n",
      "Found a locally optimal solution by Ipopt, giving an upper bound: 0.00037281.\n",
      "The relative optimality gap is: 0.524639%.\n"
     ]
    },
    {
     "name": "stdout",
     "output_type": "stream",
     "text": [
      "--- TSSOS higher RM output: ---\n"
     ]
    },
    {
     "name": "stdout",
     "output_type": "stream",
     "text": [
      "termination status: SLOW_PROGRESS\n",
      "solution status: FEASIBLE_POINT\n",
      "optimum = -0.0003256160903591292\n"
     ]
    },
    {
     "name": "stdout",
     "output_type": "stream",
     "text": [
      "Found a locally optimal solution by Ipopt, giving an upper bound: 0.00037281.\n",
      "The relative optimality gap is: 0.069843%.\n",
      "--- TSSOS higher output end ---\n",
      "--- TSSOS higher RM output: ---\n",
      "--- TSSOS higher output end ---\n",
      ">>> SCALED TSSOS with removing of mirco coefficients"
     ]
    },
    {
     "name": "stdout",
     "output_type": "stream",
     "text": [
      "\n",
      "*********************************** TSSOS ***********************************\n",
      "Version 1.0.0, developed by Jie Wang, 2020--2023\n",
      "TSSOS is launching...\n",
      "termination status: SLOW_PROGRESS"
     ]
    },
    {
     "name": "stdout",
     "output_type": "stream",
     "text": [
      "\n",
      "solution status: FEASIBLE_POINT\n",
      "optimum = -0.0012675519058444218\n",
      "The local solver failed refining the solution!"
     ]
    },
    {
     "name": "stdout",
     "output_type": "stream",
     "text": [
      "\n",
      "--- TSSOS higher RM&SCALED output: ---\n",
      "termination status: SLOW_PROGRESS"
     ]
    },
    {
     "name": "stdout",
     "output_type": "stream",
     "text": [
      "\n",
      "solution status: FEASIBLE_POINT\n",
      "optimum = -0.0021946586382031842\n",
      "Found a locally optimal solution by Ipopt, giving an upper bound: 0.00037281.\n",
      "The relative optimality gap is: 0.256747%.\n"
     ]
    },
    {
     "name": "stdout",
     "output_type": "stream",
     "text": [
      "--- TSSOS higher output end ---\n",
      "--- TSSOS higher RM&SCALED output: ---\n",
      "--- TSSOS higher output end ---\n",
      "Best POP method for spin-boson: rm_micro_tssos\n",
      "------ LME:\n",
      ">>> HomotopyContinuation \n",
      " Homotopy failed"
     ]
    },
    {
     "name": "stdout",
     "output_type": "stream",
     "text": [
      "\n",
      ">>> just plain TSSOS \n",
      "*********************************** TSSOS ***********************************\n",
      "Version 1.0.0, developed by Jie Wang, 2020--2023\n",
      "TSSOS is launching...\n",
      "termination status: SLOW_PROGRESS"
     ]
    },
    {
     "name": "stdout",
     "output_type": "stream",
     "text": [
      "\n",
      "solution status: FEASIBLE_POINT\n",
      "optimum = -0.004143602847443672\n",
      "Found a locally optimal solution by Ipopt, giving an upper bound: 0.00000000.\n",
      "The relative optimality gap is: 0.414360%.\n"
     ]
    },
    {
     "name": "stdout",
     "output_type": "stream",
     "text": [
      "--- TSSOS higher output: ---\n"
     ]
    },
    {
     "name": "stdout",
     "output_type": "stream",
     "text": [
      "termination status: SLOW_PROGRESS\n",
      "solution status: FEASIBLE_POINT\n",
      "optimum = -0.0019409863673465256\n"
     ]
    },
    {
     "name": "stdout",
     "output_type": "stream",
     "text": [
      "Found a locally optimal solution by Ipopt, giving an upper bound: 0.00000000.\n",
      "The relative optimality gap is: 0.194099%.\n",
      "--- TSSOS higher output end ---\n",
      "--- TSSOS higher output: ---\n",
      "--- TSSOS higher output end ---\n",
      ">>> just SCALED TSSOS "
     ]
    },
    {
     "name": "stdout",
     "output_type": "stream",
     "text": [
      "\n",
      "*********************************** TSSOS ***********************************\n",
      "Version 1.0.0, developed by Jie Wang, 2020--2023\n",
      "TSSOS is launching...\n",
      "termination status: SLOW_PROGRESS"
     ]
    },
    {
     "name": "stdout",
     "output_type": "stream",
     "text": [
      "\n",
      "solution status: FEASIBLE_POINT\n",
      "optimum = -0.001078611417994333\n",
      "Found a locally optimal solution by Ipopt, giving an upper bound: 0.00000001.\n",
      "The relative optimality gap is: 0.107862%.\n"
     ]
    },
    {
     "name": "stdout",
     "output_type": "stream",
     "text": [
      "--- TSSOS SCALED higher output: ---\n"
     ]
    },
    {
     "name": "stdout",
     "output_type": "stream",
     "text": [
      "termination status: SLOW_PROGRESS\n",
      "solution status: FEASIBLE_POINT\n",
      "optimum = -0.002608399148220735\n"
     ]
    },
    {
     "name": "stdout",
     "output_type": "stream",
     "text": [
      "Found a locally optimal solution by Ipopt, giving an upper bound: 0.00000001.\n",
      "The relative optimality gap is: 0.260841%.\n",
      "--- TSSOS higher output end ---\n",
      "--- TSSOS SCALED higher output: ---\n",
      "--- TSSOS higher output end ---\n",
      " >>> TSSOS with removing of mirco coefficients "
     ]
    },
    {
     "name": "stdout",
     "output_type": "stream",
     "text": [
      "\n",
      "*********************************** TSSOS ***********************************\n",
      "Version 1.0.0, developed by Jie Wang, 2020--2023\n",
      "TSSOS is launching...\n",
      "termination status: SLOW_PROGRESS"
     ]
    },
    {
     "name": "stdout",
     "output_type": "stream",
     "text": [
      "\n",
      "solution status: FEASIBLE_POINT\n",
      "optimum = -0.004143602847443672\n",
      "Found a locally optimal solution by Ipopt, giving an upper bound: 0.00000000.\n",
      "The relative optimality gap is: 0.414360%.\n"
     ]
    },
    {
     "name": "stdout",
     "output_type": "stream",
     "text": [
      "--- TSSOS higher RM output: ---\n"
     ]
    },
    {
     "name": "stdout",
     "output_type": "stream",
     "text": [
      "termination status: SLOW_PROGRESS\n",
      "solution status: FEASIBLE_POINT\n",
      "optimum = -0.0019409863673465256\n"
     ]
    },
    {
     "name": "stdout",
     "output_type": "stream",
     "text": [
      "Found a locally optimal solution by Ipopt, giving an upper bound: 0.00000000.\n",
      "The relative optimality gap is: 0.194099%.\n",
      "--- TSSOS higher output end ---\n",
      "--- TSSOS higher RM output: ---\n",
      "--- TSSOS higher output end ---\n",
      ">>> SCALED TSSOS with removing of mirco coefficients"
     ]
    },
    {
     "name": "stdout",
     "output_type": "stream",
     "text": [
      "\n",
      "*********************************** TSSOS ***********************************\n",
      "Version 1.0.0, developed by Jie Wang, 2020--2023\n",
      "TSSOS is launching...\n",
      "termination status: SLOW_PROGRESS"
     ]
    },
    {
     "name": "stdout",
     "output_type": "stream",
     "text": [
      "\n",
      "solution status: FEASIBLE_POINT\n",
      "optimum = -0.001078611417994333\n",
      "Found a locally optimal solution by Ipopt, giving an upper bound: 0.00000000.\n",
      "The relative optimality gap is: 0.107861%.\n"
     ]
    },
    {
     "name": "stdout",
     "output_type": "stream",
     "text": [
      "--- TSSOS higher RM&SCALED output: ---\n"
     ]
    },
    {
     "name": "stdout",
     "output_type": "stream",
     "text": [
      "termination status: SLOW_PROGRESS\n",
      "solution status: FEASIBLE_POINT\n",
      "optimum = -0.002608399148220735\n"
     ]
    },
    {
     "name": "stdout",
     "output_type": "stream",
     "text": [
      "Found a locally optimal solution by Ipopt, giving an upper bound: 0.00000003.\n",
      "The relative optimality gap is: 0.260843%.\n",
      "--- TSSOS higher output end ---\n",
      "--- TSSOS higher RM&SCALED output: ---\n",
      "--- TSSOS higher output end ---\n",
      "Best POP method for LME: tssos\n",
      "\n",
      " Minimum fidelities vs spin-boson of \n",
      "         POP:      DMD:     Kraus-corrected DMD:\n",
      "State_D1 "
     ]
    },
    {
     "name": "stdout",
     "output_type": "stream",
     "text": [
      "0.998420977934 0.999932260486 0.966595856363\n"
     ]
    },
    {
     "name": "stdout",
     "output_type": "stream",
     "text": [
      "State_D2 0.998422244580 0.999925629833 0.966627685943\n",
      "State_D3 0.998497747481 0.999989019299 0.967145973501\n"
     ]
    },
    {
     "name": "stdout",
     "output_type": "stream",
     "text": [
      "State_D4 0.998502850056 0.999963365797 0.967174444481\n",
      "State_D5 0.998431861016 0.999965080618 0.966677183596\n"
     ]
    },
    {
     "name": "stdout",
     "output_type": "stream",
     "text": [
      "State_D6 0.998430545650 0.999920370123 0.966668565710\n",
      "State_D7 "
     ]
    },
    {
     "name": "stdout",
     "output_type": "stream",
     "text": [
      "0.998452239247 0.999983852380 0.966811617512\n",
      "State_D8 0.998451790535 0.999921501689 0.966819999225\n",
      "State_D9 "
     ]
    },
    {
     "name": "stdout",
     "output_type": "stream",
     "text": [
      "0.998419538575 0.999698182044 0.966581280178\n",
      "State_D10 0.998543232344 0.999977053204 0.967459306225\n",
      "State_D11 "
     ]
    },
    {
     "name": "stdout",
     "output_type": "stream",
     "text": [
      "0.998490954791 0.999907393174 0.967109355388\n"
     ]
    },
    {
     "name": "stdout",
     "output_type": "stream",
     "text": [
      "State_D12 0.998504445647 0.999959594348 0.967186486543\n",
      "State_D13 0.998419981053 0.999702427245 0.966589810354\n"
     ]
    },
    {
     "name": "stdout",
     "output_type": "stream",
     "text": [
      "State_D14 0.998425706925 0.999825091220 0.966628914182\n",
      "State_D15 0.998473806361 0.999899542365 0.966985457824\n"
     ]
    },
    {
     "name": "stdout",
     "output_type": "stream",
     "text": [
      "State_D16 0.998479980283 0.999965785095 0.967019933551\n",
      "State_D17 "
     ]
    },
    {
     "name": "stdout",
     "output_type": "stream",
     "text": [
      "0.998445360085 0.999904944807 0.966777475567\n",
      "State_D18 0.998454433917 0.999981734564 0.966835700681\n",
      "State_D19 "
     ]
    },
    {
     "name": "stdout",
     "output_type": "stream",
     "text": [
      "0.998542678062 0.999958799615 0.967455926089\n",
      "State_D20 0.998419475307 0.999456019423 0.966579922929\n",
      "Test for γ = 2.5133 done in 2.0969290733337402\n",
      "γ = 7.9477\n",
      "------ Spin-boson:"
     ]
    },
    {
     "name": "stdout",
     "output_type": "stream",
     "text": [
      "\n",
      ">>> HomotopyContinuation \n",
      " Homotopy failed"
     ]
    },
    {
     "name": "stdout",
     "output_type": "stream",
     "text": [
      "\n",
      ">>> just plain TSSOS \n",
      "*********************************** TSSOS ***********************************\n",
      "Version 1.0.0, developed by Jie Wang, 2020--2023\n",
      "TSSOS is launching...\n",
      "termination status: SLOW_PROGRESS"
     ]
    },
    {
     "name": "stdout",
     "output_type": "stream",
     "text": [
      "\n",
      "solution status: FEASIBLE_POINT\n",
      "optimum = -0.002254529663472795\n",
      "Found a locally optimal solution by Ipopt, giving an upper bound: 0.00039964.\n",
      "The relative optimality gap is: 0.265417%.\n"
     ]
    },
    {
     "name": "stdout",
     "output_type": "stream",
     "text": [
      "--- TSSOS higher output: ---\n"
     ]
    },
    {
     "name": "stdout",
     "output_type": "stream",
     "text": [
      "termination status: SLOW_PROGRESS\n",
      "solution status: FEASIBLE_POINT\n",
      "optimum = -4.620879953876834e-5\n"
     ]
    },
    {
     "name": "stdout",
     "output_type": "stream",
     "text": [
      "The local solver failed refining the solution!\n",
      "--- TSSOS higher output end ---\n",
      "--- TSSOS higher output: ---\n",
      "--- TSSOS higher output end ---\n"
     ]
    },
    {
     "name": "stdout",
     "output_type": "stream",
     "text": [
      ">>> just SCALED TSSOS \n",
      "*********************************** TSSOS ***********************************\n",
      "Version 1.0.0, developed by Jie Wang, 2020--2023\n",
      "TSSOS is launching...\n"
     ]
    },
    {
     "name": "stdout",
     "output_type": "stream",
     "text": [
      "termination status: SLOW_PROGRESS\n",
      "solution status: FEASIBLE_POINT\n",
      "optimum = -4.920374719029998e-5\n"
     ]
    },
    {
     "name": "stdout",
     "output_type": "stream",
     "text": [
      "Found a locally optimal solution by Ipopt, giving an upper bound: 0.00039964.\n",
      "The relative optimality gap is: 0.044885%.\n",
      "--- TSSOS SCALED higher output: ---\n",
      "termination status: SLOW_PROGRESS"
     ]
    },
    {
     "name": "stdout",
     "output_type": "stream",
     "text": [
      "\n",
      "solution status: FEASIBLE_POINT\n",
      "optimum = -0.0002561257530981303\n",
      "Found a locally optimal solution by Ipopt, giving an upper bound: 0.00039965.\n",
      "The relative optimality gap is: 0.065577%.\n"
     ]
    },
    {
     "name": "stdout",
     "output_type": "stream",
     "text": [
      "--- TSSOS higher output end ---\n",
      "--- TSSOS SCALED higher output: ---\n",
      "--- TSSOS higher output end ---\n"
     ]
    },
    {
     "name": "stdout",
     "output_type": "stream",
     "text": [
      " >>> TSSOS with removing of mirco coefficients \n",
      "*********************************** TSSOS ***********************************\n",
      "Version 1.0.0, developed by Jie Wang, 2020--2023\n",
      "TSSOS is launching...\n"
     ]
    },
    {
     "name": "stdout",
     "output_type": "stream",
     "text": [
      "termination status: SLOW_PROGRESS\n",
      "solution status: FEASIBLE_POINT\n",
      "optimum = -0.002254529663472795\n"
     ]
    },
    {
     "name": "stdout",
     "output_type": "stream",
     "text": [
      "Found a locally optimal solution by Ipopt, giving an upper bound: 0.00039964.\n",
      "The relative optimality gap is: 0.265417%.\n",
      "--- TSSOS higher RM output: ---\n",
      "termination status: SLOW_PROGRESS"
     ]
    },
    {
     "name": "stdout",
     "output_type": "stream",
     "text": [
      "\n",
      "solution status: FEASIBLE_POINT\n",
      "optimum = -4.620879953876834e-5\n",
      "Found a locally optimal solution by Ipopt, giving an upper bound: 0.00039964.\n",
      "The relative optimality gap is: 0.044585%.\n"
     ]
    },
    {
     "name": "stdout",
     "output_type": "stream",
     "text": [
      "--- TSSOS higher output end ---\n",
      "--- TSSOS higher RM output: ---\n",
      "--- TSSOS higher output end ---\n"
     ]
    },
    {
     "name": "stdout",
     "output_type": "stream",
     "text": [
      ">>> SCALED TSSOS with removing of mirco coefficients\n",
      "*********************************** TSSOS ***********************************\n",
      "Version 1.0.0, developed by Jie Wang, 2020--2023\n",
      "TSSOS is launching...\n"
     ]
    },
    {
     "name": "stdout",
     "output_type": "stream",
     "text": [
      "termination status: SLOW_PROGRESS\n",
      "solution status: FEASIBLE_POINT\n",
      "optimum = -4.920374719029998e-5\n"
     ]
    },
    {
     "name": "stdout",
     "output_type": "stream",
     "text": [
      "Found a locally optimal solution by Ipopt, giving an upper bound: 0.00039964.\n",
      "The relative optimality gap is: 0.044884%.\n",
      "--- TSSOS higher RM&SCALED output: ---\n",
      "termination status: SLOW_PROGRESS"
     ]
    },
    {
     "name": "stdout",
     "output_type": "stream",
     "text": [
      "\n",
      "solution status: FEASIBLE_POINT\n",
      "optimum = -0.0002561257530981303\n",
      "The local solver failed refining the solution!"
     ]
    },
    {
     "name": "stdout",
     "output_type": "stream",
     "text": [
      "\n",
      "--- TSSOS higher output end ---\n",
      "--- TSSOS higher RM&SCALED output: ---\n",
      "--- TSSOS higher output end ---\n",
      "Best POP method for spin-boson: rm_micro_tssos\n",
      "------ LME:\n",
      ">>> HomotopyContinuation \n"
     ]
    },
    {
     "name": "stdout",
     "output_type": "stream",
     "text": [
      " Homotopy failed\n",
      ">>> just plain TSSOS \n",
      "*********************************** TSSOS ***********************************\n",
      "Version 1.0.0, developed by Jie Wang, 2020--2023\n",
      "TSSOS is launching...\n"
     ]
    },
    {
     "name": "stdout",
     "output_type": "stream",
     "text": [
      "termination status: SLOW_PROGRESS\n",
      "solution status: FEASIBLE_POINT\n",
      "optimum = -0.0008023682048824069\n"
     ]
    },
    {
     "name": "stdout",
     "output_type": "stream",
     "text": [
      "Found a locally optimal solution by Ipopt, giving an upper bound: 0.00000000.\n",
      "The relative optimality gap is: 0.080237%.\n",
      "--- TSSOS higher output: ---\n",
      "termination status: SLOW_PROGRESS"
     ]
    },
    {
     "name": "stdout",
     "output_type": "stream",
     "text": [
      "\n",
      "solution status: FEASIBLE_POINT\n",
      "optimum = -0.0012651343016169979\n",
      "Found a locally optimal solution by Ipopt, giving an upper bound: -0.00000000.\n",
      "The relative optimality gap is: 0.126513%.\n"
     ]
    },
    {
     "name": "stdout",
     "output_type": "stream",
     "text": [
      "--- TSSOS higher output end ---\n",
      "--- TSSOS higher output: ---\n",
      "--- TSSOS higher output end ---\n"
     ]
    },
    {
     "name": "stdout",
     "output_type": "stream",
     "text": [
      ">>> just SCALED TSSOS \n",
      "*********************************** TSSOS ***********************************\n",
      "Version 1.0.0, developed by Jie Wang, 2020--2023\n",
      "TSSOS is launching...\n"
     ]
    },
    {
     "name": "stdout",
     "output_type": "stream",
     "text": [
      "termination status: SLOW_PROGRESS\n",
      "solution status: FEASIBLE_POINT\n",
      "optimum = -0.0008407560002402576\n"
     ]
    },
    {
     "name": "stdout",
     "output_type": "stream",
     "text": [
      "Found a locally optimal solution by Ipopt, giving an upper bound: 0.00000000.\n",
      "The relative optimality gap is: 0.084076%.\n",
      "--- TSSOS SCALED higher output: ---\n",
      "termination status: SLOW_PROGRESS"
     ]
    },
    {
     "name": "stdout",
     "output_type": "stream",
     "text": [
      "\n",
      "solution status: FEASIBLE_POINT\n",
      "optimum = -0.0011092644788483915\n",
      "Found a locally optimal solution by Ipopt, giving an upper bound: 0.00000001.\n",
      "The relative optimality gap is: 0.110927%.\n"
     ]
    },
    {
     "name": "stdout",
     "output_type": "stream",
     "text": [
      "--- TSSOS higher output end ---\n",
      "--- TSSOS SCALED higher output: ---\n",
      "--- TSSOS higher output end ---\n"
     ]
    },
    {
     "name": "stdout",
     "output_type": "stream",
     "text": [
      " >>> TSSOS with removing of mirco coefficients \n",
      "*********************************** TSSOS ***********************************\n",
      "Version 1.0.0, developed by Jie Wang, 2020--2023\n",
      "TSSOS is launching...\n"
     ]
    },
    {
     "name": "stdout",
     "output_type": "stream",
     "text": [
      "termination status: SLOW_PROGRESS\n",
      "solution status: FEASIBLE_POINT\n",
      "optimum = -0.0008023682048824069\n"
     ]
    },
    {
     "name": "stdout",
     "output_type": "stream",
     "text": [
      "Found a locally optimal solution by Ipopt, giving an upper bound: 0.00000000.\n",
      "The relative optimality gap is: 0.080237%.\n",
      "--- TSSOS higher RM output: ---\n",
      "termination status: SLOW_PROGRESS"
     ]
    },
    {
     "name": "stdout",
     "output_type": "stream",
     "text": [
      "\n",
      "solution status: FEASIBLE_POINT\n",
      "optimum = -0.0012651343016169979\n",
      "Found a locally optimal solution by Ipopt, giving an upper bound: 0.00000000.\n",
      "The relative optimality gap is: 0.126513%.\n"
     ]
    },
    {
     "name": "stdout",
     "output_type": "stream",
     "text": [
      "--- TSSOS higher output end ---\n",
      "--- TSSOS higher RM output: ---\n",
      "--- TSSOS higher output end ---\n"
     ]
    },
    {
     "name": "stdout",
     "output_type": "stream",
     "text": [
      ">>> SCALED TSSOS with removing of mirco coefficients\n",
      "*********************************** TSSOS ***********************************\n",
      "Version 1.0.0, developed by Jie Wang, 2020--2023\n",
      "TSSOS is launching...\n"
     ]
    },
    {
     "name": "stdout",
     "output_type": "stream",
     "text": [
      "termination status: SLOW_PROGRESS\n",
      "solution status: FEASIBLE_POINT\n",
      "optimum = -0.0008407560002402576\n"
     ]
    },
    {
     "name": "stdout",
     "output_type": "stream",
     "text": [
      "Found a locally optimal solution by Ipopt, giving an upper bound: 0.00000041.\n",
      "The relative optimality gap is: 0.084117%.\n",
      "--- TSSOS higher RM&SCALED output: ---\n",
      "termination status: SLOW_PROGRESS"
     ]
    },
    {
     "name": "stdout",
     "output_type": "stream",
     "text": [
      "\n",
      "solution status: FEASIBLE_POINT\n",
      "optimum = -0.0011092644788483915\n",
      "Found a locally optimal solution by Ipopt, giving an upper bound: 0.00000000.\n",
      "The relative optimality gap is: 0.110927%.\n"
     ]
    },
    {
     "name": "stdout",
     "output_type": "stream",
     "text": [
      "--- TSSOS higher output end ---\n",
      "--- TSSOS higher RM&SCALED output: ---\n",
      "--- TSSOS higher output end ---\n",
      "Best POP method for LME: tssos\n",
      "\n",
      " Minimum fidelities vs spin-boson of \n",
      "         POP:      DMD:     Kraus-corrected DMD:\n"
     ]
    },
    {
     "name": "stdout",
     "output_type": "stream",
     "text": [
      "State_D1 0.999360250031 0.999777295025 0.981873612032\n",
      "State_D2 0.999265055173 0.999713180174 0.981687920281\n"
     ]
    },
    {
     "name": "stdout",
     "output_type": "stream",
     "text": [
      "State_D3 0.999641454254 0.999805112965 0.982488379548\n",
      "State_D4 0.999286630294 0.999680079516 0.982578045100\n"
     ]
    },
    {
     "name": "stdout",
     "output_type": "stream",
     "text": [
      "State_D5 0.999407125199 0.999669382592 0.982030868611\n",
      "State_D6 0.998414287555 0.998879678604 0.981466065286\n"
     ]
    },
    {
     "name": "stdout",
     "output_type": "stream",
     "text": [
      "State_D7 0.999090608652 0.999822215782 0.982142237921\n",
      "State_D8 0.999020265071 0.999385508818 0.982098982260\n"
     ]
    },
    {
     "name": "stdout",
     "output_type": "stream",
     "text": [
      "State_D9 0.999249705455 0.999785844418 0.981744617711\n",
      "State_D10 0.999784179383 0.999910561095 0.982911005174\n"
     ]
    },
    {
     "name": "stdout",
     "output_type": "stream",
     "text": [
      "State_D11 0.997517811937 0.998903686477 0.982045813210\n",
      "State_D12 0.999572403674 0.999752779137 0.982611997724\n"
     ]
    },
    {
     "name": "stdout",
     "output_type": "stream",
     "text": [
      "State_D13 0.997763639651 0.998913825222 0.981433134137\n",
      "State_D14 0.999528489633 0.999442777267 0.981933731162\n"
     ]
    },
    {
     "name": "stdout",
     "output_type": "stream",
     "text": [
      "State_D15 0.998068054940 0.998785700099 0.981978324993\n",
      "State_D16 0.999476067552 0.999702990496 0.982365201445\n"
     ]
    },
    {
     "name": "stdout",
     "output_type": "stream",
     "text": [
      "State_D17 0.996595650989 0.998889324649 0.981676125359\n",
      "State_D18 0.999490840990 0.999856532415 0.982142060211\n"
     ]
    },
    {
     "name": "stdout",
     "output_type": "stream",
     "text": [
      "State_D19 0.999367151512 0.999661866765 0.982785305929\n",
      "State_D20 0.999183169886 0.999308565048 0.981757971020\n",
      "Test for γ = 7.9477 done in 1.4765629768371582\n",
      "γ = 25.133\n"
     ]
    },
    {
     "name": "stdout",
     "output_type": "stream",
     "text": [
      "------ Spin-boson:\n",
      ">>> HomotopyContinuation \n"
     ]
    },
    {
     "name": "stdout",
     "output_type": "stream",
     "text": [
      " Homotopy failed\n",
      ">>> just plain TSSOS \n",
      "*********************************** TSSOS ***********************************\n",
      "Version 1.0.0, developed by Jie Wang, 2020--2023\n",
      "TSSOS is launching...\n"
     ]
    },
    {
     "name": "stdout",
     "output_type": "stream",
     "text": [
      "termination status: SLOW_PROGRESS\n",
      "solution status: FEASIBLE_POINT\n",
      "optimum = -0.00045480359274979184\n"
     ]
    },
    {
     "name": "stdout",
     "output_type": "stream",
     "text": [
      "Found a locally optimal solution by Ipopt, giving an upper bound: 0.00053255.\n",
      "The relative optimality gap is: 0.098736%.\n",
      "--- TSSOS higher output: ---\n",
      "termination status: SLOW_PROGRESS"
     ]
    },
    {
     "name": "stdout",
     "output_type": "stream",
     "text": [
      "\n",
      "solution status: FEASIBLE_POINT\n",
      "optimum = -0.00016551017622664884\n",
      "Found a locally optimal solution by Ipopt, giving an upper bound: 0.00053255.\n",
      "The relative optimality gap is: 0.069806%.\n"
     ]
    },
    {
     "name": "stdout",
     "output_type": "stream",
     "text": [
      "--- TSSOS higher output end ---\n",
      "--- TSSOS higher output: ---\n",
      "--- TSSOS higher output end ---\n"
     ]
    },
    {
     "name": "stdout",
     "output_type": "stream",
     "text": [
      ">>> just SCALED TSSOS \n",
      "*********************************** TSSOS ***********************************\n",
      "Version 1.0.0, developed by Jie Wang, 2020--2023\n",
      "TSSOS is launching...\n"
     ]
    },
    {
     "name": "stdout",
     "output_type": "stream",
     "text": [
      "termination status: SLOW_PROGRESS\n",
      "solution status: FEASIBLE_POINT\n",
      "optimum = 3.213323484137353e-6\n"
     ]
    },
    {
     "name": "stdout",
     "output_type": "stream",
     "text": [
      "Found a locally optimal solution by Ipopt, giving an upper bound: 0.00053255.\n",
      "The relative optimality gap is: 0.052934%.\n",
      "--- TSSOS SCALED higher output: ---\n",
      "termination status: SLOW_PROGRESS"
     ]
    },
    {
     "name": "stdout",
     "output_type": "stream",
     "text": [
      "\n",
      "solution status: FEASIBLE_POINT\n",
      "optimum = 8.386689731928605e-5\n",
      "Found a locally optimal solution by Ipopt, giving an upper bound: 0.00053255.\n",
      "The relative optimality gap is: 0.044869%.\n"
     ]
    },
    {
     "name": "stdout",
     "output_type": "stream",
     "text": [
      "--- TSSOS higher output end ---\n",
      "--- TSSOS SCALED higher output: ---\n",
      "--- TSSOS higher output end ---\n"
     ]
    },
    {
     "name": "stdout",
     "output_type": "stream",
     "text": [
      " >>> TSSOS with removing of mirco coefficients \n",
      "*********************************** TSSOS ***********************************\n",
      "Version 1.0.0, developed by Jie Wang, 2020--2023\n",
      "TSSOS is launching...\n"
     ]
    },
    {
     "name": "stdout",
     "output_type": "stream",
     "text": [
      "termination status: SLOW_PROGRESS\n",
      "solution status: FEASIBLE_POINT\n",
      "optimum = -0.00045480359274979184\n"
     ]
    },
    {
     "name": "stdout",
     "output_type": "stream",
     "text": [
      "Found a locally optimal solution by Ipopt, giving an upper bound: 0.00053256.\n",
      "The relative optimality gap is: 0.098736%.\n",
      "--- TSSOS higher RM output: ---\n",
      "termination status: SLOW_PROGRESS"
     ]
    },
    {
     "name": "stdout",
     "output_type": "stream",
     "text": [
      "\n",
      "solution status: FEASIBLE_POINT\n",
      "optimum = -0.00016551017622664884\n",
      "The local solver failed refining the solution!"
     ]
    },
    {
     "name": "stdout",
     "output_type": "stream",
     "text": [
      "\n",
      "--- TSSOS higher output end ---\n",
      "--- TSSOS higher RM output: ---\n",
      "--- TSSOS higher output end ---\n",
      ">>> SCALED TSSOS with removing of mirco coefficients"
     ]
    },
    {
     "name": "stdout",
     "output_type": "stream",
     "text": [
      "\n",
      "*********************************** TSSOS ***********************************\n",
      "Version 1.0.0, developed by Jie Wang, 2020--2023\n",
      "TSSOS is launching...\n",
      "termination status: SLOW_PROGRESS"
     ]
    },
    {
     "name": "stdout",
     "output_type": "stream",
     "text": [
      "\n",
      "solution status: FEASIBLE_POINT\n",
      "optimum = 3.213323484137353e-6\n",
      "The local solver failed refining the solution!"
     ]
    },
    {
     "name": "stdout",
     "output_type": "stream",
     "text": [
      "\n",
      "--- TSSOS higher RM&SCALED output: ---\n",
      "termination status: SLOW_PROGRESS"
     ]
    },
    {
     "name": "stdout",
     "output_type": "stream",
     "text": [
      "\n",
      "solution status: FEASIBLE_POINT\n",
      "optimum = 8.386689731928605e-5\n",
      "Found a locally optimal solution by Ipopt, giving an upper bound: 0.00053255.\n",
      "The relative optimality gap is: 0.044869%.\n"
     ]
    },
    {
     "name": "stdout",
     "output_type": "stream",
     "text": [
      "--- TSSOS higher output end ---\n",
      "--- TSSOS higher RM&SCALED output: ---\n",
      "--- TSSOS higher output end ---\n",
      "Best POP method for spin-boson: tssos\n",
      "------ LME:\n",
      ">>> HomotopyContinuation \n",
      " Homotopy failed"
     ]
    },
    {
     "name": "stdout",
     "output_type": "stream",
     "text": [
      "\n",
      ">>> just plain TSSOS \n",
      "*********************************** TSSOS ***********************************\n",
      "Version 1.0.0, developed by Jie Wang, 2020--2023\n",
      "TSSOS is launching...\n",
      "termination status: SLOW_PROGRESS"
     ]
    },
    {
     "name": "stdout",
     "output_type": "stream",
     "text": [
      "\n",
      "solution status: FEASIBLE_POINT\n",
      "optimum = -0.0024251095451444096\n",
      "Found a locally optimal solution by Ipopt, giving an upper bound: 0.00000000.\n",
      "The relative optimality gap is: 0.242511%.\n"
     ]
    },
    {
     "name": "stdout",
     "output_type": "stream",
     "text": [
      "--- TSSOS higher output: ---\n"
     ]
    },
    {
     "name": "stdout",
     "output_type": "stream",
     "text": [
      "termination status: SLOW_PROGRESS\n",
      "solution status: FEASIBLE_POINT\n",
      "optimum = -0.0006655188847673699\n"
     ]
    },
    {
     "name": "stdout",
     "output_type": "stream",
     "text": [
      "Found a locally optimal solution by Ipopt, giving an upper bound: 0.00000000.\n",
      "The relative optimality gap is: 0.066552%.\n",
      "--- TSSOS higher output end ---\n",
      "--- TSSOS higher output: ---\n",
      "--- TSSOS higher output end ---\n",
      ">>> just SCALED TSSOS "
     ]
    },
    {
     "name": "stdout",
     "output_type": "stream",
     "text": [
      "\n",
      "*********************************** TSSOS ***********************************\n",
      "Version 1.0.0, developed by Jie Wang, 2020--2023\n",
      "TSSOS is launching...\n",
      "termination status: SLOW_PROGRESS"
     ]
    },
    {
     "name": "stdout",
     "output_type": "stream",
     "text": [
      "\n",
      "solution status: FEASIBLE_POINT\n",
      "optimum = -0.0021562732103928947\n",
      "Found a locally optimal solution by Ipopt, giving an upper bound: 0.00000000.\n",
      "The relative optimality gap is: 0.215628%.\n"
     ]
    },
    {
     "name": "stdout",
     "output_type": "stream",
     "text": [
      "--- TSSOS SCALED higher output: ---\n"
     ]
    },
    {
     "name": "stdout",
     "output_type": "stream",
     "text": [
      "termination status: SLOW_PROGRESS\n",
      "solution status: FEASIBLE_POINT\n",
      "optimum = -0.0010980100618795258\n"
     ]
    },
    {
     "name": "stdout",
     "output_type": "stream",
     "text": [
      "Found a locally optimal solution by Ipopt, giving an upper bound: 0.00000002.\n",
      "The relative optimality gap is: 0.109803%.\n",
      "--- TSSOS higher output end ---\n",
      "--- TSSOS SCALED higher output: ---\n",
      "--- TSSOS higher output end ---\n",
      " >>> TSSOS with removing of mirco coefficients "
     ]
    },
    {
     "name": "stdout",
     "output_type": "stream",
     "text": [
      "\n",
      "*********************************** TSSOS ***********************************\n",
      "Version 1.0.0, developed by Jie Wang, 2020--2023\n",
      "TSSOS is launching...\n",
      "termination status: SLOW_PROGRESS"
     ]
    },
    {
     "name": "stdout",
     "output_type": "stream",
     "text": [
      "\n",
      "solution status: FEASIBLE_POINT\n",
      "optimum = -0.0024251095451444096\n",
      "Found a locally optimal solution by Ipopt, giving an upper bound: 0.00000000.\n",
      "The relative optimality gap is: 0.242511%.\n"
     ]
    },
    {
     "name": "stdout",
     "output_type": "stream",
     "text": [
      "--- TSSOS higher RM output: ---\n"
     ]
    },
    {
     "name": "stdout",
     "output_type": "stream",
     "text": [
      "termination status: SLOW_PROGRESS\n",
      "solution status: FEASIBLE_POINT\n",
      "optimum = -0.0006655188847673699\n"
     ]
    },
    {
     "name": "stdout",
     "output_type": "stream",
     "text": [
      "Found a locally optimal solution by Ipopt, giving an upper bound: -0.00000000.\n",
      "The relative optimality gap is: 0.066552%.\n",
      "--- TSSOS higher output end ---\n",
      "--- TSSOS higher RM output: ---\n",
      "--- TSSOS higher output end ---\n",
      ">>> SCALED TSSOS with removing of mirco coefficients"
     ]
    },
    {
     "name": "stdout",
     "output_type": "stream",
     "text": [
      "\n",
      "*********************************** TSSOS ***********************************\n",
      "Version 1.0.0, developed by Jie Wang, 2020--2023\n",
      "TSSOS is launching...\n",
      "termination status: SLOW_PROGRESS"
     ]
    },
    {
     "name": "stdout",
     "output_type": "stream",
     "text": [
      "\n",
      "solution status: FEASIBLE_POINT\n",
      "optimum = -0.0021562732103928947\n",
      "Found a locally optimal solution by Ipopt, giving an upper bound: 0.00000000.\n",
      "The relative optimality gap is: 0.215627%.\n"
     ]
    },
    {
     "name": "stdout",
     "output_type": "stream",
     "text": [
      "--- TSSOS higher RM&SCALED output: ---\n"
     ]
    },
    {
     "name": "stdout",
     "output_type": "stream",
     "text": [
      "termination status: SLOW_PROGRESS\n",
      "solution status: FEASIBLE_POINT\n",
      "optimum = -0.0010980100618795258\n"
     ]
    },
    {
     "name": "stdout",
     "output_type": "stream",
     "text": [
      "Found a locally optimal solution by Ipopt, giving an upper bound: 0.00000000.\n",
      "The relative optimality gap is: 0.109801%.\n",
      "--- TSSOS higher output end ---\n",
      "--- TSSOS higher RM&SCALED output: ---\n",
      "--- TSSOS higher output end ---\n",
      "Best POP method for LME: tssos\n",
      "\n",
      " Minimum fidelities vs spin-boson of \n",
      "         POP:      DMD:     Kraus-corrected DMD:\n",
      "State_D1 "
     ]
    },
    {
     "name": "stdout",
     "output_type": "stream",
     "text": [
      "0.996321912230 0.996897630752 0.989587058025\n",
      "State_D2 0.998956785436 0.998616846964 0.996374033576\n",
      "State_D3 0.995673240086 0.995535507861 0.989082432356\n",
      "State_D4 0.998966603426 0.998646724779 0.996775781619\n",
      "State_D5 "
     ]
    },
    {
     "name": "stdout",
     "output_type": "stream",
     "text": [
      "0.998658453815 0.998798286903 0.993430488515\n",
      "State_D6 0.988124185282 0.987998695204 0.990694307312\n",
      "State_D7 0.992909460525 0.993031230979 0.985956241138\n"
     ]
    },
    {
     "name": "stdout",
     "output_type": "stream",
     "text": [
      "State_D8 0.988101510084 0.987830802731 0.992124368342\n",
      "State_D9 0.999766938373 0.999810226738 0.996233195840\n",
      "State_D10 0.999746290512 0.999489762237 0.996491236861\n",
      "State_D11 0.981550012850 0.982519260848 0.986517562176\n"
     ]
    },
    {
     "name": "stdout",
     "output_type": "stream",
     "text": [
      "State_D12 0.996551236589 0.996865103462 0.996671742283\n",
      "State_D13 0.980138771543 0.979648526810 0.985500674619\n",
      "State_D14 0.995555829942 0.994819362506 0.995555399369\n",
      "State_D15 0.989310278831 0.989850707124 0.991467468187\n"
     ]
    },
    {
     "name": "stdout",
     "output_type": "stream",
     "text": [
      "State_D16 0.998745442564 0.998880180380 0.993468110415\n",
      "State_D17 0.974763427081 0.974939003694 0.982078952957\n"
     ]
    },
    {
     "name": "stdout",
     "output_type": "stream",
     "text": [
      "State_D18 0.997712918396 0.997292078263 0.993828358902\n",
      "State_D19 0.995209734163 0.995697213308 0.996178128654\n",
      "State_D20 0.993926212869 0.993024853110 0.994782710811\n",
      "Test for γ = 25.133 done in 0.7006168365478516\n",
      "γ = 79.477\n",
      "------ Spin-boson:"
     ]
    },
    {
     "name": "stdout",
     "output_type": "stream",
     "text": [
      "\n",
      ">>> HomotopyContinuation \n",
      " Homotopy failed"
     ]
    },
    {
     "name": "stdout",
     "output_type": "stream",
     "text": [
      "\n",
      ">>> just plain TSSOS \n",
      "*********************************** TSSOS ***********************************\n",
      "Version 1.0.0, developed by Jie Wang, 2020--2023\n",
      "TSSOS is launching...\n",
      "termination status: SLOW_PROGRESS"
     ]
    },
    {
     "name": "stdout",
     "output_type": "stream",
     "text": [
      "\n",
      "solution status: FEASIBLE_POINT\n",
      "optimum = 1.2720668389659939e-5\n",
      "Found a locally optimal solution by Ipopt, giving an upper bound: 0.00046782.\n",
      "The relative optimality gap is: 0.045510%.\n"
     ]
    },
    {
     "name": "stdout",
     "output_type": "stream",
     "text": [
      "--- TSSOS higher output: ---\n"
     ]
    },
    {
     "name": "stdout",
     "output_type": "stream",
     "text": [
      "termination status: SLOW_PROGRESS\n",
      "solution status: FEASIBLE_POINT\n",
      "optimum = -9.086478000304001e-5\n"
     ]
    },
    {
     "name": "stdout",
     "output_type": "stream",
     "text": [
      "Found a locally optimal solution by Ipopt, giving an upper bound: 0.00046782.\n",
      "The relative optimality gap is: 0.055869%.\n",
      "--- TSSOS higher output end ---\n",
      "--- TSSOS higher output: ---\n",
      "--- TSSOS higher output end ---\n",
      ">>> just SCALED TSSOS "
     ]
    },
    {
     "name": "stdout",
     "output_type": "stream",
     "text": [
      "\n",
      "*********************************** TSSOS ***********************************\n",
      "Version 1.0.0, developed by Jie Wang, 2020--2023\n",
      "TSSOS is launching...\n",
      "termination status: SLOW_PROGRESS"
     ]
    },
    {
     "name": "stdout",
     "output_type": "stream",
     "text": [
      "\n",
      "solution status: FEASIBLE_POINT\n",
      "optimum = -0.0011683989868805074\n",
      "The local solver failed refining the solution!"
     ]
    },
    {
     "name": "stdout",
     "output_type": "stream",
     "text": [
      "\n",
      "--- TSSOS SCALED higher output: ---\n",
      "termination status: SLOW_PROGRESS"
     ]
    },
    {
     "name": "stdout",
     "output_type": "stream",
     "text": [
      "\n",
      "solution status: FEASIBLE_POINT\n",
      "optimum = 0.0002870647628321285\n",
      "The local solver failed refining the solution!"
     ]
    },
    {
     "name": "stdout",
     "output_type": "stream",
     "text": [
      "\n",
      "--- TSSOS higher output end ---\n",
      "--- TSSOS SCALED higher output: ---\n",
      "--- TSSOS higher output end ---\n",
      " >>> TSSOS with removing of mirco coefficients "
     ]
    },
    {
     "name": "stdout",
     "output_type": "stream",
     "text": [
      "\n",
      "*********************************** TSSOS ***********************************\n",
      "Version 1.0.0, developed by Jie Wang, 2020--2023\n",
      "TSSOS is launching...\n",
      "termination status: SLOW_PROGRESS"
     ]
    },
    {
     "name": "stdout",
     "output_type": "stream",
     "text": [
      "\n",
      "solution status: FEASIBLE_POINT\n",
      "optimum = 1.2720668389659939e-5\n",
      "Found a locally optimal solution by Ipopt, giving an upper bound: 0.00046782.\n",
      "The relative optimality gap is: 0.045510%.\n"
     ]
    },
    {
     "name": "stdout",
     "output_type": "stream",
     "text": [
      "--- TSSOS higher RM output: ---\n"
     ]
    },
    {
     "name": "stdout",
     "output_type": "stream",
     "text": [
      "termination status: SLOW_PROGRESS\n",
      "solution status: FEASIBLE_POINT\n",
      "optimum = -9.086478000304001e-5\n"
     ]
    },
    {
     "name": "stdout",
     "output_type": "stream",
     "text": [
      "Found a locally optimal solution by Ipopt, giving an upper bound: 0.00046782.\n",
      "The relative optimality gap is: 0.055869%.\n",
      "--- TSSOS higher output end ---\n",
      "--- TSSOS higher RM output: ---\n",
      "--- TSSOS higher output end ---\n",
      ">>> SCALED TSSOS with removing of mirco coefficients"
     ]
    },
    {
     "name": "stdout",
     "output_type": "stream",
     "text": [
      "\n",
      "*********************************** TSSOS ***********************************\n",
      "Version 1.0.0, developed by Jie Wang, 2020--2023\n",
      "TSSOS is launching...\n",
      "termination status: SLOW_PROGRESS"
     ]
    },
    {
     "name": "stdout",
     "output_type": "stream",
     "text": [
      "\n",
      "solution status: FEASIBLE_POINT\n",
      "optimum = -0.0011683989868805074\n",
      "Found a locally optimal solution by Ipopt, giving an upper bound: 0.00046762.\n",
      "The relative optimality gap is: 0.163602%.\n"
     ]
    },
    {
     "name": "stdout",
     "output_type": "stream",
     "text": [
      "--- TSSOS higher RM&SCALED output: ---\n"
     ]
    },
    {
     "name": "stdout",
     "output_type": "stream",
     "text": [
      "termination status: SLOW_PROGRESS\n",
      "solution status: FEASIBLE_POINT\n",
      "optimum = 0.0002870647628321285\n"
     ]
    },
    {
     "name": "stdout",
     "output_type": "stream",
     "text": [
      "The local solver failed refining the solution!\n",
      "--- TSSOS higher output end ---\n",
      "--- TSSOS higher RM&SCALED output: ---\n",
      "--- TSSOS higher output end ---\n",
      "Best POP method for spin-boson: tssos\n",
      "------ LME:\n",
      ">>> HomotopyContinuation \n",
      " Homotopy failed"
     ]
    },
    {
     "name": "stdout",
     "output_type": "stream",
     "text": [
      "\n",
      ">>> just plain TSSOS \n",
      "*********************************** TSSOS ***********************************\n",
      "Version 1.0.0, developed by Jie Wang, 2020--2023\n",
      "TSSOS is launching...\n",
      "termination status: SLOW_PROGRESS"
     ]
    },
    {
     "name": "stdout",
     "output_type": "stream",
     "text": [
      "\n",
      "solution status: FEASIBLE_POINT\n",
      "optimum = -0.0009517258392473711\n",
      "Found a locally optimal solution by Ipopt, giving an upper bound: 0.00000000.\n",
      "The relative optimality gap is: 0.095173%.\n"
     ]
    },
    {
     "name": "stdout",
     "output_type": "stream",
     "text": [
      "--- TSSOS higher output: ---\n"
     ]
    },
    {
     "name": "stdout",
     "output_type": "stream",
     "text": [
      "termination status: SLOW_PROGRESS\n",
      "solution status: FEASIBLE_POINT\n",
      "optimum = -0.001079092135304948\n"
     ]
    },
    {
     "name": "stdout",
     "output_type": "stream",
     "text": [
      "Found a locally optimal solution by Ipopt, giving an upper bound: 0.00000000.\n",
      "The relative optimality gap is: 0.107909%.\n",
      "--- TSSOS higher output end ---\n",
      "--- TSSOS higher output: ---\n",
      "--- TSSOS higher output end ---\n",
      ">>> just SCALED TSSOS "
     ]
    },
    {
     "name": "stdout",
     "output_type": "stream",
     "text": [
      "\n",
      "*********************************** TSSOS ***********************************\n",
      "Version 1.0.0, developed by Jie Wang, 2020--2023\n",
      "TSSOS is launching...\n",
      "termination status: SLOW_PROGRESS"
     ]
    },
    {
     "name": "stdout",
     "output_type": "stream",
     "text": [
      "\n",
      "solution status: FEASIBLE_POINT\n",
      "optimum = -0.0009738219380874992\n",
      "Found a locally optimal solution by Ipopt, giving an upper bound: 0.00000124.\n",
      "The relative optimality gap is: 0.097507%.\n"
     ]
    },
    {
     "name": "stdout",
     "output_type": "stream",
     "text": [
      "--- TSSOS SCALED higher output: ---\n"
     ]
    },
    {
     "name": "stdout",
     "output_type": "stream",
     "text": [
      "termination status: SLOW_PROGRESS\n",
      "solution status: FEASIBLE_POINT\n",
      "optimum = -0.0005610805054909249\n"
     ]
    },
    {
     "name": "stdout",
     "output_type": "stream",
     "text": [
      "Found a locally optimal solution by Ipopt, giving an upper bound: 0.00000011.\n",
      "The relative optimality gap is: 0.056119%.\n",
      "--- TSSOS higher output end ---\n",
      "--- TSSOS SCALED higher output: ---\n",
      "--- TSSOS higher output end ---\n",
      " >>> TSSOS with removing of mirco coefficients "
     ]
    },
    {
     "name": "stdout",
     "output_type": "stream",
     "text": [
      "\n",
      "*********************************** TSSOS ***********************************\n",
      "Version 1.0.0, developed by Jie Wang, 2020--2023\n",
      "TSSOS is launching...\n",
      "termination status: SLOW_PROGRESS"
     ]
    },
    {
     "name": "stdout",
     "output_type": "stream",
     "text": [
      "\n",
      "solution status: FEASIBLE_POINT\n",
      "optimum = -0.0009517258392473711\n",
      "Found a locally optimal solution by Ipopt, giving an upper bound: 0.00000000.\n",
      "The relative optimality gap is: 0.095173%.\n"
     ]
    },
    {
     "name": "stdout",
     "output_type": "stream",
     "text": [
      "--- TSSOS higher RM output: ---\n"
     ]
    },
    {
     "name": "stdout",
     "output_type": "stream",
     "text": [
      "termination status: SLOW_PROGRESS\n",
      "solution status: FEASIBLE_POINT\n",
      "optimum = -0.001079092135304948\n"
     ]
    },
    {
     "name": "stdout",
     "output_type": "stream",
     "text": [
      "Found a locally optimal solution by Ipopt, giving an upper bound: 0.00000000.\n",
      "The relative optimality gap is: 0.107909%.\n",
      "--- TSSOS higher output end ---\n",
      "--- TSSOS higher RM output: ---\n",
      "--- TSSOS higher output end ---\n",
      ">>> SCALED TSSOS with removing of mirco coefficients"
     ]
    },
    {
     "name": "stdout",
     "output_type": "stream",
     "text": [
      "\n",
      "*********************************** TSSOS ***********************************\n",
      "Version 1.0.0, developed by Jie Wang, 2020--2023\n",
      "TSSOS is launching...\n",
      "termination status: SLOW_PROGRESS"
     ]
    },
    {
     "name": "stdout",
     "output_type": "stream",
     "text": [
      "\n",
      "solution status: FEASIBLE_POINT\n",
      "optimum = -0.0009738219380874992\n",
      "Found a locally optimal solution by Ipopt, giving an upper bound: 0.00000007.\n",
      "The relative optimality gap is: 0.097389%.\n"
     ]
    },
    {
     "name": "stdout",
     "output_type": "stream",
     "text": [
      "--- TSSOS higher RM&SCALED output: ---\n"
     ]
    },
    {
     "name": "stdout",
     "output_type": "stream",
     "text": [
      "termination status: SLOW_PROGRESS\n",
      "solution status: FEASIBLE_POINT\n",
      "optimum = -0.0005610805054909249\n"
     ]
    },
    {
     "name": "stdout",
     "output_type": "stream",
     "text": [
      "Found a locally optimal solution by Ipopt, giving an upper bound: 0.00000079.\n",
      "The relative optimality gap is: 0.056187%.\n",
      "--- TSSOS higher output end ---\n",
      "--- TSSOS higher RM&SCALED output: ---\n",
      "--- TSSOS higher output end ---\n",
      "Best POP method for LME: rm_micro_tssos\n",
      "\n",
      " Minimum fidelities vs spin-boson of \n",
      "         POP:      DMD:     Kraus-corrected DMD:\n",
      "State_D1 0.999855589124 0.999914966231 0.949008861296\n"
     ]
    },
    {
     "name": "stdout",
     "output_type": "stream",
     "text": [
      "State_D2 0.999936586795 0.999934964134 0.987952577608\n",
      "State_D3 0.999759643671 0.999789318109 0.948825210950\n"
     ]
    },
    {
     "name": "stdout",
     "output_type": "stream",
     "text": [
      "State_D4 0.999673489854 0.999737419154 0.987849426347\n",
      "State_D5 0.999835596980 0.999841953142 0.988723583550\n",
      "State_D6 0.999788434391 0.999839669686 0.989346664000\n",
      "State_D7 "
     ]
    },
    {
     "name": "stdout",
     "output_type": "stream",
     "text": [
      "0.999305196268 0.999866767990 0.895049434199\n",
      "State_D8 0.998969636634 0.999366746181 0.949179728864\n",
      "State_D9 0.999949430246 0.999936549760 0.988274919889\n"
     ]
    },
    {
     "name": "stdout",
     "output_type": "stream",
     "text": [
      "State_D10 0.999553479119 0.999597710632 0.988127134372\n",
      "State_D11 0.999158069097 0.999270914235 0.950526282977\n"
     ]
    },
    {
     "name": "stdout",
     "output_type": "stream",
     "text": [
      "State_D12 0.999462735557 0.999384392103 0.988401614409\n",
      "State_D13 0.999162292162 0.999734660213 0.950481822097\n",
      "State_D14 0.999658874297 0.999811708618 0.988465522841\n",
      "State_D15 "
     ]
    },
    {
     "name": "stdout",
     "output_type": "stream",
     "text": [
      "0.999648010555 0.999610839802 0.989254340218\n",
      "State_D16 0.999690225434 0.999697539507 0.988664630629\n",
      "State_D17 0.997893245551 0.999292228463 0.897278987867\n"
     ]
    },
    {
     "name": "stdout",
     "output_type": "stream",
     "text": [
      "State_D18 0.999782232471 0.999895497433 0.947560094801\n",
      "State_D19 0.999398031430 0.999306587525 0.988671215484\n",
      "State_D20 0.999714949593 0.999863534475 0.988712049776\n",
      "Test for γ = 79.477 done in 0.8448262214660645\n",
      "γ = 251.33\n",
      "------ Spin-boson:"
     ]
    },
    {
     "name": "stdout",
     "output_type": "stream",
     "text": [
      "\n",
      ">>> HomotopyContinuation \n",
      " Homotopy failed"
     ]
    },
    {
     "name": "stdout",
     "output_type": "stream",
     "text": [
      "\n",
      ">>> just plain TSSOS \n",
      "*********************************** TSSOS ***********************************\n",
      "Version 1.0.0, developed by Jie Wang, 2020--2023\n",
      "TSSOS is launching...\n",
      "termination status: SLOW_PROGRESS"
     ]
    },
    {
     "name": "stdout",
     "output_type": "stream",
     "text": [
      "\n",
      "solution status: FEASIBLE_POINT\n",
      "optimum = 0.003458469591292825\n",
      "Found a locally optimal solution by Ipopt, giving an upper bound: 0.00359159.\n",
      "The relative optimality gap is: 0.013312%.\n"
     ]
    },
    {
     "name": "stdout",
     "output_type": "stream",
     "text": [
      "--- TSSOS higher output: ---\n"
     ]
    },
    {
     "name": "stdout",
     "output_type": "stream",
     "text": [
      "termination status: SLOW_PROGRESS\n",
      "solution status: FEASIBLE_POINT\n",
      "optimum = 0.003460093328850795\n"
     ]
    },
    {
     "name": "stdout",
     "output_type": "stream",
     "text": [
      "Found a locally optimal solution by Ipopt, giving an upper bound: 0.00359159.\n",
      "The relative optimality gap is: 0.013149%.\n",
      "--- TSSOS higher output end ---\n",
      "--- TSSOS higher output: ---\n",
      "--- TSSOS higher output end ---\n",
      ">>> just SCALED TSSOS "
     ]
    },
    {
     "name": "stdout",
     "output_type": "stream",
     "text": [
      "\n",
      "*********************************** TSSOS ***********************************\n",
      "Version 1.0.0, developed by Jie Wang, 2020--2023\n",
      "TSSOS is launching...\n",
      "termination status: SLOW_PROGRESS"
     ]
    },
    {
     "name": "stdout",
     "output_type": "stream",
     "text": [
      "\n",
      "solution status: FEASIBLE_POINT\n",
      "optimum = 0.002764391975548344\n",
      "Found a locally optimal solution by Ipopt, giving an upper bound: 0.00359159.\n",
      "The relative optimality gap is: 0.082720%.\n"
     ]
    },
    {
     "name": "stdout",
     "output_type": "stream",
     "text": [
      "--- TSSOS SCALED higher output: ---\n"
     ]
    },
    {
     "name": "stdout",
     "output_type": "stream",
     "text": [
      "termination status: SLOW_PROGRESS\n",
      "solution status: FEASIBLE_POINT\n",
      "optimum = 0.002920770211139294\n"
     ]
    },
    {
     "name": "stdout",
     "output_type": "stream",
     "text": [
      "The local solver failed refining the solution!\n",
      "--- TSSOS higher output end ---\n",
      "--- TSSOS SCALED higher output: ---\n",
      "--- TSSOS higher output end ---\n"
     ]
    },
    {
     "name": "stdout",
     "output_type": "stream",
     "text": [
      " >>> TSSOS with removing of mirco coefficients \n",
      "*********************************** TSSOS ***********************************\n",
      "Version 1.0.0, developed by Jie Wang, 2020--2023\n",
      "TSSOS is launching...\n"
     ]
    },
    {
     "name": "stdout",
     "output_type": "stream",
     "text": [
      "termination status: SLOW_PROGRESS\n",
      "solution status: FEASIBLE_POINT\n",
      "optimum = 0.003458469591292825\n"
     ]
    },
    {
     "name": "stdout",
     "output_type": "stream",
     "text": [
      "Found a locally optimal solution by Ipopt, giving an upper bound: 0.00359159.\n",
      "The relative optimality gap is: 0.013312%.\n",
      "--- TSSOS higher RM output: ---\n",
      "termination status: SLOW_PROGRESS"
     ]
    },
    {
     "name": "stdout",
     "output_type": "stream",
     "text": [
      "\n",
      "solution status: FEASIBLE_POINT\n",
      "optimum = 0.003460093328850795\n",
      "Found a locally optimal solution by Ipopt, giving an upper bound: 0.00359159.\n",
      "The relative optimality gap is: 0.013149%.\n"
     ]
    },
    {
     "name": "stdout",
     "output_type": "stream",
     "text": [
      "--- TSSOS higher output end ---\n",
      "--- TSSOS higher RM output: ---\n",
      "--- TSSOS higher output end ---\n"
     ]
    },
    {
     "name": "stdout",
     "output_type": "stream",
     "text": [
      ">>> SCALED TSSOS with removing of mirco coefficients\n",
      "*********************************** TSSOS ***********************************\n",
      "Version 1.0.0, developed by Jie Wang, 2020--2023\n",
      "TSSOS is launching...\n"
     ]
    },
    {
     "name": "stdout",
     "output_type": "stream",
     "text": [
      "termination status: SLOW_PROGRESS\n",
      "solution status: FEASIBLE_POINT\n",
      "optimum = 0.002764391975548344\n"
     ]
    },
    {
     "name": "stdout",
     "output_type": "stream",
     "text": [
      "The local solver failed refining the solution!\n",
      "--- TSSOS higher RM&SCALED output: ---\n"
     ]
    },
    {
     "name": "stdout",
     "output_type": "stream",
     "text": [
      "termination status: SLOW_PROGRESS\n",
      "solution status: FEASIBLE_POINT\n",
      "optimum = 0.002920770211139294\n"
     ]
    },
    {
     "name": "stdout",
     "output_type": "stream",
     "text": [
      "Found a locally optimal solution by Ipopt, giving an upper bound: 0.00359159.\n",
      "The relative optimality gap is: 0.067082%.\n",
      "--- TSSOS higher output end ---\n",
      "--- TSSOS higher RM&SCALED output: ---\n",
      "--- TSSOS higher output end ---\n",
      "Best POP method for spin-boson: rm_scaled_tssos\n",
      "------ LME:\n",
      ">>> HomotopyContinuation \n"
     ]
    },
    {
     "name": "stdout",
     "output_type": "stream",
     "text": [
      " Homotopy failed\n",
      ">>> just plain TSSOS \n",
      "*********************************** TSSOS ***********************************\n",
      "Version 1.0.0, developed by Jie Wang, 2020--2023\n",
      "TSSOS is launching...\n"
     ]
    },
    {
     "name": "stdout",
     "output_type": "stream",
     "text": [
      "termination status: SLOW_PROGRESS\n",
      "solution status: FEASIBLE_POINT\n",
      "optimum = -0.00041184386069353387\n"
     ]
    },
    {
     "name": "stdout",
     "output_type": "stream",
     "text": [
      "Found a locally optimal solution by Ipopt, giving an upper bound: 0.00000000.\n",
      "The relative optimality gap is: 0.041185%.\n",
      "--- TSSOS higher output: ---\n",
      "optimum = -2.6693722122985925e-6"
     ]
    },
    {
     "name": "stdout",
     "output_type": "stream",
     "text": [
      "\n",
      "Global optimality certified with relative optimality gap 0.000268%!\n"
     ]
    },
    {
     "name": "stdout",
     "output_type": "stream",
     "text": [
      "--- TSSOS higher output end ---\n",
      "--- TSSOS higher output: ---\n",
      "--- TSSOS higher output end ---\n"
     ]
    },
    {
     "name": "stdout",
     "output_type": "stream",
     "text": [
      ">>> just SCALED TSSOS \n",
      "*********************************** TSSOS ***********************************\n",
      "Version 1.0.0, developed by Jie Wang, 2020--2023\n",
      "TSSOS is launching...\n"
     ]
    },
    {
     "name": "stdout",
     "output_type": "stream",
     "text": [
      "termination status: SLOW_PROGRESS\n",
      "solution status: FEASIBLE_POINT\n",
      "optimum = -0.0008913559439970314\n"
     ]
    },
    {
     "name": "stdout",
     "output_type": "stream",
     "text": [
      "Found a locally optimal solution by Ipopt, giving an upper bound: 0.00000003.\n",
      "The relative optimality gap is: 0.089139%.\n",
      "--- TSSOS SCALED higher output: ---\n",
      "termination status: SLOW_PROGRESS"
     ]
    },
    {
     "name": "stdout",
     "output_type": "stream",
     "text": [
      "\n",
      "solution status: FEASIBLE_POINT\n",
      "optimum = -0.0003466381604578583\n",
      "Found a locally optimal solution by Ipopt, giving an upper bound: 0.00000014.\n",
      "The relative optimality gap is: 0.034678%.\n"
     ]
    },
    {
     "name": "stdout",
     "output_type": "stream",
     "text": [
      "--- TSSOS higher output end ---\n",
      "--- TSSOS SCALED higher output: ---\n",
      "--- TSSOS higher output end ---\n"
     ]
    },
    {
     "name": "stdout",
     "output_type": "stream",
     "text": [
      " >>> TSSOS with removing of mirco coefficients \n",
      "*********************************** TSSOS ***********************************\n",
      "Version 1.0.0, developed by Jie Wang, 2020--2023\n",
      "TSSOS is launching...\n"
     ]
    },
    {
     "name": "stdout",
     "output_type": "stream",
     "text": [
      "termination status: SLOW_PROGRESS\n",
      "solution status: FEASIBLE_POINT\n",
      "optimum = -0.00041184386069353387\n"
     ]
    },
    {
     "name": "stdout",
     "output_type": "stream",
     "text": [
      "Found a locally optimal solution by Ipopt, giving an upper bound: 0.00000000.\n",
      "The relative optimality gap is: 0.041184%.\n",
      "--- TSSOS higher RM output: ---\n",
      "optimum = -2.6693722122985925e-6"
     ]
    },
    {
     "name": "stdout",
     "output_type": "stream",
     "text": [
      "\n",
      "Global optimality certified with relative optimality gap 0.000267%!\n"
     ]
    },
    {
     "name": "stdout",
     "output_type": "stream",
     "text": [
      "--- TSSOS higher output end ---\n",
      "--- TSSOS higher RM output: ---\n",
      "--- TSSOS higher output end ---\n"
     ]
    },
    {
     "name": "stdout",
     "output_type": "stream",
     "text": [
      ">>> SCALED TSSOS with removing of mirco coefficients\n",
      "*********************************** TSSOS ***********************************\n",
      "Version 1.0.0, developed by Jie Wang, 2020--2023\n",
      "TSSOS is launching...\n"
     ]
    },
    {
     "name": "stdout",
     "output_type": "stream",
     "text": [
      "termination status: SLOW_PROGRESS\n",
      "solution status: FEASIBLE_POINT\n",
      "optimum = -0.0008913559439970314\n"
     ]
    },
    {
     "name": "stdout",
     "output_type": "stream",
     "text": [
      "Found a locally optimal solution by Ipopt, giving an upper bound: 0.00000003.\n",
      "The relative optimality gap is: 0.089139%.\n",
      "--- TSSOS higher RM&SCALED output: ---\n",
      "termination status: SLOW_PROGRESS"
     ]
    },
    {
     "name": "stdout",
     "output_type": "stream",
     "text": [
      "\n",
      "solution status: FEASIBLE_POINT\n",
      "optimum = -0.0003466381604578583\n",
      "Found a locally optimal solution by Ipopt, giving an upper bound: 0.00000030.\n",
      "The relative optimality gap is: 0.034694%.\n"
     ]
    },
    {
     "name": "stdout",
     "output_type": "stream",
     "text": [
      "--- TSSOS higher output end ---\n",
      "--- TSSOS higher RM&SCALED output: ---\n",
      "--- TSSOS higher output end ---\n",
      "Best POP method for LME: rm_micro_tssos\n",
      "\n",
      " Minimum fidelities vs spin-boson of \n",
      "         POP:      DMD:     Kraus-corrected DMD:\n",
      "State_D1 0.998053957523 0.998122861807 0.982958295980\n",
      "State_D2 "
     ]
    },
    {
     "name": "stdout",
     "output_type": "stream",
     "text": [
      "0.997202062733 0.997078715166 0.994104084855\n",
      "State_D3 0.997969579564 0.997860379441 0.983685601573\n",
      "State_D4 0.997108448531 0.997216263558 0.994520245825\n",
      "State_D5 0.996613747348 0.996697138470 0.996695671600\n",
      "State_D6 0.996230385802 0.996093827108 0.995909279951\n"
     ]
    },
    {
     "name": "stdout",
     "output_type": "stream",
     "text": [
      "State_D7 0.998366568541 0.999711431758 0.931859765809\n",
      "State_D8 0.998873835552 0.999224267831 0.958960273319\n",
      "State_D9 0.997018575001 0.996993237985 0.996590723564\n",
      "State_D10 "
     ]
    },
    {
     "name": "stdout",
     "output_type": "stream",
     "text": [
      "0.996856360250 0.996867828090 0.997079650604\n",
      "State_D11 0.997768570515 0.997893104888 0.979195600819\n",
      "State_D12 0.997379093968 0.997190652218 0.991817934484\n",
      "State_D13 0.997837285851 0.997713107267 0.980097300172\n",
      "State_D14 0.997460973331 0.997597929508 0.992371677419\n",
      "State_D15 0.996171769130 0.996290678457 0.996120489000\n",
      "State_D16 "
     ]
    },
    {
     "name": "stdout",
     "output_type": "stream",
     "text": [
      "0.996555542855 0.996400172585 0.996782690047\n",
      "State_D17 0.995729813271 0.997965045796 0.923963284559\n",
      "State_D18 0.999056280439 0.999042829078 0.964690407289\n",
      "State_D19 0.996882526918 0.996866465852 0.994858772053\n",
      "State_D20 0.997033530417 0.997040642516 0.995545280140\n",
      "Test for γ = 251.33 done in 0.433549165725708\n",
      "All calculations finished.\n",
      "Tests saved in POP-Kraus_vs_DMD_trn4-tst20_polymin_fids_2023-Sep-17_at_16-53.h5\n"
     ]
    }
   ],
   "source": [
    "parentdir = pwd()\n",
    "data_dir = parentdir*\"/DATA/\"\n",
    "println(data_dir)\n",
    "\n",
    "models_dir = parentdir*\"/MODELS/\"\n",
    "tests_dir = parentdir*\"/TESTS/\"\n",
    "\n",
    "dodeca_files = [\"State_D\"*string(n) for n=1:20];\n",
    "basis_files = [\"State_B\"*string(n) for n=1:4];\n",
    "\n",
    "test_files = dodeca_files;\n",
    "\n",
    "γ_list = [ \"0.079477\",  \"0.25133\", \"0.79477\", \"2.5133\", \"7.9477\", \"25.133\",  \"79.477\", \"251.33\"]\n",
    "\n",
    "date_and_time_string =  string(Dates.format(now(), \"yyyy-u-dd_at_HH-MM\"))\n",
    "models_file = \"POP-Kraus_vs_DMD_trn4_polymin_models_\"*date_and_time_string * \".h5\"\n",
    "tests_data_file_name = \"POP-Kraus_vs_DMD_trn4-tst20_polymin_fids_\"*date_and_time_string * \".h5\"\n",
    "\n",
    "println(models_file)\n",
    "\n",
    "for γᵢ in γ_list\n",
    "\n",
    "    println(\"γ = \", γᵢ)\n",
    "\n",
    "    if γᵢ == \"0.0\" \n",
    "        ρᵉ, tᵉ = LiPoSID.get_rho_series(data_dir*\"State_B2_2CUT_data.h5\", \"0.079477\")\n",
    "        ρᵍ, tᵍ = LiPoSID.get_rho_series(data_dir*\"State_B1_2CUT_data.h5\", \"0.079477\")\n",
    "        ρˣ, tˣ = LiPoSID.get_rho_series(data_dir*\"State_B3_2CUT_data.h5\", \"0.079477\")\n",
    "        ρʸ, tʸ = LiPoSID.get_rho_series(data_dir*\"State_B4_2CUT_data.h5\", \"0.079477\")\n",
    "    else \n",
    "        ρᵉ, tᵉ = LiPoSID.get_rho_series(data_dir*\"State_B2_2CUT_data.h5\", γᵢ)\n",
    "        ρᵍ, tᵍ = LiPoSID.get_rho_series(data_dir*\"State_B1_2CUT_data.h5\", γᵢ)\n",
    "        ρˣ, tˣ = LiPoSID.get_rho_series(data_dir*\"State_B3_2CUT_data.h5\", γᵢ)\n",
    "        ρʸ, tʸ = LiPoSID.get_rho_series(data_dir*\"State_B4_2CUT_data.h5\", γᵢ)\n",
    "    end\n",
    "\n",
    "    lᵉ = length(ρᵉ); lᵍ = length(ρᵍ); lˣ = length(ρˣ); lʸ = length(ρʸ)\n",
    "    lᵐᵃˣ = min(lᵉ, lᵍ,  lˣ, lʸ)  #choose time limit by shortest series\n",
    "\n",
    "    ωᶠ = 25.126\n",
    "\n",
    "    Hᴸᴹᴱ = [ ωᶠ       0\n",
    "             0        0   ]\n",
    "\n",
    "    γᶠ = parse(Float64, γᵢ)\n",
    "\n",
    "    Aᴸᴹᴱ = [ 0    √γᶠ\n",
    "             0     0. + 0im  ]\n",
    "\n",
    "    tᵉᶠ = convert.(Float64, tᵉ); tᵍᶠ = convert.(Float64, tᵍ); \n",
    "    tˣᶠ = convert.(Float64, tˣ); tʸᶠ = convert.(Float64, tʸ); \n",
    "\n",
    "    t = tˣᶠ\n",
    "    Δt = t[2] - t[1] #0.02\n",
    "\n",
    "    ρᵉᴸᴹᴱ = LiPoSID.Lindblad_time_evolution(basis, ρᵉ[1], tᵉᶠ, Hᴸᴹᴱ, [Aᴸᴹᴱ])\n",
    "    ρᵍᴸᴹᴱ = LiPoSID.Lindblad_time_evolution(basis, ρᵍ[1], tᵍᶠ, Hᴸᴹᴱ, [Aᴸᴹᴱ])\n",
    "    ρˣᴸᴹᴱ = LiPoSID.Lindblad_time_evolution(basis, ρˣ[1], tˣᶠ, Hᴸᴹᴱ, [Aᴸᴹᴱ])\n",
    "    ρʸᴸᴹᴱ = LiPoSID.Lindblad_time_evolution(basis, ρʸ[1], tʸᶠ, Hᴸᴹᴱ, [Aᴸᴹᴱ])\n",
    "\n",
    "    Aᴰᴹᴰ⁻ˢᴮ = LiPoSID.direct_DMD_01XY_b4_A([ρᵉ[1:lᵐᵃˣ], ρᵍ[1:lᵐᵃˣ], ρˣ[1:lᵐᵃˣ], ρʸ[1:lᵐᵃˣ]])\n",
    "    Aᴰᴹᴰ⁻ᴸᴹᴱ = LiPoSID.direct_DMD_01XY_b4_A([ρᵉᴸᴹᴱ[1:lᵐᵃˣ], ρᵍᴸᴹᴱ[1:lᵐᵃˣ], ρˣᴸᴹᴱ[1:lᵐᵃˣ], ρʸᴸᴹᴱ[1:lᵐᵃˣ]])\n",
    "\n",
    "    ρᵍ₀ = [1. 0]' * [1 0]\n",
    "    ρᵉ₀ = [0. 1]' * [0 1]\n",
    "    ρˣ₀ = [1  1]' * [1 1]/2\n",
    "    ρʸ₀ = [1 -im]' * [1 -im]/2\n",
    "\n",
    "    ρᵍ₁ᴸᴹᴱ = LiPoSID.DMD_step(Aᴰᴹᴰ⁻ᴸᴹᴱ, ρᵍ₀)\n",
    "    ρᵉ₁ᴸᴹᴱ = LiPoSID.DMD_step(Aᴰᴹᴰ⁻ᴸᴹᴱ, ρᵉ₀)\n",
    "    ρˣ₁ᴸᴹᴱ = LiPoSID.DMD_step(Aᴰᴹᴰ⁻ᴸᴹᴱ, ρˣ₀)\n",
    "    ρʸ₁ᴸᴹᴱ = LiPoSID.DMD_step(Aᴰᴹᴰ⁻ᴸᴹᴱ, ρʸ₀)\n",
    "\n",
    "    ρᵍ₁ˢᴮ = LiPoSID.DMD_step(Aᴰᴹᴰ⁻ˢᴮ, ρᵍ₀)\n",
    "    ρᵉ₁ˢᴮ = LiPoSID.DMD_step(Aᴰᴹᴰ⁻ˢᴮ, ρᵉ₀)\n",
    "    ρˣ₁ˢᴮ = LiPoSID.DMD_step(Aᴰᴹᴰ⁻ˢᴮ, ρˣ₀)\n",
    "    ρʸ₁ˢᴮ = LiPoSID.DMD_step(Aᴰᴹᴰ⁻ˢᴮ, ρʸ₀)\n",
    "\n",
    "    Eᴰᴹᴰ⁻ᴸᴹᴱ, dᴸᴹᴱ = LiPoSID.QPT(ρᵍ₁ᴸᴹᴱ, ρᵉ₁ᴸᴹᴱ, ρˣ₁ᴸᴹᴱ, ρʸ₁ᴸᴹᴱ)\n",
    "    Eᴰᴹᴰ⁻ˢᴮ, dˢᴮ = LiPoSID.QPT(ρᵍ₁ˢᴮ, ρᵉ₁ˢᴮ, ρˣ₁ˢᴮ, ρʸ₁ˢᴮ)\n",
    "\n",
    "    operators_num = length(Eᴰᴹᴰ⁻ˢᴮ) # 3\n",
    "\n",
    "    @polyvar α[1:2, 1:2, 1:operators_num]\n",
    "    @polyvar β[1:2, 1:2, 1:operators_num]\n",
    "\n",
    "    Kₛ = []\n",
    "\n",
    "    for i in 1:operators_num\n",
    "        K = α[:,:,i] + im * β[:,:,i]\n",
    "        push!(Kₛ, K)\n",
    "    end\n",
    "\n",
    "    objᵍ = LiPoSID.kraus_obj(ρᵍ, Kₛ)\n",
    "    objᵉ = LiPoSID.kraus_obj(ρᵉ, Kₛ)\n",
    "    objˣ = LiPoSID.kraus_obj(ρˣ, Kₛ)\n",
    "    objʸ = LiPoSID.kraus_obj(ρʸ, Kₛ)\n",
    "\n",
    "    objˢᴮ =  objᵍ + objᵉ + objˣ + objʸ\n",
    "    #objˢᴮₛ = rm_micro_coefs(objˢᴮ)\n",
    "\n",
    "    objᵍᴸᴹᴱ = LiPoSID.kraus_obj(ρᵍᴸᴹᴱ, Kₛ)\n",
    "    objᵉᴸᴹᴱ = LiPoSID.kraus_obj(ρᵉᴸᴹᴱ, Kₛ)\n",
    "    objˣᴸᴹᴱ = LiPoSID.kraus_obj(ρˣᴸᴹᴱ, Kₛ)\n",
    "    objʸᴸᴹᴱ = LiPoSID.kraus_obj(ρʸᴸᴹᴱ, Kₛ)\n",
    "\n",
    "    objᴸᴹᴱ =  objᵍᴸᴹᴱ + objᵉᴸᴹᴱ + objˣᴸᴹᴱ + objʸᴸᴹᴱ\n",
    "\n",
    "    #objᴸᴹᴱₛ = rm_micro_coefs(objᴸᴹᴱ)\n",
    "\n",
    "    constr = LiPoSID.frobenius_norm2(sum(k' * k for k in Kₛ) - I)\n",
    "\n",
    "    solᴰᴹᴰ⁻ˢᴮ = solution_from_operator_sum(Eᴰᴹᴰ⁻ˢᴮ)\n",
    "    solᴰᴹᴰ⁻ᴸᴹᴱ = solution_from_operator_sum(Eᴰᴹᴰ⁻ᴸᴹᴱ)\n",
    "\n",
    "    println(\"------ Spin-boson:\")\n",
    "\n",
    "    solᴾᴼᴾ⁻ˢᴮ, best_methodᴾᴼᴾ⁻ˢᴮ = poly_min(objˢᴮ, constr)\n",
    "\n",
    "    println(\"Best POP method for spin-boson: \", best_methodᴾᴼᴾ⁻ˢᴮ)\n",
    "   \n",
    "    solutionᴰᴹᴰ⁻ˢᴮ = variables(objˢᴮ) => solᴰᴹᴰ⁻ˢᴮ\n",
    "    solutionᴾᴼᴾ⁻ˢᴮ = variables(objˢᴮ) => solᴾᴼᴾ⁻ˢᴮ\n",
    "\n",
    "\n",
    "    println(\"------ LME:\")\n",
    "\n",
    "    solᴾᴼᴾ⁻ᴸᴹᴱ, best_methodᴾᴼᴾ⁻ᴸᴹᴱ = poly_min(objᴸᴹᴱ, constr)\n",
    "\n",
    "    println(\"Best POP method for LME: \", best_methodᴾᴼᴾ⁻ᴸᴹᴱ)\n",
    "      \n",
    "    solutionᴰᴹᴰ⁻ᴸᴹᴱ = variables(objᴸᴹᴱ) => solᴰᴹᴰ⁻ᴸᴹᴱ\n",
    "    solutionᴾᴼᴾ⁻ᴸᴹᴱ = variables(objᴸᴹᴱ) => solᴾᴼᴾ⁻ᴸᴹᴱ\n",
    "\n",
    "    Eᴾᴼᴾ⁻ˢᴮ = [convert.(ComplexF64, subs(k, solutionᴾᴼᴾ⁻ˢᴮ)) for k in Kₛ]\n",
    "    Eᴾᴼᴾ⁻ᴸᴹᴱ = [convert.(ComplexF64, subs(k, solutionᴾᴼᴾ⁻ᴸᴹᴱ)) for k in Kₛ]\n",
    "\n",
    "    obj_val_POP_sb = convert(Float64, subs(objˢᴮ, solutionᴾᴼᴾ⁻ˢᴮ))\n",
    "    obj_val_DMD_sb = convert(Float64, subs(objˢᴮ, solutionᴰᴹᴰ⁻ˢᴮ))\n",
    "    obj_val_POP_LME = convert(Float64, subs(objᴸᴹᴱ, solutionᴾᴼᴾ⁻ᴸᴹᴱ))\n",
    "    obj_val_DMD_LME = convert(Float64, subs(objᴸᴹᴱ, solutionᴰᴹᴰ⁻ᴸᴹᴱ))\n",
    "\n",
    "\n",
    "    h5open(models_dir*models_file,\"cw\") do fid  # read-write, create file if not existing, preserve existing contents\n",
    "\n",
    "        γ_group = create_group(fid, \"gamma_\"*γᵢ)   \n",
    "        \n",
    "        for i in 1:operators_num\n",
    "\n",
    "            γ_group[\"E_DMD-LME_\"*string(i)] = [convert.(ComplexF64, e) for e in Eᴰᴹᴰ⁻ᴸᴹᴱ][i]\n",
    "            γ_group[\"E_DMD-sb_\"*string(i)] =  [convert.(ComplexF64, e) for e in Eᴰᴹᴰ⁻ˢᴮ][i]\n",
    "            γ_group[\"E_POP-LME_\"*string(i)] = Eᴾᴼᴾ⁻ᴸᴹᴱ[i]\n",
    "            γ_group[\"E_POP-sb_\"*string(i)] = Eᴾᴼᴾ⁻ˢᴮ[i]\n",
    "\n",
    "        end\n",
    "\n",
    "        #γ_group[\"SDP_status1_pop-sb\"] = string(\"SDP_status1ᴾᴼᴾ⁻ˢᴮ\")\n",
    "        #γ_group[\"SDP_status2_pop-sb\"] = string(\"SDP_status2ᴾᴼᴾ⁻ˢᴮ\")\n",
    "        #γ_group[\"SDP_status1_pop-lme\"] = string(\"SDP_status1ᴾᴼᴾ⁻ᴸᴹᴱ\")\n",
    "        #γ_group[\"SDP_status2_pop-lme\"] = string(\"SDP_status2ᴾᴼᴾ⁻ᴸᴹᴱ\")\n",
    "        \n",
    "        γ_group[\"d_QPT_LME\"] = dᴸᴹᴱ\n",
    "        γ_group[\"d_QPT_sb\"] = dˢᴮ\n",
    "\n",
    "        #γ_group[\"sb_tssos_higher\"] = sb_tssos_higher\n",
    "        #γ_group[\"lme_tssos_higher\"] = lme_tssos_higher\n",
    "\n",
    "        γ_group[\"obj_val_DMD_LME\"] = obj_val_DMD_LME\n",
    "        γ_group[\"obj_val_DMD_sb\"] =  obj_val_DMD_sb\n",
    "        γ_group[\"obj_val_POP_LME\"] = obj_val_POP_LME\n",
    "        γ_group[\"obj_val_POP_sb\"] = obj_val_POP_sb\n",
    "\n",
    "        γ_group[\"method_POP_LME\"] = best_methodᴾᴼᴾ⁻ˢᴮ\n",
    "        γ_group[\"method_POP_sb\"] = best_methodᴾᴼᴾ⁻ᴸᴹᴱ\n",
    "        \n",
    "        #γ_group[\"A_sid_lme\"] = convert.(ComplexF64, Aˢⁱᵈₗₘₑ)\n",
    "        \n",
    "    end # of HDF5 writing\n",
    "\n",
    "    h5open(tests_dir*tests_data_file_name,\"cw\") do fid\n",
    "        γ_group = create_group(fid, \"gamma_\"*γᵢ)\n",
    "    end \n",
    "\n",
    "    println()\n",
    "    println(\" Minimum fidelities vs spin-boson of \")\n",
    "    println(\"         POP:      DMD:     Kraus-corrected DMD:\" )\n",
    "\n",
    "    start_time = time()\n",
    "\n",
    "    for df in test_files # loop over initial states        \n",
    "\n",
    "        ρₛ, tₛ = LiPoSID.get_rho_series(data_dir*df*\"_2CUT_data.h5\", γᵢ)\n",
    "        ρₛ = convert(Vector{Matrix{ComplexF64}}, ρₛ)\n",
    "        ρᵗˢᵗ = [DenseOperator(basis,Hermitian(ρₜ)) for ρₜ in ρₛ]\n",
    "        tᵗˢᵗ = convert(Vector{Float64}, tₛ)\n",
    "        tₛₜₑₚₛ = min(length(ρᵗˢᵗ), lᵐᵃˣ)\n",
    "        ρ₀ = ρᵗˢᵗ[1]\n",
    "\n",
    "        tᴸᴹᴱ, ρᴸᴹᴱ  = timeevolution.master(tᵗˢᵗ, ρ₀, DenseOperator(basis,Hᴸᴹᴱ), [DenseOperator(basis, Aᴸᴹᴱ)])\n",
    "       \n",
    "        ρᴰᴹᴰ⁻ᴸᴹᴱ = LiPoSID.propagate_DMD_b4(Aᴰᴹᴰ⁻ᴸᴹᴱ, ρₛ[1], tₛₜₑₚₛ)\n",
    "        ρᴰᴹᴰ⁻ˢᴮ = LiPoSID.propagate_DMD_b4(Aᴰᴹᴰ⁻ˢᴮ, ρₛ[1], tₛₜₑₚₛ)\n",
    "        ρᴰᴹᴰ⁻ᴸᴹᴱ = [DenseOperator(basis,Hermitian(ρₜ)) for ρₜ in ρᴰᴹᴰ⁻ᴸᴹᴱ]\n",
    "        ρᴰᴹᴰ⁻ˢᴮ = [DenseOperator(basis,Hermitian(ρₜ)) for ρₜ in ρᴰᴹᴰ⁻ˢᴮ]\n",
    "\n",
    "        ρᴰᴹᴰ⁻ᴸᴹᴱ⁻ᴷʳᵃᵘˢ = LiPoSID.timeevolution_kraus(tₛₜₑₚₛ, ρₛ[1], Eᴰᴹᴰ⁻ᴸᴹᴱ)\n",
    "        ρᴰᴹᴰ⁻ˢᴮ⁻ᴷʳᵃᵘˢ = LiPoSID.timeevolution_kraus(tₛₜₑₚₛ, ρₛ[1], Eᴰᴹᴰ⁻ˢᴮ)\n",
    "        ρᴰᴹᴰ⁻ᴸᴹᴱ⁻ᴷʳᵃᵘˢ = [DenseOperator(basis,Hermitian(ρₜ)) for ρₜ in ρᴰᴹᴰ⁻ᴸᴹᴱ⁻ᴷʳᵃᵘˢ]\n",
    "        ρᴰᴹᴰ⁻ˢᴮ⁻ᴷʳᵃᵘˢ = [DenseOperator(basis,Hermitian(ρₜ)) for ρₜ in ρᴰᴹᴰ⁻ˢᴮ⁻ᴷʳᵃᵘˢ]\n",
    "\n",
    "        ρᴾᴼᴾ⁻ᴸᴹᴱ⁻ᴷʳᵃᵘˢ = LiPoSID.timeevolution_kraus(tₛₜₑₚₛ, ρₛ[1], Eᴾᴼᴾ⁻ᴸᴹᴱ)\n",
    "        ρᴾᴼᴾ⁻ˢᴮ⁻ᴷʳᵃᵘˢ = LiPoSID.timeevolution_kraus(tₛₜₑₚₛ, ρₛ[1], Eᴾᴼᴾ⁻ˢᴮ)\n",
    "        ρᴾᴼᴾ⁻ᴸᴹᴱ⁻ᴷʳᵃᵘˢ = [DenseOperator(basis,Hermitian(ρₜ)) for ρₜ in ρᴾᴼᴾ⁻ᴸᴹᴱ⁻ᴷʳᵃᵘˢ]\n",
    "        ρᴾᴼᴾ⁻ˢᴮ⁻ᴷʳᵃᵘˢ = [DenseOperator(basis,Hermitian(ρₜ)) for ρₜ in ρᴾᴼᴾ⁻ˢᴮ⁻ᴷʳᵃᵘˢ]\n",
    "\n",
    "        Fᴾᴼᴾ⁻ᵛˢ⁻ˢᴮ  = [abs(fidelity(ρ₁, ρ₂)) for (ρ₁, ρ₂) in zip(ρᵗˢᵗ, ρᴾᴼᴾ⁻ˢᴮ⁻ᴷʳᵃᵘˢ)]\n",
    "        Fᴾᴼᴾ⁻ᵛˢ⁻ᴸᴹᴱ = [abs(fidelity(ρ₁, ρ₂)) for (ρ₁, ρ₂) in zip(ρᴸᴹᴱ, ρᴾᴼᴾ⁻ᴸᴹᴱ⁻ᴷʳᵃᵘˢ)]\n",
    "        Fᴰᴹᴰ⁻ᵛˢ⁻ˢᴮ  = [abs(fidelity(ρ₁, ρ₂)) for (ρ₁, ρ₂) in zip(ρᵗˢᵗ, ρᴰᴹᴰ⁻ˢᴮ)]\n",
    "        Fᴰᴹᴰ⁻ᵛˢ⁻ᴸᴹᴱ = [abs(fidelity(ρ₁, ρ₂)) for (ρ₁, ρ₂) in zip(ρᴸᴹᴱ, ρᴰᴹᴰ⁻ᴸᴹᴱ)]\n",
    "        Fᴰᴹᴰ⁻ᴷʳᵃᵘˢ⁻ᵛˢ⁻ˢᴮ  = [abs(fidelity(ρ₁, ρ₂)) for (ρ₁, ρ₂) in zip(ρᵗˢᵗ, ρᴰᴹᴰ⁻ˢᴮ⁻ᴷʳᵃᵘˢ)]\n",
    "        Fᴰᴹᴰ⁻ᴷʳᵃᵘˢ⁻ᵛˢ⁻ᴸᴹᴱ = [abs(fidelity(ρ₁, ρ₂)) for (ρ₁, ρ₂) in zip(ρᴸᴹᴱ, ρᴰᴹᴰ⁻ᴸᴹᴱ⁻ᴷʳᵃᵘˢ)]\n",
    "\n",
    "        Fᴸᴹᴱₑₓ = [abs(fidelity(ρ₁, ρ₂)) for (ρ₁, ρ₂) in zip(ρᵗˢᵗ, ρᴸᴹᴱ)]\n",
    "                    \n",
    "\n",
    "        h5open(tests_dir*tests_data_file_name,\"cw\") do fid\n",
    "            γ_group = open_group(fid, \"gamma_\"*γᵢ) # open coupling group\n",
    "\n",
    "            init_state_group = create_group(γ_group, df) # create initial state group\n",
    "\n",
    "            init_state_group[\"F_POP-vs-sb\"] = convert.(Float64, Fᴾᴼᴾ⁻ᵛˢ⁻ˢᴮ)\n",
    "            init_state_group[\"F_POP-vs-LME\"] = convert.(Float64, Fᴾᴼᴾ⁻ᵛˢ⁻ᴸᴹᴱ)\n",
    "            init_state_group[\"F_DMD-vs-sb\"] = convert.(Float64, Fᴰᴹᴰ⁻ᵛˢ⁻ˢᴮ) \n",
    "            init_state_group[\"F_DMD-vs-LME\"] = convert.(Float64, Fᴰᴹᴰ⁻ᵛˢ⁻ᴸᴹᴱ) \n",
    "            init_state_group[\"F_DMD-Kraus-vs-sb\"] = convert.(Float64, Fᴰᴹᴰ⁻ᴷʳᵃᵘˢ⁻ᵛˢ⁻ˢᴮ) \n",
    "            init_state_group[\"F_DMD-Kraus-vs-LME\"] = convert.(Float64, Fᴰᴹᴰ⁻ᴷʳᵃᵘˢ⁻ᵛˢ⁻ᴸᴹᴱ) \n",
    "\n",
    "            init_state_group[\"time\"] = convert.(Float64, tᵗˢᵗ[1:tₛₜₑₚₛ])\n",
    "            \n",
    "        end\n",
    "            \n",
    "        println(df*\" \", fmt12(minimum(Fᴾᴼᴾ⁻ᵛˢ⁻ˢᴮ)),\" \", \n",
    "                        fmt12(minimum(Fᴰᴹᴰ⁻ᵛˢ⁻ˢᴮ)),\" \", \n",
    "                        fmt12(minimum(Fᴰᴹᴰ⁻ᴷʳᵃᵘˢ⁻ᵛˢ⁻ˢᴮ)))\n",
    "            \n",
    "    end\n",
    "\n",
    "    print(\"Test for γ = \", γᵢ)\n",
    "    \n",
    "    println(\" done in \", time() - start_time )\n",
    "\n",
    "end\n",
    "\n",
    "println(\"All calculations finished.\")\n",
    "\n",
    "println(\"Tests saved in \", tests_data_file_name)\n"
   ]
  }
 ],
 "metadata": {
  "kernelspec": {
   "display_name": "Julia 1.9.2",
   "language": "julia",
   "name": "julia-1.9"
  },
  "language_info": {
   "file_extension": ".jl",
   "mimetype": "application/julia",
   "name": "julia",
   "version": "1.9.2"
  },
  "orig_nbformat": 4
 },
 "nbformat": 4,
 "nbformat_minor": 2
}
