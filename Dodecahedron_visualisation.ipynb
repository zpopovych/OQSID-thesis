{
 "cells": [
  {
   "cell_type": "code",
   "execution_count": null,
   "metadata": {},
   "outputs": [],
   "source": [
    "import numpy as np\n",
    "import matplotlib.pyplot as plt\n",
    "from mpl_toolkits.mplot3d.art3d import Poly3DCollection\n",
    "from matplotlib.animation import FuncAnimation\n",
    "from scipy.spatial import ConvexHull\n",
    "\n",
    "phi = (1 + np.sqrt(5)) / 2\n",
    "points = np.array([[1, 1, 1], [-1, -1, 1], [-1, 1, -1], [1, -1, -1], \n",
    "                   [0, 1/phi, phi], [0, -1/phi, phi], [0, -1/phi, -phi], [0, 1/phi, -phi], \n",
    "                   [1/phi, phi, 0], [-1/phi, phi, 0], [-1/phi, -phi, 0], [1/phi, -phi, 0], \n",
    "                   [phi, 0, 1/phi], [phi, 0, -1/phi], [-phi, 0, -1/phi], [-phi, 0, 1/phi], \n",
    "                   [1, -1, 1], [-1, 1, 1], [1, 1, -1], [-1, -1, -1]])\n",
    "\n",
    "hull = ConvexHull(points)\n",
    "\n",
    "fig = plt.figure()\n",
    "ax = fig.add_subplot(111, projection='3d')\n",
    "\n",
    "# Remove axes\n",
    "ax.axis('off')\n",
    "ax.grid(False)\n",
    "ax.set_xticks([])\n",
    "ax.set_yticks([])\n",
    "ax.set_zticks([])\n",
    "\n",
    "def init():\n",
    "    # Add faces\n",
    "    faces = Poly3DCollection([hull.points[simplex] for simplex in hull.simplices], alpha=0.5)\n",
    "    faces.set_facecolor('c')\n",
    "    ax.add_collection3d(faces)\n",
    "    \n",
    "    # Add edges\n",
    "    for simplex in hull.simplices:\n",
    "        s = hull.points[simplex]\n",
    "        s = np.vstack((s, s[0]))\n",
    "        ax.plot(s[:, 0], s[:, 1], s[:, 2], \"k-\")\n",
    "    \n",
    "    return faces,\n",
    "\n",
    "def update(frame):\n",
    "    ax.view_init(elev=10, azim=frame)\n",
    "    return ax,\n",
    "\n",
    "anim = FuncAnimation(fig, update, frames=np.arange(0, 360, 1), init_func=init, blit=False)\n",
    "anim.save('dodecahedron_rotation.gif', writer='imagemagick')"
   ]
  }
 ],
 "metadata": {
  "language_info": {
   "name": "python"
  },
  "orig_nbformat": 4
 },
 "nbformat": 4,
 "nbformat_minor": 2
}
