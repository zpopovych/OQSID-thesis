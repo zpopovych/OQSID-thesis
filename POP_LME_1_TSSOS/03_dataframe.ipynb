{
 "cells": [
  {
   "cell_type": "code",
   "execution_count": 2,
   "id": "2b97bc7f",
   "metadata": {},
   "outputs": [],
   "source": [
    "from boson_data_lib import *\n",
    "import numpy as np\n",
    "import scipy.linalg as sl\n",
    "import os\n",
    "import pandas as pd\n",
    "import glob"
   ]
  },
  {
   "cell_type": "code",
   "execution_count": 3,
   "id": "51aaf20f",
   "metadata": {},
   "outputs": [],
   "source": [
    "data_dir = \"../DATA/\"\n",
    "tests_dir = \"../TESTS/\""
   ]
  },
  {
   "cell_type": "code",
   "execution_count": 7,
   "id": "9f31df7b",
   "metadata": {},
   "outputs": [],
   "source": [
    "best_init_rho =  np.array([[ 0.96693975+0.j        , -0.17832301+0.00560344j],\n",
    "                               [-0.17832301-0.00560344j,  0.03306025+0.j        ]])\n",
    "\n",
    "fid_dists = fidelity_distances(data_dir, best_init_rho);"
   ]
  },
  {
   "cell_type": "code",
   "execution_count": 4,
   "id": "7518da3c",
   "metadata": {},
   "outputs": [],
   "source": [
    "def read_as_dataframe(filename, fid_distances, data_dir, tests_dir):\n",
    "\n",
    "    df = pd.DataFrame()\n",
    "    \n",
    "    print(\"Processing...\")\n",
    "    \n",
    "    with h5py.File(tests_dir+filename, \"r\") as f:\n",
    "        \n",
    "        #gammas = ['0.079477', '0.25133', '0.79477', '2.5133', '7.9477', '25.133', '79.477', '251.33']\n",
    "        gammas = f.keys()\n",
    "        \n",
    "        for gamma in gammas:\n",
    "            \n",
    "            print(gamma)\n",
    "            \n",
    "            g = gamma[6:]\n",
    "            \n",
    "            init_states = [\"State_D\"+str(i) for i in range(1, 21)] #f[gamma].keys()\n",
    "            \n",
    "            for state in init_states:\n",
    "                \n",
    "                Fidelity = f[gamma][state][\"Fidelity\"][()]\n",
    "\n",
    "                ser_len = len(Fidelity)\n",
    "\n",
    "                gamma_column = [g] * ser_len\n",
    "                state_column = [state[7:]] * ser_len\n",
    "\n",
    "                fid_dist_column = [fid_distances[int(state[7:])-1]] * ser_len      \n",
    "\n",
    "                f_name = data_dir + \"/\" + state + \"_2CUT_data.h5\"\n",
    "                #f_name = data_dir + \"\\\\\" + state + \"_2CUT_data.h5\"\n",
    "                t, dt = extract_time(f_name, g)\n",
    "                time_column = t\n",
    "                gamma_time_column = np.array(t)*float(g) \n",
    "\n",
    "                d_ser = {'Gamma': gamma_column,\n",
    "                         'State': state_column,\n",
    "                         'Time': time_column, \n",
    "                         'gt': gamma_time_column,\n",
    "                         'Fidelity': Fidelity,\n",
    "                         'Infidelity': 1-Fidelity,\n",
    "                         'Distance': fid_dist_column}\n",
    "\n",
    "                df_ser = pd.DataFrame(data = d_ser)   \n",
    "                df = pd.concat([df, df_ser])\n",
    "    \n",
    "    print(\" done!\")\n",
    "    \n",
    "    return df"
   ]
  },
  {
   "cell_type": "code",
   "execution_count": 5,
   "id": "0147ad92",
   "metadata": {},
   "outputs": [],
   "source": [
    "#test_file = \"POP_LME_6_random_trn4_tst20_2024-Jan-16_at_11-11.h5\" #complex Hamiltonian\n",
    "#test_file = \"POP_LME_6_random_trn4_tst20_2024-Jan-16_at_11-29.h5\" #simple Hamiltonian\n",
    "#test_file = \"POP_LME_6_tssos_trn4_tst20_2024-Jan-16_at_12-30.h5\" #just tssos\n",
    "#test_file = \"POP_LME_6_tssos_div_trn4_tst20_2024-Jan-16_at_12-41.h5\" #division\n",
    "test_file = \"POP_LME_6_tssos_scaled_trn4_tst20_2024-Jan-16_at_14-17.h5\" #\n"
   ]
  },
  {
   "cell_type": "code",
   "execution_count": 8,
   "id": "7b0ef3f5",
   "metadata": {},
   "outputs": [
    {
     "name": "stdout",
     "output_type": "stream",
     "text": [
      "Processing...\n",
      "gamma_0.079477\n",
      "gamma_0.25133\n",
      "gamma_0.79477\n",
      "gamma_2.5133\n",
      "gamma_25.133\n",
      "gamma_251.33\n",
      "gamma_7.9477\n",
      "gamma_79.477\n",
      " done!\n"
     ]
    }
   ],
   "source": [
    "df = read_as_dataframe(\"../TESTS/\"+test_file, fid_dists, data_dir, tests_dir)"
   ]
  },
  {
   "cell_type": "code",
   "execution_count": 9,
   "id": "c3570b6e",
   "metadata": {},
   "outputs": [
    {
     "data": {
      "text/html": [
       "<div>\n",
       "<style scoped>\n",
       "    .dataframe tbody tr th:only-of-type {\n",
       "        vertical-align: middle;\n",
       "    }\n",
       "\n",
       "    .dataframe tbody tr th {\n",
       "        vertical-align: top;\n",
       "    }\n",
       "\n",
       "    .dataframe thead th {\n",
       "        text-align: right;\n",
       "    }\n",
       "</style>\n",
       "<table border=\"1\" class=\"dataframe\">\n",
       "  <thead>\n",
       "    <tr style=\"text-align: right;\">\n",
       "      <th></th>\n",
       "      <th>Gamma</th>\n",
       "      <th>State</th>\n",
       "      <th>Time</th>\n",
       "      <th>gt</th>\n",
       "      <th>Fidelity</th>\n",
       "      <th>Infidelity</th>\n",
       "      <th>Distance</th>\n",
       "    </tr>\n",
       "  </thead>\n",
       "  <tbody>\n",
       "    <tr>\n",
       "      <th>0</th>\n",
       "      <td>0.079477</td>\n",
       "      <td>1</td>\n",
       "      <td>0.06000</td>\n",
       "      <td>0.004769</td>\n",
       "      <td>1.000000</td>\n",
       "      <td>-6.039613e-14</td>\n",
       "      <td>0.341925</td>\n",
       "    </tr>\n",
       "    <tr>\n",
       "      <th>1</th>\n",
       "      <td>0.079477</td>\n",
       "      <td>1</td>\n",
       "      <td>0.08000</td>\n",
       "      <td>0.006358</td>\n",
       "      <td>0.999992</td>\n",
       "      <td>8.247673e-06</td>\n",
       "      <td>0.341925</td>\n",
       "    </tr>\n",
       "    <tr>\n",
       "      <th>2</th>\n",
       "      <td>0.079477</td>\n",
       "      <td>1</td>\n",
       "      <td>0.10000</td>\n",
       "      <td>0.007948</td>\n",
       "      <td>0.999957</td>\n",
       "      <td>4.348099e-05</td>\n",
       "      <td>0.341925</td>\n",
       "    </tr>\n",
       "    <tr>\n",
       "      <th>3</th>\n",
       "      <td>0.079477</td>\n",
       "      <td>1</td>\n",
       "      <td>0.12000</td>\n",
       "      <td>0.009537</td>\n",
       "      <td>0.999924</td>\n",
       "      <td>7.649594e-05</td>\n",
       "      <td>0.341925</td>\n",
       "    </tr>\n",
       "    <tr>\n",
       "      <th>4</th>\n",
       "      <td>0.079477</td>\n",
       "      <td>1</td>\n",
       "      <td>0.14000</td>\n",
       "      <td>0.011127</td>\n",
       "      <td>0.999933</td>\n",
       "      <td>6.713537e-05</td>\n",
       "      <td>0.341925</td>\n",
       "    </tr>\n",
       "    <tr>\n",
       "      <th>...</th>\n",
       "      <td>...</td>\n",
       "      <td>...</td>\n",
       "      <td>...</td>\n",
       "      <td>...</td>\n",
       "      <td>...</td>\n",
       "      <td>...</td>\n",
       "      <td>...</td>\n",
       "    </tr>\n",
       "    <tr>\n",
       "      <th>751</th>\n",
       "      <td>79.477</td>\n",
       "      <td>20</td>\n",
       "      <td>0.23800</td>\n",
       "      <td>18.915526</td>\n",
       "      <td>0.999261</td>\n",
       "      <td>7.394958e-04</td>\n",
       "      <td>0.340013</td>\n",
       "    </tr>\n",
       "    <tr>\n",
       "      <th>752</th>\n",
       "      <td>79.477</td>\n",
       "      <td>20</td>\n",
       "      <td>0.23825</td>\n",
       "      <td>18.935395</td>\n",
       "      <td>0.999259</td>\n",
       "      <td>7.409953e-04</td>\n",
       "      <td>0.340013</td>\n",
       "    </tr>\n",
       "    <tr>\n",
       "      <th>753</th>\n",
       "      <td>79.477</td>\n",
       "      <td>20</td>\n",
       "      <td>0.23850</td>\n",
       "      <td>18.955264</td>\n",
       "      <td>0.999258</td>\n",
       "      <td>7.423752e-04</td>\n",
       "      <td>0.340013</td>\n",
       "    </tr>\n",
       "    <tr>\n",
       "      <th>754</th>\n",
       "      <td>79.477</td>\n",
       "      <td>20</td>\n",
       "      <td>0.23875</td>\n",
       "      <td>18.975134</td>\n",
       "      <td>0.999256</td>\n",
       "      <td>7.436328e-04</td>\n",
       "      <td>0.340013</td>\n",
       "    </tr>\n",
       "    <tr>\n",
       "      <th>755</th>\n",
       "      <td>79.477</td>\n",
       "      <td>20</td>\n",
       "      <td>0.23900</td>\n",
       "      <td>18.995003</td>\n",
       "      <td>0.999255</td>\n",
       "      <td>7.447659e-04</td>\n",
       "      <td>0.340013</td>\n",
       "    </tr>\n",
       "  </tbody>\n",
       "</table>\n",
       "<p>278282 rows × 7 columns</p>\n",
       "</div>"
      ],
      "text/plain": [
       "        Gamma State     Time         gt  Fidelity    Infidelity  Distance\n",
       "0    0.079477     1  0.06000   0.004769  1.000000 -6.039613e-14  0.341925\n",
       "1    0.079477     1  0.08000   0.006358  0.999992  8.247673e-06  0.341925\n",
       "2    0.079477     1  0.10000   0.007948  0.999957  4.348099e-05  0.341925\n",
       "3    0.079477     1  0.12000   0.009537  0.999924  7.649594e-05  0.341925\n",
       "4    0.079477     1  0.14000   0.011127  0.999933  6.713537e-05  0.341925\n",
       "..        ...   ...      ...        ...       ...           ...       ...\n",
       "751    79.477    20  0.23800  18.915526  0.999261  7.394958e-04  0.340013\n",
       "752    79.477    20  0.23825  18.935395  0.999259  7.409953e-04  0.340013\n",
       "753    79.477    20  0.23850  18.955264  0.999258  7.423752e-04  0.340013\n",
       "754    79.477    20  0.23875  18.975134  0.999256  7.436328e-04  0.340013\n",
       "755    79.477    20  0.23900  18.995003  0.999255  7.447659e-04  0.340013\n",
       "\n",
       "[278282 rows x 7 columns]"
      ]
     },
     "execution_count": 9,
     "metadata": {},
     "output_type": "execute_result"
    }
   ],
   "source": [
    "df"
   ]
  },
  {
   "cell_type": "code",
   "execution_count": 10,
   "id": "6a3987ad",
   "metadata": {},
   "outputs": [],
   "source": [
    "pkl_name = \"dataframe_\"+test_file[:-3]+\".pkl\"\n",
    "\n",
    "df.to_pickle(tests_dir+pkl_name)"
   ]
  },
  {
   "cell_type": "code",
   "execution_count": 11,
   "id": "db7dd068",
   "metadata": {},
   "outputs": [
    {
     "data": {
      "text/plain": [
       "'dataframe_POP_LME_6_tssos_scaled_trn4_tst20_2024-Jan-16_at_14-17.pkl'"
      ]
     },
     "execution_count": 11,
     "metadata": {},
     "output_type": "execute_result"
    }
   ],
   "source": [
    "pkl_name"
   ]
  },
  {
   "cell_type": "code",
   "execution_count": 12,
   "id": "4fa1c87f",
   "metadata": {},
   "outputs": [
    {
     "data": {
      "text/plain": [
       "'../TESTS/dataframe_POP_LME_6_tssos_scaled_trn4_tst20_2024-Jan-16_at_14-17.pkl'"
      ]
     },
     "execution_count": 12,
     "metadata": {},
     "output_type": "execute_result"
    }
   ],
   "source": [
    "tests_dir+pkl_name"
   ]
  },
  {
   "cell_type": "markdown",
   "id": "0fad5275",
   "metadata": {},
   "source": []
  }
 ],
 "metadata": {
  "@webio": {
   "lastCommId": null,
   "lastKernelId": null
  },
  "kernelspec": {
   "display_name": "base",
   "language": "python",
   "name": "python3"
  },
  "language_info": {
   "codemirror_mode": {
    "name": "ipython",
    "version": 3
   },
   "file_extension": ".py",
   "mimetype": "text/x-python",
   "name": "python",
   "nbconvert_exporter": "python",
   "pygments_lexer": "ipython3",
   "version": "3.11.4"
  }
 },
 "nbformat": 4,
 "nbformat_minor": 5
}
