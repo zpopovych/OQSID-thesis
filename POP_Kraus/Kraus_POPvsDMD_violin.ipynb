{
 "cells": [
  {
   "cell_type": "code",
   "execution_count": 1,
   "id": "19705211",
   "metadata": {},
   "outputs": [],
   "source": [
    "import seaborn as sns\n",
    "import matplotlib.pyplot as plt\n",
    "import h5py  \n",
    "import pandas as pd\n",
    "import numpy as np\n",
    "import os"
   ]
  },
  {
   "cell_type": "code",
   "execution_count": 2,
   "id": "29727111",
   "metadata": {},
   "outputs": [
    {
     "data": {
      "text/html": [
       "<div>\n",
       "<style scoped>\n",
       "    .dataframe tbody tr th:only-of-type {\n",
       "        vertical-align: middle;\n",
       "    }\n",
       "\n",
       "    .dataframe tbody tr th {\n",
       "        vertical-align: top;\n",
       "    }\n",
       "\n",
       "    .dataframe thead th {\n",
       "        text-align: right;\n",
       "    }\n",
       "</style>\n",
       "<table border=\"1\" class=\"dataframe\">\n",
       "  <thead>\n",
       "    <tr style=\"text-align: right;\">\n",
       "      <th></th>\n",
       "      <th>Gamma</th>\n",
       "      <th>State</th>\n",
       "      <th>F_POP_vs_sb</th>\n",
       "      <th>F_POP_vs_LME</th>\n",
       "      <th>F_DMD_vs_sb</th>\n",
       "      <th>F_DMD_vs_LME</th>\n",
       "      <th>F_DMD_Kraus_vs_sb</th>\n",
       "      <th>F_DMD_Kraus_vs_LME</th>\n",
       "    </tr>\n",
       "  </thead>\n",
       "  <tbody>\n",
       "    <tr>\n",
       "      <th>0</th>\n",
       "      <td>0.079477</td>\n",
       "      <td>State_D1</td>\n",
       "      <td>1.000000</td>\n",
       "      <td>1.0</td>\n",
       "      <td>1.000000</td>\n",
       "      <td>1.0</td>\n",
       "      <td>1.000000</td>\n",
       "      <td>1.0</td>\n",
       "    </tr>\n",
       "    <tr>\n",
       "      <th>1</th>\n",
       "      <td>0.079477</td>\n",
       "      <td>State_D1</td>\n",
       "      <td>1.000000</td>\n",
       "      <td>1.0</td>\n",
       "      <td>1.000000</td>\n",
       "      <td>1.0</td>\n",
       "      <td>0.999997</td>\n",
       "      <td>1.0</td>\n",
       "    </tr>\n",
       "    <tr>\n",
       "      <th>2</th>\n",
       "      <td>0.079477</td>\n",
       "      <td>State_D1</td>\n",
       "      <td>1.000000</td>\n",
       "      <td>1.0</td>\n",
       "      <td>1.000000</td>\n",
       "      <td>1.0</td>\n",
       "      <td>0.999988</td>\n",
       "      <td>1.0</td>\n",
       "    </tr>\n",
       "    <tr>\n",
       "      <th>3</th>\n",
       "      <td>0.079477</td>\n",
       "      <td>State_D1</td>\n",
       "      <td>1.000000</td>\n",
       "      <td>1.0</td>\n",
       "      <td>0.999999</td>\n",
       "      <td>1.0</td>\n",
       "      <td>0.999973</td>\n",
       "      <td>1.0</td>\n",
       "    </tr>\n",
       "    <tr>\n",
       "      <th>4</th>\n",
       "      <td>0.079477</td>\n",
       "      <td>State_D1</td>\n",
       "      <td>0.999996</td>\n",
       "      <td>1.0</td>\n",
       "      <td>0.999997</td>\n",
       "      <td>1.0</td>\n",
       "      <td>0.999943</td>\n",
       "      <td>1.0</td>\n",
       "    </tr>\n",
       "    <tr>\n",
       "      <th>...</th>\n",
       "      <td>...</td>\n",
       "      <td>...</td>\n",
       "      <td>...</td>\n",
       "      <td>...</td>\n",
       "      <td>...</td>\n",
       "      <td>...</td>\n",
       "      <td>...</td>\n",
       "      <td>...</td>\n",
       "    </tr>\n",
       "    <tr>\n",
       "      <th>745</th>\n",
       "      <td>79.477</td>\n",
       "      <td>State_D9</td>\n",
       "      <td>0.999995</td>\n",
       "      <td>1.0</td>\n",
       "      <td>0.999993</td>\n",
       "      <td>1.0</td>\n",
       "      <td>0.988294</td>\n",
       "      <td>1.0</td>\n",
       "    </tr>\n",
       "    <tr>\n",
       "      <th>746</th>\n",
       "      <td>79.477</td>\n",
       "      <td>State_D9</td>\n",
       "      <td>0.999995</td>\n",
       "      <td>1.0</td>\n",
       "      <td>0.999993</td>\n",
       "      <td>1.0</td>\n",
       "      <td>0.988294</td>\n",
       "      <td>1.0</td>\n",
       "    </tr>\n",
       "    <tr>\n",
       "      <th>747</th>\n",
       "      <td>79.477</td>\n",
       "      <td>State_D9</td>\n",
       "      <td>0.999994</td>\n",
       "      <td>1.0</td>\n",
       "      <td>0.999993</td>\n",
       "      <td>1.0</td>\n",
       "      <td>0.988294</td>\n",
       "      <td>1.0</td>\n",
       "    </tr>\n",
       "    <tr>\n",
       "      <th>748</th>\n",
       "      <td>79.477</td>\n",
       "      <td>State_D9</td>\n",
       "      <td>0.999994</td>\n",
       "      <td>1.0</td>\n",
       "      <td>0.999993</td>\n",
       "      <td>1.0</td>\n",
       "      <td>0.988293</td>\n",
       "      <td>1.0</td>\n",
       "    </tr>\n",
       "    <tr>\n",
       "      <th>749</th>\n",
       "      <td>79.477</td>\n",
       "      <td>State_D9</td>\n",
       "      <td>0.999994</td>\n",
       "      <td>1.0</td>\n",
       "      <td>0.999993</td>\n",
       "      <td>1.0</td>\n",
       "      <td>0.988293</td>\n",
       "      <td>1.0</td>\n",
       "    </tr>\n",
       "  </tbody>\n",
       "</table>\n",
       "<p>274100 rows × 8 columns</p>\n",
       "</div>"
      ],
      "text/plain": [
       "        Gamma     State  F_POP_vs_sb  F_POP_vs_LME  F_DMD_vs_sb  F_DMD_vs_LME  \\\n",
       "0    0.079477  State_D1     1.000000           1.0     1.000000           1.0   \n",
       "1    0.079477  State_D1     1.000000           1.0     1.000000           1.0   \n",
       "2    0.079477  State_D1     1.000000           1.0     1.000000           1.0   \n",
       "3    0.079477  State_D1     1.000000           1.0     0.999999           1.0   \n",
       "4    0.079477  State_D1     0.999996           1.0     0.999997           1.0   \n",
       "..        ...       ...          ...           ...          ...           ...   \n",
       "745    79.477  State_D9     0.999995           1.0     0.999993           1.0   \n",
       "746    79.477  State_D9     0.999995           1.0     0.999993           1.0   \n",
       "747    79.477  State_D9     0.999994           1.0     0.999993           1.0   \n",
       "748    79.477  State_D9     0.999994           1.0     0.999993           1.0   \n",
       "749    79.477  State_D9     0.999994           1.0     0.999993           1.0   \n",
       "\n",
       "     F_DMD_Kraus_vs_sb  F_DMD_Kraus_vs_LME  \n",
       "0             1.000000                 1.0  \n",
       "1             0.999997                 1.0  \n",
       "2             0.999988                 1.0  \n",
       "3             0.999973                 1.0  \n",
       "4             0.999943                 1.0  \n",
       "..                 ...                 ...  \n",
       "745           0.988294                 1.0  \n",
       "746           0.988294                 1.0  \n",
       "747           0.988294                 1.0  \n",
       "748           0.988293                 1.0  \n",
       "749           0.988293                 1.0  \n",
       "\n",
       "[274100 rows x 8 columns]"
      ]
     },
     "execution_count": 2,
     "metadata": {},
     "output_type": "execute_result"
    }
   ],
   "source": [
    "\n",
    "os.chdir(\"/home/zah/github/POP23/TESTS/\")\n",
    "\n",
    "#df = pd.read_pickle('dataframe_POP-Kraus_vs_DMD_trn4-tst20_fids_2023-Sep-13_at_17-48.h5.pkl')\n",
    "#df = pd.read_pickle('dataframe_POP-Kraus_vs_DMD_trn4-tst20_fids_2023-Sep-15_at_11-52.h5.pkl')\n",
    "#df = pd.read_pickle('dataframe_POP-Kraus_vs_DMD_trn4-tst20_rm_micro_obj_fids_2023-Sep-16_at_18-37.h5.pkl')\n",
    "df = pd.read_pickle('dataframe_POP-Kraus_vs_DMD_trn4-tst20_polymin_fids_2023-Sep-17_at_16-53.h5.pkl')\n",
    "df.fillna(1)"
   ]
  },
  {
   "cell_type": "code",
   "execution_count": 3,
   "id": "5c5b748c",
   "metadata": {},
   "outputs": [
    {
     "data": {
      "text/plain": [
       "Index(['Gamma', 'State', 'F_POP_vs_sb', 'F_POP_vs_LME', 'F_DMD_vs_sb',\n",
       "       'F_DMD_vs_LME', 'F_DMD_Kraus_vs_sb', 'F_DMD_Kraus_vs_LME'],\n",
       "      dtype='object')"
      ]
     },
     "execution_count": 3,
     "metadata": {},
     "output_type": "execute_result"
    }
   ],
   "source": [
    "df.columns"
   ]
  },
  {
   "cell_type": "code",
   "execution_count": 4,
   "id": "e329595f",
   "metadata": {},
   "outputs": [
    {
     "data": {
      "text/plain": [
       "0.895049434198939"
      ]
     },
     "execution_count": 4,
     "metadata": {},
     "output_type": "execute_result"
    }
   ],
   "source": [
    "min(df.F_DMD_Kraus_vs_sb)"
   ]
  },
  {
   "cell_type": "code",
   "execution_count": 5,
   "id": "ee6ab8b7",
   "metadata": {},
   "outputs": [],
   "source": [
    "def add_log_infidelities(df):\n",
    "\n",
    "    df['Infidelity_POP_vs_sb'] = 1 - df.F_POP_vs_sb\n",
    "    df['Infidelity_POP_vs_LME'] = 1 - df.F_POP_vs_LME\n",
    "    df['Infidelity_DMD_vs_sb'] = 1 - df.F_DMD_vs_sb\n",
    "    df['Infidelity_DMD_vs_LME'] = 1 - df.F_DMD_vs_LME\n",
    "    df['Infidelity_DMD_Kraus_vs_sb'] = 1 - df.F_DMD_Kraus_vs_sb\n",
    "    df['Infidelity_DMD_Kraus_vs_LME'] = 1 - df.F_DMD_Kraus_vs_LME\n",
    "\n",
    "\n",
    "    df['LogInF_POP_vs_sb'] = np.log10(np.abs(df['Infidelity_POP_vs_sb']))\n",
    "    df['LogInF_POP_vs_LME'] = np.log10(np.abs(df['Infidelity_POP_vs_LME']))\n",
    "    df['LogInF_DMD_vs_sb'] = np.log10(np.abs(df['Infidelity_DMD_vs_sb']))\n",
    "    df['LogInF_DMD_vs_LME'] = np.log10(np.abs(df['Infidelity_DMD_vs_LME']))\n",
    "    df['LogInF_DMD_Kraus_vs_sb'] = np.log10(np.abs(df['Infidelity_DMD_Kraus_vs_sb']))\n",
    "    df['LogInF_DMD_Kraus_vs_LME'] = np.log10(np.abs(df['Infidelity_DMD_Kraus_vs_LME']))\n",
    "    \n",
    "    cutoff = -15\n",
    "\n",
    "    df.loc[df['LogInF_POP_vs_sb'] < cutoff, 'LogInF_POP_vs_sb'] = cutoff\n",
    "    df.loc[df['LogInF_POP_vs_LME'] < cutoff, 'LogInF_POP_vs_LME'] = cutoff\n",
    "    df.loc[df['LogInF_DMD_vs_sb'] < cutoff,  'LogInF_DMD_vs_sb'] = cutoff\n",
    "    df.loc[df['LogInF_DMD_vs_LME'] < cutoff, 'LogInF_DMD_vs_LME'] = cutoff\n",
    "    df.loc[df['LogInF_DMD_Kraus_vs_sb'] < cutoff, 'LogInF_DMD_Kraus_vs_sb'] = cutoff\n",
    "    df.loc[df['LogInF_DMD_Kraus_vs_LME'] < cutoff, 'LogInF_DMD_Kraus_vs_LME'] = cutoff\n",
    "\n",
    "    df['Gamma'] = df['Gamma'].astype(float)\n",
    "    \n",
    "    return df  "
   ]
  },
  {
   "cell_type": "code",
   "execution_count": 6,
   "id": "beeeb031",
   "metadata": {},
   "outputs": [
    {
     "name": "stderr",
     "output_type": "stream",
     "text": [
      "/home/zah/anaconda3/lib/python3.11/site-packages/pandas/core/arraylike.py:402: RuntimeWarning: divide by zero encountered in log10\n",
      "  result = getattr(ufunc, method)(*inputs, **kwargs)\n",
      "/home/zah/anaconda3/lib/python3.11/site-packages/pandas/core/arraylike.py:402: RuntimeWarning: divide by zero encountered in log10\n",
      "  result = getattr(ufunc, method)(*inputs, **kwargs)\n",
      "/home/zah/anaconda3/lib/python3.11/site-packages/pandas/core/arraylike.py:402: RuntimeWarning: divide by zero encountered in log10\n",
      "  result = getattr(ufunc, method)(*inputs, **kwargs)\n",
      "/home/zah/anaconda3/lib/python3.11/site-packages/pandas/core/arraylike.py:402: RuntimeWarning: divide by zero encountered in log10\n",
      "  result = getattr(ufunc, method)(*inputs, **kwargs)\n",
      "/home/zah/anaconda3/lib/python3.11/site-packages/pandas/core/arraylike.py:402: RuntimeWarning: divide by zero encountered in log10\n",
      "  result = getattr(ufunc, method)(*inputs, **kwargs)\n",
      "/home/zah/anaconda3/lib/python3.11/site-packages/pandas/core/arraylike.py:402: RuntimeWarning: divide by zero encountered in log10\n",
      "  result = getattr(ufunc, method)(*inputs, **kwargs)\n"
     ]
    },
    {
     "data": {
      "text/plain": [
       "Index(['Gamma', 'State', 'F_POP_vs_sb', 'F_POP_vs_LME', 'F_DMD_vs_sb',\n",
       "       'F_DMD_vs_LME', 'F_DMD_Kraus_vs_sb', 'F_DMD_Kraus_vs_LME',\n",
       "       'Infidelity_POP_vs_sb', 'Infidelity_POP_vs_LME', 'Infidelity_DMD_vs_sb',\n",
       "       'Infidelity_DMD_vs_LME', 'Infidelity_DMD_Kraus_vs_sb',\n",
       "       'Infidelity_DMD_Kraus_vs_LME', 'LogInF_POP_vs_sb', 'LogInF_POP_vs_LME',\n",
       "       'LogInF_DMD_vs_sb', 'LogInF_DMD_vs_LME', 'LogInF_DMD_Kraus_vs_sb',\n",
       "       'LogInF_DMD_Kraus_vs_LME'],\n",
       "      dtype='object')"
      ]
     },
     "execution_count": 6,
     "metadata": {},
     "output_type": "execute_result"
    }
   ],
   "source": [
    "df = add_log_infidelities(df)\n",
    "\n",
    "df.columns"
   ]
  },
  {
   "cell_type": "code",
   "execution_count": 9,
   "id": "a303a84d",
   "metadata": {},
   "outputs": [
    {
     "name": "stderr",
     "output_type": "stream",
     "text": [
      "/tmp/ipykernel_13320/3669236239.py:55: UserWarning: Matplotlib is currently using module://matplotlib_inline.backend_inline, which is a non-GUI backend, so cannot show the figure.\n",
      "  fig.show()\n"
     ]
    },
    {
     "data": {
      "image/png": "[encoded data removed]",
      "text/plain": [
       "<Figure size 600x600 with 2 Axes>"
      ]
     },
     "metadata": {},
     "output_type": "display_data"
    }
   ],
   "source": [
    "fig, ax = plt.subplots(2, 1, figsize=(6,6), sharex = True)\n",
    "\n",
    "sns.violinplot(ax=ax[0], data=df, x=\"Gamma\", y='LogInF_DMD_vs_sb', cut = 0, # hue = \"Method\", split=True,\n",
    "                    scale=\"width\", palette =\"cool\", linewidth=0.5,\n",
    "                    inner= None, bw=\"silverman\")\n",
    "ymin = -9\n",
    "ymax = 1.\n",
    "    \n",
    "ytick_range = np.arange(ymin, ymax, 3)\n",
    "#ytick_labels = [r'$10^{-15}$', r'$10^{-12}$',\n",
    "ytick_labels = [r'$10^{-9}$', r'$10^{-6}$', r'$10^{-3}$', r'$10^{-1}$']\n",
    "\n",
    "#ytick_labels = [r'$10^{-15}$', r'$10^{-14}$', r'$10^{-13}$', r'$10^{-12}$', r'$10^{-11}$', r'$10^{-10}$',\n",
    "#r'$10^{-9}$', r'$10^{-8}$', r'$10^{-7}$', r'$10^{-6}$', r'$10^{-5}$', r'$10^{-4}$', r'$10^{-3}$',\n",
    "#r'$10^{-2}$', r'$10^{-1}$', r'$10^0$']\n",
    "\n",
    "ax[0].yaxis.set_ticks(ytick_range, ytick_labels)\n",
    "ax[0].yaxis.set_ticks([np.log10(x) for p in ytick_range for x in np.linspace(10 ** p, 10 ** (p + 1), 10)], minor=True)\n",
    "\n",
    "ax[0].set_ylim(ymin, ymax)\n",
    "\n",
    "ax[0].set_ylabel('4-rank direct DMD\\n'+r'Infidelity,$1-F$')\n",
    "ax[0].set_xlabel('')\n",
    "\n",
    "ax[0].hlines(y=np.log10(.01), xmin=0.1, xmax=8.5, colors='black', linestyles='--', alpha=0.8)\n",
    "ax[0].text(-0.8, np.log10(.01), '0.01', ha='left', va='center')\n",
    "\n",
    "\n",
    "sns.violinplot(ax=ax[1], data=df, x=\"Gamma\", y= 'LogInF_POP_vs_sb', cut = 0, # hue = \"Method\", split=True,\n",
    "                    scale=\"width\", palette =\"cool\", linewidth=0.5,\n",
    "                    inner= None, bw=\"silverman\")\n",
    "\n",
    "ax[1].yaxis.set_ticks(ytick_range, ytick_labels)\n",
    "ax[1].yaxis.set_ticks([np.log10(x) for p in ytick_range for x in np.linspace(10 ** p, 10 ** (p + 1), 10)], minor=True)\n",
    "\n",
    "ax[1].set_ylim(ymin, ymax)\n",
    "ax[1].set_xlim(-1, 8.8)\n",
    "\n",
    "ax[1].set_ylabel( 'Kraus POP\\n'+r'Infidelity,  $1-F$')\n",
    "ax[1].set_xlabel(r'Coupling, $\\gamma$')\n",
    "\n",
    "xtick_range = np.arange(0, 8)\n",
    "xtick_labels = [ '0.08', '0.79', '0.25', '2.51', '7.95', '25.1', '79.5', '251.3']\n",
    "\n",
    "ax[1].xaxis.set_ticks(xtick_range, xtick_labels)\n",
    "\n",
    "ax[1].hlines(y=np.log10(.01), xmin=0.1, xmax=8.5, colors='black', linestyles='--', alpha=0.8)\n",
    "ax[1].text(-0.8, np.log10(.01), '0.01', ha='left', va='center')\n",
    "\n",
    "fig.tight_layout()\n",
    "fig.subplots_adjust(hspace = .0)\n",
    "\n",
    "fig.savefig(\"2KrausPOPvsDMD_SB_4-20_violin.pdf\")\n",
    "\n",
    "fig.show()\n"
   ]
  },
  {
   "cell_type": "code",
   "execution_count": 30,
   "id": "1c9551b4",
   "metadata": {},
   "outputs": [],
   "source": [
    "#fig.savefig(\"POPvsDMD_violin.pdf\")"
   ]
  },
  {
   "cell_type": "code",
   "execution_count": null,
   "id": "b3c628db",
   "metadata": {},
   "outputs": [],
   "source": []
  }
 ],
 "metadata": {
  "@webio": {
   "lastCommId": null,
   "lastKernelId": null
  },
  "kernelspec": {
   "display_name": "Python 3 (ipykernel)",
   "language": "python",
   "name": "python3"
  },
  "language_info": {
   "codemirror_mode": {
    "name": "ipython",
    "version": 3
   },
   "file_extension": ".py",
   "mimetype": "text/x-python",
   "name": "python",
   "nbconvert_exporter": "python",
   "pygments_lexer": "ipython3",
   "version": "3.11.4"
  }
 },
 "nbformat": 4,
 "nbformat_minor": 5
}
