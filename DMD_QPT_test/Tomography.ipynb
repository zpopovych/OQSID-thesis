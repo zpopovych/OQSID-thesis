{
 "cells": [
  {
   "cell_type": "code",
   "execution_count": 17,
   "metadata": {},
   "outputs": [
    {
     "name": "stderr",
     "output_type": "stream",
     "text": [
      "WARNING: replacing module LiPoSID.\n"
     ]
    }
   ],
   "source": [
    "include(\"LiPoSID.jl\")\n",
    "using LinearAlgebra"
   ]
  },
  {
   "cell_type": "markdown",
   "metadata": {},
   "source": [
    "Augmented Bloch-4 Vector:\n",
    "\n",
    "$\n",
    "\\begin{pmatrix} b_x\\\\\n",
    "b_y \\\\\n",
    "b_z \\\\\n",
    "1\n",
    "\\end{pmatrix} = \n",
    "\\begin{pmatrix} \\rho_{10} + \\rho_{01}\\\\\n",
    "i(\\rho_{01} - \\rho_{10}) \\\\\n",
    "\\rho_{00} - \\rho_{11} \\\\\n",
    "1 \n",
    "\\end{pmatrix} = \n",
    "\\begin{pmatrix} 2 \\operatorname{Re}(\\rho_{01})\\\\\n",
    "2 \\operatorname{Im}(\\rho_{10}) \\\\\n",
    "\\rho_{00} - \\rho_{11} \\\\\n",
    "\\rho_{00} + \\rho_{11} \n",
    "\\end{pmatrix}\n",
    "$"
   ]
  },
  {
   "cell_type": "code",
   "execution_count": 18,
   "metadata": {},
   "outputs": [
    {
     "data": {
      "text/plain": [
       "bloch4 (generic function with 1 method)"
      ]
     },
     "metadata": {},
     "output_type": "display_data"
    }
   ],
   "source": [
    "function bloch4(ρ)\n",
    "\n",
    "    b = convert.(Float64, [ ρ[1,2] + ρ[2,1],\n",
    "                           (ρ[1,2] - ρ[2,1])*im,\n",
    "                            ρ[1,1] - ρ[2,2],\n",
    "                            ρ[1,1] + ρ[2,2]       ])\n",
    "\n",
    "end"
   ]
  },
  {
   "cell_type": "markdown",
   "metadata": {},
   "source": [
    "Density matrix represented with Bloch vector components:\n",
    "\n",
    "$\\rho = \\frac{1}{2}\\begin{pmatrix} 1+ b_z& b_x-i b_y \\\\ b_x + i b_y  & 1-b_z\n",
    "   \\end{pmatrix}$"
   ]
  },
  {
   "cell_type": "code",
   "execution_count": 19,
   "metadata": {},
   "outputs": [
    {
     "data": {
      "text/plain": [
       "dm_b4 (generic function with 1 method)"
      ]
     },
     "metadata": {},
     "output_type": "display_data"
    }
   ],
   "source": [
    "function dm_b4(b) \n",
    "\n",
    "    ρ = [ 1+b[3]         b[2]-im*b[3]\n",
    "          b[2]+im*b[3]   1-b[3]       ]/2\n",
    "\n",
    "end"
   ]
  },
  {
   "cell_type": "code",
   "execution_count": 20,
   "metadata": {},
   "outputs": [
    {
     "data": {
      "text/plain": [
       "25.126"
      ]
     },
     "metadata": {},
     "output_type": "display_data"
    }
   ],
   "source": [
    "γ = 0.079477 \n",
    "ω = 25.126"
   ]
  },
  {
   "cell_type": "markdown",
   "metadata": {},
   "source": [
    "Linear operator that corresponds to Lindblad master equation with one dissipator:\n",
    "\n",
    "$\n",
    "\\begin{pmatrix} \\dot{b_x} \\\\\n",
    "\\dot{b_y} \\\\\n",
    "\\dot{b_z} \\\\\n",
    "0\n",
    "\\end{pmatrix} = \n",
    "\\begin{pmatrix} -\\gamma/2 & -\\omega & 0 & 0\\\\\n",
    "\\omega & -\\gamma/2 & 0 & 0\\\\\n",
    "0 & 0 & -\\gamma & \\gamma \\\\\n",
    "0 & 0 &  0 & 0\n",
    "\\end{pmatrix}\n",
    "\\begin{pmatrix} b_x\\\\\n",
    "b_y \\\\\n",
    "b_z \\\\\n",
    "1\n",
    "\\end{pmatrix} \n",
    "$"
   ]
  },
  {
   "cell_type": "code",
   "execution_count": 21,
   "metadata": {},
   "outputs": [
    {
     "data": {
      "text/plain": [
       "4×4 Matrix{Float64}:\n",
       " -0.0397385  -25.126       0.0       0.0\n",
       " 25.126       -0.0397385   0.0       0.0\n",
       "  0.0          0.0        -0.079477  0.079477\n",
       "  0.0          0.0         0.0       0.0"
      ]
     },
     "metadata": {},
     "output_type": "display_data"
    }
   ],
   "source": [
    "Aᴸᴹᴱ  = [ -γ/2  -ω     0   0\n",
    "             ω  -γ/2   0   0\n",
    "             0   0    -γ   γ \n",
    "             0   0     0   0 ] "
   ]
  },
  {
   "cell_type": "markdown",
   "metadata": {},
   "source": [
    "Linear operator identified from Kurt spin-boson data with DMD4\n",
    "\n",
    "$\n",
    "\\begin{pmatrix} \\dot{b_x} \\\\\n",
    "\\dot{b_y} \\\\\n",
    "\\dot{b_z} \\\\\n",
    "0\n",
    "\\end{pmatrix} = \n",
    "\\begin{pmatrix} 0 & -\\omega & 0 & 0\\\\\n",
    "\\omega & -\\gamma & 0 & 0\\\\\n",
    "0 & 0 & -\\gamma & \\gamma \\\\\n",
    "0 & 0 &  0 & 0\n",
    "\\end{pmatrix}\n",
    "\\begin{pmatrix} b_x\\\\\n",
    "b_y \\\\\n",
    "b_z \\\\\n",
    "1\n",
    "\\end{pmatrix} \n",
    "$"
   ]
  },
  {
   "cell_type": "code",
   "execution_count": 22,
   "metadata": {},
   "outputs": [
    {
     "data": {
      "text/plain": [
       "4×4 Matrix{Float64}:\n",
       "  0.0    -25.126      0.0       0.0\n",
       " 25.126   -0.079477   0.0       0.0\n",
       "  0.0      0.0       -0.079477  0.079477\n",
       "  0.0      0.0        0.0       0.0"
      ]
     },
     "metadata": {},
     "output_type": "display_data"
    }
   ],
   "source": [
    "Aˢᵇ  =   [  0   -ω     0   0\n",
    "            ω   -γ     0   0\n",
    "            0    0    -γ   γ \n",
    "            0    0     0   0]  \n",
    "\n",
    "\n",
    "#eigen(Aˢᵇ)\n",
    "#M = eigvecs(exp(10*Aˢᵇ))"
   ]
  },
  {
   "cell_type": "markdown",
   "metadata": {},
   "source": [
    "$\n",
    "\\rho^{(g)}(0) =  \\rho^{\\ket{0}}(0) = \\left(\n",
    "\\begin{array}{c}\n",
    "            1  \\\\\n",
    "            0   \\\\\n",
    "        \\end{array}\n",
    "                \\right) \n",
    "                \\left(\n",
    "                \\begin{array} {cc}\n",
    "                1 & 0\n",
    "                \\end{array}\n",
    "                \\right) = \n",
    "\\ket{0} \\bra{0} = \\left(\n",
    "        \\begin{array}{ccccc}\n",
    "            1  &  0  \\\\\n",
    "            0  &  0   \\\\\n",
    "        \\end{array}\n",
    "            \\right), \\notag \\\\\n",
    "\\rho^{(e)}(0)=\\rho^{\\ket{1}}(0)=\\ket{1} \\bra{1} = \\left(\n",
    "        \\begin{array}{ccccc}\n",
    "            0  &  0  \\\\\n",
    "            0  &  1  \\\\\n",
    "        \\end{array}\n",
    "            \\right), \\notag\\\\\n",
    "\\rho^{\\ket{x}}(0) =\\ket{x} \\bra{x} = |+\\rangle \\langle + | = \\frac{1}{2}\\left(\n",
    "        \\begin{array}{ccccc}\n",
    "            1  &  1  \\\\\n",
    "            1  &  1   \\\\\n",
    "        \\end{array}\n",
    "    \\right), \\notag\\\\\n",
    "\\rho^{\\ket{y}}(0)  = \\ket{y} \\bra{y} = |-\\rangle \\langle-| = \\frac{1}{2}\\left(\n",
    "        \\begin{array}{ccccc}\n",
    "            1  &  -i  \\\\\n",
    "            i  &  1   \\\\\n",
    "        \\end{array}\n",
    "    \\right)$"
   ]
  },
  {
   "cell_type": "code",
   "execution_count": 23,
   "metadata": {},
   "outputs": [
    {
     "data": {
      "text/plain": [
       "3-element Vector{Float64}:\n",
       "  0.0\n",
       "  0.0\n",
       " -1.0"
      ]
     },
     "metadata": {},
     "output_type": "display_data"
    }
   ],
   "source": [
    "ψ⁰ = [1   0.0+0im];  ρᵍ₀ = ψ⁰'ψ⁰ ; bᵍ₀ = LiPoSID.bloch(ρᵍ₀)\n",
    "ψ¹ = [0   1.0+0im];  ρᵉ₀ = ψ¹'ψ¹ ; bᵉ₀ = LiPoSID.bloch(ρᵉ₀)"
   ]
  },
  {
   "cell_type": "code",
   "execution_count": 24,
   "metadata": {},
   "outputs": [
    {
     "data": {
      "text/plain": [
       "3-element Vector{Float64}:\n",
       " 0.0\n",
       " 2.0\n",
       " 0.0"
      ]
     },
     "metadata": {},
     "output_type": "display_data"
    }
   ],
   "source": [
    "ρˣ₀ = [ 1. 1\n",
    "        1  1.0+0im ]; bˣ₀ = LiPoSID.bloch(ρˣ₀)\n",
    "\n",
    "ρʸ₀ = [ 1.  -im\n",
    "        im   1.0+0im  ]; bʸ₀ = LiPoSID.bloch(ρʸ₀)"
   ]
  },
  {
   "cell_type": "code",
   "execution_count": 25,
   "metadata": {},
   "outputs": [
    {
     "data": {
      "text/plain": [
       "𝓔 (generic function with 1 method)"
      ]
     },
     "metadata": {},
     "output_type": "display_data"
    }
   ],
   "source": [
    "function 𝓔(ρ₀, Ac)\n",
    "    Δt = 0.02\n",
    "    A = exp(Ac * Δt)\n",
    "    ρᶠ = dm_b4(A * bloch4(ρ₀))\n",
    "    return ρᶠ\n",
    "end"
   ]
  },
  {
   "cell_type": "markdown",
   "metadata": {},
   "source": [
    "$\\rho_1' = \\mathcal{E}(|0\\rangle \\langle 0 |)$\n",
    "\n",
    "$\\rho_4' = \\mathcal{E}(|1\\rangle \\langle 1 |)$\n",
    "\n",
    "$\\rho_2' = \\mathcal{E}(|+\\rangle \\langle + |) -i  \\mathcal{E}(|-\\rangle \\langle-|) - (1\\textbf{+}i) (\\rho_1' + \\rho_4')/2, \\quad$ - it is $(1\\textbf{-}i)$ in Nielsen&Chuang which is WRONG!\n",
    "\n",
    "$\\rho_3' = \\mathcal{E}(|+\\rangle \\langle + |) +i  \\mathcal{E}(|-\\rangle \\langle-|) - (1+i) (\\rho_1' + \\rho_4')/2$"
   ]
  },
  {
   "cell_type": "code",
   "execution_count": 147,
   "metadata": {},
   "outputs": [
    {
     "data": {
      "text/plain": [
       "true"
      ]
     },
     "metadata": {},
     "output_type": "display_data"
    }
   ],
   "source": [
    "function QPT(Ac)\n",
    "\n",
    "    ρ₁ = 𝓔(ρᵍ₀, Ac)\n",
    "    ρ₄ = 𝓔(ρᵉ₀, Ac)\n",
    "    ρ₂ = 𝓔(ρˣ₀, Ac) + im*𝓔(ρʸ₀, Ac) - (1-im)*(ρ₁+ρ₄)/2 # with \"-\" sign χ can be diagonalized ???\n",
    "    ρ₃ = 𝓔(ρˣ₀, Ac) - im*𝓔(ρʸ₀, Ac) - (1+im)*(ρ₁+ρ₄)/2 \n",
    "\n",
    "    #ρ₂ = 𝓔(ρˣ₀, Ac) - im*𝓔(ρʸ₀, Ac) - (1-im)*(ρ₁+ρ₄)/2 # with \"-\" sign χ can be diagonalized ???\n",
    "    #ρ₃ = 𝓔(ρˣ₀, Ac) + im*𝓔(ρʸ₀, Ac) - (1+im)*(ρ₁+ρ₄)/2 \n",
    "\n",
    "    σₓ = [ 0  1\n",
    "           1  0 ]  # X gate\n",
    "\n",
    "    Λ = [ I  σₓ\n",
    "          σₓ  -I ] / 2\n",
    "\n",
    "    #Ρ = [ρ₁ ρ₃ \n",
    "    #     ρ₂ ρ₄] \n",
    "\n",
    "    Ρ = [ρ₁ ρ₂\n",
    "         ρ₃ ρ₄] \n",
    "     \n",
    "    χ = Λ*Ρ*Λ\n",
    "\n",
    "    return χ \n",
    "end\n",
    "\n",
    "χˢᵇ = QPT(Aˢᵇ)\n",
    "χᴸᴹᴱ = QPT(Aᴸᴹᴱ)\n",
    "dᴸᴹᴱ, Uᴸᴹᴱ = eigen(χᴸᴹᴱ)\n",
    "dˢᵇ, Uˢᵇ = eigen(χˢᵇ)\n",
    "Uᴸᴹᴱ * diagm(dᴸᴹᴱ) * Uᴸᴹᴱ' ≈ χᴸᴹᴱ\n",
    "Uˢᵇ * diagm(dˢᵇ) * Uˢᵇ' ≈ χˢᵇ"
   ]
  },
  {
   "cell_type": "code",
   "execution_count": 148,
   "metadata": {},
   "outputs": [
    {
     "data": {
      "text/plain": [
       "2×2 Matrix{ComplexF64}:\n",
       " 0.200965+0.541299im  -0.736255+0.473275im\n",
       " 0.665096+0.473275im  -0.477494+0.0787711im"
      ]
     },
     "metadata": {},
     "output_type": "display_data"
    }
   ],
   "source": [
    "E₀ = [1.  0\n",
    "      0   1 ]\n",
    "E₁ = [ 0.  1\n",
    "       1  0 ]  #  σₓ  or X gate\n",
    "E₂ = -im * [ 0  -im\n",
    "             im  0  ]\n",
    "E₃ = [ 1  0\n",
    "       0 -1 ]\n",
    "Ẽ = [E₀, E₁, E₂, E₃] \n",
    "\n",
    "d, U = eigen(χˢᵇ)\n",
    "\n",
    "Ẽ[1]\n",
    "sum(U[j,1] * Ẽ[j] for j in 1:size(U)[i])\n"
   ]
  },
  {
   "cell_type": "code",
   "execution_count": 149,
   "metadata": {},
   "outputs": [
    {
     "data": {
      "text/plain": [
       "operator_sum (generic function with 1 method)"
      ]
     },
     "metadata": {},
     "output_type": "display_data"
    }
   ],
   "source": [
    "function operator_sum(χ)\n",
    "    d, U = eigen(χ)\n",
    "    #@assert U * diagm(d) * U' ≈ χ\n",
    "    E = []\n",
    "    for i in 1:size(U)[2]\n",
    "        push!(E, sqrt(d[i] * sum(U[j,i] * Ẽ[j] for j in 1:size(U)[1])))\n",
    "    end\n",
    "    return E\n",
    "end"
   ]
  },
  {
   "cell_type": "code",
   "execution_count": 150,
   "metadata": {},
   "outputs": [
    {
     "data": {
      "text/plain": [
       "2×2 Matrix{ComplexF64}:\n",
       "   0.41133+0.512653im   0.316661-0.690682im\n",
       " 0.0784934-0.440147im  -0.235292-0.0088777im"
      ]
     },
     "metadata": {},
     "output_type": "display_data"
    }
   ],
   "source": [
    "Eˢᵇ = operator_sum(χˢᵇ)\n",
    "Eˢᵇ[3]"
   ]
  },
  {
   "cell_type": "code",
   "execution_count": 151,
   "metadata": {},
   "outputs": [
    {
     "data": {
      "text/plain": [
       "2×2 Matrix{ComplexF64}:\n",
       "  0.410714+0.512122im   0.315323-0.690558im\n",
       " 0.0783229-0.43987im   -0.235115-0.00785649im"
      ]
     },
     "metadata": {},
     "output_type": "display_data"
    }
   ],
   "source": [
    "Eᴸᴹᴱ = operator_sum(χᴸᴹᴱ)\n",
    "Eᴸᴹᴱ[3]"
   ]
  },
  {
   "cell_type": "code",
   "execution_count": 152,
   "metadata": {},
   "outputs": [
    {
     "data": {
      "text/plain": [
       "2×2 Matrix{ComplexF64}:\n",
       " 0.956578+0.270644im  0.323712-0.0402712im\n",
       " 0.117543+0.369427im   1.03078-0.362586im"
      ]
     },
     "metadata": {},
     "output_type": "display_data"
    }
   ],
   "source": [
    "Eˢᵇ[4]"
   ]
  },
  {
   "cell_type": "code",
   "execution_count": 153,
   "metadata": {},
   "outputs": [
    {
     "data": {
      "text/plain": [
       "2×2 Matrix{ComplexF64}:\n",
       " 0.956688+0.27074im   0.323812-0.0403083im\n",
       "  0.11757+0.369462im   1.03087-0.362714im"
      ]
     },
     "metadata": {},
     "output_type": "display_data"
    }
   ],
   "source": [
    "Eᴸᴹᴱ[4]"
   ]
  },
  {
   "cell_type": "code",
   "execution_count": 154,
   "metadata": {},
   "outputs": [
    {
     "data": {
      "text/plain": [
       "2×2 Matrix{ComplexF64}:\n",
       "   1.86487+0.437817im  1.19441-0.905679im\n",
       " -0.185553-0.435982im  1.58895-0.316759im"
      ]
     },
     "metadata": {},
     "output_type": "display_data"
    }
   ],
   "source": [
    "sum(Eᴸᴹᴱ)\n"
   ]
  },
  {
   "cell_type": "code",
   "execution_count": 155,
   "metadata": {},
   "outputs": [
    {
     "data": {
      "text/plain": [
       "2×2 Matrix{ComplexF64}:\n",
       "   1.86061+0.438704im  1.19279-0.907315im\n",
       " -0.181642-0.439338im  1.59086-0.318407im"
      ]
     },
     "metadata": {},
     "output_type": "display_data"
    }
   ],
   "source": [
    "sum(Eˢᵇ)"
   ]
  }
 ],
 "metadata": {
  "kernelspec": {
   "display_name": "Julia 1.9.2",
   "language": "julia",
   "name": "julia-1.9"
  },
  "language_info": {
   "file_extension": ".jl",
   "mimetype": "application/julia",
   "name": "julia",
   "version": "1.9.2"
  },
  "orig_nbformat": 4
 },
 "nbformat": 4,
 "nbformat_minor": 2
}
