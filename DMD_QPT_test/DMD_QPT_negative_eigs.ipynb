{
 "cells": [
  {
   "cell_type": "code",
   "execution_count": 2,
   "metadata": {},
   "outputs": [],
   "source": [
    "include(\"../LiPoSID.jl\")\n",
    "using PyPlot"
   ]
  },
  {
   "cell_type": "code",
   "execution_count": 3,
   "metadata": {},
   "outputs": [
    {
     "data": {
      "text/plain": [
       "sum_neg (generic function with 1 method)"
      ]
     },
     "metadata": {},
     "output_type": "display_data"
    }
   ],
   "source": [
    "data_dir = \"../DATA/\"\n",
    "γ_list = [ \"0.079477\",  \"0.25133\", \"0.79477\", \"2.5133\", \"7.9477\", \"25.133\",  \"79.477\", \"251.33\"]\n",
    "\n",
    "γ_list_disp = [ \"0.0795\",  \"0.2513\", \"0.7947\", \"2.5133\", \"7.9477\", \"25.133\",  \"79.477\", \"251.33\"]\n",
    "\n",
    "function bloch4(ρ)\n",
    "\n",
    "    b = convert.(Float64, [ ρ[1,2] + ρ[2,1],\n",
    "                           (ρ[1,2] - ρ[2,1])*im,    #ρ[2,1] - ρ[1,2] ?\n",
    "                            ρ[1,1] - ρ[2,2],\n",
    "                               1                 ]) #ρ[1,1] + ρ[2,2]  \n",
    "\n",
    "end\n",
    "\n",
    "function dm_b4(b) \n",
    "\n",
    "    ρ = [ 1+b[3]         b[1]-im*b[2]\n",
    "          b[1]+im*b[2]   1-b[3]       ]/2\n",
    "\n",
    "end\n",
    "\n",
    "function propagate_DMD_b4(A, ρ₀, lᵐᵃˣ)\n",
    "\n",
    "    ρ = [ρ₀]\n",
    "\n",
    "    for i in 2:lᵐᵃˣ\n",
    "        push!(ρ, dm_b4( A * bloch4(ρ[end])))\n",
    "    end\n",
    "\n",
    "    return ρ\n",
    "\n",
    "end\n",
    "\n",
    "function DMD_step(A, ρ₀)\n",
    "    dm_b4(A * bloch4(ρ₀))\n",
    "end\n",
    "\n",
    "max_neg(d) = minimum(d) < 0 ? abs(minimum(d)) : 0\n",
    "sum_neg(d) = abs(sum(d[d .< 0]))\n"
   ]
  },
  {
   "cell_type": "code",
   "execution_count": 4,
   "metadata": {},
   "outputs": [],
   "source": [
    "ρᵍ₀ = [1. 0]' * [1 0]\n",
    "ρᵉ₀ = [0. 1]' * [0 1]\n",
    "ρˣ₀ = [1  1]' * [1 1]/2\n",
    "ρʸ₀ = [1 -im]' * [1 -im]/2\n",
    "\n",
    "max_negs = []\n",
    "sum_negs = []\n",
    "num_negs = []\n",
    "\n",
    "for γᵢ in γ_list \n",
    "\n",
    "    ρᵉ, tᵉ = LiPoSID.get_rho_series(data_dir*\"State_B1_2CUT_data.h5\", γᵢ)\n",
    "    ρᵍ, tᵍ = LiPoSID.get_rho_series(data_dir*\"State_B2_2CUT_data.h5\", γᵢ)\n",
    "    ρˣ, tˣ = LiPoSID.get_rho_series(data_dir*\"State_B3_2CUT_data.h5\", γᵢ)\n",
    "    ρʸ, tʸ = LiPoSID.get_rho_series(data_dir*\"State_B4_2CUT_data.h5\", γᵢ)\n",
    "\n",
    "    lᵉ = length(ρᵉ); lᵍ = length(ρᵍ); lˣ = length(ρˣ); lʸ = length(ρʸ)\n",
    "    lᵐᵃˣ = min(lᵉ, lᵍ,  lˣ, lʸ)  #choose time limit by shortest series\n",
    "\n",
    "    Aᴰᴹᴰ⁻ˢᴮ = LiPoSID.direct_DMD_01XY_b4_A([ρᵉ[1:lᵐᵃˣ], ρᵍ[1:lᵐᵃˣ], ρˣ[1:lᵐᵃˣ], ρʸ[1:lᵐᵃˣ]])\n",
    "\n",
    "    ρᵍ₁ˢᴮ = DMD_step(Aᴰᴹᴰ⁻ˢᴮ, ρᵍ₀)\n",
    "    ρᵉ₁ˢᴮ = DMD_step(Aᴰᴹᴰ⁻ˢᴮ, ρᵉ₀)\n",
    "    ρˣ₁ˢᴮ = DMD_step(Aᴰᴹᴰ⁻ˢᴮ, ρˣ₀)\n",
    "    ρʸ₁ˢᴮ = DMD_step(Aᴰᴹᴰ⁻ˢᴮ, ρʸ₀)\n",
    "\n",
    "    Eᴰᴹᴰ⁻ˢᴮ, dˢᴮ = LiPoSID.QPT(ρᵍ₁ˢᴮ, ρᵉ₁ˢᴮ, ρˣ₁ˢᴮ, ρʸ₁ˢᴮ)\n",
    "\n",
    "    push!(max_negs, max_neg(dˢᴮ))\n",
    "    push!(sum_negs, sum_neg(dˢᴮ))\n",
    "    push!(num_negs, count(x->x<0, dˢᴮ))\n",
    "\n",
    "end"
   ]
  },
  {
   "cell_type": "code",
   "execution_count": 9,
   "metadata": {},
   "outputs": [],
   "source": [
    "PyPlot.clf()\n",
    "PyPlot.figure(figsize=(7, 6), dpi=600)\n",
    "PyPlot.semilogy(max_negs, \"-+\")\n",
    "#PyPlot.axhline(y = 1e-3)\n",
    "PyPlot.title(\"(a)\")\n",
    "PyPlot.xlabel(\"Coupling, γ\");\n",
    "PyPlot.ylabel(\"Absolute value of the smallest eigenvelue of χ-matrix, |dₘᵢₙ|\") \n",
    "PyPlot.xticks(0:7, γ_list_disp )\n",
    "#PyPlot.show()\n",
    "#PyPlot.display_figs()\n",
    "PyPlot.savefig(\"QPT_neg_eigs_a.pdf\")"
   ]
  },
  {
   "cell_type": "code",
   "execution_count": 10,
   "metadata": {},
   "outputs": [],
   "source": [
    "PyPlot.clf()\n",
    "PyPlot.figure(figsize=(7, 2), dpi=600)\n",
    "PyPlot.bar(0:7, num_negs, width=0.5)\n",
    "PyPlot.title(\"(b)\")\n",
    "PyPlot.xlabel(\"Coupling, γ\"); \n",
    "PyPlot.ylabel(\"Number of \\n negative eigenvalues \\n of χ-matrix\")\n",
    "PyPlot.xticks(0:7, γ_list_disp)\n",
    "PyPlot.yticks(1:2, [\"1\", \"2\"])\n",
    "PyPlot.tight_layout(h_pad = 0)\n",
    "#PyPlot.show()\n",
    "#PyPlot.display_figs()\n",
    "\n",
    "PyPlot.savefig(\"QPT_neg_eigs_b.pdf\")"
   ]
  },
  {
   "cell_type": "code",
   "execution_count": 7,
   "metadata": {},
   "outputs": [],
   "source": []
  }
 ],
 "metadata": {
  "kernelspec": {
   "display_name": "Julia 1.9.2",
   "language": "julia",
   "name": "julia-1.9"
  },
  "language_info": {
   "file_extension": ".jl",
   "mimetype": "application/julia",
   "name": "julia",
   "version": "1.9.2"
  }
 },
 "nbformat": 4,
 "nbformat_minor": 2
}
