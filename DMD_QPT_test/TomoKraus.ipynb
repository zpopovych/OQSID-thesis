{
 "cells": [
  {
   "cell_type": "code",
   "execution_count": 2,
   "metadata": {},
   "outputs": [],
   "source": [
    "include(\"LiPoSID.jl\")\n",
    "using LinearAlgebra"
   ]
  },
  {
   "cell_type": "markdown",
   "metadata": {},
   "source": [
    "Kraus operators for amplitude damping\n",
    "\n",
    "$E_1 = \\begin{bmatrix}\n",
    "1 & 0 \\\\ 0 & \\sqrt{1-\\gamma}\n",
    "\\end{bmatrix}, \\quad E_2 = \\begin{bmatrix}\n",
    "0 & \\sqrt{\\gamma} \\\\ 0 & 0 \\end{bmatrix}$"
   ]
  },
  {
   "cell_type": "code",
   "execution_count": 3,
   "metadata": {},
   "outputs": [
    {
     "data": {
      "text/plain": [
       "2×2 Matrix{Float64}:\n",
       " 1.0  0.0\n",
       " 0.0  1.0"
      ]
     },
     "metadata": {},
     "output_type": "display_data"
    }
   ],
   "source": [
    "γ = 0.1\n",
    "E = []\n",
    "push!(E, [1 0\n",
    "          0 sqrt(1-γ)])\n",
    "        \n",
    "push!(E, [0 sqrt(γ)\n",
    "          0  0 ])\n",
    "\n",
    "sum(e'e for e in E)"
   ]
  },
  {
   "cell_type": "markdown",
   "metadata": {},
   "source": [
    "Set initial states:\n",
    "\n",
    "$\n",
    "\\rho^{(g)}(0) =  \\rho^{\\ket{0}}(0) = \\left(\n",
    "\\begin{array}{c}\n",
    "            1  \\\\\n",
    "            0   \\\\\n",
    "        \\end{array}\n",
    "                \\right) \n",
    "                \\left(\n",
    "                \\begin{array} {cc}\n",
    "                1 & 0\n",
    "                \\end{array}\n",
    "                \\right) = \n",
    "\\ket{0} \\bra{0} = \\left(\n",
    "        \\begin{array}{ccccc}\n",
    "            1  &  0  \\\\\n",
    "            0  &  0   \\\\\n",
    "        \\end{array}\n",
    "            \\right), \\notag \\\\\n",
    "\\rho^{(e)}(0)=\\rho^{\\ket{1}}(0)=\\ket{1} \\bra{1} = \n",
    "\\begin{pmatrix}\n",
    "0 \\\\ 1\n",
    "\\end{pmatrix}\n",
    "\\begin{pmatrix}\n",
    "0 & 1\n",
    "\\end{pmatrix}=\n",
    "\\left(\n",
    "        \\begin{array}{ccccc}\n",
    "            0  &  0  \\\\\n",
    "            0  &  1  \\\\\n",
    "        \\end{array}\n",
    "            \\right), \\notag\\\\\n",
    "\\rho^{\\ket{x}}(0) =\\ket{x} \\bra{x} = |+\\rangle \\langle + | = \\frac{1}{2}\\left(\n",
    "        \\begin{array}{ccccc}\n",
    "            1  &  1  \\\\\n",
    "            1  &  1   \\\\\n",
    "        \\end{array}\n",
    "    \\right), \\notag\\\\\n",
    "\\rho^{\\ket{y}}(0)  = \\ket{y} \\bra{y} = |-\\rangle \\langle-| = \\frac{1}{2}\\left(\n",
    "        \\begin{array}{ccccc}\n",
    "            1  &  -i  \\\\\n",
    "            i  &  1   \\\\\n",
    "        \\end{array}\n",
    "    \\right)$"
   ]
  },
  {
   "cell_type": "code",
   "execution_count": 4,
   "metadata": {},
   "outputs": [
    {
     "data": {
      "text/plain": [
       "2×2 Matrix{ComplexF64}:\n",
       " 0.5+0.0im  0.0-0.5im\n",
       " 0.0+0.5im  0.5+0.0im"
      ]
     },
     "metadata": {},
     "output_type": "display_data"
    }
   ],
   "source": [
    "ρᵍ₀ = [1. 0]' * [1 0]\n",
    "ρᵉ₀ = [0. 1]' * [0 1]\n",
    "ρˣ₀ = [1  1]' * [1 1]/2\n",
    "ρʸ₀ = [1 -im]' * [1 -im]/2"
   ]
  },
  {
   "cell_type": "markdown",
   "metadata": {},
   "source": [
    "Kraus operator sum representation\n",
    "\n",
    "$\n",
    "\\rho(t) = \\sum_{k=1}^{s} E_k^{} \\rho_0 E_k^{\\dagger},\n",
    "$"
   ]
  },
  {
   "cell_type": "code",
   "execution_count": 5,
   "metadata": {},
   "outputs": [],
   "source": [
    "function Kraus(ρ₀, E)\n",
    "    ρ = sum(K * ρ₀ * K' for K in E)\n",
    "    return ρ\n",
    "end\n",
    "\n",
    "ρᵍ = Kraus(ρᵍ₀, E); @assert ishermitian(ρᵍ)\n",
    "ρᵉ = Kraus(ρᵉ₀, E); @assert ishermitian(ρᵉ)\n",
    "ρˣ = Kraus(ρˣ₀, E); @assert ishermitian(ρˣ)\n",
    "ρʸ = Kraus(ρʸ₀, E); @assert ishermitian(ρʸ)"
   ]
  },
  {
   "cell_type": "markdown",
   "metadata": {},
   "source": [
    "$\n",
    "    \\rho_1 = \\begin{pmatrix}\n",
    "        1 & 0\\\\\n",
    "        0 & 0\n",
    "    \\end{pmatrix} = \\ket{0}\\bra{0}\\\\\n",
    "    \\rho_2 = \\rho_1 X = \\begin{pmatrix}\n",
    "        1 & 0\\\\\n",
    "        0 & 0\n",
    "    \\end{pmatrix} \n",
    "    \\begin{pmatrix}\n",
    "        0 & 1\\\\\n",
    "        1 & 0\n",
    "    \\end{pmatrix} = \\begin{pmatrix}\n",
    "        0 & 1\\\\\n",
    "        0 & 0\n",
    "    \\end{pmatrix} = \\ket{0}\\bra{1} \\\\\n",
    "    \\rho_3 = X \\rho_1 =     \\begin{pmatrix}\n",
    "        0 & 1\\\\\n",
    "        1 & 0\n",
    "    \\end{pmatrix}\\begin{pmatrix}\n",
    "        1 & 0\\\\\n",
    "        0 & 0\n",
    "    \\end{pmatrix}  =\n",
    "    \\begin{pmatrix}\n",
    "        0 & 0\\\\\n",
    "        1 & 0\n",
    "    \\end{pmatrix} = \\ket{1} \\bra{0} \\\\\n",
    "    \\rho_4 = X \\rho_1 X=     \\begin{pmatrix}\n",
    "        0 & 1\\\\\n",
    "        1 & 0\n",
    "    \\end{pmatrix}\\begin{pmatrix}\n",
    "        1 & 0\\\\\n",
    "        0 & 0\n",
    "    \\end{pmatrix} \\begin{pmatrix}\n",
    "        0 & 1\\\\\n",
    "        1 & 0\n",
    "    \\end{pmatrix} = \\begin{pmatrix}\n",
    "        0 & 0\\\\\n",
    "        1 & 0\n",
    "    \\end{pmatrix}\\begin{pmatrix}\n",
    "        0 & 1\\\\\n",
    "        1 & 0\n",
    "    \\end{pmatrix} = \n",
    "    \\begin{pmatrix}\n",
    "        0 & 0\\\\\n",
    "        0 & 1\n",
    "    \\end{pmatrix} = \\ket{1} \\bra{1}\n",
    "$"
   ]
  },
  {
   "cell_type": "markdown",
   "metadata": {},
   "source": [
    "Using Niesen-Chuang (8.154) formula:\n",
    "\n",
    "$\n",
    "\\mathcal{E}(\\ket{n}\\bra{m}) =  \\mathcal{E}(|+\\rangle \\langle + |) +i  \\mathcal{E}(|-\\rangle \\langle-|) - \\frac{1+i}{2}\\mathcal{E}\\ket{n}\\bra{n} - \\frac{1+i}{2}\\mathcal{E}\\ket{m}\\bra{m},\n",
    "$\n",
    "\n",
    "$\\rho_1' = \\mathcal{E}(|0\\rangle \\langle 0 |)$\n",
    "\n",
    "$\\rho_4' = \\mathcal{E}(|1\\rangle \\langle 1 |)$\n",
    "\n",
    "$\\rho_2' = \\mathcal{E}(|0\\rangle \\langle 1 |) = \\mathcal{E}(|+\\rangle \\langle + |) +i  \\mathcal{E}(|-\\rangle \\langle-|) - (1+i) (\\rho_1' + \\rho_4')/2, $ \n",
    "\n",
    "$\\rho_3'  = \\mathcal{E}(|1\\rangle \\langle 0 |) = \\mathcal{E}(|+\\rangle \\langle + |) -i  \\mathcal{E}(|-\\rangle \\langle-|) - (1+i) (\\rho_1' + \\rho_4')/2$\n",
    "\n",
    "Niesen-Chuang mix up vice-versa formulas (8.175) for $\\rho_2'$ and (8.176) for $\\rho_3'$ and also has \"-\" sign in expression $(1-i) (\\rho_1' + \\rho_4')$ in (8.175)."
   ]
  },
  {
   "cell_type": "code",
   "execution_count": 6,
   "metadata": {},
   "outputs": [
    {
     "data": {
      "text/plain": [
       "4×4 Matrix{ComplexF64}:\n",
       "      1.0+0.0im  0.0+0.0im  0.0+0.0im  0.948683+0.0im\n",
       "      0.0+0.0im  0.0+0.0im  0.0+0.0im       0.0+0.0im\n",
       "      0.0+0.0im  0.0+0.0im  0.1+0.0im       0.0+0.0im\n",
       " 0.948683+0.0im  0.0+0.0im  0.0+0.0im       0.9+0.0im"
      ]
     },
     "metadata": {},
     "output_type": "display_data"
    }
   ],
   "source": [
    "ρ₁ = ρᵍ\n",
    "ρ₄ = ρᵉ\n",
    "ρ₂ = ρˣ + im*ρʸ - (1+im)*(ρ₁+ρ₄)/2; # this matrix is not Hermitian\n",
    "ρ₃ = ρˣ - im*ρʸ - (1-im)*(ρ₁+ρ₄)/2; # this matrix is not Hermitian\n",
    "\n",
    "[ ρ₁ ρ₂ \n",
    "  ρ₃ ρ₄ ]"
   ]
  },
  {
   "cell_type": "code",
   "execution_count": 8,
   "metadata": {},
   "outputs": [
    {
     "data": {
      "text/plain": [
       "4×4 Matrix{ComplexF64}:\n",
       " 0.949342+0.0im     0.0+0.0im     0.0+0.0im        0.025+0.0im\n",
       "      0.0+0.0im   0.025+0.0im  -0.025+0.0im          0.0+0.0im\n",
       "      0.0+0.0im  -0.025+0.0im   0.025+0.0im          0.0+0.0im\n",
       "    0.025+0.0im     0.0+0.0im     0.0+0.0im  0.000658351+0.0im"
      ]
     },
     "metadata": {},
     "output_type": "display_data"
    }
   ],
   "source": [
    "σₓ = [ 0  1\n",
    "       1  0 ]  # X gate\n",
    "\n",
    "Λ = [ I   σₓ\n",
    "      σₓ  -I ] / 2 # was -I in Niesen-Chuang (8.178)\n",
    "\n",
    "χ = Λ * [ ρ₁ ρ₂ \n",
    "          ρ₃ ρ₄ ] * Λ\n",
    "\n",
    "#@assert ishermitian(χ) # it is not exactly Hermitian ???"
   ]
  },
  {
   "cell_type": "code",
   "execution_count": 9,
   "metadata": {},
   "outputs": [
    {
     "data": {
      "text/plain": [
       "2×2 Matrix{ComplexF64}:\n",
       " 1.0+0.0im  0.0+0.0im\n",
       " 0.0+0.0im  1.0+0.0im"
      ]
     },
     "metadata": {},
     "output_type": "display_data"
    }
   ],
   "source": [
    "σ = [ [0 1; 1 0], [0 -im; im 0], [1 0; 0 -1], [1 0; 0 1] ]\n",
    "σˣ = σ[1]; σʸ = σ[2]; σᶻ = σ[3]; σᴵ = σ[4]; \n",
    "\n",
    "E₀ = I(2)\n",
    "\n",
    "E₁ = σˣ  #  σₓ  or X gate\n",
    "E₂ = -im * σʸ\n",
    "E₃ = σᶻ\n",
    "\n",
    "Ẽ = [E₀, E₁, E₂, E₃] \n",
    "\n",
    "d, U = eigen(χ)\n",
    "@assert U * diagm(d) * U' ≈ χ\n",
    "\n",
    "Eᵗᵒᵐ = []\n",
    "for i in 1:size(U)[2]\n",
    "    Eᵢ = sqrt(Complex(d[i])) * sum(U[j,i] * Ẽ[j] for j in 1:size(U)[1])\n",
    "    Eᵢ[abs.(Eᵢ) .< 1e-5] .= 0\n",
    "    push!(Eᵗᵒᵐ, Eᵢ)\n",
    "end\n",
    "\n",
    "sum(e'e for e in Eᵗᵒᵐ)"
   ]
  },
  {
   "cell_type": "code",
   "execution_count": 41,
   "metadata": {},
   "outputs": [
    {
     "data": {
      "text/plain": [
       "4-element Vector{Any}:\n",
       " ComplexF64[0.0 + 0.0im 0.0 + 0.0im; 0.0 + 0.0im 0.0 + 0.0im]\n",
       " ComplexF64[0.0 + 0.0im 0.0 + 0.0im; 0.0 + 0.0im 0.0 + 0.0im]\n",
       " ComplexF64[0.0 + 0.0im 0.316227766016838 + 0.0im; 0.0 + 0.0im 0.0 + 0.0im]\n",
       " ComplexF64[-1.0 + 0.0im 0.0 + 0.0im; 0.0 + 0.0im -0.9486832980505137 + 0.0im]"
      ]
     },
     "metadata": {},
     "output_type": "display_data"
    }
   ],
   "source": [
    "Eᵗᵒᵐ "
   ]
  },
  {
   "cell_type": "code",
   "execution_count": 10,
   "metadata": {},
   "outputs": [
    {
     "data": {
      "text/plain": [
       "2-element Vector{Any}:\n",
       " [1.0 0.0; 0.0 0.9486832980505138]\n",
       " [0.0 0.31622776601683794; 0.0 0.0]"
      ]
     },
     "metadata": {},
     "output_type": "display_data"
    }
   ],
   "source": [
    "E"
   ]
  },
  {
   "cell_type": "code",
   "execution_count": 11,
   "metadata": {},
   "outputs": [
    {
     "data": {
      "text/plain": [
       "2×2 Matrix{Float64}:\n",
       " 1.0  0.0\n",
       " 0.0  1.0"
      ]
     },
     "metadata": {},
     "output_type": "display_data"
    }
   ],
   "source": [
    "sum(e'e for e in E)"
   ]
  },
  {
   "cell_type": "code",
   "execution_count": 12,
   "metadata": {},
   "outputs": [
    {
     "data": {
      "text/plain": [
       "choi (generic function with 1 method)"
      ]
     },
     "metadata": {},
     "output_type": "display_data"
    }
   ],
   "source": [
    "function choi(ρᵍ, ρᵉ, ρˣ, ρʸ)\n",
    "    ρ₁ = ρᵍ\n",
    "    ρ₄ = ρᵉ\n",
    "    ρ₂ = ρˣ + im*ρʸ - (1+im)*(ρ₁+ρ₄)/2; # this matrix is not Hermitian\n",
    "    ρ₃ = ρˣ - im*ρʸ - (1-im)*(ρ₁+ρ₄)/2; # this matrix is not Hermitian\n",
    "\n",
    "    σₓ = [ 0  1\n",
    "           1  0 ]  # X gate\n",
    "\n",
    "    Λ = [ I   σₓ\n",
    "        σₓ  -I ] / 2 # was -I in Niesen-Chuang (8.178)\n",
    "\n",
    "    χ = Λ * [ ρ₁ ρ₂ \n",
    "              ρ₃ ρ₄ ] * Λ\n",
    "\n",
    "    return χ\n",
    "end"
   ]
  },
  {
   "cell_type": "code",
   "execution_count": 14,
   "metadata": {},
   "outputs": [
    {
     "data": {
      "text/plain": [
       "2×2 Matrix{ComplexF64}:\n",
       " 1.0+0.0im  0.0+0.0im\n",
       " 0.0+0.0im  1.0+0.0im"
      ]
     },
     "metadata": {},
     "output_type": "display_data"
    }
   ],
   "source": [
    "function operator_sum(χ)\n",
    "\n",
    "    #@assert ishermitian(χ)\n",
    "\n",
    "    σ = [ [0 1; 1 0], [0 -im; im 0], [1 0; 0 -1], [1 0; 0 1] ]\n",
    "    σˣ = σ[1]; σʸ = σ[2]; σᶻ = σ[3]; σᴵ = σ[4]; \n",
    "\n",
    "    E₀ = I(2)\n",
    "\n",
    "    E₁ = σˣ  #  σₓ  or X gate\n",
    "    E₂ = -im * σʸ\n",
    "    E₃ = σᶻ\n",
    "\n",
    "    Ẽ = [E₀, E₁, E₂, E₃] \n",
    "\n",
    "    d, U = eigen(χ)\n",
    "    @assert U * diagm(d) * U' ≈ χ\n",
    "    \n",
    "    E = []\n",
    "    for i in 1:size(U)[2]\n",
    "        Eᵢ = sqrt(Complex(d[i])) * sum(U[j,i] * Ẽ[j] for j in 1:size(U)[1])\n",
    "        Eᵢ[abs.(Eᵢ) .< 1e-5] .= 0\n",
    "        push!(E, Eᵢ)\n",
    "    end\n",
    "    return E\n",
    "end\n",
    "\n",
    "Eᵗᵒᵐ = operator_sum(χ)\n",
    "\n",
    "sum(e'e for e in Eᵗᵒᵐ)"
   ]
  },
  {
   "cell_type": "code",
   "execution_count": 15,
   "metadata": {},
   "outputs": [],
   "source": [
    "ρᵍᵗᵒᵐ = Kraus(ρᵍ₀, Eᵗᵒᵐ); @assert ishermitian(ρᵍᵗᵒᵐ)\n",
    "ρᵉᵗᵒᵐ = Kraus(ρᵉ₀, Eᵗᵒᵐ); @assert ishermitian(ρᵉᵗᵒᵐ)\n",
    "ρˣᵗᵒᵐ = Kraus(ρˣ₀, Eᵗᵒᵐ); @assert ishermitian(ρˣᵗᵒᵐ)\n",
    "ρʸᵗᵒᵐ = Kraus(ρʸ₀, Eᵗᵒᵐ); @assert ishermitian(ρʸᵗᵒᵐ)"
   ]
  },
  {
   "cell_type": "code",
   "execution_count": 16,
   "metadata": {},
   "outputs": [
    {
     "data": {
      "text/plain": [
       "fidelity (generic function with 1 method)"
      ]
     },
     "metadata": {},
     "output_type": "display_data"
    }
   ],
   "source": [
    "function fidelity(ρ₁, ρ₂)\n",
    "    abs((tr(sqrt(sqrt(ρ₁)*ρ₂*sqrt(ρ₁))))^2)\n",
    "end"
   ]
  },
  {
   "cell_type": "markdown",
   "metadata": {},
   "source": []
  },
  {
   "cell_type": "code",
   "execution_count": 59,
   "metadata": {},
   "outputs": [],
   "source": [
    "@assert fidelity(ρᵍ, ρᵍᵗᵒᵐ) ≈ 1\n",
    "@assert fidelity(ρᵉ, ρᵉᵗᵒᵐ) ≈ 1\n",
    "@assert fidelity(ρˣ, ρˣᵗᵒᵐ) ≈ 1\n",
    "@assert fidelity(ρʸ, ρʸᵗᵒᵐ) ≈ 1"
   ]
  },
  {
   "cell_type": "markdown",
   "metadata": {},
   "source": [
    "Kraus operators for amplitude damping\n",
    "\n",
    "$E_1 = \\begin{bmatrix}\n",
    "1 & 0 \\\\ 0 & \\sqrt{1-\\gamma}\n",
    "\\end{bmatrix}, \\quad E_2 = \\begin{bmatrix}\n",
    "0 & \\sqrt{\\gamma} \\\\ 0 & 0 \\end{bmatrix}$"
   ]
  },
  {
   "cell_type": "code",
   "execution_count": 18,
   "metadata": {},
   "outputs": [
    {
     "name": "stdout",
     "output_type": "stream",
     "text": [
      "γ = 0.0 trueComplexF64[0.0 + 0.0im, 0.0 + 0.0im, 0.0 + 0.0im, 1.0 + 0.0im]0.9999999999999993\n",
      "γ = 0.1 true[4.163336342344337e-17, 7.771561172376096e-16, 0.05000000000000002, 0.95]0.9999999999999996\n",
      "γ = 0.2 falseComplexF64[-6.015209364363391e-18 + 0.0im, 2.07746145073982e-33 + 0.0im, 0.09999999999999998 + 0.0im, 0.8999999999999999 + 0.0im]0.9999999999999996\n",
      "γ = 0.3 falseComplexF64[0.0 + 0.0im, 1.591652623634883e-17 + 0.0im, 0.1499999999999999 + 0.0im, 0.8500000000000001 + 0.0im]0.9999999999999998\n",
      "γ = 0.4 true[1.1102230246251565e-16, 7.771561172376096e-16, 0.2, 0.8]0.9999999999999996\n",
      "γ = 0.5 falseComplexF64[0.0 + 0.0im, 1.9444170971836036e-17 + 0.0im, 0.24999999999999997 + 0.0im, 0.7500000000000002 + 0.0im]0.9999999999999996\n",
      "γ = 0.6 falseComplexF64[-6.729301216572692e-19 + 0.0im, 0.0 + 0.0im, 0.2999999999999999 + 0.0im, 0.7000000000000005 + 0.0im]1.0\n",
      "γ = 0.7 true[2.220446049250313e-16, 5.551115123125783e-16, 0.35000000000000014, 0.65]0.9999999999999991\n",
      "γ = 0.8 true[2.220446049250313e-16, 5.551115123125783e-16, 0.3999999999999999, 0.6]0.9999999999999991\n",
      "γ = 0.9 falseComplexF64[-1.1835017208228792e-17 + 0.0im, 0.0 + 0.0im, 0.44999999999999984 + 0.0im, 0.55 + 0.0im]0.9999999999999993\n",
      "γ = 1.0 true[2.7755575615628914e-16, 2.7755575615628914e-16, 0.5, 0.5]1.0000000000000004\n"
     ]
    }
   ],
   "source": [
    "for  γ in 0:.1:1\n",
    "\n",
    "    print(\"γ = \", γ)\n",
    "    print(\" \")\n",
    "\n",
    "    E = []\n",
    "    push!(E, [1 0\n",
    "              0 sqrt(1-γ)])\n",
    "            \n",
    "    push!(E, [0 sqrt(γ)\n",
    "              0  0 ])\n",
    "    \n",
    "    ρᵍ = Kraus(ρᵍ₀, E); @assert ishermitian(ρᵍ)\n",
    "    ρᵉ = Kraus(ρᵉ₀, E); @assert ishermitian(ρᵉ)\n",
    "    ρˣ = Kraus(ρˣ₀, E); @assert ishermitian(ρˣ)\n",
    "    ρʸ = Kraus(ρʸ₀, E); @assert ishermitian(ρʸ)\n",
    "\n",
    "    χ = choi(ρᵍ, ρᵉ, ρˣ, ρʸ)\n",
    "    print(ishermitian(χ))\n",
    "    d, U = eigen(χ)\n",
    "    print(d)\n",
    "\n",
    "    Eᵗᵒᵐ = operator_sum(χ)\n",
    "\n",
    "    ρᵍᵗᵒᵐ = Kraus(ρᵍ₀, Eᵗᵒᵐ); @assert ishermitian(ρᵍᵗᵒᵐ)\n",
    "    ρᵉᵗᵒᵐ = Kraus(ρᵉ₀, Eᵗᵒᵐ); @assert ishermitian(ρᵉᵗᵒᵐ)\n",
    "    ρˣᵗᵒᵐ = Kraus(ρˣ₀, Eᵗᵒᵐ); @assert ishermitian(ρˣᵗᵒᵐ)\n",
    "    ρʸᵗᵒᵐ = Kraus(ρʸ₀, Eᵗᵒᵐ); @assert ishermitian(ρʸᵗᵒᵐ)\n",
    "\n",
    "    fᵍ = fidelity(ρᵍ, ρᵍᵗᵒᵐ)\n",
    "    fᵉ = fidelity(ρᵉ, ρᵉᵗᵒᵐ)\n",
    "    fˣ = fidelity(ρˣ, ρˣᵗᵒᵐ)\n",
    "    fʸ = fidelity(ρʸ, ρʸᵗᵒᵐ)\n",
    "\n",
    "    println(min(fᵍ, fᵉ, fˣ, fʸ))\n",
    "\n",
    "end\n"
   ]
  },
  {
   "cell_type": "markdown",
   "metadata": {},
   "source": [
    "depolarizing chanel\n",
    "\n",
    "$\\sqrt{1-\\frac{3p}{4}}\\begin{bmatrix} \n",
    "1 & 0 \\\\ 0 & 1\n",
    "\\end{bmatrix}, \\quad \\sqrt{\\frac{p}{4}}\\begin{bmatrix}\n",
    "0 & 1 \\\\ 1 & 0 \\end{bmatrix},\n",
    " \\quad \\sqrt{\\frac{p}{4}}\\begin{bmatrix}\n",
    "0 & -i \\\\ i & 0 \\end{bmatrix},\n",
    " \\quad \\sqrt{\\frac{p}{4}}\\begin{bmatrix}\n",
    "1 & 0 \\\\ 0 & -1 \\end{bmatrix}$"
   ]
  },
  {
   "cell_type": "code",
   "execution_count": 71,
   "metadata": {},
   "outputs": [
    {
     "name": "stdout",
     "output_type": "stream",
     "text": [
      "p = 0.0 0.9999999999999993\n",
      "p = 0.1 0.9999999999999993\n",
      "p = 0.2 1.0\n",
      "p = 0.3 0.9999999999999987\n",
      "p = 0.4 0.9999999999999989\n",
      "p = 0.5 0.9999999999999996\n",
      "p = 0.6 0.9999999999999993\n",
      "p = 0.7 1.0\n",
      "p = 0.8 0.9999999999999987\n",
      "p = 0.9 0.9999999999999989\n",
      "p = 1.0 1.0\n"
     ]
    }
   ],
   "source": [
    "for  p in 0:.1:1\n",
    "\n",
    "    print(\"p = \", p)\n",
    "    print(\" \")\n",
    "\n",
    "    E = []\n",
    "\n",
    "    push!(E, sqrt(1-3p/4)σᴵ)\n",
    "        \n",
    "    push!(E, sqrt(p/4)σˣ)\n",
    "    \n",
    "    push!(E, sqrt(p/4)σʸ)\n",
    "         \n",
    "    push!(E, sqrt(p/4)σᶻ)\n",
    "    \n",
    "    ρᵍ = Kraus(ρᵍ₀, E); @assert ishermitian(ρᵍ)\n",
    "    ρᵉ = Kraus(ρᵉ₀, E); @assert ishermitian(ρᵉ)\n",
    "    ρˣ = Kraus(ρˣ₀, E); @assert ishermitian(ρˣ)\n",
    "    ρʸ = Kraus(ρʸ₀, E); @assert ishermitian(ρʸ)\n",
    "\n",
    "    χ = choi(ρᵍ, ρᵉ, ρˣ, ρʸ)\n",
    "\n",
    "    Eᵗᵒᵐ = operator_sum(χ)\n",
    "\n",
    "    ρᵍᵗᵒᵐ = Kraus(ρᵍ₀, Eᵗᵒᵐ); #@assert ishermitian(ρᵍᵗᵒᵐ)\n",
    "    ρᵉᵗᵒᵐ = Kraus(ρᵉ₀, Eᵗᵒᵐ); #@assert ishermitian(ρᵉᵗᵒᵐ)\n",
    "    ρˣᵗᵒᵐ = Kraus(ρˣ₀, Eᵗᵒᵐ); #@assert ishermitian(ρˣᵗᵒᵐ)\n",
    "    ρʸᵗᵒᵐ = Kraus(ρʸ₀, Eᵗᵒᵐ); #@assert ishermitian(ρʸᵗᵒᵐ)\n",
    "\n",
    "    fᵍ = fidelity(ρᵍ, ρᵍᵗᵒᵐ)\n",
    "    fᵉ = fidelity(ρᵉ, ρᵉᵗᵒᵐ)\n",
    "    fˣ = fidelity(ρˣ, ρˣᵗᵒᵐ)\n",
    "    fʸ = fidelity(ρʸ, ρʸᵗᵒᵐ)\n",
    "\n",
    "    println(min(fᵍ, fᵉ, fˣ, fʸ))\n",
    "\n",
    "end"
   ]
  },
  {
   "cell_type": "markdown",
   "metadata": {},
   "source": [
    "Phase damping\n",
    "\n",
    "$E_1 = \\begin{bmatrix}\n",
    "1 & 0 \\\\ 0 & \\sqrt{1-\\gamma}\n",
    "\\end{bmatrix}, \\quad E_2 = \\begin{bmatrix}\n",
    "0 &  0 \\\\ 0 & \\sqrt{\\gamma} \\end{bmatrix}$"
   ]
  },
  {
   "cell_type": "code",
   "execution_count": 72,
   "metadata": {},
   "outputs": [
    {
     "name": "stdout",
     "output_type": "stream",
     "text": [
      "γ = 0.0 0.9999999999999993\n",
      "γ = 0.1 0.9999999999999991\n",
      "γ = 0.2 0.9999999999999973\n",
      "γ = 0.3 1.0\n",
      "γ = 0.4 0.9999999999999991\n",
      "γ = 0.5 0.9999999999999989\n",
      "γ = 0.6 0.9999999999999993\n",
      "γ = 0.7 0.9999999999999996\n",
      "γ = 0.8 0.9999999999999996\n",
      "γ = 0.9 0.9999999999999998\n",
      "γ = 1.0 1.0\n"
     ]
    }
   ],
   "source": [
    "for  γ in 0:.1:1\n",
    "\n",
    "    print(\"γ = \", γ)\n",
    "    print(\" \")\n",
    "\n",
    "    E = []\n",
    "    push!(E, [1 0\n",
    "              0 sqrt(1-γ)])\n",
    "            \n",
    "    push!(E, [0  0\n",
    "              0  sqrt(γ) ])\n",
    "    \n",
    "    ρᵍ = Kraus(ρᵍ₀, E); @assert ishermitian(ρᵍ)\n",
    "    ρᵉ = Kraus(ρᵉ₀, E); @assert ishermitian(ρᵉ)\n",
    "    ρˣ = Kraus(ρˣ₀, E); @assert ishermitian(ρˣ)\n",
    "    ρʸ = Kraus(ρʸ₀, E); @assert ishermitian(ρʸ)\n",
    "\n",
    "    χ = choi(ρᵍ, ρᵉ, ρˣ, ρʸ)\n",
    "\n",
    "    Eᵗᵒᵐ = operator_sum(χ)\n",
    "\n",
    "    ρᵍᵗᵒᵐ = Kraus(ρᵍ₀, Eᵗᵒᵐ); @assert ishermitian(ρᵍᵗᵒᵐ)\n",
    "    ρᵉᵗᵒᵐ = Kraus(ρᵉ₀, Eᵗᵒᵐ); @assert ishermitian(ρᵉᵗᵒᵐ)\n",
    "    ρˣᵗᵒᵐ = Kraus(ρˣ₀, Eᵗᵒᵐ); @assert ishermitian(ρˣᵗᵒᵐ)\n",
    "    ρʸᵗᵒᵐ = Kraus(ρʸ₀, Eᵗᵒᵐ); @assert ishermitian(ρʸᵗᵒᵐ)\n",
    "\n",
    "    fᵍ = fidelity(ρᵍ, ρᵍᵗᵒᵐ)\n",
    "    fᵉ = fidelity(ρᵉ, ρᵉᵗᵒᵐ)\n",
    "    fˣ = fidelity(ρˣ, ρˣᵗᵒᵐ)\n",
    "    fʸ = fidelity(ρʸ, ρʸᵗᵒᵐ)\n",
    "\n",
    "    println(min(fᵍ, fᵉ, fˣ, fʸ))\n",
    "\n",
    "end"
   ]
  },
  {
   "cell_type": "markdown",
   "metadata": {},
   "source": [
    "Phase flip\n",
    "\n",
    "$E_1 = \\sqrt{p}\\begin{bmatrix}\n",
    "1 & 0 \\\\ 0 & 1\n",
    "\\end{bmatrix}, \\quad E_2 = \\sqrt{1-p}\\begin{bmatrix}\n",
    "1 &  0 \\\\ 0 & -1 \\end{bmatrix}$"
   ]
  },
  {
   "cell_type": "code",
   "execution_count": 73,
   "metadata": {},
   "outputs": [
    {
     "name": "stdout",
     "output_type": "stream",
     "text": [
      "p = 0.0 0.9999999999999993\n",
      "p = 0.1 0.9999999999999996\n",
      "p = 0.2 0.9999999999999987\n",
      "p = 0.3 0.9999999999999996\n",
      "p = 0.4 0.9999999999999991\n",
      "p = 0.5 1.0\n",
      "p = 0.6 0.9999999999999991\n",
      "p = 0.7 0.9999999999999996\n",
      "p = 0.8 0.9999999999999987\n",
      "p = 0.9 0.9999999999999996\n",
      "p = 1.0 0.9999999999999993\n"
     ]
    }
   ],
   "source": [
    "for  p in 0:.1:1\n",
    "\n",
    "    print(\"p = \", p)\n",
    "    print(\" \")\n",
    "\n",
    "    E = []\n",
    "\n",
    "    push!(E, sqrt(p)σᴵ)\n",
    "               \n",
    "    push!(E, sqrt(1-p)σᶻ)\n",
    "    \n",
    "    ρᵍ = Kraus(ρᵍ₀, E); @assert ishermitian(ρᵍ)\n",
    "    ρᵉ = Kraus(ρᵉ₀, E); @assert ishermitian(ρᵉ)\n",
    "    ρˣ = Kraus(ρˣ₀, E); @assert ishermitian(ρˣ)\n",
    "    ρʸ = Kraus(ρʸ₀, E); @assert ishermitian(ρʸ)\n",
    "\n",
    "    χ = choi(ρᵍ, ρᵉ, ρˣ, ρʸ)\n",
    "\n",
    "    Eᵗᵒᵐ = operator_sum(χ)\n",
    "\n",
    "    ρᵍᵗᵒᵐ = Kraus(ρᵍ₀, Eᵗᵒᵐ); #@assert ishermitian(ρᵍᵗᵒᵐ)\n",
    "    ρᵉᵗᵒᵐ = Kraus(ρᵉ₀, Eᵗᵒᵐ); #@assert ishermitian(ρᵉᵗᵒᵐ)\n",
    "    ρˣᵗᵒᵐ = Kraus(ρˣ₀, Eᵗᵒᵐ); #@assert ishermitian(ρˣᵗᵒᵐ)\n",
    "    ρʸᵗᵒᵐ = Kraus(ρʸ₀, Eᵗᵒᵐ); #@assert ishermitian(ρʸᵗᵒᵐ)\n",
    "\n",
    "    fᵍ = fidelity(ρᵍ, ρᵍᵗᵒᵐ)\n",
    "    fᵉ = fidelity(ρᵉ, ρᵉᵗᵒᵐ)\n",
    "    fˣ = fidelity(ρˣ, ρˣᵗᵒᵐ)\n",
    "    fʸ = fidelity(ρʸ, ρʸᵗᵒᵐ)\n",
    "\n",
    "    println(min(fᵍ, fᵉ, fˣ, fʸ))\n",
    "\n",
    "end"
   ]
  },
  {
   "cell_type": "markdown",
   "metadata": {},
   "source": [
    "bit flip\n",
    "\n",
    "$E_1 = \\sqrt{p}\\begin{bmatrix}\n",
    "1 & 0 \\\\ 0 & 1\n",
    "\\end{bmatrix}, \\quad E_2 = \\sqrt{1-p}\\begin{bmatrix}\n",
    "0 &  1 \\\\ 1 & 0 \\end{bmatrix}$"
   ]
  },
  {
   "cell_type": "code",
   "execution_count": 74,
   "metadata": {},
   "outputs": [
    {
     "name": "stdout",
     "output_type": "stream",
     "text": [
      "p = 0.0 0.9999999999999993\n",
      "p = 0.1 0.9999999999999987\n",
      "p = 0.2 0.9999999999999987\n",
      "p = 0.3 0.9999999999999993\n",
      "p = 0.4 0.9999999999999991\n",
      "p = 0.5 0.9999999999999993\n",
      "p = 0.6 0.9999999999999991\n",
      "p = 0.7 0.9999999999999993\n",
      "p = 0.8 0.9999999999999987\n",
      "p = 0.9 0.9999999999999987\n",
      "p = 1.0 0.9999999999999993\n"
     ]
    }
   ],
   "source": [
    "for  p in 0:.1:1\n",
    "\n",
    "    print(\"p = \", p)\n",
    "    print(\" \")\n",
    "\n",
    "    E = []\n",
    "\n",
    "    push!(E, sqrt(p)σᴵ)\n",
    "\n",
    "    push!(E, sqrt(1-p)σˣ)\n",
    "    \n",
    "    ρᵍ = Kraus(ρᵍ₀, E); @assert ishermitian(ρᵍ)\n",
    "    ρᵉ = Kraus(ρᵉ₀, E); @assert ishermitian(ρᵉ)\n",
    "    ρˣ = Kraus(ρˣ₀, E); @assert ishermitian(ρˣ)\n",
    "    ρʸ = Kraus(ρʸ₀, E); @assert ishermitian(ρʸ)\n",
    "\n",
    "    χ = choi(ρᵍ, ρᵉ, ρˣ, ρʸ)\n",
    "\n",
    "    Eᵗᵒᵐ = operator_sum(χ)\n",
    "\n",
    "    ρᵍᵗᵒᵐ = Kraus(ρᵍ₀, Eᵗᵒᵐ); #@assert ishermitian(ρᵍᵗᵒᵐ)\n",
    "    ρᵉᵗᵒᵐ = Kraus(ρᵉ₀, Eᵗᵒᵐ); #@assert ishermitian(ρᵉᵗᵒᵐ)\n",
    "    ρˣᵗᵒᵐ = Kraus(ρˣ₀, Eᵗᵒᵐ); #@assert ishermitian(ρˣᵗᵒᵐ)\n",
    "    ρʸᵗᵒᵐ = Kraus(ρʸ₀, Eᵗᵒᵐ); #@assert ishermitian(ρʸᵗᵒᵐ)\n",
    "\n",
    "    fᵍ = fidelity(ρᵍ, ρᵍᵗᵒᵐ)\n",
    "    fᵉ = fidelity(ρᵉ, ρᵉᵗᵒᵐ)\n",
    "    fˣ = fidelity(ρˣ, ρˣᵗᵒᵐ)\n",
    "    fʸ = fidelity(ρʸ, ρʸᵗᵒᵐ)\n",
    "\n",
    "    println(min(fᵍ, fᵉ, fˣ, fʸ))\n",
    "\n",
    "end"
   ]
  },
  {
   "cell_type": "markdown",
   "metadata": {},
   "source": [
    "bit flip\n",
    "\n",
    "$E_1 = \\sqrt{p}\\begin{bmatrix}\n",
    "1 & 0 \\\\ 0 & 1\n",
    "\\end{bmatrix}, \\quad E_2 = \\sqrt{1-p}\\begin{bmatrix}\n",
    "0 &  -i \\\\ i & 0 \\end{bmatrix}$"
   ]
  },
  {
   "cell_type": "code",
   "execution_count": 75,
   "metadata": {},
   "outputs": [
    {
     "name": "stdout",
     "output_type": "stream",
     "text": [
      "p = 0.0 0.9999999999999993\n",
      "p = 0.1 0.9999999999999987\n",
      "p = 0.2 0.9999999999999987\n",
      "p = 0.3 0.9999999999999993\n",
      "p = 0.4 0.9999999999999991\n",
      "p = 0.5 0.9999999999999993\n",
      "p = 0.6 0.9999999999999991\n",
      "p = 0.7 0.9999999999999993\n",
      "p = 0.8 0.9999999999999987\n",
      "p = 0.9 0.9999999999999987\n",
      "p = 1.0 0.9999999999999993\n"
     ]
    }
   ],
   "source": [
    "for  p in 0:.1:1\n",
    "\n",
    "    print(\"p = \", p)\n",
    "    print(\" \")\n",
    "\n",
    "    E = []\n",
    "\n",
    "    push!(E, sqrt(p)σᴵ)\n",
    "\n",
    "    push!(E, sqrt(1-p)σʸ)\n",
    "    \n",
    "    ρᵍ = Kraus(ρᵍ₀, E); @assert ishermitian(ρᵍ)\n",
    "    ρᵉ = Kraus(ρᵉ₀, E); @assert ishermitian(ρᵉ)\n",
    "    ρˣ = Kraus(ρˣ₀, E); @assert ishermitian(ρˣ)\n",
    "    ρʸ = Kraus(ρʸ₀, E); @assert ishermitian(ρʸ)\n",
    "\n",
    "    χ = choi(ρᵍ, ρᵉ, ρˣ, ρʸ)\n",
    "\n",
    "    Eᵗᵒᵐ = operator_sum(χ)\n",
    "\n",
    "    ρᵍᵗᵒᵐ = Kraus(ρᵍ₀, Eᵗᵒᵐ); #@assert ishermitian(ρᵍᵗᵒᵐ)\n",
    "    ρᵉᵗᵒᵐ = Kraus(ρᵉ₀, Eᵗᵒᵐ); #@assert ishermitian(ρᵉᵗᵒᵐ)\n",
    "    ρˣᵗᵒᵐ = Kraus(ρˣ₀, Eᵗᵒᵐ); #@assert ishermitian(ρˣᵗᵒᵐ)\n",
    "    ρʸᵗᵒᵐ = Kraus(ρʸ₀, Eᵗᵒᵐ); #@assert ishermitian(ρʸᵗᵒᵐ)\n",
    "\n",
    "    fᵍ = fidelity(ρᵍ, ρᵍᵗᵒᵐ)\n",
    "    fᵉ = fidelity(ρᵉ, ρᵉᵗᵒᵐ)\n",
    "    fˣ = fidelity(ρˣ, ρˣᵗᵒᵐ)\n",
    "    fʸ = fidelity(ρʸ, ρʸᵗᵒᵐ)\n",
    "\n",
    "    println(min(fᵍ, fᵉ, fˣ, fʸ))\n",
    "\n",
    "end"
   ]
  },
  {
   "cell_type": "code",
   "execution_count": null,
   "metadata": {},
   "outputs": [],
   "source": []
  }
 ],
 "metadata": {
  "kernelspec": {
   "display_name": "Julia 1.9.2",
   "language": "julia",
   "name": "julia-1.9"
  },
  "language_info": {
   "file_extension": ".jl",
   "mimetype": "application/julia",
   "name": "julia",
   "version": "1.9.2"
  },
  "orig_nbformat": 4
 },
 "nbformat": 4,
 "nbformat_minor": 2
}
