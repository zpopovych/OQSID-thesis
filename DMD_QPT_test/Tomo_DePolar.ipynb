{
 "cells": [
  {
   "cell_type": "code",
   "execution_count": 1,
   "metadata": {},
   "outputs": [],
   "source": [
    "include(\"LiPoSID.jl\")\n",
    "using LinearAlgebra"
   ]
  },
  {
   "cell_type": "markdown",
   "metadata": {},
   "source": [
    "depolarizing chanel\n",
    "\n",
    "$\\sqrt{1-\\frac{3p}{4}}\\begin{bmatrix} \n",
    "1 & 0 \\\\ 0 & 1\n",
    "\\end{bmatrix}, \\quad \\sqrt{\\frac{p}{4}}\\begin{bmatrix}\n",
    "0 & 1 \\\\ 1 & 0 \\end{bmatrix},\n",
    " \\quad \\sqrt{\\frac{p}{4}}\\begin{bmatrix}\n",
    "0 & -i \\\\ i & 0 \\end{bmatrix},\n",
    " \\quad \\sqrt{\\frac{p}{4}}\\begin{bmatrix}\n",
    "1 & 0 \\\\ 0 & -1 \\end{bmatrix}$"
   ]
  },
  {
   "cell_type": "code",
   "execution_count": 2,
   "metadata": {},
   "outputs": [
    {
     "data": {
      "text/plain": [
       "2×2 Matrix{ComplexF64}:\n",
       " 1.0+0.0im  0.0+0.0im\n",
       " 0.0+0.0im  1.0+0.0im"
      ]
     },
     "metadata": {},
     "output_type": "display_data"
    }
   ],
   "source": [
    "σ = [ [0 1; 1 0], [0 -im; im 0], [1 0; 0 -1], [1 0; 0 1] ]\n",
    "σˣ = σ[1]; σʸ = σ[2]; σᶻ = σ[3]; σᴵ = σ[4]; \n",
    "\n",
    "p = 0.123456789\n",
    "E = []\n",
    "push!(E, sqrt(1-3p/4)σᴵ)\n",
    "        \n",
    "push!(E, sqrt(p/4)σˣ)\n",
    "\n",
    "push!(E, sqrt(p/4)σʸ)\n",
    "     \n",
    "push!(E, sqrt(p/4)σᶻ)\n",
    "\n",
    "sum(e'e for e in E)"
   ]
  },
  {
   "cell_type": "code",
   "execution_count": 3,
   "metadata": {},
   "outputs": [
    {
     "data": {
      "text/plain": [
       "2×2 Matrix{ComplexF64}:\n",
       " 0.5+0.0im  0.0-0.5im\n",
       " 0.0+0.5im  0.5+0.0im"
      ]
     },
     "metadata": {},
     "output_type": "display_data"
    }
   ],
   "source": [
    "ρᵍ₀ = [1. 0]' * [1 0]\n",
    "ρᵉ₀ = [0. 1]' * [0 1]\n",
    "ρˣ₀ = [1 1]' * [1 1]/2\n",
    "ρʸ₀ = [1 -im]' * [1 -im]/2"
   ]
  },
  {
   "cell_type": "code",
   "execution_count": 4,
   "metadata": {},
   "outputs": [
    {
     "data": {
      "text/plain": [
       "0.90740740825"
      ]
     },
     "metadata": {},
     "output_type": "display_data"
    }
   ],
   "source": [
    "1 - 3p/4 "
   ]
  },
  {
   "cell_type": "code",
   "execution_count": 5,
   "metadata": {},
   "outputs": [
    {
     "data": {
      "text/plain": [
       "4×4 Matrix{Float64}:\n",
       "  0.876543     1.60037e-16   9.04583e-17   5.19703e-17\n",
       " -2.70481e-16  0.876543      2.16456e-17   6.03413e-17\n",
       "  7.92233e-16  8.61451e-16   0.876543     -5.20845e-16\n",
       "  5.79601e-16  2.22045e-16  -9.41515e-17   1.0"
      ]
     },
     "metadata": {},
     "output_type": "display_data"
    }
   ],
   "source": [
    "t_steps = 2\n",
    "ρᵍ = LiPoSID.timeevolution_kraus(t_steps, ρᵍ₀, E)\n",
    "ρᵉ = LiPoSID.timeevolution_kraus(t_steps, ρᵉ₀, E)\n",
    "ρˣ = LiPoSID.timeevolution_kraus(t_steps, ρˣ₀, E)\n",
    "ρʸ = LiPoSID.timeevolution_kraus(t_steps, ρʸ₀, E)\n",
    "\n",
    "A = LiPoSID.direct_DMD_01XY_b4_A([ρᵉ, ρᵍ, ρˣ, ρʸ])\n",
    "\n",
    "A\n",
    "# A[abs.(A) .< 1e-6] .= 0\n",
    "A"
   ]
  },
  {
   "cell_type": "code",
   "execution_count": 6,
   "metadata": {},
   "outputs": [
    {
     "data": {
      "text/plain": [
       "2×2 Matrix{Float64}:\n",
       " 0.5       0.438272\n",
       " 0.438272  0.5"
      ]
     },
     "metadata": {},
     "output_type": "display_data"
    }
   ],
   "source": [
    "LiPoSID.timeevolution_kraus(2, ρˣ₀, E)[end]"
   ]
  },
  {
   "cell_type": "code",
   "execution_count": 7,
   "metadata": {},
   "outputs": [
    {
     "ename": "UndefVarError",
     "evalue": "UndefVarError: `𝓔` not defined",
     "output_type": "error",
     "traceback": [
      "UndefVarError: `𝓔` not defined\n",
      "\n",
      "Stacktrace:\n",
      " [1] top-level scope\n",
      "   @ ~/github/POP23/Tomo_DePolar.ipynb:1"
     ]
    }
   ],
   "source": [
    "𝓔(ρˣ₀, A)"
   ]
  },
  {
   "cell_type": "markdown",
   "metadata": {},
   "source": [
    "$\\rho_1' = \\mathcal{E}(|0\\rangle \\langle 0 |)$\n",
    "\n",
    "$\\rho_4' = \\mathcal{E}(|1\\rangle \\langle 1 |)$\n",
    "\n",
    "$\\rho_2' = \\mathcal{E}(|+\\rangle \\langle + |) -i  \\mathcal{E}(|-\\rangle \\langle-|) - (1\\textbf{+}i) (\\rho_1' + \\rho_4')/2, \\quad$ - it is $(1\\textbf{-}i)$ in Nielsen&Chuang which is WRONG!\n",
    "\n",
    "$\\rho_3' = \\mathcal{E}(|+\\rangle \\langle + |) +i  \\mathcal{E}(|-\\rangle \\langle-|) - (1+i) (\\rho_1' + \\rho_4')/2$"
   ]
  },
  {
   "cell_type": "code",
   "execution_count": 41,
   "metadata": {},
   "outputs": [
    {
     "data": {
      "text/plain": [
       "true"
      ]
     },
     "metadata": {},
     "output_type": "display_data"
    }
   ],
   "source": [
    "function bloch4(ρ)\n",
    "\n",
    "    b = convert.(Float64, [ ρ[1,2] + ρ[2,1],\n",
    "                           (ρ[1,2] - ρ[2,1])*im,\n",
    "                            ρ[1,1] - ρ[2,2],\n",
    "                            ρ[1,1] + ρ[2,2]       ])\n",
    "\n",
    "end\n",
    "\n",
    "function dm_b4(b) \n",
    "\n",
    "    ρ = [ 1+b[3]         b[2]-im*b[3]\n",
    "          b[2]+im*b[3]   1-b[3]       ]/2\n",
    "\n",
    "end\n",
    "\n",
    "function 𝓔(ρ₀, A)\n",
    "    ρᶠ = dm_b4(A * bloch4(ρ₀))\n",
    "    return ρᶠ\n",
    "end\n",
    "\n",
    "function QPT(A)\n",
    "\n",
    "    ρᵍ₀ = [1. 0]' * [1 0]\n",
    "    ρᵉ₀ = [0. 1]' * [0 1]\n",
    "    ρˣ₀ = [1 1]' * [1 1]/2\n",
    "    ρʸ₀ = [1 -im]' * [1 -im]/2\n",
    "\n",
    "    ρ₁ = 𝓔(ρᵍ₀, A)\n",
    "    ρ₄ = 𝓔(ρᵉ₀, A)\n",
    "    ρ₃= 𝓔(ρˣ₀, A) - im*𝓔(ρʸ₀, A) - (1-im)*(ρ₁+ρ₄)/2 # with \"-\" sign χ can be diagonalized ???\n",
    "    ρ₂= 𝓔(ρˣ₀, A) + im*𝓔(ρʸ₀, A) - (1+im)*(ρ₁+ρ₄)/2 \n",
    "\n",
    "    #ρ₂ = 𝓔(ρˣ₀, Ac) - im*𝓔(ρʸ₀, Ac) - (1-im)*(ρ₁+ρ₄)/2 # with \"-\" sign χ can be diagonalized ???\n",
    "    #ρ₃ = 𝓔(ρˣ₀, Ac) + im*𝓔(ρʸ₀, Ac) - (1+im)*(ρ₁+ρ₄)/2 \n",
    "\n",
    "    σₓ = [ 0  1\n",
    "           1  0 ]  # X gate\n",
    "\n",
    "    Λ = [ I  σₓ\n",
    "          σₓ  -I ] / 2\n",
    "\n",
    "    #Ρ = [ρ₁ ρ₃ \n",
    "    #     ρ₂ ρ₄] \n",
    "\n",
    "    Ρ = [ρ₁ ρ₂\n",
    "         ρ₃ ρ₄] \n",
    "     \n",
    "    χ = Λ*Ρ*Λ\n",
    "\n",
    "    return χ \n",
    "end\n",
    "\n",
    "χ = QPT(A)\n",
    "d, U = eigen(χ)\n",
    "\n",
    "U * diagm(d) * U' ≈ χ"
   ]
  },
  {
   "cell_type": "code",
   "execution_count": 8,
   "metadata": {},
   "outputs": [
    {
     "ename": "UndefVarError",
     "evalue": "UndefVarError: `χ` not defined",
     "output_type": "error",
     "traceback": [
      "UndefVarError: `χ` not defined\n",
      "\n",
      "Stacktrace:\n",
      " [1] top-level scope\n",
      "   @ ~/github/POP23/Tomo_DePolar.ipynb:1"
     ]
    }
   ],
   "source": [
    "ishermitian(χ)"
   ]
  },
  {
   "cell_type": "code",
   "execution_count": 9,
   "metadata": {},
   "outputs": [
    {
     "ename": "UndefVarError",
     "evalue": "UndefVarError: `d` not defined",
     "output_type": "error",
     "traceback": [
      "UndefVarError: `d` not defined\n"
     ]
    }
   ],
   "source": [
    "d"
   ]
  },
  {
   "cell_type": "code",
   "execution_count": 30,
   "metadata": {},
   "outputs": [
    {
     "data": {
      "text/plain": [
       "4-element Vector{Float64}:\n",
       " 0.0\n",
       " 0.0\n",
       " 0.5599048242505645\n",
       " 0.5599048242505651"
      ]
     },
     "metadata": {},
     "output_type": "display_data"
    }
   ],
   "source": [
    "d[d .< 0] .= 0\n",
    "d"
   ]
  },
  {
   "cell_type": "code",
   "execution_count": 10,
   "metadata": {},
   "outputs": [
    {
     "data": {
      "text/plain": [
       "true"
      ]
     },
     "metadata": {},
     "output_type": "display_data"
    }
   ],
   "source": [
    "ishermitian(χ)"
   ]
  },
  {
   "cell_type": "code",
   "execution_count": 11,
   "metadata": {},
   "outputs": [
    {
     "data": {
      "text/plain": [
       "2×2 Matrix{ComplexF64}:\n",
       "     1.23962+0.0im  3.23191e-17+0.0im\n",
       " 3.23191e-17+0.0im      1.23962+0.0im"
      ]
     },
     "metadata": {},
     "output_type": "display_data"
    }
   ],
   "source": [
    "function operator_sum(χ)\n",
    "\n",
    "    @assert ishermitian(χ)\n",
    "\n",
    "    E₀ = [1.  0\n",
    "          0   1 ]\n",
    "    E₁ = [ 0.  1\n",
    "           1   0 ]  #  σₓ  or X gate\n",
    "    E₂ = -im * [ 0  -im\n",
    "                im   0  ]\n",
    "    E₃ = [ 1  0\n",
    "           0 -1 ]\n",
    "    Ẽ = [E₀, E₁, E₂, E₃] \n",
    "\n",
    "    d, U = eigen(χ)\n",
    "    #@assert U * diagm(d) * U' ≈ χ\n",
    "    E = []\n",
    "    for i in 1:size(U)[1]\n",
    "        Eᵢ = sqrt(Complex(d[i])) * sum(U[j,i] * Ẽ[j] for j in 1:size(U)[2])\n",
    "        Eᵢ[abs.(Eᵢ) .< 1e-5] .= 0\n",
    "        push!(E, Eᵢ)\n",
    "    end\n",
    "    return E\n",
    "end\n",
    "\n",
    "Eᵗᵒᵐ = operator_sum(χ)\n",
    "\n",
    "sum(e'e for e in Eᵗᵒᵐ)"
   ]
  },
  {
   "cell_type": "code",
   "execution_count": 12,
   "metadata": {},
   "outputs": [
    {
     "data": {
      "text/plain": [
       "2×2 Matrix{ComplexF64}:\n",
       "   -0.0936635-7.87498e-17im  2.1104e-16+0.226124im\n",
       " -5.56053e-16+0.226124im     -0.0936635-7.87498e-17im"
      ]
     },
     "metadata": {},
     "output_type": "display_data"
    }
   ],
   "source": [
    "Eᵗᵒᵐ[1]"
   ]
  },
  {
   "cell_type": "code",
   "execution_count": 13,
   "metadata": {},
   "outputs": [
    {
     "data": {
      "text/plain": [
       "2×2 Matrix{ComplexF64}:\n",
       " 0.952579+0.0im       0.0+0.0im\n",
       "      0.0+0.0im  0.952579+0.0im"
      ]
     },
     "metadata": {},
     "output_type": "display_data"
    }
   ],
   "source": [
    "E[1]"
   ]
  },
  {
   "cell_type": "code",
   "execution_count": 14,
   "metadata": {},
   "outputs": [
    {
     "data": {
      "text/plain": [
       "2×2 Matrix{ComplexF64}:\n",
       " 2.69088e-16-0.0936635im       0.226124-2.72086e-16im\n",
       "   -0.226124-2.72086e-16im  2.69088e-16+0.0936635im"
      ]
     },
     "metadata": {},
     "output_type": "display_data"
    }
   ],
   "source": [
    "Eᵗᵒᵐ[2]"
   ]
  },
  {
   "cell_type": "code",
   "execution_count": 15,
   "metadata": {},
   "outputs": [
    {
     "data": {
      "text/plain": [
       "2×2 Matrix{ComplexF64}:\n",
       "      0.0+0.0im  0.175682+0.0im\n",
       " 0.175682+0.0im       0.0+0.0im"
      ]
     },
     "metadata": {},
     "output_type": "display_data"
    }
   ],
   "source": [
    "E[2]"
   ]
  },
  {
   "cell_type": "code",
   "execution_count": 16,
   "metadata": {},
   "outputs": [
    {
     "data": {
      "text/plain": [
       "2×2 Matrix{ComplexF64}:\n",
       " -1.61793e-15+0.691309im         -0.28635-1.12251e-15im\n",
       "     -0.28635-1.66302e-16im  -1.61793e-15+0.691309im"
      ]
     },
     "metadata": {},
     "output_type": "display_data"
    }
   ],
   "source": [
    "Eᵗᵒᵐ[3]"
   ]
  },
  {
   "cell_type": "code",
   "execution_count": 17,
   "metadata": {},
   "outputs": [
    {
     "data": {
      "text/plain": [
       "2×2 Matrix{ComplexF64}:\n",
       " 0.0+0.0im       0.0-0.175682im\n",
       " 0.0+0.175682im  0.0+0.0im"
      ]
     },
     "metadata": {},
     "output_type": "display_data"
    }
   ],
   "source": [
    "E[3]"
   ]
  },
  {
   "cell_type": "code",
   "execution_count": 18,
   "metadata": {},
   "outputs": [
    {
     "data": {
      "text/plain": [
       "2×2 Matrix{ComplexF64}:\n",
       "     0.691309-3.40757e-16im  -3.44554e-16-0.28635im\n",
       " -3.44554e-16+0.28635im         -0.691309-3.40757e-16im"
      ]
     },
     "metadata": {},
     "output_type": "display_data"
    }
   ],
   "source": [
    "Eᵗᵒᵐ[4]"
   ]
  },
  {
   "cell_type": "code",
   "execution_count": 19,
   "metadata": {},
   "outputs": [
    {
     "data": {
      "text/plain": [
       "2×2 Matrix{ComplexF64}:\n",
       " 0.175682+0.0im        0.0+0.0im\n",
       "      0.0+0.0im  -0.175682+0.0im"
      ]
     },
     "metadata": {},
     "output_type": "display_data"
    }
   ],
   "source": [
    "E[4]"
   ]
  },
  {
   "cell_type": "code",
   "execution_count": 20,
   "metadata": {},
   "outputs": [],
   "source": []
  }
 ],
 "metadata": {
  "kernelspec": {
   "display_name": "Julia 1.9.2",
   "language": "julia",
   "name": "julia-1.9"
  },
  "language_info": {
   "file_extension": ".jl",
   "mimetype": "application/julia",
   "name": "julia",
   "version": "1.9.2"
  },
  "orig_nbformat": 4
 },
 "nbformat": 4,
 "nbformat_minor": 2
}
