{
 "cells": [
  {
   "cell_type": "code",
   "execution_count": 1,
   "metadata": {},
   "outputs": [
    {
     "name": "stderr",
     "output_type": "stream",
     "text": [
      "\u001b[33m\u001b[1m┌ \u001b[22m\u001b[39m\u001b[33m\u001b[1mWarning: \u001b[22m\u001b[39mPackage LinearSolve does not have KrylovKit in its dependencies:\n",
      "\u001b[33m\u001b[1m│ \u001b[22m\u001b[39m- If you have LinearSolve checked out for development and have\n",
      "\u001b[33m\u001b[1m│ \u001b[22m\u001b[39m  added KrylovKit as a dependency but haven't updated your primary\n",
      "\u001b[33m\u001b[1m│ \u001b[22m\u001b[39m  environment's manifest file, try `Pkg.resolve()`.\n",
      "\u001b[33m\u001b[1m│ \u001b[22m\u001b[39m- Otherwise you may need to report an issue with LinearSolve\n",
      "\u001b[33m\u001b[1m└ \u001b[22m\u001b[39mLoading KrylovKit into LinearSolve from project dependency, future warnings for LinearSolve are suppressed.\n"
     ]
    }
   ],
   "source": [
    "include(\"../LiPoSID.jl\")\n",
    "\n",
    "include(\"CtrlSID.jl\")\n",
    "\n",
    "\n",
    "using QuantumOptics\n",
    "basis = NLevelBasis(2)\n",
    "using LinearAlgebra\n",
    "\n",
    "using HDF5\n",
    "using DynamicPolynomials\n",
    "\n",
    "using Dates\n",
    "\n",
    "using Statistics"
   ]
  },
  {
   "cell_type": "code",
   "execution_count": null,
   "metadata": {},
   "outputs": [],
   "source": [
    "#using Plots\n",
    "#using Optim\n",
    "#using Random"
   ]
  },
  {
   "cell_type": "code",
   "execution_count": 2,
   "metadata": {},
   "outputs": [
    {
     "data": {
      "text/plain": [
       "kossak_obj (generic function with 1 method)"
      ]
     },
     "execution_count": 2,
     "metadata": {},
     "output_type": "execute_result"
    }
   ],
   "source": [
    "using DifferentialEquations\n",
    "\n",
    "function kossak_obj(ρ, t, H0ˢʸᵐᵇ, Cˢʸᵐᵇ, Fᴼᴺᴮ)\n",
    "\n",
    "    function Dc(ρ, t)\n",
    "        U = (H0ˢʸᵐᵇ*ρ - ρ*H0ˢʸᵐᵇ)/im \n",
    "        D = sum(Cˢʸᵐᵇ .* [2*fᵢ*ρ*fⱼ' - ρ*fⱼ'*fᵢ - fⱼ'*fᵢ*ρ  for fᵢ in Fᴼᴺᴮ, fⱼ in Fᴼᴺᴮ])/2\n",
    "        return U + D\n",
    "    end \n",
    "\n",
    "    obj = 0\n",
    "    for i in 3:length(ρ)\n",
    "        obj += LiPoSID.frobenius_norm2(\n",
    "            ρ[i] - ρ[i-2] - (t[i]-t[i-1])*(Dc(ρ[i], t[i])+\n",
    "            4*Dc(ρ[i-1], t[i-1])+Dc(ρ[i-2], t[i-2]))/3\n",
    "        )\n",
    "    end\n",
    "\n",
    "    if isempty(monomials(obj))\n",
    "        obj = 0. \n",
    "    else\n",
    "        obj = sum(real(coef) * mon for (coef, mon) in zip(coefficients(obj), monomials(obj)))\n",
    "    end\n",
    "\n",
    "    return obj\n",
    "\n",
    "end"
   ]
  },
  {
   "cell_type": "code",
   "execution_count": 17,
   "metadata": {},
   "outputs": [
    {
     "data": {
      "text/plain": [
       "kossak_time_evolution (generic function with 1 method)"
      ]
     },
     "execution_count": 17,
     "metadata": {},
     "output_type": "execute_result"
    }
   ],
   "source": [
    "function kossak_GEXY_obj(ρᵍᵉˣʸ, tᵍᵉˣʸ, H0ˢʸᵐᵇ, Cˢʸᵐᵇ, fᴼᴺᴮ)\n",
    "\n",
    "    ρᵍ, ρᵉ, ρˣ, ρʸ = ρᵍᵉˣʸ\n",
    "    tᵍ, tᵉ, tˣ, tʸ = tᵍᵉˣʸ\n",
    "\n",
    "    polyG = kossak_obj(ρᵍ, tᵍ, H0ˢʸᵐᵇ, Cˢʸᵐᵇ, fᴼᴺᴮ)\n",
    "    polyE = kossak_obj(ρᵉ, tᵉ, H0ˢʸᵐᵇ, Cˢʸᵐᵇ, fᴼᴺᴮ)\n",
    "    polyX = kossak_obj(ρˣ, tˣ, H0ˢʸᵐᵇ, Cˢʸᵐᵇ, fᴼᴺᴮ)\n",
    "    polyY = kossak_obj(ρʸ, tʸ, H0ˢʸᵐᵇ, Cˢʸᵐᵇ, fᴼᴺᴮ)\n",
    "\n",
    "    polyGEXY = polyG + polyE + polyX + polyY\n",
    "\n",
    "    return polyGEXY\n",
    "end\n",
    "\n",
    "\n",
    "function kossak_time_evolution(ρₒ, tₘₐₓ, dt, H0, C, Fᴼᴺᴮ)\n",
    "\n",
    "    D(ρ) = sum(C .* [2*fᵢ*ρ*fⱼ' - ρ*fⱼ'*fᵢ - fⱼ'*fᵢ*ρ  for fᵢ in Fᴼᴺᴮ, fⱼ in Fᴼᴺᴮ])/2\n",
    "    \n",
    "    # Define the differential equation\n",
    "    function matrix_ode!(dρ, ρ, p, t)\n",
    "        dρ .= -im * (H0 * ρ - ρ * H0) + D(ρ)\n",
    "    end\n",
    "\n",
    "    # Time span\n",
    "    tspan = (0.0, tₘₐₓ)\n",
    "\n",
    "    # Create an ODE problem\n",
    "    prob = ODEProblem(matrix_ode!, ρₒ, tspan)\n",
    "\n",
    "    # Solve the ODE using a suitable solver, e.g., Tsit5 for non-stiff problems\n",
    "    sol = solve(prob, dt=dt, adaptive = false)\n",
    "\n",
    "    # Access solution\n",
    "    ρ_solution = sol.u\n",
    "    t_solution = sol.t;\n",
    "    \n",
    "    return(t_solution, ρ_solution)\n",
    "\n",
    "end \n"
   ]
  },
  {
   "cell_type": "markdown",
   "metadata": {},
   "source": [
    "### Kossakowski objective for two-level system\n",
    "\n",
    "\n",
    "For the two level system we can use theorem originally proved by Kossakowski:\n",
    "\n",
    "Kossakowski, Bull. Acad. Pol. Sci. Ser. Math. Astr. Phys. 21, 649 (1973).\n",
    "\n",
    "and available also in classic GKS paper:\n",
    "\n",
    "Completely positive dynamical semigroups of Nlevel systems\n",
    "Vittorio Gorini, Andrzej Kossakowski, and E. C. G. Sudarshan\n",
    "Citation: J. Math. Phys. 17, 821 (1976); doi: 10.1063/1.522979\n",
    "\n",
    "Theorem 3.1. (two-level system)\n",
    "\n",
    "A linear operator $L: M(2) \\rightarrow M(2)$ is the generator of a dynamical semigroup $t \\rightarrow \\Lambda_t$ of $M(2)$ iff it can be written in the form:\n",
    "\n",
    "$L = -i[H,\\rho] + \\frac{1}{2} \\sum_{i,j}^3 C_{ij} \\{[f_i, \\rho f_j] + [f_i\\rho, f_j]\\}, \\quad \\rho \\in M(2)$\n",
    "\n",
    "where\n",
    "\n",
    "(i) $H = \\sum_1^3 h_i f_i, \\quad h_i \\in \\R$\n",
    "\n",
    "(ii) $f_i f_j = \\frac{1}{4}\\delta_{ij}I  +\\frac{i}{2} \\sum_{k=1}^3 \\epsilon_{ijk} f_k$ which means:\n",
    "\n",
    "$ \\operatorname{tr}(f_i f_j)=\\frac{1}{2}\\delta_{ij}, \\quad \\operatorname{tr}(f_i) = 0$\n",
    "\n",
    "\n",
    "(iii) $\\{C_{ij}\\}= \\begin{pmatrix} \n",
    "\\gamma - 2\\gamma_1    & - i a_3            &  i a_2 \\\\\n",
    "i a_3                 & \\gamma - 2\\gamma_2 & -i a_1 \\\\\n",
    "-i a_2                & i a_1              & \\gamma - 2\\gamma_3 \n",
    "\\end{pmatrix} =$\n",
    "\n",
    "$=\\begin{pmatrix} \n",
    "-\\gamma_1 + \\gamma_2 + \\gamma_3   & - i a_3   &  i a_2 \\\\\n",
    "i a_3                 & \\gamma_1 - \\gamma_2 + \\gamma_3 & -i a_1 \\\\\n",
    "-i a_2                & i a_1      & \\gamma_1 + \\gamma_2 - \\gamma_3 \n",
    "\\end{pmatrix}$"
   ]
  },
  {
   "cell_type": "markdown",
   "metadata": {},
   "source": [
    "To write a Hamiltonian $H$ and than objective function we can use the set of orthonormal operators $f_j$\n",
    "\n",
    "We use Pauli matrices $\\sigma_x, \\sigma_y, \\sigma_z$ to choose 3 orthonormal $f_i$ for the two-level system to fulfill:\n",
    "\n",
    "$f_i f_j = \\frac{1}{4}\\delta_{ij}I  +\\frac{i}{2} \\sum_{k=1}^3 \\epsilon_{ijk} f_k$ which means:\n",
    "\n",
    "$ \\operatorname{tr}(f_i f_j)=\\frac{1}{2}\\delta_{ij}, \\quad \\operatorname{tr}(f_i) = 0$"
   ]
  },
  {
   "cell_type": "code",
   "execution_count": 4,
   "metadata": {},
   "outputs": [
    {
     "data": {
      "text/plain": [
       "3-element Vector{Matrix{ComplexF64}}:\n",
       " [0.0 + 0.0im 0.5 + 0.0im; 0.5 + 0.0im 0.0 + 0.0im]\n",
       " [0.0 + 0.0im 0.0 + 0.5im; 0.0 - 0.5im 0.0 + 0.0im]\n",
       " [0.5 + 0.0im 0.0 + 0.0im; 0.0 + 0.0im -0.5 + 0.0im]"
      ]
     },
     "execution_count": 4,
     "metadata": {},
     "output_type": "execute_result"
    }
   ],
   "source": [
    "σˣ = [ 0 1 \n",
    "       1 0 ]\n",
    "\n",
    "σʸ = [ 0.   im*1\n",
    "      -im*1 0    ]\n",
    "\n",
    "σᶻ = [ 1.  0\n",
    "       0  -1 ] \n",
    "\n",
    "fᴷ₁ = σˣ/2\n",
    "fᴷ₂ = σʸ/2\n",
    "fᴷ₃ = σᶻ/2\n",
    "\n",
    "@assert tr(σˣ/2*σʸ/2) == tr(σˣ/2*σᶻ/2) ==  tr(σʸ/2*σᶻ/2) ≈ 0\n",
    "@assert tr(σˣ/2*σˣ/2) == tr(σʸ/2*σʸ/2) == tr(σᶻ/2*σᶻ/2) ≈ 1/2\n",
    "\n",
    "fᴷᴼᴺᴮ = [fᴷ₁, fᴷ₂, fᴷ₃]"
   ]
  },
  {
   "cell_type": "code",
   "execution_count": 5,
   "metadata": {},
   "outputs": [
    {
     "data": {
      "text/plain": [
       "3×3 Matrix{Polynomial{true, Complex{Int64}}}:\n",
       " m_Re₁₋₁ + (0+1im)m_Im₁₋₁  m_Re₁₋₂ + (0+1im)m_Im₁₋₂  m_Re₁₋₃ + (0+1im)m_Im₁₋₃\n",
       " m_Re₂₋₁ + (0+1im)m_Im₂₋₁  m_Re₂₋₂ + (0+1im)m_Im₂₋₂  m_Re₂₋₃ + (0+1im)m_Im₂₋₃\n",
       " m_Re₃₋₁ + (0+1im)m_Im₃₋₁  m_Re₃₋₂ + (0+1im)m_Im₃₋₂  m_Re₃₋₃ + (0+1im)m_Im₃₋₃"
      ]
     },
     "execution_count": 5,
     "metadata": {},
     "output_type": "execute_result"
    }
   ],
   "source": [
    "@polyvar m_Re[1:3, 1:3] m_Im[1:3, 1:3]\n",
    "\n",
    "M = m_Re + im * m_Im"
   ]
  },
  {
   "cell_type": "code",
   "execution_count": 6,
   "metadata": {},
   "outputs": [
    {
     "data": {
      "text/plain": [
       "true"
      ]
     },
     "execution_count": 6,
     "metadata": {},
     "output_type": "execute_result"
    }
   ],
   "source": [
    "M * (M') == M * M'"
   ]
  },
  {
   "cell_type": "code",
   "execution_count": 7,
   "metadata": {},
   "outputs": [
    {
     "data": {
      "text/plain": [
       "3×3 Matrix{Polynomial{true, Complex{Int64}}}:\n",
       " m_Re₁₋₁² + m_Re₁₋₂² + m_Re₁₋₃² + m_Im₁₋₁² + m_Im₁₋₂² + m_Im₁₋₃²                                                                                                                                                                                      …  m_Re₁₋₁m_Re₃₋₁ + (0-1im)m_Re₁₋₁m_Im₃₋₁ + (0+1im)m_Re₃₋₁m_Im₁₋₁ + m_Re₁₋₂m_Re₃₋₂ + (0-1im)m_Re₁₋₂m_Im₃₋₂ + (0+1im)m_Re₃₋₂m_Im₁₋₂ + m_Re₁₋₃m_Re₃₋₃ + (0-1im)m_Re₁₋₃m_Im₃₋₃ + (0+1im)m_Re₃₋₃m_Im₁₋₃ + m_Im₁₋₁m_Im₃₋₁ + m_Im₁₋₂m_Im₃₋₂ + m_Im₁₋₃m_Im₃₋₃\n",
       " m_Re₁₋₁m_Re₂₋₁ + (0+1im)m_Re₁₋₁m_Im₂₋₁ + (0-1im)m_Re₂₋₁m_Im₁₋₁ + m_Re₁₋₂m_Re₂₋₂ + (0+1im)m_Re₁₋₂m_Im₂₋₂ + (0-1im)m_Re₂₋₂m_Im₁₋₂ + m_Re₁₋₃m_Re₂₋₃ + (0+1im)m_Re₁₋₃m_Im₂₋₃ + (0-1im)m_Re₂₋₃m_Im₁₋₃ + m_Im₁₋₁m_Im₂₋₁ + m_Im₁₋₂m_Im₂₋₂ + m_Im₁₋₃m_Im₂₋₃     m_Re₂₋₁m_Re₃₋₁ + (0-1im)m_Re₂₋₁m_Im₃₋₁ + (0+1im)m_Re₃₋₁m_Im₂₋₁ + m_Re₂₋₂m_Re₃₋₂ + (0-1im)m_Re₂₋₂m_Im₃₋₂ + (0+1im)m_Re₃₋₂m_Im₂₋₂ + m_Re₂₋₃m_Re₃₋₃ + (0-1im)m_Re₂₋₃m_Im₃₋₃ + (0+1im)m_Re₃₋₃m_Im₂₋₃ + m_Im₂₋₁m_Im₃₋₁ + m_Im₂₋₂m_Im₃₋₂ + m_Im₂₋₃m_Im₃₋₃\n",
       " m_Re₁₋₁m_Re₃₋₁ + (0+1im)m_Re₁₋₁m_Im₃₋₁ + (0-1im)m_Re₃₋₁m_Im₁₋₁ + m_Re₁₋₂m_Re₃₋₂ + (0+1im)m_Re₁₋₂m_Im₃₋₂ + (0-1im)m_Re₃₋₂m_Im₁₋₂ + m_Re₁₋₃m_Re₃₋₃ + (0+1im)m_Re₁₋₃m_Im₃₋₃ + (0-1im)m_Re₃₋₃m_Im₁₋₃ + m_Im₁₋₁m_Im₃₋₁ + m_Im₁₋₂m_Im₃₋₂ + m_Im₁₋₃m_Im₃₋₃     m_Re₃₋₁² + m_Re₃₋₂² + m_Re₃₋₃² + m_Im₃₋₁² + m_Im₃₋₂² + m_Im₃₋₃²"
      ]
     },
     "execution_count": 7,
     "metadata": {},
     "output_type": "execute_result"
    }
   ],
   "source": [
    "Cˢʸᵐᵇ = M * (M')"
   ]
  },
  {
   "cell_type": "code",
   "execution_count": 8,
   "metadata": {},
   "outputs": [
    {
     "data": {
      "text/plain": [
       "2×2 Matrix{Polynomial{true, ComplexF64}}:\n",
       " (0.5+0.0im)ϵ                       (0.5+0.0im)h_Re + (0.0+0.5im)h_Im\n",
       " (0.5+0.0im)h_Re + (0.0-0.5im)h_Im  (-0.5+0.0im)ϵ"
      ]
     },
     "execution_count": 8,
     "metadata": {},
     "output_type": "execute_result"
    }
   ],
   "source": [
    "@polyvar ϵ h_Re h_Im # h₁ h₂ h₃\n",
    "\n",
    "H0ˢʸᵐᵇ = [ ϵ               h_Re+im*h_Im\n",
    "           h_Re-im*h_Im   -ϵ            ] / 2\n",
    "\n",
    "H0ᴷˢʸᵐᵇ = h_Re * fᴷ₁ + h_Im * fᴷ₂  + ϵ * fᴷ₃ \n",
    "\n",
    "@assert tr(H0ᴷˢʸᵐᵇ) == 0\n",
    "@assert H0ᴷˢʸᵐᵇ == H0ˢʸᵐᵇ\n",
    "\n",
    "Hˢʸᵐᵇ = H0ˢʸᵐᵇ \n",
    "\n",
    "#@polyvar d_Re d_Im\n",
    "\n",
    "#Vˢʸᵐᵇ =  [ 0             d_Re+im*d_Im\n",
    "#           d_Re-im*d_Im  0.           ]    \n",
    "\n",
    "#@polyvar γ[1:3]\n",
    "#@polyvar a[1:3]\n",
    "\n",
    "\n",
    "\n",
    "#Cˢʸᵐᵇ = [ -γ[1]+γ[2]+γ[3]   -im*a[3]          im*a[2]\n",
    "#          im*a[3]           γ[1]-γ[2]+γ[3]  -im*a[1] \n",
    "#          -im*a[2]           im*a[1]          γ[1]+γ[2]-γ[3]] \n",
    "\n",
    "#κ₁ = -γ[1]+γ[2]+γ[3]\n",
    "#κ₂ =  γ[1]-γ[2]+γ[3]\n",
    "#κ₃ =  γ[1]+γ[2]-γ[3]\n",
    "\n",
    "#constr1 = κ₁ + κ₂ + κ₃  \n",
    "#constr2 = κ₁*κ₂ + κ₃*κ₁ + κ₂*κ₃ - - a[1]^2 - a[2]^2 - a[3]^2\n",
    "#constr3 = κ₁*κ₂*κ₃ - κ₁*a[1]^2 - κ₂*a[2]^2 - κ₃*a[3]^2 \n",
    "\n",
    "\n",
    "#constraints = [γ[1], γ[2], γ[3], constr1, constr2, constr3]"
   ]
  },
  {
   "cell_type": "code",
   "execution_count": 9,
   "metadata": {},
   "outputs": [
    {
     "data": {
      "text/plain": [
       "Any[]"
      ]
     },
     "execution_count": 9,
     "metadata": {},
     "output_type": "execute_result"
    }
   ],
   "source": [
    "constraints = []"
   ]
  },
  {
   "cell_type": "code",
   "execution_count": 10,
   "metadata": {},
   "outputs": [
    {
     "data": {
      "text/plain": [
       "read_GEXY_timeevolution (generic function with 1 method)"
      ]
     },
     "execution_count": 10,
     "metadata": {},
     "output_type": "execute_result"
    }
   ],
   "source": [
    "\n",
    "function read_timeevolution(file_name, state, γ)\n",
    "    h5open(file_name, \"r\") do file\n",
    "        ρᵧ = read(file[state][string(γ)])\n",
    "        t = ρᵧ[\"t\"]\n",
    "        ρ₀₀ = ρᵧ[\"p0\"]; Re_ρ₀₁ = ρᵧ[\"s_re\"];  Im_ρ₀₁ = ρᵧ[\"s_im\"]\n",
    "        ρ_series = []\n",
    "        t_series = []\n",
    "\n",
    "        for i in 1:length(t)\n",
    "            ρᵢ= [ ρ₀₀[i]                      Re_ρ₀₁[i] + im * Im_ρ₀₁[i]\n",
    "                  Re_ρ₀₁[i] - im * Im_ρ₀₁[i]  1 - ρ₀₀[i]                 ]\n",
    "            push!(ρ_series, convert(Matrix{ComplexF64}, ρᵢ))\n",
    "            push!(t_series, convert(Float64, t[i]))\n",
    "        end\n",
    "        return(t_series, ρ_series)\n",
    "    end\n",
    "end\n",
    "\n",
    "\n",
    "function read_GEXY_timeevolution(file_name, γ)\n",
    "\n",
    "    tᵍ, ρᵍ = read_timeevolution(file_name, \"B1\", γ)\n",
    "    tᵉ, ρᵉ = read_timeevolution(file_name, \"B2\", γ)\n",
    "    tˣ, ρˣ = read_timeevolution(file_name, \"B3\", γ)\n",
    "    tʸ, ρʸ = read_timeevolution(file_name, \"B4\", γ)\n",
    "\n",
    "    ρᵍᵉˣʸ = ρᵍ, ρᵉ, ρˣ, ρʸ \n",
    "    tᵍᵉˣʸ = tᵍ, tᵉ, tˣ, tʸ\n",
    "\n",
    "    return tᵍᵉˣʸ , ρᵍᵉˣʸ \n",
    "\n",
    "end"
   ]
  },
  {
   "cell_type": "code",
   "execution_count": 11,
   "metadata": {},
   "outputs": [
    {
     "name": "stdout",
     "output_type": "stream",
     "text": [
      "[1.0, 1.25, 1.5, 1.75, 2.0, 2.25, 2.5, 2.75, 3.0, 3.25, 3.5, 3.75, 4.0]\n"
     ]
    }
   ],
   "source": [
    "function quadruple_time_points(time_points::Vector{Float64})::Vector{Float64}\n",
    "    # Check if there are at least two points to interpolate between\n",
    "    if length(time_points) < 2\n",
    "        return time_points\n",
    "    end\n",
    "\n",
    "    new_time_points = Float64[]\n",
    "    \n",
    "    for i in 1:(length(time_points) - 1)\n",
    "        # Current point\n",
    "        t1 = time_points[i]\n",
    "        # Next point\n",
    "        t2 = time_points[i + 1]\n",
    "        \n",
    "        # Calculate the intermediate points\n",
    "        delta = (t2 - t1) / 4\n",
    "        t1_1 = t1 + delta\n",
    "        t1_2 = t1 + 2 * delta\n",
    "        t1_3 = t1 + 3 * delta\n",
    "        \n",
    "        # Add the points to the new list\n",
    "        push!(new_time_points, t1)\n",
    "        push!(new_time_points, t1_1)\n",
    "        push!(new_time_points, t1_2)\n",
    "        push!(new_time_points, t1_3)\n",
    "    end\n",
    "    \n",
    "    # Add the last original point\n",
    "    push!(new_time_points, time_points[end])\n",
    "    \n",
    "    return new_time_points\n",
    "end\n",
    "\n",
    "# Example usage\n",
    "original_points = [1.0, 2.0, 3.0, 4.0]\n",
    "new_points = quadruple_time_points(original_points)\n",
    "println(new_points)"
   ]
  },
  {
   "cell_type": "code",
   "execution_count": 12,
   "metadata": {},
   "outputs": [
    {
     "data": {
      "text/plain": [
       "LME_GEXY_timeevolution (generic function with 1 method)"
      ]
     },
     "execution_count": 12,
     "metadata": {},
     "output_type": "execute_result"
    }
   ],
   "source": [
    "function LME_GEXY_timeevolution(evol_data_file_name, basis, Hˢⁱᵐ, γ)\n",
    "\n",
    "    data(ρ) = [ρᵢ.data for ρᵢ in ρ]\n",
    "\n",
    "    tᵍᵉˣʸ , ρᵍᵉˣʸ  = read_GEXY_timeevolution(evol_data_file_name, γ)\n",
    "\n",
    "    ρᵍ, ρᵉ, ρˣ, ρʸ = convert.(Vector{Matrix{ComplexF64}}, ρᵍᵉˣʸ)\n",
    "    tᵍ, tᵉ, tˣ, tʸ = quadruple_time_points.(convert.(Vector{Float64},tᵍᵉˣʸ)) #quadruple_time_points\n",
    "\n",
    "    Jˢⁱᵐ = DenseOperator( basis, [0  sqrt(parse(Float64, γ))\n",
    "                                  0  0. + 0im                  ] )\n",
    "\n",
    "    Hˢⁱᵐ = DenseOperator(basis, Hermitian(Hˢⁱᵐ))\n",
    "        \n",
    "    tˢⁱᵐᵍ, ρˢⁱᵐᵍ  = timeevolution.master(tᵍ, DenseOperator(basis,Hermitian(ρᵍ[1])), Hˢⁱᵐ, [Jˢⁱᵐ])\n",
    "    tˢⁱᵐᵉ, ρˢⁱᵐᵉ  = timeevolution.master(tᵉ, DenseOperator(basis,Hermitian(ρᵉ[1])), Hˢⁱᵐ, [Jˢⁱᵐ])\n",
    "    tˢⁱᵐˣ, ρˢⁱᵐˣ  = timeevolution.master(tˣ, DenseOperator(basis,Hermitian(ρˣ[1])), Hˢⁱᵐ, [Jˢⁱᵐ])\n",
    "    tˢⁱᵐʸ, ρˢⁱᵐʸ  = timeevolution.master(tʸ, DenseOperator(basis,Hermitian(ρʸ[1])), Hˢⁱᵐ, [Jˢⁱᵐ])\n",
    "\n",
    "    ρˢⁱᵐᵍᵉˣʸ = ρˢⁱᵐᵍ, ρˢⁱᵐᵉ, ρˢⁱᵐˣ, ρˢⁱᵐʸ \n",
    "    tˢⁱᵐᵍᵉˣʸ = tˢⁱᵐᵍ, tˢⁱᵐᵉ, tˢⁱᵐˣ, tˢⁱᵐʸ\n",
    "\n",
    "    return tˢⁱᵐᵍᵉˣʸ , data.(ρˢⁱᵐᵍᵉˣʸ)\n",
    "\n",
    "end"
   ]
  },
  {
   "cell_type": "code",
   "execution_count": 13,
   "metadata": {},
   "outputs": [],
   "source": [
    "evol_data_file_name = \"../DATA/ALL_GAMMAS_B4_D10.h5\"\n",
    "basis =  NLevelBasis(2)\n",
    "\n",
    "Hˢⁱᵐ =  [ 25.133    0. + 0im\n",
    "          0        -25.133   ] / 2\n",
    "\n",
    "γ = \"25.133\"\n",
    "\n",
    "LME_GEXY_timeevolution(evol_data_file_name, basis, Hˢⁱᵐ, γ);"
   ]
  },
  {
   "cell_type": "code",
   "execution_count": 14,
   "metadata": {},
   "outputs": [
    {
     "data": {
      "text/plain": [
       "TrDist (generic function with 1 method)"
      ]
     },
     "execution_count": 14,
     "metadata": {},
     "output_type": "execute_result"
    }
   ],
   "source": [
    "function TrDist(ρ₁, ρ₂)\n",
    "    A = ρ₁-ρ₂\n",
    "    D = tr(sqrt(A'*A))/2\n",
    "    if abs(imag(D))>1e-6\n",
    "        throw(DomainError(D, \"Trace distance is complex number\"))\n",
    "    else\n",
    "        return(real(D))\n",
    "    end\n",
    "end "
   ]
  },
  {
   "cell_type": "code",
   "execution_count": 15,
   "metadata": {},
   "outputs": [],
   "source": [
    "#tests_dir = \"../TESTS/\"\n",
    "tests_dir = \"\"\n",
    "\n",
    "ρᵍ₀ = [ 1 0.\n",
    "        0 0 ]    # state to measure initial distance from\n",
    "\n",
    "dodeca_10_states = [\"D\"*string(n) for n=1:10];\n",
    "\n",
    "basis_states = [\"B\"*string(n) for n=1:4];\n",
    "\n",
    "train_states = basis_states \n",
    "test_states = dodeca_10_states\n",
    "\n",
    "all_states = vcat(train_states, test_states);"
   ]
  },
  {
   "cell_type": "code",
   "execution_count": 18,
   "metadata": {},
   "outputs": [
    {
     "name": "stdout",
     "output_type": "stream",
     "text": [
      " SYSTEM IDENTIFICATION of simulated LME dt/4 w TSSOS and General KOSSAKOWSKI objective\n",
      "γ =  0.079477\n",
      " status:Local\n",
      "D1 D2 D3 D4 D5 D6 D7 D8 D9 D10 Median fidelity for 0.079477: 0.9301429115225457\n",
      "γ =  0.25133\n",
      " status:Local\n",
      "D1 D2 D3 D4 D5 D6 D7 D8 D9 D10 Median fidelity for 0.25133: 0.8367085196494579\n",
      "γ =  0.79477\n",
      " status:Local\n",
      "D1 D2 D3 D4 D5 D6 D7 D8 D9 D10 Median fidelity for 0.79477: 0.8268700153546078\n",
      "γ =  2.5133\n",
      " status:Local\n",
      "D1 D2 D3 D4 D5 D6 D7 D8 D9 D10 Median fidelity for 2.5133: 0.9999999999997238\n",
      "γ =  7.9477\n",
      " status:Local\n",
      "D1 D2 D3 D4 D5 D6 D7 D8 D9 D10 Median fidelity for 7.9477: 0.99999999999991\n",
      "γ =  25.133\n",
      " status:Local\n",
      "D1 D2 D3 D4 D5 D6 D7 D8 D9 D10 Median fidelity for 25.133: 0.9999999999938745\n",
      "γ =  79.477\n",
      " status:Local\n",
      "D1 D2 D3 D4 D5 D6 D7 D8 D9 D10 Median fidelity for 79.477: 0.9999999999371022\n",
      "γ =  251.33\n",
      " status:Local\n",
      "D1 D2 D3 D4 D5 D6 D7 D8 D9 D10 Median fidelity for 251.33: 0.9999999999817\n",
      "POP_SIM_LME_TSSOS_GEN_C_KOS_2024-Jul-06_at_03-02.h5\n"
     ]
    }
   ],
   "source": [
    "println(\" SYSTEM IDENTIFICATION of simulated LME dt/4 w TSSOS and General KOSSAKOWSKI objective\")\n",
    "\n",
    "γ = [ \"0.079477\",  \"0.25133\", \"0.79477\", \"2.5133\", \"7.9477\", \"25.133\", \"79.477\", \"251.33\"]\n",
    "\n",
    "date_and_time_string =  string(Dates.format(now(), \"yyyy-u-dd_at_HH-MM\"))\n",
    "\n",
    "evol_data_file_name = \"../DATA/ALL_GAMMAS_B4_D10.h5\"\n",
    "\n",
    "tests_data_file_name = \"POP_SIM_LME_TSSOS_GEN_C_KOS_\"*date_and_time_string * \".h5\"\n",
    "\n",
    "FminGammas = []\n",
    "FmedianGammas = []\n",
    "FmeanGammas = []\n",
    "Epsilons = []\n",
    "\n",
    "Hˢⁱᵐ =  [ 25.133    0. + 0im\n",
    "          0        -25.133  ] / 2\n",
    "\n",
    "for γᵢ in γ\n",
    "\n",
    "    println(\"γ =  \"*γᵢ)\n",
    "\n",
    "    Jˢⁱᵐ = DenseOperator( basis, [0  sqrt(parse(Float64, γᵢ))\n",
    "                                  0  0. + 0im                  ] )\n",
    "\n",
    "    tᵍᵉˣʸ , ρᵍᵉˣʸ = LME_GEXY_timeevolution(evol_data_file_name, basis, Hˢⁱᵐ, γᵢ)\n",
    "    \n",
    "    polyGEXY = kossak_GEXY_obj(ρᵍᵉˣʸ, tᵍᵉˣʸ, Hˢʸᵐᵇ, Cˢʸᵐᵇ, fᴷᴼᴺᴮ)\n",
    "\n",
    "    @show minimum(abs.(coefficients(polyGEXY)))\n",
    "    @show maximum(abs.(coefficients(polyGEXY)))\n",
    "\n",
    "    #sol, opt_val, status = CtrlSID.cs_tssos(polyGEXY, constraints)\n",
    "    #sol, opt_val, status = CtrlSID.jump(polyGEXY)\n",
    "    sol, opt_val, status = CtrlSID.tssos(polyGEXY)\n",
    "\n",
    "    print(\" status:\", status)\n",
    "\n",
    "    Hˢⁱᵈ = subs(Hˢʸᵐᵇ, sol); Cˢⁱᵈ = subs(Cˢʸᵐᵇ, sol)\n",
    "    epsilon = subs(ϵ, sol)\n",
    "\n",
    "    push!(Epsilons, epsilon)\n",
    "    \n",
    "    h5open(tests_dir*tests_data_file_name,\"cw\") do fid\n",
    "        γ_group = create_group(fid, γᵢ) # create gamma coupling group   \n",
    "        γ_group[\"epsilon\"] = convert(Float64, epsilon)\n",
    "        γ_group[\"H\"] = convert.(ComplexF64, Hˢⁱᵈ)\n",
    "        γ_group[\"C\"] = convert.(ComplexF64, Cˢⁱᵈ)\n",
    "\n",
    "    end\n",
    "\n",
    "    println()\n",
    "\n",
    "    FminStates = []\n",
    "    FmedianStates = []\n",
    "    FmeanStates = []\n",
    "\n",
    "    for state in test_states # loop over initial states\n",
    "        \n",
    "        print(state*\" \")\n",
    "\n",
    "        start_time = time()\n",
    "\n",
    "        tₛ, ρₛ = read_timeevolution(evol_data_file_name, state, γᵢ)\n",
    "        ρₛ = convert(Vector{Matrix{ComplexF64}}, ρₛ)\n",
    "        #bᵗˢᵗ = LiPoSID.bloch(ρₛ)\n",
    "        ρᵗˢᵗ = [DenseOperator(basis,Hermitian(ρₜ)) for ρₜ in ρₛ]\n",
    "        tᵗˢᵗ = convert(Vector{Float64}, tₛ)\n",
    "\n",
    "        #Simulated LME \n",
    "        tˢⁱᵐ, ρˢⁱᵐ  = timeevolution.master(tᵗˢᵗ, ρᵗˢᵗ[1], DenseOperator(basis, Hˢⁱᵐ), [Jˢⁱᵐ])\n",
    "        #bˢⁱᵐ = LiPoSID.bloch([ρᵢ.data for ρᵢ in ρˢⁱᵐ])\n",
    "\n",
    "        ρₒ = ρₛ[1]\n",
    "        dt = tᵗˢᵗ[2] - tᵗˢᵗ[1]\n",
    "        tᵉⁿᵈ = tᵗˢᵗ[end]\n",
    "\n",
    "        tˢⁱᵈ, ρˢⁱᵈ  = kossak_time_evolution(ρₒ, tᵉⁿᵈ, dt, Hˢⁱᵈ, Cˢⁱᵈ, fᴷᴼᴺᴮ)\n",
    "        #bˢⁱᵈ = LiPoSID.bloch([ρᵢ.data for ρᵢ in ρˢⁱᵈ])\n",
    "\n",
    "        F = LiPoSID.fidelity_series(basis, [ρₜ.data for ρₜ in ρˢⁱᵐ], ρˢⁱᵈ)\n",
    "        #Fˢᵖⁱⁿᵇᴼˢᴼⁿ= LiPoSID.fidelity_series(basis, ρₛ, ρˢⁱᵈ)\n",
    "\n",
    "        #Fᴸᴹᴱₑₓ = [abs(fidelity(ρ₁, ρ₂)) for (ρ₁, ρ₂) in zip(ρᵗˢᵗ, ρˢⁱᵈ)]   \n",
    "\n",
    "        h5open(tests_dir*tests_data_file_name,\"cw\") do fid\n",
    "            γ_group = open_group(fid, γᵢ) # open gamma coupling group\n",
    "            init_state_group = create_group(γ_group, state) # create initial state group\n",
    "            #init_state_group[\"Fidelity_SB\"] = convert.(Float64, Fˢᵖⁱⁿᵇᴼˢᴼⁿ)\n",
    "            init_state_group[\"F\"] = convert.(Float64, F)\n",
    "            #init_state_group[\"bloch_exact\"] = convert.(Float64, bᵗˢᵗ)\n",
    "            #init_state_group[\"bloch_sid_lme\"] = convert.(Float64, bˢⁱᵈ)\n",
    "            #init_state_group[\"bloch_sim_lme\"] = convert.(Float64, bˢⁱᵈ)\n",
    "            init_state_group[\"tr_dist_grnd\"] = TrDist(ρₛ[1], ρᵍ₀)\n",
    "            init_state_group[\"time\"] = tᵗˢᵗ\n",
    "        end\n",
    "        \n",
    "        FminState = minimum(F)\n",
    "        FmedianState = median(F)\n",
    "        FmeanState = mean(F)\n",
    "        \n",
    "        push!(FminStates, FminState)\n",
    "        push!(FmedianStates, FmedianState)\n",
    "        push!(FmeanStates, FmeanState)\n",
    "    \n",
    "    end\n",
    "\n",
    "    # Calculate the mean\n",
    "    F_mean_value = mean(FmeanStates)\n",
    "\n",
    "    # Calculate the median\n",
    "    F_median_value = median(FmedianStates)\n",
    "\n",
    "    # Calculate the min\n",
    "    F_min_value = minimum(FminStates)\n",
    "\n",
    "    push!(FminGammas, F_min_value)\n",
    "    push!(FmedianGammas, F_median_value)\n",
    "    push!(FmeanGammas, F_mean_value)\n",
    "\n",
    "    println(\"Median fidelity for \"*γᵢ*\": \", F_median_value)\n",
    "\n",
    "end\n",
    "\n",
    "h5open(tests_dir*tests_data_file_name,\"cw\") do fid\n",
    "    fid[\"F_min\"] = convert.(Float64,FminGammas)\n",
    "    fid[\"F_median\"] = convert.(Float64,FmedianGammas)\n",
    "    fid[\"F_mean\"] = convert.(Float64,FmeanGammas)\n",
    "    fid[\"Energy\"] = convert.(Float64,Epsilons)\n",
    "end\n",
    "\n",
    "\n",
    "println(tests_data_file_name)"
   ]
  },
  {
   "cell_type": "code",
   "execution_count": 16,
   "metadata": {},
   "outputs": [
    {
     "name": "stdout",
     "output_type": "stream",
     "text": [
      " SYSTEM IDENTIFICATION of simulated LME dt/4 w TSSOS and General KOSSAKOWSKI objective\n",
      "γ =  0.079477\n",
      " status:Local\n",
      "D1 D2 D3 D4 D5 D6 D7 D8 D9 D10 Median fidelity for 0.079477: 0.798871240629714\n",
      "γ =  0.25133\n",
      " status:Local\n",
      "D1 D2 D3 D4 D5 D6 D7 D8 D9 D10 Median fidelity for 0.25133: 0.8072770344200042\n",
      "γ =  0.79477\n",
      " status:Local\n",
      "D1 D2 D3 D4 D5 D6 D7 D8 D9 D10 Median fidelity for 0.79477: 0.8239545512321329\n",
      "γ =  2.5133\n"
     ]
    },
    {
     "ename": "LoadError",
     "evalue": "InterruptException:",
     "output_type": "error",
     "traceback": [
      "InterruptException:",
      "",
      "Stacktrace:",
      "  [1] Array",
      "    @ ./boot.jl:457 [inlined]",
      "  [2] Array",
      "    @ ./boot.jl:476 [inlined]",
      "  [3] getindex",
      "    @ ./array.jl:411 [inlined]",
      "  [4] _remove_zeros!(p::Polynomial{true, ComplexF64})",
      "    @ DynamicPolynomials ~/.julia/packages/DynamicPolynomials/JQRi1/src/poly.jl:155",
      "  [5] polynomialclean_to!(p::Polynomial{true, ComplexF64}, vars::Vector{PolyVar{true}}, adup::Vector{ComplexF64}, Zdup::Vector{Vector{Int64}})",
      "    @ DynamicPolynomials ~/.julia/packages/DynamicPolynomials/JQRi1/src/poly.jl:195",
      "  [6] operate_to!(p::Polynomial{true, ComplexF64}, #unused#::typeof(*), q1::Polynomial{true, ComplexF64}, q2::Polynomial{true, ComplexF64})",
      "    @ DynamicPolynomials ~/.julia/packages/DynamicPolynomials/JQRi1/src/mult.jl:140",
      "  [7] operate_to_fallback!!",
      "    @ ~/.julia/packages/MutableArithmetics/iovKe/src/interface.jl:607 [inlined]",
      "  [8] operate_to!!",
      "    @ ~/.julia/packages/MutableArithmetics/iovKe/src/interface.jl:584 [inlined]",
      "  [9] buffered_operate!",
      "    @ ~/.julia/packages/MultivariatePolynomials/sWAOE/src/operators.jl:366 [inlined]",
      " [10] buffered_operate_fallback!!",
      "    @ ~/.julia/packages/MutableArithmetics/iovKe/src/interface.jl:708 [inlined]",
      " [11] buffered_operate!!",
      "    @ ~/.julia/packages/MutableArithmetics/iovKe/src/interface.jl:685 [inlined]",
      " [12] buffered_operate!(buffer::Polynomial{true, ComplexF64}, #unused#::typeof(MutableArithmetics.add_mul), C::Matrix{Polynomial{true, ComplexF64}}, A::Matrix{Polynomial{true, ComplexF64}}, B::Adjoint{Polynomial{true, ComplexF64}, Matrix{Polynomial{true, ComplexF64}}})",
      "    @ MutableArithmetics ~/.julia/packages/MutableArithmetics/iovKe/src/implementations/LinearAlgebra.jl:329",
      " [13] operate!",
      "    @ ~/.julia/packages/MutableArithmetics/iovKe/src/implementations/LinearAlgebra.jl:358 [inlined]",
      " [14] operate_to!(C::Matrix{Polynomial{true, ComplexF64}}, #unused#::typeof(*), A::Matrix{Polynomial{true, ComplexF64}}, B::Adjoint{Polynomial{true, ComplexF64}, Matrix{Polynomial{true, ComplexF64}}})",
      "    @ MutableArithmetics ~/.julia/packages/MutableArithmetics/iovKe/src/implementations/LinearAlgebra.jl:376",
      " [15] _mul!",
      "    @ ~/.julia/packages/MutableArithmetics/iovKe/src/dispatch.jl:130 [inlined]",
      " [16] mul!",
      "    @ ~/.julia/packages/MutableArithmetics/iovKe/src/dispatch.jl:209 [inlined]",
      " [17] *",
      "    @ ~/julia-1.7.3/share/julia/stdlib/v1.7/LinearAlgebra/src/matmul.jl:153 [inlined]",
      " [18] frobenius_norm2(m::Matrix{Polynomial{true, ComplexF64}})",
      "    @ Main.LiPoSID ~/git/OQSID-thesis/LiPoSID.jl:298",
      " [19] kossak_obj(ρ::Vector{Matrix{ComplexF64}}, t::Vector{Float64}, H0ˢʸᵐᵇ::Matrix{Polynomial{true, ComplexF64}}, Cˢʸᵐᵇ::Matrix{Polynomial{true, Complex{Int64}}}, Fᴼᴺᴮ::Vector{Matrix{ComplexF64}})",
      "    @ Main ./In[2]:13",
      " [20] kossak_GEXY_obj(ρᵍᵉˣʸ::NTuple{4, Vector{Matrix{ComplexF64}}}, tᵍᵉˣʸ::NTuple{4, Vector{Float64}}, H0ˢʸᵐᵇ::Matrix{Polynomial{true, ComplexF64}}, Cˢʸᵐᵇ::Matrix{Polynomial{true, Complex{Int64}}}, fᴼᴺᴮ::Vector{Matrix{ComplexF64}})",
      "    @ Main ./In[3]:8",
      " [21] top-level scope",
      "    @ In[16]:28"
     ]
    }
   ],
   "source": []
  },
  {
   "cell_type": "code",
   "execution_count": 33,
   "metadata": {},
   "outputs": [
    {
     "name": "stdout",
     "output_type": "stream",
     "text": [
      " SYSTEM IDENTIFICATION of simulated LME w TSSOS and General KOSSAKOWSKI objective\n"
     ]
    },
    {
     "name": "stdout",
     "output_type": "stream",
     "text": [
      "γ =  0.079477\n",
      " status:Local\n",
      "D1 D2 D3 D4 D5 D6 D7 D8 D9 D10 Median fidelity for 0.079477: 0.92912994815291\n",
      "γ =  0.25133\n",
      " status:Local\n",
      "D1 D2 D3 D4 D5 D6 D7 D8 D9 D10 Median fidelity for 0.25133: 0.8367083902116217\n",
      "γ =  0.79477\n",
      " status:Local\n",
      "D1 D2 D3 D4 D5 D6 D7 D8 D9 D10 Median fidelity for 0.79477: 0.8268708114414818\n",
      "γ =  2.5133\n",
      " status:Local\n",
      "D1 D2 D3 D4 D5 D6 D7 D8 D9 D10 Median fidelity for 2.5133: 0.999999999999724\n",
      "γ =  7.9477\n",
      " status:Local\n",
      "D1 D2 D3 D4 D5 D6 D7 D8 D9 D10 Median fidelity for 7.9477: 0.9999999999999448\n",
      "γ =  25.133\n",
      " status:Local\n",
      "D1 D2 D3 D4 D5 D6 D7 D8 D9 D10 Median fidelity for 25.133: 0.9999999999992323\n",
      "γ =  79.477\n",
      " status:Local\n",
      "D1 D2 D3 D4 D5 D6 D7 D8 D9 D10 Median fidelity for 79.477: 0.9999999999842069\n",
      "γ =  251.33\n",
      " status:Local\n",
      "D1 D2 D3 D4 D5 D6 D7 D8 D9 D10 Median fidelity for 251.33: 0.9999999999993288\n",
      "POP_SIM_LME_TSSOS_GEN_C_KOS_2024-Jul-05_at_15-55.h5\n"
     ]
    }
   ],
   "source": []
  },
  {
   "cell_type": "code",
   "execution_count": 25,
   "metadata": {},
   "outputs": [
    {
     "data": {
      "text/plain": [
       "8-element Vector{Any}:\n",
       " 25.12381650968752\n",
       " 25.132891760649166\n",
       " 25.133019332433236\n",
       " 25.133000527885454\n",
       " 25.132986539873293\n",
       " 25.13287306748503\n",
       " 25.13051886071538\n",
       " 25.13172525512193"
      ]
     },
     "execution_count": 25,
     "metadata": {},
     "output_type": "execute_result"
    }
   ],
   "source": [
    "Epsilons"
   ]
  },
  {
   "cell_type": "code",
   "execution_count": 25,
   "metadata": {},
   "outputs": [
    {
     "name": "stdout",
     "output_type": "stream",
     "text": [
      " SYSTEM IDENTIFICATION of simulated LME w JUMP and General KOSSAKOWSKI objective\n",
      "γ =  0.079477\n",
      " status:LOCALLY_SOLVED\n",
      "D1 D2 D3 D4 D5 D6 D7 D8 D9 D10 Median fidelity for 0.079477: 0.9317425753050486\n",
      "γ =  0.25133\n",
      " status:LOCALLY_SOLVED\n",
      "D1 D2 D3 D4 D5 D6 D7 D8 D9 D10 Median fidelity for 0.25133: 0.8567073218410464\n",
      "γ =  0.79477\n",
      " status:ALMOST_LOCALLY_SOLVED\n",
      "D1 D2 D3 D4 D5 D6 D7 D8 D9 D10 Median fidelity for 0.79477: 0.8503122824847316\n",
      "γ =  2.5133\n",
      " status:ALMOST_LOCALLY_SOLVED\n",
      "D1 D2 D3 D4 D5 D6 D7 D8 D9 D10 Median fidelity for 2.5133: 0.8585038506930569\n",
      "γ =  7.9477\n",
      " status:ALMOST_LOCALLY_SOLVED\n",
      "D1 D2 D3 D4 D5 D6 D7 D8 D9 D10 Median fidelity for 7.9477: 0.8854280291214025\n",
      "γ =  25.133\n",
      " status:ALMOST_LOCALLY_SOLVED\n",
      "D1 D2 D3 D4 D5 D6 D7 D8 D9 D10 Median fidelity for 25.133: 0.9032195716090419\n",
      "γ =  79.477\n",
      " status:ALMOST_LOCALLY_SOLVED\n",
      "D1 D2 D3 D4 D5 D6 D7 D8 D9 D10 Median fidelity for 79.477: 0.8767525201430664\n",
      "γ =  251.33\n",
      " status:ITERATION_LIMIT\n",
      "D1 D2 D3 D4 D5 D6 D7 D8 D9 D10 Median fidelity for 251.33: 0.8664783285598602\n",
      "POP_SIM_LME_JUMP_GEN_C_KOS_2024-Jun-25_at_09-15.h5\n"
     ]
    }
   ],
   "source": []
  },
  {
   "cell_type": "code",
   "execution_count": 19,
   "metadata": {},
   "outputs": [
    {
     "name": "stdout",
     "output_type": "stream",
     "text": [
      " SYSTEM IDENTIFICATION of simulated LME w JUMP and General KOSSAKOWSKI objective\n",
      "γ =  0.079477\n",
      " status:LOCALLY_SOLVED\n",
      "D1 D2 D3 D4 D5 D6 D7 D8 D9 D10 Median fidelity for 0.079477: 0.9317425753050486\n",
      "γ =  0.25133\n",
      " status:LOCALLY_SOLVED\n",
      "D1 D2 D3 D4 D5 D6 D7 D8 D9 D10 Median fidelity for 0.25133: 0.8567073218410464\n",
      "γ =  0.79477\n",
      " status:ALMOST_LOCALLY_SOLVED\n",
      "D1 D2 D3 D4 D5 D6 D7 D8 D9 D10 Median fidelity for 0.79477: 0.8503122824847316\n",
      "γ =  2.5133\n",
      " status:ALMOST_LOCALLY_SOLVED\n",
      "D1 D2 D3 D4 D5 D6 D7 D8 D9 D10 Median fidelity for 2.5133: 0.8585038506930569\n",
      "γ =  7.9477\n",
      " status:ALMOST_LOCALLY_SOLVED\n",
      "D1 D2 D3 D4 D5 D6 D7 D8 D9 D10 Median fidelity for 7.9477: 0.8854280291214025\n",
      "γ =  25.133\n",
      " status:ALMOST_LOCALLY_SOLVED\n",
      "D1 D2 D3 D4 D5 D6 D7 D8 D9 D10 Median fidelity for 25.133: 0.9032195716090419\n",
      "γ =  79.477\n",
      " status:ALMOST_LOCALLY_SOLVED\n",
      "D1 D2 D3 D4 D5 D6 D7 D8 D9 D10 Median fidelity for 79.477: 0.8767525201430664\n",
      "γ =  251.33\n",
      " status:ITERATION_LIMIT\n",
      "D1 D2 D3 D4 D5 D6 D7 D8 D9 D10 Median fidelity for 251.33: 0.8664783285598602\n",
      "POP_SIM_LME_JUMP_GEN_C_KOS_2024-Jun-25_at_05-32.h5\n"
     ]
    }
   ],
   "source": [
    "# without constraints"
   ]
  },
  {
   "cell_type": "code",
   "execution_count": 57,
   "metadata": {},
   "outputs": [
    {
     "name": "stdout",
     "output_type": "stream",
     "text": [
      " SYSTEM IDENTIFICATION of simulated LME w CONSTRAINED JUMP and KOSSAKOWSKI objective\n",
      "γ =  0.079477\n",
      " status:LOCALLY_SOLVED\n",
      "D1 D2 D3 D4 D5 D6 D7 D8 D9 D10 Median fidelity for 0.079477: 0.9996420396228947\n",
      "γ =  0.25133\n",
      " status:LOCALLY_SOLVED\n",
      "D1 D2 D3 D4 D5 D6 D7 D8 D9 D10 Median fidelity for 0.25133: 0.9999999235652612\n",
      "γ =  0.79477\n",
      " status:LOCALLY_SOLVED\n",
      "D1 D2 D3 D4 D5 D6 D7 D8 D9 D10 Median fidelity for 0.79477: 0.9999996072317053\n",
      "γ =  2.5133\n",
      " status:LOCALLY_SOLVED\n",
      "D1 D2 D3 D4 D5 D6 D7 D8 D9 D10 Median fidelity for 2.5133: 0.9999991763041339\n",
      "γ =  7.9477\n",
      " status:LOCALLY_SOLVED\n",
      "D1 D2 D3 D4 D5 D6 D7 D8 D9 D10 Median fidelity for 7.9477: 0.9999996732440135\n",
      "γ =  25.133\n",
      " status:LOCALLY_SOLVED\n",
      "D1 D2 D3 D4 D5 D6 D7 D8 D9 D10 Median fidelity for 25.133: 0.9999998423004073\n",
      "γ =  79.477\n",
      " status:LOCALLY_SOLVED\n",
      "D1 D2 D3 D4 D5 D6 D7 D8 D9 D10 Median fidelity for 79.477: 0.9999991703220533\n",
      "γ =  251.33\n",
      " status:LOCALLY_SOLVED\n",
      "D1 D2 D3 D4 D5 D6 D7 D8 D9 D10 Median fidelity for 251.33: 0.999999926645021\n",
      "POP_SIM_LME_JUMP_KOS_2024-Jun-24_at_12-44.h5\n"
     ]
    }
   ],
   "source": []
  },
  {
   "cell_type": "code",
   "execution_count": 8,
   "metadata": {},
   "outputs": [
    {
     "name": "stdout",
     "output_type": "stream",
     "text": [
      " SYSTEM IDENTIFICATION w CONSTRAINED JUMP and KOSSAKOWSKI objective\n",
      "γ =  0.079477\n",
      " status:LOCALLY_SOLVED\n",
      "D1 D2 D3 D4 D5 D6 D7 D8 D9 D10 Median fidelity for 0.079477: 0.9977046690410722\n",
      "γ =  0.25133\n",
      " status:LOCALLY_SOLVED\n",
      "D1 D2 D3 D4 D5 D6 D7 D8 D9 D10 Median fidelity for 0.25133: 0.9966807880531652\n",
      "γ =  0.79477\n",
      " status:LOCALLY_SOLVED\n",
      "D1 D2 D3 D4 D5 D6 D7 D8 D9 D10 Median fidelity for 0.79477: 0.9977004864049941\n",
      "γ =  2.5133\n",
      " status:LOCALLY_SOLVED\n",
      "D1 D2 D3 D4 D5 D6 D7 D8 D9 D10 Median fidelity for 2.5133: 0.9990498352408502\n",
      "γ =  7.9477\n",
      " status:LOCALLY_SOLVED\n",
      "D1 D2 D3 D4 D5 D6 D7 D8 D9 D10 Median fidelity for 7.9477: 0.9996748517732996\n",
      "γ =  25.133\n",
      " status:LOCALLY_SOLVED\n",
      "D1 D2 D3 D4 D5 D6 D7 D8 D9 D10 Median fidelity for 25.133: 0.9968645845457611\n",
      "γ =  79.477\n",
      " status:LOCALLY_SOLVED\n",
      "D1 D2 D3 D4 D5 D6 D7 D8 D9 D10 Median fidelity for 79.477: 0.9989415717391549\n",
      "γ =  251.33\n",
      " status:LOCALLY_SOLVED\n",
      "D1 D2 D3 D4 D5 D6 D7 D8 D9 D10 Median fidelity for 251.33: 0.9993933098260761\n",
      "POP_NEW_JUMP_KOS_2024-Jun-22_at_06-42.h5\n"
     ]
    }
   ],
   "source": []
  },
  {
   "cell_type": "code",
   "execution_count": 17,
   "metadata": {},
   "outputs": [
    {
     "name": "stdout",
     "output_type": "stream",
     "text": [
      " SYSTEM IDENTIFICATION w CONSTRAINED TSSOS and KOSSAKOWSKI objective\n",
      "γ =  0.079477\n",
      " status:Local\n",
      "D1 D2 D3 D4 D5 D6 D7 D8 D9 D10 Median fidelity for 0.079477: 0.9977046690410768\n",
      "γ =  0.25133\n",
      " status:Local\n",
      "D1 D2 D3 D4 D5 D6 D7 D8 D9 D10 Median fidelity for 0.25133: 0.9966807880531685\n",
      "γ =  0.79477\n",
      " status:Local\n",
      "D1 D2 D3 D4 D5 D6 D7 D8 D9 D10 Median fidelity for 0.79477: 0.9977004864050036\n",
      "γ =  2.5133\n",
      " status:Local\n",
      "D1 D2 D3 D4 D5 D6 D7 D8 D9 D10 Median fidelity for 2.5133: 0.999049835240695\n",
      "γ =  7.9477\n",
      " status:Local\n",
      "D1 D2 D3 D4 D5 D6 D7 D8 D9 D10 Median fidelity for 7.9477: 0.9996748517732994\n",
      "γ =  25.133\n",
      " status:Local\n",
      "D1 D2 D3 D4 D5 D6 D7 D8 D9 D10 Median fidelity for 25.133: 0.9968645845347491\n",
      "γ =  79.477\n",
      " status:Local\n",
      "D1 D2 D3 D4 D5 D6 D7 D8 D9 D10 Median fidelity for 79.477: 0.9989415677938539\n",
      "γ =  251.33\n",
      " status:Local\n",
      "D1 D2 D3 D4 D5 D6 D7 D8 D9 D10 Median fidelity for 251.33: 0.999393310891379\n",
      "POP_NEW_TSSOS_KOS_2024-Jun-15_at_04-22.h5\n"
     ]
    }
   ],
   "source": []
  },
  {
   "cell_type": "code",
   "execution_count": 18,
   "metadata": {},
   "outputs": [
    {
     "name": "stdout",
     "output_type": "stream",
     "text": [
      "POP_NEW_TSSOS_KOS_2024-Jun-15_at_04-22.h5\n"
     ]
    }
   ],
   "source": [
    "println(tests_data_file_name)"
   ]
  }
 ],
 "metadata": {
  "kernelspec": {
   "display_name": "Julia 70 Threads 1.7.3",
   "language": "julia",
   "name": "julia-70-threads-1.7"
  },
  "language_info": {
   "file_extension": ".jl",
   "mimetype": "application/julia",
   "name": "julia",
   "version": "1.7.3"
  }
 },
 "nbformat": 4,
 "nbformat_minor": 2
}
