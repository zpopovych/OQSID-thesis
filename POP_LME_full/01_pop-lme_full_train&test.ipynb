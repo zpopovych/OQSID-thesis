{
 "cells": [
  {
   "cell_type": "code",
   "execution_count": 1,
   "metadata": {},
   "outputs": [],
   "source": [
    "include(\"../LiPoSID.jl\")\n",
    "using QuantumOptics\n",
    "basis = NLevelBasis(2)\n",
    "using LinearAlgebra\n",
    "using HDF5\n",
    "using DynamicPolynomials\n",
    "using Plots\n",
    "using Dates\n",
    "\n",
    "using Optim\n",
    "using Random"
   ]
  },
  {
   "cell_type": "markdown",
   "metadata": {},
   "source": [
    "Consider simple Lindblad master equation with two dissipators:\n",
    "\n",
    "$\n",
    "    \\frac{d\\rho}{dt} = -\\frac{i}{\\hbar} [H,\\rho(t)] + \\mathcal{D}[\\rho(t)] = - \\frac{i}{\\hbar}[H, \\rho]+\\sum_{\\ell=1}^{s-1}\\left[J_\\ell \\rho J_\\ell^\\dagger - \\frac{1}{2}\\left\\{ J_\\ell^\\dagger J_\\ell, \\rho \\right\\} \\right],\n",
    "$\n",
    "\n",
    "where Hamiltonian is hermitian with one of the diagonal elemnets set to zero\n",
    "\n",
    "\n",
    "$\n",
    "    H = \\begin{pmatrix} w & \\alpha + i \\beta \\\\ \\alpha - i \\beta & 0\n",
    "   \\end{pmatrix}\n",
    "$\n",
    "\n",
    " withot loss of generality we can possibly look for jump operator of the form:\n",
    "\n",
    "$\n",
    "J_1 = \\begin{pmatrix} a_{11} + i b_{11} & a_{12} \\\\ a_{21} + i b_{21} & -a_{11} - i b_{11} \n",
    "   \\end{pmatrix} \n",
    "$\n",
    "\n"
   ]
  },
  {
   "cell_type": "code",
   "execution_count": 6,
   "metadata": {},
   "outputs": [
    {
     "data": {
      "text/plain": [
       "g_objective_full (generic function with 1 method)"
      ]
     },
     "metadata": {},
     "output_type": "display_data"
    }
   ],
   "source": [
    "# Define polynomial variables\n",
    "@polyvar w α β r ϕ e p\n",
    "\n",
    "#Hˢʸᵐᵇ = [ w   0\n",
    "#          0   0. ]\n",
    "\n",
    "Hˢʸᵐᵇ = [ w           α + im* β\n",
    "          α + im* β   0.        ]\n",
    "\n",
    "@polyvar a[1:4]\n",
    "@polyvar b[1:4]\n",
    "\n",
    "#\"just-zero-down_ \"\n",
    "\n",
    "#Aˢʸᵐᵇ = [ a[1]+im*b[1]      a[2] + im*b[2] \n",
    "#          0                -a[1]-im*b[1]  ]\n",
    "\n",
    "J₁ˢʸᵐᵇ = [ a[1]+im*b[1]      r\n",
    "          a[3] + im*b[3]   -a[1]-im*b[1] ]\n",
    "          \n",
    "\n",
    "#J₁ˢʸᵐᵇ = [ 0   r\n",
    "#           0   0. ]\n",
    "\n",
    "#J₂ˢʸᵐᵇ = ϕ * [ 1    0\n",
    "#               0   -1. ]\n",
    "\n",
    "#J₃ˢʸᵐᵇ = [ 0   0\n",
    "#           e   0. ]\n",
    "\n",
    "#J₄ˢʸᵐᵇ = p * [ 0    1\n",
    "#               1    0. ]\n",
    "\n",
    "#J₅ˢʸᵐᵇ = p * [ 0   -im\n",
    "#               im   0  ]\n",
    "\n",
    "#J₆ˢʸᵐᵇ = p * [ 1    0\n",
    "#               0   -1. ]\n",
    "\n",
    "\n",
    "function g_objective_full(γᵢ)\n",
    "\n",
    "    objₑₓ = 0\n",
    "\n",
    "    for df_trn in train_files # loop over initial states\n",
    "\n",
    "        ρᵗʳⁿ, tᵗʳⁿ = LiPoSID.get_rho_series(data_dir*df_trn*\"_2CUT_data.h5\", γᵢ)\n",
    "        \n",
    "        if length(tᵗʳⁿ) > 1200 end_train = 1200 else end_train = length(tᵗʳⁿ) end\n",
    "            \n",
    "        ρᵗʳⁿ = convert(Vector{Matrix{ComplexF64}}, ρᵗʳⁿ[1:end_train])\n",
    "        \n",
    "        tᵗʳⁿ = convert(Vector{Float64}, tᵗʳⁿ[1:end_train])\n",
    "\n",
    "        objₑₓ += LiPoSID.simpson_obj(ρᵗʳⁿ, tᵗʳⁿ,  Hˢʸᵐᵇ, [J₁ˢʸᵐᵇ])\n",
    "        \n",
    "    end # of files (initial states) loop\n",
    "\n",
    "    return(objₑₓ)\n",
    "end"
   ]
  },
  {
   "cell_type": "code",
   "execution_count": 3,
   "metadata": {},
   "outputs": [
    {
     "data": {
      "text/plain": [
       "local_rand_min (generic function with 1 method)"
      ]
     },
     "metadata": {},
     "output_type": "display_data"
    }
   ],
   "source": [
    "\n",
    "function scaling_poly(p::Polynomial)\n",
    "\n",
    "    X = transpose(hcat([exponents(t) for t in terms(p)]...))\n",
    "\n",
    "    # Get the scaling via linear regression\n",
    "    scaling = X \\ log.(abs.(coefficients(p)))\n",
    "\n",
    "    exp.(abs.(scaling)) # \n",
    "end\n",
    "\n",
    "function local_rand_min(p)\n",
    "\n",
    "    pd = p / maximum(abs.(coefficients(p)))\n",
    "\n",
    "    # find variable scaling\n",
    "    scale = scaling_poly(pd)\n",
    "\n",
    "    # scale the polynomial\n",
    "    p_scaled = subs(pd, variables(pd) => scale .* variables(pd))\n",
    "\n",
    "    num_iterations = 100\n",
    "\n",
    "    # Initialize the best minimizer and the minimum value\n",
    "    best_minimizer = nothing\n",
    "    best_min_value = Inf\n",
    "\n",
    "    num_of_variables = length(variables(pd))\n",
    "\n",
    "    for _ in 1:num_iterations\n",
    "        # Generate a random initial condition\n",
    "        initial_point = rand(num_of_variables).*250\n",
    "\n",
    "        # Run local optimization\n",
    "        result = Optim.optimize(p_scaled, initial_point, BFGS())\n",
    "        #println(Optim.minimum(result))\n",
    "\n",
    "        # Update the best minimizer if a better one is found\n",
    "        if Optim.minimum(result) < best_min_value\n",
    "            \n",
    "            best_minimizer = Optim.minimizer(result)\n",
    "            best_min_value = Optim.minimum(result)\n",
    "            \n",
    "        end\n",
    "\n",
    "    end\n",
    "\n",
    "    best_minimizer = abs.(best_minimizer) # to make gamma positive\n",
    "\n",
    "    minimizer_scaled = scale .* best_minimizer\n",
    "\n",
    "    solution = variables(p_scaled) => minimizer_scaled\n",
    "\n",
    "end"
   ]
  },
  {
   "cell_type": "code",
   "execution_count": 4,
   "metadata": {},
   "outputs": [
    {
     "name": "stdout",
     "output_type": "stream",
     "text": [
      "../DATA/\n"
     ]
    }
   ],
   "source": [
    "data_dir = \"../DATA/\"\n",
    "println(data_dir)\n",
    "\n",
    "models_dir = \"../MODELS/\"\n",
    "tests_dir = \"../TESTS/\"\n",
    "\n",
    "dodeca_files = [\"State_D\"*string(n) for n=1:20];\n",
    "\n",
    "basis_files = [\"State_B\"*string(n) for n=1:4];\n",
    "\n",
    "all_files = vcat(dodeca_files, basis_files)\n",
    "train_files = basis_files \n",
    "test_files = dodeca_files;\n"
   ]
  },
  {
   "cell_type": "code",
   "execution_count": 7,
   "metadata": {},
   "outputs": [
    {
     "name": "stdout",
     "output_type": "stream",
     "text": [
      "γ =  0.079477\n"
     ]
    },
    {
     "name": "stdout",
     "output_type": "stream",
     "text": [
      "State_D1 0.9892250543702875"
     ]
    },
    {
     "name": "stdout",
     "output_type": "stream",
     "text": [
      "\n",
      "State_D2 "
     ]
    },
    {
     "name": "stdout",
     "output_type": "stream",
     "text": [
      "0.9892801622323361\n",
      "State_D3 0.9984523769683096"
     ]
    },
    {
     "name": "stdout",
     "output_type": "stream",
     "text": [
      "\n",
      "State_D4 "
     ]
    },
    {
     "name": "stdout",
     "output_type": "stream",
     "text": [
      "0.9984480053744655\n",
      "State_D5 0.9924066067279985"
     ]
    },
    {
     "name": "stdout",
     "output_type": "stream",
     "text": [
      "\n",
      "State_D6 "
     ]
    },
    {
     "name": "stdout",
     "output_type": "stream",
     "text": [
      "0.9924066086548573\n",
      "State_D7 0.99566872898361"
     ]
    },
    {
     "name": "stdout",
     "output_type": "stream",
     "text": [
      "\n",
      "State_D8 "
     ]
    },
    {
     "name": "stdout",
     "output_type": "stream",
     "text": [
      "0.9956692624004908\n",
      "State_D9 0.9824890108211324"
     ]
    },
    {
     "name": "stdout",
     "output_type": "stream",
     "text": [
      "\n",
      "State_D10 "
     ]
    },
    {
     "name": "stdout",
     "output_type": "stream",
     "text": [
      "0.9995852508203131\n",
      "State_D11 0.9984522942583427"
     ]
    },
    {
     "name": "stdout",
     "output_type": "stream",
     "text": [
      "\n",
      "State_D12 "
     ]
    },
    {
     "name": "stdout",
     "output_type": "stream",
     "text": [
      "0.9984480327260514\n",
      "State_D13 0.989225625664147"
     ]
    },
    {
     "name": "stdout",
     "output_type": "stream",
     "text": [
      "\n",
      "State_D14 "
     ]
    },
    {
     "name": "stdout",
     "output_type": "stream",
     "text": [
      "0.9892801772015951\n",
      "State_D15 0.9975947843795886"
     ]
    },
    {
     "name": "stdout",
     "output_type": "stream",
     "text": [
      "\n",
      "State_D16 "
     ]
    },
    {
     "name": "stdout",
     "output_type": "stream",
     "text": [
      "0.9975948268276392\n",
      "State_D17 0.9956686721525088"
     ]
    },
    {
     "name": "stdout",
     "output_type": "stream",
     "text": [
      "\n",
      "State_D18 "
     ]
    },
    {
     "name": "stdout",
     "output_type": "stream",
     "text": [
      "0.9956693387477727\n",
      "State_D19 0.999585246574308"
     ]
    },
    {
     "name": "stdout",
     "output_type": "stream",
     "text": [
      "\n",
      "State_D20 "
     ]
    },
    {
     "name": "stdout",
     "output_type": "stream",
     "text": [
      "0.9824893363830175\n",
      "\n",
      "γ =  0.25133\n",
      "State_D1 "
     ]
    },
    {
     "name": "stdout",
     "output_type": "stream",
     "text": [
      "0.9826348408074287\n",
      "State_D2 0.9826141753003423"
     ]
    },
    {
     "name": "stdout",
     "output_type": "stream",
     "text": [
      "\n",
      "State_D3 "
     ]
    },
    {
     "name": "stdout",
     "output_type": "stream",
     "text": [
      "0.9850464015622709\n",
      "State_D4 0.9850168565931405"
     ]
    },
    {
     "name": "stdout",
     "output_type": "stream",
     "text": [
      "\n",
      "State_D5 "
     ]
    },
    {
     "name": "stdout",
     "output_type": "stream",
     "text": [
      "0.982920447669626\n",
      "State_D6 0.9829219745205189"
     ]
    },
    {
     "name": "stdout",
     "output_type": "stream",
     "text": [
      "\n",
      "State_D7 "
     ]
    },
    {
     "name": "stdout",
     "output_type": "stream",
     "text": [
      "0.983624332557713\n",
      "State_D8 0.9835859937028912"
     ]
    },
    {
     "name": "stdout",
     "output_type": "stream",
     "text": [
      "\n",
      "State_D9 "
     ]
    },
    {
     "name": "stdout",
     "output_type": "stream",
     "text": [
      "0.9823977166032298\n",
      "State_D10 0.9860168704228438"
     ]
    },
    {
     "name": "stdout",
     "output_type": "stream",
     "text": [
      "\n",
      "State_D11 "
     ]
    },
    {
     "name": "stdout",
     "output_type": "stream",
     "text": [
      "0.9850465272812103\n",
      "State_D12 0.9850146264798041"
     ]
    },
    {
     "name": "stdout",
     "output_type": "stream",
     "text": [
      "\n",
      "State_D13 "
     ]
    },
    {
     "name": "stdout",
     "output_type": "stream",
     "text": [
      "0.9826364327877278\n",
      "State_D14 0.9826163466888435"
     ]
    },
    {
     "name": "stdout",
     "output_type": "stream",
     "text": [
      "\n",
      "State_D15 "
     ]
    },
    {
     "name": "stdout",
     "output_type": "stream",
     "text": [
      "0.9844521406994847\n",
      "State_D16 0.9844523721626043"
     ]
    },
    {
     "name": "stdout",
     "output_type": "stream",
     "text": [
      "\n",
      "State_D17 "
     ]
    },
    {
     "name": "stdout",
     "output_type": "stream",
     "text": [
      "0.983624817445512\n",
      "State_D18 0.9835861011163168"
     ]
    },
    {
     "name": "stdout",
     "output_type": "stream",
     "text": [
      "\n",
      "State_D19 "
     ]
    },
    {
     "name": "stdout",
     "output_type": "stream",
     "text": [
      "0.9860167311023853\n",
      "State_D20 0.9824004485208049"
     ]
    },
    {
     "name": "stdout",
     "output_type": "stream",
     "text": [
      "\n",
      "\n",
      "γ =  0.79477\n"
     ]
    },
    {
     "name": "stdout",
     "output_type": "stream",
     "text": [
      "State_D1 0.9886004370353996"
     ]
    },
    {
     "name": "stdout",
     "output_type": "stream",
     "text": [
      "\n",
      "State_D2 "
     ]
    },
    {
     "name": "stdout",
     "output_type": "stream",
     "text": [
      "0.9886080518671995\n",
      "State_D3 0.9890856078898035"
     ]
    },
    {
     "name": "stdout",
     "output_type": "stream",
     "text": [
      "\n",
      "State_D4 "
     ]
    },
    {
     "name": "stdout",
     "output_type": "stream",
     "text": [
      "0.9890937383657474\n",
      "State_D5 0.9886563543018659"
     ]
    },
    {
     "name": "stdout",
     "output_type": "stream",
     "text": [
      "\n",
      "State_D6 "
     ]
    },
    {
     "name": "stdout",
     "output_type": "stream",
     "text": [
      "0.9886550073456994\n",
      "State_D7 0.9887759477940123"
     ]
    },
    {
     "name": "stdout",
     "output_type": "stream",
     "text": [
      "\n",
      "State_D8 "
     ]
    },
    {
     "name": "stdout",
     "output_type": "stream",
     "text": [
      "0.9887851350653217\n",
      "State_D9 0.9885779526648214"
     ]
    },
    {
     "name": "stdout",
     "output_type": "stream",
     "text": [
      "\n",
      "State_D10 "
     ]
    },
    {
     "name": "stdout",
     "output_type": "stream",
     "text": [
      "0.9893420980003644\n",
      "State_D11 0.9890853474069176"
     ]
    },
    {
     "name": "stdout",
     "output_type": "stream",
     "text": [
      "\n",
      "State_D12 "
     ]
    },
    {
     "name": "stdout",
     "output_type": "stream",
     "text": [
      "0.9890970903094624\n",
      "State_D13 0.9885970292777829"
     ]
    },
    {
     "name": "stdout",
     "output_type": "stream",
     "text": [
      "\n",
      "State_D14 "
     ]
    },
    {
     "name": "stdout",
     "output_type": "stream",
     "text": [
      "0.988608270405001\n",
      "State_D15 0.988954522394946"
     ]
    },
    {
     "name": "stdout",
     "output_type": "stream",
     "text": [
      "\n",
      "State_D16 "
     ]
    },
    {
     "name": "stdout",
     "output_type": "stream",
     "text": [
      "0.9889543448874955\n",
      "State_D17 0.9887764156908415"
     ]
    },
    {
     "name": "stdout",
     "output_type": "stream",
     "text": [
      "\n",
      "State_D18 "
     ]
    },
    {
     "name": "stdout",
     "output_type": "stream",
     "text": [
      "0.9887849996347852\n",
      "State_D19 0.9893412813038162"
     ]
    },
    {
     "name": "stdout",
     "output_type": "stream",
     "text": [
      "\n",
      "State_D20 "
     ]
    },
    {
     "name": "stdout",
     "output_type": "stream",
     "text": [
      "0.9885683260703755\n",
      "\n",
      "γ =  2.5133\n",
      "State_D1 "
     ]
    },
    {
     "name": "stdout",
     "output_type": "stream",
     "text": [
      "0.996524498515445\n",
      "State_D2 0.996528405561922"
     ]
    },
    {
     "name": "stdout",
     "output_type": "stream",
     "text": [
      "\n",
      "State_D3 "
     ]
    },
    {
     "name": "stdout",
     "output_type": "stream",
     "text": [
      "0.9966607182852372\n",
      "State_D4 0.9966658299963346"
     ]
    },
    {
     "name": "stdout",
     "output_type": "stream",
     "text": [
      "\n",
      "State_D5 "
     ]
    },
    {
     "name": "stdout",
     "output_type": "stream",
     "text": [
      "0.9965438854505184\n",
      "State_D6 0.99654027596523"
     ]
    },
    {
     "name": "stdout",
     "output_type": "stream",
     "text": [
      "\n",
      "State_D7 "
     ]
    },
    {
     "name": "stdout",
     "output_type": "stream",
     "text": [
      "0.9965798874236877\n",
      "State_D8 0.996577903678023"
     ]
    },
    {
     "name": "stdout",
     "output_type": "stream",
     "text": [
      "\n",
      "State_D9 "
     ]
    },
    {
     "name": "stdout",
     "output_type": "stream",
     "text": [
      "0.9965223396211128\n",
      "State_D10 0.9967370811371213"
     ]
    },
    {
     "name": "stdout",
     "output_type": "stream",
     "text": [
      "\n",
      "State_D11 "
     ]
    },
    {
     "name": "stdout",
     "output_type": "stream",
     "text": [
      "0.9966460373735118\n",
      "State_D12 0.9966706006614114"
     ]
    },
    {
     "name": "stdout",
     "output_type": "stream",
     "text": [
      "\n",
      "State_D13 "
     ]
    },
    {
     "name": "stdout",
     "output_type": "stream",
     "text": [
      "0.9965216482800069\n",
      "State_D14 0.9965319403885927"
     ]
    },
    {
     "name": "stdout",
     "output_type": "stream",
     "text": [
      "\n",
      "State_D15 "
     ]
    },
    {
     "name": "stdout",
     "output_type": "stream",
     "text": [
      "0.9966157363104131\n",
      "State_D16 0.9966303687925725"
     ]
    },
    {
     "name": "stdout",
     "output_type": "stream",
     "text": [
      "\n",
      "State_D17 "
     ]
    },
    {
     "name": "stdout",
     "output_type": "stream",
     "text": [
      "0.9965660462120574\n",
      "State_D18 0.9965855627140158"
     ]
    },
    {
     "name": "stdout",
     "output_type": "stream",
     "text": [
      "\n",
      "State_D19 "
     ]
    },
    {
     "name": "stdout",
     "output_type": "stream",
     "text": [
      "0.9967355312181365\n",
      "State_D20 0.9965214593665082"
     ]
    },
    {
     "name": "stdout",
     "output_type": "stream",
     "text": [
      "\n",
      "\n",
      "γ =  7.9477\n"
     ]
    },
    {
     "name": "stdout",
     "output_type": "stream",
     "text": [
      "State_D1 0.9994270271988688\n",
      "State_D2 "
     ]
    },
    {
     "name": "stdout",
     "output_type": "stream",
     "text": [
      "0.9990193874943283\n",
      "State_D3 0.999435578184284\n",
      "State_D4 "
     ]
    },
    {
     "name": "stdout",
     "output_type": "stream",
     "text": [
      "0.999508921296855\n",
      "State_D5 0.9993248351095224\n",
      "State_D6 "
     ]
    },
    {
     "name": "stdout",
     "output_type": "stream",
     "text": [
      "0.9980167178819096\n",
      "State_D7 0.9989980477093331\n",
      "State_D8 "
     ]
    },
    {
     "name": "stdout",
     "output_type": "stream",
     "text": [
      "0.9990388719307576\n",
      "State_D9 0.9990000434373814\n",
      "State_D10 "
     ]
    },
    {
     "name": "stdout",
     "output_type": "stream",
     "text": [
      "0.9997065905426594\n",
      "State_D11 0.9977525449001743\n",
      "State_D12 "
     ]
    },
    {
     "name": "stdout",
     "output_type": "stream",
     "text": [
      "0.9994820874624846\n",
      "State_D13 0.9974988799961072\n",
      "State_D14 "
     ]
    },
    {
     "name": "stdout",
     "output_type": "stream",
     "text": [
      "0.9994119648049176\n",
      "State_D15 0.9980430497474503\n",
      "State_D16 "
     ]
    },
    {
     "name": "stdout",
     "output_type": "stream",
     "text": [
      "0.9992266618077812\n",
      "State_D17 0.9967618321640767\n",
      "State_D18 "
     ]
    },
    {
     "name": "stdout",
     "output_type": "stream",
     "text": [
      "0.9995066725243121\n",
      "State_D19 0.9994879876193445\n",
      "State_D20 "
     ]
    },
    {
     "name": "stdout",
     "output_type": "stream",
     "text": [
      "0.9989088859040806\n",
      "\n",
      "γ =  25.133\n",
      "State_D1 "
     ]
    },
    {
     "name": "stdout",
     "output_type": "stream",
     "text": [
      "0.994899498887438\n",
      "State_D2 0.9980874658750797\n",
      "State_D3 0.9946965537314287\n",
      "State_D4 0.9980509096095249"
     ]
    },
    {
     "name": "stdout",
     "output_type": "stream",
     "text": [
      "\n",
      "State_D5 0.9974079919843998\n",
      "State_D6 0.9869577321011506\n",
      "State_D7 0.9907386072433239\n",
      "State_D8 0.9890673315489721"
     ]
    },
    {
     "name": "stdout",
     "output_type": "stream",
     "text": [
      "\n",
      "State_D9 0.9995770093416425\n",
      "State_D10 0.999395190013352\n",
      "State_D11 0.9827435446331239\n",
      "State_D12 0.9968145240677334"
     ]
    },
    {
     "name": "stdout",
     "output_type": "stream",
     "text": [
      "\n",
      "State_D13 0.9822596089730122\n",
      "State_D14 0.9963954046088932\n",
      "State_D15 0.9878488732937116\n",
      "State_D16 0.9981379970491517"
     ]
    },
    {
     "name": "stdout",
     "output_type": "stream",
     "text": [
      "\n",
      "State_D17 0.9777090748184423\n",
      "State_D18 0.9966649542228085\n",
      "State_D19 0.9957028234430185\n",
      "State_D20 0.9951843176070181"
     ]
    },
    {
     "name": "stdout",
     "output_type": "stream",
     "text": [
      "\n",
      "\n",
      "γ =  79.477\n"
     ]
    },
    {
     "name": "stdout",
     "output_type": "stream",
     "text": [
      "State_D1 0.977353928977407\n",
      "State_D2 0.9758692829656413\n",
      "State_D3 0.9776323975703405\n",
      "State_D4 0.9767494590043875\n",
      "State_D5 0.9758519637532928"
     ]
    },
    {
     "name": "stdout",
     "output_type": "stream",
     "text": [
      "\n",
      "State_D6 0.9736224749712203\n",
      "State_D7 0.9784059208870722\n",
      "State_D8 0.9720850139577136\n",
      "State_D9 0.975776940289185\n",
      "State_D10 "
     ]
    },
    {
     "name": "stdout",
     "output_type": "stream",
     "text": [
      "0.9765615794560631\n",
      "State_D11 0.972712807798098\n",
      "State_D12 0.9736933485361636\n",
      "State_D13 0.9717922252007377\n",
      "State_D14 "
     ]
    },
    {
     "name": "stdout",
     "output_type": "stream",
     "text": [
      "0.9735470991768537\n",
      "State_D15 0.9744700142645035\n",
      "State_D16 0.9759687872359221\n",
      "State_D17 0.9714383005399903\n",
      "State_D18 0.9776708289867185\n",
      "State_D19 0.9740690851945945"
     ]
    },
    {
     "name": "stdout",
     "output_type": "stream",
     "text": [
      "\n",
      "State_D20 0.973402592895207\n",
      "\n",
      "γ =  251.33\n",
      "State_D1 "
     ]
    },
    {
     "name": "stdout",
     "output_type": "stream",
     "text": [
      "0.9971869998895051\n",
      "State_D2 0.9975225389997803\n",
      "State_D3 0.9969753273237055\n",
      "State_D4 0.9974387432713698\n",
      "State_D5 0.9966836055451347\n",
      "State_D6 0.994652576523633\n",
      "State_D7 "
     ]
    },
    {
     "name": "stdout",
     "output_type": "stream",
     "text": [
      "0.9970766970194005\n",
      "State_D8 0.9938792190818815\n",
      "State_D9 0.996876251143655\n",
      "State_D10 0.9966623089174331\n",
      "State_D11 0.9953415280936826\n",
      "State_D12 0.9969107442959777\n",
      "State_D13 0.9953664579468267\n",
      "State_D14 0.9973263346559695"
     ]
    },
    {
     "name": "stdout",
     "output_type": "stream",
     "text": [
      "\n",
      "State_D15 0.9945690774749687\n",
      "State_D16 0.9966099996650376\n",
      "State_D17 0.9921494750522544\n",
      "State_D18 0.9980707868548735\n",
      "State_D19 0.9964629622086333\n",
      "State_D20 0.9966311375996522\n",
      "\n"
     ]
    },
    {
     "name": "stdout",
     "output_type": "stream",
     "text": [
      "POP_LME_1_full_trn4_tst20_2024-Jan-17_at_11-29.h5\n"
     ]
    }
   ],
   "source": [
    "γ = [ \"0.079477\",  \"0.25133\", \"0.79477\", \"2.5133\", \"7.9477\", \"25.133\", \"79.477\", \"251.33\"]\n",
    "\n",
    "date_and_time_string =  string(Dates.format(now(), \"yyyy-u-dd_at_HH-MM\"))\n",
    "\n",
    "tests_data_file_name = \"POP_LME_1_full_trn4_tst20_\"*date_and_time_string * \".h5\"\n",
    "\n",
    "for γᵢ in γ\n",
    "\n",
    "    println(\"γ =  \"*γᵢ)\n",
    "\n",
    "    poly = g_objective_full(γᵢ)\n",
    "    \n",
    "    sol = local_rand_min(poly)\n",
    "\n",
    "    Hˢⁱᵈ = subs(Hˢʸᵐᵇ, sol)\n",
    "\n",
    "    omega = subs(w, sol)\n",
    "\n",
    "    relaxation = subs(r^2, sol)\n",
    "    #de_phasing = subs(ϕ^2, sol)\n",
    "    #exitation = subs(e^2, sol) \n",
    "    #de_polarisation = subs(p^2, sol)\n",
    "    #omega = subs(w, sol)\n",
    "\n",
    "    J₁ˢⁱᵈ = subs(J₁ˢʸᵐᵇ, sol)\n",
    "    #J₂ˢⁱᵈ = subs(J₂ˢʸᵐᵇ, sol)\n",
    "    #J₃ˢⁱᵈ = subs(J₃ˢʸᵐᵇ, sol) \n",
    "\n",
    "    #J₄ˢⁱᵈ = subs(J₄ˢʸᵐᵇ, sol)\n",
    "    #J₅ˢⁱᵈ = subs(J₅ˢʸᵐᵇ, sol)\n",
    "    #J₆ˢⁱᵈ = subs(J₆ˢʸᵐᵇ, sol)\n",
    "\n",
    "\n",
    "    h5open(tests_dir*tests_data_file_name,\"cw\") do fid\n",
    "        γ_group = create_group(fid, \"gamma_\"*γᵢ) # create coupling group   \n",
    "\n",
    "        γ_group[\"omega\"] = convert(Float64, omega)\n",
    "        γ_group[\"gamma_relaxation\"] = convert(Float64, relaxation)\n",
    "        #γ_group[\"gamma_de_phasing\"] = convert(Float64,  de_phasing)\n",
    "        #γ_group[\"gamma_exitation\"] = convert(Float64,  exitation)\n",
    "        #γ_group[\"gamma_de_polarisation\"] = convert(Float64, de_polarisation)\n",
    "        \n",
    "        γ_group[\"H\"] = convert.(ComplexF64, Hˢⁱᵈ)\n",
    "        γ_group[\"J1\"] = convert.(ComplexF64, J₁ˢⁱᵈ)\n",
    "        #γ_group[\"J2\"] = convert.(ComplexF64, J₂ˢⁱᵈ)\n",
    "        #γ_group[\"J3\"] = convert.(ComplexF64, J₃ˢⁱᵈ)\n",
    "        #γ_group[\"J4\"] = convert.(ComplexF64, J₄ˢⁱᵈ)\n",
    "        #γ_group[\"J5\"] = convert.(ComplexF64, J₅ˢⁱᵈ)\n",
    "        #γ_group[\"J6\"] = convert.(ComplexF64, J₆ˢⁱᵈ)\n",
    "        \n",
    "    end\n",
    "\n",
    "    for df in test_files # loop over initial states\n",
    "        \n",
    "        print(df*\" \")\n",
    "\n",
    "        start_time = time()\n",
    "\n",
    "        ρₛ, tₛ = LiPoSID.get_rho_series(data_dir*df*\"_2CUT_data.h5\", γᵢ)\n",
    "        ρₛ = convert(Vector{Matrix{ComplexF64}}, ρₛ)\n",
    "\n",
    "        ρᵗˢᵗ = [DenseOperator(basis,Hermitian(ρₜ)) for ρₜ in ρₛ]\n",
    "        tᵗˢᵗ = convert(Vector{Float64}, tₛ)\n",
    "\n",
    "        tˢⁱᵈ, ρˢⁱᵈ  = timeevolution.master(tᵗˢᵗ, ρᵗˢᵗ[1], DenseOperator(basis,Hˢⁱᵈ), [DenseOperator(basis,J₁ˢⁱᵈ)])\n",
    "        \n",
    "        Fᴸᴹᴱₑₓ = [abs(fidelity(ρ₁, ρ₂)) for (ρ₁, ρ₂) in zip(ρᵗˢᵗ, ρˢⁱᵈ)]                    \n",
    "\n",
    "        h5open(tests_dir*tests_data_file_name,\"cw\") do fid\n",
    "            γ_group = open_group(fid, \"gamma_\"*γᵢ) # open coupling group\n",
    "\n",
    "            init_state_group = create_group(γ_group, df) # create initial state group\n",
    "            init_state_group[\"Fidelity\"] = convert.(Float64, Fᴸᴹᴱₑₓ)\n",
    "            \n",
    "        end\n",
    "                    \n",
    "        println(minimum(Fᴸᴹᴱₑₓ))\n",
    "    \n",
    "    end\n",
    "\n",
    "    println()\n",
    "end\n",
    "\n",
    "println(tests_data_file_name)"
   ]
  },
  {
   "cell_type": "code",
   "execution_count": null,
   "metadata": {},
   "outputs": [],
   "source": []
  }
 ],
 "metadata": {
  "kernelspec": {
   "display_name": "Julia 1.10.0",
   "language": "julia",
   "name": "julia-1.10"
  },
  "language_info": {
   "file_extension": ".jl",
   "mimetype": "application/julia",
   "name": "julia",
   "version": "1.10.0"
  }
 },
 "nbformat": 4,
 "nbformat_minor": 2
}
