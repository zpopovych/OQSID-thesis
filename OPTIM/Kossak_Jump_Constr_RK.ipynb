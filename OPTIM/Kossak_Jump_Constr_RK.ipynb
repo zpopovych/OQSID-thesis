{
 "cells": [
  {
   "cell_type": "code",
   "execution_count": 1,
   "metadata": {},
   "outputs": [],
   "source": [
    "using JuMP\n",
    "using Ipopt\n",
    "#using NLopt\n",
    "using LinearAlgebra\n",
    "using BlackBoxOptim\n",
    "\n",
    "#using Optim\n",
    "using HDF5"
   ]
  },
  {
   "cell_type": "code",
   "execution_count": 2,
   "metadata": {},
   "outputs": [
    {
     "data": {
      "text/plain": [
       "read_timeevolution (generic function with 1 method)"
      ]
     },
     "metadata": {},
     "output_type": "display_data"
    }
   ],
   "source": [
    "function read_timeevolution(file_name, state, γ)\n",
    "    h5open(file_name, \"r\") do file\n",
    "        ρᵧ = read(file[state][string(γ)])\n",
    "        t = ρᵧ[\"t\"]\n",
    "        ρ₀₀ = ρᵧ[\"p0\"]; Re_ρ₀₁ = ρᵧ[\"s_re\"];  Im_ρ₀₁ = ρᵧ[\"s_im\"]\n",
    "        ρ_series = []\n",
    "        t_series = []\n",
    "\n",
    "        for i in 1:length(t)\n",
    "            ρᵢ= [ ρ₀₀[i]                      Re_ρ₀₁[i] + im * Im_ρ₀₁[i]\n",
    "                  Re_ρ₀₁[i] - im * Im_ρ₀₁[i]  1 - ρ₀₀[i]                 ]\n",
    "            push!(ρ_series, convert(Matrix{ComplexF64}, ρᵢ))\n",
    "            push!(t_series, convert(Float64, t[i]))\n",
    "        end\n",
    "        return(t_series, ρ_series)\n",
    "    end\n",
    "end"
   ]
  },
  {
   "cell_type": "markdown",
   "metadata": {},
   "source": [
    "Fidelity for qubit can be written:\n",
    "\n",
    "$F(\\rho, \\sigma) = \\operatorname{tr}(\\rho \\sigma) + 2\\sqrt{\\det(\\rho) \\det(\\sigma)}$"
   ]
  },
  {
   "cell_type": "code",
   "execution_count": 3,
   "metadata": {},
   "outputs": [
    {
     "data": {
      "text/plain": [
       "infidelity_norm (generic function with 1 method)"
      ]
     },
     "metadata": {},
     "output_type": "display_data"
    }
   ],
   "source": [
    "function infidelity_norm(ρ, σ)\n",
    "    abs(1 - real(tr(ρ * σ)) - 2*sqrt(abs(det(ρ)*det(σ))))#^2\n",
    "end"
   ]
  },
  {
   "cell_type": "code",
   "execution_count": 4,
   "metadata": {},
   "outputs": [
    {
     "data": {
      "text/plain": [
       "Dc (generic function with 1 method)"
      ]
     },
     "metadata": {},
     "output_type": "display_data"
    }
   ],
   "source": [
    "# Define the Pauli matrices\n",
    "σˣ = [0 1; 1 0]\n",
    "σʸ = [0 im; -im 0]\n",
    "σᶻ = [1 0; 0 -1]\n",
    "\n",
    "# Define the basis elements\n",
    "fᴷ₁ = σˣ / 2\n",
    "fᴷ₂ = σʸ / 2\n",
    "fᴷ₃ = σᶻ / 2\n",
    "\n",
    "# Check orthogonality and normalization\n",
    "@assert tr(fᴷ₁ * fᴷ₂) ≈ 0\n",
    "@assert tr(fᴷ₁ * fᴷ₃) ≈ 0\n",
    "@assert tr(fᴷ₂ * fᴷ₃) ≈ 0\n",
    "@assert tr(fᴷ₁ * fᴷ₁) ≈ 1 / 2\n",
    "@assert tr(fᴷ₂ * fᴷ₂) ≈ 1 / 2\n",
    "@assert tr(fᴷ₃ * fᴷ₃) ≈ 1 / 2\n",
    "\n",
    "fᴼᴺᴮ = [fᴷ₁, fᴷ₂, fᴷ₃]\n",
    "\n",
    "# Function to calculate Dc\n",
    "function Dc(ρ, t, H, C)\n",
    "    U = (H * ρ - ρ * H) / im\n",
    "    D = sum(C .* [2 * fᵢ * ρ * fⱼ' - ρ * fⱼ' * fᵢ - fⱼ' * fᵢ * ρ for fᵢ in fᴼᴺᴮ, fⱼ in fᴼᴺᴮ]) / 2\n",
    "    return U + D\n",
    "end"
   ]
  },
  {
   "cell_type": "markdown",
   "metadata": {},
   "source": [
    "### Kossakowski objective for two-level system\n",
    "\n",
    "A linear operator $L: M(2) \\rightarrow M(2)$ is the generator of a dynamical semigroup $t \\rightarrow \\Lambda_t$ of $M(2)$ iff it can be written in the form:\n",
    "\n",
    "$L = -i[H,\\rho] + \\frac{1}{2} \\sum_{i,j}^3 C_{ij} \\{[f_i, \\rho f_j] + [f_i\\rho, f_j]\\}, \\quad \\rho \\in M(2)$\n",
    "\n",
    "where\n",
    "\n",
    "(i) $H = \\sum_1^3 h_i f_i, \\quad h_i \\in \\R$\n",
    "\n",
    "(ii) $f_i f_j = \\frac{1}{4}\\delta_{ij}I  +\\frac{i}{2} \\sum_{k=1}^3 \\epsilon_{ijk} f_k$ which means:\n",
    "\n",
    "$ \\operatorname{tr}(f_i f_j)=\\frac{1}{2}\\delta_{ij}, \\quad \\operatorname{tr}(f_i) = 0$\n",
    "\n",
    "\n",
    "(iii) $\\{C_{ij}\\}= \\begin{pmatrix} \n",
    "\\gamma - 2\\gamma_1    & - i a_3            &  i a_2 \\\\\n",
    "i a_3                 & \\gamma - 2\\gamma_2 & -i a_1 \\\\\n",
    "-i a_2                & i a_1              & \\gamma - 2\\gamma_3 \n",
    "\\end{pmatrix} =$\n",
    "\n",
    "$=\\begin{pmatrix} \n",
    "-\\gamma_1 + \\gamma_2 + \\gamma_3   & - i a_3   &  i a_2 \\\\\n",
    "i a_3                 & \\gamma_1 - \\gamma_2 + \\gamma_3 & -i a_1 \\\\\n",
    "-i a_2                & i a_1      & \\gamma_1 + \\gamma_2 - \\gamma_3 \n",
    "\\end{pmatrix}$"
   ]
  },
  {
   "cell_type": "code",
   "execution_count": 6,
   "metadata": {},
   "outputs": [
    {
     "data": {
      "text/latex": [
       "$$ ((((-1.0 * γ[1] + γ[2] + γ[3]) * (γ[1] + -1.0 * γ[2] + γ[3]) * (γ[1] + γ[2] + -1.0 * γ[3]) - (-1.0 * γ[1] + γ[2] + γ[3]) * a[1] ^ {2.0}) - (γ[1] + -1.0 * γ[2] + γ[3]) * a[2] ^ {2.0}) - (γ[1] + γ[2] + -1.0 * γ[3]) * a[3] ^ {2.0}) - 0.0 \\geq 0 $$"
      ],
      "text/plain": [
       "((((-1.0 * γ[1] + γ[2] + γ[3]) * (γ[1] + -1.0 * γ[2] + γ[3]) * (γ[1] + γ[2] + -1.0 * γ[3]) - (-1.0 * γ[1] + γ[2] + γ[3]) * a[1] ^ 2.0) - (γ[1] + -1.0 * γ[2] + γ[3]) * a[2] ^ 2.0) - (γ[1] + γ[2] + -1.0 * γ[3]) * a[3] ^ 2.0) - 0.0 ≥ 0"
      ]
     },
     "metadata": {},
     "output_type": "display_data"
    }
   ],
   "source": [
    "# Define functions to construct H and C from parameters\n",
    "function construct_H(ϵ, h_Re, h_Im)\n",
    "    return [\n",
    "             ϵ                     h_Re + im * h_Im\n",
    "             h_Re - im * h_Im     -ϵ\n",
    "           ] / 2\n",
    "end\n",
    "\n",
    "function construct_C(γ, a)\n",
    "    return [\n",
    "        -γ[1] + γ[2] + γ[3]  -im * a[3]            im * a[2]\n",
    "        im * a[3]            γ[1] - γ[2] + γ[3]   -im * a[1]\n",
    "        -im * a[2]           im * a[1]             γ[1] + γ[2] - γ[3]\n",
    "    ]\n",
    "end\n",
    "\n",
    "# JuMP model setup\n",
    "model = Model(Ipopt.Optimizer)\n",
    "\n",
    "# Set options for higher precision\n",
    "set_optimizer_attribute(model, \"tol\", 1e-9)  # Convergence tolerance\n",
    "set_optimizer_attribute(model, \"acceptable_tol\", 1e-9)  # Acceptable tolerance\n",
    "set_optimizer_attribute(model, \"constr_viol_tol\", 1e-10)  # Constraint violation tolerance\n",
    "set_optimizer_attribute(model, \"compl_inf_tol\", 1e-10)  # Complementarity tolerance\n",
    "set_optimizer_attribute(model, \"dual_inf_tol\", 1e-10)  # Dual infeasibility tolerance\n",
    "\n",
    "\n",
    "#model = Model(optimizer_with_attributes(NLopt.Optimizer, \"algorithm\" => :LD_SLSQP )) #:AUGLAG :LD_SLSQP :LD_MMA\n",
    "\n",
    "# Define variables in JuMP\n",
    "@variable(model, ϵ)\n",
    "@variable(model, h_Re)\n",
    "@variable(model, h_Im)\n",
    "@variable(model, γ[1:3])\n",
    "@variable(model, a[1:3])\n",
    "\n",
    "# Define κ terms in JuMP\n",
    "@expression(model, κ₁, -γ[1] + γ[2] + γ[3])\n",
    "@expression(model, κ₂, γ[1] - γ[2] + γ[3])\n",
    "@expression(model, κ₃, γ[1] + γ[2] - γ[3])\n",
    "\n",
    "# Define the real and imaginary parts of Cˢʸᵐᵇ matrix in JuMP\n",
    "@variable(model, C_Re[1:3, 1:3])\n",
    "@variable(model, C_Im[1:3, 1:3])\n",
    "\n",
    "# Define constraints for real and imaginary parts separately\n",
    "@constraint(model, C_Re[1, 1] == κ₁)\n",
    "@constraint(model, C_Re[1, 2] == 0)\n",
    "@constraint(model, C_Re[1, 3] == 0)\n",
    "@constraint(model, C_Re[2, 1] == 0)\n",
    "@constraint(model, C_Re[2, 2] == κ₂)\n",
    "@constraint(model, C_Re[2, 3] == 0)\n",
    "@constraint(model, C_Re[3, 1] == 0)\n",
    "@constraint(model, C_Re[3, 2] == 0)\n",
    "@constraint(model, C_Re[3, 3] == κ₃)\n",
    "\n",
    "@constraint(model, C_Im[1, 1] == 0)\n",
    "@constraint(model, C_Im[1, 2] == -a[3])\n",
    "@constraint(model, C_Im[1, 3] == a[2])\n",
    "@constraint(model, C_Im[2, 1] == a[3])\n",
    "@constraint(model, C_Im[2, 2] == 0)\n",
    "@constraint(model, C_Im[2, 3] == -a[1])\n",
    "@constraint(model, C_Im[3, 1] == -a[2])\n",
    "@constraint(model, C_Im[3, 2] == a[1])\n",
    "@constraint(model, C_Im[3, 3] == 0)\n",
    "\n",
    "# Define constraints in JuMP\n",
    "@constraint(model, ϵ >= 0)\n",
    "@constraint(model, γ[1] >= 0)\n",
    "@constraint(model, γ[2] >= 0)\n",
    "@constraint(model, γ[3] >= 0)\n",
    "@constraint(model, κ₁ + κ₂ + κ₃ >= 0)\n",
    "@constraint(model, κ₁ >= 0)\n",
    "@constraint(model, κ₂ >= 0)\n",
    "@constraint(model, κ₃ >= 0)\n",
    "@NLconstraint(model, κ₁ * κ₂ + κ₃ * κ₁ + κ₂ * κ₃ - a[1]^2 - a[2]^2 - a[3]^2 >= 0)\n",
    "@NLconstraint(model, κ₁ * κ₂ * κ₃ - κ₁ * a[1]^2 - κ₂ * a[2]^2 - κ₃ * a[3]^2 >= 0)\n",
    "\n",
    "\n"
   ]
  },
  {
   "cell_type": "code",
   "execution_count": 7,
   "metadata": {},
   "outputs": [
    {
     "data": {
      "text/plain": [
       "kossak_obj (generic function with 1 method)"
      ]
     },
     "metadata": {},
     "output_type": "display_data"
    }
   ],
   "source": [
    "# Define the objective function for optimization using RK4\n",
    "function kossak_obj(ϵ, h_Re, h_Im, γ, a, ρ, t)\n",
    "    H = construct_H(ϵ, h_Re, h_Im)\n",
    "    C = construct_C(γ, a)\n",
    "\n",
    "    # Define the Runge-Kutta 4th order method as an inner function\n",
    "    function Dc_rk4(ρ, t, H, C, h)\n",
    "        k1 = Dc(ρ, t, H, C)\n",
    "        k2 = Dc(ρ + 0.5 * h * k1, t + 0.5 * h, H, C)\n",
    "        k3 = Dc(ρ + 0.5 * h * k2, t + 0.5 * h, H, C)\n",
    "        k4 = Dc(ρ + h * k3, t + h, H, C)\n",
    "        return (k1 + 2*k2 + 2*k3 + k4) / 6\n",
    "    end\n",
    "\n",
    "    obj = 0.0\n",
    "    for i in 2:length(ρ)\n",
    "        ρ1 = ρ[i]\n",
    "        h = t[i] - t[i - 1]\n",
    "        ρ2 = ρ[i - 1] + h * Dc_rk4(ρ[i - 1], t[i - 1], H, C, h)\n",
    "        obj += infidelity_norm(ρ1, ρ2)\n",
    "    end\n",
    "    return obj\n",
    "end\n"
   ]
  },
  {
   "cell_type": "code",
   "execution_count": 8,
   "metadata": {},
   "outputs": [],
   "source": [
    "# Objective function\n",
    "\n",
    "function kossak_obj_old(ϵ, h_Re, h_Im, γ, a, ρ, t)\n",
    "    H = construct_H(ϵ, h_Re, h_Im)\n",
    "    C = construct_C(γ, a)\n",
    "    obj = 0.0\n",
    "    for i in 3:length(ρ)\n",
    "        ρ1 = ρ[i]\n",
    "        ρ2 = ρ[i - 2] + (t[i] - t[i - 1]) * (Dc(ρ[i], t[i], H, C) - 4 * Dc(ρ[i - 1], t[i - 1], H, C) + Dc(ρ[i - 2], t[i - 2], H, C)) / 3\n",
    "        obj += infidelity_norm(ρ1,ρ2)\n",
    "    end\n",
    "    return obj\n",
    "end\n",
    "\n",
    "# Define the objective function wrapper\n",
    "function objectiveGEXY(ϵ, h_Re, h_Im, γ1, γ2, γ3, a1, a2, a3)\n",
    "    γ = [γ1, γ2, γ3]\n",
    "    a = [a1, a2, a3]\n",
    "    objGEXY = kossak_obj(ϵ, h_Re, h_Im, γ, a, ρᵍ, tᵍ) + \n",
    "              kossak_obj(ϵ, h_Re, h_Im, γ, a, ρᵉ, tᵉ) + \n",
    "              kossak_obj(ϵ, h_Re, h_Im, γ, a, ρˣ, tˣ) + \n",
    "              kossak_obj(ϵ, h_Re, h_Im, γ, a, ρʸ, tʸ)\n",
    "    return objGEXY\n",
    "end\n",
    "\n",
    "\n",
    "# Register the objective function with JuMP\n",
    "register(model, :objectiveGEXY, 9, objectiveGEXY, autodiff = true)\n"
   ]
  },
  {
   "cell_type": "code",
   "execution_count": 9,
   "metadata": {},
   "outputs": [],
   "source": [
    "# Define the density matrix evolution and time points\n",
    "\n",
    "file_name = \"../DATA/ALL_GAMMAS_B4_D10.h5\"\n",
    "\n",
    "#γ = [ \"0.079477\",  \"0.25133\", \"0.79477\", \"2.5133\", \"7.9477\", \"25.133\", \"79.477\", \"251.33\"]\n",
    "\n",
    "γᵢ = \"0.25133\"\n",
    "γᶠ = parse(ComplexF64, γᵢ)\n",
    "\n",
    "tᵍ, ρᵍ = read_timeevolution(file_name, \"B1\", γᵢ)\n",
    "tᵉ, ρᵉ = read_timeevolution(file_name, \"B2\", γᵢ)\n",
    "tˣ, ρˣ = read_timeevolution(file_name, \"B3\", γᵢ)\n",
    "tʸ, ρʸ = read_timeevolution(file_name, \"B4\", γᵢ);"
   ]
  },
  {
   "cell_type": "code",
   "execution_count": 10,
   "metadata": {},
   "outputs": [],
   "source": [
    "# Define the objective function in JuMP\n",
    "@NLobjective(model, Min, objectiveGEXY(ϵ, h_Re, h_Im, γ[1], γ[2], γ[3], a[1], a[2], a[3]))\n",
    "\n",
    "# Optimize the model\n",
    "JuMP.optimize!(model)"
   ]
  },
  {
   "cell_type": "code",
   "execution_count": 9,
   "metadata": {},
   "outputs": [
    {
     "data": {
      "text/plain": [
       "3×3 Matrix{ComplexF64}:\n",
       " 0.00131002+0.0im                0.0-0.00179616im         0.0+1.7925e-5im\n",
       "        0.0+0.00179616im  0.00241541+0.0im               -0.0+2.75528e-5im\n",
       "        0.0-1.7925e-5im         -0.0-2.75528e-5im  1.69275e-5+0.0im"
      ]
     },
     "metadata": {},
     "output_type": "display_data"
    }
   ],
   "source": [
    "# Get the optimized parameters\n",
    "optimized_ϵ = value(ϵ)\n",
    "optimized_h_Re = value(h_Re)\n",
    "optimized_h_Im = value(h_Im)\n",
    "optimized_γ = value.(γ)\n",
    "optimized_a = value.(a)\n",
    "\n",
    "# Substitute the optimized parameters back into H and C\n",
    "optimized_H = construct_H(optimized_ϵ, optimized_h_Re, optimized_h_Im)\n",
    "optimized_C = construct_C(optimized_γ, optimized_a)"
   ]
  },
  {
   "cell_type": "code",
   "execution_count": 10,
   "metadata": {},
   "outputs": [
    {
     "data": {
      "text/plain": [
       "2×2 Matrix{ComplexF64}:\n",
       " -2.17442e-13+0.0im           8.07444e-5-0.000239661im\n",
       "   8.07444e-5+0.000239661im  2.17442e-13+0.0im"
      ]
     },
     "metadata": {},
     "output_type": "display_data"
    }
   ],
   "source": [
    "optimized_H"
   ]
  },
  {
   "cell_type": "code",
   "execution_count": 26,
   "metadata": {},
   "outputs": [
    {
     "data": {
      "text/plain": [
       "get_lindblad_operators (generic function with 1 method)"
      ]
     },
     "metadata": {},
     "output_type": "display_data"
    }
   ],
   "source": [
    "function get_lindblad_operators(C::Matrix{ComplexF64}, basis_ops::Vector{Matrix{ComplexF64}})\n",
    "    # Check that C is a square matrix and basis_ops has the same dimension\n",
    "    n = size(C, 1)\n",
    "    if size(C, 2) != n || length(basis_ops) != n\n",
    "        throw(ArgumentError(\"Dimensions of C and basis_ops do not match\"))\n",
    "    end\n",
    "\n",
    "    # Perform eigenvalue decomposition of C\n",
    "    eigvals, eigvecs = eigen(C)\n",
    "\n",
    "    # Construct the Lindblad operators\n",
    "    lindblad_ops = []\n",
    "    for i in 1:n\n",
    "        if eigvals[i] > 1e-10  # Filter out negligible eigenvalues to ensure numerical stability\n",
    "            lindblad_op = zeros(ComplexF64, size(basis_ops[1]))\n",
    "            for j in 1:n\n",
    "                lindblad_op .+= sqrt(eigvals[i]) * eigvecs[j, i] * basis_ops[j]\n",
    "            end\n",
    "            push!(lindblad_ops, lindblad_op)\n",
    "        end\n",
    "    end\n",
    "\n",
    "    return lindblad_ops\n",
    "end"
   ]
  },
  {
   "cell_type": "code",
   "execution_count": 27,
   "metadata": {},
   "outputs": [
    {
     "data": {
      "text/plain": [
       "2-element Vector{Any}:\n",
       " ComplexF64[0.01837934870398452 + 0.0im -0.0036634172925965633 + 0.008969337099264502im; -0.009549260695663276 - 0.005338428187444248im -0.01837934870398452 + 0.0im]\n",
       " ComplexF64[0.012326227270335577 + 0.0im -0.007526236857586301 - 0.0017856474201574622im; 0.03376957992542453 + 0.02663278473166229im -0.012326227270335577 + 0.0im]"
      ]
     },
     "metadata": {},
     "output_type": "display_data"
    }
   ],
   "source": [
    "Hˢⁱᵈ = convert.(ComplexF64,optimized_H)\n",
    "Cˢⁱᵈ = convert.(ComplexF64,optimized_C)\n",
    "\n",
    "effective_Lindblad = get_lindblad_operators(Cˢⁱᵈ, fᴼᴺᴮ)"
   ]
  },
  {
   "cell_type": "code",
   "execution_count": 28,
   "metadata": {},
   "outputs": [],
   "source": [
    "ρᵍ₀ = [ 1 0.\n",
    "        0 0 ]    # state to measure initial distance from\n",
    "\n",
    "dodeca_10_states = [\"D\"*string(n) for n=1:10];\n",
    "\n",
    "basis_states = [\"B\"*string(n) for n=1:4];\n",
    "\n",
    "train_states = basis_states \n",
    "test_states = dodeca_10_states;"
   ]
  },
  {
   "cell_type": "code",
   "execution_count": 29,
   "metadata": {},
   "outputs": [
    {
     "name": "stderr",
     "output_type": "stream",
     "text": [
      "WARNING: replacing module LiPoSID.\n"
     ]
    }
   ],
   "source": [
    "using QuantumOptics\n",
    "basis = NLevelBasis(2)\n",
    "\n",
    "include(\"../LiPoSID.jl\")\n",
    "\n",
    "using Statistics"
   ]
  },
  {
   "cell_type": "code",
   "execution_count": 30,
   "metadata": {},
   "outputs": [
    {
     "name": "stdout",
     "output_type": "stream",
     "text": [
      "D1 D2 D3 D4 D5 D6 D7 D8 D9 D10 \n",
      "Mimimal fidelity for 0.25133: 0.13288614450649827\n",
      "Median fidelity for 0.25133: 0.7668635472557752\n"
     ]
    }
   ],
   "source": [
    "FminStates = []\n",
    "FmedianStates = []\n",
    "FmeanStates = []\n",
    "\n",
    "for state in test_states # loop over initial states\n",
    "    \n",
    "    print(state*\" \")\n",
    "\n",
    "    start_time = time()\n",
    "\n",
    "    tₛ, ρₛ = read_timeevolution(file_name, state, γᵢ)\n",
    "    ρₛ = convert(Vector{Matrix{ComplexF64}}, ρₛ)\n",
    "    #bᵗˢᵗ = LiPoSID.bloch(ρₛ)\n",
    "    ρᵗˢᵗ = [DenseOperator(basis,Hermitian(ρₜ)) for ρₜ in ρₛ]\n",
    "    tᵗˢᵗ = convert.(Float64, tₛ)\n",
    "\n",
    "    #Simulated LME \n",
    "    #tˢⁱᵐ, ρˢⁱᵐ  = timeevolution.master(tᵗˢᵗ, ρᵗˢᵗ[1], DenseOperator(basis, Hˢⁱᵈ), [Jˢⁱᵐ])\n",
    "    #bˢⁱᵐ = LiPoSID.bloch([ρᵢ.data for ρᵢ in ρˢⁱᵐ])\n",
    "\n",
    "    ρₒ = DenseOperator(basis,ρₛ[1])\n",
    "    dt = tᵗˢᵗ[2] - tᵗˢᵗ[1]\n",
    "    tᵉⁿᵈ = tᵗˢᵗ[end]\n",
    "\n",
    "    #print(\"effective_Lindblad_ops for Kossakowski\")\n",
    "\n",
    "    \n",
    "    effective_Lindblad_ops = [DenseOperator(basis,j) for j in effective_Lindblad]\n",
    "\n",
    "    #print(\"Simulating Kossakowski\")\n",
    "\n",
    "    tout, ρ_t_kossak = timeevolution.master(tᵗˢᵗ, ρₒ, DenseOperator(basis, Hˢⁱᵈ), effective_Lindblad_ops)\n",
    "    ρˢⁱᵈ  = [ρₜ.data for ρₜ in ρ_t_kossak]\n",
    "\n",
    "    #print(\"Calculating Fidelity\")\n",
    "\n",
    "    #F = LiPoSID.fidelity_series(basis, [ρₜ.data for ρₜ in ρˢⁱᵐ], ρˢⁱᵈ)\n",
    "    F = LiPoSID.fidelity_series(basis, ρₛ, ρˢⁱᵈ)\n",
    "    \n",
    "    FminState = minimum(F)\n",
    "    FmedianState = median(F)\n",
    "    FmeanState = mean(F)\n",
    "    \n",
    "    push!(FminStates, FminState)\n",
    "    push!(FmedianStates, FmedianState)\n",
    "    push!(FmeanStates, FmeanState)\n",
    "\n",
    "end\n",
    "\n",
    "# Calculate the mean\n",
    "F_mean_value = mean(FmeanStates)\n",
    "\n",
    "# Calculate the median\n",
    "F_median_value = median(FmedianStates)\n",
    "\n",
    "# Calculate the min\n",
    "F_min_value = minimum(FminStates)\n",
    "\n",
    "println()\n",
    "println(\"Mimimal fidelity for \"*γᵢ*\": \", F_min_value)\n",
    "println(\"Median fidelity for \"*γᵢ*\": \", F_median_value)"
   ]
  },
  {
   "cell_type": "markdown",
   "metadata": {},
   "source": [
    "D1 D2 D3 D4 D5 D6 D7 D8 D9 D10 \n",
    "\n",
    "Mimimal fidelity for 0.25133: 0.9995188642141652\n",
    "\n",
    "Median fidelity for 0.25133: 0.9999049135214064"
   ]
  }
 ],
 "metadata": {
  "kernelspec": {
   "display_name": "Julia 1.7.3",
   "language": "julia",
   "name": "julia-1.7"
  },
  "language_info": {
   "file_extension": ".jl",
   "mimetype": "application/julia",
   "name": "julia",
   "version": "1.7.3"
  }
 },
 "nbformat": 4,
 "nbformat_minor": 2
}
