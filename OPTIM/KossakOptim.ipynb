{
 "cells": [
  {
   "cell_type": "code",
   "execution_count": 5,
   "metadata": {},
   "outputs": [],
   "source": [
    "using LinearAlgebra\n",
    "using Optim\n",
    "using HDF5"
   ]
  },
  {
   "cell_type": "code",
   "execution_count": 6,
   "metadata": {},
   "outputs": [
    {
     "data": {
      "text/plain": [
       "kossak_obj (generic function with 1 method)"
      ]
     },
     "metadata": {},
     "output_type": "display_data"
    }
   ],
   "source": [
    "function read_timeevolution(file_name, state, γ)\n",
    "    h5open(file_name, \"r\") do file\n",
    "        ρᵧ = read(file[state][string(γ)])\n",
    "        t = ρᵧ[\"t\"]\n",
    "        ρ₀₀ = ρᵧ[\"p0\"]; Re_ρ₀₁ = ρᵧ[\"s_re\"];  Im_ρ₀₁ = ρᵧ[\"s_im\"]\n",
    "        ρ_series = []\n",
    "        t_series = []\n",
    "\n",
    "        for i in 1:length(t)\n",
    "            ρᵢ= [ ρ₀₀[i]                      Re_ρ₀₁[i] + im * Im_ρ₀₁[i]\n",
    "                  Re_ρ₀₁[i] - im * Im_ρ₀₁[i]  1 - ρ₀₀[i]                 ]\n",
    "            push!(ρ_series, convert(Matrix{ComplexF64}, ρᵢ))\n",
    "            push!(t_series, convert(Float64, t[i]))\n",
    "        end\n",
    "        return(t_series, ρ_series)\n",
    "    end\n",
    "end\n",
    "\n",
    "# Define the Pauli matrices\n",
    "σˣ = [0 1; 1 0]\n",
    "σʸ = [0 im; -im 0]\n",
    "σᶻ = [1 0; 0 -1]\n",
    "\n",
    "# Define the basis elements\n",
    "fᴷ₁ = σˣ / 2\n",
    "fᴷ₂ = σʸ / 2\n",
    "fᴷ₃ = σᶻ / 2\n",
    "\n",
    "# Check orthogonality and normalization\n",
    "@assert tr(fᴷ₁ * fᴷ₂) ≈ 0\n",
    "@assert tr(fᴷ₁ * fᴷ₃) ≈ 0\n",
    "@assert tr(fᴷ₂ * fᴷ₃) ≈ 0\n",
    "@assert tr(fᴷ₁ * fᴷ₁) ≈ 1 / 2\n",
    "@assert tr(fᴷ₂ * fᴷ₂) ≈ 1 / 2\n",
    "@assert tr(fᴷ₃ * fᴷ₃) ≈ 1 / 2\n",
    "\n",
    "fᴼᴺᴮ = [fᴷ₁, fᴷ₂, fᴷ₃]\n",
    "\n",
    "# Function to calculate Dc\n",
    "function Dc(ρ, t, H, C)\n",
    "    U = (H * ρ - ρ * H) / im\n",
    "    D = sum(C .* [2 * fᵢ * ρ * fⱼ' - ρ * fⱼ' * fᵢ - fⱼ' * fᵢ * ρ for fᵢ in fᴼᴺᴮ, fⱼ in fᴼᴺᴮ]) / 2\n",
    "    return U + D\n",
    "end\n",
    "\n",
    "# Define the objective function for optimization\n",
    "function kossak_obj(params, ρ, t)\n",
    "    ϵ, h_Re, h_Im = params[1:3]\n",
    "    γ = params[4:6]\n",
    "    a = params[7:9]\n",
    "    \n",
    "    H = [\n",
    "        ϵ               h_Re + im * h_Im\n",
    "        h_Re - im * h_Im -ϵ\n",
    "    ] / 2\n",
    "\n",
    "    C = [\n",
    "        -γ[1] + γ[2] + γ[3]  -im * a[3]            im * a[2]\n",
    "        im * a[3]            γ[1] - γ[2] + γ[3]   -im * a[1]\n",
    "        -im * a[2]           im * a[1]             γ[1] + γ[2] - γ[3]\n",
    "    ]\n",
    "\n",
    "    obj = 0.0\n",
    "    for i in 3:length(ρ)\n",
    "        ρ1 = ρ[i]\n",
    "        ρ2 = ρ[i - 2] + (t[i] - t[i - 1]) * (Dc(ρ[i], t[i], H, C) - 4 * Dc(ρ[i - 1], t[i - 1], H, C) + Dc(ρ[i - 2], t[i - 2], H, C)) / 3\n",
    "        obj += norm(ρ1 - ρ2)^2\n",
    "    end\n",
    "    return obj\n",
    "end"
   ]
  },
  {
   "cell_type": "code",
   "execution_count": 8,
   "metadata": {},
   "outputs": [
    {
     "ename": "ErrorException",
     "evalue": "unable to determine if ../DATA/ALL_GAMMAS_B4_D10.h5 is accessible in the HDF5 format (file may not exist)",
     "output_type": "error",
     "traceback": [
      "unable to determine if ../DATA/ALL_GAMMAS_B4_D10.h5 is accessible in the HDF5 format (file may not exist)\n",
      "\n",
      "Stacktrace:\n",
      " [1] error(s::String)\n",
      "   @ Base ./error.jl:35\n",
      " [2] h5open(filename::String, mode::String, fapl::HDF5.FileAccessProperties, fcpl::HDF5.FileCreateProperties; swmr::Bool)\n",
      "   @ HDF5 ~/.julia/packages/HDF5/Ws1wH/src/file.jl:48\n",
      " [3] h5open\n",
      "   @ ~/.julia/packages/HDF5/Ws1wH/src/file.jl:20 [inlined]\n",
      " [4] h5open(filename::String, mode::String; swmr::Bool, fapl::HDF5.FileAccessProperties, fcpl::HDF5.FileCreateProperties, pv::@Kwargs{})\n",
      "   @ HDF5 ~/.julia/packages/HDF5/Ws1wH/src/file.jl:75\n",
      " [5] h5open(filename::String, mode::String)\n",
      "   @ HDF5 ~/.julia/packages/HDF5/Ws1wH/src/file.jl:63\n",
      " [6] #h5open#16\n",
      "   @ ~/.julia/packages/HDF5/Ws1wH/src/file.jl:95 [inlined]\n",
      " [7] h5open\n",
      "   @ ~/.julia/packages/HDF5/Ws1wH/src/file.jl:94 [inlined]\n",
      " [8] read_timeevolution(file_name::String, state::String, γ::String)\n",
      "   @ Main ./jl_notebook_cell_df34fa98e69747e1a8f8a730347b8e2f_W2sdW50aXRsZWQ=.jl:2\n",
      " [9] top-level scope\n",
      "   @ jl_notebook_cell_df34fa98e69747e1a8f8a730347b8e2f_W5sdW50aXRsZWQ=.jl:12"
     ]
    }
   ],
   "source": [
    "# Define the density matrix evolution and time points\n",
    "\n",
    "file_name = \"../DATA/ALL_GAMMAS_B4_D10.h5\"\n",
    "\n",
    "#γ = [ \"0.079477\",  \"0.25133\", \"0.79477\", \"2.5133\", \"7.9477\", \"25.133\", \"79.477\", \"251.33\"]\n",
    "\n",
    "γ = \"0.25133\"\n",
    "γᶠ = parse(ComplexF64, γ)\n",
    "\n",
    "#tᵍ, ρᵍ = read_timeevolution(file_name, \"B1\", γ)\n",
    "#tᵉ, ρᵉ = read_timeevolution(file_name, \"B2\", γ)\n",
    "tˣ, ρˣ = read_timeevolution(file_name, \"B3\", γ)"
   ]
  },
  {
   "cell_type": "code",
   "execution_count": 7,
   "metadata": {},
   "outputs": [
    {
     "ename": "ErrorException",
     "evalue": "unable to determine if ../DATA/ALL_GAMMAS_B4_D10.h5 is accessible in the HDF5 format (file may not exist)",
     "output_type": "error",
     "traceback": [
      "unable to determine if ../DATA/ALL_GAMMAS_B4_D10.h5 is accessible in the HDF5 format (file may not exist)\n",
      "\n",
      "Stacktrace:\n",
      " [1] error(s::String)\n",
      "   @ Base ./error.jl:35\n",
      " [2] h5open(filename::String, mode::String, fapl::HDF5.FileAccessProperties, fcpl::HDF5.FileCreateProperties; swmr::Bool)\n",
      "   @ HDF5 ~/.julia/packages/HDF5/Ws1wH/src/file.jl:48\n",
      " [3] h5open\n",
      "   @ ~/.julia/packages/HDF5/Ws1wH/src/file.jl:20 [inlined]\n",
      " [4] h5open(filename::String, mode::String; swmr::Bool, fapl::HDF5.FileAccessProperties, fcpl::HDF5.FileCreateProperties, pv::@Kwargs{})\n",
      "   @ HDF5 ~/.julia/packages/HDF5/Ws1wH/src/file.jl:75\n",
      " [5] h5open(filename::String, mode::String)\n",
      "   @ HDF5 ~/.julia/packages/HDF5/Ws1wH/src/file.jl:63\n",
      " [6] #h5open#16\n",
      "   @ ~/.julia/packages/HDF5/Ws1wH/src/file.jl:95 [inlined]\n",
      " [7] h5open\n",
      "   @ ~/.julia/packages/HDF5/Ws1wH/src/file.jl:94 [inlined]\n",
      " [8] read_timeevolution(file_name::String, state::String, γ::String)\n",
      "   @ Main ./jl_notebook_cell_df34fa98e69747e1a8f8a730347b8e2f_W2sdW50aXRsZWQ=.jl:2\n",
      " [9] top-level scope\n",
      "   @ jl_notebook_cell_df34fa98e69747e1a8f8a730347b8e2f_W4sdW50aXRsZWQ=.jl:15"
     ]
    }
   ],
   "source": [
    "# Define initial parameters\n",
    "initial_params = [0.0, 0.0, 0.0, 0.0, 0.0, 0.0, 0.0, 0.0, 0.0]  # Replace with actual initial values\n",
    "\n",
    "\n",
    "\n",
    "\n",
    "# Define the objective function wrapper\n",
    "function objective(params)\n",
    "    return kossak_obj_infid_constrs(params, ρˣ, tˣ)\n",
    "end\n",
    "\n",
    "# Perform the optimization\n",
    "result = optimize(objective, initial_params, BFGS())\n",
    "\n",
    "# Extract optimized parameters\n",
    "optimized_params = result.minimizer\n",
    "\n",
    "println(\"Optimized parameters: \", optimized_params)"
   ]
  }
 ],
 "metadata": {
  "kernelspec": {
   "display_name": "Julia 1.10.2",
   "language": "julia",
   "name": "julia-1.10"
  },
  "language_info": {
   "file_extension": ".jl",
   "mimetype": "application/julia",
   "name": "julia",
   "version": "1.10.2"
  }
 },
 "nbformat": 4,
 "nbformat_minor": 2
}
