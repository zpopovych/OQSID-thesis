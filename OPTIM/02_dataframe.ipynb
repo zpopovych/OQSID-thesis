{
 "cells": [
  {
   "cell_type": "code",
   "execution_count": 1,
   "id": "2b97bc7f",
   "metadata": {},
   "outputs": [],
   "source": [
    "#from boson_data_lib import *\n",
    "import numpy as np\n",
    "import scipy.linalg as sl\n",
    "import os\n",
    "import pandas as pd\n",
    "import glob\n",
    "import h5py"
   ]
  },
  {
   "cell_type": "code",
   "execution_count": 2,
   "id": "51aaf20f",
   "metadata": {},
   "outputs": [],
   "source": [
    "data_dir = \"../DATA/\"\n",
    "tests_dir = \"\" #\"../TESTS/\""
   ]
  },
  {
   "cell_type": "code",
   "execution_count": 3,
   "id": "9f31df7b",
   "metadata": {},
   "outputs": [],
   "source": [
    "#best_init_rho =  np.array([[ 0.96693975+0.j        , -0.17832301+0.00560344j],\n",
    "#                               [-0.17832301-0.00560344j,  0.03306025+0.j        ]])#\n",
    "\n",
    "#fid_dists = fidelity_distances(data_dir, best_init_rho);\n",
    "\n",
    "def extract_time(f_name, g):\n",
    "    with h5py.File(f_name, 'r') as f:\n",
    "\n",
    "        t = np.array(f[g]['t']).reshape(-1)\n",
    "        t = t.flatten()\n",
    "        dt = t[1] - t[0]\n",
    "        assert ((np.abs((t[1:] - t[:-1]) - dt) < 1e-6).all())\n",
    "\n",
    "    return t, dt"
   ]
  },
  {
   "cell_type": "code",
   "execution_count": 4,
   "id": "7518da3c",
   "metadata": {},
   "outputs": [],
   "source": [
    "def read_as_dataframe(filename, data_dir, tests_dir): #fid_distances,\n",
    "\n",
    "    df = pd.DataFrame()\n",
    "    \n",
    "    print(\"Processing...\")\n",
    "    \n",
    "    with h5py.File(tests_dir+filename, \"r\") as f:\n",
    "        \n",
    "        #gammas = ['0.079477', '0.25133', '0.79477', '2.5133', '7.9477', '25.133', '79.477', '251.33']\n",
    "        gammas = f.keys()\n",
    "        \n",
    "        for gamma in gammas:\n",
    "            \n",
    "            print(gamma)\n",
    "            \n",
    "            g = gamma[6:]\n",
    "            \n",
    "            init_states = [\"D\"+str(i) for i in range(1, 11)] #f[gamma].keys()\n",
    "            \n",
    "            for state in init_states:\n",
    "                \n",
    "                Fidelity = f[gamma][state][\"Fidelity\"][()]\n",
    "\n",
    "                ser_len = len(Fidelity)\n",
    "\n",
    "                gamma_column = [g] * ser_len\n",
    "                state_column = [state[7:]] * ser_len\n",
    "\n",
    "                #fid_dist_column = [fid_distances[int(state[7:])-1]] * ser_len      \n",
    "\n",
    "                f_name = data_dir + \"/State_\" + state + \"_2CUT_data.h5\"\n",
    "                #f_name = data_dir + \"\\\\\" + state + \"_2CUT_data.h5\"\n",
    "                t, dt = extract_time(f_name, g)\n",
    "                #time_column = t\n",
    "                time_column = np.arange(t[0], t[0]+dt*ser_len, dt, dtype=float)          \n",
    "\n",
    "                gamma_time_column = np.array(time_column)*float(g) \n",
    "\n",
    "                d_ser = {'Gamma': gamma_column,\n",
    "                         'State': state_column,\n",
    "                         'Time': time_column, \n",
    "                         'gt': gamma_time_column,\n",
    "                         'Fidelity': Fidelity,\n",
    "                         'Infidelity': 1-Fidelity} #,\n",
    "                         #'Distance': fid_dist_column}\n",
    "\n",
    "                df_ser = pd.DataFrame(data = d_ser)   \n",
    "                df = pd.concat([df, df_ser])\n",
    "    \n",
    "    print(\" done!\")\n",
    "    \n",
    "    return df"
   ]
  },
  {
   "cell_type": "code",
   "execution_count": 5,
   "id": "0147ad92",
   "metadata": {},
   "outputs": [],
   "source": [
    "#test_file = \"KOSSAK_UNCONSTR_BFGS1_trn4_tst20_2024-Jul-30_at_08-26.h5\"\n",
    "test_file = \"KOSSAK_UNCONSTR_RK_BFGS1_trn4_tst20_2024-Aug-01_at_03-28.h5\""
   ]
  },
  {
   "cell_type": "code",
   "execution_count": 6,
   "id": "7b0ef3f5",
   "metadata": {},
   "outputs": [
    {
     "name": "stdout",
     "output_type": "stream",
     "text": [
      "Processing...\n",
      "gamma_0.079477\n",
      "gamma_0.25133\n",
      "gamma_0.79477\n",
      "gamma_2.5133\n",
      "gamma_25.133\n",
      "gamma_251.33\n",
      "gamma_7.9477\n",
      "gamma_79.477\n",
      " done!\n"
     ]
    }
   ],
   "source": [
    "df = read_as_dataframe(test_file, data_dir, tests_dir) #fid_dists,"
   ]
  },
  {
   "cell_type": "code",
   "execution_count": 7,
   "id": "c3570b6e",
   "metadata": {},
   "outputs": [
    {
     "data": {
      "text/html": [
       "<div>\n",
       "<style scoped>\n",
       "    .dataframe tbody tr th:only-of-type {\n",
       "        vertical-align: middle;\n",
       "    }\n",
       "\n",
       "    .dataframe tbody tr th {\n",
       "        vertical-align: top;\n",
       "    }\n",
       "\n",
       "    .dataframe thead th {\n",
       "        text-align: right;\n",
       "    }\n",
       "</style>\n",
       "<table border=\"1\" class=\"dataframe\">\n",
       "  <thead>\n",
       "    <tr style=\"text-align: right;\">\n",
       "      <th></th>\n",
       "      <th>Gamma</th>\n",
       "      <th>State</th>\n",
       "      <th>Time</th>\n",
       "      <th>gt</th>\n",
       "      <th>Fidelity</th>\n",
       "      <th>Infidelity</th>\n",
       "    </tr>\n",
       "  </thead>\n",
       "  <tbody>\n",
       "    <tr>\n",
       "      <th>0</th>\n",
       "      <td>0.079477</td>\n",
       "      <td></td>\n",
       "      <td>0.06000</td>\n",
       "      <td>0.004769</td>\n",
       "      <td>1.000000</td>\n",
       "      <td>3.219647e-15</td>\n",
       "    </tr>\n",
       "    <tr>\n",
       "      <th>1</th>\n",
       "      <td>0.079477</td>\n",
       "      <td></td>\n",
       "      <td>0.08000</td>\n",
       "      <td>0.006358</td>\n",
       "      <td>0.999998</td>\n",
       "      <td>1.870530e-06</td>\n",
       "    </tr>\n",
       "    <tr>\n",
       "      <th>2</th>\n",
       "      <td>0.079477</td>\n",
       "      <td></td>\n",
       "      <td>0.10000</td>\n",
       "      <td>0.007948</td>\n",
       "      <td>0.999989</td>\n",
       "      <td>1.097106e-05</td>\n",
       "    </tr>\n",
       "    <tr>\n",
       "      <th>3</th>\n",
       "      <td>0.079477</td>\n",
       "      <td></td>\n",
       "      <td>0.12000</td>\n",
       "      <td>0.009537</td>\n",
       "      <td>0.999984</td>\n",
       "      <td>1.559943e-05</td>\n",
       "    </tr>\n",
       "    <tr>\n",
       "      <th>4</th>\n",
       "      <td>0.079477</td>\n",
       "      <td></td>\n",
       "      <td>0.14000</td>\n",
       "      <td>0.011127</td>\n",
       "      <td>0.999994</td>\n",
       "      <td>5.828959e-06</td>\n",
       "    </tr>\n",
       "    <tr>\n",
       "      <th>...</th>\n",
       "      <td>...</td>\n",
       "      <td>...</td>\n",
       "      <td>...</td>\n",
       "      <td>...</td>\n",
       "      <td>...</td>\n",
       "      <td>...</td>\n",
       "    </tr>\n",
       "    <tr>\n",
       "      <th>1996</th>\n",
       "      <td>79.477</td>\n",
       "      <td></td>\n",
       "      <td>0.54925</td>\n",
       "      <td>43.652742</td>\n",
       "      <td>0.994531</td>\n",
       "      <td>5.469340e-03</td>\n",
       "    </tr>\n",
       "    <tr>\n",
       "      <th>1997</th>\n",
       "      <td>79.477</td>\n",
       "      <td></td>\n",
       "      <td>0.54950</td>\n",
       "      <td>43.672612</td>\n",
       "      <td>0.994534</td>\n",
       "      <td>5.466477e-03</td>\n",
       "    </tr>\n",
       "    <tr>\n",
       "      <th>1998</th>\n",
       "      <td>79.477</td>\n",
       "      <td></td>\n",
       "      <td>0.54975</td>\n",
       "      <td>43.692481</td>\n",
       "      <td>0.994536</td>\n",
       "      <td>5.463608e-03</td>\n",
       "    </tr>\n",
       "    <tr>\n",
       "      <th>1999</th>\n",
       "      <td>79.477</td>\n",
       "      <td></td>\n",
       "      <td>0.55000</td>\n",
       "      <td>43.712350</td>\n",
       "      <td>0.994539</td>\n",
       "      <td>5.460734e-03</td>\n",
       "    </tr>\n",
       "    <tr>\n",
       "      <th>2000</th>\n",
       "      <td>79.477</td>\n",
       "      <td></td>\n",
       "      <td>0.55025</td>\n",
       "      <td>43.732219</td>\n",
       "      <td>0.994542</td>\n",
       "      <td>5.457855e-03</td>\n",
       "    </tr>\n",
       "  </tbody>\n",
       "</table>\n",
       "<p>165924 rows × 6 columns</p>\n",
       "</div>"
      ],
      "text/plain": [
       "         Gamma State     Time         gt  Fidelity    Infidelity\n",
       "0     0.079477        0.06000   0.004769  1.000000  3.219647e-15\n",
       "1     0.079477        0.08000   0.006358  0.999998  1.870530e-06\n",
       "2     0.079477        0.10000   0.007948  0.999989  1.097106e-05\n",
       "3     0.079477        0.12000   0.009537  0.999984  1.559943e-05\n",
       "4     0.079477        0.14000   0.011127  0.999994  5.828959e-06\n",
       "...        ...   ...      ...        ...       ...           ...\n",
       "1996    79.477        0.54925  43.652742  0.994531  5.469340e-03\n",
       "1997    79.477        0.54950  43.672612  0.994534  5.466477e-03\n",
       "1998    79.477        0.54975  43.692481  0.994536  5.463608e-03\n",
       "1999    79.477        0.55000  43.712350  0.994539  5.460734e-03\n",
       "2000    79.477        0.55025  43.732219  0.994542  5.457855e-03\n",
       "\n",
       "[165924 rows x 6 columns]"
      ]
     },
     "execution_count": 7,
     "metadata": {},
     "output_type": "execute_result"
    }
   ],
   "source": [
    "df"
   ]
  },
  {
   "cell_type": "code",
   "execution_count": 8,
   "id": "6a3987ad",
   "metadata": {},
   "outputs": [],
   "source": [
    "pkl_name = \"dataframe_\"+test_file[:-3]+\".pkl\"\n",
    "\n",
    "df.to_pickle(tests_dir+pkl_name)"
   ]
  },
  {
   "cell_type": "code",
   "execution_count": 9,
   "id": "db7dd068",
   "metadata": {},
   "outputs": [
    {
     "data": {
      "text/plain": [
       "'dataframe_KOSSAK_UNCONSTR_RK_BFGS1_trn4_tst20_2024-Aug-01_at_03-28.pkl'"
      ]
     },
     "execution_count": 9,
     "metadata": {},
     "output_type": "execute_result"
    }
   ],
   "source": [
    "pkl_name"
   ]
  },
  {
   "cell_type": "code",
   "execution_count": 43,
   "id": "4fa1c87f",
   "metadata": {},
   "outputs": [
    {
     "data": {
      "text/plain": [
       "'dataframe_KOSSAK_UNCONSTR_BFGS1_trn4_tst20_2024-Jul-30_at_08-26.pkl'"
      ]
     },
     "execution_count": 43,
     "metadata": {},
     "output_type": "execute_result"
    }
   ],
   "source": [
    "tests_dir+pkl_name"
   ]
  },
  {
   "cell_type": "markdown",
   "id": "0fad5275",
   "metadata": {},
   "source": []
  }
 ],
 "metadata": {
  "@webio": {
   "lastCommId": null,
   "lastKernelId": null
  },
  "kernelspec": {
   "display_name": "base",
   "language": "python",
   "name": "python3"
  },
  "language_info": {
   "codemirror_mode": {
    "name": "ipython",
    "version": 3
   },
   "file_extension": ".py",
   "mimetype": "text/x-python",
   "name": "python",
   "nbconvert_exporter": "python",
   "pygments_lexer": "ipython3",
   "version": "3.7.7"
  }
 },
 "nbformat": 4,
 "nbformat_minor": 5
}
