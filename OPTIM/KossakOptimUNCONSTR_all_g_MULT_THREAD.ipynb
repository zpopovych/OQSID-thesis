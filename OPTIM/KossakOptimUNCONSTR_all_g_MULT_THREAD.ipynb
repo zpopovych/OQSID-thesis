{
 "cells": [
  {
   "cell_type": "code",
   "execution_count": 1,
   "metadata": {},
   "outputs": [
    {
     "name": "stderr",
     "output_type": "stream",
     "text": [
      "\u001b[33m\u001b[1m┌ \u001b[22m\u001b[39m\u001b[33m\u001b[1mWarning: \u001b[22m\u001b[39mPackage LinearSolve does not have KrylovKit in its dependencies:\n",
      "\u001b[33m\u001b[1m│ \u001b[22m\u001b[39m- If you have LinearSolve checked out for development and have\n",
      "\u001b[33m\u001b[1m│ \u001b[22m\u001b[39m  added KrylovKit as a dependency but haven't updated your primary\n",
      "\u001b[33m\u001b[1m│ \u001b[22m\u001b[39m  environment's manifest file, try `Pkg.resolve()`.\n",
      "\u001b[33m\u001b[1m│ \u001b[22m\u001b[39m- Otherwise you may need to report an issue with LinearSolve\n",
      "\u001b[33m\u001b[1m└ \u001b[22m\u001b[39mLoading KrylovKit into LinearSolve from project dependency, future warnings for LinearSolve are suppressed.\n"
     ]
    }
   ],
   "source": [
    "using LinearAlgebra\n",
    "using Optim\n",
    "using HDF5\n",
    "\n",
    "using QuantumOptics\n",
    "basis = NLevelBasis(2)\n",
    "\n",
    "include(\"../LiPoSID.jl\")\n",
    "\n",
    "using Statistics\n",
    "\n",
    "using Dates, Random"
   ]
  },
  {
   "cell_type": "code",
   "execution_count": 2,
   "metadata": {},
   "outputs": [
    {
     "data": {
      "text/plain": [
       "70"
      ]
     },
     "execution_count": 2,
     "metadata": {},
     "output_type": "execute_result"
    }
   ],
   "source": [
    "Threads.nthreads()"
   ]
  },
  {
   "cell_type": "markdown",
   "metadata": {},
   "source": [
    "Fidelity for qubit can be written:\n",
    "\n",
    "$F(\\rho, \\sigma) = \\operatorname{tr}(\\rho \\sigma) + 2\\sqrt{\\det(\\rho) \\det(\\sigma)}$"
   ]
  },
  {
   "cell_type": "code",
   "execution_count": 3,
   "metadata": {},
   "outputs": [
    {
     "data": {
      "text/plain": [
       "infidelity_norm (generic function with 1 method)"
      ]
     },
     "execution_count": 3,
     "metadata": {},
     "output_type": "execute_result"
    }
   ],
   "source": [
    "function infidelity_norm(ρ, σ)\n",
    "    abs(1 - real(tr(ρ * σ)) - 2*sqrt(abs(det(ρ)*det(σ))))\n",
    "end"
   ]
  },
  {
   "cell_type": "code",
   "execution_count": 4,
   "metadata": {},
   "outputs": [
    {
     "data": {
      "text/plain": [
       "kossak_obj (generic function with 1 method)"
      ]
     },
     "execution_count": 4,
     "metadata": {},
     "output_type": "execute_result"
    }
   ],
   "source": [
    "function read_timeevolution(file_name, state, γ)\n",
    "    h5open(file_name, \"r\") do file\n",
    "        ρᵧ = read(file[state][string(γ)])\n",
    "        t = ρᵧ[\"t\"]\n",
    "        ρ₀₀ = ρᵧ[\"p0\"]; Re_ρ₀₁ = ρᵧ[\"s_re\"];  Im_ρ₀₁ = ρᵧ[\"s_im\"]\n",
    "        ρ_series = []\n",
    "        t_series = []\n",
    "\n",
    "        for i in 1:length(t)\n",
    "            ρᵢ= [ ρ₀₀[i]                      Re_ρ₀₁[i] + im * Im_ρ₀₁[i]\n",
    "                  Re_ρ₀₁[i] - im * Im_ρ₀₁[i]  1 - ρ₀₀[i]                 ]\n",
    "            push!(ρ_series, convert(Matrix{ComplexF64}, ρᵢ))\n",
    "            push!(t_series, convert(Float64, t[i]))\n",
    "        end\n",
    "        return(t_series, ρ_series)\n",
    "    end\n",
    "end\n",
    "\n",
    "# Define the Pauli matrices\n",
    "σˣ = [0 1; 1 0]\n",
    "σʸ = [0 im; -im 0]\n",
    "σᶻ = [1 0; 0 -1]\n",
    "\n",
    "# Define the basis elements\n",
    "fᴷ₁ = σˣ / 2\n",
    "fᴷ₂ = σʸ / 2\n",
    "fᴷ₃ = σᶻ / 2\n",
    "\n",
    "# Check orthogonality and normalization\n",
    "@assert tr(fᴷ₁ * fᴷ₂) ≈ 0\n",
    "@assert tr(fᴷ₁ * fᴷ₃) ≈ 0\n",
    "@assert tr(fᴷ₂ * fᴷ₃) ≈ 0\n",
    "@assert tr(fᴷ₁ * fᴷ₁) ≈ 1 / 2\n",
    "@assert tr(fᴷ₂ * fᴷ₂) ≈ 1 / 2\n",
    "@assert tr(fᴷ₃ * fᴷ₃) ≈ 1 / 2\n",
    "\n",
    "fᴼᴺᴮ = [fᴷ₁, fᴷ₂, fᴷ₃]\n",
    "\n",
    "# Function to calculate Dc\n",
    "function Dc(ρ, t, H, C)\n",
    "    U = (H * ρ - ρ * H) / im\n",
    "    D = sum(C .* [2 * fᵢ * ρ * fⱼ' - ρ * fⱼ' * fᵢ - fⱼ' * fᵢ * ρ for fᵢ in fᴼᴺᴮ, fⱼ in fᴼᴺᴮ]) / 2\n",
    "    return U + D\n",
    "end\n",
    "\n",
    "function construct_H(params)\n",
    "    ϵ, h_Re, h_Im = params[1:3]\n",
    "    return [\n",
    "        ϵ               h_Re + im * h_Im\n",
    "        h_Re - im * h_Im -ϵ\n",
    "    ] / 2\n",
    "end\n",
    "\n",
    "function construct_C(params)\n",
    "    m_Re = reshape(params[4:12], (3, 3))\n",
    "    m_Im = reshape(params[13:21], (3, 3))\n",
    "    M = m_Re + im * m_Im\n",
    "    return M * M'\n",
    "end\n",
    "\n",
    "\n",
    "# Define the objective function for optimization\n",
    "function kossak_obj(params, ρ, t)\n",
    "    H = construct_H(params)\n",
    "    C = construct_C(params)\n",
    "\n",
    "    obj = 0.0\n",
    "    for i in 3:length(ρ)\n",
    "        ρ1 = ρ[i]\n",
    "        ρ2 = ρ[i - 2] + (t[i] - t[i - 1]) * (Dc(ρ[i], t[i], H, C) + 4 * Dc(ρ[i - 1], t[i - 1], H, C) + Dc(ρ[i - 2], t[i - 2], H, C)) / 3\n",
    "        obj += infidelity_norm(ρ1,ρ2)\n",
    "    end\n",
    "    return obj\n",
    "end"
   ]
  },
  {
   "cell_type": "code",
   "execution_count": 5,
   "metadata": {},
   "outputs": [],
   "source": [
    "# Define initial parameters\n",
    "initial_params = [0.0, 0.0, 0.0,  # H parameters: ϵ, h_Re, h_Im\n",
    "                  0.0, 0.0, 0.0, 0.0, 0.0, 0.0, 0.0, 0.0, 0.0,  # m_Re parameters\n",
    "                  0.0, 0.0, 0.0, 0.0, 0.0, 0.0, 0.0, 0.0, 0.0]; # m_Im parameters\n",
    "\n",
    "initial_params .+= 1;"
   ]
  },
  {
   "cell_type": "code",
   "execution_count": 6,
   "metadata": {},
   "outputs": [
    {
     "data": {
      "text/plain": [
       "objective (generic function with 1 method)"
      ]
     },
     "execution_count": 6,
     "metadata": {},
     "output_type": "execute_result"
    }
   ],
   "source": [
    "# Define the objective function wrapper\n",
    "function objective(params)\n",
    "\n",
    "    objGEXY = kossak_obj(params, ρᵍ, tᵍ) + kossak_obj(params, ρᵉ, tᵉ) + kossak_obj(params, ρˣ, tˣ) + kossak_obj(params, ρʸ, tʸ)\n",
    "\n",
    "    return objGEXY\n",
    "end"
   ]
  },
  {
   "cell_type": "code",
   "execution_count": 7,
   "metadata": {},
   "outputs": [
    {
     "name": "stdout",
     "output_type": "stream",
     "text": [
      "|γ =  251.33:1|γ =  0.79477:1|γ =  0.079477:1|γ =  7.9477:1|γ =  0.25133:1|γ =  2.5133:1|γ =  79.477:1|γ =  25.133:1"
     ]
    },
    {
     "ename": "LoadError",
     "evalue": "TaskFailedException\n\n\u001b[91m    nested task error: \u001b[39mMethodError: objects of type ReentrantLock are not callable\n    Stacktrace:\n     [1] \u001b[0m\u001b[1mmacro expansion\u001b[22m\n    \u001b[90m   @ \u001b[39m\u001b[90m./\u001b[39m\u001b[90m\u001b[4mIn[7]:44\u001b[24m\u001b[39m\u001b[90m [inlined]\u001b[39m\n     [2] \u001b[0m\u001b[1m(::var\"#88#threadsfor_fun#17\"{String, ReentrantLock, var\"#objective#16\"{Vector{Any}, Vector{Any}, Vector{Any}, Vector{Any}, Vector{Any}, Vector{Any}, Vector{Any}, Vector{Any}}, UnitRange{Int64}})\u001b[22m\u001b[0m\u001b[1m(\u001b[22m\u001b[90monethread\u001b[39m::\u001b[0mBool\u001b[0m\u001b[1m)\u001b[22m\n    \u001b[90m   @ \u001b[39m\u001b[35mMain\u001b[39m \u001b[90m./\u001b[39m\u001b[90m\u001b[4mthreadingconstructs.jl:85\u001b[24m\u001b[39m\n     [3] \u001b[0m\u001b[1m#invokelatest#2\u001b[22m\n    \u001b[90m   @ \u001b[39m\u001b[90m./\u001b[39m\u001b[90m\u001b[4messentials.jl:716\u001b[24m\u001b[39m\u001b[90m [inlined]\u001b[39m\n     [4] \u001b[0m\u001b[1minvokelatest\u001b[22m\n    \u001b[90m   @ \u001b[39m\u001b[90m./\u001b[39m\u001b[90m\u001b[4messentials.jl:714\u001b[24m\u001b[39m\u001b[90m [inlined]\u001b[39m\n     [5] \u001b[0m\u001b[1mmacro expansion\u001b[22m\n    \u001b[90m   @ \u001b[39m\u001b[90m./\u001b[39m\u001b[90m\u001b[4mthreadingconstructs.jl:90\u001b[24m\u001b[39m\u001b[90m [inlined]\u001b[39m\n     [6] \u001b[0m\u001b[1mperform_optimization\u001b[22m\u001b[0m\u001b[1m(\u001b[22m\u001b[90mγᵢ\u001b[39m::\u001b[0mString, \u001b[90mlock\u001b[39m::\u001b[0mReentrantLock\u001b[0m\u001b[1m)\u001b[22m\n    \u001b[90m   @ \u001b[39m\u001b[35mMain\u001b[39m \u001b[90m./\u001b[39m\u001b[90m\u001b[4mIn[7]:38\u001b[24m\u001b[39m\n     [7] \u001b[0m\u001b[1mmacro expansion\u001b[22m\n    \u001b[90m   @ \u001b[39m\u001b[90m./\u001b[39m\u001b[90m\u001b[4mIn[7]:113\u001b[24m\u001b[39m\u001b[90m [inlined]\u001b[39m\n     [8] \u001b[0m\u001b[1m(::var\"#131#threadsfor_fun#26\"{Vector{String}})\u001b[22m\u001b[0m\u001b[1m(\u001b[22m\u001b[90monethread\u001b[39m::\u001b[0mBool\u001b[0m\u001b[1m)\u001b[22m\n    \u001b[90m   @ \u001b[39m\u001b[35mMain\u001b[39m \u001b[90m./\u001b[39m\u001b[90m\u001b[4mthreadingconstructs.jl:85\u001b[24m\u001b[39m\n     [9] \u001b[0m\u001b[1m(::var\"#131#threadsfor_fun#26\"{Vector{String}})\u001b[22m\u001b[0m\u001b[1m(\u001b[22m\u001b[0m\u001b[1m)\u001b[22m\n    \u001b[90m   @ \u001b[39m\u001b[35mMain\u001b[39m \u001b[90m./\u001b[39m\u001b[90m\u001b[4mthreadingconstructs.jl:52\u001b[24m\u001b[39m",
     "output_type": "error",
     "traceback": [
      "TaskFailedException\n\n\u001b[91m    nested task error: \u001b[39mMethodError: objects of type ReentrantLock are not callable\n    Stacktrace:\n     [1] \u001b[0m\u001b[1mmacro expansion\u001b[22m\n    \u001b[90m   @ \u001b[39m\u001b[90m./\u001b[39m\u001b[90m\u001b[4mIn[7]:44\u001b[24m\u001b[39m\u001b[90m [inlined]\u001b[39m\n     [2] \u001b[0m\u001b[1m(::var\"#88#threadsfor_fun#17\"{String, ReentrantLock, var\"#objective#16\"{Vector{Any}, Vector{Any}, Vector{Any}, Vector{Any}, Vector{Any}, Vector{Any}, Vector{Any}, Vector{Any}}, UnitRange{Int64}})\u001b[22m\u001b[0m\u001b[1m(\u001b[22m\u001b[90monethread\u001b[39m::\u001b[0mBool\u001b[0m\u001b[1m)\u001b[22m\n    \u001b[90m   @ \u001b[39m\u001b[35mMain\u001b[39m \u001b[90m./\u001b[39m\u001b[90m\u001b[4mthreadingconstructs.jl:85\u001b[24m\u001b[39m\n     [3] \u001b[0m\u001b[1m#invokelatest#2\u001b[22m\n    \u001b[90m   @ \u001b[39m\u001b[90m./\u001b[39m\u001b[90m\u001b[4messentials.jl:716\u001b[24m\u001b[39m\u001b[90m [inlined]\u001b[39m\n     [4] \u001b[0m\u001b[1minvokelatest\u001b[22m\n    \u001b[90m   @ \u001b[39m\u001b[90m./\u001b[39m\u001b[90m\u001b[4messentials.jl:714\u001b[24m\u001b[39m\u001b[90m [inlined]\u001b[39m\n     [5] \u001b[0m\u001b[1mmacro expansion\u001b[22m\n    \u001b[90m   @ \u001b[39m\u001b[90m./\u001b[39m\u001b[90m\u001b[4mthreadingconstructs.jl:90\u001b[24m\u001b[39m\u001b[90m [inlined]\u001b[39m\n     [6] \u001b[0m\u001b[1mperform_optimization\u001b[22m\u001b[0m\u001b[1m(\u001b[22m\u001b[90mγᵢ\u001b[39m::\u001b[0mString, \u001b[90mlock\u001b[39m::\u001b[0mReentrantLock\u001b[0m\u001b[1m)\u001b[22m\n    \u001b[90m   @ \u001b[39m\u001b[35mMain\u001b[39m \u001b[90m./\u001b[39m\u001b[90m\u001b[4mIn[7]:38\u001b[24m\u001b[39m\n     [7] \u001b[0m\u001b[1mmacro expansion\u001b[22m\n    \u001b[90m   @ \u001b[39m\u001b[90m./\u001b[39m\u001b[90m\u001b[4mIn[7]:113\u001b[24m\u001b[39m\u001b[90m [inlined]\u001b[39m\n     [8] \u001b[0m\u001b[1m(::var\"#131#threadsfor_fun#26\"{Vector{String}})\u001b[22m\u001b[0m\u001b[1m(\u001b[22m\u001b[90monethread\u001b[39m::\u001b[0mBool\u001b[0m\u001b[1m)\u001b[22m\n    \u001b[90m   @ \u001b[39m\u001b[35mMain\u001b[39m \u001b[90m./\u001b[39m\u001b[90m\u001b[4mthreadingconstructs.jl:85\u001b[24m\u001b[39m\n     [9] \u001b[0m\u001b[1m(::var\"#131#threadsfor_fun#26\"{Vector{String}})\u001b[22m\u001b[0m\u001b[1m(\u001b[22m\u001b[0m\u001b[1m)\u001b[22m\n    \u001b[90m   @ \u001b[39m\u001b[35mMain\u001b[39m \u001b[90m./\u001b[39m\u001b[90m\u001b[4mthreadingconstructs.jl:52\u001b[24m\u001b[39m",
      "",
      "Stacktrace:",
      " [1] wait",
      "   @ ./task.jl:334 [inlined]",
      " [2] threading_run(func::Function)",
      "   @ Base.Threads ./threadingconstructs.jl:38",
      " [3] top-level scope",
      "   @ ./threadingconstructs.jl:97"
     ]
    }
   ],
   "source": [
    "file_name = \"../DATA/ALL_GAMMAS_B4_D10.h5\"\n",
    "γ = [\"0.079477\", \"0.25133\", \"0.79477\", \"2.5133\", \"7.9477\", \"25.133\", \"79.477\", \"251.33\"]\n",
    "date_and_time_string = string(Dates.format(now(), \"yyyy-u-dd_at_HH-MM\"))\n",
    "tests_data_file_name = \"KOSSAK_UNCONSTR_BFGS_MULT_100_trn4_tst20_\" * date_and_time_string * \".h5\"\n",
    "tests_dir = \"\"\n",
    "\n",
    "ρᵍ₀ = [1 0; 0 0] # state to measure initial distance from\n",
    "dodeca_10_states = [\"D\" * string(n) for n in 1:10]\n",
    "basis_states = [\"B\" * string(n) for n in 1:4]\n",
    "train_states = basis_states\n",
    "test_states = dodeca_10_states\n",
    "\n",
    "# Pre-read the data for all γ values\n",
    "data = Dict()\n",
    "for γᵢ in γ\n",
    "    data[γᵢ] = (\n",
    "        read_timeevolution(file_name, \"B1\", γᵢ),\n",
    "        read_timeevolution(file_name, \"B2\", γᵢ),\n",
    "        read_timeevolution(file_name, \"B3\", γᵢ),\n",
    "        read_timeevolution(file_name, \"B4\", γᵢ)\n",
    "    )\n",
    "end\n",
    "\n",
    "function perform_optimization(γᵢ, lock)\n",
    "    #println(\"γ =  \" * γᵢ)\n",
    "    γᶠ = parse(ComplexF64, γᵢ)\n",
    "\n",
    "    (tᵍ, ρᵍ), (tᵉ, ρᵉ), (tˣ, ρˣ), (tʸ, ρʸ) = data[γᵢ]\n",
    "\n",
    "    function objective(params)\n",
    "        objGEXY = kossak_obj(params, ρᵍ, tᵍ) + kossak_obj(params, ρᵉ, tᵉ) + kossak_obj(params, ρˣ, tˣ) + kossak_obj(params, ρʸ, tʸ)\n",
    "        return objGEXY\n",
    "    end\n",
    "\n",
    "    obj = Inf\n",
    "    best_params = []\n",
    "\n",
    "    Threads.@threads for run in 1:100\n",
    "        print(\"|γ =  \" * γᵢ*\":\", run)\n",
    "        initial_params = rand(21) .* (260 * 2) .- 260\n",
    "        result = optimize(objective, initial_params, method = BFGS())#, g_tol = 1e-10)\n",
    "        optimized_params = result.minimizer\n",
    "        if objective(optimized_params) < obj\n",
    "            lock() do\n",
    "                if objective(optimized_params) < obj\n",
    "                    obj = objective(optimized_params)\n",
    "                    best_params = optimized_params\n",
    "                end\n",
    "            end\n",
    "        end\n",
    "    end\n",
    "\n",
    "    optimized_params = best_params\n",
    "    optimized_H = construct_H(optimized_params)\n",
    "    optimized_C = construct_C(optimized_params)\n",
    "\n",
    "    Hˢⁱᵈ = convert.(ComplexF64, optimized_H)\n",
    "    Cˢⁱᵈ = convert.(ComplexF64, optimized_C)\n",
    "    effective_Lindblad = LiPoSID.get_lindblad_operators(Cˢⁱᵈ, fᴼᴺᴮ)\n",
    "\n",
    "    h5open(tests_dir * tests_data_file_name, \"cw\") do fid\n",
    "        γ_group = create_group(fid, \"gamma_\" * γᵢ) # create coupling group\n",
    "        γ_group[\"H\"] = convert.(ComplexF64, Hˢⁱᵈ)\n",
    "        γ_group[\"C\"] = convert.(ComplexF64, Cˢⁱᵈ)\n",
    "    end\n",
    "\n",
    "    FminStates = []\n",
    "    FmedianStates = []\n",
    "    FmeanStates = []\n",
    "\n",
    "    Threads.@threads for state in test_states\n",
    "        print(state * \" \")\n",
    "\n",
    "        tₛ, ρₛ = read_timeevolution(file_name, state, γᵢ)\n",
    "        ρₛ = convert(Vector{Matrix{ComplexF64}}, ρₛ)\n",
    "        ρᵗˢᵗ = [DenseOperator(basis, Hermitian(ρₜ)) for ρₜ in ρₛ]\n",
    "        tᵗˢᵗ = convert.(Float64, tₛ)\n",
    "        ρₒ = DenseOperator(basis, ρₛ[1])\n",
    "        dt = tᵗˢᵗ[2] - tᵗˢᵗ[1]\n",
    "        tᵉⁿᵈ = tᵗˢᵗ[end]\n",
    "        effective_Lindblad_ops = [DenseOperator(basis, j) for j in effective_Lindblad]\n",
    "        tout, ρ_t_kossak = timeevolution.master(tᵗˢᵗ, ρₒ, DenseOperator(basis, Hˢⁱᵈ), effective_Lindblad_ops)\n",
    "        ρˢⁱᵈ = [ρₜ.data for ρₜ in ρ_t_kossak]\n",
    "        F = LiPoSID.fidelity_series(basis, ρₛ, ρˢⁱᵈ)\n",
    "\n",
    "        h5open(tests_dir * tests_data_file_name, \"cw\") do fid\n",
    "            γ_group = open_group(fid, \"gamma_\" * γᵢ) # open coupling group\n",
    "            init_state_group = create_group(γ_group, state) # create initial state group\n",
    "            init_state_group[\"Fidelity\"] = convert.(Float64, F)\n",
    "        end\n",
    "\n",
    "        FminState = minimum(F)\n",
    "        FmedianState = median(F)\n",
    "        FmeanState = mean(F)\n",
    "\n",
    "        lock() do\n",
    "            push!(FminStates, FminState)\n",
    "            push!(FmedianStates, FmedianState)\n",
    "            push!(FmeanStates, FmeanState)\n",
    "        end\n",
    "    end\n",
    "\n",
    "    F_median_value = median(FmedianStates)\n",
    "    F_min_value = minimum(FminStates)\n",
    "\n",
    "    println()\n",
    "    println(\"Mimimal fidelity for \" * γᵢ * \": \", F_min_value)\n",
    "    println(\"Median fidelity for \" * γᵢ * \": \", F_median_value)\n",
    "end\n",
    "\n",
    "lock = ReentrantLock()\n",
    "Threads.@threads for γᵢ in γ\n",
    "    perform_optimization(γᵢ, lock)\n",
    "end\n",
    "\n",
    "println(tests_data_file_name)\n"
   ]
  },
  {
   "cell_type": "code",
   "execution_count": 14,
   "metadata": {},
   "outputs": [],
   "source": []
  },
  {
   "cell_type": "markdown",
   "metadata": {},
   "source": [
    "D1 D2 D3 D4 D5 D6 D7 D8 D9 D10 \n",
    "\n",
    "Mimimal fidelity for 0.25133: 0.9995188642141652\n",
    "\n",
    "Median fidelity for 0.25133: 0.9999049135214064"
   ]
  },
  {
   "cell_type": "markdown",
   "metadata": {},
   "source": []
  }
 ],
 "metadata": {
  "kernelspec": {
   "display_name": "Julia 70 Threads 1.7.3",
   "language": "julia",
   "name": "julia-70-threads-1.7"
  },
  "language_info": {
   "file_extension": ".jl",
   "mimetype": "application/julia",
   "name": "julia",
   "version": "1.7.3"
  }
 },
 "nbformat": 4,
 "nbformat_minor": 2
}
