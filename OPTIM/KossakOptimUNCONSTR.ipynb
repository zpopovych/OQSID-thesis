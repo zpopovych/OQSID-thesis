{
 "cells": [
  {
   "cell_type": "code",
   "execution_count": 1,
   "metadata": {},
   "outputs": [],
   "source": [
    "using LinearAlgebra\n",
    "using Optim\n",
    "using HDF5"
   ]
  },
  {
   "cell_type": "markdown",
   "metadata": {},
   "source": [
    "Fidelity for qubit can be written:\n",
    "\n",
    "$F(\\rho, \\sigma) = \\operatorname{tr}(\\rho \\sigma) + 2\\sqrt{\\det(\\rho) \\det(\\sigma)}$"
   ]
  },
  {
   "cell_type": "code",
   "execution_count": 2,
   "metadata": {},
   "outputs": [
    {
     "data": {
      "text/plain": [
       "infidelity_norm (generic function with 1 method)"
      ]
     },
     "metadata": {},
     "output_type": "display_data"
    }
   ],
   "source": [
    "function infidelity_norm(ρ, σ)\n",
    "    real(1 - tr(ρ * σ) - 2*sqrt(det(ρ)*det(σ)))\n",
    "end"
   ]
  },
  {
   "cell_type": "code",
   "execution_count": 3,
   "metadata": {},
   "outputs": [
    {
     "data": {
      "text/plain": [
       "kossak_obj (generic function with 1 method)"
      ]
     },
     "metadata": {},
     "output_type": "display_data"
    }
   ],
   "source": [
    "function read_timeevolution(file_name, state, γ)\n",
    "    h5open(file_name, \"r\") do file\n",
    "        ρᵧ = read(file[state][string(γ)])\n",
    "        t = ρᵧ[\"t\"]\n",
    "        ρ₀₀ = ρᵧ[\"p0\"]; Re_ρ₀₁ = ρᵧ[\"s_re\"];  Im_ρ₀₁ = ρᵧ[\"s_im\"]\n",
    "        ρ_series = []\n",
    "        t_series = []\n",
    "\n",
    "        for i in 1:length(t)\n",
    "            ρᵢ= [ ρ₀₀[i]                      Re_ρ₀₁[i] + im * Im_ρ₀₁[i]\n",
    "                  Re_ρ₀₁[i] - im * Im_ρ₀₁[i]  1 - ρ₀₀[i]                 ]\n",
    "            push!(ρ_series, convert(Matrix{ComplexF64}, ρᵢ))\n",
    "            push!(t_series, convert(Float64, t[i]))\n",
    "        end\n",
    "        return(t_series, ρ_series)\n",
    "    end\n",
    "end\n",
    "\n",
    "# Define the Pauli matrices\n",
    "σˣ = [0 1; 1 0]\n",
    "σʸ = [0 im; -im 0]\n",
    "σᶻ = [1 0; 0 -1]\n",
    "\n",
    "# Define the basis elements\n",
    "fᴷ₁ = σˣ / 2\n",
    "fᴷ₂ = σʸ / 2\n",
    "fᴷ₃ = σᶻ / 2\n",
    "\n",
    "# Check orthogonality and normalization\n",
    "@assert tr(fᴷ₁ * fᴷ₂) ≈ 0\n",
    "@assert tr(fᴷ₁ * fᴷ₃) ≈ 0\n",
    "@assert tr(fᴷ₂ * fᴷ₃) ≈ 0\n",
    "@assert tr(fᴷ₁ * fᴷ₁) ≈ 1 / 2\n",
    "@assert tr(fᴷ₂ * fᴷ₂) ≈ 1 / 2\n",
    "@assert tr(fᴷ₃ * fᴷ₃) ≈ 1 / 2\n",
    "\n",
    "fᴼᴺᴮ = [fᴷ₁, fᴷ₂, fᴷ₃]\n",
    "\n",
    "# Function to calculate Dc\n",
    "function Dc(ρ, t, H, C)\n",
    "    U = (H * ρ - ρ * H) / im\n",
    "    D = sum(C .* [2 * fᵢ * ρ * fⱼ' - ρ * fⱼ' * fᵢ - fⱼ' * fᵢ * ρ for fᵢ in fᴼᴺᴮ, fⱼ in fᴼᴺᴮ]) / 2\n",
    "    return U + D\n",
    "end\n",
    "\n",
    "function construct_H(params)\n",
    "    ϵ, h_Re, h_Im = params[1:3]\n",
    "    return [\n",
    "        ϵ               h_Re + im * h_Im\n",
    "        h_Re - im * h_Im -ϵ\n",
    "    ] / 2\n",
    "end\n",
    "\n",
    "function construct_C(params)\n",
    "    m_Re = reshape(params[4:12], (3, 3))\n",
    "    m_Im = reshape(params[13:21], (3, 3))\n",
    "    M = m_Re + im * m_Im\n",
    "    return M * M'\n",
    "end\n",
    "\n",
    "\n",
    "# Define the objective function for optimization\n",
    "function kossak_obj(params, ρ, t)\n",
    "    H = construct_H(params)\n",
    "    C = construct_C(params)\n",
    "\n",
    "    obj = 0.0\n",
    "    for i in 3:length(ρ)\n",
    "        ρ1 = ρ[i]\n",
    "        ρ2 = ρ[i - 2] + (t[i] - t[i - 1]) * (Dc(ρ[i], t[i], H, C) + 4 * Dc(ρ[i - 1], t[i - 1], H, C) + Dc(ρ[i - 2], t[i - 2], H, C)) / 3\n",
    "        obj += infidelity_norm(ρ1,ρ2)\n",
    "    end\n",
    "    return obj\n",
    "end"
   ]
  },
  {
   "cell_type": "code",
   "execution_count": 4,
   "metadata": {},
   "outputs": [],
   "source": [
    "# Define initial parameters\n",
    "initial_params = [0.0, 0.0, 0.0,  # H parameters: ϵ, h_Re, h_Im\n",
    "                  0.0, 0.0, 0.0, 0.0, 0.0, 0.0, 0.0, 0.0, 0.0,  # m_Re parameters\n",
    "                  0.0, 0.0, 0.0, 0.0, 0.0, 0.0, 0.0, 0.0, 0.0]; # m_Im parameters\n",
    "\n",
    "initial_params .+= 1;"
   ]
  },
  {
   "cell_type": "code",
   "execution_count": 5,
   "metadata": {},
   "outputs": [
    {
     "data": {
      "text/plain": [
       "objective (generic function with 1 method)"
      ]
     },
     "metadata": {},
     "output_type": "display_data"
    }
   ],
   "source": [
    "# Define the objective function wrapper\n",
    "function objective(params)\n",
    "\n",
    "    objGEXY = kossak_obj(params, ρᵍ, tᵍ) + kossak_obj(params, ρᵉ, tᵉ) + kossak_obj(params, ρˣ, tˣ) + kossak_obj(params, ρʸ, tʸ)\n",
    "\n",
    "    return objGEXY\n",
    "end"
   ]
  },
  {
   "cell_type": "code",
   "execution_count": 7,
   "metadata": {},
   "outputs": [],
   "source": [
    "# Define the density matrix evolution and time points\n",
    "\n",
    "file_name = \"../DATA/ALL_GAMMAS_B4_D10.h5\"\n",
    "\n",
    "#γ = [ \"0.079477\",  \"0.25133\", \"0.79477\", \"2.5133\", \"7.9477\", \"25.133\", \"79.477\", \"251.33\"]\n",
    "\n",
    "γᵢ = \"0.25133\"\n",
    "γᶠ = parse(ComplexF64, γᵢ)\n",
    "\n",
    "tᵍ, ρᵍ = read_timeevolution(file_name, \"B1\", γᵢ)\n",
    "tᵉ, ρᵉ = read_timeevolution(file_name, \"B2\", γᵢ)\n",
    "tˣ, ρˣ = read_timeevolution(file_name, \"B3\", γᵢ)\n",
    "tʸ, ρʸ = read_timeevolution(file_name, \"B4\", γᵢ);"
   ]
  },
  {
   "cell_type": "code",
   "execution_count": 23,
   "metadata": {},
   "outputs": [
    {
     "name": "stdout",
     "output_type": "stream",
     "text": [
      "Iter     Function value   Gradient norm \n",
      "     0     2.582814e+02     9.837154e+01\n",
      " * time: 0.017052888870239258\n",
      "     1     4.868086e+01     1.863887e+01\n",
      " * time: 2.8085668087005615\n",
      "     2     4.523568e+01     1.774879e+01\n",
      " * time: 4.832932949066162\n",
      "     3     3.846488e+01     1.490910e+01\n",
      " * time: 6.95028281211853\n",
      "     4     1.919964e+01     1.992261e+00\n",
      " * time: 10.14634084701538\n",
      "     5     9.108636e+00     1.767067e+00\n",
      " * time: 13.316943883895874\n",
      "     6     4.934070e+00     2.176612e+00\n",
      " * time: 15.428138017654419\n",
      "     7     2.894144e+00     4.590449e+00\n",
      " * time: 18.614519834518433\n",
      "     8     8.432554e-01     1.823794e+00\n",
      " * time: 21.786062955856323\n",
      "     9     1.790269e-01     4.492820e-01\n",
      " * time: 24.925320863723755\n",
      "    10     4.205312e-02     2.776398e-01\n",
      " * time: 28.079551935195923\n",
      "    11     1.663042e-02     7.862424e-02\n",
      " * time: 31.223825931549072\n",
      "    12     1.009264e-02     5.014804e-02\n",
      " * time: 34.37682485580444\n",
      "    13     7.506160e-03     1.532990e-02\n",
      " * time: 37.481966972351074\n",
      "    14     5.809377e-03     1.239543e-02\n",
      " * time: 40.61051082611084\n",
      "    15     4.436142e-03     1.038894e-02\n",
      " * time: 43.539888858795166\n",
      "    16     3.653809e-03     7.633940e-03\n",
      " * time: 46.66846489906311\n",
      "    17     3.132996e-03     1.326262e-02\n",
      " * time: 49.78734087944031\n",
      "    18     2.810297e-03     6.264811e-03\n",
      " * time: 52.890628814697266\n",
      "    19     2.707892e-03     5.068646e-03\n",
      " * time: 56.0705988407135\n",
      "    20     2.527261e-03     1.099822e-02\n",
      " * time: 59.18934392929077\n",
      "    21     2.358998e-03     3.333826e-03\n",
      " * time: 62.29751396179199\n",
      "    22     2.348217e-03     3.121555e-03\n",
      " * time: 65.479651927948\n",
      "    23     2.313410e-03     4.003124e-03\n",
      " * time: 69.60810589790344\n",
      "    24     2.218101e-03     2.624413e-03\n",
      " * time: 72.70927286148071\n",
      "    25     2.211923e-03     2.110577e-03\n",
      " * time: 75.77124381065369\n",
      "    26     2.210581e-03     2.008682e-03\n",
      " * time: 78.86765098571777\n",
      "    27     2.194379e-03     1.160269e-03\n",
      " * time: 83.04756283760071\n",
      "    28     2.186511e-03     5.897457e-04\n",
      " * time: 86.08437895774841\n",
      "    29     2.186080e-03     5.850317e-05\n",
      " * time: 89.11809492111206\n",
      "    30     2.186071e-03     3.785232e-06\n",
      " * time: 92.13585495948792\n",
      "    31     2.186071e-03     2.699128e-07\n",
      " * time: 94.1358950138092\n",
      "    32     2.186071e-03     1.274133e-07\n",
      " * time: 97.15158987045288\n",
      "    33     2.186071e-03     3.499848e-08\n",
      " * time: 100.15601992607117\n",
      "    34     2.186071e-03     5.238405e-09\n",
      " * time: 103.13534688949585\n",
      "    35     2.186071e-03     7.250924e-11\n",
      " * time: 105.15865898132324\n"
     ]
    },
    {
     "data": {
      "text/plain": [
       " * Status: success\n",
       "\n",
       " * Candidate solution\n",
       "    Final objective value:     2.186071e-03\n",
       "\n",
       " * Found with\n",
       "    Algorithm:     BFGS\n",
       "\n",
       " * Convergence measures\n",
       "    |x - x'|               = 1.13e-08 ≰ 0.0e+00\n",
       "    |x - x'|/|x'|          = 4.48e-10 ≰ 0.0e+00\n",
       "    |f(x) - f(x')|         = 1.88e-14 ≰ 0.0e+00\n",
       "    |f(x) - f(x')|/|f(x')| = 8.61e-12 ≰ 0.0e+00\n",
       "    |g(x)|                 = 7.25e-11 ≤ 1.0e-10\n",
       "\n",
       " * Work counters\n",
       "    Seconds run:   105  (vs limit Inf)\n",
       "    Iterations:    35\n",
       "    f(x) calls:    102\n",
       "    ∇f(x) calls:   102\n"
      ]
     },
     "metadata": {},
     "output_type": "display_data"
    }
   ],
   "source": [
    "# Perform the optimization\n",
    "result = optimize(objective, initial_params, \n",
    "                  method = BFGS(),\n",
    "                  g_tol = 1e-10, show_trace = true;\n",
    "                  autodiff = :forward)"
   ]
  },
  {
   "cell_type": "code",
   "execution_count": 24,
   "metadata": {},
   "outputs": [
    {
     "name": "stdout",
     "output_type": "stream",
     "text": [
      "Optimized parameters: [25.143185877022134, -0.0028407546411215886, 0.0004524071706840034, -0.19872217672070255, -0.20924294860078615, 0.004961691826453759, -0.19872206794978414, -0.20924304067820357, 0.004961696031060665, -0.19872206667474498, -0.20924303519837112, 0.0049616964479263954, -0.2426948917711709, 0.17562620865271034, -0.002496633844108799, -0.24269499614273365, 0.1756261150886797, -0.002496648073367302, -0.24269498983337115, 0.17562611390905444, -0.0024966475962700098]\n"
     ]
    }
   ],
   "source": [
    "# Extract optimized parameters\n",
    "optimized_params = result.minimizer\n",
    "\n",
    "println(\"Optimized parameters: \", optimized_params)"
   ]
  },
  {
   "cell_type": "code",
   "execution_count": 25,
   "metadata": {},
   "outputs": [
    {
     "name": "stdout",
     "output_type": "stream",
     "text": [
      "Optimized H: ComplexF64[12.571592938511067 + 0.0im -0.0014203773205607943 + 0.0002262035853420017im; -0.0014203773205607943 - 0.0002262035853420017im -12.571592938511067 + 0.0im]\n",
      "Optimized C: ComplexF64[0.29517395332909657 + 0.0im -0.003127108605797041 + 0.2570490615821529im -0.001140227130027367 - 0.005100949479076135im; -0.003127108605797041 - 0.2570490615821529im 0.22388153874410205 + 0.0im -0.004430027270210099 + 0.0010469946053581452im; -0.001140227130027367 + 0.005100949479076135im -0.004430027270210099 - 0.0010469946053581452im 9.255492630046557e-5 + 0.0im]\n"
     ]
    }
   ],
   "source": [
    "# Substitute the optimized parameters back into H and C\n",
    "optimized_H = construct_H(optimized_params)\n",
    "optimized_C = construct_C(optimized_params)\n",
    "\n",
    "println(\"Optimized H: \", optimized_H)\n",
    "println(\"Optimized C: \", optimized_C)"
   ]
  },
  {
   "cell_type": "code",
   "execution_count": 26,
   "metadata": {},
   "outputs": [
    {
     "data": {
      "text/plain": [
       "2×2 Matrix{ComplexF64}:\n",
       "     12.5716+0.0im          -0.00142038+0.000226204im\n",
       " -0.00142038-0.000226204im     -12.5716+0.0im"
      ]
     },
     "metadata": {},
     "output_type": "display_data"
    }
   ],
   "source": [
    "optimized_H"
   ]
  },
  {
   "cell_type": "code",
   "execution_count": 11,
   "metadata": {},
   "outputs": [
    {
     "data": {
      "text/plain": [
       "2×2 Matrix{ComplexF64}:\n",
       "     12.5716+0.0im          -0.00142037+0.000226205im\n",
       " -0.00142037-0.000226205im     -12.5716+0.0im"
      ]
     },
     "metadata": {},
     "output_type": "display_data"
    }
   ],
   "source": [
    "optimized_H"
   ]
  },
  {
   "cell_type": "code",
   "execution_count": 27,
   "metadata": {},
   "outputs": [
    {
     "data": {
      "text/plain": [
       "3×3 Matrix{ComplexF64}:\n",
       "    0.295174+0.0im         -0.00312711+0.257049im    -0.00114023-0.00510095im\n",
       " -0.00312711-0.257049im       0.223882+0.0im         -0.00443003+0.00104699im\n",
       " -0.00114023+0.00510095im  -0.00443003-0.00104699im   9.25549e-5+0.0im"
      ]
     },
     "metadata": {},
     "output_type": "display_data"
    }
   ],
   "source": [
    "optimized_C"
   ]
  },
  {
   "cell_type": "code",
   "execution_count": 12,
   "metadata": {},
   "outputs": [
    {
     "data": {
      "text/plain": [
       "3×3 Matrix{ComplexF64}:\n",
       "    0.295174+0.0im         -0.00312711+0.257049im    -0.00114022-0.00510094im\n",
       " -0.00312711-0.257049im       0.223882+0.0im         -0.00443002+0.00104699im\n",
       " -0.00114022+0.00510094im  -0.00443002-0.00104699im   9.25545e-5+0.0im"
      ]
     },
     "metadata": {},
     "output_type": "display_data"
    }
   ],
   "source": [
    "optimized_C"
   ]
  },
  {
   "cell_type": "code",
   "execution_count": 14,
   "metadata": {},
   "outputs": [
    {
     "data": {
      "text/plain": [
       "get_lindblad_operators (generic function with 1 method)"
      ]
     },
     "metadata": {},
     "output_type": "display_data"
    }
   ],
   "source": [
    "function get_lindblad_operators(C::Matrix{ComplexF64}, basis_ops::Vector{Matrix{ComplexF64}})\n",
    "    # Check that C is a square matrix and basis_ops has the same dimension\n",
    "    n = size(C, 1)\n",
    "    if size(C, 2) != n || length(basis_ops) != n\n",
    "        throw(ArgumentError(\"Dimensions of C and basis_ops do not match\"))\n",
    "    end\n",
    "\n",
    "    # Perform eigenvalue decomposition of C\n",
    "    eigvals, eigvecs = eigen(C)\n",
    "\n",
    "    # Construct the Lindblad operators\n",
    "    lindblad_ops = []\n",
    "    for i in 1:n\n",
    "        if eigvals[i] > 1e-10  # Filter out negligible eigenvalues to ensure numerical stability\n",
    "            lindblad_op = zeros(ComplexF64, size(basis_ops[1]))\n",
    "            for j in 1:n\n",
    "                lindblad_op .+= sqrt(eigvals[i]) * eigvecs[j, i] * basis_ops[j]\n",
    "            end\n",
    "            push!(lindblad_ops, lindblad_op)\n",
    "        end\n",
    "    end\n",
    "\n",
    "    return lindblad_ops\n",
    "end\n",
    "\n"
   ]
  },
  {
   "cell_type": "code",
   "execution_count": 15,
   "metadata": {},
   "outputs": [
    {
     "data": {
      "text/plain": [
       "1-element Vector{Any}:\n",
       " ComplexF64[0.004810262472547129 + 0.0im -0.11367453194597005 - 0.49534483188090633im; -0.00484549139665192 - 0.03486923264058045im -0.004810262472547129 + 0.0im]"
      ]
     },
     "metadata": {},
     "output_type": "display_data"
    }
   ],
   "source": [
    "Hˢⁱᵈ = convert.(ComplexF64,optimized_H)\n",
    "Cˢⁱᵈ = convert.(ComplexF64,optimized_C)\n",
    "\n",
    "effective_Lindblad = get_lindblad_operators(Cˢⁱᵈ, fᴼᴺᴮ)"
   ]
  },
  {
   "cell_type": "code",
   "execution_count": 16,
   "metadata": {},
   "outputs": [],
   "source": [
    "ρᵍ₀ = [ 1 0.\n",
    "        0 0 ]    # state to measure initial distance from\n",
    "\n",
    "dodeca_10_states = [\"D\"*string(n) for n=1:10];\n",
    "\n",
    "basis_states = [\"B\"*string(n) for n=1:4];\n",
    "\n",
    "train_states = basis_states \n",
    "test_states = dodeca_10_states;"
   ]
  },
  {
   "cell_type": "code",
   "execution_count": 17,
   "metadata": {},
   "outputs": [],
   "source": [
    "using QuantumOptics\n",
    "basis = NLevelBasis(2)\n",
    "\n",
    "include(\"../LiPoSID.jl\")\n",
    "\n",
    "using Statistics"
   ]
  },
  {
   "cell_type": "code",
   "execution_count": 18,
   "metadata": {},
   "outputs": [
    {
     "name": "stdout",
     "output_type": "stream",
     "text": [
      "D1 D2 D3 D4 D5 D6 D7 D8 D9 D10 \n",
      "Mimimal fidelity for 0.25133: 0.9995188642547398\n",
      "Median fidelity for 0.25133: 0.9999049135197418\n"
     ]
    }
   ],
   "source": [
    "FminStates = []\n",
    "FmedianStates = []\n",
    "FmeanStates = []\n",
    "\n",
    "for state in test_states # loop over initial states\n",
    "    \n",
    "    print(state*\" \")\n",
    "\n",
    "    start_time = time()\n",
    "\n",
    "    tₛ, ρₛ = read_timeevolution(file_name, state, γᵢ)\n",
    "    ρₛ = convert(Vector{Matrix{ComplexF64}}, ρₛ)\n",
    "    #bᵗˢᵗ = LiPoSID.bloch(ρₛ)\n",
    "    ρᵗˢᵗ = [DenseOperator(basis,Hermitian(ρₜ)) for ρₜ in ρₛ]\n",
    "    tᵗˢᵗ = convert.(Float64, tₛ)\n",
    "\n",
    "    #Simulated LME \n",
    "    #tˢⁱᵐ, ρˢⁱᵐ  = timeevolution.master(tᵗˢᵗ, ρᵗˢᵗ[1], DenseOperator(basis, Hˢⁱᵈ), [Jˢⁱᵐ])\n",
    "    #bˢⁱᵐ = LiPoSID.bloch([ρᵢ.data for ρᵢ in ρˢⁱᵐ])\n",
    "\n",
    "    ρₒ = DenseOperator(basis,ρₛ[1])\n",
    "    dt = tᵗˢᵗ[2] - tᵗˢᵗ[1]\n",
    "    tᵉⁿᵈ = tᵗˢᵗ[end]\n",
    "\n",
    "    #print(\"effective_Lindblad_ops for Kossakowski\")\n",
    "\n",
    "    \n",
    "    effective_Lindblad_ops = [DenseOperator(basis,j) for j in effective_Lindblad]\n",
    "\n",
    "    #print(\"Simulating Kossakowski\")\n",
    "\n",
    "    tout, ρ_t_kossak = timeevolution.master(tᵗˢᵗ, ρₒ, DenseOperator(basis, Hˢⁱᵈ), effective_Lindblad_ops)\n",
    "    ρˢⁱᵈ  = [ρₜ.data for ρₜ in ρ_t_kossak]\n",
    "\n",
    "    #print(\"Calculating Fidelity\")\n",
    "\n",
    "    #F = LiPoSID.fidelity_series(basis, [ρₜ.data for ρₜ in ρˢⁱᵐ], ρˢⁱᵈ)\n",
    "    F = LiPoSID.fidelity_series(basis, ρₛ, ρˢⁱᵈ)\n",
    "    \n",
    "    FminState = minimum(F)\n",
    "    FmedianState = median(F)\n",
    "    FmeanState = mean(F)\n",
    "    \n",
    "    push!(FminStates, FminState)\n",
    "    push!(FmedianStates, FmedianState)\n",
    "    push!(FmeanStates, FmeanState)\n",
    "\n",
    "end\n",
    "\n",
    "# Calculate the mean\n",
    "F_mean_value = mean(FmeanStates)\n",
    "\n",
    "# Calculate the median\n",
    "F_median_value = median(FmedianStates)\n",
    "\n",
    "# Calculate the min\n",
    "F_min_value = minimum(FminStates)\n",
    "\n",
    "println()\n",
    "println(\"Mimimal fidelity for \"*γᵢ*\": \", F_min_value)\n",
    "println(\"Median fidelity for \"*γᵢ*\": \", F_median_value)"
   ]
  }
 ],
 "metadata": {
  "kernelspec": {
   "display_name": "Julia 1.10.2",
   "language": "julia",
   "name": "julia-1.10"
  },
  "language_info": {
   "file_extension": ".jl",
   "mimetype": "application/julia",
   "name": "julia",
   "version": "1.10.2"
  }
 },
 "nbformat": 4,
 "nbformat_minor": 2
}
