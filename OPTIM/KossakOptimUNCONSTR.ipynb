{
 "cells": [
  {
   "cell_type": "code",
   "execution_count": 1,
   "metadata": {},
   "outputs": [],
   "source": [
    "using LinearAlgebra\n",
    "using Optim\n",
    "using HDF5"
   ]
  },
  {
   "cell_type": "markdown",
   "metadata": {},
   "source": [
    "Fidelity for qubit can be written:\n",
    "\n",
    "$F(\\rho, \\sigma) = \\operatorname{tr}(\\rho \\sigma) + 2\\sqrt{\\det(\\rho) \\det(\\sigma)}$"
   ]
  },
  {
   "cell_type": "code",
   "execution_count": 2,
   "metadata": {},
   "outputs": [
    {
     "data": {
      "text/plain": [
       "infidelity_norm (generic function with 1 method)"
      ]
     },
     "metadata": {},
     "output_type": "display_data"
    }
   ],
   "source": [
    "function infidelity_norm(ρ, σ)\n",
    "    abs(1 - real(tr(ρ * σ)) - 2*sqrt(abs(det(ρ)*det(σ))))\n",
    "end"
   ]
  },
  {
   "cell_type": "code",
   "execution_count": 3,
   "metadata": {},
   "outputs": [
    {
     "data": {
      "text/plain": [
       "kossak_obj (generic function with 1 method)"
      ]
     },
     "metadata": {},
     "output_type": "display_data"
    }
   ],
   "source": [
    "function read_timeevolution(file_name, state, γ)\n",
    "    h5open(file_name, \"r\") do file\n",
    "        ρᵧ = read(file[state][string(γ)])\n",
    "        t = ρᵧ[\"t\"]\n",
    "        ρ₀₀ = ρᵧ[\"p0\"]; Re_ρ₀₁ = ρᵧ[\"s_re\"];  Im_ρ₀₁ = ρᵧ[\"s_im\"]\n",
    "        ρ_series = []\n",
    "        t_series = []\n",
    "\n",
    "        for i in 1:length(t)\n",
    "            ρᵢ= [ ρ₀₀[i]                      Re_ρ₀₁[i] + im * Im_ρ₀₁[i]\n",
    "                  Re_ρ₀₁[i] - im * Im_ρ₀₁[i]  1 - ρ₀₀[i]                 ]\n",
    "            push!(ρ_series, convert(Matrix{ComplexF64}, ρᵢ))\n",
    "            push!(t_series, convert(Float64, t[i]))\n",
    "        end\n",
    "        return(t_series, ρ_series)\n",
    "    end\n",
    "end\n",
    "\n",
    "# Define the Pauli matrices\n",
    "σˣ = [0 1; 1 0]\n",
    "σʸ = [0 im; -im 0]\n",
    "σᶻ = [1 0; 0 -1]\n",
    "\n",
    "# Define the basis elements\n",
    "fᴷ₁ = σˣ / 2\n",
    "fᴷ₂ = σʸ / 2\n",
    "fᴷ₃ = σᶻ / 2\n",
    "\n",
    "# Check orthogonality and normalization\n",
    "@assert tr(fᴷ₁ * fᴷ₂) ≈ 0\n",
    "@assert tr(fᴷ₁ * fᴷ₃) ≈ 0\n",
    "@assert tr(fᴷ₂ * fᴷ₃) ≈ 0\n",
    "@assert tr(fᴷ₁ * fᴷ₁) ≈ 1 / 2\n",
    "@assert tr(fᴷ₂ * fᴷ₂) ≈ 1 / 2\n",
    "@assert tr(fᴷ₃ * fᴷ₃) ≈ 1 / 2\n",
    "\n",
    "fᴼᴺᴮ = [fᴷ₁, fᴷ₂, fᴷ₃]\n",
    "\n",
    "# Function to calculate Dc\n",
    "function Dc(ρ, t, H, C)\n",
    "    U = (H * ρ - ρ * H) / im\n",
    "    D = sum(C .* [2 * fᵢ * ρ * fⱼ' - ρ * fⱼ' * fᵢ - fⱼ' * fᵢ * ρ for fᵢ in fᴼᴺᴮ, fⱼ in fᴼᴺᴮ]) / 2\n",
    "    return U + D\n",
    "end\n",
    "\n",
    "function construct_H(params)\n",
    "    ϵ, h_Re, h_Im = params[1:3]\n",
    "    return [\n",
    "        ϵ               h_Re + im * h_Im\n",
    "        h_Re - im * h_Im -ϵ\n",
    "    ] / 2\n",
    "end\n",
    "\n",
    "function construct_C(params)\n",
    "    m_Re = reshape(params[4:12], (3, 3))\n",
    "    m_Im = reshape(params[13:21], (3, 3))\n",
    "    M = m_Re + im * m_Im\n",
    "    return M * M'\n",
    "end\n",
    "\n",
    "\n",
    "# Define the objective function for optimization\n",
    "function kossak_obj(params, ρ, t)\n",
    "    H = construct_H(params)\n",
    "    C = construct_C(params)\n",
    "\n",
    "    obj = 0.0\n",
    "    for i in 3:length(ρ)\n",
    "        ρ1 = ρ[i]\n",
    "        ρ2 = ρ[i - 2] + (t[i] - t[i - 1]) * (Dc(ρ[i], t[i], H, C) + 4 * Dc(ρ[i - 1], t[i - 1], H, C) + Dc(ρ[i - 2], t[i - 2], H, C)) / 3\n",
    "        obj += infidelity_norm(ρ1,ρ2)\n",
    "    end\n",
    "    return obj\n",
    "end"
   ]
  },
  {
   "cell_type": "code",
   "execution_count": 4,
   "metadata": {},
   "outputs": [],
   "source": [
    "# Define initial parameters\n",
    "initial_params = [0.0, 0.0, 0.0,  # H parameters: ϵ, h_Re, h_Im\n",
    "                  0.0, 0.0, 0.0, 0.0, 0.0, 0.0, 0.0, 0.0, 0.0,  # m_Re parameters\n",
    "                  0.0, 0.0, 0.0, 0.0, 0.0, 0.0, 0.0, 0.0, 0.0]; # m_Im parameters\n",
    "\n",
    "initial_params .+= 1;"
   ]
  },
  {
   "cell_type": "code",
   "execution_count": 5,
   "metadata": {},
   "outputs": [
    {
     "data": {
      "text/plain": [
       "objective (generic function with 1 method)"
      ]
     },
     "metadata": {},
     "output_type": "display_data"
    }
   ],
   "source": [
    "# Define the objective function wrapper\n",
    "function objective(params)\n",
    "\n",
    "    objGEXY = kossak_obj(params, ρᵍ, tᵍ) + kossak_obj(params, ρᵉ, tᵉ) + kossak_obj(params, ρˣ, tˣ) + kossak_obj(params, ρʸ, tʸ)\n",
    "\n",
    "    return objGEXY\n",
    "end"
   ]
  },
  {
   "cell_type": "code",
   "execution_count": 6,
   "metadata": {},
   "outputs": [],
   "source": [
    "# Define the density matrix evolution and time points\n",
    "\n",
    "file_name = \"../DATA/ALL_GAMMAS_B4_D10.h5\"\n",
    "\n",
    "#γ = [ \"0.079477\",  \"0.25133\", \"0.79477\", \"2.5133\", \"7.9477\", \"25.133\", \"79.477\", \"251.33\"]\n",
    "\n",
    "γᵢ = \"0.25133\"\n",
    "γᶠ = parse(ComplexF64, γᵢ)\n",
    "\n",
    "tᵍ, ρᵍ = read_timeevolution(file_name, \"B1\", γᵢ)\n",
    "tᵉ, ρᵉ = read_timeevolution(file_name, \"B2\", γᵢ)\n",
    "tˣ, ρˣ = read_timeevolution(file_name, \"B3\", γᵢ)\n",
    "tʸ, ρʸ = read_timeevolution(file_name, \"B4\", γᵢ);"
   ]
  },
  {
   "cell_type": "code",
   "execution_count": 7,
   "metadata": {},
   "outputs": [
    {
     "data": {
      "text/plain": [
       " * Status: success\n",
       "\n",
       " * Candidate solution\n",
       "    Final objective value:     2.186071e-03\n",
       "\n",
       " * Found with\n",
       "    Algorithm:     BFGS\n",
       "\n",
       " * Convergence measures\n",
       "    |x - x'|               = 8.18e-11 ≰ 0.0e+00\n",
       "    |x - x'|/|x'|          = 3.25e-12 ≰ 0.0e+00\n",
       "    |f(x) - f(x')|         = 1.09e-15 ≰ 0.0e+00\n",
       "    |f(x) - f(x')|/|f(x')| = 5.01e-13 ≰ 0.0e+00\n",
       "    |g(x)|                 = 5.59e-13 ≤ 1.0e-12\n",
       "\n",
       " * Work counters\n",
       "    Seconds run:   234  (vs limit Inf)\n",
       "    Iterations:    37\n",
       "    f(x) calls:    109\n",
       "    ∇f(x) calls:   109\n"
      ]
     },
     "metadata": {},
     "output_type": "display_data"
    }
   ],
   "source": [
    "# Perform the optimization\n",
    "result = optimize(objective, initial_params, \n",
    "                  method = BFGS(),\n",
    "                  g_tol = 1e-12, #show_trace = true;\n",
    "                  autodiff = :forward)"
   ]
  },
  {
   "cell_type": "code",
   "execution_count": 8,
   "metadata": {},
   "outputs": [
    {
     "name": "stdout",
     "output_type": "stream",
     "text": [
      "Optimized parameters: [25.143185876808356, -0.002840754543901477, 0.0004524072728101551, -0.16470770313168764, -0.2307262345180289, 0.005249468551447022, -0.1647077031452219, -0.23072623450498772, 0.005249468597646709, -0.16470770312878155, -0.23072623451811222, 0.005249468545918524, -0.2669507262203703, 0.14626203955324524, -0.0018151369073610693, -0.26695072620530214, 0.14626203956481212, -0.0018151369154327576, -0.2669507262204495, 0.1462620395507449, -0.001815136911411056]\n"
     ]
    }
   ],
   "source": [
    "# Extract optimized parameters\n",
    "optimized_params = result.minimizer\n",
    "\n",
    "println(\"Optimized parameters: \", optimized_params)"
   ]
  },
  {
   "cell_type": "code",
   "execution_count": 9,
   "metadata": {},
   "outputs": [
    {
     "name": "stdout",
     "output_type": "stream",
     "text": [
      "Optimized H: ComplexF64[12.571592938404178 + 0.0im -0.0014203772719507384 + 0.00022620363640507755im; -0.0014203772719507384 - 0.00022620363640507755im -12.571592938404178 + 0.0im]\n",
      "Optimized C: ComplexF64[0.29517395309699623 + 0.0im -0.0031271086124811595 + 0.2570490613546815im -0.0011402273800302635 - 0.005100949431676668im; -0.0031271086124811595 - 0.2570490613546815im 0.22388153852410342 + 0.0im -0.004430027225810836 + 0.0010469948226284021im; -0.0011402273800302635 + 0.005100949431676668im -0.004430027225810836 - 0.0010469948226284021im 9.255492666629606e-5 + 0.0im]\n"
     ]
    }
   ],
   "source": [
    "# Substitute the optimized parameters back into H and C\n",
    "optimized_H = construct_H(optimized_params)\n",
    "optimized_C = construct_C(optimized_params)\n",
    "\n",
    "println(\"Optimized H: \", optimized_H)\n",
    "println(\"Optimized C: \", optimized_C)"
   ]
  },
  {
   "cell_type": "code",
   "execution_count": 10,
   "metadata": {},
   "outputs": [
    {
     "data": {
      "text/plain": [
       "2×2 Matrix{ComplexF64}:\n",
       "     12.5716+0.0im          -0.00142038+0.000226204im\n",
       " -0.00142038-0.000226204im     -12.5716+0.0im"
      ]
     },
     "metadata": {},
     "output_type": "display_data"
    }
   ],
   "source": [
    "optimized_H"
   ]
  },
  {
   "cell_type": "code",
   "execution_count": 11,
   "metadata": {},
   "outputs": [
    {
     "data": {
      "text/plain": [
       "3×3 Matrix{ComplexF64}:\n",
       "    0.295174+0.0im         -0.00312711+0.257049im    -0.00114023-0.00510095im\n",
       " -0.00312711-0.257049im       0.223882+0.0im         -0.00443003+0.00104699im\n",
       " -0.00114023+0.00510095im  -0.00443003-0.00104699im   9.25549e-5+0.0im"
      ]
     },
     "metadata": {},
     "output_type": "display_data"
    }
   ],
   "source": [
    "optimized_C"
   ]
  },
  {
   "cell_type": "code",
   "execution_count": 12,
   "metadata": {},
   "outputs": [
    {
     "data": {
      "text/plain": [
       "get_lindblad_operators (generic function with 1 method)"
      ]
     },
     "metadata": {},
     "output_type": "display_data"
    }
   ],
   "source": [
    "function get_lindblad_operators(C::Matrix{ComplexF64}, basis_ops::Vector{Matrix{ComplexF64}})\n",
    "    # Check that C is a square matrix and basis_ops has the same dimension\n",
    "    n = size(C, 1)\n",
    "    if size(C, 2) != n || length(basis_ops) != n\n",
    "        throw(ArgumentError(\"Dimensions of C and basis_ops do not match\"))\n",
    "    end\n",
    "\n",
    "    # Perform eigenvalue decomposition of C\n",
    "    eigvals, eigvecs = eigen(C)\n",
    "\n",
    "    # Construct the Lindblad operators\n",
    "    lindblad_ops = []\n",
    "    for i in 1:n\n",
    "        if eigvals[i] > 1e-10  # Filter out negligible eigenvalues to ensure numerical stability\n",
    "            lindblad_op = zeros(ComplexF64, size(basis_ops[1]))\n",
    "            for j in 1:n\n",
    "                lindblad_op .+= sqrt(eigvals[i]) * eigvecs[j, i] * basis_ops[j]\n",
    "            end\n",
    "            push!(lindblad_ops, lindblad_op)\n",
    "        end\n",
    "    end\n",
    "\n",
    "    return lindblad_ops\n",
    "end\n",
    "\n"
   ]
  },
  {
   "cell_type": "code",
   "execution_count": 13,
   "metadata": {},
   "outputs": [
    {
     "data": {
      "text/plain": [
       "1-element Vector{Any}:\n",
       " ComplexF64[0.004810273554235148 + 0.0im -0.11367452276871826 - 0.4953448359031511im; -0.004845491444024831 - 0.03486923343866416im -0.004810273554235148 + 0.0im]"
      ]
     },
     "metadata": {},
     "output_type": "display_data"
    }
   ],
   "source": [
    "Hˢⁱᵈ = convert.(ComplexF64,optimized_H)\n",
    "Cˢⁱᵈ = convert.(ComplexF64,optimized_C)\n",
    "\n",
    "effective_Lindblad = get_lindblad_operators(Cˢⁱᵈ, fᴼᴺᴮ)"
   ]
  },
  {
   "cell_type": "code",
   "execution_count": 14,
   "metadata": {},
   "outputs": [],
   "source": [
    "ρᵍ₀ = [ 1 0.\n",
    "        0 0 ]    # state to measure initial distance from\n",
    "\n",
    "dodeca_10_states = [\"D\"*string(n) for n=1:10];\n",
    "\n",
    "basis_states = [\"B\"*string(n) for n=1:4];\n",
    "\n",
    "train_states = basis_states \n",
    "test_states = dodeca_10_states;"
   ]
  },
  {
   "cell_type": "code",
   "execution_count": 15,
   "metadata": {},
   "outputs": [
    {
     "name": "stderr",
     "output_type": "stream",
     "text": [
      "┌ Warning: Package LinearSolve does not have KrylovKit in its dependencies:\n",
      "│ - If you have LinearSolve checked out for development and have\n",
      "│   added KrylovKit as a dependency but haven't updated your primary\n",
      "│   environment's manifest file, try `Pkg.resolve()`.\n",
      "│ - Otherwise you may need to report an issue with LinearSolve\n",
      "│ Loading KrylovKit into LinearSolve from project dependency, future warnings for LinearSolve are suppressed.\n",
      "└ @ nothing nothing:984\n"
     ]
    }
   ],
   "source": [
    "using QuantumOptics\n",
    "basis = NLevelBasis(2)\n",
    "\n",
    "include(\"../LiPoSID.jl\")\n",
    "\n",
    "using Statistics"
   ]
  },
  {
   "cell_type": "code",
   "execution_count": 16,
   "metadata": {},
   "outputs": [
    {
     "name": "stdout",
     "output_type": "stream",
     "text": [
      "D1 D2 D3 D4 D5 D6 D7 D8 D9 D10 \n",
      "Mimimal fidelity for 0.25133: 0.9995188642141974\n",
      "Median fidelity for 0.25133: 0.9999049135214302\n"
     ]
    }
   ],
   "source": [
    "FminStates = []\n",
    "FmedianStates = []\n",
    "FmeanStates = []\n",
    "\n",
    "for state in test_states # loop over initial states\n",
    "    \n",
    "    print(state*\" \")\n",
    "\n",
    "    start_time = time()\n",
    "\n",
    "    tₛ, ρₛ = read_timeevolution(file_name, state, γᵢ)\n",
    "    ρₛ = convert(Vector{Matrix{ComplexF64}}, ρₛ)\n",
    "    #bᵗˢᵗ = LiPoSID.bloch(ρₛ)\n",
    "    ρᵗˢᵗ = [DenseOperator(basis,Hermitian(ρₜ)) for ρₜ in ρₛ]\n",
    "    tᵗˢᵗ = convert.(Float64, tₛ)\n",
    "\n",
    "    #Simulated LME \n",
    "    #tˢⁱᵐ, ρˢⁱᵐ  = timeevolution.master(tᵗˢᵗ, ρᵗˢᵗ[1], DenseOperator(basis, Hˢⁱᵈ), [Jˢⁱᵐ])\n",
    "    #bˢⁱᵐ = LiPoSID.bloch([ρᵢ.data for ρᵢ in ρˢⁱᵐ])\n",
    "\n",
    "    ρₒ = DenseOperator(basis,ρₛ[1])\n",
    "    dt = tᵗˢᵗ[2] - tᵗˢᵗ[1]\n",
    "    tᵉⁿᵈ = tᵗˢᵗ[end]\n",
    "\n",
    "    #print(\"effective_Lindblad_ops for Kossakowski\")\n",
    "\n",
    "    \n",
    "    effective_Lindblad_ops = [DenseOperator(basis,j) for j in effective_Lindblad]\n",
    "\n",
    "    #print(\"Simulating Kossakowski\")\n",
    "\n",
    "    tout, ρ_t_kossak = timeevolution.master(tᵗˢᵗ, ρₒ, DenseOperator(basis, Hˢⁱᵈ), effective_Lindblad_ops)\n",
    "    ρˢⁱᵈ  = [ρₜ.data for ρₜ in ρ_t_kossak]\n",
    "\n",
    "    #print(\"Calculating Fidelity\")\n",
    "\n",
    "    #F = LiPoSID.fidelity_series(basis, [ρₜ.data for ρₜ in ρˢⁱᵐ], ρˢⁱᵈ)\n",
    "    F = LiPoSID.fidelity_series(basis, ρₛ, ρˢⁱᵈ)\n",
    "    \n",
    "    FminState = minimum(F)\n",
    "    FmedianState = median(F)\n",
    "    FmeanState = mean(F)\n",
    "    \n",
    "    push!(FminStates, FminState)\n",
    "    push!(FmedianStates, FmedianState)\n",
    "    push!(FmeanStates, FmeanState)\n",
    "\n",
    "end\n",
    "\n",
    "# Calculate the mean\n",
    "F_mean_value = mean(FmeanStates)\n",
    "\n",
    "# Calculate the median\n",
    "F_median_value = median(FmedianStates)\n",
    "\n",
    "# Calculate the min\n",
    "F_min_value = minimum(FminStates)\n",
    "\n",
    "println()\n",
    "println(\"Mimimal fidelity for \"*γᵢ*\": \", F_min_value)\n",
    "println(\"Median fidelity for \"*γᵢ*\": \", F_median_value)"
   ]
  },
  {
   "cell_type": "markdown",
   "metadata": {},
   "source": [
    "D1 D2 D3 D4 D5 D6 D7 D8 D9 D10 \n",
    "\n",
    "Mimimal fidelity for 0.25133: 0.9995188642141652\n",
    "\n",
    "Median fidelity for 0.25133: 0.9999049135214064"
   ]
  },
  {
   "cell_type": "markdown",
   "metadata": {},
   "source": []
  }
 ],
 "metadata": {
  "kernelspec": {
   "display_name": "Julia 1.7.3",
   "language": "julia",
   "name": "julia-1.7"
  },
  "language_info": {
   "file_extension": ".jl",
   "mimetype": "application/julia",
   "name": "julia",
   "version": "1.7.3"
  }
 },
 "nbformat": 4,
 "nbformat_minor": 2
}
