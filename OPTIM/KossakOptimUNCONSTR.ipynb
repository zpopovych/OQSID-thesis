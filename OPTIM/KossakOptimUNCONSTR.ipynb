{
 "cells": [
  {
   "cell_type": "code",
   "execution_count": 1,
   "metadata": {},
   "outputs": [],
   "source": [
    "using LinearAlgebra\n",
    "using Optim\n",
    "using HDF5"
   ]
  },
  {
   "cell_type": "markdown",
   "metadata": {},
   "source": [
    "Fidelity for qubit can be written:\n",
    "\n",
    "$F(\\rho, \\sigma) = \\operatorname{tr}(\\rho \\sigma) + 2\\sqrt{\\det(\\rho) \\det(\\sigma)}$"
   ]
  },
  {
   "cell_type": "code",
   "execution_count": 2,
   "metadata": {},
   "outputs": [
    {
     "data": {
      "text/plain": [
       "infidelity_norm (generic function with 1 method)"
      ]
     },
     "metadata": {},
     "output_type": "display_data"
    }
   ],
   "source": [
    "function infidelity_norm(ρ, σ)\n",
    "    1 - tr(ρ * σ) - 2*sqrt(det(ρ)*det(σ))\n",
    "end"
   ]
  },
  {
   "cell_type": "code",
   "execution_count": 7,
   "metadata": {},
   "outputs": [
    {
     "data": {
      "text/plain": [
       "kossak_obj (generic function with 1 method)"
      ]
     },
     "metadata": {},
     "output_type": "display_data"
    }
   ],
   "source": [
    "function read_timeevolution(file_name, state, γ)\n",
    "    h5open(file_name, \"r\") do file\n",
    "        ρᵧ = read(file[state][string(γ)])\n",
    "        t = ρᵧ[\"t\"]\n",
    "        ρ₀₀ = ρᵧ[\"p0\"]; Re_ρ₀₁ = ρᵧ[\"s_re\"];  Im_ρ₀₁ = ρᵧ[\"s_im\"]\n",
    "        ρ_series = []\n",
    "        t_series = []\n",
    "\n",
    "        for i in 1:length(t)\n",
    "            ρᵢ= [ ρ₀₀[i]                      Re_ρ₀₁[i] + im * Im_ρ₀₁[i]\n",
    "                  Re_ρ₀₁[i] - im * Im_ρ₀₁[i]  1 - ρ₀₀[i]                 ]\n",
    "            push!(ρ_series, convert(Matrix{ComplexF64}, ρᵢ))\n",
    "            push!(t_series, convert(Float64, t[i]))\n",
    "        end\n",
    "        return(t_series, ρ_series)\n",
    "    end\n",
    "end\n",
    "\n",
    "# Define the Pauli matrices\n",
    "σˣ = [0 1; 1 0]\n",
    "σʸ = [0 im; -im 0]\n",
    "σᶻ = [1 0; 0 -1]\n",
    "\n",
    "# Define the basis elements\n",
    "fᴷ₁ = σˣ / 2\n",
    "fᴷ₂ = σʸ / 2\n",
    "fᴷ₃ = σᶻ / 2\n",
    "\n",
    "# Check orthogonality and normalization\n",
    "@assert tr(fᴷ₁ * fᴷ₂) ≈ 0\n",
    "@assert tr(fᴷ₁ * fᴷ₃) ≈ 0\n",
    "@assert tr(fᴷ₂ * fᴷ₃) ≈ 0\n",
    "@assert tr(fᴷ₁ * fᴷ₁) ≈ 1 / 2\n",
    "@assert tr(fᴷ₂ * fᴷ₂) ≈ 1 / 2\n",
    "@assert tr(fᴷ₃ * fᴷ₃) ≈ 1 / 2\n",
    "\n",
    "fᴼᴺᴮ = [fᴷ₁, fᴷ₂, fᴷ₃]\n",
    "\n",
    "# Function to calculate Dc\n",
    "function Dc(ρ, t, H, C)\n",
    "    U = (H * ρ - ρ * H) / im\n",
    "    D = sum(C .* [2 * fᵢ * ρ * fⱼ' - ρ * fⱼ' * fᵢ - fⱼ' * fᵢ * ρ for fᵢ in fᴼᴺᴮ, fⱼ in fᴼᴺᴮ]) / 2\n",
    "    return U + D\n",
    "end\n",
    "\n",
    "function construct_H(params)\n",
    "    ϵ, h_Re, h_Im = params[1:3]\n",
    "    return [\n",
    "        ϵ               h_Re + im * h_Im\n",
    "        h_Re - im * h_Im -ϵ\n",
    "    ] / 2\n",
    "end\n",
    "\n",
    "function construct_C(params)\n",
    "    m_Re = reshape(params[4:12], (3, 3))\n",
    "    m_Im = reshape(params[13:21], (3, 3))\n",
    "    M = m_Re + im * m_Im\n",
    "    return M * M'\n",
    "end\n",
    "\n",
    "\n",
    "# Define the objective function for optimization\n",
    "function kossak_obj(params, ρ, t)\n",
    "    H = construct_H(params)\n",
    "    C = construct_C(params)\n",
    "\n",
    "    obj = 0.0\n",
    "    for i in 3:length(ρ)\n",
    "        ρ1 = ρ[i]\n",
    "        ρ2 = ρ[i - 2] + (t[i] - t[i - 1]) * (Dc(ρ[i], t[i], H, C) - 4 * Dc(ρ[i - 1], t[i - 1], H, C) + Dc(ρ[i - 2], t[i - 2], H, C)) / 3\n",
    "        obj += infidelity_norm(ρ1,ρ2)\n",
    "    end\n",
    "    return obj\n",
    "end"
   ]
  },
  {
   "cell_type": "code",
   "execution_count": 15,
   "metadata": {},
   "outputs": [
    {
     "data": {
      "text/plain": [
       "21-element Vector{Float64}:\n",
       " 0.0\n",
       " 0.0\n",
       " 0.0\n",
       " 0.0\n",
       " 0.0\n",
       " 0.0\n",
       " 0.0\n",
       " 0.0\n",
       " 0.0\n",
       " 0.0\n",
       " ⋮\n",
       " 0.0\n",
       " 0.0\n",
       " 0.0\n",
       " 0.0\n",
       " 0.0\n",
       " 0.0\n",
       " 0.0\n",
       " 0.0\n",
       " 0.0"
      ]
     },
     "metadata": {},
     "output_type": "display_data"
    }
   ],
   "source": [
    "# Define initial parameters\n",
    "initial_params = [0.0, 0.0, 0.0,  # H parameters: ϵ, h_Re, h_Im\n",
    "                  0.0, 0.0, 0.0, 0.0, 0.0, 0.0, 0.0, 0.0, 0.0,  # m_Re parameters\n",
    "                  0.0, 0.0, 0.0, 0.0, 0.0, 0.0, 0.0, 0.0, 0.0]; # m_Im parameters\n",
    "\n",
    "#initial_params .+= 1;"
   ]
  },
  {
   "cell_type": "code",
   "execution_count": 16,
   "metadata": {},
   "outputs": [
    {
     "data": {
      "text/plain": [
       "objective (generic function with 1 method)"
      ]
     },
     "metadata": {},
     "output_type": "display_data"
    }
   ],
   "source": [
    "# Define the objective function wrapper\n",
    "function objective(params)\n",
    "\n",
    "    objGEXY = kossak_obj(params, ρᵍ, tᵍ) + kossak_obj(params, ρᵉ, tᵉ) + kossak_obj(params, ρˣ, tˣ) + kossak_obj(params, ρʸ, tʸ)\n",
    "\n",
    "    return objGEXY\n",
    "end"
   ]
  },
  {
   "cell_type": "code",
   "execution_count": 17,
   "metadata": {},
   "outputs": [],
   "source": [
    "# Define the density matrix evolution and time points\n",
    "\n",
    "file_name = \"../DATA/ALL_GAMMAS_B4_D10.h5\"\n",
    "\n",
    "#γ = [ \"0.079477\",  \"0.25133\", \"0.79477\", \"2.5133\", \"7.9477\", \"25.133\", \"79.477\", \"251.33\"]\n",
    "\n",
    "γ = \"0.25133\"\n",
    "γᶠ = parse(ComplexF64, γ)\n",
    "\n",
    "tᵍ, ρᵍ = read_timeevolution(file_name, \"B1\", γ)\n",
    "tᵉ, ρᵉ = read_timeevolution(file_name, \"B2\", γ)\n",
    "tˣ, ρˣ = read_timeevolution(file_name, \"B3\", γ)\n",
    "tʸ, ρʸ = read_timeevolution(file_name, \"B4\", γ);"
   ]
  },
  {
   "cell_type": "code",
   "execution_count": 18,
   "metadata": {},
   "outputs": [
    {
     "ename": "InexactError",
     "evalue": "InexactError: Float64(32.695882843330764 + 2.9420374492301747e-16im)",
     "output_type": "error",
     "traceback": [
      "InexactError: Float64(32.695882843330764 + 2.9420374492301747e-16im)\n",
      "\n",
      "Stacktrace:\n",
      "  [1] Real\n",
      "    @ ./complex.jl:44 [inlined]\n",
      "  [2] convert(::Type{Float64}, x::ComplexF64)\n",
      "    @ Base ./number.jl:7\n",
      "  [3] setproperty!(x::OnceDifferentiable{Float64, Vector{Float64}, Vector{Float64}}, f::Symbol, v::ComplexF64)\n",
      "    @ Base ./Base.jl:40\n",
      "  [4] value_gradient!!(obj::OnceDifferentiable{Float64, Vector{Float64}, Vector{Float64}}, x::Vector{Float64})\n",
      "    @ NLSolversBase ~/.julia/packages/NLSolversBase/kavn7/src/interface.jl:82\n",
      "  [5] initial_state(method::BFGS{LineSearches.InitialStatic{Float64}, LineSearches.HagerZhang{Float64, Base.RefValue{Bool}}, Nothing, Nothing, Flat}, options::Optim.Options{Float64, Nothing}, d::OnceDifferentiable{Float64, Vector{Float64}, Vector{Float64}}, initial_x::Vector{Float64})\n",
      "    @ Optim ~/.julia/packages/Optim/V8ZEC/src/multivariate/solvers/first_order/bfgs.jl:94\n",
      "  [6] optimize\n",
      "    @ ~/.julia/packages/Optim/V8ZEC/src/multivariate/optimize/optimize.jl:36 [inlined]\n",
      "  [7] #optimize#89\n",
      "    @ ~/.julia/packages/Optim/V8ZEC/src/multivariate/optimize/interface.jl:143 [inlined]\n",
      "  [8] optimize\n",
      "    @ ~/.julia/packages/Optim/V8ZEC/src/multivariate/optimize/interface.jl:139 [inlined]\n",
      "  [9] optimize(f::Function, initial_x::Vector{Float64}, method::BFGS{LineSearches.InitialStatic{Float64}, LineSearches.HagerZhang{Float64, Base.RefValue{Bool}}, Nothing, Nothing, Flat})\n",
      "    @ Optim ~/.julia/packages/Optim/V8ZEC/src/multivariate/optimize/interface.jl:139\n",
      " [10] top-level scope\n",
      "    @ ~/github/OQSID-thesis/OPTIM/jl_notebook_cell_df34fa98e69747e1a8f8a730347b8e2f_X20sZmlsZQ==.jl:2"
     ]
    }
   ],
   "source": [
    "# Perform the optimization\n",
    "result = optimize(objective, initial_params, BFGS())\n",
    "\n",
    "# Extract optimized parameters\n",
    "optimized_params = result.minimizer\n",
    "\n",
    "println(\"Optimized parameters: \", optimized_params)"
   ]
  },
  {
   "cell_type": "code",
   "execution_count": 8,
   "metadata": {},
   "outputs": [
    {
     "name": "stdout",
     "output_type": "stream",
     "text": [
      "Optimized H: ComplexF64[-37.01711919481118 + 0.0im 0.0005283032515956767 + 0.0047154387231420295im; 0.0005283032515956767 - 0.0047154387231420295im 37.01711919481118 + 0.0im]\n",
      "Optimized C: ComplexF64[-1.4970537606257934 + 0.0im 0.0 - 0.7544809023334264im 0.0 + 0.0010658021670910036im; 0.0 + 0.7544809023334264im -0.016876039520281827 + 0.0im -0.0 + 0.007840533162501363im; 0.0 - 0.0010658021670910036im -0.0 - 0.007840533162501363im 0.04393659463284538 + 0.0im]\n"
     ]
    }
   ],
   "source": [
    "# Substitute the optimized parameters back into H and C\n",
    "optimized_H = construct_H(optimized_params)\n",
    "optimized_C = construct_C(optimized_params)\n",
    "\n",
    "println(\"Optimized H: \", optimized_H)\n",
    "println(\"Optimized C: \", optimized_C)"
   ]
  },
  {
   "cell_type": "code",
   "execution_count": 9,
   "metadata": {},
   "outputs": [
    {
     "data": {
      "text/plain": [
       "2×2 Matrix{ComplexF64}:\n",
       "    -37.0171+0.0im         0.000528303+0.00471544im\n",
       " 0.000528303-0.00471544im      37.0171+0.0im"
      ]
     },
     "metadata": {},
     "output_type": "display_data"
    }
   ],
   "source": [
    "optimized_H"
   ]
  },
  {
   "cell_type": "code",
   "execution_count": 10,
   "metadata": {},
   "outputs": [
    {
     "data": {
      "text/plain": [
       "3×3 Matrix{ComplexF64}:\n",
       " -1.49705+0.0im              0.0-0.754481im          0.0+0.0010658im\n",
       "      0.0+0.754481im   -0.016876+0.0im              -0.0+0.00784053im\n",
       "      0.0-0.0010658im       -0.0-0.00784053im  0.0439366+0.0im"
      ]
     },
     "metadata": {},
     "output_type": "display_data"
    }
   ],
   "source": [
    "optimized_C"
   ]
  }
 ],
 "metadata": {
  "kernelspec": {
   "display_name": "Julia 1.10.2",
   "language": "julia",
   "name": "julia-1.10"
  },
  "language_info": {
   "file_extension": ".jl",
   "mimetype": "application/julia",
   "name": "julia",
   "version": "1.10.2"
  }
 },
 "nbformat": 4,
 "nbformat_minor": 2
}
