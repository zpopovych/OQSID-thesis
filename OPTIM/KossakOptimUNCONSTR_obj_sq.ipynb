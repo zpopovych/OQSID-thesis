{
 "cells": [
  {
   "cell_type": "code",
   "execution_count": 1,
   "metadata": {},
   "outputs": [],
   "source": [
    "using LinearAlgebra\n",
    "using Optim\n",
    "using HDF5"
   ]
  },
  {
   "cell_type": "markdown",
   "metadata": {},
   "source": [
    "Fidelity for qubit can be written:\n",
    "\n",
    "$F(\\rho, \\sigma) = \\operatorname{tr}(\\rho \\sigma) + 2\\sqrt{\\det(\\rho) \\det(\\sigma)}$"
   ]
  },
  {
   "cell_type": "code",
   "execution_count": 2,
   "metadata": {},
   "outputs": [
    {
     "data": {
      "text/plain": [
       "infidelity_norm (generic function with 1 method)"
      ]
     },
     "metadata": {},
     "output_type": "display_data"
    }
   ],
   "source": [
    "function infidelity_norm(ρ, σ)\n",
    "    real(1 - tr(ρ * σ) - 2*sqrt(abs(det(ρ)*det(σ))))^2\n",
    "end"
   ]
  },
  {
   "cell_type": "code",
   "execution_count": 3,
   "metadata": {},
   "outputs": [
    {
     "data": {
      "text/plain": [
       "kossak_obj (generic function with 1 method)"
      ]
     },
     "metadata": {},
     "output_type": "display_data"
    }
   ],
   "source": [
    "function read_timeevolution(file_name, state, γ)\n",
    "    h5open(file_name, \"r\") do file\n",
    "        ρᵧ = read(file[state][string(γ)])\n",
    "        t = ρᵧ[\"t\"]\n",
    "        ρ₀₀ = ρᵧ[\"p0\"]; Re_ρ₀₁ = ρᵧ[\"s_re\"];  Im_ρ₀₁ = ρᵧ[\"s_im\"]\n",
    "        ρ_series = []\n",
    "        t_series = []\n",
    "\n",
    "        for i in 1:length(t)\n",
    "            ρᵢ= [ ρ₀₀[i]                      Re_ρ₀₁[i] + im * Im_ρ₀₁[i]\n",
    "                  Re_ρ₀₁[i] - im * Im_ρ₀₁[i]  1 - ρ₀₀[i]                 ]\n",
    "            push!(ρ_series, convert(Matrix{ComplexF64}, ρᵢ))\n",
    "            push!(t_series, convert(Float64, t[i]))\n",
    "        end\n",
    "        return(t_series, ρ_series)\n",
    "    end\n",
    "end\n",
    "\n",
    "# Define the Pauli matrices\n",
    "σˣ = [0 1; 1 0]\n",
    "σʸ = [0 im; -im 0]\n",
    "σᶻ = [1 0; 0 -1]\n",
    "\n",
    "# Define the basis elements\n",
    "fᴷ₁ = σˣ / 2\n",
    "fᴷ₂ = σʸ / 2\n",
    "fᴷ₃ = σᶻ / 2\n",
    "\n",
    "# Check orthogonality and normalization\n",
    "@assert tr(fᴷ₁ * fᴷ₂) ≈ 0\n",
    "@assert tr(fᴷ₁ * fᴷ₃) ≈ 0\n",
    "@assert tr(fᴷ₂ * fᴷ₃) ≈ 0\n",
    "@assert tr(fᴷ₁ * fᴷ₁) ≈ 1 / 2\n",
    "@assert tr(fᴷ₂ * fᴷ₂) ≈ 1 / 2\n",
    "@assert tr(fᴷ₃ * fᴷ₃) ≈ 1 / 2\n",
    "\n",
    "fᴼᴺᴮ = [fᴷ₁, fᴷ₂, fᴷ₃]\n",
    "\n",
    "# Function to calculate Dc\n",
    "function Dc(ρ, t, H, C)\n",
    "    U = (H * ρ - ρ * H) / im\n",
    "    D = sum(C .* [2 * fᵢ * ρ * fⱼ' - ρ * fⱼ' * fᵢ - fⱼ' * fᵢ * ρ for fᵢ in fᴼᴺᴮ, fⱼ in fᴼᴺᴮ]) / 2\n",
    "    return U + D\n",
    "end\n",
    "\n",
    "function construct_H(params)\n",
    "    ϵ, h_Re, h_Im = params[1:3]\n",
    "    return [\n",
    "        ϵ               h_Re + im * h_Im\n",
    "        h_Re - im * h_Im -ϵ\n",
    "    ] / 2\n",
    "end\n",
    "\n",
    "function construct_C(params)\n",
    "    m_Re = reshape(params[4:12], (3, 3))\n",
    "    m_Im = reshape(params[13:21], (3, 3))\n",
    "    M = m_Re + im * m_Im\n",
    "    return M * M'\n",
    "end\n",
    "\n",
    "\n",
    "# Define the objective function for optimization\n",
    "function kossak_obj(params, ρ, t)\n",
    "    H = construct_H(params)\n",
    "    C = construct_C(params)\n",
    "\n",
    "    obj = 0.0\n",
    "    for i in 3:length(ρ)\n",
    "        ρ1 = ρ[i]\n",
    "        ρ2 = ρ[i - 2] + (t[i] - t[i - 1]) * (Dc(ρ[i], t[i], H, C) + 4 * Dc(ρ[i - 1], t[i - 1], H, C) + Dc(ρ[i - 2], t[i - 2], H, C)) / 3\n",
    "        obj += infidelity_norm(ρ1,ρ2)\n",
    "    end\n",
    "    return obj\n",
    "end"
   ]
  },
  {
   "cell_type": "code",
   "execution_count": 4,
   "metadata": {},
   "outputs": [],
   "source": [
    "# Define initial parameters\n",
    "initial_params = [0.0, 0.0, 0.0,  # H parameters: ϵ, h_Re, h_Im\n",
    "                  0.0, 0.0, 0.0, 0.0, 0.0, 0.0, 0.0, 0.0, 0.0,  # m_Re parameters\n",
    "                  0.0, 0.0, 0.0, 0.0, 0.0, 0.0, 0.0, 0.0, 0.0]; # m_Im parameters\n",
    "\n",
    "initial_params .+= 1;"
   ]
  },
  {
   "cell_type": "code",
   "execution_count": 5,
   "metadata": {},
   "outputs": [
    {
     "data": {
      "text/plain": [
       "objective (generic function with 1 method)"
      ]
     },
     "metadata": {},
     "output_type": "display_data"
    }
   ],
   "source": [
    "# Define the objective function wrapper\n",
    "function objective(params)\n",
    "\n",
    "    objGEXY = kossak_obj(params, ρᵍ, tᵍ) + kossak_obj(params, ρᵉ, tᵉ) + kossak_obj(params, ρˣ, tˣ) + kossak_obj(params, ρʸ, tʸ)\n",
    "\n",
    "    return objGEXY\n",
    "end"
   ]
  },
  {
   "cell_type": "code",
   "execution_count": 6,
   "metadata": {},
   "outputs": [],
   "source": [
    "# Define the density matrix evolution and time points\n",
    "\n",
    "file_name = \"../DATA/ALL_GAMMAS_B4_D10.h5\"\n",
    "\n",
    "#γ = [ \"0.079477\",  \"0.25133\", \"0.79477\", \"2.5133\", \"7.9477\", \"25.133\", \"79.477\", \"251.33\"]\n",
    "\n",
    "γᵢ = \"0.25133\"\n",
    "γᶠ = parse(ComplexF64, γᵢ)\n",
    "\n",
    "tᵍ, ρᵍ = read_timeevolution(file_name, \"B1\", γᵢ)\n",
    "tᵉ, ρᵉ = read_timeevolution(file_name, \"B2\", γᵢ)\n",
    "tˣ, ρˣ = read_timeevolution(file_name, \"B3\", γᵢ)\n",
    "tʸ, ρʸ = read_timeevolution(file_name, \"B4\", γᵢ);"
   ]
  },
  {
   "cell_type": "code",
   "execution_count": 7,
   "metadata": {},
   "outputs": [
    {
     "name": "stdout",
     "output_type": "stream",
     "text": [
      "Iter     Function value   Gradient norm \n",
      "     0     5.818044e+00     4.323898e+00\n",
      " * time: 0.021100997924804688\n",
      "     1     4.598337e+00     3.523419e+00\n",
      " * time: 5.750668048858643\n",
      "     2     4.492603e-01     6.397245e-02\n",
      " * time: 12.575934886932373\n",
      "     3     2.843409e-01     4.881239e-02\n",
      " * time: 23.93993091583252\n",
      "     4     2.702649e-01     4.554228e-02\n",
      " * time: 30.730376958847046\n",
      "     5     2.632412e-01     4.347586e-02\n",
      " * time: 37.54203200340271\n",
      "     6     1.870016e-01     3.232874e-02\n",
      " * time: 46.58540391921997\n",
      "     7     1.032453e-01     3.170705e-02\n",
      " * time: 53.35028696060181\n",
      "     8     8.005024e-02     5.051549e-02\n",
      " * time: 60.11813998222351\n",
      "     9     5.923376e-02     2.043550e-02\n",
      " * time: 66.87504005432129\n",
      "    10     3.807406e-02     9.614680e-03\n",
      " * time: 75.86381506919861\n",
      "    11     3.457409e-02     1.181537e-02\n",
      " * time: 82.58694696426392\n",
      "    12     2.690268e-02     1.134740e-02\n",
      " * time: 91.53958201408386\n",
      "    13     2.358853e-02     1.257979e-02\n",
      " * time: 95.99976396560669\n",
      "    14     2.158456e-02     1.608691e-02\n",
      " * time: 100.47333288192749\n",
      "    15     1.930483e-02     6.711019e-03\n",
      " * time: 107.16958808898926\n",
      "    16     1.368190e-02     1.654729e-02\n",
      " * time: 113.86794209480286\n",
      "    17     5.863165e-04     7.387162e-04\n",
      " * time: 122.78268694877625\n",
      "    18     5.810589e-05     1.318749e-04\n",
      " * time: 131.68374395370483\n",
      "    19     2.052281e-05     4.448909e-05\n",
      " * time: 140.55519795417786\n",
      "    20     1.986685e-05     4.635372e-05\n",
      " * time: 147.1965000629425\n",
      "    21     9.748416e-06     3.011066e-05\n",
      " * time: 158.23957800865173\n",
      "    22     9.697199e-06     3.058573e-05\n",
      " * time: 164.87236309051514\n",
      "    23     9.333314e-06     3.001252e-05\n",
      " * time: 175.92710089683533\n",
      "    24     8.851479e-06     3.092539e-05\n",
      " * time: 184.7647430896759\n",
      "    25     7.938022e-06     2.864762e-05\n",
      " * time: 191.41425800323486\n",
      "    26     7.829014e-06     2.948781e-05\n",
      " * time: 198.04353189468384\n",
      "    27     7.807231e-06     2.942290e-05\n",
      " * time: 204.63619089126587\n",
      "    28     7.802265e-06     2.944968e-05\n",
      " * time: 211.1958429813385\n",
      "    29     7.678703e-06     2.965152e-05\n",
      " * time: 222.09152007102966\n",
      "    30     6.676960e-06     2.670668e-05\n",
      " * time: 230.7980980873108\n",
      "    31     4.316754e-06     1.755240e-05\n",
      " * time: 237.30622601509094\n",
      "    32     3.145442e-06     1.046170e-05\n",
      " * time: 243.79805994033813\n",
      "    33     3.022973e-06     9.398965e-06\n",
      " * time: 250.26749110221863\n",
      "    34     3.011973e-06     8.961818e-06\n",
      " * time: 256.7312948703766\n",
      "    35     3.006528e-06     9.159513e-06\n",
      " * time: 263.1854450702667\n",
      "    36     2.989342e-06     8.784592e-06\n",
      " * time: 271.752916097641\n",
      "    37     2.696146e-06     9.481180e-06\n",
      " * time: 282.4647340774536\n",
      "    38     8.007756e-07     2.132842e-06\n",
      " * time: 291.016165971756\n",
      "    39     3.673484e-07     8.391771e-07\n",
      " * time: 297.39944887161255\n",
      "    40     2.976190e-07     9.126459e-07\n",
      " * time: 303.780641078949\n",
      "    41     2.293785e-07     4.914951e-07\n",
      " * time: 310.1451849937439\n",
      "    42     2.128866e-07     5.479342e-07\n",
      " * time: 316.49427008628845\n",
      "    43     1.994053e-07     6.878638e-07\n",
      " * time: 322.8400790691376\n",
      "    44     1.937893e-07     6.510521e-07\n",
      " * time: 329.1674768924713\n",
      "    45     1.934349e-07     6.288567e-07\n",
      " * time: 333.37785601615906\n",
      "    46     1.932196e-07     6.067664e-07\n",
      " * time: 339.6950509548187\n",
      "    47     1.929580e-07     6.147286e-07\n",
      " * time: 346.0049409866333\n",
      "    48     1.926820e-07     6.164678e-07\n",
      " * time: 354.40049409866333\n",
      "    49     1.926645e-07     6.134432e-07\n",
      " * time: 360.7107379436493\n",
      "    50     1.925370e-07     6.121480e-07\n",
      " * time: 371.16993594169617\n",
      "    51     1.212792e-07     4.347822e-07\n",
      " * time: 383.6817488670349\n",
      "    52     2.830293e-08     1.413966e-07\n",
      " * time: 389.9342439174652\n",
      "    53     1.439487e-08     6.826802e-08\n",
      " * time: 396.15652298927307\n",
      "    54     1.322449e-08     6.332928e-08\n",
      " * time: 402.3928999900818\n",
      "    55     1.290159e-08     5.965372e-08\n",
      " * time: 408.60853600502014\n",
      "    56     1.281361e-08     6.182718e-08\n",
      " * time: 414.8381550312042\n",
      "    57     1.280126e-08     6.329802e-08\n",
      " * time: 421.0533790588379\n",
      "    58     1.278729e-08     6.182588e-08\n",
      " * time: 427.25850200653076\n",
      "    59     1.278540e-08     6.380686e-08\n",
      " * time: 433.4640760421753\n",
      "    60     1.278475e-08     6.411532e-08\n",
      " * time: 439.67451190948486\n",
      "    61     1.278472e-08     6.410894e-08\n",
      " * time: 445.86362290382385\n",
      "    62     1.277689e-08     5.994597e-08\n",
      " * time: 460.2867069244385\n",
      "    63     8.211559e-09     3.426380e-08\n",
      " * time: 472.6065480709076\n",
      "    64     7.108590e-09     2.497695e-08\n",
      " * time: 478.7532000541687\n",
      "    65     6.458945e-09     5.501242e-09\n",
      " * time: 484.8924789428711\n"
     ]
    },
    {
     "data": {
      "text/plain": [
       " * Status: success\n",
       "\n",
       " * Candidate solution\n",
       "    Final objective value:     6.458945e-09\n",
       "\n",
       " * Found with\n",
       "    Algorithm:     BFGS\n",
       "\n",
       " * Convergence measures\n",
       "    |x - x'|               = 1.37e-02 ≰ 0.0e+00\n",
       "    |x - x'|/|x'|          = 5.45e-04 ≰ 0.0e+00\n",
       "    |f(x) - f(x')|         = 6.50e-10 ≰ 0.0e+00\n",
       "    |f(x) - f(x')|/|f(x')| = 1.01e-01 ≰ 0.0e+00\n",
       "    |g(x)|                 = 5.50e-09 ≤ 1.0e-08\n",
       "\n",
       " * Work counters\n",
       "    Seconds run:   485  (vs limit Inf)\n",
       "    Iterations:    65\n",
       "    f(x) calls:    225\n",
       "    ∇f(x) calls:   225\n"
      ]
     },
     "metadata": {},
     "output_type": "display_data"
    }
   ],
   "source": [
    "# Perform the optimization\n",
    "result = optimize(objective, initial_params, \n",
    "                  method = BFGS(),\n",
    "                  g_tol = 1e-8, show_trace = true;\n",
    "                  autodiff = :forward)"
   ]
  },
  {
   "cell_type": "code",
   "execution_count": 8,
   "metadata": {},
   "outputs": [
    {
     "name": "stdout",
     "output_type": "stream",
     "text": [
      "Optimized parameters: [25.16547239109983, -0.010886234376236745, 0.010300490326129452, 0.09907846058844363, -0.24710411060971088, 0.004979866064682022, 0.09907846058567774, -0.24710411060649748, 0.004979866068670096, 0.09907846058302104, -0.24710411060770895, 0.004979866069220867, -0.3123915266888333, -0.06651132033677061, 0.017802047778982838, -0.31239152668948095, -0.066511320338368, 0.017802047788239954, -0.31239152668555403, -0.06651132033874849, 0.017802047793108698]\n"
     ]
    }
   ],
   "source": [
    "# Extract optimized parameters\n",
    "optimized_params = result.minimizer\n",
    "\n",
    "println(\"Optimized parameters: \", optimized_params)"
   ]
  },
  {
   "cell_type": "code",
   "execution_count": 9,
   "metadata": {},
   "outputs": [
    {
     "name": "stdout",
     "output_type": "stream",
     "text": [
      "Optimized H: ComplexF64[12.582736195549915 + 0.0im -0.005443117188118372 + 0.005150245163064726im; -0.005443117188118372 - 0.005150245163064726im -12.582736195549915 + 0.0im]\n",
      "Optimized C: ComplexF64[0.3222150218954007 + 0.0im -0.01111536594309653 + 0.25134920878290806im -0.01520343426716977 - 0.009958402360568021im; -0.01111536594309653 - 0.25134920878290806im 0.1964525916373684 + 0.0im -0.007243749235741411 + 0.012203225154284805im; -0.01520343426716977 + 0.009958402360568021im -0.007243749235741411 - 0.012203225154284805im 0.0010251359143595338 + 0.0im]\n"
     ]
    }
   ],
   "source": [
    "# Substitute the optimized parameters back into H and C\n",
    "optimized_H = construct_H(optimized_params)\n",
    "optimized_C = construct_C(optimized_params)\n",
    "\n",
    "println(\"Optimized H: \", optimized_H)\n",
    "println(\"Optimized C: \", optimized_C)"
   ]
  },
  {
   "cell_type": "code",
   "execution_count": 10,
   "metadata": {},
   "outputs": [
    {
     "data": {
      "text/plain": [
       "2×2 Matrix{ComplexF64}:\n",
       "     12.5827+0.0im         -0.00544312+0.00515025im\n",
       " -0.00544312-0.00515025im     -12.5827+0.0im"
      ]
     },
     "metadata": {},
     "output_type": "display_data"
    }
   ],
   "source": [
    "optimized_H"
   ]
  },
  {
   "cell_type": "code",
   "execution_count": 11,
   "metadata": {},
   "outputs": [
    {
     "data": {
      "text/plain": [
       "3×3 Matrix{ComplexF64}:\n",
       "   0.322215+0.0im         -0.0111154+0.251349im    -0.0152034-0.0099584im\n",
       " -0.0111154-0.251349im      0.196453+0.0im        -0.00724375+0.0122032im\n",
       " -0.0152034+0.0099584im  -0.00724375-0.0122032im   0.00102514+0.0im"
      ]
     },
     "metadata": {},
     "output_type": "display_data"
    }
   ],
   "source": [
    "optimized_C"
   ]
  },
  {
   "cell_type": "code",
   "execution_count": 12,
   "metadata": {},
   "outputs": [
    {
     "data": {
      "text/plain": [
       "get_lindblad_operators (generic function with 1 method)"
      ]
     },
     "metadata": {},
     "output_type": "display_data"
    }
   ],
   "source": [
    "function get_lindblad_operators(C::Matrix{ComplexF64}, basis_ops::Vector{Matrix{ComplexF64}})\n",
    "    # Check that C is a square matrix and basis_ops has the same dimension\n",
    "    n = size(C, 1)\n",
    "    if size(C, 2) != n || length(basis_ops) != n\n",
    "        throw(ArgumentError(\"Dimensions of C and basis_ops do not match\"))\n",
    "    end\n",
    "\n",
    "    # Perform eigenvalue decomposition of C\n",
    "    eigvals, eigvecs = eigen(C)\n",
    "\n",
    "    # Construct the Lindblad operators\n",
    "    lindblad_ops = []\n",
    "    for i in 1:n\n",
    "        if eigvals[i] > 1e-10  # Filter out negligible eigenvalues to ensure numerical stability\n",
    "            lindblad_op = zeros(ComplexF64, size(basis_ops[1]))\n",
    "            for j in 1:n\n",
    "                lindblad_op .+= sqrt(eigvals[i]) * eigvecs[j, i] * basis_ops[j]\n",
    "            end\n",
    "            push!(lindblad_ops, lindblad_op)\n",
    "        end\n",
    "    end\n",
    "\n",
    "    return lindblad_ops\n",
    "end\n",
    "\n"
   ]
  },
  {
   "cell_type": "code",
   "execution_count": 13,
   "metadata": {},
   "outputs": [
    {
     "data": {
      "text/plain": [
       "1-element Vector{Any}:\n",
       " ComplexF64[0.01600887187124326 + 0.0im -0.4279917354870767 - 0.2686346629335212im; -0.04685228817207046 - 0.042392948526606425im -0.01600887187124326 + 0.0im]"
      ]
     },
     "metadata": {},
     "output_type": "display_data"
    }
   ],
   "source": [
    "Hˢⁱᵈ = convert.(ComplexF64,optimized_H)\n",
    "Cˢⁱᵈ = convert.(ComplexF64,optimized_C)\n",
    "\n",
    "effective_Lindblad = get_lindblad_operators(Cˢⁱᵈ, fᴼᴺᴮ)"
   ]
  },
  {
   "cell_type": "code",
   "execution_count": 14,
   "metadata": {},
   "outputs": [],
   "source": [
    "ρᵍ₀ = [ 1 0.\n",
    "        0 0 ]    # state to measure initial distance from\n",
    "\n",
    "dodeca_10_states = [\"D\"*string(n) for n=1:10];\n",
    "\n",
    "basis_states = [\"B\"*string(n) for n=1:4];\n",
    "\n",
    "train_states = basis_states \n",
    "test_states = dodeca_10_states;"
   ]
  },
  {
   "cell_type": "code",
   "execution_count": 15,
   "metadata": {},
   "outputs": [
    {
     "name": "stderr",
     "output_type": "stream",
     "text": [
      "┌ Warning: Package LinearSolve does not have KrylovKit in its dependencies:\n",
      "│ - If you have LinearSolve checked out for development and have\n",
      "│   added KrylovKit as a dependency but haven't updated your primary\n",
      "│   environment's manifest file, try `Pkg.resolve()`.\n",
      "│ - Otherwise you may need to report an issue with LinearSolve\n",
      "│ Loading KrylovKit into LinearSolve from project dependency, future warnings for LinearSolve are suppressed.\n",
      "└ @ nothing nothing:984\n"
     ]
    }
   ],
   "source": [
    "using QuantumOptics\n",
    "basis = NLevelBasis(2)\n",
    "\n",
    "include(\"../LiPoSID.jl\")\n",
    "\n",
    "using Statistics"
   ]
  },
  {
   "cell_type": "code",
   "execution_count": 16,
   "metadata": {},
   "outputs": [
    {
     "name": "stdout",
     "output_type": "stream",
     "text": [
      "D1 D2 D3 D4 D5 D6 D7 D8 D9 D10 \n",
      "Mimimal fidelity for 0.25133: 0.9962790120313414\n",
      "Median fidelity for 0.25133: 0.9981761124723088\n"
     ]
    }
   ],
   "source": [
    "FminStates = []\n",
    "FmedianStates = []\n",
    "FmeanStates = []\n",
    "\n",
    "for state in test_states # loop over initial states\n",
    "    \n",
    "    print(state*\" \")\n",
    "\n",
    "    start_time = time()\n",
    "\n",
    "    tₛ, ρₛ = read_timeevolution(file_name, state, γᵢ)\n",
    "    ρₛ = convert(Vector{Matrix{ComplexF64}}, ρₛ)\n",
    "    #bᵗˢᵗ = LiPoSID.bloch(ρₛ)\n",
    "    ρᵗˢᵗ = [DenseOperator(basis,Hermitian(ρₜ)) for ρₜ in ρₛ]\n",
    "    tᵗˢᵗ = convert.(Float64, tₛ)\n",
    "\n",
    "    #Simulated LME \n",
    "    #tˢⁱᵐ, ρˢⁱᵐ  = timeevolution.master(tᵗˢᵗ, ρᵗˢᵗ[1], DenseOperator(basis, Hˢⁱᵈ), [Jˢⁱᵐ])\n",
    "    #bˢⁱᵐ = LiPoSID.bloch([ρᵢ.data for ρᵢ in ρˢⁱᵐ])\n",
    "\n",
    "    ρₒ = DenseOperator(basis,ρₛ[1])\n",
    "    dt = tᵗˢᵗ[2] - tᵗˢᵗ[1]\n",
    "    tᵉⁿᵈ = tᵗˢᵗ[end]\n",
    "\n",
    "    #print(\"effective_Lindblad_ops for Kossakowski\")\n",
    "\n",
    "    \n",
    "    effective_Lindblad_ops = [DenseOperator(basis,j) for j in effective_Lindblad]\n",
    "\n",
    "    #print(\"Simulating Kossakowski\")\n",
    "\n",
    "    tout, ρ_t_kossak = timeevolution.master(tᵗˢᵗ, ρₒ, DenseOperator(basis, Hˢⁱᵈ), effective_Lindblad_ops)\n",
    "    ρˢⁱᵈ  = [ρₜ.data for ρₜ in ρ_t_kossak]\n",
    "\n",
    "    #print(\"Calculating Fidelity\")\n",
    "\n",
    "    #F = LiPoSID.fidelity_series(basis, [ρₜ.data for ρₜ in ρˢⁱᵐ], ρˢⁱᵈ)\n",
    "    F = LiPoSID.fidelity_series(basis, ρₛ, ρˢⁱᵈ)\n",
    "    \n",
    "    FminState = minimum(F)\n",
    "    FmedianState = median(F)\n",
    "    FmeanState = mean(F)\n",
    "    \n",
    "    push!(FminStates, FminState)\n",
    "    push!(FmedianStates, FmedianState)\n",
    "    push!(FmeanStates, FmeanState)\n",
    "\n",
    "end\n",
    "\n",
    "# Calculate the mean\n",
    "F_mean_value = mean(FmeanStates)\n",
    "\n",
    "# Calculate the median\n",
    "F_median_value = median(FmedianStates)\n",
    "\n",
    "# Calculate the min\n",
    "F_min_value = minimum(FminStates)\n",
    "\n",
    "println()\n",
    "println(\"Mimimal fidelity for \"*γᵢ*\": \", F_min_value)\n",
    "println(\"Median fidelity for \"*γᵢ*\": \", F_median_value)"
   ]
  }
 ],
 "metadata": {
  "kernelspec": {
   "display_name": "Julia 1.7.3",
   "language": "julia",
   "name": "julia-1.7"
  },
  "language_info": {
   "file_extension": ".jl",
   "mimetype": "application/julia",
   "name": "julia",
   "version": "1.7.3"
  }
 },
 "nbformat": 4,
 "nbformat_minor": 2
}
