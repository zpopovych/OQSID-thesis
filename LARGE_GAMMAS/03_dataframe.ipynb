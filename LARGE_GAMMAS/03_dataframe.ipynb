{
 "cells": [
  {
   "cell_type": "code",
   "execution_count": 2,
   "id": "2b97bc7f",
   "metadata": {},
   "outputs": [],
   "source": [
    "#from boson_data_lib import *\n",
    "import numpy as np\n",
    "import scipy.linalg as sl\n",
    "import os\n",
    "import pandas as pd\n",
    "import glob"
   ]
  },
  {
   "cell_type": "code",
   "execution_count": 11,
   "id": "e0bcd726",
   "metadata": {},
   "outputs": [],
   "source": [
    "import h5py"
   ]
  },
  {
   "cell_type": "code",
   "execution_count": 3,
   "id": "51aaf20f",
   "metadata": {},
   "outputs": [],
   "source": [
    "data_dir = \"../DATA/\"\n",
    "tests_dir = \"\"\n",
    "new_data_dir = \"\""
   ]
  },
  {
   "cell_type": "code",
   "execution_count": 16,
   "id": "7518da3c",
   "metadata": {},
   "outputs": [],
   "source": [
    "def read_as_dataframe(filename, tests_dir):\n",
    "\n",
    "    df = pd.DataFrame()\n",
    "    \n",
    "    print(\"Processing...\")\n",
    "    \n",
    "    with h5py.File(tests_dir+filename, \"r\") as f:\n",
    "        \n",
    "        # gammas = ['0.079477', '0.25133', '0.79477', '2.5133', '7.9477', '25.133', '79.477', '251.33']    \n",
    "        # gammas = f.keys()\n",
    "        # gammas = ['0.079477', '0.25133', '0.79477']\n",
    "        gammas = ['25.133', '79.477', '251.33']\n",
    "        \n",
    "        for gamma in gammas:\n",
    "            \n",
    "            print(gamma)\n",
    "            \n",
    "            #g = gamma[6:]\n",
    "            \n",
    "            init_states = [\"State_D\"+str(i) for i in range(1, 21)] #f[gamma].keys()\n",
    "            \n",
    "            for state in init_states:\n",
    "                \n",
    "                Fidelity = f['gamma_'+gamma][state][\"Fidelity\"][()]\n",
    "\n",
    "                ser_len = len(Fidelity)\n",
    "\n",
    "                gamma_column = [gamma] * ser_len\n",
    "                state_column = [state[7:]] * ser_len\n",
    "\n",
    "                #fid_dist_column = [fid_distances[int(state[7:])-1]] * ser_len      \n",
    "\n",
    "                #f_name = state + \"_data.h5\"\n",
    "                #f_name = data_dir + \"\\\\\" + state + \"_2CUT_data.h5\"\n",
    "                #t, dt = extract_time(f_name, gamma)\n",
    "                #time_column = t\n",
    "                \n",
    "                #gamma_time_column = np.array(t)*float(gamma) \n",
    "\n",
    "                d_ser = {'Gamma': gamma_column,\n",
    "                         'State': state_column,\n",
    "                         #'Time': time_column, \n",
    "                         #'gt': gamma_time_column,\n",
    "                         'Fidelity': Fidelity,\n",
    "                         'Infidelity': 1-Fidelity,\n",
    "                         #'Distance': fid_dist_column\n",
    "                         }\n",
    "\n",
    "                df_ser = pd.DataFrame(data = d_ser)   \n",
    "                df = pd.concat([df, df_ser])\n",
    "    \n",
    "    print(\" done!\")\n",
    "    \n",
    "    return df"
   ]
  },
  {
   "cell_type": "code",
   "execution_count": 9,
   "id": "0147ad92",
   "metadata": {},
   "outputs": [],
   "source": [
    "\n",
    "test_file = \"POP_LARGE_GAMMAS_LME_GEN_1_random_trn4_tst24_2024-Mar-09_at_14-06.h5\""
   ]
  },
  {
   "cell_type": "code",
   "execution_count": 17,
   "id": "7b0ef3f5",
   "metadata": {},
   "outputs": [
    {
     "name": "stdout",
     "output_type": "stream",
     "text": [
      "Processing...\n",
      "25.133\n",
      "79.477\n",
      "251.33\n",
      " done!\n"
     ]
    }
   ],
   "source": [
    "df = read_as_dataframe(test_file, tests_dir)"
   ]
  },
  {
   "cell_type": "code",
   "execution_count": 18,
   "id": "c3570b6e",
   "metadata": {},
   "outputs": [
    {
     "data": {
      "text/html": [
       "<div>\n",
       "<style scoped>\n",
       "    .dataframe tbody tr th:only-of-type {\n",
       "        vertical-align: middle;\n",
       "    }\n",
       "\n",
       "    .dataframe tbody tr th {\n",
       "        vertical-align: top;\n",
       "    }\n",
       "\n",
       "    .dataframe thead th {\n",
       "        text-align: right;\n",
       "    }\n",
       "</style>\n",
       "<table border=\"1\" class=\"dataframe\">\n",
       "  <thead>\n",
       "    <tr style=\"text-align: right;\">\n",
       "      <th></th>\n",
       "      <th>Gamma</th>\n",
       "      <th>State</th>\n",
       "      <th>Fidelity</th>\n",
       "      <th>Infidelity</th>\n",
       "    </tr>\n",
       "  </thead>\n",
       "  <tbody>\n",
       "    <tr>\n",
       "      <th>0</th>\n",
       "      <td>25.133</td>\n",
       "      <td>1</td>\n",
       "      <td>1.000000</td>\n",
       "      <td>1.332268e-15</td>\n",
       "    </tr>\n",
       "    <tr>\n",
       "      <th>1</th>\n",
       "      <td>25.133</td>\n",
       "      <td>1</td>\n",
       "      <td>0.999999</td>\n",
       "      <td>7.833834e-07</td>\n",
       "    </tr>\n",
       "    <tr>\n",
       "      <th>2</th>\n",
       "      <td>25.133</td>\n",
       "      <td>1</td>\n",
       "      <td>0.999997</td>\n",
       "      <td>3.146420e-06</td>\n",
       "    </tr>\n",
       "    <tr>\n",
       "      <th>3</th>\n",
       "      <td>25.133</td>\n",
       "      <td>1</td>\n",
       "      <td>0.999993</td>\n",
       "      <td>7.109423e-06</td>\n",
       "    </tr>\n",
       "    <tr>\n",
       "      <th>4</th>\n",
       "      <td>25.133</td>\n",
       "      <td>1</td>\n",
       "      <td>0.999987</td>\n",
       "      <td>1.269386e-05</td>\n",
       "    </tr>\n",
       "    <tr>\n",
       "      <th>...</th>\n",
       "      <td>...</td>\n",
       "      <td>...</td>\n",
       "      <td>...</td>\n",
       "      <td>...</td>\n",
       "    </tr>\n",
       "    <tr>\n",
       "      <th>383</th>\n",
       "      <td>251.33</td>\n",
       "      <td>20</td>\n",
       "      <td>0.999765</td>\n",
       "      <td>2.349859e-04</td>\n",
       "    </tr>\n",
       "    <tr>\n",
       "      <th>384</th>\n",
       "      <td>251.33</td>\n",
       "      <td>20</td>\n",
       "      <td>0.999764</td>\n",
       "      <td>2.356110e-04</td>\n",
       "    </tr>\n",
       "    <tr>\n",
       "      <th>385</th>\n",
       "      <td>251.33</td>\n",
       "      <td>20</td>\n",
       "      <td>0.999764</td>\n",
       "      <td>2.362299e-04</td>\n",
       "    </tr>\n",
       "    <tr>\n",
       "      <th>386</th>\n",
       "      <td>251.33</td>\n",
       "      <td>20</td>\n",
       "      <td>0.999763</td>\n",
       "      <td>2.368434e-04</td>\n",
       "    </tr>\n",
       "    <tr>\n",
       "      <th>387</th>\n",
       "      <td>251.33</td>\n",
       "      <td>20</td>\n",
       "      <td>0.999763</td>\n",
       "      <td>2.374522e-04</td>\n",
       "    </tr>\n",
       "  </tbody>\n",
       "</table>\n",
       "<p>39702 rows × 4 columns</p>\n",
       "</div>"
      ],
      "text/plain": [
       "      Gamma State  Fidelity    Infidelity\n",
       "0    25.133     1  1.000000  1.332268e-15\n",
       "1    25.133     1  0.999999  7.833834e-07\n",
       "2    25.133     1  0.999997  3.146420e-06\n",
       "3    25.133     1  0.999993  7.109423e-06\n",
       "4    25.133     1  0.999987  1.269386e-05\n",
       "..      ...   ...       ...           ...\n",
       "383  251.33    20  0.999765  2.349859e-04\n",
       "384  251.33    20  0.999764  2.356110e-04\n",
       "385  251.33    20  0.999764  2.362299e-04\n",
       "386  251.33    20  0.999763  2.368434e-04\n",
       "387  251.33    20  0.999763  2.374522e-04\n",
       "\n",
       "[39702 rows x 4 columns]"
      ]
     },
     "execution_count": 18,
     "metadata": {},
     "output_type": "execute_result"
    }
   ],
   "source": [
    "df"
   ]
  },
  {
   "cell_type": "code",
   "execution_count": 19,
   "id": "6a3987ad",
   "metadata": {},
   "outputs": [],
   "source": [
    "pkl_name = \"dataframe_\"+test_file[:-3]+\".pkl\"\n",
    "\n",
    "df.to_pickle(tests_dir+pkl_name)"
   ]
  },
  {
   "cell_type": "code",
   "execution_count": 20,
   "id": "db7dd068",
   "metadata": {},
   "outputs": [
    {
     "data": {
      "text/plain": [
       "'dataframe_POP_LARGE_GAMMAS_LME_GEN_1_random_trn4_tst24_2024-Mar-09_at_14-06.pkl'"
      ]
     },
     "execution_count": 20,
     "metadata": {},
     "output_type": "execute_result"
    }
   ],
   "source": [
    "pkl_name"
   ]
  },
  {
   "cell_type": "code",
   "execution_count": 21,
   "id": "4fa1c87f",
   "metadata": {},
   "outputs": [
    {
     "data": {
      "text/plain": [
       "'dataframe_POP_LARGE_GAMMAS_LME_GEN_1_random_trn4_tst24_2024-Mar-09_at_14-06.pkl'"
      ]
     },
     "execution_count": 21,
     "metadata": {},
     "output_type": "execute_result"
    }
   ],
   "source": [
    "tests_dir+pkl_name"
   ]
  },
  {
   "cell_type": "markdown",
   "id": "0fad5275",
   "metadata": {},
   "source": []
  }
 ],
 "metadata": {
  "@webio": {
   "lastCommId": null,
   "lastKernelId": null
  },
  "kernelspec": {
   "display_name": "base",
   "language": "python",
   "name": "python3"
  },
  "language_info": {
   "codemirror_mode": {
    "name": "ipython",
    "version": 3
   },
   "file_extension": ".py",
   "mimetype": "text/x-python",
   "name": "python",
   "nbconvert_exporter": "python",
   "pygments_lexer": "ipython3",
   "version": "3.11.4"
  }
 },
 "nbformat": 4,
 "nbformat_minor": 5
}
