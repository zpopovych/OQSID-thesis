{
 "cells": [
  {
   "cell_type": "code",
   "execution_count": 13,
   "id": "2b97bc7f",
   "metadata": {},
   "outputs": [],
   "source": [
    "from boson_data_lib import extract_rho, extract_time\n",
    "import numpy as np\n",
    "import scipy.linalg as sl\n",
    "import os\n",
    "import pandas as pd\n",
    "import glob\n",
    "import h5py"
   ]
  },
  {
   "cell_type": "code",
   "execution_count": 2,
   "id": "51aaf20f",
   "metadata": {},
   "outputs": [],
   "source": [
    "#data_dir = \"../DATA/\"\n",
    "data_dir = \"../DATA/NO_CUT/\"\n",
    "\n",
    "tests_dir =\"../TESTS/\""
   ]
  },
  {
   "cell_type": "code",
   "execution_count": 3,
   "id": "ec4e4787",
   "metadata": {},
   "outputs": [],
   "source": [
    "def fidelity_distances(data_directory, best_rho):\n",
    "    \n",
    "    init_rho = []\n",
    "    fidelity_distances = []\n",
    "    \n",
    "    for i in range(0,20):\n",
    "        gamma = '2.5133'\n",
    "                \n",
    "        file = data_directory + \"State_D\" + str(i+1) + '_CUT_data.h5' #'_2CUT_data.h5'\n",
    "        rho, dt = extract_rho(file, gamma)\n",
    "        \n",
    "        init_rho.append(rho[1])\n",
    "        \n",
    "        dF = abs(np.trace(sl.sqrtm(sl.sqrtm(init_rho[i]) @ best_rho @ sl.sqrtm(init_rho[i]))))\n",
    "        \n",
    "        fidelity_distances.append(dF)\n",
    "        \n",
    "    return fidelity_distances"
   ]
  },
  {
   "cell_type": "code",
   "execution_count": 6,
   "id": "9f31df7b",
   "metadata": {},
   "outputs": [],
   "source": [
    "best_init_rho =  np.array([[ 0.96693975+0.j        , -0.17832301+0.00560344j],\n",
    "                               [-0.17832301-0.00560344j,  0.03306025+0.j        ]])\n",
    "\n",
    "fid_dists = fidelity_distances(data_dir, best_init_rho);"
   ]
  },
  {
   "cell_type": "code",
   "execution_count": 7,
   "id": "c132e3f3",
   "metadata": {},
   "outputs": [
    {
     "name": "stdout",
     "output_type": "stream",
     "text": [
      "../TESTS/DMD_TS_POP_RND_testD20_2024-Jan-31_at_16-18.h5\n"
     ]
    }
   ],
   "source": [
    "list_of_files = glob.glob(tests_dir+\"*.h5\") # * means all if need specific format then *.csv\n",
    "latest_file = max(list_of_files, key=os.path.getctime)\n",
    "print(latest_file)"
   ]
  },
  {
   "cell_type": "code",
   "execution_count": 8,
   "id": "0147ad92",
   "metadata": {},
   "outputs": [],
   "source": [
    "#latest_file = \"DMD_TS_POP_testD20_2024-Jan-03_at_22-21.h5\"\n",
    "#latest_file = \"DMD_TS_POP_testD20_2024-Jan-05_at_13-24.h5\"\n",
    "\n",
    "latest_file = \"DMD_TS_POP_RND_testD20_2024-Jan-31_at_16-18.h5\""
   ]
  },
  {
   "cell_type": "code",
   "execution_count": 14,
   "id": "d4a55282",
   "metadata": {},
   "outputs": [],
   "source": [
    "def read_DMD_TS_as_dataframe(filename, fid_distances, data_dir, tests_dir):\n",
    "\n",
    "    df = pd.DataFrame()\n",
    "    \n",
    "    print(\"Processing...\")\n",
    "    \n",
    "    with h5py.File(tests_dir+filename, \"r\") as f:\n",
    "        \n",
    "        #gammas = ['0.079477', '0.25133', '0.79477', '2.5133', '7.9477', '25.133', '79.477', '251.33']\n",
    "        gammas = f.keys()\n",
    "        \n",
    "        for gamma in gammas:\n",
    "            \n",
    "            print(gamma)\n",
    "            \n",
    "            g = gamma[6:]\n",
    "            \n",
    "            init_states = f[gamma].keys()\n",
    "            \n",
    "            for state in init_states:\n",
    "                \n",
    "                fidelity = f[gamma][state][\"F_sid_lme\"][()]\n",
    "                \n",
    "                ser_len = len(fidelity)\n",
    "\n",
    "                gamma_column = [g] * ser_len\n",
    "                state_column = [state[7:]] * ser_len\n",
    "\n",
    "                fid_dist_column = [fid_distances[int(state[7:])-1]] * ser_len      \n",
    "\n",
    "                f_name = data_dir + \"/\" + state + \"_CUT_data.h5\" #\"_2CUT_data.h5\"\n",
    "                #f_name = data_dir + \"\\\\\" + state + \"_2CUT_data.h5\"\n",
    "                t, dt = extract_time(f_name, g)\n",
    "                time_column = t\n",
    "                gamma_time_column = np.array(t)*float(g) \n",
    "\n",
    "                d_ser = {'Gamma': gamma_column,\n",
    "                         'State': state_column,\n",
    "                         'Time': time_column, \n",
    "                         'gt': gamma_time_column,\n",
    "                         'Fidelity': fidelity,\n",
    "                         'Infidelity': 1-fidelity,\n",
    "                         'Distance': fid_dist_column}\n",
    "\n",
    "                df_ser = pd.DataFrame(data = d_ser)   \n",
    "                df = pd.concat([df, df_ser])\n",
    "    \n",
    "    print(\" done!\")\n",
    "    \n",
    "    return df"
   ]
  },
  {
   "cell_type": "code",
   "execution_count": 15,
   "id": "7b0ef3f5",
   "metadata": {},
   "outputs": [
    {
     "name": "stdout",
     "output_type": "stream",
     "text": [
      "Processing...\n",
      "gamma_0.079477\n",
      "gamma_0.25133\n",
      "gamma_0.79477\n",
      "gamma_2.5133\n",
      "gamma_25.133\n",
      "gamma_251.33\n",
      "gamma_7.9477\n",
      "gamma_79.477\n",
      " done!\n"
     ]
    }
   ],
   "source": [
    "df = read_DMD_TS_as_dataframe(latest_file, fid_dists, data_dir, tests_dir)"
   ]
  },
  {
   "cell_type": "code",
   "execution_count": 16,
   "id": "6a3987ad",
   "metadata": {},
   "outputs": [],
   "source": [
    "os.chdir(\"../TESTS/\")\n",
    "\n",
    "df.to_pickle(\"dataframe_\"+latest_file+\".pkl\")"
   ]
  },
  {
   "cell_type": "code",
   "execution_count": 17,
   "id": "db7dd068",
   "metadata": {},
   "outputs": [
    {
     "name": "stdout",
     "output_type": "stream",
     "text": [
      "dataframe_DMD_TS_POP_RND_testD20_2024-Jan-31_at_16-18.h5.pkl\n"
     ]
    }
   ],
   "source": [
    "print(\"dataframe_\"+latest_file+\".pkl\")"
   ]
  },
  {
   "cell_type": "code",
   "execution_count": null,
   "id": "5171bc11",
   "metadata": {},
   "outputs": [],
   "source": []
  }
 ],
 "metadata": {
  "@webio": {
   "lastCommId": null,
   "lastKernelId": null
  },
  "kernelspec": {
   "display_name": "Python 3 (ipykernel)",
   "language": "python",
   "name": "python3"
  },
  "language_info": {
   "codemirror_mode": {
    "name": "ipython",
    "version": 3
   },
   "file_extension": ".py",
   "mimetype": "text/x-python",
   "name": "python",
   "nbconvert_exporter": "python",
   "pygments_lexer": "ipython3",
   "version": "3.11.4"
  }
 },
 "nbformat": 4,
 "nbformat_minor": 5
}
