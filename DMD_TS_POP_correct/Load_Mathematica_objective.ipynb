{
 "cells": [
  {
   "cell_type": "code",
   "execution_count": 1,
   "metadata": {},
   "outputs": [
    {
     "data": {
      "text/plain": [
       "(ω, a, b, α, β, γ, δ, ϵ, ζ)"
      ]
     },
     "metadata": {},
     "output_type": "display_data"
    }
   ],
   "source": [
    "# Read the polynomial from the file\n",
    "file_contents = read(\"obj_gamma_0.079477.txt\", String)\n",
    "\n",
    "using DynamicPolynomials\n",
    "\n",
    "@polyvar ω a b α β γ δ ϵ ζ"
   ]
  },
  {
   "cell_type": "code",
   "execution_count": 2,
   "metadata": {},
   "outputs": [
    {
     "data": {
      "text/plain": [
       "\"1.2722525507821776*^7 + (0.10101525188426327 - 5.085263462434508*γ^2 + 64.*γ^4 - 5.085263462434508*δ^2 + 128.*γ^2*δ^2 + 64.*δ^4)^2 + (2.569236014514236*^-7 + 0.008110021083299626*a + 64.*a^2 - 0.01216503162494944*β*γ - 192.*a*β*γ + 144.*β^2*γ^2 + 0.01216503162494944*α\"\u001b[93m\u001b[1m ⋯ 58866696 bytes ⋯ \u001b[22m\u001b[39m\"2*ω^4 - 766.9340053307116*γ^2*ϵ^2*ω^4 - 766.9340053307116*δ^2*ϵ^2*ω^4 + 2.5546308047287818*^7*ϵ^4*ω^4 - 2.0298086913594955*^6*ζ^2*ω^4 - 766.9340053307116*γ^2*ζ^2*ω^4 - 766.9340053307116*δ^2*ζ^2*ω^4 + 5.1092616094575636*^7*ϵ^2*ζ^2*ω^4 + 2.5546308047287818*^7*ζ^4*ω^4)^2\""
      ]
     },
     "metadata": {},
     "output_type": "display_data"
    }
   ],
   "source": [
    "file_contents"
   ]
  },
  {
   "cell_type": "code",
   "execution_count": 3,
   "metadata": {},
   "outputs": [
    {
     "data": {
      "text/plain": [
       "\"1.2722525507821776*10^7 + (0.10101525188426327 - 5.085263462434508*γ^2 + 64*γ^4 - 5.085263462434508*δ^2 + 128*γ^2*δ^2 + 64*δ^4)^2 + (2.569236014514236*10^-7 + 0.008110021083299626*a + 64*a^2 - 0.01216503162494944*β*γ - 192*a*β*γ + 144*β^2*γ^2 + 0.01216503162494944*α*δ\"\u001b[93m\u001b[1m ⋯ 60065936 bytes ⋯ \u001b[22m\u001b[39m\"766.9340053307116*γ^2*ϵ^2*ω^4 - 766.9340053307116*δ^2*ϵ^2*ω^4 + 2.5546308047287818*10^7*ϵ^4*ω^4 - 2.0298086913594955*10^6*ζ^2*ω^4 - 766.9340053307116*γ^2*ζ^2*ω^4 - 766.9340053307116*δ^2*ζ^2*ω^4 + 5.1092616094575636*10^7*ϵ^2*ζ^2*ω^4 + 2.5546308047287818*10^7*ζ^4*ω^4)^2\""
      ]
     },
     "metadata": {},
     "output_type": "display_data"
    }
   ],
   "source": [
    "file_contents = replace(file_contents, \"*^\" => \"*10^\")\n",
    "file_contents = replace(file_contents, \".*\" => \"*\")"
   ]
  },
  {
   "cell_type": "code",
   "execution_count": 8,
   "metadata": {},
   "outputs": [
    {
     "data": {
      "text/latex": [
       "$$ 64.0γ^{4} - 5.085263462434508γ^{2} - 5.085263462434508δ^{2} + 1.2722525608837027e7 $$"
      ],
      "text/plain": [
       "64.0γ⁴ - 5.085263462434508γ² - 5.085263462434508δ² + 1.2722525608837027e7"
      ]
     },
     "metadata": {},
     "output_type": "display_data"
    }
   ],
   "source": [
    "p = eval(Meta.parse(\"1.2722525507821776*10^7 + 0.10101525188426327 - 5.085263462434508*γ^2 + 64*γ^4 - 5.085263462434508*δ^2\"))"
   ]
  },
  {
   "cell_type": "code",
   "execution_count": 9,
   "metadata": {},
   "outputs": [
    {
     "ename": "ErrorException",
     "evalue": "syntax: invalid syntax (memory-error out of gc handles)",
     "output_type": "error",
     "traceback": [
      "syntax: invalid syntax (memory-error out of gc handles)\n",
      "\n",
      "Stacktrace:\n",
      " [1] top-level scope\n",
      "   @ none:1"
     ]
    }
   ],
   "source": [
    "poly =eval(Meta.parse( file_contents))"
   ]
  },
  {
   "cell_type": "code",
   "execution_count": 7,
   "metadata": {},
   "outputs": [
    {
     "ename": "UndefVarError",
     "evalue": "UndefVarError: `poly` not defined",
     "output_type": "error",
     "traceback": [
      "UndefVarError: `poly` not defined\n",
      "\n",
      "Stacktrace:\n",
      " [1] top-level scope\n",
      "   @ ~/github/OQSID-thesis/DMD_TS_POP_correct/Load_Mathematica_objective.ipynb:1"
     ]
    }
   ],
   "source": [
    "dump(poly)"
   ]
  },
  {
   "cell_type": "code",
   "execution_count": 18,
   "metadata": {},
   "outputs": [
    {
     "data": {
      "text/plain": [
       "\"4.556553250381269*10^-9 + (1.3026596706877669*10^-6 - 8*α^2 - 8*β^2 - 8*α*γ - 2*γ^2 - 8*β*δ - 2*δ^2 + 8*α*ϵ + 4*γ*ϵ - 2*ϵ^2 + 8*β*ζ + 4*δ*ζ - 2*ζ^2)^2 + (5.625926623080612*10^-7 - 8*b - 4*α*γ - 4*γ^2 - 4*β*δ - 4*δ^2 - 4*α*ϵ + 4*ϵ^2 - 4*β*ζ + 4*ζ^2)^2 + (100.53099239065\"\u001b[93m\u001b[1m ⋯ 128298 bytes ⋯ \u001b[22m\u001b[39m\"137*ω)) + β*(-2.5453577802111442*α*γ^2 + α*(2.5453577802111442*δ^2 - 2.5453577802111442*ϵ^2 - 5.0907155604222885*δ*ζ + 2.5453577802111442*ζ^2) + γ*(5054.3229427515225 + 5.0907155604222885*α*ϵ - 402.12396956262137*ω) + ϵ*(-5054.3229427515225 + 402.12396956262137*ω))))^2\""
      ]
     },
     "metadata": {},
     "output_type": "display_data"
    }
   ],
   "source": [
    "file_contents"
   ]
  },
  {
   "cell_type": "code",
   "execution_count": 7,
   "metadata": {},
   "outputs": [],
   "source": []
  }
 ],
 "metadata": {
  "kernelspec": {
   "display_name": "Julia 1.10.0",
   "language": "julia",
   "name": "julia-1.10"
  },
  "language_info": {
   "file_extension": ".jl",
   "mimetype": "application/julia",
   "name": "julia",
   "version": "1.10.0"
  }
 },
 "nbformat": 4,
 "nbformat_minor": 2
}
