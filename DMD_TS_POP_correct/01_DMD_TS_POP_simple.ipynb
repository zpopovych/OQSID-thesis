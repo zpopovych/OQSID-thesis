{
 "cells": [
  {
   "cell_type": "code",
   "execution_count": 1,
   "metadata": {},
   "outputs": [
    {
     "data": {
      "text/plain": [
       "LME_operator_from_DMD (generic function with 1 method)"
      ]
     },
     "metadata": {},
     "output_type": "display_data"
    }
   ],
   "source": [
    "include(\"../LiPoSID.jl\")\n",
    "\n",
    "using LinearAlgebra\n",
    "function ⊗(A::AbstractMatrix, B::AbstractMatrix)\n",
    "    return kron(A,B)\n",
    "end\n",
    "\n",
    "function LME_operator_symbolic(H, J)\n",
    "    \n",
    "    Id = I(2)   \n",
    "    U = -im*(Id ⊗ H - transpose(H) ⊗ Id)\n",
    "    D = sum( 2*transpose(j')⊗j-Id⊗(j'*j) - transpose(j)*transpose(j')⊗Id for j in J )/2 \n",
    "    \n",
    "    Lᴸᴹᴱ = U + D\n",
    "    \n",
    "    return Lᴸᴹᴱ\n",
    "end\n",
    "\n",
    "function LME_operator_from_DMD(A)\n",
    "\n",
    "    M = [ 0  0   1  1\n",
    "          1  im  0  0 \n",
    "          1  -im  0  0\n",
    "          0  0  -1  1 ]/2\n",
    "   \n",
    "    Lᴰᴹᴰ =   M * A * inv(M)\n",
    "   \n",
    "    return Lᴰᴹᴰ \n",
    "   \n",
    "end\n"
   ]
  },
  {
   "cell_type": "code",
   "execution_count": 65,
   "metadata": {},
   "outputs": [
    {
     "data": {
      "text/plain": [
       "TF_objective (generic function with 1 method)"
      ]
     },
     "metadata": {},
     "output_type": "display_data"
    }
   ],
   "source": [
    "using SymPy\n",
    "@syms s\n",
    "\n",
    "using DynamicPolynomials\n",
    "using TSSOS\n",
    "\n",
    "function Transfer_Function(A, b)\n",
    "    inv(I(4)*s - A)*b\n",
    "end\n",
    "\n",
    "b⁰ = [0, 0, 1, 1]\n",
    "b¹ = [0, 0, -1, 1]\n",
    "bˣ = [1, 0, 0, 1]\n",
    "bʸ = [0, 1, 0, 1]\n",
    "\n",
    "function SumCoeffs2(poly)\n",
    "    p = expand(numerator(poly))\n",
    "    degrees = range(0,convert(Int32,SymPy.degree(p, s)))\n",
    "    obj = sum(p.coeff(s^i)^2 for i in degrees)\n",
    "    return obj\n",
    "end\n",
    "\n",
    "function sympy_to_dynamicpoly(sympy_expr::Sym)\n",
    "    # Extract variables from the SymPy expression\n",
    "    vars = free_symbols(sympy_expr)\n",
    "\n",
    "    # Convert SymPy variables to string and then to Symbol\n",
    "    var_symbols = [Symbol(string(v)) for v in vars]\n",
    "\n",
    "    # Create DynamicPolynomials variables using @polyvar macro\n",
    "    @eval begin\n",
    "        @polyvar $(var_symbols...)\n",
    "    end\n",
    "\n",
    "    # Map SymPy variables to DynamicPolynomials variables\n",
    "    var_map = Dict(vars[i] => eval(var_symbols[i]) for i in 1:length(vars))\n",
    "\n",
    "    # Substitute using subs and convert to DynamicPolynomial\n",
    "    dynamic_poly_expr = SymPy.subs(sympy_expr, var_map)\n",
    "    dynamic_poly = eval(Meta.parse(string(dynamic_poly_expr)))\n",
    "    return dynamic_poly\n",
    "end\n",
    "\n",
    "function TF_objective(Aˢʸᵐᵇ, Aˢⁱᵈ, b)\n",
    "\n",
    "    Gˢʸᵐᵇ = Transfer_Function(Aˢʸᵐᵇ, b)[1:3]\n",
    "\n",
    "    Gˢⁱᵈ = Transfer_Function(Aˢⁱᵈ, b)[1:3]\n",
    "\n",
    "    ΔG = together.(Gˢʸᵐᵇ - Gˢⁱᵈ)\n",
    "\n",
    "    polys = numerator.(ΔG)\n",
    "\n",
    "    obj = sum(SumCoeffs2.(polys))\n",
    "\n",
    "    return obj\n",
    "\n",
    "end\n"
   ]
  },
  {
   "cell_type": "code",
   "execution_count": 58,
   "metadata": {},
   "outputs": [
    {
     "data": {
      "text/plain": [
       "4-element Vector{Sym{PyCall.PyObject}}:\n",
       " (1.0*s + 0.5*γ^2)/(1.0*s^2 + 1.0*s*γ^2 + 0.25*γ^4 + 1.0*ω^2)\n",
       "             1.0*ω/(1.0*s^2 + 1.0*s*γ^2 + 0.25*γ^4 + 1.0*ω^2)\n",
       "                                1.0*γ^2/(1.0*s^2 + 1.0*s*γ^2)\n",
       "                                                          1/s"
      ]
     },
     "metadata": {},
     "output_type": "display_data"
    }
   ],
   "source": [
    "ω = symbols(\"ω\", real=true)\n",
    "γ = symbols(\"γ\", real=true)\n",
    "\n",
    "Hᴸᴹᴱ = [ ω        0\n",
    "         0        0   ]\n",
    "\n",
    "\n",
    "Jᴸᴹᴱ = [ 0     γ\n",
    "         0     0. + 0im  ]\n",
    "\n",
    "Lᴸᴹᴱ = LME_operator_symbolic(Hᴸᴹᴱ, [Jᴸᴹᴱ])\n",
    "\n",
    "M = [   0  0   1  1\n",
    "        1  im  0  0 \n",
    "        1 -im  0  0\n",
    "        0  0  -1  1  ] / 2\n",
    "\n",
    "Aᴸᴹᴱ = real.(inv(M) * Lᴸᴹᴱ * M)\n",
    "\n",
    "Gᴸᴹᴱ = Transfer_Function(Aᴸᴹᴱ, bˣ)"
   ]
  },
  {
   "cell_type": "code",
   "execution_count": 59,
   "metadata": {},
   "outputs": [],
   "source": [
    "data_dir = \"../DATA/\"\n",
    "γ_list = [ \"0.079477\",  \"0.25133\", \"0.79477\", \"2.5133\", \"7.9477\", \"25.133\",  \"79.477\", \"251.33\"]\n",
    "\n",
    "γ_list_disp = [ \"0.0795\",  \"0.2513\", \"0.7947\", \"2.5133\", \"7.9477\", \"25.133\",  \"79.477\", \"251.33\"];"
   ]
  },
  {
   "cell_type": "code",
   "execution_count": 66,
   "metadata": {},
   "outputs": [
    {
     "name": "stdout",
     "output_type": "stream",
     "text": [
      "251.33\n"
     ]
    },
    {
     "name": "stdout",
     "output_type": "stream",
     "text": [
      "*********************************** TSSOS ***********************************\n",
      "Version 1.0.0, developed by Jie Wang, 2020--2023\n",
      "TSSOS is launching...\n",
      "optimum = -3.408126158810833e-10\n",
      "Global optimality certified with relative optimality gap 0.000000%!\n",
      "No higher TS step of the TSSOS hierarchy!\n",
      "*********************************** TSSOS ***********************************\n",
      "Version 1.0.0, developed by Jie Wang, 2020--2023\n",
      "TSSOS is launching...\n",
      "optimum = -1.7735895296623752e-8\n",
      "Global optimality certified with relative optimality gap 0.000002%!\n",
      "No higher TS step of the TSSOS hierarchy!\n",
      "val_p = [1.0023196629552456e-18, 1.002319633571578e-18]\n"
     ]
    },
    {
     "data": {
      "text/plain": [
       "(PolyVar{true}[γ, ω] => [1.6867171027249216e-13, 0.00012236234021161462], \"scaled_tssos\")"
      ]
     },
     "metadata": {},
     "output_type": "display_data"
    }
   ],
   "source": [
    "γᵢ = γ_list[8]\n",
    "println(γᵢ)\n",
    "γᶠ = parse(Float64, γᵢ)\n",
    "\n",
    "ρᵉ, tᵉ = LiPoSID.get_rho_series(data_dir*\"State_B1_2CUT_data.h5\", γᵢ)\n",
    "ρᵍ, tᵍ = LiPoSID.get_rho_series(data_dir*\"State_B2_2CUT_data.h5\", γᵢ)\n",
    "ρˣ, tˣ = LiPoSID.get_rho_series(data_dir*\"State_B3_2CUT_data.h5\", γᵢ)\n",
    "ρʸ, tʸ = LiPoSID.get_rho_series(data_dir*\"State_B4_2CUT_data.h5\", γᵢ)\n",
    "\n",
    "lᵉ = length(ρᵉ); lᵍ = length(ρᵍ); lˣ = length(ρˣ); lʸ = length(ρʸ)\n",
    "lᵐᵃˣ = min(lᵉ, lᵍ,  lˣ, lʸ)  #choose time limit by shortest series\n",
    "\n",
    "Aᴰᴹᴰ⁻ˢᴮ = LiPoSID.direct_DMD_01XY_b4_A([ρᵉ[1:lᵐᵃˣ], ρᵍ[1:lᵐᵃˣ], ρˣ[1:lᵐᵃˣ], ρʸ[1:lᵐᵃˣ]])\n",
    "\n",
    "Lᴰᴹᴰ = LME_operator_from_DMD(Aᴰᴹᴰ⁻ˢᴮ)\n",
    "\n",
    "M = [   0  0   1  1\n",
    "        1  im  0  0 \n",
    "        1 -im  0  0\n",
    "        0  0  -1  1  ] / 2\n",
    "\n",
    "@assert abs(LiPoSID.frobenius_norm2(inv(M) * Lᴰᴹᴰ * M - Aᴰᴹᴰ⁻ˢᴮ)) < 1e-9\n",
    "\n",
    "obj = TF_objective(Aᴸᴹᴱ, Aᴰᴹᴰ⁻ˢᴮ,b¹) + TF_objective(Aᴸᴹᴱ, Aᴰᴹᴰ⁻ˢᴮ, bˣ) + TF_objective(Aᴸᴹᴱ, Aᴰᴹᴰ⁻ˢᴮ, bʸ)\n",
    "#+ TF_objective(Aᴸᴹᴱ, Aᴰᴹᴰ⁻ˢᴮ, b⁰)\n",
    "\n",
    "objective = sympy_to_dynamicpoly(obj)\n",
    "\n",
    "best_solution, best_method = LiPoSID.sos_min_newton(objective) "
   ]
  },
  {
   "cell_type": "code",
   "execution_count": 67,
   "metadata": {},
   "outputs": [
    {
     "name": "stdout",
     "output_type": "stream",
     "text": [
      "*********************************** TSSOS ***********************************\n",
      "Version 1.0.0, developed by Jie Wang, 2020--2023\n",
      "TSSOS is launching...\n",
      "Starting to compute the Gröbner basis...\n",
      "This might take much time. You can set quotient=false to close it.\n",
      "Starting to compute the block structure...\n",
      "-----------------------------------------------------------------------------\n",
      "The sizes of PSD blocks:\n",
      "[3, 2]\n",
      "[1, 2]\n",
      "-----------------------------------------------------------------------------\n",
      "Obtained the block structure in 0.000170975 seconds.\n",
      "The maximal size of blocks is 3.\n",
      "Assembling the SDP...\n",
      "There are 9 affine constraints.\n",
      "SDP assembling time: 0.000197665 seconds.\n",
      "Solving the SDP...\n",
      "Problem\n",
      "  Name                   :                 \n",
      "  Objective sense        : maximize        \n",
      "  Type                   : CONIC (conic optimization problem)\n",
      "  Constraints            : 9               \n",
      "  Affine conic cons.     : 0               \n",
      "  Disjunctive cons.      : 0               \n",
      "  Cones                  : 0               \n",
      "  Scalar variables       : 1               \n",
      "  Matrix variables       : 7 (scalarized: 40)\n",
      "  Integer variables      : 0               \n",
      "\n",
      "Optimizer started.\n",
      "Presolve started.\n",
      "Linear dependency checker started.\n",
      "Linear dependency checker terminated.\n",
      "Eliminator started.\n",
      "Freed constraints in eliminator : 0\n",
      "Eliminator terminated.\n",
      "Eliminator started.\n",
      "Freed constraints in eliminator : 0\n",
      "Eliminator terminated.\n",
      "Eliminator - tries                  : 2                 time                   : 0.00            \n",
      "Lin. dep.  - tries                  : 1                 time                   : 0.00            \n",
      "Lin. dep.  - primal attempts        : 1                 successes              : 1               \n",
      "Lin. dep.  - dual attempts          : 0                 successes              : 0               \n",
      "Lin. dep.  - primal deps.           : 0                 dual deps.             : 0               \n",
      "Presolve terminated. Time: 0.00    \n",
      "Optimizer  - threads                : 6               \n",
      "Optimizer  - solved problem         : the primal      \n",
      "Optimizer  - Constraints            : 9               \n",
      "Optimizer  - Cones                  : 3               \n",
      "Optimizer  - Scalar variables       : 8                 conic                  : 8               \n",
      "Optimizer  - Semi-definite variables: 5                 scalarized             : 34              \n",
      "Factor     - setup time             : 0.00            \n",
      "Factor     - dense det. time        : 0.00              GP order time          : 0.00            \n",
      "Factor     - nonzeros before factor : 41                after factor           : 41              \n",
      "Factor     - dense dim.             : 0                 flops                  : 1.47e+03        \n",
      "ITE PFEAS    DFEAS    GFEAS    PRSTATUS   POBJ              DOBJ              MU       TIME  \n",
      "0   3.7e+00  1.0e+00  1.0e+00  0.00e+00   -0.000000000e+00  -0.000000000e+00  1.0e+00  0.00  \n",
      "1   8.7e-01  2.4e-01  1.8e-01  6.78e-01   2.707940173e-01   -0.000000000e+00  2.4e-01  0.00  \n",
      "2   1.5e-01  4.1e-02  2.8e-02  5.68e-03   3.454239275e-01   -0.000000000e+00  4.1e-02  0.00  \n",
      "3   3.3e-02  8.9e-03  2.4e-03  9.44e-01   4.823964594e-02   -0.000000000e+00  8.9e-03  0.00  \n",
      "4   5.7e-03  1.5e-03  1.6e-04  1.11e+00   6.495002540e-03   -0.000000000e+00  1.5e-03  0.00  \n",
      "5   1.1e-03  2.9e-04  1.1e-05  1.08e+00   8.979569415e-04   -0.000000000e+00  2.9e-04  0.00  \n",
      "6   8.2e-05  2.2e-05  1.9e-07  1.11e+00   2.667941876e-05   -0.000000000e+00  2.2e-05  0.00  \n",
      "7   1.4e-07  3.8e-08  1.3e-11  1.03e+00   3.043499261e-08   -0.000000000e+00  3.8e-08  0.00  \n",
      "8   1.2e-11  3.3e-12  1.1e-15  1.00e+00   -7.583508764e-13  -0.000000000e+00  3.3e-12  0.00  \n",
      "Optimizer terminated. Time: 0.00    \n",
      "\n",
      "SDP solving time: 0.001836805 seconds.\n",
      "optimum = -7.583508764037743e-13\n",
      "Global optimality certified with relative optimality gap 0.000000%!\n"
     ]
    },
    {
     "data": {
      "text/plain": [
       "(-7.583508764037743e-13, [1.1723825091406097, 1.0], TSSOS.cpop_data(2, 0, 1, 1, PolyVar{true}[γ, ω], Polynomial{true, Float64}[6.000389721153201e-20γ⁸ + 1.8834009018517946e-20γ⁶ + 4.800311776922561e-19γ⁴ω² - 1.1776940768241963e-22γ⁴ω + 6.935061010989177e-19γ⁴ + 7.533603607407176e-20γ²ω² + 9.600623553845122e-19ω⁴ + 5.187960087170326e-22γ²ω - 4.710776307296777e-22ω³ + 4.808695713453694e-19γ² + 1.8963963852410965e-18ω² - 4.721840225230717e-22ω + 1.0023196629552456e-18, γ - 1.0, ω - 1.0], Polynomial{true, Float64}[ω - 1.0], UInt8[0x00; 0x01;;], Matrix{UInt8}[Matrix{UInt8}(undef, 2, 0), [0x01 0x00; 0x00 0x00]], [Float64[], [1.0, -1.0]], Matrix{UInt8}[[0x00 0x01 … 0x03 0x04; 0x00 0x00 … 0x00 0x00], [0x00 0x01 0x02 0x03; 0x00 0x00 0x00 0x00]], UInt8[0x00 0x02 … 0x01 0x02; 0x00 0x00 … 0x00 0x00], [3, 2], [1, 2], Vector{Vector{UInt16}}[[[0x0001, 0x0003, 0x0005], [0x0002, 0x0004], [0x0001, 0x0002]], [[0x0001, 0x0002, 0x0003, 0x0004]]], UInt16[0x0003, 0x0001], Vector{UInt16}[[0x0003, 0x0002, 0x0002], [0x0004]], nothing, [[0.9999999999931534 1.2293163000875484 1.7780260031456352; 1.2293163000875484 1.7780260031456352 3.4481986810804544; 1.7780260031456352 3.4481986810804544 11.508036443633733], [1.2293163000875484 1.7780260031456352; 1.7780260031456352 3.4481986810804544], [0.9999999999931534 1.0930674916761867; 1.0930674916761867 1.2293163000875484]], \"Mosek\", MathOptInterface.OPTIMAL, 0.0001, 0))"
      ]
     },
     "metadata": {},
     "output_type": "display_data"
    }
   ],
   "source": [
    "pop = [objective, γ-1, ω-1]\n",
    "d = 4 # set the relaxation order\n",
    "opt,sol,data = tssos_first(pop, variables(objective), d, numeq=1, TS=\"MD\", solution = true)"
   ]
  },
  {
   "cell_type": "code",
   "execution_count": 68,
   "metadata": {},
   "outputs": [
    {
     "data": {
      "text/plain": [
       "2-element Vector{Float64}:\n",
       " 1.1723825091406097\n",
       " 1.0"
      ]
     },
     "metadata": {},
     "output_type": "display_data"
    }
   ],
   "source": [
    "sol"
   ]
  },
  {
   "cell_type": "code",
   "execution_count": null,
   "metadata": {},
   "outputs": [],
   "source": [
    "opt,sol,data = tssos_higher!(data, TS=\"MD\")"
   ]
  },
  {
   "cell_type": "code",
   "execution_count": 6,
   "metadata": {},
   "outputs": [
    {
     "ename": "UndefVarError",
     "evalue": "UndefVarError: `bₓ` not defined",
     "output_type": "error",
     "traceback": [
      "UndefVarError: `bₓ` not defined\n",
      "\n",
      "Stacktrace:\n",
      " [1] top-level scope\n",
      "   @ ~/github/OQSID-thesis/DMD_TS_POP_correct/01_DMD_TS_POP_simple.ipynb:22"
     ]
    }
   ],
   "source": [
    "ρᵍ₀ = [1. 0]' * [1 0]\n",
    "ρᵉ₀ = [0. 1]' * [0 1]\n",
    "ρˣ₀ = [1  1]' * [1 1]/2\n",
    "ρʸ₀ = [1 -im]' * [1 -im]/2\n",
    "\n",
    "max_negs = []\n",
    "sum_negs = []\n",
    "num_negs = []\n",
    "\n",
    "for γᵢ in γ_list \n",
    "\n",
    "    ρᵉ, tᵉ = LiPoSID.get_rho_series(data_dir*\"State_B1_2CUT_data.h5\", γᵢ)\n",
    "    ρᵍ, tᵍ = LiPoSID.get_rho_series(data_dir*\"State_B2_2CUT_data.h5\", γᵢ)\n",
    "    ρˣ, tˣ = LiPoSID.get_rho_series(data_dir*\"State_B3_2CUT_data.h5\", γᵢ)\n",
    "    ρʸ, tʸ = LiPoSID.get_rho_series(data_dir*\"State_B4_2CUT_data.h5\", γᵢ)\n",
    "\n",
    "    lᵉ = length(ρᵉ); lᵍ = length(ρᵍ); lˣ = length(ρˣ); lʸ = length(ρʸ)\n",
    "    lᵐᵃˣ = min(lᵉ, lᵍ,  lˣ, lʸ)  #choose time limit by shortest series\n",
    "\n",
    "    Aᴰᴹᴰ⁻ˢᴮ = LiPoSID.direct_DMD_01XY_b4_A([ρᵉ[1:lᵐᵃˣ], ρᵍ[1:lᵐᵃˣ], ρˣ[1:lᵐᵃˣ], ρʸ[1:lᵐᵃˣ]])\n",
    "\n",
    "    objective = TF_objective(Aᴸᴹᴱ, Aᴰᴹᴰ⁻ˢᴮ, bₓ)\n",
    "\n",
    "    best_solution, best_method = LiPoSID.sos_min_newton(objective) \n",
    "\n",
    "end"
   ]
  }
 ],
 "metadata": {
  "kernelspec": {
   "display_name": "Julia 1.9.2",
   "language": "julia",
   "name": "julia-1.9"
  },
  "language_info": {
   "file_extension": ".jl",
   "mimetype": "application/julia",
   "name": "julia",
   "version": "1.9.2"
  }
 },
 "nbformat": 4,
 "nbformat_minor": 2
}
