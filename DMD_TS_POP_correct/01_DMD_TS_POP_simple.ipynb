{
 "cells": [
  {
   "cell_type": "code",
   "execution_count": 7,
   "metadata": {},
   "outputs": [
    {
     "name": "stderr",
     "output_type": "stream",
     "text": [
      "WARNING: method definition for AlgebraicSet at /home/zah/.julia/packages/SemialgebraicSets/uHqmg/src/variety.jl:21 declares type variable S but does not use it.\n",
      "WARNING: method definition for AlgebraicSet at /home/zah/.julia/packages/SemialgebraicSets/uHqmg/src/variety.jl:21 declares type variable U but does not use it.\n"
     ]
    },
    {
     "name": "stderr",
     "output_type": "stream",
     "text": [
      "WARNING: method definition for qr_ldiv! at /home/zah/.julia/packages/HomotopyContinuation/I1faM/src/linear_algebra.jl:377 declares type variable T but does not use it.\n"
     ]
    },
    {
     "name": "stderr",
     "output_type": "stream",
     "text": [
      "WARNING: method definition for evaluate! at /home/zah/.julia/packages/HomotopyContinuation/I1faM/src/homotopies/straight_line_homotopy.jl:81 declares type variable T but does not use it.\n"
     ]
    },
    {
     "data": {
      "text/plain": [
       "LME_operator_from_DMD (generic function with 1 method)"
      ]
     },
     "metadata": {},
     "output_type": "display_data"
    }
   ],
   "source": [
    "include(\"../LiPoSID.jl\")\n",
    "\n",
    "using LinearAlgebra\n",
    "function ⊗(A::AbstractMatrix, B::AbstractMatrix)\n",
    "    return kron(A,B)\n",
    "end\n",
    "\n",
    "function LME_operator_symbolic(H, J)\n",
    "    \n",
    "    Id = I(2)   \n",
    "    U = -im*(Id ⊗ H - transpose(H) ⊗ Id)\n",
    "    D = sum( 2*transpose(j')⊗j-Id⊗(j'*j) - transpose(j)*transpose(j')⊗Id for j in J )/2 \n",
    "    \n",
    "    Lᴸᴹᴱ = U + D\n",
    "    \n",
    "    return Lᴸᴹᴱ\n",
    "end\n",
    "\n",
    "function LME_operator_from_DMD(A)\n",
    "\n",
    "    M = [ 0  0   1  1\n",
    "          1  im  0  0 \n",
    "          1  -im  0  0\n",
    "          0  0  -1  1 ]/2\n",
    "   \n",
    "    Lᴰᴹᴰ =   M * A * inv(M)\n",
    "   \n",
    "    return Lᴰᴹᴰ \n",
    "   \n",
    "end\n"
   ]
  },
  {
   "cell_type": "code",
   "execution_count": 156,
   "metadata": {},
   "outputs": [
    {
     "data": {
      "text/plain": [
       "sympy_to_dynamicpoly (generic function with 1 method)"
      ]
     },
     "metadata": {},
     "output_type": "display_data"
    }
   ],
   "source": [
    "using SymPy\n",
    "@syms s\n",
    "\n",
    "function Transfer_Function(A, b)\n",
    "    inv(I(4)*s - A)*b\n",
    "end\n",
    "\n",
    "bₓ = [1, 0, 0, 1]\n",
    "\n",
    "function SumCoeffs(poly)\n",
    "    p = expand(numerator(poly))\n",
    "    degrees = range(0,convert(Int32,degree(p, s)))\n",
    "    obj = sum(p.coeff(s^i) for i in degrees)\n",
    "    return obj\n",
    "end\n",
    "\n",
    "function sympy_to_dynamicpoly(sympy_expr::Sym)\n",
    "    # Extract variables from the SymPy expression\n",
    "    vars = free_symbols(sympy_expr)\n",
    "\n",
    "    # Convert SymPy variables to string and then to Symbol\n",
    "    var_symbols = [Symbol(string(v)) for v in vars]\n",
    "\n",
    "    # Create DynamicPolynomials variables using @polyvar macro\n",
    "    @eval begin\n",
    "        @polyvar $(var_symbols...)\n",
    "    end\n",
    "\n",
    "    # Map SymPy variables to DynamicPolynomials variables\n",
    "    var_map = Dict(vars[i] => eval(var_symbols[i]) for i in 1:length(vars))\n",
    "\n",
    "    # Substitute using subs and convert to DynamicPolynomial\n",
    "    dynamic_poly_expr = SymPy.subs(sympy_expr, var_map)\n",
    "    dynamic_poly = eval(Meta.parse(string(dynamic_poly_expr)))\n",
    "    return dynamic_poly\n",
    "end"
   ]
  },
  {
   "cell_type": "code",
   "execution_count": 157,
   "metadata": {},
   "outputs": [
    {
     "data": {
      "text/plain": [
       "4-element Vector{Sym{PyCall.PyObject}}:\n",
       " (1.0*s + 0.5*γ^2)/(1.0*s^2 + 1.0*s*γ^2 + 0.25*γ^4 + 1.0*ω^2)\n",
       "             1.0*ω/(1.0*s^2 + 1.0*s*γ^2 + 0.25*γ^4 + 1.0*ω^2)\n",
       "                                1.0*γ^2/(1.0*s^2 + 1.0*s*γ^2)\n",
       "                                                          1/s"
      ]
     },
     "metadata": {},
     "output_type": "display_data"
    }
   ],
   "source": [
    "ω = symbols(\"ω\", real=true)\n",
    "γ = symbols(\"γ\", real=true)\n",
    "\n",
    "Hᴸᴹᴱ = [ ω        0\n",
    "         0        0   ]\n",
    "\n",
    "\n",
    "Jᴸᴹᴱ = [ 0     γ\n",
    "         0     0. + 0im  ]\n",
    "\n",
    "Lᴸᴹᴱ = LME_operator_symbolic(Hᴸᴹᴱ, [Jᴸᴹᴱ])\n",
    "\n",
    "M = [   0  0   1  1\n",
    "        1  im  0  0 \n",
    "        1 -im  0  0\n",
    "        0  0  -1  1  ] / 2\n",
    "\n",
    "Aᴸᴹᴱ = real.(inv(M) * Lᴸᴹᴱ * M)\n",
    "\n",
    "Gᴸᴹᴱ = Transfer_Function(Aᴸᴹᴱ, bₓ)"
   ]
  },
  {
   "cell_type": "code",
   "execution_count": 158,
   "metadata": {},
   "outputs": [],
   "source": [
    "data_dir = \"../DATA/\"\n",
    "γ_list = [ \"0.079477\",  \"0.25133\", \"0.79477\", \"2.5133\", \"7.9477\", \"25.133\",  \"79.477\", \"251.33\"]\n",
    "\n",
    "γ_list_disp = [ \"0.0795\",  \"0.2513\", \"0.7947\", \"2.5133\", \"7.9477\", \"25.133\",  \"79.477\", \"251.33\"];"
   ]
  },
  {
   "cell_type": "code",
   "execution_count": 161,
   "metadata": {},
   "outputs": [
    {
     "name": "stdout",
     "output_type": "stream",
     "text": [
      "*********************************** TSSOS ***********************************\n",
      "Version 1.0.0, developed by Jie Wang, 2020--2023\n",
      "TSSOS is launching...\n",
      "termination status: SLOW_PROGRESS\n",
      "solution status: NO_SOLUTION\n",
      "optimum = -6.230678402630443e-5\n",
      "The local solver failed refining the solution!\n",
      "No higher TS step of the TSSOS hierarchy!\n",
      "*********************************** TSSOS ***********************************\n",
      "Version 1.0.0, developed by Jie Wang, 2020--2023\n",
      "TSSOS is launching...\n",
      "termination status: INFEASIBLE\n",
      "solution status: NO_SOLUTION\n",
      "optimum = -5.070515409390805\n",
      "The local solver failed refining the solution!\n",
      "No higher TS step of the TSSOS hierarchy!\n",
      "val_p = [-0.000333833246849315, -10695.62423503433]\n"
     ]
    },
    {
     "data": {
      "text/plain": [
       "(PolyVar{true}[γ, ω] => [19.00059973844902, 59.99187464592152], \"scaled_tssos\")"
      ]
     },
     "metadata": {},
     "output_type": "display_data"
    }
   ],
   "source": [
    "γᵢ = γ_list[1]\n",
    "γᶠ = parse(Float64, γᵢ)\n",
    "\n",
    "ρᵉ, tᵉ = LiPoSID.get_rho_series(data_dir*\"State_B1_2CUT_data.h5\", γᵢ)\n",
    "ρᵍ, tᵍ = LiPoSID.get_rho_series(data_dir*\"State_B2_2CUT_data.h5\", γᵢ)\n",
    "ρˣ, tˣ = LiPoSID.get_rho_series(data_dir*\"State_B3_2CUT_data.h5\", γᵢ)\n",
    "ρʸ, tʸ = LiPoSID.get_rho_series(data_dir*\"State_B4_2CUT_data.h5\", γᵢ)\n",
    "\n",
    "lᵉ = length(ρᵉ); lᵍ = length(ρᵍ); lˣ = length(ρˣ); lʸ = length(ρʸ)\n",
    "lᵐᵃˣ = min(lᵉ, lᵍ,  lˣ, lʸ)  #choose time limit by shortest series\n",
    "\n",
    "Aᴰᴹᴰ⁻ˢᴮ = LiPoSID.direct_DMD_01XY_b4_A([ρᵉ[1:lᵐᵃˣ], ρᵍ[1:lᵐᵃˣ], ρˣ[1:lᵐᵃˣ], ρʸ[1:lᵐᵃˣ]])\n",
    "\n",
    "Lᴰᴹᴰ = LME_operator_from_DMD(Aᴰᴹᴰ⁻ˢᴮ)\n",
    "\n",
    "M = [   0  0   1  1\n",
    "        1  im  0  0 \n",
    "        1 -im  0  0\n",
    "        0  0  -1  1  ] / 2\n",
    "\n",
    "@assert abs(LiPoSID.frobenius_norm2(inv(M) * Lᴰᴹᴰ * M - Aᴰᴹᴰ⁻ˢᴮ)) < 1e-9\n",
    "\n",
    "\n",
    "Gᴸᴹᴱ = Transfer_Function(Aᴸᴹᴱ, bₓ)[1:3]\n",
    "\n",
    "Gᴰᴹᴰ = Transfer_Function(Aᴰᴹᴰ⁻ˢᴮ, bₓ)[1:3]\n",
    "\n",
    "ΔG = (together.(Gᴸᴹᴱ - Gᴰᴹᴰ)).^2\n",
    "\n",
    "polys = numerator.(ΔG)\n",
    "\n",
    "obj = sum(SumCoeffs.(polys))\n",
    "\n",
    "objective = sympy_to_dynamicpoly(obj)\n",
    "\n",
    "best_solution, best_method = LiPoSID.sos_min_newton(objective) \n"
   ]
  },
  {
   "cell_type": "code",
   "execution_count": null,
   "metadata": {},
   "outputs": [],
   "source": [
    "ρᵍ₀ = [1. 0]' * [1 0]\n",
    "ρᵉ₀ = [0. 1]' * [0 1]\n",
    "ρˣ₀ = [1  1]' * [1 1]/2\n",
    "ρʸ₀ = [1 -im]' * [1 -im]/2\n",
    "\n",
    "max_negs = []\n",
    "sum_negs = []\n",
    "num_negs = []\n",
    "\n",
    "for γᵢ in γ_list \n",
    "\n",
    "    ρᵉ, tᵉ = LiPoSID.get_rho_series(data_dir*\"State_B1_2CUT_data.h5\", γᵢ)\n",
    "    ρᵍ, tᵍ = LiPoSID.get_rho_series(data_dir*\"State_B2_2CUT_data.h5\", γᵢ)\n",
    "    ρˣ, tˣ = LiPoSID.get_rho_series(data_dir*\"State_B3_2CUT_data.h5\", γᵢ)\n",
    "    ρʸ, tʸ = LiPoSID.get_rho_series(data_dir*\"State_B4_2CUT_data.h5\", γᵢ)\n",
    "\n",
    "    lᵉ = length(ρᵉ); lᵍ = length(ρᵍ); lˣ = length(ρˣ); lʸ = length(ρʸ)\n",
    "    lᵐᵃˣ = min(lᵉ, lᵍ,  lˣ, lʸ)  #choose time limit by shortest series\n",
    "\n",
    "    Aᴰᴹᴰ⁻ˢᴮ = LiPoSID.direct_DMD_01XY_b4_A([ρᵉ[1:lᵐᵃˣ], ρᵍ[1:lᵐᵃˣ], ρˣ[1:lᵐᵃˣ], ρʸ[1:lᵐᵃˣ]])\n",
    "\n",
    "end"
   ]
  }
 ],
 "metadata": {
  "kernelspec": {
   "display_name": "Julia 1.9.2",
   "language": "julia",
   "name": "julia-1.9"
  },
  "language_info": {
   "file_extension": ".jl",
   "mimetype": "application/julia",
   "name": "julia",
   "version": "1.9.2"
  }
 },
 "nbformat": 4,
 "nbformat_minor": 2
}
