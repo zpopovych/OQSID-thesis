{
 "cells": [
  {
   "cell_type": "code",
   "execution_count": 2,
   "metadata": {},
   "outputs": [],
   "source": [
    "using DynamicPolynomials\n",
    "using TSSOS"
   ]
  },
  {
   "cell_type": "code",
   "execution_count": 38,
   "metadata": {},
   "outputs": [
    {
     "data": {
      "text/latex": [
       "$$ 1000.0x^{2} + xy + 100.0x + 0.01y $$"
      ],
      "text/plain": [
       "1000.0x² + xy + 100.0x + 0.01y"
      ]
     },
     "metadata": {},
     "output_type": "display_data"
    }
   ],
   "source": [
    "@polyvar x\n",
    "@polyvar y\n",
    "\n",
    "p = 1e3*x^2+x*y+ 100x + 1e-2y"
   ]
  },
  {
   "cell_type": "code",
   "execution_count": 39,
   "metadata": {},
   "outputs": [
    {
     "data": {
      "text/plain": [
       "4×2 transpose(::Matrix{Int64}) with eltype Int64:\n",
       " 2  0\n",
       " 1  1\n",
       " 1  0\n",
       " 0  1"
      ]
     },
     "metadata": {},
     "output_type": "display_data"
    }
   ],
   "source": [
    "X = transpose(hcat([exponents(t) for t in terms(p)]...))"
   ]
  },
  {
   "cell_type": "code",
   "execution_count": 40,
   "metadata": {},
   "outputs": [
    {
     "data": {
      "text/plain": [
       "4-element Vector{Float64}:\n",
       " 1000.0\n",
       "    1.0\n",
       "  100.0\n",
       "    0.01"
      ]
     },
     "metadata": {},
     "output_type": "display_data"
    }
   ],
   "source": [
    "coefficients(p)"
   ]
  },
  {
   "cell_type": "code",
   "execution_count": 41,
   "metadata": {},
   "outputs": [
    {
     "data": {
      "text/plain": [
       "4-element Vector{Float64}:\n",
       " 1000.0\n",
       "    1.0\n",
       "  100.0\n",
       "    0.01"
      ]
     },
     "metadata": {},
     "output_type": "display_data"
    }
   ],
   "source": [
    "abs.(coefficients(p))"
   ]
  },
  {
   "cell_type": "code",
   "execution_count": 42,
   "metadata": {},
   "outputs": [
    {
     "data": {
      "text/plain": [
       "4-element Vector{Float64}:\n",
       "  3.0\n",
       "  0.0\n",
       "  2.0\n",
       " -2.0"
      ]
     },
     "metadata": {},
     "output_type": "display_data"
    }
   ],
   "source": [
    "log10.(abs.(coefficients(p)))"
   ]
  },
  {
   "cell_type": "code",
   "execution_count": 43,
   "metadata": {},
   "outputs": [
    {
     "data": {
      "text/plain": [
       "2-element Vector{Float64}:\n",
       "  3.767866515808439\n",
       " -4.1865183508982655"
      ]
     },
     "metadata": {},
     "output_type": "display_data"
    }
   ],
   "source": [
    "scaling = X \\ log.(abs.(coefficients(p)))"
   ]
  },
  {
   "cell_type": "code",
   "execution_count": 33,
   "metadata": {},
   "outputs": [
    {
     "data": {
      "text/plain": [
       "2-element Vector{Float64}:\n",
       " 81.11308307896871\n",
       "  0.00351119173421513"
      ]
     },
     "metadata": {},
     "output_type": "display_data"
    }
   ],
   "source": [
    "scale = exp.(scaling)"
   ]
  },
  {
   "cell_type": "code",
   "execution_count": 44,
   "metadata": {},
   "outputs": [
    {
     "data": {
      "text/latex": [
       "$$ 6.579332246575681e6x^{2} + 0.2848035868435801xy + 8111.308307896871x + 3.51119173421513e-5y $$"
      ],
      "text/plain": [
       "6.579332246575681e6x² + 0.2848035868435801xy + 8111.308307896871x + 3.51119173421513e-5y"
      ]
     },
     "metadata": {},
     "output_type": "display_data"
    }
   ],
   "source": [
    "p_scaled = DynamicPolynomials.subs(p, variables(p) => scale .* variables(p))"
   ]
  },
  {
   "cell_type": "code",
   "execution_count": 45,
   "metadata": {},
   "outputs": [
    {
     "data": {
      "text/latex": [
       "$$ 1.8738174228603856e6x^{2} + 2848.035868435805xy + 4328.761281083061x + 0.6579332246575684y $$"
      ],
      "text/plain": [
       "1.8738174228603856e6x² + 2848.035868435805xy + 4328.761281083061x + 0.6579332246575684y"
      ]
     },
     "metadata": {},
     "output_type": "display_data"
    }
   ],
   "source": [
    "scale_abs = exp.(abs.(scaling))\n",
    "p_scaled_abs = DynamicPolynomials.subs(p, variables(p) => scale_abs .* variables(p))"
   ]
  },
  {
   "cell_type": "code",
   "execution_count": 46,
   "metadata": {},
   "outputs": [
    {
     "name": "stdout",
     "output_type": "stream",
     "text": [
      "*********************************** TSSOS ***********************************\n",
      "Version 1.0.0, developed by Jie Wang, 2020--2023\n",
      "TSSOS is launching...\n",
      "Starting to compute the block structure...\n",
      "-----------------------------------------------------------------------------\n",
      "The sizes of PSD blocks:\n",
      "[2]\n",
      "[1]\n",
      "-----------------------------------------------------------------------------\n",
      "Obtained the block structure. The maximal size of blocks is 2.\n",
      "Assembling the SDP...\n",
      "There are 6 affine constraints.\n",
      "Solving the SDP...\n",
      "Problem\n",
      "  Name                   :                 \n",
      "  Objective sense        : maximize        \n",
      "  Type                   : CONIC (conic optimization problem)\n",
      "  Constraints            : 6               \n",
      "  Affine conic cons.     : 0               \n",
      "  Disjunctive cons.      : 0               \n",
      "  Cones                  : 0               \n",
      "  Scalar variables       : 1               \n",
      "  Matrix variables       : 2 (scalarized: 9)\n",
      "  Integer variables      : 0               \n",
      "\n",
      "Optimizer started.\n",
      "Presolve started.\n",
      "Eliminator - tries                  : 0                 time                   : 0.00            \n",
      "Lin. dep.  - tries                  : 0                 time                   : 0.00            \n",
      "Lin. dep.  - primal attempts        : 0                 successes              : 0               \n",
      "Lin. dep.  - dual attempts          : 0                 successes              : 0               \n",
      "Lin. dep.  - primal deps.           : 0                 dual deps.             : 0               \n",
      "Presolve terminated. Time: 0.00    \n",
      "Optimizer terminated. Time: 0.00    \n",
      "\n",
      "SDP solving time: 0.000588746 seconds.\n",
      "termination status: INFEASIBLE\n",
      "solution status: NO_SOLUTION\n",
      "optimum = 0.0\n"
     ]
    },
    {
     "ename": "BoundsError",
     "evalue": "BoundsError: attempt to access 2×2 Matrix{UInt8} at index [1:2, 3]",
     "output_type": "error",
     "traceback": [
      "BoundsError: attempt to access 2×2 Matrix{UInt8} at index [1:2, 3]\n",
      "\n",
      "Stacktrace:\n",
      " [1] throw_boundserror(A::Matrix{UInt8}, I::Tuple{Base.Slice{Base.OneTo{Int64}}, Int64})\n",
      "   @ Base ./abstractarray.jl:734\n",
      " [2] checkbounds\n",
      "   @ ./abstractarray.jl:699 [inlined]\n",
      " [3] _getindex\n",
      "   @ ./multidimensional.jl:888 [inlined]\n",
      " [4] getindex\n",
      "   @ ./abstractarray.jl:1288 [inlined]\n",
      " [5] blockupop(n::Int64, supp::Matrix{UInt8}, coe::Vector{Float64}, basis::Matrix{UInt8}, blocks::Vector{Vector{Int64}}, cl::Int64, blocksize::Vector{Int64}; nb::Int64, solver::String, feasible::Bool, QUIET::Bool, solve::Bool, solution::Bool, MomentOne::Bool, Gram::Bool, cosmo_setting::cosmo_para, dualize::Bool)\n",
      "   @ TSSOS ~/.julia/packages/TSSOS/gQrTq/src/blockpop_uncons.jl:514\n",
      " [6] tssos_first(f::Polynomial{true, Float64}, x::Vector{PolyVar{true}}; nb::Int64, order::Int64, newton::Bool, reducebasis::Bool, TS::String, merge::Bool, md::Int64, feasible::Bool, solver::String, QUIET::Bool, solve::Bool, dualize::Bool, MomentOne::Bool, Gram::Bool, solution::Bool, tol::Float64, cosmo_setting::cosmo_para)\n",
      "   @ TSSOS ~/.julia/packages/TSSOS/gQrTq/src/blockpop_uncons.jl:107\n",
      " [7] top-level scope\n",
      "   @ ~/github/OQSID-thesis/DMD_TS_POP_correct/Scaling_example.ipynb:3"
     ]
    }
   ],
   "source": [
    "using TSSOS\n",
    "\n",
    "opt,sol,data = tssos_first(p, variables(p), solution=true, newton=true)"
   ]
  },
  {
   "cell_type": "code",
   "execution_count": 47,
   "metadata": {},
   "outputs": [
    {
     "name": "stdout",
     "output_type": "stream",
     "text": [
      "*********************************** TSSOS ***********************************\n",
      "Version 1.0.0, developed by Jie Wang, 2020--2023\n",
      "TSSOS is launching...\n",
      "Starting to compute the block structure...\n",
      "-----------------------------------------------------------------------------\n",
      "The sizes of PSD blocks:\n",
      "[2]\n",
      "[1]\n",
      "-----------------------------------------------------------------------------\n",
      "Obtained the block structure. The maximal size of blocks is 2.\n",
      "Assembling the SDP...\n",
      "There are 6 affine constraints.\n",
      "Solving the SDP...\n",
      "Problem\n",
      "  Name                   :                 \n",
      "  Objective sense        : maximize        \n",
      "  Type                   : CONIC (conic optimization problem)\n",
      "  Constraints            : 6               \n",
      "  Affine conic cons.     : 0               \n",
      "  Disjunctive cons.      : 0               \n",
      "  Cones                  : 0               \n",
      "  Scalar variables       : 1               \n",
      "  Matrix variables       : 2 (scalarized: 9)\n",
      "  Integer variables      : 0               \n",
      "\n",
      "Optimizer started.\n",
      "Presolve started.\n",
      "Eliminator - tries                  : 0                 time                   : 0.00            \n",
      "Lin. dep.  - tries                  : 0                 time                   : 0.00            \n",
      "Lin. dep.  - primal attempts        : 0                 successes              : 0               \n",
      "Lin. dep.  - dual attempts          : 0                 successes              : 0               \n",
      "Lin. dep.  - primal deps.           : 0                 dual deps.             : 0               \n",
      "Presolve terminated. Time: 0.00    \n",
      "Optimizer terminated. Time: 0.00    \n",
      "\n",
      "SDP solving time: 0.000612335 seconds.\n",
      "termination status: INFEASIBLE\n",
      "solution status: NO_SOLUTION\n",
      "optimum = 0.0\n"
     ]
    },
    {
     "ename": "BoundsError",
     "evalue": "BoundsError: attempt to access 2×2 Matrix{UInt8} at index [1:2, 3]",
     "output_type": "error",
     "traceback": [
      "BoundsError: attempt to access 2×2 Matrix{UInt8} at index [1:2, 3]\n",
      "\n",
      "Stacktrace:\n",
      " [1] throw_boundserror(A::Matrix{UInt8}, I::Tuple{Base.Slice{Base.OneTo{Int64}}, Int64})\n",
      "   @ Base ./abstractarray.jl:734\n",
      " [2] checkbounds\n",
      "   @ ./abstractarray.jl:699 [inlined]\n",
      " [3] _getindex\n",
      "   @ ./multidimensional.jl:888 [inlined]\n",
      " [4] getindex\n",
      "   @ ./abstractarray.jl:1288 [inlined]\n",
      " [5] blockupop(n::Int64, supp::Matrix{UInt8}, coe::Vector{Float64}, basis::Matrix{UInt8}, blocks::Vector{Vector{Int64}}, cl::Int64, blocksize::Vector{Int64}; nb::Int64, solver::String, feasible::Bool, QUIET::Bool, solve::Bool, solution::Bool, MomentOne::Bool, Gram::Bool, cosmo_setting::cosmo_para, dualize::Bool)\n",
      "   @ TSSOS ~/.julia/packages/TSSOS/gQrTq/src/blockpop_uncons.jl:514\n",
      " [6] tssos_first(f::Polynomial{true, Float64}, x::Vector{PolyVar{true}}; nb::Int64, order::Int64, newton::Bool, reducebasis::Bool, TS::String, merge::Bool, md::Int64, feasible::Bool, solver::String, QUIET::Bool, solve::Bool, dualize::Bool, MomentOne::Bool, Gram::Bool, solution::Bool, tol::Float64, cosmo_setting::cosmo_para)\n",
      "   @ TSSOS ~/.julia/packages/TSSOS/gQrTq/src/blockpop_uncons.jl:107\n",
      " [7] top-level scope\n",
      "   @ ~/github/OQSID-thesis/DMD_TS_POP_correct/Scaling_example.ipynb:1"
     ]
    }
   ],
   "source": [
    "opt,sol,data = tssos_first(p_scaled, variables(p_scaled), solution=true, newton=true)"
   ]
  },
  {
   "cell_type": "code",
   "execution_count": 48,
   "metadata": {},
   "outputs": [
    {
     "name": "stdout",
     "output_type": "stream",
     "text": [
      "*********************************** TSSOS ***********************************\n",
      "Version 1.0.0, developed by Jie Wang, 2020--2023\n",
      "TSSOS is launching...\n",
      "Starting to compute the block structure...\n",
      "-----------------------------------------------------------------------------\n",
      "The sizes of PSD blocks:\n",
      "[4, 2]\n",
      "[1, 4]\n",
      "-----------------------------------------------------------------------------\n",
      "Obtained the block structure. The maximal size of blocks is 4.\n"
     ]
    },
    {
     "name": "stdout",
     "output_type": "stream",
     "text": [
      "Assembling the SDP...\n",
      "There are 12 affine constraints.\n",
      "Solving the SDP...\n",
      "Problem\n",
      "  Name                   :                 \n",
      "  Objective sense        : maximize        \n",
      "  Type                   : CONIC (conic optimization problem)\n",
      "  Constraints            : 12              \n",
      "  Affine conic cons.     : 0               \n",
      "  Disjunctive cons.      : 0               \n",
      "  Cones                  : 0               \n",
      "  Scalar variables       : 1               \n",
      "  Matrix variables       : 5 (scalarized: 22)\n",
      "  Integer variables      : 0               \n",
      "\n",
      "Optimizer started.\n",
      "Presolve started.\n",
      "Linear dependency checker started.\n",
      "Linear dependency checker terminated.\n",
      "Eliminator started.\n",
      "Freed constraints in eliminator : 0\n",
      "Eliminator terminated.\n",
      "Eliminator - tries                  : 1                 time                   : 0.00            \n",
      "Lin. dep.  - tries                  : 1                 time                   : 0.00            \n",
      "Lin. dep.  - primal attempts        : 1                 successes              : 1               \n",
      "Lin. dep.  - dual attempts          : 0                 successes              : 0               \n",
      "Lin. dep.  - primal deps.           : 0                 dual deps.             : 0               \n",
      "Presolve terminated. Time: 0.00    \n",
      "Optimizer  - threads                : 6               \n",
      "Optimizer  - solved problem         : the primal      \n",
      "Optimizer  - Constraints            : 12              \n",
      "Optimizer  - Cones                  : 5               \n",
      "Optimizer  - Scalar variables       : 14                conic                  : 14              \n",
      "Optimizer  - Semi-definite variables: 1                 scalarized             : 10              \n",
      "Factor     - setup time             : 0.00            \n",
      "Factor     - dense det. time        : 0.00              GP order time          : 0.00            \n",
      "Factor     - nonzeros before factor : 65                after factor           : 65              \n",
      "Factor     - dense dim.             : 0                 flops                  : 9.66e+02        \n",
      "ITE PFEAS    DFEAS    GFEAS    PRSTATUS   POBJ              DOBJ              MU       TIME  \n",
      "0   1.4e+00  1.0e+00  1.0e+00  0.00e+00   -0.000000000e+00  -0.000000000e+00  1.0e+00  0.00  \n",
      "1   3.4e-01  2.4e-01  1.2e-01  8.13e-01   4.261567987e-01   4.398057745e-01   2.4e-01  0.00  \n",
      "2   3.0e-02  2.1e-02  2.5e-03  1.01e+00   4.552733269e-01   4.625778964e-01   2.1e-02  0.00  \n",
      "3   2.4e-03  1.7e-03  5.6e-05  1.04e+00   4.735950989e-01   4.741962136e-01   1.7e-03  0.00  \n",
      "4   8.3e-05  5.9e-05  3.6e-07  1.01e+00   4.752030553e-01   4.752240896e-01   5.9e-05  0.00  \n",
      "5   1.2e-06  8.3e-07  6.0e-10  1.00e+00   4.752732239e-01   4.752735256e-01   8.3e-07  0.00  \n",
      "6   1.3e-07  8.8e-08  2.1e-11  1.00e+00   4.752745896e-01   4.752746222e-01   8.8e-08  0.00  \n",
      "7   1.4e-08  1.0e-08  8.1e-13  1.00e+00   4.752747592e-01   4.752747630e-01   1.0e-08  0.00  \n",
      "Optimizer terminated. Time: 0.00    \n",
      "\n",
      "SDP solving time: 0.001417755 seconds.\n",
      "optimum = 0.47527475915847434\n"
     ]
    },
    {
     "data": {
      "text/plain": [
       "(0.47527475915847434, nothing, TSSOS.upop_data(3, 0, PolyVar{true}[x₁, x₂, x₃], x₁⁴ + x₂⁴ + x₃⁴ + x₁x₂x₃ + x₂ + 1, UInt8[0x04 0x00 … 0x00 0x00; 0x00 0x04 … 0x01 0x00; 0x00 0x00 … 0x00 0x00], [1, 1, 1, 1, 1, 1], UInt8[0x00 0x01 … 0x00 0x00; 0x00 0x00 … 0x01 0x00; 0x00 0x00 … 0x01 0x02], UInt8[0x00 0x00 … 0x02 0x04; 0x00 0x00 … 0x02 0x00; 0x00 0x02 … 0x00 0x00], Vector{UInt16}[[0x0001, 0x0005, 0x0007, 0x000a], [0x0003, 0x0008], [0x0004, 0x0006], [0x0001, 0x0003], [0x0002, 0x0009]], [4, 2], [1, 4], nothing, [[0.999999985718204 0.16577535316036462 0.4396066812363087 0.16577535316029554; 0.16577535316036462 0.027481467996959257 0.0728759569641425 0.027481468214963403; 0.4396066812363087 0.0728759569641425 0.19325403371592959 0.07287595696411214; 0.16577535316029554 0.027481468214963403 0.07287595696411214 0.027481467996936362], [0.4396066812363087 -0.10991377331146555; -0.10991377331146555 0.027481468214963403], [0.16577535316029554 -0.10991377331146555; -0.10991377331146555 0.0728759569641425], [0.999999985718204 -0.6630284191510833; -0.6630284191510833 0.4396066812363087], [0.16577535316036462 -0.10991377331146555; -0.10991377331146555 0.07287595696411214]], \"Mosek\", MathOptInterface.OPTIMAL, 0.0001, 1))"
      ]
     },
     "metadata": {},
     "output_type": "display_data"
    }
   ],
   "source": [
    "using TSSOS\n",
    "using DynamicPolynomials\n",
    "@polyvar x[1:3]\n",
    "f = 1 + x[1]^4 + x[2]^4 + x[3]^4 + x[1]*x[2]*x[3] + x[2]\n",
    "opt,sol,data = tssos_first(f, x, TS=\"MD\")"
   ]
  }
 ],
 "metadata": {
  "kernelspec": {
   "display_name": "Julia 1.10.0",
   "language": "julia",
   "name": "julia-1.10"
  },
  "language_info": {
   "file_extension": ".jl",
   "mimetype": "application/julia",
   "name": "julia",
   "version": "1.10.0"
  }
 },
 "nbformat": 4,
 "nbformat_minor": 2
}
