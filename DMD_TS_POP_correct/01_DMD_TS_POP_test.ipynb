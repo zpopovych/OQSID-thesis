{
 "cells": [
  {
   "cell_type": "code",
   "execution_count": 13,
   "metadata": {},
   "outputs": [
    {
     "name": "stderr",
     "output_type": "stream",
     "text": [
      "WARNING: replacing module LiPoSID.\n"
     ]
    },
    {
     "data": {
      "text/plain": [
       "LME_operator_from_DMD (generic function with 1 method)"
      ]
     },
     "metadata": {},
     "output_type": "display_data"
    }
   ],
   "source": [
    "include(\"../LiPoSID.jl\")\n",
    "\n",
    "using LinearAlgebra\n",
    "function ⊗(A::AbstractMatrix, B::AbstractMatrix)\n",
    "    return kron(A,B)\n",
    "end\n",
    "\n",
    "function LME_operator_symbolic(H, J)\n",
    "    \n",
    "    Id = I(2)   \n",
    "    U = -im*(Id ⊗ H - transpose(H) ⊗ Id)\n",
    "    D = sum( 2*transpose(j')⊗j-Id⊗(j'*j) - transpose(j)*transpose(j')⊗Id for j in J )/2 \n",
    "    \n",
    "    Lᴸᴹᴱ = U + D\n",
    "    \n",
    "    return Lᴸᴹᴱ\n",
    "end\n",
    "\n",
    "function LME_operator_from_DMD(A)\n",
    "\n",
    "    M = [ 0  0   1  1\n",
    "          1  im  0  0 \n",
    "          1  -im  0  0\n",
    "          0  0  -1  1 ]/2\n",
    "   \n",
    "    Lᴰᴹᴰ =   M * A * inv(M)\n",
    "   \n",
    "    return Lᴰᴹᴰ \n",
    "   \n",
    "end\n"
   ]
  },
  {
   "cell_type": "code",
   "execution_count": 14,
   "metadata": {},
   "outputs": [
    {
     "data": {
      "text/plain": [
       "sympy_to_dynamicpoly (generic function with 1 method)"
      ]
     },
     "metadata": {},
     "output_type": "display_data"
    }
   ],
   "source": [
    "using SymPy\n",
    "@syms s\n",
    "\n",
    "using DynamicPolynomials\n",
    "\n",
    "function Transfer_Function(A, b)\n",
    "    inv(I(4)*s - A)*b\n",
    "end\n",
    "\n",
    "bₓ = [1, 0, 0, 1]\n",
    "\n",
    "function SumCoeffs2(poly)\n",
    "    p = expand(numerator(poly))\n",
    "    degrees = range(0,convert(Int32,SymPy.degree(p, s)))\n",
    "    obj = sum(p.coeff(s^i)^2 for i in degrees)\n",
    "    return obj\n",
    "end\n",
    "\n",
    "function sympy_to_dynamicpoly(sympy_expr::Sym)\n",
    "    # Extract variables from the SymPy expression\n",
    "    vars = free_symbols(sympy_expr)\n",
    "\n",
    "    # Convert SymPy variables to string and then to Symbol\n",
    "    var_symbols = [Symbol(string(v)) for v in vars]\n",
    "\n",
    "    # Create DynamicPolynomials variables using @polyvar macro\n",
    "    @eval begin\n",
    "        @polyvar $(var_symbols...)\n",
    "    end\n",
    "\n",
    "    # Map SymPy variables to DynamicPolynomials variables\n",
    "    var_map = Dict(vars[i] => eval(var_symbols[i]) for i in 1:length(vars))\n",
    "\n",
    "    # Substitute using subs and convert to DynamicPolynomial\n",
    "    dynamic_poly_expr = SymPy.subs(sympy_expr, var_map)\n",
    "    dynamic_poly = eval(Meta.parse(string(dynamic_poly_expr)))\n",
    "    return dynamic_poly\n",
    "end"
   ]
  },
  {
   "cell_type": "code",
   "execution_count": 15,
   "metadata": {},
   "outputs": [
    {
     "data": {
      "text/plain": [
       "4×4 Matrix{Sym{PyCall.PyObject}}:\n",
       " -0.5*γ^2    -1.0⋅ω         0        0\n",
       "    1.0⋅ω  -0.5*γ^2         0        0\n",
       "        0         0  -1.0*γ^2  1.0*γ^2\n",
       "        0         0         0        0"
      ]
     },
     "metadata": {},
     "output_type": "display_data"
    }
   ],
   "source": [
    "ω = symbols(\"ω\", real=true)\n",
    "γ = symbols(\"γ\", real=true)\n",
    "\n",
    "Hᴸᴹᴱ = [ ω        0\n",
    "         0        0   ]\n",
    "\n",
    "\n",
    "Jᴸᴹᴱ = [ 0     γ\n",
    "         0     0. + 0im  ]\n",
    "\n",
    "Lᴸᴹᴱ = LME_operator_symbolic(Hᴸᴹᴱ, [Jᴸᴹᴱ])\n",
    "\n",
    "M = [   0  0   1  1\n",
    "        1  im  0  0 \n",
    "        1 -im  0  0\n",
    "        0  0  -1  1  ] / 2\n",
    "\n",
    "Aᴸᴹᴱ = real.(inv(M) * Lᴸᴹᴱ * M)\n",
    "\n"
   ]
  },
  {
   "cell_type": "code",
   "execution_count": 16,
   "metadata": {},
   "outputs": [
    {
     "data": {
      "text/plain": [
       "4-element Vector{Sym{PyCall.PyObject}}:\n",
       " (1.0*s + 0.5*γ^2)/(1.0*s^2 + 1.0*s*γ^2 + 0.25*γ^4 + 1.0*ω^2)\n",
       "             1.0*ω/(1.0*s^2 + 1.0*s*γ^2 + 0.25*γ^4 + 1.0*ω^2)\n",
       "                                1.0*γ^2/(1.0*s^2 + 1.0*s*γ^2)\n",
       "                                                          1/s"
      ]
     },
     "metadata": {},
     "output_type": "display_data"
    }
   ],
   "source": [
    "Gᴸᴹᴱ = Transfer_Function(Aᴸᴹᴱ, bₓ)"
   ]
  },
  {
   "cell_type": "code",
   "execution_count": 17,
   "metadata": {},
   "outputs": [
    {
     "name": "stdout",
     "output_type": "stream",
     "text": [
      "*********************************** TSSOS ***********************************\n",
      "Version 1.0.0, developed by Jie Wang, 2020--2023\n",
      "TSSOS is launching...\n",
      "termination status: SLOW_PROGRESS\n",
      "solution status: FEASIBLE_POINT\n",
      "optimum = 0.20006359990026795\n",
      "Found a locally optimal solution by Ipopt, giving an upper bound: 2500.99999744.\n",
      "The relative optimality gap is: 99.992001%.\n",
      "No higher TS step of the TSSOS hierarchy!\n",
      "*********************************** TSSOS ***********************************\n",
      "Version 1.0.0, developed by Jie Wang, 2020--2023\n",
      "TSSOS is launching...\n",
      "termination status: SLOW_PROGRESS"
     ]
    },
    {
     "name": "stdout",
     "output_type": "stream",
     "text": [
      "\n",
      "solution status: FEASIBLE_POINT\n",
      "optimum = 0.20006312642441468\n",
      "Global optimality certified with relative optimality gap 0.000046%!\n",
      "No higher TS step of the TSSOS hierarchy!\n",
      "val_p = [2500.9999974370003, 0.20006361603736877]\n"
     ]
    },
    {
     "data": {
      "text/plain": [
       "(PolyVar{true}[γ, ω] => [-0.1789139827151704, 24.99998206753842], \"scaled_tssos\")"
      ]
     },
     "metadata": {},
     "output_type": "display_data"
    }
   ],
   "source": [
    "\n",
    "Aᴰᴹᴰ⁻ˢᴮ = [ 0  -25     0      0 \n",
    "            25 -0.04   0      0\n",
    "            0   0     -0.04   0.04\n",
    "            0   0      0      0   ]\n",
    "\n",
    "Lᴰᴹᴰ = LME_operator_from_DMD(Aᴰᴹᴰ⁻ˢᴮ)\n",
    "\n",
    "M = [   0  0   1  1\n",
    "        1  im  0  0 \n",
    "        1 -im  0  0\n",
    "        0  0  -1  1  ] / 2\n",
    "\n",
    "@assert abs(LiPoSID.frobenius_norm2(inv(M) * Lᴰᴹᴰ * M - Aᴰᴹᴰ⁻ˢᴮ)) < 1e-9\n",
    "\n",
    "\n",
    "Gᴸᴹᴱ = Transfer_Function(Aᴸᴹᴱ, bₓ)[1:3]\n",
    "\n",
    "Gᴰᴹᴰ = Transfer_Function(Aᴰᴹᴰ⁻ˢᴮ, bₓ)[1:3]\n",
    "\n",
    "ΔG = together.(Gᴸᴹᴱ - Gᴰᴹᴰ)\n",
    "\n",
    "polys = numerator.(ΔG)\n",
    "\n",
    "obj = sum(SumCoeffs2.(polys))\n",
    "\n",
    "objective = sympy_to_dynamicpoly(obj)\n",
    "\n",
    "best_solution, best_method = LiPoSID.sos_min_newton(objective) \n"
   ]
  },
  {
   "cell_type": "code",
   "execution_count": 23,
   "metadata": {},
   "outputs": [
    {
     "data": {
      "text/plain": [
       "TF_objective (generic function with 1 method)"
      ]
     },
     "metadata": {},
     "output_type": "display_data"
    }
   ],
   "source": [
    "function TF_objective(Aˢʸᵐᵇ, Aˢⁱᵈ, b)\n",
    "\n",
    "    Gˢʸᵐᵇ = Transfer_Function(Aˢʸᵐᵇ, b)[1:3]\n",
    "\n",
    "    Gˢⁱᵈ = Transfer_Function(Aˢⁱᵈ, b)[1:3]\n",
    "\n",
    "    ΔG = (together.(Gˢʸᵐᵇ - Gˢⁱᵈ)).^2\n",
    "\n",
    "    polys = numerator.(ΔG)\n",
    "\n",
    "    obj = sum(SumCoeffs.(polys))\n",
    "\n",
    "    objective = sympy_to_dynamicpoly(obj)\n",
    "\n",
    "    return objective\n",
    "\n",
    "end"
   ]
  },
  {
   "cell_type": "code",
   "execution_count": 24,
   "metadata": {},
   "outputs": [
    {
     "name": "stdout",
     "output_type": "stream",
     "text": [
      "*********************************** TSSOS ***********************************\n",
      "Version 1.0.0, developed by Jie Wang, 2020--2023\n",
      "TSSOS is launching...\n",
      "optimum = -0.003191028352062961\n",
      "Global optimality certified with relative optimality gap 0.000002%!\n",
      "No higher TS step of the TSSOS hierarchy!\n",
      "*********************************** TSSOS ***********************************\n",
      "Version 1.0.0, developed by Jie Wang, 2020--2023\n",
      "TSSOS is launching...\n",
      "optimum = -0.0031910830691570234\n",
      "Global optimality certified with relative optimality gap 0.000003%!\n",
      "No higher TS step of the TSSOS hierarchy!\n",
      "val_p = [-0.0031910491752928927, -0.0031910491752933368]\n"
     ]
    },
    {
     "data": {
      "text/plain": [
       "(PolyVar{true}[γ, ω] => [0.2989164909633352, 24.09713390688877], \"scaled_tssos\")"
      ]
     },
     "metadata": {},
     "output_type": "display_data"
    }
   ],
   "source": [
    "Aˢⁱᵈ = [  0  -25     0      0 \n",
    "          25 -0.09   0      0\n",
    "          0   0     -0.09   0.09\n",
    "          0   0      0      0    ]\n",
    "\n",
    "objective = TF_objective(Aᴸᴹᴱ, Aˢⁱᵈ, bₓ)\n",
    "\n",
    "best_solution, best_method = LiPoSID.sos_min_newton(objective) "
   ]
  },
  {
   "cell_type": "code",
   "execution_count": 20,
   "metadata": {},
   "outputs": [],
   "source": []
  }
 ],
 "metadata": {
  "kernelspec": {
   "display_name": "Julia 1.9.2",
   "language": "julia",
   "name": "julia-1.9"
  },
  "language_info": {
   "file_extension": ".jl",
   "mimetype": "application/julia",
   "name": "julia",
   "version": "1.9.2"
  }
 },
 "nbformat": 4,
 "nbformat_minor": 2
}
