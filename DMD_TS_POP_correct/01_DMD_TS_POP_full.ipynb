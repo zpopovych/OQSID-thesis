{
 "cells": [
  {
   "cell_type": "code",
   "execution_count": 3,
   "metadata": {},
   "outputs": [
    {
     "data": {
      "text/plain": [
       "LME_operator_from_DMD (generic function with 1 method)"
      ]
     },
     "metadata": {},
     "output_type": "display_data"
    }
   ],
   "source": [
    "include(\"../LiPoSID.jl\")\n",
    "\n",
    "using LinearAlgebra\n",
    "function ⊗(A::AbstractMatrix, B::AbstractMatrix)\n",
    "    return kron(A,B)\n",
    "end\n",
    "\n",
    "function LME_operator_symbolic(H, J)\n",
    "    \n",
    "    Id = I(2)   \n",
    "    U = -im*(Id ⊗ H - transpose(H) ⊗ Id)\n",
    "    D = sum( 2*transpose(j')⊗j-Id⊗(j'*j) - transpose(j)*transpose(j')⊗Id for j in J )/2 \n",
    "    \n",
    "    Lᴸᴹᴱ = U + D\n",
    "    \n",
    "    return Lᴸᴹᴱ\n",
    "end\n",
    "\n",
    "function LME_operator_from_DMD(A)\n",
    "\n",
    "    M = [ 0  0   1  1\n",
    "          1  im  0  0 \n",
    "          1  -im  0  0\n",
    "          0  0  -1  1 ]/2\n",
    "   \n",
    "    Lᴰᴹᴰ =   M * A * inv(M)\n",
    "   \n",
    "    return Lᴰᴹᴰ \n",
    "   \n",
    "end\n"
   ]
  },
  {
   "cell_type": "code",
   "execution_count": 8,
   "metadata": {},
   "outputs": [
    {
     "data": {
      "text/plain": [
       "sympy_to_dynamicpoly (generic function with 1 method)"
      ]
     },
     "metadata": {},
     "output_type": "display_data"
    }
   ],
   "source": [
    "using SymPy\n",
    "@syms s\n",
    "\n",
    "using DynamicPolynomials\n",
    "\n",
    "function Transfer_Function(A, b)\n",
    "    inv(I(4)*s - A)*b\n",
    "end\n",
    "\n",
    "bₓ = [1, 0, 0, 1]\n",
    "\n",
    "function SumCoeffs(poly)\n",
    "    p = expand(numerator(poly))\n",
    "    degrees = range(0,convert(Int32,degree(p, s)))\n",
    "    obj = sum(p.coeff(s^i) for i in degrees)\n",
    "    return obj\n",
    "end\n",
    "\n",
    "function sympy_to_dynamicpoly(sympy_expr::Sym)\n",
    "    # Extract variables from the SymPy expression\n",
    "    vars = free_symbols(sympy_expr)\n",
    "\n",
    "    # Convert SymPy variables to string and then to Symbol\n",
    "    var_symbols = [Symbol(string(v)) for v in vars]\n",
    "\n",
    "    # Create DynamicPolynomials variables using @polyvar macro\n",
    "    @eval begin\n",
    "        @polyvar $(var_symbols...)\n",
    "    end\n",
    "\n",
    "    # Map SymPy variables to DynamicPolynomials variables\n",
    "    var_map = Dict(vars[i] => eval(var_symbols[i]) for i in 1:length(vars))\n",
    "\n",
    "    # Substitute using subs and convert to DynamicPolynomial\n",
    "    dynamic_poly_expr = SymPy.subs(sympy_expr, var_map)\n",
    "    dynamic_poly = eval(Meta.parse(string(dynamic_poly_expr)))\n",
    "    return dynamic_poly\n",
    "end"
   ]
  },
  {
   "cell_type": "code",
   "execution_count": 12,
   "metadata": {},
   "outputs": [],
   "source": [
    "ω = symbols(\"ω\", real=true)\n",
    "a = symbols(\"a\", real=true)\n",
    "b = symbols(\"b\", real=true)\n",
    "\n",
    "γ₀ = symbols(\"γ₀\", real=true)\n",
    "β₀ = symbols(\"β₀\", real=true) \n",
    "γ₁ = symbols(\"γ₁\", real=true)\n",
    "β₁ = symbols(\"β₁\", real=true) \n",
    "γ₂ = symbols(\"γ₂\", real=true) \n",
    "β₂ = symbols(\"β₂\", real=true) \n",
    "\n",
    "Hᴸᴹᴱ = [ ω         a + im*b\n",
    "         a - im*b        0   ]\n",
    "\n",
    "\n",
    "Jᴸᴹᴱ = [ γ₀ + im*β₀      γ₁ + im*β₁ \n",
    "         γ₂ + im*β₂     -γ₀ - im*β₀   ]\n",
    "\n",
    "Lᴸᴹᴱ = LME_operator_symbolic(Hᴸᴹᴱ, [Jᴸᴹᴱ])\n",
    "\n",
    "M = [   0  0   1  1\n",
    "        1  im  0  0 \n",
    "        1 -im  0  0\n",
    "        0  0  -1  1  ] / 2\n",
    "\n",
    "Aᴸᴹᴱ = real.(inv(M) * Lᴸᴹᴱ * M)\n",
    "\n",
    "Gᴸᴹᴱ = Transfer_Function(Aᴸᴹᴱ, bₓ)"
   ]
  },
  {
   "cell_type": "code",
   "execution_count": 10,
   "metadata": {},
   "outputs": [],
   "source": [
    "data_dir = \"../DATA/\"\n",
    "γ_list = [ \"0.079477\",  \"0.25133\", \"0.79477\", \"2.5133\", \"7.9477\", \"25.133\",  \"79.477\", \"251.33\"]\n",
    "\n",
    "γ_list_disp = [ \"0.0795\",  \"0.2513\", \"0.7947\", \"2.5133\", \"7.9477\", \"25.133\",  \"79.477\", \"251.33\"];"
   ]
  },
  {
   "cell_type": "code",
   "execution_count": 11,
   "metadata": {},
   "outputs": [
    {
     "name": "stdout",
     "output_type": "stream",
     "text": [
      "*********************************** TSSOS ***********************************\n",
      "Version 1.0.0, developed by Jie Wang, 2020--2023\n",
      "TSSOS is launching...\n"
     ]
    },
    {
     "name": "stdout",
     "output_type": "stream",
     "text": [
      "termination status: SLOW_PROGRESS\n",
      "solution status: NO_SOLUTION\n",
      "optimum = -7.79078920986956e-5\n"
     ]
    },
    {
     "name": "stdout",
     "output_type": "stream",
     "text": [
      "\n",
      "******************************************************************************\n",
      "This program contains Ipopt, a library for large-scale nonlinear optimization.\n",
      " Ipopt is released as open source code under the Eclipse Public License (EPL).\n",
      "         For more information visit https://github.com/coin-or/Ipopt\n",
      "******************************************************************************\n",
      "\n",
      "The local solver failed refining the solution!\n",
      "No higher TS step of the TSSOS hierarchy!\n"
     ]
    },
    {
     "name": "stdout",
     "output_type": "stream",
     "text": [
      "*********************************** TSSOS ***********************************\n",
      "Version 1.0.0, developed by Jie Wang, 2020--2023\n",
      "TSSOS is launching...\n",
      "termination status: INFEASIBLE\n",
      "solution status: NO_SOLUTION\n",
      "optimum = -5.479428236493552\n",
      "The local solver failed refining the solution!\n",
      "No higher TS step of the TSSOS hierarchy!\n"
     ]
    },
    {
     "name": "stdout",
     "output_type": "stream",
     "text": [
      "val_p = [-2.705893528763091e-7, -9.466753505291266e10]\n"
     ]
    },
    {
     "data": {
      "text/plain": [
       "(PolyVar{true}[a, b, γ, ω] => [416.12964626817524, -9637.227696660799, 3.9733612488953436, -1378.8290789835373], \"scaled_tssos\")"
      ]
     },
     "metadata": {},
     "output_type": "display_data"
    }
   ],
   "source": [
    "γᵢ = γ_list[1]\n",
    "γᶠ = parse(Float64, γᵢ)\n",
    "\n",
    "ρᵉ, tᵉ = LiPoSID.get_rho_series(data_dir*\"State_B1_2CUT_data.h5\", γᵢ)\n",
    "ρᵍ, tᵍ = LiPoSID.get_rho_series(data_dir*\"State_B2_2CUT_data.h5\", γᵢ)\n",
    "ρˣ, tˣ = LiPoSID.get_rho_series(data_dir*\"State_B3_2CUT_data.h5\", γᵢ)\n",
    "ρʸ, tʸ = LiPoSID.get_rho_series(data_dir*\"State_B4_2CUT_data.h5\", γᵢ)\n",
    "\n",
    "lᵉ = length(ρᵉ); lᵍ = length(ρᵍ); lˣ = length(ρˣ); lʸ = length(ρʸ)\n",
    "lᵐᵃˣ = min(lᵉ, lᵍ,  lˣ, lʸ)  #choose time limit by shortest series\n",
    "\n",
    "Aᴰᴹᴰ⁻ˢᴮ = LiPoSID.direct_DMD_01XY_b4_A([ρᵉ[1:lᵐᵃˣ], ρᵍ[1:lᵐᵃˣ], ρˣ[1:lᵐᵃˣ], ρʸ[1:lᵐᵃˣ]])\n",
    "\n",
    "Lᴰᴹᴰ = LME_operator_from_DMD(Aᴰᴹᴰ⁻ˢᴮ)\n",
    "\n",
    "M = [   0  0   1  1\n",
    "        1  im  0  0 \n",
    "        1 -im  0  0\n",
    "        0  0  -1  1  ] / 2\n",
    "\n",
    "@assert abs(LiPoSID.frobenius_norm2(inv(M) * Lᴰᴹᴰ * M - Aᴰᴹᴰ⁻ˢᴮ)) < 1e-9\n",
    "\n",
    "\n",
    "Gᴸᴹᴱ = Transfer_Function(Aᴸᴹᴱ, bₓ)[1:3]\n",
    "\n",
    "Gᴰᴹᴰ = Transfer_Function(Aᴰᴹᴰ⁻ˢᴮ, bₓ)[1:3]\n",
    "\n",
    "ΔG = (together.(Gᴸᴹᴱ - Gᴰᴹᴰ)).^2\n",
    "\n",
    "polys = numerator.(ΔG)\n",
    "\n",
    "obj = sum(SumCoeffs.(polys))\n",
    "\n",
    "objective = sympy_to_dynamicpoly(obj)\n",
    "\n",
    "best_solution, best_method = LiPoSID.sos_min_newton(objective) \n"
   ]
  },
  {
   "cell_type": "code",
   "execution_count": null,
   "metadata": {},
   "outputs": [],
   "source": [
    "ρᵍ₀ = [1. 0]' * [1 0]\n",
    "ρᵉ₀ = [0. 1]' * [0 1]\n",
    "ρˣ₀ = [1  1]' * [1 1]/2\n",
    "ρʸ₀ = [1 -im]' * [1 -im]/2\n",
    "\n",
    "max_negs = []\n",
    "sum_negs = []\n",
    "num_negs = []\n",
    "\n",
    "for γᵢ in γ_list \n",
    "\n",
    "    ρᵉ, tᵉ = LiPoSID.get_rho_series(data_dir*\"State_B1_2CUT_data.h5\", γᵢ)\n",
    "    ρᵍ, tᵍ = LiPoSID.get_rho_series(data_dir*\"State_B2_2CUT_data.h5\", γᵢ)\n",
    "    ρˣ, tˣ = LiPoSID.get_rho_series(data_dir*\"State_B3_2CUT_data.h5\", γᵢ)\n",
    "    ρʸ, tʸ = LiPoSID.get_rho_series(data_dir*\"State_B4_2CUT_data.h5\", γᵢ)\n",
    "\n",
    "    lᵉ = length(ρᵉ); lᵍ = length(ρᵍ); lˣ = length(ρˣ); lʸ = length(ρʸ)\n",
    "    lᵐᵃˣ = min(lᵉ, lᵍ,  lˣ, lʸ)  #choose time limit by shortest series\n",
    "\n",
    "    Aᴰᴹᴰ⁻ˢᴮ = LiPoSID.direct_DMD_01XY_b4_A([ρᵉ[1:lᵐᵃˣ], ρᵍ[1:lᵐᵃˣ], ρˣ[1:lᵐᵃˣ], ρʸ[1:lᵐᵃˣ]])\n",
    "\n",
    "end"
   ]
  }
 ],
 "metadata": {
  "kernelspec": {
   "display_name": "Julia 1.9.2",
   "language": "julia",
   "name": "julia-1.9"
  },
  "language_info": {
   "file_extension": ".jl",
   "mimetype": "application/julia",
   "name": "julia",
   "version": "1.9.2"
  }
 },
 "nbformat": 4,
 "nbformat_minor": 2
}
