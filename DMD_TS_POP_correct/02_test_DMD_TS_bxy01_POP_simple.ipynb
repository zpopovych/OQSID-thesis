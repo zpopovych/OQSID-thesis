{
 "cells": [
  {
   "cell_type": "code",
   "execution_count": 3,
   "metadata": {},
   "outputs": [
    {
     "name": "stderr",
     "output_type": "stream",
     "text": [
      "WARNING: replacing module LiPoSID.\n"
     ]
    },
    {
     "data": {
      "text/plain": [
       "read_as_operators (generic function with 1 method)"
      ]
     },
     "metadata": {},
     "output_type": "display_data"
    }
   ],
   "source": [
    "include(\"../LiPoSID.jl\")\n",
    "\n",
    "using LinearAlgebra\n",
    "\n",
    "using DynamicPolynomials\n",
    "\n",
    "using SymPy\n",
    "\n",
    "using Plots\n",
    "\n",
    "using Dates\n",
    "\n",
    "using HDF5\n",
    "\n",
    "data_dir = \"../DATA/NO_CUT/\"\n",
    "\n",
    "γ_list = [ \"0.079477\",  \"0.25133\", \"0.79477\", \"2.5133\", \"7.9477\", \"25.133\",  \"79.477\", \"251.33\"]\n",
    "\n",
    "γ_list_disp = [ \"0.0795\",  \"0.2513\", \"0.7947\", \"2.5133\", \"7.9477\", \"25.133\",  \"79.477\", \"251.33\"];\n",
    "\n",
    "b⁰ = [0, 0, 1, 1]\n",
    "b¹ = [0, 0, -1, 1]\n",
    "bˣ = [1, 0, 0, 1]\n",
    "bʸ = [1, 1, 0, 1]\n",
    "\n",
    "function read_as_operators(models_file_name, γ)\n",
    "    h5open(models_file_name, \"r\") do file\n",
    "        w = read(file[\"gamma_\"*string(γ)][\"w\"])\n",
    "        H = [ w        0\n",
    "              0        0   ]\n",
    "        \n",
    "        g = read(file[\"gamma_\"*string(γ)][\"g\"])\n",
    "        J = [ 0     sqrt(abs(g))\n",
    "              0     0. + 0im  ]\n",
    "\n",
    "        return H, J\n",
    "    end\n",
    "end\n"
   ]
  },
  {
   "cell_type": "code",
   "execution_count": 4,
   "metadata": {},
   "outputs": [
    {
     "data": {
      "text/plain": [
       "\"../MODELS/DMD_TS_POP_RND_w&g2_pd_bx_2024-Jan-31_at_16-14.h5\""
      ]
     },
     "metadata": {},
     "output_type": "display_data"
    }
   ],
   "source": [
    "using QuantumOptics\n",
    "basis = NLevelBasis(2)\n",
    "\n",
    "test_files = [\"State_D\"*string(n) for n=1:20];\n",
    "\n",
    "#models_file_name= \"../MODELS/DMD_TS_POP_w&g_bx_2024-Jan-02_at_15-50.h5\"\n",
    "#models_file_name= \"../MODELS/DMD_TS_POP_w&g_bx_2024-Jan-05_at_13-18.h5\"\n",
    "models_file_name= \"../MODELS/DMD_TS_POP_RND_w&g2_pd_bx_2024-Jan-31_at_16-14.h5\""
   ]
  },
  {
   "cell_type": "code",
   "execution_count": 5,
   "metadata": {},
   "outputs": [
    {
     "name": "stdout",
     "output_type": "stream",
     "text": [
      "\n",
      "γ=0.079477\n",
      "State_D1 - "
     ]
    },
    {
     "name": "stdout",
     "output_type": "stream",
     "text": [
      "0.9927608346373464 | State_D2 - 0.99276539227432 | State_D3 - 0.9703169450090892 | State_D4 - 0.9703245902600357 | State_D5 - "
     ]
    },
    {
     "name": "stdout",
     "output_type": "stream",
     "text": [
      "0.9888491647723223 | State_D6 - 0.988849179893852 | State_D7 - 0.9821680484176939 | State_D8 - 0.9821732387629906"
     ]
    },
    {
     "name": "stdout",
     "output_type": "stream",
     "text": [
      " | State_D9 - 0.9987413248736724 | State_D10 - 0.9622425604524334 | State_D11 - 0.9703169333211462 | State_D12 - 0.970324602885806"
     ]
    },
    {
     "name": "stdout",
     "output_type": "stream",
     "text": [
      " | State_D13 - 0.9927608565297558 | State_D14 - 0.992765402507007 | State_D15 - "
     ]
    },
    {
     "name": "stdout",
     "output_type": "stream",
     "text": [
      "0.975013479633318 | State_D16 - 0.9750134744307098 | State_D17 - 0.9821680534897015 | State_D18 - 0.9821732075857038 | State_D19 - "
     ]
    },
    {
     "name": "stdout",
     "output_type": "stream",
     "text": [
      "0.9622425631248441 | State_D20 - 0.9987413793848195 | \n",
      "\n",
      "γ=0.25133\n",
      "State_D1 - "
     ]
    },
    {
     "name": "stdout",
     "output_type": "stream",
     "text": [
      "0.9927341703057903 | State_D2 - 0.9927409268562932 | State_D3 - "
     ]
    },
    {
     "name": "stdout",
     "output_type": "stream",
     "text": [
      "0.9711407242064818 | State_D4 - 0.9711631400855392 | State_D5 - "
     ]
    },
    {
     "name": "stdout",
     "output_type": "stream",
     "text": [
      "0.9889815156107591 | State_D6 - 0.9889815076536878 | State_D7 - "
     ]
    },
    {
     "name": "stdout",
     "output_type": "stream",
     "text": [
      "0.9825395117490072 | State_D8 - 0.9825562928323021 | State_D9 - "
     ]
    },
    {
     "name": "stdout",
     "output_type": "stream",
     "text": [
      "0.9982964214496616 | State_D10 - 0.9633877747299644 | State_D11 - "
     ]
    },
    {
     "name": "stdout",
     "output_type": "stream",
     "text": [
      "0.9711407183812135 | State_D12 - 0.9711631960062228 | State_D13 - "
     ]
    },
    {
     "name": "stdout",
     "output_type": "stream",
     "text": [
      "0.9927342326129861 | State_D14 - 0.9927409587858804 | State_D15 - "
     ]
    },
    {
     "name": "stdout",
     "output_type": "stream",
     "text": [
      "0.9756662044660832 | State_D16 - 0.9756662138107652 | State_D17 - "
     ]
    },
    {
     "name": "stdout",
     "output_type": "stream",
     "text": [
      "0.9825395041246097 | State_D18 - 0.9825563128489001 | State_D19 - "
     ]
    },
    {
     "name": "stdout",
     "output_type": "stream",
     "text": [
      "0.9633877666988762 | State_D20 - 0.9982965919984905 | \n",
      "\n",
      "γ=0.79477\n",
      "State_D1 - "
     ]
    },
    {
     "name": "stdout",
     "output_type": "stream",
     "text": [
      "0.9916288796150604 | State_D2 - 0.9915563135434238 | State_D3 - "
     ]
    },
    {
     "name": "stdout",
     "output_type": "stream",
     "text": [
      "0.9699435551428777 | State_D4 - 0.9699906661112292 | State_D5 - "
     ]
    },
    {
     "name": "stdout",
     "output_type": "stream",
     "text": [
      "0.9879349833930091 | State_D6 - 0.9879350111990499 | State_D7 - "
     ]
    },
    {
     "name": "stdout",
     "output_type": "stream",
     "text": [
      "0.9814337814641331 | State_D8 - 0.9815057456692842 | State_D9 - "
     ]
    },
    {
     "name": "stdout",
     "output_type": "stream",
     "text": [
      "0.9950839259676337 | State_D10 - 0.9620913476977546 | State_D11 - "
     ]
    },
    {
     "name": "stdout",
     "output_type": "stream",
     "text": [
      "0.9699435555313268 | State_D12 - 0.9699906810326733 | State_D13 - "
     ]
    },
    {
     "name": "stdout",
     "output_type": "stream",
     "text": [
      "0.9916289565357292 | State_D14 - 0.9915562957298024 | State_D15 - "
     ]
    },
    {
     "name": "stdout",
     "output_type": "stream",
     "text": [
      "0.9745149713474717 | State_D16 - 0.9745149609937773 | State_D17 - "
     ]
    },
    {
     "name": "stdout",
     "output_type": "stream",
     "text": [
      "0.9814337842727723 | State_D18 - 0.981505735058591 | State_D19 - "
     ]
    },
    {
     "name": "stdout",
     "output_type": "stream",
     "text": [
      "0.9620913476994915 | State_D20 - 0.9950839259676337 | \n",
      "\n",
      "γ=2.5133\n",
      "State_D1 - "
     ]
    },
    {
     "name": "stdout",
     "output_type": "stream",
     "text": [
      "0.986599720737309 | State_D2 - 0.985970807433993 | State_D3 - "
     ]
    },
    {
     "name": "stdout",
     "output_type": "stream",
     "text": [
      "0.9639655930514901 | State_D4 - 0.9640719467433819 | State_D5 - 0.9827081721615961 | State_D6 - 0.9827081721609217"
     ]
    },
    {
     "name": "stdout",
     "output_type": "stream",
     "text": [
      " | State_D7 - 0.976198781768929 | State_D8 - 0.9761912520081358 | State_D9 - "
     ]
    },
    {
     "name": "stdout",
     "output_type": "stream",
     "text": [
      "0.9845498053162547 | State_D10 - 0.9555221334063634 | State_D11 - "
     ]
    },
    {
     "name": "stdout",
     "output_type": "stream",
     "text": [
      "0.9639655930505646 | State_D12 - 0.9640719467427711 | State_D13 - 0.986599720737309 | State_D14 - 0.9859708074343665"
     ]
    },
    {
     "name": "stdout",
     "output_type": "stream",
     "text": [
      " | State_D15 - 0.9688092484625367 | State_D16 - 0.9688092484625367"
     ]
    },
    {
     "name": "stdout",
     "output_type": "stream",
     "text": [
      " | State_D17 - 0.9761987817692261 | State_D18 - 0.9761912519702031 | State_D19 - "
     ]
    },
    {
     "name": "stdout",
     "output_type": "stream",
     "text": [
      "0.9555221334066626 | State_D20 - 0.984549805316254 | \n",
      "\n",
      "γ=7.9477\n",
      "State_D1 - 0.9651869145259837 | State_D2 - 0.9607124453975017"
     ]
    },
    {
     "name": "stdout",
     "output_type": "stream",
     "text": [
      " | State_D3 - 0.9366523836507601 | State_D4 - 0.9393419425066329 | State_D5 - "
     ]
    },
    {
     "name": "stdout",
     "output_type": "stream",
     "text": [
      "0.963060043700437 | State_D6 - 0.9630600436999717 | State_D7 - 0.9563582309235463 | State_D8 - 0.9557160353823051 | State_D9 - "
     ]
    },
    {
     "name": "stdout",
     "output_type": "stream",
     "text": [
      "0.9541858939454189 | State_D10 - 0.9261172743866306 | State_D11 - 0.9366523836507601 | State_D12 - 0.9393419425066329"
     ]
    },
    {
     "name": "stdout",
     "output_type": "stream",
     "text": [
      " | State_D13 - 0.9651869145259837 | State_D14 - 0.9607124453975017 | State_D15 - 0.9449937954316552 | State_D16 - 0.9449937954319672"
     ]
    },
    {
     "name": "stdout",
     "output_type": "stream",
     "text": [
      " | State_D17 - 0.9563582309235463 | State_D18 - 0.9557160353823506 | State_D19 - "
     ]
    },
    {
     "name": "stdout",
     "output_type": "stream",
     "text": [
      "0.9261172743866306 | State_D20 - 0.9541858939454191 | \n",
      "\n",
      "γ=25.133\n",
      "State_D1 - 0.8515465386779539 | State_D2 - 0.8265953223901292 | State_D3 - "
     ]
    },
    {
     "name": "stdout",
     "output_type": "stream",
     "text": [
      "0.7777698337612773 | State_D4 - 0.7446362057487931 | State_D5 - 0.7557880197135695 | State_D6 - 0.7557880197133799 | State_D7 - "
     ]
    },
    {
     "name": "stdout",
     "output_type": "stream",
     "text": [
      "0.8405627860182598 | State_D8 - 0.8051097051465346 | State_D9 - 0.8907543180027733 | State_D10 - 0.7680494609181457 | State_D11 - 0.7777698337610341 | State_D12 - 0.7446362057487931"
     ]
    },
    {
     "name": "stdout",
     "output_type": "stream",
     "text": [
      " | State_D13 - 0.8515465386783097 | State_D14 - 0.8265953223898093 | State_D15 - 0.7076100717366303 | State_D16 - 0.70761007173663 | State_D17 - "
     ]
    },
    {
     "name": "stdout",
     "output_type": "stream",
     "text": [
      "0.8405627860182598 | State_D18 - 0.8051097051465346 | State_D19 - 0.7680494609181457 | State_D20 - 0.8907543180022564 | \n",
      "\n",
      "γ=79.477\n",
      "State_D1 - 0.8656184484478534 | State_D2 - 0.8461595698307185"
     ]
    },
    {
     "name": "stdout",
     "output_type": "stream",
     "text": [
      " | State_D3 - 0.8361098648759524 | State_D4 - 0.8313249424138447 | State_D5 - 0.7649504382575463 | State_D6 - 0.7649504382575462 | State_D7 - "
     ]
    },
    {
     "name": "stdout",
     "output_type": "stream",
     "text": [
      "0.9540241857567872 | State_D8 - 0.9402632541580447 | State_D9 - 0.8176914652339912 | State_D10 - 0.7989450699841589 | State_D11 - 0.8361098648759524 | State_D12 - 0.8313249424138447"
     ]
    },
    {
     "name": "stdout",
     "output_type": "stream",
     "text": [
      " | State_D13 - 0.8656184484478534 | State_D14 - 0.8461595698310158 | State_D15 - 0.7550158111159935 | State_D16 - 0.7550158111159928 | State_D17 - "
     ]
    },
    {
     "name": "stdout",
     "output_type": "stream",
     "text": [
      "0.9540241857567872 | State_D18 - 0.9402632541580447 | State_D19 - 0.7989450699841589 | State_D20 - 0.817691465232838 | \n",
      "\n",
      "γ=251.33\n",
      "State_D1 - 0.8050840728270088 | State_D2 - 0.7679939547691821 | State_D3 - "
     ]
    },
    {
     "name": "stdout",
     "output_type": "stream",
     "text": [
      "0.7831670269441855 | State_D4 - 0.7491213653781301 | State_D5 - 0.6414808384103929 | State_D6 - 0.6414808384103934 | State_D7 - 0.9694307290338546 | State_D8 - 0.9439340233855373 | State_D9 - 0.7104003788154045 | State_D10 - 0.6804636883374737 | State_D11 - "
     ]
    },
    {
     "name": "stdout",
     "output_type": "stream",
     "text": [
      "0.7831670269441855 | State_D12 - 0.7491213653781301 | State_D13 - 0.8050840728270088 | State_D14 - 0.7679939547691821 | State_D15 - 0.6303284132430091 | State_D16 - 0.6303284132430091 | State_D17 - 0.9694307290338546 | State_D18 - 0.9439340233855373"
     ]
    },
    {
     "name": "stdout",
     "output_type": "stream",
     "text": [
      " | State_D19 - 0.6804636883374737 | State_D20 - 0.7104003788154045 | \n",
      "\n",
      "DMD_TS_POP_RND_testD20_2024-Jan-31_at_16-18.h5\n"
     ]
    }
   ],
   "source": [
    "date_and_time_string =  string(Dates.format(now(), \"yyyy-u-dd_at_HH-MM\"))\n",
    "\n",
    "tests_dir = \"../TESTS/\"\n",
    "tests_data_file_name = \"DMD_TS_POP_RND_testD20_\"*date_and_time_string * \".h5\"\n",
    "\n",
    "for γᵢ in γ_list\n",
    "\n",
    "    println()\n",
    "\n",
    "    println(\"γ=\"*γᵢ)\n",
    "\n",
    "    h5open(tests_dir*tests_data_file_name,\"cw\") do fid\n",
    "        γ_group = create_group(fid, \"gamma_\"*γᵢ)\n",
    "    end \n",
    "\n",
    "\n",
    "    for df in test_files # loop over initial states\n",
    "        \n",
    "        print(df*\" - \")\n",
    "\n",
    "        ρₛ, tₛ = LiPoSID.get_rho_series(data_dir*df*\"_CUT_data.h5\", γᵢ) #\"_2CUT_data.h5\"\n",
    "\n",
    "        ρₛ = convert(Vector{Matrix{ComplexF64}}, ρₛ)\n",
    "        t = convert(Vector{Float64}, tₛ)\n",
    "\n",
    "        ρᵗˢᵗ = [DenseOperator(basis,Hermitian(ρₜ)) for ρₜ in ρₛ]\n",
    "\n",
    "        Hˢⁱᵈₗₘₑ, Jˢⁱᵈₗₘₑ = read_as_operators(models_file_name, γᵢ)\n",
    "\n",
    "        tˢⁱᵈₗₘ, ρˢⁱᵈₗₘₑ  = timeevolution.master(t, ρᵗˢᵗ[1], DenseOperator(basis,Hˢⁱᵈₗₘₑ), [DenseOperator(basis,Jˢⁱᵈₗₘₑ)])\n",
    "\n",
    "        Fˢⁱᵈₗₘₑ = [abs(fidelity(ρ₁, ρ₂)) for (ρ₁, ρ₂) in zip(ρᵗˢᵗ, ρˢⁱᵈₗₘₑ)]\n",
    "\n",
    "        h5open(tests_dir*tests_data_file_name,\"cw\") do fid\n",
    "            γ_group = open_group(fid, \"gamma_\"*γᵢ) # open coupling group\n",
    "            init_state_group = create_group(γ_group, df) # create initial state group\n",
    "            init_state_group[\"F_sid_lme\"] = convert.(Float64, Fˢⁱᵈₗₘₑ)\n",
    "        end\n",
    "                    \n",
    "        print(minimum(Fˢⁱᵈₗₘₑ))\n",
    "        print(\" | \")\n",
    "    \n",
    "    end\n",
    "\n",
    "    println()\n",
    "\n",
    "end\n",
    "\n",
    "println()\n",
    "println(tests_data_file_name)\n",
    "    "
   ]
  }
 ],
 "metadata": {
  "kernelspec": {
   "display_name": "Julia 1.10.0",
   "language": "julia",
   "name": "julia-1.10"
  },
  "language_info": {
   "file_extension": ".jl",
   "mimetype": "application/julia",
   "name": "julia",
   "version": "1.10.0"
  }
 },
 "nbformat": 4,
 "nbformat_minor": 2
}
