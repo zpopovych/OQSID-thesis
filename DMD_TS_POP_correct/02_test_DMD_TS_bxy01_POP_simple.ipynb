{
 "cells": [
  {
   "cell_type": "code",
   "execution_count": 1,
   "metadata": {},
   "outputs": [
    {
     "data": {
      "text/plain": [
       "read_as_operators (generic function with 1 method)"
      ]
     },
     "metadata": {},
     "output_type": "display_data"
    }
   ],
   "source": [
    "include(\"../LiPoSID.jl\")\n",
    "\n",
    "using LinearAlgebra\n",
    "\n",
    "using DynamicPolynomials\n",
    "\n",
    "using SymPy\n",
    "\n",
    "using Plots\n",
    "\n",
    "using Dates\n",
    "\n",
    "using HDF5\n",
    "\n",
    "data_dir = \"../DATA/\"\n",
    "\n",
    "γ_list = [ \"0.079477\",  \"0.25133\", \"0.79477\", \"2.5133\", \"7.9477\", \"25.133\",  \"79.477\", \"251.33\"]\n",
    "\n",
    "γ_list_disp = [ \"0.0795\",  \"0.2513\", \"0.7947\", \"2.5133\", \"7.9477\", \"25.133\",  \"79.477\", \"251.33\"];\n",
    "\n",
    "b⁰ = [0, 0, 1, 1]\n",
    "b¹ = [0, 0, -1, 1]\n",
    "bˣ = [1, 0, 0, 1]\n",
    "bʸ = [1, 1, 0, 1]\n",
    "\n",
    "function read_as_operators(models_file_name, γ)\n",
    "    h5open(models_file_name, \"r\") do file\n",
    "        w = read(file[\"gamma_\"*string(γ)][\"w\"])\n",
    "        H = [ w        0\n",
    "              0        0   ]\n",
    "        \n",
    "        g = read(file[\"gamma_\"*string(γ)][\"g\"])\n",
    "        J = [ 0     g\n",
    "              0     0. + 0im  ]\n",
    "\n",
    "        return H, J\n",
    "    end\n",
    "end\n"
   ]
  },
  {
   "cell_type": "code",
   "execution_count": 2,
   "metadata": {},
   "outputs": [
    {
     "data": {
      "text/plain": [
       "\"../MODELS/DMD_TS_POP_w&g_bx_2024-Jan-05_at_13-18.h5\""
      ]
     },
     "metadata": {},
     "output_type": "display_data"
    }
   ],
   "source": [
    "using QuantumOptics\n",
    "basis = NLevelBasis(2)\n",
    "\n",
    "test_files = [\"State_D\"*string(n) for n=1:20];\n",
    "\n",
    "#models_file_name= \"../MODELS/DMD_TS_POP_w&g_bx_2024-Jan-02_at_15-50.h5\"\n",
    "models_file_name= \"../MODELS/DMD_TS_POP_w&g_bx_2024-Jan-05_at_13-18.h5\""
   ]
  },
  {
   "cell_type": "code",
   "execution_count": 3,
   "metadata": {},
   "outputs": [
    {
     "name": "stdout",
     "output_type": "stream",
     "text": [
      "\n",
      "γ=0.079477\n",
      "State_D1 - "
     ]
    },
    {
     "name": "stdout",
     "output_type": "stream",
     "text": [
      "0.5853004845887302 | State_D2 - 0.5869762549728661 | State_D3 - "
     ]
    },
    {
     "name": "stdout",
     "output_type": "stream",
     "text": [
      "0.5851360603474203 | State_D4 - 0.5867329417704119 | State_D5 - 0.37499265606427523 | State_D6 - 0.37499265606427523 | State_D7 - "
     ]
    },
    {
     "name": "stdout",
     "output_type": "stream",
     "text": [
      "0.12022542667240732 | State_D8 - 0.1279163662800505 | State_D9 - 0.9352288420775875 | State_D10 - 0.9349953120913662 | State_D11 - "
     ]
    },
    {
     "name": "stdout",
     "output_type": "stream",
     "text": [
      "0.5851360603474203 | State_D12 - 0.5867329417704119 | State_D13 - 0.5853004845887302 | State_D14 - 0.5869762549728661 | State_D15 - "
     ]
    },
    {
     "name": "stdout",
     "output_type": "stream",
     "text": [
      "0.37475497253575885 | State_D16 - 0.37475497253575885 | State_D17 - 0.12022542667240732 | State_D18 - 0.1279163662800505 | State_D19 - "
     ]
    },
    {
     "name": "stdout",
     "output_type": "stream",
     "text": [
      "0.9349953120913662 | State_D20 - 0.9352288420775875 | \n",
      "γ=0.25133\n",
      "State_D1 - 0.5963784477261916"
     ]
    },
    {
     "name": "stdout",
     "output_type": "stream",
     "text": [
      " | State_D2 - 0.6015091363178315 | State_D3 - 0.595760381438864"
     ]
    },
    {
     "name": "stdout",
     "output_type": "stream",
     "text": [
      " | State_D4 - 0.6006151933514813 | State_D5 - 0.400113439520598"
     ]
    },
    {
     "name": "stdout",
     "output_type": "stream",
     "text": [
      " | State_D6 - 0.400113439520598 | State_D7 - 0.18797386114958264"
     ]
    },
    {
     "name": "stdout",
     "output_type": "stream",
     "text": [
      " | State_D8 - 0.20329369388801805 | State_D9 - 0.9368029978143064"
     ]
    },
    {
     "name": "stdout",
     "output_type": "stream",
     "text": [
      " | State_D10 - 0.9359851160860426 | State_D11 - 0.595760381438864"
     ]
    },
    {
     "name": "stdout",
     "output_type": "stream",
     "text": [
      " | State_D12 - 0.6006151933514813 | State_D13 - 0.5963784477261916"
     ]
    },
    {
     "name": "stdout",
     "output_type": "stream",
     "text": [
      " | State_D14 - 0.6015091363178315 | State_D15 - 0.39928422769773"
     ]
    },
    {
     "name": "stdout",
     "output_type": "stream",
     "text": [
      " | State_D16 - 0.39928422769773 | State_D17 - 0.18797386114958264"
     ]
    },
    {
     "name": "stdout",
     "output_type": "stream",
     "text": [
      " | State_D18 - 0.20329369388801805 | State_D19 - 0.9359851160860426"
     ]
    },
    {
     "name": "stdout",
     "output_type": "stream",
     "text": [
      " | State_D20 - 0.9368029978143064 | \n",
      "γ=0.79477\n",
      "State_D1 - "
     ]
    },
    {
     "name": "stdout",
     "output_type": "stream",
     "text": [
      "0.6292619193732322 | State_D2 - 0.6432087071277992 | State_D3 - "
     ]
    },
    {
     "name": "stdout",
     "output_type": "stream",
     "text": [
      "0.627264976743576 | State_D4 - 0.6404019120582378 | State_D5 - "
     ]
    },
    {
     "name": "stdout",
     "output_type": "stream",
     "text": [
      "0.46848909812781747 | State_D6 - 0.46848909812781747 | State_D7 - "
     ]
    },
    {
     "name": "stdout",
     "output_type": "stream",
     "text": [
      "0.3150523350923765 | State_D8 - 0.34130987376157773 | State_D9 - "
     ]
    },
    {
     "name": "stdout",
     "output_type": "stream",
     "text": [
      "0.941572057692655 | State_D10 - 0.938814101450403 | State_D11 - "
     ]
    },
    {
     "name": "stdout",
     "output_type": "stream",
     "text": [
      "0.627264976743576 | State_D12 - 0.6404019120582378 | State_D13 - "
     ]
    },
    {
     "name": "stdout",
     "output_type": "stream",
     "text": [
      "0.6292619193732322 | State_D14 - 0.6432087071277992 | State_D15 - "
     ]
    },
    {
     "name": "stdout",
     "output_type": "stream",
     "text": [
      "0.46610205890615086 | State_D16 - 0.46610205890615086 | State_D17 - "
     ]
    },
    {
     "name": "stdout",
     "output_type": "stream",
     "text": [
      "0.3150523350923765 | State_D18 - 0.34130987376157773 | State_D19 - "
     ]
    },
    {
     "name": "stdout",
     "output_type": "stream",
     "text": [
      "0.9388141014507022 | State_D20 - 0.941572057692655 | \n",
      "γ=2.5133\n",
      "State_D1 - 0.6713244619051644"
     ]
    },
    {
     "name": "stdout",
     "output_type": "stream",
     "text": [
      " | State_D2 - 0.7302885934215277 | State_D3 - 0.6290097413588658 | State_D4 - "
     ]
    },
    {
     "name": "stdout",
     "output_type": "stream",
     "text": [
      "0.678020477770098 | State_D5 - 0.5972196748577288 | State_D6 - 0.5972196748577288 | State_D7 - 0.3944246907360816"
     ]
    },
    {
     "name": "stdout",
     "output_type": "stream",
     "text": [
      " | State_D8 - 0.49618299273280997 | State_D9 - 0.947946183010697 | State_D10 - "
     ]
    },
    {
     "name": "stdout",
     "output_type": "stream",
     "text": [
      "0.6537575436291925 | State_D11 - 0.6290097413591846 | State_D12 - 0.6780204777868568 | State_D13 - 0.6713244619051644"
     ]
    },
    {
     "name": "stdout",
     "output_type": "stream",
     "text": [
      " | State_D14 - 0.7302885934215277 | State_D15 - 0.5702667426614759 | State_D16 - "
     ]
    },
    {
     "name": "stdout",
     "output_type": "stream",
     "text": [
      "0.5702667426614759 | State_D17 - 0.3944246907360816 | State_D18 - 0.4961829927328408 | State_D19 - 0.6537555040926635"
     ]
    },
    {
     "name": "stdout",
     "output_type": "stream",
     "text": [
      " | State_D20 - 0.947946183010697 | \n",
      "γ=7.9477\n",
      "State_D1 - 0.8624673651986982 | State_D2 - 0.894781949375254"
     ]
    },
    {
     "name": "stdout",
     "output_type": "stream",
     "text": [
      " | State_D3 - 0.8521434277308487 | State_D4 - 0.8806692587283693 | State_D5 - 0.83510918171055 | State_D6 - 0.83510918171055"
     ]
    },
    {
     "name": "stdout",
     "output_type": "stream",
     "text": [
      " | State_D7 - 0.7978796428990871 | State_D8 - 0.8316249894515729 | State_D9 - 0.9727456736240488 | State_D10 - 0.9524335734740292"
     ]
    },
    {
     "name": "stdout",
     "output_type": "stream",
     "text": [
      " | State_D11 - 0.8521434277308487 | State_D12 - 0.8806692587283693 | State_D13 - 0.8624673651986982 | State_D14 - 0.894781949375041"
     ]
    },
    {
     "name": "stdout",
     "output_type": "stream",
     "text": [
      " | State_D15 - 0.825543619133172 | State_D16 - 0.825543619133172 | State_D17 - 0.7978796428990871 | State_D18 - 0.831624989450999"
     ]
    },
    {
     "name": "stdout",
     "output_type": "stream",
     "text": [
      " | State_D19 - 0.9524335734746974 | State_D20 - 0.9727456737834325 | \n",
      "γ=25.133\n",
      "State_D1 - 0.9432380948939347 | State_D2 - "
     ]
    },
    {
     "name": "stdout",
     "output_type": "stream",
     "text": [
      "0.9772192240508331 | State_D3 - 0.9173590894906748 | State_D4 - 0.9478220604405636 | State_D5 - 0.9710537161583357 | State_D6 - 0.9710537161585882 | State_D7 - 0.8905780021787884 | State_D8 - "
     ]
    },
    {
     "name": "stdout",
     "output_type": "stream",
     "text": [
      "0.9344405760225286 | State_D9 - 0.9900201729034465 | State_D10 - 0.9384642822629161 | State_D11 - 0.9173590894904178 | State_D12 - 0.9478220604402318 | State_D13 - 0.943238094893959 | State_D14 - "
     ]
    },
    {
     "name": "stdout",
     "output_type": "stream",
     "text": [
      "0.9772192240505758 | State_D15 - 0.9521990718480453 | State_D16 - 0.9521990718480453 | State_D17 - 0.8905780021787295 | State_D18 - 0.934440576022721 | State_D19 - 0.9384642822629748 | State_D20 - "
     ]
    },
    {
     "name": "stdout",
     "output_type": "stream",
     "text": [
      "0.9900201729034374 | \n",
      "γ=79.477\n",
      "State_D1 - 0.9927836704837226 | State_D2 - 0.9935276946531189 | State_D3 - 0.9946137075574804 | State_D4 - 0.995368032489007 | State_D5 - 0.9941648309578185 | State_D6 - 0.994164830957595"
     ]
    },
    {
     "name": "stdout",
     "output_type": "stream",
     "text": [
      " | State_D7 - 0.9926583374367831 | State_D8 - 0.9933977986846152 | State_D9 - 0.9929989362842954 | State_D10 - 0.9959032331052838 | State_D11 - 0.9946137075577658 | State_D12 - 0.9953680324889118 | State_D13 - "
     ]
    },
    {
     "name": "stdout",
     "output_type": "stream",
     "text": [
      "0.9927836704843016 | State_D14 - 0.9935276946533451 | State_D15 - 0.9952972880841 | State_D16 - 0.9952972880837065 | State_D17 - 0.9926583374363384 | State_D18 - 0.9933977986845642 | State_D19 - "
     ]
    },
    {
     "name": "stdout",
     "output_type": "stream",
     "text": [
      "0.9959032331052977 | State_D20 - 0.9929989362840564 | \n",
      "γ=251.33\n",
      "State_D1 - 0.9964741233015956 | State_D2 - 0.9951722981661939 | State_D3 - 0.995723809220254 | State_D4 - 0.9944921686791255 | State_D5 - 0.9934381011222587 | State_D6 - 0.9934381011222587 | State_D7 - 0.9993930049944176 | State_D8 - 0.9983585387881854 | State_D9 - 0.9947956521843309 | State_D10 - "
     ]
    },
    {
     "name": "stdout",
     "output_type": "stream",
     "text": [
      "0.9936367248006006 | State_D11 - 0.9957238092202408 | State_D12 - 0.9944921686791255 | State_D13 - 0.9964741233015946 | State_D14 - 0.9951722981662566 | State_D15 - 0.9929931372349909 | State_D16 - 0.9929931372349436 | State_D17 - 0.9993930049944258 | State_D18 - 0.9983585387881801 | State_D19 - 0.9936367248006006 | State_D20 - 0.994795652184223 | DMD_TS_POP_testD20_2024-Jan-05_at_13-24.h5\n"
     ]
    }
   ],
   "source": [
    "date_and_time_string =  string(Dates.format(now(), \"yyyy-u-dd_at_HH-MM\"))\n",
    "\n",
    "tests_dir = \"../TESTS/\"\n",
    "tests_data_file_name = \"DMD_TS_POP_testD20_\"*date_and_time_string * \".h5\"\n",
    "\n",
    "for γᵢ in γ_list\n",
    "\n",
    "    println()\n",
    "\n",
    "    println(\"γ=\"*γᵢ)\n",
    "\n",
    "    h5open(tests_dir*tests_data_file_name,\"cw\") do fid\n",
    "        γ_group = create_group(fid, \"gamma_\"*γᵢ)\n",
    "    end \n",
    "\n",
    "\n",
    "    for df in test_files # loop over initial states\n",
    "        \n",
    "        print(df*\" - \")\n",
    "\n",
    "        ρₛ, tₛ = LiPoSID.get_rho_series(data_dir*df*\"_2CUT_data.h5\", γᵢ)\n",
    "\n",
    "        ρₛ = convert(Vector{Matrix{ComplexF64}}, ρₛ)\n",
    "        t = convert(Vector{Float64}, tₛ)\n",
    "\n",
    "        ρᵗˢᵗ = [DenseOperator(basis,Hermitian(ρₜ)) for ρₜ in ρₛ]\n",
    "\n",
    "        Hˢⁱᵈₗₘₑ, Jˢⁱᵈₗₘₑ = read_as_operators(models_file_name, γᵢ)\n",
    "\n",
    "        tˢⁱᵈₗₘ, ρˢⁱᵈₗₘₑ  = timeevolution.master(t, ρᵗˢᵗ[1], DenseOperator(basis,Hˢⁱᵈₗₘₑ), [DenseOperator(basis,Jˢⁱᵈₗₘₑ)])\n",
    "\n",
    "        Fˢⁱᵈₗₘₑ = [abs(fidelity(ρ₁, ρ₂)) for (ρ₁, ρ₂) in zip(ρᵗˢᵗ, ρˢⁱᵈₗₘₑ)]\n",
    "\n",
    "        h5open(tests_dir*tests_data_file_name,\"cw\") do fid\n",
    "            γ_group = open_group(fid, \"gamma_\"*γᵢ) # open coupling group\n",
    "            init_state_group = create_group(γ_group, df) # create initial state group\n",
    "            init_state_group[\"F_sid_lme\"] = convert.(Float64, Fˢⁱᵈₗₘₑ)\n",
    "        end\n",
    "                    \n",
    "        print(minimum(Fˢⁱᵈₗₘₑ))\n",
    "        print(\" | \")\n",
    "    \n",
    "    end\n",
    "\n",
    "end\n",
    "\n",
    "println()\n",
    "println(tests_data_file_name)\n",
    "    "
   ]
  }
 ],
 "metadata": {
  "kernelspec": {
   "display_name": "Julia 1.10.0",
   "language": "julia",
   "name": "julia-1.10"
  },
  "language_info": {
   "file_extension": ".jl",
   "mimetype": "application/julia",
   "name": "julia",
   "version": "1.10.0"
  }
 },
 "nbformat": 4,
 "nbformat_minor": 2
}
