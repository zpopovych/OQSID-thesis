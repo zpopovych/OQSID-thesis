{
 "cells": [
  {
   "cell_type": "code",
   "execution_count": 4,
   "metadata": {},
   "outputs": [
    {
     "name": "stderr",
     "output_type": "stream",
     "text": [
      "WARNING: replacing module LiPoSID.\n"
     ]
    },
    {
     "data": {
      "text/plain": [
       "read_as_operators (generic function with 1 method)"
      ]
     },
     "metadata": {},
     "output_type": "display_data"
    }
   ],
   "source": [
    "include(\"../LiPoSID.jl\")\n",
    "\n",
    "using LinearAlgebra\n",
    "\n",
    "using DynamicPolynomials\n",
    "\n",
    "using SymPy\n",
    "\n",
    "using Plots\n",
    "\n",
    "using Dates\n",
    "\n",
    "using HDF5\n",
    "\n",
    "data_dir = \"../DATA/\"\n",
    "\n",
    "γ_list = [ \"0.079477\",  \"0.25133\", \"0.79477\", \"2.5133\", \"7.9477\", \"25.133\",  \"79.477\", \"251.33\"]\n",
    "\n",
    "γ_list_disp = [ \"0.0795\",  \"0.2513\", \"0.7947\", \"2.5133\", \"7.9477\", \"25.133\",  \"79.477\", \"251.33\"];\n",
    "\n",
    "b⁰ = [0, 0, 1, 1]\n",
    "b¹ = [0, 0, -1, 1]\n",
    "bˣ = [1, 0, 0, 1]\n",
    "bʸ = [1, 1, 0, 1]\n",
    "\n",
    "function read_as_operators(models_file_name, γ)\n",
    "    h5open(models_file_name, \"r\") do file\n",
    "        w = read(file[\"gamma_\"*string(γ)][\"w\"])\n",
    "        H = [ w        0\n",
    "              0        0   ]\n",
    "        \n",
    "        g = read(file[\"gamma_\"*string(γ)][\"g\"])\n",
    "        J = [ 0     sqrt(abs(g))\n",
    "              0     0. + 0im  ]\n",
    "\n",
    "        return H, J\n",
    "    end\n",
    "end\n"
   ]
  },
  {
   "cell_type": "code",
   "execution_count": 5,
   "metadata": {},
   "outputs": [
    {
     "data": {
      "text/plain": [
       "\"../MODELS/DMD_TS_POP_w&g_bx_2024-Jan-05_at_13-18.h5\""
      ]
     },
     "metadata": {},
     "output_type": "display_data"
    }
   ],
   "source": [
    "using QuantumOptics\n",
    "basis = NLevelBasis(2)\n",
    "\n",
    "test_files = [\"State_D\"*string(n) for n=1:20];\n",
    "\n",
    "#models_file_name= \"../MODELS/DMD_TS_POP_w&g_bx_2024-Jan-02_at_15-50.h5\"\n",
    "models_file_name= \"../MODELS/DMD_TS_POP_w&g_bx_2024-Jan-05_at_13-18.h5\""
   ]
  },
  {
   "cell_type": "code",
   "execution_count": 6,
   "metadata": {},
   "outputs": [
    {
     "name": "stdout",
     "output_type": "stream",
     "text": [
      "\n",
      "γ=0.079477\n",
      "State_D1 - "
     ]
    },
    {
     "name": "stdout",
     "output_type": "stream",
     "text": [
      "0.5892642614273279 | State_D2 - 0.5907760286145555 | State_D3 - 0.5866567371456077 | State_D4 - 0.5880297195455785 | State_D5 - "
     ]
    },
    {
     "name": "stdout",
     "output_type": "stream",
     "text": [
      "0.38245779255518 | State_D6 - 0.38245779255518 | State_D7 - 0.14323904975270774 | State_D8 - 0.1488775833997643"
     ]
    },
    {
     "name": "stdout",
     "output_type": "stream",
     "text": [
      " | State_D9 - 0.935706114666193 | State_D10 - 0.81615364187211 | State_D11 - "
     ]
    },
    {
     "name": "stdout",
     "output_type": "stream",
     "text": [
      "0.5866567371456077 | State_D12 - 0.5880297195455785 | State_D13 - 0.5892642614273279 | State_D14 - 0.5907760286145555 | State_D15 - "
     ]
    },
    {
     "name": "stdout",
     "output_type": "stream",
     "text": [
      "0.3798175403190337 | State_D16 - 0.3798175403190337 | State_D17 - 0.14323904975270774 | State_D18 - 0.1488775833997643 | State_D19 - "
     ]
    },
    {
     "name": "stdout",
     "output_type": "stream",
     "text": [
      "0.8161536447093583 | State_D20 - 0.935706114666193 | \n",
      "γ=0.25133\n",
      "State_D1 - 0.5997377706418707"
     ]
    },
    {
     "name": "stdout",
     "output_type": "stream",
     "text": [
      " | State_D2 - 0.6046764296498611 | State_D3 - 0.5975348553155764"
     ]
    },
    {
     "name": "stdout",
     "output_type": "stream",
     "text": [
      " | State_D4 - 0.6021410307841167 | State_D5 - 0.40610298165046854"
     ]
    },
    {
     "name": "stdout",
     "output_type": "stream",
     "text": [
      " | State_D6 - 0.40610298165046854 | State_D7 - 0.20209967385137415"
     ]
    },
    {
     "name": "stdout",
     "output_type": "stream",
     "text": [
      " | State_D8 - 0.21571024077196085 | State_D9 - 0.9372074941440164"
     ]
    },
    {
     "name": "stdout",
     "output_type": "stream",
     "text": [
      " | State_D10 - 0.907889334138006 | State_D11 - 0.5975348553155764"
     ]
    },
    {
     "name": "stdout",
     "output_type": "stream",
     "text": [
      " | State_D12 - 0.6021410307841167 | State_D13 - 0.5997377706418707"
     ]
    },
    {
     "name": "stdout",
     "output_type": "stream",
     "text": [
      " | State_D14 - 0.6046764296498611 | State_D15 - 0.40372696586164225"
     ]
    },
    {
     "name": "stdout",
     "output_type": "stream",
     "text": [
      " | State_D16 - 0.40372696586164225 | State_D17 - 0.20209967385137415"
     ]
    },
    {
     "name": "stdout",
     "output_type": "stream",
     "text": [
      " | State_D18 - 0.21571024077196085 | State_D19 - 0.9078893341362848"
     ]
    },
    {
     "name": "stdout",
     "output_type": "stream",
     "text": [
      " | State_D20 - 0.9372074941440164 | \n",
      "γ=0.79477\n",
      "State_D1 - "
     ]
    },
    {
     "name": "stdout",
     "output_type": "stream",
     "text": [
      "0.6242931916359561 | State_D2 - 0.6387256042643585 | State_D3 - "
     ]
    },
    {
     "name": "stdout",
     "output_type": "stream",
     "text": [
      "0.6238842585571758 | State_D4 - 0.6376543845682613 | State_D5 - "
     ]
    },
    {
     "name": "stdout",
     "output_type": "stream",
     "text": [
      "0.4604771546610624 | State_D6 - 0.4604771546610624 | State_D7 - "
     ]
    },
    {
     "name": "stdout",
     "output_type": "stream",
     "text": [
      "0.3006565884104708 | State_D8 - 0.32922897242464555 | State_D9 - "
     ]
    },
    {
     "name": "stdout",
     "output_type": "stream",
     "text": [
      "0.9409626982453358 | State_D10 - 0.9399318078261713 | State_D11 - "
     ]
    },
    {
     "name": "stdout",
     "output_type": "stream",
     "text": [
      "0.6238842585571758 | State_D12 - 0.6376543845682613 | State_D13 - "
     ]
    },
    {
     "name": "stdout",
     "output_type": "stream",
     "text": [
      "0.6242931916359561 | State_D14 - 0.6387256042643585 | State_D15 - "
     ]
    },
    {
     "name": "stdout",
     "output_type": "stream",
     "text": [
      "0.45957204647958794 | State_D16 - 0.45957204647958794 | State_D17 - "
     ]
    },
    {
     "name": "stdout",
     "output_type": "stream",
     "text": [
      "0.3006565884104708 | State_D18 - 0.32922897242464555 | State_D19 - "
     ]
    },
    {
     "name": "stdout",
     "output_type": "stream",
     "text": [
      "0.9399318078264848 | State_D20 - 0.9409626982453358 | \n",
      "γ=2.5133\n",
      "State_D1 - 0.6778870283323191"
     ]
    },
    {
     "name": "stdout",
     "output_type": "stream",
     "text": [
      " | State_D2 - 0.735060408159089 | State_D3 - 0.6473612855217731 | State_D4 - "
     ]
    },
    {
     "name": "stdout",
     "output_type": "stream",
     "text": [
      "0.7126797658949413 | State_D5 - 0.606366793411427 | State_D6 - 0.606366793411427 | State_D7 - 0.4177997443166843"
     ]
    },
    {
     "name": "stdout",
     "output_type": "stream",
     "text": [
      " | State_D8 - 0.5101536016610495 | State_D9 - 0.9487841797145485 | State_D10 - "
     ]
    },
    {
     "name": "stdout",
     "output_type": "stream",
     "text": [
      "0.7995765779167227 | State_D11 - 0.6473612855220482 | State_D12 - 0.7126797658949413 | State_D13 - 0.6778870283323191"
     ]
    },
    {
     "name": "stdout",
     "output_type": "stream",
     "text": [
      " | State_D14 - 0.735060408159089 | State_D15 - 0.5865939586882378 | State_D16 - "
     ]
    },
    {
     "name": "stdout",
     "output_type": "stream",
     "text": [
      "0.5865939586893355 | State_D17 - 0.4177997443166843 | State_D18 - 0.5101536016613036 | State_D19 - 0.7995768268204089"
     ]
    },
    {
     "name": "stdout",
     "output_type": "stream",
     "text": [
      " | State_D20 - 0.9487841797145485 | \n",
      "γ=7.9477\n",
      "State_D1 - 0.803216624213918 | State_D2 - 0.857053425362985"
     ]
    },
    {
     "name": "stdout",
     "output_type": "stream",
     "text": [
      " | State_D3 - 0.8027272798607641 | State_D4 - 0.8537434481954962 | State_D5 - 0.7693507412142839 | State_D6 - 0.7693507412142839"
     ]
    },
    {
     "name": "stdout",
     "output_type": "stream",
     "text": [
      " | State_D7 - 0.7004854032489501 | State_D8 - 0.7653379578828249 | State_D9 - 0.9707014387422934 | State_D10 - 0.9657087856366113"
     ]
    },
    {
     "name": "stdout",
     "output_type": "stream",
     "text": [
      " | State_D11 - 0.8027272798607641 | State_D12 - 0.8537434481954962 | State_D13 - 0.803216624213918 | State_D14 - 0.857053425362985"
     ]
    },
    {
     "name": "stdout",
     "output_type": "stream",
     "text": [
      " | State_D15 - 0.7670143230411364 | State_D16 - 0.7670143230411364 | State_D17 - 0.7004854032489501 | State_D18 - 0.7653379578828249"
     ]
    },
    {
     "name": "stdout",
     "output_type": "stream",
     "text": [
      " | State_D19 - 0.9657087856366113 | State_D20 - 0.9707014387422934 | \n",
      "γ=25.133\n",
      "State_D1 - 0.9432380948939347 | State_D2 - "
     ]
    },
    {
     "name": "stdout",
     "output_type": "stream",
     "text": [
      "0.9772192240508331 | State_D3 - 0.9173590894906748 | State_D4 - 0.9478220604405636 | State_D5 - 0.9710537161583357 | State_D6 - 0.9710537161585882 | State_D7 - 0.8905780021787884"
     ]
    },
    {
     "name": "stdout",
     "output_type": "stream",
     "text": [
      " | State_D8 - 0.9344405760225286 | State_D9 - 0.9900201729034465 | State_D10 - 0.9384642822629161 | State_D11 - 0.9173590894904178 | State_D12 - 0.9478220604402318 | State_D13 - 0.943238094893959"
     ]
    },
    {
     "name": "stdout",
     "output_type": "stream",
     "text": [
      " | State_D14 - 0.9772192240505758 | State_D15 - 0.9521990718480453 | State_D16 - 0.9521990718480453 | State_D17 - 0.8905780021787295 | State_D18 - 0.934440576022721 | State_D19 - 0.9384642822629748"
     ]
    },
    {
     "name": "stdout",
     "output_type": "stream",
     "text": [
      " | State_D20 - 0.9900201729034374 | \n",
      "γ=79.477\n",
      "State_D1 - 0.9936134994559958 | State_D2 - 0.994381725606157 | State_D3 - 0.9953175037427711 | State_D4 - 0.9961028218548124 | State_D5 - "
     ]
    },
    {
     "name": "stdout",
     "output_type": "stream",
     "text": [
      "0.9949975673829419 | State_D6 - 0.9949975673827336 | State_D7 - 0.9934001848544562 | State_D8 - 0.9941737375842721 | State_D9 - 0.9938887845820825 | State_D10 - 0.9965906875750563 | State_D11 - "
     ]
    },
    {
     "name": "stdout",
     "output_type": "stream",
     "text": [
      "0.995317503743127 | State_D12 - 0.9961028218547252 | State_D13 - 0.993613499456536 | State_D14 - 0.9943817256063667 | State_D15 - 0.9960408375208141 | State_D16 - 0.9960408375204521 | State_D17 - "
     ]
    },
    {
     "name": "stdout",
     "output_type": "stream",
     "text": [
      "0.9934001848540214 | State_D18 - 0.9941737375842209 | State_D19 - 0.9965906875751492 | State_D20 - 0.9938887845818601 | \n",
      "γ=251.33\n",
      "State_D1 - 0.9964741233015956 | State_D2 - 0.9951722981661939 | State_D3 - 0.995723809220254 | State_D4 - 0.9944921686791255 | State_D5 - 0.9934381011222587 | State_D6 - "
     ]
    },
    {
     "name": "stdout",
     "output_type": "stream",
     "text": [
      "0.9934381011222587 | State_D7 - 0.9993930049944176 | State_D8 - 0.9983585387881854 | State_D9 - 0.9947956521843309 | State_D10 - 0.9936367248006006 | State_D11 - 0.9957238092202408 | State_D12 - 0.9944921686791255 | State_D13 - 0.9964741233015946 | State_D14 - 0.9951722981662566 | State_D15 - 0.9929931372349909 | State_D16 - 0.9929931372349436 | State_D17 - 0.9993930049944258"
     ]
    },
    {
     "name": "stdout",
     "output_type": "stream",
     "text": [
      " | State_D18 - 0.9983585387881801 | State_D19 - 0.9936367248006006 | State_D20 - 0.994795652184223 | \n",
      "DMD_TS_POP_testD20_2024-Jan-07_at_12-15.h5\n"
     ]
    }
   ],
   "source": [
    "date_and_time_string =  string(Dates.format(now(), \"yyyy-u-dd_at_HH-MM\"))\n",
    "\n",
    "tests_dir = \"../TESTS/\"\n",
    "tests_data_file_name = \"DMD_TS_POP_testD20_\"*date_and_time_string * \".h5\"\n",
    "\n",
    "for γᵢ in γ_list\n",
    "\n",
    "    println()\n",
    "\n",
    "    println(\"γ=\"*γᵢ)\n",
    "\n",
    "    h5open(tests_dir*tests_data_file_name,\"cw\") do fid\n",
    "        γ_group = create_group(fid, \"gamma_\"*γᵢ)\n",
    "    end \n",
    "\n",
    "\n",
    "    for df in test_files # loop over initial states\n",
    "        \n",
    "        print(df*\" - \")\n",
    "\n",
    "        ρₛ, tₛ = LiPoSID.get_rho_series(data_dir*df*\"_2CUT_data.h5\", γᵢ)\n",
    "\n",
    "        ρₛ = convert(Vector{Matrix{ComplexF64}}, ρₛ)\n",
    "        t = convert(Vector{Float64}, tₛ)\n",
    "\n",
    "        ρᵗˢᵗ = [DenseOperator(basis,Hermitian(ρₜ)) for ρₜ in ρₛ]\n",
    "\n",
    "        Hˢⁱᵈₗₘₑ, Jˢⁱᵈₗₘₑ = read_as_operators(models_file_name, γᵢ)\n",
    "\n",
    "        tˢⁱᵈₗₘ, ρˢⁱᵈₗₘₑ  = timeevolution.master(t, ρᵗˢᵗ[1], DenseOperator(basis,Hˢⁱᵈₗₘₑ), [DenseOperator(basis,Jˢⁱᵈₗₘₑ)])\n",
    "\n",
    "        Fˢⁱᵈₗₘₑ = [abs(fidelity(ρ₁, ρ₂)) for (ρ₁, ρ₂) in zip(ρᵗˢᵗ, ρˢⁱᵈₗₘₑ)]\n",
    "\n",
    "        h5open(tests_dir*tests_data_file_name,\"cw\") do fid\n",
    "            γ_group = open_group(fid, \"gamma_\"*γᵢ) # open coupling group\n",
    "            init_state_group = create_group(γ_group, df) # create initial state group\n",
    "            init_state_group[\"F_sid_lme\"] = convert.(Float64, Fˢⁱᵈₗₘₑ)\n",
    "        end\n",
    "                    \n",
    "        print(minimum(Fˢⁱᵈₗₘₑ))\n",
    "        print(\" | \")\n",
    "    \n",
    "    end\n",
    "\n",
    "end\n",
    "\n",
    "println()\n",
    "println(tests_data_file_name)\n",
    "    "
   ]
  }
 ],
 "metadata": {
  "kernelspec": {
   "display_name": "Julia 1.10.0",
   "language": "julia",
   "name": "julia-1.10"
  },
  "language_info": {
   "file_extension": ".jl",
   "mimetype": "application/julia",
   "name": "julia",
   "version": "1.10.0"
  }
 },
 "nbformat": 4,
 "nbformat_minor": 2
}
