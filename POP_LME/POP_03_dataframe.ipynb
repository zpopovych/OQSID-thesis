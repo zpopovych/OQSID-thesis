{
 "cells": [
  {
   "cell_type": "code",
   "execution_count": 29,
   "id": "2b97bc7f",
   "metadata": {},
   "outputs": [],
   "source": [
    "from boson_data_lib import *\n",
    "import numpy as np\n",
    "import scipy.linalg as sl\n",
    "import os\n",
    "import pandas as pd\n",
    "import glob"
   ]
  },
  {
   "cell_type": "code",
   "execution_count": 30,
   "id": "51aaf20f",
   "metadata": {},
   "outputs": [],
   "source": [
    "data_dir = \"../DATA/\"\n",
    "tests_dir = \"../TESTS/\""
   ]
  },
  {
   "cell_type": "code",
   "execution_count": 31,
   "id": "9f31df7b",
   "metadata": {},
   "outputs": [],
   "source": [
    "best_init_rho =  np.array([[ 0.96693975+0.j        , -0.17832301+0.00560344j],\n",
    "                               [-0.17832301-0.00560344j,  0.03306025+0.j        ]])\n",
    "\n",
    "fid_dists = fidelity_distances(data_dir, best_init_rho);"
   ]
  },
  {
   "cell_type": "code",
   "execution_count": 32,
   "id": "7518da3c",
   "metadata": {},
   "outputs": [],
   "source": [
    "def read_as_dataframe(filename, fid_distances, data_dir, tests_dir):\n",
    "\n",
    "    df = pd.DataFrame()\n",
    "    \n",
    "    print(\"Processing...\")\n",
    "    \n",
    "    with h5py.File(tests_dir+filename, \"r\") as f:\n",
    "        \n",
    "        #gammas = ['0.079477', '0.25133', '0.79477', '2.5133', '7.9477', '25.133', '79.477', '251.33']\n",
    "        gammas = f.keys()\n",
    "        \n",
    "        for gamma in gammas:\n",
    "            \n",
    "            print(gamma)\n",
    "            \n",
    "            g = gamma[6:]\n",
    "            \n",
    "            init_states = f[gamma].keys()\n",
    "            \n",
    "            for state in init_states:\n",
    "                \n",
    "                F_lme_exact = f[gamma][state][\"F_lme_exact\"][()]\n",
    "                F_sidlme_lme_rnd = f[gamma][state][\"F_sidlme_lme_rnd\"][()]\n",
    "                F_sidlme_lme_tssos = f[gamma][state][\"F_sidlme_lme_tssos\"][()]\n",
    "\n",
    "                F_sidexact_exact_rnd = f[gamma][state][\"F_sidexact_exact_rnd\"][()]\n",
    "                F_sidexact_exact_tssos = f[gamma][state][\"F_sidexact_exact_tssos\"][()]\n",
    "                \n",
    "                \n",
    "                ser_len = len(F_lme_exact)\n",
    "\n",
    "                gamma_column = [g] * ser_len\n",
    "                state_column = [state[7:]] * ser_len\n",
    "\n",
    "                fid_dist_column = [fid_distances[int(state[7:])-1]] * ser_len      \n",
    "\n",
    "                f_name = data_dir + \"/\" + state + \"_2CUT_data.h5\"\n",
    "                #f_name = data_dir + \"\\\\\" + state + \"_2CUT_data.h5\"\n",
    "                t, dt = extract_time(f_name, g)\n",
    "                time_column = t\n",
    "                gamma_time_column = np.array(t)*float(g) \n",
    "\n",
    "                d_ser = {'Gamma': gamma_column,\n",
    "                         'State': state_column,\n",
    "                         'Time': time_column, \n",
    "                         'gt': gamma_time_column,\n",
    "                         'F_lme_exact': F_lme_exact,\n",
    "                         'F_sidlme_lme_rnd': F_sidlme_lme_rnd,\n",
    "                         'F_sidlme_lme_tssos': F_sidlme_lme_tssos,\n",
    "                         'F_sidexact_exact_rnd': F_sidexact_exact_rnd,\n",
    "                         'F_sidexact_exact_tssos': F_sidexact_exact_tssos,\n",
    "                         'Distance': fid_dist_column}\n",
    "\n",
    "                df_ser = pd.DataFrame(data = d_ser)   \n",
    "                df = pd.concat([df, df_ser])\n",
    "    \n",
    "    print(\" done!\")\n",
    "    \n",
    "    return df"
   ]
  },
  {
   "cell_type": "code",
   "execution_count": 33,
   "id": "0147ad92",
   "metadata": {},
   "outputs": [],
   "source": [
    "test_file = \"POP_LME_tssos_vs_random_trn4_tst20_fix-Phi-up_2024-Jan-09_at_14-34.h5\""
   ]
  },
  {
   "cell_type": "code",
   "execution_count": 34,
   "id": "7b0ef3f5",
   "metadata": {},
   "outputs": [
    {
     "name": "stdout",
     "output_type": "stream",
     "text": [
      "Processing...\n",
      "gamma_0.079477\n",
      "gamma_0.25133\n",
      "gamma_0.79477\n",
      "gamma_2.5133\n",
      "gamma_25.133\n",
      "gamma_251.33\n",
      "gamma_7.9477\n",
      "gamma_79.477\n",
      " done!\n"
     ]
    }
   ],
   "source": [
    "df = read_as_dataframe(test_file, fid_dists, data_dir, tests_dir)"
   ]
  },
  {
   "cell_type": "code",
   "execution_count": 35,
   "id": "6a3987ad",
   "metadata": {},
   "outputs": [],
   "source": [
    "pkl_name = \"dataframe_\"+test_file[:-3]+\".pkl\"\n",
    "\n",
    "df.to_pickle(tests_dir+pkl_name)"
   ]
  },
  {
   "cell_type": "code",
   "execution_count": 36,
   "id": "db7dd068",
   "metadata": {},
   "outputs": [
    {
     "data": {
      "text/plain": [
       "'dataframe_POP_LME_tssos_vs_random_trn4_tst20_fix-Phi-up_2024-Jan-09_at_14-34.pkl'"
      ]
     },
     "execution_count": 36,
     "metadata": {},
     "output_type": "execute_result"
    }
   ],
   "source": [
    "pkl_name"
   ]
  },
  {
   "cell_type": "markdown",
   "id": "0fad5275",
   "metadata": {},
   "source": []
  }
 ],
 "metadata": {
  "@webio": {
   "lastCommId": null,
   "lastKernelId": null
  },
  "kernelspec": {
   "display_name": "Python 3 (ipykernel)",
   "language": "python",
   "name": "python3"
  },
  "language_info": {
   "codemirror_mode": {
    "name": "ipython",
    "version": 3
   },
   "file_extension": ".py",
   "mimetype": "text/x-python",
   "name": "python",
   "nbconvert_exporter": "python",
   "pygments_lexer": "ipython3",
   "version": "3.11.4"
  }
 },
 "nbformat": 4,
 "nbformat_minor": 5
}
