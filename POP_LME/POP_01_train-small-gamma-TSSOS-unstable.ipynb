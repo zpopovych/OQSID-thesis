{
 "cells": [
  {
   "cell_type": "markdown",
   "metadata": {},
   "source": [
    "### Full POP model works"
   ]
  },
  {
   "cell_type": "code",
   "execution_count": 1,
   "metadata": {},
   "outputs": [],
   "source": [
    "include(\"LiPoSID.jl\")\n",
    "using QuantumOptics\n",
    "basis = NLevelBasis(2)\n",
    "using DynamicPolynomials\n",
    "using LinearAlgebra\n",
    "using Dates\n",
    "using HDF5"
   ]
  },
  {
   "cell_type": "markdown",
   "metadata": {},
   "source": [
    "Consider simple Lindblad master equation with just one dissipator:\n",
    "\n",
    "$m\n",
    "     \\frac{d\\rho}{dt} = - \\frac{i}{\\hbar}[H, \\rho]+\\left[A \\rho A^\\dagger - \\frac{1}{2}\\left\\{ A^\\dagger A, \\rho \\right\\} \\right]\n",
    "$,\n",
    "\n",
    "where Hamiltonian is hermitian with one of the diagonal elemnets set to zero\n",
    "\n",
    "\n",
    "$\n",
    "    H = \\begin{pmatrix} e_1 & h_1 - i h_2 \\\\ h_1 + i h_2 & 0\n",
    "   \\end{pmatrix}\n",
    "$\n",
    "\n",
    "and as dissipator is traceless:\n",
    "\n",
    "$\n",
    "A = \\begin{pmatrix} a_1 + i b_1 &   a_2 + i b_2\\\\  a_3 + i b_3 & -a_1 - i b_1\n",
    "   \\end{pmatrix} $\n",
    "   \n",
    "$\\operatorname{Tr} A = 0$"
   ]
  },
  {
   "cell_type": "code",
   "execution_count": 2,
   "metadata": {},
   "outputs": [
    {
     "data": {
      "text/plain": [
       "2×2 Matrix{Polynomial{true, ComplexF64}}:\n",
       " e₁                  h₁ + (0.0-1.0im)h₂\n",
       " h₁ + (0.0+1.0im)h₂  0.0+0.0im"
      ]
     },
     "execution_count": 2,
     "metadata": {},
     "output_type": "execute_result"
    }
   ],
   "source": [
    "#using DynamicPolynomials\n",
    "\n",
    "@polyvar g\n",
    "\n",
    "@polyvar e[1]\n",
    "@polyvar h[1:2]\n",
    "\n",
    "#Hˢʸᵐᵇ = [ 0.      0.\n",
    "#         0.     e[1] ]\n",
    "\n",
    "# Hˢʸᵐᵇₐₙ\n",
    "Hˢʸᵐᵇ = [ e[1]               h[1] - im*h[2]\n",
    "          h[1] + im*h[2]     0.             ] #fixed b"
   ]
  },
  {
   "cell_type": "code",
   "execution_count": 28,
   "metadata": {},
   "outputs": [
    {
     "data": {
      "text/plain": [
       "2×2 Matrix{Polynomial{true, Complex{Int64}}}:\n",
       " a₁              a₂ + (0+1im)b₂\n",
       " a₃ + (0+1im)b₃  -a₁"
      ]
     },
     "execution_count": 28,
     "metadata": {},
     "output_type": "execute_result"
    }
   ],
   "source": [
    "@polyvar a[1:4]\n",
    "@polyvar b[1:4]\n",
    "\n",
    "#Aˢʸᵐᵇ = [  0.           a[2] + im*b[2]\n",
    "#           0.           0.             ]\n",
    "\n",
    "Aˢʸᵐᵇ = [ a[1]              a[2] + im*b[2]               #fixed phase\n",
    "          a[3] + im*b[3]          -a[1]    ]"
   ]
  },
  {
   "cell_type": "code",
   "execution_count": 29,
   "metadata": {},
   "outputs": [
    {
     "data": {
      "text/plain": [
       "\"/home/zah/git/POP23\""
      ]
     },
     "execution_count": 29,
     "metadata": {},
     "output_type": "execute_result"
    }
   ],
   "source": [
    "pwd()"
   ]
  },
  {
   "cell_type": "code",
   "execution_count": 30,
   "metadata": {},
   "outputs": [
    {
     "name": "stdout",
     "output_type": "stream",
     "text": [
      "/home/zah/git/POP23/DATA/\n"
     ]
    },
    {
     "data": {
      "text/plain": [
       "\"/home/zah/git/POP23/MODELS/\""
      ]
     },
     "execution_count": 30,
     "metadata": {},
     "output_type": "execute_result"
    }
   ],
   "source": [
    "parentdir = pwd()\n",
    "data_dir = parentdir*\"/DATA/\"\n",
    "println(data_dir)\n",
    "\n",
    "output_directory = parentdir*\"/MODELS/\""
   ]
  },
  {
   "cell_type": "markdown",
   "metadata": {},
   "source": [
    "### Train models loop"
   ]
  },
  {
   "cell_type": "code",
   "execution_count": 31,
   "metadata": {},
   "outputs": [
    {
     "name": "stdout",
     "output_type": "stream",
     "text": [
      "  1.341548 seconds (9.19 M allocations: 1.180 GiB, 13.31% gc time)\n"
     ]
    }
   ],
   "source": [
    "γ = [ \"0.079477\",  \"0.25133\", \"0.79477\", \"2.5133\", \"7.9477\", \"25.133\", \"79.477\", \"251.33\"]\n",
    "\n",
    "γᵢ = \"0.079477\"\n",
    "\n",
    "ρᵍ, tᵍ = LiPoSID.get_rho_series(data_dir*\"State_B1_2CUT_data.h5\", γᵢ)\n",
    "ρᵉ, tᵉ = LiPoSID.get_rho_series(data_dir*\"State_B2_2CUT_data.h5\", γᵢ)\n",
    "ρˣ, tˣ = LiPoSID.get_rho_series(data_dir*\"State_B3_2CUT_data.h5\", γᵢ)\n",
    "ρʸ, tʸ = LiPoSID.get_rho_series(data_dir*\"State_B4_2CUT_data.h5\", γᵢ)\n",
    "\n",
    "objₑₓ = 0\n",
    "#objₑₓₐₙ = 0\n",
    "\n",
    "@time for (ρ,t) in zip([ρᵍ, ρᵉ, ρˣ, ρʸ], [tᵍ, tᵉ, tˣ, tʸ])\n",
    "\n",
    "    t = convert(Vector{Float64}, t)\n",
    "    @assert maximum(diff(t)) ≈ minimum(diff(t)) ≈ t[2]-t[1]\n",
    "\n",
    "    # Convert cut ρ series:\n",
    "    ρ = convert(Vector{Matrix{ComplexF64}}, ρ[1:200])\n",
    "    objₑₓ += LiPoSID.simpson_obj(ρ, t,  Hˢʸᵐᵇ, [Aˢʸᵐᵇ])#, g)\n",
    "    #objₑₓₐₙ += LiPoSID.simpson_obj(ρ, t,  Hˢʸᵐᵇₐₙ, [Aˢʸᵐᵇ])\n",
    "\n",
    "end # of files (initial states) loop"
   ]
  },
  {
   "cell_type": "code",
   "execution_count": 32,
   "metadata": {},
   "outputs": [
    {
     "name": "stdout",
     "output_type": "stream",
     "text": [
      "*********************************** TSSOS ***********************************\n",
      "Version 1.0.0, developed by Jie Wang, 2020--2023\n",
      "TSSOS is launching...\n",
      "optimum = 0.00011352393667407946\n",
      "Global optimality certified with relative optimality gap 0.000005%!\n",
      "No higher TS step of the TSSOS hierarchy!\n",
      "*********************************** TSSOS ***********************************\n",
      "Version 1.0.0, developed by Jie Wang, 2020--2023\n",
      "TSSOS is launching...\n",
      "optimum = 0.00011344012757145145\n",
      "The local solver failed refining the solution!\n",
      "No higher TS step of the TSSOS hierarchy!\n",
      "val_p = [0.0001134727077669595, 0.005216485060429932]\n"
     ]
    },
    {
     "data": {
      "text/plain": [
       "(PolyVar{true}[e₁, h₁, h₂, a₁, a₂, a₃, b₂, b₃] => [25.126132360560177, 0.00014654815310480505, 0.00019718984147728804, -0.0003058856513557143, 0.28157159548267224, 0.08019805680365935, 0.06287301157042789, 0.02351683048261518], \"tssos\")"
      ]
     },
     "execution_count": 32,
     "metadata": {},
     "output_type": "execute_result"
    }
   ],
   "source": [
    "solₑₓⁿᵉʷ, best_methodₑₓⁿᵉʷ = LiPoSID.sos_min_newton(objₑₓ) "
   ]
  },
  {
   "cell_type": "code",
   "execution_count": 22,
   "metadata": {},
   "outputs": [
    {
     "data": {
      "text/plain": [
       "\"tssos\""
      ]
     },
     "execution_count": 22,
     "metadata": {},
     "output_type": "execute_result"
    }
   ],
   "source": [
    "best_methodₑₓⁿᵉʷ"
   ]
  },
  {
   "cell_type": "code",
   "execution_count": 33,
   "metadata": {},
   "outputs": [
    {
     "data": {
      "text/plain": [
       "2×2 Matrix{Polynomial{true, ComplexF64}}:\n",
       " (25.1261+0.0im)             (0.000146548-0.00019719im)\n",
       " (0.000146548+0.00019719im)  0.0+0.0im"
      ]
     },
     "execution_count": 33,
     "metadata": {},
     "output_type": "execute_result"
    }
   ],
   "source": [
    "Hˢⁱᵈₑₓ = subs(Hˢʸᵐᵇ, solₑₓⁿᵉʷ)"
   ]
  },
  {
   "cell_type": "code",
   "execution_count": 34,
   "metadata": {},
   "outputs": [
    {
     "data": {
      "text/plain": [
       "2×2 Matrix{Polynomial{true, ComplexF64}}:\n",
       " (25.1261+0.0im)             (0.000146548-0.00019719im)\n",
       " (0.000146548+0.00019719im)  0.0+0.0im"
      ]
     },
     "execution_count": 34,
     "metadata": {},
     "output_type": "execute_result"
    }
   ],
   "source": [
    "Hˢⁱᵈₑₓ = subs(Hˢʸᵐᵇ, solₑₓⁿᵉʷ)"
   ]
  },
  {
   "cell_type": "code",
   "execution_count": 35,
   "metadata": {},
   "outputs": [
    {
     "data": {
      "text/plain": [
       "2×2 Matrix{Polynomial{true, ComplexF64}}:\n",
       " (-0.000305886-0.0im)     (0.281572+0.062873im)\n",
       " (0.0801981+0.0235168im)  (0.000305886-0.0im)"
      ]
     },
     "execution_count": 35,
     "metadata": {},
     "output_type": "execute_result"
    }
   ],
   "source": [
    "Aˢⁱᵈₑₓ = subs(Aˢʸᵐᵇ, solₑₓⁿᵉʷ)"
   ]
  },
  {
   "cell_type": "code",
   "execution_count": 19,
   "metadata": {},
   "outputs": [
    {
     "data": {
      "text/plain": [
       "2×2 Matrix{Polynomial{true, ComplexF64}}:\n",
       " (-0.000168331-0.000160678im)  (1.25496+1.34579im)\n",
       " (0.262725+0.321183im)         (0.000168331+0.000160678im)"
      ]
     },
     "execution_count": 19,
     "metadata": {},
     "output_type": "execute_result"
    }
   ],
   "source": [
    "Aˢⁱᵈₑₓ = subs(Aˢʸᵐᵇ, solₑₓⁿᵉʷ)"
   ]
  },
  {
   "cell_type": "code",
   "execution_count": 29,
   "metadata": {},
   "outputs": [
    {
     "data": {
      "text/latex": [
       "$$ -0.0032235046707173353 $$"
      ],
      "text/plain": [
       "-0.0032235046707173353"
      ]
     },
     "execution_count": 29,
     "metadata": {},
     "output_type": "execute_result"
    }
   ],
   "source": [
    "gˢⁱᵈₑₓ = subs(g, solₑₓⁿᵉʷ)"
   ]
  },
  {
   "cell_type": "code",
   "execution_count": 20,
   "metadata": {},
   "outputs": [
    {
     "data": {
      "text/latex": [
       "$$ 0.025182480044274872 $$"
      ],
      "text/plain": [
       "0.025182480044274872"
      ]
     },
     "execution_count": 20,
     "metadata": {},
     "output_type": "execute_result"
    }
   ],
   "source": [
    "gˢⁱᵈₑₓ = subs(g, solₑₓⁿᵉʷ)"
   ]
  },
  {
   "cell_type": "code",
   "execution_count": 23,
   "metadata": {},
   "outputs": [
    {
     "name": "stdout",
     "output_type": "stream",
     "text": [
      "*********************************** TSSOS ***********************************\n",
      "Version 1.0.0, developed by Jie Wang, 2020--2023\n",
      "TSSOS is launching...\n",
      " TSSOS failed\n",
      "*********************************** TSSOS ***********************************\n",
      "Version 1.0.0, developed by Jie Wang, 2020--2023\n",
      "TSSOS is launching...\n",
      "Scaled TSSOS failed\n",
      "All methods fail !!!"
     ]
    },
    {
     "ename": "LoadError",
     "evalue": "UndefVarError: start_time not defined",
     "output_type": "error",
     "traceback": [
      "UndefVarError: start_time not defined",
      "",
      "Stacktrace:",
      " [1] top-level scope",
      "   @ In[23]:7",
      " [2] eval",
      "   @ .\\boot.jl:373 [inlined]",
      " [3] include_string(mapexpr::typeof(REPL.softscope), mod::Module, code::String, filename::String)",
      "   @ Base .\\loading.jl:1196"
     ]
    }
   ],
   "source": [
    "α = 0.001 #regularization coefficient\n",
    "\n",
    "robjₑₓ += α * (sum(a.^2)+sum(b.^2)) #adding regularization\n",
    "\n",
    "rsolₑₓⁿᵉʷ, best_methodₑₓⁿᵉʷ = LiPoSID.sos_min_newton(robjₑₓ) \n",
    "\n",
    "Hˢⁱᵈₑₓ = subs(Hˢʸᵐᵇ, rsolₑₓⁿᵉʷ)\n",
    "Aˢⁱᵈₑₓ = subs(Aˢʸᵐᵇ, rsolₑₓⁿᵉʷ)\n",
    "\n",
    "gˢⁱᵈₑₓ = subs(g, rsolₑₓⁿᵉʷ)"
   ]
  },
  {
   "cell_type": "code",
   "execution_count": null,
   "metadata": {},
   "outputs": [],
   "source": []
  }
 ],
 "metadata": {
  "@webio": {
   "lastCommId": null,
   "lastKernelId": null
  },
  "kernelspec": {
   "display_name": "Julia 1.7.3",
   "language": "julia",
   "name": "julia-1.7"
  },
  "language_info": {
   "file_extension": ".jl",
   "mimetype": "application/julia",
   "name": "julia",
   "version": "1.7.3"
  }
 },
 "nbformat": 4,
 "nbformat_minor": 5
}
