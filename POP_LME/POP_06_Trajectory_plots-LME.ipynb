{
 "cells": [
  {
   "cell_type": "code",
   "execution_count": 1,
   "id": "b74ee684",
   "metadata": {},
   "outputs": [
    {
     "ename": "LoadError",
     "evalue": "ArgumentError: Package PlotlyJS not found in current path.\n- Run `import Pkg; Pkg.add(\"PlotlyJS\")` to install the PlotlyJS package.",
     "output_type": "error",
     "traceback": [
      "ArgumentError: Package PlotlyJS not found in current path.\n- Run `import Pkg; Pkg.add(\"PlotlyJS\")` to install the PlotlyJS package.",
      "",
      "Stacktrace:",
      "  [1] macro expansion",
      "    @ ./loading.jl:1630 [inlined]",
      "  [2] macro expansion",
      "    @ ./lock.jl:267 [inlined]",
      "  [3] require(into::Module, mod::Symbol)",
      "    @ Base ./loading.jl:1611",
      "  [4] top-level scope",
      "    @ ~/.julia/packages/Plots/sxUvK/src/backends.jl:402",
      "  [5] eval",
      "    @ ./boot.jl:370 [inlined]",
      "  [6] _initialize_backend(pkg::Plots.PlotlyJSBackend)",
      "    @ Plots ~/.julia/packages/Plots/sxUvK/src/backends.jl:401",
      "  [7] backend",
      "    @ ~/.julia/packages/Plots/sxUvK/src/backends.jl:266 [inlined]",
      "  [8] plotlyjs(; kw::Base.Pairs{Symbol, Union{}, Tuple{}, NamedTuple{(), Tuple{}}})",
      "    @ Plots ~/.julia/packages/Plots/sxUvK/src/backends.jl:87",
      "  [9] plotlyjs()",
      "    @ Plots ~/.julia/packages/Plots/sxUvK/src/backends.jl:87",
      " [10] top-level scope",
      "    @ In[1]:3"
     ]
    }
   ],
   "source": [
    "include(\"LiPoSID.jl\")\n",
    "using Plots\n",
    "Plots.plotlyjs()\n",
    "\n",
    "using QuantumOptics\n",
    "basis = NLevelBasis(2)"
   ]
  },
  {
   "cell_type": "code",
   "execution_count": 2,
   "id": "908eba2a",
   "metadata": {},
   "outputs": [
    {
     "data": {
      "text/plain": [
       "xyz (generic function with 1 method)"
      ]
     },
     "execution_count": 2,
     "metadata": {},
     "output_type": "execute_result"
    }
   ],
   "source": [
    "function xyz(b)\n",
    "    x = b[1, :]\n",
    "    y = b[2, :]\n",
    "    z = b[3, :]\n",
    "    return x,y,z\n",
    "end"
   ]
  },
  {
   "cell_type": "code",
   "execution_count": 3,
   "id": "00beeb8b",
   "metadata": {},
   "outputs": [
    {
     "data": {
      "text/plain": [
       "\"0.079477\""
      ]
     },
     "execution_count": 3,
     "metadata": {},
     "output_type": "execute_result"
    }
   ],
   "source": [
    "γ = \"0.079477\""
   ]
  },
  {
   "cell_type": "code",
   "execution_count": 4,
   "id": "4eb20286",
   "metadata": {},
   "outputs": [
    {
     "ename": "LoadError",
     "evalue": "UndefVarError: `basis` not defined",
     "output_type": "error",
     "traceback": [
      "UndefVarError: `basis` not defined",
      "",
      "Stacktrace:",
      " [1] top-level scope",
      "   @ In[4]:5"
     ]
    }
   ],
   "source": [
    "ρ, t = LiPoSID.get_rho_series(\"DATA/State_B3_2CUT_data.h5\", γ)\n",
    "b = LiPoSID.bloch(ρ)\n",
    "t_steps = length(ρ)\n",
    "t = convert(Vector{Float64}, t)\n",
    "ρ₀ = DenseOperator(basis,ρ[1])"
   ]
  },
  {
   "cell_type": "code",
   "execution_count": 5,
   "id": "7d793b00",
   "metadata": {},
   "outputs": [],
   "source": [
    "using HDF5"
   ]
  },
  {
   "cell_type": "code",
   "execution_count": 6,
   "id": "4039cc44",
   "metadata": {},
   "outputs": [
    {
     "data": {
      "text/plain": [
       "get_by_name (generic function with 1 method)"
      ]
     },
     "execution_count": 6,
     "metadata": {},
     "output_type": "execute_result"
    }
   ],
   "source": [
    "function get_by_name(file_name, gamma, operator_name)\n",
    "    h5open(file_name,\"r\") do fid # read file, preserve existing contents\n",
    "        operator = read(fid[\"gamma_\"*gamma][operator_name])\n",
    "        return(operator)\n",
    "    end\n",
    "end\n"
   ]
  },
  {
   "cell_type": "code",
   "execution_count": 7,
   "id": "5f3b2a3f",
   "metadata": {},
   "outputs": [
    {
     "ename": "LoadError",
     "evalue": "unable to determine if /home/zah/POP23/MODELS/POP_NoRmLME_trn4_gap_fix-Phi-up_2023-Aug-07_at_16-29.h5 is accessible in the HDF5 format (file may not exist)",
     "output_type": "error",
     "traceback": [
      "unable to determine if /home/zah/POP23/MODELS/POP_NoRmLME_trn4_gap_fix-Phi-up_2023-Aug-07_at_16-29.h5 is accessible in the HDF5 format (file may not exist)",
      "",
      "Stacktrace:",
      " [1] error(s::String)",
      "   @ Base ./error.jl:35",
      " [2] h5open(filename::String, mode::String, fapl::HDF5.FileAccessProperties, fcpl::HDF5.FileCreateProperties; swmr::Bool)",
      "   @ HDF5 ~/.julia/packages/HDF5/MIuzl/src/file.jl:45",
      " [3] h5open",
      "   @ ~/.julia/packages/HDF5/MIuzl/src/file.jl:20 [inlined]",
      " [4] h5open(filename::String, mode::String; swmr::Bool, fapl::HDF5.FileAccessProperties, fcpl::HDF5.FileCreateProperties, pv::Base.Pairs{Symbol, Union{}, Tuple{}, NamedTuple{(), Tuple{}}})",
      "   @ HDF5 ~/.julia/packages/HDF5/MIuzl/src/file.jl:72",
      " [5] h5open(filename::String, mode::String)",
      "   @ HDF5 ~/.julia/packages/HDF5/MIuzl/src/file.jl:60",
      " [6] #h5open#16",
      "   @ ~/.julia/packages/HDF5/MIuzl/src/file.jl:92 [inlined]",
      " [7] h5open",
      "   @ ~/.julia/packages/HDF5/MIuzl/src/file.jl:91 [inlined]",
      " [8] get_by_name(file_name::String, gamma::String, operator_name::String)",
      "   @ Main ./In[6]:2",
      " [9] top-level scope",
      "   @ In[7]:6"
     ]
    }
   ],
   "source": [
    "dir = \"/home/zah/POP23/MODELS/\"\n",
    "\n",
    "models_file = \"POP_NoRmLME_trn4_gap_fix-Phi-up_2023-Aug-07_at_16-29.h5\"\n",
    "\n",
    "\n",
    "A = get_by_name(dir*models_file, γ, \"A_lme\")\n",
    "H = get_by_name(dir*models_file, γ, \"H_lme\")\n",
    "\n",
    "\n",
    "tᴸᴹᴱ, ρᴸᴹᴱ = timeevolution.master(t, ρ₀, DenseOperator(basis,H), [DenseOperator(basis,A)])\n",
    "ρᴸᴹᴱ = [convert(Matrix{ComplexF64}, ρᵢ.data) for ρᵢ in ρᴸᴹᴱ]\n",
    "bᴸᴹᴱ = LiPoSID.bloch(ρᴸᴹᴱ);\n"
   ]
  },
  {
   "cell_type": "code",
   "execution_count": 8,
   "id": "4627192e",
   "metadata": {},
   "outputs": [
    {
     "ename": "LoadError",
     "evalue": "unable to determine if /home/zah/POP23/MODELS/POP_NoRmLME_trn4_gap_fix-Phi-up_2023-Aug-07_at_16-29.h5 is accessible in the HDF5 format (file may not exist)",
     "output_type": "error",
     "traceback": [
      "unable to determine if /home/zah/POP23/MODELS/POP_NoRmLME_trn4_gap_fix-Phi-up_2023-Aug-07_at_16-29.h5 is accessible in the HDF5 format (file may not exist)",
      "",
      "Stacktrace:",
      " [1] error(s::String)",
      "   @ Base ./error.jl:35",
      " [2] h5open(filename::String, mode::String, fapl::HDF5.FileAccessProperties, fcpl::HDF5.FileCreateProperties; swmr::Bool)",
      "   @ HDF5 ~/.julia/packages/HDF5/MIuzl/src/file.jl:45",
      " [3] h5open",
      "   @ ~/.julia/packages/HDF5/MIuzl/src/file.jl:20 [inlined]",
      " [4] h5open(filename::String, mode::String; swmr::Bool, fapl::HDF5.FileAccessProperties, fcpl::HDF5.FileCreateProperties, pv::Base.Pairs{Symbol, Union{}, Tuple{}, NamedTuple{(), Tuple{}}})",
      "   @ HDF5 ~/.julia/packages/HDF5/MIuzl/src/file.jl:72",
      " [5] h5open(filename::String, mode::String)",
      "   @ HDF5 ~/.julia/packages/HDF5/MIuzl/src/file.jl:60",
      " [6] #h5open#16",
      "   @ ~/.julia/packages/HDF5/MIuzl/src/file.jl:92 [inlined]",
      " [7] h5open",
      "   @ ~/.julia/packages/HDF5/MIuzl/src/file.jl:91 [inlined]",
      " [8] get_by_name(file_name::String, gamma::String, operator_name::String)",
      "   @ Main ./In[6]:2",
      " [9] top-level scope",
      "   @ In[8]:6"
     ]
    }
   ],
   "source": [
    "dir = \"/home/zah/POP23/MODELS/\"\n",
    "\n",
    "models_file = \"POP_NoRmLME_trn4_gap_fix-Phi-up_2023-Aug-07_at_16-29.h5\"\n",
    "\n",
    "\n",
    "A = get_by_name(dir*models_file, γ, \"A_sid_lme\")\n",
    "H = get_by_name(dir*models_file, γ, \"H_sid_lme\")\n",
    "\n",
    "\n",
    "tᵖᵒᵖ, ρᵖᵒᵖ = timeevolution.master(t, ρ₀, DenseOperator(basis,H), [DenseOperator(basis,A)])\n",
    "ρᵖᵒᵖ = [convert(Matrix{ComplexF64}, ρᵢ.data) for ρᵢ in ρᵖᵒᵖ]\n",
    "bᵖᵒᵖ = LiPoSID.bloch(ρᵖᵒᵖ);\n"
   ]
  },
  {
   "cell_type": "code",
   "execution_count": 9,
   "id": "801799a3",
   "metadata": {},
   "outputs": [
    {
     "ename": "LoadError",
     "evalue": "unable to determine if /home/zah/POP23/MODELS/POP_RmLME_trn4_gap_fix-Phi-up_2023-Aug-07_at_19-32.h5 is accessible in the HDF5 format (file may not exist)",
     "output_type": "error",
     "traceback": [
      "unable to determine if /home/zah/POP23/MODELS/POP_RmLME_trn4_gap_fix-Phi-up_2023-Aug-07_at_19-32.h5 is accessible in the HDF5 format (file may not exist)",
      "",
      "Stacktrace:",
      " [1] error(s::String)",
      "   @ Base ./error.jl:35",
      " [2] h5open(filename::String, mode::String, fapl::HDF5.FileAccessProperties, fcpl::HDF5.FileCreateProperties; swmr::Bool)",
      "   @ HDF5 ~/.julia/packages/HDF5/MIuzl/src/file.jl:45",
      " [3] h5open",
      "   @ ~/.julia/packages/HDF5/MIuzl/src/file.jl:20 [inlined]",
      " [4] h5open(filename::String, mode::String; swmr::Bool, fapl::HDF5.FileAccessProperties, fcpl::HDF5.FileCreateProperties, pv::Base.Pairs{Symbol, Union{}, Tuple{}, NamedTuple{(), Tuple{}}})",
      "   @ HDF5 ~/.julia/packages/HDF5/MIuzl/src/file.jl:72",
      " [5] h5open(filename::String, mode::String)",
      "   @ HDF5 ~/.julia/packages/HDF5/MIuzl/src/file.jl:60",
      " [6] #h5open#16",
      "   @ ~/.julia/packages/HDF5/MIuzl/src/file.jl:92 [inlined]",
      " [7] h5open",
      "   @ ~/.julia/packages/HDF5/MIuzl/src/file.jl:91 [inlined]",
      " [8] get_by_name(file_name::String, gamma::String, operator_name::String)",
      "   @ Main ./In[6]:2",
      " [9] top-level scope",
      "   @ In[9]:3"
     ]
    }
   ],
   "source": [
    "models_file = \"POP_RmLME_trn4_gap_fix-Phi-up_2023-Aug-07_at_19-32.h5\"\n",
    "\n",
    "Aᴿᴹ = get_by_name(dir*models_file, γ, \"A_sid_lme\")\n",
    "Hᴿᴹ = get_by_name(dir*models_file, γ, \"H_sid_lme\")\n",
    "\n",
    "tᴿᴹ, ρᴿᴹ = timeevolution.master(t, ρ₀, DenseOperator(basis,Hᴿᴹ), [DenseOperator(basis,Aᴿᴹ)])\n",
    "ρᴿᴹ = [convert(Matrix{ComplexF64}, ρᵢ.data) for ρᵢ in ρᴿᴹ];\n",
    "bᴿᴹ = LiPoSID.bloch(ρᴿᴹ);"
   ]
  },
  {
   "cell_type": "code",
   "execution_count": 10,
   "id": "058fc010",
   "metadata": {},
   "outputs": [
    {
     "ename": "LoadError",
     "evalue": "UndefVarError: `bᵖᵒᵖ` not defined",
     "output_type": "error",
     "traceback": [
      "UndefVarError: `bᵖᵒᵖ` not defined",
      "",
      "Stacktrace:",
      " [1] top-level scope",
      "   @ In[10]:2"
     ]
    }
   ],
   "source": [
    "plt = Plots.plot(xyz(b), label = \"Exact LME\")\n",
    "plt = Plots.plot!(xyz(bᵖᵒᵖ), label = \"POP (all coefs)\")\n",
    "plt = Plots.plot!(xyz(bᴿᴹ), label = \"POP (small coefs removed)\")"
   ]
  },
  {
   "cell_type": "code",
   "execution_count": null,
   "id": "ff4fa2bc",
   "metadata": {},
   "outputs": [],
   "source": []
  }
 ],
 "metadata": {
  "kernelspec": {
   "display_name": "Julia 1.9.2",
   "language": "julia",
   "name": "julia-1.9"
  },
  "language_info": {
   "file_extension": ".jl",
   "mimetype": "application/julia",
   "name": "julia",
   "version": "1.9.2"
  }
 },
 "nbformat": 4,
 "nbformat_minor": 5
}
