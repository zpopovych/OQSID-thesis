{
 "cells": [
  {
   "cell_type": "markdown",
   "id": "5d6cdbd4",
   "metadata": {},
   "source": [
    "### Full POP model works"
   ]
  },
  {
   "cell_type": "code",
   "execution_count": 1,
   "id": "6c18b684",
   "metadata": {},
   "outputs": [],
   "source": [
    "include(\"../LiPoSID.jl\")\n",
    "using QuantumOptics\n",
    "basis = NLevelBasis(2)\n",
    "using DynamicPolynomials\n",
    "using LinearAlgebra\n",
    "using Dates\n",
    "using HDF5\n",
    "using TSSOS"
   ]
  },
  {
   "cell_type": "markdown",
   "id": "510f5e47",
   "metadata": {},
   "source": [
    "Consider simple Lindblad master equation with just one dissipator:\n",
    "\n",
    "$m\n",
    "     \\frac{d\\rho}{dt} = - \\frac{i}{\\hbar}[H, \\rho]+\\gamma\\left[J \\rho J^\\dagger - \\frac{1}{2}\\left\\{ J^\\dagger J, \\rho \\right\\} \\right]\n",
    "$,\n",
    "\n",
    "where Hamiltonian is hermitian with one of the diagonal elemnets set to zero\n",
    "\n",
    "\n",
    "$\n",
    "    H = \\begin{pmatrix} e_1 & h_1 - i h_2 \\\\ h_1 + i h_2 & 0\n",
    "   \\end{pmatrix}\n",
    "$\n",
    "\n",
    " withot loss of generality we can possibly look for jump operator of the form:\n",
    "\n",
    "$\n",
    "J = \\begin{pmatrix} a_{11} + i b_{11} & a_{12} \\\\ a_{21} + i b_{21} & -a_{11} - i b_{11} \n",
    "   \\end{pmatrix} \n",
    "$\n",
    "\n",
    "or with some additional assumptions\n",
    "\n",
    "$\n",
    "J = \\begin{pmatrix} a_{11} & a_{12} + i b_{12}  \\\\ a_{21} + i b_{21} & -a_{11}\n",
    "   \\end{pmatrix} \n",
    "$\n",
    "\n",
    "or assuming zero temperature \n",
    "\n",
    "$\n",
    "J = \\begin{pmatrix} a_{11} + i b_{11} & a_{12}   \\\\ 0 & -a_{11} - i b_{11}\n",
    "   \\end{pmatrix} \n",
    "$"
   ]
  },
  {
   "cell_type": "code",
   "execution_count": 2,
   "id": "9c14425d",
   "metadata": {},
   "outputs": [
    {
     "data": {
      "text/plain": [
       "2×2 Matrix{Polynomial{true, ComplexF64}}:\n",
       " e₁                  h₁ + (0.0-1.0im)h₂\n",
       " h₁ + (0.0+1.0im)h₂  0.0+0.0im"
      ]
     },
     "metadata": {},
     "output_type": "display_data"
    }
   ],
   "source": [
    "@polyvar e[1]\n",
    "@polyvar h[1:2]\n",
    "\n",
    "\n",
    "Hˢʸᵐᵇ = [ e[1]               h[1] - im*h[2]\n",
    "          h[1] + im*h[2]     0.             ]"
   ]
  },
  {
   "cell_type": "code",
   "execution_count": 3,
   "id": "52616eb7",
   "metadata": {},
   "outputs": [
    {
     "data": {
      "text/plain": [
       "2×2 Matrix{Polynomial{true, Complex{Int64}}}:\n",
       " a₁ + (0+1im)b₁  a₂\n",
       " a₃ + (0+1im)b₃  -a₁ + (0-1im)b₁"
      ]
     },
     "metadata": {},
     "output_type": "display_data"
    }
   ],
   "source": [
    "method = \"fix-Phi-up_\"\n",
    "\n",
    "@polyvar a[1:4]\n",
    "@polyvar b[1:4]\n",
    "\n",
    "\n",
    "Jˢʸᵐᵇ = [ a[1]+im*b[1]      a[2]\n",
    "          a[3] + im*b[3]   -a[1]-im*b[1] ]\n"
   ]
  },
  {
   "cell_type": "code",
   "execution_count": 4,
   "id": "1311d068",
   "metadata": {},
   "outputs": [
    {
     "name": "stdout",
     "output_type": "stream",
     "text": [
      "../DATA/\n"
     ]
    }
   ],
   "source": [
    "data_dir = \"../DATA/\"\n",
    "println(data_dir)\n",
    "\n",
    "models_dir = \"../MODELS/\"\n",
    "tests_dir = \"../TESTS/\"\n",
    "\n",
    "dodeca_files = [\"State_D\"*string(n) for n=1:20];\n",
    "\n",
    "basis_files = [\"State_B\"*string(n) for n=1:4];"
   ]
  },
  {
   "cell_type": "code",
   "execution_count": 5,
   "id": "8e47e0a7",
   "metadata": {},
   "outputs": [],
   "source": [
    "all_files = vcat(dodeca_files, basis_files)\n",
    "train_files = basis_files \n",
    "test_files = dodeca_files;"
   ]
  },
  {
   "cell_type": "code",
   "execution_count": 11,
   "id": "dd387ff5",
   "metadata": {},
   "outputs": [
    {
     "data": {
      "text/plain": [
       "local_rand_min (generic function with 1 method)"
      ]
     },
     "metadata": {},
     "output_type": "display_data"
    }
   ],
   "source": [
    "function scaling_poly(p::Polynomial)\n",
    "\n",
    "    X = transpose(hcat([exponents(t) for t in terms(p)]...))\n",
    "\n",
    "    # Get the scaling via linear regression\n",
    "    scaling = X \\ log.(abs.(coefficients(p)))\n",
    "\n",
    "    exp.(abs.(scaling)) # \n",
    "end\n",
    "\n",
    "\n",
    "function tssos_min(p)\n",
    "    \n",
    "    ################################################################################################\n",
    "    #\n",
    "    #   Try TSSOS on polynomial with scaled variables\n",
    "    #\n",
    "    ################################################################################################\n",
    "\n",
    "    pd = p #/ maximum(abs.(coefficients(p)))\n",
    "\n",
    "    # minimize\n",
    "    # minimizer_scaled_tssos = nothing\n",
    "\n",
    "    try\n",
    "        opt,sol,data = tssos_first(pd, variables(pd), QUIET=true, solution=true, newton=true);\n",
    "        previous_sol = sol\n",
    "\n",
    "        while ~isnothing(sol)\n",
    "            previous_sol = sol\n",
    "            opt,sol,data = tssos_higher!(data; QUIET=true, solution=true);\n",
    "        end\n",
    "\n",
    "        global minimizer_tssos = previous_sol\n",
    "    \n",
    "    catch\n",
    "        println(\"Scaled TSSOS failed\")\n",
    "        global minimizer_scaled_tssos = nothing\n",
    "\n",
    "    end\n",
    "\n",
    "    best_solution = variables(p) => minimizer_tssos\n",
    "\n",
    "end\n",
    "\n",
    "import Base.real\n",
    "\n",
    "function coef_range(obj)\n",
    "    maximum(abs.(coefficients(obj)))/minimum(abs.(coefficients(obj)))\n",
    "end\n",
    "\n",
    "using Optim\n",
    "using Random\n",
    "\n",
    "function local_rand_min(p)\n",
    "\n",
    "    pd = p / maximum(abs.(coefficients(p)))\n",
    "\n",
    "    # find variable scaling\n",
    "    scale = scaling_poly(pd)\n",
    "\n",
    "    # scale the polynomial\n",
    "    p_scaled = subs(pd, variables(pd) => scale .* variables(pd))\n",
    "\n",
    "    num_iterations = 100\n",
    "\n",
    "    # Initialize the best minimizer and the minimum value\n",
    "    best_minimizer = nothing\n",
    "    best_min_value = Inf\n",
    "\n",
    "    num_of_variables = length(variables(pd))\n",
    "\n",
    "    for _ in 1:num_iterations\n",
    "        # Generate a random initial condition\n",
    "        initial_point = rand(num_of_variables).*250\n",
    "\n",
    "        # Run local optimization\n",
    "        result = Optim.optimize(p_scaled, initial_point, BFGS())\n",
    "        #println(Optim.minimum(result))\n",
    "\n",
    "        # Update the best minimizer if a better one is found\n",
    "        if Optim.minimum(result) < best_min_value\n",
    "            \n",
    "            best_minimizer = Optim.minimizer(result)\n",
    "            best_min_value = Optim.minimum(result)\n",
    "            \n",
    "        end\n",
    "\n",
    "    end\n",
    "\n",
    "    minimizer_scaled = scale .* best_minimizer\n",
    "\n",
    "    solution = variables(p_scaled) => minimizer_scaled\n",
    "\n",
    "end\n"
   ]
  },
  {
   "cell_type": "markdown",
   "id": "24649a67",
   "metadata": {},
   "source": [
    "### Train models loop"
   ]
  },
  {
   "cell_type": "code",
   "execution_count": 15,
   "id": "3450fbb0",
   "metadata": {},
   "outputs": [
    {
     "name": "stdout",
     "output_type": "stream",
     "text": [
      "POP_LME_tssos_vs_random_fix-Phi-up_2024-Jan-09_at_14-34.h5\n",
      "---------------\n",
      "gamma = 0.079477\n",
      "-------------------------------------------"
     ]
    },
    {
     "name": "stdout",
     "output_type": "stream",
     "text": [
      "\n",
      " POP on ansatz LME simulation\n",
      "*********************************** TSSOS ***********************************\n",
      "Version 1.0.0, developed by Jie Wang, 2020--2023\n",
      "TSSOS is launching...\n",
      "optimum = 9.502233422981925e-8\n",
      "Found a locally optimal solution by Ipopt, giving an upper bound: 0.01048907.\n",
      "The relative optimality gap is: 1.048897%.\n",
      "No higher TS step of the TSSOS hierarchy!\n"
     ]
    },
    {
     "name": "stdout",
     "output_type": "stream",
     "text": [
      "-------------------------------------------\n",
      " simulated LME random local overfitting\n",
      " POP on ansatz EXACT Kurt data \n",
      "*********************************** TSSOS ***********************************\n",
      "Version 1.0.0, developed by Jie Wang, 2020--2023\n",
      "TSSOS is launching...\n",
      "optimum = 0.0005153423032621579\n",
      "Global optimality certified with relative optimality gap 0.000001%!\n",
      "No higher TS step of the TSSOS hierarchy!\n",
      " Exact data random local overfitting"
     ]
    },
    {
     "name": "stdout",
     "output_type": "stream",
     "text": [
      "\n",
      "STATE    F_LME_vs_SB    F_rnd_vs_LME    F_rnd_vs_sb    F_tssos_vs_LME    F_tssos_vs_SB"
     ]
    },
    {
     "name": "stdout",
     "output_type": "stream",
     "text": [
      "\n",
      "State_D1 "
     ]
    },
    {
     "name": "stdout",
     "output_type": "stream",
     "text": [
      "0.99935352098184360.99940274233568760.9892250440742990.94569495861981830.9892250209009746 \n",
      "State_D2 "
     ]
    },
    {
     "name": "stdout",
     "output_type": "stream",
     "text": [
      "0.99935681686810120.99940646759173650.98928018506477990.94669461416503530.9892801620323863 \n",
      "State_D3 "
     ]
    },
    {
     "name": "stdout",
     "output_type": "stream",
     "text": [
      "0.99935661462659840.99940274047643250.99845230595384780.64525105157766950.9984523036931697 \n",
      "State_D4 "
     ]
    },
    {
     "name": "stdout",
     "output_type": "stream",
     "text": [
      "0.99935836191061840.99940646571167990.99844795321713380.64938068461848150.9984479509887201 \n",
      "State_D5 "
     ]
    },
    {
     "name": "stdout",
     "output_type": "stream",
     "text": [
      "0.99916672493198420.99922069616394540.99240668918890680.90882260782670770.9924066722373649 \n",
      "State_D6 "
     ]
    },
    {
     "name": "stdout",
     "output_type": "stream",
     "text": [
      "0.99916671038342360.99922069620792590.99240661164412950.90882306625300190.9924065946920604 \n",
      "State_D7 "
     ]
    },
    {
     "name": "stdout",
     "output_type": "stream",
     "text": [
      "0.99902949097376140.99910477914906640.99566866753864280.82988244400801860.9956686582811337 \n",
      "State_D8 "
     ]
    },
    {
     "name": "stdout",
     "output_type": "stream",
     "text": [
      "0.9990308165189910.99910850552459520.99566933886055760.83267029024168760.9956693296404852 \n",
      "State_D9 "
     ]
    },
    {
     "name": "stdout",
     "output_type": "stream",
     "text": [
      "0.99984294340485650.99988629643033090.9824891173513740.99278360154381080.9824890843829596 \n",
      "State_D10 "
     ]
    },
    {
     "name": "stdout",
     "output_type": "stream",
     "text": [
      "0.99987599922945140.99988629341559340.99958522438613220.466308696584078360.9995852241610957 \n",
      "State_D11 "
     ]
    },
    {
     "name": "stdout",
     "output_type": "stream",
     "text": [
      "0.99935660567498670.99940274053576480.99845236335913290.64524920720381550.9984523610998876 \n",
      "State_D12 "
     ]
    },
    {
     "name": "stdout",
     "output_type": "stream",
     "text": [
      "0.99935835884280980.99940646578263360.99844808258545650.64937822023290670.9984480803572511 \n",
      "State_D13 "
     ]
    },
    {
     "name": "stdout",
     "output_type": "stream",
     "text": [
      "0.99935347663433920.99940274239777390.98922576268857520.94569417584725080.9892257395186308 \n",
      "State_D14 "
     ]
    },
    {
     "name": "stdout",
     "output_type": "stream",
     "text": [
      "0.99935679644614860.99940646757073550.98928028004752390.94669326207510770.9892802570162794 \n",
      "State_D15 "
     ]
    },
    {
     "name": "stdout",
     "output_type": "stream",
     "text": [
      "0.99916730532159080.99922069503498270.99759473527943590.72892482823311160.9975947310379532 \n",
      "State_D16 "
     ]
    },
    {
     "name": "stdout",
     "output_type": "stream",
     "text": [
      "0.99916726653004060.99922069504204370.99759488085426920.72892434527737190.9975948766131759 \n",
      "State_D17 "
     ]
    },
    {
     "name": "stdout",
     "output_type": "stream",
     "text": [
      "0.99902947501450210.99910477921502920.99566876762697550.82988027641512390.9956687583714223 \n",
      "State_D18 "
     ]
    },
    {
     "name": "stdout",
     "output_type": "stream",
     "text": [
      "0.9990308116015370.99910850546620440.99566929606363330.83267280321468310.9956692868425967 \n",
      "State_D19 "
     ]
    },
    {
     "name": "stdout",
     "output_type": "stream",
     "text": [
      "0.9998760039846450.9998862934598920.99958527455606780.466306689618253330.999585274331258 \n",
      "State_D20 "
     ]
    },
    {
     "name": "stdout",
     "output_type": "stream",
     "text": [
      "0.99984292059548930.99988629643523330.98248941803270270.99278304641864980.9824893850649048 \n",
      "\n",
      "\n",
      "---------------\n",
      "gamma = 0.25133\n"
     ]
    },
    {
     "name": "stdout",
     "output_type": "stream",
     "text": [
      "-------------------------------------------\n",
      " POP on ansatz LME simulation\n",
      "*********************************** TSSOS ***********************************\n",
      "Version 1.0.0, developed by Jie Wang, 2020--2023\n",
      "TSSOS is launching...\n",
      "optimum = 1.429277279526101e-7\n",
      "Global optimality certified with relative optimality gap 0.000014%!\n",
      "No higher TS step of the TSSOS hierarchy!\n",
      "-------------------------------------------"
     ]
    },
    {
     "name": "stdout",
     "output_type": "stream",
     "text": [
      "\n",
      " simulated LME random local overfitting\n",
      " POP on ansatz EXACT Kurt data \n",
      "*********************************** TSSOS ***********************************\n",
      "Version 1.0.0, developed by Jie Wang, 2020--2023\n",
      "TSSOS is launching...\n",
      "optimum = 0.0005623044955168816\n",
      "Global optimality certified with relative optimality gap 0.000010%!\n",
      "No higher TS step of the TSSOS hierarchy!\n"
     ]
    },
    {
     "name": "stdout",
     "output_type": "stream",
     "text": [
      " Exact data random local overfitting\n",
      "STATE    F_LME_vs_SB    F_rnd_vs_LME    F_rnd_vs_sb    F_tssos_vs_LME    F_tssos_vs_SB\n",
      "State_D1 0.999551520615855"
     ]
    },
    {
     "name": "stdout",
     "output_type": "stream",
     "text": [
      "0.99999999169095040.98263521290939070.99999999168235250.9826351993940214 \n",
      "State_D2 0.9995635653029205"
     ]
    },
    {
     "name": "stdout",
     "output_type": "stream",
     "text": [
      "0.9999999918441440.98261452538496790.99999999183578920.9826145118622397 \n",
      "State_D3 0.999832723993789"
     ]
    },
    {
     "name": "stdout",
     "output_type": "stream",
     "text": [
      "0.99999999169069630.98504673031424980.99999999168205110.9850467179989381 \n",
      "State_D4 0.9998290175308276"
     ]
    },
    {
     "name": "stdout",
     "output_type": "stream",
     "text": [
      "0.99999999184394260.98501717367042340.99999999183550960.9850171613435944 \n",
      "State_D5 0.9996426859599887"
     ]
    },
    {
     "name": "stdout",
     "output_type": "stream",
     "text": [
      "0.99999998924692370.98292083081917350.99999998923586440.9829208174358322 \n",
      "State_D6 0.9996430642834532"
     ]
    },
    {
     "name": "stdout",
     "output_type": "stream",
     "text": [
      "0.99999998924691990.98292232255553390.99999998923588910.9829223091728599 \n",
      "State_D7 0.9997360126916188"
     ]
    },
    {
     "name": "stdout",
     "output_type": "stream",
     "text": [
      "0.9999999875547330.98362466990613480.99999998754183210.9836246568590002 \n",
      "State_D8 0.9997359215408251"
     ]
    },
    {
     "name": "stdout",
     "output_type": "stream",
     "text": [
      "0.99999998770800440.98358637392662820.999999987695310.9835863608648461 \n",
      "State_D9 0.9993877454203501"
     ]
    },
    {
     "name": "stdout",
     "output_type": "stream",
     "text": [
      "0.99999999842434040.98239808101701160.99999999842271530.9823980674019397 \n",
      "State_D10 0.9998956353576355"
     ]
    },
    {
     "name": "stdout",
     "output_type": "stream",
     "text": [
      "0.99999999842397490.98601718181826070.999999998422250.9860171700387537 \n",
      "State_D11 0.9998327204167273"
     ]
    },
    {
     "name": "stdout",
     "output_type": "stream",
     "text": [
      "0.99999999169079670.98504686890339380.99999999168210250.9850468565881065 \n",
      "State_D12 0.999829020905675"
     ]
    },
    {
     "name": "stdout",
     "output_type": "stream",
     "text": [
      "0.99999999184393960.98501498045818230.99999999183550310.985014968130396 \n",
      "State_D13 0.9995514767082397"
     ]
    },
    {
     "name": "stdout",
     "output_type": "stream",
     "text": [
      "0.99999999169098120.98263679994488130.9999999916823750.9826367864301971 \n",
      "State_D14 0.9995630656917264"
     ]
    },
    {
     "name": "stdout",
     "output_type": "stream",
     "text": [
      "0.9999999918441740.9826167335188170.99999999183578660.9826167199968575 \n",
      "State_D15 0.9997867444528893"
     ]
    },
    {
     "name": "stdout",
     "output_type": "stream",
     "text": [
      "0.9999999892468130.98445247704636580.99999998923571790.9844524644202771 \n",
      "State_D16 0.9997867779434914"
     ]
    },
    {
     "name": "stdout",
     "output_type": "stream",
     "text": [
      "0.99999998924676030.98445272538604570.99999998923568270.984452712760028 \n",
      "State_D17 0.999735876097832"
     ]
    },
    {
     "name": "stdout",
     "output_type": "stream",
     "text": [
      "0.9999999875548280.98362519220737230.99999998754187140.983625179160368 \n",
      "State_D18 0.9997359247767182"
     ]
    },
    {
     "name": "stdout",
     "output_type": "stream",
     "text": [
      "0.99999998770795320.98358643382020070.99999998769529740.9835864207585392 \n",
      "State_D19 0.9998956428751046"
     ]
    },
    {
     "name": "stdout",
     "output_type": "stream",
     "text": [
      "0.99999999842401190.98601705736961460.99999999842226440.9860170455900288 \n",
      "State_D20 0.9993872805472946"
     ]
    },
    {
     "name": "stdout",
     "output_type": "stream",
     "text": [
      "0.9999999984243610.98240082211853790.99999999842272050.9824008085049417 \n",
      "\n",
      "\n",
      "---------------\n",
      "gamma = 0.79477\n",
      "-------------------------------------------"
     ]
    },
    {
     "name": "stdout",
     "output_type": "stream",
     "text": [
      "\n",
      " POP on ansatz LME simulation\n",
      "*********************************** TSSOS ***********************************\n",
      "Version 1.0.0, developed by Jie Wang, 2020--2023\n",
      "TSSOS is launching...\n",
      "optimum = 7.934424241610907e-8\n",
      "Global optimality certified with relative optimality gap 0.000008%!\n",
      "No higher TS step of the TSSOS hierarchy!\n"
     ]
    },
    {
     "name": "stdout",
     "output_type": "stream",
     "text": [
      "-------------------------------------------\n",
      " simulated LME random local overfitting\n",
      " POP on ansatz EXACT Kurt data \n",
      "*********************************** TSSOS ***********************************\n",
      "Version 1.0.0, developed by Jie Wang, 2020--2023\n",
      "TSSOS is launching...\n",
      "optimum = 0.0007286224131736275\n",
      "Global optimality certified with relative optimality gap 0.000016%!\n",
      "No higher TS step of the TSSOS hierarchy!\n",
      " Exact data random local overfitting"
     ]
    },
    {
     "name": "stdout",
     "output_type": "stream",
     "text": [
      "\n",
      "STATE    F_LME_vs_SB    F_rnd_vs_LME    F_rnd_vs_sb    F_tssos_vs_LME    F_tssos_vs_SB\n",
      "State_D1 "
     ]
    },
    {
     "name": "stdout",
     "output_type": "stream",
     "text": [
      "0.99809643593360970.9999999999999530.98860203519780890.99999999999994230.9886020318860268 \n",
      "State_D2 "
     ]
    },
    {
     "name": "stdout",
     "output_type": "stream",
     "text": [
      "0.99812929838099280.99999999999995290.98860965546420920.99999999999994380.9886096521540964 \n",
      "State_D3 "
     ]
    },
    {
     "name": "stdout",
     "output_type": "stream",
     "text": [
      "0.99882914759186470.99999999999983410.98908716911492060.99999999999980980.9890871658955144 \n",
      "State_D4 "
     ]
    },
    {
     "name": "stdout",
     "output_type": "stream",
     "text": [
      "0.99883459456136850.99999999999983440.98909521211625630.99999999999981060.9890952088988682 \n",
      "State_D5 "
     ]
    },
    {
     "name": "stdout",
     "output_type": "stream",
     "text": [
      "0.99827581834073150.99999999999993090.98865769624930990.99999999999991750.9886576929482387 \n",
      "State_D6 "
     ]
    },
    {
     "name": "stdout",
     "output_type": "stream",
     "text": [
      "0.99827600330231180.99999999999993070.98865641598031820.9999999999999170.9886564126789694 \n",
      "State_D7 "
     ]
    },
    {
     "name": "stdout",
     "output_type": "stream",
     "text": [
      "0.99850148794723850.99999999999989410.98877756173742860.99999999999987370.9887775584581695 \n",
      "State_D8 "
     ]
    },
    {
     "name": "stdout",
     "output_type": "stream",
     "text": [
      "0.99851388008865430.99999999999989390.9887865086790070.99999999999987490.9887865054014379 \n",
      "State_D9 "
     ]
    },
    {
     "name": "stdout",
     "output_type": "stream",
     "text": [
      "0.99789548674089170.99999999999998930.98857940287320280.99999999999998780.9885793995581327 \n",
      "State_D10 "
     ]
    },
    {
     "name": "stdout",
     "output_type": "stream",
     "text": [
      "0.99899482220360060.99999999999979690.98934356200560710.99999999999977040.9893435588370566 \n",
      "State_D11 "
     ]
    },
    {
     "name": "stdout",
     "output_type": "stream",
     "text": [
      "0.99882898529036380.99999999999983440.98908666775619340.99999999999980970.9890866645370308 \n",
      "State_D12 "
     ]
    },
    {
     "name": "stdout",
     "output_type": "stream",
     "text": [
      "0.99883370462813510.9999999999998350.98909849473321230.99999999999981070.9890984915158331 \n",
      "State_D13 "
     ]
    },
    {
     "name": "stdout",
     "output_type": "stream",
     "text": [
      "0.99809719710336480.9999999999999530.98859840710738140.99999999999994330.98859840379547 \n",
      "State_D14 "
     ]
    },
    {
     "name": "stdout",
     "output_type": "stream",
     "text": [
      "0.99812940579599520.99999999999995270.98860967042511750.99999999999994320.9886096671153856 \n",
      "State_D15 "
     ]
    },
    {
     "name": "stdout",
     "output_type": "stream",
     "text": [
      "0.998720068094220.99999999999985860.98895590532603760.99999999999983470.9889559020816959 \n",
      "State_D16 "
     ]
    },
    {
     "name": "stdout",
     "output_type": "stream",
     "text": [
      "0.99872051243386620.99999999999985810.98895586680766610.9999999999998350.9889558635626696 \n",
      "State_D17 "
     ]
    },
    {
     "name": "stdout",
     "output_type": "stream",
     "text": [
      "0.99850183419308010.99999999999989420.98877773778324740.9999999999998740.9887777345042045 \n",
      "State_D18 "
     ]
    },
    {
     "name": "stdout",
     "output_type": "stream",
     "text": [
      "0.99851380960311230.99999999999989450.98878656245130390.99999999999987490.9887865591741202 \n",
      "State_D19 "
     ]
    },
    {
     "name": "stdout",
     "output_type": "stream",
     "text": [
      "0.99899505916456390.9999999999997970.98934264727016350.99999999999977050.9893426441014279 \n",
      "State_D20 "
     ]
    },
    {
     "name": "stdout",
     "output_type": "stream",
     "text": [
      "0.99789912772182470.99999999999998990.98856976737674060.99999999999998710.9885697640602771 \n",
      "\n",
      "\n",
      "---------------\n",
      "gamma = 2.5133\n"
     ]
    },
    {
     "name": "stdout",
     "output_type": "stream",
     "text": [
      "-------------------------------------------\n",
      " POP on ansatz LME simulation\n",
      "*********************************** TSSOS ***********************************\n",
      "Version 1.0.0, developed by Jie Wang, 2020--2023\n",
      "TSSOS is launching...\n",
      "optimum = 2.419102940012739e-7\n",
      "Global optimality certified with relative optimality gap 0.000024%!\n",
      "No higher TS step of the TSSOS hierarchy!\n",
      "-------------------------------------------"
     ]
    },
    {
     "name": "stdout",
     "output_type": "stream",
     "text": [
      "\n",
      " simulated LME random local overfitting\n",
      " POP on ansatz EXACT Kurt data \n",
      "*********************************** TSSOS ***********************************\n",
      "Version 1.0.0, developed by Jie Wang, 2020--2023\n",
      "TSSOS is launching...\n",
      "optimum = 0.0012968598100594267\n",
      "Global optimality certified with relative optimality gap 0.000015%!\n",
      "No higher TS step of the TSSOS hierarchy!\n"
     ]
    },
    {
     "name": "stdout",
     "output_type": "stream",
     "text": [
      " Exact data random local overfitting\n",
      "STATE    F_LME_vs_SB    F_rnd_vs_LME    F_rnd_vs_sb    F_tssos_vs_LME    F_tssos_vs_SB\n",
      "State_D1 0.9932950311240444"
     ]
    },
    {
     "name": "stdout",
     "output_type": "stream",
     "text": [
      "0.99999999999998830.99652621310165330.9999999999999880.9965262129726935 \n",
      "State_D2 0.9934706527111562"
     ]
    },
    {
     "name": "stdout",
     "output_type": "stream",
     "text": [
      "0.99999999999998990.99653088181045350.99999999999998970.9965308816816885 \n",
      "State_D3 0.9948549802918444"
     ]
    },
    {
     "name": "stdout",
     "output_type": "stream",
     "text": [
      "0.99999999999997340.99665943853470810.99999999999997290.9966594384093527 \n",
      "State_D4 0.994894186142753"
     ]
    },
    {
     "name": "stdout",
     "output_type": "stream",
     "text": [
      "0.99999999999997390.99666813212691640.99999999999997360.9966681320020031 \n",
      "State_D5 0.9936920029969609"
     ]
    },
    {
     "name": "stdout",
     "output_type": "stream",
     "text": [
      "0.99999999999998560.99654538855482190.99999999999998530.9965453884263847 \n",
      "State_D6 0.9936872823793236"
     ]
    },
    {
     "name": "stdout",
     "output_type": "stream",
     "text": [
      "0.99999999999998520.99654392346268120.99999999999998550.9965439233343262 \n",
      "State_D7 0.9940840127457257"
     ]
    },
    {
     "name": "stdout",
     "output_type": "stream",
     "text": [
      "0.99999999999997960.99657986252442520.99999999999997980.9965798623967123 \n",
      "State_D8 0.9941635977056859"
     ]
    },
    {
     "name": "stdout",
     "output_type": "stream",
     "text": [
      "0.99999999999998020.99658018051176230.99999999999997970.9965801803843629 \n",
      "State_D9 0.993095583563153"
     ]
    },
    {
     "name": "stdout",
     "output_type": "stream",
     "text": [
      "0.9999999999999960.99652290131986480.99999999999999610.9965229011907374 \n",
      "State_D10 0.9952859257760107"
     ]
    },
    {
     "name": "stdout",
     "output_type": "stream",
     "text": [
      "0.999999999999970.99673771871854880.999999999999970.9967377185955467 \n",
      "State_D11 0.9948584129135294"
     ]
    },
    {
     "name": "stdout",
     "output_type": "stream",
     "text": [
      "0.99999999999997340.99664906194451490.99999999999997290.9966490618191529 \n",
      "State_D12 0.9948935896189399"
     ]
    },
    {
     "name": "stdout",
     "output_type": "stream",
     "text": [
      "0.99999999999997470.99667039466368470.9999999999999740.9966703945386833 \n",
      "State_D13 0.9933036513279216"
     ]
    },
    {
     "name": "stdout",
     "output_type": "stream",
     "text": [
      "0.99999999999998810.99652456860402640.99999999999998850.9965245684750588 \n",
      "State_D14 0.9934681027297595"
     ]
    },
    {
     "name": "stdout",
     "output_type": "stream",
     "text": [
      "0.99999999999998950.99653467683596390.99999999999998930.9965346767073723 \n",
      "State_D15 0.9946154491744167"
     ]
    },
    {
     "name": "stdout",
     "output_type": "stream",
     "text": [
      "0.99999999999997560.99661947282491940.99999999999997590.9966194726987694 \n",
      "State_D16 0.9946141062058387"
     ]
    },
    {
     "name": "stdout",
     "output_type": "stream",
     "text": [
      "0.99999999999997620.99662837036918270.99999999999997580.9966283702428989 \n",
      "State_D17 0.9940847148159163"
     ]
    },
    {
     "name": "stdout",
     "output_type": "stream",
     "text": [
      "0.99999999999997930.99656941419539340.99999999999997910.9965694140677777 \n",
      "State_D18 0.9941633691994718"
     ]
    },
    {
     "name": "stdout",
     "output_type": "stream",
     "text": [
      "0.999999999999980.99658681451826590.99999999999998020.9965868143908573 \n",
      "State_D19 0.9952851843271341"
     ]
    },
    {
     "name": "stdout",
     "output_type": "stream",
     "text": [
      "0.99999999999997050.99673662660695070.99999999999997020.9967366264839302 \n",
      "State_D20 0.9930956878693744"
     ]
    },
    {
     "name": "stdout",
     "output_type": "stream",
     "text": [
      "0.99999999999999620.99652306265345950.99999999999999620.9965230625244335 \n",
      "\n",
      "\n",
      "---------------\n",
      "gamma = 7.9477\n",
      "-------------------------------------------"
     ]
    },
    {
     "name": "stdout",
     "output_type": "stream",
     "text": [
      "\n",
      " POP on ansatz LME simulation\n",
      "*********************************** TSSOS ***********************************\n",
      "Version 1.0.0, developed by Jie Wang, 2020--2023\n",
      "TSSOS is launching...\n",
      "optimum = 5.5326835808060174e-8\n",
      "Global optimality certified with relative optimality gap 0.000006%!\n",
      "No higher TS step of the TSSOS hierarchy!\n"
     ]
    },
    {
     "name": "stdout",
     "output_type": "stream",
     "text": [
      "-------------------------------------------\n",
      " simulated LME random local overfitting\n",
      " POP on ansatz EXACT Kurt data \n",
      "*********************************** TSSOS ***********************************\n",
      "Version 1.0.0, developed by Jie Wang, 2020--2023\n",
      "TSSOS is launching...\n",
      "optimum = 0.0015467705182824532\n",
      "Global optimality certified with relative optimality gap 0.000002%!\n",
      "No higher TS step of the TSSOS hierarchy!\n",
      " Exact data random local overfitting"
     ]
    },
    {
     "name": "stdout",
     "output_type": "stream",
     "text": [
      "\n",
      "STATE    F_LME_vs_SB    F_rnd_vs_LME    F_rnd_vs_sb    F_tssos_vs_LME    F_tssos_vs_SB\n",
      "State_D1 "
     ]
    },
    {
     "name": "stdout",
     "output_type": "stream",
     "text": [
      "0.97672504259896290.99999999999999530.9993997336031950.99999999999999360.9993997336083822 \n",
      "State_D2 "
     ]
    },
    {
     "name": "stdout",
     "output_type": "stream",
     "text": [
      "0.97774941730723340.99999999999999630.99923343752299020.99999999999999330.9992334375205534 \n",
      "State_D3 "
     ]
    },
    {
     "name": "stdout",
     "output_type": "stream",
     "text": [
      "0.98101678334406980.99999999999999460.99964121663513460.99999999999998890.999641216637219 \n",
      "State_D4 "
     ]
    },
    {
     "name": "stdout",
     "output_type": "stream",
     "text": [
      "0.9813614800274680.99999999999999560.99929555588602180.99999999999999020.9992955558827246 \n",
      "State_D5 "
     ]
    },
    {
     "name": "stdout",
     "output_type": "stream",
     "text": [
      "0.9780318891624640.99999999999999520.99941446719530470.999999999999990.9994144671959716 \n",
      "State_D6 "
     ]
    },
    {
     "name": "stdout",
     "output_type": "stream",
     "text": [
      "0.97803188929301990.99999999999999530.99845479816132690.99999999999999120.9984547981670076 \n",
      "State_D7 "
     ]
    },
    {
     "name": "stdout",
     "output_type": "stream",
     "text": [
      "0.97861975148893170.9999999999999940.99912178974247670.99999999999998980.999121789748685 \n",
      "State_D8 "
     ]
    },
    {
     "name": "stdout",
     "output_type": "stream",
     "text": [
      "0.97924654746507710.99999999999999490.99906639232173010.99999999999998650.9990663923245647 \n",
      "State_D9 "
     ]
    },
    {
     "name": "stdout",
     "output_type": "stream",
     "text": [
      "0.97675880021077420.99999999999999770.99916909656655530.99999999999999680.9991690965604285 \n",
      "State_D10 "
     ]
    },
    {
     "name": "stdout",
     "output_type": "stream",
     "text": [
      "0.98246650476308130.9999999999999960.99976312715622720.9999999999999910.9997631271506962 \n",
      "State_D11 "
     ]
    },
    {
     "name": "stdout",
     "output_type": "stream",
     "text": [
      "0.98101678333942070.99999999999999460.9976151234233870.99999999999998910.9976151234293197 \n",
      "State_D12 "
     ]
    },
    {
     "name": "stdout",
     "output_type": "stream",
     "text": [
      "0.98136148006100920.99999999999999560.99958373344347280.99999999999998590.9995837334433185 \n",
      "State_D13 "
     ]
    },
    {
     "name": "stdout",
     "output_type": "stream",
     "text": [
      "0.97672504260648420.99999999999999520.99786503021240520.99999999999999050.9978650302226397 \n",
      "State_D14 "
     ]
    },
    {
     "name": "stdout",
     "output_type": "stream",
     "text": [
      "0.97774941742322760.99999999999999640.99949939715876180.9999999999999920.9994993971560354 \n",
      "State_D15 "
     ]
    },
    {
     "name": "stdout",
     "output_type": "stream",
     "text": [
      "0.98047793347612970.99999999999999480.99812803979665290.99999999999999110.9981280398011726 \n",
      "State_D16 "
     ]
    },
    {
     "name": "stdout",
     "output_type": "stream",
     "text": [
      "0.98047793345915340.99999999999999480.99947854248541850.99999999999998610.999478542486201 \n",
      "State_D17 "
     ]
    },
    {
     "name": "stdout",
     "output_type": "stream",
     "text": [
      "0.97861975147508770.99999999999999360.99674607599805580.999999999999980.9967460760100623 \n",
      "State_D18 "
     ]
    },
    {
     "name": "stdout",
     "output_type": "stream",
     "text": [
      "0.97924654742324830.99999999999999510.99948243685057250.99999999999998990.9994824368473536 \n",
      "State_D19 "
     ]
    },
    {
     "name": "stdout",
     "output_type": "stream",
     "text": [
      "0.98246650475196710.99999999999999580.99939043482782290.99999999999998870.9993904348267737 \n",
      "State_D20 "
     ]
    },
    {
     "name": "stdout",
     "output_type": "stream",
     "text": [
      "0.97675880035836450.99999999999999790.99909697059275740.99999999999999680.9990969705859919 \n",
      "\n",
      "\n",
      "---------------\n",
      "gamma = 25.133\n"
     ]
    },
    {
     "name": "stdout",
     "output_type": "stream",
     "text": [
      "-------------------------------------------\n",
      " POP on ansatz LME simulation\n",
      "*********************************** TSSOS ***********************************\n",
      "Version 1.0.0, developed by Jie Wang, 2020--2023\n",
      "TSSOS is launching...\n",
      "optimum = 1.1480884033769398e-8\n",
      "Global optimality certified with relative optimality gap 0.000001%!\n",
      "No higher TS step of the TSSOS hierarchy!\n",
      "-------------------------------------------"
     ]
    },
    {
     "name": "stdout",
     "output_type": "stream",
     "text": [
      "\n",
      " simulated LME random local overfitting\n",
      " POP on ansatz EXACT Kurt data \n",
      "*********************************** TSSOS ***********************************\n",
      "Version 1.0.0, developed by Jie Wang, 2020--2023\n",
      "TSSOS is launching...\n",
      "optimum = 0.002141083352040313\n",
      "Global optimality certified with relative optimality gap 0.000001%!\n",
      "No higher TS step of the TSSOS hierarchy!\n"
     ]
    },
    {
     "name": "stdout",
     "output_type": "stream",
     "text": [
      " Exact data random local overfitting\n",
      "STATE    F_LME_vs_SB    F_rnd_vs_LME    F_rnd_vs_sb    F_tssos_vs_LME    F_tssos_vs_SB\n",
      "State_D1 0.91124510601931150.99999999999999740.99602328543930430.99999999999999690.9960232854193009 \n",
      "State_D2 0.9119663713130963"
     ]
    },
    {
     "name": "stdout",
     "output_type": "stream",
     "text": [
      "0.99999999999999830.99736368872613230.9999999999999980.9973636887300888 \n",
      "State_D3 0.91487693128799240.99999999999999790.99548795794114030.9999999999999970.9954879579110585 \n",
      "State_D4 0.9362031644005151"
     ]
    },
    {
     "name": "stdout",
     "output_type": "stream",
     "text": [
      "0.99999999999999840.99900263794728780.99999999999999790.9990026379168171 \n",
      "State_D5 0.91252155500886250.9999999999999980.99847495610820410.99999999999999730.9984749561095584 \n",
      "State_D6 0.9125215550041506"
     ]
    },
    {
     "name": "stdout",
     "output_type": "stream",
     "text": [
      "0.99999999999999770.98413949853153830.99999999999999790.9841394985206184 \n",
      "State_D7 0.91883893874244740.99999999999999710.99258459507040230.99999999999999690.9925845950080701 \n",
      "State_D8 0.9131335304043889"
     ]
    },
    {
     "name": "stdout",
     "output_type": "stream",
     "text": [
      "0.99999999999999760.98724498293696870.99999999999999820.9872449828478564 \n",
      "State_D9 0.91105351726581330.99999999999999830.99960451523439130.99999999999999810.9996045152391007 \n",
      "State_D10 0.9160999231677843"
     ]
    },
    {
     "name": "stdout",
     "output_type": "stream",
     "text": [
      "0.99999999999999830.99963938560081480.99999999999999740.9996393856067067 \n",
      "State_D11 0.91487693128799240.99999999999999740.97913080023587050.99999999999999730.9791308002003523 \n",
      "State_D12 0.9362031644009627"
     ]
    },
    {
     "name": "stdout",
     "output_type": "stream",
     "text": [
      "0.99999999999999840.99609285563371210.99999999999999790.9960928555988735 \n",
      "State_D13 0.91124993894953710.99999999999999710.97815117269374970.99999999999999760.9781511726415713 \n",
      "State_D14 0.9119663713146582"
     ]
    },
    {
     "name": "stdout",
     "output_type": "stream",
     "text": [
      "0.99999999999999810.99519253138365540.99999999999999810.9951925313340099 \n",
      "State_D15 0.93089575256946590.99999999999999790.98888317933461160.99999999999999770.9888831793437136 \n",
      "State_D16 0.9308957525703775"
     ]
    },
    {
     "name": "stdout",
     "output_type": "stream",
     "text": [
      "0.99999999999999790.99871324269656480.99999999999999730.9987132426940855 \n",
      "State_D17 0.91883893874296230.9999999999999970.97311043029396640.9999999999999970.973110430201068 \n",
      "State_D18 0.9131335304033493"
     ]
    },
    {
     "name": "stdout",
     "output_type": "stream",
     "text": [
      "0.99999999999999790.99763157987452920.99999999999999780.9976315798218341 \n",
      "State_D19 0.91609992316931390.99999999999999810.99467943692372010.9999999999999980.9946794369191355 \n",
      "State_D20 0.9110535172679162"
     ]
    },
    {
     "name": "stdout",
     "output_type": "stream",
     "text": [
      "0.99999999999999790.99366440932313950.99999999999999830.9936644092997482 \n",
      "\n",
      "\n",
      "---------------\n",
      "gamma = 79.477\n",
      "-------------------------------------------"
     ]
    },
    {
     "name": "stdout",
     "output_type": "stream",
     "text": [
      "\n",
      " POP on ansatz LME simulation\n",
      "*********************************** TSSOS ***********************************\n",
      "Version 1.0.0, developed by Jie Wang, 2020--2023\n",
      "TSSOS is launching...\n",
      "optimum = 2.724757059637176e-7\n",
      "Global optimality certified with relative optimality gap 0.000027%!\n",
      "No higher TS step of the TSSOS hierarchy!\n"
     ]
    },
    {
     "name": "stdout",
     "output_type": "stream",
     "text": [
      "-------------------------------------------\n",
      " simulated LME random local overfitting\n",
      " POP on ansatz EXACT Kurt data \n",
      "*********************************** TSSOS ***********************************\n",
      "Version 1.0.0, developed by Jie Wang, 2020--2023\n",
      "TSSOS is launching...\n",
      "optimum = 0.0018635785673054297\n",
      "Global optimality certified with relative optimality gap 0.000012%!\n",
      "No higher TS step of the TSSOS hierarchy!\n",
      " Exact data random local overfitting"
     ]
    },
    {
     "name": "stdout",
     "output_type": "stream",
     "text": [
      "\n",
      "STATE    F_LME_vs_SB    F_rnd_vs_LME    F_rnd_vs_sb    F_tssos_vs_LME    F_tssos_vs_SB\n",
      "State_D1 0.78829457485258740.9999999999999980.99984729222575090.99999999999999820.9998472922295574 \n",
      "State_D2 "
     ]
    },
    {
     "name": "stdout",
     "output_type": "stream",
     "text": [
      "0.78832957252346270.9999999999999980.99993477589907790.99999999999999820.9999347758996238 \n",
      "State_D3 0.78737724968495950.99999999999999840.99976054407888490.99999999999999830.9997605440787929 \n",
      "State_D4 "
     ]
    },
    {
     "name": "stdout",
     "output_type": "stream",
     "text": [
      "0.78746555872594430.99999999999999840.99967105899040960.99999999999999820.9996710589909565 \n",
      "State_D5 0.78841323589287760.9999999999999980.99983706101507990.99999999999999820.9998370610146899 \n",
      "State_D6 "
     ]
    },
    {
     "name": "stdout",
     "output_type": "stream",
     "text": [
      "0.78841323589161280.99999999999999790.9997854543266050.99999999999999790.9997854543232622 \n",
      "State_D7 "
     ]
    },
    {
     "name": "stdout",
     "output_type": "stream",
     "text": [
      "0.78800765942730570.99999999999999780.99929553906813680.99999999999999790.9992955390346951 \n",
      "State_D8 0.78804633541225570.9999999999999980.99896899809144470.99999999999999760.9989689980700421 \n",
      "State_D9 "
     ]
    },
    {
     "name": "stdout",
     "output_type": "stream",
     "text": [
      "0.78805632530927130.99999999999999820.99994804145604380.9999999999999980.9999480414564625 \n",
      "State_D10 0.78697585469915880.99999999999999830.99955105050885120.99999999999999820.9995510505093527 \n",
      "State_D11 "
     ]
    },
    {
     "name": "stdout",
     "output_type": "stream",
     "text": [
      "0.78737724968690380.99999999999999780.99915291593461420.99999999999999810.9991529159171182 \n",
      "State_D12 0.78746555872532780.99999999999999790.99944978849938250.9999999999999980.9994497885019242 \n",
      "State_D13 "
     ]
    },
    {
     "name": "stdout",
     "output_type": "stream",
     "text": [
      "0.78829457485570180.99999999999999810.99915788519280770.99999999999999810.9991578851739771 \n",
      "State_D14 0.78832957252471760.99999999999999810.99966037944446850.99999999999999810.9996603794391057 \n",
      "State_D15 "
     ]
    },
    {
     "name": "stdout",
     "output_type": "stream",
     "text": [
      "0.78771534874776330.9999999999999980.99964923284171730.99999999999999770.9996492328412232 \n",
      "State_D16 0.78771534874460660.99999999999999810.99969140911990510.9999999999999980.9996914091195412 \n",
      "State_D17 "
     ]
    },
    {
     "name": "stdout",
     "output_type": "stream",
     "text": [
      "0.78800765942487180.99999999999999770.99789086187434610.99999999999999830.9978908618224551 \n",
      "State_D18 "
     ]
    },
    {
     "name": "stdout",
     "output_type": "stream",
     "text": [
      "0.78804633541229090.9999999999999980.99978063384061320.99999999999999810.9997806338293012 \n",
      "State_D19 0.78697585470043020.99999999999999830.99938450091251040.9999999999999980.999384500915173 \n",
      "State_D20 "
     ]
    },
    {
     "name": "stdout",
     "output_type": "stream",
     "text": [
      "0.78805632530802020.99999999999999820.99971428821356480.99999999999999820.9997142882086569 \n",
      "\n",
      "\n",
      "---------------\n",
      "gamma = 251.33\n"
     ]
    },
    {
     "name": "stdout",
     "output_type": "stream",
     "text": [
      "-------------------------------------------\n",
      " POP on ansatz LME simulation\n",
      "*********************************** TSSOS ***********************************\n",
      "Version 1.0.0, developed by Jie Wang, 2020--2023\n",
      "TSSOS is launching...\n",
      "optimum = 1.6929275914467653e-8\n",
      "Global optimality certified with relative optimality gap 0.000002%!\n",
      "No higher TS step of the TSSOS hierarchy!\n",
      "-------------------------------------------"
     ]
    },
    {
     "name": "stdout",
     "output_type": "stream",
     "text": [
      "\n",
      " simulated LME random local overfitting\n",
      " POP on ansatz EXACT Kurt data \n",
      "*********************************** TSSOS ***********************************\n",
      "Version 1.0.0, developed by Jie Wang, 2020--2023\n",
      "TSSOS is launching...\n",
      "optimum = 0.014495253297122236\n",
      "Global optimality certified with relative optimality gap 0.000032%!\n",
      "No higher TS step of the TSSOS hierarchy!\n"
     ]
    },
    {
     "name": "stdout",
     "output_type": "stream",
     "text": [
      " Exact data random local overfitting\n",
      "STATE    F_LME_vs_SB    F_rnd_vs_LME    F_rnd_vs_sb    F_tssos_vs_LME    F_tssos_vs_SB\n",
      "State_D1 0.73688039058929940.99999999999999340.99794492691216770.99999999999999430.9979449269307906 \n",
      "State_D2 0.7368897118012756"
     ]
    },
    {
     "name": "stdout",
     "output_type": "stream",
     "text": [
      "0.99999999999999440.99703683151443620.99999999999999420.9970368315432813 \n",
      "State_D3 0.73392638838605970.99999999999999480.99783591501226910.99999999999999460.9978359150366347 \n",
      "State_D4 0.7339458520435355"
     ]
    },
    {
     "name": "stdout",
     "output_type": "stream",
     "text": [
      "0.9999999999999950.99692052353749830.99999999999999540.9969205235709323 \n",
      "State_D5 0.73822607234869240.99999999999999480.99641308930852770.99999999999999540.996413089344027 \n",
      "State_D6 0.7382260723486892"
     ]
    },
    {
     "name": "stdout",
     "output_type": "stream",
     "text": [
      "0.99999999999999490.99599858423595330.99999999999999530.995998584276378 \n",
      "State_D7 0.73977887158606480.99999999999999180.99843322589014060.99999999999999260.9984332258487683 \n",
      "State_D8 0.7398143078809213"
     ]
    },
    {
     "name": "stdout",
     "output_type": "stream",
     "text": [
      "0.99999999999999320.99890945238067670.99999999999999280.9989094523495459 \n",
      "State_D9 0.73435691393755340.9999999999999950.99684919498517520.99999999999999430.9968491950146284 \n",
      "State_D10 0.7293282033832169"
     ]
    },
    {
     "name": "stdout",
     "output_type": "stream",
     "text": [
      "0.99999999999999590.99664934246182850.99999999999999580.9966493424991545 \n",
      "State_D11 0.73392638838481950.99999999999999440.99761917461965850.99999999999999510.9976191746458845 \n",
      "State_D12 0.733945852044316"
     ]
    },
    {
     "name": "stdout",
     "output_type": "stream",
     "text": [
      "0.99999999999999540.99721346868261210.99999999999999530.9972134687124105 \n",
      "State_D13 0.73688039059027650.9999999999999940.99771126402233650.9999999999999940.9977112640437946 \n",
      "State_D14 0.7368897118012756"
     ]
    },
    {
     "name": "stdout",
     "output_type": "stream",
     "text": [
      "0.99999999999999430.99731818403253760.99999999999999470.9973181840578893 \n",
      "State_D15 0.73672455527660240.99999999999999530.99592558963892850.99999999999999560.9959255896821393 \n",
      "State_D16 0.7367245552785794"
     ]
    },
    {
     "name": "stdout",
     "output_type": "stream",
     "text": [
      "0.99999999999999610.99634048764404470.99999999999999560.9963404876825823 \n",
      "State_D17 0.73977887157886220.99999999999999170.99576568428940240.99999999999999270.9957656842036298 \n",
      "State_D18 0.7398143078838488"
     ]
    },
    {
     "name": "stdout",
     "output_type": "stream",
     "text": [
      "0.99999999999999360.99899985599020140.99999999999999370.998999856000152 \n",
      "State_D19 0.72932820338411670.99999999999999580.99667743391353760.99999999999999560.9966774339503194 \n",
      "State_D20 0.7343569139368477"
     ]
    },
    {
     "name": "stdout",
     "output_type": "stream",
     "text": [
      "0.99999999999999470.99686523849058850.99999999999999460.9968652385201188 \n",
      "\n",
      "\n"
     ]
    }
   ],
   "source": [
    "date_and_time_string =  string(Dates.format(now(), \"yyyy-u-dd_at_HH-MM\"))\n",
    "models_file = \"POP_LME_tssos_vs_random_\"*method*date_and_time_string * \".h5\"\n",
    "tests_data_file_name = \"POP_LME_tssos_vs_random_trn4_tst20_\"*method*date_and_time_string * \".h5\"\n",
    "\n",
    "println(models_file)\n",
    "\n",
    "γ = [ \"0.079477\",  \"0.25133\", \"0.79477\", \"2.5133\", \"7.9477\", \"25.133\", \"79.477\", \"251.33\"]\n",
    "\n",
    "for γᵢ in γ\n",
    "    \n",
    "    println(\"---------------\")\n",
    "    println(\"gamma = \", γᵢ)\n",
    "    \n",
    "    Hᴸᴹᴱ = [ 25.126        0\n",
    "             0             0    ]\n",
    "    γᶠ = parse(Float64, γᵢ)\n",
    "\n",
    "    Jᴸᴹᴱ = [ 0    √(γᶠ)\n",
    "             0     0. + 0im  ]\n",
    "\n",
    "    objₑₓ = 0\n",
    "    \n",
    "    objₗₘₑ = 0\n",
    "    \n",
    "    for df_trn in train_files # loop over initial states\n",
    "\n",
    "        ρᵗʳⁿ, tᵗʳⁿ = LiPoSID.get_rho_series(data_dir*df_trn*\"_2CUT_data.h5\", γᵢ)\n",
    "        \n",
    "        if length(tᵗʳⁿ) > 1200 end_train = 1200 else end_train = length(tᵗʳⁿ) end\n",
    "            \n",
    "        ρᵗʳⁿ = convert(Vector{Matrix{ComplexF64}}, ρᵗʳⁿ[1:end_train])\n",
    "        \n",
    "        ρᵗʳⁿₒₚₛ = [DenseOperator(basis,Hermitian(ρₜ)) for ρₜ in ρᵗʳⁿ]\n",
    "        tᵗʳⁿ = convert(Vector{Float64}, tᵗʳⁿ[1:end_train])\n",
    "    \n",
    "        objₑₓ += LiPoSID.simpson_obj(ρᵗʳⁿ, tᵗʳⁿ,  Hˢʸᵐᵇ, [Jˢʸᵐᵇ])\n",
    "         \n",
    "        ρˡᵐᵉ = LiPoSID.Lindblad_time_evolution(basis, ρᵗʳⁿ[1], tᵗʳⁿ, Hᴸᴹᴱ, [Jᴸᴹᴱ])\n",
    "        objₗₘₑ += LiPoSID.simpson_obj(ρˡᵐᵉ, tᵗʳⁿ,  Hˢʸᵐᵇ, [Jˢʸᵐᵇ])\n",
    "            \n",
    "        \n",
    "    end # of files (initial states) loop\n",
    "            \n",
    "    coef_minₑₓ = minimum(abs.(coefficients(objₑₓ)))\n",
    "    coef_maxₑₓ = maximum(abs.(coefficients(objₑₓ)))\n",
    "\n",
    "    coefs_gapₑₓ = coef_maxₑₓ/coef_minₑₓ \n",
    "            \n",
    "    coef_minₗₘₑ = minimum(abs.(coefficients(objₗₘₑ)))\n",
    "    coef_maxₗₘₑ = maximum(abs.(coefficients(objₗₘₑ)))\n",
    "            \n",
    "    coefs_gapₗₘₑ= coef_maxₗₘₑ/coef_minₗₘₑ \n",
    "       \n",
    "    println(\"-------------------------------------------\")\n",
    "    println(\" POP on ansatz LME simulation\")\n",
    "            \n",
    "    #objₗₘₑrm = coefs_gapₗₘₑ > 1e6 ? remove_micro_coefs(objₗₘₑ, cutoffₗₘₑ) : objₗₘₑ\n",
    "    \n",
    "    solₗₘₑtssos  = tssos_min(objₗₘₑ)\n",
    "    solₗₘₑrnd  = local_rand_min(objₗₘₑ)\n",
    "    \n",
    "    println(\"-------------------------------------------\")\n",
    "    \n",
    "    solₗₘₑ = [e[1], h[1], h[2], a[1], a[2], a[3], b[1], b[3]] => [25.126, 0, 0, 0,  √(γᶠ), 0, 0, 0]\n",
    "    \n",
    "    obj_val_lme = convert(Float64, subs(objₗₘₑ, solₗₘₑ))\n",
    "    \n",
    "    obj_val_sid_on_lme = convert(Float64, subs(objₗₘₑ, solₗₘₑrnd))\n",
    "    \n",
    "    if obj_val_sid_on_lme < obj_val_lme\n",
    "        println(\" simulated LME random local overfitting\")\n",
    "    end\n",
    "    \n",
    "    Hˢⁱᵈₗₘₑtssos = subs(Hˢʸᵐᵇ, solₗₘₑtssos)\n",
    "    Jˢⁱᵈₗₘₑtssos = subs(Jˢʸᵐᵇ, solₗₘₑtssos)\n",
    "\n",
    "    Hˢⁱᵈₗₘₑrnd = subs(Hˢʸᵐᵇ, solₗₘₑrnd)\n",
    "    Jˢⁱᵈₗₘₑrnd = subs(Jˢʸᵐᵇ, solₗₘₑrnd)\n",
    "      \n",
    "    println(\" POP on ansatz EXACT Kurt data \")\n",
    "                \n",
    "    solₑₓtssos = tssos_min(objₑₓ)\n",
    "    solₑₓrnd = local_rand_min(objₑₓ)\n",
    "   \n",
    "    obj_val_lme_on_exact = convert(Float64, subs(objₑₓ, solₗₘₑrnd))\n",
    "    obj_val_sid_on_exact = convert(Float64, subs(objₑₓ, solₑₓrnd))\n",
    "    \n",
    "    if obj_val_sid_on_exact < obj_val_lme_on_exact\n",
    "        println(\" Exact data random local overfitting\")\n",
    "    end\n",
    "\n",
    "    Hˢⁱᵈₑₓtssos = DynamicPolynomials.subs(Hˢʸᵐᵇ, solₑₓtssos)\n",
    "    Jˢⁱᵈₑₓtssos = DynamicPolynomials.subs(Jˢʸᵐᵇ, solₑₓtssos)\n",
    "\n",
    "    Hˢⁱᵈₑₓrnd = DynamicPolynomials.subs(Hˢʸᵐᵇ, solₑₓrnd)\n",
    "    Jˢⁱᵈₑₓrnd = DynamicPolynomials.subs(Jˢʸᵐᵇ, solₑₓrnd)\n",
    "    \n",
    "   \n",
    "    h5open(models_dir*models_file,\"cw\") do fid  # read-write, create file if not existing, preserve existing contents\n",
    "\n",
    "        γ_group = create_group(fid, \"gamma_\"*γᵢ)\n",
    "        \n",
    "        \n",
    "        γ_group[\"coef_min_ex\"] = coef_minₑₓ\n",
    "        γ_group[\"coef_max_ex\"] = coef_maxₑₓ\n",
    "        γ_group[\"coef_gap_ex\"] = coefs_gapₑₓ\n",
    "                        \n",
    "        γ_group[\"coef_min_lme\"] = coef_minₗₘₑ\n",
    "        γ_group[\"coef_max_lme\"] = coef_maxₗₘₑ\n",
    "        γ_group[\"coef_gap_lme\"] = coefs_gapₗₘₑ       \n",
    "                        \n",
    "        γ_group[\"obj_val_lme\"] = obj_val_lme\n",
    "        γ_group[\"obj_val_sid_on_lme\"] = obj_val_sid_on_lme\n",
    "        \n",
    "        γ_group[\"obj_val_lme_on_exact\"] = obj_val_lme_on_exact\n",
    "        γ_group[\"obj_val_sid_on_exact\"] = obj_val_sid_on_exact\n",
    "\n",
    "\n",
    "        γ_group[\"H_sid_sb_tssos\"] = convert.(ComplexF64, Hˢⁱᵈₑₓtssos)\n",
    "        γ_group[\"A_sid_sb_tssos\"] = convert.(ComplexF64, Jˢⁱᵈₑₓtssos)\n",
    "\n",
    "        γ_group[\"H_sid_sb_rnd\"] = convert.(ComplexF64, Hˢⁱᵈₑₓrnd)\n",
    "        γ_group[\"A_sid_sb_rnd\"] = convert.(ComplexF64, Jˢⁱᵈₑₓrnd)\n",
    "        \n",
    "        γ_group[\"H_lme\"] = convert.(ComplexF64, Hᴸᴹᴱ)\n",
    "        γ_group[\"A_lme\"] = convert.(ComplexF64, Jᴸᴹᴱ)\n",
    "        \n",
    "        γ_group[\"H_sid_lme_tssos\"] = convert.(ComplexF64, Hˢⁱᵈₗₘₑtssos)\n",
    "        γ_group[\"A_sid_lme_tssos\"] = convert.(ComplexF64, Jˢⁱᵈₗₘₑtssos)\n",
    "\n",
    "        γ_group[\"H_sid_lme_rnd\"] = convert.(ComplexF64, Hˢⁱᵈₗₘₑrnd)\n",
    "        γ_group[\"A_sid_lme_rnd\"] = convert.(ComplexF64, Jˢⁱᵈₗₘₑrnd)\n",
    "\n",
    "        \n",
    "    end # of HDF5 writing\n",
    "    \n",
    "    \n",
    "    h5open(tests_dir*tests_data_file_name,\"cw\") do fid\n",
    "        γ_group = create_group(fid, \"gamma_\"*γᵢ)\n",
    "    end \n",
    "\n",
    "    println(\"STATE    F_LME_vs_SB    F_rnd_vs_LME    F_rnd_vs_sb    F_tssos_vs_LME    F_tssos_vs_SB\")\n",
    "    \n",
    "    for df in test_files # loop over initial states\n",
    "        \n",
    "        print(df*\" \")\n",
    "\n",
    "        start_time = time()\n",
    "\n",
    "        ρₛ, tₛ = LiPoSID.get_rho_series(data_dir*df*\"_2CUT_data.h5\", γᵢ)\n",
    "        ρₛ = convert(Vector{Matrix{ComplexF64}}, ρₛ)\n",
    "\n",
    "        ρᵗˢᵗ = [DenseOperator(basis,Hermitian(ρₜ)) for ρₜ in ρₛ]\n",
    "\n",
    "        tᵗˢᵗ = convert(Vector{Float64}, tₛ)\n",
    "\n",
    "        tᴸᴹᴱ, ρᴸᴹᴱ  = timeevolution.master(tᵗˢᵗ, ρᵗˢᵗ[1], DenseOperator(basis,Hᴸᴹᴱ), [DenseOperator(basis,Jᴸᴹᴱ)])\n",
    "\n",
    "        tˢⁱᵈₗₘrnd, ρˢⁱᵈₗₘₑrnd  = timeevolution.master(tᵗˢᵗ, ρᵗˢᵗ[1], DenseOperator(basis,Hˢⁱᵈₗₘₑrnd), [DenseOperator(basis,Jˢⁱᵈₗₘₑrnd)])\n",
    "        tˢⁱᵈₑₓrnd, ρˢⁱᵈₑₓrnd  = timeevolution.master(tᵗˢᵗ, ρᵗˢᵗ[1], DenseOperator(basis,Hˢⁱᵈₑₓrnd), [DenseOperator(basis,Jˢⁱᵈₑₓrnd)])   \n",
    "\n",
    "        tˢⁱᵈₗₘtssos, ρˢⁱᵈₗₘₑtssos  = timeevolution.master(tᵗˢᵗ, ρᵗˢᵗ[1], DenseOperator(basis,Hˢⁱᵈₗₘₑtssos), [DenseOperator(basis,Jˢⁱᵈₗₘₑtssos)])\n",
    "        tˢⁱᵈₑₓtssos, ρˢⁱᵈₑₓtssos  = timeevolution.master(tᵗˢᵗ, ρᵗˢᵗ[1], DenseOperator(basis,Hˢⁱᵈₑₓtssos), [DenseOperator(basis,Jˢⁱᵈₑₓtssos)])  \n",
    "        \n",
    "\n",
    "        Fᴸᴹᴱₑₓ = [abs(fidelity(ρ₁, ρ₂)) for (ρ₁, ρ₂) in zip(ρᵗˢᵗ, ρᴸᴹᴱ)]\n",
    "\n",
    "        Fˢⁱᵈᴸᴹᴱₗₘₑrnd = [abs(fidelity(ρ₁, ρ₂)) for (ρ₁, ρ₂) in zip(ρˢⁱᵈₗₘₑrnd, ρᴸᴹᴱ)]\n",
    "        Fˢⁱᵈᵉˣₑₓrnd = [abs(fidelity(ρ₁, ρ₂)) for (ρ₁, ρ₂) in zip(ρˢⁱᵈₑₓrnd, ρᵗˢᵗ)]\n",
    "\n",
    "        Fˢⁱᵈᴸᴹᴱₗₘₑtssos = [abs(fidelity(ρ₁, ρ₂)) for (ρ₁, ρ₂) in zip(ρˢⁱᵈₗₘₑtssos, ρᴸᴹᴱ)]\n",
    "        Fˢⁱᵈᵉˣₑₓtssos = [abs(fidelity(ρ₁, ρ₂)) for (ρ₁, ρ₂) in zip(ρˢⁱᵈₑₓtssos, ρᵗˢᵗ)]\n",
    "                    \n",
    "\n",
    "        h5open(tests_dir*tests_data_file_name,\"cw\") do fid\n",
    "            γ_group = open_group(fid, \"gamma_\"*γᵢ) # open coupling group\n",
    "\n",
    "            init_state_group = create_group(γ_group, df) # create initial state group\n",
    "            init_state_group[\"F_lme_exact\"] = convert.(Float64, Fᴸᴹᴱₑₓ)\n",
    "\n",
    "            init_state_group[\"F_sidlme_lme_tssos\"] = convert.(Float64, Fˢⁱᵈᴸᴹᴱₗₘₑtssos)\n",
    "            init_state_group[\"F_sidexact_exact_tssos\"] = convert.(Float64, Fˢⁱᵈᵉˣₑₓtssos)\n",
    "\n",
    "            init_state_group[\"F_sidlme_lme_rnd\"] = convert.(Float64, Fˢⁱᵈᴸᴹᴱₗₘₑrnd)\n",
    "            init_state_group[\"F_sidexact_exact_rnd\"] = convert.(Float64, Fˢⁱᵈᵉˣₑₓrnd)\n",
    "            \n",
    "        end\n",
    "                    \n",
    "        print(minimum(Fᴸᴹᴱₑₓ), minimum(Fˢⁱᵈᴸᴹᴱₗₘₑrnd), minimum(Fˢⁱᵈᵉˣₑₓrnd), minimum(Fˢⁱᵈᴸᴹᴱₗₘₑtssos), minimum(Fˢⁱᵈᵉˣₑₓtssos))\n",
    "        println(\" \")\n",
    "    \n",
    "    end\n",
    "                \n",
    "    println()\n",
    "    println()\n",
    "                            \n",
    "end"
   ]
  }
 ],
 "metadata": {
  "@webio": {
   "lastCommId": null,
   "lastKernelId": null
  },
  "kernelspec": {
   "display_name": "Julia 1.10.0",
   "language": "julia",
   "name": "julia-1.10"
  },
  "language_info": {
   "file_extension": ".jl",
   "mimetype": "application/julia",
   "name": "julia",
   "version": "1.10.0"
  }
 },
 "nbformat": 4,
 "nbformat_minor": 5
}
