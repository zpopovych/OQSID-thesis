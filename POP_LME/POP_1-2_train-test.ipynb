{
 "cells": [
  {
   "cell_type": "markdown",
   "id": "5d6cdbd4",
   "metadata": {},
   "source": [
    "### Full POP model works"
   ]
  },
  {
   "cell_type": "code",
   "execution_count": 1,
   "id": "6c18b684",
   "metadata": {},
   "outputs": [],
   "source": [
    "include(\"LiPoSID.jl\")\n",
    "using QuantumOptics\n",
    "basis = NLevelBasis(2)\n",
    "using DynamicPolynomials\n",
    "using LinearAlgebra\n",
    "using Dates\n",
    "using HDF5"
   ]
  },
  {
   "cell_type": "markdown",
   "id": "510f5e47",
   "metadata": {},
   "source": [
    "Consider simple Lindblad master equation with just one dissipator:\n",
    "\n",
    "$m\n",
    "     \\frac{d\\rho}{dt} = - \\frac{i}{\\hbar}[H, \\rho]+\\gamma\\left[A \\rho A^\\dagger - \\frac{1}{2}\\left\\{ A^\\dagger A, \\rho \\right\\} \\right]\n",
    "$,\n",
    "\n",
    "where Hamiltonian is hermitian with one of the diagonal elemnets set to zero\n",
    "\n",
    "\n",
    "$\n",
    "    H = \\begin{pmatrix} e_1 & h_1 - i h_2 \\\\ h_1 + i h_2 & 0\n",
    "   \\end{pmatrix}\n",
    "$\n",
    "\n",
    " we can possibly look for jump operator of the form:\n",
    "\n",
    "$\n",
    "A = \\begin{pmatrix} a_{11} + i b_{11} & a_{12} \\\\ a_{21} + i b_{21} & -a_{11} - i b_{11} \n",
    "   \\end{pmatrix} \n",
    "$\n",
    "\n",
    "or\n",
    "\n",
    "$\n",
    "A = \\begin{pmatrix} a_{11} & a_{12} + i b_{12}  \\\\ a_{21} + i b_{21} & -a_{11}\n",
    "   \\end{pmatrix} \n",
    "$\n",
    "\n",
    "or assuming zero temperature \n",
    "\n",
    "$\n",
    "A = \\begin{pmatrix} a_{11} + i b_{11} & a_{12}   \\\\ 0 & -a_{11} - i b_{11}\n",
    "   \\end{pmatrix} \n",
    "$"
   ]
  },
  {
   "cell_type": "code",
   "execution_count": 2,
   "id": "9c14425d",
   "metadata": {},
   "outputs": [
    {
     "data": {
      "text/plain": [
       "2×2 Matrix{Polynomial{true, ComplexF64}}:\n",
       " e₁                  h₁ + (0.0-1.0im)h₂\n",
       " h₁ + (0.0+1.0im)h₂  0.0+0.0im"
      ]
     },
     "execution_count": 2,
     "metadata": {},
     "output_type": "execute_result"
    }
   ],
   "source": [
    "@polyvar e[1]\n",
    "@polyvar h[1:2]\n",
    "\n",
    "\n",
    "Hˢʸᵐᵇ = [ e[1]               h[1] - im*h[2]\n",
    "          h[1] + im*h[2]     0.             ]"
   ]
  },
  {
   "cell_type": "code",
   "execution_count": 3,
   "id": "52616eb7",
   "metadata": {},
   "outputs": [
    {
     "data": {
      "text/plain": [
       "2×2 Matrix{Polynomial{true, Complex{Int64}}}:\n",
       " a₁ + (0+1im)b₁  a₂\n",
       " 0+0im           -a₁ + (0-1im)b₁"
      ]
     },
     "execution_count": 3,
     "metadata": {},
     "output_type": "execute_result"
    }
   ],
   "source": [
    "method = \"T0-fix-Phi-up_\"\n",
    "\n",
    "@polyvar a[1:4]\n",
    "@polyvar b[1:4]\n",
    "\n",
    "\n",
    "#\"just-zero-down_ \"\n",
    "\n",
    "#Aˢʸᵐᵇ = [ a[1]+im*b[1]      a[2] + im*b[2] \n",
    "#          0                -a[1]-im*b[1]  ]\n",
    "\n",
    "\n",
    "#\"fix-Phi-up_: \"\n",
    "\n",
    "#Aˢʸᵐᵇ = [ a[1]+im*b[1]      a[2]\n",
    "#          a[3] + im*b[3]   -a[1]-im*b[1] ]\n",
    "\n",
    "\n",
    "#\"zero Temperature and fix-Phi-up_: \"\n",
    "\n",
    "Aˢʸᵐᵇ = [ a[1]+im*b[1]      a[2]\n",
    "          0                -a[1]-im*b[1] ]\n",
    "\n",
    "#\"zero Temperature and fix-Phi-diag_: \"\n",
    "\n",
    "#Aˢʸᵐᵇ = [ a[1]     a[2]+im*b[2] \n",
    "#          0        -a[1]        ]\n",
    "\n",
    "\n"
   ]
  },
  {
   "cell_type": "code",
   "execution_count": 4,
   "id": "bdb27efd",
   "metadata": {},
   "outputs": [
    {
     "data": {
      "text/plain": [
       "\"/home/zah/POP23\""
      ]
     },
     "execution_count": 4,
     "metadata": {},
     "output_type": "execute_result"
    }
   ],
   "source": [
    "pwd()"
   ]
  },
  {
   "cell_type": "code",
   "execution_count": 5,
   "id": "1311d068",
   "metadata": {},
   "outputs": [
    {
     "name": "stdout",
     "output_type": "stream",
     "text": [
      "/home/zah/POP23/DATA/\n"
     ]
    }
   ],
   "source": [
    "parentdir = pwd()\n",
    "data_dir = parentdir*\"/DATA/\"\n",
    "println(data_dir)\n",
    "\n",
    "models_dir = parentdir*\"/MODELS/\"\n",
    "tests_dir = parentdir*\"/TESTS/\"\n",
    "\n",
    "test_files = [\"State_D\"*string(n) for n=1:20];"
   ]
  },
  {
   "cell_type": "markdown",
   "id": "24649a67",
   "metadata": {},
   "source": [
    "### Train models loop"
   ]
  },
  {
   "cell_type": "code",
   "execution_count": 6,
   "id": "3450fbb0",
   "metadata": {},
   "outputs": [
    {
     "name": "stdout",
     "output_type": "stream",
     "text": [
      "POP_trainB4_T0-fix-Phi-up_2023-Jul-29_at_20-10.h5\n",
      "*********************************** TSSOS ***********************************\n",
      "Version 1.0.0, developed by Jie Wang, 2020--2023\n",
      "TSSOS is launching...\n",
      "optimum = 0.0013068156581235518\n",
      "\n",
      "******************************************************************************\n",
      "This program contains Ipopt, a library for large-scale nonlinear optimization.\n",
      " Ipopt is released as open source code under the Eclipse Public License (EPL).\n",
      "         For more information visit https://github.com/coin-or/Ipopt\n",
      "******************************************************************************\n",
      "\n",
      "Global optimality certified with relative optimality gap 0.000005%!\n",
      "No higher TS step of the TSSOS hierarchy!\n",
      "*********************************** TSSOS ***********************************\n",
      "Version 1.0.0, developed by Jie Wang, 2020--2023\n",
      "TSSOS is launching...\n",
      "optimum = 0.0013067597563595557\n",
      "Found a locally optimal solution by Ipopt, giving an upper bound: 0.01185694.\n",
      "The relative optimality gap is: 1.055018%.\n",
      "No higher TS step of the TSSOS hierarchy!\n",
      "val_p = [0.0013067662754338016, 0.011856943308885093]\n",
      "State_D1 0.9993632930765137 State_D2 0.9993664367220355 State_D3 0.9993663817577406 State_D4 0.999367964165973 State_D5 0.9991794051756486 State_D6 0.9991792796171062 State_D7 0.9990441772770606 State_D8 0.9990454473944831 State_D9 0.9998447684351094 State_D10 0.9998778232119816 State_D11 0.9993662131606073 State_D12 0.9993681029130768 State_D13 0.9993631063400604 State_D14 0.9993665138731714 State_D15 0.999179853029023 State_D16 0.9991799673232621 State_D17 0.9990439705476484 State_D18 0.9990453300401946 State_D19 0.9998778021800027 State_D20 0.9998447795540364 \n",
      "*********************************** TSSOS ***********************************\n",
      "Version 1.0.0, developed by Jie Wang, 2020--2023\n",
      "TSSOS is launching...\n",
      "optimum = 0.001701578404084562\n",
      "Global optimality certified with relative optimality gap 0.000010%!\n",
      "No higher TS step of the TSSOS hierarchy!\n",
      "*********************************** TSSOS ***********************************\n",
      "Version 1.0.0, developed by Jie Wang, 2020--2023\n",
      "TSSOS is launching...\n",
      "optimum = 0.001701465314945794\n",
      "Found a locally optimal solution by Ipopt, giving an upper bound: 0.01320153.\n",
      "The relative optimality gap is: 1.150007%.\n",
      "No higher TS step of the TSSOS hierarchy!\n",
      "val_p = [0.0017014775258274994, 0.013201530328430522]\n",
      "State_D1 0.9995826429524916 State_D2 0.9995949877725686 State_D3 0.9998747444918921 State_D4 0.9998752148624547 State_D5 0.9996834217728294 State_D6 0.9996838081487579 State_D7 0.9997858856810554 State_D8 0.9997886073105374 State_D9 0.9993944073967703 State_D10 0.9999040546434629 State_D11 0.9998746334454011 State_D12 0.9998751504338217 State_D13 0.9995828515582706 State_D14 0.9995946511396381 State_D15 0.9998487941415656 State_D16 0.9998491749846025 State_D17 0.999785778162553 State_D18 0.9997887206899211 State_D19 0.9999040608257248 State_D20 0.9993939642918548 \n",
      "*********************************** TSSOS ***********************************\n",
      "Version 1.0.0, developed by Jie Wang, 2020--2023\n",
      "TSSOS is launching...\n",
      "optimum = 0.0019662091436850604\n",
      "Global optimality certified with relative optimality gap 0.000011%!\n",
      "No higher TS step of the TSSOS hierarchy!\n",
      "*********************************** TSSOS ***********************************\n",
      "Version 1.0.0, developed by Jie Wang, 2020--2023\n",
      "TSSOS is launching...\n",
      "optimum = 0.0019660954489319933\n",
      "Found a locally optimal solution by Ipopt, giving an upper bound: 0.01513515.\n",
      "The relative optimality gap is: 1.316905%.\n",
      "No higher TS step of the TSSOS hierarchy!\n",
      "val_p = [0.0019660994657764164, 0.015135148625691208]\n",
      "State_D1 0.9981132807855095 State_D2 0.9981465500252414 State_D3 0.998860542975103 State_D4 0.9988659816930987 State_D5 0.9982987878309914 State_D6 0.9982984115792354 State_D7 0.9985299337573104 State_D8 0.9985428224296294 State_D9 0.9979017728160184 State_D10 0.9990235572673436 State_D11 0.9988601561510811 State_D12 0.9988654518051507 State_D13 0.9981137472901513 State_D14 0.9981470623390899 State_D15 0.9987513389757166 State_D16 0.998752266752137 State_D17 0.9985301904262541 State_D18 0.9985424391327514 State_D19 0.9990238299051895 State_D20 0.997905415115079 \n",
      "*********************************** TSSOS ***********************************\n",
      "Version 1.0.0, developed by Jie Wang, 2020--2023\n",
      "TSSOS is launching...\n",
      "optimum = 0.0031287307525197\n",
      "Global optimality certified with relative optimality gap 0.000002%!\n",
      "No higher TS step of the TSSOS hierarchy!\n",
      "*********************************** TSSOS ***********************************\n",
      "Version 1.0.0, developed by Jie Wang, 2020--2023\n",
      "TSSOS is launching...\n",
      "optimum = 0.0031286950365193734\n",
      "Global optimality certified with relative optimality gap 0.000002%!\n",
      "No higher TS step of the TSSOS hierarchy!\n",
      "val_p = [0.0031287106321711278, 0.0031287106321706837]\n",
      "State_D1 0.9934268294159823 State_D2 0.9936069702087789 State_D3 0.9951411637993752 State_D4 0.9951763698840561 State_D5 0.9938662913946825 State_D6 0.9938493374944023 State_D7 0.9942983491607996 State_D8 0.9943828589863867 State_D9 0.9931787008962716 State_D10 0.9956037829965177 State_D11 0.995136376867321 State_D12 0.9951825698732133 State_D13 0.9934269764054973 State_D14 0.9936107434206637 State_D15 0.9948702409341372 State_D16 0.9948811730988772 State_D17 0.9942930297137256 State_D18 0.9943787362499754 State_D19 0.9956027047962334 State_D20 0.9931789349157839 \n",
      "*********************************** TSSOS ***********************************\n",
      "Version 1.0.0, developed by Jie Wang, 2020--2023\n",
      "TSSOS is launching...\n",
      "optimum = 0.0046086110796806365\n",
      "Global optimality certified with relative optimality gap 0.000008%!\n",
      "No higher TS step of the TSSOS hierarchy!\n",
      "*********************************** TSSOS ***********************************\n",
      "Version 1.0.0, developed by Jie Wang, 2020--2023\n",
      "TSSOS is launching...\n",
      "optimum = 0.004608514721705965\n",
      "Global optimality certified with relative optimality gap 0.000002%!\n",
      "No higher TS step of the TSSOS hierarchy!\n",
      "val_p = [0.00460853181930472, 0.00460853181930472]\n",
      "State_D1 0.9804703295709677 State_D2 0.9814545909091275 State_D3 0.9870243676675616 State_D4 0.9871412531227037 State_D5 0.9824068365735369 State_D6 0.9819221974277279 State_D7 0.983526442592849 State_D8 0.9840569856801142 State_D9 0.9797175365371662 State_D10 0.9889293122286477 State_D11 0.9865170737618411 State_D12 0.9873071117640717 State_D13 0.9800470510202115 State_D14 0.9816139071526905 State_D15 0.9856544336348139 State_D16 0.9861876648501549 State_D17 0.9825162053744947 State_D18 0.9840887044483355 State_D19 0.9888255177209874 State_D20 0.9796874588006692 \n",
      "*********************************** TSSOS ***********************************\n",
      "Version 1.0.0, developed by Jie Wang, 2020--2023\n",
      "TSSOS is launching...\n",
      "optimum = 0.005924686356808773\n",
      "Global optimality certified with relative optimality gap 0.000003%!\n",
      "No higher TS step of the TSSOS hierarchy!\n",
      "*********************************** TSSOS ***********************************\n",
      "Version 1.0.0, developed by Jie Wang, 2020--2023\n",
      "TSSOS is launching...\n",
      "optimum = 0.005924647560797386\n",
      "Global optimality certified with relative optimality gap 0.000001%!\n",
      "No higher TS step of the TSSOS hierarchy!\n",
      "val_p = [0.005924653212879575, 0.005924653212879572]\n",
      "State_D1 0.9850104335886197 State_D2 0.9751516720792269 State_D3 0.9844036834161523 State_D4 0.990576412067763 State_D5 0.9934584751845414 State_D6 0.9494686945949482 State_D7 0.9732811533992793 State_D8 0.9598510978800268 State_D9 0.982200343892873 State_D10 0.9891722922948468 State_D11 0.9443911157558463 State_D12 0.97862641830511 State_D13 0.9360722363331291 State_D14 0.9861731993297612 State_D15 0.9616061887676149 State_D16 0.9923952214978327 State_D17 0.923483143246687 State_D18 0.9827353992296987 State_D19 0.9795887260225113 State_D20 0.9729650742886136 \n",
      "*********************************** TSSOS ***********************************\n",
      "Version 1.0.0, developed by Jie Wang, 2020--2023\n",
      "TSSOS is launching...\n",
      "optimum = 0.0019738002308099314\n",
      "Global optimality certified with relative optimality gap 0.001842%!\n",
      "No higher TS step of the TSSOS hierarchy!\n",
      "*********************************** TSSOS ***********************************\n",
      "Version 1.0.0, developed by Jie Wang, 2020--2023\n",
      "TSSOS is launching...\n",
      "optimum = 0.0019737932422771204\n",
      "Global optimality certified with relative optimality gap 0.001846%!\n",
      "No higher TS step of the TSSOS hierarchy!\n",
      "val_p = [0.001992219103772798, 0.001992254392619867]\n"
     ]
    },
    {
     "name": "stdout",
     "output_type": "stream",
     "text": [
      "State_D1 0.9991169363006824 State_D2 0.9995717648143699 State_D3 0.9991884421567065 State_D4 0.9995078788627128 State_D5 0.9994339599824615 State_D6 0.9993220223075939 State_D7 0.9977397132611057 State_D8 0.9988297628813839 State_D9 0.9993108835746162 State_D10 0.9994235544764112 State_D11 0.9990274862990678 State_D12 0.9994338243308778 State_D13 0.9984447482722294 State_D14 0.9989943976770921 State_D15 0.9996456852551345 State_D16 0.9996297829301102 State_D17 0.9974042859261141 State_D18 0.9991324117316933 State_D19 0.9994394207875955 State_D20 0.9988099094249738 \n",
      "*********************************** TSSOS ***********************************\n",
      "Version 1.0.0, developed by Jie Wang, 2020--2023\n",
      "TSSOS is launching...\n",
      "optimum = 0.015071847987465747\n",
      "Global optimality certified with relative optimality gap 0.000831%!\n",
      "No higher TS step of the TSSOS hierarchy!\n",
      "*********************************** TSSOS ***********************************\n",
      "Version 1.0.0, developed by Jie Wang, 2020--2023\n",
      "TSSOS is launching...\n",
      "optimum = 0.015071741450758059\n",
      "Global optimality certified with relative optimality gap 0.000847%!\n",
      "No higher TS step of the TSSOS hierarchy!\n",
      "val_p = [0.015080159441124142, 0.01508021442715729]\n",
      "State_D1 0.996612373442309 State_D2 0.9948370321992873 State_D3 0.9960019468201047 State_D4 0.9942442101215142 State_D5 0.9939535254860168 State_D6 0.9928413683940547 State_D7 0.9997100027706585 State_D8 0.9987515533682909 State_D9 0.9947234835305239 State_D10 0.9936758956000673 State_D11 0.9935403561863292 State_D12 0.9949317951057971 State_D13 0.9955750246929211 State_D14 0.9956969586332484 State_D15 0.9923698794690408 State_D16 0.9935376219699686 State_D17 0.9964814903074435 State_D18 0.9981998013562982 State_D19 0.9936038912102819 State_D20 0.9948790244284063 \n"
     ]
    }
   ],
   "source": [
    "date_and_time_string =  string(Dates.format(now(), \"yyyy-u-dd_at_HH-MM\"))\n",
    "models_file = \"POP_trainB4_\"*method*date_and_time_string * \".h5\"\n",
    "tests_data_file_name = \"POP_testD20_\"*method*date_and_time_string * \".h5\"\n",
    "\n",
    "println(models_file)\n",
    "\n",
    "γ = [ \"0.079477\",  \"0.25133\", \"0.79477\", \"2.5133\", \"7.9477\", \"25.133\", \"79.477\", \"251.33\"]\n",
    "\n",
    "for γᵢ in γ\n",
    "\n",
    "    ρᵍ, tᵍ = LiPoSID.get_rho_series(data_dir*\"State_B1_2CUT_data.h5\", γᵢ)\n",
    "    ρᵉ, tᵉ = LiPoSID.get_rho_series(data_dir*\"State_B2_2CUT_data.h5\", γᵢ)\n",
    "    ρˣ, tˣ = LiPoSID.get_rho_series(data_dir*\"State_B3_2CUT_data.h5\", γᵢ)\n",
    "    ρʸ, tʸ = LiPoSID.get_rho_series(data_dir*\"State_B4_2CUT_data.h5\", γᵢ)\n",
    "    \n",
    "    start_time = time()\n",
    "    \n",
    "    objₑₓ = 0\n",
    "\n",
    "    for (ρ,t) in zip([ρᵍ, ρᵉ, ρˣ, ρʸ], [tᵍ, tᵉ, tˣ, tʸ])\n",
    "        \n",
    "        t = convert(Vector{Float64}, t)\n",
    "        @assert maximum(diff(t)) ≈ minimum(diff(t)) ≈ t[2]-t[1]\n",
    "\n",
    "        # Convert cut ρ series:\n",
    "        ρ = convert(Vector{Matrix{ComplexF64}}, ρ)\n",
    "        objₑₓ += LiPoSID.simpson_obj(ρ, t,  Hˢʸᵐᵇ, [Aˢʸᵐᵇ])\n",
    "        \n",
    "    end # of files (initial states) loop\n",
    "    \n",
    "      \n",
    "    solₑₓⁿᵉʷ, best_methodₑₓⁿᵉʷ = LiPoSID.sos_min_newton(objₑₓ) \n",
    "    \n",
    "    runtime = time() - start_time\n",
    "    \n",
    "    Hˢⁱᵈₑₓ = subs(Hˢʸᵐᵇ, solₑₓⁿᵉʷ)\n",
    "    Aˢⁱᵈₑₓ = subs(Aˢʸᵐᵇ, solₑₓⁿᵉʷ)\n",
    "    \n",
    "    H = DenseOperator(basis, Hˢⁱᵈₑₓ)\n",
    "    A = DenseOperator(basis, Aˢⁱᵈₑₓ)\n",
    "\n",
    "    \n",
    "    h5open(models_dir*models_file,\"cw\") do fid  # read-write, create file if not existing, preserve existing contents\n",
    "\n",
    "        γ_group = create_group(fid, \"gamma_\"*γᵢ)\n",
    "\n",
    "        γ_group[\"H\"] = convert.(ComplexF64, Hˢⁱᵈₑₓ)\n",
    "        γ_group[\"A\"] = convert.(ComplexF64, Aˢⁱᵈₑₓ)\n",
    "        \n",
    "        γ_group[\"runtime\"] = runtime\n",
    "        \n",
    "    end # of HDF5 writing\n",
    "    \n",
    "    \n",
    "    h5open(tests_dir*tests_data_file_name,\"cw\") do fid\n",
    "        γ_group = create_group(fid, \"gamma_\"*γᵢ)\n",
    "    end \n",
    "    \n",
    "    for df in test_files # loop over initial states\n",
    "        \n",
    "        print(df*\" \")\n",
    "\n",
    "        start_time = time()\n",
    "\n",
    "        ρ, t = LiPoSID.get_rho_series(data_dir*df*\"_2CUT_data.h5\", γᵢ)\n",
    "        ρ = convert(Vector{Matrix{ComplexF64}}, ρ)\n",
    "\n",
    "        ρᵗᵉˢᵗ = [DenseOperator(basis,Hermitian(ρₜ)) for ρₜ in ρ]\n",
    "\n",
    "        t = convert(Vector{Float64}, t)\n",
    "\n",
    "        tᴸᴹᴱ, ρᴸᴹᴱ  = timeevolution.master(t, ρᵗᵉˢᵗ[1], H, [A])\n",
    "\n",
    "        F = [abs(fidelity(ρ₁, ρ₂)) for (ρ₁, ρ₂) in zip(ρᵗᵉˢᵗ, ρᴸᴹᴱ)]\n",
    "\n",
    "        runtime = time() - start_time\n",
    "\n",
    "        h5open(tests_dir*tests_data_file_name,\"cw\") do fid\n",
    "            γ_group = open_group(fid, \"gamma_\"*γᵢ) # open coupling group\n",
    "\n",
    "            init_state_group = create_group(γ_group, df) # create initial state group\n",
    "            init_state_group[\"fidelity\"] = convert.(Float64, F)\n",
    "            init_state_group[\"runtime\"] = runtime\n",
    "        end\n",
    "                    \n",
    "        print(minimum(F))\n",
    "        print(\" \")\n",
    "    \n",
    "    end\n",
    "                \n",
    "    println()\n",
    "\n",
    "end"
   ]
  },
  {
   "cell_type": "code",
   "execution_count": 7,
   "id": "4b515630",
   "metadata": {},
   "outputs": [
    {
     "data": {
      "text/plain": [
       "\"POP_testD20_T0-fix-Phi-up_2023-Jul-29_at_20-10.h5\""
      ]
     },
     "execution_count": 7,
     "metadata": {},
     "output_type": "execute_result"
    }
   ],
   "source": [
    "tests_data_file_name"
   ]
  },
  {
   "cell_type": "code",
   "execution_count": null,
   "id": "a28f0ea1",
   "metadata": {},
   "outputs": [],
   "source": []
  }
 ],
 "metadata": {
  "@webio": {
   "lastCommId": null,
   "lastKernelId": null
  },
  "kernelspec": {
   "display_name": "Julia 1.9.2",
   "language": "julia",
   "name": "julia-1.9"
  },
  "language_info": {
   "file_extension": ".jl",
   "mimetype": "application/julia",
   "name": "julia",
   "version": "1.9.2"
  }
 },
 "nbformat": 4,
 "nbformat_minor": 5
}
