{
 "cells": [
  {
   "cell_type": "code",
   "execution_count": 1,
   "id": "19705211",
   "metadata": {},
   "outputs": [],
   "source": [
    "import seaborn as sns\n",
    "import matplotlib.pyplot as plt\n",
    "import h5py  \n",
    "import pandas as pd\n",
    "import numpy as np\n",
    "import os"
   ]
  },
  {
   "cell_type": "code",
   "execution_count": 2,
   "id": "29727111",
   "metadata": {},
   "outputs": [],
   "source": [
    "df = pd.read_pickle(\"../TESTS/dataframe_Ansatz_fidelity_tests_D20.pkl\")"
   ]
  },
  {
   "cell_type": "code",
   "execution_count": 3,
   "id": "5c5b748c",
   "metadata": {},
   "outputs": [
    {
     "data": {
      "text/html": [
       "<div>\n",
       "<style scoped>\n",
       "    .dataframe tbody tr th:only-of-type {\n",
       "        vertical-align: middle;\n",
       "    }\n",
       "\n",
       "    .dataframe tbody tr th {\n",
       "        vertical-align: top;\n",
       "    }\n",
       "\n",
       "    .dataframe thead th {\n",
       "        text-align: right;\n",
       "    }\n",
       "</style>\n",
       "<table border=\"1\" class=\"dataframe\">\n",
       "  <thead>\n",
       "    <tr style=\"text-align: right;\">\n",
       "      <th></th>\n",
       "      <th>Gamma</th>\n",
       "      <th>State</th>\n",
       "      <th>Time</th>\n",
       "      <th>gt</th>\n",
       "      <th>Fidelity</th>\n",
       "      <th>Infidelity</th>\n",
       "      <th>Distance</th>\n",
       "    </tr>\n",
       "  </thead>\n",
       "  <tbody>\n",
       "    <tr>\n",
       "      <th>0</th>\n",
       "      <td>0.079477</td>\n",
       "      <td>1</td>\n",
       "      <td>0.06000</td>\n",
       "      <td>0.004769</td>\n",
       "      <td>1.000000</td>\n",
       "      <td>-6.039613e-14</td>\n",
       "      <td>0.341925</td>\n",
       "    </tr>\n",
       "    <tr>\n",
       "      <th>1</th>\n",
       "      <td>0.079477</td>\n",
       "      <td>1</td>\n",
       "      <td>0.08000</td>\n",
       "      <td>0.006358</td>\n",
       "      <td>0.999997</td>\n",
       "      <td>2.694844e-06</td>\n",
       "      <td>0.341925</td>\n",
       "    </tr>\n",
       "    <tr>\n",
       "      <th>2</th>\n",
       "      <td>0.079477</td>\n",
       "      <td>1</td>\n",
       "      <td>0.10000</td>\n",
       "      <td>0.007948</td>\n",
       "      <td>0.999982</td>\n",
       "      <td>1.777234e-05</td>\n",
       "      <td>0.341925</td>\n",
       "    </tr>\n",
       "    <tr>\n",
       "      <th>3</th>\n",
       "      <td>0.079477</td>\n",
       "      <td>1</td>\n",
       "      <td>0.12000</td>\n",
       "      <td>0.009537</td>\n",
       "      <td>0.999972</td>\n",
       "      <td>2.793938e-05</td>\n",
       "      <td>0.341925</td>\n",
       "    </tr>\n",
       "    <tr>\n",
       "      <th>4</th>\n",
       "      <td>0.079477</td>\n",
       "      <td>1</td>\n",
       "      <td>0.14000</td>\n",
       "      <td>0.011127</td>\n",
       "      <td>0.999986</td>\n",
       "      <td>1.365625e-05</td>\n",
       "      <td>0.341925</td>\n",
       "    </tr>\n",
       "    <tr>\n",
       "      <th>...</th>\n",
       "      <td>...</td>\n",
       "      <td>...</td>\n",
       "      <td>...</td>\n",
       "      <td>...</td>\n",
       "      <td>...</td>\n",
       "      <td>...</td>\n",
       "      <td>...</td>\n",
       "    </tr>\n",
       "    <tr>\n",
       "      <th>751</th>\n",
       "      <td>79.477</td>\n",
       "      <td>9</td>\n",
       "      <td>0.23800</td>\n",
       "      <td>18.915526</td>\n",
       "      <td>0.788154</td>\n",
       "      <td>2.118457e-01</td>\n",
       "      <td>0.277180</td>\n",
       "    </tr>\n",
       "    <tr>\n",
       "      <th>752</th>\n",
       "      <td>79.477</td>\n",
       "      <td>9</td>\n",
       "      <td>0.23825</td>\n",
       "      <td>18.935395</td>\n",
       "      <td>0.788127</td>\n",
       "      <td>2.118732e-01</td>\n",
       "      <td>0.277180</td>\n",
       "    </tr>\n",
       "    <tr>\n",
       "      <th>753</th>\n",
       "      <td>79.477</td>\n",
       "      <td>9</td>\n",
       "      <td>0.23850</td>\n",
       "      <td>18.955264</td>\n",
       "      <td>0.788101</td>\n",
       "      <td>2.118987e-01</td>\n",
       "      <td>0.277180</td>\n",
       "    </tr>\n",
       "    <tr>\n",
       "      <th>754</th>\n",
       "      <td>79.477</td>\n",
       "      <td>9</td>\n",
       "      <td>0.23875</td>\n",
       "      <td>18.975134</td>\n",
       "      <td>0.788078</td>\n",
       "      <td>2.119222e-01</td>\n",
       "      <td>0.277180</td>\n",
       "    </tr>\n",
       "    <tr>\n",
       "      <th>755</th>\n",
       "      <td>79.477</td>\n",
       "      <td>9</td>\n",
       "      <td>0.23900</td>\n",
       "      <td>18.995003</td>\n",
       "      <td>0.788056</td>\n",
       "      <td>2.119437e-01</td>\n",
       "      <td>0.277180</td>\n",
       "    </tr>\n",
       "  </tbody>\n",
       "</table>\n",
       "<p>278282 rows × 7 columns</p>\n",
       "</div>"
      ],
      "text/plain": [
       "        Gamma State     Time         gt  Fidelity    Infidelity  Distance\n",
       "0    0.079477     1  0.06000   0.004769  1.000000 -6.039613e-14  0.341925\n",
       "1    0.079477     1  0.08000   0.006358  0.999997  2.694844e-06  0.341925\n",
       "2    0.079477     1  0.10000   0.007948  0.999982  1.777234e-05  0.341925\n",
       "3    0.079477     1  0.12000   0.009537  0.999972  2.793938e-05  0.341925\n",
       "4    0.079477     1  0.14000   0.011127  0.999986  1.365625e-05  0.341925\n",
       "..        ...   ...      ...        ...       ...           ...       ...\n",
       "751    79.477     9  0.23800  18.915526  0.788154  2.118457e-01  0.277180\n",
       "752    79.477     9  0.23825  18.935395  0.788127  2.118732e-01  0.277180\n",
       "753    79.477     9  0.23850  18.955264  0.788101  2.118987e-01  0.277180\n",
       "754    79.477     9  0.23875  18.975134  0.788078  2.119222e-01  0.277180\n",
       "755    79.477     9  0.23900  18.995003  0.788056  2.119437e-01  0.277180\n",
       "\n",
       "[278282 rows x 7 columns]"
      ]
     },
     "execution_count": 3,
     "metadata": {},
     "output_type": "execute_result"
    }
   ],
   "source": [
    "df"
   ]
  },
  {
   "cell_type": "code",
   "execution_count": 4,
   "id": "8212b442",
   "metadata": {},
   "outputs": [
    {
     "data": {
      "text/plain": [
       "0.9990294750145047"
      ]
     },
     "execution_count": 4,
     "metadata": {},
     "output_type": "execute_result"
    }
   ],
   "source": [
    "df[df.Gamma == \"0.079477\"].Fidelity.min()"
   ]
  },
  {
   "cell_type": "code",
   "execution_count": 5,
   "id": "73c8c66a",
   "metadata": {},
   "outputs": [
    {
     "name": "stderr",
     "output_type": "stream",
     "text": [
      "/home/zah/anaconda3/lib/python3.11/site-packages/pandas/core/arraylike.py:402: RuntimeWarning: divide by zero encountered in log10\n",
      "  result = getattr(ufunc, method)(*inputs, **kwargs)\n"
     ]
    },
    {
     "data": {
      "text/plain": [
       "array([7.9000e-02, 2.5100e-01, 7.9500e-01, 2.5130e+00, 2.5133e+01,\n",
       "       2.5133e+02, 7.9480e+00, 7.9477e+01])"
      ]
     },
     "execution_count": 5,
     "metadata": {},
     "output_type": "execute_result"
    }
   ],
   "source": [
    "gammas = ['0.079477', '0.25133', '0.79477', '2.5133', '7.9477', '25.133', '79.477', '251.33']\n",
    "\n",
    "df.replace(to_replace= '0.079477', value = '0.079', inplace=True )\n",
    "df.replace(to_replace= '0.79477', value = '0.795', inplace=True )\n",
    "df.replace(to_replace= '0.25133', value = '0.251', inplace=True )\n",
    "df.replace(to_replace= '2.5133', value = '2.513', inplace=True )\n",
    "df.replace(to_replace= '7.9477', value = '7.948', inplace=True )\n",
    "\n",
    "df['Gamma'] = df['Gamma'].astype(float)\n",
    "\n",
    "df['Infidelity'] = df['Infidelity'].abs()\n",
    "\n",
    "df['Log_Infidelity'] = np.log10(df['Infidelity'])\n",
    "\n",
    "df.loc[df[\"Log_Infidelity\"] < -12, \"Log_Infidelity\"] = -12\n",
    "\n",
    "pd.unique(df[\"Gamma\"])"
   ]
  },
  {
   "cell_type": "code",
   "execution_count": 14,
   "id": "5ddd3750",
   "metadata": {},
   "outputs": [],
   "source": [
    "def log_infidelity_from_gamma(df, title):\n",
    "   \n",
    "    fig, ax = plt.subplots(1, 1, figsize=(6,6))\n",
    "    \n",
    "    sns.violinplot(ax=ax, data=df, x=\"Gamma\", y=\"Log_Infidelity\", cut = 0, # hue = \"Method\", split=True,\n",
    "                        scale=\"width\", palette =\"cool\", linewidth=0.5,\n",
    "                        inner= None, bw=\"silverman\")\n",
    "    \n",
    "    ymin = -6\n",
    "    ymax = -0.1\n",
    "    \n",
    "    tick_range = np.arange(ymin, ymax)\n",
    "    ax.yaxis.set_ticks(tick_range, [r'$10^{-6}$', r'$10^{-5}$', r'$10^{-4}$', r'$10^{-3}$', r'$10^{-2}$', r'$10^{-1}$',])\n",
    "    ax.yaxis.set_ticks([np.log10(x) for p in tick_range for x in np.linspace(10 ** p, 10 ** (p + 1), 10)], minor=True)\n",
    "\n",
    "    ax.set_title(title)\n",
    "    ax.set_ylim(ymin, ymax)\n",
    "    ax.set_xlabel(r'Coupling $\\gamma$')\n",
    "    ax.set_ylabel(r'Infidelity $(1-F)$')\n",
    "    \n",
    "    ax.hlines(y=np.log10(.01), xmin=-0.5, xmax=7.1, colors='black', linestyles='--', alpha=0.8)\n",
    "    ax.text(7.2, np.log10(.01), '0.01', ha='left', va='center')\n",
    "    \n",
    "    ax.hlines(y=np.log10(.02), xmin=-0.5, xmax=7.1, colors='black', linestyles='--', alpha=0.8)\n",
    "    ax.text(7.2, np.log10(.02), '0.02', ha='left', va='center')\n",
    " \n",
    "    return fig"
   ]
  },
  {
   "cell_type": "code",
   "execution_count": 15,
   "id": "3c5517d7",
   "metadata": {},
   "outputs": [
    {
     "name": "stderr",
     "output_type": "stream",
     "text": [
      "/tmp/ipykernel_85401/3615994025.py:2: UserWarning: Matplotlib is currently using module://matplotlib_inline.backend_inline, which is a non-GUI backend, so cannot show the figure.\n",
      "  fig.show()\n"
     ]
    },
    {
     "data": {
      "image/png": "[encoded data removed]",
      "text/plain": [
       "<Figure size 600x600 with 1 Axes>"
      ]
     },
     "metadata": {},
     "output_type": "display_data"
    }
   ],
   "source": [
    "fig = log_infidelity_from_gamma(df, \"\")\n",
    "fig.show()"
   ]
  },
  {
   "cell_type": "code",
   "execution_count": 16,
   "id": "1c9551b4",
   "metadata": {},
   "outputs": [],
   "source": [
    "fig.savefig(\"2Level_LogInfidelityAnsatz.pdf\")"
   ]
  },
  {
   "cell_type": "code",
   "execution_count": null,
   "id": "b3c628db",
   "metadata": {},
   "outputs": [],
   "source": []
  }
 ],
 "metadata": {
  "@webio": {
   "lastCommId": null,
   "lastKernelId": null
  },
  "kernelspec": {
   "display_name": "Python 3 (ipykernel)",
   "language": "python",
   "name": "python3"
  },
  "language_info": {
   "codemirror_mode": {
    "name": "ipython",
    "version": 3
   },
   "file_extension": ".py",
   "mimetype": "text/x-python",
   "name": "python",
   "nbconvert_exporter": "python",
   "pygments_lexer": "ipython3",
   "version": "3.11.4"
  }
 },
 "nbformat": 4,
 "nbformat_minor": 5
}
