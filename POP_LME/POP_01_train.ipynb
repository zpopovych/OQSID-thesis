{
 "cells": [
  {
   "cell_type": "markdown",
   "id": "5d6cdbd4",
   "metadata": {},
   "source": [
    "### Full POP model works"
   ]
  },
  {
   "cell_type": "code",
   "execution_count": 1,
   "id": "6c18b684",
   "metadata": {},
   "outputs": [],
   "source": [
    "include(\"LiPoSID.jl\")\n",
    "using QuantumOptics\n",
    "basis = NLevelBasis(2)\n",
    "using DynamicPolynomials\n",
    "using LinearAlgebra\n",
    "using Dates\n",
    "using HDF5"
   ]
  },
  {
   "cell_type": "markdown",
   "id": "510f5e47",
   "metadata": {},
   "source": [
    "Consider simple Lindblad master equation with just one dissipator:\n",
    "\n",
    "$m\n",
    "     \\frac{d\\rho}{dt} = - \\frac{i}{\\hbar}[H, \\rho]+\\gamma\\left[A \\rho A^\\dagger - \\frac{1}{2}\\left\\{ A^\\dagger A, \\rho \\right\\} \\right]\n",
    "$,\n",
    "\n",
    "where Hamiltonian is hermitian with one of the diagonal elemnets set to zero\n",
    "\n",
    "\n",
    "$\n",
    "    H = \\begin{pmatrix} e_1 & h_1 - i h_2 \\\\ h_1 + i h_2 & 0\n",
    "   \\end{pmatrix}\n",
    "$\n",
    "\n",
    "and as dissipator is traceless:\n",
    "\n",
    "$\n",
    "A = \\begin{pmatrix} a_1 + i b_1 &   a_2 + i b_2\\\\  a_3 + i b_3 & -a_1 - i b_1\n",
    "   \\end{pmatrix} $\n",
    "   \n",
    "$\\operatorname{Tr} A = 0$\n",
    "\n",
    "3. The Lindblad equation is also invariant under any unitary transformation $v$ of Lindblad operators and constants:\n",
    "\n",
    "$\\sqrt{\\gamma_i}A_i \\rightarrow \\sqrt{\\gamma'_i}A'_i = \\sum_j v_{ij} \\sqrt{\\gamma} A_j$\n",
    "\n",
    "if we have just one operator $A$ it means that we can pick any of its unitary invariants.\n",
    "\n",
    "   \n",
    "So the $A$ operator is both traceless and phase invariant\n",
    "$\n",
    "A = \\begin{pmatrix} a e^{i \\phi_a} & b e^{i \\phi_b} \\\\ c e^{i \\phi_c} & -a e^{i \\phi_a}\n",
    "   \\end{pmatrix} \n",
    "= \\begin{pmatrix} a e^{i (\\phi_a - \\phi_b)} & b \\\\ c e^{i (\\phi_c - \\phi_b)} & -a e^{i (\\phi_a - \\phi_b)}\n",
    "   \\end{pmatrix} e^{i \\phi_b}\n",
    "$\n",
    "\n",
    "Therefore we can possibly look for jump operator of the form:\n",
    "\n",
    "$\n",
    "A = \\begin{pmatrix} a_{11} + i b_{11} & a_{12} \\\\ a_{21} + i b_{21} & -a_{11} - i b_{11} \n",
    "   \\end{pmatrix} \n",
    "$\n",
    "\n",
    "or\n",
    "\n",
    "$\n",
    "A = \\begin{pmatrix} a_{11} & a_{12} + i b_{12}  \\\\ a_{21} + i b_{21} & -a_{11}\n",
    "   \\end{pmatrix} \n",
    "$"
   ]
  },
  {
   "cell_type": "code",
   "execution_count": 2,
   "id": "9c14425d",
   "metadata": {},
   "outputs": [],
   "source": [
    "#using DynamicPolynomials\n",
    "\n",
    "@polyvar g\n",
    "\n",
    "@polyvar e[1]\n",
    "@polyvar h[1:2]\n",
    "\n",
    "#Hˢʸᵐᵇ = [ 0.      0.\n",
    "#         0.     e[1] ]\n",
    "\n",
    "# Hˢʸᵐᵇₐₙ\n",
    "Hˢʸᵐᵇ = [ e[1]               h[1] - im*h[2]\n",
    "          h[1] + im*h[2]     0.             ]"
   ]
  },
  {
   "cell_type": "code",
   "execution_count": 3,
   "id": "52616eb7",
   "metadata": {},
   "outputs": [],
   "source": [
    "@polyvar a[1:4]\n",
    "@polyvar b[1:4]\n",
    "\n",
    "#Aˢʸᵐᵇ = [  0.           a[2] + im*b[2]\n",
    "#           0.           0.             ]\n",
    "\n",
    "Aˢʸᵐᵇ = [ a[1]+im*b[1]   a[2]\n",
    "          0               -a[1]-im*b[1] ]"
   ]
  },
  {
   "cell_type": "code",
   "execution_count": 4,
   "id": "bdb27efd",
   "metadata": {},
   "outputs": [],
   "source": [
    "pwd()"
   ]
  },
  {
   "cell_type": "code",
   "execution_count": 5,
   "id": "1311d068",
   "metadata": {},
   "outputs": [],
   "source": [
    "parentdir = pwd()\n",
    "data_dir = parentdir*\"/DATA/\"\n",
    "println(data_dir)\n",
    "\n",
    "output_directory = parentdir*\"/MODELS/\""
   ]
  },
  {
   "cell_type": "markdown",
   "id": "24649a67",
   "metadata": {},
   "source": [
    "### Train models loop"
   ]
  },
  {
   "cell_type": "code",
   "execution_count": 6,
   "id": "3450fbb0",
   "metadata": {},
   "outputs": [],
   "source": [
    "date_and_time_string =  string(Dates.format(now(), \"yyyy-u-dd_at_HH-MM\"))\n",
    "res_file_name = \"POP_train-B-zero-down-off-diag_\" * date_and_time_string * \".h5\"\n",
    "\n",
    "#α = 0. #regularization coefficient\n",
    "\n",
    "println(res_file_name)\n",
    "\n",
    "γ = [ \"0.079477\",  \"0.25133\", \"0.79477\", \"2.5133\", \"7.9477\", \"25.133\", \"79.477\", \"251.33\"]\n",
    "\n",
    "for γᵢ in γ\n",
    "\n",
    "    ρᵍ, tᵍ = LiPoSID.get_rho_series(data_dir*\"State_B1_2CUT_data.h5\", γᵢ)\n",
    "    ρᵉ, tᵉ = LiPoSID.get_rho_series(data_dir*\"State_B2_2CUT_data.h5\", γᵢ)\n",
    "    ρˣ, tˣ = LiPoSID.get_rho_series(data_dir*\"State_B3_2CUT_data.h5\", γᵢ)\n",
    "    ρʸ, tʸ = LiPoSID.get_rho_series(data_dir*\"State_B4_2CUT_data.h5\", γᵢ)\n",
    "    \n",
    "    start_time = time()\n",
    "    \n",
    "    objₑₓ = 0\n",
    "    #objₑₓₐₙ = 0\n",
    "\n",
    "    for (ρ,t) in zip([ρᵍ, ρᵉ, ρˣ, ρʸ], [tᵍ, tᵉ, tˣ, tʸ])\n",
    "        \n",
    "        t = convert(Vector{Float64}, t)\n",
    "        @assert maximum(diff(t)) ≈ minimum(diff(t)) ≈ t[2]-t[1]\n",
    "\n",
    "        # Convert cut ρ series:\n",
    "        ρ = convert(Vector{Matrix{ComplexF64}}, ρ)\n",
    "        objₑₓ += LiPoSID.simpson_obj(ρ, t,  Hˢʸᵐᵇ, [Aˢʸᵐᵇ])\n",
    "        #objₑₓₐₙ += LiPoSID.simpson_obj(ρ, t,  Hˢʸᵐᵇₐₙ, [Aˢʸᵐᵇ], g)\n",
    "        \n",
    "    end # of files (initial states) loop\n",
    "    \n",
    "    #objₑₓ += α * (sum(a.^4)+sum(b.^4)+sum(h.^2)) #adding regularization\n",
    "    #objₑₓ += α *  sum(variables(objₑₓ).^3)\n",
    "    \n",
    "    #objₑₓ += α * (sum(a.^2)+sum(b.^2)) #adding regularization\n",
    "    \n",
    "    #objₑₓ += α *sum(variables(tr(Aˢʸᵐᵇ*Aˢʸᵐᵇ')).^2)\n",
    "      \n",
    "    solₑₓⁿᵉʷ, best_methodₑₓⁿᵉʷ = LiPoSID.sos_min_newton(objₑₓ) \n",
    "    \n",
    "    runtime = time() - start_time\n",
    "    \n",
    "    Hˢⁱᵈₑₓ = subs(Hˢʸᵐᵇ, solₑₓⁿᵉʷ)\n",
    "    Aˢⁱᵈₑₓ = subs(Aˢʸᵐᵇ, solₑₓⁿᵉʷ)\n",
    "    \n",
    "    #gˢⁱᵈₑₓ = subs(g, solₑₓⁿᵉʷ)\n",
    "    \n",
    "    \n",
    "    h5open(output_directory*res_file_name,\"cw\") do fid  # read-write, create file if not existing, preserve existing contents\n",
    "\n",
    "        γ_group = create_group(fid, \"gamma_\"*γᵢ)\n",
    "\n",
    "        γ_group[\"H\"] = convert.(ComplexF64, Hˢⁱᵈₑₓ)\n",
    "        γ_group[\"A\"] = convert.(ComplexF64, Aˢⁱᵈₑₓ)\n",
    "        \n",
    "        #γ_group[\"g\"] = convert(Float64, gˢⁱᵈₑₓ)\n",
    "        \n",
    "        γ_group[\"runtime\"] = runtime\n",
    "        \n",
    "    end # of HDF5 writing\n",
    "\n",
    "\n",
    "end"
   ]
  },
  {
   "cell_type": "code",
   "execution_count": null,
   "id": "4b515630",
   "metadata": {},
   "outputs": [],
   "source": []
  }
 ],
 "metadata": {
  "@webio": {
   "lastCommId": null,
   "lastKernelId": null
  },
  "kernelspec": {
   "display_name": "Julia 1.9.2",
   "language": "julia",
   "name": "julia-1.9"
  },
  "language_info": {
   "file_extension": ".jl",
   "mimetype": "application/julia",
   "name": "julia",
   "version": "1.9.2"
  }
 },
 "nbformat": 4,
 "nbformat_minor": 5
}
