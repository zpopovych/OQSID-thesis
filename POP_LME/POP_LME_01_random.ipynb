{
 "cells": [
  {
   "cell_type": "markdown",
   "id": "5d6cdbd4",
   "metadata": {},
   "source": [
    "### Full POP model works"
   ]
  },
  {
   "cell_type": "code",
   "execution_count": 2,
   "id": "6c18b684",
   "metadata": {},
   "outputs": [],
   "source": [
    "include(\"../LiPoSID.jl\")\n",
    "using QuantumOptics\n",
    "basis = NLevelBasis(2)\n",
    "using DynamicPolynomials\n",
    "using LinearAlgebra\n",
    "using Dates\n",
    "using HDF5\n",
    "using TSSOS"
   ]
  },
  {
   "cell_type": "markdown",
   "id": "510f5e47",
   "metadata": {},
   "source": [
    "Consider simple Lindblad master equation with just one dissipator:\n",
    "\n",
    "$m\n",
    "     \\frac{d\\rho}{dt} = - \\frac{i}{\\hbar}[H, \\rho]+\\gamma\\left[J \\rho J^\\dagger - \\frac{1}{2}\\left\\{ J^\\dagger J, \\rho \\right\\} \\right]\n",
    "$,\n",
    "\n",
    "where Hamiltonian is hermitian with one of the diagonal elemnets set to zero\n",
    "\n",
    "\n",
    "$\n",
    "    H = \\begin{pmatrix} e_1 & h_1 - i h_2 \\\\ h_1 + i h_2 & 0\n",
    "   \\end{pmatrix}\n",
    "$\n",
    "\n",
    " withot loss of generality we can possibly look for jump operator of the form:\n",
    "\n",
    "$\n",
    "J = \\begin{pmatrix} a_{11} + i b_{11} & a_{12} \\\\ a_{21} + i b_{21} & -a_{11} - i b_{11} \n",
    "   \\end{pmatrix} \n",
    "$\n",
    "\n",
    "or with some additional assumptions\n",
    "\n",
    "$\n",
    "J = \\begin{pmatrix} a_{11} & a_{12} + i b_{12}  \\\\ a_{21} + i b_{21} & -a_{11}\n",
    "   \\end{pmatrix} \n",
    "$\n",
    "\n",
    "or assuming zero temperature \n",
    "\n",
    "$\n",
    "J = \\begin{pmatrix} a_{11} + i b_{11} & a_{12}   \\\\ 0 & -a_{11} - i b_{11}\n",
    "   \\end{pmatrix} \n",
    "$"
   ]
  },
  {
   "cell_type": "code",
   "execution_count": 3,
   "id": "9c14425d",
   "metadata": {},
   "outputs": [
    {
     "data": {
      "text/plain": [
       "2×2 Matrix{Polynomial{true, ComplexF64}}:\n",
       " e₁                  h₁ + (0.0-1.0im)h₂\n",
       " h₁ + (0.0+1.0im)h₂  0.0+0.0im"
      ]
     },
     "metadata": {},
     "output_type": "display_data"
    }
   ],
   "source": [
    "@polyvar e[1]\n",
    "@polyvar h[1:2]\n",
    "\n",
    "\n",
    "Hˢʸᵐᵇ = [ e[1]               h[1] - im*h[2]\n",
    "          h[1] + im*h[2]     0.             ]"
   ]
  },
  {
   "cell_type": "code",
   "execution_count": 4,
   "id": "52616eb7",
   "metadata": {},
   "outputs": [
    {
     "data": {
      "text/plain": [
       "2×2 Matrix{Polynomial{true, Complex{Int64}}}:\n",
       " a₁ + (0+1im)b₁  a₂\n",
       " a₃ + (0+1im)b₃  -a₁ + (0-1im)b₁"
      ]
     },
     "metadata": {},
     "output_type": "display_data"
    }
   ],
   "source": [
    "method = \"fix-Phi-up_\"\n",
    "\n",
    "@polyvar a[1:4]\n",
    "@polyvar b[1:4]\n",
    "\n",
    "\n",
    "Jˢʸᵐᵇ = [ a[1]+im*b[1]      a[2]\n",
    "          a[3] + im*b[3]   -a[1]-im*b[1] ]\n"
   ]
  },
  {
   "cell_type": "code",
   "execution_count": 6,
   "id": "1311d068",
   "metadata": {},
   "outputs": [
    {
     "name": "stdout",
     "output_type": "stream",
     "text": [
      "../DATA/\n"
     ]
    }
   ],
   "source": [
    "data_dir = \"../DATA/\"\n",
    "println(data_dir)\n",
    "\n",
    "models_dir = \"../MODELS/\"\n",
    "tests_dir = \"../TESTS/\"\n",
    "\n",
    "dodeca_files = [\"State_D\"*string(n) for n=1:20];\n",
    "\n",
    "basis_files = [\"State_B\"*string(n) for n=1:4];"
   ]
  },
  {
   "cell_type": "code",
   "execution_count": 7,
   "id": "8e47e0a7",
   "metadata": {},
   "outputs": [],
   "source": [
    "all_files = vcat(dodeca_files, basis_files)\n",
    "train_files = basis_files \n",
    "test_files = dodeca_files;"
   ]
  },
  {
   "cell_type": "markdown",
   "id": "24649a67",
   "metadata": {},
   "source": [
    "### Train models loop"
   ]
  },
  {
   "cell_type": "code",
   "execution_count": 69,
   "id": "81607fd2",
   "metadata": {},
   "outputs": [
    {
     "data": {
      "text/plain": [
       "tssos_min (generic function with 1 method)"
      ]
     },
     "metadata": {},
     "output_type": "display_data"
    }
   ],
   "source": [
    "function scaling_poly(p::Polynomial)\n",
    "\n",
    "    X = transpose(hcat([exponents(t) for t in terms(p)]...))\n",
    "\n",
    "    # Get the scaling via linear regression\n",
    "    scaling = X \\ log.(abs.(coefficients(p)))\n",
    "\n",
    "    exp.(abs.(scaling)) # \n",
    "end\n",
    "\n",
    "function tssos_scaled_min(p)\n",
    "    \n",
    "    ################################################################################################\n",
    "    #\n",
    "    #   Try TSSOS on polynomial with scaled variables\n",
    "    #\n",
    "    ################################################################################################\n",
    "\n",
    "    pd = p #/ maximum(abs.(coefficients(p)))\n",
    "\n",
    "    # find variable scaling\n",
    "    scale = scaling_poly(pd)\n",
    "\n",
    "    # scale the polynomial\n",
    "    p_scaled = subs(pd, variables(pd) => scale .* variables(pd))\n",
    "\n",
    "    # minimize\n",
    "    # minimizer_scaled_tssos = nothing\n",
    "\n",
    "    try\n",
    "        opt,sol,data = tssos_first(p_scaled, variables(p_scaled), QUIET=true, solution=true, newton=true);\n",
    "        previous_sol = sol\n",
    "\n",
    "        while ~isnothing(sol)\n",
    "            previous_sol = sol\n",
    "            opt,sol,data = tssos_higher!(data; QUIET=true, solution=true);\n",
    "        end\n",
    "\n",
    "        global minimizer_scaled_tssos = scale .* previous_sol\n",
    "    \n",
    "    catch\n",
    "        println(\"Scaled TSSOS failed\")\n",
    "        global minimizer_scaled_tssos = nothing\n",
    "\n",
    "    end\n",
    "\n",
    "    best_solution = variables(p_scaled) => minimizer_scaled_tssos\n",
    "\n",
    "end\n",
    "\n",
    "\n",
    "function tssos_min(p)\n",
    "    \n",
    "    ################################################################################################\n",
    "    #\n",
    "    #   Try TSSOS on polynomial with scaled variables\n",
    "    #\n",
    "    ################################################################################################\n",
    "\n",
    "    pd = p #/ maximum(abs.(coefficients(p)))\n",
    "\n",
    "    # minimize\n",
    "    # minimizer_scaled_tssos = nothing\n",
    "\n",
    "    try\n",
    "        opt,sol,data = tssos_first(pd, variables(pd), QUIET=true, solution=true, newton=true);\n",
    "        previous_sol = sol\n",
    "\n",
    "        while ~isnothing(sol)\n",
    "            previous_sol = sol\n",
    "            opt,sol,data = tssos_higher!(data; QUIET=true, solution=true);\n",
    "        end\n",
    "\n",
    "        global minimizer_tssos = previous_sol\n",
    "    \n",
    "    catch\n",
    "        println(\"Scaled TSSOS failed\")\n",
    "        global minimizer_scaled_tssos = nothing\n",
    "\n",
    "    end\n",
    "\n",
    "    best_solution = variables(p) => minimizer_tssos\n",
    "\n",
    "end"
   ]
  },
  {
   "cell_type": "code",
   "execution_count": 24,
   "id": "ea73e85d",
   "metadata": {},
   "outputs": [
    {
     "data": {
      "text/plain": [
       "remove_micro_coefs (generic function with 1 method)"
      ]
     },
     "metadata": {},
     "output_type": "display_data"
    }
   ],
   "source": [
    "import Base.real\n",
    "\n",
    "function coef_range(obj)\n",
    "    maximum(abs.(coefficients(obj)))/minimum(abs.(coefficients(obj)))\n",
    "end\n",
    "\n",
    "function remove_micro_coefs(p::AbstractPolynomial, cutoff)\n",
    "    sum(\n",
    "        \n",
    "        [abs(coef) > cutoff ? real(coef) * mon : 0 for (coef, mon) in zip(coefficients(p), monomials(p))]\n",
    "        )\n",
    "end"
   ]
  },
  {
   "cell_type": "code",
   "execution_count": 55,
   "id": "ed7e3536",
   "metadata": {},
   "outputs": [
    {
     "data": {
      "text/plain": [
       "1.5684654085087506e7"
      ]
     },
     "metadata": {},
     "output_type": "display_data"
    }
   ],
   "source": [
    "objₑₓ = 0\n",
    "\n",
    "for df_trn in train_files # loop over initial states\n",
    "\n",
    "    ρᵗʳⁿ, tᵗʳⁿ = LiPoSID.get_rho_series(data_dir*df_trn*\"_2CUT_data.h5\", \"0.079477\")\n",
    "    end_train = length(tᵗʳⁿ)\n",
    "    if length(tᵗʳⁿ) > 1200 end_train = 1200 else end_train = length(tᵗʳⁿ) end\n",
    "    ρᵗʳⁿ = convert(Vector{Matrix{ComplexF64}}, ρᵗʳⁿ[1:end_train])\n",
    "            \n",
    "    ρᵗʳⁿₒₚₛ = [DenseOperator(basis,Hermitian(ρₜ)) for ρₜ in ρᵗʳⁿ]\n",
    "    tᵗʳⁿ = convert(Vector{Float64}, tᵗʳⁿ[1:end_train])\n",
    "\n",
    "    objₑₓ += LiPoSID.simpson_obj(ρᵗʳⁿ, tᵗʳⁿ,  Hˢʸᵐᵇ, [Jˢʸᵐᵇ])\n",
    "    \n",
    "end\n",
    "coef_range(objₑₓ)"
   ]
  },
  {
   "cell_type": "code",
   "execution_count": 56,
   "id": "5a4d88b5",
   "metadata": {},
   "outputs": [
    {
     "data": {
      "text/plain": [
       "PolyVar{true}[e₁, h₁, h₂, a₁, a₂, a₃, b₁, b₃] => [25.126, 0.0, 0.0, 0.0, 0.28191665435018204, 0.0, 0.0, 0.0]"
      ]
     },
     "metadata": {},
     "output_type": "display_data"
    }
   ],
   "source": [
    "using Optim\n",
    "using Random\n",
    "\n",
    "lme_minimizer = [25.126, 0., 0., 0., sqrt(0.079477), 0., 0., 0. ]\n",
    "lme_solution = variables(objₑₓ) => lme_minimizer\n"
   ]
  },
  {
   "cell_type": "code",
   "execution_count": 57,
   "id": "e1c12fa9",
   "metadata": {},
   "outputs": [
    {
     "data": {
      "text/latex": [
       "$$ 0.0012685537299148564 $$"
      ],
      "text/plain": [
       "0.0012685537299148564"
      ]
     },
     "metadata": {},
     "output_type": "display_data"
    }
   ],
   "source": [
    "DynamicPolynomials.subs(objₑₓ, lme_solution)"
   ]
  },
  {
   "cell_type": "code",
   "execution_count": 58,
   "id": "07205115",
   "metadata": {},
   "outputs": [
    {
     "data": {
      "text/plain": [
       "local_rand_min (generic function with 1 method)"
      ]
     },
     "metadata": {},
     "output_type": "display_data"
    }
   ],
   "source": [
    "function local_rand_min(p)\n",
    "\n",
    "    pd = p / maximum(abs.(coefficients(p)))\n",
    "\n",
    "    # find variable scaling\n",
    "    scale = scaling_poly(pd)\n",
    "\n",
    "    # scale the polynomial\n",
    "    p_scaled = subs(pd, variables(pd) => scale .* variables(pd))\n",
    "\n",
    "    num_iterations = 100\n",
    "\n",
    "    # Initialize the best minimizer and the minimum value\n",
    "    best_minimizer = nothing\n",
    "    best_min_value = Inf\n",
    "\n",
    "    num_of_variables = length(variables(pd))\n",
    "\n",
    "    for _ in 1:num_iterations\n",
    "        # Generate a random initial condition\n",
    "        initial_point = rand(num_of_variables).*250\n",
    "\n",
    "        # Run local optimization\n",
    "        result = optimize(p_scaled, initial_point, BFGS())\n",
    "        #println(Optim.minimum(result))\n",
    "\n",
    "        # Update the best minimizer if a better one is found\n",
    "        if Optim.minimum(result) < best_min_value\n",
    "            \n",
    "            best_minimizer = Optim.minimizer(result)\n",
    "            best_min_value = Optim.minimum(result)\n",
    "            \n",
    "        end\n",
    "\n",
    "    end\n",
    "\n",
    "    minimizer_scaled = scale .* best_minimizer\n",
    "\n",
    "    solution = variables(p_scaled) => minimizer_scaled\n",
    "\n",
    "end"
   ]
  },
  {
   "cell_type": "code",
   "execution_count": 59,
   "id": "fa5ead14",
   "metadata": {},
   "outputs": [
    {
     "data": {
      "text/latex": [
       "$$ 0.0005153348994895168 $$"
      ],
      "text/plain": [
       "0.0005153348994895168"
      ]
     },
     "metadata": {},
     "output_type": "display_data"
    }
   ],
   "source": [
    "solution = local_rand_min(objₑₓ)\n",
    "DynamicPolynomials.subs(objₑₓ, solution)"
   ]
  },
  {
   "cell_type": "code",
   "execution_count": 70,
   "id": "34ac9b0c",
   "metadata": {},
   "outputs": [
    {
     "data": {
      "text/plain": [
       "2×2 Matrix{Polynomial{true, ComplexF64}}:\n",
       " (25.1261+0.0im)            (3.65351e-5-4.01437e-5im)\n",
       " (3.65351e-5+4.01437e-5im)  0.0+0.0im"
      ]
     },
     "metadata": {},
     "output_type": "display_data"
    }
   ],
   "source": [
    "Hˢⁱᵈₗₘₑ = DynamicPolynomials.subs(Hˢʸᵐᵇ, solution)"
   ]
  },
  {
   "cell_type": "code",
   "execution_count": 61,
   "id": "6c9d1f19",
   "metadata": {},
   "outputs": [
    {
     "data": {
      "text/plain": [
       "2×2 Matrix{Polynomial{true, ComplexF64}}:\n",
       " (-4.09492e-5+3.72248e-6im)  (0.292+0.0im)\n",
       " (0.0665766+0.0043999im)     (4.09492e-5-3.72248e-6im)"
      ]
     },
     "metadata": {},
     "output_type": "display_data"
    }
   ],
   "source": [
    "Jˢⁱᵈₗₘₑ = DynamicPolynomials.subs(Jˢʸᵐᵇ, solution)"
   ]
  },
  {
   "cell_type": "code",
   "execution_count": 71,
   "id": "71b980f1",
   "metadata": {},
   "outputs": [
    {
     "name": "stdout",
     "output_type": "stream",
     "text": [
      "*********************************** TSSOS ***********************************\n",
      "Version 1.0.0, developed by Jie Wang, 2020--2023\n",
      "TSSOS is launching...\n",
      "optimum = 0.0005153158540288223\n"
     ]
    },
    {
     "name": "stdout",
     "output_type": "stream",
     "text": [
      "\n",
      "******************************************************************************\n",
      "This program contains Ipopt, a library for large-scale nonlinear optimization.\n",
      " Ipopt is released as open source code under the Eclipse Public License (EPL).\n",
      "         For more information visit https://github.com/coin-or/Ipopt\n",
      "******************************************************************************\n",
      "\n",
      "Found a locally optimal solution by Ipopt, giving an upper bound: 0.01175844.\n",
      "The relative optimality gap is: 1.124312%.\n",
      "No higher TS step of the TSSOS hierarchy!\n"
     ]
    },
    {
     "data": {
      "text/plain": [
       "PolyVar{true}[e₁, h₁, h₂, a₁, a₂, a₃, b₁, b₃] => [25.12611349833402, 4.8661167760916026e-5, 7.53553003949256e-5, 2.5187618211492216e-10, 2.3634849448780754e-9, 2.3746940597431727e-10, 2.629798205305818e-10, 1.1054283720542595e-10]"
      ]
     },
     "metadata": {},
     "output_type": "display_data"
    }
   ],
   "source": [
    "tssos_scaled_sol = tssos_scaled_min(objₑₓ)\n"
   ]
  },
  {
   "cell_type": "code",
   "execution_count": 72,
   "id": "e1ff56f0",
   "metadata": {},
   "outputs": [
    {
     "data": {
      "text/latex": [
       "$$ 0.011758438139736427 $$"
      ],
      "text/plain": [
       "0.011758438139736427"
      ]
     },
     "metadata": {},
     "output_type": "display_data"
    }
   ],
   "source": [
    "DynamicPolynomials.subs(objₑₓ, tssos_scaled_sol)"
   ]
  },
  {
   "cell_type": "code",
   "execution_count": 73,
   "id": "98a5bb74",
   "metadata": {},
   "outputs": [
    {
     "data": {
      "text/plain": [
       "PolyVar{true}[e₁, h₁, h₂, a₁, a₂, a₃, b₁, b₃] => [25.12611349833402, 4.8661167760916026e-5, 7.53553003949256e-5, 2.5187618211492216e-10, 2.3634849448780754e-9, 2.3746940597431727e-10, 2.629798205305818e-10, 1.1054283720542595e-10]"
      ]
     },
     "metadata": {},
     "output_type": "display_data"
    }
   ],
   "source": [
    "tssos_scaled_sol"
   ]
  },
  {
   "cell_type": "code",
   "execution_count": 74,
   "id": "41366878",
   "metadata": {},
   "outputs": [
    {
     "data": {
      "text/plain": [
       "2×2 Matrix{Polynomial{true, ComplexF64}}:\n",
       " (25.1261+0.0im)            (4.86612e-5-7.53553e-5im)\n",
       " (4.86612e-5+7.53553e-5im)  0.0+0.0im"
      ]
     },
     "metadata": {},
     "output_type": "display_data"
    }
   ],
   "source": [
    "DynamicPolynomials.subs(Hˢʸᵐᵇ, tssos_scaled_sol)"
   ]
  },
  {
   "cell_type": "code",
   "execution_count": 75,
   "id": "61bbda69",
   "metadata": {},
   "outputs": [
    {
     "data": {
      "text/plain": [
       "2×2 Matrix{Polynomial{true, ComplexF64}}:\n",
       " (2.51876e-10+2.6298e-10im)   (2.36348e-9+0.0im)\n",
       " (2.37469e-10+1.10543e-10im)  (-2.51876e-10-2.6298e-10im)"
      ]
     },
     "metadata": {},
     "output_type": "display_data"
    }
   ],
   "source": [
    "DynamicPolynomials.subs(Jˢʸᵐᵇ, tssos_scaled_sol)"
   ]
  },
  {
   "cell_type": "code",
   "execution_count": 77,
   "id": "5c876b2d",
   "metadata": {},
   "outputs": [
    {
     "name": "stdout",
     "output_type": "stream",
     "text": [
      "*********************************** TSSOS ***********************************\n",
      "Version 1.0.0, developed by Jie Wang, 2020--2023\n",
      "TSSOS is launching...\n",
      "optimum = 0.0005153423032621579\n",
      "Global optimality certified with relative optimality gap 0.000001%!\n",
      "No higher TS step of the TSSOS hierarchy!\n"
     ]
    },
    {
     "data": {
      "text/plain": [
       "PolyVar{true}[e₁, h₁, h₂, a₁, a₂, a₃, b₁, b₃] => [25.126144439904422, 3.6534824860130964e-5, 4.0144503699067563e-5, -4.094614009494279e-5, 0.29199997854948706, 0.06657660775593936, 3.7243339675795935e-6, 0.004399905082151034]"
      ]
     },
     "metadata": {},
     "output_type": "display_data"
    }
   ],
   "source": [
    "tssos_sol = tssos_min(objₑₓ)"
   ]
  },
  {
   "cell_type": "code",
   "execution_count": 78,
   "id": "3263f4d5",
   "metadata": {},
   "outputs": [
    {
     "data": {
      "text/plain": [
       "2×2 Matrix{Polynomial{true, ComplexF64}}:\n",
       " (-4.09461e-5+3.72433e-6im)  (0.292+0.0im)\n",
       " (0.0665766+0.00439991im)    (4.09461e-5-3.72433e-6im)"
      ]
     },
     "metadata": {},
     "output_type": "display_data"
    }
   ],
   "source": [
    "DynamicPolynomials.subs(Jˢʸᵐᵇ, tssos_sol)"
   ]
  },
  {
   "cell_type": "code",
   "execution_count": 79,
   "id": "3450fbb0",
   "metadata": {},
   "outputs": [
    {
     "name": "stdout",
     "output_type": "stream",
     "text": [
      "POP_NoRmLME_trn4_gap_fix-Phi-up_2024-Jan-09_at_13-10.h5\n",
      "---------------\n",
      "gamma = 0.079477\n"
     ]
    },
    {
     "ename": "UndefVarError",
     "evalue": "UndefVarError: `end_train` not defined",
     "output_type": "error",
     "traceback": [
      "UndefVarError: `end_train` not defined\n",
      "\n",
      "Stacktrace:\n",
      " [1] top-level scope\n",
      "   @ ~/github/OQSID-thesis/POP_LME/POP_LME_01_random.ipynb:31"
     ]
    }
   ],
   "source": [
    "date_and_time_string =  string(Dates.format(now(), \"yyyy-u-dd_at_HH-MM\"))\n",
    "models_file = \"POP_LME_tssos_vs_random_\"*method*date_and_time_string * \".h5\"\n",
    "tests_data_file_name = \"POP_NoRmLME_trn4_gap_tst20_\"*method*date_and_time_string * \".h5\"\n",
    "\n",
    "println(models_file)\n",
    "\n",
    "γ = [ \"0.079477\",  \"0.25133\", \"0.79477\", \"2.5133\", \"7.9477\", \"25.133\", \"79.477\", \"251.33\"]\n",
    "\n",
    "for γᵢ in γ\n",
    "    \n",
    "    println(\"---------------\")\n",
    "    println(\"gamma = \", γᵢ)\n",
    "    \n",
    "    Hᴸᴹᴱ = [ 25.126        0\n",
    "             0             0    ]\n",
    "    γᶠ = parse(Float64, γᵢ)\n",
    "\n",
    "    Jᴸᴹᴱ = [ 0    √(γᶠ)\n",
    "             0     0. + 0im  ]\n",
    "\n",
    "    objₑₓ = 0\n",
    "    \n",
    "    objₗₘₑ = 0\n",
    "    \n",
    "    for df_trn in train_files # loop over initial states\n",
    "\n",
    "        ρᵗʳⁿ, tᵗʳⁿ = LiPoSID.get_rho_series(data_dir*df_trn*\"_2CUT_data.h5\", γᵢ)\n",
    "        \n",
    "        #if length(tᵗʳⁿ) > 1200 end_train = 1200 else end_train = length(tᵗʳⁿ) end\n",
    "            \n",
    "        ρᵗʳⁿ = convert(Vector{Matrix{ComplexF64}}, ρᵗʳⁿ[1:end_train])\n",
    "        \n",
    "        ρᵗʳⁿₒₚₛ = [DenseOperator(basis,Hermitian(ρₜ)) for ρₜ in ρᵗʳⁿ]\n",
    "        tᵗʳⁿ = convert(Vector{Float64}, tᵗʳⁿ[1:end_train])\n",
    "    \n",
    "        objₑₓ += LiPoSID.simpson_obj(ρᵗʳⁿ, tᵗʳⁿ,  Hˢʸᵐᵇ, [Jˢʸᵐᵇ])\n",
    "         \n",
    "        ρˡᵐᵉ = LiPoSID.Lindblad_time_evolution(basis, ρᵗʳⁿ[1], tᵗʳⁿ, Hᴸᴹᴱ, [Jᴸᴹᴱ])\n",
    "        objₗₘₑ += LiPoSID.simpson_obj(ρˡᵐᵉ, tᵗʳⁿ,  Hˢʸᵐᵇ, [Jˢʸᵐᵇ])\n",
    "            \n",
    "        \n",
    "    end # of files (initial states) loop\n",
    "            \n",
    "    coef_minₑₓ = minimum(abs.(coefficients(objₑₓ)))\n",
    "    coef_maxₑₓ = maximum(abs.(coefficients(objₑₓ)))\n",
    "\n",
    "    coefs_gapₑₓ = coef_maxₑₓ/coef_minₑₓ \n",
    "            \n",
    "    coef_minₗₘₑ = minimum(abs.(coefficients(objₗₘₑ)))\n",
    "    coef_maxₗₘₑ = maximum(abs.(coefficients(objₗₘₑ)))\n",
    "            \n",
    "    coefs_gapₗₘₑ= coef_maxₗₘₑ/coef_minₗₘₑ \n",
    "       \n",
    "    println(\"-------------------------------------------\")\n",
    "    println(\" POP on ansatz LME simulation\")\n",
    "            \n",
    "    #objₗₘₑrm = coefs_gapₗₘₑ > 1e6 ? remove_micro_coefs(objₗₘₑ, cutoffₗₘₑ) : objₗₘₑ\n",
    "    \n",
    "    solˢⁱᵈₗₘₑtssos  = tssos_min(objₗₘₑrm)\n",
    "    solˢⁱᵈₗₘₑrnd  = local_rand_min(objₗₘₑrm)\n",
    "    \n",
    "    println(\"Best metod for POP on LME: \", best_methodˢⁱᵈₗₘₑ)\n",
    "    println(\"-------------------------------------------\")\n",
    "    \n",
    "    solₗₘₑ = [e[1], h[1], h[2], a[1], a[2], a[3], b[1], b[3]] => [25.126, 0, 0, 0,  √(γᶠ), 0, 0, 0]\n",
    "    \n",
    "    obj_val_lme = convert(Float64, subs(objₗₘₑ, solₗₘₑ))\n",
    "    \n",
    "    obj_val_sid_on_lme = convert(Float64, subs(objₗₘₑ, solˢⁱᵈₗₘₑ))\n",
    "    \n",
    "    if obj_val_sid_on_lme < obj_val_lme\n",
    "        println(\" simulated LME overfitting\")\n",
    "    end\n",
    "    \n",
    "    Hˢⁱᵈₗₘₑtssos = subs(Hˢʸᵐᵇ, solˢⁱᵈₗₘₑtssos)\n",
    "    Aˢⁱᵈₗₘₑtssos = subs(Jˢʸᵐᵇ, solˢⁱᵈₗₘₑtssos)\n",
    "\n",
    "    Hˢⁱᵈₗₘₑrnd = subs(Hˢʸᵐᵇ, solˢⁱᵈₗₘₑrnd)\n",
    "    Aˢⁱᵈₗₘₑrnd = subs(Jˢʸᵐᵇ, solˢⁱᵈₗₘₑrnd)\n",
    "      \n",
    "    println(\" POP on ansatz EXACT Kurt data \")\n",
    "                \n",
    "    solₑₓtssos = tssos_min(objₑₓ)\n",
    "    solₑₓrnd = local_rand_min(objₑₓ)\n",
    "   \n",
    "    obj_val_lme_on_exact = convert(Float64, subs(objₑₓ, solₗₘₑrnd))\n",
    "    obj_val_sid_on_exact = convert(Float64, subs(objₑₓ, solₑₓrnd))\n",
    "    \n",
    "    if obj_val_sid_on_exact < obj_val_lme_on_exact\n",
    "        println(\" Exact data overfitting\")\n",
    "    end\n",
    "\n",
    "    Hˢⁱᵈₑₓtssos = DynamicPolynomials.subs(Hˢʸᵐᵇ, solₑₓtssos)\n",
    "    Aˢⁱᵈₑₓtssos = DynamicPolynomials.subs(Aˢʸᵐᵇ, solₑₓtssos)\n",
    "\n",
    "    Hˢⁱᵈₑₓrnd = DynamicPolynomials.subs(Hˢʸᵐᵇ, solₑₓrnd)\n",
    "    Aˢⁱᵈₑₓrnd = DynamicPolynomials.subs(Aˢʸᵐᵇ, solₑₓrnd)\n",
    "    \n",
    "    H = DenseOperator(basis, Hˢⁱᵈₑₓ)\n",
    "    A = DenseOperator(basis, Aˢⁱᵈₑₓ)\n",
    "\n",
    "    \n",
    "    h5open(models_dir*models_file,\"cw\") do fid  # read-write, create file if not existing, preserve existing contents\n",
    "\n",
    "        γ_group = create_group(fid, \"gamma_\"*γᵢ)\n",
    "        \n",
    "        \n",
    "        γ_group[\"coef_min_ex\"] = coef_minₑₓ\n",
    "        γ_group[\"coef_max_ex\"] = coef_maxₑₓ\n",
    "        γ_group[\"coef_gap_ex\"] = coefs_gapₑₓ\n",
    "                        \n",
    "        γ_group[\"coef_min_lme\"] = coef_minₗₘₑ\n",
    "        γ_group[\"coef_max_lme\"] = coef_maxₗₘₑ\n",
    "        γ_group[\"coef_gap_lme\"] = coefs_gapₗₘₑ       \n",
    "                        \n",
    "        γ_group[\"obj_val_lme\"] = obj_val_lme\n",
    "        γ_group[\"obj_val_sid_on_lme\"] = obj_val_sid_on_lme\n",
    "        \n",
    "        γ_group[\"obj_val_lme_on_exact\"] = obj_val_lme_on_exact\n",
    "        γ_group[\"obj_val_sid_on_exact\"] = obj_val_sid_on_exact\n",
    "\n",
    "\n",
    "        γ_group[\"H_sid_sb_tssos\"] = convert.(ComplexF64, Hˢⁱᵈₑₓtssos)\n",
    "        γ_group[\"A_sid_sb_tssos\"] = convert.(ComplexF64, Aˢⁱᵈₑₓtssos)\n",
    "\n",
    "        γ_group[\"H_sid_sb_rnd\"] = convert.(ComplexF64, Hˢⁱᵈₑₓrnd)\n",
    "        γ_group[\"A_sid_sb_rnd\"] = convert.(ComplexF64, Aˢⁱᵈₑₓrnd)\n",
    "        \n",
    "        γ_group[\"H_lme\"] = convert.(ComplexF64, Hᴸᴹᴱ)\n",
    "        γ_group[\"A_lme\"] = convert.(ComplexF64, Aᴸᴹᴱ)\n",
    "        \n",
    "        γ_group[\"H_sid_lme_tssos\"] = convert.(ComplexF64, Hˢⁱᵈₗₘₑtssos)\n",
    "        γ_group[\"A_sid_lme_tssos\"] = convert.(ComplexF64, Aˢⁱᵈₗₘₑtssos)\n",
    "\n",
    "        γ_group[\"H_sid_lme_rnd\"] = convert.(ComplexF64, Hˢⁱᵈₗₘₑrnd)\n",
    "        γ_group[\"A_sid_lme_rnd\"] = convert.(ComplexF64, Aˢⁱᵈₗₘₑrnd)\n",
    "\n",
    "        \n",
    "    end # of HDF5 writing\n",
    "    \n",
    "    \n",
    "    h5open(tests_dir*tests_data_file_name,\"cw\") do fid\n",
    "        γ_group = create_group(fid, \"gamma_\"*γᵢ)\n",
    "    end \n",
    "    \n",
    "    for df in test_files # loop over initial states\n",
    "        \n",
    "        print(df*\" \")\n",
    "\n",
    "        start_time = time()\n",
    "\n",
    "        ρₛ, tₛ = LiPoSID.get_rho_series(data_dir*df*\"_2CUT_data.h5\", γᵢ)\n",
    "        ρₛ = convert(Vector{Matrix{ComplexF64}}, ρₛ)\n",
    "\n",
    "        ρᵗˢᵗ = [DenseOperator(basis,Hermitian(ρₜ)) for ρₜ in ρₛ]\n",
    "\n",
    "        tᵗˢᵗ = convert(Vector{Float64}, tₛ)\n",
    "\n",
    "        tᴸᴹᴱ, ρᴸᴹᴱ  = timeevolution.master(tᵗˢᵗ, ρᵗˢᵗ[1], DenseOperator(basis,Hᴸᴹᴱ), [DenseOperator(basis,Aᴸᴹᴱ)])\n",
    "        tˢⁱᵈₗₘ, ρˢⁱᵈₗₘₑ  = timeevolution.master(tᵗˢᵗ, ρᵗˢᵗ[1], DenseOperator(basis,Hˢⁱᵈₗₘₑ), [DenseOperator(basis,Aˢⁱᵈₗₘₑ)])\n",
    "        tˢⁱᵈₑₓ, ρˢⁱᵈₑₓ  = timeevolution.master(tᵗˢᵗ, ρᵗˢᵗ[1], DenseOperator(basis,Hˢⁱᵈₑₓ), [DenseOperator(basis,Aˢⁱᵈₑₓ)])   \n",
    "        \n",
    "\n",
    "        Fᴸᴹᴱₑₓ = [abs(fidelity(ρ₁, ρ₂)) for (ρ₁, ρ₂) in zip(ρᵗˢᵗ, ρᴸᴹᴱ)]\n",
    "        Fˢⁱᵈᴸᴹᴱₗₘₑ = [abs(fidelity(ρ₁, ρ₂)) for (ρ₁, ρ₂) in zip(ρˢⁱᵈₗₘₑ, ρᴸᴹᴱ)]\n",
    "        Fˢⁱᵈᵉˣₑₓ = [abs(fidelity(ρ₁, ρ₂)) for (ρ₁, ρ₂) in zip(ρᵗˢᵗ, ρˢⁱᵈₑₓ)]\n",
    "                    \n",
    "\n",
    "        h5open(tests_dir*tests_data_file_name,\"cw\") do fid\n",
    "            γ_group = open_group(fid, \"gamma_\"*γᵢ) # open coupling group\n",
    "\n",
    "            init_state_group = create_group(γ_group, df) # create initial state group\n",
    "            init_state_group[\"F_lme_exact\"] = convert.(Float64, Fᴸᴹᴱₑₓ)\n",
    "            init_state_group[\"F_sidlme_lme\"] = convert.(Float64, Fˢⁱᵈᴸᴹᴱₗₘₑ)\n",
    "            init_state_group[\"F_sidexact_exact\"] = convert.(Float64, Fˢⁱᵈᵉˣₑₓ)\n",
    "            \n",
    "        end\n",
    "                    \n",
    "        print(minimum(Fᴸᴹᴱₑₓ), minimum(Fˢⁱᵈᴸᴹᴱₗₘₑ), minimum(Fˢⁱᵈᵉˣₑₓ))\n",
    "        println(\" \")\n",
    "    \n",
    "    end\n",
    "                \n",
    "    println()\n",
    "    println()\n",
    "                            \n",
    "\n",
    "end"
   ]
  },
  {
   "cell_type": "code",
   "execution_count": 19,
   "id": "4b515630",
   "metadata": {},
   "outputs": [
    {
     "data": {
      "text/plain": [
       "\"POP_NoRmLME_trn4_gap_tst20_fix-Phi-up_2024-Jan-08_at_19-30.h5\""
      ]
     },
     "metadata": {},
     "output_type": "display_data"
    }
   ],
   "source": [
    "tests_data_file_name"
   ]
  },
  {
   "cell_type": "code",
   "execution_count": 20,
   "id": "a28f0ea1",
   "metadata": {},
   "outputs": [],
   "source": []
  }
 ],
 "metadata": {
  "@webio": {
   "lastCommId": null,
   "lastKernelId": null
  },
  "kernelspec": {
   "display_name": "Julia 1.10.0",
   "language": "julia",
   "name": "julia-1.10"
  },
  "language_info": {
   "file_extension": ".jl",
   "mimetype": "application/julia",
   "name": "julia",
   "version": "1.10.0"
  }
 },
 "nbformat": 4,
 "nbformat_minor": 5
}
