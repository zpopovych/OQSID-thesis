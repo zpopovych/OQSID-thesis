{
 "cells": [
  {
   "cell_type": "code",
   "execution_count": 2,
   "id": "2b97bc7f",
   "metadata": {},
   "outputs": [],
   "source": [
    "from boson_data_lib import *\n",
    "import numpy as np\n",
    "import scipy.linalg as sl\n",
    "import os\n",
    "import pandas as pd\n",
    "import glob"
   ]
  },
  {
   "cell_type": "code",
   "execution_count": 3,
   "id": "e46c65d3",
   "metadata": {},
   "outputs": [],
   "source": [
    "def read_as_dataframe(filename, tests_dir):\n",
    "\n",
    "    df = pd.DataFrame()\n",
    "    \n",
    "    print(\"Processing...\")\n",
    "    \n",
    "    with h5py.File(tests_dir+filename, \"r\") as f:\n",
    "\n",
    "        for rank in f.keys():\n",
    "\n",
    "            print(\"Rank = \", rank)\n",
    "        \n",
    "            #gammas = ['0.0','0.079477', '0.25133', '0.79477', '2.5133', '7.9477', '25.133', '79.477', '251.33']\n",
    "            \n",
    "            F_dmd_lme = []\n",
    "            F_era_lme = []\n",
    "\n",
    "            for gamma in f[rank].keys():\n",
    "                \n",
    "                print(gamma)\n",
    "                \n",
    "                g = gamma[6:]\n",
    "\n",
    "                F_dmd_lme.append(f[rank][gamma][\"Fe_dmd_lme\"][()])\n",
    "                F_dmd_lme.append(f[rank][gamma][\"Fg_dmd_lme\"][()])\n",
    "                F_dmd_lme.append(f[rank][gamma][\"Fx_dmd_lme\"][()])\n",
    "                F_dmd_lme.append(f[rank][gamma][\"Fy_dmd_lme\"][()])\n",
    "\n",
    "                F_dmd_lme.append(f[rank][gamma][\"Fe_dmd_lme\"][()])\n",
    "                F_dmd_lme.append(f[rank][gamma][\"Fg_dmd_lme\"][()])\n",
    "                F_dmd_lme.append(f[rank][gamma][\"Fx_dmd_lme\"][()])\n",
    "                F_dmd_lme.append(f[rank][gamma][\"Fy_dmd_lme\"][()])\n",
    "\n",
    "                F_era_lme.append(f[rank][gamma][\"Fe_era_lme\"][()])\n",
    "                F_era_lme.append(f[rank][gamma][\"Fg_era_lme\"][()])\n",
    "                F_era_lme.append(f[rank][gamma][\"Fx_era_lme\"][()])\n",
    "                F_era_lme.append(f[rank][gamma][\"Fy_era_lme\"][()]) \n",
    "\n",
    "                t = f[rank][gamma][\"time\"][()]\n",
    "                ser_lent = len(t)\n",
    "                ser_len1 = min([len(F_dmd_lme[i]) for i in range(4)])\n",
    "                ser_len2 = min([len(F_era_lme[i]) for i in range(4)])\n",
    "                ser_len = min(ser_lent, ser_len1, ser_len2)\n",
    "\n",
    "                for  i in range(4):\n",
    "\n",
    "                    rank_column  = [rank] * ser_len\n",
    "                    gamma_column = [g] * ser_len\n",
    "                    state_column = [\"B\"+str(i+1)] * ser_len\n",
    "                    time_column = t[:ser_len]\n",
    "                    gamma_time_column = np.array(t[:ser_len])*float(g) \n",
    "\n",
    "                    d_ser = {'Rank': rank_column,\n",
    "                            'Gamma': gamma_column,\n",
    "                            'State': state_column,\n",
    "                            'Time': time_column, \n",
    "                            'gt': gamma_time_column,\n",
    "                            'Fidelity_DMD': F_dmd_lme[i][:ser_len],\n",
    "                            'Fidelity_ERA': F_era_lme[i][:ser_len]}\n",
    "\n",
    "                    df_ser = pd.DataFrame(data = d_ser)   \n",
    "                    df = pd.concat([df, df_ser])\n",
    "    \n",
    "    print(\" done!\")\n",
    "    \n",
    "    return df"
   ]
  },
  {
   "cell_type": "code",
   "execution_count": 33,
   "id": "51aaf20f",
   "metadata": {},
   "outputs": [],
   "source": [
    "parent_dir = \"/home/zah/github/POP23/\"\n",
    "data_dir = parent_dir + \"DATA/\"\n",
    "tests_dir = parent_dir + \"TESTS/\""
   ]
  },
  {
   "cell_type": "code",
   "execution_count": 8,
   "id": "0147ad92",
   "metadata": {},
   "outputs": [],
   "source": [
    "tests_dir = \"../TESTS/\"\n",
    "tests_file = \"DMDvsERA_SB_trn4_tst20_2023-Sep-19_at_11-07.h5\"\n",
    "\n"
   ]
  },
  {
   "cell_type": "code",
   "execution_count": 9,
   "id": "7b0ef3f5",
   "metadata": {},
   "outputs": [
    {
     "name": "stdout",
     "output_type": "stream",
     "text": [
      "Processing...\n",
      "Rank =  rank_3\n",
      "gamma_0.079477\n"
     ]
    },
    {
     "ename": "KeyError",
     "evalue": "\"Unable to open object (object 'Fe_dmd_lme' doesn't exist)\"",
     "output_type": "error",
     "traceback": [
      "\u001b[0;31m---------------------------------------------------------------------------\u001b[0m",
      "\u001b[0;31mKeyError\u001b[0m                                  Traceback (most recent call last)",
      "\u001b[1;32m/home/zah/github/OQSID-thesis/DMDvsERA/02_DMDvsERA_dataframe.ipynb Cell 5\u001b[0m line \u001b[0;36m1\n\u001b[0;32m----> <a href='vscode-notebook-cell:/home/zah/github/OQSID-thesis/DMDvsERA/02_DMDvsERA_dataframe.ipynb#W4sZmlsZQ%3D%3D?line=0'>1</a>\u001b[0m df \u001b[39m=\u001b[39m read_as_dataframe(tests_file, tests_dir)\n",
      "\u001b[1;32m/home/zah/github/OQSID-thesis/DMDvsERA/02_DMDvsERA_dataframe.ipynb Cell 5\u001b[0m line \u001b[0;36m2\n\u001b[1;32m     <a href='vscode-notebook-cell:/home/zah/github/OQSID-thesis/DMDvsERA/02_DMDvsERA_dataframe.ipynb#W4sZmlsZQ%3D%3D?line=19'>20</a>\u001b[0m \u001b[39mprint\u001b[39m(gamma)\n\u001b[1;32m     <a href='vscode-notebook-cell:/home/zah/github/OQSID-thesis/DMDvsERA/02_DMDvsERA_dataframe.ipynb#W4sZmlsZQ%3D%3D?line=21'>22</a>\u001b[0m g \u001b[39m=\u001b[39m gamma[\u001b[39m6\u001b[39m:]\n\u001b[0;32m---> <a href='vscode-notebook-cell:/home/zah/github/OQSID-thesis/DMDvsERA/02_DMDvsERA_dataframe.ipynb#W4sZmlsZQ%3D%3D?line=23'>24</a>\u001b[0m F_dmd_lme\u001b[39m.\u001b[39mappend(f[rank][gamma][\u001b[39m\"\u001b[39m\u001b[39mFe_dmd_lme\u001b[39m\u001b[39m\"\u001b[39m][()])\n\u001b[1;32m     <a href='vscode-notebook-cell:/home/zah/github/OQSID-thesis/DMDvsERA/02_DMDvsERA_dataframe.ipynb#W4sZmlsZQ%3D%3D?line=24'>25</a>\u001b[0m F_dmd_lme\u001b[39m.\u001b[39mappend(f[rank][gamma][\u001b[39m\"\u001b[39m\u001b[39mFg_dmd_lme\u001b[39m\u001b[39m\"\u001b[39m][()])\n\u001b[1;32m     <a href='vscode-notebook-cell:/home/zah/github/OQSID-thesis/DMDvsERA/02_DMDvsERA_dataframe.ipynb#W4sZmlsZQ%3D%3D?line=25'>26</a>\u001b[0m F_dmd_lme\u001b[39m.\u001b[39mappend(f[rank][gamma][\u001b[39m\"\u001b[39m\u001b[39mFx_dmd_lme\u001b[39m\u001b[39m\"\u001b[39m][()])\n",
      "File \u001b[0;32mh5py/_objects.pyx:54\u001b[0m, in \u001b[0;36mh5py._objects.with_phil.wrapper\u001b[0;34m()\u001b[0m\n",
      "File \u001b[0;32mh5py/_objects.pyx:55\u001b[0m, in \u001b[0;36mh5py._objects.with_phil.wrapper\u001b[0;34m()\u001b[0m\n",
      "File \u001b[0;32m~/anaconda3/lib/python3.11/site-packages/h5py/_hl/group.py:328\u001b[0m, in \u001b[0;36mGroup.__getitem__\u001b[0;34m(self, name)\u001b[0m\n\u001b[1;32m    326\u001b[0m         \u001b[39mraise\u001b[39;00m \u001b[39mValueError\u001b[39;00m(\u001b[39m\"\u001b[39m\u001b[39mInvalid HDF5 object reference\u001b[39m\u001b[39m\"\u001b[39m)\n\u001b[1;32m    327\u001b[0m \u001b[39melif\u001b[39;00m \u001b[39misinstance\u001b[39m(name, (\u001b[39mbytes\u001b[39m, \u001b[39mstr\u001b[39m)):\n\u001b[0;32m--> 328\u001b[0m     oid \u001b[39m=\u001b[39m h5o\u001b[39m.\u001b[39mopen(\u001b[39mself\u001b[39m\u001b[39m.\u001b[39mid, \u001b[39mself\u001b[39m\u001b[39m.\u001b[39m_e(name), lapl\u001b[39m=\u001b[39m\u001b[39mself\u001b[39m\u001b[39m.\u001b[39m_lapl)\n\u001b[1;32m    329\u001b[0m \u001b[39melse\u001b[39;00m:\n\u001b[1;32m    330\u001b[0m     \u001b[39mraise\u001b[39;00m \u001b[39mTypeError\u001b[39;00m(\u001b[39m\"\u001b[39m\u001b[39mAccessing a group is done with bytes or str, \u001b[39m\u001b[39m\"\u001b[39m\n\u001b[1;32m    331\u001b[0m                     \u001b[39m\"\u001b[39m\u001b[39m not \u001b[39m\u001b[39m{}\u001b[39;00m\u001b[39m\"\u001b[39m\u001b[39m.\u001b[39mformat(\u001b[39mtype\u001b[39m(name)))\n",
      "File \u001b[0;32mh5py/_objects.pyx:54\u001b[0m, in \u001b[0;36mh5py._objects.with_phil.wrapper\u001b[0;34m()\u001b[0m\n",
      "File \u001b[0;32mh5py/_objects.pyx:55\u001b[0m, in \u001b[0;36mh5py._objects.with_phil.wrapper\u001b[0;34m()\u001b[0m\n",
      "File \u001b[0;32mh5py/h5o.pyx:190\u001b[0m, in \u001b[0;36mh5py.h5o.open\u001b[0;34m()\u001b[0m\n",
      "\u001b[0;31mKeyError\u001b[0m: \"Unable to open object (object 'Fe_dmd_lme' doesn't exist)\""
     ]
    }
   ],
   "source": [
    "df = read_as_dataframe(tests_file, tests_dir)"
   ]
  },
  {
   "cell_type": "code",
   "execution_count": 40,
   "id": "6a3987ad",
   "metadata": {},
   "outputs": [],
   "source": [
    "#os.chdir(r\"C:\\Users\\Zakhar\\Documents\\GitHub\\POP23\\TESTS\")\n",
    "os.chdir(\"/home/zah/github/POP23/TESTS/\")\n",
    "\n",
    "df.to_pickle(\"dataframe_\"+tests_file+\".pkl\")"
   ]
  },
  {
   "cell_type": "code",
   "execution_count": 41,
   "id": "db7dd068",
   "metadata": {},
   "outputs": [
    {
     "data": {
      "text/plain": [
       "'dataframe_DMDvsERA_LME_trn4_tst4_2023-Aug-19_at_09-37.h5.pkl'"
      ]
     },
     "execution_count": 41,
     "metadata": {},
     "output_type": "execute_result"
    }
   ],
   "source": [
    "\"dataframe_\"+tests_file+\".pkl\""
   ]
  },
  {
   "cell_type": "code",
   "execution_count": null,
   "id": "62ef90c9",
   "metadata": {},
   "outputs": [],
   "source": []
  }
 ],
 "metadata": {
  "@webio": {
   "lastCommId": null,
   "lastKernelId": null
  },
  "kernelspec": {
   "display_name": "Python 3",
   "language": "python",
   "name": "python3"
  },
  "language_info": {
   "codemirror_mode": {
    "name": "ipython",
    "version": 3
   },
   "file_extension": ".py",
   "mimetype": "text/x-python",
   "name": "python",
   "nbconvert_exporter": "python",
   "pygments_lexer": "ipython3",
   "version": "3.11.4"
  }
 },
 "nbformat": 4,
 "nbformat_minor": 5
}
