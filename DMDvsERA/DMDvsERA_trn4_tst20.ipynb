{
 "cells": [
  {
   "cell_type": "code",
   "execution_count": 7,
   "id": "ca87153e",
   "metadata": {},
   "outputs": [
    {
     "name": "stderr",
     "output_type": "stream",
     "text": [
      "WARNING: replacing module LiPoSID.\n"
     ]
    }
   ],
   "source": [
    "include(\"LiPoSID.jl\")\n",
    "using QuantumOptics\n",
    "basis = NLevelBasis(2)\n",
    "using LinearAlgebra\n",
    "using Plots\n",
    "using StatsPlots\n",
    "using Dates\n",
    "using HDF5"
   ]
  },
  {
   "cell_type": "code",
   "execution_count": null,
   "id": "2329a70c",
   "metadata": {},
   "outputs": [],
   "source": [
    "Hᴸᴹᴱ = [ 25.126        0\n",
    "0             0    ]\n",
    "γᶠ = parse(Float64, γᵢ)\n",
    "\n",
    "Aᴸᴹᴱ = [ 0    √(γᶠ)\n",
    "0     0. + 0im  ]\n",
    "\n",
    "tᵉᶠ = convert.(Float64, tᵉ); tᵍᶠ = convert.(Float64, tᵍ); \n",
    "tˣᶠ = convert.(Float64, tˣ); tʸᶠ = convert.(Float64, tʸ); \n",
    "\n",
    "ρᵉᴸᴹᴱ = LiPoSID.Lindblad_time_evolution(basis, ρᵉ[1], tᵉᶠ, Hᴸᴹᴱ, [Aᴸᴹᴱ])\n",
    "ρᵍᴸᴹᴱ = LiPoSID.Lindblad_time_evolution(basis, ρᵍ[1], tᵍᶠ, Hᴸᴹᴱ, [Aᴸᴹᴱ])\n",
    "ρˣᴸᴹᴱ = LiPoSID.Lindblad_time_evolution(basis, ρˣ[1], tˣᶠ, Hᴸᴹᴱ, [Aᴸᴹᴱ])\n",
    "ρʸᴸᴹᴱ = LiPoSID.Lindblad_time_evolution(basis, ρʸ[1], tʸᶠ, Hᴸᴹᴱ, [Aᴸᴹᴱ])"
   ]
  },
  {
   "cell_type": "code",
   "execution_count": 8,
   "id": "c9d8befc",
   "metadata": {},
   "outputs": [
    {
     "data": {
      "text/plain": [
       "ERA_fidelity_4x4 (generic function with 1 method)"
      ]
     },
     "metadata": {},
     "output_type": "display_data"
    }
   ],
   "source": [
    "function DMD_SVD(Y, r, Δt)\n",
    "    \n",
    "        X₋ = Y[:,1:end-1]\n",
    "        X₊ = Y[:,2:end]\n",
    "        U, Σ, V = svd(X₋)\n",
    "        \n",
    "        Uʳ = U[:, 1:r] #12 x 4\n",
    "        Σʳ = diagm(Σ[1:r])\n",
    "        Vʳ = V[:, 1:r]\n",
    "        Ã = Uʳ' * X₊ * Vʳ / Σʳ\n",
    "        Λ, W = eigen(Ã)\n",
    "        Φ = X₊ * Vʳ / Σʳ * W\n",
    "        Ω = log.(Λ)/Δt\n",
    "        x₁ = X₋[:,1]\n",
    "        b₁ = Φ \\ x₁\n",
    "        \n",
    "        return Φ, Ω, b₁\n",
    "    \n",
    "end    \n",
    "\n",
    "function DMD_reconstruct(Φ, Ω, b₁, Δt, steps)\n",
    "    \n",
    "        Yᵈᵐᵈ = hcat([real.(Φ * (b₁ .* exp.(Ω * (i * Δt)))) for i in 0:steps]...)\n",
    "        \n",
    "        return Yᵈᵐᵈ\n",
    "    \n",
    "end\n",
    "\n",
    "\n",
    "function DMD_basis_SpinBoson(γᵢ, n)\n",
    "    data_dir = \"DATA/\"\n",
    "\n",
    "    γᵢ = string(γᵢ)\n",
    "\n",
    "    ρᵉ, tᵉ = LiPoSID.get_rho_series(data_dir*\"State_B1_2CUT_data.h5\", γᵢ)\n",
    "    ρᵍ, tᵍ = LiPoSID.get_rho_series(data_dir*\"State_B2_2CUT_data.h5\", γᵢ)\n",
    "    ρˣ, tˣ = LiPoSID.get_rho_series(data_dir*\"State_B3_2CUT_data.h5\", γᵢ)\n",
    "    ρʸ, tʸ = LiPoSID.get_rho_series(data_dir*\"State_B4_2CUT_data.h5\", γᵢ)\n",
    "    \n",
    "    lᵉ = length(ρᵉ); lᵍ = length(ρᵍ); lˣ = length(ρˣ); lʸ = length(ρʸ)\n",
    "    lᵐᵃˣ = min(lᵉ, lᵍ,  lˣ, lʸ)  #choose time limit by shortest series\n",
    "\n",
    "    bᵉ = LiPoSID.bloch(ρᵉ[1:lᵐᵃˣ])\n",
    "    bᵍ = LiPoSID.bloch(ρᵍ[1:lᵐᵃˣ])\n",
    "    bˣ = LiPoSID.bloch(ρˣ[1:lᵐᵃˣ])\n",
    "    bʸ = LiPoSID.bloch(ρʸ[1:lᵐᵃˣ])\n",
    "\n",
    "    Y = [bᵉ; bᵍ; bˣ; bʸ]\n",
    "\n",
    "    t = convert.(Float64, tᵉᶠ[1:lᵐᵃˣ])\n",
    "    Δt = t[2]-t[1]\n",
    "    \n",
    "    Φ, Ω, b₁ = DMD_SVD(Y, n, Δt)\n",
    "    Yᴰᴹᴰ = DMD_reconstruct(Φ, Ω, b₁, Δt, length(t))\n",
    "\n",
    "    bᵉᴰᴹᴰ = Yᴰᴹᴰ[1:3,:]\n",
    "    bᵍᴰᴹᴰ = Yᴰᴹᴰ[4:6,:]\n",
    "    bˣᴰᴹᴰ = Yᴰᴹᴰ[7:9,:]\n",
    "    bʸᴰᴹᴰ = Yᴰᴹᴰ[10:12,:]\n",
    "\n",
    "    ρᵉᴰᴹᴰ = LiPoSID.rho_series_from_bloch(bᵉᴰᴹᴰ)\n",
    "    ρᵍᴰᴹᴰ = LiPoSID.rho_series_from_bloch(bᵍᴰᴹᴰ)\n",
    "    ρˣᴰᴹᴰ = LiPoSID.rho_series_from_bloch(bˣᴰᴹᴰ)\n",
    "    ρʸᴰᴹᴰ = LiPoSID.rho_series_from_bloch(bʸᴰᴹᴰ)\n",
    "\n",
    "\n",
    "    return [ρᵉᴰᴹᴰ, ρᵍᴰᴹᴰ, ρˣᴰᴹᴰ, ρʸᴰᴹᴰ], t[1:lᵐᵃˣ]\n",
    "    \n",
    "end\n",
    "\n",
    "function ERA_basis_SpinBoson(γᵢ, n)\n",
    "\n",
    "        data_dir = \"DATA/\"\n",
    "\n",
    "        γᵢ = string(γᵢ)\n",
    "    \n",
    "        ρᵉ, tᵉ = LiPoSID.get_rho_series(data_dir*\"State_B1_2CUT_data.h5\", γᵢ)\n",
    "        ρᵍ, tᵍ = LiPoSID.get_rho_series(data_dir*\"State_B2_2CUT_data.h5\", γᵢ)\n",
    "        ρˣ, tˣ = LiPoSID.get_rho_series(data_dir*\"State_B3_2CUT_data.h5\", γᵢ)\n",
    "        ρʸ, tʸ = LiPoSID.get_rho_series(data_dir*\"State_B4_2CUT_data.h5\", γᵢ)\n",
    "        \n",
    "        lᵉ = length(ρᵉ); lᵍ = length(ρᵍ); lˣ = length(ρˣ); lʸ = length(ρʸ)\n",
    "        lᵐᵃˣ = min(lᵉ, lᵍ,  lˣ, lʸ)  #choose time limit by shortest series\n",
    "    \n",
    "        bᵉ = LiPoSID.bloch(ρᵉ[1:lᵐᵃˣ])\n",
    "        bᵍ = LiPoSID.bloch(ρᵍ[1:lᵐᵃˣ])\n",
    "        bˣ = LiPoSID.bloch(ρˣ[1:lᵐᵃˣ])\n",
    "        bʸ = LiPoSID.bloch(ρʸ[1:lᵐᵃˣ])\n",
    "    \n",
    "        Y = [bᵉ; bᵍ; bˣ; bʸ]\n",
    "\n",
    "        t = convert.(Float64, tᵉᶠ[1:lᵐᵃˣ])\n",
    "        Δt = t[2]-t[1]\n",
    "\n",
    "        A, C, x₀, Σ = LiPoSID.lsid_n_ACx0Σ(Y, Δt, n) \n",
    "\n",
    "        Yᴱᴿᴬ = LiPoSID.propagate_LTI(A, C, x₀, n, length(t))\n",
    "\n",
    "        bᵉᴱᴿᴬ = Yᴱᴿᴬ[1:3,:]\n",
    "        bᵍᴱᴿᴬ = Yᴱᴿᴬ[4:6,:]\n",
    "        bˣᴱᴿᴬ = Yᴱᴿᴬ[7:9,:]\n",
    "        bʸᴱᴿᴬ = Yᴱᴿᴬ[10:12,:]\n",
    "\n",
    "        ρᵉᴱᴿᴬ = LiPoSID.rho_series_from_bloch(bᵉᴱᴿᴬ)\n",
    "        ρᵍᴱᴿᴬ = LiPoSID.rho_series_from_bloch(bᵍᴱᴿᴬ)\n",
    "        ρˣᴱᴿᴬ = LiPoSID.rho_series_from_bloch(bˣᴱᴿᴬ)\n",
    "        ρʸᴱᴿᴬ = LiPoSID.rho_series_from_bloch(bʸᴱᴿᴬ)\n",
    "\n",
    "        return [Fᵉ, Fᵍ, Fˣ, Fʸ], t[1:lᵐᵃˣ], A\n",
    "        \n",
    "end"
   ]
  },
  {
   "cell_type": "code",
   "execution_count": 9,
   "id": "ffc272a4",
   "metadata": {},
   "outputs": [
    {
     "data": {
      "text/plain": [
       "\"/home/zah/github/POP23/TESTS/\""
      ]
     },
     "metadata": {},
     "output_type": "display_data"
    }
   ],
   "source": [
    "parentdir = pwd()\n",
    "tests_dir = parentdir*\"/TESTS/\""
   ]
  },
  {
   "cell_type": "code",
   "execution_count": 10,
   "id": "8065c43c",
   "metadata": {},
   "outputs": [
    {
     "name": "stdout",
     "output_type": "stream",
     "text": [
      "Coupling levels to be avaluated γ ∈ [\"0.0\", \"0.079477\", \"0.25133\", \"0.79477\", \"2.5133\", \"7.9477\", \"25.133\", \"79.477\", \"251.33\"]\n"
     ]
    }
   ],
   "source": [
    "date_and_time_string =  string(Dates.format(now(), \"yyyy-u-dd_at_HH-MM\"))\n",
    "#models_file = \"DMDvsERA_LME_trn4_models_\"*date_and_time_string * \".h5\"\n",
    "tests_data_file_name = \"DMDvsERA_LME_trn4_tst4_\"*date_and_time_string * \".h5\"\n",
    "\n",
    "γ = [\"0.0\", \"0.079477\",  \"0.25133\", \"0.79477\", \"2.5133\", \"7.9477\", \"25.133\",  \"79.477\", \"251.33\"]\n",
    "\n",
    "println(\"Coupling levels to be avaluated γ ∈ \", γ)\n",
    "\n",
    "for n in 3:5\n",
    "\n",
    "    h5open(tests_dir*tests_data_file_name,\"cw\") do fid\n",
    "        rank_group = create_group(fid, \"rank_\"*string(n)) # create rank group\n",
    "    end \n",
    "\n",
    "    for γᵢ in  γ\n",
    "\n",
    "        ρᴰᴹᴰ, tᴰᴹᴰ,  Λᴰᴹᴰ = DMD_basis_SpinBoson(γᵢ, n)\n",
    "        ρᴱᴿᴬ, tᴱᴿᴬ,  Λᴱᴿᴬ = ERA_basis_SpinBoson(γᵢ, n)\n",
    "\n",
    "        ρᵉᴰᴹᴰ, ρᵍᴰᴹᴰ, ρˣᴰᴹᴰ, ρʸᴰᴹᴰ = ρᴰᴹᴰ\n",
    "        ρᵉᴱᴿᴬ, ρᵍᴱᴿᴬ, ρˣᴱᴿᴬ, ρʸᴱᴿᴬ = ρᴱᴿᴬ\n",
    "\n",
    "\n",
    "        for df_trn in train_files # loop over initial states\n",
    "\n",
    "            ρᵗʳⁿ, tᵗʳⁿ = LiPoSID.get_rho_series(data_dir*df_trn*\"_2CUT_data.h5\", γᵢ)\n",
    "            \n",
    "            if length(tᵗʳⁿ) > 1200 end_train = 1200 else end_train = length(tᵗʳⁿ) end\n",
    "                \n",
    "            ρᵗʳⁿ = convert(Vector{Matrix{ComplexF64}}, ρᵗʳⁿ[1:end_train])\n",
    "\n",
    "            b₀ᵗʳⁿ = LiPoSID.bloch(ρᵗʳⁿ[1])\n",
    "            kᵉᴰᴹᴰ, kᵍᴰᴹᴰ, kˣᴰᴹᴰ, kʸᴰᴹᴰ = b₀ᵗʳⁿ * [bᵉᴰᴹᴰ, bᵍᴰᴹᴰ, bˣᴰᴹᴰ, bʸᴰᴹᴰ]\n",
    "\n",
    "            \n",
    "            \n",
    "            Fʸ = LiPoSID.fidelity_series(basis, ρʸᴸᴹᴱ[1:lᵐᵃˣ], ρʸᴱᴿᴬ[1:lᵐᵃˣ])\n",
    "\n",
    "\n",
    "\n",
    "        Fᴰᴹᴰ, t = DMD_fidelity_4x4(γᵢ, n)\n",
    "        Fᴱᴿᴬ, t = ERA_fidelity_4x4(γᵢ, n) # Fᵉ, Fᵍ, Fˣ, Fʸ \n",
    "\n",
    "        h5open(tests_dir*tests_data_file_name,\"cw\") do fid\n",
    "            rank_group = open_group(fid, \"rank_\"*string(n)) # open rank group\n",
    "\n",
    "            γ_group = create_group(rank_group, \"gamma_\"*γᵢ) # create coupling group\n",
    "\n",
    "            γ_group[\"Fe_dmd_lme\"] = convert.(Float64, Fᴰᴹᴰ[1])\n",
    "            γ_group[\"Fg_dmd_lme\"] = convert.(Float64, Fᴰᴹᴰ[2])\n",
    "            γ_group[\"Fx_dmd_lme\"] = convert.(Float64, Fᴰᴹᴰ[3])\n",
    "            γ_group[\"Fy_dmd_lme\"] = convert.(Float64, Fᴰᴹᴰ[4])\n",
    "\n",
    "            γ_group[\"Fe_era_lme\"] = convert.(Float64, Fᴱᴿᴬ[1])\n",
    "            γ_group[\"Fg_era_lme\"] = convert.(Float64, Fᴱᴿᴬ[2])\n",
    "            γ_group[\"Fx_era_lme\"] = convert.(Float64, Fᴱᴿᴬ[3])\n",
    "            γ_group[\"Fy_era_lme\"] = convert.(Float64, Fᴱᴿᴬ[4])   \n",
    "            \n",
    "            γ_group[\"time\"] = convert.(Float64, t) \n",
    "\n",
    "            \n",
    "        end\n",
    "    end\n",
    "\n",
    "end\n"
   ]
  },
  {
   "cell_type": "code",
   "execution_count": 11,
   "id": "bbef8cf4",
   "metadata": {},
   "outputs": [
    {
     "data": {
      "text/plain": [
       "\"DMDvsERA_LME_trn4_tst4_2023-Aug-19_at_09-37.h5\""
      ]
     },
     "metadata": {},
     "output_type": "display_data"
    }
   ],
   "source": [
    "tests_data_file_name"
   ]
  },
  {
   "cell_type": "code",
   "execution_count": 12,
   "id": "c87177bb",
   "metadata": {},
   "outputs": [],
   "source": []
  }
 ],
 "metadata": {
  "@webio": {
   "lastCommId": null,
   "lastKernelId": null
  },
  "kernelspec": {
   "display_name": "Julia 1.9.2",
   "language": "julia",
   "name": "julia-1.9"
  },
  "language_info": {
   "file_extension": ".jl",
   "mimetype": "application/julia",
   "name": "julia",
   "version": "1.9.2"
  }
 },
 "nbformat": 4,
 "nbformat_minor": 5
}
