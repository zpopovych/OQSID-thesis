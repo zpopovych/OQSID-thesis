{
 "cells": [
  {
   "cell_type": "code",
   "execution_count": 10,
   "metadata": {},
   "outputs": [],
   "source": [
    "import h5py\n",
    "\n",
    "def add_gammas_as_groups(source_file, dest_file, group_name):\n",
    "    with h5py.File(source_file, 'r') as src_h5:\n",
    "        with h5py.File(dest_file, 'a') as dest_h5:  # 'a' mode opens the file for read/write and creates it if it doesn't exist\n",
    "\n",
    "            group = dest_h5.create_group(group_name)\n",
    "    \n",
    "            gammas = [g for g in src_h5.keys()]\n",
    "            print(gammas)\n",
    "\n",
    "            for key in gammas:\n",
    "                src_h5.copy(key, group)\n",
    "            print(f\"Added contents of '{source_file}' as group '{group_name}' in '{dest_file}'.\")\n"
   ]
  },
  {
   "cell_type": "code",
   "execution_count": 11,
   "metadata": {},
   "outputs": [
    {
     "data": {
      "text/plain": [
       "['D1', 'D2', 'D3', 'D4']"
      ]
     },
     "execution_count": 11,
     "metadata": {},
     "output_type": "execute_result"
    }
   ],
   "source": [
    "dodeca_states = [\"D\"+str(i+1) for i in range(4)]\n",
    "dodeca_states"
   ]
  },
  {
   "cell_type": "code",
   "execution_count": 12,
   "metadata": {},
   "outputs": [
    {
     "name": "stdout",
     "output_type": "stream",
     "text": [
      "['7.9477', '79.477']\n",
      "Added contents of 'LONG/State_D1_data.h5' as group 'D1' in 'LONG_GAMMAS_5_7_D4.h5'.\n",
      "['7.9477', '79.477']\n",
      "Added contents of 'LONG/State_D2_data.h5' as group 'D2' in 'LONG_GAMMAS_5_7_D4.h5'.\n",
      "['7.9477', '79.477']\n",
      "Added contents of 'LONG/State_D3_data.h5' as group 'D3' in 'LONG_GAMMAS_5_7_D4.h5'.\n",
      "['7.9477', '79.477']\n",
      "Added contents of 'LONG/State_D4_data.h5' as group 'D4' in 'LONG_GAMMAS_5_7_D4.h5'.\n"
     ]
    }
   ],
   "source": [
    "dest_file = 'LONG_GAMMAS_5_7_D4.h5'\n",
    "\n",
    "for state in dodeca_states:\n",
    "    add_gammas_as_groups(\"LONG/State_\"+state+\"_data.h5\", dest_file, state)\n"
   ]
  }
 ],
 "metadata": {
  "kernelspec": {
   "display_name": "base",
   "language": "python",
   "name": "python3"
  },
  "language_info": {
   "codemirror_mode": {
    "name": "ipython",
    "version": 3
   },
   "file_extension": ".py",
   "mimetype": "text/x-python",
   "name": "python",
   "nbconvert_exporter": "python",
   "pygments_lexer": "ipython3",
   "version": "3.10.14"
  }
 },
 "nbformat": 4,
 "nbformat_minor": 2
}
