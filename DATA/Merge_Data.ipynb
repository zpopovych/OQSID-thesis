{
 "cells": [
  {
   "cell_type": "code",
   "execution_count": 84,
   "metadata": {},
   "outputs": [],
   "source": [
    "import h5py\n",
    "\n",
    "def add_small_gammas_as_groups(source_file, dest_file, group_name):\n",
    "    with h5py.File(source_file, 'r') as src_h5:\n",
    "        with h5py.File(dest_file, 'a') as dest_h5:  # 'a' mode opens the file for read/write and creates it if it doesn't exist\n",
    "\n",
    "            group = dest_h5.create_group(group_name)\n",
    "    \n",
    "            gammas =[]\n",
    "            for g in src_h5.keys():\n",
    "                if float(g) < 25: gammas.append(g)\n",
    "\n",
    "            print(gammas)\n",
    "\n",
    "            for key in gammas:\n",
    "                src_h5.copy(key, group)\n",
    "            print(f\"Added contents of '{source_file}' as group '{group_name}' in '{dest_file}'.\")\n",
    "\n",
    "def add_large_gammas_as_groups(source_file, dest_file, group_name):\n",
    "    with h5py.File(source_file, 'r') as src_h5:\n",
    "        with h5py.File(dest_file, 'a') as dest_h5:  # 'a' mode opens the file for read/write and creates it if it doesn't exist\n",
    "\n",
    "            group = dest_h5[group_name]\n",
    "    \n",
    "            gammas =[]\n",
    "            for g in src_h5.keys():\n",
    "                if float(g) > 25: gammas.append(g)\n",
    "\n",
    "            print(gammas)\n",
    "\n",
    "            for key in gammas:\n",
    "                src_h5.copy(key, group)\n",
    "            print(f\"Added contents of '{source_file}' as group '{group_name}' in '{dest_file}'.\")"
   ]
  },
  {
   "cell_type": "code",
   "execution_count": 86,
   "metadata": {},
   "outputs": [],
   "source": [
    "dodeca_states = [\"D\"+str(i+1) for i in range(20)]\n",
    "dodeca_10_states = [\"D\"+str(i+1) for i in range(10)]\n",
    "basis_states = [\"B\"+str(i+1) for i in range(4)]\n",
    "all_states = basis_states + dodeca_10_states"
   ]
  },
  {
   "cell_type": "code",
   "execution_count": 88,
   "metadata": {},
   "outputs": [
    {
     "name": "stdout",
     "output_type": "stream",
     "text": [
      "['0.079477', '0.25133', '0.79477', '2.5133', '7.9477']\n",
      "Added contents of 'State_B1_2CUT_data.h5' as group 'B1' in 'ALL_GAMMAS_B4_D10.h5'.\n",
      "['25.133', '251.33', '79.477']\n",
      "Added contents of 'LARGE_GAMMA_NEW/State_B1_new_data.h5' as group 'B1' in 'ALL_GAMMAS_B4_D10.h5'.\n",
      "['0.079477', '0.25133', '0.79477', '2.5133', '7.9477']\n",
      "Added contents of 'State_B2_2CUT_data.h5' as group 'B2' in 'ALL_GAMMAS_B4_D10.h5'.\n",
      "['25.133', '251.33', '79.477']\n",
      "Added contents of 'LARGE_GAMMA_NEW/State_B2_new_data.h5' as group 'B2' in 'ALL_GAMMAS_B4_D10.h5'.\n",
      "['0.079477', '0.25133', '0.79477', '2.5133', '7.9477']\n",
      "Added contents of 'State_B3_2CUT_data.h5' as group 'B3' in 'ALL_GAMMAS_B4_D10.h5'.\n",
      "['25.133', '251.33', '79.477']\n",
      "Added contents of 'LARGE_GAMMA_NEW/State_B3_new_data.h5' as group 'B3' in 'ALL_GAMMAS_B4_D10.h5'.\n",
      "['0.079477', '0.25133', '0.79477', '2.5133', '7.9477']\n",
      "Added contents of 'State_B4_2CUT_data.h5' as group 'B4' in 'ALL_GAMMAS_B4_D10.h5'.\n",
      "['25.133', '251.33', '79.477']\n",
      "Added contents of 'LARGE_GAMMA_NEW/State_B4_new_data.h5' as group 'B4' in 'ALL_GAMMAS_B4_D10.h5'.\n",
      "['0.079477', '0.25133', '0.79477', '2.5133', '7.9477']\n",
      "Added contents of 'State_D1_2CUT_data.h5' as group 'D1' in 'ALL_GAMMAS_B4_D10.h5'.\n",
      "['25.133', '251.33', '79.477']\n",
      "Added contents of 'LARGE_GAMMA_NEW/State_D1_new_data.h5' as group 'D1' in 'ALL_GAMMAS_B4_D10.h5'.\n",
      "['0.079477', '0.25133', '0.79477', '2.5133', '7.9477']\n",
      "Added contents of 'State_D2_2CUT_data.h5' as group 'D2' in 'ALL_GAMMAS_B4_D10.h5'.\n",
      "['25.133', '251.33', '79.477']\n",
      "Added contents of 'LARGE_GAMMA_NEW/State_D2_new_data.h5' as group 'D2' in 'ALL_GAMMAS_B4_D10.h5'.\n",
      "['0.079477', '0.25133', '0.79477', '2.5133', '7.9477']\n",
      "Added contents of 'State_D3_2CUT_data.h5' as group 'D3' in 'ALL_GAMMAS_B4_D10.h5'.\n",
      "['25.133', '251.33', '79.477']\n",
      "Added contents of 'LARGE_GAMMA_NEW/State_D3_new_data.h5' as group 'D3' in 'ALL_GAMMAS_B4_D10.h5'.\n",
      "['0.079477', '0.25133', '0.79477', '2.5133', '7.9477']\n",
      "Added contents of 'State_D4_2CUT_data.h5' as group 'D4' in 'ALL_GAMMAS_B4_D10.h5'.\n",
      "['25.133', '251.33', '79.477']\n",
      "Added contents of 'LARGE_GAMMA_NEW/State_D4_new_data.h5' as group 'D4' in 'ALL_GAMMAS_B4_D10.h5'.\n",
      "['0.079477', '0.25133', '0.79477', '2.5133', '7.9477']\n",
      "Added contents of 'State_D5_2CUT_data.h5' as group 'D5' in 'ALL_GAMMAS_B4_D10.h5'.\n",
      "['25.133', '251.33', '79.477']\n",
      "Added contents of 'LARGE_GAMMA_NEW/State_D5_new_data.h5' as group 'D5' in 'ALL_GAMMAS_B4_D10.h5'.\n",
      "['0.079477', '0.25133', '0.79477', '2.5133', '7.9477']\n",
      "Added contents of 'State_D6_2CUT_data.h5' as group 'D6' in 'ALL_GAMMAS_B4_D10.h5'.\n",
      "['25.133', '251.33', '79.477']\n",
      "Added contents of 'LARGE_GAMMA_NEW/State_D6_new_data.h5' as group 'D6' in 'ALL_GAMMAS_B4_D10.h5'.\n",
      "['0.079477', '0.25133', '0.79477', '2.5133', '7.9477']\n",
      "Added contents of 'State_D7_2CUT_data.h5' as group 'D7' in 'ALL_GAMMAS_B4_D10.h5'.\n",
      "['25.133', '251.33', '79.477']\n",
      "Added contents of 'LARGE_GAMMA_NEW/State_D7_new_data.h5' as group 'D7' in 'ALL_GAMMAS_B4_D10.h5'.\n",
      "['0.079477', '0.25133', '0.79477', '2.5133', '7.9477']\n",
      "Added contents of 'State_D8_2CUT_data.h5' as group 'D8' in 'ALL_GAMMAS_B4_D10.h5'.\n",
      "['25.133', '251.33', '79.477']\n",
      "Added contents of 'LARGE_GAMMA_NEW/State_D8_new_data.h5' as group 'D8' in 'ALL_GAMMAS_B4_D10.h5'.\n",
      "['0.079477', '0.25133', '0.79477', '2.5133', '7.9477']\n",
      "Added contents of 'State_D9_2CUT_data.h5' as group 'D9' in 'ALL_GAMMAS_B4_D10.h5'.\n",
      "['25.133', '251.33', '79.477']\n",
      "Added contents of 'LARGE_GAMMA_NEW/State_D9_new_data.h5' as group 'D9' in 'ALL_GAMMAS_B4_D10.h5'.\n",
      "['0.079477', '0.25133', '0.79477', '2.5133', '7.9477']\n",
      "Added contents of 'State_D10_2CUT_data.h5' as group 'D10' in 'ALL_GAMMAS_B4_D10.h5'.\n",
      "['25.133', '251.33', '79.477']\n",
      "Added contents of 'LARGE_GAMMA_NEW/State_D10_new_data.h5' as group 'D10' in 'ALL_GAMMAS_B4_D10.h5'.\n"
     ]
    }
   ],
   "source": [
    "dest_file = 'ALL_GAMMAS_B4_D10.h5'\n",
    "\n",
    "for state in all_states:\n",
    "    add_small_gammas_as_groups(\"State_\"+state+\"_2CUT_data.h5\", dest_file, state)\n",
    "    add_large_gammas_as_groups(\"LARGE_GAMMA_NEW/State_\"+state+\"_new_data.h5\", dest_file, state)\n",
    "    \n"
   ]
  }
 ],
 "metadata": {
  "kernelspec": {
   "display_name": "base",
   "language": "python",
   "name": "python3"
  },
  "language_info": {
   "codemirror_mode": {
    "name": "ipython",
    "version": 3
   },
   "file_extension": ".py",
   "mimetype": "text/x-python",
   "name": "python",
   "nbconvert_exporter": "python",
   "pygments_lexer": "ipython3",
   "version": "3.11.4"
  }
 },
 "nbformat": 4,
 "nbformat_minor": 2
}
