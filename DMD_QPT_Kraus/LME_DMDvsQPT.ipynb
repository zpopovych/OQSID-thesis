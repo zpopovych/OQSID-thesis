{
 "cells": [
  {
   "cell_type": "code",
   "execution_count": 1,
   "metadata": {},
   "outputs": [],
   "source": [
    "using Plots"
   ]
  },
  {
   "cell_type": "code",
   "execution_count": 3,
   "metadata": {},
   "outputs": [],
   "source": [
    "include(\"../LiPoSID.jl\")\n",
    "using QuantumOptics\n",
    "basis = NLevelBasis(2)\n",
    "using LinearAlgebra"
   ]
  },
  {
   "cell_type": "code",
   "execution_count": 4,
   "metadata": {},
   "outputs": [
    {
     "data": {
      "text/plain": [
       "Kraus (generic function with 1 method)"
      ]
     },
     "metadata": {},
     "output_type": "display_data"
    }
   ],
   "source": [
    "function Kraus(ρ₀, E)\n",
    "    ρ = sum(K * ρ₀ * K' for K in E)\n",
    "    return ρ\n",
    "end"
   ]
  },
  {
   "cell_type": "code",
   "execution_count": 5,
   "metadata": {},
   "outputs": [
    {
     "data": {
      "text/plain": [
       "Eigen{ComplexF64, ComplexF64, Matrix{ComplexF64}, Vector{ComplexF64}}\n",
       "values:\n",
       "4-element Vector{ComplexF64}:\n",
       " 0.8755847745179045 - 0.4814149270432724im\n",
       " 0.8755847745179045 + 0.4814149270432724im\n",
       " 0.9984117442527495 + 0.0im\n",
       " 0.9999999999999992 + 0.0im\n",
       "vectors:\n",
       "4×4 Matrix{ComplexF64}:\n",
       "  0.00111973-0.70707im      …  -6.78785e-7+0.0im  4.29302e-7+0.0im\n",
       "    0.707143-0.0im               2.0508e-8+0.0im  1.22163e-8+0.0im\n",
       " -1.43186e-5+1.07853e-5im              1.0+0.0im    0.707146+0.0im\n",
       " 3.60221e-16+4.07917e-16im     6.46594e-13+0.0im    0.707068+0.0im"
      ]
     },
     "metadata": {},
     "output_type": "display_data"
    }
   ],
   "source": [
    "data_dir = \"../DATA/\"\n",
    "\n",
    "γ_list = [ \"0.079477\",  \"0.25133\", \"0.79477\", \"2.5133\", \"7.9477\", \"25.133\",  \"79.477\", \"251.33\"]\n",
    "γᵢ = γ_list[1]\n",
    "\n",
    "γᵢ = string(γᵢ)\n",
    "\n",
    "ρᵉ, tᵉ = LiPoSID.get_rho_series(data_dir*\"State_B1_2CUT_data.h5\", γᵢ)\n",
    "ρᵍ, tᵍ = LiPoSID.get_rho_series(data_dir*\"State_B2_2CUT_data.h5\", γᵢ)\n",
    "ρˣ, tˣ = LiPoSID.get_rho_series(data_dir*\"State_B3_2CUT_data.h5\", γᵢ)\n",
    "ρʸ, tʸ = LiPoSID.get_rho_series(data_dir*\"State_B4_2CUT_data.h5\", γᵢ)\n",
    "\n",
    "lᵉ = length(ρᵉ); lᵍ = length(ρᵍ); lˣ = length(ρˣ); lʸ = length(ρʸ)\n",
    "lᵐᵃˣ = min(lᵉ, lᵍ,  lˣ, lʸ)  #choose time limit by shortest series\n",
    "\n",
    "tᵉᶠ = convert.(Float64, tᵉ); tᵍᶠ = convert.(Float64, tᵍ); \n",
    "tˣᶠ = convert.(Float64, tˣ); tʸᶠ = convert.(Float64, tʸ); \n",
    "\n",
    "Δt = tˣᶠ[2] - tˣᶠ[1]\n",
    "\n",
    "Aᴰᴹᴰ⁻ˢᴮ = LiPoSID.direct_DMD_01XY_b4_A([ρᵉ, ρᵍ, ρˣ, ρʸ])\n",
    "eigen(Aᴰᴹᴰ⁻ˢᴮ)"
   ]
  },
  {
   "cell_type": "code",
   "execution_count": 6,
   "metadata": {},
   "outputs": [
    {
     "data": {
      "text/plain": [
       "Eigen{ComplexF64, ComplexF64, Matrix{ComplexF64}, Vector{ComplexF64}}\n",
       "values:\n",
       "4-element Vector{ComplexF64}:\n",
       " 0.8756752742337365 - 0.48125287318117876im\n",
       " 0.8756752742337365 + 0.48125287318117876im\n",
       " 0.9984117225648561 + 0.0im\n",
       " 0.9999999999999982 + 0.0im\n",
       "vectors:\n",
       "4×4 Matrix{ComplexF64}:\n",
       "  -1.4248e-12+0.707107im     …  -1.02968e-10+0.0im\n",
       "    -0.707107-0.0im              6.57337e-10+0.0im\n",
       " -1.55904e-13+5.24599e-14im         0.707107+0.0im\n",
       "  6.37162e-17+2.71344e-16im         0.707107+0.0im"
      ]
     },
     "metadata": {},
     "output_type": "display_data"
    }
   ],
   "source": [
    "ωᶠ = 25.126\n",
    "\n",
    "Hᴸᴹᴱ = [ ωᶠ        0\n",
    "         0        0   ]\n",
    "\n",
    "γᶠ = parse(Float64, γᵢ)\n",
    "\n",
    "Aᴸᴹᴱ = [ 0    √γᶠ\n",
    "         0     0. + 0im  ]\n",
    "\n",
    "tᵉᶠ = convert.(Float64, tᵉ); tᵍᶠ = convert.(Float64, tᵍ); \n",
    "tˣᶠ = convert.(Float64, tˣ); tʸᶠ = convert.(Float64, tʸ); \n",
    "\n",
    "t = tˣᶠ\n",
    "Δt = t[2] - t[1] #0.02\n",
    "\n",
    "ρᵉᴸᴹᴱ = LiPoSID.Lindblad_time_evolution(basis, ρᵉ[1], tᵉᶠ, Hᴸᴹᴱ, [Aᴸᴹᴱ])\n",
    "ρᵍᴸᴹᴱ = LiPoSID.Lindblad_time_evolution(basis, ρᵍ[1], tᵍᶠ, Hᴸᴹᴱ, [Aᴸᴹᴱ])\n",
    "ρˣᴸᴹᴱ = LiPoSID.Lindblad_time_evolution(basis, ρˣ[1], tˣᶠ, Hᴸᴹᴱ, [Aᴸᴹᴱ])\n",
    "ρʸᴸᴹᴱ = LiPoSID.Lindblad_time_evolution(basis, ρʸ[1], tʸᶠ, Hᴸᴹᴱ, [Aᴸᴹᴱ])\n",
    "\n",
    "Aᴰᴹᴰ⁻ᴸᴹᴱ = LiPoSID.direct_DMD_01XY_b4_A([ρᵉᴸᴹᴱ, ρᵍᴸᴹᴱ, ρˣᴸᴹᴱ, ρʸᴸᴹᴱ])\n",
    "eigen(Aᴰᴹᴰ⁻ᴸᴹᴱ)"
   ]
  },
  {
   "cell_type": "code",
   "execution_count": 7,
   "metadata": {},
   "outputs": [],
   "source": [
    "function bloch4(ρ)\n",
    "\n",
    "    b = convert.(Float64, [ ρ[1,2] + ρ[2,1],\n",
    "                           (ρ[1,2] - ρ[2,1])*im,    #ρ[2,1] - ρ[1,2] ?\n",
    "                            ρ[1,1] - ρ[2,2],\n",
    "                               1                 ]) #ρ[1,1] + ρ[2,2]  \n",
    "\n",
    "end\n",
    "\n",
    "function dm_b4(b) \n",
    "\n",
    "    ρ = [ 1+b[3]         b[1]-im*b[2]\n",
    "          b[1]+im*b[2]   1-b[3]       ]/2\n",
    "\n",
    "end\n",
    "\n",
    "function propagate_DMD_b4(A, ρ₀, lᵐᵃˣ)\n",
    "\n",
    "    ρ = [ρ₀]\n",
    "\n",
    "    for i in 2:lᵐᵃˣ\n",
    "        push!(ρ, dm_b4( A * bloch4(ρ[end])))\n",
    "    end\n",
    "\n",
    "    return ρ\n",
    "\n",
    "end\n",
    "\n",
    "ρᵍᴰᴹᴰ⁻ˢᴮ  = propagate_DMD_b4(Aᴰᴹᴰ⁻ˢᴮ, ρᵍ[1], length(ρᵍ))\n",
    "ρᵉᴰᴹᴰ⁻ˢᴮ  = propagate_DMD_b4(Aᴰᴹᴰ⁻ˢᴮ, ρᵉ[1], length(ρᵉ))\n",
    "ρˣᴰᴹᴰ⁻ˢᴮ  = propagate_DMD_b4(Aᴰᴹᴰ⁻ˢᴮ, ρˣ[1], length(ρˣ))\n",
    "ρʸᴰᴹᴰ⁻ˢᴮ  = propagate_DMD_b4(Aᴰᴹᴰ⁻ˢᴮ, ρʸ[1], length(ρʸ));\n",
    "\n",
    "ρᵍᴰᴹᴰ⁻ᴸᴹᴱ  = propagate_DMD_b4(Aᴰᴹᴰ⁻ᴸᴹᴱ, ρᵍᴸᴹᴱ[1], length(ρᵍᴸᴹᴱ))\n",
    "ρᵉᴰᴹᴰ⁻ᴸᴹᴱ  = propagate_DMD_b4(Aᴰᴹᴰ⁻ᴸᴹᴱ, ρᵉᴸᴹᴱ[1], length(ρᵉᴸᴹᴱ))\n",
    "ρˣᴰᴹᴰ⁻ᴸᴹᴱ  = propagate_DMD_b4(Aᴰᴹᴰ⁻ᴸᴹᴱ, ρˣᴸᴹᴱ[1], length(ρˣᴸᴹᴱ))\n",
    "ρʸᴰᴹᴰ⁻ᴸᴹᴱ  = propagate_DMD_b4(Aᴰᴹᴰ⁻ᴸᴹᴱ, ρʸᴸᴹᴱ[1], length(ρʸᴸᴹᴱ));"
   ]
  },
  {
   "cell_type": "code",
   "execution_count": 8,
   "metadata": {},
   "outputs": [
    {
     "data": {
      "text/plain": [
       "0.9999257646337445"
      ]
     },
     "metadata": {},
     "output_type": "display_data"
    }
   ],
   "source": [
    "min(minimum(LiPoSID.fidelity_series(basis, ρᵍᴰᴹᴰ⁻ˢᴮ, ρᵍ)),\n",
    "    minimum(LiPoSID.fidelity_series(basis, ρᵉᴰᴹᴰ⁻ˢᴮ, ρᵉ)),\n",
    "    minimum(LiPoSID.fidelity_series(basis, ρˣᴰᴹᴰ⁻ˢᴮ, ρˣ)),\n",
    "    minimum(LiPoSID.fidelity_series(basis, ρʸᴰᴹᴰ⁻ˢᴮ, ρʸ)))"
   ]
  },
  {
   "cell_type": "code",
   "execution_count": 9,
   "metadata": {},
   "outputs": [
    {
     "data": {
      "text/plain": [
       "0.9999999999995641"
      ]
     },
     "metadata": {},
     "output_type": "display_data"
    }
   ],
   "source": [
    "min(minimum(LiPoSID.fidelity_series(basis, ρᵍᴰᴹᴰ⁻ᴸᴹᴱ, ρᵍᴸᴹᴱ)),\n",
    "    minimum(LiPoSID.fidelity_series(basis, ρᵉᴰᴹᴰ⁻ᴸᴹᴱ, ρᵉᴸᴹᴱ)),\n",
    "    minimum(LiPoSID.fidelity_series(basis, ρˣᴰᴹᴰ⁻ᴸᴹᴱ, ρˣᴸᴹᴱ)),\n",
    "    minimum(LiPoSID.fidelity_series(basis, ρʸᴰᴹᴰ⁻ᴸᴹᴱ, ρʸᴸᴹᴱ)))"
   ]
  },
  {
   "cell_type": "code",
   "execution_count": 10,
   "metadata": {},
   "outputs": [
    {
     "name": "stdout",
     "output_type": "stream",
     "text": [
      "[1.3510560802961983e-11, 5.222046059004474e-8, 0.0007941387039318715, 0.9992058090620962]\n",
      "[-0.00015396989514809142, 5.546387349598866e-7, 0.0009480763218224094, 0.9992053389345906]\n"
     ]
    },
    {
     "data": {
      "text/plain": [
       "2×2 Matrix{ComplexF64}:\n",
       " 0.000720966-0.000185211im    4.66143e-6-3.83661e-6im\n",
       " -5.55556e-6+1.18023e-5im   -0.000721577-0.000185211im"
      ]
     },
     "metadata": {},
     "output_type": "display_data"
    }
   ],
   "source": [
    "function DMD_step(A, ρ₀)\n",
    "    dm_b4(A * bloch4(ρ₀))\n",
    "end\n",
    "\n",
    "ρᵍ₀ = [1. 0]' * [1 0]\n",
    "ρᵉ₀ = [0. 1]' * [0 1]\n",
    "ρˣ₀ = [1  1]' * [1 1]/2\n",
    "ρʸ₀ = [1 -im]' * [1 -im]/2\n",
    "\n",
    "ρᵍ₁ᴸᴹᴱ = DMD_step(Aᴰᴹᴰ⁻ᴸᴹᴱ, ρᵍ₀)\n",
    "ρᵉ₁ᴸᴹᴱ = DMD_step(Aᴰᴹᴰ⁻ᴸᴹᴱ, ρᵉ₀)\n",
    "ρˣ₁ᴸᴹᴱ = DMD_step(Aᴰᴹᴰ⁻ᴸᴹᴱ, ρˣ₀)\n",
    "ρʸ₁ᴸᴹᴱ = DMD_step(Aᴰᴹᴰ⁻ᴸᴹᴱ, ρʸ₀)\n",
    "\n",
    "ρᵍ₁ˢᴮ = DMD_step(Aᴰᴹᴰ⁻ˢᴮ, ρᵍ₀)\n",
    "ρᵉ₁ˢᴮ = DMD_step(Aᴰᴹᴰ⁻ˢᴮ, ρᵉ₀)\n",
    "ρˣ₁ˢᴮ = DMD_step(Aᴰᴹᴰ⁻ˢᴮ, ρˣ₀)\n",
    "ρʸ₁ˢᴮ = DMD_step(Aᴰᴹᴰ⁻ˢᴮ, ρʸ₀)\n",
    "\n",
    "Eᴰᴹᴰ⁻ᴸᴹᴱ, dᴸᴹᴱ = LiPoSID.QPT(ρᵍ₁ᴸᴹᴱ, ρᵉ₁ᴸᴹᴱ, ρˣ₁ᴸᴹᴱ, ρʸ₁ᴸᴹᴱ)\n",
    "Eᴰᴹᴰ⁻ˢᴮ, dˢᴮ = LiPoSID.QPT(ρᵍ₁ˢᴮ, ρᵉ₁ˢᴮ, ρˣ₁ˢᴮ, ρʸ₁ˢᴮ)\n",
    "\n",
    "println(dᴸᴹᴱ)\n",
    "println(dˢᴮ) #evolution is slightly unphysical\n",
    "\n",
    "Eᴰᴹᴰ⁻ˢᴮ[1]\n"
   ]
  },
  {
   "cell_type": "code",
   "execution_count": 21,
   "metadata": {},
   "outputs": [
    {
     "data": {
      "text/plain": [
       "-0.00015396989514809142"
      ]
     },
     "metadata": {},
     "output_type": "display_data"
    }
   ],
   "source": [
    "minimum(dˢᴮ)"
   ]
  },
  {
   "cell_type": "code",
   "execution_count": 29,
   "metadata": {},
   "outputs": [],
   "source": [
    "ρᵍ₀ = [1. 0]' * [1 0]\n",
    "ρᵉ₀ = [0. 1]' * [0 1]\n",
    "ρˣ₀ = [1  1]' * [1 1]/2\n",
    "ρʸ₀ = [1 -im]' * [1 -im]/2\n",
    "\n",
    "negs=[]\n",
    "\n",
    "for γᵢ in γ_list \n",
    "\n",
    "    ρᵉ, tᵉ = LiPoSID.get_rho_series(data_dir*\"State_B1_2CUT_data.h5\", γᵢ)\n",
    "    ρᵍ, tᵍ = LiPoSID.get_rho_series(data_dir*\"State_B2_2CUT_data.h5\", γᵢ)\n",
    "    ρˣ, tˣ = LiPoSID.get_rho_series(data_dir*\"State_B3_2CUT_data.h5\", γᵢ)\n",
    "    ρʸ, tʸ = LiPoSID.get_rho_series(data_dir*\"State_B4_2CUT_data.h5\", γᵢ)\n",
    "\n",
    "    lᵉ = length(ρᵉ); lᵍ = length(ρᵍ); lˣ = length(ρˣ); lʸ = length(ρʸ)\n",
    "    lᵐᵃˣ = min(lᵉ, lᵍ,  lˣ, lʸ)  #choose time limit by shortest series\n",
    "\n",
    "    Aᴰᴹᴰ⁻ˢᴮ = LiPoSID.direct_DMD_01XY_b4_A([ρᵉ[1:lᵐᵃˣ], ρᵍ[1:lᵐᵃˣ], ρˣ[1:lᵐᵃˣ], ρʸ[1:lᵐᵃˣ]])\n",
    "\n",
    "    ρᵍ₁ˢᴮ = DMD_step(Aᴰᴹᴰ⁻ˢᴮ, ρᵍ₀)\n",
    "    ρᵉ₁ˢᴮ = DMD_step(Aᴰᴹᴰ⁻ˢᴮ, ρᵉ₀)\n",
    "    ρˣ₁ˢᴮ = DMD_step(Aᴰᴹᴰ⁻ˢᴮ, ρˣ₀)\n",
    "    ρʸ₁ˢᴮ = DMD_step(Aᴰᴹᴰ⁻ˢᴮ, ρʸ₀)\n",
    "\n",
    "    Eᴰᴹᴰ⁻ˢᴮ, dˢᴮ = LiPoSID.QPT(ρᵍ₁ˢᴮ, ρᵉ₁ˢᴮ, ρˣ₁ˢᴮ, ρʸ₁ˢᴮ)\n",
    "\n",
    "    push!(negs, max_neg(dˢᴮ))\n",
    "\n",
    "end"
   ]
  },
  {
   "cell_type": "code",
   "execution_count": 32,
   "metadata": {},
   "outputs": [
    {
     "name": "stderr",
     "output_type": "stream",
     "text": [
      "\u001b[32m\u001b[1m    Updating\u001b[22m\u001b[39m registry at `~/.julia/registries/General.toml`\n"
     ]
    },
    {
     "name": "stderr",
     "output_type": "stream",
     "text": [
      "\u001b[32m\u001b[1m   Resolving\u001b[22m\u001b[39m package versions...\n"
     ]
    },
    {
     "name": "stderr",
     "output_type": "stream",
     "text": [
      "\u001b[32m\u001b[1m   Installed\u001b[22m\u001b[39m PyPlot ─ v2.11.2\n",
      "\u001b[32m\u001b[1m   Installed\u001b[22m\u001b[39m PyCall ─ v1.96.3\n"
     ]
    },
    {
     "name": "stderr",
     "output_type": "stream",
     "text": [
      "\u001b[32m\u001b[1m    Updating\u001b[22m\u001b[39m `~/.julia/environments/v1.9/Project.toml`\n",
      "  \u001b[90m[d330b81b] \u001b[39m\u001b[92m+ PyPlot v2.11.2\u001b[39m\n",
      "\u001b[32m\u001b[1m    Updating\u001b[22m\u001b[39m `~/.julia/environments/v1.9/Manifest.toml`\n"
     ]
    },
    {
     "name": "stderr",
     "output_type": "stream",
     "text": [
      "  \u001b[90m[438e738f] \u001b[39m\u001b[92m+ PyCall v1.96.3\u001b[39m\n",
      "  \u001b[90m[d330b81b] \u001b[39m\u001b[92m+ PyPlot v2.11.2\u001b[39m\n",
      "\u001b[32m\u001b[1m    Building\u001b[22m\u001b[39m PyCall → `~/.julia/scratchspaces/44cfe95a-1eb2-52ea-b672-e2afdf69b78f/c9932f1c60d2e653df4f06d76108af8fde2200c0/build.log`\n"
     ]
    },
    {
     "name": "stderr",
     "output_type": "stream",
     "text": [
      "\u001b[32m\u001b[1mPrecompiling\u001b[22m\u001b[39m project...\n"
     ]
    },
    {
     "name": "stderr",
     "output_type": "stream",
     "text": [
      "\u001b[32m  ✓ \u001b[39m\u001b[90mPyCall\u001b[39m\n"
     ]
    },
    {
     "name": "stderr",
     "output_type": "stream",
     "text": [
      "\u001b[32m  ✓ \u001b[39mPyPlot\n",
      "  2 dependencies successfully precompiled in 14 seconds. 441 already precompiled.\n"
     ]
    },
    {
     "name": "stderr",
     "output_type": "stream",
     "text": [
      "WARNING: using PyPlot.plot in module Main conflicts with an existing identifier.\n"
     ]
    }
   ],
   "source": [
    "import Pkg; Pkg.add(\"PyPlot\")\n",
    "using PyPlot; \n"
   ]
  },
  {
   "cell_type": "code",
   "execution_count": 11,
   "metadata": {},
   "outputs": [
    {
     "data": {
      "text/plain": [
       "2×2 Matrix{ComplexF64}:\n",
       " -6.38156e-5+4.72254e-5im   0.0403829-0.000748748im\n",
       "   0.0162555+0.000748748im  7.8821e-5-1.07291e-5im"
      ]
     },
     "metadata": {},
     "output_type": "display_data"
    }
   ],
   "source": [
    "Eᴰᴹᴰ⁻ˢᴮ[2]"
   ]
  },
  {
   "cell_type": "code",
   "execution_count": 12,
   "metadata": {},
   "outputs": [
    {
     "data": {
      "text/plain": [
       "2×2 Matrix{ComplexF64}:\n",
       "   0.968602-0.248616im    -2.52534e-6-1.65337e-6im\n",
       " 2.52038e-6-1.96946e-6im     0.967782+0.248616im"
      ]
     },
     "metadata": {},
     "output_type": "display_data"
    }
   ],
   "source": [
    "Eᴰᴹᴰ⁻ˢᴮ[3]"
   ]
  },
  {
   "cell_type": "code",
   "execution_count": 13,
   "metadata": {},
   "outputs": [
    {
     "ename": "DimensionMismatch",
     "evalue": "DimensionMismatch: matrix A has dimensions (4,1), matrix B has dimensions (2,2)",
     "output_type": "error",
     "traceback": [
      "DimensionMismatch: matrix A has dimensions (4,1), matrix B has dimensions (2,2)\n",
      "\n",
      "Stacktrace:\n",
      "  [1] _generic_matmatmul!(C::Matrix{Any}, tA::Char, tB::Char, A::Matrix{Any}, B::Matrix{Float64}, _add::LinearAlgebra.MulAddMul{true, true, Bool, Bool})\n",
      "    @ LinearAlgebra ~/julia-1.9.2/share/julia/stdlib/v1.9/LinearAlgebra/src/matmul.jl:856\n",
      "  [2] generic_matmatmul!(C::Matrix{Any}, tA::Char, tB::Char, A::Matrix{Any}, B::Matrix{Float64}, _add::LinearAlgebra.MulAddMul{true, true, Bool, Bool})\n",
      "    @ LinearAlgebra ~/julia-1.9.2/share/julia/stdlib/v1.9/LinearAlgebra/src/matmul.jl:844\n",
      "  [3] mul!\n",
      "    @ ~/julia-1.9.2/share/julia/stdlib/v1.9/LinearAlgebra/src/matmul.jl:303 [inlined]\n",
      "  [4] mul!\n",
      "    @ ~/julia-1.9.2/share/julia/stdlib/v1.9/LinearAlgebra/src/matmul.jl:276 [inlined]\n",
      "  [5] *\n",
      "    @ ~/julia-1.9.2/share/julia/stdlib/v1.9/LinearAlgebra/src/matmul.jl:141 [inlined]\n",
      "  [6] *\n",
      "    @ ~/julia-1.9.2/share/julia/stdlib/v1.9/LinearAlgebra/src/matmul.jl:62 [inlined]\n",
      "  [7] *\n",
      "    @ ./operators.jl:578 [inlined]\n",
      "  [8] (::var\"#11#12\"{Matrix{Float64}})(K::Vector{Any})\n",
      "    @ Main ./none:0\n",
      "  [9] MappingRF\n",
      "    @ ./reduce.jl:95 [inlined]\n",
      " [10] afoldl\n",
      "    @ ./operators.jl:535 [inlined]\n",
      " [11] _foldl_impl\n",
      "    @ ./tuple.jl:329 [inlined]\n",
      " [12] foldl_impl\n",
      "    @ ./reduce.jl:48 [inlined]\n",
      " [13] mapfoldl_impl\n",
      "    @ ./reduce.jl:44 [inlined]\n",
      " [14] #mapfoldl#288\n",
      "    @ ./reduce.jl:170 [inlined]\n",
      " [15] mapfoldl\n",
      "    @ ./reduce.jl:170 [inlined]\n",
      " [16] #mapreduce#292\n",
      "    @ ./reduce.jl:302 [inlined]\n",
      " [17] mapreduce\n",
      "    @ ./reduce.jl:302 [inlined]\n",
      " [18] #sum#295\n",
      "    @ ./reduce.jl:530 [inlined]\n",
      " [19] sum\n",
      "    @ ./reduce.jl:530 [inlined]\n",
      " [20] #sum#296\n",
      "    @ ./reduce.jl:559 [inlined]\n",
      " [21] sum\n",
      "    @ ./reduce.jl:559 [inlined]\n",
      " [22] Kraus(ρ₀::Matrix{Float64}, E::Tuple{Vector{Any}, Vector{Float64}})\n",
      "    @ Main ~/github/OQSID-thesis/DMD_QPT_Kraus/LME_DMDvsQPT.ipynb:2\n",
      " [23] top-level scope\n",
      "    @ ~/github/OQSID-thesis/DMD_QPT_Kraus/LME_DMDvsQPT.ipynb:18"
     ]
    }
   ],
   "source": [
    "ρᵍ₀ = [1. 0]' * [1 0]\n",
    "ρᵉ₀ = [0. 1]' * [0 1]\n",
    "ρˣ₀ = [1  1]' * [1 1]/2\n",
    "ρʸ₀ = [1 -im]' * [1 -im]/2\n",
    "\n",
    "function fidelity(ρ₁, ρ₂)\n",
    "    abs((tr(sqrt(sqrt(ρ₁)*ρ₂*sqrt(ρ₁))))^2)\n",
    "end\n",
    "\n",
    "fᴸᴹᴱ = []\n",
    "fˢᴮ = []\n",
    "\n",
    "for n in 1:length(ρᵍ)\n",
    "#n = length(ρᵍ)\n",
    "    Eᴰᴹᴰ⁻ᴸᴹᴱ = LiPoSID.QPT(ρᵍᴰᴹᴰ⁻ᴸᴹᴱ[n], ρᵉᴰᴹᴰ⁻ᴸᴹᴱ[n], ρˣᴰᴹᴰ⁻ᴸᴹᴱ[n], ρʸᴰᴹᴰ⁻ᴸᴹᴱ[n])\n",
    "    Eᴰᴹᴰ⁻ˢᴮ = LiPoSID.QPT(ρᵍᴰᴹᴰ⁻ˢᴮ[n], ρᵉᴰᴹᴰ⁻ˢᴮ[n], ρˣᴰᴹᴰ⁻ˢᴮ[n], ρʸᴰᴹᴰ⁻ˢᴮ[n])\n",
    "\n",
    "    push!(fᴸᴹᴱ, min(fidelity(Kraus(ρᵍ₀, Eᴰᴹᴰ⁻ᴸᴹᴱ), ρᵍᴸᴹᴱ[n]),\n",
    "            fidelity(Kraus(ρᵉ₀, Eᴰᴹᴰ⁻ᴸᴹᴱ), ρᵉᴸᴹᴱ[n]),\n",
    "            fidelity(Kraus(ρˣ₀, Eᴰᴹᴰ⁻ᴸᴹᴱ), ρˣᴸᴹᴱ[n]),\n",
    "            fidelity(Kraus(ρʸ₀, Eᴰᴹᴰ⁻ᴸᴹᴱ), ρʸᴸᴹᴱ[n])))\n",
    "    \n",
    "    push!(fˢᴮ, min(fidelity(Kraus(ρᵍ₀, Eᴰᴹᴰ⁻ˢᴮ), ρᵍ[n]),\n",
    "            fidelity(Kraus(ρᵉ₀, Eᴰᴹᴰ⁻ˢᴮ), ρᵉ[n]),\n",
    "            fidelity(Kraus(ρˣ₀, Eᴰᴹᴰ⁻ˢᴮ), ρˣ[n]),\n",
    "            fidelity(Kraus(ρʸ₀, Eᴰᴹᴰ⁻ˢᴮ), ρʸ[n])))\n",
    "end\n",
    "\n",
    "plot(fᴸᴹᴱ, label = \"QPT on DMD of LME\")\n",
    "plot!(fˢᴮ, label = \"QPT on DMD of spin-boson\")\n"
   ]
  },
  {
   "cell_type": "code",
   "execution_count": 63,
   "metadata": {},
   "outputs": [],
   "source": [
    "for i in 1:length(ρᵍ)\n",
    "    @assert ishermitian(ρˣᴸᴹᴱ[i])\n",
    "    @assert ishermitian(ρˣ[i])\n",
    "    @assert ishermitian(ρˣᴰᴹᴰ⁻ᴸᴹᴱ[i])\n",
    "    @assert ishermitian(ρˣᴰᴹᴰ⁻ˢᴮ[i])\n",
    "\n",
    "    @assert tr(ρˣᴸᴹᴱ[i]) ≈ 1\n",
    "    @assert tr(ρˣ[i]) ≈ 1\n",
    "    @assert tr(ρˣᴰᴹᴰ⁻ᴸᴹᴱ[i]) ≈ 1\n",
    "    @assert tr(ρˣᴰᴹᴰ⁻ˢᴮ[i]) ≈ 1\n",
    "\n",
    "end"
   ]
  },
  {
   "cell_type": "code",
   "execution_count": null,
   "metadata": {},
   "outputs": [],
   "source": []
  }
 ],
 "metadata": {
  "kernelspec": {
   "display_name": "Julia 1.9.2",
   "language": "julia",
   "name": "julia-1.9"
  },
  "language_info": {
   "file_extension": ".jl",
   "mimetype": "application/julia",
   "name": "julia",
   "version": "1.9.2"
  },
  "orig_nbformat": 4
 },
 "nbformat": 4,
 "nbformat_minor": 2
}
