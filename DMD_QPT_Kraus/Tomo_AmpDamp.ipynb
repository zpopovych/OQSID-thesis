{
 "cells": [
  {
   "cell_type": "code",
   "execution_count": 1,
   "metadata": {},
   "outputs": [],
   "source": [
    "include(\"LiPoSID.jl\")\n",
    "using LinearAlgebra"
   ]
  },
  {
   "cell_type": "markdown",
   "metadata": {},
   "source": [
    "Anmplitude damping\n",
    "\n",
    "$\\begin{bmatrix}\n",
    "1 & 0 \\\\ 0 & \\sqrt{1-\\gamma}\n",
    "\\end{bmatrix}, \\quad \\begin{bmatrix}\n",
    "0 & \\sqrt{\\gamma} \\\\ 0 & 0 \\end{bmatrix}$"
   ]
  },
  {
   "cell_type": "code",
   "execution_count": 14,
   "metadata": {},
   "outputs": [
    {
     "data": {
      "text/plain": [
       "2×2 Matrix{Float64}:\n",
       " 1.0  0.0\n",
       " 0.0  1.0"
      ]
     },
     "metadata": {},
     "output_type": "display_data"
    }
   ],
   "source": [
    "γ = 0.5\n",
    "E = []\n",
    "push!(E, [1 0\n",
    "          0 sqrt(1-γ)])\n",
    "        \n",
    "push!(E, [0 sqrt(γ)\n",
    "          0  0 ])\n",
    "\n",
    "sum(e'e for e in E)"
   ]
  },
  {
   "cell_type": "code",
   "execution_count": 15,
   "metadata": {},
   "outputs": [
    {
     "data": {
      "text/plain": [
       "2×2 Matrix{Float64}:\n",
       " 0.5  0.5\n",
       " 0.5  0.5"
      ]
     },
     "metadata": {},
     "output_type": "display_data"
    }
   ],
   "source": [
    "[1 1]' * [1 1]/2"
   ]
  },
  {
   "cell_type": "code",
   "execution_count": 16,
   "metadata": {},
   "outputs": [
    {
     "data": {
      "text/plain": [
       "2×2 Matrix{ComplexF64}:\n",
       " 0.5+0.0im  0.0-0.5im\n",
       " 0.0+0.5im  0.5+0.0im"
      ]
     },
     "metadata": {},
     "output_type": "display_data"
    }
   ],
   "source": [
    "ρᵍ₀ = [1. 0]' * [1 0]\n",
    "ρᵉ₀ = [0. 1]' * [0 1]\n",
    "ρˣ₀ = [1 1]' * [1 1]/2\n",
    "ρʸ₀ = [1 -im]' * [1 -im]/2"
   ]
  },
  {
   "cell_type": "code",
   "execution_count": 17,
   "metadata": {},
   "outputs": [
    {
     "data": {
      "text/plain": [
       "1-element Vector{Matrix{ComplexF64}}:\n",
       " [0.5 + 0.0im 0.0 - 0.5im; 0.0 + 0.5im 0.5 + 0.0im]"
      ]
     },
     "metadata": {},
     "output_type": "display_data"
    }
   ],
   "source": [
    "t_steps = 1\n",
    "ρᵍ = LiPoSID.timeevolution_kraus(t_steps, ρᵍ₀, E)\n",
    "ρᵉ = LiPoSID.timeevolution_kraus(t_steps, ρᵉ₀, E)\n",
    "ρˣ = LiPoSID.timeevolution_kraus(t_steps, ρˣ₀, E)\n",
    "ρʸ = LiPoSID.timeevolution_kraus(t_steps, ρʸ₀, E)"
   ]
  },
  {
   "cell_type": "code",
   "execution_count": 6,
   "metadata": {},
   "outputs": [
    {
     "ename": "UndefVarError",
     "evalue": "UndefVarError: `ρ₁` not defined",
     "output_type": "error",
     "traceback": [
      "UndefVarError: `ρ₁` not defined\n"
     ]
    }
   ],
   "source": [
    "ρ₁"
   ]
  },
  {
   "cell_type": "code",
   "execution_count": 24,
   "metadata": {},
   "outputs": [
    {
     "data": {
      "text/plain": [
       "4×4 Matrix{Float64}:\n",
       "  0.707107     -2.94232e-16  2.41062e-18  -3.29359e-16\n",
       "  0.0           0.0          0.0           0.0\n",
       " -4.996e-16     1.01798e-16  0.5           0.5\n",
       " -4.44089e-16   1.42693e-16  1.38778e-16   1.0"
      ]
     },
     "metadata": {},
     "output_type": "display_data"
    }
   ],
   "source": [
    "t_steps = 2\n",
    "ρᵍ = LiPoSID.timeevolution_kraus(t_steps, ρᵍ₀, E)\n",
    "ρᵉ = LiPoSID.timeevolution_kraus(t_steps, ρᵉ₀, E)\n",
    "ρˣ = LiPoSID.timeevolution_kraus(t_steps, ρˣ₀, E)\n",
    "ρʸ = LiPoSID.timeevolution_kraus(t_steps, ρʸ₀, E)\n",
    "\n",
    "A = LiPoSID.direct_DMD_01XY_b4_A([ρᵉ, ρᵍ, ρˣ, ρʸ])\n",
    "#A[abs.(A) .< 1e-5] .= 0\n",
    "A"
   ]
  },
  {
   "cell_type": "code",
   "execution_count": 8,
   "metadata": {},
   "outputs": [
    {
     "data": {
      "text/plain": [
       "2×2 Matrix{Float64}:\n",
       " 0.5  0.5\n",
       " 0.5  0.5"
      ]
     },
     "metadata": {},
     "output_type": "display_data"
    }
   ],
   "source": [
    "ρˣ[1]"
   ]
  },
  {
   "cell_type": "code",
   "execution_count": 31,
   "metadata": {},
   "outputs": [
    {
     "data": {
      "text/plain": [
       "4×4 Matrix{ComplexF64}:\n",
       "    0.728553+0.0im          …         0.125+0.0im\n",
       " 1.38778e-17+1.38778e-17im     -1.38778e-17-1.38778e-17im\n",
       " 1.38778e-17+1.38778e-17im     -1.38778e-17-1.38778e-17im\n",
       "       0.125+0.0im                0.0214466+0.0im"
      ]
     },
     "metadata": {},
     "output_type": "display_data"
    }
   ],
   "source": [
    "ρ₁ = LiPoSID.timeevolution_kraus(2, ρᵍ₀, E)[end]\n",
    "ρ₄ = LiPoSID.timeevolution_kraus(2, ρᵉ₀, E)[end]\n",
    "\n",
    "ρˣᶠ = LiPoSID.timeevolution_kraus(2, ρˣ₀, E)[end]\n",
    "ρʸᶠ = LiPoSID.timeevolution_kraus(2, ρʸ₀, E)[end]\n",
    "\n",
    "ρ₃= ρˣᶠ - im*ρʸᶠ - (1-im)*(ρ₁+ρ₄)/2 # with \"-\" sign χ can be diagonalized ???\n",
    "ρ₂= ρˣᶠ + im*ρʸᶠ - (1+im)*(ρ₁+ρ₄)/2 # !!!!!!!!!!!!!!!!!!!!!!!!!!!!!!!!!!!!!!!!!!!!!!!\n",
    "\n",
    "σₓ = [ 0  1\n",
    "       1  0 ]  # X gate\n",
    "\n",
    "Λ = [ I    σₓ\n",
    "      σₓ  -I ] / 2\n",
    "\n",
    "#Ρ = [ρ₁ ρ₃ \n",
    "#      ρ₄] \n",
    "\n",
    "\n",
    "Ρ = [ρ₁ ρ₂ \n",
    "     ρ₃ ρ₄] \n",
    "    \n",
    "χ = Λ*Ρ*Λ\n"
   ]
  },
  {
   "cell_type": "code",
   "execution_count": 26,
   "metadata": {},
   "outputs": [
    {
     "data": {
      "text/plain": [
       "4×4 Matrix{ComplexF64}:\n",
       "      1.0+0.0im          0.0+0.0im          …     0.707107+0.0im\n",
       "      0.0+0.0im          0.0+0.0im             5.55112e-17+5.55112e-17im\n",
       "      0.0+0.0im          0.0+0.0im                     0.0+0.0im\n",
       " 0.707107+0.0im  5.55112e-17-5.55112e-17im             0.5+0.0im"
      ]
     },
     "metadata": {},
     "output_type": "display_data"
    }
   ],
   "source": [
    "Ρ"
   ]
  },
  {
   "cell_type": "code",
   "execution_count": 20,
   "metadata": {},
   "outputs": [
    {
     "data": {
      "text/plain": [
       "2×2 Matrix{ComplexF64}:\n",
       " 0.0+0.0im  0.0+0.0im\n",
       " 1.0+0.0im  0.0+0.0im"
      ]
     },
     "metadata": {},
     "output_type": "display_data"
    }
   ],
   "source": [
    "ρ₃"
   ]
  },
  {
   "cell_type": "code",
   "execution_count": 27,
   "metadata": {},
   "outputs": [
    {
     "data": {
      "text/plain": [
       "true"
      ]
     },
     "metadata": {},
     "output_type": "display_data"
    }
   ],
   "source": [
    "d, U = eigen(χ)\n",
    "\n",
    "U * diagm(d) * U' ≈ χ\n",
    "\n",
    "ishermitian(χ)"
   ]
  },
  {
   "cell_type": "code",
   "execution_count": 28,
   "metadata": {},
   "outputs": [
    {
     "data": {
      "text/plain": [
       "4-element Vector{Float64}:\n",
       " 2.220446049250313e-16\n",
       " 5.551115123125783e-16\n",
       " 0.25000000000000017\n",
       " 0.75"
      ]
     },
     "metadata": {},
     "output_type": "display_data"
    }
   ],
   "source": [
    "d"
   ]
  },
  {
   "cell_type": "code",
   "execution_count": 29,
   "metadata": {},
   "outputs": [
    {
     "data": {
      "text/plain": [
       "4-element Vector{ComplexF64}:\n",
       " -0.1035533905932738 - 1.3161564380918607e-17im\n",
       " 0.24999999999999983 - 5.0304391503364406e-18im\n",
       " 0.24999999999999994 + 0.0im\n",
       "  0.6035533905932738 + 1.472255657930146e-17im"
      ]
     },
     "metadata": {},
     "output_type": "display_data"
    }
   ],
   "source": [
    "function bloch4(ρ)\n",
    "\n",
    "    b = convert.(Float64, [ ρ[1,2] + ρ[2,1],\n",
    "                           (ρ[1,2] - ρ[2,1])*im,\n",
    "                            ρ[1,1] - ρ[2,2],\n",
    "                            ρ[1,1] + ρ[2,2]       ])\n",
    "\n",
    "end\n",
    "\n",
    "function dm_b4(b) \n",
    "\n",
    "    ρ = [ 1+b[3]         b[2]-im*b[3]\n",
    "          b[2]+im*b[3]   1-b[3]       ]/2\n",
    "\n",
    "end\n",
    "\n",
    "function 𝓔(ρ₀, A)\n",
    "    ρᶠ = dm_b4(A * bloch4(ρ₀))\n",
    "    return ρᶠ\n",
    "end\n",
    "\n",
    "function QPT(A)\n",
    "\n",
    "    ρᵍ₀ = [1. 0]' * [1 0]\n",
    "    ρᵉ₀ = [0. 1]' * [0 1]\n",
    "    ρˣ₀ = [1 1]' * [1 1]/2\n",
    "    ρʸ₀ = [1 -im]' * [1 -im]/2\n",
    "\n",
    "    ρ₁ = 𝓔(ρᵍ₀, A)\n",
    "    ρ₄ = 𝓔(ρᵉ₀, A)\n",
    "    ρ₂ = 𝓔(ρˣ₀, A) - im*𝓔(ρʸ₀, A) - (1-im)*(ρ₁+ρ₄)/2 # with \"-\" sign χ can be diagonalized ???\n",
    "    ρ₃ = 𝓔(ρˣ₀, A) + im*𝓔(ρʸ₀, A) - (1+im)*(ρ₁+ρ₄)/2 \n",
    "\n",
    "    #ρ₂ = 𝓔(ρˣ₀, Ac) - im*𝓔(ρʸ₀, Ac) - (1-im)*(ρ₁+ρ₄)/2 # with \"-\" sign χ can be diagonalized ???\n",
    "    #ρ₃ = 𝓔(ρˣ₀, Ac) + im*𝓔(ρʸ₀, Ac) - (1+im)*(ρ₁+ρ₄)/2 \n",
    "\n",
    "    σₓ = [ 0  1\n",
    "           1  0 ]  # X gate\n",
    "\n",
    "    Λ = [ I    σₓ\n",
    "          σₓ  -I ] / 2\n",
    "\n",
    "    #Ρ = [ρ₁ ρ₃ \n",
    "    #     ρ₂ ρ₄] \n",
    "\n",
    "    Ρ = [ρ₁ ρ₂\n",
    "         ρ₃ ρ₄] \n",
    "     \n",
    "    χ = Λ*Ρ*Λ\n",
    "\n",
    "    return χ \n",
    "end\n",
    "\n",
    "χ = QPT(A)\n",
    "d, U = eigen(χ)\n",
    "\n",
    "U * diagm(d) * U' ≈ χ\n",
    "\n",
    "d"
   ]
  },
  {
   "cell_type": "code",
   "execution_count": 68,
   "metadata": {},
   "outputs": [
    {
     "data": {
      "text/plain": [
       "4×4 Matrix{ComplexF64}:\n",
       " 1.0+0.0im  0.0+0.0im  0.0+0.0im  1.0+0.0im\n",
       " 0.0+0.0im  0.0+0.0im  0.0+0.0im  0.0+0.0im\n",
       " 0.0+0.0im  0.0+0.0im  0.0+0.0im  0.0+0.0im\n",
       " 1.0+0.0im  0.0+0.0im  0.0+0.0im  1.0+0.0im"
      ]
     },
     "metadata": {},
     "output_type": "display_data"
    }
   ],
   "source": [
    "Ρ"
   ]
  },
  {
   "cell_type": "code",
   "execution_count": 32,
   "metadata": {},
   "outputs": [
    {
     "data": {
      "text/plain": [
       "2×2 Matrix{ComplexF64}:\n",
       " 1.0+0.0im  0.0+0.0im\n",
       " 0.0+0.0im  1.0+0.0im"
      ]
     },
     "metadata": {},
     "output_type": "display_data"
    }
   ],
   "source": [
    "function operator_sum(χ)\n",
    "\n",
    "    @assert ishermitian(χ)\n",
    "\n",
    "    σ = [ [0 1; 1 0], [0 -im; im 0], [1 0; 0 -1], [1 0; 0 1] ]\n",
    "    σˣ = σ[1]; σʸ = σ[2]; σᶻ = σ[3]; σᴵ = σ[4]; \n",
    "\n",
    "    E₀ = I(2)\n",
    "\n",
    "    E₁ = σˣ  #  σₓ  or X gate\n",
    "    E₂ = -im * σʸ\n",
    "    E₃ = σᶻ\n",
    "\n",
    "    Ẽ = [E₀, E₁, E₂, E₃] \n",
    "\n",
    "    d, U = eigen(χ)\n",
    "    @assert U * diagm(d) * U' ≈ χ\n",
    "    \n",
    "    E = []\n",
    "    for i in 1:size(U)[2]\n",
    "        Eᵢ = sqrt(Complex(d[i])) * sum(U[j,i] * Ẽ[j] for j in 1:size(U)[1])\n",
    "        Eᵢ[abs.(Eᵢ) .< 1e-5] .= 0\n",
    "        push!(E, Eᵢ)\n",
    "    end\n",
    "    return E\n",
    "end\n",
    "\n",
    "Eᵗᵒᵐ = operator_sum(χ)\n",
    "\n",
    "sum(e'e for e in Eᵗᵒᵐ)"
   ]
  },
  {
   "cell_type": "code",
   "execution_count": 33,
   "metadata": {},
   "outputs": [
    {
     "data": {
      "text/plain": [
       "4-element Vector{Any}:\n",
       " ComplexF64[0.0 + 0.0im 0.0 + 0.0im; 0.0 + 0.0im 0.0 + 0.0im]\n",
       " ComplexF64[0.0 + 0.0im 0.0 + 0.0im; 0.0 + 0.0im 0.0 + 0.0im]\n",
       " ComplexF64[0.0 + 0.0im 0.7071067811865477 - 3.3306690738754706e-16im; 0.0 + 0.0im 0.0 + 0.0im]\n",
       " ComplexF64[0.9999999999999999 + 0.0im 0.0 + 0.0im; 0.0 + 0.0im 0.7071067811865474 + 0.0im]"
      ]
     },
     "metadata": {},
     "output_type": "display_data"
    }
   ],
   "source": [
    "Eᵗᵒᵐ"
   ]
  },
  {
   "cell_type": "code",
   "execution_count": 35,
   "metadata": {},
   "outputs": [
    {
     "data": {
      "text/plain": [
       "2×2 Matrix{ComplexF64}:\n",
       " 1.11022e-16-0.0im          0.0-0.0im\n",
       "         0.0-0.0im  2.22045e-16-0.0im"
      ]
     },
     "metadata": {},
     "output_type": "display_data"
    }
   ],
   "source": [
    "E[1] - Eᵗᵒᵐ[4] "
   ]
  },
  {
   "cell_type": "code",
   "execution_count": 36,
   "metadata": {},
   "outputs": [
    {
     "data": {
      "text/plain": [
       "2×2 Matrix{ComplexF64}:\n",
       " 0.0-0.0im  -1.11022e-16+3.33067e-16im\n",
       " 0.0-0.0im           0.0-0.0im"
      ]
     },
     "metadata": {},
     "output_type": "display_data"
    }
   ],
   "source": [
    "E[2] - Eᵗᵒᵐ[3] "
   ]
  },
  {
   "cell_type": "code",
   "execution_count": 47,
   "metadata": {},
   "outputs": [
    {
     "data": {
      "text/plain": [
       "2×2 Matrix{ComplexF64}:\n",
       " 0.0+0.0im  0.0+0.0im\n",
       " 0.0+0.0im  0.0+0.0im"
      ]
     },
     "metadata": {},
     "output_type": "display_data"
    }
   ],
   "source": [
    "Eᵗᵒᵐ[2]"
   ]
  },
  {
   "cell_type": "code",
   "execution_count": 48,
   "metadata": {},
   "outputs": [
    {
     "data": {
      "text/plain": [
       "2×2 Matrix{Float64}:\n",
       " 0.0  0.351364\n",
       " 0.0  0.0"
      ]
     },
     "metadata": {},
     "output_type": "display_data"
    }
   ],
   "source": [
    "E[2]"
   ]
  },
  {
   "cell_type": "code",
   "execution_count": 49,
   "metadata": {},
   "outputs": [
    {
     "data": {
      "text/plain": [
       "2×2 Matrix{ComplexF64}:\n",
       " 0.0+0.0im  0.0+0.0im\n",
       " 0.0+0.0im  0.0+0.0im"
      ]
     },
     "metadata": {},
     "output_type": "display_data"
    }
   ],
   "source": [
    "Eᵗᵒᵐ[3]"
   ]
  }
 ],
 "metadata": {
  "kernelspec": {
   "display_name": "Julia 1.9.2",
   "language": "julia",
   "name": "julia-1.9"
  },
  "language_info": {
   "file_extension": ".jl",
   "mimetype": "application/julia",
   "name": "julia",
   "version": "1.9.2"
  },
  "orig_nbformat": 4
 },
 "nbformat": 4,
 "nbformat_minor": 2
}
