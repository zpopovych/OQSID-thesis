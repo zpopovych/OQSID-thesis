{
 "cells": [
  {
   "cell_type": "code",
   "execution_count": 66,
   "metadata": {},
   "outputs": [
    {
     "name": "stderr",
     "output_type": "stream",
     "text": [
      "WARNING: replacing module LiPoSID.\n"
     ]
    }
   ],
   "source": [
    "include(\"LiPoSID.jl\")\n",
    "using LinearAlgebra"
   ]
  },
  {
   "cell_type": "markdown",
   "metadata": {},
   "source": [
    "We can vectorize Kraus operator sum representation:\n",
    "\n",
    "$\\mathcal{E}(\\rho) = \\sum_k E_k \\rho E_k^\\dagger$\n",
    "\n",
    "$\\operatorname{vec}(E \\rho E^\\dagger) = E^* \\otimes E \\operatorname{vec}(\\rho)$\n",
    "\n",
    "$\\operatorname{vec} \\mathcal{E}(\\rho) = \\sum_k  E_k^* \\otimes E_k \\operatorname{vec}(\\rho) $\n",
    "\n",
    "$\\frac{d}{dt}\\operatorname{vec}(\\rho) = \\frac{\\log (\\sum_k  E_k^* \\otimes E_k )}{\\Delta t} \\operatorname{vec}(\\rho)$\n",
    "\n",
    "$\\mathcal{L}^{Kraus} = \\frac{\\log (\\sum_k  E_k^* \\otimes E_k )}{\\Delta t}$"
   ]
  },
  {
   "cell_type": "code",
   "execution_count": 78,
   "metadata": {},
   "outputs": [
    {
     "data": {
      "text/plain": [
       "A_from_B4D (generic function with 1 method)"
      ]
     },
     "metadata": {},
     "output_type": "display_data"
    }
   ],
   "source": [
    "function ⊗(A, B)\n",
    "    return kron(A,B)\n",
    "end\n",
    "\n",
    "function L_from_Kraus(E, Δt)\n",
    "   log(sum(conj(e) ⊗ e for e in E))/Δt\n",
    "end\n",
    "\n",
    "function A_from_Kraus(E)\n",
    "    sum(conj(e) ⊗ e for e in E)\n",
    "end\n",
    "\n",
    "function A_from_B4D(Aᵇ⁴)\n",
    "\n",
    "    M = [ 0  0   1  1\n",
    "          1  im  0  0 \n",
    "          1  -im  0  0\n",
    "          0  0  -1  1 ]/2\n",
    "   \n",
    "    A =   M * Aᵇ⁴ * inv(M)\n",
    "   \n",
    "    return Aᵇ⁴\n",
    "   \n",
    "   end"
   ]
  },
  {
   "cell_type": "code",
   "execution_count": 5,
   "metadata": {},
   "outputs": [],
   "source": [
    "using DynamicPolynomials"
   ]
  },
  {
   "cell_type": "markdown",
   "metadata": {},
   "source": [
    "Anmplitude damping\n",
    "\n",
    "$\\begin{bmatrix}\n",
    "1 & 0 \\\\ 0 & \\sqrt{1-\\gamma}\n",
    "\\end{bmatrix}, \\quad \\begin{bmatrix}\n",
    "0 & \\sqrt{\\gamma} \\\\ 0 & 0 \\end{bmatrix}$"
   ]
  },
  {
   "cell_type": "code",
   "execution_count": 40,
   "metadata": {},
   "outputs": [
    {
     "data": {
      "text/latex": [
       "$$ \\begin{equation}\n",
       "\\left[\n",
       "\\begin{array}{cccc}\n",
       "1 & 0 & 0 & \\left( \\sqrt{\\gamma} \\right)^{2} \\\\\n",
       "0 & \\sqrt{1 - \\gamma} & 0 & 0 \\\\\n",
       "0 & 0 & \\sqrt{1 - \\gamma} & 0 \\\\\n",
       "0 & 0 & 0 & \\left( \\sqrt{1 - \\gamma} \\right)^{2} \\\\\n",
       "\\end{array}\n",
       "\\right]\n",
       "\\end{equation}\n",
       " $$"
      ],
      "text/plain": [
       "4×4 Matrix{Num}:\n",
       " 1            0            0      sqrt(γ)^2\n",
       " 0  sqrt(1 - γ)            0              0\n",
       " 0            0  sqrt(1 - γ)              0\n",
       " 0            0            0  sqrt(1 - γ)^2"
      ]
     },
     "metadata": {},
     "output_type": "display_data"
    }
   ],
   "source": [
    "using Symbolics\n",
    "@variables γ\n",
    "\n",
    "Eˢʸᵐᵇ = []\n",
    "push!(Eˢʸᵐᵇ, [1 0\n",
    "              0 sqrt(1-γ)])\n",
    "        \n",
    "push!(Eˢʸᵐᵇ, [0 sqrt(γ)\n",
    "              0  0 ])\n",
    "\n",
    "A_from_Kraus(Eˢʸᵐᵇ)"
   ]
  },
  {
   "cell_type": "code",
   "execution_count": 62,
   "metadata": {},
   "outputs": [
    {
     "data": {
      "text/plain": [
       "2×2 Matrix{Float64}:\n",
       " 1.0  0.0\n",
       " 0.0  1.0"
      ]
     },
     "metadata": {},
     "output_type": "display_data"
    }
   ],
   "source": [
    "γ = 0.123456789\n",
    "E = []\n",
    "push!(E, [1 0\n",
    "          0 sqrt(1-γ)])\n",
    "        \n",
    "push!(E, [0 sqrt(γ)\n",
    "          0  0 ])\n",
    "\n",
    "sum(e'e for e in E)"
   ]
  },
  {
   "cell_type": "code",
   "execution_count": 48,
   "metadata": {},
   "outputs": [
    {
     "data": {
      "text/plain": [
       "2×2 Matrix{ComplexF64}:\n",
       " 0.5+0.0im  0.0-0.5im\n",
       " 0.0+0.5im  0.5+0.0im"
      ]
     },
     "metadata": {},
     "output_type": "display_data"
    }
   ],
   "source": [
    "ρᵍ₀ = [1. 0]' * [1 0]\n",
    "ρᵉ₀ = [0. 1]' * [0 1]\n",
    "ρˣ₀ = [1 1]' * [1 1]/2\n",
    "ρʸ₀ = [1 -im]' * [1 -im]/2"
   ]
  },
  {
   "cell_type": "code",
   "execution_count": 81,
   "metadata": {},
   "outputs": [
    {
     "data": {
      "text/plain": [
       "4×4 Matrix{Float64}:\n",
       " 0.936239  0.0  0.0       0.0\n",
       " 0.0       0.0  0.0       0.0\n",
       " 0.0       0.0  0.876543  0.123457\n",
       " 0.0       0.0  0.0       1.0"
      ]
     },
     "metadata": {},
     "output_type": "display_data"
    }
   ],
   "source": [
    "t_steps = 1000\n",
    "ρᵍ = LiPoSID.timeevolution_kraus(t_steps, ρᵍ₀, E)\n",
    "ρᵉ = LiPoSID.timeevolution_kraus(t_steps, ρᵉ₀, E)\n",
    "ρˣ = LiPoSID.timeevolution_kraus(t_steps, ρˣ₀, E)\n",
    "ρʸ = LiPoSID.timeevolution_kraus(t_steps, ρʸ₀, E)\n",
    "\n",
    "A = LiPoSID.direct_DMD_01XY_b4_A([ρᵉ, ρᵍ, ρˣ, ρʸ])\n",
    "A[abs.(A) .< 1e-5] .= 0\n",
    "A"
   ]
  },
  {
   "cell_type": "code",
   "execution_count": 80,
   "metadata": {},
   "outputs": [
    {
     "data": {
      "text/plain": [
       "4×4 Matrix{Float64}:\n",
       " 0.936239  0.0  0.0       0.0\n",
       " 0.0       0.0  0.0       0.0\n",
       " 0.0       0.0  0.876543  0.123457\n",
       " 0.0       0.0  0.0       1.0"
      ]
     },
     "metadata": {},
     "output_type": "display_data"
    }
   ],
   "source": [
    "A_from_B4D(A)"
   ]
  },
  {
   "cell_type": "code",
   "execution_count": 70,
   "metadata": {},
   "outputs": [
    {
     "data": {
      "text/plain": [
       "true"
      ]
     },
     "metadata": {},
     "output_type": "display_data"
    }
   ],
   "source": [
    "function bloch4(ρ)\n",
    "\n",
    "    b = convert.(Float64, [ ρ[1,2] + ρ[2,1],\n",
    "                           (ρ[1,2] - ρ[2,1])*im,\n",
    "                            ρ[1,1] - ρ[2,2],\n",
    "                            ρ[1,1] + ρ[2,2]       ])\n",
    "\n",
    "end\n",
    "\n",
    "function dm_b4(b) \n",
    "\n",
    "    ρ = [ 1+b[3]         b[2]-im*b[3]\n",
    "          b[2]+im*b[3]   1-b[3]       ]/2\n",
    "\n",
    "end\n",
    "\n",
    "function 𝓔(ρ₀, A)\n",
    "    ρᶠ = dm_b4(A * bloch4(ρ₀))\n",
    "    return ρᶠ\n",
    "end\n",
    "\n",
    "function QPT(A)\n",
    "\n",
    "    ρ₁ = 𝓔(ρᵍ₀, A)\n",
    "    ρ₄ = 𝓔(ρᵉ₀, A)\n",
    "    ρ₂ = 𝓔(ρˣ₀, A) + im*𝓔(ρʸ₀, A) - (1-im)*(ρ₁+ρ₄)/2 # with \"-\" sign χ can be diagonalized ???\n",
    "    ρ₃ = 𝓔(ρˣ₀, A) - im*𝓔(ρʸ₀, A) - (1+im)*(ρ₁+ρ₄)/2 \n",
    "\n",
    "    #ρ₂ = 𝓔(ρˣ₀, Ac) - im*𝓔(ρʸ₀, Ac) - (1-im)*(ρ₁+ρ₄)/2 # with \"-\" sign χ can be diagonalized ???\n",
    "    #ρ₃ = 𝓔(ρˣ₀, Ac) + im*𝓔(ρʸ₀, Ac) - (1+im)*(ρ₁+ρ₄)/2 \n",
    "\n",
    "    σₓ = [ 0  1\n",
    "           1  0 ]  # X gate\n",
    "\n",
    "    Λ = [ I  σₓ\n",
    "          σₓ  -I ] / 2\n",
    "\n",
    "    #Ρ = [ρ₁ ρ₃ \n",
    "    #     ρ₂ ρ₄] \n",
    "\n",
    "    Ρ = [ρ₁ ρ₂\n",
    "         ρ₃ ρ₄] \n",
    "     \n",
    "    χ = Λ*Ρ*Λ\n",
    "\n",
    "    return χ \n",
    "end\n",
    "\n",
    "χ = QPT(A)\n",
    "d, U = eigen(χ)\n",
    "\n",
    "U * diagm(d) * U' ≈ χ"
   ]
  },
  {
   "cell_type": "code",
   "execution_count": 97,
   "metadata": {},
   "outputs": [
    {
     "data": {
      "text/plain": [
       "2×2 Matrix{ComplexF64}:\n",
       "    2.4906+0.0im       -0.108717+0.201893im\n",
       " -0.108717-0.201893im    1.92872+0.0im"
      ]
     },
     "metadata": {},
     "output_type": "display_data"
    }
   ],
   "source": [
    "function operator_sum(χ)\n",
    "\n",
    "    E₀ = [1.  0\n",
    "      0   1 ]\n",
    "    E₁ = [ 0.  1\n",
    "        1  0 ]  #  σₓ  or X gate\n",
    "    E₂ = -im * [ 0  -im\n",
    "                im  0  ]\n",
    "    E₃ = [ 1  0\n",
    "        0 -1 ]\n",
    "    Ẽ = [E₀, E₁, E₂, E₃] \n",
    "\n",
    "    d, U = eigen(χ)\n",
    "    #@assert U * diagm(d) * U' ≈ χ\n",
    "    E = []\n",
    "    for i in 1:size(U)[2]\n",
    "        Eᵢ = sqrt(d[i] * sum(U[i,j] * Ẽ[j] for j in 1:size(U)[1]))\n",
    "        Eᵢ[abs.(Eᵢ) .< 1e-5] .= 0\n",
    "        push!(E, Eᵢ)\n",
    "    end\n",
    "    return E\n",
    "end\n",
    "\n",
    "Eᵗᵒᵐ = operator_sum(χ)\n",
    "\n",
    "sum(e'e for e in Eᵗᵒᵐ)"
   ]
  },
  {
   "cell_type": "code",
   "execution_count": 90,
   "metadata": {},
   "outputs": [
    {
     "data": {
      "text/plain": [
       "2×2 Matrix{ComplexF64}:\n",
       " -9.39881e-8-0.893423im       1.48162-2.26907e-7im\n",
       "    0.370068-5.66752e-8im  1.36826e-7+0.613707im"
      ]
     },
     "metadata": {},
     "output_type": "display_data"
    }
   ],
   "source": [
    "Eᵗᵒᵐ[1]"
   ]
  },
  {
   "cell_type": "code",
   "execution_count": 91,
   "metadata": {},
   "outputs": [
    {
     "data": {
      "text/plain": [
       "2×2 Matrix{Float64}:\n",
       " 1.0  0.0\n",
       " 0.0  0.936239"
      ]
     },
     "metadata": {},
     "output_type": "display_data"
    }
   ],
   "source": [
    "E[1]"
   ]
  },
  {
   "cell_type": "code",
   "execution_count": 92,
   "metadata": {},
   "outputs": [
    {
     "data": {
      "text/plain": [
       "2×2 Matrix{ComplexF64}:\n",
       "   0.260715-6.15515e-9im  -2.54953e-9+0.130262im\n",
       " 1.23192e-8-0.62942im         0.31448-5.10283e-9im"
      ]
     },
     "metadata": {},
     "output_type": "display_data"
    }
   ],
   "source": [
    "Eᵗᵒᵐ[2]"
   ]
  },
  {
   "cell_type": "code",
   "execution_count": 94,
   "metadata": {},
   "outputs": [
    {
     "data": {
      "text/plain": [
       "2×2 Matrix{Float64}:\n",
       " 0.0  0.351364\n",
       " 0.0  0.0"
      ]
     },
     "metadata": {},
     "output_type": "display_data"
    }
   ],
   "source": [
    "E[2]"
   ]
  },
  {
   "cell_type": "code",
   "execution_count": 95,
   "metadata": {},
   "outputs": [
    {
     "data": {
      "text/plain": [
       "2×2 Matrix{ComplexF64}:\n",
       " 2.90463e-9+0.213552im        0.427416-1.20313e-9im\n",
       "   0.515559-1.45126e-9im  -6.01128e-10-1.03187im"
      ]
     },
     "metadata": {},
     "output_type": "display_data"
    }
   ],
   "source": [
    "Eᵗᵒᵐ[3]"
   ]
  }
 ],
 "metadata": {
  "kernelspec": {
   "display_name": "Julia 1.9.2",
   "language": "julia",
   "name": "julia-1.9"
  },
  "language_info": {
   "file_extension": ".jl",
   "mimetype": "application/julia",
   "name": "julia",
   "version": "1.9.2"
  },
  "orig_nbformat": 4
 },
 "nbformat": 4,
 "nbformat_minor": 2
}
