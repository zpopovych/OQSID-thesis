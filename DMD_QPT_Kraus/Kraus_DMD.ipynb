{
 "cells": [
  {
   "cell_type": "code",
   "execution_count": 1,
   "metadata": {},
   "outputs": [],
   "source": [
    "include(\"LiPoSID.jl\")\n",
    "using LinearAlgebra"
   ]
  },
  {
   "cell_type": "markdown",
   "metadata": {},
   "source": [
    "Consider Kraus operators for the Amplitude damping\n",
    "\n",
    "$\\begin{bmatrix}\n",
    "1 & 0 \\\\ 0 & \\sqrt{1-\\gamma}\n",
    "\\end{bmatrix}, \\quad \\begin{bmatrix}\n",
    "0 & \\sqrt{\\gamma} \\\\ 0 & 0 \\end{bmatrix}$"
   ]
  },
  {
   "cell_type": "code",
   "execution_count": 2,
   "metadata": {},
   "outputs": [],
   "source": [
    "γ = 0.4\n",
    "E = []\n",
    "push!(E, [1 0\n",
    "          0 sqrt(1-γ)])\n",
    "        \n",
    "push!(E, [0 sqrt(γ)\n",
    "          0  0 ])\n",
    "\n",
    "sum(e'e for e in E)\n",
    "\n",
    "ρᵍ₀ = [1. 0]' * [1 0]\n",
    "ρᵉ₀ = [0. 1]' * [0 1]\n",
    "ρˣ₀ = [1 1]' * [1 1]/2\n",
    "ρʸ₀ = [1 -im]' * [1 -im]/2\n",
    "\n",
    "ρᵍ₁ = LiPoSID.Kraus(ρᵍ₀, E); @assert ishermitian(ρᵍ₁)\n",
    "ρᵉ₁ = LiPoSID.Kraus(ρᵉ₀, E); @assert ishermitian(ρᵉ₁)\n",
    "ρˣ₁ = LiPoSID.Kraus(ρˣ₀, E); @assert ishermitian(ρˣ₁)\n",
    "ρʸ₁ = LiPoSID.Kraus(ρʸ₀, E); @assert ishermitian(ρʸ₁)"
   ]
  },
  {
   "cell_type": "code",
   "execution_count": 3,
   "metadata": {},
   "outputs": [
    {
     "data": {
      "text/plain": [
       "2-element Vector{Any}:\n",
       " [1.0 0.0; 0.0 0.7745966692414834]\n",
       " [0.0 0.6324555320336759; 0.0 0.0]"
      ]
     },
     "metadata": {},
     "output_type": "display_data"
    }
   ],
   "source": [
    "E"
   ]
  },
  {
   "cell_type": "code",
   "execution_count": 4,
   "metadata": {},
   "outputs": [
    {
     "data": {
      "text/plain": [
       "4-element Vector{Any}:\n",
       " ComplexF64[0.0 + 0.0im 0.0 + 0.0im; 0.0 + 0.0im 0.0 + 0.0im]\n",
       " ComplexF64[0.0 + 0.0im 0.0 + 0.0im; 0.0 + 0.0im 0.0 + 0.0im]\n",
       " ComplexF64[0.0 + 0.0im 0.6324555320336758 + 0.0im; 0.0 + 0.0im 0.0 + 0.0im]\n",
       " ComplexF64[-1.0 + 0.0im 0.0 + 0.0im; 0.0 + 0.0im -0.7745966692414833 + 0.0im]"
      ]
     },
     "metadata": {},
     "output_type": "display_data"
    }
   ],
   "source": [
    "Eᵗᵒᵐ = LiPoSID.QPT(ρᵍ₁, ρᵉ₁, ρˣ₁, ρʸ₁)"
   ]
  },
  {
   "cell_type": "code",
   "execution_count": 5,
   "metadata": {},
   "outputs": [
    {
     "data": {
      "text/plain": [
       "2×2 Matrix{ComplexF64}:\n",
       " 1.0+0.0im  0.0+0.0im\n",
       " 0.0+0.0im  1.0+0.0im"
      ]
     },
     "metadata": {},
     "output_type": "display_data"
    }
   ],
   "source": [
    "sum(e'e for e in Eᵗᵒᵐ)"
   ]
  },
  {
   "cell_type": "code",
   "execution_count": 6,
   "metadata": {},
   "outputs": [
    {
     "data": {
      "text/plain": [
       "4×4 Matrix{Float64}:\n",
       "  0.774597     8.11238e-16   3.03968e-16  -1.21929e-16\n",
       "  1.04284e-16  0.774597     -1.24035e-16   5.68155e-17\n",
       " -8.64112e-16  1.12484e-15   0.6           0.4\n",
       " -4.23273e-16  2.16493e-15   3.36536e-16   1.0"
      ]
     },
     "metadata": {},
     "output_type": "display_data"
    }
   ],
   "source": [
    "t_steps = 20\n",
    "\n",
    "ρᵍ = LiPoSID.timeevolution_kraus(t_steps, ρᵍ₀, E)\n",
    "ρᵉ = LiPoSID.timeevolution_kraus(t_steps, ρᵉ₀, E)\n",
    "ρˣ = LiPoSID.timeevolution_kraus(t_steps, ρˣ₀, E)\n",
    "ρʸ = LiPoSID.timeevolution_kraus(t_steps, ρʸ₀, E)\n",
    "A = LiPoSID.direct_DMD_01XY_b4_A([ρᵉ, ρᵍ, ρˣ, ρʸ])"
   ]
  },
  {
   "cell_type": "code",
   "execution_count": 7,
   "metadata": {},
   "outputs": [],
   "source": [
    "function bloch4(ρ)\n",
    "\n",
    "    b = convert.(Float64, [ ρ[1,2] + ρ[2,1],\n",
    "                           (ρ[1,2] - ρ[2,1])*im,    #ρ[2,1] - ρ[1,2] ?\n",
    "                            ρ[1,1] - ρ[2,2],\n",
    "                               1                 ]) #ρ[1,1] + ρ[2,2]  \n",
    "\n",
    "end\n",
    "\n",
    "function dm_b4(b) \n",
    "\n",
    "    ρ = [ 1+b[3]         b[1]-im*b[2]\n",
    "          b[1]+im*b[2]   1-b[3]       ]/2\n",
    "\n",
    "end\n",
    "\n",
    "@assert dm_b4(bloch4(ρᵍ₀)) ≈ ρᵍ₀\n",
    "@assert dm_b4(bloch4(ρᵉ₀)) ≈ ρᵉ₀\n",
    "@assert dm_b4(bloch4(ρˣ₀)) ≈ ρˣ₀\n",
    "@assert dm_b4(bloch4(ρʸ₀)) ≈ ρʸ₀"
   ]
  },
  {
   "cell_type": "code",
   "execution_count": 9,
   "metadata": {},
   "outputs": [],
   "source": [
    "@assert dm_b4( A  * bloch4(ρᵍ₀)) ≈ ρᵍ₁\n",
    "@assert dm_b4( A  * bloch4(ρᵉ₀)) ≈ ρᵉ₁\n",
    "@assert dm_b4( A  * bloch4(ρˣ₀)) ≈ ρˣ₁\n",
    "@assert dm_b4( A  * bloch4(ρʸ₀)) ≈ ρʸ₁\n"
   ]
  },
  {
   "cell_type": "code",
   "execution_count": null,
   "metadata": {},
   "outputs": [],
   "source": []
  }
 ],
 "metadata": {
  "kernelspec": {
   "display_name": "Julia 1.9.2",
   "language": "julia",
   "name": "julia-1.9"
  },
  "language_info": {
   "file_extension": ".jl",
   "mimetype": "application/julia",
   "name": "julia",
   "version": "1.9.2"
  },
  "orig_nbformat": 4
 },
 "nbformat": 4,
 "nbformat_minor": 2
}
